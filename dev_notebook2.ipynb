{
 "cells": [
  {
   "cell_type": "code",
   "execution_count": null,
   "id": "8c825d1d",
   "metadata": {},
   "outputs": [],
   "source": [
    "from db.db import backup_database\n",
    "\n",
    "backup_destination = r\"N:\\PPDO\\BS\\Records Department\\Archive_Data\"\n",
    "backup_database(backup_dir=backup_destination, compress=True)"
   ]
  },
  {
   "cell_type": "code",
   "execution_count": null,
   "id": "9374674b",
   "metadata": {},
   "outputs": [],
   "source": [
    "from sqlalchemy.orm import Session\n",
    "from sqlalchemy import or_\n",
    "import pandas as pd\n",
    "import numpy as np\n",
    "from db import get_db_engine\n",
    "from db.models import FileLocation, File, FileContent\n",
    "from text_extraction.pdf_extraction import PDFTextExtractor\n",
    "from embedding.minilm import MiniLMEmbedder\n",
    "from utils import extract_server_dirs, build_file_path\n",
    "server_mount = r\"N:\\PPDO\\Records\"\n",
    "target_filepath = r\"N:\\PPDO\\Records\\23xx   Crown College (College 3)\\2318\\2318\\H - Submittals\\Lumber_ProductData.pdf\"\n",
    "target_location = r\"N:\\PPDO\\Records\\37xx   Oakes College\\3701\\3701\"\n",
    "\n",
    "\n",
    "pdf_extractor = PDFTextExtractor()\n",
    "embedder = MiniLMEmbedder()\n",
    "\n",
    "text = pdf_extractor(target_filepath)\n",
    "embeddings = embedder.encode(text)\n",
    "target_loc_dirs = extract_server_dirs(full_path=target_location, base_mount=server_mount)\n",
    "engine = get_db_engine()\n",
    "\n",
    "target_sim_distance = lambda file_embeds: 1 - np.dot(file_embeds, embeddings)\n",
    "build_local_path = lambda row: build_file_path(base_mount=server_mount, server_dir=row['file_server_directories'], filename=row['filename'])\n",
    "\n",
    "with Session(engine) as db_session:\n",
    "    files_located_in_dir = or_(\n",
    "        FileLocation.file_server_directories == target_loc_dirs,\n",
    "        FileLocation.file_server_directories.startswith(target_loc_dirs + '/')\n",
    "    )\n",
    "\n",
    "    query = db_session.query(FileLocation, FileContent)"
   ]
  },
  {
   "cell_type": "code",
   "execution_count": null,
   "id": "6b361d6d",
   "metadata": {},
   "outputs": [],
   "source": [
    "# This cell is to backfill the text_length column in FileContent for existing rows where source_text is present.\n",
    "\n",
    "from db.models import FileContent\n",
    "from db.db import get_db_engine\n",
    "from sqlalchemy.orm import sessionmaker\n",
    "\n",
    "# Create a session\n",
    "engine = get_db_engine()\n",
    "Session = sessionmaker(bind=engine)\n",
    "session = Session()\n",
    "\n",
    "# Query all FileContent rows where text_length is null and source_text is not null\n",
    "to_update = session.query(FileContent).filter(\n",
    "    (FileContent.text_length.is_(None)) & (FileContent.source_text.isnot(None))\n",
    ").all()\n",
    "\n",
    "print(f\"Found {len(to_update)} rows to backfill.\")\n",
    "\n",
    "for fc in to_update:\n",
    "    fc.text_length = len(fc.source_text)\n",
    "\n",
    "session.commit()\n",
    "print(\"Backfill complete.\")\n",
    "\n",
    "session.close()"
   ]
  },
  {
   "cell_type": "code",
   "execution_count": 1,
   "id": "cf4da9c6",
   "metadata": {},
   "outputs": [
    {
     "data": {
      "application/vnd.microsoft.datawrangler.viewer.v0+json": {
       "columns": [
        {
         "name": "index",
         "rawType": "int64",
         "type": "integer"
        },
        {
         "name": "file_server_directories",
         "rawType": "object",
         "type": "string"
        },
        {
         "name": "local_path",
         "rawType": "object",
         "type": "unknown"
        },
        {
         "name": "files_in_location",
         "rawType": "int64",
         "type": "integer"
        }
       ],
       "ref": "04b22c2d-1198-425d-b6bf-5633ea889248",
       "rows": [
        [
         "0",
         "26xx   Merrill College (College 4)/2638/2638/G - Construction/G22 - Legal Claims and Public Records Act Requests/CLAIMS/Schedule Investigation - Change Order Backup/CO #18 Backup",
         "N:\\PPDO\\Records\\26xx   Merrill College (College 4)\\2638\\2638\\G - Construction\\G22 - Legal Claims and Public Records Act Requests\\CLAIMS\\Schedule Investigation - Change Order Backup\\CO #18 Backup",
         "24"
        ],
        [
         "2",
         "27xx   Applied Sciences Baskin Engineering/2700/2700-137/G - Construction/G22 - Legal Claims and Public Records Act Requests/G22.2 - DIR Request for Information",
         "N:\\PPDO\\Records\\27xx   Applied Sciences Baskin Engineering\\2700\\2700-137\\G - Construction\\G22 - Legal Claims and Public Records Act Requests\\G22.2 - DIR Request for Information",
         "5"
        ],
        [
         "18",
         "26xx   Merrill College (College 4)/2638/2638/G - Construction/G22 - Legal Claims and Public Records Act Requests/CLAIMS/Schedule Investigation - Change Order Backup/CO #2 Backup",
         "N:\\PPDO\\Records\\26xx   Merrill College (College 4)\\2638\\2638\\G - Construction\\G22 - Legal Claims and Public Records Act Requests\\CLAIMS\\Schedule Investigation - Change Order Backup\\CO #2 Backup",
         "16"
        ],
        [
         "26",
         "26xx   Merrill College (College 4)/2638/2638/G - Construction/G22 - Legal Claims and Public Records Act Requests/CLAIMS/Schedule Investigation - Change Order Backup/CO #2 Backup/Signed PCOs",
         "N:\\PPDO\\Records\\26xx   Merrill College (College 4)\\2638\\2638\\G - Construction\\G22 - Legal Claims and Public Records Act Requests\\CLAIMS\\Schedule Investigation - Change Order Backup\\CO #2 Backup\\Signed PCOs",
         "15"
        ],
        [
         "39",
         "26xx   Merrill College (College 4)/2638/2638/G - Construction/G22 - Legal Claims and Public Records Act Requests/CLAIMS/Schedule Investigation - Change Order Backup/CO #3 Backup/Signed PCOs",
         "N:\\PPDO\\Records\\26xx   Merrill College (College 4)\\2638\\2638\\G - Construction\\G22 - Legal Claims and Public Records Act Requests\\CLAIMS\\Schedule Investigation - Change Order Backup\\CO #3 Backup\\Signed PCOs",
         "9"
        ]
       ],
       "shape": {
        "columns": 3,
        "rows": 5
       }
      },
      "text/html": [
       "<div>\n",
       "<style scoped>\n",
       "    .dataframe tbody tr th:only-of-type {\n",
       "        vertical-align: middle;\n",
       "    }\n",
       "\n",
       "    .dataframe tbody tr th {\n",
       "        vertical-align: top;\n",
       "    }\n",
       "\n",
       "    .dataframe thead th {\n",
       "        text-align: right;\n",
       "    }\n",
       "</style>\n",
       "<table border=\"1\" class=\"dataframe\">\n",
       "  <thead>\n",
       "    <tr style=\"text-align: right;\">\n",
       "      <th></th>\n",
       "      <th>file_server_directories</th>\n",
       "      <th>local_path</th>\n",
       "      <th>files_in_location</th>\n",
       "    </tr>\n",
       "  </thead>\n",
       "  <tbody>\n",
       "    <tr>\n",
       "      <th>0</th>\n",
       "      <td>26xx   Merrill College (College 4)/2638/2638/G...</td>\n",
       "      <td>N:\\PPDO\\Records\\26xx   Merrill College (Colleg...</td>\n",
       "      <td>24</td>\n",
       "    </tr>\n",
       "    <tr>\n",
       "      <th>2</th>\n",
       "      <td>27xx   Applied Sciences Baskin Engineering/270...</td>\n",
       "      <td>N:\\PPDO\\Records\\27xx   Applied Sciences Baskin...</td>\n",
       "      <td>5</td>\n",
       "    </tr>\n",
       "    <tr>\n",
       "      <th>18</th>\n",
       "      <td>26xx   Merrill College (College 4)/2638/2638/G...</td>\n",
       "      <td>N:\\PPDO\\Records\\26xx   Merrill College (Colleg...</td>\n",
       "      <td>16</td>\n",
       "    </tr>\n",
       "    <tr>\n",
       "      <th>26</th>\n",
       "      <td>26xx   Merrill College (College 4)/2638/2638/G...</td>\n",
       "      <td>N:\\PPDO\\Records\\26xx   Merrill College (Colleg...</td>\n",
       "      <td>15</td>\n",
       "    </tr>\n",
       "    <tr>\n",
       "      <th>39</th>\n",
       "      <td>26xx   Merrill College (College 4)/2638/2638/G...</td>\n",
       "      <td>N:\\PPDO\\Records\\26xx   Merrill College (Colleg...</td>\n",
       "      <td>9</td>\n",
       "    </tr>\n",
       "  </tbody>\n",
       "</table>\n",
       "</div>"
      ],
      "text/plain": [
       "                              file_server_directories  \\\n",
       "0   26xx   Merrill College (College 4)/2638/2638/G...   \n",
       "2   27xx   Applied Sciences Baskin Engineering/270...   \n",
       "18  26xx   Merrill College (College 4)/2638/2638/G...   \n",
       "26  26xx   Merrill College (College 4)/2638/2638/G...   \n",
       "39  26xx   Merrill College (College 4)/2638/2638/G...   \n",
       "\n",
       "                                           local_path  files_in_location  \n",
       "0   N:\\PPDO\\Records\\26xx   Merrill College (Colleg...                 24  \n",
       "2   N:\\PPDO\\Records\\27xx   Applied Sciences Baskin...                  5  \n",
       "18  N:\\PPDO\\Records\\26xx   Merrill College (Colleg...                 16  \n",
       "26  N:\\PPDO\\Records\\26xx   Merrill College (Colleg...                 15  \n",
       "39  N:\\PPDO\\Records\\26xx   Merrill College (Colleg...                  9  "
      ]
     },
     "execution_count": 1,
     "metadata": {},
     "output_type": "execute_result"
    }
   ],
   "source": [
    "from sqlalchemy import create_engine, text\n",
    "import os\n",
    "import dotenv\n",
    "import pandas as pd\n",
    "from utils import extract_server_dirs, build_file_path\n",
    "dotenv.load_dotenv()\n",
    "\n",
    "server_mount = r\"N:\\PPDO\\Records\"\n",
    "build_local_path = lambda row: build_file_path(base_mount=server_mount, server_dir=row['file_server_directories'], filename=None)    \n",
    "\n",
    "engine = create_engine(\n",
    "    f\"postgresql+psycopg://{os.getenv('APP_DB_USERNAME')}:{os.getenv('APP_DB_PASSWORD')}\"\n",
    "    f\"@{os.getenv('APP_DB_HOST')}:{os.getenv('APP_DB_PORT')}/{os.getenv('APP_DB_NAME')}\"\n",
    ")\n",
    "\n",
    "g22_query = \"\"\"\n",
    "SELECT *\n",
    "FROM file_locations\n",
    "WHERE file_server_directories LIKE '%/G22%'\n",
    "\"\"\"\n",
    "\n",
    "g22_df = pd.read_sql(text(g22_query), engine)\n",
    "\n",
    "# remove rows with duplicat file_server_directories values, keeping the first occurrence\n",
    "g22_df = g22_df.drop_duplicates(subset=['file_server_directories'])\n",
    "g22_df['local_path'] = g22_df.apply(build_local_path, axis=1)\n",
    "\n",
    "# now we need to create a column which counts the number of file_locations entries which have the values in file_server_directories\n",
    "def location_count(row):\n",
    "    dir_path = row['file_server_directories']\n",
    "    # query database for count of entries with this directory path\n",
    "    count_query = text(\"\"\"\n",
    "    SELECT COUNT(*)\n",
    "    FROM file_locations\n",
    "    WHERE file_server_directories = :dir_path\n",
    "    \"\"\")\n",
    "    with engine.connect() as conn:\n",
    "        result = conn.execute(count_query, {\"dir_path\": dir_path})\n",
    "        count = result.scalar()\n",
    "    return count\n",
    "\n",
    "g22_df['files_in_location'] = g22_df.apply(location_count, axis=1)\n",
    "\n",
    "# remove unnecessary columns\n",
    "g22_df = g22_df[['file_server_directories', 'local_path', 'files_in_location']]\n",
    "g22_df.head()\n"
   ]
  },
  {
   "cell_type": "code",
   "execution_count": 2,
   "id": "b2990447",
   "metadata": {},
   "outputs": [
    {
     "data": {
      "application/vnd.microsoft.datawrangler.viewer.v0+json": {
       "columns": [
        {
         "name": "index",
         "rawType": "int64",
         "type": "integer"
        },
        {
         "name": "file_server_directories",
         "rawType": "object",
         "type": "string"
        },
        {
         "name": "local_path",
         "rawType": "object",
         "type": "unknown"
        },
        {
         "name": "files_direct",
         "rawType": "int64",
         "type": "integer"
        },
        {
         "name": "files_recursive",
         "rawType": "int64",
         "type": "integer"
        }
       ],
       "ref": "87461877-ee70-4f35-aefd-fe3cc738f8aa",
       "rows": [
        [
         "0",
         "26xx   Merrill College (College 4)/2638/2638/G - Construction/G22 - Legal Claims and Public Records Act Requests/CLAIMS/Schedule Investigation - Change Order Backup/CO #18 Backup",
         "N:\\PPDO\\Records\\26xx   Merrill College (College 4)\\2638\\2638\\G - Construction\\G22 - Legal Claims and Public Records Act Requests\\CLAIMS\\Schedule Investigation - Change Order Backup\\CO #18 Backup",
         "24",
         "24"
        ],
        [
         "2",
         "27xx   Applied Sciences Baskin Engineering/2700/2700-137/G - Construction/G22 - Legal Claims and Public Records Act Requests/G22.2 - DIR Request for Information",
         "N:\\PPDO\\Records\\27xx   Applied Sciences Baskin Engineering\\2700\\2700-137\\G - Construction\\G22 - Legal Claims and Public Records Act Requests\\G22.2 - DIR Request for Information",
         "5",
         "5"
        ],
        [
         "18",
         "26xx   Merrill College (College 4)/2638/2638/G - Construction/G22 - Legal Claims and Public Records Act Requests/CLAIMS/Schedule Investigation - Change Order Backup/CO #2 Backup",
         "N:\\PPDO\\Records\\26xx   Merrill College (College 4)\\2638\\2638\\G - Construction\\G22 - Legal Claims and Public Records Act Requests\\CLAIMS\\Schedule Investigation - Change Order Backup\\CO #2 Backup",
         "16",
         "31"
        ],
        [
         "26",
         "26xx   Merrill College (College 4)/2638/2638/G - Construction/G22 - Legal Claims and Public Records Act Requests/CLAIMS/Schedule Investigation - Change Order Backup/CO #2 Backup/Signed PCOs",
         "N:\\PPDO\\Records\\26xx   Merrill College (College 4)\\2638\\2638\\G - Construction\\G22 - Legal Claims and Public Records Act Requests\\CLAIMS\\Schedule Investigation - Change Order Backup\\CO #2 Backup\\Signed PCOs",
         "15",
         "15"
        ],
        [
         "39",
         "26xx   Merrill College (College 4)/2638/2638/G - Construction/G22 - Legal Claims and Public Records Act Requests/CLAIMS/Schedule Investigation - Change Order Backup/CO #3 Backup/Signed PCOs",
         "N:\\PPDO\\Records\\26xx   Merrill College (College 4)\\2638\\2638\\G - Construction\\G22 - Legal Claims and Public Records Act Requests\\CLAIMS\\Schedule Investigation - Change Order Backup\\CO #3 Backup\\Signed PCOs",
         "9",
         "9"
        ]
       ],
       "shape": {
        "columns": 4,
        "rows": 5
       }
      },
      "text/html": [
       "<div>\n",
       "<style scoped>\n",
       "    .dataframe tbody tr th:only-of-type {\n",
       "        vertical-align: middle;\n",
       "    }\n",
       "\n",
       "    .dataframe tbody tr th {\n",
       "        vertical-align: top;\n",
       "    }\n",
       "\n",
       "    .dataframe thead th {\n",
       "        text-align: right;\n",
       "    }\n",
       "</style>\n",
       "<table border=\"1\" class=\"dataframe\">\n",
       "  <thead>\n",
       "    <tr style=\"text-align: right;\">\n",
       "      <th></th>\n",
       "      <th>file_server_directories</th>\n",
       "      <th>local_path</th>\n",
       "      <th>files_direct</th>\n",
       "      <th>files_recursive</th>\n",
       "    </tr>\n",
       "  </thead>\n",
       "  <tbody>\n",
       "    <tr>\n",
       "      <th>0</th>\n",
       "      <td>26xx   Merrill College (College 4)/2638/2638/G...</td>\n",
       "      <td>N:\\PPDO\\Records\\26xx   Merrill College (Colleg...</td>\n",
       "      <td>24</td>\n",
       "      <td>24</td>\n",
       "    </tr>\n",
       "    <tr>\n",
       "      <th>2</th>\n",
       "      <td>27xx   Applied Sciences Baskin Engineering/270...</td>\n",
       "      <td>N:\\PPDO\\Records\\27xx   Applied Sciences Baskin...</td>\n",
       "      <td>5</td>\n",
       "      <td>5</td>\n",
       "    </tr>\n",
       "    <tr>\n",
       "      <th>18</th>\n",
       "      <td>26xx   Merrill College (College 4)/2638/2638/G...</td>\n",
       "      <td>N:\\PPDO\\Records\\26xx   Merrill College (Colleg...</td>\n",
       "      <td>16</td>\n",
       "      <td>31</td>\n",
       "    </tr>\n",
       "    <tr>\n",
       "      <th>26</th>\n",
       "      <td>26xx   Merrill College (College 4)/2638/2638/G...</td>\n",
       "      <td>N:\\PPDO\\Records\\26xx   Merrill College (Colleg...</td>\n",
       "      <td>15</td>\n",
       "      <td>15</td>\n",
       "    </tr>\n",
       "    <tr>\n",
       "      <th>39</th>\n",
       "      <td>26xx   Merrill College (College 4)/2638/2638/G...</td>\n",
       "      <td>N:\\PPDO\\Records\\26xx   Merrill College (Colleg...</td>\n",
       "      <td>9</td>\n",
       "      <td>9</td>\n",
       "    </tr>\n",
       "  </tbody>\n",
       "</table>\n",
       "</div>"
      ],
      "text/plain": [
       "                              file_server_directories  \\\n",
       "0   26xx   Merrill College (College 4)/2638/2638/G...   \n",
       "2   27xx   Applied Sciences Baskin Engineering/270...   \n",
       "18  26xx   Merrill College (College 4)/2638/2638/G...   \n",
       "26  26xx   Merrill College (College 4)/2638/2638/G...   \n",
       "39  26xx   Merrill College (College 4)/2638/2638/G...   \n",
       "\n",
       "                                           local_path  files_direct  \\\n",
       "0   N:\\PPDO\\Records\\26xx   Merrill College (Colleg...            24   \n",
       "2   N:\\PPDO\\Records\\27xx   Applied Sciences Baskin...             5   \n",
       "18  N:\\PPDO\\Records\\26xx   Merrill College (Colleg...            16   \n",
       "26  N:\\PPDO\\Records\\26xx   Merrill College (Colleg...            15   \n",
       "39  N:\\PPDO\\Records\\26xx   Merrill College (Colleg...             9   \n",
       "\n",
       "    files_recursive  \n",
       "0                24  \n",
       "2                 5  \n",
       "18               31  \n",
       "26               15  \n",
       "39                9  "
      ]
     },
     "execution_count": 2,
     "metadata": {},
     "output_type": "execute_result"
    }
   ],
   "source": [
    "dirs = g22_df['file_server_directories']\n",
    "direct_counts = g22_df['files_in_location']\n",
    "\n",
    "def recursive_sum(dir_path: str) -> int:\n",
    "    prefix = dir_path + '/'\n",
    "    mask = (dirs == dir_path) | dirs.str.startswith(prefix)\n",
    "    return int(direct_counts[mask].sum())\n",
    "\n",
    "g22_df['files_recursive'] = dirs.map(recursive_sum)\n",
    "\n",
    "# (Optional) rename for clarity\n",
    "g22_df = g22_df.rename(columns={'files_in_location': 'files_direct'})\n",
    "\n",
    "# Export\n",
    "g22_df.to_excel(r\"C:\\Users\\adankert\\Downloads\\g22_file_locations.xlsx\", index=False)\n",
    "g22_df.head()"
   ]
  },
  {
   "cell_type": "code",
   "execution_count": null,
   "id": "afc72cb1",
   "metadata": {},
   "outputs": [],
   "source": []
  }
 ],
 "metadata": {
  "kernelspec": {
   "display_name": ".venv",
   "language": "python",
   "name": "python3"
  },
  "language_info": {
   "codemirror_mode": {
    "name": "ipython",
    "version": 3
   },
   "file_extension": ".py",
   "mimetype": "text/x-python",
   "name": "python",
   "nbconvert_exporter": "python",
   "pygments_lexer": "ipython3",
   "version": "3.13.7"
  }
 },
 "nbformat": 4,
 "nbformat_minor": 5
}
