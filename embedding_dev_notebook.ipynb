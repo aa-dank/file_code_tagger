{
 "cells": [
  {
   "cell_type": "code",
   "execution_count": null,
   "id": "b1e9dc39",
   "metadata": {},
   "outputs": [
    {
     "data": {
      "application/vnd.jupyter.widget-view+json": {
       "model_id": "6ee0bf8304df4fe89e2b5e6abad9d31e",
       "version_major": 2,
       "version_minor": 0
      },
      "text/plain": [
       "Output()"
      ]
     },
     "metadata": {},
     "output_type": "display_data"
    },
    {
     "name": "stderr",
     "output_type": "stream",
     "text": [
      "INFO - Processing file number 1 of 250: 211857\n",
      "WARNING - File 211857 not found at N:\\PPDO\\Records\\18xx   Mc Henry Library Unit I\\1810\\1810-009\\E - Program and Design\\E3 - Budget,  Cost Estimates,  Cost Proposal\\Project Summary\\McHenry Security augmentation draft_5-10-12-2KF.docx\n",
      "WARNING - No valid file found for 211857\n",
      "INFO - Processing file number 2 of 250: 726488\n",
      "INFO - Found file 726488 at N:\\PPDO\\Records\\26xx   Merrill College (College 4)\\2638\\2638\\E - Program and Design\\E3 - Budget,  Cost Estimates,  Cost Proposal\\File 2638.E3 Project Summary Form Signed 2015.11.07.pdf\n"
     ]
    },
    {
     "data": {
      "application/vnd.jupyter.widget-view+json": {
       "model_id": "508b0d08a0cf4dd9b587c957457eb0f4",
       "version_major": 2,
       "version_minor": 0
      },
      "text/plain": [
       "Output()"
      ]
     },
     "metadata": {},
     "output_type": "display_data"
    },
    {
     "data": {
      "text/html": [
       "<pre style=\"white-space:pre;overflow-x:auto;line-height:normal;font-family:Menlo,'DejaVu Sans Mono',consolas,'Courier New',monospace\"></pre>\n"
      ],
      "text/plain": []
     },
     "metadata": {},
     "output_type": "display_data"
    },
    {
     "data": {
      "application/vnd.jupyter.widget-view+json": {
       "model_id": "0af8d3f026ae4100b57593bee94c2ee0",
       "version_major": 2,
       "version_minor": 0
      },
      "text/plain": [
       "Output()"
      ]
     },
     "metadata": {},
     "output_type": "display_data"
    },
    {
     "data": {
      "text/html": [
       "<pre style=\"white-space:pre;overflow-x:auto;line-height:normal;font-family:Menlo,'DejaVu Sans Mono',consolas,'Courier New',monospace\">[tesseract] lots of diacritics - possibly poor OCR\n",
       "</pre>\n"
      ],
      "text/plain": [
       "[tesseract] lots of diacritics - possibly poor OCR\n"
      ]
     },
     "metadata": {},
     "output_type": "display_data"
    },
    {
     "data": {
      "text/html": [
       "<pre style=\"white-space:pre;overflow-x:auto;line-height:normal;font-family:Menlo,'DejaVu Sans Mono',consolas,'Courier New',monospace\">[tesseract] lots of diacritics - possibly poor OCR\n",
       "</pre>\n"
      ],
      "text/plain": [
       "[tesseract] lots of diacritics - possibly poor OCR\n"
      ]
     },
     "metadata": {},
     "output_type": "display_data"
    },
    {
     "data": {
      "text/html": [
       "<pre style=\"white-space:pre;overflow-x:auto;line-height:normal;font-family:Menlo,'DejaVu Sans Mono',consolas,'Courier New',monospace\">[tesseract] lots of diacritics - possibly poor OCR\n",
       "</pre>\n"
      ],
      "text/plain": [
       "[tesseract] lots of diacritics - possibly poor OCR\n"
      ]
     },
     "metadata": {},
     "output_type": "display_data"
    },
    {
     "data": {
      "text/html": [
       "<pre style=\"white-space:pre;overflow-x:auto;line-height:normal;font-family:Menlo,'DejaVu Sans Mono',consolas,'Courier New',monospace\">[tesseract] lots of diacritics - possibly poor OCR\n",
       "</pre>\n"
      ],
      "text/plain": [
       "[tesseract] lots of diacritics - possibly poor OCR\n"
      ]
     },
     "metadata": {},
     "output_type": "display_data"
    },
    {
     "data": {
      "text/html": [
       "<pre style=\"white-space:pre;overflow-x:auto;line-height:normal;font-family:Menlo,'DejaVu Sans Mono',consolas,'Courier New',monospace\"></pre>\n"
      ],
      "text/plain": []
     },
     "metadata": {},
     "output_type": "display_data"
    },
    {
     "data": {
      "application/vnd.jupyter.widget-view+json": {
       "model_id": "b1fda986c4ef464889da41db8894fcdb",
       "version_major": 2,
       "version_minor": 0
      },
      "text/plain": [
       "Output()"
      ]
     },
     "metadata": {},
     "output_type": "display_data"
    },
    {
     "data": {
      "text/html": [
       "<pre style=\"white-space:pre;overflow-x:auto;line-height:normal;font-family:Menlo,'DejaVu Sans Mono',consolas,'Courier New',monospace\"></pre>\n"
      ],
      "text/plain": []
     },
     "metadata": {},
     "output_type": "display_data"
    },
    {
     "data": {
      "application/vnd.jupyter.widget-view+json": {
       "model_id": "670873fe66c5424c92fa98b93bd22060",
       "version_major": 2,
       "version_minor": 0
      },
      "text/plain": [
       "Output()"
      ]
     },
     "metadata": {},
     "output_type": "display_data"
    },
    {
     "data": {
      "text/html": [
       "<pre style=\"white-space:pre;overflow-x:auto;line-height:normal;font-family:Menlo,'DejaVu Sans Mono',consolas,'Courier New',monospace\"></pre>\n"
      ],
      "text/plain": []
     },
     "metadata": {},
     "output_type": "display_data"
    },
    {
     "data": {
      "application/vnd.jupyter.widget-view+json": {
       "model_id": "69a09bfa66dc45318f3c0436ca7750cd",
       "version_major": 2,
       "version_minor": 0
      },
      "text/plain": [
       "Output()"
      ]
     },
     "metadata": {},
     "output_type": "display_data"
    },
    {
     "data": {
      "text/html": [
       "<pre style=\"white-space:pre;overflow-x:auto;line-height:normal;font-family:Menlo,'DejaVu Sans Mono',consolas,'Courier New',monospace\"></pre>\n"
      ],
      "text/plain": []
     },
     "metadata": {},
     "output_type": "display_data"
    },
    {
     "data": {
      "application/vnd.jupyter.widget-view+json": {
       "model_id": "fff5eab8fda348e9a8577da512aa2337",
       "version_major": 2,
       "version_minor": 0
      },
      "text/plain": [
       "Output()"
      ]
     },
     "metadata": {},
     "output_type": "display_data"
    },
    {
     "data": {
      "text/html": [
       "<pre style=\"white-space:pre;overflow-x:auto;line-height:normal;font-family:Menlo,'DejaVu Sans Mono',consolas,'Courier New',monospace\"></pre>\n"
      ],
      "text/plain": []
     },
     "metadata": {},
     "output_type": "display_data"
    },
    {
     "name": "stderr",
     "output_type": "stream",
     "text": [
      "INFO - Processed file 726488 with tag E3 - Budget,  Cost Estimates,  Cost Proposal\n",
      "INFO - Added tag E3 to file with hash 0a35fc457c88fe1ccaff1ff14191cc64d8f3d5e0\n",
      "INFO - Added tag E to file with hash 0a35fc457c88fe1ccaff1ff14191cc64d8f3d5e0\n",
      "INFO - Processing file number 3 of 250: 141880\n",
      "INFO - Found file 141880 at N:\\PPDO\\Records\\120xx  Off Campus Facilities\\12051 2505 Augustine\\12051-002\\E3 - Budget,  Cost Estimates,  Cost Proposal\\Invoices\\Application # 2\\SKMBT_C36011061210241.pdf\n"
     ]
    },
    {
     "data": {
      "application/vnd.jupyter.widget-view+json": {
       "model_id": "7c02308ab52f45d6bc82dcbae7547135",
       "version_major": 2,
       "version_minor": 0
      },
      "text/plain": [
       "Output()"
      ]
     },
     "metadata": {},
     "output_type": "display_data"
    },
    {
     "data": {
      "text/html": [
       "<pre style=\"white-space:pre;overflow-x:auto;line-height:normal;font-family:Menlo,'DejaVu Sans Mono',consolas,'Courier New',monospace\"></pre>\n"
      ],
      "text/plain": []
     },
     "metadata": {},
     "output_type": "display_data"
    },
    {
     "data": {
      "application/vnd.jupyter.widget-view+json": {
       "model_id": "a8f86af03ae1464bbbc305468949c770",
       "version_major": 2,
       "version_minor": 0
      },
      "text/plain": [
       "Output()"
      ]
     },
     "metadata": {},
     "output_type": "display_data"
    },
    {
     "data": {
      "text/html": [
       "<pre style=\"white-space:pre;overflow-x:auto;line-height:normal;font-family:Menlo,'DejaVu Sans Mono',consolas,'Courier New',monospace\">[tesseract] lots of diacritics - possibly poor OCR\n",
       "</pre>\n"
      ],
      "text/plain": [
       "[tesseract] lots of diacritics - possibly poor OCR\n"
      ]
     },
     "metadata": {},
     "output_type": "display_data"
    },
    {
     "data": {
      "text/html": [
       "<pre style=\"white-space:pre;overflow-x:auto;line-height:normal;font-family:Menlo,'DejaVu Sans Mono',consolas,'Courier New',monospace\"></pre>\n"
      ],
      "text/plain": []
     },
     "metadata": {},
     "output_type": "display_data"
    },
    {
     "data": {
      "application/vnd.jupyter.widget-view+json": {
       "model_id": "cadac9d6d64b4c13bcb6fa5db71d0ee8",
       "version_major": 2,
       "version_minor": 0
      },
      "text/plain": [
       "Output()"
      ]
     },
     "metadata": {},
     "output_type": "display_data"
    },
    {
     "data": {
      "text/html": [
       "<pre style=\"white-space:pre;overflow-x:auto;line-height:normal;font-family:Menlo,'DejaVu Sans Mono',consolas,'Courier New',monospace\"></pre>\n"
      ],
      "text/plain": []
     },
     "metadata": {},
     "output_type": "display_data"
    },
    {
     "data": {
      "application/vnd.jupyter.widget-view+json": {
       "model_id": "e979b6af8b0645fab07c9af38243e855",
       "version_major": 2,
       "version_minor": 0
      },
      "text/plain": [
       "Output()"
      ]
     },
     "metadata": {},
     "output_type": "display_data"
    },
    {
     "data": {
      "text/html": [
       "<pre style=\"white-space:pre;overflow-x:auto;line-height:normal;font-family:Menlo,'DejaVu Sans Mono',consolas,'Courier New',monospace\"></pre>\n"
      ],
      "text/plain": []
     },
     "metadata": {},
     "output_type": "display_data"
    },
    {
     "data": {
      "application/vnd.jupyter.widget-view+json": {
       "model_id": "f724e1c53fd648709f0394c70a11a431",
       "version_major": 2,
       "version_minor": 0
      },
      "text/plain": [
       "Output()"
      ]
     },
     "metadata": {},
     "output_type": "display_data"
    },
    {
     "data": {
      "text/html": [
       "<pre style=\"white-space:pre;overflow-x:auto;line-height:normal;font-family:Menlo,'DejaVu Sans Mono',consolas,'Courier New',monospace\"></pre>\n"
      ],
      "text/plain": []
     },
     "metadata": {},
     "output_type": "display_data"
    },
    {
     "data": {
      "application/vnd.jupyter.widget-view+json": {
       "model_id": "3ba3acb2db774d7f8b78e990dffe2a5d",
       "version_major": 2,
       "version_minor": 0
      },
      "text/plain": [
       "Output()"
      ]
     },
     "metadata": {},
     "output_type": "display_data"
    },
    {
     "data": {
      "text/html": [
       "<pre style=\"white-space:pre;overflow-x:auto;line-height:normal;font-family:Menlo,'DejaVu Sans Mono',consolas,'Courier New',monospace\"></pre>\n"
      ],
      "text/plain": []
     },
     "metadata": {},
     "output_type": "display_data"
    },
    {
     "name": "stderr",
     "output_type": "stream",
     "text": [
      "INFO - Processed file 141880 with tag E3 - Budget,  Cost Estimates,  Cost Proposal\n",
      "INFO - Added tag E3 to file with hash 60a35a5e1fac7b1c097c29ce1957907486f782f7\n",
      "INFO - Added tag E to file with hash 60a35a5e1fac7b1c097c29ce1957907486f782f7\n",
      "INFO - Processing file number 4 of 250: 791180\n",
      "INFO - Found file 791180 at N:\\PPDO\\Records\\49xx   Long Marine Lab\\4932\\4932\\E - Program and Design\\E3 - Budget,  Cost Estimates,  Cost Proposal\\Project Budget Workbooks\\2014 Project Budget Workbooks - Final W1 Phase UCOP Submittal\\Process Docs\\V1\\UCOP W Phase MSC Infra v2.xls\n",
      "INFO - Processed file 791180 with tag E3 - Budget,  Cost Estimates,  Cost Proposal\n",
      "INFO - Added tag E3 to file with hash 56088bae1e29efb6ad7c6c20ff3d059773643cf9\n",
      "INFO - Added tag E to file with hash 56088bae1e29efb6ad7c6c20ff3d059773643cf9\n",
      "INFO - Processing file number 5 of 250: 742300\n",
      "INFO - Found file 742300 at N:\\PPDO\\Records\\88xx   Campus Parking\\8802\\8802-002\\E - Program and Design\\E3 - Budget,  Cost Estimates,  Cost Proposal\\8802-002.E3.18 10 11 - WO00413984 Cost Report.pdf\n",
      "INFO - Processed file 742300 with tag E3 - Budget,  Cost Estimates,  Cost Proposal\n",
      "INFO - Added tag E3 to file with hash 8837753a1867e29b48d006ee9fc1eb7016daefba\n",
      "INFO - Added tag E to file with hash 8837753a1867e29b48d006ee9fc1eb7016daefba\n",
      "INFO - Processing file number 6 of 250: 951253\n",
      "WARNING - File 951253 not found at N:\\PPDO\\Records\\21xx   Central Heating Plant (Fackler Cogeneration)\\2101\\2101-010\\E - Program and Design\\E3 - Budget,  Cost Estimates,  Cost Proposal\\CoGen Stanchion Option #2 ws.xls\n",
      "WARNING - No valid file found for 951253\n",
      "INFO - Processing file number 7 of 250: 683074\n",
      "INFO - Found file 683074 at N:\\PPDO\\Records\\49xx   Long Marine Lab\\4900\\4900-016\\E - Program and Design\\E3 - Budget,  Cost Estimates,  Cost Proposal\\Budget Estimate Worksheet.pdf\n"
     ]
    },
    {
     "data": {
      "application/vnd.jupyter.widget-view+json": {
       "model_id": "4f8b02144a81447699b3a58658e05c7f",
       "version_major": 2,
       "version_minor": 0
      },
      "text/plain": [
       "Output()"
      ]
     },
     "metadata": {},
     "output_type": "display_data"
    },
    {
     "data": {
      "text/html": [
       "<pre style=\"white-space:pre;overflow-x:auto;line-height:normal;font-family:Menlo,'DejaVu Sans Mono',consolas,'Courier New',monospace\"></pre>\n"
      ],
      "text/plain": []
     },
     "metadata": {},
     "output_type": "display_data"
    },
    {
     "data": {
      "application/vnd.jupyter.widget-view+json": {
       "model_id": "0e271810e6b54efab5f47f1066f55739",
       "version_major": 2,
       "version_minor": 0
      },
      "text/plain": [
       "Output()"
      ]
     },
     "metadata": {},
     "output_type": "display_data"
    },
    {
     "data": {
      "text/html": [
       "<pre style=\"white-space:pre;overflow-x:auto;line-height:normal;font-family:Menlo,'DejaVu Sans Mono',consolas,'Courier New',monospace\"></pre>\n"
      ],
      "text/plain": []
     },
     "metadata": {},
     "output_type": "display_data"
    },
    {
     "data": {
      "application/vnd.jupyter.widget-view+json": {
       "model_id": "7f5dbbcfac3d4821a60ec1281ab33cd6",
       "version_major": 2,
       "version_minor": 0
      },
      "text/plain": [
       "Output()"
      ]
     },
     "metadata": {},
     "output_type": "display_data"
    },
    {
     "data": {
      "text/html": [
       "<pre style=\"white-space:pre;overflow-x:auto;line-height:normal;font-family:Menlo,'DejaVu Sans Mono',consolas,'Courier New',monospace\"></pre>\n"
      ],
      "text/plain": []
     },
     "metadata": {},
     "output_type": "display_data"
    },
    {
     "data": {
      "application/vnd.jupyter.widget-view+json": {
       "model_id": "f727ea6ea85f42cb8d988d990b1686e4",
       "version_major": 2,
       "version_minor": 0
      },
      "text/plain": [
       "Output()"
      ]
     },
     "metadata": {},
     "output_type": "display_data"
    },
    {
     "data": {
      "text/html": [
       "<pre style=\"white-space:pre;overflow-x:auto;line-height:normal;font-family:Menlo,'DejaVu Sans Mono',consolas,'Courier New',monospace\"></pre>\n"
      ],
      "text/plain": []
     },
     "metadata": {},
     "output_type": "display_data"
    },
    {
     "data": {
      "application/vnd.jupyter.widget-view+json": {
       "model_id": "5ee639a97a2b43deb493a7001ab7aaa3",
       "version_major": 2,
       "version_minor": 0
      },
      "text/plain": [
       "Output()"
      ]
     },
     "metadata": {},
     "output_type": "display_data"
    },
    {
     "data": {
      "text/html": [
       "<pre style=\"white-space:pre;overflow-x:auto;line-height:normal;font-family:Menlo,'DejaVu Sans Mono',consolas,'Courier New',monospace\"></pre>\n"
      ],
      "text/plain": []
     },
     "metadata": {},
     "output_type": "display_data"
    },
    {
     "data": {
      "application/vnd.jupyter.widget-view+json": {
       "model_id": "d5ab6d045335451ebfdf6a27c3ed23ba",
       "version_major": 2,
       "version_minor": 0
      },
      "text/plain": [
       "Output()"
      ]
     },
     "metadata": {},
     "output_type": "display_data"
    },
    {
     "data": {
      "text/html": [
       "<pre style=\"white-space:pre;overflow-x:auto;line-height:normal;font-family:Menlo,'DejaVu Sans Mono',consolas,'Courier New',monospace\"></pre>\n"
      ],
      "text/plain": []
     },
     "metadata": {},
     "output_type": "display_data"
    },
    {
     "name": "stderr",
     "output_type": "stream",
     "text": [
      "INFO - Processed file 683074 with tag E3 - Budget,  Cost Estimates,  Cost Proposal\n",
      "INFO - Added tag E3 to file with hash 07a8972c200dd8796a1422761fd9d01580822849\n",
      "INFO - Added tag E to file with hash 07a8972c200dd8796a1422761fd9d01580822849\n",
      "INFO - Processing file number 8 of 250: 746602\n",
      "INFO - Found file 746602 at N:\\PPDO\\Records\\55xx   College 9 & 10\\5500\\5500-025\\E - Program and Design\\E3 - Budget,  Cost Estimates,  Cost Proposal\\College 9-10 Kitchen Custodial Closet Drain Estimate (11-7-13).xls\n",
      "INFO - Processed file 746602 with tag E3 - Budget,  Cost Estimates,  Cost Proposal\n",
      "INFO - Added tag E3 to file with hash b30eb744fb06d7d03f9feb3200fd09879049a08c\n",
      "INFO - Added tag E to file with hash b30eb744fb06d7d03f9feb3200fd09879049a08c\n",
      "INFO - Processing file number 9 of 250: 143146\n",
      "INFO - Found file 143146 at N:\\PPDO\\Records\\120xx  Off Campus Facilities\\12058\\12058\\E - Program and Design\\E3 - Budget,  Cost Estimates,  Cost Proposal\\Cost Estimate\\2015-0020rpt410B UCSC Big Creek 50% CD Revised 2015-10-08.pdf\n",
      "INFO - Processed file 143146 with tag E3 - Budget,  Cost Estimates,  Cost Proposal\n",
      "INFO - Added tag E3 to file with hash 25fde17a49a9f8f5e06775abfed9d0d1b8397491\n",
      "INFO - Added tag E to file with hash 25fde17a49a9f8f5e06775abfed9d0d1b8397491\n",
      "INFO - Processing file number 10 of 250: 741503\n",
      "INFO - Found file 741503 at N:\\PPDO\\Records\\40xx   Sinsheimer Labs (Natural Sciences Unit 3)\\4000\\4000-016\\E - Program and Design\\E3 - Budget,  Cost Estimates,  Cost Proposal\\4000-016.E3.4000-016 WO00390187 Sins Lab Compressor Accounting 1.27.17.xlsx\n",
      "INFO - Processed file 741503 with tag E3 - Budget,  Cost Estimates,  Cost Proposal\n",
      "INFO - Added tag E3 to file with hash e549086b19c00eb80cd2b0993a40f9399d34b0ee\n",
      "INFO - Added tag E to file with hash e549086b19c00eb80cd2b0993a40f9399d34b0ee\n",
      "INFO - Processing file number 11 of 250: 339234\n",
      "INFO - Found file 339234 at N:\\PPDO\\Records\\32xx   Kresge College (College 6)\\3238\\3238\\E - Program and Design\\E3 - Budget,  Cost Estimates,  Cost Proposal\\190418 Kresge Capital Project (multiple capital accounts)\\Kresge Non-Residential Improvements Predesign 976493.xls\n",
      "INFO - Processed file 339234 with tag E3 - Budget,  Cost Estimates,  Cost Proposal\n",
      "INFO - Added tag E3 to file with hash a3e209c12ef8753d7603b4c8db8ec7a65e9e4c45\n",
      "INFO - Added tag E to file with hash a3e209c12ef8753d7603b4c8db8ec7a65e9e4c45\n",
      "INFO - Processing file number 12 of 250: 256543\n",
      "INFO - Found file 256543 at N:\\PPDO\\Records\\26xx   Merrill College (College 4)\\2636\\2636 - Merrill Phase 2\\E - Program and Design\\E3 - Budget,  Cost Estimates,  Cost Proposal\\Design Estimates\\DavisLangdon UCSC Merrill Ph 2 50% CD(R).pdf\n",
      "INFO - Processed file 256543 with tag E3 - Budget,  Cost Estimates,  Cost Proposal\n",
      "INFO - Added tag E3 to file with hash 651dd26b337ba2c9f9b1cab2ea4336a7facefce6\n",
      "INFO - Added tag E to file with hash 651dd26b337ba2c9f9b1cab2ea4336a7facefce6\n",
      "INFO - Processing file number 13 of 250: 74607\n",
      "INFO - Found file 74607 at N:\\PPDO\\Records\\100xx  Multiple Locations\\10000\\10000-200\\E - Program and Design\\E3 - Budget,  Cost Estimates,  Cost Proposal\\10000-200.E3.Pay App 5 3.27.17.pdf\n"
     ]
    },
    {
     "data": {
      "application/vnd.jupyter.widget-view+json": {
       "model_id": "ab5d1d7f93af4a1daf36c796111544b8",
       "version_major": 2,
       "version_minor": 0
      },
      "text/plain": [
       "Output()"
      ]
     },
     "metadata": {},
     "output_type": "display_data"
    },
    {
     "data": {
      "text/html": [
       "<pre style=\"white-space:pre;overflow-x:auto;line-height:normal;font-family:Menlo,'DejaVu Sans Mono',consolas,'Courier New',monospace\"></pre>\n"
      ],
      "text/plain": []
     },
     "metadata": {},
     "output_type": "display_data"
    },
    {
     "data": {
      "application/vnd.jupyter.widget-view+json": {
       "model_id": "35623ff874204599b988ae6847c6dbb9",
       "version_major": 2,
       "version_minor": 0
      },
      "text/plain": [
       "Output()"
      ]
     },
     "metadata": {},
     "output_type": "display_data"
    },
    {
     "data": {
      "text/html": [
       "<pre style=\"white-space:pre;overflow-x:auto;line-height:normal;font-family:Menlo,'DejaVu Sans Mono',consolas,'Courier New',monospace\">[tesseract] lots of diacritics - possibly poor OCR\n",
       "</pre>\n"
      ],
      "text/plain": [
       "[tesseract] lots of diacritics - possibly poor OCR\n"
      ]
     },
     "metadata": {},
     "output_type": "display_data"
    },
    {
     "data": {
      "text/html": [
       "<pre style=\"white-space:pre;overflow-x:auto;line-height:normal;font-family:Menlo,'DejaVu Sans Mono',consolas,'Courier New',monospace\">[tesseract] lots of diacritics - possibly poor OCR\n",
       "</pre>\n"
      ],
      "text/plain": [
       "[tesseract] lots of diacritics - possibly poor OCR\n"
      ]
     },
     "metadata": {},
     "output_type": "display_data"
    },
    {
     "data": {
      "text/html": [
       "<pre style=\"white-space:pre;overflow-x:auto;line-height:normal;font-family:Menlo,'DejaVu Sans Mono',consolas,'Courier New',monospace\"></pre>\n"
      ],
      "text/plain": []
     },
     "metadata": {},
     "output_type": "display_data"
    },
    {
     "data": {
      "application/vnd.jupyter.widget-view+json": {
       "model_id": "55da93e72eab4f76a884a7e5edb39d6f",
       "version_major": 2,
       "version_minor": 0
      },
      "text/plain": [
       "Output()"
      ]
     },
     "metadata": {},
     "output_type": "display_data"
    },
    {
     "data": {
      "text/html": [
       "<pre style=\"white-space:pre;overflow-x:auto;line-height:normal;font-family:Menlo,'DejaVu Sans Mono',consolas,'Courier New',monospace\"></pre>\n"
      ],
      "text/plain": []
     },
     "metadata": {},
     "output_type": "display_data"
    },
    {
     "data": {
      "application/vnd.jupyter.widget-view+json": {
       "model_id": "62e9511b74d049e0a0902a85e7c00e5a",
       "version_major": 2,
       "version_minor": 0
      },
      "text/plain": [
       "Output()"
      ]
     },
     "metadata": {},
     "output_type": "display_data"
    },
    {
     "data": {
      "text/html": [
       "<pre style=\"white-space:pre;overflow-x:auto;line-height:normal;font-family:Menlo,'DejaVu Sans Mono',consolas,'Courier New',monospace\"></pre>\n"
      ],
      "text/plain": []
     },
     "metadata": {},
     "output_type": "display_data"
    },
    {
     "data": {
      "application/vnd.jupyter.widget-view+json": {
       "model_id": "46442ce957ca4a8ba9caaf95f40bd8cb",
       "version_major": 2,
       "version_minor": 0
      },
      "text/plain": [
       "Output()"
      ]
     },
     "metadata": {},
     "output_type": "display_data"
    },
    {
     "data": {
      "text/html": [
       "<pre style=\"white-space:pre;overflow-x:auto;line-height:normal;font-family:Menlo,'DejaVu Sans Mono',consolas,'Courier New',monospace\"></pre>\n"
      ],
      "text/plain": []
     },
     "metadata": {},
     "output_type": "display_data"
    },
    {
     "data": {
      "application/vnd.jupyter.widget-view+json": {
       "model_id": "8df3505cde49476aab29d2ed73728d8c",
       "version_major": 2,
       "version_minor": 0
      },
      "text/plain": [
       "Output()"
      ]
     },
     "metadata": {},
     "output_type": "display_data"
    },
    {
     "data": {
      "text/html": [
       "<pre style=\"white-space:pre;overflow-x:auto;line-height:normal;font-family:Menlo,'DejaVu Sans Mono',consolas,'Courier New',monospace\"></pre>\n"
      ],
      "text/plain": []
     },
     "metadata": {},
     "output_type": "display_data"
    },
    {
     "name": "stderr",
     "output_type": "stream",
     "text": [
      "INFO - Processed file 74607 with tag E3 - Budget,  Cost Estimates,  Cost Proposal\n",
      "INFO - Added tag E3 to file with hash 1202ac31f6cc34c1756c019dc1557864f26f79af\n",
      "INFO - Added tag E to file with hash 1202ac31f6cc34c1756c019dc1557864f26f79af\n",
      "INFO - Processing file number 14 of 250: 574647\n",
      "INFO - Found file 574647 at N:\\PPDO\\Records\\76xx   Emergency Response Center\\7603\\7603\\7603 ERC Emergency Storm Drainage Repairs 2\\E - Program and Design\\E3 - Budget,  Cost Estimates,  Cost Proposal\\7603.E3.18 07 20 WO00391689 Cost Report.pdf\n",
      "INFO - Processed file 574647 with tag E3 - Budget,  Cost Estimates,  Cost Proposal\n",
      "INFO - Added tag E3 to file with hash 9524ecde4b275022fdcc85cedf73caef55c2b2f4\n",
      "INFO - Added tag E to file with hash 9524ecde4b275022fdcc85cedf73caef55c2b2f4\n",
      "INFO - Processing file number 15 of 250: 579753\n",
      "INFO - Found file 579753 at N:\\PPDO\\Records\\85xx   Pedestrian Paths and Site Development\\8500\\8500-033\\E - Program and Design\\E3 - Budget,  Cost Estimates,  Cost Proposal\\2 - Full Budget Approval\\2019 05 17 Great Meadow Bike Path Ph 2 - PBW Sched.xls\n",
      "INFO - Processed file 579753 with tag E3 - Budget,  Cost Estimates,  Cost Proposal\n",
      "INFO - Added tag E3 to file with hash 2c959da8669ac1a4a4cd57d2a5df00f31da94fae\n",
      "INFO - Added tag E to file with hash 2c959da8669ac1a4a4cd57d2a5df00f31da94fae\n",
      "INFO - Processing file number 16 of 250: 479868\n",
      "INFO - Found file 479868 at N:\\PPDO\\Records\\53xx   Rachel Carson College (8)\\5303\\5303-024\\DOCS\\E3 - Budget,  Cost Estimates,  Cost Proposal\\File 5303-024 Hobart Quotation Ref #4410-10-001.pdf\n",
      "INFO - Processed file 479868 with tag E3 - Budget,  Cost Estimates,  Cost Proposal\n",
      "INFO - Added tag E3 to file with hash 25ae07fa2666e887dd9a93305612f847666b3437\n",
      "INFO - Added tag E to file with hash 25ae07fa2666e887dd9a93305612f847666b3437\n",
      "INFO - Processing file number 17 of 250: 330403\n",
      "INFO - Found file 330403 at N:\\PPDO\\Records\\32xx   Kresge College (College 6)\\3200\\3200-089\\E - Program and Design\\E3 - Budget,  Cost Estimates,  Cost Proposal\\File 3200-089 Facilities Project Request.pdf\n",
      "INFO - Processed file 330403 with tag E3 - Budget,  Cost Estimates,  Cost Proposal\n",
      "INFO - Added tag E3 to file with hash 2c3ee1881539d10ca5b10955f250d01954da4ad9\n",
      "INFO - Added tag E to file with hash 2c3ee1881539d10ca5b10955f250d01954da4ad9\n",
      "INFO - Processing file number 18 of 250: 339263\n",
      "INFO - Found file 339263 at N:\\PPDO\\Records\\32xx   Kresge College (College 6)\\3238\\3238\\E - Program and Design\\E3 - Budget,  Cost Estimates,  Cost Proposal\\E3 PBW\\3 W Phase\\181206_KRESGE_PBW_OUTLINE.xlsx\n",
      "c:\\Users\\adankert\\projects\\file_code_tagger\\.venv\\Lib\\site-packages\\openpyxl\\worksheet\\_reader.py:329: UserWarning: Unknown extension is not supported and will be removed\n",
      "  warn(msg)\n",
      "INFO - Processed file 339263 with tag E3 - Budget,  Cost Estimates,  Cost Proposal\n",
      "INFO - Added tag E3 to file with hash b29dc4bf2b174ec491244de000c93b7f341b0dbf\n",
      "INFO - Added tag E to file with hash b29dc4bf2b174ec491244de000c93b7f341b0dbf\n",
      "INFO - Processing file number 19 of 250: 599199\n",
      "INFO - Found file 599199 at N:\\PPDO\\Records\\90xx  Campus Utilities\\9077\\9077\\E - Program and Design\\E3 - Budget,  Cost Estimates,  Cost Proposal\\File 9077 50CD Cost Estimate March 2011.pdf\n",
      "INFO - Processed file 599199 with tag E3 - Budget,  Cost Estimates,  Cost Proposal\n",
      "INFO - Added tag E3 to file with hash 47037658bd5fe18dd8f42906e45e593ee1f05fe9\n",
      "INFO - Added tag E to file with hash 47037658bd5fe18dd8f42906e45e593ee1f05fe9\n",
      "INFO - Processing file number 20 of 250: 339218\n",
      "INFO - Found file 339218 at N:\\PPDO\\Records\\32xx   Kresge College (College 6)\\3238\\3238\\E - Program and Design\\E3 - Budget,  Cost Estimates,  Cost Proposal\\190524 Kresge Non-Academic MASTER REPORT (contains links).xls\n",
      "INFO - Processed file 339218 with tag E3 - Budget,  Cost Estimates,  Cost Proposal\n",
      "INFO - Added tag E3 to file with hash 05ab977dfc89f505e0224d5893c62340558bba0d\n",
      "INFO - Added tag E to file with hash 05ab977dfc89f505e0224d5893c62340558bba0d\n",
      "INFO - Processing file number 21 of 250: 141869\n",
      "INFO - Found file 141869 at N:\\PPDO\\Records\\120xx  Off Campus Facilities\\12051 2505 Augustine\\12051-002\\E3 - Budget,  Cost Estimates,  Cost Proposal\\UNEX 2505 Augustune - Budget Sheets 4-20-09.xls\n",
      "INFO - Processed file 141869 with tag E3 - Budget,  Cost Estimates,  Cost Proposal\n",
      "INFO - Added tag E3 to file with hash 6058fcccefca9edd005e64388f8b4338c50fadca\n",
      "INFO - Added tag E to file with hash 6058fcccefca9edd005e64388f8b4338c50fadca\n",
      "INFO - Processing file number 22 of 250: 964763\n",
      "INFO - Found file 964763 at N:\\PPDO\\Records\\90xx  Campus Utilities\\9053\\9053-004\\E - Program and Design\\E3 - Budget,  Cost Estimates,  Cost Proposal\\Merr D1 Dry Rot ws e3.xls\n",
      "INFO - Processed file 964763 with tag E3 - Budget,  Cost Estimates,  Cost Proposal\n",
      "INFO - Added tag E3 to file with hash 9ba8fdfe92793a222d04059d8c1619421e24e317\n",
      "INFO - Added tag E to file with hash 9ba8fdfe92793a222d04059d8c1619421e24e317\n",
      "INFO - Processing file number 23 of 250: 805227\n",
      "INFO - Found file 805227 at N:\\PPDO\\Records\\68xx   East Campus Infill\\6801\\6801\\E- Program and Design\\E3 - Budget,  Cost Estimates,  Cost Proposal\\100 % SD Estimates\\DL -  100% SD Estimate 12-23-09.pdf\n",
      "INFO - Processed file 805227 with tag E3 - Budget,  Cost Estimates,  Cost Proposal\n",
      "INFO - Added tag E3 to file with hash 239428763dd71b735cd34c87938b2e2c8e01529f\n",
      "INFO - Added tag E to file with hash 239428763dd71b735cd34c87938b2e2c8e01529f\n",
      "INFO - Processing file number 24 of 250: 844203\n",
      "INFO - Found file 844203 at N:\\PPDO\\Records\\106xx  2300 Delaware Westside Research Park\\10634\\10634\\E - Program and Design\\E3 - Budget,  Cost Estimates,  Cost Proposal\\Baskin Conference Center Section H updated FA-0601-Rev1.doc\n",
      "INFO - Processed file 844203 with tag E3 - Budget,  Cost Estimates,  Cost Proposal\n",
      "INFO - Added tag E3 to file with hash 943a2d964846a1791c0667cb9c4117261f9b03c1\n",
      "INFO - Added tag E to file with hash 943a2d964846a1791c0667cb9c4117261f9b03c1\n",
      "INFO - Processing file number 25 of 250: 805250\n",
      "INFO - Found file 805250 at N:\\PPDO\\Records\\68xx   East Campus Infill\\6801\\6801\\E- Program and Design\\E3 - Budget,  Cost Estimates,  Cost Proposal\\Dec 12 2008 Pricing Package\\Drawings\\Architectural\\A322.pdf\n"
     ]
    },
    {
     "data": {
      "application/vnd.jupyter.widget-view+json": {
       "model_id": "4cce01f8e25d408bb21cd21021e6a582",
       "version_major": 2,
       "version_minor": 0
      },
      "text/plain": [
       "Output()"
      ]
     },
     "metadata": {},
     "output_type": "display_data"
    },
    {
     "data": {
      "text/html": [
       "<pre style=\"white-space:pre;overflow-x:auto;line-height:normal;font-family:Menlo,'DejaVu Sans Mono',consolas,'Courier New',monospace\"></pre>\n"
      ],
      "text/plain": []
     },
     "metadata": {},
     "output_type": "display_data"
    },
    {
     "data": {
      "application/vnd.jupyter.widget-view+json": {
       "model_id": "92d7390ccc2d437ebbad713ec92526eb",
       "version_major": 2,
       "version_minor": 0
      },
      "text/plain": [
       "Output()"
      ]
     },
     "metadata": {},
     "output_type": "display_data"
    },
    {
     "data": {
      "text/html": [
       "<pre style=\"white-space:pre;overflow-x:auto;line-height:normal;font-family:Menlo,'DejaVu Sans Mono',consolas,'Courier New',monospace\">[tesseract] took too long to OCR - skipping\n",
       "</pre>\n"
      ],
      "text/plain": [
       "[tesseract] took too long to OCR - skipping\n"
      ]
     },
     "metadata": {},
     "output_type": "display_data"
    },
    {
     "data": {
      "text/html": [
       "<pre style=\"white-space:pre;overflow-x:auto;line-height:normal;font-family:Menlo,'DejaVu Sans Mono',consolas,'Courier New',monospace\"></pre>\n"
      ],
      "text/plain": []
     },
     "metadata": {},
     "output_type": "display_data"
    },
    {
     "data": {
      "application/vnd.jupyter.widget-view+json": {
       "model_id": "6459efdba53c4b4f87caff500b571e9f",
       "version_major": 2,
       "version_minor": 0
      },
      "text/plain": [
       "Output()"
      ]
     },
     "metadata": {},
     "output_type": "display_data"
    },
    {
     "data": {
      "text/html": [
       "<pre style=\"white-space:pre;overflow-x:auto;line-height:normal;font-family:Menlo,'DejaVu Sans Mono',consolas,'Courier New',monospace\"></pre>\n"
      ],
      "text/plain": []
     },
     "metadata": {},
     "output_type": "display_data"
    },
    {
     "data": {
      "application/vnd.jupyter.widget-view+json": {
       "model_id": "7a8b24bfc0a7444f9f5a03e69283d576",
       "version_major": 2,
       "version_minor": 0
      },
      "text/plain": [
       "Output()"
      ]
     },
     "metadata": {},
     "output_type": "display_data"
    },
    {
     "data": {
      "text/html": [
       "<pre style=\"white-space:pre;overflow-x:auto;line-height:normal;font-family:Menlo,'DejaVu Sans Mono',consolas,'Courier New',monospace\"></pre>\n"
      ],
      "text/plain": []
     },
     "metadata": {},
     "output_type": "display_data"
    },
    {
     "data": {
      "application/vnd.jupyter.widget-view+json": {
       "model_id": "789c9d1c00bf4756bebe6f7b7252cb4d",
       "version_major": 2,
       "version_minor": 0
      },
      "text/plain": [
       "Output()"
      ]
     },
     "metadata": {},
     "output_type": "display_data"
    },
    {
     "data": {
      "text/html": [
       "<pre style=\"white-space:pre;overflow-x:auto;line-height:normal;font-family:Menlo,'DejaVu Sans Mono',consolas,'Courier New',monospace\"></pre>\n"
      ],
      "text/plain": []
     },
     "metadata": {},
     "output_type": "display_data"
    },
    {
     "data": {
      "application/vnd.jupyter.widget-view+json": {
       "model_id": "ecc46aabf1f245b581ca57ed9c2cedba",
       "version_major": 2,
       "version_minor": 0
      },
      "text/plain": [
       "Output()"
      ]
     },
     "metadata": {},
     "output_type": "display_data"
    },
    {
     "data": {
      "text/html": [
       "<pre style=\"white-space:pre;overflow-x:auto;line-height:normal;font-family:Menlo,'DejaVu Sans Mono',consolas,'Courier New',monospace\"></pre>\n"
      ],
      "text/plain": []
     },
     "metadata": {},
     "output_type": "display_data"
    },
    {
     "name": "stderr",
     "output_type": "stream",
     "text": [
      "The output file size is 16.41× larger than the input file.\n",
      "Possible reasons for this include:\n",
      "--deskew was issued, causing transcoding.\n",
      "The optional dependency 'jbig2' was not found, so some image optimizations could not be attempted.\n",
      "The optional dependency 'pngquant' was not found, so some image optimizations could not be attempted.\n",
      "\n",
      "WARNING - Text length for file 805250 is 0:\n",
      "\n",
      "INFO - Processing file number 26 of 250: 86038\n",
      "INFO - Found file 86038 at N:\\PPDO\\Records\\100xx  Multiple Locations\\10069\\10069-002 Porter Res B\\E - Program and Design\\E3 - Budget,  Cost Estimates,  Cost Proposal\\Budget vs Bid Reconciliation\\Porter Budget vs Bid.pdf\n",
      "INFO - Processed file 86038 with tag E3 - Budget,  Cost Estimates,  Cost Proposal\n",
      "INFO - Added tag E3 to file with hash a0376db59dd245d349cfb3585bd80a73d1004854\n",
      "INFO - Added tag E to file with hash a0376db59dd245d349cfb3585bd80a73d1004854\n",
      "INFO - Processing file number 27 of 250: 111140\n",
      "INFO - Found file 111140 at N:\\PPDO\\Records\\106xx  2300 Delaware Westside Research Park\\10637\\10637\\E - Program and Design\\E3 - Budget,  Cost Estimates,  Cost Proposal\\Rev 0.0 -  2300 Delaware - DD 50% Budget By Phases.pdf\n",
      "INFO - Processed file 111140 with tag E3 - Budget,  Cost Estimates,  Cost Proposal\n",
      "INFO - Added tag E3 to file with hash 8c4a94f8d2cbbb1c510fb94c6bf4411a90cbcffa\n",
      "INFO - Added tag E to file with hash 8c4a94f8d2cbbb1c510fb94c6bf4411a90cbcffa\n",
      "INFO - Processing file number 28 of 250: 741318\n",
      "INFO - Found file 741318 at N:\\PPDO\\Records\\32xx   Kresge College (College 6)\\3200\\3200-128\\E - Program and Design\\E3 - Budget,  Cost Estimates,  Cost Proposal\\3200-128.E3.3200-128 Kresge 321 Env Ctrl Estimate2017 0822.xlsx\n",
      "INFO - Processed file 741318 with tag E3 - Budget,  Cost Estimates,  Cost Proposal\n",
      "INFO - Added tag E3 to file with hash 2340a965f186be0e5f7c3ea6f6108b8f8d749643\n",
      "INFO - Added tag E to file with hash 2340a965f186be0e5f7c3ea6f6108b8f8d749643\n",
      "INFO - Processing file number 29 of 250: 369599\n",
      "INFO - Found file 369599 at N:\\PPDO\\Records\\37xx   Oakes College\\3722\\3722\\E - Program and Design\\E3 - Budget,  Cost Estimates,  Cost Proposal\\3722 E3 Estimate.pdf\n",
      "INFO - Processed file 369599 with tag E3 - Budget,  Cost Estimates,  Cost Proposal\n",
      "INFO - Added tag E3 to file with hash 400ed6031f179f72fc84a5f37323097500cfafef\n",
      "INFO - Added tag E to file with hash 400ed6031f179f72fc84a5f37323097500cfafef\n",
      "INFO - Processing file number 30 of 250: 832143\n",
      "INFO - Found file 832143 at N:\\PPDO\\Records\\100xx  Multiple Locations\\10057\\10057\\E - Program and Design\\E3 - Budget,  Cost Estimates,  Cost Proposal\\File 10057.E3. Component Budget.pdf\n"
     ]
    },
    {
     "data": {
      "application/vnd.jupyter.widget-view+json": {
       "model_id": "e8d8f48c527e4e6cb78d5887670d2d1d",
       "version_major": 2,
       "version_minor": 0
      },
      "text/plain": [
       "Output()"
      ]
     },
     "metadata": {},
     "output_type": "display_data"
    },
    {
     "data": {
      "text/html": [
       "<pre style=\"white-space:pre;overflow-x:auto;line-height:normal;font-family:Menlo,'DejaVu Sans Mono',consolas,'Courier New',monospace\"></pre>\n"
      ],
      "text/plain": []
     },
     "metadata": {},
     "output_type": "display_data"
    },
    {
     "data": {
      "application/vnd.jupyter.widget-view+json": {
       "model_id": "98b2126deb26449b8513362fa230bb50",
       "version_major": 2,
       "version_minor": 0
      },
      "text/plain": [
       "Output()"
      ]
     },
     "metadata": {},
     "output_type": "display_data"
    },
    {
     "data": {
      "text/html": [
       "<pre style=\"white-space:pre;overflow-x:auto;line-height:normal;font-family:Menlo,'DejaVu Sans Mono',consolas,'Courier New',monospace\">[tesseract] lots of diacritics - possibly poor OCR\n",
       "</pre>\n"
      ],
      "text/plain": [
       "[tesseract] lots of diacritics - possibly poor OCR\n"
      ]
     },
     "metadata": {},
     "output_type": "display_data"
    },
    {
     "data": {
      "text/html": [
       "<pre style=\"white-space:pre;overflow-x:auto;line-height:normal;font-family:Menlo,'DejaVu Sans Mono',consolas,'Courier New',monospace\"></pre>\n"
      ],
      "text/plain": []
     },
     "metadata": {},
     "output_type": "display_data"
    },
    {
     "data": {
      "application/vnd.jupyter.widget-view+json": {
       "model_id": "87ce896d39fe4a6b87d2f09d1e1c5c45",
       "version_major": 2,
       "version_minor": 0
      },
      "text/plain": [
       "Output()"
      ]
     },
     "metadata": {},
     "output_type": "display_data"
    },
    {
     "data": {
      "text/html": [
       "<pre style=\"white-space:pre;overflow-x:auto;line-height:normal;font-family:Menlo,'DejaVu Sans Mono',consolas,'Courier New',monospace\"></pre>\n"
      ],
      "text/plain": []
     },
     "metadata": {},
     "output_type": "display_data"
    },
    {
     "data": {
      "application/vnd.jupyter.widget-view+json": {
       "model_id": "5bf737f2dc674b40b4f7ee440f895f12",
       "version_major": 2,
       "version_minor": 0
      },
      "text/plain": [
       "Output()"
      ]
     },
     "metadata": {},
     "output_type": "display_data"
    },
    {
     "data": {
      "text/html": [
       "<pre style=\"white-space:pre;overflow-x:auto;line-height:normal;font-family:Menlo,'DejaVu Sans Mono',consolas,'Courier New',monospace\"></pre>\n"
      ],
      "text/plain": []
     },
     "metadata": {},
     "output_type": "display_data"
    },
    {
     "data": {
      "application/vnd.jupyter.widget-view+json": {
       "model_id": "8e0acd7323d5436cb86456863d265c2a",
       "version_major": 2,
       "version_minor": 0
      },
      "text/plain": [
       "Output()"
      ]
     },
     "metadata": {},
     "output_type": "display_data"
    },
    {
     "data": {
      "text/html": [
       "<pre style=\"white-space:pre;overflow-x:auto;line-height:normal;font-family:Menlo,'DejaVu Sans Mono',consolas,'Courier New',monospace\"></pre>\n"
      ],
      "text/plain": []
     },
     "metadata": {},
     "output_type": "display_data"
    },
    {
     "data": {
      "application/vnd.jupyter.widget-view+json": {
       "model_id": "ff0223f49e374084ba70e2d6bcb6ee9c",
       "version_major": 2,
       "version_minor": 0
      },
      "text/plain": [
       "Output()"
      ]
     },
     "metadata": {},
     "output_type": "display_data"
    },
    {
     "data": {
      "text/html": [
       "<pre style=\"white-space:pre;overflow-x:auto;line-height:normal;font-family:Menlo,'DejaVu Sans Mono',consolas,'Courier New',monospace\"></pre>\n"
      ],
      "text/plain": []
     },
     "metadata": {},
     "output_type": "display_data"
    },
    {
     "name": "stderr",
     "output_type": "stream",
     "text": [
      "The output file size is 5.37× larger than the input file.\n",
      "Possible reasons for this include:\n",
      "--deskew was issued, causing transcoding.\n",
      "The optional dependency 'jbig2' was not found, so some image optimizations could not be attempted.\n",
      "The optional dependency 'pngquant' was not found, so some image optimizations could not be attempted.\n",
      "\n",
      "INFO - Processed file 832143 with tag E3 - Budget,  Cost Estimates,  Cost Proposal\n",
      "INFO - Added tag E3 to file with hash 6c63785f8c5bae60fd1e973573e0036efeb8a5a0\n",
      "INFO - Added tag E to file with hash 6c63785f8c5bae60fd1e973573e0036efeb8a5a0\n",
      "INFO - Processing file number 31 of 250: 230747\n",
      "WARNING - File 230747 not found at N:\\PPDO\\Records\\23xx   Crown College (College 3)\\2300\\2300-143\\E - Program and Design\\E3 - Budget,  Cost Estimates,  Cost Proposal\\Crown Provost Stairs Estimate, WM, 1-24-13.xlsx\n",
      "WARNING - No valid file found for 230747\n",
      "INFO - Processing file number 32 of 250: 580467\n",
      "INFO - Found file 580467 at N:\\PPDO\\Records\\85xx   Pedestrian Paths and Site Development\\8504\\8504\\E3 - Budget,  Cost Estimates,  Cost Proposal\\8504.E3. Library Unit 1 Budget.pdf\n"
     ]
    },
    {
     "data": {
      "application/vnd.jupyter.widget-view+json": {
       "model_id": "b44d74719b12456abaad174e875bc431",
       "version_major": 2,
       "version_minor": 0
      },
      "text/plain": [
       "Output()"
      ]
     },
     "metadata": {},
     "output_type": "display_data"
    },
    {
     "data": {
      "text/html": [
       "<pre style=\"white-space:pre;overflow-x:auto;line-height:normal;font-family:Menlo,'DejaVu Sans Mono',consolas,'Courier New',monospace\"></pre>\n"
      ],
      "text/plain": []
     },
     "metadata": {},
     "output_type": "display_data"
    },
    {
     "data": {
      "application/vnd.jupyter.widget-view+json": {
       "model_id": "d208ab121566415b9d19216cf24b26d3",
       "version_major": 2,
       "version_minor": 0
      },
      "text/plain": [
       "Output()"
      ]
     },
     "metadata": {},
     "output_type": "display_data"
    },
    {
     "data": {
      "text/html": [
       "<pre style=\"white-space:pre;overflow-x:auto;line-height:normal;font-family:Menlo,'DejaVu Sans Mono',consolas,'Courier New',monospace\">[tesseract] lots of diacritics - possibly poor OCR\n",
       "</pre>\n"
      ],
      "text/plain": [
       "[tesseract] lots of diacritics - possibly poor OCR\n"
      ]
     },
     "metadata": {},
     "output_type": "display_data"
    },
    {
     "data": {
      "text/html": [
       "<pre style=\"white-space:pre;overflow-x:auto;line-height:normal;font-family:Menlo,'DejaVu Sans Mono',consolas,'Courier New',monospace\"></pre>\n"
      ],
      "text/plain": []
     },
     "metadata": {},
     "output_type": "display_data"
    },
    {
     "data": {
      "application/vnd.jupyter.widget-view+json": {
       "model_id": "65a699d16aa0437784ac0fcafa74b54f",
       "version_major": 2,
       "version_minor": 0
      },
      "text/plain": [
       "Output()"
      ]
     },
     "metadata": {},
     "output_type": "display_data"
    },
    {
     "data": {
      "text/html": [
       "<pre style=\"white-space:pre;overflow-x:auto;line-height:normal;font-family:Menlo,'DejaVu Sans Mono',consolas,'Courier New',monospace\"></pre>\n"
      ],
      "text/plain": []
     },
     "metadata": {},
     "output_type": "display_data"
    },
    {
     "data": {
      "application/vnd.jupyter.widget-view+json": {
       "model_id": "42401f7f292a4aadb3bb0819d34e48a5",
       "version_major": 2,
       "version_minor": 0
      },
      "text/plain": [
       "Output()"
      ]
     },
     "metadata": {},
     "output_type": "display_data"
    },
    {
     "data": {
      "text/html": [
       "<pre style=\"white-space:pre;overflow-x:auto;line-height:normal;font-family:Menlo,'DejaVu Sans Mono',consolas,'Courier New',monospace\"></pre>\n"
      ],
      "text/plain": []
     },
     "metadata": {},
     "output_type": "display_data"
    },
    {
     "data": {
      "application/vnd.jupyter.widget-view+json": {
       "model_id": "131d3c39ffa74b2d89aed35a0cbb8bee",
       "version_major": 2,
       "version_minor": 0
      },
      "text/plain": [
       "Output()"
      ]
     },
     "metadata": {},
     "output_type": "display_data"
    },
    {
     "data": {
      "text/html": [
       "<pre style=\"white-space:pre;overflow-x:auto;line-height:normal;font-family:Menlo,'DejaVu Sans Mono',consolas,'Courier New',monospace\"></pre>\n"
      ],
      "text/plain": []
     },
     "metadata": {},
     "output_type": "display_data"
    },
    {
     "data": {
      "application/vnd.jupyter.widget-view+json": {
       "model_id": "1d9808c045404a00a3106b5d5f1321c7",
       "version_major": 2,
       "version_minor": 0
      },
      "text/plain": [
       "Output()"
      ]
     },
     "metadata": {},
     "output_type": "display_data"
    },
    {
     "data": {
      "text/html": [
       "<pre style=\"white-space:pre;overflow-x:auto;line-height:normal;font-family:Menlo,'DejaVu Sans Mono',consolas,'Courier New',monospace\"></pre>\n"
      ],
      "text/plain": []
     },
     "metadata": {},
     "output_type": "display_data"
    },
    {
     "name": "stderr",
     "output_type": "stream",
     "text": [
      "INFO - Processed file 580467 with tag E3 - Budget,  Cost Estimates,  Cost Proposal\n",
      "INFO - Added tag E3 to file with hash 2deb9385f39a84cd82976c70bf2677991ab8d537\n",
      "INFO - Added tag E to file with hash 2deb9385f39a84cd82976c70bf2677991ab8d537\n",
      "INFO - Processing file number 33 of 250: 791187\n",
      "INFO - Found file 791187 at N:\\PPDO\\Records\\49xx   Long Marine Lab\\4932\\4932\\E - Program and Design\\E3 - Budget,  Cost Estimates,  Cost Proposal\\Project Budget Workbooks\\2014 Project Budget Workbooks - Final W1 Phase UCOP Submittal\\Process Docs\\V2\\Total Project Costs Combined v2.xls\n",
      "INFO - Processed file 791187 with tag E3 - Budget,  Cost Estimates,  Cost Proposal\n",
      "INFO - Added tag E3 to file with hash c7d4591601257fbc7cfdc2614ccfc345567c50f6\n",
      "INFO - Added tag E to file with hash c7d4591601257fbc7cfdc2614ccfc345567c50f6\n",
      "INFO - Processing file number 34 of 250: 912624\n",
      "INFO - Found file 912624 at N:\\PPDO\\Records\\53xx   Rachel Carson College (8)\\5305\\5305-017\\E - Program and Design\\E3 - Budget,  Cost Estimates,  Cost Proposal\\5305-017.E3.Rachel Carson Roof Bldg 1 and 6 Budget 2.3.17.xlsx\n",
      "INFO - Processed file 912624 with tag E3 - Budget,  Cost Estimates,  Cost Proposal\n",
      "INFO - Added tag E3 to file with hash 40de3712ee1bf770c21599a15977cca9926e1bd4\n",
      "INFO - Added tag E to file with hash 40de3712ee1bf770c21599a15977cca9926e1bd4\n",
      "INFO - Processing file number 35 of 250: 171839\n",
      "WARNING - File 171839 not found at N:\\PPDO\\Records\\17xx   Stevenson College (College 2)\\1700\\1700-120\\E - Program and Design\\E3 - Budget,  Cost Estimates,  Cost Proposal\\File 1700-120 Proposal Kelso 2011.04.08.pdf\n",
      "WARNING - No valid file found for 171839\n",
      "INFO - Processing file number 36 of 250: 791041\n",
      "INFO - Found file 791041 at N:\\PPDO\\Records\\49xx   Long Marine Lab\\4932\\4932\\E - Program and Design\\E3 - Budget,  Cost Estimates,  Cost Proposal\\Construction Cost Summaries - 2013-14\\95% CD estimate comparison.xlsx\n",
      "INFO - Processed file 791041 with tag E3 - Budget,  Cost Estimates,  Cost Proposal\n",
      "INFO - Added tag E3 to file with hash b03ece913309a36eff766217faaeb0258cd91b4c\n",
      "INFO - Added tag E to file with hash b03ece913309a36eff766217faaeb0258cd91b4c\n",
      "INFO - Processing file number 37 of 250: 951990\n",
      "INFO - Found file 951990 at N:\\PPDO\\Records\\88xx   Campus Parking\\8891\\8891\\E - Program and Design\\E3 - Budget,  Cost Estimates,  Cost Proposal\\18 03 02 - WO00411055 Cost Report.pdf\n",
      "INFO - Processed file 951990 with tag E3 - Budget,  Cost Estimates,  Cost Proposal\n",
      "INFO - Added tag E3 to file with hash 42e5bef16ab765d03ed6b210dc778159c56c6c49\n",
      "INFO - Added tag E to file with hash 42e5bef16ab765d03ed6b210dc778159c56c6c49\n",
      "INFO - Processing file number 38 of 250: 478732\n",
      "INFO - Found file 478732 at N:\\PPDO\\Records\\53xx   Rachel Carson College (8)\\5300\\5300-060A\\D1 - Environmental Correspondence\\E - Program and Design\\E3 - Budget,  Cost Estimates,  Cost Proposal\\Project Budget Workbook_2020-04_projected FY21 rates-Design.xls\n",
      "INFO - Processed file 478732 with tag E3 - Budget,  Cost Estimates,  Cost Proposal\n",
      "INFO - Added tag E3 to file with hash ccd0a4721bcb556880e0bdbbe50db62b7ad54f50\n",
      "INFO - Added tag E to file with hash ccd0a4721bcb556880e0bdbbe50db62b7ad54f50\n",
      "INFO - Processing file number 39 of 250: 212254\n",
      "WARNING - File 212254 not found at N:\\PPDO\\Records\\18xx   Mc Henry Library Unit I\\1810\\1810-015\\E - Program and Design\\E3 - Budget,  Cost Estimates,  Cost Proposal\\Dead Central  BUDGET for PP&C 4-11-12.xlsx\n",
      "WARNING - No valid file found for 212254\n",
      "INFO - Processing file number 40 of 250: 884130\n",
      "INFO - Found file 884130 at N:\\PPDO\\Records\\66xx   Mount Hamilton\\6605\\6605\\E - Program and Design\\E3 - Budget,  Cost Estimates,  Cost Proposal\\6605 E3 Project Budget Report.pdf\n"
     ]
    },
    {
     "data": {
      "application/vnd.jupyter.widget-view+json": {
       "model_id": "8efdc97169004f92be1974239961a886",
       "version_major": 2,
       "version_minor": 0
      },
      "text/plain": [
       "Output()"
      ]
     },
     "metadata": {},
     "output_type": "display_data"
    },
    {
     "data": {
      "text/html": [
       "<pre style=\"white-space:pre;overflow-x:auto;line-height:normal;font-family:Menlo,'DejaVu Sans Mono',consolas,'Courier New',monospace\"></pre>\n"
      ],
      "text/plain": []
     },
     "metadata": {},
     "output_type": "display_data"
    },
    {
     "data": {
      "application/vnd.jupyter.widget-view+json": {
       "model_id": "8ee5e8c161784094938eb2a8df9d9598",
       "version_major": 2,
       "version_minor": 0
      },
      "text/plain": [
       "Output()"
      ]
     },
     "metadata": {},
     "output_type": "display_data"
    },
    {
     "data": {
      "text/html": [
       "<pre style=\"white-space:pre;overflow-x:auto;line-height:normal;font-family:Menlo,'DejaVu Sans Mono',consolas,'Courier New',monospace\">[tesseract] lots of diacritics - possibly poor OCR\n",
       "</pre>\n"
      ],
      "text/plain": [
       "[tesseract] lots of diacritics - possibly poor OCR\n"
      ]
     },
     "metadata": {},
     "output_type": "display_data"
    },
    {
     "data": {
      "text/html": [
       "<pre style=\"white-space:pre;overflow-x:auto;line-height:normal;font-family:Menlo,'DejaVu Sans Mono',consolas,'Courier New',monospace\">[tesseract] lots of diacritics - possibly poor OCR\n",
       "</pre>\n"
      ],
      "text/plain": [
       "[tesseract] lots of diacritics - possibly poor OCR\n"
      ]
     },
     "metadata": {},
     "output_type": "display_data"
    },
    {
     "data": {
      "text/html": [
       "<pre style=\"white-space:pre;overflow-x:auto;line-height:normal;font-family:Menlo,'DejaVu Sans Mono',consolas,'Courier New',monospace\">[tesseract] lots of diacritics - possibly poor OCR\n",
       "</pre>\n"
      ],
      "text/plain": [
       "[tesseract] lots of diacritics - possibly poor OCR\n"
      ]
     },
     "metadata": {},
     "output_type": "display_data"
    },
    {
     "data": {
      "text/html": [
       "<pre style=\"white-space:pre;overflow-x:auto;line-height:normal;font-family:Menlo,'DejaVu Sans Mono',consolas,'Courier New',monospace\">[tesseract] lots of diacritics - possibly poor OCR\n",
       "</pre>\n"
      ],
      "text/plain": [
       "[tesseract] lots of diacritics - possibly poor OCR\n"
      ]
     },
     "metadata": {},
     "output_type": "display_data"
    },
    {
     "data": {
      "text/html": [
       "<pre style=\"white-space:pre;overflow-x:auto;line-height:normal;font-family:Menlo,'DejaVu Sans Mono',consolas,'Courier New',monospace\"></pre>\n"
      ],
      "text/plain": []
     },
     "metadata": {},
     "output_type": "display_data"
    },
    {
     "data": {
      "application/vnd.jupyter.widget-view+json": {
       "model_id": "184a4483ee654aba9b13f42adcd73fa8",
       "version_major": 2,
       "version_minor": 0
      },
      "text/plain": [
       "Output()"
      ]
     },
     "metadata": {},
     "output_type": "display_data"
    },
    {
     "data": {
      "text/html": [
       "<pre style=\"white-space:pre;overflow-x:auto;line-height:normal;font-family:Menlo,'DejaVu Sans Mono',consolas,'Courier New',monospace\"></pre>\n"
      ],
      "text/plain": []
     },
     "metadata": {},
     "output_type": "display_data"
    },
    {
     "data": {
      "application/vnd.jupyter.widget-view+json": {
       "model_id": "971986aa642d483ba604df6e929d2f8c",
       "version_major": 2,
       "version_minor": 0
      },
      "text/plain": [
       "Output()"
      ]
     },
     "metadata": {},
     "output_type": "display_data"
    },
    {
     "data": {
      "text/html": [
       "<pre style=\"white-space:pre;overflow-x:auto;line-height:normal;font-family:Menlo,'DejaVu Sans Mono',consolas,'Courier New',monospace\"></pre>\n"
      ],
      "text/plain": []
     },
     "metadata": {},
     "output_type": "display_data"
    },
    {
     "data": {
      "application/vnd.jupyter.widget-view+json": {
       "model_id": "e4ec5a107d6b4c09b86367bb695de156",
       "version_major": 2,
       "version_minor": 0
      },
      "text/plain": [
       "Output()"
      ]
     },
     "metadata": {},
     "output_type": "display_data"
    },
    {
     "data": {
      "text/html": [
       "<pre style=\"white-space:pre;overflow-x:auto;line-height:normal;font-family:Menlo,'DejaVu Sans Mono',consolas,'Courier New',monospace\"></pre>\n"
      ],
      "text/plain": []
     },
     "metadata": {},
     "output_type": "display_data"
    },
    {
     "data": {
      "application/vnd.jupyter.widget-view+json": {
       "model_id": "43cdfc3e2a3747fe874f8d01a431f482",
       "version_major": 2,
       "version_minor": 0
      },
      "text/plain": [
       "Output()"
      ]
     },
     "metadata": {},
     "output_type": "display_data"
    },
    {
     "data": {
      "text/html": [
       "<pre style=\"white-space:pre;overflow-x:auto;line-height:normal;font-family:Menlo,'DejaVu Sans Mono',consolas,'Courier New',monospace\"></pre>\n"
      ],
      "text/plain": []
     },
     "metadata": {},
     "output_type": "display_data"
    },
    {
     "name": "stderr",
     "output_type": "stream",
     "text": [
      "INFO - Processed file 884130 with tag E3 - Budget,  Cost Estimates,  Cost Proposal\n",
      "INFO - Added tag E3 to file with hash e1b3c0c54fa99593fce623f3b8ef7a9424ec9c57\n",
      "INFO - Added tag E to file with hash e1b3c0c54fa99593fce623f3b8ef7a9424ec9c57\n",
      "INFO - Processing file number 41 of 250: 829780\n",
      "INFO - Found file 829780 at N:\\PPDO\\Records\\90xx  Campus Utilities\\9065\\9065\\E - Program and Design\\E3 - Budget,  Cost Estimates,  Cost Proposal\\File 9065 E3 Phase 1 Projects Summary 09.01.06.pdf\n",
      "INFO - Processed file 829780 with tag E3 - Budget,  Cost Estimates,  Cost Proposal\n",
      "INFO - Added tag E3 to file with hash a90b98ca4717ab4b3868ea1f36b49abad40f4e31\n",
      "INFO - Added tag E to file with hash a90b98ca4717ab4b3868ea1f36b49abad40f4e31\n",
      "INFO - Processing file number 42 of 250: 78135\n",
      "INFO - Found file 78135 at N:\\PPDO\\Records\\100xx  Multiple Locations\\10061\\10061\\E - Program and Design\\E3 - Budget,  Cost Estimates,  Cost Proposal\\File 10061.E3. DD Cost Plan 6-15-01.pdf\n"
     ]
    },
    {
     "data": {
      "application/vnd.jupyter.widget-view+json": {
       "model_id": "ca9e76ab4dd54f74bc98e40e449ab061",
       "version_major": 2,
       "version_minor": 0
      },
      "text/plain": [
       "Output()"
      ]
     },
     "metadata": {},
     "output_type": "display_data"
    },
    {
     "data": {
      "text/html": [
       "<pre style=\"white-space:pre;overflow-x:auto;line-height:normal;font-family:Menlo,'DejaVu Sans Mono',consolas,'Courier New',monospace\"></pre>\n"
      ],
      "text/plain": []
     },
     "metadata": {},
     "output_type": "display_data"
    },
    {
     "data": {
      "application/vnd.jupyter.widget-view+json": {
       "model_id": "8c9ebc1cbfd447ba8ccd653fa959076f",
       "version_major": 2,
       "version_minor": 0
      },
      "text/plain": [
       "Output()"
      ]
     },
     "metadata": {},
     "output_type": "display_data"
    },
    {
     "data": {
      "text/html": [
       "<pre style=\"white-space:pre;overflow-x:auto;line-height:normal;font-family:Menlo,'DejaVu Sans Mono',consolas,'Courier New',monospace\"></pre>\n"
      ],
      "text/plain": []
     },
     "metadata": {},
     "output_type": "display_data"
    },
    {
     "data": {
      "application/vnd.jupyter.widget-view+json": {
       "model_id": "bfafca62b72044bb81330ca4323068ca",
       "version_major": 2,
       "version_minor": 0
      },
      "text/plain": [
       "Output()"
      ]
     },
     "metadata": {},
     "output_type": "display_data"
    },
    {
     "data": {
      "text/html": [
       "<pre style=\"white-space:pre;overflow-x:auto;line-height:normal;font-family:Menlo,'DejaVu Sans Mono',consolas,'Courier New',monospace\"></pre>\n"
      ],
      "text/plain": []
     },
     "metadata": {},
     "output_type": "display_data"
    },
    {
     "data": {
      "application/vnd.jupyter.widget-view+json": {
       "model_id": "c017ff4000f74d6199feb4fa515704a3",
       "version_major": 2,
       "version_minor": 0
      },
      "text/plain": [
       "Output()"
      ]
     },
     "metadata": {},
     "output_type": "display_data"
    },
    {
     "data": {
      "text/html": [
       "<pre style=\"white-space:pre;overflow-x:auto;line-height:normal;font-family:Menlo,'DejaVu Sans Mono',consolas,'Courier New',monospace\"></pre>\n"
      ],
      "text/plain": []
     },
     "metadata": {},
     "output_type": "display_data"
    },
    {
     "data": {
      "application/vnd.jupyter.widget-view+json": {
       "model_id": "fcc5c7ff89b447379124c68e64086a8e",
       "version_major": 2,
       "version_minor": 0
      },
      "text/plain": [
       "Output()"
      ]
     },
     "metadata": {},
     "output_type": "display_data"
    },
    {
     "data": {
      "text/html": [
       "<pre style=\"white-space:pre;overflow-x:auto;line-height:normal;font-family:Menlo,'DejaVu Sans Mono',consolas,'Courier New',monospace\"></pre>\n"
      ],
      "text/plain": []
     },
     "metadata": {},
     "output_type": "display_data"
    },
    {
     "data": {
      "application/vnd.jupyter.widget-view+json": {
       "model_id": "ca3de257c22d4302aea78f179794861e",
       "version_major": 2,
       "version_minor": 0
      },
      "text/plain": [
       "Output()"
      ]
     },
     "metadata": {},
     "output_type": "display_data"
    },
    {
     "data": {
      "text/html": [
       "<pre style=\"white-space:pre;overflow-x:auto;line-height:normal;font-family:Menlo,'DejaVu Sans Mono',consolas,'Courier New',monospace\"></pre>\n"
      ],
      "text/plain": []
     },
     "metadata": {},
     "output_type": "display_data"
    },
    {
     "name": "stderr",
     "output_type": "stream",
     "text": [
      "The output file size is 5.50× larger than the input file.\n",
      "Possible reasons for this include:\n",
      "--deskew was issued, causing transcoding.\n",
      "The optional dependency 'jbig2' was not found, so some image optimizations could not be attempted.\n",
      "The optional dependency 'pngquant' was not found, so some image optimizations could not be attempted.\n",
      "\n",
      "INFO - Processed file 78135 with tag E3 - Budget,  Cost Estimates,  Cost Proposal\n",
      "INFO - Added tag E3 to file with hash 7c7a5b8365a0311244b3705c2f635cd9f94fb556\n",
      "INFO - Added tag E to file with hash 7c7a5b8365a0311244b3705c2f635cd9f94fb556\n",
      "INFO - Processing file number 43 of 250: 214913\n",
      "WARNING - File 214913 not found at N:\\PPDO\\Records\\21xx   Central Heating Plant (Fackler Cogeneration)\\2113\\2113\\E - Program and Design\\E3 - Budget,  Cost Estimates,  Cost Proposal\\Cogen Replacement PH1 - Recalculated DL Estimate 11-16-12 DT.Rev.2.xls\n",
      "WARNING - No valid file found for 214913\n",
      "INFO - Processing file number 44 of 250: 366748\n",
      "INFO - Found file 366748 at N:\\PPDO\\Records\\37xx   Oakes College\\3700\\3700-019\\3700-019\\E - Program and Design\\E3 - Budget,  Cost Estimates,  Cost Proposal\\File 3700-019 Detailed Expenses.pdf\n",
      "INFO - Processed file 366748 with tag E3 - Budget,  Cost Estimates,  Cost Proposal\n",
      "INFO - Added tag E3 to file with hash d849919d2044e4142cd1a83bad0353223c2a06a3\n",
      "INFO - Added tag E to file with hash d849919d2044e4142cd1a83bad0353223c2a06a3\n",
      "INFO - Processing file number 45 of 250: 227082\n",
      "WARNING - File 227082 not found at N:\\PPDO\\Records\\22xx   Fine Arts & Communication\\2201\\2201\\E - Program and Design\\E3 - Budget,  Cost Estimates,  Cost Proposal\\2201.E3 Master File Movable Equipment 1996.pdf\n",
      "WARNING - No valid file found for 227082\n",
      "INFO - Processing file number 46 of 250: 668924\n",
      "WARNING - File 668924 not found at N:\\PPDO\\Records\\23xx   Crown College (College 3)\\2302\\2302-012\\E - Program and Design\\E3 - Budget,  Cost Estimates,  Cost Proposal\\2302-012.E3.2017-11-28T10_05_05_9645819-411e38f7-6f90-4fb8-aa6f-2f9ea3458e99.pdf\n",
      "WARNING - No valid file found for 668924\n",
      "INFO - Processing file number 47 of 250: 745154\n",
      "INFO - Found file 745154 at N:\\PPDO\\Records\\100xx  Multiple Locations\\10043\\10043-001\\E - Program and Design\\E3 - Budget,  Cost Estimates,  Cost Proposal\\Din Com  FPR i 3 e3.xls\n",
      "INFO - Processed file 745154 with tag E3 - Budget,  Cost Estimates,  Cost Proposal\n",
      "INFO - Added tag E3 to file with hash 2b2bb15a2afe5181f87450963f1cf7373aa5b75a\n",
      "INFO - Added tag E to file with hash 2b2bb15a2afe5181f87450963f1cf7373aa5b75a\n",
      "INFO - Processing file number 48 of 250: 791266\n",
      "INFO - Found file 791266 at N:\\PPDO\\Records\\49xx   Long Marine Lab\\4932\\4932\\E - Program and Design\\E3 - Budget,  Cost Estimates,  Cost Proposal\\Project Budget Workbooks\\2015 Project Budget Workbooks - Final C Phase UCOP Submittal\\Progress\\CSC Project Summary Totals 2-6-15.xls\n",
      "INFO - Processed file 791266 with tag E3 - Budget,  Cost Estimates,  Cost Proposal\n",
      "INFO - Added tag E3 to file with hash c8519ce2f098caa5364a29d4df138bab95bbfd55\n",
      "INFO - Added tag E to file with hash c8519ce2f098caa5364a29d4df138bab95bbfd55\n",
      "INFO - Processing file number 49 of 250: 541289\n",
      "INFO - Found file 541289 at N:\\PPDO\\Records\\64xx   Interdisciplinary Sciences Building\\6401\\6401-011\\E - Program and Design\\E3 - Budget,  Cost Estimates,  Cost Proposal\\6401-011.E3.18 03 15, WO00402390 Cost Report.pdf\n",
      "INFO - Processed file 541289 with tag E3 - Budget,  Cost Estimates,  Cost Proposal\n",
      "INFO - Added tag E3 to file with hash afc42734f359106c3a79d3020a9e0c88663890c8\n",
      "INFO - Added tag E to file with hash afc42734f359106c3a79d3020a9e0c88663890c8\n",
      "INFO - Processing file number 50 of 250: 831771\n",
      "INFO - Found file 831771 at N:\\PPDO\\Records\\90xx  Campus Utilities\\9097\\9097A Oakes Academic TR Improvements\\E - Program and Design\\E3 - Budget,  Cost Estimates,  Cost Proposal\\File 9097A.E3. Architect's Estimate.pdf\n"
     ]
    },
    {
     "data": {
      "application/vnd.jupyter.widget-view+json": {
       "model_id": "a1498a040a2f48e6ab319bb20c45df31",
       "version_major": 2,
       "version_minor": 0
      },
      "text/plain": [
       "Output()"
      ]
     },
     "metadata": {},
     "output_type": "display_data"
    },
    {
     "data": {
      "text/html": [
       "<pre style=\"white-space:pre;overflow-x:auto;line-height:normal;font-family:Menlo,'DejaVu Sans Mono',consolas,'Courier New',monospace\"></pre>\n"
      ],
      "text/plain": []
     },
     "metadata": {},
     "output_type": "display_data"
    },
    {
     "data": {
      "application/vnd.jupyter.widget-view+json": {
       "model_id": "e180ef651e4a429f8cf77eaef72d9ac2",
       "version_major": 2,
       "version_minor": 0
      },
      "text/plain": [
       "Output()"
      ]
     },
     "metadata": {},
     "output_type": "display_data"
    },
    {
     "data": {
      "text/html": [
       "<pre style=\"white-space:pre;overflow-x:auto;line-height:normal;font-family:Menlo,'DejaVu Sans Mono',consolas,'Courier New',monospace\"></pre>\n"
      ],
      "text/plain": []
     },
     "metadata": {},
     "output_type": "display_data"
    },
    {
     "data": {
      "application/vnd.jupyter.widget-view+json": {
       "model_id": "d0e21cc5903340b2a0ead251cb19cd5e",
       "version_major": 2,
       "version_minor": 0
      },
      "text/plain": [
       "Output()"
      ]
     },
     "metadata": {},
     "output_type": "display_data"
    },
    {
     "data": {
      "text/html": [
       "<pre style=\"white-space:pre;overflow-x:auto;line-height:normal;font-family:Menlo,'DejaVu Sans Mono',consolas,'Courier New',monospace\"></pre>\n"
      ],
      "text/plain": []
     },
     "metadata": {},
     "output_type": "display_data"
    },
    {
     "data": {
      "application/vnd.jupyter.widget-view+json": {
       "model_id": "e505433cb14f40c3bad584682a776b43",
       "version_major": 2,
       "version_minor": 0
      },
      "text/plain": [
       "Output()"
      ]
     },
     "metadata": {},
     "output_type": "display_data"
    },
    {
     "data": {
      "text/html": [
       "<pre style=\"white-space:pre;overflow-x:auto;line-height:normal;font-family:Menlo,'DejaVu Sans Mono',consolas,'Courier New',monospace\"></pre>\n"
      ],
      "text/plain": []
     },
     "metadata": {},
     "output_type": "display_data"
    },
    {
     "data": {
      "application/vnd.jupyter.widget-view+json": {
       "model_id": "4d38a47e05274505a0f5cebaa39ddcde",
       "version_major": 2,
       "version_minor": 0
      },
      "text/plain": [
       "Output()"
      ]
     },
     "metadata": {},
     "output_type": "display_data"
    },
    {
     "data": {
      "text/html": [
       "<pre style=\"white-space:pre;overflow-x:auto;line-height:normal;font-family:Menlo,'DejaVu Sans Mono',consolas,'Courier New',monospace\"></pre>\n"
      ],
      "text/plain": []
     },
     "metadata": {},
     "output_type": "display_data"
    },
    {
     "data": {
      "application/vnd.jupyter.widget-view+json": {
       "model_id": "673be77bd96a4b82b0a986bd2c976d6c",
       "version_major": 2,
       "version_minor": 0
      },
      "text/plain": [
       "Output()"
      ]
     },
     "metadata": {},
     "output_type": "display_data"
    },
    {
     "data": {
      "text/html": [
       "<pre style=\"white-space:pre;overflow-x:auto;line-height:normal;font-family:Menlo,'DejaVu Sans Mono',consolas,'Courier New',monospace\"></pre>\n"
      ],
      "text/plain": []
     },
     "metadata": {},
     "output_type": "display_data"
    },
    {
     "name": "stderr",
     "output_type": "stream",
     "text": [
      "The output file size is 3.68× larger than the input file.\n",
      "Possible reasons for this include:\n",
      "--deskew was issued, causing transcoding.\n",
      "The optional dependency 'jbig2' was not found, so some image optimizations could not be attempted.\n",
      "The optional dependency 'pngquant' was not found, so some image optimizations could not be attempted.\n",
      "\n",
      "INFO - Processed file 831771 with tag E3 - Budget,  Cost Estimates,  Cost Proposal\n",
      "INFO - Added tag E3 to file with hash 43d293a5fd667087c77aed18c7fb92bcc7c86d22\n",
      "INFO - Added tag E to file with hash 43d293a5fd667087c77aed18c7fb92bcc7c86d22\n",
      "INFO - Processing file number 51 of 250: 307426\n",
      "INFO - Found file 307426 at N:\\PPDO\\Records\\30xx   Porter College (College 5)\\3000\\3000-149\\E - Program and Design\\E3 - Budget,  Cost Estimates,  Cost Proposal\\CIB\\Fall Protection Quotes\\JL0312-10 REV #2 UC Santa Cruz-freestanding system.pdf\n",
      "INFO - Processed file 307426 with tag E3 - Budget,  Cost Estimates,  Cost Proposal\n",
      "INFO - Added tag E3 to file with hash e3cea69845d515ac3678cbd38a8645ed10892bb5\n",
      "INFO - Added tag E to file with hash e3cea69845d515ac3678cbd38a8645ed10892bb5\n",
      "INFO - Processing file number 52 of 250: 232316\n",
      "WARNING - File 232316 not found at N:\\PPDO\\Records\\23xx   Crown College (College 3)\\2318\\2318-047\\E3 - Budget,  Cost Estimates,  Cost Proposal\\File 2318-047 Work Order and FPR Estimate 4-19-11.pdf\n",
      "WARNING - No valid file found for 232316\n",
      "INFO - Processing file number 53 of 250: 586829\n",
      "INFO - Found file 586829 at N:\\PPDO\\Records\\89xx   Campus Roads\\8900\\8900-065\\E3 - Budget,  Cost Estimates,  Cost Proposal\\8900-065 Cost Breakdown.xls\n",
      "INFO - Processed file 586829 with tag E3 - Budget,  Cost Estimates,  Cost Proposal\n",
      "INFO - Added tag E3 to file with hash f30d23ebfcead857b4b552652432be2e9bde5bcd\n",
      "INFO - Added tag E to file with hash f30d23ebfcead857b4b552652432be2e9bde5bcd\n",
      "INFO - Processing file number 54 of 250: 913797\n",
      "INFO - Found file 913797 at N:\\PPDO\\Records\\57xx   Faculty & Staff Housing\\5707\\5707\\E- Program and Design\\E3 - Budget,  Cost Estimates,  Cost Proposal\\File 5707 Detailed Expenses.pdf\n"
     ]
    },
    {
     "data": {
      "application/vnd.jupyter.widget-view+json": {
       "model_id": "17844a7461ea4e34925cf1051637cbb8",
       "version_major": 2,
       "version_minor": 0
      },
      "text/plain": [
       "Output()"
      ]
     },
     "metadata": {},
     "output_type": "display_data"
    },
    {
     "data": {
      "text/html": [
       "<pre style=\"white-space:pre;overflow-x:auto;line-height:normal;font-family:Menlo,'DejaVu Sans Mono',consolas,'Courier New',monospace\"></pre>\n"
      ],
      "text/plain": []
     },
     "metadata": {},
     "output_type": "display_data"
    },
    {
     "data": {
      "application/vnd.jupyter.widget-view+json": {
       "model_id": "590d57ae224247b6bbe1e4f8d3ecba2a",
       "version_major": 2,
       "version_minor": 0
      },
      "text/plain": [
       "Output()"
      ]
     },
     "metadata": {},
     "output_type": "display_data"
    },
    {
     "data": {
      "text/html": [
       "<pre style=\"white-space:pre;overflow-x:auto;line-height:normal;font-family:Menlo,'DejaVu Sans Mono',consolas,'Courier New',monospace\"></pre>\n"
      ],
      "text/plain": []
     },
     "metadata": {},
     "output_type": "display_data"
    },
    {
     "data": {
      "application/vnd.jupyter.widget-view+json": {
       "model_id": "85d43d62c70e4686a0e7c1a715f96e82",
       "version_major": 2,
       "version_minor": 0
      },
      "text/plain": [
       "Output()"
      ]
     },
     "metadata": {},
     "output_type": "display_data"
    },
    {
     "data": {
      "text/html": [
       "<pre style=\"white-space:pre;overflow-x:auto;line-height:normal;font-family:Menlo,'DejaVu Sans Mono',consolas,'Courier New',monospace\"></pre>\n"
      ],
      "text/plain": []
     },
     "metadata": {},
     "output_type": "display_data"
    },
    {
     "data": {
      "application/vnd.jupyter.widget-view+json": {
       "model_id": "bf7dd6fe1bf74732ab06f610de61ee34",
       "version_major": 2,
       "version_minor": 0
      },
      "text/plain": [
       "Output()"
      ]
     },
     "metadata": {},
     "output_type": "display_data"
    },
    {
     "data": {
      "text/html": [
       "<pre style=\"white-space:pre;overflow-x:auto;line-height:normal;font-family:Menlo,'DejaVu Sans Mono',consolas,'Courier New',monospace\"></pre>\n"
      ],
      "text/plain": []
     },
     "metadata": {},
     "output_type": "display_data"
    },
    {
     "data": {
      "application/vnd.jupyter.widget-view+json": {
       "model_id": "1d0b7cf3e5b946db92549bc42dd2f62b",
       "version_major": 2,
       "version_minor": 0
      },
      "text/plain": [
       "Output()"
      ]
     },
     "metadata": {},
     "output_type": "display_data"
    },
    {
     "data": {
      "text/html": [
       "<pre style=\"white-space:pre;overflow-x:auto;line-height:normal;font-family:Menlo,'DejaVu Sans Mono',consolas,'Courier New',monospace\"></pre>\n"
      ],
      "text/plain": []
     },
     "metadata": {},
     "output_type": "display_data"
    },
    {
     "data": {
      "application/vnd.jupyter.widget-view+json": {
       "model_id": "c1beb8efafbb4724ad631e61f7f4f9f3",
       "version_major": 2,
       "version_minor": 0
      },
      "text/plain": [
       "Output()"
      ]
     },
     "metadata": {},
     "output_type": "display_data"
    },
    {
     "data": {
      "text/html": [
       "<pre style=\"white-space:pre;overflow-x:auto;line-height:normal;font-family:Menlo,'DejaVu Sans Mono',consolas,'Courier New',monospace\"></pre>\n"
      ],
      "text/plain": []
     },
     "metadata": {},
     "output_type": "display_data"
    },
    {
     "name": "stderr",
     "output_type": "stream",
     "text": [
      "The output file size is 4.87× larger than the input file.\n",
      "Possible reasons for this include:\n",
      "--deskew was issued, causing transcoding.\n",
      "The optional dependency 'jbig2' was not found, so some image optimizations could not be attempted.\n",
      "The optional dependency 'pngquant' was not found, so some image optimizations could not be attempted.\n",
      "\n",
      "INFO - Processed file 913797 with tag E3 - Budget,  Cost Estimates,  Cost Proposal\n",
      "INFO - Added tag E3 to file with hash ab9397259b518ed6fc2e7d4be8c0a06a5af4d537\n",
      "INFO - Added tag E to file with hash ab9397259b518ed6fc2e7d4be8c0a06a5af4d537\n",
      "INFO - Processing file number 55 of 250: 236059\n",
      "WARNING - File 236059 not found at N:\\PPDO\\Records\\23xx   Crown College (College 3)\\2358\\2358\\E - Program and Design\\E3 - Budget,  Cost Estimates,  Cost Proposal\\Budget and Cost Reports\\Cost Estimates\\Crown College DSA Submittal 2.9.17 Reconciliation.pdf\n",
      "WARNING - File 236059 not found at N:\\PPDO\\Records\\23xx   Crown College (College 3)\\2358\\2358\\E - Program and Design\\E3 - Budget,  Cost Estimates,  Cost Proposal\\Cost Estimates\\Crown College DSA Submittal 2.9.17 Reconciliation.pdf\n",
      "WARNING - No valid file found for 236059\n",
      "INFO - Processing file number 56 of 250: 339236\n",
      "INFO - Found file 339236 at N:\\PPDO\\Records\\32xx   Kresge College (College 6)\\3238\\3238\\E - Program and Design\\E3 - Budget,  Cost Estimates,  Cost Proposal\\190418 Kresge Capital Project (multiple capital accounts)\\Kresge Residential Phase 1 sub-project 976386.xls\n",
      "INFO - Processed file 339236 with tag E3 - Budget,  Cost Estimates,  Cost Proposal\n",
      "INFO - Added tag E3 to file with hash 74f82ccb6c91ff491242b0398cffc53d0659c10c\n",
      "INFO - Added tag E to file with hash 74f82ccb6c91ff491242b0398cffc53d0659c10c\n",
      "INFO - Processing file number 57 of 250: 99248\n",
      "INFO - Found file 99248 at N:\\PPDO\\Records\\105xx   Center for Adaptive Optics\\10500\\10500-001\\E - Program and Design\\E3 - Budget,  Cost Estimates,  Cost Proposal\\Cen-Con Quote CfAO Office 102_2019-02-12 REVISED.pdf\n",
      "INFO - Processed file 99248 with tag E3 - Budget,  Cost Estimates,  Cost Proposal\n",
      "INFO - Added tag E3 to file with hash b0b8f0f6efef1d38d3f304aacc18eff66c59cc71\n",
      "INFO - Added tag E to file with hash b0b8f0f6efef1d38d3f304aacc18eff66c59cc71\n",
      "INFO - Processing file number 58 of 250: 791284\n",
      "INFO - Found file 791284 at N:\\PPDO\\Records\\49xx   Long Marine Lab\\4932\\4932\\E - Program and Design\\E3 - Budget,  Cost Estimates,  Cost Proposal\\Project Budget Workbooks\\In Progress PBW\\CSC FSS PBW.xls\n",
      "INFO - Processed file 791284 with tag E3 - Budget,  Cost Estimates,  Cost Proposal\n",
      "INFO - Added tag E3 to file with hash a8827f40c8127887c70b085af91816e0c3045407\n",
      "INFO - Added tag E to file with hash a8827f40c8127887c70b085af91816e0c3045407\n",
      "INFO - Processing file number 59 of 250: 541297\n",
      "INFO - Found file 541297 at N:\\PPDO\\Records\\64xx   Interdisciplinary Sciences Building\\6401\\6401-011\\E - Program and Design\\E3 - Budget,  Cost Estimates,  Cost Proposal\\6401-011.E3.18 05 09, WO00402390 Cost Report.pdf\n",
      "INFO - Processed file 541297 with tag E3 - Budget,  Cost Estimates,  Cost Proposal\n",
      "INFO - Added tag E3 to file with hash 40e2414ea475133f1cf5108b82024caf8f8f61e8\n",
      "INFO - Added tag E to file with hash 40e2414ea475133f1cf5108b82024caf8f8f61e8\n",
      "INFO - Processing file number 60 of 250: 745256\n",
      "INFO - Found file 745256 at N:\\PPDO\\Records\\48xx   Family Student Housing\\4899\\4899-029\\E - Program and Design\\E3 - Budget,  Cost Estimates,  Cost Proposal\\FSH, Heller Dr. Fence Data.xls\n",
      "INFO - Processed file 745256 with tag E3 - Budget,  Cost Estimates,  Cost Proposal\n",
      "INFO - Added tag E3 to file with hash 9c333ce72091af9a913c45e2fdf97275e8a9e08a\n",
      "INFO - Added tag E to file with hash 9c333ce72091af9a913c45e2fdf97275e8a9e08a\n",
      "INFO - Processing file number 61 of 250: 143154\n",
      "INFO - Found file 143154 at N:\\PPDO\\Records\\120xx  Off Campus Facilities\\12058\\12058\\E - Program and Design\\E3 - Budget,  Cost Estimates,  Cost Proposal\\Project Workbook\\971084_Big Creek PBW 20150211_DAL.xls\n",
      "INFO - Processed file 143154 with tag E3 - Budget,  Cost Estimates,  Cost Proposal\n",
      "INFO - Added tag E3 to file with hash cbc31956fbfa9c14d7a0fbb03fd7e50a60b9f4e5\n",
      "INFO - Added tag E to file with hash cbc31956fbfa9c14d7a0fbb03fd7e50a60b9f4e5\n",
      "INFO - Processing file number 62 of 250: 517747\n",
      "INFO - Found file 517747 at N:\\PPDO\\Records\\59xx   Graduate Student Housing\\5903\\DOCS\\Project Files\\E- PROGRAM AND DESIGN\\E3 - Budget,  Cost Estimates,  Cost Proposal\\FPR Inc_Dec Rev. 1.xls\n",
      "INFO - Processed file 517747 with tag E3 - Budget,  Cost Estimates,  Cost Proposal\n",
      "INFO - Added tag E3 to file with hash 0de4d96f894db18b6b8475a27bddc0332df6474c\n",
      "INFO - Added tag E to file with hash 0de4d96f894db18b6b8475a27bddc0332df6474c\n",
      "INFO - Processing file number 63 of 250: 111244\n",
      "INFO - Found file 111244 at N:\\PPDO\\Records\\106xx  2300 Delaware Westside Research Park\\10637\\10637\\E - Program and Design\\E3 - Budget,  Cost Estimates,  Cost Proposal\\Strategies\\Alts Bldg C Budget Strategies draft 1-27-15.docx\n",
      "INFO - Processed file 111244 with tag E3 - Budget,  Cost Estimates,  Cost Proposal\n",
      "INFO - Added tag E3 to file with hash 2567cd5c574f7d5c7353eca36666f589cd546353\n",
      "INFO - Added tag E to file with hash 2567cd5c574f7d5c7353eca36666f589cd546353\n",
      "INFO - Processing file number 64 of 250: 26478\n",
      "WARNING - File 26478 not found at N:\\PPDO\\Records\\16xx   Cowell College\\1600\\1600-075\\E - Program and Design\\E3 - Budget,  Cost Estimates,  Cost Proposal\\1600-075 E3 Project Budget Report.pdf\n",
      "WARNING - No valid file found for 26478\n",
      "INFO - Processing file number 65 of 250: 111245\n",
      "INFO - Found file 111245 at N:\\PPDO\\Records\\106xx  2300 Delaware Westside Research Park\\10637\\10637\\E - Program and Design\\E3 - Budget,  Cost Estimates,  Cost Proposal\\Strategies\\AltsAcadProg.ver1.dt.xls\n",
      "INFO - Processed file 111245 with tag E3 - Budget,  Cost Estimates,  Cost Proposal\n",
      "INFO - Added tag E3 to file with hash 854e8f5812195c45196ce246bf269495cd1e594d\n",
      "INFO - Added tag E to file with hash 854e8f5812195c45196ce246bf269495cd1e594d\n",
      "INFO - Processing file number 66 of 250: 579019\n",
      "INFO - Found file 579019 at N:\\PPDO\\Records\\85xx   Pedestrian Paths and Site Development\\8500\\8500-021\\E - Program and Design\\E3 - Budget,  Cost Estimates,  Cost Proposal\\8500-021 E3 Handrail Estimate, 2-4-13.pdf\n",
      "INFO - Processed file 579019 with tag E3 - Budget,  Cost Estimates,  Cost Proposal\n",
      "INFO - Added tag E3 to file with hash 6072fa9b0c712cb2939e5a8500709a83bb77cca2\n",
      "INFO - Added tag E to file with hash 6072fa9b0c712cb2939e5a8500709a83bb77cca2\n",
      "INFO - Processing file number 67 of 250: 574613\n",
      "INFO - Found file 574613 at N:\\PPDO\\Records\\76xx   Emergency Response Center\\7603\\7603\\7603 ERC Emergency Storm Drainage Repairs 2\\E - Program and Design\\E3 - Budget,  Cost Estimates,  Cost Proposal\\7603.E3.18 03 09 WO00408709 Cost Report.pdf\n",
      "INFO - Processed file 574613 with tag E3 - Budget,  Cost Estimates,  Cost Proposal\n",
      "INFO - Added tag E3 to file with hash 16187154eedf35b47542c36c6189fa12ade748cf\n",
      "INFO - Added tag E to file with hash 16187154eedf35b47542c36c6189fa12ade748cf\n",
      "INFO - Processing file number 68 of 250: 741693\n",
      "INFO - Found file 741693 at N:\\PPDO\\Records\\45xx   Bay Tree Bookstore\\4503\\4503-006\\E - Program and Design\\E3 - Budget,  Cost Estimates,  Cost Proposal\\4503-006.E3.18 02 27 - WO00410337 Cost Report.pdf\n",
      "INFO - Processed file 741693 with tag E3 - Budget,  Cost Estimates,  Cost Proposal\n",
      "INFO - Added tag E3 to file with hash 32c2f0974d682393044a90461d9fa2cbb3503aa4\n",
      "INFO - Added tag E to file with hash 32c2f0974d682393044a90461d9fa2cbb3503aa4\n",
      "INFO - Processing file number 69 of 250: 360935\n",
      "INFO - Found file 360935 at N:\\PPDO\\Records\\34xx   Surge Bldgs & Modulars\\3499\\3499-048\\E3 - Budget,  Cost Estimates,  Cost Proposal\\File 3499-048 Project Scope.pdf\n",
      "INFO - Processed file 360935 with tag E3 - Budget,  Cost Estimates,  Cost Proposal\n",
      "INFO - Added tag E3 to file with hash 8a5ad114a239eacc9e5d1365f9d225eded9e4600\n",
      "INFO - Added tag E to file with hash 8a5ad114a239eacc9e5d1365f9d225eded9e4600\n",
      "INFO - Processing file number 70 of 250: 369653\n",
      "INFO - Found file 369653 at N:\\PPDO\\Records\\37xx   Oakes College\\3727\\3727\\E3 - Budget,  Cost Estimates,  Cost Proposal\\3727.E3 Annex Project Budget.pdf\n"
     ]
    },
    {
     "data": {
      "application/vnd.jupyter.widget-view+json": {
       "model_id": "c9868a0e96b44aaf9a26ed88804a935b",
       "version_major": 2,
       "version_minor": 0
      },
      "text/plain": [
       "Output()"
      ]
     },
     "metadata": {},
     "output_type": "display_data"
    },
    {
     "data": {
      "text/html": [
       "<pre style=\"white-space:pre;overflow-x:auto;line-height:normal;font-family:Menlo,'DejaVu Sans Mono',consolas,'Courier New',monospace\"></pre>\n"
      ],
      "text/plain": []
     },
     "metadata": {},
     "output_type": "display_data"
    },
    {
     "data": {
      "application/vnd.jupyter.widget-view+json": {
       "model_id": "a7cc3a77410d43cf9d8c4cf820a65a81",
       "version_major": 2,
       "version_minor": 0
      },
      "text/plain": [
       "Output()"
      ]
     },
     "metadata": {},
     "output_type": "display_data"
    },
    {
     "data": {
      "text/html": [
       "<pre style=\"white-space:pre;overflow-x:auto;line-height:normal;font-family:Menlo,'DejaVu Sans Mono',consolas,'Courier New',monospace\">[tesseract] lots of diacritics - possibly poor OCR\n",
       "</pre>\n"
      ],
      "text/plain": [
       "[tesseract] lots of diacritics - possibly poor OCR\n"
      ]
     },
     "metadata": {},
     "output_type": "display_data"
    },
    {
     "data": {
      "text/html": [
       "<pre style=\"white-space:pre;overflow-x:auto;line-height:normal;font-family:Menlo,'DejaVu Sans Mono',consolas,'Courier New',monospace\">[tesseract] lots of diacritics - possibly poor OCR\n",
       "</pre>\n"
      ],
      "text/plain": [
       "[tesseract] lots of diacritics - possibly poor OCR\n"
      ]
     },
     "metadata": {},
     "output_type": "display_data"
    },
    {
     "data": {
      "text/html": [
       "<pre style=\"white-space:pre;overflow-x:auto;line-height:normal;font-family:Menlo,'DejaVu Sans Mono',consolas,'Courier New',monospace\">[tesseract] Warning:guessing pitch as xheight on row 3, block 8\n",
       "</pre>\n"
      ],
      "text/plain": [
       "[tesseract] Warning:guessing pitch as xheight on row 3, block 8\n"
      ]
     },
     "metadata": {},
     "output_type": "display_data"
    },
    {
     "data": {
      "text/html": [
       "<pre style=\"white-space:pre;overflow-x:auto;line-height:normal;font-family:Menlo,'DejaVu Sans Mono',consolas,'Courier New',monospace\">[tesseract] Warning:guessing pitch as xheight on row 1, block 7\n",
       "</pre>\n"
      ],
      "text/plain": [
       "[tesseract] Warning:guessing pitch as xheight on row 1, block 7\n"
      ]
     },
     "metadata": {},
     "output_type": "display_data"
    },
    {
     "data": {
      "text/html": [
       "<pre style=\"white-space:pre;overflow-x:auto;line-height:normal;font-family:Menlo,'DejaVu Sans Mono',consolas,'Courier New',monospace\">[tesseract] Warning:guessing pitch as xheight on row 2, block 7\n",
       "</pre>\n"
      ],
      "text/plain": [
       "[tesseract] Warning:guessing pitch as xheight on row 2, block 7\n"
      ]
     },
     "metadata": {},
     "output_type": "display_data"
    },
    {
     "data": {
      "text/html": [
       "<pre style=\"white-space:pre;overflow-x:auto;line-height:normal;font-family:Menlo,'DejaVu Sans Mono',consolas,'Courier New',monospace\">[tesseract] Warning:guessing pitch as xheight on row 3, block 7\n",
       "</pre>\n"
      ],
      "text/plain": [
       "[tesseract] Warning:guessing pitch as xheight on row 3, block 7\n"
      ]
     },
     "metadata": {},
     "output_type": "display_data"
    },
    {
     "data": {
      "text/html": [
       "<pre style=\"white-space:pre;overflow-x:auto;line-height:normal;font-family:Menlo,'DejaVu Sans Mono',consolas,'Courier New',monospace\">[tesseract] Warning:guessing pitch as xheight on row 4, block 7\n",
       "</pre>\n"
      ],
      "text/plain": [
       "[tesseract] Warning:guessing pitch as xheight on row 4, block 7\n"
      ]
     },
     "metadata": {},
     "output_type": "display_data"
    },
    {
     "data": {
      "text/html": [
       "<pre style=\"white-space:pre;overflow-x:auto;line-height:normal;font-family:Menlo,'DejaVu Sans Mono',consolas,'Courier New',monospace\">[tesseract] Warning:guessing pitch as xheight on row 5, block 7\n",
       "</pre>\n"
      ],
      "text/plain": [
       "[tesseract] Warning:guessing pitch as xheight on row 5, block 7\n"
      ]
     },
     "metadata": {},
     "output_type": "display_data"
    },
    {
     "data": {
      "text/html": [
       "<pre style=\"white-space:pre;overflow-x:auto;line-height:normal;font-family:Menlo,'DejaVu Sans Mono',consolas,'Courier New',monospace\">[tesseract] Warning:guessing pitch as xheight on row 6, block 7\n",
       "</pre>\n"
      ],
      "text/plain": [
       "[tesseract] Warning:guessing pitch as xheight on row 6, block 7\n"
      ]
     },
     "metadata": {},
     "output_type": "display_data"
    },
    {
     "data": {
      "text/html": [
       "<pre style=\"white-space:pre;overflow-x:auto;line-height:normal;font-family:Menlo,'DejaVu Sans Mono',consolas,'Courier New',monospace\">[tesseract] Warning:guessing pitch as xheight on row 9, block 7\n",
       "</pre>\n"
      ],
      "text/plain": [
       "[tesseract] Warning:guessing pitch as xheight on row 9, block 7\n"
      ]
     },
     "metadata": {},
     "output_type": "display_data"
    },
    {
     "data": {
      "text/html": [
       "<pre style=\"white-space:pre;overflow-x:auto;line-height:normal;font-family:Menlo,'DejaVu Sans Mono',consolas,'Courier New',monospace\">[tesseract] Warning:guessing pitch as xheight on row 10, block 7\n",
       "</pre>\n"
      ],
      "text/plain": [
       "[tesseract] Warning:guessing pitch as xheight on row 10, block 7\n"
      ]
     },
     "metadata": {},
     "output_type": "display_data"
    },
    {
     "data": {
      "text/html": [
       "<pre style=\"white-space:pre;overflow-x:auto;line-height:normal;font-family:Menlo,'DejaVu Sans Mono',consolas,'Courier New',monospace\">[tesseract] Warning:guessing pitch as xheight on row 11, block 7\n",
       "</pre>\n"
      ],
      "text/plain": [
       "[tesseract] Warning:guessing pitch as xheight on row 11, block 7\n"
      ]
     },
     "metadata": {},
     "output_type": "display_data"
    },
    {
     "data": {
      "text/html": [
       "<pre style=\"white-space:pre;overflow-x:auto;line-height:normal;font-family:Menlo,'DejaVu Sans Mono',consolas,'Courier New',monospace\">[tesseract] Warning:guessing pitch as xheight on row 12, block 7\n",
       "</pre>\n"
      ],
      "text/plain": [
       "[tesseract] Warning:guessing pitch as xheight on row 12, block 7\n"
      ]
     },
     "metadata": {},
     "output_type": "display_data"
    },
    {
     "data": {
      "text/html": [
       "<pre style=\"white-space:pre;overflow-x:auto;line-height:normal;font-family:Menlo,'DejaVu Sans Mono',consolas,'Courier New',monospace\">[tesseract] Warning:guessing pitch as xheight on row 13, block 7\n",
       "</pre>\n"
      ],
      "text/plain": [
       "[tesseract] Warning:guessing pitch as xheight on row 13, block 7\n"
      ]
     },
     "metadata": {},
     "output_type": "display_data"
    },
    {
     "data": {
      "text/html": [
       "<pre style=\"white-space:pre;overflow-x:auto;line-height:normal;font-family:Menlo,'DejaVu Sans Mono',consolas,'Courier New',monospace\">[tesseract] Warning:guessing pitch as xheight on row 14, block 7\n",
       "</pre>\n"
      ],
      "text/plain": [
       "[tesseract] Warning:guessing pitch as xheight on row 14, block 7\n"
      ]
     },
     "metadata": {},
     "output_type": "display_data"
    },
    {
     "data": {
      "text/html": [
       "<pre style=\"white-space:pre;overflow-x:auto;line-height:normal;font-family:Menlo,'DejaVu Sans Mono',consolas,'Courier New',monospace\">[tesseract] Warning:guessing pitch as xheight on row 18, block 7\n",
       "</pre>\n"
      ],
      "text/plain": [
       "[tesseract] Warning:guessing pitch as xheight on row 18, block 7\n"
      ]
     },
     "metadata": {},
     "output_type": "display_data"
    },
    {
     "data": {
      "text/html": [
       "<pre style=\"white-space:pre;overflow-x:auto;line-height:normal;font-family:Menlo,'DejaVu Sans Mono',consolas,'Courier New',monospace\">[tesseract] Warning:guessing pitch as xheight on row 20, block 7\n",
       "</pre>\n"
      ],
      "text/plain": [
       "[tesseract] Warning:guessing pitch as xheight on row 20, block 7\n"
      ]
     },
     "metadata": {},
     "output_type": "display_data"
    },
    {
     "data": {
      "text/html": [
       "<pre style=\"white-space:pre;overflow-x:auto;line-height:normal;font-family:Menlo,'DejaVu Sans Mono',consolas,'Courier New',monospace\">[tesseract] Warning:guessing pitch as xheight on row 22, block 7\n",
       "</pre>\n"
      ],
      "text/plain": [
       "[tesseract] Warning:guessing pitch as xheight on row 22, block 7\n"
      ]
     },
     "metadata": {},
     "output_type": "display_data"
    },
    {
     "data": {
      "text/html": [
       "<pre style=\"white-space:pre;overflow-x:auto;line-height:normal;font-family:Menlo,'DejaVu Sans Mono',consolas,'Courier New',monospace\">[tesseract] Warning:guessing pitch as xheight on row 24, block 7\n",
       "</pre>\n"
      ],
      "text/plain": [
       "[tesseract] Warning:guessing pitch as xheight on row 24, block 7\n"
      ]
     },
     "metadata": {},
     "output_type": "display_data"
    },
    {
     "data": {
      "text/html": [
       "<pre style=\"white-space:pre;overflow-x:auto;line-height:normal;font-family:Menlo,'DejaVu Sans Mono',consolas,'Courier New',monospace\">[tesseract] Warning:guessing pitch as xheight on row 25, block 7\n",
       "</pre>\n"
      ],
      "text/plain": [
       "[tesseract] Warning:guessing pitch as xheight on row 25, block 7\n"
      ]
     },
     "metadata": {},
     "output_type": "display_data"
    },
    {
     "data": {
      "text/html": [
       "<pre style=\"white-space:pre;overflow-x:auto;line-height:normal;font-family:Menlo,'DejaVu Sans Mono',consolas,'Courier New',monospace\">[tesseract] Warning:guessing pitch as xheight on row 26, block 7\n",
       "</pre>\n"
      ],
      "text/plain": [
       "[tesseract] Warning:guessing pitch as xheight on row 26, block 7\n"
      ]
     },
     "metadata": {},
     "output_type": "display_data"
    },
    {
     "data": {
      "text/html": [
       "<pre style=\"white-space:pre;overflow-x:auto;line-height:normal;font-family:Menlo,'DejaVu Sans Mono',consolas,'Courier New',monospace\">[tesseract] Warning:guessing pitch as xheight on row 27, block 7\n",
       "</pre>\n"
      ],
      "text/plain": [
       "[tesseract] Warning:guessing pitch as xheight on row 27, block 7\n"
      ]
     },
     "metadata": {},
     "output_type": "display_data"
    },
    {
     "data": {
      "text/html": [
       "<pre style=\"white-space:pre;overflow-x:auto;line-height:normal;font-family:Menlo,'DejaVu Sans Mono',consolas,'Courier New',monospace\">[tesseract] Warning:guessing pitch as xheight on row 28, block 7\n",
       "</pre>\n"
      ],
      "text/plain": [
       "[tesseract] Warning:guessing pitch as xheight on row 28, block 7\n"
      ]
     },
     "metadata": {},
     "output_type": "display_data"
    },
    {
     "data": {
      "text/html": [
       "<pre style=\"white-space:pre;overflow-x:auto;line-height:normal;font-family:Menlo,'DejaVu Sans Mono',consolas,'Courier New',monospace\">[tesseract] Warning:guessing pitch as xheight on row 29, block 7\n",
       "</pre>\n"
      ],
      "text/plain": [
       "[tesseract] Warning:guessing pitch as xheight on row 29, block 7\n"
      ]
     },
     "metadata": {},
     "output_type": "display_data"
    },
    {
     "data": {
      "text/html": [
       "<pre style=\"white-space:pre;overflow-x:auto;line-height:normal;font-family:Menlo,'DejaVu Sans Mono',consolas,'Courier New',monospace\">[tesseract] Warning:guessing pitch as xheight on row 1, block 2\n",
       "</pre>\n"
      ],
      "text/plain": [
       "[tesseract] Warning:guessing pitch as xheight on row 1, block 2\n"
      ]
     },
     "metadata": {},
     "output_type": "display_data"
    },
    {
     "data": {
      "text/html": [
       "<pre style=\"white-space:pre;overflow-x:auto;line-height:normal;font-family:Menlo,'DejaVu Sans Mono',consolas,'Courier New',monospace\">[tesseract] Warning:guessing pitch as xheight on row 1, block 7\n",
       "</pre>\n"
      ],
      "text/plain": [
       "[tesseract] Warning:guessing pitch as xheight on row 1, block 7\n"
      ]
     },
     "metadata": {},
     "output_type": "display_data"
    },
    {
     "data": {
      "text/html": [
       "<pre style=\"white-space:pre;overflow-x:auto;line-height:normal;font-family:Menlo,'DejaVu Sans Mono',consolas,'Courier New',monospace\">[tesseract] Warning:guessing pitch as xheight on row 3, block 7\n",
       "</pre>\n"
      ],
      "text/plain": [
       "[tesseract] Warning:guessing pitch as xheight on row 3, block 7\n"
      ]
     },
     "metadata": {},
     "output_type": "display_data"
    },
    {
     "data": {
      "text/html": [
       "<pre style=\"white-space:pre;overflow-x:auto;line-height:normal;font-family:Menlo,'DejaVu Sans Mono',consolas,'Courier New',monospace\">[tesseract] Warning:guessing pitch as xheight on row 4, block 7\n",
       "</pre>\n"
      ],
      "text/plain": [
       "[tesseract] Warning:guessing pitch as xheight on row 4, block 7\n"
      ]
     },
     "metadata": {},
     "output_type": "display_data"
    },
    {
     "data": {
      "text/html": [
       "<pre style=\"white-space:pre;overflow-x:auto;line-height:normal;font-family:Menlo,'DejaVu Sans Mono',consolas,'Courier New',monospace\">[tesseract] Warning:guessing pitch as xheight on row 2, block 16\n",
       "</pre>\n"
      ],
      "text/plain": [
       "[tesseract] Warning:guessing pitch as xheight on row 2, block 16\n"
      ]
     },
     "metadata": {},
     "output_type": "display_data"
    },
    {
     "data": {
      "text/html": [
       "<pre style=\"white-space:pre;overflow-x:auto;line-height:normal;font-family:Menlo,'DejaVu Sans Mono',consolas,'Courier New',monospace\">[tesseract] Warning:guessing pitch as xheight on row 4, block 16\n",
       "</pre>\n"
      ],
      "text/plain": [
       "[tesseract] Warning:guessing pitch as xheight on row 4, block 16\n"
      ]
     },
     "metadata": {},
     "output_type": "display_data"
    },
    {
     "data": {
      "text/html": [
       "<pre style=\"white-space:pre;overflow-x:auto;line-height:normal;font-family:Menlo,'DejaVu Sans Mono',consolas,'Courier New',monospace\">[tesseract] lots of diacritics - possibly poor OCR\n",
       "</pre>\n"
      ],
      "text/plain": [
       "[tesseract] lots of diacritics - possibly poor OCR\n"
      ]
     },
     "metadata": {},
     "output_type": "display_data"
    },
    {
     "data": {
      "text/html": [
       "<pre style=\"white-space:pre;overflow-x:auto;line-height:normal;font-family:Menlo,'DejaVu Sans Mono',consolas,'Courier New',monospace\"></pre>\n"
      ],
      "text/plain": []
     },
     "metadata": {},
     "output_type": "display_data"
    },
    {
     "data": {
      "application/vnd.jupyter.widget-view+json": {
       "model_id": "0819a16c9dfc4fe68b2b892edc4defb8",
       "version_major": 2,
       "version_minor": 0
      },
      "text/plain": [
       "Output()"
      ]
     },
     "metadata": {},
     "output_type": "display_data"
    },
    {
     "data": {
      "text/html": [
       "<pre style=\"white-space:pre;overflow-x:auto;line-height:normal;font-family:Menlo,'DejaVu Sans Mono',consolas,'Courier New',monospace\"></pre>\n"
      ],
      "text/plain": []
     },
     "metadata": {},
     "output_type": "display_data"
    },
    {
     "data": {
      "application/vnd.jupyter.widget-view+json": {
       "model_id": "9d948842aefb4284b132b2db00655bfe",
       "version_major": 2,
       "version_minor": 0
      },
      "text/plain": [
       "Output()"
      ]
     },
     "metadata": {},
     "output_type": "display_data"
    },
    {
     "data": {
      "text/html": [
       "<pre style=\"white-space:pre;overflow-x:auto;line-height:normal;font-family:Menlo,'DejaVu Sans Mono',consolas,'Courier New',monospace\"></pre>\n"
      ],
      "text/plain": []
     },
     "metadata": {},
     "output_type": "display_data"
    },
    {
     "data": {
      "application/vnd.jupyter.widget-view+json": {
       "model_id": "b02d1bb9459345389f42bf099cebfe2a",
       "version_major": 2,
       "version_minor": 0
      },
      "text/plain": [
       "Output()"
      ]
     },
     "metadata": {},
     "output_type": "display_data"
    },
    {
     "data": {
      "text/html": [
       "<pre style=\"white-space:pre;overflow-x:auto;line-height:normal;font-family:Menlo,'DejaVu Sans Mono',consolas,'Courier New',monospace\"></pre>\n"
      ],
      "text/plain": []
     },
     "metadata": {},
     "output_type": "display_data"
    },
    {
     "data": {
      "application/vnd.jupyter.widget-view+json": {
       "model_id": "f8d170e3a57241a6af94044f7557fdd8",
       "version_major": 2,
       "version_minor": 0
      },
      "text/plain": [
       "Output()"
      ]
     },
     "metadata": {},
     "output_type": "display_data"
    },
    {
     "data": {
      "text/html": [
       "<pre style=\"white-space:pre;overflow-x:auto;line-height:normal;font-family:Menlo,'DejaVu Sans Mono',consolas,'Courier New',monospace\"></pre>\n"
      ],
      "text/plain": []
     },
     "metadata": {},
     "output_type": "display_data"
    },
    {
     "name": "stderr",
     "output_type": "stream",
     "text": [
      "The output file size is 7.29× larger than the input file.\n",
      "Possible reasons for this include:\n",
      "--deskew was issued, causing transcoding.\n",
      "The optional dependency 'jbig2' was not found, so some image optimizations could not be attempted.\n",
      "The optional dependency 'pngquant' was not found, so some image optimizations could not be attempted.\n",
      "\n",
      "INFO - Processed file 369653 with tag E3 - Budget,  Cost Estimates,  Cost Proposal\n",
      "INFO - Added tag E3 to file with hash c1e7d1b7cced015d897afed834d6b32816e384f1\n",
      "INFO - Added tag E to file with hash c1e7d1b7cced015d897afed834d6b32816e384f1\n",
      "INFO - Processing file number 71 of 250: 791235\n",
      "INFO - Found file 791235 at N:\\PPDO\\Records\\49xx   Long Marine Lab\\4932\\4932\\E - Program and Design\\E3 - Budget,  Cost Estimates,  Cost Proposal\\Project Budget Workbooks\\2015 Project Budget Workbooks - Final C Phase UCOP Submittal\\FINAL V1\\CSC FSS Augmentation PBW 2-12-15.xls\n",
      "INFO - Processed file 791235 with tag E3 - Budget,  Cost Estimates,  Cost Proposal\n",
      "INFO - Added tag E3 to file with hash 964d8493b79bed63b4f4e44b1b33e0e3064460e3\n",
      "INFO - Added tag E to file with hash 964d8493b79bed63b4f4e44b1b33e0e3064460e3\n",
      "INFO - Processing file number 72 of 250: 956763\n",
      "INFO - Found file 956763 at N:\\PPDO\\Records\\53xx   Rachel Carson College (8)\\5303\\5303-037 Carson Dining\\E - Program and Design\\E3 - Budget,  Cost Estimates,  Cost Proposal\\P Phase\\UC Santa Cruz Mail - Porter and Rachel Carson Dining Estimates.pdf\n",
      "INFO - Processed file 956763 with tag E3 - Budget,  Cost Estimates,  Cost Proposal\n",
      "INFO - Added tag E3 to file with hash d291a0de6dc326448fab87fb3aea501f20c3c229\n",
      "INFO - Added tag E to file with hash d291a0de6dc326448fab87fb3aea501f20c3c229\n",
      "INFO - Processing file number 73 of 250: 339155\n",
      "INFO - Found file 339155 at N:\\PPDO\\Records\\32xx   Kresge College (College 6)\\3238\\3238\\E - Program and Design\\E3 - Budget,  Cost Estimates,  Cost Proposal\\E3 Cost Estimates\\G 45CD\\VE_SKETCHES\\nVE_thall_mka_notes.pdf\n",
      "INFO - Processed file 339155 with tag E3 - Budget,  Cost Estimates,  Cost Proposal\n",
      "INFO - Added tag E3 to file with hash b345057b87bd0312c2b7378545593d03892fff3f\n",
      "INFO - Added tag E to file with hash b345057b87bd0312c2b7378545593d03892fff3f\n",
      "INFO - Processing file number 74 of 250: 791135\n",
      "INFO - Found file 791135 at N:\\PPDO\\Records\\49xx   Long Marine Lab\\4932\\4932\\E - Program and Design\\E3 - Budget,  Cost Estimates,  Cost Proposal\\Project Budget Workbooks\\Augmentation List 15-01-30.xlsx\n",
      "INFO - Processed file 791135 with tag E3 - Budget,  Cost Estimates,  Cost Proposal\n",
      "INFO - Added tag E3 to file with hash dc3073a23119164a80a7b894573bea4dcddfa5cf\n",
      "INFO - Added tag E to file with hash dc3073a23119164a80a7b894573bea4dcddfa5cf\n",
      "INFO - Processing file number 75 of 250: 956326\n",
      "INFO - Found file 956326 at N:\\PPDO\\Records\\91xx   Charging & Fueling Stations\\9100\\9100-001\\E - Program and Design\\E3 - Budget,  Cost Estimates,  Cost Proposal\\Work Order Estimate Fill Station Install.pdf\n"
     ]
    },
    {
     "data": {
      "application/vnd.jupyter.widget-view+json": {
       "model_id": "c14a08bd54f144eab2341e590630635e",
       "version_major": 2,
       "version_minor": 0
      },
      "text/plain": [
       "Output()"
      ]
     },
     "metadata": {},
     "output_type": "display_data"
    },
    {
     "data": {
      "text/html": [
       "<pre style=\"white-space:pre;overflow-x:auto;line-height:normal;font-family:Menlo,'DejaVu Sans Mono',consolas,'Courier New',monospace\"></pre>\n"
      ],
      "text/plain": []
     },
     "metadata": {},
     "output_type": "display_data"
    },
    {
     "data": {
      "application/vnd.jupyter.widget-view+json": {
       "model_id": "37d62a0a3528404d8185da9708c1b092",
       "version_major": 2,
       "version_minor": 0
      },
      "text/plain": [
       "Output()"
      ]
     },
     "metadata": {},
     "output_type": "display_data"
    },
    {
     "data": {
      "text/html": [
       "<pre style=\"white-space:pre;overflow-x:auto;line-height:normal;font-family:Menlo,'DejaVu Sans Mono',consolas,'Courier New',monospace\"></pre>\n"
      ],
      "text/plain": []
     },
     "metadata": {},
     "output_type": "display_data"
    },
    {
     "data": {
      "application/vnd.jupyter.widget-view+json": {
       "model_id": "d5a10a0dc8a14180adce05ef463e827b",
       "version_major": 2,
       "version_minor": 0
      },
      "text/plain": [
       "Output()"
      ]
     },
     "metadata": {},
     "output_type": "display_data"
    },
    {
     "data": {
      "text/html": [
       "<pre style=\"white-space:pre;overflow-x:auto;line-height:normal;font-family:Menlo,'DejaVu Sans Mono',consolas,'Courier New',monospace\"></pre>\n"
      ],
      "text/plain": []
     },
     "metadata": {},
     "output_type": "display_data"
    },
    {
     "data": {
      "application/vnd.jupyter.widget-view+json": {
       "model_id": "7ee05902782b473595e8200450b9dd7f",
       "version_major": 2,
       "version_minor": 0
      },
      "text/plain": [
       "Output()"
      ]
     },
     "metadata": {},
     "output_type": "display_data"
    },
    {
     "data": {
      "text/html": [
       "<pre style=\"white-space:pre;overflow-x:auto;line-height:normal;font-family:Menlo,'DejaVu Sans Mono',consolas,'Courier New',monospace\"></pre>\n"
      ],
      "text/plain": []
     },
     "metadata": {},
     "output_type": "display_data"
    },
    {
     "data": {
      "application/vnd.jupyter.widget-view+json": {
       "model_id": "0b1844e5912348a1b70889154c783265",
       "version_major": 2,
       "version_minor": 0
      },
      "text/plain": [
       "Output()"
      ]
     },
     "metadata": {},
     "output_type": "display_data"
    },
    {
     "data": {
      "text/html": [
       "<pre style=\"white-space:pre;overflow-x:auto;line-height:normal;font-family:Menlo,'DejaVu Sans Mono',consolas,'Courier New',monospace\"></pre>\n"
      ],
      "text/plain": []
     },
     "metadata": {},
     "output_type": "display_data"
    },
    {
     "data": {
      "application/vnd.jupyter.widget-view+json": {
       "model_id": "715fc4306d3548b280c5b8aae400f12e",
       "version_major": 2,
       "version_minor": 0
      },
      "text/plain": [
       "Output()"
      ]
     },
     "metadata": {},
     "output_type": "display_data"
    },
    {
     "data": {
      "text/html": [
       "<pre style=\"white-space:pre;overflow-x:auto;line-height:normal;font-family:Menlo,'DejaVu Sans Mono',consolas,'Courier New',monospace\"></pre>\n"
      ],
      "text/plain": []
     },
     "metadata": {},
     "output_type": "display_data"
    },
    {
     "name": "stderr",
     "output_type": "stream",
     "text": [
      "INFO - Processed file 956326 with tag E3 - Budget,  Cost Estimates,  Cost Proposal\n",
      "INFO - Added tag E3 to file with hash 44ab14a58ee99ed54676f92c7b85557867beecc2\n",
      "INFO - Added tag E to file with hash 44ab14a58ee99ed54676f92c7b85557867beecc2\n",
      "INFO - Processing file number 76 of 250: 741529\n",
      "INFO - Found file 741529 at N:\\PPDO\\Records\\40xx   Sinsheimer Labs (Natural Sciences Unit 3)\\4000\\4000-016\\E - Program and Design\\E3 - Budget,  Cost Estimates,  Cost Proposal\\4000-016.E3.4000-016 WO00390187 Sins Lab Compressor Accounting 11.29.16.xlsx\n",
      "INFO - Processed file 741529 with tag E3 - Budget,  Cost Estimates,  Cost Proposal\n",
      "INFO - Added tag E3 to file with hash 0958c06e14d7e8dea57fa42f380ed020efac9a35\n",
      "INFO - Added tag E to file with hash 0958c06e14d7e8dea57fa42f380ed020efac9a35\n",
      "INFO - Processing file number 77 of 250: 805341\n",
      "INFO - Found file 805341 at N:\\PPDO\\Records\\68xx   East Campus Infill\\6801\\6801\\E- Program and Design\\E3 - Budget,  Cost Estimates,  Cost Proposal\\Wood Framed Estimates\\DL -  Wood Framed Estimate A-B 5 Floors.pdf\n",
      "INFO - Processed file 805341 with tag E3 - Budget,  Cost Estimates,  Cost Proposal\n",
      "INFO - Added tag E3 to file with hash 01fd85d51ec07d1a1f13d6e6bb619f4f2b642ab0\n",
      "INFO - Added tag E to file with hash 01fd85d51ec07d1a1f13d6e6bb619f4f2b642ab0\n",
      "INFO - Processing file number 78 of 250: 11889\n",
      "INFO - Found file 11889 at N:\\PPDO\\Records\\60xx   Science Library\\6005 SE Lib Reno\\6005-003 1st Floor Renovation\\E - Program and Design\\E3 - Budget,  Cost Estimates,  Cost Proposal\\Project Summary\\SEL1 Project Budget Workbook_2020-06(AutoRecovered).xls\n",
      "INFO - Processed file 11889 with tag E3 - Budget,  Cost Estimates,  Cost Proposal\n",
      "INFO - Added tag E3 to file with hash 191f38fa1b73de844eef2d28b8ae880b290722fb\n",
      "INFO - Added tag E to file with hash 191f38fa1b73de844eef2d28b8ae880b290722fb\n",
      "INFO - Processing file number 79 of 250: 978232\n",
      "INFO - Found file 978232 at N:\\PPDO\\Records\\30xx   Porter College (College 5)\\3002\\3002-110\\E - Program and Design\\E3 - Budget,  Cost Estimates,  Cost Proposal\\Cowell Dorm Handrail ws.xls\n",
      "INFO - Processed file 978232 with tag E3 - Budget,  Cost Estimates,  Cost Proposal\n",
      "INFO - Added tag E3 to file with hash df95a18d094cf766cddd15b8d14d18a6a0a9f681\n",
      "INFO - Added tag E to file with hash df95a18d094cf766cddd15b8d14d18a6a0a9f681\n",
      "INFO - Processing file number 80 of 250: 791181\n",
      "INFO - Found file 791181 at N:\\PPDO\\Records\\49xx   Long Marine Lab\\4932\\4932\\E - Program and Design\\E3 - Budget,  Cost Estimates,  Cost Proposal\\Project Budget Workbooks\\2014 Project Budget Workbooks - Final W1 Phase UCOP Submittal\\Process Docs\\V1\\UCOP W Phase MSC Infra.xls\n",
      "INFO - Processed file 791181 with tag E3 - Budget,  Cost Estimates,  Cost Proposal\n",
      "INFO - Added tag E3 to file with hash ab5031bdaa934f564980fe66ea629f8d7560f138\n",
      "INFO - Added tag E to file with hash ab5031bdaa934f564980fe66ea629f8d7560f138\n",
      "INFO - Processing file number 81 of 250: 832147\n",
      "INFO - Found file 832147 at N:\\PPDO\\Records\\100xx  Multiple Locations\\10057\\10057\\E - Program and Design\\E3 - Budget,  Cost Estimates,  Cost Proposal\\File 10057.E3. DD Cost Check.pdf\n"
     ]
    },
    {
     "data": {
      "application/vnd.jupyter.widget-view+json": {
       "model_id": "6eeab075f491413eaaad4e99f5c7834a",
       "version_major": 2,
       "version_minor": 0
      },
      "text/plain": [
       "Output()"
      ]
     },
     "metadata": {},
     "output_type": "display_data"
    },
    {
     "data": {
      "text/html": [
       "<pre style=\"white-space:pre;overflow-x:auto;line-height:normal;font-family:Menlo,'DejaVu Sans Mono',consolas,'Courier New',monospace\"></pre>\n"
      ],
      "text/plain": []
     },
     "metadata": {},
     "output_type": "display_data"
    },
    {
     "data": {
      "application/vnd.jupyter.widget-view+json": {
       "model_id": "393c7118be5b4ea28b56d14860e90159",
       "version_major": 2,
       "version_minor": 0
      },
      "text/plain": [
       "Output()"
      ]
     },
     "metadata": {},
     "output_type": "display_data"
    },
    {
     "data": {
      "text/html": [
       "<pre style=\"white-space:pre;overflow-x:auto;line-height:normal;font-family:Menlo,'DejaVu Sans Mono',consolas,'Courier New',monospace\"></pre>\n"
      ],
      "text/plain": []
     },
     "metadata": {},
     "output_type": "display_data"
    },
    {
     "data": {
      "application/vnd.jupyter.widget-view+json": {
       "model_id": "f61c67165b394a5d8325faff2eadcfaa",
       "version_major": 2,
       "version_minor": 0
      },
      "text/plain": [
       "Output()"
      ]
     },
     "metadata": {},
     "output_type": "display_data"
    },
    {
     "data": {
      "text/html": [
       "<pre style=\"white-space:pre;overflow-x:auto;line-height:normal;font-family:Menlo,'DejaVu Sans Mono',consolas,'Courier New',monospace\"></pre>\n"
      ],
      "text/plain": []
     },
     "metadata": {},
     "output_type": "display_data"
    },
    {
     "data": {
      "application/vnd.jupyter.widget-view+json": {
       "model_id": "c8c04301c8914004a912df7951a89f2c",
       "version_major": 2,
       "version_minor": 0
      },
      "text/plain": [
       "Output()"
      ]
     },
     "metadata": {},
     "output_type": "display_data"
    },
    {
     "data": {
      "text/html": [
       "<pre style=\"white-space:pre;overflow-x:auto;line-height:normal;font-family:Menlo,'DejaVu Sans Mono',consolas,'Courier New',monospace\"></pre>\n"
      ],
      "text/plain": []
     },
     "metadata": {},
     "output_type": "display_data"
    },
    {
     "data": {
      "application/vnd.jupyter.widget-view+json": {
       "model_id": "dabcb8b50b0c496d82bd30877b730fbe",
       "version_major": 2,
       "version_minor": 0
      },
      "text/plain": [
       "Output()"
      ]
     },
     "metadata": {},
     "output_type": "display_data"
    },
    {
     "data": {
      "text/html": [
       "<pre style=\"white-space:pre;overflow-x:auto;line-height:normal;font-family:Menlo,'DejaVu Sans Mono',consolas,'Courier New',monospace\"></pre>\n"
      ],
      "text/plain": []
     },
     "metadata": {},
     "output_type": "display_data"
    },
    {
     "data": {
      "application/vnd.jupyter.widget-view+json": {
       "model_id": "d1d28bc3d2004b768e5d3fa532aeabb3",
       "version_major": 2,
       "version_minor": 0
      },
      "text/plain": [
       "Output()"
      ]
     },
     "metadata": {},
     "output_type": "display_data"
    },
    {
     "data": {
      "text/html": [
       "<pre style=\"white-space:pre;overflow-x:auto;line-height:normal;font-family:Menlo,'DejaVu Sans Mono',consolas,'Courier New',monospace\"></pre>\n"
      ],
      "text/plain": []
     },
     "metadata": {},
     "output_type": "display_data"
    },
    {
     "name": "stderr",
     "output_type": "stream",
     "text": [
      "The output file size is 5.08× larger than the input file.\n",
      "Possible reasons for this include:\n",
      "--deskew was issued, causing transcoding.\n",
      "The optional dependency 'jbig2' was not found, so some image optimizations could not be attempted.\n",
      "The optional dependency 'pngquant' was not found, so some image optimizations could not be attempted.\n",
      "\n",
      "INFO - Processed file 832147 with tag E3 - Budget,  Cost Estimates,  Cost Proposal\n",
      "INFO - Added tag E3 to file with hash 1b70ad0ca6deab1f98f6a8d5b81aad892500832e\n",
      "INFO - Added tag E to file with hash 1b70ad0ca6deab1f98f6a8d5b81aad892500832e\n",
      "INFO - Processing file number 82 of 250: 741139\n",
      "INFO - Found file 741139 at N:\\PPDO\\Records\\27xx   Applied Sciences Baskin Engineering\\2700\\2700-134\\E - Program and Design\\E3 - Budget,  Cost Estimates,  Cost Proposal\\2700-134.E3.EMS Trench Drain Shawn.docx\n",
      "INFO - Processed file 741139 with tag E3 - Budget,  Cost Estimates,  Cost Proposal\n",
      "INFO - Added tag E3 to file with hash 61bc30046ec74fcb90ddd7d29f681040c5f01eed\n",
      "INFO - Added tag E to file with hash 61bc30046ec74fcb90ddd7d29f681040c5f01eed\n",
      "INFO - Processing file number 83 of 250: 588235\n",
      "INFO - Found file 588235 at N:\\PPDO\\Records\\89xx   Campus Roads\\8930\\8930-001\\DOC\\E3 - Budget,  Cost Estimates,  Cost Proposal\\File 8930-001 E3 MTM Truck and Tractor Bid for Quarry Amphitheatre 10.02.01.pdf\n",
      "INFO - Processed file 588235 with tag E3 - Budget,  Cost Estimates,  Cost Proposal\n",
      "INFO - Added tag E3 to file with hash ceafafaaf88923bf31ac25a7bb20bce762d27a6d\n",
      "INFO - Added tag E to file with hash ceafafaaf88923bf31ac25a7bb20bce762d27a6d\n",
      "INFO - Processing file number 84 of 250: 541606\n",
      "WARNING - File 541606 not found at N:\\PPDO\\Records\\65xx   Early Childhood Education Center\\6501\\DOCS\\E3 - Budget,  Cost Estimates,  Cost Proposal\\12-10-01 Adamson Estimate\n",
      "WARNING - No valid file found for 541606\n",
      "INFO - Processing file number 85 of 250: 574084\n",
      "INFO - Found file 574084 at N:\\PPDO\\Records\\76xx   Emergency Response Center\\7602\\E3 - Budget,  Cost Estimates,  Cost Proposal\\File 7602.E3 Approved Project Summary.pdf\n",
      "INFO - Processed file 574084 with tag E3 - Budget,  Cost Estimates,  Cost Proposal\n",
      "INFO - Added tag E3 to file with hash ed1080bed968d540b63fb5cc9d29d2bf930a801d\n",
      "INFO - Added tag E to file with hash ed1080bed968d540b63fb5cc9d29d2bf930a801d\n",
      "INFO - Processing file number 86 of 250: 734411\n",
      "INFO - Found file 734411 at N:\\PPDO\\Records\\25xx   Natural Sciences Unit 2\\2513\\2513\\E - Program and Design\\E3 - Budget,  Cost Estimates,  Cost Proposal\\2513.E3. Memo with November GL errors.pdf\n"
     ]
    },
    {
     "data": {
      "application/vnd.jupyter.widget-view+json": {
       "model_id": "4415f39cccf249589787ecd7a4374d07",
       "version_major": 2,
       "version_minor": 0
      },
      "text/plain": [
       "Output()"
      ]
     },
     "metadata": {},
     "output_type": "display_data"
    },
    {
     "data": {
      "text/html": [
       "<pre style=\"white-space:pre;overflow-x:auto;line-height:normal;font-family:Menlo,'DejaVu Sans Mono',consolas,'Courier New',monospace\"></pre>\n"
      ],
      "text/plain": []
     },
     "metadata": {},
     "output_type": "display_data"
    },
    {
     "data": {
      "application/vnd.jupyter.widget-view+json": {
       "model_id": "5c919da3e4ee41de9768955da3dceb32",
       "version_major": 2,
       "version_minor": 0
      },
      "text/plain": [
       "Output()"
      ]
     },
     "metadata": {},
     "output_type": "display_data"
    },
    {
     "data": {
      "text/html": [
       "<pre style=\"white-space:pre;overflow-x:auto;line-height:normal;font-family:Menlo,'DejaVu Sans Mono',consolas,'Courier New',monospace\">[tesseract] lots of diacritics - possibly poor OCR\n",
       "</pre>\n"
      ],
      "text/plain": [
       "[tesseract] lots of diacritics - possibly poor OCR\n"
      ]
     },
     "metadata": {},
     "output_type": "display_data"
    },
    {
     "data": {
      "text/html": [
       "<pre style=\"white-space:pre;overflow-x:auto;line-height:normal;font-family:Menlo,'DejaVu Sans Mono',consolas,'Courier New',monospace\"></pre>\n"
      ],
      "text/plain": []
     },
     "metadata": {},
     "output_type": "display_data"
    },
    {
     "data": {
      "application/vnd.jupyter.widget-view+json": {
       "model_id": "6ce8dbbc0a07456e9a1a4a0d9565ce76",
       "version_major": 2,
       "version_minor": 0
      },
      "text/plain": [
       "Output()"
      ]
     },
     "metadata": {},
     "output_type": "display_data"
    },
    {
     "data": {
      "text/html": [
       "<pre style=\"white-space:pre;overflow-x:auto;line-height:normal;font-family:Menlo,'DejaVu Sans Mono',consolas,'Courier New',monospace\"></pre>\n"
      ],
      "text/plain": []
     },
     "metadata": {},
     "output_type": "display_data"
    },
    {
     "data": {
      "application/vnd.jupyter.widget-view+json": {
       "model_id": "829bbac39f344445acc783a32228c8dd",
       "version_major": 2,
       "version_minor": 0
      },
      "text/plain": [
       "Output()"
      ]
     },
     "metadata": {},
     "output_type": "display_data"
    },
    {
     "data": {
      "text/html": [
       "<pre style=\"white-space:pre;overflow-x:auto;line-height:normal;font-family:Menlo,'DejaVu Sans Mono',consolas,'Courier New',monospace\"></pre>\n"
      ],
      "text/plain": []
     },
     "metadata": {},
     "output_type": "display_data"
    },
    {
     "data": {
      "application/vnd.jupyter.widget-view+json": {
       "model_id": "63795a4b6c4f4f9195d521a5e5942eb6",
       "version_major": 2,
       "version_minor": 0
      },
      "text/plain": [
       "Output()"
      ]
     },
     "metadata": {},
     "output_type": "display_data"
    },
    {
     "data": {
      "text/html": [
       "<pre style=\"white-space:pre;overflow-x:auto;line-height:normal;font-family:Menlo,'DejaVu Sans Mono',consolas,'Courier New',monospace\"></pre>\n"
      ],
      "text/plain": []
     },
     "metadata": {},
     "output_type": "display_data"
    },
    {
     "data": {
      "application/vnd.jupyter.widget-view+json": {
       "model_id": "2999262b912b43b7a53d73dda3983434",
       "version_major": 2,
       "version_minor": 0
      },
      "text/plain": [
       "Output()"
      ]
     },
     "metadata": {},
     "output_type": "display_data"
    },
    {
     "data": {
      "text/html": [
       "<pre style=\"white-space:pre;overflow-x:auto;line-height:normal;font-family:Menlo,'DejaVu Sans Mono',consolas,'Courier New',monospace\"></pre>\n"
      ],
      "text/plain": []
     },
     "metadata": {},
     "output_type": "display_data"
    },
    {
     "name": "stderr",
     "output_type": "stream",
     "text": [
      "INFO - Processed file 734411 with tag E3 - Budget,  Cost Estimates,  Cost Proposal\n",
      "INFO - Added tag E3 to file with hash b9a86f30bb0ff1e8601aec536889360255e3f769\n",
      "INFO - Added tag E to file with hash b9a86f30bb0ff1e8601aec536889360255e3f769\n",
      "INFO - Processing file number 87 of 250: 362833\n",
      "INFO - Found file 362833 at N:\\PPDO\\Records\\36xx   Student Facilities\\3600\\3600-004\\DOCS\\E3 - Budget,  Cost Estimates,  Cost Proposal\\File 3600-004 Work Order Estimate Western Design.pdf\n"
     ]
    },
    {
     "data": {
      "application/vnd.jupyter.widget-view+json": {
       "model_id": "2d34e73968474fc6a0c231d22a637124",
       "version_major": 2,
       "version_minor": 0
      },
      "text/plain": [
       "Output()"
      ]
     },
     "metadata": {},
     "output_type": "display_data"
    },
    {
     "data": {
      "text/html": [
       "<pre style=\"white-space:pre;overflow-x:auto;line-height:normal;font-family:Menlo,'DejaVu Sans Mono',consolas,'Courier New',monospace\"></pre>\n"
      ],
      "text/plain": []
     },
     "metadata": {},
     "output_type": "display_data"
    },
    {
     "data": {
      "application/vnd.jupyter.widget-view+json": {
       "model_id": "d391b0eb871f4d6ab0a362c2e44c1f5e",
       "version_major": 2,
       "version_minor": 0
      },
      "text/plain": [
       "Output()"
      ]
     },
     "metadata": {},
     "output_type": "display_data"
    },
    {
     "data": {
      "text/html": [
       "<pre style=\"white-space:pre;overflow-x:auto;line-height:normal;font-family:Menlo,'DejaVu Sans Mono',consolas,'Courier New',monospace\"></pre>\n"
      ],
      "text/plain": []
     },
     "metadata": {},
     "output_type": "display_data"
    },
    {
     "data": {
      "application/vnd.jupyter.widget-view+json": {
       "model_id": "f29b21380aa64df9b99e3469425eb978",
       "version_major": 2,
       "version_minor": 0
      },
      "text/plain": [
       "Output()"
      ]
     },
     "metadata": {},
     "output_type": "display_data"
    },
    {
     "data": {
      "text/html": [
       "<pre style=\"white-space:pre;overflow-x:auto;line-height:normal;font-family:Menlo,'DejaVu Sans Mono',consolas,'Courier New',monospace\"></pre>\n"
      ],
      "text/plain": []
     },
     "metadata": {},
     "output_type": "display_data"
    },
    {
     "data": {
      "application/vnd.jupyter.widget-view+json": {
       "model_id": "26226bea40924e04b6128ff808fe7cd8",
       "version_major": 2,
       "version_minor": 0
      },
      "text/plain": [
       "Output()"
      ]
     },
     "metadata": {},
     "output_type": "display_data"
    },
    {
     "data": {
      "text/html": [
       "<pre style=\"white-space:pre;overflow-x:auto;line-height:normal;font-family:Menlo,'DejaVu Sans Mono',consolas,'Courier New',monospace\"></pre>\n"
      ],
      "text/plain": []
     },
     "metadata": {},
     "output_type": "display_data"
    },
    {
     "data": {
      "application/vnd.jupyter.widget-view+json": {
       "model_id": "2f56bea932564d56a056b6f62583e51f",
       "version_major": 2,
       "version_minor": 0
      },
      "text/plain": [
       "Output()"
      ]
     },
     "metadata": {},
     "output_type": "display_data"
    },
    {
     "data": {
      "text/html": [
       "<pre style=\"white-space:pre;overflow-x:auto;line-height:normal;font-family:Menlo,'DejaVu Sans Mono',consolas,'Courier New',monospace\"></pre>\n"
      ],
      "text/plain": []
     },
     "metadata": {},
     "output_type": "display_data"
    },
    {
     "data": {
      "application/vnd.jupyter.widget-view+json": {
       "model_id": "d03b99273ffc49d0871853e1073c0ea2",
       "version_major": 2,
       "version_minor": 0
      },
      "text/plain": [
       "Output()"
      ]
     },
     "metadata": {},
     "output_type": "display_data"
    },
    {
     "data": {
      "text/html": [
       "<pre style=\"white-space:pre;overflow-x:auto;line-height:normal;font-family:Menlo,'DejaVu Sans Mono',consolas,'Courier New',monospace\"></pre>\n"
      ],
      "text/plain": []
     },
     "metadata": {},
     "output_type": "display_data"
    },
    {
     "name": "stderr",
     "output_type": "stream",
     "text": [
      "The output file size is 1.58× larger than the input file.\n",
      "Possible reasons for this include:\n",
      "--deskew was issued, causing transcoding.\n",
      "The optional dependency 'jbig2' was not found, so some image optimizations could not be attempted.\n",
      "The optional dependency 'pngquant' was not found, so some image optimizations could not be attempted.\n",
      "\n",
      "INFO - Processed file 362833 with tag E3 - Budget,  Cost Estimates,  Cost Proposal\n",
      "INFO - Added tag E3 to file with hash d120bcda07f6aae4c8943cf4c081fdf8ba50b970\n",
      "INFO - Added tag E to file with hash d120bcda07f6aae4c8943cf4c081fdf8ba50b970\n",
      "INFO - Processing file number 88 of 250: 792483\n",
      "INFO - Found file 792483 at N:\\PPDO\\Records\\52xx   Earth Marine Science Building\\5200\\5200\\E3 - Budget,  Cost Estimates,  Cost Proposal\\5200.E3.Opinion of Probable Cost Construction Document Stage.pdf\n"
     ]
    },
    {
     "data": {
      "application/vnd.jupyter.widget-view+json": {
       "model_id": "7194dd93803a499cbde93d08594024ad",
       "version_major": 2,
       "version_minor": 0
      },
      "text/plain": [
       "Output()"
      ]
     },
     "metadata": {},
     "output_type": "display_data"
    },
    {
     "data": {
      "text/html": [
       "<pre style=\"white-space:pre;overflow-x:auto;line-height:normal;font-family:Menlo,'DejaVu Sans Mono',consolas,'Courier New',monospace\"></pre>\n"
      ],
      "text/plain": []
     },
     "metadata": {},
     "output_type": "display_data"
    },
    {
     "data": {
      "application/vnd.jupyter.widget-view+json": {
       "model_id": "c911f0a381f940a4add3217fd959bdd1",
       "version_major": 2,
       "version_minor": 0
      },
      "text/plain": [
       "Output()"
      ]
     },
     "metadata": {},
     "output_type": "display_data"
    },
    {
     "data": {
      "text/html": [
       "<pre style=\"white-space:pre;overflow-x:auto;line-height:normal;font-family:Menlo,'DejaVu Sans Mono',consolas,'Courier New',monospace\"></pre>\n"
      ],
      "text/plain": []
     },
     "metadata": {},
     "output_type": "display_data"
    },
    {
     "data": {
      "application/vnd.jupyter.widget-view+json": {
       "model_id": "39b8ec0703524cc6b48640631f095b7f",
       "version_major": 2,
       "version_minor": 0
      },
      "text/plain": [
       "Output()"
      ]
     },
     "metadata": {},
     "output_type": "display_data"
    },
    {
     "data": {
      "text/html": [
       "<pre style=\"white-space:pre;overflow-x:auto;line-height:normal;font-family:Menlo,'DejaVu Sans Mono',consolas,'Courier New',monospace\"></pre>\n"
      ],
      "text/plain": []
     },
     "metadata": {},
     "output_type": "display_data"
    },
    {
     "data": {
      "application/vnd.jupyter.widget-view+json": {
       "model_id": "e115c8099e3549fdb75faa7e7e18dea8",
       "version_major": 2,
       "version_minor": 0
      },
      "text/plain": [
       "Output()"
      ]
     },
     "metadata": {},
     "output_type": "display_data"
    },
    {
     "data": {
      "text/html": [
       "<pre style=\"white-space:pre;overflow-x:auto;line-height:normal;font-family:Menlo,'DejaVu Sans Mono',consolas,'Courier New',monospace\"></pre>\n"
      ],
      "text/plain": []
     },
     "metadata": {},
     "output_type": "display_data"
    },
    {
     "data": {
      "application/vnd.jupyter.widget-view+json": {
       "model_id": "ca60118b3bcf466984bd40481af3dc7e",
       "version_major": 2,
       "version_minor": 0
      },
      "text/plain": [
       "Output()"
      ]
     },
     "metadata": {},
     "output_type": "display_data"
    },
    {
     "data": {
      "text/html": [
       "<pre style=\"white-space:pre;overflow-x:auto;line-height:normal;font-family:Menlo,'DejaVu Sans Mono',consolas,'Courier New',monospace\"></pre>\n"
      ],
      "text/plain": []
     },
     "metadata": {},
     "output_type": "display_data"
    },
    {
     "data": {
      "application/vnd.jupyter.widget-view+json": {
       "model_id": "b7a4f160b43a4514921c175a2b2d93c7",
       "version_major": 2,
       "version_minor": 0
      },
      "text/plain": [
       "Output()"
      ]
     },
     "metadata": {},
     "output_type": "display_data"
    },
    {
     "data": {
      "text/html": [
       "<pre style=\"white-space:pre;overflow-x:auto;line-height:normal;font-family:Menlo,'DejaVu Sans Mono',consolas,'Courier New',monospace\"></pre>\n"
      ],
      "text/plain": []
     },
     "metadata": {},
     "output_type": "display_data"
    },
    {
     "name": "stderr",
     "output_type": "stream",
     "text": [
      "The output file size is 4.69× larger than the input file.\n",
      "Possible reasons for this include:\n",
      "--deskew was issued, causing transcoding.\n",
      "The optional dependency 'jbig2' was not found, so some image optimizations could not be attempted.\n",
      "The optional dependency 'pngquant' was not found, so some image optimizations could not be attempted.\n",
      "\n",
      "INFO - Processed file 792483 with tag E3 - Budget,  Cost Estimates,  Cost Proposal\n",
      "INFO - Added tag E3 to file with hash 9210105c08af2d0ccf358714163f3ee86c21a045\n",
      "INFO - Added tag E to file with hash 9210105c08af2d0ccf358714163f3ee86c21a045\n",
      "INFO - Processing file number 89 of 250: 214898\n",
      "WARNING - File 214898 not found at N:\\PPDO\\Records\\21xx   Central Heating Plant (Fackler Cogeneration)\\2113\\2113\\E - Program and Design\\E3 - Budget,  Cost Estimates,  Cost Proposal\\BOE 95% Review Set R1 .pdf\n",
      "WARNING - No valid file found for 214898\n",
      "INFO - Processing file number 90 of 250: 962571\n",
      "INFO - Found file 962571 at N:\\PPDO\\Records\\83xx   Physical Education Facility\\8317\\8317-007\\E - Program and Design\\E3 - Budget,  Cost Estimates,  Cost Proposal\\Estimate Summary Sheet 11.23.99.pdf\n"
     ]
    },
    {
     "data": {
      "application/vnd.jupyter.widget-view+json": {
       "model_id": "26a83748fe5b478dad43f88c1f1ccaeb",
       "version_major": 2,
       "version_minor": 0
      },
      "text/plain": [
       "Output()"
      ]
     },
     "metadata": {},
     "output_type": "display_data"
    },
    {
     "data": {
      "text/html": [
       "<pre style=\"white-space:pre;overflow-x:auto;line-height:normal;font-family:Menlo,'DejaVu Sans Mono',consolas,'Courier New',monospace\"></pre>\n"
      ],
      "text/plain": []
     },
     "metadata": {},
     "output_type": "display_data"
    },
    {
     "data": {
      "application/vnd.jupyter.widget-view+json": {
       "model_id": "01c9672f4ba64e2584ed6325568c5496",
       "version_major": 2,
       "version_minor": 0
      },
      "text/plain": [
       "Output()"
      ]
     },
     "metadata": {},
     "output_type": "display_data"
    },
    {
     "data": {
      "text/html": [
       "<pre style=\"white-space:pre;overflow-x:auto;line-height:normal;font-family:Menlo,'DejaVu Sans Mono',consolas,'Courier New',monospace\"></pre>\n"
      ],
      "text/plain": []
     },
     "metadata": {},
     "output_type": "display_data"
    },
    {
     "data": {
      "application/vnd.jupyter.widget-view+json": {
       "model_id": "86663dfaaf8444c2aead6802625123fc",
       "version_major": 2,
       "version_minor": 0
      },
      "text/plain": [
       "Output()"
      ]
     },
     "metadata": {},
     "output_type": "display_data"
    },
    {
     "data": {
      "text/html": [
       "<pre style=\"white-space:pre;overflow-x:auto;line-height:normal;font-family:Menlo,'DejaVu Sans Mono',consolas,'Courier New',monospace\"></pre>\n"
      ],
      "text/plain": []
     },
     "metadata": {},
     "output_type": "display_data"
    },
    {
     "data": {
      "application/vnd.jupyter.widget-view+json": {
       "model_id": "1280c60fc3174094bbde91f4c9771b9f",
       "version_major": 2,
       "version_minor": 0
      },
      "text/plain": [
       "Output()"
      ]
     },
     "metadata": {},
     "output_type": "display_data"
    },
    {
     "data": {
      "text/html": [
       "<pre style=\"white-space:pre;overflow-x:auto;line-height:normal;font-family:Menlo,'DejaVu Sans Mono',consolas,'Courier New',monospace\"></pre>\n"
      ],
      "text/plain": []
     },
     "metadata": {},
     "output_type": "display_data"
    },
    {
     "data": {
      "application/vnd.jupyter.widget-view+json": {
       "model_id": "e9897570d4514fedaec464f427e61f75",
       "version_major": 2,
       "version_minor": 0
      },
      "text/plain": [
       "Output()"
      ]
     },
     "metadata": {},
     "output_type": "display_data"
    },
    {
     "data": {
      "text/html": [
       "<pre style=\"white-space:pre;overflow-x:auto;line-height:normal;font-family:Menlo,'DejaVu Sans Mono',consolas,'Courier New',monospace\"></pre>\n"
      ],
      "text/plain": []
     },
     "metadata": {},
     "output_type": "display_data"
    },
    {
     "data": {
      "application/vnd.jupyter.widget-view+json": {
       "model_id": "9be2d98dbf964dbaa76eb1af56f584fe",
       "version_major": 2,
       "version_minor": 0
      },
      "text/plain": [
       "Output()"
      ]
     },
     "metadata": {},
     "output_type": "display_data"
    },
    {
     "data": {
      "text/html": [
       "<pre style=\"white-space:pre;overflow-x:auto;line-height:normal;font-family:Menlo,'DejaVu Sans Mono',consolas,'Courier New',monospace\"></pre>\n"
      ],
      "text/plain": []
     },
     "metadata": {},
     "output_type": "display_data"
    },
    {
     "name": "stderr",
     "output_type": "stream",
     "text": [
      "INFO - Processed file 962571 with tag E3 - Budget,  Cost Estimates,  Cost Proposal\n",
      "INFO - Added tag E3 to file with hash ec6c67791b446bad2e8bea0ea1a87c5c56b4c8f9\n",
      "INFO - Added tag E to file with hash ec6c67791b446bad2e8bea0ea1a87c5c56b4c8f9\n",
      "INFO - Processing file number 91 of 250: 791348\n",
      "INFO - Found file 791348 at N:\\PPDO\\Records\\49xx   Long Marine Lab\\4932\\4932\\E - Program and Design\\E3 - Budget,  Cost Estimates,  Cost Proposal\\Project Budget Workbooks\\Pre-2013 Budget\\CBB Actual vs 7-15-10 probable - 9-9-10.pdf\n",
      "INFO - Processed file 791348 with tag E3 - Budget,  Cost Estimates,  Cost Proposal\n",
      "INFO - Added tag E3 to file with hash 8dd369b28719ab0b89bb5ffe0f8e29da1325fd10\n",
      "INFO - Added tag E to file with hash 8dd369b28719ab0b89bb5ffe0f8e29da1325fd10\n",
      "INFO - Processing file number 92 of 250: 587035\n",
      "INFO - Found file 587035 at N:\\PPDO\\Records\\89xx   Campus Roads\\8900\\8900-069\\E - Program and Design\\E3 - Budget,  Cost Estimates,  Cost Proposal\\8900-069.E3.FPR Form WO00399369.pdf\n",
      "INFO - Processed file 587035 with tag E3 - Budget,  Cost Estimates,  Cost Proposal\n",
      "INFO - Added tag E3 to file with hash 56c634b634ad395e02ac1455d9170e31e642e03b\n",
      "INFO - Added tag E to file with hash 56c634b634ad395e02ac1455d9170e31e642e03b\n",
      "INFO - Processing file number 93 of 250: 675964\n",
      "INFO - Found file 675964 at N:\\PPDO\\Records\\106xx  2300 Delaware Westside Research Park\\10636\\10636-002A\\E - Program and Design\\E3 - Budget,  Cost Estimates,  Cost Proposal\\10636-002A.E3.Budget Worksheet.xls\n",
      "INFO - Processed file 675964 with tag E3 - Budget,  Cost Estimates,  Cost Proposal\n",
      "INFO - Added tag E3 to file with hash e7ef9d71b6606f4149e1a3d13efba03472a2e797\n",
      "INFO - Added tag E to file with hash e7ef9d71b6606f4149e1a3d13efba03472a2e797\n",
      "INFO - Processing file number 94 of 250: 329659\n",
      "INFO - Found file 329659 at N:\\PPDO\\Records\\31xx   Performing Arts Center\\3127\\DOCS\\E3 - Budget,  Cost Estimates,  Cost Proposal\\File 3127 Budget Journal.pdf\n",
      "INFO - Processed file 329659 with tag E3 - Budget,  Cost Estimates,  Cost Proposal\n",
      "INFO - Added tag E3 to file with hash 0f1f632317d07d56b707ba6e657b4d06aabb09b1\n",
      "INFO - Added tag E to file with hash 0f1f632317d07d56b707ba6e657b4d06aabb09b1\n",
      "INFO - Processing file number 95 of 250: 587026\n",
      "INFO - Found file 587026 at N:\\PPDO\\Records\\89xx   Campus Roads\\8900\\8900-069\\E - Program and Design\\E3 - Budget,  Cost Estimates,  Cost Proposal\\8900-069.E3.17 04 14, WO Cost Report (WO00402474).pdf\n",
      "INFO - Processed file 587026 with tag E3 - Budget,  Cost Estimates,  Cost Proposal\n",
      "INFO - Added tag E3 to file with hash b59fa5350c5315cde212e0d0914a475e2d8b0cbc\n",
      "INFO - Added tag E to file with hash b59fa5350c5315cde212e0d0914a475e2d8b0cbc\n",
      "INFO - Processing file number 96 of 250: 831034\n",
      "INFO - Found file 831034 at N:\\PPDO\\Records\\28xx   Cowell Student Health Center\\2800\\2800-028\\E - Program and Design\\E3 - Budget,  Cost Estimates,  Cost Proposal\\2800-028.E3.KT Mech Baskin Arts WAF24 WAF30 4.14.14.pdf\n"
     ]
    },
    {
     "data": {
      "application/vnd.jupyter.widget-view+json": {
       "model_id": "45e41f62dd9343048b42a91c34134241",
       "version_major": 2,
       "version_minor": 0
      },
      "text/plain": [
       "Output()"
      ]
     },
     "metadata": {},
     "output_type": "display_data"
    },
    {
     "data": {
      "text/html": [
       "<pre style=\"white-space:pre;overflow-x:auto;line-height:normal;font-family:Menlo,'DejaVu Sans Mono',consolas,'Courier New',monospace\"></pre>\n"
      ],
      "text/plain": []
     },
     "metadata": {},
     "output_type": "display_data"
    },
    {
     "data": {
      "application/vnd.jupyter.widget-view+json": {
       "model_id": "59a288b5cfe64df6b1c635b21dc0a618",
       "version_major": 2,
       "version_minor": 0
      },
      "text/plain": [
       "Output()"
      ]
     },
     "metadata": {},
     "output_type": "display_data"
    },
    {
     "data": {
      "text/html": [
       "<pre style=\"white-space:pre;overflow-x:auto;line-height:normal;font-family:Menlo,'DejaVu Sans Mono',consolas,'Courier New',monospace\">[tesseract] lots of diacritics - possibly poor OCR\n",
       "</pre>\n"
      ],
      "text/plain": [
       "[tesseract] lots of diacritics - possibly poor OCR\n"
      ]
     },
     "metadata": {},
     "output_type": "display_data"
    },
    {
     "data": {
      "text/html": [
       "<pre style=\"white-space:pre;overflow-x:auto;line-height:normal;font-family:Menlo,'DejaVu Sans Mono',consolas,'Courier New',monospace\"></pre>\n"
      ],
      "text/plain": []
     },
     "metadata": {},
     "output_type": "display_data"
    },
    {
     "data": {
      "application/vnd.jupyter.widget-view+json": {
       "model_id": "98013e1c32a2493f84c4270edbe7d78f",
       "version_major": 2,
       "version_minor": 0
      },
      "text/plain": [
       "Output()"
      ]
     },
     "metadata": {},
     "output_type": "display_data"
    },
    {
     "data": {
      "text/html": [
       "<pre style=\"white-space:pre;overflow-x:auto;line-height:normal;font-family:Menlo,'DejaVu Sans Mono',consolas,'Courier New',monospace\"></pre>\n"
      ],
      "text/plain": []
     },
     "metadata": {},
     "output_type": "display_data"
    },
    {
     "data": {
      "application/vnd.jupyter.widget-view+json": {
       "model_id": "aad8ae65274344078f67f501ea0fe5fb",
       "version_major": 2,
       "version_minor": 0
      },
      "text/plain": [
       "Output()"
      ]
     },
     "metadata": {},
     "output_type": "display_data"
    },
    {
     "data": {
      "text/html": [
       "<pre style=\"white-space:pre;overflow-x:auto;line-height:normal;font-family:Menlo,'DejaVu Sans Mono',consolas,'Courier New',monospace\"></pre>\n"
      ],
      "text/plain": []
     },
     "metadata": {},
     "output_type": "display_data"
    },
    {
     "data": {
      "application/vnd.jupyter.widget-view+json": {
       "model_id": "a9b25218fce44d9f9d1b3d6995d801ee",
       "version_major": 2,
       "version_minor": 0
      },
      "text/plain": [
       "Output()"
      ]
     },
     "metadata": {},
     "output_type": "display_data"
    },
    {
     "data": {
      "text/html": [
       "<pre style=\"white-space:pre;overflow-x:auto;line-height:normal;font-family:Menlo,'DejaVu Sans Mono',consolas,'Courier New',monospace\"></pre>\n"
      ],
      "text/plain": []
     },
     "metadata": {},
     "output_type": "display_data"
    },
    {
     "data": {
      "application/vnd.jupyter.widget-view+json": {
       "model_id": "bc493c43dae34bc59cb43bd902ce5298",
       "version_major": 2,
       "version_minor": 0
      },
      "text/plain": [
       "Output()"
      ]
     },
     "metadata": {},
     "output_type": "display_data"
    },
    {
     "data": {
      "text/html": [
       "<pre style=\"white-space:pre;overflow-x:auto;line-height:normal;font-family:Menlo,'DejaVu Sans Mono',consolas,'Courier New',monospace\"></pre>\n"
      ],
      "text/plain": []
     },
     "metadata": {},
     "output_type": "display_data"
    },
    {
     "name": "stderr",
     "output_type": "stream",
     "text": [
      "The output file size is 5.83× larger than the input file.\n",
      "Possible reasons for this include:\n",
      "--deskew was issued, causing transcoding.\n",
      "The optional dependency 'jbig2' was not found, so some image optimizations could not be attempted.\n",
      "The optional dependency 'pngquant' was not found, so some image optimizations could not be attempted.\n",
      "\n",
      "INFO - Processed file 831034 with tag E3 - Budget,  Cost Estimates,  Cost Proposal\n",
      "INFO - Added tag E3 to file with hash 21bac7bf179884491b201c06973fe1ec0ccfffc5\n",
      "INFO - Added tag E to file with hash 21bac7bf179884491b201c06973fe1ec0ccfffc5\n",
      "INFO - Processing file number 97 of 250: 80166\n",
      "INFO - Found file 80166 at N:\\PPDO\\Records\\100xx  Multiple Locations\\10064\\10064-001 Hahn\\E - Program and Design\\E3 - Budget,  Cost Estimates,  Cost Proposal\\File 10064-001.E3.Hahn Alterations.pdf\n"
     ]
    },
    {
     "data": {
      "application/vnd.jupyter.widget-view+json": {
       "model_id": "ce299caafec5418b9e8145db2cb56a8c",
       "version_major": 2,
       "version_minor": 0
      },
      "text/plain": [
       "Output()"
      ]
     },
     "metadata": {},
     "output_type": "display_data"
    },
    {
     "data": {
      "text/html": [
       "<pre style=\"white-space:pre;overflow-x:auto;line-height:normal;font-family:Menlo,'DejaVu Sans Mono',consolas,'Courier New',monospace\"></pre>\n"
      ],
      "text/plain": []
     },
     "metadata": {},
     "output_type": "display_data"
    },
    {
     "data": {
      "application/vnd.jupyter.widget-view+json": {
       "model_id": "1f0580021db243829800d4a2e781ef3b",
       "version_major": 2,
       "version_minor": 0
      },
      "text/plain": [
       "Output()"
      ]
     },
     "metadata": {},
     "output_type": "display_data"
    },
    {
     "data": {
      "text/html": [
       "<pre style=\"white-space:pre;overflow-x:auto;line-height:normal;font-family:Menlo,'DejaVu Sans Mono',consolas,'Courier New',monospace\"></pre>\n"
      ],
      "text/plain": []
     },
     "metadata": {},
     "output_type": "display_data"
    },
    {
     "data": {
      "application/vnd.jupyter.widget-view+json": {
       "model_id": "e5ff9d3090a1493aa75028dc625a71c7",
       "version_major": 2,
       "version_minor": 0
      },
      "text/plain": [
       "Output()"
      ]
     },
     "metadata": {},
     "output_type": "display_data"
    },
    {
     "data": {
      "text/html": [
       "<pre style=\"white-space:pre;overflow-x:auto;line-height:normal;font-family:Menlo,'DejaVu Sans Mono',consolas,'Courier New',monospace\"></pre>\n"
      ],
      "text/plain": []
     },
     "metadata": {},
     "output_type": "display_data"
    },
    {
     "data": {
      "application/vnd.jupyter.widget-view+json": {
       "model_id": "7536ede57b5f4c2da2d47cefba795aff",
       "version_major": 2,
       "version_minor": 0
      },
      "text/plain": [
       "Output()"
      ]
     },
     "metadata": {},
     "output_type": "display_data"
    },
    {
     "data": {
      "text/html": [
       "<pre style=\"white-space:pre;overflow-x:auto;line-height:normal;font-family:Menlo,'DejaVu Sans Mono',consolas,'Courier New',monospace\"></pre>\n"
      ],
      "text/plain": []
     },
     "metadata": {},
     "output_type": "display_data"
    },
    {
     "data": {
      "application/vnd.jupyter.widget-view+json": {
       "model_id": "fc66b34b5694475fa5bc8b305fbb5990",
       "version_major": 2,
       "version_minor": 0
      },
      "text/plain": [
       "Output()"
      ]
     },
     "metadata": {},
     "output_type": "display_data"
    },
    {
     "data": {
      "text/html": [
       "<pre style=\"white-space:pre;overflow-x:auto;line-height:normal;font-family:Menlo,'DejaVu Sans Mono',consolas,'Courier New',monospace\"></pre>\n"
      ],
      "text/plain": []
     },
     "metadata": {},
     "output_type": "display_data"
    },
    {
     "data": {
      "application/vnd.jupyter.widget-view+json": {
       "model_id": "332fc2e72c4b4348909b27a6fee19cf9",
       "version_major": 2,
       "version_minor": 0
      },
      "text/plain": [
       "Output()"
      ]
     },
     "metadata": {},
     "output_type": "display_data"
    },
    {
     "data": {
      "text/html": [
       "<pre style=\"white-space:pre;overflow-x:auto;line-height:normal;font-family:Menlo,'DejaVu Sans Mono',consolas,'Courier New',monospace\"></pre>\n"
      ],
      "text/plain": []
     },
     "metadata": {},
     "output_type": "display_data"
    },
    {
     "name": "stderr",
     "output_type": "stream",
     "text": [
      "The output file size is 5.23× larger than the input file.\n",
      "Possible reasons for this include:\n",
      "--deskew was issued, causing transcoding.\n",
      "The optional dependency 'jbig2' was not found, so some image optimizations could not be attempted.\n",
      "The optional dependency 'pngquant' was not found, so some image optimizations could not be attempted.\n",
      "\n",
      "INFO - Processed file 80166 with tag E3 - Budget,  Cost Estimates,  Cost Proposal\n",
      "INFO - Added tag E3 to file with hash 161b732f1a51e1e1666daa0bcd3a28bb7be76f08\n",
      "INFO - Added tag E to file with hash 161b732f1a51e1e1666daa0bcd3a28bb7be76f08\n",
      "INFO - Processing file number 98 of 250: 574681\n",
      "INFO - Found file 574681 at N:\\PPDO\\Records\\76xx   Emergency Response Center\\7603\\7603\\7603 ERC Emergency Storm Drainage Repairs 2\\E - Program and Design\\E3 - Budget,  Cost Estimates,  Cost Proposal\\7603.E3.7603 PM Estimate_MD_4-14-16 with 9 hole Budget.xlsx\n",
      "INFO - Processed file 574681 with tag E3 - Budget,  Cost Estimates,  Cost Proposal\n",
      "INFO - Added tag E3 to file with hash f621a46ab23a5a68517f5e42444d141f81918359\n",
      "INFO - Added tag E to file with hash f621a46ab23a5a68517f5e42444d141f81918359\n",
      "INFO - Processing file number 99 of 250: 744046\n",
      "INFO - Found file 744046 at N:\\PPDO\\Records\\100xx  Multiple Locations\\10008\\10008-002\\E - Program and Design\\E3 - Budget,  Cost Estimates,  Cost Proposal\\Bus Shed Lights FPR3 i.xls\n",
      "INFO - Processed file 744046 with tag E3 - Budget,  Cost Estimates,  Cost Proposal\n",
      "INFO - Added tag E3 to file with hash 24efcbc4426e13615e928e7d5295f94c83236088\n",
      "INFO - Added tag E to file with hash 24efcbc4426e13615e928e7d5295f94c83236088\n",
      "INFO - Processing file number 100 of 250: 791023\n",
      "INFO - Found file 791023 at N:\\PPDO\\Records\\49xx   Long Marine Lab\\4932\\4932\\E - Program and Design\\E3 - Budget,  Cost Estimates,  Cost Proposal\\Costs to complete CEQA and NOID etc -  from March - July - November .xls\n",
      "INFO - Processed file 791023 with tag E3 - Budget,  Cost Estimates,  Cost Proposal\n",
      "INFO - Added tag E3 to file with hash 6d81e0e4633387a7e753ecf56260ab7840e67bfb\n",
      "INFO - Added tag E to file with hash 6d81e0e4633387a7e753ecf56260ab7840e67bfb\n",
      "INFO - Processing file number 101 of 250: 131971\n",
      "INFO - Found file 131971 at N:\\PPDO\\Records\\100xx  Multiple Locations\\10000\\10000-224\\E - Program and Design\\E3 - Budget,  Cost Estimates,  Cost Proposal\\1000-224.E3 Full Budget.pdf\n",
      "INFO - Processed file 131971 with tag E3 - Budget,  Cost Estimates,  Cost Proposal\n",
      "INFO - Added tag E3 to file with hash c86e341e3e1f94fa753854ba7ba1196d4b6d3be1\n",
      "INFO - Added tag E to file with hash c86e341e3e1f94fa753854ba7ba1196d4b6d3be1\n",
      "INFO - Processing file number 102 of 250: 541275\n",
      "INFO - Found file 541275 at N:\\PPDO\\Records\\64xx   Interdisciplinary Sciences Building\\6401\\6401-011\\E - Program and Design\\E3 - Budget,  Cost Estimates,  Cost Proposal\\6401-011.E3.17 11 28, WO00399630 Cost Report.pdf\n",
      "INFO - Processed file 541275 with tag E3 - Budget,  Cost Estimates,  Cost Proposal\n",
      "INFO - Added tag E3 to file with hash 986af68bf15faf409c72819e644bd90903db2d89\n",
      "INFO - Added tag E to file with hash 986af68bf15faf409c72819e644bd90903db2d89\n",
      "INFO - Processing file number 103 of 250: 809470\n",
      "WARNING - File 809470 not found at N:\\PPDO\\Records\\71xx   Social Sciences 3 Facility\\7101\\E3 - Budget,  Cost Estimates,  Cost Proposal\\Preliminary Budget\\Programming Budget\\PP&C Budget Estimates\\Social Sciences 3 PPG Budget 4-13-2011 df-FINAL VERSION.xls\n",
      "WARNING - No valid file found for 809470\n",
      "INFO - Processing file number 104 of 250: 74892\n",
      "INFO - Found file 74892 at N:\\PPDO\\Records\\100xx  Multiple Locations\\10000\\10000-204\\E - Program and Design\\E3 - Budget,  Cost Estimates,  Cost Proposal\\10000-204.E3.18 04 20 - WO00401952 Cost Report.pdf\n",
      "INFO - Processed file 74892 with tag E3 - Budget,  Cost Estimates,  Cost Proposal\n",
      "INFO - Added tag E3 to file with hash a15acfe50969066d2708f016ba5d0f6f58e90d3c\n",
      "INFO - Added tag E to file with hash a15acfe50969066d2708f016ba5d0f6f58e90d3c\n",
      "INFO - Processing file number 105 of 250: 214918\n",
      "WARNING - File 214918 not found at N:\\PPDO\\Records\\21xx   Central Heating Plant (Fackler Cogeneration)\\2113\\2113\\E - Program and Design\\E3 - Budget,  Cost Estimates,  Cost Proposal\\Cogeneration Plant Replacement.xls\n",
      "WARNING - No valid file found for 214918\n",
      "INFO - Processing file number 106 of 250: 712919\n",
      "INFO - Found file 712919 at N:\\PPDO\\Records\\27xx   Applied Sciences Baskin Engineering\\2739\\2739\\E - Program and Design\\E3 - Budget,  Cost Estimates,  Cost Proposal\\File 2739 Budget Data 4-18-05 (2).pdf\n",
      "INFO - Processed file 712919 with tag E3 - Budget,  Cost Estimates,  Cost Proposal\n",
      "INFO - Added tag E3 to file with hash 6721754140696f422a75be596959ced8f1acd31e\n",
      "INFO - Added tag E to file with hash 6721754140696f422a75be596959ced8f1acd31e\n",
      "INFO - Processing file number 107 of 250: 541691\n",
      "WARNING - File 541691 not found at N:\\PPDO\\Records\\65xx   Early Childhood Education Center\\6501\\DOCS\\E3 - Budget,  Cost Estimates,  Cost Proposal\\5-30-03 DT Dft Final Report.pdf\n",
      "WARNING - No valid file found for 541691\n",
      "INFO - Processing file number 108 of 250: 912619\n",
      "INFO - Found file 912619 at N:\\PPDO\\Records\\53xx   Rachel Carson College (8)\\5305\\5305-017\\E - Program and Design\\E3 - Budget,  Cost Estimates,  Cost Proposal\\5305-017.E3.Rachel Carson Roof Bldg 1 and 6 Budget 10.26.17.xlsx\n",
      "INFO - Processed file 912619 with tag E3 - Budget,  Cost Estimates,  Cost Proposal\n",
      "INFO - Added tag E3 to file with hash 2233b99160ca1724e06509af7994f6327e295851\n",
      "INFO - Added tag E to file with hash 2233b99160ca1724e06509af7994f6327e295851\n",
      "INFO - Processing file number 109 of 250: 744177\n",
      "INFO - Found file 744177 at N:\\PPDO\\Records\\47xx   Campus Wide Energy Initiatives\\4700 Campuswide Energy Initiatives - Preliminary, Ancillary and Miscellaneous\\4700\\E - Program and Design\\E3 - Budget,  Cost Estimates,  Cost Proposal\\Energy Meters ws.xls\n",
      "INFO - Processed file 744177 with tag E3 - Budget,  Cost Estimates,  Cost Proposal\n",
      "INFO - Added tag E3 to file with hash 9ecf2525424fc2b9f70db7f06f53af39ca3a8923\n",
      "INFO - Added tag E to file with hash 9ecf2525424fc2b9f70db7f06f53af39ca3a8923\n",
      "INFO - Processing file number 110 of 250: 791130\n",
      "INFO - Found file 791130 at N:\\PPDO\\Records\\49xx   Long Marine Lab\\4932\\4932\\E - Program and Design\\E3 - Budget,  Cost Estimates,  Cost Proposal\\NOAA Fiber\\invoice NOAA Fiber.xls\n",
      "INFO - Processed file 791130 with tag E3 - Budget,  Cost Estimates,  Cost Proposal\n",
      "INFO - Added tag E3 to file with hash d2166923d968769797b5f3f25f059ab204ecfa16\n",
      "INFO - Added tag E to file with hash d2166923d968769797b5f3f25f059ab204ecfa16\n",
      "INFO - Processing file number 111 of 250: 586823\n",
      "INFO - Found file 586823 at N:\\PPDO\\Records\\89xx   Campus Roads\\8900\\8900-065\\E3 - Budget,  Cost Estimates,  Cost Proposal\\17 12 08 - WO00392303 Cost Report.pdf\n",
      "INFO - Processed file 586823 with tag E3 - Budget,  Cost Estimates,  Cost Proposal\n",
      "INFO - Added tag E3 to file with hash 69bef09f72a8322b983c35e0113515e97a9df2a5\n",
      "INFO - Added tag E to file with hash 69bef09f72a8322b983c35e0113515e97a9df2a5\n",
      "INFO - Processing file number 112 of 250: 211854\n",
      "WARNING - File 211854 not found at N:\\PPDO\\Records\\18xx   Mc Henry Library Unit I\\1810\\1810-009\\E - Program and Design\\E3 - Budget,  Cost Estimates,  Cost Proposal\\McHenry Library Security Project Summary.pdf\n",
      "WARNING - File 211854 not found at N:\\PPDO\\Records\\18xx   Mc Henry Library Unit I\\1810\\1810-009\\E - Program and Design\\E3 - Budget,  Cost Estimates,  Cost Proposal\\Project Summary\\File 1810-009 McHenry Library Security Project Summary.pdf\n",
      "WARNING - No valid file found for 211854\n",
      "INFO - Processing file number 113 of 250: 598437\n",
      "INFO - Found file 598437 at N:\\PPDO\\Records\\90xx  Campus Utilities\\9072\\9072\\E3 - Budget,  Cost Estimates,  Cost Proposal\\100% CD\\VOID - TOTAL DIRECT COSTS.docx\n",
      "INFO - Processed file 598437 with tag E3 - Budget,  Cost Estimates,  Cost Proposal\n",
      "INFO - Added tag E3 to file with hash eeb7da3382fb1ed989f4b5e5cf0b5a7ce920305c\n",
      "INFO - Added tag E to file with hash eeb7da3382fb1ed989f4b5e5cf0b5a7ce920305c\n",
      "INFO - Processing file number 114 of 250: 879294\n",
      "INFO - Found file 879294 at N:\\PPDO\\Records\\25xx   Natural Sciences Unit 2\\2501\\2501\\E - Program and Design\\E3 - Budget,  Cost Estimates,  Cost Proposal\\2501.E3.State Construction Program Fund 2.1.67.pdf\n"
     ]
    },
    {
     "data": {
      "application/vnd.jupyter.widget-view+json": {
       "model_id": "13922cc1bdf5428e88668d7420a07e07",
       "version_major": 2,
       "version_minor": 0
      },
      "text/plain": [
       "Output()"
      ]
     },
     "metadata": {},
     "output_type": "display_data"
    },
    {
     "data": {
      "text/html": [
       "<pre style=\"white-space:pre;overflow-x:auto;line-height:normal;font-family:Menlo,'DejaVu Sans Mono',consolas,'Courier New',monospace\"></pre>\n"
      ],
      "text/plain": []
     },
     "metadata": {},
     "output_type": "display_data"
    },
    {
     "data": {
      "application/vnd.jupyter.widget-view+json": {
       "model_id": "46c4b80ed4cc4c919256a5df08ac30f1",
       "version_major": 2,
       "version_minor": 0
      },
      "text/plain": [
       "Output()"
      ]
     },
     "metadata": {},
     "output_type": "display_data"
    },
    {
     "data": {
      "text/html": [
       "<pre style=\"white-space:pre;overflow-x:auto;line-height:normal;font-family:Menlo,'DejaVu Sans Mono',consolas,'Courier New',monospace\"></pre>\n"
      ],
      "text/plain": []
     },
     "metadata": {},
     "output_type": "display_data"
    },
    {
     "data": {
      "application/vnd.jupyter.widget-view+json": {
       "model_id": "426b835b4b3c441590b036f04f57cdca",
       "version_major": 2,
       "version_minor": 0
      },
      "text/plain": [
       "Output()"
      ]
     },
     "metadata": {},
     "output_type": "display_data"
    },
    {
     "data": {
      "text/html": [
       "<pre style=\"white-space:pre;overflow-x:auto;line-height:normal;font-family:Menlo,'DejaVu Sans Mono',consolas,'Courier New',monospace\"></pre>\n"
      ],
      "text/plain": []
     },
     "metadata": {},
     "output_type": "display_data"
    },
    {
     "data": {
      "application/vnd.jupyter.widget-view+json": {
       "model_id": "8a42c84b79e84ee296975c814515fa38",
       "version_major": 2,
       "version_minor": 0
      },
      "text/plain": [
       "Output()"
      ]
     },
     "metadata": {},
     "output_type": "display_data"
    },
    {
     "data": {
      "text/html": [
       "<pre style=\"white-space:pre;overflow-x:auto;line-height:normal;font-family:Menlo,'DejaVu Sans Mono',consolas,'Courier New',monospace\"></pre>\n"
      ],
      "text/plain": []
     },
     "metadata": {},
     "output_type": "display_data"
    },
    {
     "data": {
      "application/vnd.jupyter.widget-view+json": {
       "model_id": "b0ef5d12d97d4568bb8c901c77e7cc01",
       "version_major": 2,
       "version_minor": 0
      },
      "text/plain": [
       "Output()"
      ]
     },
     "metadata": {},
     "output_type": "display_data"
    },
    {
     "data": {
      "text/html": [
       "<pre style=\"white-space:pre;overflow-x:auto;line-height:normal;font-family:Menlo,'DejaVu Sans Mono',consolas,'Courier New',monospace\"></pre>\n"
      ],
      "text/plain": []
     },
     "metadata": {},
     "output_type": "display_data"
    },
    {
     "data": {
      "application/vnd.jupyter.widget-view+json": {
       "model_id": "c80b56f42d914cc3bedee1207a62bbc9",
       "version_major": 2,
       "version_minor": 0
      },
      "text/plain": [
       "Output()"
      ]
     },
     "metadata": {},
     "output_type": "display_data"
    },
    {
     "data": {
      "text/html": [
       "<pre style=\"white-space:pre;overflow-x:auto;line-height:normal;font-family:Menlo,'DejaVu Sans Mono',consolas,'Courier New',monospace\"></pre>\n"
      ],
      "text/plain": []
     },
     "metadata": {},
     "output_type": "display_data"
    },
    {
     "name": "stderr",
     "output_type": "stream",
     "text": [
      "INFO - Processed file 879294 with tag E3 - Budget,  Cost Estimates,  Cost Proposal\n",
      "INFO - Added tag E3 to file with hash 94befe8c503c79ab4240c1c1f835faffd7afb4d6\n",
      "INFO - Added tag E to file with hash 94befe8c503c79ab4240c1c1f835faffd7afb4d6\n",
      "INFO - Processing file number 115 of 250: 273973\n",
      "INFO - Found file 273973 at N:\\PPDO\\Records\\27xx   Applied Sciences Baskin Engineering\\2731\\E - Program and Design\\E3 - Budget,  Cost Estimates,  Cost Proposal\\File 2731 Cost Estimate Mistake 3-24-97.pdf\n",
      "INFO - Processed file 273973 with tag E3 - Budget,  Cost Estimates,  Cost Proposal\n",
      "INFO - Added tag E3 to file with hash f0551fc687f3160a951f62b95e9c3fb93d335361\n",
      "INFO - Added tag E to file with hash f0551fc687f3160a951f62b95e9c3fb93d335361\n",
      "INFO - Processing file number 116 of 250: 356976\n",
      "INFO - Found file 356976 at N:\\PPDO\\Records\\33xx   Clark Kerr Hall\\3309\\3309\\E- Program and Design\\E3 - Budget,  Cost Estimates,  Cost Proposal\\File 3309 Bid Summary Architect's Estimate 11-14-95.pdf\n",
      "INFO - Processed file 356976 with tag E3 - Budget,  Cost Estimates,  Cost Proposal\n",
      "INFO - Added tag E3 to file with hash a79c3acde9e9c4d967613e3395976791c1e142e0\n",
      "INFO - Added tag E to file with hash a79c3acde9e9c4d967613e3395976791c1e142e0\n",
      "INFO - Processing file number 117 of 250: 136777\n",
      "INFO - Found file 136777 at N:\\PPDO\\Records\\120xx  Off Campus Facilities\\12001 2155 Delaware\\12001-002\\E - Program and Design\\E3 - Budget,  Cost Estimates,  Cost Proposal\\12001-002.E3.Lease Approval.pdf\n"
     ]
    },
    {
     "data": {
      "application/vnd.jupyter.widget-view+json": {
       "model_id": "ef152803c3bf434b83d6dbcb4a7d5538",
       "version_major": 2,
       "version_minor": 0
      },
      "text/plain": [
       "Output()"
      ]
     },
     "metadata": {},
     "output_type": "display_data"
    },
    {
     "data": {
      "text/html": [
       "<pre style=\"white-space:pre;overflow-x:auto;line-height:normal;font-family:Menlo,'DejaVu Sans Mono',consolas,'Courier New',monospace\"></pre>\n"
      ],
      "text/plain": []
     },
     "metadata": {},
     "output_type": "display_data"
    },
    {
     "data": {
      "application/vnd.jupyter.widget-view+json": {
       "model_id": "3759e10c02ba412a8e0298f0e408d11e",
       "version_major": 2,
       "version_minor": 0
      },
      "text/plain": [
       "Output()"
      ]
     },
     "metadata": {},
     "output_type": "display_data"
    },
    {
     "data": {
      "text/html": [
       "<pre style=\"white-space:pre;overflow-x:auto;line-height:normal;font-family:Menlo,'DejaVu Sans Mono',consolas,'Courier New',monospace\"></pre>\n"
      ],
      "text/plain": []
     },
     "metadata": {},
     "output_type": "display_data"
    },
    {
     "data": {
      "application/vnd.jupyter.widget-view+json": {
       "model_id": "f6dfb2b11c6947bb8eb169dafbfc7e48",
       "version_major": 2,
       "version_minor": 0
      },
      "text/plain": [
       "Output()"
      ]
     },
     "metadata": {},
     "output_type": "display_data"
    },
    {
     "data": {
      "text/html": [
       "<pre style=\"white-space:pre;overflow-x:auto;line-height:normal;font-family:Menlo,'DejaVu Sans Mono',consolas,'Courier New',monospace\"></pre>\n"
      ],
      "text/plain": []
     },
     "metadata": {},
     "output_type": "display_data"
    },
    {
     "data": {
      "application/vnd.jupyter.widget-view+json": {
       "model_id": "8cad32fae33a499ba6669699121ea92b",
       "version_major": 2,
       "version_minor": 0
      },
      "text/plain": [
       "Output()"
      ]
     },
     "metadata": {},
     "output_type": "display_data"
    },
    {
     "data": {
      "text/html": [
       "<pre style=\"white-space:pre;overflow-x:auto;line-height:normal;font-family:Menlo,'DejaVu Sans Mono',consolas,'Courier New',monospace\"></pre>\n"
      ],
      "text/plain": []
     },
     "metadata": {},
     "output_type": "display_data"
    },
    {
     "data": {
      "application/vnd.jupyter.widget-view+json": {
       "model_id": "3ee99f769d5d4aef991ed194c7bae509",
       "version_major": 2,
       "version_minor": 0
      },
      "text/plain": [
       "Output()"
      ]
     },
     "metadata": {},
     "output_type": "display_data"
    },
    {
     "data": {
      "text/html": [
       "<pre style=\"white-space:pre;overflow-x:auto;line-height:normal;font-family:Menlo,'DejaVu Sans Mono',consolas,'Courier New',monospace\"></pre>\n"
      ],
      "text/plain": []
     },
     "metadata": {},
     "output_type": "display_data"
    },
    {
     "data": {
      "application/vnd.jupyter.widget-view+json": {
       "model_id": "a3455c74401e408e957f94081ae9b287",
       "version_major": 2,
       "version_minor": 0
      },
      "text/plain": [
       "Output()"
      ]
     },
     "metadata": {},
     "output_type": "display_data"
    },
    {
     "data": {
      "text/html": [
       "<pre style=\"white-space:pre;overflow-x:auto;line-height:normal;font-family:Menlo,'DejaVu Sans Mono',consolas,'Courier New',monospace\"></pre>\n"
      ],
      "text/plain": []
     },
     "metadata": {},
     "output_type": "display_data"
    },
    {
     "name": "stderr",
     "output_type": "stream",
     "text": [
      "The output file size is 5.15× larger than the input file.\n",
      "Possible reasons for this include:\n",
      "--deskew was issued, causing transcoding.\n",
      "The optional dependency 'jbig2' was not found, so some image optimizations could not be attempted.\n",
      "The optional dependency 'pngquant' was not found, so some image optimizations could not be attempted.\n",
      "\n",
      "INFO - Processed file 136777 with tag E3 - Budget,  Cost Estimates,  Cost Proposal\n",
      "INFO - Added tag E3 to file with hash 5820597f96d2ac6ee699c6d28fd0a455c5fb5146\n",
      "INFO - Added tag E to file with hash 5820597f96d2ac6ee699c6d28fd0a455c5fb5146\n",
      "INFO - Processing file number 118 of 250: 574610\n",
      "INFO - Found file 574610 at N:\\PPDO\\Records\\76xx   Emergency Response Center\\7603\\7603\\7603 ERC Emergency Storm Drainage Repairs 2\\E - Program and Design\\E3 - Budget,  Cost Estimates,  Cost Proposal\\7603.E3.18 03 09 WO00391688 Cost Report.pdf\n",
      "INFO - Processed file 574610 with tag E3 - Budget,  Cost Estimates,  Cost Proposal\n",
      "INFO - Added tag E3 to file with hash 22e61d873ab47169ac50ff83be13685c21d433c6\n",
      "INFO - Added tag E to file with hash 22e61d873ab47169ac50ff83be13685c21d433c6\n",
      "INFO - Processing file number 119 of 250: 574632\n",
      "INFO - Found file 574632 at N:\\PPDO\\Records\\76xx   Emergency Response Center\\7603\\7603\\7603 ERC Emergency Storm Drainage Repairs 2\\E - Program and Design\\E3 - Budget,  Cost Estimates,  Cost Proposal\\7603.E3.18 05 10 WO00410314 Cost Report.pdf\n",
      "INFO - Processed file 574632 with tag E3 - Budget,  Cost Estimates,  Cost Proposal\n",
      "INFO - Added tag E3 to file with hash 30b73f256403d961105fe9a75a4af8fbf12ae33b\n",
      "INFO - Added tag E to file with hash 30b73f256403d961105fe9a75a4af8fbf12ae33b\n",
      "INFO - Processing file number 120 of 250: 805292\n",
      "INFO - Found file 805292 at N:\\PPDO\\Records\\68xx   East Campus Infill\\6801\\6801\\E- Program and Design\\E3 - Budget,  Cost Estimates,  Cost Proposal\\Dec 12 2008 Pricing Package\\Drawings\\Mechanical\\M2.02.pdf\n"
     ]
    },
    {
     "data": {
      "application/vnd.jupyter.widget-view+json": {
       "model_id": "910b99b2e3c64ee1ac8e0226b096f5d7",
       "version_major": 2,
       "version_minor": 0
      },
      "text/plain": [
       "Output()"
      ]
     },
     "metadata": {},
     "output_type": "display_data"
    },
    {
     "data": {
      "text/html": [
       "<pre style=\"white-space:pre;overflow-x:auto;line-height:normal;font-family:Menlo,'DejaVu Sans Mono',consolas,'Courier New',monospace\"></pre>\n"
      ],
      "text/plain": []
     },
     "metadata": {},
     "output_type": "display_data"
    },
    {
     "data": {
      "application/vnd.jupyter.widget-view+json": {
       "model_id": "ff6366efd726439dad63921cba077abe",
       "version_major": 2,
       "version_minor": 0
      },
      "text/plain": [
       "Output()"
      ]
     },
     "metadata": {},
     "output_type": "display_data"
    },
    {
     "data": {
      "text/html": [
       "<pre style=\"white-space:pre;overflow-x:auto;line-height:normal;font-family:Menlo,'DejaVu Sans Mono',consolas,'Courier New',monospace\"></pre>\n"
      ],
      "text/plain": []
     },
     "metadata": {},
     "output_type": "display_data"
    },
    {
     "data": {
      "application/vnd.jupyter.widget-view+json": {
       "model_id": "a9e0560c5744419e91832557ddc339e2",
       "version_major": 2,
       "version_minor": 0
      },
      "text/plain": [
       "Output()"
      ]
     },
     "metadata": {},
     "output_type": "display_data"
    },
    {
     "data": {
      "text/html": [
       "<pre style=\"white-space:pre;overflow-x:auto;line-height:normal;font-family:Menlo,'DejaVu Sans Mono',consolas,'Courier New',monospace\"></pre>\n"
      ],
      "text/plain": []
     },
     "metadata": {},
     "output_type": "display_data"
    },
    {
     "data": {
      "application/vnd.jupyter.widget-view+json": {
       "model_id": "d97702def1484b57b05abd374920676a",
       "version_major": 2,
       "version_minor": 0
      },
      "text/plain": [
       "Output()"
      ]
     },
     "metadata": {},
     "output_type": "display_data"
    },
    {
     "data": {
      "text/html": [
       "<pre style=\"white-space:pre;overflow-x:auto;line-height:normal;font-family:Menlo,'DejaVu Sans Mono',consolas,'Courier New',monospace\"></pre>\n"
      ],
      "text/plain": []
     },
     "metadata": {},
     "output_type": "display_data"
    },
    {
     "data": {
      "application/vnd.jupyter.widget-view+json": {
       "model_id": "c8c316e09693453ea7290c6603946a96",
       "version_major": 2,
       "version_minor": 0
      },
      "text/plain": [
       "Output()"
      ]
     },
     "metadata": {},
     "output_type": "display_data"
    },
    {
     "data": {
      "text/html": [
       "<pre style=\"white-space:pre;overflow-x:auto;line-height:normal;font-family:Menlo,'DejaVu Sans Mono',consolas,'Courier New',monospace\"></pre>\n"
      ],
      "text/plain": []
     },
     "metadata": {},
     "output_type": "display_data"
    },
    {
     "data": {
      "application/vnd.jupyter.widget-view+json": {
       "model_id": "447a569bfaf143d090a3fc1a4f567899",
       "version_major": 2,
       "version_minor": 0
      },
      "text/plain": [
       "Output()"
      ]
     },
     "metadata": {},
     "output_type": "display_data"
    },
    {
     "data": {
      "text/html": [
       "<pre style=\"white-space:pre;overflow-x:auto;line-height:normal;font-family:Menlo,'DejaVu Sans Mono',consolas,'Courier New',monospace\"></pre>\n"
      ],
      "text/plain": []
     },
     "metadata": {},
     "output_type": "display_data"
    },
    {
     "name": "stderr",
     "output_type": "stream",
     "text": [
      "The output file size is 9.61× larger than the input file.\n",
      "Possible reasons for this include:\n",
      "--deskew was issued, causing transcoding.\n",
      "The optional dependency 'jbig2' was not found, so some image optimizations could not be attempted.\n",
      "The optional dependency 'pngquant' was not found, so some image optimizations could not be attempted.\n",
      "\n",
      "INFO - Processed file 805292 with tag E3 - Budget,  Cost Estimates,  Cost Proposal\n",
      "INFO - Added tag E3 to file with hash 619164a5854822f15af3ab08f9a26c25519b7eb8\n",
      "INFO - Added tag E to file with hash 619164a5854822f15af3ab08f9a26c25519b7eb8\n",
      "INFO - Processing file number 121 of 250: 805342\n",
      "INFO - Found file 805342 at N:\\PPDO\\Records\\68xx   East Campus Infill\\6801\\6801\\E- Program and Design\\E3 - Budget,  Cost Estimates,  Cost Proposal\\Wood Framed Estimates\\DL -  Wood Framed Estimate A-B-C 5 Floors.pdf\n",
      "INFO - Processed file 805342 with tag E3 - Budget,  Cost Estimates,  Cost Proposal\n",
      "INFO - Added tag E3 to file with hash f3d64c2486f313e1df25eafcf439b1c6f8cdb16c\n",
      "INFO - Added tag E to file with hash f3d64c2486f313e1df25eafcf439b1c6f8cdb16c\n",
      "INFO - Processing file number 122 of 250: 574535\n",
      "INFO - Found file 574535 at N:\\PPDO\\Records\\76xx   Emergency Response Center\\7603\\7603\\7603 ERC Emergency Storm Drainage Repairs 2\\E - Program and Design\\E3 - Budget,  Cost Estimates,  Cost Proposal\\7603.E3.16 02 05, WO Cost Report (WO00391688).pdf\n",
      "INFO - Processed file 574535 with tag E3 - Budget,  Cost Estimates,  Cost Proposal\n",
      "INFO - Added tag E3 to file with hash 32b959f0d1136443cbf5816aabb4a793fba7053d\n",
      "INFO - Added tag E to file with hash 32b959f0d1136443cbf5816aabb4a793fba7053d\n",
      "INFO - Processing file number 123 of 250: 608628\n",
      "INFO - Found file 608628 at N:\\PPDO\\Records\\90xx  Campus Utilities\\9098\\9098\\E - Program and Design\\E3 - Budget,  Cost Estimates,  Cost Proposal\\Project Budget Workbooks\\973840 161210 Telecom Phase C PBW draft pm 12-02-16.xls\n",
      "INFO - Processed file 608628 with tag E3 - Budget,  Cost Estimates,  Cost Proposal\n",
      "INFO - Added tag E3 to file with hash 0d4d844087f2396e5d0fcff8a8de85379b3e39a2\n",
      "INFO - Added tag E to file with hash 0d4d844087f2396e5d0fcff8a8de85379b3e39a2\n",
      "INFO - Processing file number 124 of 250: 363623\n",
      "INFO - Found file 363623 at N:\\PPDO\\Records\\36xx   Student Facilities\\3608\\3608-016\\E3 - Budget,  Cost Estimates,  Cost Proposal\\File 3608-016 GN & Cost Review of Building Plans.pdf\n",
      "INFO - Processed file 363623 with tag E3 - Budget,  Cost Estimates,  Cost Proposal\n",
      "INFO - Added tag E3 to file with hash 5494e74c816ecc679436dc1f80eba9683350d77e\n",
      "INFO - Added tag E to file with hash 5494e74c816ecc679436dc1f80eba9683350d77e\n",
      "INFO - Processing file number 125 of 250: 844260\n",
      "INFO - Found file 844260 at N:\\PPDO\\Records\\106xx  2300 Delaware Westside Research Park\\10634\\10634\\E - Program and Design\\E3 - Budget,  Cost Estimates,  Cost Proposal\\Programming List Workshop draf 4-4-12.pdf\n"
     ]
    },
    {
     "data": {
      "application/vnd.jupyter.widget-view+json": {
       "model_id": "819d6c2efab04935a907d64e6751d8eb",
       "version_major": 2,
       "version_minor": 0
      },
      "text/plain": [
       "Output()"
      ]
     },
     "metadata": {},
     "output_type": "display_data"
    },
    {
     "data": {
      "text/html": [
       "<pre style=\"white-space:pre;overflow-x:auto;line-height:normal;font-family:Menlo,'DejaVu Sans Mono',consolas,'Courier New',monospace\"></pre>\n"
      ],
      "text/plain": []
     },
     "metadata": {},
     "output_type": "display_data"
    },
    {
     "data": {
      "application/vnd.jupyter.widget-view+json": {
       "model_id": "a72f1367c2554960af0f925d0ba9e69d",
       "version_major": 2,
       "version_minor": 0
      },
      "text/plain": [
       "Output()"
      ]
     },
     "metadata": {},
     "output_type": "display_data"
    },
    {
     "data": {
      "text/html": [
       "<pre style=\"white-space:pre;overflow-x:auto;line-height:normal;font-family:Menlo,'DejaVu Sans Mono',consolas,'Courier New',monospace\">[tesseract] lots of diacritics - possibly poor OCR\n",
       "</pre>\n"
      ],
      "text/plain": [
       "[tesseract] lots of diacritics - possibly poor OCR\n"
      ]
     },
     "metadata": {},
     "output_type": "display_data"
    },
    {
     "data": {
      "text/html": [
       "<pre style=\"white-space:pre;overflow-x:auto;line-height:normal;font-family:Menlo,'DejaVu Sans Mono',consolas,'Courier New',monospace\"></pre>\n"
      ],
      "text/plain": []
     },
     "metadata": {},
     "output_type": "display_data"
    },
    {
     "data": {
      "application/vnd.jupyter.widget-view+json": {
       "model_id": "4469b450d0654d0b9733a790dffe532a",
       "version_major": 2,
       "version_minor": 0
      },
      "text/plain": [
       "Output()"
      ]
     },
     "metadata": {},
     "output_type": "display_data"
    },
    {
     "data": {
      "text/html": [
       "<pre style=\"white-space:pre;overflow-x:auto;line-height:normal;font-family:Menlo,'DejaVu Sans Mono',consolas,'Courier New',monospace\"></pre>\n"
      ],
      "text/plain": []
     },
     "metadata": {},
     "output_type": "display_data"
    },
    {
     "data": {
      "application/vnd.jupyter.widget-view+json": {
       "model_id": "2387a1b2918d45769a1be9e316c1bb2d",
       "version_major": 2,
       "version_minor": 0
      },
      "text/plain": [
       "Output()"
      ]
     },
     "metadata": {},
     "output_type": "display_data"
    },
    {
     "data": {
      "text/html": [
       "<pre style=\"white-space:pre;overflow-x:auto;line-height:normal;font-family:Menlo,'DejaVu Sans Mono',consolas,'Courier New',monospace\"></pre>\n"
      ],
      "text/plain": []
     },
     "metadata": {},
     "output_type": "display_data"
    },
    {
     "data": {
      "application/vnd.jupyter.widget-view+json": {
       "model_id": "69eae46058b94b559e789c5185290500",
       "version_major": 2,
       "version_minor": 0
      },
      "text/plain": [
       "Output()"
      ]
     },
     "metadata": {},
     "output_type": "display_data"
    },
    {
     "data": {
      "text/html": [
       "<pre style=\"white-space:pre;overflow-x:auto;line-height:normal;font-family:Menlo,'DejaVu Sans Mono',consolas,'Courier New',monospace\"></pre>\n"
      ],
      "text/plain": []
     },
     "metadata": {},
     "output_type": "display_data"
    },
    {
     "data": {
      "application/vnd.jupyter.widget-view+json": {
       "model_id": "16d34aba4e4844f68267e2bfb3b76407",
       "version_major": 2,
       "version_minor": 0
      },
      "text/plain": [
       "Output()"
      ]
     },
     "metadata": {},
     "output_type": "display_data"
    },
    {
     "data": {
      "text/html": [
       "<pre style=\"white-space:pre;overflow-x:auto;line-height:normal;font-family:Menlo,'DejaVu Sans Mono',consolas,'Courier New',monospace\"></pre>\n"
      ],
      "text/plain": []
     },
     "metadata": {},
     "output_type": "display_data"
    },
    {
     "name": "stderr",
     "output_type": "stream",
     "text": [
      "The output file size is 2.19× larger than the input file.\n",
      "Possible reasons for this include:\n",
      "--deskew was issued, causing transcoding.\n",
      "The optional dependency 'jbig2' was not found, so some image optimizations could not be attempted.\n",
      "The optional dependency 'pngquant' was not found, so some image optimizations could not be attempted.\n",
      "\n",
      "INFO - Processed file 844260 with tag E3 - Budget,  Cost Estimates,  Cost Proposal\n",
      "INFO - Added tag E3 to file with hash de0886660bb034dc3eb79e4f1c452fb78df3db6a\n",
      "INFO - Added tag E to file with hash de0886660bb034dc3eb79e4f1c452fb78df3db6a\n",
      "INFO - Processing file number 126 of 250: 791345\n",
      "INFO - Found file 791345 at N:\\PPDO\\Records\\49xx   Long Marine Lab\\4932\\4932\\E - Program and Design\\E3 - Budget,  Cost Estimates,  Cost Proposal\\Project Budget Workbooks\\Pre-2013 Budget\\Budget Sheets - Julian 5-16-10.xls\n",
      "INFO - Processed file 791345 with tag E3 - Budget,  Cost Estimates,  Cost Proposal\n",
      "INFO - Added tag E3 to file with hash 48a3b889692ffb6a00c06f94befd42e54c0ebe35\n",
      "INFO - Added tag E to file with hash 48a3b889692ffb6a00c06f94befd42e54c0ebe35\n",
      "INFO - Processing file number 127 of 250: 829781\n",
      "INFO - Found file 829781 at N:\\PPDO\\Records\\90xx  Campus Utilities\\9065\\9065\\E - Program and Design\\E3 - Budget,  Cost Estimates,  Cost Proposal\\File 9065 E3 Phase 2 Cost Plan Workbook Budget Breakdown 02.05.08.pdf\n",
      "INFO - Processed file 829781 with tag E3 - Budget,  Cost Estimates,  Cost Proposal\n",
      "INFO - Added tag E3 to file with hash 6a30513870dde2a5faab2ce17bbc9bedf3a818a7\n",
      "INFO - Added tag E to file with hash 6a30513870dde2a5faab2ce17bbc9bedf3a818a7\n",
      "INFO - Processing file number 128 of 250: 546218\n",
      "INFO - Found file 546218 at N:\\PPDO\\Records\\66xx   Mount Hamilton\\6630\\6630\\E - Program and Design\\E3 - Budget,  Cost Estimates,  Cost Proposal\\File 6630 Projection balance 2-9-00.pdf\n",
      "INFO - Processed file 546218 with tag E3 - Budget,  Cost Estimates,  Cost Proposal\n",
      "INFO - Added tag E3 to file with hash 94cdef807d63ba47f7dde1b71a6e093642652c12\n",
      "INFO - Added tag E to file with hash 94cdef807d63ba47f7dde1b71a6e093642652c12\n",
      "INFO - Processing file number 129 of 250: 758906\n",
      "WARNING - File 758906 not found at N:\\PPDO\\Records\\16xx   Cowell College\\1601\\1601-129\\E - Program and Design\\E3 - Budget,  Cost Estimates,  Cost Proposal\\1601-129.E3.Cowell College Courtyard Step Lighting Cost Breakdown.xls\n",
      "WARNING - No valid file found for 758906\n",
      "INFO - Processing file number 130 of 250: 141885\n",
      "INFO - Found file 141885 at N:\\PPDO\\Records\\120xx  Off Campus Facilities\\12051 2505 Augustine\\12051-002\\E3 - Budget,  Cost Estimates,  Cost Proposal\\Landmark CQ's\\Cost Quotation Log 9-16-11.xls\n",
      "INFO - Processed file 141885 with tag E3 - Budget,  Cost Estimates,  Cost Proposal\n",
      "INFO - Added tag E3 to file with hash f596f506c14590078bf0550ece12690b145ef6d6\n",
      "INFO - Added tag E to file with hash f596f506c14590078bf0550ece12690b145ef6d6\n",
      "INFO - Processing file number 131 of 250: 791106\n",
      "INFO - Found file 791106 at N:\\PPDO\\Records\\49xx   Long Marine Lab\\4932\\4932\\E - Program and Design\\E3 - Budget,  Cost Estimates,  Cost Proposal\\Detailed Expenses\\14-11-24 Coastal Biology Capital Project.pdf\n",
      "INFO - Processed file 791106 with tag E3 - Budget,  Cost Estimates,  Cost Proposal\n",
      "INFO - Added tag E3 to file with hash 61f7973e95b8f2417f8b4be57730d96c17b278e3\n",
      "INFO - Added tag E to file with hash 61f7973e95b8f2417f8b4be57730d96c17b278e3\n",
      "INFO - Processing file number 132 of 250: 273582\n",
      "INFO - Found file 273582 at N:\\PPDO\\Records\\27xx   Applied Sciences Baskin Engineering\\2721\\2721-002\\2721-002\\E-Program and Design\\E3 - Budget,  Cost Estimates,  Cost Proposal\\File 2721-002 Lee & Assoc. Budget Estimates.pdf\n",
      "INFO - Processed file 273582 with tag E3 - Budget,  Cost Estimates,  Cost Proposal\n",
      "INFO - Added tag E3 to file with hash e8e27c8c790048a99b47ceb923fb1bd75dafe3e2\n",
      "INFO - Added tag E to file with hash e8e27c8c790048a99b47ceb923fb1bd75dafe3e2\n",
      "INFO - Processing file number 133 of 250: 844188\n",
      "INFO - Found file 844188 at N:\\PPDO\\Records\\106xx  2300 Delaware Westside Research Park\\10634\\10634\\E - Program and Design\\E3 - Budget,  Cost Estimates,  Cost Proposal\\2300 Delaware Analysis for CMM Draft 2-03-12.pdf\n",
      "INFO - Processed file 844188 with tag E3 - Budget,  Cost Estimates,  Cost Proposal\n",
      "INFO - Added tag E3 to file with hash eae18a3c67202742a39c75c5f529fff14534f7e1\n",
      "INFO - Added tag E to file with hash eae18a3c67202742a39c75c5f529fff14534f7e1\n",
      "INFO - Processing file number 134 of 250: 339232\n",
      "INFO - Found file 339232 at N:\\PPDO\\Records\\32xx   Kresge College (College 6)\\3238\\3238\\E - Program and Design\\E3 - Budget,  Cost Estimates,  Cost Proposal\\190418 Kresge Capital Project (multiple capital accounts)\\Kresge Library sub-project 976387.xls\n",
      "INFO - Processed file 339232 with tag E3 - Budget,  Cost Estimates,  Cost Proposal\n",
      "INFO - Added tag E3 to file with hash af9c3e97d20d1c5f4d5d076d8448ec0dc0f9062f\n",
      "INFO - Added tag E to file with hash af9c3e97d20d1c5f4d5d076d8448ec0dc0f9062f\n",
      "INFO - Processing file number 135 of 250: 605642\n",
      "INFO - Found file 605642 at N:\\PPDO\\Records\\90xx  Campus Utilities\\9097\\9097H\\E3 - Budget,  Cost Estimates,  Cost Proposal\\90CD\\from CPSM\\973830 Telecom Phase B State Project Budget Workbook updated 5-5-15.xls\n",
      "INFO - Processed file 605642 with tag E3 - Budget,  Cost Estimates,  Cost Proposal\n",
      "INFO - Added tag E3 to file with hash 48f67b0338a07da08c1843be1bc5b54ed635e5bc\n",
      "INFO - Added tag E to file with hash 48f67b0338a07da08c1843be1bc5b54ed635e5bc\n",
      "INFO - Processing file number 136 of 250: 360934\n",
      "INFO - Found file 360934 at N:\\PPDO\\Records\\34xx   Surge Bldgs & Modulars\\3499\\3499-048\\E3 - Budget,  Cost Estimates,  Cost Proposal\\File 3499-048 Office of Campus Facilties Increase Request 3-21-00.pdf\n",
      "INFO - Processed file 360934 with tag E3 - Budget,  Cost Estimates,  Cost Proposal\n",
      "INFO - Added tag E3 to file with hash 4125bba38d3c2bb5cb71886d44923b46c1ef7e91\n",
      "INFO - Added tag E to file with hash 4125bba38d3c2bb5cb71886d44923b46c1ef7e91\n",
      "INFO - Processing file number 137 of 250: 791359\n",
      "INFO - Found file 791359 at N:\\PPDO\\Records\\49xx   Long Marine Lab\\4932\\4932\\E - Program and Design\\E3 - Budget,  Cost Estimates,  Cost Proposal\\Project Budget Workbooks\\Pre-2013 Budget\\CBB Budget, Taps Costs, Add services, PWC Sheets  - Julian 4-15-11.xls\n",
      "INFO - Processed file 791359 with tag E3 - Budget,  Cost Estimates,  Cost Proposal\n",
      "INFO - Added tag E3 to file with hash c4887f63a9a8edd736538e1e16a5f9647f2c8efc\n",
      "INFO - Added tag E to file with hash c4887f63a9a8edd736538e1e16a5f9647f2c8efc\n",
      "INFO - Processing file number 138 of 250: 912182\n",
      "INFO - Found file 912182 at N:\\PPDO\\Records\\53xx   Rachel Carson College (8)\\5305\\5305-015\\C2 - Other Consultants\\E - Program and Design\\E3 - Budget,  Cost Estimates,  Cost Proposal\\Parking Cost\\Initial Coordination\\eventchange.pdf\n",
      "INFO - Processed file 912182 with tag E3 - Budget,  Cost Estimates,  Cost Proposal\n",
      "INFO - Added tag E3 to file with hash 187ea2b3175fb8a7e1f4421178240f57781b44f0\n",
      "INFO - Added tag E to file with hash 187ea2b3175fb8a7e1f4421178240f57781b44f0\n",
      "INFO - Processing file number 139 of 250: 16368\n",
      "INFO - Found file 16368 at N:\\PPDO\\Records\\13xx   Original Ranch Buildings\\1326\\1326\\E - Program and Design\\E3 - Budget,  Cost Estimates,  Cost Proposal\\Budgets\\Budget Worksheets\\Hay Barn Budget 140203.xls\n",
      "INFO - Processed file 16368 with tag E3 - Budget,  Cost Estimates,  Cost Proposal\n",
      "INFO - Added tag E3 to file with hash 076d0a01e0c46890e6019a5d01da589c877e18e9\n",
      "INFO - Added tag E to file with hash 076d0a01e0c46890e6019a5d01da589c877e18e9\n",
      "INFO - Processing file number 140 of 250: 574638\n",
      "INFO - Found file 574638 at N:\\PPDO\\Records\\76xx   Emergency Response Center\\7603\\7603\\7603 ERC Emergency Storm Drainage Repairs 2\\E - Program and Design\\E3 - Budget,  Cost Estimates,  Cost Proposal\\7603.E3.18 06 14 WO00391689 Cost Report.pdf\n",
      "INFO - Processed file 574638 with tag E3 - Budget,  Cost Estimates,  Cost Proposal\n",
      "INFO - Added tag E3 to file with hash 9a86ff2d872c099ded97ef5307b5f82526e463c1\n",
      "INFO - Added tag E to file with hash 9a86ff2d872c099ded97ef5307b5f82526e463c1\n",
      "INFO - Processing file number 141 of 250: 746868\n",
      "WARNING - File 746868 not found at N:\\PPDO\\Records\\18xx   Mc Henry Library Unit I\\1800\\1800-174\\E - Program and Design\\E3 - Budget,  Cost Estimates,  Cost Proposal\\18 05 15 WO00410434 Cost Report.pdf\n",
      "WARNING - No valid file found for 746868\n",
      "INFO - Processing file number 142 of 250: 598434\n",
      "INFO - Found file 598434 at N:\\PPDO\\Records\\90xx  Campus Utilities\\9072\\9072\\E3 - Budget,  Cost Estimates,  Cost Proposal\\100% CD\\5. SC Inf-P2_W_Estimate 11-30-12.pdf\n"
     ]
    },
    {
     "data": {
      "application/vnd.jupyter.widget-view+json": {
       "model_id": "021dc944455b4b07a7ec29f5a68fac3c",
       "version_major": 2,
       "version_minor": 0
      },
      "text/plain": [
       "Output()"
      ]
     },
     "metadata": {},
     "output_type": "display_data"
    },
    {
     "data": {
      "text/html": [
       "<pre style=\"white-space:pre;overflow-x:auto;line-height:normal;font-family:Menlo,'DejaVu Sans Mono',consolas,'Courier New',monospace\"></pre>\n"
      ],
      "text/plain": []
     },
     "metadata": {},
     "output_type": "display_data"
    },
    {
     "data": {
      "application/vnd.jupyter.widget-view+json": {
       "model_id": "e386e6b03eda4e05954b03dd7073cb07",
       "version_major": 2,
       "version_minor": 0
      },
      "text/plain": [
       "Output()"
      ]
     },
     "metadata": {},
     "output_type": "display_data"
    },
    {
     "data": {
      "text/html": [
       "<pre style=\"white-space:pre;overflow-x:auto;line-height:normal;font-family:Menlo,'DejaVu Sans Mono',consolas,'Courier New',monospace\"></pre>\n"
      ],
      "text/plain": []
     },
     "metadata": {},
     "output_type": "display_data"
    },
    {
     "data": {
      "application/vnd.jupyter.widget-view+json": {
       "model_id": "dd7ca7cab6cb46efb41ec8d7dab89253",
       "version_major": 2,
       "version_minor": 0
      },
      "text/plain": [
       "Output()"
      ]
     },
     "metadata": {},
     "output_type": "display_data"
    },
    {
     "data": {
      "text/html": [
       "<pre style=\"white-space:pre;overflow-x:auto;line-height:normal;font-family:Menlo,'DejaVu Sans Mono',consolas,'Courier New',monospace\"></pre>\n"
      ],
      "text/plain": []
     },
     "metadata": {},
     "output_type": "display_data"
    },
    {
     "data": {
      "application/vnd.jupyter.widget-view+json": {
       "model_id": "5f00f1fe99c04903b1f3842ccd1e06aa",
       "version_major": 2,
       "version_minor": 0
      },
      "text/plain": [
       "Output()"
      ]
     },
     "metadata": {},
     "output_type": "display_data"
    },
    {
     "data": {
      "text/html": [
       "<pre style=\"white-space:pre;overflow-x:auto;line-height:normal;font-family:Menlo,'DejaVu Sans Mono',consolas,'Courier New',monospace\"></pre>\n"
      ],
      "text/plain": []
     },
     "metadata": {},
     "output_type": "display_data"
    },
    {
     "data": {
      "application/vnd.jupyter.widget-view+json": {
       "model_id": "c11d5dbb71f94824b9c729639621d80a",
       "version_major": 2,
       "version_minor": 0
      },
      "text/plain": [
       "Output()"
      ]
     },
     "metadata": {},
     "output_type": "display_data"
    },
    {
     "data": {
      "text/html": [
       "<pre style=\"white-space:pre;overflow-x:auto;line-height:normal;font-family:Menlo,'DejaVu Sans Mono',consolas,'Courier New',monospace\"></pre>\n"
      ],
      "text/plain": []
     },
     "metadata": {},
     "output_type": "display_data"
    },
    {
     "data": {
      "application/vnd.jupyter.widget-view+json": {
       "model_id": "35e5c3e09d404b44b3ff1c91b223ee64",
       "version_major": 2,
       "version_minor": 0
      },
      "text/plain": [
       "Output()"
      ]
     },
     "metadata": {},
     "output_type": "display_data"
    },
    {
     "data": {
      "text/html": [
       "<pre style=\"white-space:pre;overflow-x:auto;line-height:normal;font-family:Menlo,'DejaVu Sans Mono',consolas,'Courier New',monospace\"></pre>\n"
      ],
      "text/plain": []
     },
     "metadata": {},
     "output_type": "display_data"
    },
    {
     "name": "stderr",
     "output_type": "stream",
     "text": [
      "The output file size is 8.34× larger than the input file.\n",
      "Possible reasons for this include:\n",
      "--deskew was issued, causing transcoding.\n",
      "The optional dependency 'jbig2' was not found, so some image optimizations could not be attempted.\n",
      "The optional dependency 'pngquant' was not found, so some image optimizations could not be attempted.\n",
      "\n",
      "INFO - Processed file 598434 with tag E3 - Budget,  Cost Estimates,  Cost Proposal\n",
      "INFO - Added tag E3 to file with hash cc7c1cdf4ebc421b4c73b1aaa1607619f1df8f9c\n",
      "INFO - Added tag E to file with hash cc7c1cdf4ebc421b4c73b1aaa1607619f1df8f9c\n",
      "INFO - Processing file number 143 of 250: 684092\n",
      "INFO - Found file 684092 at N:\\PPDO\\Records\\85xx   Pedestrian Paths and Site Development\\8500\\8500-008\\E - Program and Design\\E3 - Budget,  Cost Estimates,  Cost Proposal\\8500-008 _e3 (2).pdf\n"
     ]
    },
    {
     "data": {
      "application/vnd.jupyter.widget-view+json": {
       "model_id": "8377c7d6a7b746fca0757d5d95f983d0",
       "version_major": 2,
       "version_minor": 0
      },
      "text/plain": [
       "Output()"
      ]
     },
     "metadata": {},
     "output_type": "display_data"
    },
    {
     "data": {
      "text/html": [
       "<pre style=\"white-space:pre;overflow-x:auto;line-height:normal;font-family:Menlo,'DejaVu Sans Mono',consolas,'Courier New',monospace\"></pre>\n"
      ],
      "text/plain": []
     },
     "metadata": {},
     "output_type": "display_data"
    },
    {
     "data": {
      "application/vnd.jupyter.widget-view+json": {
       "model_id": "1f0bad5ad58e429fba5ed7d26d40fa06",
       "version_major": 2,
       "version_minor": 0
      },
      "text/plain": [
       "Output()"
      ]
     },
     "metadata": {},
     "output_type": "display_data"
    },
    {
     "data": {
      "text/html": [
       "<pre style=\"white-space:pre;overflow-x:auto;line-height:normal;font-family:Menlo,'DejaVu Sans Mono',consolas,'Courier New',monospace\"></pre>\n"
      ],
      "text/plain": []
     },
     "metadata": {},
     "output_type": "display_data"
    },
    {
     "data": {
      "application/vnd.jupyter.widget-view+json": {
       "model_id": "4a77a1d51bfd478c9a99ad710cdbf82a",
       "version_major": 2,
       "version_minor": 0
      },
      "text/plain": [
       "Output()"
      ]
     },
     "metadata": {},
     "output_type": "display_data"
    },
    {
     "data": {
      "text/html": [
       "<pre style=\"white-space:pre;overflow-x:auto;line-height:normal;font-family:Menlo,'DejaVu Sans Mono',consolas,'Courier New',monospace\"></pre>\n"
      ],
      "text/plain": []
     },
     "metadata": {},
     "output_type": "display_data"
    },
    {
     "data": {
      "application/vnd.jupyter.widget-view+json": {
       "model_id": "f42228b97d2042fb8af0d4fb3369e58c",
       "version_major": 2,
       "version_minor": 0
      },
      "text/plain": [
       "Output()"
      ]
     },
     "metadata": {},
     "output_type": "display_data"
    },
    {
     "data": {
      "text/html": [
       "<pre style=\"white-space:pre;overflow-x:auto;line-height:normal;font-family:Menlo,'DejaVu Sans Mono',consolas,'Courier New',monospace\"></pre>\n"
      ],
      "text/plain": []
     },
     "metadata": {},
     "output_type": "display_data"
    },
    {
     "data": {
      "application/vnd.jupyter.widget-view+json": {
       "model_id": "fed57775536147689604a7c08cbd94e3",
       "version_major": 2,
       "version_minor": 0
      },
      "text/plain": [
       "Output()"
      ]
     },
     "metadata": {},
     "output_type": "display_data"
    },
    {
     "data": {
      "text/html": [
       "<pre style=\"white-space:pre;overflow-x:auto;line-height:normal;font-family:Menlo,'DejaVu Sans Mono',consolas,'Courier New',monospace\"></pre>\n"
      ],
      "text/plain": []
     },
     "metadata": {},
     "output_type": "display_data"
    },
    {
     "data": {
      "application/vnd.jupyter.widget-view+json": {
       "model_id": "d703ef462fac4b33a250519d2faa4931",
       "version_major": 2,
       "version_minor": 0
      },
      "text/plain": [
       "Output()"
      ]
     },
     "metadata": {},
     "output_type": "display_data"
    },
    {
     "data": {
      "text/html": [
       "<pre style=\"white-space:pre;overflow-x:auto;line-height:normal;font-family:Menlo,'DejaVu Sans Mono',consolas,'Courier New',monospace\"></pre>\n"
      ],
      "text/plain": []
     },
     "metadata": {},
     "output_type": "display_data"
    },
    {
     "name": "stderr",
     "output_type": "stream",
     "text": [
      "INFO - Processed file 684092 with tag E3 - Budget,  Cost Estimates,  Cost Proposal\n",
      "INFO - Added tag E3 to file with hash 963781cb86c07a059a56dbf542f890e6770b502b\n",
      "INFO - Added tag E to file with hash 963781cb86c07a059a56dbf542f890e6770b502b\n",
      "INFO - Processing file number 144 of 250: 843871\n",
      "INFO - Found file 843871 at N:\\PPDO\\Records\\83xx   Physical Education Facility\\8300\\8300-009\\E3 - Budget,  Cost Estimates,  Cost Proposal\\File 8300-009 Nevco Warner Construction Cost Proposal.pdf\n",
      "INFO - Processed file 843871 with tag E3 - Budget,  Cost Estimates,  Cost Proposal\n",
      "INFO - Added tag E3 to file with hash 3ca670f0aa5eeed2430e9d55527d9e46ce34a719\n",
      "INFO - Added tag E to file with hash 3ca670f0aa5eeed2430e9d55527d9e46ce34a719\n",
      "INFO - Processing file number 145 of 250: 480432\n",
      "INFO - Found file 480432 at N:\\PPDO\\Records\\55xx   College 9 & 10\\5510 Res Halls & Dining\\5510-043A\\E - Program and Design\\E3 - Budget,  Cost Estimates,  Cost Proposal\\For Ref-DishWasher Cost at Rachel Carson.pdf\n",
      "INFO - Processed file 480432 with tag E3 - Budget,  Cost Estimates,  Cost Proposal\n",
      "INFO - Added tag E3 to file with hash 80d3f21bf59ebd224dbd86b114e3572914dfe883\n",
      "INFO - Added tag E to file with hash 80d3f21bf59ebd224dbd86b114e3572914dfe883\n",
      "INFO - Processing file number 146 of 250: 79023\n",
      "INFO - Found file 79023 at N:\\PPDO\\Records\\100xx  Multiple Locations\\10063\\10063\\E - Program and Design\\E3 - Budget,  Cost Estimates,  Cost Proposal\\10063.E3.Opinion of Probable Cost.pdf\n"
     ]
    },
    {
     "data": {
      "application/vnd.jupyter.widget-view+json": {
       "model_id": "ea78a36088eb4970b49d6a72aad1af07",
       "version_major": 2,
       "version_minor": 0
      },
      "text/plain": [
       "Output()"
      ]
     },
     "metadata": {},
     "output_type": "display_data"
    },
    {
     "data": {
      "text/html": [
       "<pre style=\"white-space:pre;overflow-x:auto;line-height:normal;font-family:Menlo,'DejaVu Sans Mono',consolas,'Courier New',monospace\"></pre>\n"
      ],
      "text/plain": []
     },
     "metadata": {},
     "output_type": "display_data"
    },
    {
     "data": {
      "application/vnd.jupyter.widget-view+json": {
       "model_id": "27eed159778d492a96542eee38c0afc3",
       "version_major": 2,
       "version_minor": 0
      },
      "text/plain": [
       "Output()"
      ]
     },
     "metadata": {},
     "output_type": "display_data"
    },
    {
     "data": {
      "text/html": [
       "<pre style=\"white-space:pre;overflow-x:auto;line-height:normal;font-family:Menlo,'DejaVu Sans Mono',consolas,'Courier New',monospace\"></pre>\n"
      ],
      "text/plain": []
     },
     "metadata": {},
     "output_type": "display_data"
    },
    {
     "data": {
      "application/vnd.jupyter.widget-view+json": {
       "model_id": "13d0b8e1d7bf4d97a10058d85d009363",
       "version_major": 2,
       "version_minor": 0
      },
      "text/plain": [
       "Output()"
      ]
     },
     "metadata": {},
     "output_type": "display_data"
    },
    {
     "data": {
      "text/html": [
       "<pre style=\"white-space:pre;overflow-x:auto;line-height:normal;font-family:Menlo,'DejaVu Sans Mono',consolas,'Courier New',monospace\"></pre>\n"
      ],
      "text/plain": []
     },
     "metadata": {},
     "output_type": "display_data"
    },
    {
     "data": {
      "application/vnd.jupyter.widget-view+json": {
       "model_id": "2b968543c033409e8c4ea6e3ae0b01eb",
       "version_major": 2,
       "version_minor": 0
      },
      "text/plain": [
       "Output()"
      ]
     },
     "metadata": {},
     "output_type": "display_data"
    },
    {
     "data": {
      "text/html": [
       "<pre style=\"white-space:pre;overflow-x:auto;line-height:normal;font-family:Menlo,'DejaVu Sans Mono',consolas,'Courier New',monospace\"></pre>\n"
      ],
      "text/plain": []
     },
     "metadata": {},
     "output_type": "display_data"
    },
    {
     "data": {
      "application/vnd.jupyter.widget-view+json": {
       "model_id": "9c9c9a6ab65649f593464235b5544673",
       "version_major": 2,
       "version_minor": 0
      },
      "text/plain": [
       "Output()"
      ]
     },
     "metadata": {},
     "output_type": "display_data"
    },
    {
     "data": {
      "text/html": [
       "<pre style=\"white-space:pre;overflow-x:auto;line-height:normal;font-family:Menlo,'DejaVu Sans Mono',consolas,'Courier New',monospace\"></pre>\n"
      ],
      "text/plain": []
     },
     "metadata": {},
     "output_type": "display_data"
    },
    {
     "data": {
      "application/vnd.jupyter.widget-view+json": {
       "model_id": "c8ba2af569a743ddb1ff708b25893c80",
       "version_major": 2,
       "version_minor": 0
      },
      "text/plain": [
       "Output()"
      ]
     },
     "metadata": {},
     "output_type": "display_data"
    },
    {
     "data": {
      "text/html": [
       "<pre style=\"white-space:pre;overflow-x:auto;line-height:normal;font-family:Menlo,'DejaVu Sans Mono',consolas,'Courier New',monospace\"></pre>\n"
      ],
      "text/plain": []
     },
     "metadata": {},
     "output_type": "display_data"
    },
    {
     "name": "stderr",
     "output_type": "stream",
     "text": [
      "The output file size is 7.58× larger than the input file.\n",
      "Possible reasons for this include:\n",
      "--deskew was issued, causing transcoding.\n",
      "The optional dependency 'jbig2' was not found, so some image optimizations could not be attempted.\n",
      "The optional dependency 'pngquant' was not found, so some image optimizations could not be attempted.\n",
      "\n",
      "INFO - Processed file 79023 with tag E3 - Budget,  Cost Estimates,  Cost Proposal\n",
      "INFO - Added tag E3 to file with hash ffa5561363c2b145a2d10e36f22eebeb1ad45011\n",
      "INFO - Added tag E to file with hash ffa5561363c2b145a2d10e36f22eebeb1ad45011\n",
      "INFO - Processing file number 147 of 250: 234259\n",
      "WARNING - File 234259 not found at N:\\PPDO\\Records\\23xx   Crown College (College 3)\\2351\\E3 - Budget,  Cost Estimates,  Cost Proposal\\File 2351 Cost Proposal Summary.pdf\n",
      "WARNING - No valid file found for 234259\n",
      "INFO - Processing file number 148 of 250: 805315\n",
      "INFO - Found file 805315 at N:\\PPDO\\Records\\68xx   East Campus Infill\\6801\\6801\\E- Program and Design\\E3 - Budget,  Cost Estimates,  Cost Proposal\\Dec 12 2008 Pricing Package\\Specifications\\Architectural\\Division 10.doc\n",
      "INFO - Processed file 805315 with tag E3 - Budget,  Cost Estimates,  Cost Proposal\n",
      "INFO - Added tag E3 to file with hash 831e80a8f7d9d3635d32d1e343b1c139ee04614e\n",
      "INFO - Added tag E to file with hash 831e80a8f7d9d3635d32d1e343b1c139ee04614e\n",
      "INFO - Processing file number 149 of 250: 579233\n",
      "INFO - Found file 579233 at N:\\PPDO\\Records\\85xx   Pedestrian Paths and Site Development\\8500\\8500-028\\E - Program and Design\\E3 - Budget,  Cost Estimates,  Cost Proposal\\8500-028 E3 Estimate, 11-6-14.pdf\n",
      "INFO - Processed file 579233 with tag E3 - Budget,  Cost Estimates,  Cost Proposal\n",
      "INFO - Added tag E3 to file with hash dbb0dd1b61e3fb837b69cb656d3a32757acf1a06\n",
      "INFO - Added tag E to file with hash dbb0dd1b61e3fb837b69cb656d3a32757acf1a06\n",
      "INFO - Processing file number 150 of 250: 976914\n",
      "INFO - Found file 976914 at N:\\PPDO\\Records\\32xx   Kresge College (College 6)\\3239 Non-Acad Reno\\3239\\E - Program and Design\\E3 - Budget,  Cost Estimates,  Cost Proposal\\E3. Budget_Cost Estimates\\E3.2. Cost Estimates\\220114_DL DB ROM Cost Estimate\\2022-0160RPT110a UCSC Kresge Phase 2 DB 2022-01-14.pdf\n",
      "INFO - Processed file 976914 with tag E3 - Budget,  Cost Estimates,  Cost Proposal\n",
      "INFO - Added tag E3 to file with hash 081bab96e6822e22c8e90e5018898e047f04683c\n",
      "INFO - Added tag E to file with hash 081bab96e6822e22c8e90e5018898e047f04683c\n",
      "INFO - Processing file number 151 of 250: 746670\n",
      "INFO - Found file 746670 at N:\\PPDO\\Records\\88xx   Campus Parking\\8884\\8884-008\\E - Program and Design\\E3 - Budget,  Cost Estimates,  Cost Proposal\\78308.pdf\n"
     ]
    },
    {
     "data": {
      "application/vnd.jupyter.widget-view+json": {
       "model_id": "b7a4c67b3ee24fd5ba7299e29ed20b72",
       "version_major": 2,
       "version_minor": 0
      },
      "text/plain": [
       "Output()"
      ]
     },
     "metadata": {},
     "output_type": "display_data"
    },
    {
     "data": {
      "text/html": [
       "<pre style=\"white-space:pre;overflow-x:auto;line-height:normal;font-family:Menlo,'DejaVu Sans Mono',consolas,'Courier New',monospace\"></pre>\n"
      ],
      "text/plain": []
     },
     "metadata": {},
     "output_type": "display_data"
    },
    {
     "data": {
      "application/vnd.jupyter.widget-view+json": {
       "model_id": "487447c9a69741419251248cece5f051",
       "version_major": 2,
       "version_minor": 0
      },
      "text/plain": [
       "Output()"
      ]
     },
     "metadata": {},
     "output_type": "display_data"
    },
    {
     "data": {
      "text/html": [
       "<pre style=\"white-space:pre;overflow-x:auto;line-height:normal;font-family:Menlo,'DejaVu Sans Mono',consolas,'Courier New',monospace\"></pre>\n"
      ],
      "text/plain": []
     },
     "metadata": {},
     "output_type": "display_data"
    },
    {
     "data": {
      "application/vnd.jupyter.widget-view+json": {
       "model_id": "50dec7ceb75c450d926f9b154d58e319",
       "version_major": 2,
       "version_minor": 0
      },
      "text/plain": [
       "Output()"
      ]
     },
     "metadata": {},
     "output_type": "display_data"
    },
    {
     "data": {
      "text/html": [
       "<pre style=\"white-space:pre;overflow-x:auto;line-height:normal;font-family:Menlo,'DejaVu Sans Mono',consolas,'Courier New',monospace\"></pre>\n"
      ],
      "text/plain": []
     },
     "metadata": {},
     "output_type": "display_data"
    },
    {
     "data": {
      "application/vnd.jupyter.widget-view+json": {
       "model_id": "eb181ce68eba4d63bc565dc8a9ec83e6",
       "version_major": 2,
       "version_minor": 0
      },
      "text/plain": [
       "Output()"
      ]
     },
     "metadata": {},
     "output_type": "display_data"
    },
    {
     "data": {
      "text/html": [
       "<pre style=\"white-space:pre;overflow-x:auto;line-height:normal;font-family:Menlo,'DejaVu Sans Mono',consolas,'Courier New',monospace\"></pre>\n"
      ],
      "text/plain": []
     },
     "metadata": {},
     "output_type": "display_data"
    },
    {
     "data": {
      "application/vnd.jupyter.widget-view+json": {
       "model_id": "c02ec1f0073940b1a690e8f938fb5162",
       "version_major": 2,
       "version_minor": 0
      },
      "text/plain": [
       "Output()"
      ]
     },
     "metadata": {},
     "output_type": "display_data"
    },
    {
     "data": {
      "text/html": [
       "<pre style=\"white-space:pre;overflow-x:auto;line-height:normal;font-family:Menlo,'DejaVu Sans Mono',consolas,'Courier New',monospace\"></pre>\n"
      ],
      "text/plain": []
     },
     "metadata": {},
     "output_type": "display_data"
    },
    {
     "data": {
      "application/vnd.jupyter.widget-view+json": {
       "model_id": "581cff2963be45138c79c6afdee15e3a",
       "version_major": 2,
       "version_minor": 0
      },
      "text/plain": [
       "Output()"
      ]
     },
     "metadata": {},
     "output_type": "display_data"
    },
    {
     "data": {
      "text/html": [
       "<pre style=\"white-space:pre;overflow-x:auto;line-height:normal;font-family:Menlo,'DejaVu Sans Mono',consolas,'Courier New',monospace\"></pre>\n"
      ],
      "text/plain": []
     },
     "metadata": {},
     "output_type": "display_data"
    },
    {
     "name": "stderr",
     "output_type": "stream",
     "text": [
      "INFO - Processed file 746670 with tag E3 - Budget,  Cost Estimates,  Cost Proposal\n",
      "INFO - Added tag E3 to file with hash b4c22bc11ecc65bf7387d66a894333a053eb4045\n",
      "INFO - Added tag E to file with hash b4c22bc11ecc65bf7387d66a894333a053eb4045\n",
      "INFO - Processing file number 152 of 250: 741713\n",
      "INFO - Found file 741713 at N:\\PPDO\\Records\\45xx   Bay Tree Bookstore\\4503\\4503-006\\E - Program and Design\\E3 - Budget,  Cost Estimates,  Cost Proposal\\4503-006.E3.18 10 09 - WO00411512 Cost Report.pdf\n",
      "INFO - Processed file 741713 with tag E3 - Budget,  Cost Estimates,  Cost Proposal\n",
      "INFO - Added tag E3 to file with hash 06e91142a872eeea274abc536c044df562d4d402\n",
      "INFO - Added tag E to file with hash 06e91142a872eeea274abc536c044df562d4d402\n",
      "INFO - Processing file number 153 of 250: 791389\n",
      "INFO - Found file 791389 at N:\\PPDO\\Records\\49xx   Long Marine Lab\\4932\\4932\\E - Program and Design\\E3 - Budget,  Cost Estimates,  Cost Proposal\\Swinerton's Estimates\\Bid Reconciliation Oct-Dec 2014\\UC Santa Cruz Mail - CBB Bid analysis.pdf\n",
      "INFO - Processed file 791389 with tag E3 - Budget,  Cost Estimates,  Cost Proposal\n",
      "INFO - Added tag E3 to file with hash e9d6c91136ce7494e65fc9428b01afacb2bdde32\n",
      "INFO - Added tag E to file with hash e9d6c91136ce7494e65fc9428b01afacb2bdde32\n",
      "INFO - Processing file number 154 of 250: 313021\n",
      "INFO - Found file 313021 at N:\\PPDO\\Records\\30xx   Porter College (College 5)\\3003\\3003-022\\3003-022 Porter Academic Rm 217 - Install TV & Video\\E - Program and Design\\E3 - Budget,  Cost Estimates,  Cost Proposal\\3003-022.E3.2017 12 04 WO#403818 Porter Acad - Projector  Screen Install - ESTIMATE - signed.pdf\n"
     ]
    },
    {
     "data": {
      "application/vnd.jupyter.widget-view+json": {
       "model_id": "2625fa5a161845c8b096ab087cd31a20",
       "version_major": 2,
       "version_minor": 0
      },
      "text/plain": [
       "Output()"
      ]
     },
     "metadata": {},
     "output_type": "display_data"
    },
    {
     "data": {
      "text/html": [
       "<pre style=\"white-space:pre;overflow-x:auto;line-height:normal;font-family:Menlo,'DejaVu Sans Mono',consolas,'Courier New',monospace\"></pre>\n"
      ],
      "text/plain": []
     },
     "metadata": {},
     "output_type": "display_data"
    },
    {
     "data": {
      "application/vnd.jupyter.widget-view+json": {
       "model_id": "cbf0c4032633411f8710084df40a3951",
       "version_major": 2,
       "version_minor": 0
      },
      "text/plain": [
       "Output()"
      ]
     },
     "metadata": {},
     "output_type": "display_data"
    },
    {
     "data": {
      "text/html": [
       "<pre style=\"white-space:pre;overflow-x:auto;line-height:normal;font-family:Menlo,'DejaVu Sans Mono',consolas,'Courier New',monospace\">[tesseract] Error during processing.\n",
       "</pre>\n"
      ],
      "text/plain": [
       "[tesseract] Error during processing.\n"
      ]
     },
     "metadata": {},
     "output_type": "display_data"
    },
    {
     "data": {
      "text/html": [
       "<pre style=\"white-space:pre;overflow-x:auto;line-height:normal;font-family:Menlo,'DejaVu Sans Mono',consolas,'Courier New',monospace\"></pre>\n"
      ],
      "text/plain": []
     },
     "metadata": {},
     "output_type": "display_data"
    },
    {
     "data": {
      "application/vnd.jupyter.widget-view+json": {
       "model_id": "3c6cc1886fd74f6fb75c66bf87c05eca",
       "version_major": 2,
       "version_minor": 0
      },
      "text/plain": [
       "Output()"
      ]
     },
     "metadata": {},
     "output_type": "display_data"
    },
    {
     "data": {
      "text/html": [
       "<pre style=\"white-space:pre;overflow-x:auto;line-height:normal;font-family:Menlo,'DejaVu Sans Mono',consolas,'Courier New',monospace\"></pre>\n"
      ],
      "text/plain": []
     },
     "metadata": {},
     "output_type": "display_data"
    },
    {
     "data": {
      "application/vnd.jupyter.widget-view+json": {
       "model_id": "c10f90c819924b2d971a27c4646cb629",
       "version_major": 2,
       "version_minor": 0
      },
      "text/plain": [
       "Output()"
      ]
     },
     "metadata": {},
     "output_type": "display_data"
    },
    {
     "data": {
      "text/html": [
       "<pre style=\"white-space:pre;overflow-x:auto;line-height:normal;font-family:Menlo,'DejaVu Sans Mono',consolas,'Courier New',monospace\"></pre>\n"
      ],
      "text/plain": []
     },
     "metadata": {},
     "output_type": "display_data"
    },
    {
     "data": {
      "application/vnd.jupyter.widget-view+json": {
       "model_id": "64d369984b95432a8c064f7b6b243634",
       "version_major": 2,
       "version_minor": 0
      },
      "text/plain": [
       "Output()"
      ]
     },
     "metadata": {},
     "output_type": "display_data"
    },
    {
     "data": {
      "text/html": [
       "<pre style=\"white-space:pre;overflow-x:auto;line-height:normal;font-family:Menlo,'DejaVu Sans Mono',consolas,'Courier New',monospace\"></pre>\n"
      ],
      "text/plain": []
     },
     "metadata": {},
     "output_type": "display_data"
    },
    {
     "data": {
      "application/vnd.jupyter.widget-view+json": {
       "model_id": "7fa31413f2574650ba781606aee311dc",
       "version_major": 2,
       "version_minor": 0
      },
      "text/plain": [
       "Output()"
      ]
     },
     "metadata": {},
     "output_type": "display_data"
    },
    {
     "data": {
      "text/html": [
       "<pre style=\"white-space:pre;overflow-x:auto;line-height:normal;font-family:Menlo,'DejaVu Sans Mono',consolas,'Courier New',monospace\"></pre>\n"
      ],
      "text/plain": []
     },
     "metadata": {},
     "output_type": "display_data"
    },
    {
     "name": "stderr",
     "output_type": "stream",
     "text": [
      "The output file size is 1.75× larger than the input file.\n",
      "Possible reasons for this include:\n",
      "--deskew was issued, causing transcoding.\n",
      "The optional dependency 'jbig2' was not found, so some image optimizations could not be attempted.\n",
      "The optional dependency 'pngquant' was not found, so some image optimizations could not be attempted.\n",
      "\n",
      "INFO - Processed file 313021 with tag E3 - Budget,  Cost Estimates,  Cost Proposal\n",
      "INFO - Added tag E3 to file with hash 7dedf2fffc39f812e2be307a30e53caf7b26b036\n",
      "INFO - Added tag E to file with hash 7dedf2fffc39f812e2be307a30e53caf7b26b036\n",
      "INFO - Processing file number 155 of 250: 705720\n",
      "INFO - Found file 705720 at N:\\PPDO\\Records\\88xx   Campus Parking\\8880\\8880-002C\\E - Program and Design\\E3 - Budget,  Cost Estimates,  Cost Proposal\\10000-201 Project Budget Workbook - PV at East Remote.xls\n",
      "INFO - Processed file 705720 with tag E3 - Budget,  Cost Estimates,  Cost Proposal\n",
      "INFO - Added tag E3 to file with hash 3e1e73649df351a8e5756487aef86994baee159b\n",
      "INFO - Added tag E to file with hash 3e1e73649df351a8e5756487aef86994baee159b\n",
      "INFO - Processing file number 156 of 250: 11291\n",
      "INFO - Found file 11291 at N:\\PPDO\\Records\\60xx   Science Library\\6005 SE Lib Reno\\6005-001\\E3 - Budget,  Cost Estimates,  Cost Proposal\\File 6005-001.E3 Project Summary 9-19-18.pdf\n",
      "INFO - Processed file 11291 with tag E3 - Budget,  Cost Estimates,  Cost Proposal\n",
      "INFO - Added tag E3 to file with hash c13a2aa3d5c41826bb3babfc23c20de3b9a4bee2\n",
      "INFO - Added tag E to file with hash c13a2aa3d5c41826bb3babfc23c20de3b9a4bee2\n",
      "INFO - Processing file number 157 of 250: 545231\n",
      "INFO - Found file 545231 at N:\\PPDO\\Records\\66xx   Mount Hamilton\\6614\\6614\\E - Program and Design\\E3 - Budget,  Cost Estimates,  Cost Proposal\\6614.E3.120 Telescope Bldg. Fabrication and installation project budget expense.pdf\n"
     ]
    },
    {
     "data": {
      "application/vnd.jupyter.widget-view+json": {
       "model_id": "6c8358f2b4ab499487b91c73e42cfbe7",
       "version_major": 2,
       "version_minor": 0
      },
      "text/plain": [
       "Output()"
      ]
     },
     "metadata": {},
     "output_type": "display_data"
    },
    {
     "data": {
      "text/html": [
       "<pre style=\"white-space:pre;overflow-x:auto;line-height:normal;font-family:Menlo,'DejaVu Sans Mono',consolas,'Courier New',monospace\"></pre>\n"
      ],
      "text/plain": []
     },
     "metadata": {},
     "output_type": "display_data"
    },
    {
     "data": {
      "application/vnd.jupyter.widget-view+json": {
       "model_id": "58abd54eeb774112a7664b3667390625",
       "version_major": 2,
       "version_minor": 0
      },
      "text/plain": [
       "Output()"
      ]
     },
     "metadata": {},
     "output_type": "display_data"
    },
    {
     "data": {
      "text/html": [
       "<pre style=\"white-space:pre;overflow-x:auto;line-height:normal;font-family:Menlo,'DejaVu Sans Mono',consolas,'Courier New',monospace\"></pre>\n"
      ],
      "text/plain": []
     },
     "metadata": {},
     "output_type": "display_data"
    },
    {
     "data": {
      "application/vnd.jupyter.widget-view+json": {
       "model_id": "57a87ee75c82460084eadea6a274414b",
       "version_major": 2,
       "version_minor": 0
      },
      "text/plain": [
       "Output()"
      ]
     },
     "metadata": {},
     "output_type": "display_data"
    },
    {
     "data": {
      "text/html": [
       "<pre style=\"white-space:pre;overflow-x:auto;line-height:normal;font-family:Menlo,'DejaVu Sans Mono',consolas,'Courier New',monospace\"></pre>\n"
      ],
      "text/plain": []
     },
     "metadata": {},
     "output_type": "display_data"
    },
    {
     "data": {
      "application/vnd.jupyter.widget-view+json": {
       "model_id": "7aba007e2baa43f2b264696b732ed469",
       "version_major": 2,
       "version_minor": 0
      },
      "text/plain": [
       "Output()"
      ]
     },
     "metadata": {},
     "output_type": "display_data"
    },
    {
     "data": {
      "text/html": [
       "<pre style=\"white-space:pre;overflow-x:auto;line-height:normal;font-family:Menlo,'DejaVu Sans Mono',consolas,'Courier New',monospace\"></pre>\n"
      ],
      "text/plain": []
     },
     "metadata": {},
     "output_type": "display_data"
    },
    {
     "data": {
      "application/vnd.jupyter.widget-view+json": {
       "model_id": "78741c155176407d8b86ea52f6da4f37",
       "version_major": 2,
       "version_minor": 0
      },
      "text/plain": [
       "Output()"
      ]
     },
     "metadata": {},
     "output_type": "display_data"
    },
    {
     "data": {
      "text/html": [
       "<pre style=\"white-space:pre;overflow-x:auto;line-height:normal;font-family:Menlo,'DejaVu Sans Mono',consolas,'Courier New',monospace\"></pre>\n"
      ],
      "text/plain": []
     },
     "metadata": {},
     "output_type": "display_data"
    },
    {
     "data": {
      "application/vnd.jupyter.widget-view+json": {
       "model_id": "21296bef77e841979d0c99cba926fe4d",
       "version_major": 2,
       "version_minor": 0
      },
      "text/plain": [
       "Output()"
      ]
     },
     "metadata": {},
     "output_type": "display_data"
    },
    {
     "data": {
      "text/html": [
       "<pre style=\"white-space:pre;overflow-x:auto;line-height:normal;font-family:Menlo,'DejaVu Sans Mono',consolas,'Courier New',monospace\"></pre>\n"
      ],
      "text/plain": []
     },
     "metadata": {},
     "output_type": "display_data"
    },
    {
     "name": "stderr",
     "output_type": "stream",
     "text": [
      "INFO - Processed file 545231 with tag E3 - Budget,  Cost Estimates,  Cost Proposal\n",
      "INFO - Added tag E3 to file with hash 7f709a16cab7741b1f7f2cb56d90e9289a89535d\n",
      "INFO - Added tag E to file with hash 7f709a16cab7741b1f7f2cb56d90e9289a89535d\n",
      "INFO - Processing file number 158 of 250: 684093\n",
      "INFO - Found file 684093 at N:\\PPDO\\Records\\85xx   Pedestrian Paths and Site Development\\8500\\8500-008\\E - Program and Design\\E3 - Budget,  Cost Estimates,  Cost Proposal\\8500-008 _e3.pdf\n"
     ]
    },
    {
     "data": {
      "application/vnd.jupyter.widget-view+json": {
       "model_id": "365ceb81501f4f17bbd923de7c6e3454",
       "version_major": 2,
       "version_minor": 0
      },
      "text/plain": [
       "Output()"
      ]
     },
     "metadata": {},
     "output_type": "display_data"
    },
    {
     "data": {
      "text/html": [
       "<pre style=\"white-space:pre;overflow-x:auto;line-height:normal;font-family:Menlo,'DejaVu Sans Mono',consolas,'Courier New',monospace\"></pre>\n"
      ],
      "text/plain": []
     },
     "metadata": {},
     "output_type": "display_data"
    },
    {
     "data": {
      "application/vnd.jupyter.widget-view+json": {
       "model_id": "a91d3645ce8d47af8d2b7e0ea46333b7",
       "version_major": 2,
       "version_minor": 0
      },
      "text/plain": [
       "Output()"
      ]
     },
     "metadata": {},
     "output_type": "display_data"
    },
    {
     "data": {
      "text/html": [
       "<pre style=\"white-space:pre;overflow-x:auto;line-height:normal;font-family:Menlo,'DejaVu Sans Mono',consolas,'Courier New',monospace\"></pre>\n"
      ],
      "text/plain": []
     },
     "metadata": {},
     "output_type": "display_data"
    },
    {
     "data": {
      "application/vnd.jupyter.widget-view+json": {
       "model_id": "e424e1888a19441589015e0b9d42f772",
       "version_major": 2,
       "version_minor": 0
      },
      "text/plain": [
       "Output()"
      ]
     },
     "metadata": {},
     "output_type": "display_data"
    },
    {
     "data": {
      "text/html": [
       "<pre style=\"white-space:pre;overflow-x:auto;line-height:normal;font-family:Menlo,'DejaVu Sans Mono',consolas,'Courier New',monospace\"></pre>\n"
      ],
      "text/plain": []
     },
     "metadata": {},
     "output_type": "display_data"
    },
    {
     "data": {
      "application/vnd.jupyter.widget-view+json": {
       "model_id": "3d1855f7b3bf498f9f7f524a5131a558",
       "version_major": 2,
       "version_minor": 0
      },
      "text/plain": [
       "Output()"
      ]
     },
     "metadata": {},
     "output_type": "display_data"
    },
    {
     "data": {
      "text/html": [
       "<pre style=\"white-space:pre;overflow-x:auto;line-height:normal;font-family:Menlo,'DejaVu Sans Mono',consolas,'Courier New',monospace\"></pre>\n"
      ],
      "text/plain": []
     },
     "metadata": {},
     "output_type": "display_data"
    },
    {
     "data": {
      "application/vnd.jupyter.widget-view+json": {
       "model_id": "a4b83984c8da4c5daec11ef1c9a31b07",
       "version_major": 2,
       "version_minor": 0
      },
      "text/plain": [
       "Output()"
      ]
     },
     "metadata": {},
     "output_type": "display_data"
    },
    {
     "data": {
      "text/html": [
       "<pre style=\"white-space:pre;overflow-x:auto;line-height:normal;font-family:Menlo,'DejaVu Sans Mono',consolas,'Courier New',monospace\"></pre>\n"
      ],
      "text/plain": []
     },
     "metadata": {},
     "output_type": "display_data"
    },
    {
     "data": {
      "application/vnd.jupyter.widget-view+json": {
       "model_id": "36d2e92b87b54e0eb720967ad2844fb9",
       "version_major": 2,
       "version_minor": 0
      },
      "text/plain": [
       "Output()"
      ]
     },
     "metadata": {},
     "output_type": "display_data"
    },
    {
     "data": {
      "text/html": [
       "<pre style=\"white-space:pre;overflow-x:auto;line-height:normal;font-family:Menlo,'DejaVu Sans Mono',consolas,'Courier New',monospace\"></pre>\n"
      ],
      "text/plain": []
     },
     "metadata": {},
     "output_type": "display_data"
    },
    {
     "name": "stderr",
     "output_type": "stream",
     "text": [
      "INFO - Processed file 684093 with tag E3 - Budget,  Cost Estimates,  Cost Proposal\n",
      "INFO - Added tag E3 to file with hash a5c363783aaf6b01e7fd2b483c8ad5d7c87f32aa\n",
      "INFO - Added tag E to file with hash a5c363783aaf6b01e7fd2b483c8ad5d7c87f32aa\n",
      "INFO - Processing file number 159 of 250: 362768\n",
      "INFO - Found file 362768 at N:\\PPDO\\Records\\36xx   Student Facilities\\3600\\3600-003\\E3 - Budget,  Cost Estimates,  Cost Proposal\\Budget\\PICA Kitchen, Initial Planning Budget DRAFT 7-28-09.xls\n",
      "INFO - Processed file 362768 with tag E3 - Budget,  Cost Estimates,  Cost Proposal\n",
      "INFO - Added tag E3 to file with hash 2925608aa1d4c1f79a2dbaaedd8a71c7ad32e43a\n",
      "INFO - Added tag E to file with hash 2925608aa1d4c1f79a2dbaaedd8a71c7ad32e43a\n",
      "INFO - Processing file number 160 of 250: 886390\n",
      "INFO - Found file 886390 at N:\\PPDO\\Records\\89xx   Campus Roads\\8951\\8951B\\E - Program and Design\\E3 - Budget,  Cost Estimates,  Cost Proposal\\8951B.E3 - 17 09 21, WO00399934 Cost Report.pdf\n",
      "INFO - Processed file 886390 with tag E3 - Budget,  Cost Estimates,  Cost Proposal\n",
      "INFO - Added tag E3 to file with hash a7534e5f728b1eae4dc2f95bde3d364a52367f71\n",
      "INFO - Added tag E to file with hash a7534e5f728b1eae4dc2f95bde3d364a52367f71\n",
      "INFO - Processing file number 161 of 250: 791157\n",
      "INFO - Found file 791157 at N:\\PPDO\\Records\\49xx   Long Marine Lab\\4932\\4932\\E - Program and Design\\E3 - Budget,  Cost Estimates,  Cost Proposal\\Project Budget Workbooks\\2014 Project Budget Workbooks - Final W1 Phase UCOP Submittal\\Total Project Costs Combined v3.xls\n",
      "INFO - Processed file 791157 with tag E3 - Budget,  Cost Estimates,  Cost Proposal\n",
      "INFO - Added tag E3 to file with hash 64af22a1264eb91c4cf55b0ce4872cca61d0fc9c\n",
      "INFO - Added tag E to file with hash 64af22a1264eb91c4cf55b0ce4872cca61d0fc9c\n",
      "INFO - Processing file number 162 of 250: 782537\n",
      "INFO - Found file 782537 at N:\\PPDO\\Records\\48xx   Family Student Housing\\4839\\4839-001\\E - Program and Design\\E3 - Budget,  Cost Estimates,  Cost Proposal\\Early Education School Age Modular Water Damage Repairs.pdf\n",
      "INFO - Processed file 782537 with tag E3 - Budget,  Cost Estimates,  Cost Proposal\n",
      "INFO - Added tag E3 to file with hash 159d118ed20c63bb7bb1d101966698df936e607d\n",
      "INFO - Added tag E to file with hash 159d118ed20c63bb7bb1d101966698df936e607d\n",
      "INFO - Processing file number 163 of 250: 592063\n",
      "INFO - Found file 592063 at N:\\PPDO\\Records\\90xx  Campus Utilities\\9049\\9049\\E - Program and Design\\E3 - Budget,  Cost Estimates,  Cost Proposal\\9049.E3. Complete Budget.pdf\n"
     ]
    },
    {
     "data": {
      "application/vnd.jupyter.widget-view+json": {
       "model_id": "01b4506e9aa34093a16dece31db36035",
       "version_major": 2,
       "version_minor": 0
      },
      "text/plain": [
       "Output()"
      ]
     },
     "metadata": {},
     "output_type": "display_data"
    },
    {
     "data": {
      "text/html": [
       "<pre style=\"white-space:pre;overflow-x:auto;line-height:normal;font-family:Menlo,'DejaVu Sans Mono',consolas,'Courier New',monospace\"></pre>\n"
      ],
      "text/plain": []
     },
     "metadata": {},
     "output_type": "display_data"
    },
    {
     "data": {
      "application/vnd.jupyter.widget-view+json": {
       "model_id": "3f1cc046f1594f0295f050fa13c21689",
       "version_major": 2,
       "version_minor": 0
      },
      "text/plain": [
       "Output()"
      ]
     },
     "metadata": {},
     "output_type": "display_data"
    },
    {
     "data": {
      "text/html": [
       "<pre style=\"white-space:pre;overflow-x:auto;line-height:normal;font-family:Menlo,'DejaVu Sans Mono',consolas,'Courier New',monospace\"></pre>\n"
      ],
      "text/plain": []
     },
     "metadata": {},
     "output_type": "display_data"
    },
    {
     "data": {
      "application/vnd.jupyter.widget-view+json": {
       "model_id": "14918a158f7c432c96c418e18dd05c2f",
       "version_major": 2,
       "version_minor": 0
      },
      "text/plain": [
       "Output()"
      ]
     },
     "metadata": {},
     "output_type": "display_data"
    },
    {
     "data": {
      "text/html": [
       "<pre style=\"white-space:pre;overflow-x:auto;line-height:normal;font-family:Menlo,'DejaVu Sans Mono',consolas,'Courier New',monospace\"></pre>\n"
      ],
      "text/plain": []
     },
     "metadata": {},
     "output_type": "display_data"
    },
    {
     "data": {
      "application/vnd.jupyter.widget-view+json": {
       "model_id": "219aea3d444a481fb0fa9df2155a31c3",
       "version_major": 2,
       "version_minor": 0
      },
      "text/plain": [
       "Output()"
      ]
     },
     "metadata": {},
     "output_type": "display_data"
    },
    {
     "data": {
      "text/html": [
       "<pre style=\"white-space:pre;overflow-x:auto;line-height:normal;font-family:Menlo,'DejaVu Sans Mono',consolas,'Courier New',monospace\"></pre>\n"
      ],
      "text/plain": []
     },
     "metadata": {},
     "output_type": "display_data"
    },
    {
     "data": {
      "application/vnd.jupyter.widget-view+json": {
       "model_id": "add15911a0fa420490fbd0db94d432ae",
       "version_major": 2,
       "version_minor": 0
      },
      "text/plain": [
       "Output()"
      ]
     },
     "metadata": {},
     "output_type": "display_data"
    },
    {
     "data": {
      "text/html": [
       "<pre style=\"white-space:pre;overflow-x:auto;line-height:normal;font-family:Menlo,'DejaVu Sans Mono',consolas,'Courier New',monospace\"></pre>\n"
      ],
      "text/plain": []
     },
     "metadata": {},
     "output_type": "display_data"
    },
    {
     "data": {
      "application/vnd.jupyter.widget-view+json": {
       "model_id": "a6d9ba9b964a454c83bfa3965a8b1040",
       "version_major": 2,
       "version_minor": 0
      },
      "text/plain": [
       "Output()"
      ]
     },
     "metadata": {},
     "output_type": "display_data"
    },
    {
     "data": {
      "text/html": [
       "<pre style=\"white-space:pre;overflow-x:auto;line-height:normal;font-family:Menlo,'DejaVu Sans Mono',consolas,'Courier New',monospace\"></pre>\n"
      ],
      "text/plain": []
     },
     "metadata": {},
     "output_type": "display_data"
    },
    {
     "name": "stderr",
     "output_type": "stream",
     "text": [
      "INFO - Processed file 592063 with tag E3 - Budget,  Cost Estimates,  Cost Proposal\n",
      "INFO - Added tag E3 to file with hash 318a28c436ac5fa232ee5ab6d08bca9426ba86fb\n",
      "INFO - Added tag E to file with hash 318a28c436ac5fa232ee5ab6d08bca9426ba86fb\n",
      "INFO - Processing file number 164 of 250: 614515\n",
      "INFO - Found file 614515 at N:\\PPDO\\Records\\94xx   Campus Wide Fire Alarm and Fire Protection Systems\\9407\\9407\\DOCS\\E3 - Budget,  Cost Estimates,  Cost Proposal\\File 9407 ERC Move Work Sheet.pdf\n",
      "INFO - Processed file 614515 with tag E3 - Budget,  Cost Estimates,  Cost Proposal\n",
      "INFO - Added tag E3 to file with hash a06cb3d61670d2a97aa14d983de2821ca5e364b8\n",
      "INFO - Added tag E to file with hash a06cb3d61670d2a97aa14d983de2821ca5e364b8\n",
      "INFO - Processing file number 165 of 250: 963130\n",
      "INFO - Found file 963130 at N:\\PPDO\\Records\\89xx   Campus Roads\\8900\\8900-033\\E - Program and Design\\E3 - Budget,  Cost Estimates,  Cost Proposal\\Quality Striping Material List.pdf\n"
     ]
    },
    {
     "data": {
      "application/vnd.jupyter.widget-view+json": {
       "model_id": "5b4d1eb6ef6943d5aabd3406c3d9a407",
       "version_major": 2,
       "version_minor": 0
      },
      "text/plain": [
       "Output()"
      ]
     },
     "metadata": {},
     "output_type": "display_data"
    },
    {
     "data": {
      "text/html": [
       "<pre style=\"white-space:pre;overflow-x:auto;line-height:normal;font-family:Menlo,'DejaVu Sans Mono',consolas,'Courier New',monospace\"></pre>\n"
      ],
      "text/plain": []
     },
     "metadata": {},
     "output_type": "display_data"
    },
    {
     "data": {
      "application/vnd.jupyter.widget-view+json": {
       "model_id": "27f98e94f54e43af9cf05f9250998191",
       "version_major": 2,
       "version_minor": 0
      },
      "text/plain": [
       "Output()"
      ]
     },
     "metadata": {},
     "output_type": "display_data"
    },
    {
     "data": {
      "text/html": [
       "<pre style=\"white-space:pre;overflow-x:auto;line-height:normal;font-family:Menlo,'DejaVu Sans Mono',consolas,'Courier New',monospace\"></pre>\n"
      ],
      "text/plain": []
     },
     "metadata": {},
     "output_type": "display_data"
    },
    {
     "data": {
      "application/vnd.jupyter.widget-view+json": {
       "model_id": "fb1114b3ec204cc7b5462b18b7e8567f",
       "version_major": 2,
       "version_minor": 0
      },
      "text/plain": [
       "Output()"
      ]
     },
     "metadata": {},
     "output_type": "display_data"
    },
    {
     "data": {
      "text/html": [
       "<pre style=\"white-space:pre;overflow-x:auto;line-height:normal;font-family:Menlo,'DejaVu Sans Mono',consolas,'Courier New',monospace\"></pre>\n"
      ],
      "text/plain": []
     },
     "metadata": {},
     "output_type": "display_data"
    },
    {
     "data": {
      "application/vnd.jupyter.widget-view+json": {
       "model_id": "8153289705a642fe8318fccf29a84cd8",
       "version_major": 2,
       "version_minor": 0
      },
      "text/plain": [
       "Output()"
      ]
     },
     "metadata": {},
     "output_type": "display_data"
    },
    {
     "data": {
      "text/html": [
       "<pre style=\"white-space:pre;overflow-x:auto;line-height:normal;font-family:Menlo,'DejaVu Sans Mono',consolas,'Courier New',monospace\"></pre>\n"
      ],
      "text/plain": []
     },
     "metadata": {},
     "output_type": "display_data"
    },
    {
     "data": {
      "application/vnd.jupyter.widget-view+json": {
       "model_id": "27f4920456354a08b49f47620dba264f",
       "version_major": 2,
       "version_minor": 0
      },
      "text/plain": [
       "Output()"
      ]
     },
     "metadata": {},
     "output_type": "display_data"
    },
    {
     "data": {
      "text/html": [
       "<pre style=\"white-space:pre;overflow-x:auto;line-height:normal;font-family:Menlo,'DejaVu Sans Mono',consolas,'Courier New',monospace\"></pre>\n"
      ],
      "text/plain": []
     },
     "metadata": {},
     "output_type": "display_data"
    },
    {
     "data": {
      "application/vnd.jupyter.widget-view+json": {
       "model_id": "508af2572bc24ea584ab2d5413f59713",
       "version_major": 2,
       "version_minor": 0
      },
      "text/plain": [
       "Output()"
      ]
     },
     "metadata": {},
     "output_type": "display_data"
    },
    {
     "data": {
      "text/html": [
       "<pre style=\"white-space:pre;overflow-x:auto;line-height:normal;font-family:Menlo,'DejaVu Sans Mono',consolas,'Courier New',monospace\"></pre>\n"
      ],
      "text/plain": []
     },
     "metadata": {},
     "output_type": "display_data"
    },
    {
     "name": "stderr",
     "output_type": "stream",
     "text": [
      "INFO - Processed file 963130 with tag E3 - Budget,  Cost Estimates,  Cost Proposal\n",
      "INFO - Added tag E3 to file with hash 6c6c6ae3a2f99b68f04bb30e4c61f20781f18406\n",
      "INFO - Added tag E to file with hash 6c6c6ae3a2f99b68f04bb30e4c61f20781f18406\n",
      "INFO - Processing file number 166 of 250: 328775\n",
      "INFO - Found file 328775 at N:\\PPDO\\Records\\31xx   Performing Arts Center\\3111\\3111-019\\E - Program and Design\\E3 - Budget,  Cost Estimates,  Cost Proposal\\3111-019.E3.2018 06 12 Acker Proposal - Baskin Visual Arts Door Replacement.pdf\n",
      "INFO - Processed file 328775 with tag E3 - Budget,  Cost Estimates,  Cost Proposal\n",
      "INFO - Added tag E3 to file with hash b360ab3a50ca7020a1247253ebb4171874bcc425\n",
      "INFO - Added tag E to file with hash b360ab3a50ca7020a1247253ebb4171874bcc425\n",
      "INFO - Processing file number 167 of 250: 468723\n",
      "INFO - Found file 468723 at N:\\PPDO\\Records\\49xx   Long Marine Lab\\4934\\4934\\E - Program and Design\\E3 - Budget,  Cost Estimates,  Cost Proposal\\Concept Phase Estimates\\CD Draft Cost Estimate July 25 2014\\CD Draft Estimate  Comparison to DD 2014 0725.pdf\n",
      "INFO - Processed file 468723 with tag E3 - Budget,  Cost Estimates,  Cost Proposal\n",
      "INFO - Added tag E3 to file with hash 283ff11902cde8431ae901f01fbaf0dbaf18f542\n",
      "INFO - Added tag E to file with hash 283ff11902cde8431ae901f01fbaf0dbaf18f542\n",
      "INFO - Processing file number 168 of 250: 883563\n",
      "INFO - Found file 883563 at N:\\PPDO\\Records\\63xx   Music Facility\\6300\\6300-011\\E - Program and Design\\E3 - Budget,  Cost Estimates,  Cost Proposal\\Estimate\\1 - BUDGET Template.xls\n",
      "INFO - Processed file 883563 with tag E3 - Budget,  Cost Estimates,  Cost Proposal\n",
      "INFO - Added tag E3 to file with hash c5c131c45bcb629cf1502c6659b6191c52d5fe28\n",
      "INFO - Added tag E to file with hash c5c131c45bcb629cf1502c6659b6191c52d5fe28\n",
      "INFO - Processing file number 169 of 250: 862087\n",
      "INFO - Found file 862087 at N:\\PPDO\\Records\\62xx   Physical Sciences Building (Natural Sciences 5)\\6200\\6200-016\\E - Program and Design\\E3 - Budget,  Cost Estimates,  Cost Proposal\\6200-016.E3.Cost Breakdown 8.2.17.xls\n",
      "INFO - Processed file 862087 with tag E3 - Budget,  Cost Estimates,  Cost Proposal\n",
      "INFO - Added tag E3 to file with hash a280e5723152e7ce094307563d210b202b041bd8\n",
      "INFO - Added tag E to file with hash a280e5723152e7ce094307563d210b202b041bd8\n",
      "INFO - Processing file number 170 of 250: 94731\n",
      "INFO - Found file 94731 at N:\\PPDO\\Records\\100xx  Multiple Locations\\10071\\10071\\E - Program and Design\\E3 - Budget,  Cost Estimates,  Cost Proposal\\File 10071.E3 Stone House.pdf\n"
     ]
    },
    {
     "data": {
      "application/vnd.jupyter.widget-view+json": {
       "model_id": "a34d623c853340beabe82ceeadbb8a4f",
       "version_major": 2,
       "version_minor": 0
      },
      "text/plain": [
       "Output()"
      ]
     },
     "metadata": {},
     "output_type": "display_data"
    },
    {
     "data": {
      "text/html": [
       "<pre style=\"white-space:pre;overflow-x:auto;line-height:normal;font-family:Menlo,'DejaVu Sans Mono',consolas,'Courier New',monospace\"></pre>\n"
      ],
      "text/plain": []
     },
     "metadata": {},
     "output_type": "display_data"
    },
    {
     "data": {
      "application/vnd.jupyter.widget-view+json": {
       "model_id": "1080413333aa4084a8f4e3194df4fd0b",
       "version_major": 2,
       "version_minor": 0
      },
      "text/plain": [
       "Output()"
      ]
     },
     "metadata": {},
     "output_type": "display_data"
    },
    {
     "data": {
      "text/html": [
       "<pre style=\"white-space:pre;overflow-x:auto;line-height:normal;font-family:Menlo,'DejaVu Sans Mono',consolas,'Courier New',monospace\">[tesseract] Error during processing.\n",
       "</pre>\n"
      ],
      "text/plain": [
       "[tesseract] Error during processing.\n"
      ]
     },
     "metadata": {},
     "output_type": "display_data"
    },
    {
     "data": {
      "text/html": [
       "<pre style=\"white-space:pre;overflow-x:auto;line-height:normal;font-family:Menlo,'DejaVu Sans Mono',consolas,'Courier New',monospace\">[tesseract] Error during processing.\n",
       "</pre>\n"
      ],
      "text/plain": [
       "[tesseract] Error during processing.\n"
      ]
     },
     "metadata": {},
     "output_type": "display_data"
    },
    {
     "data": {
      "text/html": [
       "<pre style=\"white-space:pre;overflow-x:auto;line-height:normal;font-family:Menlo,'DejaVu Sans Mono',consolas,'Courier New',monospace\">[tesseract] lots of diacritics - possibly poor OCR\n",
       "</pre>\n"
      ],
      "text/plain": [
       "[tesseract] lots of diacritics - possibly poor OCR\n"
      ]
     },
     "metadata": {},
     "output_type": "display_data"
    },
    {
     "data": {
      "text/html": [
       "<pre style=\"white-space:pre;overflow-x:auto;line-height:normal;font-family:Menlo,'DejaVu Sans Mono',consolas,'Courier New',monospace\">[tesseract] Error during processing.\n",
       "</pre>\n"
      ],
      "text/plain": [
       "[tesseract] Error during processing.\n"
      ]
     },
     "metadata": {},
     "output_type": "display_data"
    },
    {
     "data": {
      "text/html": [
       "<pre style=\"white-space:pre;overflow-x:auto;line-height:normal;font-family:Menlo,'DejaVu Sans Mono',consolas,'Courier New',monospace\">[tesseract] Error during processing.\n",
       "</pre>\n"
      ],
      "text/plain": [
       "[tesseract] Error during processing.\n"
      ]
     },
     "metadata": {},
     "output_type": "display_data"
    },
    {
     "data": {
      "text/html": [
       "<pre style=\"white-space:pre;overflow-x:auto;line-height:normal;font-family:Menlo,'DejaVu Sans Mono',consolas,'Courier New',monospace\"></pre>\n"
      ],
      "text/plain": []
     },
     "metadata": {},
     "output_type": "display_data"
    },
    {
     "data": {
      "application/vnd.jupyter.widget-view+json": {
       "model_id": "462f697f87774ab8be00e8932b9464e3",
       "version_major": 2,
       "version_minor": 0
      },
      "text/plain": [
       "Output()"
      ]
     },
     "metadata": {},
     "output_type": "display_data"
    },
    {
     "data": {
      "text/html": [
       "<pre style=\"white-space:pre;overflow-x:auto;line-height:normal;font-family:Menlo,'DejaVu Sans Mono',consolas,'Courier New',monospace\"></pre>\n"
      ],
      "text/plain": []
     },
     "metadata": {},
     "output_type": "display_data"
    },
    {
     "data": {
      "application/vnd.jupyter.widget-view+json": {
       "model_id": "e268eb87792a4f13929fa156c5933b5b",
       "version_major": 2,
       "version_minor": 0
      },
      "text/plain": [
       "Output()"
      ]
     },
     "metadata": {},
     "output_type": "display_data"
    },
    {
     "data": {
      "text/html": [
       "<pre style=\"white-space:pre;overflow-x:auto;line-height:normal;font-family:Menlo,'DejaVu Sans Mono',consolas,'Courier New',monospace\"></pre>\n"
      ],
      "text/plain": []
     },
     "metadata": {},
     "output_type": "display_data"
    },
    {
     "data": {
      "application/vnd.jupyter.widget-view+json": {
       "model_id": "412148346016418aaf37bd4eca481fd9",
       "version_major": 2,
       "version_minor": 0
      },
      "text/plain": [
       "Output()"
      ]
     },
     "metadata": {},
     "output_type": "display_data"
    },
    {
     "data": {
      "text/html": [
       "<pre style=\"white-space:pre;overflow-x:auto;line-height:normal;font-family:Menlo,'DejaVu Sans Mono',consolas,'Courier New',monospace\"></pre>\n"
      ],
      "text/plain": []
     },
     "metadata": {},
     "output_type": "display_data"
    },
    {
     "data": {
      "application/vnd.jupyter.widget-view+json": {
       "model_id": "2cf76252870c4d32a9aaa3bd6c99592f",
       "version_major": 2,
       "version_minor": 0
      },
      "text/plain": [
       "Output()"
      ]
     },
     "metadata": {},
     "output_type": "display_data"
    },
    {
     "data": {
      "text/html": [
       "<pre style=\"white-space:pre;overflow-x:auto;line-height:normal;font-family:Menlo,'DejaVu Sans Mono',consolas,'Courier New',monospace\"></pre>\n"
      ],
      "text/plain": []
     },
     "metadata": {},
     "output_type": "display_data"
    },
    {
     "name": "stderr",
     "output_type": "stream",
     "text": [
      "The output file size is 5.66× larger than the input file.\n",
      "Possible reasons for this include:\n",
      "--deskew was issued, causing transcoding.\n",
      "The optional dependency 'jbig2' was not found, so some image optimizations could not be attempted.\n",
      "The optional dependency 'pngquant' was not found, so some image optimizations could not be attempted.\n",
      "\n",
      "INFO - Processed file 94731 with tag E3 - Budget,  Cost Estimates,  Cost Proposal\n",
      "INFO - Added tag E3 to file with hash 31fc68f8c19a7494adcfcf800c64a41d82cf561b\n",
      "INFO - Added tag E to file with hash 31fc68f8c19a7494adcfcf800c64a41d82cf561b\n",
      "INFO - Processing file number 171 of 250: 743496\n",
      "INFO - Found file 743496 at N:\\PPDO\\Records\\60xx   Science Library\\6000\\6000-001A\\E - Program and Design\\E3 - Budget,  Cost Estimates,  Cost Proposal\\6000-001A.E3.UC SANTA CRUZ SCIENCE LIBRARY PROPOSAL.doc\n",
      "INFO - Processed file 743496 with tag E3 - Budget,  Cost Estimates,  Cost Proposal\n",
      "INFO - Added tag E3 to file with hash 02174047ce742dca89ff9f15a6df37e69d66688f\n",
      "INFO - Added tag E to file with hash 02174047ce742dca89ff9f15a6df37e69d66688f\n",
      "INFO - Processing file number 172 of 250: 214945\n",
      "WARNING - File 214945 not found at N:\\PPDO\\Records\\21xx   Central Heating Plant (Fackler Cogeneration)\\2113\\2113\\E - Program and Design\\E3 - Budget,  Cost Estimates,  Cost Proposal\\UCSC CPR Estimate CIB.pdf\n",
      "WARNING - No valid file found for 214945\n",
      "INFO - Processing file number 173 of 250: 488138\n",
      "INFO - Found file 488138 at N:\\PPDO\\Records\\55xx   College 9 & 10\\5500\\5500-036\\E - Program and Design\\E3 - Budget,  Cost Estimates,  Cost Proposal\\5500-036.E3.5500-036 C9C10 Garden Water Supply FPR Increase.xlsx\n",
      "INFO - Processed file 488138 with tag E3 - Budget,  Cost Estimates,  Cost Proposal\n",
      "INFO - Added tag E3 to file with hash d086da41ac8196960051e206a11883ad371a95a1\n",
      "INFO - Added tag E to file with hash d086da41ac8196960051e206a11883ad371a95a1\n",
      "INFO - Processing file number 174 of 250: 361053\n",
      "WARNING - File 361053 not found at N:\\PPDO\\Records\\35xx   Upper & Lower Quarries\\3502\\E3 - Budget,  Cost Estimates,  Cost Proposal\\File 3502 E3 Incidental Fee Project 03.05.68.pdf\n",
      "WARNING - No valid file found for 361053\n",
      "INFO - Processing file number 175 of 250: 213834\n",
      "WARNING - File 213834 not found at N:\\PPDO\\Records\\21xx   Central Heating Plant (Fackler Cogeneration)\\2102\\2102\\E - Program and Design\\E3 - Budget,  Cost Estimates,  Cost Proposal\\2102 E3 Cogeneration.pdf\n",
      "WARNING - No valid file found for 213834\n",
      "INFO - Processing file number 176 of 250: 785249\n",
      "INFO - Found file 785249 at N:\\PPDO\\Records\\49xx   Long Marine Lab\\4900\\4900-047\\E - Program and Design\\E3 - Budget,  Cost Estimates,  Cost Proposal\\Overlook B Path Repair and Replacement Estimate.pdf\n",
      "INFO - Processed file 785249 with tag E3 - Budget,  Cost Estimates,  Cost Proposal\n",
      "INFO - Added tag E3 to file with hash 59431259e642403bffd7bf8ea390dab23a25e9d6\n",
      "INFO - Added tag E to file with hash 59431259e642403bffd7bf8ea390dab23a25e9d6\n",
      "INFO - Processing file number 177 of 250: 236081\n",
      "WARNING - File 236081 not found at N:\\PPDO\\Records\\23xx   Crown College (College 3)\\2358\\2358\\E - Program and Design\\E3 - Budget,  Cost Estimates,  Cost Proposal\\Budget and Cost Reports\\Cost Estimates\\Swinerton Cost Estimates\\UCSC Crown_90CD.1.31.17.pdf\n",
      "WARNING - File 236081 not found at N:\\PPDO\\Records\\23xx   Crown College (College 3)\\2358\\2358\\E - Program and Design\\E3 - Budget,  Cost Estimates,  Cost Proposal\\Cost Estimates\\Swinerton Cost Estimates\\UCSC Crown_90CD.1.31.17.pdf\n",
      "WARNING - No valid file found for 236081\n",
      "INFO - Processing file number 178 of 250: 886457\n",
      "INFO - Found file 886457 at N:\\PPDO\\Records\\89xx   Campus Roads\\8951\\8951B\\E - Program and Design\\E3 - Budget,  Cost Estimates,  Cost Proposal\\8951B.E3 -17 03 21, WO Cost Report (WO00398930).pdf\n",
      "INFO - Processed file 886457 with tag E3 - Budget,  Cost Estimates,  Cost Proposal\n",
      "INFO - Added tag E3 to file with hash 738219a4a9cd7fa1e0fb462ac42d914f5c191792\n",
      "INFO - Added tag E to file with hash 738219a4a9cd7fa1e0fb462ac42d914f5c191792\n",
      "INFO - Processing file number 179 of 250: 136807\n",
      "INFO - Found file 136807 at N:\\PPDO\\Records\\120xx  Off Campus Facilities\\12001 2155 Delaware\\12001-002\\E - Program and Design\\E3 - Budget,  Cost Estimates,  Cost Proposal\\12001-002.E3.Increase funding and changes to overall project costs Corresp..pdf\n"
     ]
    },
    {
     "data": {
      "application/vnd.jupyter.widget-view+json": {
       "model_id": "ac044be8c89940c388c9b5e62924b7cf",
       "version_major": 2,
       "version_minor": 0
      },
      "text/plain": [
       "Output()"
      ]
     },
     "metadata": {},
     "output_type": "display_data"
    },
    {
     "data": {
      "text/html": [
       "<pre style=\"white-space:pre;overflow-x:auto;line-height:normal;font-family:Menlo,'DejaVu Sans Mono',consolas,'Courier New',monospace\"></pre>\n"
      ],
      "text/plain": []
     },
     "metadata": {},
     "output_type": "display_data"
    },
    {
     "data": {
      "application/vnd.jupyter.widget-view+json": {
       "model_id": "61fde0fad53241a7b9c69ffc94c9eb2c",
       "version_major": 2,
       "version_minor": 0
      },
      "text/plain": [
       "Output()"
      ]
     },
     "metadata": {},
     "output_type": "display_data"
    },
    {
     "data": {
      "text/html": [
       "<pre style=\"white-space:pre;overflow-x:auto;line-height:normal;font-family:Menlo,'DejaVu Sans Mono',consolas,'Courier New',monospace\"></pre>\n"
      ],
      "text/plain": []
     },
     "metadata": {},
     "output_type": "display_data"
    },
    {
     "data": {
      "application/vnd.jupyter.widget-view+json": {
       "model_id": "3968687da2dc474da0f887a1b5b6cd77",
       "version_major": 2,
       "version_minor": 0
      },
      "text/plain": [
       "Output()"
      ]
     },
     "metadata": {},
     "output_type": "display_data"
    },
    {
     "data": {
      "text/html": [
       "<pre style=\"white-space:pre;overflow-x:auto;line-height:normal;font-family:Menlo,'DejaVu Sans Mono',consolas,'Courier New',monospace\"></pre>\n"
      ],
      "text/plain": []
     },
     "metadata": {},
     "output_type": "display_data"
    },
    {
     "data": {
      "application/vnd.jupyter.widget-view+json": {
       "model_id": "15c25590174541489d518f9f064d7c43",
       "version_major": 2,
       "version_minor": 0
      },
      "text/plain": [
       "Output()"
      ]
     },
     "metadata": {},
     "output_type": "display_data"
    },
    {
     "data": {
      "text/html": [
       "<pre style=\"white-space:pre;overflow-x:auto;line-height:normal;font-family:Menlo,'DejaVu Sans Mono',consolas,'Courier New',monospace\"></pre>\n"
      ],
      "text/plain": []
     },
     "metadata": {},
     "output_type": "display_data"
    },
    {
     "data": {
      "application/vnd.jupyter.widget-view+json": {
       "model_id": "83a242de0b7242109a061e5a2632aa2d",
       "version_major": 2,
       "version_minor": 0
      },
      "text/plain": [
       "Output()"
      ]
     },
     "metadata": {},
     "output_type": "display_data"
    },
    {
     "data": {
      "text/html": [
       "<pre style=\"white-space:pre;overflow-x:auto;line-height:normal;font-family:Menlo,'DejaVu Sans Mono',consolas,'Courier New',monospace\"></pre>\n"
      ],
      "text/plain": []
     },
     "metadata": {},
     "output_type": "display_data"
    },
    {
     "data": {
      "application/vnd.jupyter.widget-view+json": {
       "model_id": "b76077b3f97d470c8fac5f7f9ad6e3de",
       "version_major": 2,
       "version_minor": 0
      },
      "text/plain": [
       "Output()"
      ]
     },
     "metadata": {},
     "output_type": "display_data"
    },
    {
     "data": {
      "text/html": [
       "<pre style=\"white-space:pre;overflow-x:auto;line-height:normal;font-family:Menlo,'DejaVu Sans Mono',consolas,'Courier New',monospace\"></pre>\n"
      ],
      "text/plain": []
     },
     "metadata": {},
     "output_type": "display_data"
    },
    {
     "name": "stderr",
     "output_type": "stream",
     "text": [
      "The output file size is 8.82× larger than the input file.\n",
      "Possible reasons for this include:\n",
      "--deskew was issued, causing transcoding.\n",
      "The optional dependency 'jbig2' was not found, so some image optimizations could not be attempted.\n",
      "The optional dependency 'pngquant' was not found, so some image optimizations could not be attempted.\n",
      "\n",
      "INFO - Processed file 136807 with tag E3 - Budget,  Cost Estimates,  Cost Proposal\n",
      "INFO - Added tag E3 to file with hash c739d4df79be7930660be611bac24757a768bb2e\n",
      "INFO - Added tag E to file with hash c739d4df79be7930660be611bac24757a768bb2e\n",
      "INFO - Processing file number 180 of 250: 791256\n",
      "INFO - Found file 791256 at N:\\PPDO\\Records\\49xx   Long Marine Lab\\4932\\4932\\E - Program and Design\\E3 - Budget,  Cost Estimates,  Cost Proposal\\Project Budget Workbooks\\2015 Project Budget Workbooks - Final C Phase UCOP Submittal\\Progress\\CSC FSS Augmentation PBW 2-11-15.xls\n",
      "INFO - Processed file 791256 with tag E3 - Budget,  Cost Estimates,  Cost Proposal\n",
      "INFO - Added tag E3 to file with hash 57e7f7a333eefa7c88da8ec55753f692f5e0d879\n",
      "INFO - Added tag E to file with hash 57e7f7a333eefa7c88da8ec55753f692f5e0d879\n",
      "INFO - Processing file number 181 of 250: 711164\n",
      "INFO - Found file 711164 at N:\\PPDO\\Records\\40xx   Sinsheimer Labs (Natural Sciences Unit 3)\\4000\\4000-021\\E3 - Budget,  Cost Estimates,  Cost Proposal\\PBW_Sinsheimer Cryo Lab 132_Augmentation 2020-01-13v.4.xls\n",
      "INFO - Processed file 711164 with tag E3 - Budget,  Cost Estimates,  Cost Proposal\n",
      "INFO - Added tag E3 to file with hash 3c1320c6d7f5e173b6114ef337de829e5ba77993\n",
      "INFO - Added tag E to file with hash 3c1320c6d7f5e173b6114ef337de829e5ba77993\n",
      "INFO - Processing file number 182 of 250: 746584\n",
      "INFO - Found file 746584 at N:\\PPDO\\Records\\98xx   Campus Utilities 2012 on\\9800\\9800-002\\E - Program and Design\\E3 - Budget,  Cost Estimates,  Cost Proposal\\42335 Theater Arts Ground Fault Repair B1 Feeder.xls\n",
      "INFO - Processed file 746584 with tag E3 - Budget,  Cost Estimates,  Cost Proposal\n",
      "INFO - Added tag E3 to file with hash df00f9c705dccdeb7e14c810db9fdbb6223b2434\n",
      "INFO - Added tag E to file with hash df00f9c705dccdeb7e14c810db9fdbb6223b2434\n",
      "INFO - Processing file number 183 of 250: 111229\n",
      "INFO - Found file 111229 at N:\\PPDO\\Records\\106xx  2300 Delaware Westside Research Park\\10637\\10637\\E - Program and Design\\E3 - Budget,  Cost Estimates,  Cost Proposal\\Consultant Estimates\\Bid Cost Estimates\\Bid CD.R0.0 - Add 1.pdf\n",
      "INFO - Processed file 111229 with tag E3 - Budget,  Cost Estimates,  Cost Proposal\n",
      "INFO - Added tag E3 to file with hash c0867a6eaa6bbd74456e3cc0993141024562ac8a\n",
      "INFO - Added tag E to file with hash c0867a6eaa6bbd74456e3cc0993141024562ac8a\n",
      "INFO - Processing file number 184 of 250: 608676\n",
      "INFO - Found file 608676 at N:\\PPDO\\Records\\90xx  Campus Utilities\\9098\\9098A\\E3 - Budget,  Cost Estimates,  Cost Proposal\\Cumming Estimate_50%CD_9098A Ph C (TIU) - JCIII (6.7.17).pdf\n",
      "INFO - Processed file 608676 with tag E3 - Budget,  Cost Estimates,  Cost Proposal\n",
      "INFO - Added tag E3 to file with hash 52d1b75821b0a99c9c418667865e0a9d87500eeb\n",
      "INFO - Added tag E to file with hash 52d1b75821b0a99c9c418667865e0a9d87500eeb\n",
      "INFO - Processing file number 185 of 250: 742182\n",
      "INFO - Found file 742182 at N:\\PPDO\\Records\\85xx   Pedestrian Paths and Site Development\\8500\\8500-035\\E - Program and Design\\E3 - Budget,  Cost Estimates,  Cost Proposal\\8500-035.E3.18 04 18 - WO00411345 Cost Report.pdf\n",
      "INFO - Processed file 742182 with tag E3 - Budget,  Cost Estimates,  Cost Proposal\n",
      "INFO - Added tag E3 to file with hash 716545c232a50b9c9094b67d34d4c4a82525ae2b\n",
      "INFO - Added tag E to file with hash 716545c232a50b9c9094b67d34d4c4a82525ae2b\n",
      "INFO - Processing file number 186 of 250: 791251\n",
      "INFO - Found file 791251 at N:\\PPDO\\Records\\49xx   Long Marine Lab\\4932\\4932\\E - Program and Design\\E3 - Budget,  Cost Estimates,  Cost Proposal\\Project Budget Workbooks\\2015 Project Budget Workbooks - Final C Phase UCOP Submittal\\Progress\\CSC EH&S Augmentation PBW 15-02-20.xls\n",
      "INFO - Processed file 791251 with tag E3 - Budget,  Cost Estimates,  Cost Proposal\n",
      "INFO - Added tag E3 to file with hash 6de5116dc63b8971fafba86fab57ad987fb78d84\n",
      "INFO - Added tag E to file with hash 6de5116dc63b8971fafba86fab57ad987fb78d84\n",
      "INFO - Processing file number 187 of 250: 311132\n",
      "INFO - Found file 311132 at N:\\PPDO\\Records\\30xx   Porter College (College 5)\\3002\\3002-040 Dining\\E - Program and Design\\E3.2 - Budget Cost Estimates\\E3 - Budget,  Cost Estimates,  Cost Proposal\\PreDesign\\Cost Estimate\\Porter RC Program cost plan rpt 11n.pdf\n",
      "INFO - Processed file 311132 with tag E3 - Budget,  Cost Estimates,  Cost Proposal\n",
      "INFO - Added tag E3 to file with hash 0b97c8e54a4e90dda21761e1ef84b6b6399bba74\n",
      "INFO - Added tag E to file with hash 0b97c8e54a4e90dda21761e1ef84b6b6399bba74\n",
      "INFO - Processing file number 188 of 250: 880484\n",
      "INFO - Found file 880484 at N:\\PPDO\\Records\\32xx   Kresge College (College 6)\\3238\\3238\\E - Program and Design\\E3 - Budget,  Cost Estimates,  Cost Proposal\\181200 Kresge Residential Improvements PreDesign 976393.xls\n",
      "INFO - Processed file 880484 with tag E3 - Budget,  Cost Estimates,  Cost Proposal\n",
      "INFO - Added tag E3 to file with hash 1da8e65c0870d30808f86ca081a6a697baadb463\n",
      "INFO - Added tag E to file with hash 1da8e65c0870d30808f86ca081a6a697baadb463\n",
      "INFO - Processing file number 189 of 250: 791090\n",
      "INFO - Found file 791090 at N:\\PPDO\\Records\\49xx   Long Marine Lab\\4932\\4932\\E - Program and Design\\E3 - Budget,  Cost Estimates,  Cost Proposal\\Consultant Estimates\\DL Estimates\\DL Quotes\\3148_001 Greenhouse Quote.pdf\n"
     ]
    },
    {
     "data": {
      "application/vnd.jupyter.widget-view+json": {
       "model_id": "cd88a31cb6fd445c809af8aa145cf9ac",
       "version_major": 2,
       "version_minor": 0
      },
      "text/plain": [
       "Output()"
      ]
     },
     "metadata": {},
     "output_type": "display_data"
    },
    {
     "data": {
      "text/html": [
       "<pre style=\"white-space:pre;overflow-x:auto;line-height:normal;font-family:Menlo,'DejaVu Sans Mono',consolas,'Courier New',monospace\"></pre>\n"
      ],
      "text/plain": []
     },
     "metadata": {},
     "output_type": "display_data"
    },
    {
     "data": {
      "application/vnd.jupyter.widget-view+json": {
       "model_id": "160df71a81574a0681c8387c33d7f482",
       "version_major": 2,
       "version_minor": 0
      },
      "text/plain": [
       "Output()"
      ]
     },
     "metadata": {},
     "output_type": "display_data"
    },
    {
     "data": {
      "text/html": [
       "<pre style=\"white-space:pre;overflow-x:auto;line-height:normal;font-family:Menlo,'DejaVu Sans Mono',consolas,'Courier New',monospace\"></pre>\n"
      ],
      "text/plain": []
     },
     "metadata": {},
     "output_type": "display_data"
    },
    {
     "data": {
      "application/vnd.jupyter.widget-view+json": {
       "model_id": "77a63c91590640989de64ca99ca232e3",
       "version_major": 2,
       "version_minor": 0
      },
      "text/plain": [
       "Output()"
      ]
     },
     "metadata": {},
     "output_type": "display_data"
    },
    {
     "data": {
      "text/html": [
       "<pre style=\"white-space:pre;overflow-x:auto;line-height:normal;font-family:Menlo,'DejaVu Sans Mono',consolas,'Courier New',monospace\"></pre>\n"
      ],
      "text/plain": []
     },
     "metadata": {},
     "output_type": "display_data"
    },
    {
     "data": {
      "application/vnd.jupyter.widget-view+json": {
       "model_id": "2e4ed4ab189141509eb2fe39865d37c3",
       "version_major": 2,
       "version_minor": 0
      },
      "text/plain": [
       "Output()"
      ]
     },
     "metadata": {},
     "output_type": "display_data"
    },
    {
     "data": {
      "text/html": [
       "<pre style=\"white-space:pre;overflow-x:auto;line-height:normal;font-family:Menlo,'DejaVu Sans Mono',consolas,'Courier New',monospace\"></pre>\n"
      ],
      "text/plain": []
     },
     "metadata": {},
     "output_type": "display_data"
    },
    {
     "data": {
      "application/vnd.jupyter.widget-view+json": {
       "model_id": "299f7d2afa5e4e38898743d3a3cb784e",
       "version_major": 2,
       "version_minor": 0
      },
      "text/plain": [
       "Output()"
      ]
     },
     "metadata": {},
     "output_type": "display_data"
    },
    {
     "data": {
      "text/html": [
       "<pre style=\"white-space:pre;overflow-x:auto;line-height:normal;font-family:Menlo,'DejaVu Sans Mono',consolas,'Courier New',monospace\"></pre>\n"
      ],
      "text/plain": []
     },
     "metadata": {},
     "output_type": "display_data"
    },
    {
     "data": {
      "application/vnd.jupyter.widget-view+json": {
       "model_id": "421db9f720424fc5ba7de9736b3fdfa9",
       "version_major": 2,
       "version_minor": 0
      },
      "text/plain": [
       "Output()"
      ]
     },
     "metadata": {},
     "output_type": "display_data"
    },
    {
     "data": {
      "text/html": [
       "<pre style=\"white-space:pre;overflow-x:auto;line-height:normal;font-family:Menlo,'DejaVu Sans Mono',consolas,'Courier New',monospace\"></pre>\n"
      ],
      "text/plain": []
     },
     "metadata": {},
     "output_type": "display_data"
    },
    {
     "name": "stderr",
     "output_type": "stream",
     "text": [
      "The output file size is 1.90× larger than the input file.\n",
      "Possible reasons for this include:\n",
      "--deskew was issued, causing transcoding.\n",
      "The optional dependency 'jbig2' was not found, so some image optimizations could not be attempted.\n",
      "The optional dependency 'pngquant' was not found, so some image optimizations could not be attempted.\n",
      "\n",
      "INFO - Processed file 791090 with tag E3 - Budget,  Cost Estimates,  Cost Proposal\n",
      "INFO - Added tag E3 to file with hash f73c71b487aa4e5544eb7d583420b6550dbb0199\n",
      "INFO - Added tag E to file with hash f73c71b487aa4e5544eb7d583420b6550dbb0199\n",
      "INFO - Processing file number 190 of 250: 805325\n",
      "INFO - Found file 805325 at N:\\PPDO\\Records\\68xx   East Campus Infill\\6801\\6801\\E- Program and Design\\E3 - Budget,  Cost Estimates,  Cost Proposal\\Dec 12 2008 Pricing Package\\Specifications\\Plumbing\\15400 Plumbing.pdf\n",
      "INFO - Processed file 805325 with tag E3 - Budget,  Cost Estimates,  Cost Proposal\n",
      "INFO - Added tag E3 to file with hash 254d2028fdfe71a8eb05d18496152c9cb8579865\n",
      "INFO - Added tag E to file with hash 254d2028fdfe71a8eb05d18496152c9cb8579865\n",
      "INFO - Processing file number 191 of 250: 369901\n",
      "INFO - Found file 369901 at N:\\PPDO\\Records\\37xx   Oakes College\\3737\\E- Program and Design\\E3 - Budget,  Cost Estimates,  Cost Proposal\\File 3737 Funding Transfer Request.pdf\n"
     ]
    },
    {
     "data": {
      "application/vnd.jupyter.widget-view+json": {
       "model_id": "231d1aa3371b44df8b7cc93142408b57",
       "version_major": 2,
       "version_minor": 0
      },
      "text/plain": [
       "Output()"
      ]
     },
     "metadata": {},
     "output_type": "display_data"
    },
    {
     "data": {
      "text/html": [
       "<pre style=\"white-space:pre;overflow-x:auto;line-height:normal;font-family:Menlo,'DejaVu Sans Mono',consolas,'Courier New',monospace\"></pre>\n"
      ],
      "text/plain": []
     },
     "metadata": {},
     "output_type": "display_data"
    },
    {
     "data": {
      "application/vnd.jupyter.widget-view+json": {
       "model_id": "492659c7dd1d430f944c14cf2aade7e0",
       "version_major": 2,
       "version_minor": 0
      },
      "text/plain": [
       "Output()"
      ]
     },
     "metadata": {},
     "output_type": "display_data"
    },
    {
     "data": {
      "text/html": [
       "<pre style=\"white-space:pre;overflow-x:auto;line-height:normal;font-family:Menlo,'DejaVu Sans Mono',consolas,'Courier New',monospace\"></pre>\n"
      ],
      "text/plain": []
     },
     "metadata": {},
     "output_type": "display_data"
    },
    {
     "data": {
      "application/vnd.jupyter.widget-view+json": {
       "model_id": "dd3db253bfc54e25adc9da13cdab2ab3",
       "version_major": 2,
       "version_minor": 0
      },
      "text/plain": [
       "Output()"
      ]
     },
     "metadata": {},
     "output_type": "display_data"
    },
    {
     "data": {
      "text/html": [
       "<pre style=\"white-space:pre;overflow-x:auto;line-height:normal;font-family:Menlo,'DejaVu Sans Mono',consolas,'Courier New',monospace\"></pre>\n"
      ],
      "text/plain": []
     },
     "metadata": {},
     "output_type": "display_data"
    },
    {
     "data": {
      "application/vnd.jupyter.widget-view+json": {
       "model_id": "cf1d43b217fc4a20b63e424e41f8a857",
       "version_major": 2,
       "version_minor": 0
      },
      "text/plain": [
       "Output()"
      ]
     },
     "metadata": {},
     "output_type": "display_data"
    },
    {
     "data": {
      "text/html": [
       "<pre style=\"white-space:pre;overflow-x:auto;line-height:normal;font-family:Menlo,'DejaVu Sans Mono',consolas,'Courier New',monospace\"></pre>\n"
      ],
      "text/plain": []
     },
     "metadata": {},
     "output_type": "display_data"
    },
    {
     "data": {
      "application/vnd.jupyter.widget-view+json": {
       "model_id": "0e7ab86cfcd04d7b9fbeb9a4fa6c6341",
       "version_major": 2,
       "version_minor": 0
      },
      "text/plain": [
       "Output()"
      ]
     },
     "metadata": {},
     "output_type": "display_data"
    },
    {
     "data": {
      "text/html": [
       "<pre style=\"white-space:pre;overflow-x:auto;line-height:normal;font-family:Menlo,'DejaVu Sans Mono',consolas,'Courier New',monospace\"></pre>\n"
      ],
      "text/plain": []
     },
     "metadata": {},
     "output_type": "display_data"
    },
    {
     "data": {
      "application/vnd.jupyter.widget-view+json": {
       "model_id": "0ff6846b15454bb98fc2931722f197cd",
       "version_major": 2,
       "version_minor": 0
      },
      "text/plain": [
       "Output()"
      ]
     },
     "metadata": {},
     "output_type": "display_data"
    },
    {
     "data": {
      "text/html": [
       "<pre style=\"white-space:pre;overflow-x:auto;line-height:normal;font-family:Menlo,'DejaVu Sans Mono',consolas,'Courier New',monospace\"></pre>\n"
      ],
      "text/plain": []
     },
     "metadata": {},
     "output_type": "display_data"
    },
    {
     "name": "stderr",
     "output_type": "stream",
     "text": [
      "INFO - Processed file 369901 with tag E3 - Budget,  Cost Estimates,  Cost Proposal\n",
      "INFO - Added tag E3 to file with hash 5b68c44896e6670164f3c3369dc561dee91d94f1\n",
      "INFO - Added tag E to file with hash 5b68c44896e6670164f3c3369dc561dee91d94f1\n",
      "INFO - Processing file number 192 of 250: 363662\n",
      "INFO - Found file 363662 at N:\\PPDO\\Records\\36xx   Student Facilities\\3608\\3608-018\\E3 - Budget,  Cost Estimates,  Cost Proposal\\File  3608-018 Reimbursable Expenses.pdf\n",
      "INFO - Processed file 363662 with tag E3 - Budget,  Cost Estimates,  Cost Proposal\n",
      "INFO - Added tag E3 to file with hash 5c40008249b1feb8ff65c2642f67c3b8ff7163b7\n",
      "INFO - Added tag E to file with hash 5c40008249b1feb8ff65c2642f67c3b8ff7163b7\n",
      "INFO - Processing file number 193 of 250: 16395\n",
      "INFO - Found file 16395 at N:\\PPDO\\Records\\13xx   Original Ranch Buildings\\1326\\1326\\E - Program and Design\\E3 - Budget,  Cost Estimates,  Cost Proposal\\Budgets\\Budget Worksheets\\Revised Blank\\Merrill Capital Renewal 2013-14-for Henry.xls\n",
      "INFO - Processed file 16395 with tag E3 - Budget,  Cost Estimates,  Cost Proposal\n",
      "INFO - Added tag E3 to file with hash 0d6342f759bddc3413c0e17b6ba9b055229bac3d\n",
      "INFO - Added tag E to file with hash 0d6342f759bddc3413c0e17b6ba9b055229bac3d\n",
      "INFO - Processing file number 194 of 250: 942886\n",
      "INFO - Found file 942886 at N:\\PPDO\\Records\\27xx   Applied Sciences Baskin Engineering\\2700\\2700-160\\E - Program and Design\\E3 - Budget,  Cost Estimates,  Cost Proposal\\Budget Approval and Summary Jack Baskin Engineering Building 288 & 298 Lab Renovation (Preliminary Plans).pdf\n",
      "INFO - Processed file 942886 with tag E3 - Budget,  Cost Estimates,  Cost Proposal\n",
      "INFO - Added tag E3 to file with hash ed321ad84949018498b9d8c1b1b791ba9708e770\n",
      "INFO - Added tag E to file with hash ed321ad84949018498b9d8c1b1b791ba9708e770\n",
      "INFO - Processing file number 195 of 250: 956809\n",
      "INFO - Found file 956809 at N:\\PPDO\\Records\\53xx   Rachel Carson College (8)\\5303\\5303-037 Carson Dining\\E - Program and Design\\E3 - Budget,  Cost Estimates,  Cost Proposal\\PWC\\Detail Expense Report\\190828 Carson Dining Exp Capital Project 970152.xls\n",
      "INFO - Processed file 956809 with tag E3 - Budget,  Cost Estimates,  Cost Proposal\n",
      "INFO - Added tag E3 to file with hash b4b06450614977cdfc5d3796cdb7984e8458684a\n",
      "INFO - Added tag E to file with hash b4b06450614977cdfc5d3796cdb7984e8458684a\n",
      "INFO - Processing file number 196 of 250: 791271\n",
      "INFO - Found file 791271 at N:\\PPDO\\Records\\49xx   Long Marine Lab\\4932\\4932\\E - Program and Design\\E3 - Budget,  Cost Estimates,  Cost Proposal\\Project Budget Workbooks\\2015 Project Budget Workbooks - Final C Phase UCOP Submittal\\Progress\\CSC Trails Augmentation PBW 2-6-15.xls\n",
      "INFO - Processed file 791271 with tag E3 - Budget,  Cost Estimates,  Cost Proposal\n",
      "INFO - Added tag E3 to file with hash 57bb4d0f046044370190dcb182fe6c1875a28924\n",
      "INFO - Added tag E to file with hash 57bb4d0f046044370190dcb182fe6c1875a28924\n",
      "INFO - Processing file number 197 of 250: 792463\n",
      "INFO - Found file 792463 at N:\\PPDO\\Records\\100xx  Multiple Locations\\10085\\10085-001\\E - Program and Design\\E3 - Budget,  Cost Estimates,  Cost Proposal\\Thumbs.db\n",
      "No extractor found for file extension: db\n",
      "Tika returned 200 but empty body for C:\\Users\\adankert\\AppData\\Local\\Temp\\tmpbqhz9h98\\Thumbs.db (MIME=application/x-tika-msoffice)\n",
      "WARNING - Text length for file 792463 is 0:\n",
      "\n",
      "INFO - Processing file number 198 of 250: 517314\n",
      "INFO - Found file 517314 at N:\\PPDO\\Records\\59xx   Graduate Student Housing\\5900\\5900-012\\E3 - Budget,  Cost Estimates,  Cost Proposal\\E3 File 5900-012 GSH 111 Stonhard Flooring Cost Estimate.pdf\n",
      "INFO - Processed file 517314 with tag E3 - Budget,  Cost Estimates,  Cost Proposal\n",
      "INFO - Added tag E3 to file with hash 92d1b0019c815c3c9f737addb6931f2af1a71d04\n",
      "INFO - Added tag E to file with hash 92d1b0019c815c3c9f737addb6931f2af1a71d04\n",
      "INFO - Processing file number 199 of 250: 141406\n",
      "INFO - Found file 141406 at N:\\PPDO\\Records\\120xx  Off Campus Facilities\\12051 2505 Augustine\\12051\\DOC\\E3 - Budget,  Cost Estimates,  Cost Proposal\\UNEX 2505 Augustune - Budget Sheets 4-20-09.xls\n",
      "INFO - Processed file 141406 with tag E3 - Budget,  Cost Estimates,  Cost Proposal\n",
      "INFO - Added tag E3 to file with hash 77ab42f6118f62e7f908957aae64163adf653567\n",
      "INFO - Added tag E to file with hash 77ab42f6118f62e7f908957aae64163adf653567\n",
      "INFO - Processing file number 200 of 250: 702666\n",
      "INFO - Found file 702666 at N:\\PPDO\\Records\\55xx   College 9 & 10\\5506\\5506-026\\E - Program and Design\\E3 - Budget,  Cost Estimates,  Cost Proposal\\5506-026.E3.Kilkenny Cost Estimate 12-9-20.pdf\n",
      "INFO - Processed file 702666 with tag E3 - Budget,  Cost Estimates,  Cost Proposal\n",
      "INFO - Added tag E3 to file with hash 04b2d75a8321b43051bec1b41cb244a89eef9a04\n",
      "INFO - Added tag E to file with hash 04b2d75a8321b43051bec1b41cb244a89eef9a04\n",
      "INFO - Processing file number 201 of 250: 742007\n",
      "INFO - Found file 742007 at N:\\PPDO\\Records\\74xx   Engineering Building 2\\7400\\7400-009\\E - Program and Design\\E3 - Budget,  Cost Estimates,  Cost Proposal\\7400-009.E3.Eng 2 Sprinkler Head Replacement Accounting 11.28.16.xlsx\n",
      "INFO - Processed file 742007 with tag E3 - Budget,  Cost Estimates,  Cost Proposal\n",
      "INFO - Added tag E3 to file with hash 4be2081d73f98c1667203e4be7118dad41a69d51\n",
      "INFO - Added tag E to file with hash 4be2081d73f98c1667203e4be7118dad41a69d51\n",
      "INFO - Processing file number 202 of 250: 744164\n",
      "INFO - Found file 744164 at N:\\PPDO\\Records\\90xx  Campus Utilities\\9038\\9038\\E - Program and Design\\E3 - Budget,  Cost Estimates,  Cost Proposal\\HV Yard Bldg. est.doc\n",
      "INFO - Processed file 744164 with tag E3 - Budget,  Cost Estimates,  Cost Proposal\n",
      "INFO - Added tag E3 to file with hash 58941de81a6f6280a72c372162a98acac5282d90\n",
      "INFO - Added tag E to file with hash 58941de81a6f6280a72c372162a98acac5282d90\n",
      "INFO - Processing file number 203 of 250: 975606\n",
      "WARNING - File 975606 not found at N:\\PPDO\\Records\\16xx   Cowell College\\1600\\1600-180\\E - Program and Design\\E3 - Budget,  Cost Estimates,  Cost Proposal\\1600-180.E3.Project ROM Estimate MD060914.xls\n",
      "WARNING - No valid file found for 975606\n",
      "INFO - Processing file number 204 of 250: 574533\n",
      "INFO - Found file 574533 at N:\\PPDO\\Records\\76xx   Emergency Response Center\\7603\\7603\\7603 ERC Emergency Storm Drainage Repairs 2\\E - Program and Design\\E3 - Budget,  Cost Estimates,  Cost Proposal\\7603.E3.16 02 05, WO Cost Report (WO00390682).pdf\n",
      "INFO - Processed file 574533 with tag E3 - Budget,  Cost Estimates,  Cost Proposal\n",
      "INFO - Added tag E3 to file with hash a0284ec1026c906b71ff7bf71a7fe3ca078400d1\n",
      "INFO - Added tag E to file with hash a0284ec1026c906b71ff7bf71a7fe3ca078400d1\n",
      "INFO - Processing file number 205 of 250: 805317\n",
      "INFO - Found file 805317 at N:\\PPDO\\Records\\68xx   East Campus Infill\\6801\\6801\\E- Program and Design\\E3 - Budget,  Cost Estimates,  Cost Proposal\\Dec 12 2008 Pricing Package\\Specifications\\Architectural\\Division 12.doc\n",
      "INFO - Processed file 805317 with tag E3 - Budget,  Cost Estimates,  Cost Proposal\n",
      "INFO - Added tag E3 to file with hash 23d3d9a20afe5d42afc8429577e618ca3eea7cd3\n",
      "INFO - Added tag E to file with hash 23d3d9a20afe5d42afc8429577e618ca3eea7cd3\n",
      "INFO - Processing file number 206 of 250: 880515\n",
      "INFO - Found file 880515 at N:\\PPDO\\Records\\32xx   Kresge College (College 6)\\3238\\3238\\E - Program and Design\\E3 - Budget,  Cost Estimates,  Cost Proposal\\190513 Kresge Non-Academic MASTER REPORT (contains links).xls\n",
      "INFO - Processed file 880515 with tag E3 - Budget,  Cost Estimates,  Cost Proposal\n",
      "INFO - Added tag E3 to file with hash b92b34fa229b9388f7395f4070caf40131415bad\n",
      "INFO - Added tag E to file with hash b92b34fa229b9388f7395f4070caf40131415bad\n",
      "INFO - Processing file number 207 of 250: 574625\n",
      "INFO - Found file 574625 at N:\\PPDO\\Records\\76xx   Emergency Response Center\\7603\\7603\\7603 ERC Emergency Storm Drainage Repairs 2\\E - Program and Design\\E3 - Budget,  Cost Estimates,  Cost Proposal\\7603.E3.18 04 13 WO00410541 Cost Report.pdf\n",
      "INFO - Processed file 574625 with tag E3 - Budget,  Cost Estimates,  Cost Proposal\n",
      "INFO - Added tag E3 to file with hash e2082bb2f2a9d4eae652ec62ace36eae58fc8ea4\n",
      "INFO - Added tag E to file with hash e2082bb2f2a9d4eae652ec62ace36eae58fc8ea4\n",
      "INFO - Processing file number 208 of 250: 791226\n",
      "INFO - Found file 791226 at N:\\PPDO\\Records\\49xx   Long Marine Lab\\4932\\4932\\E - Program and Design\\E3 - Budget,  Cost Estimates,  Cost Proposal\\Project Budget Workbooks\\2015 Project Budget Workbooks - Final C Phase UCOP Submittal\\CSC FSS Augmentation PBW FINAL V2.xls\n",
      "INFO - Processed file 791226 with tag E3 - Budget,  Cost Estimates,  Cost Proposal\n",
      "INFO - Added tag E3 to file with hash 17d84f730929406fc7dfc672e9f2f26a5a8ee2bb\n",
      "INFO - Added tag E to file with hash 17d84f730929406fc7dfc672e9f2f26a5a8ee2bb\n",
      "INFO - Processing file number 209 of 250: 339137\n",
      "INFO - Found file 339137 at N:\\PPDO\\Records\\32xx   Kresge College (College 6)\\3238\\3238\\E - Program and Design\\E3 - Budget,  Cost Estimates,  Cost Proposal\\E3 Cost Estimates\\F 100DD\\Kresge College - 100% DD Budget Estimate updated 06.06.19 with UCSC Final 05.14.19 VE.pdf\n",
      "INFO - Processed file 339137 with tag E3 - Budget,  Cost Estimates,  Cost Proposal\n",
      "INFO - Added tag E3 to file with hash bed442484f99267143a84c9129d07ab0ddd7d94d\n",
      "INFO - Added tag E to file with hash bed442484f99267143a84c9129d07ab0ddd7d94d\n",
      "INFO - Processing file number 210 of 250: 719040\n",
      "INFO - Found file 719040 at N:\\PPDO\\Records\\90xx  Campus Utilities\\9069\\9069\\E - Program and Design\\E3 - Budget,  Cost Estimates,  Cost Proposal\\File 9069 Completion Forecast Details.pdf\n",
      "INFO - Processed file 719040 with tag E3 - Budget,  Cost Estimates,  Cost Proposal\n",
      "INFO - Added tag E3 to file with hash a0e40ae8f55ff4fda37f7346fede3d12e31ca0a2\n",
      "INFO - Added tag E to file with hash a0e40ae8f55ff4fda37f7346fede3d12e31ca0a2\n",
      "INFO - Processing file number 211 of 250: 73271\n",
      "INFO - Found file 73271 at N:\\PPDO\\Records\\100xx  Multiple Locations\\10000\\10000-024\\E - Program and Design\\E3 - Budget,  Cost Estimates,  Cost Proposal\\10000-024.E3.Campus ADA plumbing alterations phase 2 drinking fountain water shutdown access compliance section  plans and specification estimated cost.pdf\n"
     ]
    },
    {
     "data": {
      "application/vnd.jupyter.widget-view+json": {
       "model_id": "f8389bda053542dfa5e8eed665a50b55",
       "version_major": 2,
       "version_minor": 0
      },
      "text/plain": [
       "Output()"
      ]
     },
     "metadata": {},
     "output_type": "display_data"
    },
    {
     "data": {
      "text/html": [
       "<pre style=\"white-space:pre;overflow-x:auto;line-height:normal;font-family:Menlo,'DejaVu Sans Mono',consolas,'Courier New',monospace\"></pre>\n"
      ],
      "text/plain": []
     },
     "metadata": {},
     "output_type": "display_data"
    },
    {
     "data": {
      "application/vnd.jupyter.widget-view+json": {
       "model_id": "5c4e7275cf4b45b9adefbae905cb4ff3",
       "version_major": 2,
       "version_minor": 0
      },
      "text/plain": [
       "Output()"
      ]
     },
     "metadata": {},
     "output_type": "display_data"
    },
    {
     "data": {
      "text/html": [
       "<pre style=\"white-space:pre;overflow-x:auto;line-height:normal;font-family:Menlo,'DejaVu Sans Mono',consolas,'Courier New',monospace\">[tesseract] Error during processing.\n",
       "</pre>\n"
      ],
      "text/plain": [
       "[tesseract] Error during processing.\n"
      ]
     },
     "metadata": {},
     "output_type": "display_data"
    },
    {
     "data": {
      "text/html": [
       "<pre style=\"white-space:pre;overflow-x:auto;line-height:normal;font-family:Menlo,'DejaVu Sans Mono',consolas,'Courier New',monospace\">[tesseract] lots of diacritics - possibly poor OCR\n",
       "</pre>\n"
      ],
      "text/plain": [
       "[tesseract] lots of diacritics - possibly poor OCR\n"
      ]
     },
     "metadata": {},
     "output_type": "display_data"
    },
    {
     "data": {
      "text/html": [
       "<pre style=\"white-space:pre;overflow-x:auto;line-height:normal;font-family:Menlo,'DejaVu Sans Mono',consolas,'Courier New',monospace\"></pre>\n"
      ],
      "text/plain": []
     },
     "metadata": {},
     "output_type": "display_data"
    },
    {
     "data": {
      "application/vnd.jupyter.widget-view+json": {
       "model_id": "1d24e9ec06c041dc89a325a4493a805b",
       "version_major": 2,
       "version_minor": 0
      },
      "text/plain": [
       "Output()"
      ]
     },
     "metadata": {},
     "output_type": "display_data"
    },
    {
     "data": {
      "text/html": [
       "<pre style=\"white-space:pre;overflow-x:auto;line-height:normal;font-family:Menlo,'DejaVu Sans Mono',consolas,'Courier New',monospace\"></pre>\n"
      ],
      "text/plain": []
     },
     "metadata": {},
     "output_type": "display_data"
    },
    {
     "data": {
      "application/vnd.jupyter.widget-view+json": {
       "model_id": "c156d77fc2834309b17b49d05508b403",
       "version_major": 2,
       "version_minor": 0
      },
      "text/plain": [
       "Output()"
      ]
     },
     "metadata": {},
     "output_type": "display_data"
    },
    {
     "data": {
      "text/html": [
       "<pre style=\"white-space:pre;overflow-x:auto;line-height:normal;font-family:Menlo,'DejaVu Sans Mono',consolas,'Courier New',monospace\"></pre>\n"
      ],
      "text/plain": []
     },
     "metadata": {},
     "output_type": "display_data"
    },
    {
     "data": {
      "application/vnd.jupyter.widget-view+json": {
       "model_id": "84775cf6bf534f35bbacf6eee2f3ec9c",
       "version_major": 2,
       "version_minor": 0
      },
      "text/plain": [
       "Output()"
      ]
     },
     "metadata": {},
     "output_type": "display_data"
    },
    {
     "data": {
      "text/html": [
       "<pre style=\"white-space:pre;overflow-x:auto;line-height:normal;font-family:Menlo,'DejaVu Sans Mono',consolas,'Courier New',monospace\"></pre>\n"
      ],
      "text/plain": []
     },
     "metadata": {},
     "output_type": "display_data"
    },
    {
     "data": {
      "application/vnd.jupyter.widget-view+json": {
       "model_id": "36bc3c83060b4010884f0cf59c0e629d",
       "version_major": 2,
       "version_minor": 0
      },
      "text/plain": [
       "Output()"
      ]
     },
     "metadata": {},
     "output_type": "display_data"
    },
    {
     "data": {
      "text/html": [
       "<pre style=\"white-space:pre;overflow-x:auto;line-height:normal;font-family:Menlo,'DejaVu Sans Mono',consolas,'Courier New',monospace\"></pre>\n"
      ],
      "text/plain": []
     },
     "metadata": {},
     "output_type": "display_data"
    },
    {
     "name": "stderr",
     "output_type": "stream",
     "text": [
      "INFO - Processed file 73271 with tag E3 - Budget,  Cost Estimates,  Cost Proposal\n",
      "INFO - Added tag E3 to file with hash 510a984a15cff811e6b4e0f2cb6cedc54ebab1ac\n",
      "INFO - Added tag E to file with hash 510a984a15cff811e6b4e0f2cb6cedc54ebab1ac\n",
      "INFO - Processing file number 212 of 250: 791139\n",
      "INFO - Found file 791139 at N:\\PPDO\\Records\\49xx   Long Marine Lab\\4932\\4932\\E - Program and Design\\E3 - Budget,  Cost Estimates,  Cost Proposal\\Project Budget Workbooks\\Scope Creep 14-11-25.pdf\n",
      "INFO - Processed file 791139 with tag E3 - Budget,  Cost Estimates,  Cost Proposal\n",
      "INFO - Added tag E3 to file with hash 4ce4871716c7d1ccd0143fc58f1f882cdf3aa35e\n",
      "INFO - Added tag E to file with hash 4ce4871716c7d1ccd0143fc58f1f882cdf3aa35e\n",
      "INFO - Processing file number 213 of 250: 956816\n",
      "INFO - Found file 956816 at N:\\PPDO\\Records\\53xx   Rachel Carson College (8)\\5303\\5303-037 Carson Dining\\E - Program and Design\\E3 - Budget,  Cost Estimates,  Cost Proposal\\PWC\\PBW\\PBW 5303-037 Carson Dining -Full Budget- Final 190925.xlsx\n",
      "INFO - Processed file 956816 with tag E3 - Budget,  Cost Estimates,  Cost Proposal\n",
      "INFO - Added tag E3 to file with hash 2741787e27d673112c9a8483f2f6ae902ec5c312\n",
      "INFO - Added tag E to file with hash 2741787e27d673112c9a8483f2f6ae902ec5c312\n",
      "INFO - Processing file number 214 of 250: 781280\n",
      "INFO - Found file 781280 at N:\\PPDO\\Records\\45xx   Bay Tree Bookstore\\4505\\4505-004\\E3 - Budget,  Cost Estimates,  Cost Proposal\\File 4505-004 WO-FPR #38300.pdf\n"
     ]
    },
    {
     "data": {
      "application/vnd.jupyter.widget-view+json": {
       "model_id": "3bc7a9afe71d46aaac2a2ef89c54dec1",
       "version_major": 2,
       "version_minor": 0
      },
      "text/plain": [
       "Output()"
      ]
     },
     "metadata": {},
     "output_type": "display_data"
    },
    {
     "data": {
      "text/html": [
       "<pre style=\"white-space:pre;overflow-x:auto;line-height:normal;font-family:Menlo,'DejaVu Sans Mono',consolas,'Courier New',monospace\"></pre>\n"
      ],
      "text/plain": []
     },
     "metadata": {},
     "output_type": "display_data"
    },
    {
     "data": {
      "application/vnd.jupyter.widget-view+json": {
       "model_id": "862d8c3a278245db920aff401255c989",
       "version_major": 2,
       "version_minor": 0
      },
      "text/plain": [
       "Output()"
      ]
     },
     "metadata": {},
     "output_type": "display_data"
    },
    {
     "data": {
      "text/html": [
       "<pre style=\"white-space:pre;overflow-x:auto;line-height:normal;font-family:Menlo,'DejaVu Sans Mono',consolas,'Courier New',monospace\"></pre>\n"
      ],
      "text/plain": []
     },
     "metadata": {},
     "output_type": "display_data"
    },
    {
     "data": {
      "application/vnd.jupyter.widget-view+json": {
       "model_id": "ab8ca50e96af4a27a3d2164287e0e013",
       "version_major": 2,
       "version_minor": 0
      },
      "text/plain": [
       "Output()"
      ]
     },
     "metadata": {},
     "output_type": "display_data"
    },
    {
     "data": {
      "text/html": [
       "<pre style=\"white-space:pre;overflow-x:auto;line-height:normal;font-family:Menlo,'DejaVu Sans Mono',consolas,'Courier New',monospace\"></pre>\n"
      ],
      "text/plain": []
     },
     "metadata": {},
     "output_type": "display_data"
    },
    {
     "data": {
      "application/vnd.jupyter.widget-view+json": {
       "model_id": "4cc1de61d9ef49fd9ea1472963faa60e",
       "version_major": 2,
       "version_minor": 0
      },
      "text/plain": [
       "Output()"
      ]
     },
     "metadata": {},
     "output_type": "display_data"
    },
    {
     "data": {
      "text/html": [
       "<pre style=\"white-space:pre;overflow-x:auto;line-height:normal;font-family:Menlo,'DejaVu Sans Mono',consolas,'Courier New',monospace\"></pre>\n"
      ],
      "text/plain": []
     },
     "metadata": {},
     "output_type": "display_data"
    },
    {
     "data": {
      "application/vnd.jupyter.widget-view+json": {
       "model_id": "dff46934780a412bb86ddc8bdb7f507d",
       "version_major": 2,
       "version_minor": 0
      },
      "text/plain": [
       "Output()"
      ]
     },
     "metadata": {},
     "output_type": "display_data"
    },
    {
     "data": {
      "text/html": [
       "<pre style=\"white-space:pre;overflow-x:auto;line-height:normal;font-family:Menlo,'DejaVu Sans Mono',consolas,'Courier New',monospace\"></pre>\n"
      ],
      "text/plain": []
     },
     "metadata": {},
     "output_type": "display_data"
    },
    {
     "data": {
      "application/vnd.jupyter.widget-view+json": {
       "model_id": "0fbd798db97e4f45aa8248f6d4caf521",
       "version_major": 2,
       "version_minor": 0
      },
      "text/plain": [
       "Output()"
      ]
     },
     "metadata": {},
     "output_type": "display_data"
    },
    {
     "data": {
      "text/html": [
       "<pre style=\"white-space:pre;overflow-x:auto;line-height:normal;font-family:Menlo,'DejaVu Sans Mono',consolas,'Courier New',monospace\"></pre>\n"
      ],
      "text/plain": []
     },
     "metadata": {},
     "output_type": "display_data"
    },
    {
     "name": "stderr",
     "output_type": "stream",
     "text": [
      "The output file size is 8.85× larger than the input file.\n",
      "Possible reasons for this include:\n",
      "--deskew was issued, causing transcoding.\n",
      "The optional dependency 'jbig2' was not found, so some image optimizations could not be attempted.\n",
      "The optional dependency 'pngquant' was not found, so some image optimizations could not be attempted.\n",
      "\n",
      "INFO - Processed file 781280 with tag E3 - Budget,  Cost Estimates,  Cost Proposal\n",
      "INFO - Added tag E3 to file with hash bb2db2f3a0759e5444fa502009ae900257794abb\n",
      "INFO - Added tag E to file with hash bb2db2f3a0759e5444fa502009ae900257794abb\n",
      "INFO - Processing file number 215 of 250: 956777\n",
      "INFO - Found file 956777 at N:\\PPDO\\Records\\53xx   Rachel Carson College (8)\\5303\\5303-037 Carson Dining\\E - Program and Design\\E3 - Budget,  Cost Estimates,  Cost Proposal\\PreDesign\\Detailed Expenses\\190325 PD Carson Dining Budget Detailed Expenses.xlsx\n",
      "c:\\Users\\adankert\\projects\\file_code_tagger\\.venv\\Lib\\site-packages\\openpyxl\\styles\\stylesheet.py:237: UserWarning: Workbook contains no default style, apply openpyxl's default\n",
      "  warn(\"Workbook contains no default style, apply openpyxl's default\")\n",
      "INFO - Processed file 956777 with tag E3 - Budget,  Cost Estimates,  Cost Proposal\n",
      "INFO - Added tag E3 to file with hash d063ec363d16f1ba00a8c937802062957fd7ea7d\n",
      "INFO - Added tag E to file with hash d063ec363d16f1ba00a8c937802062957fd7ea7d\n",
      "INFO - Processing file number 216 of 250: 503300\n",
      "INFO - Found file 503300 at N:\\PPDO\\Records\\56xx   Digital Arts Facility\\5601\\5601\\E - Program and Design\\E3 - Budget,  Cost Estimates,  Cost Proposal\\12-21-06  Budget Challenge Talking Notes.doc\n",
      "INFO - Processed file 503300 with tag E3 - Budget,  Cost Estimates,  Cost Proposal\n",
      "INFO - Added tag E3 to file with hash ac83dd5dc622fd908e5fdb0eaa10660bb2d1f5b8\n",
      "INFO - Added tag E to file with hash ac83dd5dc622fd908e5fdb0eaa10660bb2d1f5b8\n",
      "INFO - Processing file number 217 of 250: 246514\n",
      "INFO - Found file 246514 at N:\\PPDO\\Records\\26xx   Merrill College (College 4)\\2625\\2625\\E3 - Budget,  Cost Estimates,  Cost Proposal\\Decrease Request.pdf\n"
     ]
    },
    {
     "data": {
      "application/vnd.jupyter.widget-view+json": {
       "model_id": "b3cd8a3c792b4771b2c18ba50f83a08a",
       "version_major": 2,
       "version_minor": 0
      },
      "text/plain": [
       "Output()"
      ]
     },
     "metadata": {},
     "output_type": "display_data"
    },
    {
     "data": {
      "text/html": [
       "<pre style=\"white-space:pre;overflow-x:auto;line-height:normal;font-family:Menlo,'DejaVu Sans Mono',consolas,'Courier New',monospace\"></pre>\n"
      ],
      "text/plain": []
     },
     "metadata": {},
     "output_type": "display_data"
    },
    {
     "data": {
      "application/vnd.jupyter.widget-view+json": {
       "model_id": "b98514cd0de648dea87430f9273132d0",
       "version_major": 2,
       "version_minor": 0
      },
      "text/plain": [
       "Output()"
      ]
     },
     "metadata": {},
     "output_type": "display_data"
    },
    {
     "data": {
      "text/html": [
       "<pre style=\"white-space:pre;overflow-x:auto;line-height:normal;font-family:Menlo,'DejaVu Sans Mono',consolas,'Courier New',monospace\"></pre>\n"
      ],
      "text/plain": []
     },
     "metadata": {},
     "output_type": "display_data"
    },
    {
     "data": {
      "application/vnd.jupyter.widget-view+json": {
       "model_id": "9ea9774ab7194bd4b772cd4ca6c26920",
       "version_major": 2,
       "version_minor": 0
      },
      "text/plain": [
       "Output()"
      ]
     },
     "metadata": {},
     "output_type": "display_data"
    },
    {
     "data": {
      "text/html": [
       "<pre style=\"white-space:pre;overflow-x:auto;line-height:normal;font-family:Menlo,'DejaVu Sans Mono',consolas,'Courier New',monospace\"></pre>\n"
      ],
      "text/plain": []
     },
     "metadata": {},
     "output_type": "display_data"
    },
    {
     "data": {
      "application/vnd.jupyter.widget-view+json": {
       "model_id": "6568bf2f8329463187eedef8fcedf6a2",
       "version_major": 2,
       "version_minor": 0
      },
      "text/plain": [
       "Output()"
      ]
     },
     "metadata": {},
     "output_type": "display_data"
    },
    {
     "data": {
      "text/html": [
       "<pre style=\"white-space:pre;overflow-x:auto;line-height:normal;font-family:Menlo,'DejaVu Sans Mono',consolas,'Courier New',monospace\"></pre>\n"
      ],
      "text/plain": []
     },
     "metadata": {},
     "output_type": "display_data"
    },
    {
     "data": {
      "application/vnd.jupyter.widget-view+json": {
       "model_id": "76267e813c614f1dbc67f53881d2a835",
       "version_major": 2,
       "version_minor": 0
      },
      "text/plain": [
       "Output()"
      ]
     },
     "metadata": {},
     "output_type": "display_data"
    },
    {
     "data": {
      "text/html": [
       "<pre style=\"white-space:pre;overflow-x:auto;line-height:normal;font-family:Menlo,'DejaVu Sans Mono',consolas,'Courier New',monospace\"></pre>\n"
      ],
      "text/plain": []
     },
     "metadata": {},
     "output_type": "display_data"
    },
    {
     "data": {
      "application/vnd.jupyter.widget-view+json": {
       "model_id": "8a243f0153144765aceef8864e972838",
       "version_major": 2,
       "version_minor": 0
      },
      "text/plain": [
       "Output()"
      ]
     },
     "metadata": {},
     "output_type": "display_data"
    },
    {
     "data": {
      "text/html": [
       "<pre style=\"white-space:pre;overflow-x:auto;line-height:normal;font-family:Menlo,'DejaVu Sans Mono',consolas,'Courier New',monospace\"></pre>\n"
      ],
      "text/plain": []
     },
     "metadata": {},
     "output_type": "display_data"
    },
    {
     "name": "stderr",
     "output_type": "stream",
     "text": [
      "The output file size is 8.43× larger than the input file.\n",
      "Possible reasons for this include:\n",
      "--deskew was issued, causing transcoding.\n",
      "The optional dependency 'jbig2' was not found, so some image optimizations could not be attempted.\n",
      "The optional dependency 'pngquant' was not found, so some image optimizations could not be attempted.\n",
      "\n",
      "INFO - Processed file 246514 with tag E3 - Budget,  Cost Estimates,  Cost Proposal\n",
      "INFO - Added tag E3 to file with hash f514338444c6a00578e164192db305ae3eba3f1a\n",
      "INFO - Added tag E to file with hash f514338444c6a00578e164192db305ae3eba3f1a\n",
      "INFO - Processing file number 218 of 250: 735257\n",
      "INFO - Found file 735257 at N:\\PPDO\\Records\\64xx   Interdisciplinary Sciences Building\\6401\\6401\\E - Program and Design\\E3 - Budget,  Cost Estimates,  Cost Proposal\\6401.E3.Specs&PlanLog#6401-ISB.doc\n",
      "ERROR - Error processing file 735257: No viable method to extract text from legacy Word file on Windows.\n",
      "DEBUG - Traceback (most recent call last):\n",
      "  File \"C:\\Users\\adankert\\AppData\\Local\\Temp\\ipykernel_30180\\2625192744.py\", line 179, in <module>\n",
      "    text = extractor(temp_filepath)\n",
      "  File \"c:\\Users\\adankert\\projects\\file_code_tagger\\text_extraction\\office_doc_extraction.py\", line 66, in __call__\n",
      "    text = self._extract_legacy(str(p), ext)\n",
      "  File \"c:\\Users\\adankert\\projects\\file_code_tagger\\text_extraction\\office_doc_extraction.py\", line 145, in _extract_legacy\n",
      "    raise RuntimeError(\"No viable method to extract text from legacy Word file on Windows.\")\n",
      "RuntimeError: No viable method to extract text from legacy Word file on Windows.\n",
      "\n",
      "INFO - Processing file number 219 of 250: 684688\n",
      "INFO - Found file 684688 at N:\\PPDO\\Records\\89xx   Campus Roads\\8940\\8940\\E - Program and Design\\E3 - Budget,  Cost Estimates,  Cost Proposal\\Application for Payment.pdf\n"
     ]
    },
    {
     "data": {
      "application/vnd.jupyter.widget-view+json": {
       "model_id": "0ba67ca8d8984446858d5477c5c81ba5",
       "version_major": 2,
       "version_minor": 0
      },
      "text/plain": [
       "Output()"
      ]
     },
     "metadata": {},
     "output_type": "display_data"
    },
    {
     "data": {
      "text/html": [
       "<pre style=\"white-space:pre;overflow-x:auto;line-height:normal;font-family:Menlo,'DejaVu Sans Mono',consolas,'Courier New',monospace\"></pre>\n"
      ],
      "text/plain": []
     },
     "metadata": {},
     "output_type": "display_data"
    },
    {
     "data": {
      "application/vnd.jupyter.widget-view+json": {
       "model_id": "1ad04177e67d4e048a8decea8f2c1477",
       "version_major": 2,
       "version_minor": 0
      },
      "text/plain": [
       "Output()"
      ]
     },
     "metadata": {},
     "output_type": "display_data"
    },
    {
     "data": {
      "text/html": [
       "<pre style=\"white-space:pre;overflow-x:auto;line-height:normal;font-family:Menlo,'DejaVu Sans Mono',consolas,'Courier New',monospace\"></pre>\n"
      ],
      "text/plain": []
     },
     "metadata": {},
     "output_type": "display_data"
    },
    {
     "data": {
      "application/vnd.jupyter.widget-view+json": {
       "model_id": "2d7b57440a7f456d8bcf33f3bad0915c",
       "version_major": 2,
       "version_minor": 0
      },
      "text/plain": [
       "Output()"
      ]
     },
     "metadata": {},
     "output_type": "display_data"
    },
    {
     "data": {
      "text/html": [
       "<pre style=\"white-space:pre;overflow-x:auto;line-height:normal;font-family:Menlo,'DejaVu Sans Mono',consolas,'Courier New',monospace\"></pre>\n"
      ],
      "text/plain": []
     },
     "metadata": {},
     "output_type": "display_data"
    },
    {
     "data": {
      "application/vnd.jupyter.widget-view+json": {
       "model_id": "905cc7de6a4d42a7bbe52d919c2b88c2",
       "version_major": 2,
       "version_minor": 0
      },
      "text/plain": [
       "Output()"
      ]
     },
     "metadata": {},
     "output_type": "display_data"
    },
    {
     "data": {
      "text/html": [
       "<pre style=\"white-space:pre;overflow-x:auto;line-height:normal;font-family:Menlo,'DejaVu Sans Mono',consolas,'Courier New',monospace\"></pre>\n"
      ],
      "text/plain": []
     },
     "metadata": {},
     "output_type": "display_data"
    },
    {
     "data": {
      "application/vnd.jupyter.widget-view+json": {
       "model_id": "02d237ea50354b9dab8d61dccd7c6000",
       "version_major": 2,
       "version_minor": 0
      },
      "text/plain": [
       "Output()"
      ]
     },
     "metadata": {},
     "output_type": "display_data"
    },
    {
     "data": {
      "text/html": [
       "<pre style=\"white-space:pre;overflow-x:auto;line-height:normal;font-family:Menlo,'DejaVu Sans Mono',consolas,'Courier New',monospace\"></pre>\n"
      ],
      "text/plain": []
     },
     "metadata": {},
     "output_type": "display_data"
    },
    {
     "data": {
      "application/vnd.jupyter.widget-view+json": {
       "model_id": "dc72b0a876e946368767157cc68c78ca",
       "version_major": 2,
       "version_minor": 0
      },
      "text/plain": [
       "Output()"
      ]
     },
     "metadata": {},
     "output_type": "display_data"
    },
    {
     "data": {
      "text/html": [
       "<pre style=\"white-space:pre;overflow-x:auto;line-height:normal;font-family:Menlo,'DejaVu Sans Mono',consolas,'Courier New',monospace\"></pre>\n"
      ],
      "text/plain": []
     },
     "metadata": {},
     "output_type": "display_data"
    },
    {
     "name": "stderr",
     "output_type": "stream",
     "text": [
      "INFO - Processed file 684688 with tag E3 - Budget,  Cost Estimates,  Cost Proposal\n",
      "INFO - Added tag E3 to file with hash 18ad65da380f96e6614aa01716da58afb83790c6\n",
      "INFO - Added tag E to file with hash 18ad65da380f96e6614aa01716da58afb83790c6\n",
      "INFO - Processing file number 220 of 250: 273845\n",
      "INFO - Found file 273845 at N:\\PPDO\\Records\\27xx   Applied Sciences Baskin Engineering\\2727\\2727\\E3 - Budget,  Cost Estimates,  Cost Proposal\\File 2727 Project 976025 PV Forms.pdf\n",
      "INFO - Processed file 273845 with tag E3 - Budget,  Cost Estimates,  Cost Proposal\n",
      "INFO - Added tag E3 to file with hash 3b000a61068fbc435e80587be4e9efd50ae3e114\n",
      "INFO - Added tag E to file with hash 3b000a61068fbc435e80587be4e9efd50ae3e114\n",
      "INFO - Processing file number 221 of 250: 729542\n",
      "INFO - Found file 729542 at N:\\PPDO\\Records\\26xx   Merrill College (College 4)\\2638\\2638\\E - Program and Design\\E3 - Budget,  Cost Estimates,  Cost Proposal\\FINAL MCC 2638  976326 PBW JF_2016-03-30.xls\n",
      "INFO - Processed file 729542 with tag E3 - Budget,  Cost Estimates,  Cost Proposal\n",
      "INFO - Added tag E3 to file with hash c7771c94c2b7b8154ce98711e8ad2351af97f49a\n",
      "INFO - Added tag E to file with hash c7771c94c2b7b8154ce98711e8ad2351af97f49a\n",
      "INFO - Processing file number 222 of 250: 214934\n",
      "WARNING - File 214934 not found at N:\\PPDO\\Records\\21xx   Central Heating Plant (Fackler Cogeneration)\\2113\\2113\\E - Program and Design\\E3 - Budget,  Cost Estimates,  Cost Proposal\\JH Cogen Budget 6-2013 JH 130701.xls\n",
      "WARNING - No valid file found for 214934\n",
      "INFO - Processing file number 223 of 250: 174489\n",
      "WARNING - File 174489 not found at N:\\PPDO\\Records\\17xx   Stevenson College (College 2)\\1700\\1700-206\\E - Program and Design\\E3 - Budget,  Cost Estimates,  Cost Proposal\\1700-206.E3 Budget.pdf\n",
      "WARNING - No valid file found for 174489\n",
      "INFO - Processing file number 224 of 250: 969677\n",
      "INFO - Found file 969677 at N:\\PPDO\\Records\\25xx   Natural Sciences Unit 2\\2500\\2500-060\\E - Program and Design\\E3 - Budget,  Cost Estimates,  Cost Proposal\\UCSC Breaker Repair quote Q1594~revision 1 4-8-08 e3.doc\n",
      "INFO - Processed file 969677 with tag E3 - Budget,  Cost Estimates,  Cost Proposal\n",
      "INFO - Added tag E3 to file with hash dcabc3eb807455469e610a5e13e3b0d9920f8505\n",
      "INFO - Added tag E to file with hash dcabc3eb807455469e610a5e13e3b0d9920f8505\n",
      "INFO - Processing file number 225 of 250: 74588\n",
      "INFO - Found file 74588 at N:\\PPDO\\Records\\100xx  Multiple Locations\\10000\\10000-200\\E - Program and Design\\E3 - Budget,  Cost Estimates,  Cost Proposal\\10000-200.E3.Campus Wide Meter Upgrade 2016 Accounting 11.1.16.xlsx\n",
      "INFO - Processed file 74588 with tag E3 - Budget,  Cost Estimates,  Cost Proposal\n",
      "INFO - Added tag E3 to file with hash 2bd4b11ed5842fe71873e61eb21a6be074ddfe4f\n",
      "INFO - Added tag E to file with hash 2bd4b11ed5842fe71873e61eb21a6be074ddfe4f\n",
      "INFO - Processing file number 226 of 250: 779155\n",
      "INFO - Found file 779155 at N:\\PPDO\\Records\\45xx   Bay Tree Bookstore\\4500\\4500-005\\E - Program and Design\\E3 - Budget,  Cost Estimates,  Cost Proposal\\4500-005 E3 FPR Increase, 10-3-13.pdf\n",
      "INFO - Processed file 779155 with tag E3 - Budget,  Cost Estimates,  Cost Proposal\n",
      "INFO - Added tag E3 to file with hash 5305940751021b183bb9e673ccd2b7f5f911daed\n",
      "INFO - Added tag E to file with hash 5305940751021b183bb9e673ccd2b7f5f911daed\n",
      "INFO - Processing file number 227 of 250: 307406\n",
      "INFO - Found file 307406 at N:\\PPDO\\Records\\30xx   Porter College (College 5)\\3000\\3000-149\\E - Program and Design\\E3 - Budget,  Cost Estimates,  Cost Proposal\\977465 Porter Kitchen CIB draft 20130916.pdf\n",
      "INFO - Processed file 307406 with tag E3 - Budget,  Cost Estimates,  Cost Proposal\n",
      "INFO - Added tag E3 to file with hash 65a1d17639a17c321b14615112ec283d6f23cf01\n",
      "INFO - Added tag E to file with hash 65a1d17639a17c321b14615112ec283d6f23cf01\n",
      "INFO - Processing file number 228 of 250: 613916\n",
      "INFO - Found file 613916 at N:\\PPDO\\Records\\94xx   Campus Wide Fire Alarm and Fire Protection Systems\\9400\\9400-002\\9400-002\\E - Program and Design\\E3 - Budget,  Cost Estimates,  Cost Proposal\\153-1400992 - UCSC Oakes College-rev1-2.pdf\n",
      "INFO - Processed file 613916 with tag E3 - Budget,  Cost Estimates,  Cost Proposal\n",
      "INFO - Added tag E3 to file with hash 2d956dd4e72d7f6cf9a6a7dab582c54f20387c5c\n",
      "INFO - Added tag E to file with hash 2d956dd4e72d7f6cf9a6a7dab582c54f20387c5c\n",
      "INFO - Processing file number 229 of 250: 16418\n",
      "INFO - Found file 16418 at N:\\PPDO\\Records\\13xx   Original Ranch Buildings\\1326\\1326\\E - Program and Design\\E3 - Budget,  Cost Estimates,  Cost Proposal\\Budgets\\Cost Elaborations\\Schematic Design Estimate.xlsx\n",
      "c:\\Users\\adankert\\projects\\file_code_tagger\\.venv\\Lib\\site-packages\\openpyxl\\worksheet\\_reader.py:329: UserWarning: Unknown extension is not supported and will be removed\n",
      "  warn(msg)\n",
      "INFO - Processed file 16418 with tag E3 - Budget,  Cost Estimates,  Cost Proposal\n",
      "INFO - Added tag E3 to file with hash c55c43a11dbf6aecb73cd01850cd49242816758e\n",
      "INFO - Added tag E to file with hash c55c43a11dbf6aecb73cd01850cd49242816758e\n",
      "INFO - Processing file number 230 of 250: 356977\n",
      "INFO - Found file 356977 at N:\\PPDO\\Records\\33xx   Clark Kerr Hall\\3309\\3309\\E- Program and Design\\E3 - Budget,  Cost Estimates,  Cost Proposal\\File 3309 Budget Expense Journal 2-3-95.pdf\n",
      "INFO - Processed file 356977 with tag E3 - Budget,  Cost Estimates,  Cost Proposal\n",
      "INFO - Added tag E3 to file with hash 7d42d9cffe2818cd90b965dbcc90c46692365885\n",
      "INFO - Added tag E to file with hash 7d42d9cffe2818cd90b965dbcc90c46692365885\n",
      "INFO - Processing file number 231 of 250: 883567\n",
      "INFO - Found file 883567 at N:\\PPDO\\Records\\63xx   Music Facility\\6300\\6300-011\\E - Program and Design\\E3 - Budget,  Cost Estimates,  Cost Proposal\\Estimate\\Recharge Rate Summary 23-24  6.24.23.pdf\n",
      "INFO - Processed file 883567 with tag E3 - Budget,  Cost Estimates,  Cost Proposal\n",
      "INFO - Added tag E3 to file with hash 8334f2f601e3973ee42ba2889672f984d54f8c9d\n",
      "INFO - Added tag E to file with hash 8334f2f601e3973ee42ba2889672f984d54f8c9d\n",
      "INFO - Processing file number 232 of 250: 339226\n",
      "INFO - Found file 339226 at N:\\PPDO\\Records\\32xx   Kresge College (College 6)\\3238\\3238\\E - Program and Design\\E3 - Budget,  Cost Estimates,  Cost Proposal\\190315 Kresge Capital Project (multiple capital accounts)\\Kresge Residential Improvements PreDesign 976393.xls\n",
      "INFO - Processed file 339226 with tag E3 - Budget,  Cost Estimates,  Cost Proposal\n",
      "INFO - Added tag E3 to file with hash 2cd93d26d361e1b01c0bd89744cf493f6effd14c\n",
      "INFO - Added tag E to file with hash 2cd93d26d361e1b01c0bd89744cf493f6effd14c\n",
      "INFO - Processing file number 233 of 250: 791370\n",
      "INFO - Found file 791370 at N:\\PPDO\\Records\\49xx   Long Marine Lab\\4932\\4932\\E - Program and Design\\E3 - Budget,  Cost Estimates,  Cost Proposal\\Project Budget Workbooks\\Pre-2013 Budget\\env consultant costs.xls\n",
      "INFO - Processed file 791370 with tag E3 - Budget,  Cost Estimates,  Cost Proposal\n",
      "INFO - Added tag E3 to file with hash b62b041c4d925ec8bb4279bc4978664f171241f2\n",
      "INFO - Added tag E to file with hash b62b041c4d925ec8bb4279bc4978664f171241f2\n",
      "INFO - Processing file number 234 of 250: 784599\n",
      "INFO - Found file 784599 at N:\\PPDO\\Records\\49xx   Long Marine Lab\\4900\\4900-047\\E - Program and Design\\E3 - Budget,  Cost Estimates,  Cost Proposal\\2019.07.30 LETTER Coastal Science Campus Overlook B Repair.pdf\n",
      "INFO - Processed file 784599 with tag E3 - Budget,  Cost Estimates,  Cost Proposal\n",
      "INFO - Added tag E3 to file with hash 5bd8d524acc87f7a129ff5992a09d3676d820795\n",
      "INFO - Added tag E to file with hash 5bd8d524acc87f7a129ff5992a09d3676d820795\n",
      "INFO - Processing file number 235 of 250: 791184\n",
      "INFO - Found file 791184 at N:\\PPDO\\Records\\49xx   Long Marine Lab\\4932\\4932\\E - Program and Design\\E3 - Budget,  Cost Estimates,  Cost Proposal\\Project Budget Workbooks\\2014 Project Budget Workbooks - Final W1 Phase UCOP Submittal\\Process Docs\\V2\\MSC Trails v2.pdf\n",
      "INFO - Processed file 791184 with tag E3 - Budget,  Cost Estimates,  Cost Proposal\n",
      "INFO - Added tag E3 to file with hash e20dc797dc27709549950d1df9795c7aa5f49167\n",
      "INFO - Added tag E to file with hash e20dc797dc27709549950d1df9795c7aa5f49167\n",
      "INFO - Processing file number 236 of 250: 236071\n",
      "WARNING - File 236071 not found at N:\\PPDO\\Records\\23xx   Crown College (College 3)\\2358\\2358\\E - Program and Design\\E3 - Budget,  Cost Estimates,  Cost Proposal\\Budget and Cost Reports\\Cost Estimates\\Steinberg - TBD Cost Estimates\\170130_UCSC Crown College Res Halls MM_TBD Cost Estimate Rev1.pdf\n",
      "WARNING - File 236071 not found at N:\\PPDO\\Records\\23xx   Crown College (College 3)\\2358\\2358\\E - Program and Design\\E3 - Budget,  Cost Estimates,  Cost Proposal\\Cost Estimates\\Steinberg - TBD Cost Estimates\\170130_UCSC Crown College Res Halls MM_TBD Cost Estimate Rev1.pdf\n",
      "WARNING - No valid file found for 236071\n",
      "INFO - Processing file number 237 of 250: 369782\n",
      "INFO - Found file 369782 at N:\\PPDO\\Records\\37xx   Oakes College\\3733\\E3 - Budget,  Cost Estimates,  Cost Proposal\\4-3-96 Budget Memorandum.pdf\n"
     ]
    },
    {
     "data": {
      "application/vnd.jupyter.widget-view+json": {
       "model_id": "3ead8fbcaf6340d1933bf59f5938b389",
       "version_major": 2,
       "version_minor": 0
      },
      "text/plain": [
       "Output()"
      ]
     },
     "metadata": {},
     "output_type": "display_data"
    },
    {
     "data": {
      "text/html": [
       "<pre style=\"white-space:pre;overflow-x:auto;line-height:normal;font-family:Menlo,'DejaVu Sans Mono',consolas,'Courier New',monospace\"></pre>\n"
      ],
      "text/plain": []
     },
     "metadata": {},
     "output_type": "display_data"
    },
    {
     "data": {
      "application/vnd.jupyter.widget-view+json": {
       "model_id": "0679047c14764e2e9f1728b4464036e1",
       "version_major": 2,
       "version_minor": 0
      },
      "text/plain": [
       "Output()"
      ]
     },
     "metadata": {},
     "output_type": "display_data"
    },
    {
     "data": {
      "text/html": [
       "<pre style=\"white-space:pre;overflow-x:auto;line-height:normal;font-family:Menlo,'DejaVu Sans Mono',consolas,'Courier New',monospace\"></pre>\n"
      ],
      "text/plain": []
     },
     "metadata": {},
     "output_type": "display_data"
    },
    {
     "data": {
      "application/vnd.jupyter.widget-view+json": {
       "model_id": "0e3d8ea2b80940bd9e95a1ab9c269d7b",
       "version_major": 2,
       "version_minor": 0
      },
      "text/plain": [
       "Output()"
      ]
     },
     "metadata": {},
     "output_type": "display_data"
    },
    {
     "data": {
      "text/html": [
       "<pre style=\"white-space:pre;overflow-x:auto;line-height:normal;font-family:Menlo,'DejaVu Sans Mono',consolas,'Courier New',monospace\"></pre>\n"
      ],
      "text/plain": []
     },
     "metadata": {},
     "output_type": "display_data"
    },
    {
     "data": {
      "application/vnd.jupyter.widget-view+json": {
       "model_id": "66d5dc99e2b14cf2ae0e68c2672d9b9c",
       "version_major": 2,
       "version_minor": 0
      },
      "text/plain": [
       "Output()"
      ]
     },
     "metadata": {},
     "output_type": "display_data"
    },
    {
     "data": {
      "text/html": [
       "<pre style=\"white-space:pre;overflow-x:auto;line-height:normal;font-family:Menlo,'DejaVu Sans Mono',consolas,'Courier New',monospace\"></pre>\n"
      ],
      "text/plain": []
     },
     "metadata": {},
     "output_type": "display_data"
    },
    {
     "data": {
      "application/vnd.jupyter.widget-view+json": {
       "model_id": "0cc9fe7c4e854179974d0d26f977d376",
       "version_major": 2,
       "version_minor": 0
      },
      "text/plain": [
       "Output()"
      ]
     },
     "metadata": {},
     "output_type": "display_data"
    },
    {
     "data": {
      "text/html": [
       "<pre style=\"white-space:pre;overflow-x:auto;line-height:normal;font-family:Menlo,'DejaVu Sans Mono',consolas,'Courier New',monospace\"></pre>\n"
      ],
      "text/plain": []
     },
     "metadata": {},
     "output_type": "display_data"
    },
    {
     "data": {
      "application/vnd.jupyter.widget-view+json": {
       "model_id": "40d7aca2e0ca4ac1bfe83c7e82ec9da8",
       "version_major": 2,
       "version_minor": 0
      },
      "text/plain": [
       "Output()"
      ]
     },
     "metadata": {},
     "output_type": "display_data"
    },
    {
     "data": {
      "text/html": [
       "<pre style=\"white-space:pre;overflow-x:auto;line-height:normal;font-family:Menlo,'DejaVu Sans Mono',consolas,'Courier New',monospace\"></pre>\n"
      ],
      "text/plain": []
     },
     "metadata": {},
     "output_type": "display_data"
    },
    {
     "name": "stderr",
     "output_type": "stream",
     "text": [
      "The output file size is 2.32× larger than the input file.\n",
      "Possible reasons for this include:\n",
      "--deskew was issued, causing transcoding.\n",
      "The optional dependency 'jbig2' was not found, so some image optimizations could not be attempted.\n",
      "The optional dependency 'pngquant' was not found, so some image optimizations could not be attempted.\n",
      "\n",
      "INFO - Processed file 369782 with tag E3 - Budget,  Cost Estimates,  Cost Proposal\n",
      "INFO - Added tag E3 to file with hash 33cb5a95c0254e3f67315be249d8dc01ecceeba8\n",
      "INFO - Added tag E to file with hash 33cb5a95c0254e3f67315be249d8dc01ecceeba8\n",
      "INFO - Processing file number 238 of 250: 719035\n",
      "INFO - Found file 719035 at N:\\PPDO\\Records\\90xx  Campus Utilities\\9069\\9069\\E - Program and Design\\E3 - Budget,  Cost Estimates,  Cost Proposal\\File 9069 Change Request 006.pdf\n",
      "INFO - Processed file 719035 with tag E3 - Budget,  Cost Estimates,  Cost Proposal\n",
      "INFO - Added tag E3 to file with hash cf7969fb45d26f64ca2afe3fbf6132d4bcbe969e\n",
      "INFO - Added tag E to file with hash cf7969fb45d26f64ca2afe3fbf6132d4bcbe969e\n",
      "INFO - Processing file number 239 of 250: 111228\n",
      "INFO - Found file 111228 at N:\\PPDO\\Records\\106xx  2300 Delaware Westside Research Park\\10637\\10637\\E - Program and Design\\E3 - Budget,  Cost Estimates,  Cost Proposal\\Consultant Estimates\\Bid Cost Estimates\\Bid CD.R0.0 - 2300 Delaware.pdf\n",
      "INFO - Processed file 111228 with tag E3 - Budget,  Cost Estimates,  Cost Proposal\n",
      "INFO - Added tag E3 to file with hash 07f987f8b5cc9e7287f1ab6ad7de197cdc129228\n",
      "INFO - Added tag E to file with hash 07f987f8b5cc9e7287f1ab6ad7de197cdc129228\n",
      "INFO - Processing file number 240 of 250: 976912\n",
      "INFO - Found file 976912 at N:\\PPDO\\Records\\32xx   Kresge College (College 6)\\3239 Non-Acad Reno\\3239\\E - Program and Design\\E3 - Budget,  Cost Estimates,  Cost Proposal\\E3. Budget_Cost Estimates\\E3.2. Cost Estimates\\201222_DL Estimate - A2 G2 R1 R2 TH SITE Cost Adjusments\\2018-0051SUM661A UCSC Kresge 25% CD Summaries 2020-12-22 Draft.pdf\n",
      "INFO - Processed file 976912 with tag E3 - Budget,  Cost Estimates,  Cost Proposal\n",
      "INFO - Added tag E3 to file with hash 72327787b8983c13057bf5cebb3f2d89ff5d6413\n",
      "INFO - Added tag E to file with hash 72327787b8983c13057bf5cebb3f2d89ff5d6413\n",
      "INFO - Processing file number 241 of 250: 339247\n",
      "INFO - Found file 339247 at N:\\PPDO\\Records\\32xx   Kresge College (College 6)\\3238\\3238\\E - Program and Design\\E3 - Budget,  Cost Estimates,  Cost Proposal\\190725 Kresge Capital Project (multiple capital accounts)\\Kresge Residential Phase 2 sub-project 976388.xls\n",
      "INFO - Processed file 339247 with tag E3 - Budget,  Cost Estimates,  Cost Proposal\n",
      "INFO - Added tag E3 to file with hash 709d3728998f2f99c8242a4afdc6c216f3a109c9\n",
      "INFO - Added tag E to file with hash 709d3728998f2f99c8242a4afdc6c216f3a109c9\n",
      "INFO - Processing file number 242 of 250: 791110\n",
      "INFO - Found file 791110 at N:\\PPDO\\Records\\49xx   Long Marine Lab\\4932\\4932\\E - Program and Design\\E3 - Budget,  Cost Estimates,  Cost Proposal\\Email Communication\\Infr.pdf\n",
      "INFO - Processed file 791110 with tag E3 - Budget,  Cost Estimates,  Cost Proposal\n",
      "INFO - Added tag E3 to file with hash e343e15bb1abb86c21091dff1b9b4c5c6e5049c4\n",
      "INFO - Added tag E to file with hash e343e15bb1abb86c21091dff1b9b4c5c6e5049c4\n",
      "INFO - Processing file number 243 of 250: 791065\n",
      "INFO - Found file 791065 at N:\\PPDO\\Records\\49xx   Long Marine Lab\\4932\\4932\\E - Program and Design\\E3 - Budget,  Cost Estimates,  Cost Proposal\\Consultant Estimates\\Cummings Estimates -Pre 2013 DO NOT DELETE\\50% SD Estimate for TAPS only.pdf\n",
      "INFO - Processed file 791065 with tag E3 - Budget,  Cost Estimates,  Cost Proposal\n",
      "INFO - Added tag E3 to file with hash 21da415b23b22979d306cf10a61be93e068e8a0a\n",
      "INFO - Added tag E to file with hash 21da415b23b22979d306cf10a61be93e068e8a0a\n",
      "INFO - Processing file number 244 of 250: 46064\n",
      "INFO - Found file 46064 at N:\\PPDO\\Records\\67xx   Biomedical Sciences Facility\\6701\\6701\\E - Program and Design\\E3 - Budget,  Cost Estimates,  Cost Proposal\\6701 E3 Biomedical Sciences Facility- Budget Drafts.pdf\n"
     ]
    },
    {
     "data": {
      "application/vnd.jupyter.widget-view+json": {
       "model_id": "543ab413934c40869b48f347dccb475d",
       "version_major": 2,
       "version_minor": 0
      },
      "text/plain": [
       "Output()"
      ]
     },
     "metadata": {},
     "output_type": "display_data"
    },
    {
     "data": {
      "text/html": [
       "<pre style=\"white-space:pre;overflow-x:auto;line-height:normal;font-family:Menlo,'DejaVu Sans Mono',consolas,'Courier New',monospace\"></pre>\n"
      ],
      "text/plain": []
     },
     "metadata": {},
     "output_type": "display_data"
    },
    {
     "data": {
      "application/vnd.jupyter.widget-view+json": {
       "model_id": "553d6691a9c84f9bb2d9163c6eff6738",
       "version_major": 2,
       "version_minor": 0
      },
      "text/plain": [
       "Output()"
      ]
     },
     "metadata": {},
     "output_type": "display_data"
    },
    {
     "data": {
      "text/html": [
       "<pre style=\"white-space:pre;overflow-x:auto;line-height:normal;font-family:Menlo,'DejaVu Sans Mono',consolas,'Courier New',monospace\">[tesseract] lots of diacritics - possibly poor OCR\n",
       "</pre>\n"
      ],
      "text/plain": [
       "[tesseract] lots of diacritics - possibly poor OCR\n"
      ]
     },
     "metadata": {},
     "output_type": "display_data"
    },
    {
     "data": {
      "text/html": [
       "<pre style=\"white-space:pre;overflow-x:auto;line-height:normal;font-family:Menlo,'DejaVu Sans Mono',consolas,'Courier New',monospace\">[tesseract] lots of diacritics - possibly poor OCR\n",
       "</pre>\n"
      ],
      "text/plain": [
       "[tesseract] lots of diacritics - possibly poor OCR\n"
      ]
     },
     "metadata": {},
     "output_type": "display_data"
    },
    {
     "data": {
      "text/html": [
       "<pre style=\"white-space:pre;overflow-x:auto;line-height:normal;font-family:Menlo,'DejaVu Sans Mono',consolas,'Courier New',monospace\">[tesseract] lots of diacritics - possibly poor OCR\n",
       "</pre>\n"
      ],
      "text/plain": [
       "[tesseract] lots of diacritics - possibly poor OCR\n"
      ]
     },
     "metadata": {},
     "output_type": "display_data"
    },
    {
     "data": {
      "text/html": [
       "<pre style=\"white-space:pre;overflow-x:auto;line-height:normal;font-family:Menlo,'DejaVu Sans Mono',consolas,'Courier New',monospace\">[tesseract] lots of diacritics - possibly poor OCR\n",
       "</pre>\n"
      ],
      "text/plain": [
       "[tesseract] lots of diacritics - possibly poor OCR\n"
      ]
     },
     "metadata": {},
     "output_type": "display_data"
    },
    {
     "data": {
      "text/html": [
       "<pre style=\"white-space:pre;overflow-x:auto;line-height:normal;font-family:Menlo,'DejaVu Sans Mono',consolas,'Courier New',monospace\">[tesseract] lots of diacritics - possibly poor OCR\n",
       "</pre>\n"
      ],
      "text/plain": [
       "[tesseract] lots of diacritics - possibly poor OCR\n"
      ]
     },
     "metadata": {},
     "output_type": "display_data"
    },
    {
     "data": {
      "text/html": [
       "<pre style=\"white-space:pre;overflow-x:auto;line-height:normal;font-family:Menlo,'DejaVu Sans Mono',consolas,'Courier New',monospace\">[tesseract] lots of diacritics - possibly poor OCR\n",
       "</pre>\n"
      ],
      "text/plain": [
       "[tesseract] lots of diacritics - possibly poor OCR\n"
      ]
     },
     "metadata": {},
     "output_type": "display_data"
    },
    {
     "data": {
      "text/html": [
       "<pre style=\"white-space:pre;overflow-x:auto;line-height:normal;font-family:Menlo,'DejaVu Sans Mono',consolas,'Courier New',monospace\">[tesseract] lots of diacritics - possibly poor OCR\n",
       "</pre>\n"
      ],
      "text/plain": [
       "[tesseract] lots of diacritics - possibly poor OCR\n"
      ]
     },
     "metadata": {},
     "output_type": "display_data"
    },
    {
     "data": {
      "text/html": [
       "<pre style=\"white-space:pre;overflow-x:auto;line-height:normal;font-family:Menlo,'DejaVu Sans Mono',consolas,'Courier New',monospace\">[tesseract] lots of diacritics - possibly poor OCR\n",
       "</pre>\n"
      ],
      "text/plain": [
       "[tesseract] lots of diacritics - possibly poor OCR\n"
      ]
     },
     "metadata": {},
     "output_type": "display_data"
    },
    {
     "data": {
      "text/html": [
       "<pre style=\"white-space:pre;overflow-x:auto;line-height:normal;font-family:Menlo,'DejaVu Sans Mono',consolas,'Courier New',monospace\">[tesseract] lots of diacritics - possibly poor OCR\n",
       "</pre>\n"
      ],
      "text/plain": [
       "[tesseract] lots of diacritics - possibly poor OCR\n"
      ]
     },
     "metadata": {},
     "output_type": "display_data"
    },
    {
     "data": {
      "text/html": [
       "<pre style=\"white-space:pre;overflow-x:auto;line-height:normal;font-family:Menlo,'DejaVu Sans Mono',consolas,'Courier New',monospace\">[tesseract] Error during processing.\n",
       "</pre>\n"
      ],
      "text/plain": [
       "[tesseract] Error during processing.\n"
      ]
     },
     "metadata": {},
     "output_type": "display_data"
    }
   ],
   "source": [
    "import logging\n",
    "import os\n",
    "import shutil\n",
    "import traceback\n",
    "import tempfile\n",
    "from db_models import File, FileLocation, FilingTag, FileTagLabel, FileEmbedding, get_db_engine\n",
    "from embedding.minilm import MiniLMEmbedder\n",
    "from sqlalchemy import func\n",
    "from sqlalchemy.orm import Session\n",
    "from text_extraction.pdf_extraction import PDFTextExtractor\n",
    "from text_extraction.basic_extraction import TextFileTextExtractor, TikaTextExtractor, get_extractor_for_file\n",
    "from text_extraction.image_extraction import ImageTextExtractor\n",
    "from text_extraction.office_doc_extraction import PresentationTextExtractor, SpreadsheetTextExtractor, WordFileTextExtractor\n",
    "from text_extraction.web_extraction import HtmlTextExtractor, EmailTextExtractor\n",
    "from text_extraction.extraction_utils import common_char_replacements, strip_diacritics, normalize_unicode, normalize_whitespace\n",
    "from typing import Optional\n",
    "from logging_setups import setup_logger\n",
    "\n",
    "nb_logger = setup_logger(name=\"NotebookLogger\", notebook=True, level=logging.DEBUG)\n",
    "\n",
    "import pytesseract\n",
    "pytesseract.pytesseract.tesseract_cmd = r'C:\\Program Files\\Tesseract-OCR\\tesseract.exe'\n",
    "\n",
    "pdf_extractor = PDFTextExtractor()\n",
    "txt_extractor = TextFileTextExtractor()\n",
    "image_extractor = ImageTextExtractor()\n",
    "presentation_extractor = PresentationTextExtractor()\n",
    "spreadsheet_extractor = SpreadsheetTextExtractor()\n",
    "word_extractor = WordFileTextExtractor()\n",
    "html_extractor = HtmlTextExtractor()\n",
    "email_extractor = EmailTextExtractor()\n",
    "tika_extractor = TikaTextExtractor()\n",
    "\n",
    "extractors_list = [\n",
    "    pdf_extractor,\n",
    "    txt_extractor,\n",
    "    image_extractor,\n",
    "    presentation_extractor,\n",
    "    spreadsheet_extractor,\n",
    "    word_extractor,\n",
    "    html_extractor,\n",
    "    email_extractor\n",
    "]\n",
    "\n",
    "def get_files_from_tag_locations(\n",
    "        db_session: Session,\n",
    "        tag_obj: FilingTag,\n",
    "        n: int = 100,\n",
    "        randomize: bool = False,\n",
    "        exclude_embedded: bool = False,\n",
    "        max_size_mb: Optional[float] = None\n",
    "        ):\n",
    "    \"\"\"\n",
    "    Retrieve files tagged with a specific tag string.\n",
    "    Optionally exclude files that already have a FileEmbedding.\n",
    "    \"\"\"\n",
    "    tag_locations = FileLocation.file_server_directories.ilike(f\"%/{tag_obj.full_tag_label_str}%\")\n",
    "\n",
    "    # start the base query\n",
    "    q = db_session.query(File) \\\n",
    "                  .join(FileLocation) \\\n",
    "                  .filter(tag_locations)\n",
    "\n",
    "    if exclude_embedded:\n",
    "        # left‐outer join to file_embeddings, keep only those with no match\n",
    "        q = q.outerjoin(FileEmbedding, File.hash == FileEmbedding.file_hash)\\\n",
    "            .filter(FileEmbedding.file_hash == None)\\\n",
    "            \n",
    "    if max_size_mb is not None:\n",
    "        max_size_bytes = max_size_mb * 1024 * 1024\n",
    "        q = q.filter(File.size <= max_size_bytes)\n",
    "\n",
    "    if randomize:\n",
    "        q = q.order_by(func.random())\n",
    "    \n",
    "    q = q.limit(n)\n",
    "\n",
    "    return q.all()\n",
    "\n",
    "def label_file_using_tag(\n",
    "        db_session: Session,\n",
    "        file_obj: File,\n",
    "        some_tag: FilingTag|str,\n",
    "        label_source: str = 'rule'\n",
    "    ):\n",
    "    \"\"\"\n",
    "    Label a file with a specific tag.\n",
    "    \"\"\"\n",
    "    \n",
    "    if isinstance(some_tag, str):\n",
    "        tag_obj = FilingTag.retrieve_tag_by_label(db_session, some_tag)\n",
    "        if not tag_obj:\n",
    "            raise ValueError(f\"Tag '{some_tag}' not found in the database.\")\n",
    "        current_tag = tag_obj\n",
    "    elif isinstance(some_tag, FilingTag):\n",
    "        tag_obj = some_tag\n",
    "        current_tag = tag_obj\n",
    "    else:\n",
    "        raise TypeError(\"some_tag must be a FilingTag instance or a string representing the tag label.\")\n",
    "    \n",
    "    while current_tag is not None:\n",
    "        already = (\n",
    "            db_session.query(FileTagLabel)\n",
    "            .filter_by(file_id=file_obj.id, tag=current_tag.label)\n",
    "            .first()\n",
    "        )\n",
    "        if already:\n",
    "            nb_logger.info(f\"File {file_obj.id} already labeled with tag {current_tag.label}\")\n",
    "            current_tag = current_tag.parent\n",
    "            continue\n",
    "\n",
    "        labeling_record = FileTagLabel(\n",
    "            file_id=file_obj.id,\n",
    "            file_hash=file_obj.hash,\n",
    "            tag=current_tag.label,\n",
    "            is_primary=True if not current_tag.parent else False,\n",
    "            label_source=label_source\n",
    "        )\n",
    "        db_session.add(labeling_record)\n",
    "        nb_logger.info(f\"Added tag {current_tag.label} to file with hash {file_obj.hash}\")\n",
    "        current_tag = current_tag.parent\n",
    "\n",
    "    db_session.commit()\n",
    "    return labeling_record\n",
    "\n",
    "\n",
    "filing_code_tag = \"E3 - Budget,  Cost Estimates,  Cost Proposal\"\n",
    "text_leng_threshold = 250\n",
    "file_server_location = r\"N:\\PPDO\\Records\"\n",
    "n = 250\n",
    "embedding_client = MiniLMEmbedder()\n",
    "with Session(get_db_engine()) as db_session:\n",
    "    tag = FilingTag.retrieve_tag_by_label(db_session, filing_code_tag)\n",
    "    files = get_files_from_tag_locations(\n",
    "        db_session= db_session,\n",
    "        tag_obj = tag,\n",
    "        randomize=True,\n",
    "        n = n,\n",
    "        exclude_embedded=True,\n",
    "        max_size_mb=150\n",
    "    )\n",
    "\n",
    "    with tempfile.TemporaryDirectory() as temp_dir:\n",
    "        for file_i, file_obj in enumerate(files):\n",
    "            nb_logger.info(f\"Processing file number {file_i + 1} of {len(files)}: {file_obj.id}\")\n",
    "\n",
    "            if not file_obj.locations:\n",
    "                nb_logger.warning(f\"No locations found for file {file_obj.id}\")\n",
    "                continue\n",
    "            \n",
    "            local_location_filepath = \"\"\n",
    "            filename = \"\"\n",
    "            for location in file_obj.locations:\n",
    "                # if the tag's full label is not in the file server directories, continue\n",
    "                if tag.full_tag_label_str.lower() not in location.file_server_directories.lower():\n",
    "                    continue\n",
    "                \n",
    "                local_location_filepath = location.local_filepath(server_mount_path=file_server_location)\n",
    "\n",
    "                if os.path.exists(local_location_filepath):\n",
    "                    nb_logger.info(f\"Found file {file_obj.id} at {local_location_filepath}\")\n",
    "                    filename = location.filename\n",
    "                    break\n",
    "                \n",
    "                else:\n",
    "                    nb_logger.warning(f\"File {file_obj.id} not found at {local_location_filepath}\")\n",
    "                    continue\n",
    "            \n",
    "            # if no valid file found, skip to next file\n",
    "            if not filename:\n",
    "                nb_logger.warning(f\"No valid file found for {file_obj.id}\")\n",
    "                continue\n",
    "\n",
    "            try:\n",
    "                temp_filepath = os.path.join(temp_dir, filename)\n",
    "                shutil.copyfile(local_location_filepath, temp_filepath)\n",
    "                extractor = get_extractor_for_file(temp_filepath, extractors_list)\n",
    "                if extractor:\n",
    "                    text = extractor(temp_filepath)\n",
    "                else:\n",
    "                    text = tika_extractor(temp_filepath)  # Fallback to Tika extractor\n",
    "                \n",
    "                # if the text is empty or too short, skip processing\n",
    "                if text and len(text) >= text_leng_threshold:\n",
    "                    text = common_char_replacements(text)\n",
    "                    text = strip_diacritics(text)\n",
    "                    text = normalize_unicode(text)\n",
    "                    text = normalize_whitespace(text)\n",
    "                    emb_list = embedding_client.encode([text])\n",
    "                    emb_vec = emb_list[0] if emb_list else None\n",
    "                    if emb_vec is not None:\n",
    "                        file_embedding = FileEmbedding(\n",
    "                            file_hash =file_obj.hash,\n",
    "                            source_text =text,\n",
    "                            minilm_model=embedding_client.model_name,\n",
    "                            minilm_emb=emb_vec\n",
    "                        )\n",
    "                        db_session.add(file_embedding)\n",
    "                        db_session.commit()\n",
    "                        nb_logger.info(f\"Processed file {file_obj.id} with tag {filing_code_tag}\")\n",
    "                    else:\n",
    "                        nb_logger.warning(f\"Failed to create embedding for file {file_obj.id}\")\n",
    "                        continue\n",
    "                    \n",
    "                    file_labeling = label_file_using_tag(\n",
    "                        db_session=db_session,\n",
    "                        file_obj=file_obj,\n",
    "                        some_tag=tag\n",
    "                    )\n",
    "                else:\n",
    "                    if len(text) < text_leng_threshold:\n",
    "                        nb_logger.warning(f\"Text length for file {file_obj.id} is {len(text)}:\\n{text}\")\n",
    "                    else:\n",
    "                        nb_logger.warning(f\"No text extracted from {file_obj.id}\")\n",
    "                    continue\n",
    "            \n",
    "            except Exception as e:\n",
    "                nb_logger.error(f\"Error processing file {file_obj.id}: {e}\")\n",
    "                nb_logger.debug(traceback.format_exc())\n",
    "                continue"
   ]
  },
  {
   "cell_type": "code",
   "execution_count": null,
   "id": "498d092e",
   "metadata": {},
   "outputs": [],
   "source": []
  }
 ],
 "metadata": {
  "kernelspec": {
   "display_name": ".venv",
   "language": "python",
   "name": "python3"
  },
  "language_info": {
   "codemirror_mode": {
    "name": "ipython",
    "version": 3
   },
   "file_extension": ".py",
   "mimetype": "text/x-python",
   "name": "python",
   "nbconvert_exporter": "python",
   "pygments_lexer": "ipython3",
   "version": "3.13.5"
  }
 },
 "nbformat": 4,
 "nbformat_minor": 5
}
