{
 "cells": [
  {
   "cell_type": "code",
   "execution_count": null,
   "id": "8c825d1d",
   "metadata": {},
   "outputs": [],
   "source": [
    "from db.db import backup_database\n",
    "\n",
    "backup_destination = r\"N:\\PPDO\\BS\\Records Department\\Archive_Data\"\n",
    "backup_database(backup_dir=backup_destination, compress=True)"
   ]
  },
  {
   "cell_type": "code",
   "execution_count": 1,
   "id": "9374674b",
   "metadata": {},
   "outputs": [
    {
     "name": "stderr",
     "output_type": "stream",
     "text": [
      "2025-09-24 20:05:07,381 pikepdf._core INFO pikepdf C++ to Python logger bridge initialized\n",
      "2025-09-24 20:05:38,222 sentence_transformers.SentenceTransformer INFO Use pytorch device_name: cpu\n",
      "2025-09-24 20:05:38,223 sentence_transformers.SentenceTransformer INFO Load pretrained SentenceTransformer: all-MiniLM-L6-v2\n",
      "2025-09-24 20:05:42,502 text_extraction.pdf_extraction INFO OCR needed for document: N:\\PPDO\\Records\\27xx   Applied Sciences Baskin Engineering\\2739\\2739\\H - Submittals\\File 2739.H DMG North Inc O&M. Air Handling Unit with Coil.pdf\n"
     ]
    },
    {
     "data": {
      "application/vnd.jupyter.widget-view+json": {
       "model_id": "e84c01c8413142ec99c933f28666da56",
       "version_major": 2,
       "version_minor": 0
      },
      "text/plain": [
       "Output()"
      ]
     },
     "metadata": {},
     "output_type": "display_data"
    },
    {
     "data": {
      "text/html": [
       "<pre style=\"white-space:pre;overflow-x:auto;line-height:normal;font-family:Menlo,'DejaVu Sans Mono',consolas,'Courier New',monospace\"></pre>\n"
      ],
      "text/plain": []
     },
     "metadata": {},
     "output_type": "display_data"
    },
    {
     "name": "stderr",
     "output_type": "stream",
     "text": [
      "2025-09-24 20:05:44,960 ocrmypdf._pipelines.ocr INFO Start processing 7 pages concurrently\n"
     ]
    },
    {
     "data": {
      "application/vnd.jupyter.widget-view+json": {
       "model_id": "3b173e67b0f44a28a29ab35a9492cea5",
       "version_major": 2,
       "version_minor": 0
      },
      "text/plain": [
       "Output()"
      ]
     },
     "metadata": {},
     "output_type": "display_data"
    },
    {
     "name": "stderr",
     "output_type": "stream",
     "text": [
      "2025-09-24 20:05:46,380 ocrmypdf._pipeline INFO page is facing ⇧, confidence 8.28 - no change\n"
     ]
    },
    {
     "name": "stderr",
     "output_type": "stream",
     "text": [
      "2025-09-24 20:05:46,542 ocrmypdf._pipeline INFO page is facing ⇧, confidence 1.87 - no change\n"
     ]
    },
    {
     "name": "stderr",
     "output_type": "stream",
     "text": [
      "2025-09-24 20:05:47,249 ocrmypdf._pipeline INFO page is facing ⇧, confidence 7.96 - no change\n"
     ]
    },
    {
     "name": "stderr",
     "output_type": "stream",
     "text": [
      "2025-09-24 20:05:47,299 ocrmypdf._pipeline INFO page is facing ⇧, confidence 10.13 - no change\n",
      "2025-09-24 20:05:47,303 ocrmypdf._pipeline INFO page is facing ⇧, confidence 12.70 - no change\n",
      "2025-09-24 20:05:47,306 ocrmypdf._pipeline INFO page is facing ⇧, confidence 8.78 - no change\n",
      "2025-09-24 20:05:47,323 ocrmypdf._pipeline INFO page is facing ⇧, confidence 11.62 - no change\n"
     ]
    },
    {
     "name": "stderr",
     "output_type": "stream",
     "text": [
      "2025-09-24 20:05:49,362 ocrmypdf._exec.tesseract WARNING [tesseract] lots of diacritics - possibly poor OCR\n"
     ]
    },
    {
     "name": "stderr",
     "output_type": "stream",
     "text": [
      "2025-09-24 20:05:49,742 ocrmypdf._pipeline INFO page is facing ⇧, confidence 9.16 - no change\n"
     ]
    },
    {
     "name": "stderr",
     "output_type": "stream",
     "text": [
      "2025-09-24 20:05:51,188 ocrmypdf._pipeline INFO page is facing ⇧, confidence 11.46 - no change\n"
     ]
    },
    {
     "name": "stderr",
     "output_type": "stream",
     "text": [
      "2025-09-24 20:05:51,235 ocrmypdf._pipeline INFO page is facing ⇧, confidence 11.13 - no change\n"
     ]
    },
    {
     "name": "stderr",
     "output_type": "stream",
     "text": [
      "2025-09-24 20:05:51,704 ocrmypdf._pipeline INFO page is facing ⇧, confidence 11.97 - no change\n",
      "2025-09-24 20:05:51,741 ocrmypdf._pipeline INFO page is facing ⇧, confidence 13.86 - no change\n"
     ]
    },
    {
     "name": "stderr",
     "output_type": "stream",
     "text": [
      "2025-09-24 20:05:52,051 ocrmypdf._pipeline INFO page is facing ⇧, confidence 14.01 - rotation appears correct\n"
     ]
    },
    {
     "name": "stderr",
     "output_type": "stream",
     "text": [
      "2025-09-24 20:05:53,159 ocrmypdf._pipeline INFO page is facing ⇧, confidence 11.45 - no change\n"
     ]
    },
    {
     "name": "stderr",
     "output_type": "stream",
     "text": [
      "2025-09-24 20:05:55,721 ocrmypdf._pipeline INFO page is facing ⇩, confidence 0.63 - confidence too low to rotate\n"
     ]
    },
    {
     "name": "stderr",
     "output_type": "stream",
     "text": [
      "2025-09-24 20:05:56,504 ocrmypdf._pipeline INFO page is facing ⇧, confidence 10.00 - no change\n"
     ]
    },
    {
     "name": "stderr",
     "output_type": "stream",
     "text": [
      "2025-09-24 20:05:57,473 ocrmypdf._pipeline INFO page is facing ⇧, confidence 5.78 - no change\n"
     ]
    },
    {
     "name": "stderr",
     "output_type": "stream",
     "text": [
      "2025-09-24 20:05:58,614 ocrmypdf._pipeline INFO page is facing ⇧, confidence 5.78 - no change\n"
     ]
    },
    {
     "name": "stderr",
     "output_type": "stream",
     "text": [
      "2025-09-24 20:05:59,306 ocrmypdf._pipeline INFO page is facing ⇧, confidence 4.79 - no change\n"
     ]
    },
    {
     "name": "stderr",
     "output_type": "stream",
     "text": [
      "2025-09-24 20:06:00,170 ocrmypdf._pipeline INFO page is facing ⇧, confidence 5.30 - no change\n"
     ]
    },
    {
     "name": "stderr",
     "output_type": "stream",
     "text": [
      "2025-09-24 20:06:00,945 ocrmypdf._pipeline INFO page is facing ⇧, confidence 7.83 - no change\n"
     ]
    },
    {
     "name": "stderr",
     "output_type": "stream",
     "text": [
      "2025-09-24 20:06:01,984 ocrmypdf._exec.tesseract WARNING [tesseract] lots of diacritics - possibly poor OCR\n"
     ]
    },
    {
     "name": "stderr",
     "output_type": "stream",
     "text": [
      "2025-09-24 20:06:04,903 ocrmypdf._pipeline INFO page is facing ⇧, confidence 5.46 - no change\n"
     ]
    },
    {
     "name": "stderr",
     "output_type": "stream",
     "text": [
      "2025-09-24 20:06:05,182 ocrmypdf._pipeline INFO page is facing ⇧, confidence 6.45 - no change\n"
     ]
    },
    {
     "name": "stderr",
     "output_type": "stream",
     "text": [
      "2025-09-24 20:06:07,614 ocrmypdf._exec.tesseract WARNING [tesseract] lots of diacritics - possibly poor OCR\n"
     ]
    },
    {
     "data": {
      "text/html": [
       "<pre style=\"white-space:pre;overflow-x:auto;line-height:normal;font-family:Menlo,'DejaVu Sans Mono',consolas,'Courier New',monospace\"></pre>\n"
      ],
      "text/plain": []
     },
     "metadata": {},
     "output_type": "display_data"
    },
    {
     "name": "stderr",
     "output_type": "stream",
     "text": [
      "2025-09-24 20:06:11,855 ocrmypdf._pipelines.ocr INFO Postprocessing...\n"
     ]
    },
    {
     "data": {
      "application/vnd.jupyter.widget-view+json": {
       "model_id": "18a7072a440f4cf3b74927257ba916dd",
       "version_major": 2,
       "version_minor": 0
      },
      "text/plain": [
       "Output()"
      ]
     },
     "metadata": {},
     "output_type": "display_data"
    },
    {
     "data": {
      "text/html": [
       "<pre style=\"white-space:pre;overflow-x:auto;line-height:normal;font-family:Menlo,'DejaVu Sans Mono',consolas,'Courier New',monospace\"></pre>\n"
      ],
      "text/plain": []
     },
     "metadata": {},
     "output_type": "display_data"
    },
    {
     "name": "stderr",
     "output_type": "stream",
     "text": [
      "2025-09-24 20:06:11,996 ocrmypdf._pipeline INFO Image optimization ratio: 1.00 savings: 0.0%\n",
      "2025-09-24 20:06:11,997 ocrmypdf._pipeline INFO Total file size ratio: 0.19 savings: -426.4%\n",
      "2025-09-24 20:06:12,061 ocrmypdf._validation WARNING The output file size is 5.26× larger than the input file.\n",
      "Possible reasons for this include:\n",
      "--deskew was issued, causing transcoding.\n",
      "Optimization was disabled.\n",
      "\n"
     ]
    },
    {
     "data": {
      "application/vnd.jupyter.widget-view+json": {
       "model_id": "c0ff60e6fb4f481bbe1a88ba0b6c3a8e",
       "version_major": 2,
       "version_minor": 0
      },
      "text/plain": [
       "Batches:   0%|          | 0/1 [00:00<?, ?it/s]"
      ]
     },
     "metadata": {},
     "output_type": "display_data"
    },
    {
     "name": "stderr",
     "output_type": "stream",
     "text": [
      "2025-09-24 20:06:12,655 db.db INFO Creating database engine\n"
     ]
    },
    {
     "data": {
      "application/vnd.microsoft.datawrangler.viewer.v0+json": {
       "columns": [
        {
         "name": "index",
         "rawType": "int64",
         "type": "integer"
        },
        {
         "name": "local_path",
         "rawType": "object",
         "type": "unknown"
        },
        {
         "name": "distance",
         "rawType": "float64",
         "type": "float"
        }
       ],
       "ref": "ba5e0be8-5075-46d8-a301-ae9766deef6c",
       "rows": [
        [
         "0",
         "N:\\PPDO\\Records\\27xx   Applied Sciences Baskin Engineering\\2739\\2739\\F - Bid Documents and Contract Award\\F5 - Drawings and Specifications\\Record Set\\Phase 2 and 3\\071 File 2739 M-504.TIF",
         "0.31660008430480957"
        ],
        [
         "1",
         "N:\\PPDO\\Records\\27xx   Applied Sciences Baskin Engineering\\2739\\2739\\F - Bid Documents and Contract Award\\F5 - Drawings and Specifications\\As Builts\\Inspectors Set\\074 File 2739 M504.TIF",
         "0.34642934799194336"
        ],
        [
         "2",
         "N:\\PPDO\\Records\\27xx   Applied Sciences Baskin Engineering\\2739\\2739\\F - Bid Documents and Contract Award\\F5 - Drawings and Specifications\\Wet Signed Bid Set\\Clean Room Alternate\\31 File 2739 M001.CR.TIF",
         "0.35127490758895874"
        ],
        [
         "3",
         "N:\\PPDO\\Records\\27xx   Applied Sciences Baskin Engineering\\2739\\2739\\H - Submittals\\15959-150\\Bar Controls\\15959-150 Point to Point.pdf",
         "0.3525291681289673"
        ],
        [
         "4",
         "N:\\PPDO\\Records\\27xx   Applied Sciences Baskin Engineering\\2739\\2739\\H - Submittals\\15959-150\\Bar Controls\\15959-150 Loop Checks.pdf",
         "0.3571207523345947"
        ],
        [
         "5",
         "N:\\PPDO\\Records\\27xx   Applied Sciences Baskin Engineering\\2739\\2739\\H - Submittals\\15959-150\\Bar Controls\\15959-150 Operational Testing.pdf",
         "0.3610175848007202"
        ],
        [
         "6",
         "N:\\PPDO\\Records\\27xx   Applied Sciences Baskin Engineering\\2739\\2739\\H - Submittals\\15959-150\\Bar Controls\\15959-150 Loops Check.pdf",
         "0.3612016439437866"
        ],
        [
         "7",
         "N:\\PPDO\\Records\\27xx   Applied Sciences Baskin Engineering\\2739\\2739\\H - Submittals\\2739. H. Sub 15959 15.30.pdf",
         "0.3659282922744751"
        ],
        [
         "8",
         "N:\\PPDO\\Records\\27xx   Applied Sciences Baskin Engineering\\2739\\2739\\H - Submittals\\15959\\2739. H. Sub 15959 15.30.pdf",
         "0.3659282922744751"
        ],
        [
         "9",
         "N:\\PPDO\\Records\\27xx   Applied Sciences Baskin Engineering\\2739\\2739\\F - Bid Documents and Contract Award\\F5 - Drawings and Specifications\\Conform Set for Construction\\Alts 2&3\\069 File 2739 M-504.TIF",
         "0.3683299422264099"
        ],
        [
         "10",
         "N:\\PPDO\\Records\\27xx   Applied Sciences Baskin Engineering\\2739\\2739\\F - Bid Documents and Contract Award\\F5 - Drawings and Specifications\\As Builts\\Clean Room Construction Set\\024 File 2739 M1.2.TIF",
         "0.38056814670562744"
        ],
        [
         "11",
         "N:\\PPDO\\Records\\27xx   Applied Sciences Baskin Engineering\\2739\\2739\\F - Bid Documents and Contract Award\\F5 - Drawings and Specifications\\Wet Signed Bid Set\\Main Set\\041 File 2739 M-001.TIF",
         "0.38550615310668945"
        ],
        [
         "12",
         "N:\\PPDO\\Records\\27xx   Applied Sciences Baskin Engineering\\2739\\2739\\F - Bid Documents and Contract Award\\F5 - Drawings and Specifications\\Wet Signed Bid Set\\Clean Room Alternate\\23 File 2739 M-1.2.TIF",
         "0.390983521938324"
        ],
        [
         "13",
         "N:\\PPDO\\Records\\27xx   Applied Sciences Baskin Engineering\\2739\\2739\\F - Bid Documents and Contract Award\\F5 - Drawings and Specifications\\Preliminary\\Old Bid Set\\046 File 2736 & 2739 M 003.TIF",
         "0.3918346166610718"
        ],
        [
         "14",
         "N:\\PPDO\\Records\\27xx   Applied Sciences Baskin Engineering\\2739\\2739\\F - Bid Documents and Contract Award\\F5 - Drawings and Specifications\\Preliminary\\Pre-Bid Review Set (2005.04.07)\\File 2739 _20050407_0042.TIF",
         "0.3934597969055176"
        ],
        [
         "15",
         "N:\\PPDO\\Records\\27xx   Applied Sciences Baskin Engineering\\2739\\2739\\F - Bid Documents and Contract Award\\F5 - Drawings and Specifications\\Conform Set for Construction\\Clean Room\\21 File 2739 M-1.0.TIF",
         "0.4006185531616211"
        ],
        [
         "16",
         "N:\\PPDO\\Records\\27xx   Applied Sciences Baskin Engineering\\2739\\2739\\F - Bid Documents and Contract Award\\F5 - Drawings and Specifications\\Change Order Lab 16 Drawings\\10 File 2739  M16-000.1.TIF",
         "0.40319883823394775"
        ],
        [
         "17",
         "N:\\PPDO\\Records\\27xx   Applied Sciences Baskin Engineering\\2739\\2739\\H - Submittals\\15959-150\\Mechanical\\15959-150 AH Units.pdf",
         "0.4032544493675232"
        ],
        [
         "18",
         "N:\\PPDO\\Records\\27xx   Applied Sciences Baskin Engineering\\2739\\2739\\F - Bid Documents and Contract Award\\F5 - Drawings and Specifications\\As Builts\\Inspectors Set\\048 File 2739 M002.TIF",
         "0.40822499990463257"
        ],
        [
         "19",
         "N:\\PPDO\\Records\\27xx   Applied Sciences Baskin Engineering\\2739\\2739\\F - Bid Documents and Contract Award\\F5 - Drawings and Specifications\\Preliminary\\Old Bid Set\\045 File 2736 & 2739 M 002.TIF",
         "0.4093264937400818"
        ],
        [
         "20",
         "N:\\PPDO\\Records\\27xx   Applied Sciences Baskin Engineering\\2739\\2739\\F - Bid Documents and Contract Award\\F5 - Drawings and Specifications\\Wet Signed Bid Set\\Main Set\\067 File 2739 M-504.TIF",
         "0.4112663269042969"
        ],
        [
         "21",
         "N:\\PPDO\\Records\\27xx   Applied Sciences Baskin Engineering\\2739\\2739\\F - Bid Documents and Contract Award\\F5 - Drawings and Specifications\\Preliminary\\Pre-Bid Review Set (2005.04.07)\\File 2739 _20050407_0067.TIF",
         "0.41297364234924316"
        ],
        [
         "22",
         "N:\\PPDO\\Records\\27xx   Applied Sciences Baskin Engineering\\2739\\2739\\F - Bid Documents and Contract Award\\F5 - Drawings and Specifications\\Preliminary\\Pre-Bid Review Set (2005.04.07)\\File 2739 _20050407_0043.TIF",
         "0.41549909114837646"
        ],
        [
         "23",
         "N:\\PPDO\\Records\\27xx   Applied Sciences Baskin Engineering\\2739\\2739\\F - Bid Documents and Contract Award\\F5 - Drawings and Specifications\\Wet Signed Bid Set\\Main Set\\043 File 2739 M-003.TIF",
         "0.43042218685150146"
        ],
        [
         "24",
         "N:\\PPDO\\Records\\27xx   Applied Sciences Baskin Engineering\\2739\\2739\\F - Bid Documents and Contract Award\\F5 - Drawings and Specifications\\Conform Set for Construction\\Alts 2&3\\044 File 2739 M-001.TIF",
         "0.43194580078125"
        ],
        [
         "25",
         "N:\\PPDO\\Records\\27xx   Applied Sciences Baskin Engineering\\2739\\2739\\F - Bid Documents and Contract Award\\F5 - Drawings and Specifications\\As Builts\\Inspectors Set\\049 File 2739 M003.TIF",
         "0.43425071239471436"
        ],
        [
         "26",
         "N:\\PPDO\\Records\\27xx   Applied Sciences Baskin Engineering\\2739\\2739\\F - Bid Documents and Contract Award\\F5 - Drawings and Specifications\\As Builts\\Construction Set\\046 File 2739 M-003.TIF",
         "0.43443620204925537"
        ],
        [
         "27",
         "N:\\PPDO\\Records\\27xx   Applied Sciences Baskin Engineering\\2739\\2739\\F - Bid Documents and Contract Award\\F5 - Drawings and Specifications\\Wet Signed Bid Set\\Clean Room Alternate\\24 File 2739 M-2.0.TIF",
         "0.4351927638053894"
        ],
        [
         "28",
         "N:\\PPDO\\Records\\27xx   Applied Sciences Baskin Engineering\\2739\\2739\\F - Bid Documents and Contract Award\\F5 - Drawings and Specifications\\Conform Set for Construction\\Clean Room\\32 File 2739 MD-102.CR.TIF",
         "0.43602514266967773"
        ],
        [
         "29",
         "N:\\PPDO\\Records\\27xx   Applied Sciences Baskin Engineering\\2739\\2739\\F - Bid Documents and Contract Award\\F5 - Drawings and Specifications\\As Builts\\Clean Room Construction Set\\028 File 2739 M3.1.TIF",
         "0.43701738119125366"
        ],
        [
         "30",
         "N:\\PPDO\\Records\\27xx   Applied Sciences Baskin Engineering\\2739\\2739\\H - Submittals\\15959-150\\Mechanical\\15959-150 Coil Modules.pdf",
         "0.4416589140892029"
        ],
        [
         "31",
         "N:\\PPDO\\Records\\27xx   Applied Sciences Baskin Engineering\\2739\\2739\\F - Bid Documents and Contract Award\\F5 - Drawings and Specifications\\As Builts\\Shop Drawings\\MD Sheets\\49 File 2739 M2.0.TIF",
         "0.4442436099052429"
        ],
        [
         "32",
         "N:\\PPDO\\Records\\27xx   Applied Sciences Baskin Engineering\\2739\\2739\\F - Bid Documents and Contract Award\\F5 - Drawings and Specifications\\Wet Signed Bid Set\\Clean Room Alternate\\27 File 2739 M-3.1.TIF",
         "0.4444684386253357"
        ],
        [
         "33",
         "N:\\PPDO\\Records\\27xx   Applied Sciences Baskin Engineering\\2739\\2739\\H - Submittals\\15959-150\\Mechanical\\15959-150 Humidifier.pdf",
         "0.44645071029663086"
        ],
        [
         "34",
         "N:\\PPDO\\Records\\27xx   Applied Sciences Baskin Engineering\\2739\\2739\\F - Bid Documents and Contract Award\\F5 - Drawings and Specifications\\Preliminary\\Old Bid Set\\070 File 2736 & 2739 M-504.TIF",
         "0.4482904076576233"
        ],
        [
         "35",
         "N:\\PPDO\\Records\\27xx   Applied Sciences Baskin Engineering\\2739\\2739\\F - Bid Documents and Contract Award\\F5 - Drawings and Specifications\\Wet Signed Bid Set\\Main Set\\042 File 2739 M-002.TIF",
         "0.4497087001800537"
        ],
        [
         "36",
         "N:\\PPDO\\Records\\27xx   Applied Sciences Baskin Engineering\\2739\\2739\\H - Submittals\\17000-114\\Flow Diagram\\02 File 2739 Sub Item 114 CT-23.TIF",
         "0.45374053716659546"
        ],
        [
         "37",
         "N:\\PPDO\\Records\\27xx   Applied Sciences Baskin Engineering\\2739\\2739\\F - Bid Documents and Contract Award\\F5 - Drawings and Specifications\\CAD\\From GLP (12-2005)\\Clean Room Project\\Palt-CR consultant\\Addenda\\ADD-2.pdf",
         "0.4590166211128235"
        ],
        [
         "38",
         "N:\\PPDO\\Records\\27xx   Applied Sciences Baskin Engineering\\2739\\2739\\F - Bid Documents and Contract Award\\F5 - Drawings and Specifications\\Bid Set\\Clean Room\\Addenda\\ADD-2.pdf",
         "0.4590166211128235"
        ],
        [
         "39",
         "N:\\PPDO\\Records\\27xx   Applied Sciences Baskin Engineering\\2739\\2739\\H - Submittals\\17000-114 R1\\14 File 2739 CT-14.TIF",
         "0.45931196212768555"
        ],
        [
         "40",
         "N:\\PPDO\\Records\\27xx   Applied Sciences Baskin Engineering\\2739\\2739\\F - Bid Documents and Contract Award\\F5 - Drawings and Specifications\\Preliminary\\Old Bid Set\\071 File 2736 & 2739 M-505.TIF",
         "0.4612332582473755"
        ],
        [
         "41",
         "N:\\PPDO\\Records\\27xx   Applied Sciences Baskin Engineering\\2739\\2739\\F - Bid Documents and Contract Award\\F5 - Drawings and Specifications\\As Builts\\Shop Drawings\\MD Sheets\\59 File 2739 M-102CR.TIF",
         "0.4619941711425781"
        ],
        [
         "42",
         "N:\\PPDO\\Records\\27xx   Applied Sciences Baskin Engineering\\2739\\2739\\F - Bid Documents and Contract Award\\F5 - Drawings and Specifications\\Preliminary\\Pre-Bid Review Set (2005.04.07)\\File 2739 _20050407_0058.TIF",
         "0.4633200764656067"
        ],
        [
         "43",
         "N:\\PPDO\\Records\\27xx   Applied Sciences Baskin Engineering\\2739\\2739\\F - Bid Documents and Contract Award\\F5 - Drawings and Specifications\\Bid Set\\Clean Room\\Addenda\\ADD-3.pdf",
         "0.46332573890686035"
        ],
        [
         "44",
         "N:\\PPDO\\Records\\27xx   Applied Sciences Baskin Engineering\\2739\\2739\\F - Bid Documents and Contract Award\\F5 - Drawings and Specifications\\CAD\\From GLP (12-2005)\\Clean Room Project\\Palt-CR consultant\\Addenda\\ADD-3.pdf",
         "0.46332573890686035"
        ],
        [
         "45",
         "N:\\PPDO\\Records\\27xx   Applied Sciences Baskin Engineering\\2739\\2739\\F - Bid Documents and Contract Award\\F5 - Drawings and Specifications\\As Builts\\Clean Room Construction Set\\035 File 2739 M102CR.TIF",
         "0.4662081003189087"
        ],
        [
         "46",
         "N:\\PPDO\\Records\\27xx   Applied Sciences Baskin Engineering\\2739\\2739\\H - Submittals\\15959-150\\Mechanical\\15959-150 Chiller System Equipment.pdf",
         "0.4662512540817261"
        ],
        [
         "47",
         "N:\\PPDO\\Records\\27xx   Applied Sciences Baskin Engineering\\2739\\2739\\F - Bid Documents and Contract Award\\F5 - Drawings and Specifications\\Conform Set for Construction\\Alts 2&3\\060 File 2739 M-302.TIF",
         "0.4663313627243042"
        ],
        [
         "48",
         "N:\\PPDO\\Records\\27xx   Applied Sciences Baskin Engineering\\2739\\2739\\F - Bid Documents and Contract Award\\F5 - Drawings and Specifications\\As Builts\\Partial Set\\01 File 2739 M1.0.TIF",
         "0.4667508602142334"
        ],
        [
         "49",
         "N:\\PPDO\\Records\\27xx   Applied Sciences Baskin Engineering\\2739\\2739\\H - Submittals\\17000-114\\HVAC Controls\\13 File 2739 Sub Item 114 13.TIF",
         "0.4670303463935852"
        ]
       ],
       "shape": {
        "columns": 2,
        "rows": 2125
       }
      },
      "text/html": [
       "<div>\n",
       "<style scoped>\n",
       "    .dataframe tbody tr th:only-of-type {\n",
       "        vertical-align: middle;\n",
       "    }\n",
       "\n",
       "    .dataframe tbody tr th {\n",
       "        vertical-align: top;\n",
       "    }\n",
       "\n",
       "    .dataframe thead th {\n",
       "        text-align: right;\n",
       "    }\n",
       "</style>\n",
       "<table border=\"1\" class=\"dataframe\">\n",
       "  <thead>\n",
       "    <tr style=\"text-align: right;\">\n",
       "      <th></th>\n",
       "      <th>local_path</th>\n",
       "      <th>distance</th>\n",
       "    </tr>\n",
       "  </thead>\n",
       "  <tbody>\n",
       "    <tr>\n",
       "      <th>0</th>\n",
       "      <td>N:\\PPDO\\Records\\27xx   Applied Sciences Baskin...</td>\n",
       "      <td>0.316600</td>\n",
       "    </tr>\n",
       "    <tr>\n",
       "      <th>1</th>\n",
       "      <td>N:\\PPDO\\Records\\27xx   Applied Sciences Baskin...</td>\n",
       "      <td>0.346429</td>\n",
       "    </tr>\n",
       "    <tr>\n",
       "      <th>2</th>\n",
       "      <td>N:\\PPDO\\Records\\27xx   Applied Sciences Baskin...</td>\n",
       "      <td>0.351275</td>\n",
       "    </tr>\n",
       "    <tr>\n",
       "      <th>3</th>\n",
       "      <td>N:\\PPDO\\Records\\27xx   Applied Sciences Baskin...</td>\n",
       "      <td>0.352529</td>\n",
       "    </tr>\n",
       "    <tr>\n",
       "      <th>4</th>\n",
       "      <td>N:\\PPDO\\Records\\27xx   Applied Sciences Baskin...</td>\n",
       "      <td>0.357121</td>\n",
       "    </tr>\n",
       "    <tr>\n",
       "      <th>...</th>\n",
       "      <td>...</td>\n",
       "      <td>...</td>\n",
       "    </tr>\n",
       "    <tr>\n",
       "      <th>2120</th>\n",
       "      <td>N:\\PPDO\\Records\\27xx   Applied Sciences Baskin...</td>\n",
       "      <td>0.993532</td>\n",
       "    </tr>\n",
       "    <tr>\n",
       "      <th>2121</th>\n",
       "      <td>N:\\PPDO\\Records\\27xx   Applied Sciences Baskin...</td>\n",
       "      <td>1.011335</td>\n",
       "    </tr>\n",
       "    <tr>\n",
       "      <th>2122</th>\n",
       "      <td>N:\\PPDO\\Records\\27xx   Applied Sciences Baskin...</td>\n",
       "      <td>1.018780</td>\n",
       "    </tr>\n",
       "    <tr>\n",
       "      <th>2123</th>\n",
       "      <td>N:\\PPDO\\Records\\27xx   Applied Sciences Baskin...</td>\n",
       "      <td>1.018780</td>\n",
       "    </tr>\n",
       "    <tr>\n",
       "      <th>2124</th>\n",
       "      <td>N:\\PPDO\\Records\\27xx   Applied Sciences Baskin...</td>\n",
       "      <td>1.018780</td>\n",
       "    </tr>\n",
       "  </tbody>\n",
       "</table>\n",
       "<p>2125 rows × 2 columns</p>\n",
       "</div>"
      ],
      "text/plain": [
       "                                             local_path  distance\n",
       "0     N:\\PPDO\\Records\\27xx   Applied Sciences Baskin...  0.316600\n",
       "1     N:\\PPDO\\Records\\27xx   Applied Sciences Baskin...  0.346429\n",
       "2     N:\\PPDO\\Records\\27xx   Applied Sciences Baskin...  0.351275\n",
       "3     N:\\PPDO\\Records\\27xx   Applied Sciences Baskin...  0.352529\n",
       "4     N:\\PPDO\\Records\\27xx   Applied Sciences Baskin...  0.357121\n",
       "...                                                 ...       ...\n",
       "2120  N:\\PPDO\\Records\\27xx   Applied Sciences Baskin...  0.993532\n",
       "2121  N:\\PPDO\\Records\\27xx   Applied Sciences Baskin...  1.011335\n",
       "2122  N:\\PPDO\\Records\\27xx   Applied Sciences Baskin...  1.018780\n",
       "2123  N:\\PPDO\\Records\\27xx   Applied Sciences Baskin...  1.018780\n",
       "2124  N:\\PPDO\\Records\\27xx   Applied Sciences Baskin...  1.018780\n",
       "\n",
       "[2125 rows x 2 columns]"
      ]
     },
     "metadata": {},
     "output_type": "display_data"
    }
   ],
   "source": [
    "# The purpose of this script is to find build a dataframe of files in a target directory,\n",
    "# sorted by similarity to a target file, based on text embeddings stored in the database.\n",
    "\n",
    "from sqlalchemy.orm import Session\n",
    "from sqlalchemy import or_\n",
    "import pandas as pd\n",
    "import numpy as np\n",
    "from db import get_db_engine\n",
    "from db.models import FileLocation, File, FileContent\n",
    "from text_extraction.pdf_extraction import PDFTextExtractor\n",
    "from embedding.minilm import MiniLMEmbedder\n",
    "from utils import extract_server_dirs, build_file_path\n",
    "server_mount = r\"N:\\PPDO\\Records\"\n",
    "target_filepath = r\"N:\\PPDO\\Records\\27xx   Applied Sciences Baskin Engineering\\2739\\2739\\H - Submittals\\File 2739.H DMG North Inc O&M. Air Handling Unit with Coil.pdf\"\n",
    "target_location = r\"N:\\PPDO\\Records\\27xx   Applied Sciences Baskin Engineering\\2739\\2739\"\n",
    "\n",
    "\n",
    "pdf_extractor = PDFTextExtractor()\n",
    "embedder = MiniLMEmbedder()\n",
    "\n",
    "text = pdf_extractor(target_filepath)\n",
    "embeddings = embedder.encode(text)\n",
    "target_loc_dirs = extract_server_dirs(full_path=target_location, base_mount=server_mount)\n",
    "engine = get_db_engine()\n",
    "\n",
    "target_sim_distance = lambda file_embeds: 1 - np.dot(file_embeds, embeddings)\n",
    "build_local_path = lambda row: build_file_path(base_mount=server_mount, server_dir=row['file_server_directories'], filename=row['filename'])\n",
    "\n",
    "with Session(engine) as db_session:\n",
    "    files_located_in_dir = or_(\n",
    "        FileLocation.file_server_directories == target_loc_dirs,\n",
    "        FileLocation.file_server_directories.startswith(target_loc_dirs + '/')\n",
    "    )\n",
    "\n",
    "    # fetch server dirs, filenames and embeddings for all files in the directory\n",
    "    query = (\n",
    "        db_session.query(\n",
    "            FileLocation.file_server_directories,\n",
    "            FileLocation.filename,                    # ← use FileLocation.filename, not File.filename\n",
    "            FileContent.minilm_emb\n",
    "        )\n",
    "        .join(File, File.id == FileLocation.file_id)\n",
    "        .join(FileContent, File.hash == FileContent.file_hash)   # ← join on hash, not on id\n",
    "        .filter(files_located_in_dir)\n",
    "    )\n",
    "    results = query.all()\n",
    "\n",
    "    # build dataframe …\n",
    "    df = pd.DataFrame(results, columns=['file_server_directories','filename','minilm_emb'])\n",
    "    df['local_path'] = df.apply(build_local_path, axis=1)\n",
    "    df['distance']   = df['minilm_emb'].apply(lambda emb: float(target_sim_distance(np.array(emb))))\n",
    "    df = df.sort_values('distance').reset_index(drop=True)\n",
    "\n",
    "    display(df[['local_path','distance']])"
   ]
  },
  {
   "cell_type": "code",
   "execution_count": null,
   "id": "3f43c305",
   "metadata": {},
   "outputs": [
    {
     "name": "stderr",
     "output_type": "stream",
     "text": [
      "2025-09-23 15:54:29,268 db.db INFO Creating database engine\n"
     ]
    },
    {
     "name": "stdout",
     "output_type": "stream",
     "text": [
      "Creating exclusion pattern: 16xx   Cowell College/1639/1639/G - Construction/G22 - Legal Claims and Public Records Act Request/Provided to Legal 2.5.13 FTP/*\n",
      "Exclusion pattern added with ID 1\n"
     ]
    }
   ],
   "source": [
    "# The purpose of this script is to add an exclusion pattern to the database for a specific directory and its contents.\n",
    "\n",
    "from sqlalchemy.orm import Session\n",
    "from db import get_db_engine\n",
    "from db.models import PathPattern, Base\n",
    "from utils import extract_server_dirs\n",
    "\n",
    "def add_exclusion_pattern():\n",
    "    # Full path to exclude\n",
    "    full_path = r\"N:\\PPDO\\Records\\16xx   Cowell College\\1639\\1639\\G - Construction\\G22 - Legal Claims and Public Records Act Request\\Provided to Legal 2.5.13 FTP\"\n",
    "    base_mount = r\"N:\\PPDO\\Records\"\n",
    "    \n",
    "    # Convert to server-relative path format (the format stored in the database)\n",
    "    server_relative_path = extract_server_dirs(full_path, base_mount)\n",
    "    \n",
    "    # Create pattern that will match this directory and all contents\n",
    "    pattern = f\"{server_relative_path}/*\"\n",
    "    \n",
    "    print(f\"Creating exclusion pattern: {pattern}\")\n",
    "    \n",
    "    # Connect to database\n",
    "    engine = get_db_engine()\n",
    "    \n",
    "    with Session(engine) as session:\n",
    "        # Check if pattern already exists\n",
    "        existing = session.query(PathPattern).filter_by(pattern=pattern).first()\n",
    "        if existing:\n",
    "            print(f\"Pattern already exists with ID {existing.id}\")\n",
    "            return\n",
    "        \n",
    "        # Create new pattern with both embedding and tagging contexts\n",
    "        new_pattern = PathPattern(\n",
    "            pattern=pattern,\n",
    "            pattern_type=\"directory\",\n",
    "            treatment=\"exclude\",\n",
    "            description=\"Legal claims and public records request documents\",\n",
    "            contexts=[\"add_files_embedding\", \"add_files_tagging\"],\n",
    "            enabled=True\n",
    "        )\n",
    "        \n",
    "        session.add(new_pattern)\n",
    "        session.commit()\n",
    "        print(f\"Exclusion pattern added with ID {new_pattern.id}\")\n",
    "\n",
    "# Execute the function\n",
    "add_exclusion_pattern()"
   ]
  }
 ],
 "metadata": {
  "kernelspec": {
   "display_name": ".venv",
   "language": "python",
   "name": "python3"
  },
  "language_info": {
   "codemirror_mode": {
    "name": "ipython",
    "version": 3
   },
   "file_extension": ".py",
   "mimetype": "text/x-python",
   "name": "python",
   "nbconvert_exporter": "python",
   "pygments_lexer": "ipython3",
   "version": "3.13.5"
  }
 },
 "nbformat": 4,
 "nbformat_minor": 5
}
