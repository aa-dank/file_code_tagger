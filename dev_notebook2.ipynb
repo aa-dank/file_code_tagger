{
 "cells": [
  {
   "cell_type": "code",
   "execution_count": null,
   "id": "8c825d1d",
   "metadata": {},
   "outputs": [],
   "source": [
    "from db.db import backup_database\n",
    "\n",
    "backup_destination = r\"N:\\PPDO\\BS\\Records Department\\Archive_Data\"\n",
    "backup_database(backup_dir=backup_destination, compress=True)"
   ]
  },
  {
   "cell_type": "code",
   "execution_count": null,
   "id": "9374674b",
   "metadata": {},
   "outputs": [],
   "source": [
    "from sqlalchemy.orm import Session\n",
    "from sqlalchemy import or_\n",
    "import pandas as pd\n",
    "import numpy as np\n",
    "from db import get_db_engine\n",
    "from db.models import FileLocation, File, FileContent\n",
    "from text_extraction.pdf_extraction import PDFTextExtractor\n",
    "from embedding.minilm import MiniLMEmbedder\n",
    "from utils import extract_server_dirs, build_file_path\n",
    "server_mount = r\"N:\\PPDO\\Records\"\n",
    "target_filepath = r\"N:\\PPDO\\Records\\23xx   Crown College (College 3)\\2318\\2318\\H - Submittals\\Lumber_ProductData.pdf\"\n",
    "target_location = r\"N:\\PPDO\\Records\\37xx   Oakes College\\3701\\3701\"\n",
    "\n",
    "\n",
    "pdf_extractor = PDFTextExtractor()\n",
    "embedder = MiniLMEmbedder()\n",
    "\n",
    "text = pdf_extractor(target_filepath)\n",
    "embeddings = embedder.encode(text)\n",
    "target_loc_dirs = extract_server_dirs(full_path=target_location, base_mount=server_mount)\n",
    "engine = get_db_engine()\n",
    "\n",
    "target_sim_distance = lambda file_embeds: 1 - np.dot(file_embeds, embeddings)\n",
    "build_local_path = lambda row: build_file_path(base_mount=server_mount, server_dir=row['file_server_directories'], filename=row['filename'])\n",
    "\n",
    "with Session(engine) as db_session:\n",
    "    files_located_in_dir = or_(\n",
    "        FileLocation.file_server_directories == target_loc_dirs,\n",
    "        FileLocation.file_server_directories.startswith(target_loc_dirs + '/')\n",
    "    )\n",
    "\n",
    "    query = db_session.query(FileLocation, FileContent)"
   ]
  },
  {
   "cell_type": "code",
   "execution_count": 1,
   "id": "3f43c305",
   "metadata": {},
   "outputs": [
    {
     "name": "stderr",
     "output_type": "stream",
     "text": [
      "2025-09-23 15:54:29,268 db.db INFO Creating database engine\n"
     ]
    },
    {
     "name": "stdout",
     "output_type": "stream",
     "text": [
      "Creating exclusion pattern: 16xx   Cowell College/1639/1639/G - Construction/G22 - Legal Claims and Public Records Act Request/Provided to Legal 2.5.13 FTP/*\n",
      "Exclusion pattern added with ID 1\n"
     ]
    }
   ],
   "source": [
    "from sqlalchemy.orm import Session\n",
    "from db import get_db_engine\n",
    "from db.models import PathPattern, Base\n",
    "from utils import extract_server_dirs\n",
    "\n",
    "def add_exclusion_pattern():\n",
    "    # Full path to exclude\n",
    "    full_path = r\"N:\\PPDO\\Records\\16xx   Cowell College\\1639\\1639\\G - Construction\\G22 - Legal Claims and Public Records Act Request\\Provided to Legal 2.5.13 FTP\"\n",
    "    base_mount = r\"N:\\PPDO\\Records\"\n",
    "    \n",
    "    # Convert to server-relative path format (the format stored in the database)\n",
    "    server_relative_path = extract_server_dirs(full_path, base_mount)\n",
    "    \n",
    "    # Create pattern that will match this directory and all contents\n",
    "    pattern = f\"{server_relative_path}/*\"\n",
    "    \n",
    "    print(f\"Creating exclusion pattern: {pattern}\")\n",
    "    \n",
    "    # Connect to database\n",
    "    engine = get_db_engine()\n",
    "    \n",
    "    with Session(engine) as session:\n",
    "        # Check if pattern already exists\n",
    "        existing = session.query(PathPattern).filter_by(pattern=pattern).first()\n",
    "        if existing:\n",
    "            print(f\"Pattern already exists with ID {existing.id}\")\n",
    "            return\n",
    "        \n",
    "        # Create new pattern with both embedding and tagging contexts\n",
    "        new_pattern = PathPattern(\n",
    "            pattern=pattern,\n",
    "            pattern_type=\"directory\",\n",
    "            treatment=\"exclude\",\n",
    "            description=\"Legal claims and public records request documents\",\n",
    "            contexts=[\"add_files_embedding\", \"add_files_tagging\"],\n",
    "            enabled=True\n",
    "        )\n",
    "        \n",
    "        session.add(new_pattern)\n",
    "        session.commit()\n",
    "        print(f\"Exclusion pattern added with ID {new_pattern.id}\")\n",
    "\n",
    "# Execute the function\n",
    "add_exclusion_pattern()"
   ]
  }
 ],
 "metadata": {
  "kernelspec": {
   "display_name": ".venv",
   "language": "python",
   "name": "python3"
  },
  "language_info": {
   "codemirror_mode": {
    "name": "ipython",
    "version": 3
   },
   "file_extension": ".py",
   "mimetype": "text/x-python",
   "name": "python",
   "nbconvert_exporter": "python",
   "pygments_lexer": "ipython3",
   "version": "3.13.7"
  }
 },
 "nbformat": 4,
 "nbformat_minor": 5
}
