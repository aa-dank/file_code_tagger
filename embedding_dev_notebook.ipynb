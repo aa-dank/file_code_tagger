{
 "cells": [
  {
   "cell_type": "code",
   "execution_count": null,
   "id": "b1e9dc39",
   "metadata": {},
   "outputs": [
    {
     "name": "stderr",
     "output_type": "stream",
     "text": [
      "INFO - Processing file id # 898310\n",
      "INFO:NotebookLogger:Processing file id # 898310\n",
      "WARNING - File 898310 not found at N:\\PPDO\\Records\\22xx   Fine Arts & Communication\\2200\\2200-100\\G5.1 - Hot Work Permits\\File 2200-100 Hot Work Permit.pdf\n",
      "WARNING:NotebookLogger:File 898310 not found at N:\\PPDO\\Records\\22xx   Fine Arts & Communication\\2200\\2200-100\\G5.1 - Hot Work Permits\\File 2200-100 Hot Work Permit.pdf\n",
      "ERROR - Error processing file 898310: [Errno 2] No such file or directory: 'N:\\\\PPDO\\\\Records\\\\22xx   Fine Arts & Communication\\\\2200\\\\2200-100\\\\G5.1 - Hot Work Permits\\\\File 2200-100 Hot Work Permit.pdf'\n",
      "ERROR:NotebookLogger:Error processing file 898310: [Errno 2] No such file or directory: 'N:\\\\PPDO\\\\Records\\\\22xx   Fine Arts & Communication\\\\2200\\\\2200-100\\\\G5.1 - Hot Work Permits\\\\File 2200-100 Hot Work Permit.pdf'\n",
      "DEBUG - Traceback (most recent call last):\n",
      "  File \"C:\\Users\\adankert\\AppData\\Local\\Temp\\ipykernel_30316\\3168570773.py\", line 90, in <module>\n",
      "    shutil.copyfile(server_filepath, temp_filepath)\n",
      "    ~~~~~~~~~~~~~~~^^^^^^^^^^^^^^^^^^^^^^^^^^^^^^^^\n",
      "  File \"C:\\Program Files\\WindowsApps\\PythonSoftwareFoundation.Python.3.13_3.13.1520.0_x64__qbz5n2kfra8p0\\Lib\\shutil.py\", line 260, in copyfile\n",
      "    with open(src, 'rb') as fsrc:\n",
      "         ~~~~^^^^^^^^^^^\n",
      "FileNotFoundError: [Errno 2] No such file or directory: 'N:\\\\PPDO\\\\Records\\\\22xx   Fine Arts & Communication\\\\2200\\\\2200-100\\\\G5.1 - Hot Work Permits\\\\File 2200-100 Hot Work Permit.pdf'\n",
      "\n",
      "DEBUG:NotebookLogger:Traceback (most recent call last):\n",
      "  File \"C:\\Users\\adankert\\AppData\\Local\\Temp\\ipykernel_30316\\3168570773.py\", line 90, in <module>\n",
      "    shutil.copyfile(server_filepath, temp_filepath)\n",
      "    ~~~~~~~~~~~~~~~^^^^^^^^^^^^^^^^^^^^^^^^^^^^^^^^\n",
      "  File \"C:\\Program Files\\WindowsApps\\PythonSoftwareFoundation.Python.3.13_3.13.1520.0_x64__qbz5n2kfra8p0\\Lib\\shutil.py\", line 260, in copyfile\n",
      "    with open(src, 'rb') as fsrc:\n",
      "         ~~~~^^^^^^^^^^^\n",
      "FileNotFoundError: [Errno 2] No such file or directory: 'N:\\\\PPDO\\\\Records\\\\22xx   Fine Arts & Communication\\\\2200\\\\2200-100\\\\G5.1 - Hot Work Permits\\\\File 2200-100 Hot Work Permit.pdf'\n",
      "\n",
      "INFO - Processing file id # 680863\n",
      "INFO:NotebookLogger:Processing file id # 680863\n",
      "WARNING - File 680863 not found at N:\\PPDO\\Records\\21xx   Central Heating Plant (Fackler Cogeneration)\\2100\\2100-015\\G - Construction\\G5.1 - Hot Work Permits\\Hot Work Permit.pdf\n",
      "WARNING:NotebookLogger:File 680863 not found at N:\\PPDO\\Records\\21xx   Central Heating Plant (Fackler Cogeneration)\\2100\\2100-015\\G - Construction\\G5.1 - Hot Work Permits\\Hot Work Permit.pdf\n",
      "ERROR - Error processing file 680863: [Errno 2] No such file or directory: 'N:\\\\PPDO\\\\Records\\\\21xx   Central Heating Plant (Fackler Cogeneration)\\\\2100\\\\2100-015\\\\G - Construction\\\\G5.1 - Hot Work Permits\\\\Hot Work Permit.pdf'\n",
      "ERROR:NotebookLogger:Error processing file 680863: [Errno 2] No such file or directory: 'N:\\\\PPDO\\\\Records\\\\21xx   Central Heating Plant (Fackler Cogeneration)\\\\2100\\\\2100-015\\\\G - Construction\\\\G5.1 - Hot Work Permits\\\\Hot Work Permit.pdf'\n",
      "DEBUG - Traceback (most recent call last):\n",
      "  File \"C:\\Users\\adankert\\AppData\\Local\\Temp\\ipykernel_30316\\3168570773.py\", line 90, in <module>\n",
      "    shutil.copyfile(server_filepath, temp_filepath)\n",
      "    ~~~~~~~~~~~~~~~^^^^^^^^^^^^^^^^^^^^^^^^^^^^^^^^\n",
      "  File \"C:\\Program Files\\WindowsApps\\PythonSoftwareFoundation.Python.3.13_3.13.1520.0_x64__qbz5n2kfra8p0\\Lib\\shutil.py\", line 260, in copyfile\n",
      "    with open(src, 'rb') as fsrc:\n",
      "         ~~~~^^^^^^^^^^^\n",
      "FileNotFoundError: [Errno 2] No such file or directory: 'N:\\\\PPDO\\\\Records\\\\21xx   Central Heating Plant (Fackler Cogeneration)\\\\2100\\\\2100-015\\\\G - Construction\\\\G5.1 - Hot Work Permits\\\\Hot Work Permit.pdf'\n",
      "\n",
      "DEBUG:NotebookLogger:Traceback (most recent call last):\n",
      "  File \"C:\\Users\\adankert\\AppData\\Local\\Temp\\ipykernel_30316\\3168570773.py\", line 90, in <module>\n",
      "    shutil.copyfile(server_filepath, temp_filepath)\n",
      "    ~~~~~~~~~~~~~~~^^^^^^^^^^^^^^^^^^^^^^^^^^^^^^^^\n",
      "  File \"C:\\Program Files\\WindowsApps\\PythonSoftwareFoundation.Python.3.13_3.13.1520.0_x64__qbz5n2kfra8p0\\Lib\\shutil.py\", line 260, in copyfile\n",
      "    with open(src, 'rb') as fsrc:\n",
      "         ~~~~^^^^^^^^^^^\n",
      "FileNotFoundError: [Errno 2] No such file or directory: 'N:\\\\PPDO\\\\Records\\\\21xx   Central Heating Plant (Fackler Cogeneration)\\\\2100\\\\2100-015\\\\G - Construction\\\\G5.1 - Hot Work Permits\\\\Hot Work Permit.pdf'\n",
      "\n",
      "INFO - Processing file id # 374052\n",
      "INFO:NotebookLogger:Processing file id # 374052\n"
     ]
    },
    {
     "data": {
      "application/vnd.jupyter.widget-view+json": {
       "model_id": "492fa4b9c1ab4c17893b0d3fcfa730d5",
       "version_major": 2,
       "version_minor": 0
      },
      "text/plain": [
       "Output()"
      ]
     },
     "metadata": {},
     "output_type": "display_data"
    },
    {
     "data": {
      "text/html": [
       "<pre style=\"white-space:pre;overflow-x:auto;line-height:normal;font-family:Menlo,'DejaVu Sans Mono',consolas,'Courier New',monospace\"></pre>\n"
      ],
      "text/plain": []
     },
     "metadata": {},
     "output_type": "display_data"
    },
    {
     "data": {
      "application/vnd.jupyter.widget-view+json": {
       "model_id": "ef42c845f5b44e6cbfd38f6e66dc0546",
       "version_major": 2,
       "version_minor": 0
      },
      "text/plain": [
       "Output()"
      ]
     },
     "metadata": {},
     "output_type": "display_data"
    },
    {
     "data": {
      "text/html": [
       "<pre style=\"white-space:pre;overflow-x:auto;line-height:normal;font-family:Menlo,'DejaVu Sans Mono',consolas,'Courier New',monospace\"></pre>\n"
      ],
      "text/plain": []
     },
     "metadata": {},
     "output_type": "display_data"
    },
    {
     "data": {
      "application/vnd.jupyter.widget-view+json": {
       "model_id": "143a8bf5b1cc4ff388475533a608e621",
       "version_major": 2,
       "version_minor": 0
      },
      "text/plain": [
       "Output()"
      ]
     },
     "metadata": {},
     "output_type": "display_data"
    },
    {
     "data": {
      "text/html": [
       "<pre style=\"white-space:pre;overflow-x:auto;line-height:normal;font-family:Menlo,'DejaVu Sans Mono',consolas,'Courier New',monospace\"></pre>\n"
      ],
      "text/plain": []
     },
     "metadata": {},
     "output_type": "display_data"
    },
    {
     "data": {
      "application/vnd.jupyter.widget-view+json": {
       "model_id": "912213cc0c034ed3a8b2fa919e983379",
       "version_major": 2,
       "version_minor": 0
      },
      "text/plain": [
       "Output()"
      ]
     },
     "metadata": {},
     "output_type": "display_data"
    },
    {
     "data": {
      "text/html": [
       "<pre style=\"white-space:pre;overflow-x:auto;line-height:normal;font-family:Menlo,'DejaVu Sans Mono',consolas,'Courier New',monospace\"></pre>\n"
      ],
      "text/plain": []
     },
     "metadata": {},
     "output_type": "display_data"
    },
    {
     "data": {
      "application/vnd.jupyter.widget-view+json": {
       "model_id": "5c3084b852664815bfb9a378ca12f043",
       "version_major": 2,
       "version_minor": 0
      },
      "text/plain": [
       "Output()"
      ]
     },
     "metadata": {},
     "output_type": "display_data"
    },
    {
     "data": {
      "text/html": [
       "<pre style=\"white-space:pre;overflow-x:auto;line-height:normal;font-family:Menlo,'DejaVu Sans Mono',consolas,'Courier New',monospace\"></pre>\n"
      ],
      "text/plain": []
     },
     "metadata": {},
     "output_type": "display_data"
    },
    {
     "data": {
      "application/vnd.jupyter.widget-view+json": {
       "model_id": "4d0cec8665584bb08ca6ce2e05fca53e",
       "version_major": 2,
       "version_minor": 0
      },
      "text/plain": [
       "Output()"
      ]
     },
     "metadata": {},
     "output_type": "display_data"
    },
    {
     "data": {
      "text/html": [
       "<pre style=\"white-space:pre;overflow-x:auto;line-height:normal;font-family:Menlo,'DejaVu Sans Mono',consolas,'Courier New',monospace\"></pre>\n"
      ],
      "text/plain": []
     },
     "metadata": {},
     "output_type": "display_data"
    },
    {
     "name": "stderr",
     "output_type": "stream",
     "text": [
      "WARNING:ocrmypdf._validation:The output file size is 10.46× larger than the input file.\n",
      "Possible reasons for this include:\n",
      "--deskew was issued, causing transcoding.\n",
      "The optional dependency 'jbig2' was not found, so some image optimizations could not be attempted.\n",
      "The optional dependency 'pngquant' was not found, so some image optimizations could not be attempted.\n",
      "\n",
      "ERROR - Error processing file 374052: 'MiniLMEmbedder' object has no attribute 'model_name'\n",
      "ERROR:NotebookLogger:Error processing file 374052: 'MiniLMEmbedder' object has no attribute 'model_name'\n",
      "DEBUG - Traceback (most recent call last):\n",
      "  File \"C:\\Users\\adankert\\AppData\\Local\\Temp\\ipykernel_30316\\3168570773.py\", line 104, in <module>\n",
      "    minilm_model=embedding_client.model_name,\n",
      "                 ^^^^^^^^^^^^^^^^^^^^^^^^^^^\n",
      "AttributeError: 'MiniLMEmbedder' object has no attribute 'model_name'\n",
      "\n",
      "DEBUG:NotebookLogger:Traceback (most recent call last):\n",
      "  File \"C:\\Users\\adankert\\AppData\\Local\\Temp\\ipykernel_30316\\3168570773.py\", line 104, in <module>\n",
      "    minilm_model=embedding_client.model_name,\n",
      "                 ^^^^^^^^^^^^^^^^^^^^^^^^^^^\n",
      "AttributeError: 'MiniLMEmbedder' object has no attribute 'model_name'\n",
      "\n",
      "INFO - Processing file id # 209317\n",
      "INFO:NotebookLogger:Processing file id # 209317\n",
      "WARNING - File 209317 not found at N:\\PPDO\\Records\\18xx   Mc Henry Library Unit I\\1810\\1810\\G - Construction\\G5.1 - Hot Work Permits\\McClenahan_Hot Work Permit_02-02-10.pdf\n",
      "WARNING:NotebookLogger:File 209317 not found at N:\\PPDO\\Records\\18xx   Mc Henry Library Unit I\\1810\\1810\\G - Construction\\G5.1 - Hot Work Permits\\McClenahan_Hot Work Permit_02-02-10.pdf\n",
      "ERROR - Error processing file 209317: [Errno 2] No such file or directory: 'N:\\\\PPDO\\\\Records\\\\18xx   Mc Henry Library Unit I\\\\1810\\\\1810\\\\G - Construction\\\\G5.1 - Hot Work Permits\\\\McClenahan_Hot Work Permit_02-02-10.pdf'\n",
      "ERROR:NotebookLogger:Error processing file 209317: [Errno 2] No such file or directory: 'N:\\\\PPDO\\\\Records\\\\18xx   Mc Henry Library Unit I\\\\1810\\\\1810\\\\G - Construction\\\\G5.1 - Hot Work Permits\\\\McClenahan_Hot Work Permit_02-02-10.pdf'\n",
      "DEBUG - Traceback (most recent call last):\n",
      "  File \"C:\\Users\\adankert\\AppData\\Local\\Temp\\ipykernel_30316\\3168570773.py\", line 90, in <module>\n",
      "    shutil.copyfile(server_filepath, temp_filepath)\n",
      "    ~~~~~~~~~~~~~~~^^^^^^^^^^^^^^^^^^^^^^^^^^^^^^^^\n",
      "  File \"C:\\Program Files\\WindowsApps\\PythonSoftwareFoundation.Python.3.13_3.13.1520.0_x64__qbz5n2kfra8p0\\Lib\\shutil.py\", line 260, in copyfile\n",
      "    with open(src, 'rb') as fsrc:\n",
      "         ~~~~^^^^^^^^^^^\n",
      "FileNotFoundError: [Errno 2] No such file or directory: 'N:\\\\PPDO\\\\Records\\\\18xx   Mc Henry Library Unit I\\\\1810\\\\1810\\\\G - Construction\\\\G5.1 - Hot Work Permits\\\\McClenahan_Hot Work Permit_02-02-10.pdf'\n",
      "\n",
      "DEBUG:NotebookLogger:Traceback (most recent call last):\n",
      "  File \"C:\\Users\\adankert\\AppData\\Local\\Temp\\ipykernel_30316\\3168570773.py\", line 90, in <module>\n",
      "    shutil.copyfile(server_filepath, temp_filepath)\n",
      "    ~~~~~~~~~~~~~~~^^^^^^^^^^^^^^^^^^^^^^^^^^^^^^^^\n",
      "  File \"C:\\Program Files\\WindowsApps\\PythonSoftwareFoundation.Python.3.13_3.13.1520.0_x64__qbz5n2kfra8p0\\Lib\\shutil.py\", line 260, in copyfile\n",
      "    with open(src, 'rb') as fsrc:\n",
      "         ~~~~^^^^^^^^^^^\n",
      "FileNotFoundError: [Errno 2] No such file or directory: 'N:\\\\PPDO\\\\Records\\\\18xx   Mc Henry Library Unit I\\\\1810\\\\1810\\\\G - Construction\\\\G5.1 - Hot Work Permits\\\\McClenahan_Hot Work Permit_02-02-10.pdf'\n",
      "\n",
      "INFO - Processing file id # 712489\n",
      "INFO:NotebookLogger:Processing file id # 712489\n"
     ]
    },
    {
     "data": {
      "application/vnd.jupyter.widget-view+json": {
       "model_id": "96b25be0849b4e6aa9608549eb1a2817",
       "version_major": 2,
       "version_minor": 0
      },
      "text/plain": [
       "Output()"
      ]
     },
     "metadata": {},
     "output_type": "display_data"
    },
    {
     "data": {
      "text/html": [
       "<pre style=\"white-space:pre;overflow-x:auto;line-height:normal;font-family:Menlo,'DejaVu Sans Mono',consolas,'Courier New',monospace\"></pre>\n"
      ],
      "text/plain": []
     },
     "metadata": {},
     "output_type": "display_data"
    },
    {
     "data": {
      "application/vnd.jupyter.widget-view+json": {
       "model_id": "1946db7695b44265bb85b0662d84a561",
       "version_major": 2,
       "version_minor": 0
      },
      "text/plain": [
       "Output()"
      ]
     },
     "metadata": {},
     "output_type": "display_data"
    },
    {
     "data": {
      "text/html": [
       "<pre style=\"white-space:pre;overflow-x:auto;line-height:normal;font-family:Menlo,'DejaVu Sans Mono',consolas,'Courier New',monospace\"></pre>\n"
      ],
      "text/plain": []
     },
     "metadata": {},
     "output_type": "display_data"
    },
    {
     "data": {
      "application/vnd.jupyter.widget-view+json": {
       "model_id": "612fd710ed1b4214aa5e726921d55b86",
       "version_major": 2,
       "version_minor": 0
      },
      "text/plain": [
       "Output()"
      ]
     },
     "metadata": {},
     "output_type": "display_data"
    },
    {
     "data": {
      "text/html": [
       "<pre style=\"white-space:pre;overflow-x:auto;line-height:normal;font-family:Menlo,'DejaVu Sans Mono',consolas,'Courier New',monospace\"></pre>\n"
      ],
      "text/plain": []
     },
     "metadata": {},
     "output_type": "display_data"
    },
    {
     "data": {
      "application/vnd.jupyter.widget-view+json": {
       "model_id": "8db983d843e54023b979a3d62e433fa8",
       "version_major": 2,
       "version_minor": 0
      },
      "text/plain": [
       "Output()"
      ]
     },
     "metadata": {},
     "output_type": "display_data"
    },
    {
     "data": {
      "text/html": [
       "<pre style=\"white-space:pre;overflow-x:auto;line-height:normal;font-family:Menlo,'DejaVu Sans Mono',consolas,'Courier New',monospace\"></pre>\n"
      ],
      "text/plain": []
     },
     "metadata": {},
     "output_type": "display_data"
    },
    {
     "data": {
      "application/vnd.jupyter.widget-view+json": {
       "model_id": "70b3cb749e8b4bd1a3c1de6573e472db",
       "version_major": 2,
       "version_minor": 0
      },
      "text/plain": [
       "Output()"
      ]
     },
     "metadata": {},
     "output_type": "display_data"
    },
    {
     "data": {
      "text/html": [
       "<pre style=\"white-space:pre;overflow-x:auto;line-height:normal;font-family:Menlo,'DejaVu Sans Mono',consolas,'Courier New',monospace\"></pre>\n"
      ],
      "text/plain": []
     },
     "metadata": {},
     "output_type": "display_data"
    },
    {
     "data": {
      "application/vnd.jupyter.widget-view+json": {
       "model_id": "3a383ad33d124a4eb3831f76b158d4c7",
       "version_major": 2,
       "version_minor": 0
      },
      "text/plain": [
       "Output()"
      ]
     },
     "metadata": {},
     "output_type": "display_data"
    },
    {
     "data": {
      "text/html": [
       "<pre style=\"white-space:pre;overflow-x:auto;line-height:normal;font-family:Menlo,'DejaVu Sans Mono',consolas,'Courier New',monospace\"></pre>\n"
      ],
      "text/plain": []
     },
     "metadata": {},
     "output_type": "display_data"
    },
    {
     "name": "stderr",
     "output_type": "stream",
     "text": [
      "WARNING:ocrmypdf._validation:The output file size is 10.92× larger than the input file.\n",
      "Possible reasons for this include:\n",
      "--deskew was issued, causing transcoding.\n",
      "The optional dependency 'jbig2' was not found, so some image optimizations could not be attempted.\n",
      "The optional dependency 'pngquant' was not found, so some image optimizations could not be attempted.\n",
      "\n",
      "ERROR - Error processing file 712489: 'MiniLMEmbedder' object has no attribute 'model_name'\n",
      "ERROR:NotebookLogger:Error processing file 712489: 'MiniLMEmbedder' object has no attribute 'model_name'\n",
      "DEBUG - Traceback (most recent call last):\n",
      "  File \"C:\\Users\\adankert\\AppData\\Local\\Temp\\ipykernel_30316\\3168570773.py\", line 104, in <module>\n",
      "    minilm_model=embedding_client.model_name,\n",
      "                 ^^^^^^^^^^^^^^^^^^^^^^^^^^^\n",
      "AttributeError: 'MiniLMEmbedder' object has no attribute 'model_name'\n",
      "\n",
      "DEBUG:NotebookLogger:Traceback (most recent call last):\n",
      "  File \"C:\\Users\\adankert\\AppData\\Local\\Temp\\ipykernel_30316\\3168570773.py\", line 104, in <module>\n",
      "    minilm_model=embedding_client.model_name,\n",
      "                 ^^^^^^^^^^^^^^^^^^^^^^^^^^^\n",
      "AttributeError: 'MiniLMEmbedder' object has no attribute 'model_name'\n",
      "\n",
      "INFO - Processing file id # 371698\n",
      "INFO:NotebookLogger:Processing file id # 371698\n"
     ]
    },
    {
     "data": {
      "application/vnd.jupyter.widget-view+json": {
       "model_id": "62715280319242af996aa969bfbe2115",
       "version_major": 2,
       "version_minor": 0
      },
      "text/plain": [
       "Output()"
      ]
     },
     "metadata": {},
     "output_type": "display_data"
    },
    {
     "data": {
      "text/html": [
       "<pre style=\"white-space:pre;overflow-x:auto;line-height:normal;font-family:Menlo,'DejaVu Sans Mono',consolas,'Courier New',monospace\"></pre>\n"
      ],
      "text/plain": []
     },
     "metadata": {},
     "output_type": "display_data"
    },
    {
     "data": {
      "application/vnd.jupyter.widget-view+json": {
       "model_id": "5817ef0787d54e3c864517fda1f88be5",
       "version_major": 2,
       "version_minor": 0
      },
      "text/plain": [
       "Output()"
      ]
     },
     "metadata": {},
     "output_type": "display_data"
    },
    {
     "name": "stderr",
     "output_type": "stream",
     "text": [
      "ERROR:ocrmypdf._exec.tesseract:[tesseract] Error during processing.\n"
     ]
    }
   ],
   "source": [
    "import logging\n",
    "import os\n",
    "import shutil\n",
    "import traceback\n",
    "import tempfile\n",
    "from db_models import File, FileLocation, FilingTag, FileTagLabel, FileEmbedding, get_db_engine\n",
    "from embedding.minilm import MiniLMEmbedder\n",
    "from sqlalchemy import func\n",
    "from sqlalchemy.orm import Session\n",
    "from text_extraction.pdf_extraction import PDFTextExtractor\n",
    "from text_extraction.basic_extraction import TextFileTextExtractor, get_extractor_for_file\n",
    "from text_extraction.image_extraction import ImageTextExtractor\n",
    "from text_extraction.office_doc_extraction import PresentationTextExtractor, SpreadsheetTextExtractor, WordFileTextExtractor\n",
    "from text_extraction.web_extraction import HtmlTextExtractor, EmailTextExtractor\n",
    "from text_extraction.extraction_utils import common_char_replacements, strip_diacritics, normalize_unicode\n",
    "from logging_setups import setup_logger\n",
    "\n",
    "nb_logger = setup_logger(name=\"NotebookLogger\", notebook=True, level=logging.DEBUG)\n",
    "\n",
    "import pytesseract\n",
    "pytesseract.pytesseract.tesseract_cmd = r'C:\\Program Files\\Tesseract-OCR\\tesseract.exe'\n",
    "\n",
    "pdf_extractor = PDFTextExtractor()\n",
    "txt_extractor = TextFileTextExtractor()\n",
    "image_extractor = ImageTextExtractor()\n",
    "presentation_extractor = PresentationTextExtractor()\n",
    "spreadsheet_extractor = SpreadsheetTextExtractor()\n",
    "word_extractor = WordFileTextExtractor()\n",
    "html_extractor = HtmlTextExtractor()\n",
    "email_extractor = EmailTextExtractor()\n",
    "\n",
    "extractors_list = [\n",
    "    pdf_extractor,\n",
    "    txt_extractor,\n",
    "    image_extractor,\n",
    "    presentation_extractor,\n",
    "    spreadsheet_extractor,\n",
    "    word_extractor,\n",
    "    html_extractor,\n",
    "    email_extractor\n",
    "]\n",
    "\n",
    "def get_files_from_tag_locations(db_session: Session, tag_obj: FilingTag, limit: int = 100, randomize: bool = False):\n",
    "    \"\"\"\n",
    "    Retrieve files tagged with a specific tag string.\n",
    "    \"\"\"\n",
    "    tag_locations = FileLocation.file_server_directories.ilike(f\"%/{tag_obj.label_search_str}%\")\n",
    "    if randomize:\n",
    "        files = db_session.query(File).join(FileLocation).filter(tag_locations).order_by(func.random()).limit(limit).all()\n",
    "    else:\n",
    "        files = db_session.query(File).join(FileLocation).filter(tag_locations).limit(limit).all()\n",
    "    \n",
    "    return files\n",
    "\n",
    "\n",
    "\n",
    "filing_cod_tag = \"G5.1 - Hot Work Permits\"\n",
    "file_server_location = r\"N:\\PPDO\\Records\"\n",
    "embedding_client = MiniLMEmbedder()\n",
    "with Session(get_db_engine()) as db_session:\n",
    "    tag = FilingTag.retrieve_tag_by_label(db_session, filing_cod_tag)\n",
    "    files = get_files_from_tag_locations(\n",
    "        db_session= db_session,\n",
    "        tag_obj = tag,\n",
    "        randomize=True)\n",
    "\n",
    "    with tempfile.TemporaryDirectory() as temp_dir:\n",
    "        for file_obj in files:\n",
    "            nb_logger.info(f\"Processing file id # {file_obj.id}\")\n",
    "\n",
    "            if not file_obj.locations:\n",
    "                nb_logger.warning(f\"No locations found for file {file_obj.id}\")\n",
    "                continue\n",
    "            \n",
    "            filepath = \"\"\n",
    "            filename = \"\"\n",
    "            for location in file_obj.locations:\n",
    "                server_filepath = location.local_filepath(server_mount_path=file_server_location)\n",
    "\n",
    "                if os.path.exists(server_filepath):\n",
    "                    filename = location.filename\n",
    "                    break\n",
    "                \n",
    "                else:\n",
    "                    nb_logger.warning(f\"File {file_obj.id} not found at {server_filepath}\")\n",
    "                    continue\n",
    "            \n",
    "            # if no valid file found, skip to next file\n",
    "            if not filename:\n",
    "                nb_logger.warning(f\"No valid file found for {file_obj.id}\")\n",
    "                continue\n",
    "\n",
    "            try:\n",
    "                temp_filepath = os.path.join(temp_dir, filename)\n",
    "                shutil.copyfile(server_filepath, temp_filepath)\n",
    "                extractor = get_extractor_for_file(temp_filepath, extractors_list)\n",
    "                if extractor:\n",
    "                    text = extractor(temp_filepath)\n",
    "                    if text:\n",
    "                        text = common_char_replacements(text)\n",
    "                        text = strip_diacritics(text)\n",
    "                        text = normalize_unicode(text)\n",
    "                        emb_list = embedding_client.encode([text])\n",
    "                        emb_vec = emb_list[0] if emb_list else None\n",
    "                        if emb_vec is not None:\n",
    "                            file_embedding = FileEmbedding(\n",
    "                                file_hash =file_obj.hash,\n",
    "                                source_text =text,\n",
    "                                minilm_model=embedding_client.model_name,\n",
    "                                minilm_emb=emb_vec\n",
    "                            )\n",
    "                            db_session.add(file_embedding)\n",
    "                            db_session.commit()\n",
    "                            nb_logger.info(f\"Processed file {file_obj.id} with tag {filing_cod_tag}\")\n",
    "                        else:\n",
    "                            nb_logger.warning(f\"Failed to create embedding for file {file_obj.id}\")\n",
    "                            continue\n",
    "                        \n",
    "                        current_tag = tag\n",
    "                        while current_tag is not None:\n",
    "                            labeling_record = FileTagLabel(\n",
    "                                file_id = file_obj.id,\n",
    "                                file_hash = file_obj.hash,\n",
    "                                tag = current_tag.label,\n",
    "                                is_primary = True if not current_tag.parent else False,\n",
    "                                label_source = 'rule'\n",
    "                            )\n",
    "                            db_session.add(labeling_record)\n",
    "                            nb_logger.info(f\"Added tag {current_tag.label} to file {file_obj.id}\")\n",
    "                            current_tag = current_tag.parent\n",
    "                        db_session.commit()\n",
    "                    else:\n",
    "                        nb_logger.warning(f\"No text extracted from {file_obj.id}\")\n",
    "                else:\n",
    "                    nb_logger.warning(f\"No suitable extractor found for file {file_obj.id}\")\n",
    "            except Exception as e:\n",
    "\n",
    "\n",
    "                nb_logger.error(f\"Error processing file {file_obj.id}: {e}\")\n",
    "                nb_logger.debug(traceback.format_exc())\n",
    "                continue"
   ]
  }
 ],
 "metadata": {
  "kernelspec": {
   "display_name": ".venv",
   "language": "python",
   "name": "python3"
  },
  "language_info": {
   "codemirror_mode": {
    "name": "ipython",
    "version": 3
   },
   "file_extension": ".py",
   "mimetype": "text/x-python",
   "name": "python",
   "nbconvert_exporter": "python",
   "pygments_lexer": "ipython3",
   "version": "3.13.5"
  }
 },
 "nbformat": 4,
 "nbformat_minor": 5
}
