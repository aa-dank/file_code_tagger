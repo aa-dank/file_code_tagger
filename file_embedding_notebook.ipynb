{
 "cells": [
  {
   "cell_type": "code",
   "execution_count": null,
   "id": "036640fe",
   "metadata": {},
   "outputs": [],
   "source": [
    "from .embedding.minilm import MiniLMEmbedder\n",
    "\n",
    "filing_tag_pools = {\n",
    "    \"pool1\": {\n",
    "}"
   ]
  }
 ],
 "metadata": {
  "language_info": {
   "name": "python"
  }
 },
 "nbformat": 4,
 "nbformat_minor": 5
}
