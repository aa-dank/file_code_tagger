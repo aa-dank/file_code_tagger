{
 "cells": [
  {
   "cell_type": "code",
   "execution_count": 1,
   "id": "8c825d1d",
   "metadata": {},
   "outputs": [
    {
     "data": {
      "text/plain": [
       "'N:\\\\PPDO\\\\BS\\\\Records Department\\\\Archive_Data\\\\archives_backup_20250905_103845.sql.bz2'"
      ]
     },
     "execution_count": 1,
     "metadata": {},
     "output_type": "execute_result"
    }
   ],
   "source": [
    "from db.db import backup_database\n",
    "\n",
    "backup_destination = r\"N:\\PPDO\\BS\\Records Department\\Archive_Data\"\n",
    "backup_database(backup_dir=backup_destination, compress=True)"
   ]
  },
  {
   "cell_type": "code",
   "execution_count": null,
   "id": "9374674b",
   "metadata": {},
   "outputs": [],
   "source": [
    "from sqlalchemy.orm import Session\n",
    "from sqlalchemy import or_\n",
    "import pandas as pd\n",
    "import numpy as np\n",
    "from db import get_db_engine\n",
    "from db.models import FileLocation, File, FileEmbedding\n",
    "from text_extraction.pdf_extraction import PDFTextExtractor\n",
    "from embedding.minilm import MiniLMEmbedder\n",
    "from utils import extract_server_dirs, build_file_path\n",
    "server_mount = r\"N:\\PPDO\\Records\"\n",
    "target_filepath = r\"N:\\PPDO\\Records\\23xx   Crown College (College 3)\\2318\\2318\\H - Submittals\\Lumber_ProductData.pdf\"\n",
    "target_location = r\"N:\\PPDO\\Records\\37xx   Oakes College\\3701\\3701\"\n",
    "\n",
    "\n",
    "pdf_extractor = PDFTextExtractor()\n",
    "embedder = MiniLMEmbedder()\n",
    "\n",
    "text = pdf_extractor(target_filepath)\n",
    "embeddings = embedder.encode(text)\n",
    "target_loc_dirs = extract_server_dirs(full_path=target_location, base_mount=server_mount)\n",
    "engine = get_db_engine()\n",
    "\n",
    "target_sim_distance = lambda file_embeds: 1 - np.dot(file_embeds, embeddings)\n",
    "build_local_path = lambda row: build_file_path(base_mount=server_mount, server_dir=row['file_server_directories'], filename=row['filename'])\n",
    "\n",
    "with Session(engine) as db_session:\n",
    "    files_located_in_dir = or_(\n",
    "        FileLocation.file_server_directories == target_loc_dirs,\n",
    "        FileLocation.file_server_directories.startswith(target_loc_dirs + '/')\n",
    "    )\n",
    "\n",
    "    query = db_session.query(FileLocation, FileEmbedding)\\\n",
    "        .join(File, FileLocation.file)\\\n",
    "        .join(FileEmbedding, File.hash == FileEmbedding.file_hash)\\\n",
    "        .filter(files_located_in_dir)\n",
    "    \n",
    "    # query into dataframe\n",
    "    df = pd.read_sql(query.statement, db_session.bind)\n",
    "    df['similarity'] = df['minilm_emb'].apply(target_sim_distance)\n",
    "    df = df.sort_values(by='similarity', ascending=True)\n",
    "\n",
    "    # Add local file path\n",
    "    df['local_filepath'] = df.apply(build_local_path, axis=1)\n",
    "\n",
    "df.head()\n",
    "\n",
    "\n"
   ]
  },
  {
   "cell_type": "code",
   "execution_count": null,
   "id": "d462bec3",
   "metadata": {},
   "outputs": [
    {
     "name": "stderr",
     "output_type": "stream",
     "text": [
      "2025-09-10 16:05:29,481 db.db INFO Creating database engine\n"
     ]
    },
    {
     "data": {
      "application/vnd.microsoft.datawrangler.viewer.v0+json": {
       "columns": [
        {
         "name": "index",
         "rawType": "int64",
         "type": "integer"
        },
        {
         "name": "id",
         "rawType": "int64",
         "type": "integer"
        },
        {
         "name": "file_id",
         "rawType": "int64",
         "type": "integer"
        },
        {
         "name": "existence_confirmed",
         "rawType": "datetime64[ns]",
         "type": "datetime"
        },
        {
         "name": "hash_confirmed",
         "rawType": "datetime64[ns]",
         "type": "datetime"
        },
        {
         "name": "file_server_directories",
         "rawType": "object",
         "type": "string"
        },
        {
         "name": "filename",
         "rawType": "object",
         "type": "string"
        }
       ],
       "ref": "052d41f7-f8e9-46a1-abfd-77cd55d55bce",
       "rows": [
        [
         "0",
         "1467780",
         "742150",
         "2025-08-15 23:46:32.559459",
         "2025-08-05 01:37:35.595464",
         "83xx   Physical Education Facility/8300/8300-025/G - Construction/G1.4 - PPC and PP. Certified Payroll",
         "1. Hot Work Permit Exhibit H.pdf"
        ],
        [
         "1",
         "1479620",
         "680440",
         "2025-07-18 22:50:48.333338",
         "2025-07-05 02:41:27.475147",
         "16xx   Cowell College/1600/1600-120/G - Construction/G5 - UCSC Inspectors Daily Reports",
         "Hot Work Permit 3.21.11.pdf"
        ],
        [
         "2",
         "1037221",
         "701522",
         "2025-08-01 19:04:01.664393",
         "2025-07-06 03:15:38.372858",
         "16xx   Cowell College/1649/1649/G - Construction/G7 - Contractors Daily Reports/Hot Work Permits",
         "File 1649 Hot Work Permit Cowell Commons-Dining Room.pdf"
        ],
        [
         "3",
         "1309205",
         "876522",
         "2025-08-02 23:40:38.666248",
         "2025-07-12 02:52:15.745664",
         "27xx   Applied Sciences Baskin Engineering/2744/2744/G - Construction",
         "File 2744 Hot Work Permit.pdf"
        ],
        [
         "4",
         "1488237",
         "685017",
         "2025-08-05 15:50:34.225005",
         "2025-07-29 03:26:38.035454",
         "90xx  Campus Utilities/9000/9000-030/G - Construction/G5 - Inspectors' Daily Reports and Inspection Requests",
         "Hot Work Permit 8.18.11.pdf"
        ]
       ],
       "shape": {
        "columns": 6,
        "rows": 5
       }
      },
      "text/html": [
       "<div>\n",
       "<style scoped>\n",
       "    .dataframe tbody tr th:only-of-type {\n",
       "        vertical-align: middle;\n",
       "    }\n",
       "\n",
       "    .dataframe tbody tr th {\n",
       "        vertical-align: top;\n",
       "    }\n",
       "\n",
       "    .dataframe thead th {\n",
       "        text-align: right;\n",
       "    }\n",
       "</style>\n",
       "<table border=\"1\" class=\"dataframe\">\n",
       "  <thead>\n",
       "    <tr style=\"text-align: right;\">\n",
       "      <th></th>\n",
       "      <th>id</th>\n",
       "      <th>file_id</th>\n",
       "      <th>existence_confirmed</th>\n",
       "      <th>hash_confirmed</th>\n",
       "      <th>file_server_directories</th>\n",
       "      <th>filename</th>\n",
       "    </tr>\n",
       "  </thead>\n",
       "  <tbody>\n",
       "    <tr>\n",
       "      <th>0</th>\n",
       "      <td>1467780</td>\n",
       "      <td>742150</td>\n",
       "      <td>2025-08-15 23:46:32.559459</td>\n",
       "      <td>2025-08-05 01:37:35.595464</td>\n",
       "      <td>83xx   Physical Education Facility/8300/8300-0...</td>\n",
       "      <td>1. Hot Work Permit Exhibit H.pdf</td>\n",
       "    </tr>\n",
       "    <tr>\n",
       "      <th>1</th>\n",
       "      <td>1479620</td>\n",
       "      <td>680440</td>\n",
       "      <td>2025-07-18 22:50:48.333338</td>\n",
       "      <td>2025-07-05 02:41:27.475147</td>\n",
       "      <td>16xx   Cowell College/1600/1600-120/G - Constr...</td>\n",
       "      <td>Hot Work Permit 3.21.11.pdf</td>\n",
       "    </tr>\n",
       "    <tr>\n",
       "      <th>2</th>\n",
       "      <td>1037221</td>\n",
       "      <td>701522</td>\n",
       "      <td>2025-08-01 19:04:01.664393</td>\n",
       "      <td>2025-07-06 03:15:38.372858</td>\n",
       "      <td>16xx   Cowell College/1649/1649/G - Constructi...</td>\n",
       "      <td>File 1649 Hot Work Permit Cowell Commons-Dinin...</td>\n",
       "    </tr>\n",
       "    <tr>\n",
       "      <th>3</th>\n",
       "      <td>1309205</td>\n",
       "      <td>876522</td>\n",
       "      <td>2025-08-02 23:40:38.666248</td>\n",
       "      <td>2025-07-12 02:52:15.745664</td>\n",
       "      <td>27xx   Applied Sciences Baskin Engineering/274...</td>\n",
       "      <td>File 2744 Hot Work Permit.pdf</td>\n",
       "    </tr>\n",
       "    <tr>\n",
       "      <th>4</th>\n",
       "      <td>1488237</td>\n",
       "      <td>685017</td>\n",
       "      <td>2025-08-05 15:50:34.225005</td>\n",
       "      <td>2025-07-29 03:26:38.035454</td>\n",
       "      <td>90xx  Campus Utilities/9000/9000-030/G - Const...</td>\n",
       "      <td>Hot Work Permit 8.18.11.pdf</td>\n",
       "    </tr>\n",
       "  </tbody>\n",
       "</table>\n",
       "</div>"
      ],
      "text/plain": [
       "        id  file_id        existence_confirmed             hash_confirmed  \\\n",
       "0  1467780   742150 2025-08-15 23:46:32.559459 2025-08-05 01:37:35.595464   \n",
       "1  1479620   680440 2025-07-18 22:50:48.333338 2025-07-05 02:41:27.475147   \n",
       "2  1037221   701522 2025-08-01 19:04:01.664393 2025-07-06 03:15:38.372858   \n",
       "3  1309205   876522 2025-08-02 23:40:38.666248 2025-07-12 02:52:15.745664   \n",
       "4  1488237   685017 2025-08-05 15:50:34.225005 2025-07-29 03:26:38.035454   \n",
       "\n",
       "                             file_server_directories  \\\n",
       "0  83xx   Physical Education Facility/8300/8300-0...   \n",
       "1  16xx   Cowell College/1600/1600-120/G - Constr...   \n",
       "2  16xx   Cowell College/1649/1649/G - Constructi...   \n",
       "3  27xx   Applied Sciences Baskin Engineering/274...   \n",
       "4  90xx  Campus Utilities/9000/9000-030/G - Const...   \n",
       "\n",
       "                                            filename  \n",
       "0                   1. Hot Work Permit Exhibit H.pdf  \n",
       "1                        Hot Work Permit 3.21.11.pdf  \n",
       "2  File 1649 Hot Work Permit Cowell Commons-Dinin...  \n",
       "3                      File 2744 Hot Work Permit.pdf  \n",
       "4                        Hot Work Permit 8.18.11.pdf  "
      ]
     },
     "execution_count": 9,
     "metadata": {},
     "output_type": "execute_result"
    }
   ],
   "source": []
  },
  {
   "cell_type": "code",
   "execution_count": null,
   "id": "dffd4615",
   "metadata": {},
   "outputs": [],
   "source": [
    "\n"
   ]
  },
  {
   "cell_type": "code",
   "execution_count": null,
   "id": "4532aa8a",
   "metadata": {},
   "outputs": [],
   "source": []
  }
 ],
 "metadata": {
  "kernelspec": {
   "display_name": ".venv",
   "language": "python",
   "name": "python3"
  },
  "language_info": {
   "codemirror_mode": {
    "name": "ipython",
    "version": 3
   },
   "file_extension": ".py",
   "mimetype": "text/x-python",
   "name": "python",
   "nbconvert_exporter": "python",
   "pygments_lexer": "ipython3",
   "version": "3.13.5"
  }
 },
 "nbformat": 4,
 "nbformat_minor": 5
}
