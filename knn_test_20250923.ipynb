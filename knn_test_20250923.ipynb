{
 "cells": [
  {
   "cell_type": "code",
   "execution_count": null,
   "id": "2e4a6a65",
   "metadata": {},
   "outputs": [],
   "source": [
    "from db.models import Tag\n",
    "\n",
    "# query logic for retrieving tagged file embedding for use in test.\n",
    "DEFAULT_CHILD_TAG_N = 50\n",
    "\n",
    "# Get the child tags for set of parent tag targets.\n",
    "target_tag_list = ['B', 'C', 'D', 'E', 'F', 'G', 'H']\n",
    "target_tag_query = Tag.select().where(Tag.name.in_(target_tag_list))\n",
    "\n"
   ]
  }
 ],
 "metadata": {
  "language_info": {
   "name": "python"
  }
 },
 "nbformat": 4,
 "nbformat_minor": 5
}
