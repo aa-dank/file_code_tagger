{
 "cells": [
  {
   "cell_type": "code",
   "execution_count": 10,
   "id": "8c825d1d",
   "metadata": {},
   "outputs": [
    {
     "data": {
      "text/plain": [
       "'N:\\\\PPDO\\\\BS\\\\Records Department\\\\Archive_Data\\\\archives_backup_20250817_102822.sql.bz2'"
      ]
     },
     "execution_count": 10,
     "metadata": {},
     "output_type": "execute_result"
    }
   ],
   "source": [
    "from db.db import backup_database\n",
    "\n",
    "backup_destination = r\"N:\\PPDO\\BS\\Records Department\\Archive_Data\"\n",
    "backup_database(backup_dir=backup_destination, compress=True)"
   ]
  },
  {
   "cell_type": "code",
   "execution_count": 9,
   "id": "9374674b",
   "metadata": {},
   "outputs": [
    {
     "name": "stderr",
     "output_type": "stream",
     "text": [
      "2025-08-15 19:02:14,214 sentence_transformers.SentenceTransformer INFO Use pytorch device_name: cpu\n",
      "2025-08-15 19:02:14,217 sentence_transformers.SentenceTransformer INFO Load pretrained SentenceTransformer: all-MiniLM-L6-v2\n",
      "2025-08-15 19:02:16,307 text_extraction.pdf_extraction INFO Extracting text from PDF: N:\\PPDO\\Records\\16xx   Cowell College\\1639\\1639\\F - Bid Documents and Contract Award\\F5 - Drawings and Specifications\\Rebid Specs\\Record Specs\\05510 Precast Concrete Tread Metal Stairs.pdf\n"
     ]
    },
    {
     "data": {
      "application/vnd.jupyter.widget-view+json": {
       "model_id": "2cbb3b0111b64547aba0a818bc32064a",
       "version_major": 2,
       "version_minor": 0
      },
      "text/plain": [
       "Batches:   0%|          | 0/1 [00:00<?, ?it/s]"
      ]
     },
     "metadata": {},
     "output_type": "display_data"
    },
    {
     "name": "stderr",
     "output_type": "stream",
     "text": [
      "2025-08-15 19:02:16,902 db.db INFO Creating database engine\n"
     ]
    },
    {
     "data": {
      "application/vnd.microsoft.datawrangler.viewer.v0+json": {
       "columns": [
        {
         "name": "index",
         "rawType": "int64",
         "type": "integer"
        },
        {
         "name": "id",
         "rawType": "int64",
         "type": "integer"
        },
        {
         "name": "file_id",
         "rawType": "int64",
         "type": "integer"
        },
        {
         "name": "existence_confirmed",
         "rawType": "datetime64[ns]",
         "type": "datetime"
        },
        {
         "name": "hash_confirmed",
         "rawType": "datetime64[ns]",
         "type": "datetime"
        },
        {
         "name": "file_server_directories",
         "rawType": "object",
         "type": "string"
        },
        {
         "name": "filename",
         "rawType": "object",
         "type": "string"
        },
        {
         "name": "file_hash",
         "rawType": "object",
         "type": "string"
        },
        {
         "name": "source_text",
         "rawType": "object",
         "type": "string"
        },
        {
         "name": "minilm_model",
         "rawType": "object",
         "type": "string"
        },
        {
         "name": "minilm_emb",
         "rawType": "object",
         "type": "unknown"
        },
        {
         "name": "mpnet_model",
         "rawType": "object",
         "type": "unknown"
        },
        {
         "name": "mpnet_emb",
         "rawType": "object",
         "type": "unknown"
        },
        {
         "name": "updated_at",
         "rawType": "datetime64[ns, UTC]",
         "type": "unknown"
        },
        {
         "name": "similarity",
         "rawType": "float32",
         "type": "float"
        },
        {
         "name": "local_filepath",
         "rawType": "object",
         "type": "unknown"
        }
       ],
       "ref": "bb7fd9f2-8a24-4827-a5c1-50ead100a84e",
       "rows": [
        [
         "140",
         "551144",
         "98760",
         "2025-08-13 11:45:16.917310",
         "2025-08-13 02:35:25.201997",
         "37xx   Oakes College/3701/3701/F - Bid Documents and Contract Award/F5 - Drawings and Specifications/Architectural",
         "File 3701 A 16.TIF",
         "dea44581835cc932cd40209ee8322aed95b45946",
         "STAIR e. THIRD FLOOR | SECOND FLOOR ' STAIR *8, SECOND | ae aE RST FLOOR PLA\\ STAIR\" 6 Be STAIR *4__ SECOND FLOOR | Y=Aaror 1 4 mac HP gee] 3 SL TR, FiSST FLOOR PLAN STAIR 6. STAIR *7 + SECOND FLOOR _ + - lo-2H fh (FL i\" were. so\" Thi\" Hes, eae | \\ FIRST FOR Pia PLAN STAIR ator @ | FIRST 1. ACCES PROVIDED IO ENGL: SPACE (Beton BELOW ALL STAIRS, Be OG . STAIR * 7 TYPICAL STAI co None L ieuiabiel ax / lao ad 59 ware SECOND FLOOR, STAR +) APT. UNIT FIRST FLOOR PLAN STAIR #1 SLECTRICAL ENGINEERS 287-0580 STRUCTURAL ENGINEERS CALIF. Sart. 287-2708 MECHANICAL ENGINEERS B84 HOWARD BTREET, AN FRANCISCO, CALIF. 841G8. 24810 - 634-4777 + BECK: AMEY LANDSCAPE ARCHITECTS ean: 50 GREEN STREET, BAN FRANCIECO, CALIF. TOMMICK EUR01 CLAY GTREET, SAN FRANCIECO, CALIF. 84171: (418) 634-0900 + GUTTMAN and ABEOCIATES + _WILKIN@ON 478 SANTA CLARA AVE. GAKLAND, CALIF. ROYSTON - HANAMOTO eramen PORELL - sLemeeer BO GREEN STREET, BAN FRANCIECO, KaASIN COLLEGE 7 PROJECT ND. 4-8-00ess-0 UNIVERSITY OF CALIFORNIA SANTA CRUZ | 3 95",
         "all-MiniLM-L6-v2",
         "[-6.64647222e-02 -2.13256124e-02  5.51274512e-03 -1.01486524e-03\n -7.80693293e-02 -4.47297506e-02 -1.04204550e-01  9.27523971e-02\n  3.03543149e-03 -6.83157844e-03  3.75057682e-02 -2.20316369e-02\n -3.98202334e-03 -3.42379473e-02  1.59409232e-02  1.18037453e-02\n -3.40004228e-02  2.40623616e-02 -3.75412442e-02 -1.43895904e-02\n  9.85866338e-02 -4.54595499e-02  1.20906876e-02  1.99004561e-02\n -1.98342721e-03  2.94112624e-03 -2.04929546e-03  1.23311296e-01\n  2.36534458e-02 -1.15249567e-01  6.20462745e-02  8.06145668e-02\n -3.64581682e-03 -1.34568673e-03  6.17529117e-02  5.27993180e-02\n  2.05348264e-02 -6.39702827e-02 -3.86266075e-02 -1.21659590e-02\n -5.07794954e-02  1.88758457e-03  6.47728220e-02 -1.59168616e-02\n -3.95343788e-02 -2.80178105e-03 -2.73729637e-02 -1.01964451e-01\n -1.78051367e-02 -2.48369295e-02 -2.19782218e-02  7.83197358e-02\n  3.80174629e-02  5.95489442e-02 -3.69141363e-02  8.26559514e-02\n  3.78284864e-02 -6.90249950e-02  1.29798744e-02 -6.52158931e-02\n -7.33037072e-04  1.37231257e-02 -3.94838378e-02 -1.90390106e-02\n -4.97534871e-02  4.07997193e-03 -6.99898973e-02 -1.25777438e-01\n -5.32919541e-02 -2.32296232e-02 -2.44386774e-02 -6.20126426e-02\n  5.90817332e-02  4.89432737e-02  2.68097334e-02 -1.28883561e-02\n  4.54589538e-02 -1.75488926e-02 -1.58027501e-03 -5.51183037e-02\n -5.88860102e-02  4.00335602e-02 -3.71513516e-02  6.35941252e-02\n -2.87476722e-02  2.33663507e-02 -1.72449779e-02  3.38617079e-02\n  1.44693740e-02 -1.11501124e-02  6.92711398e-02  3.96916922e-03\n -9.84652117e-02  1.52685996e-02  5.32748960e-02 -1.29276246e-03\n -5.16269207e-02 -1.09077804e-01 -8.57691467e-02  1.43138953e-02\n -9.68114808e-02  1.01952646e-02  7.23601058e-02  3.93484123e-02\n -6.11270219e-02 -2.17874274e-02  3.73278894e-02  2.40508113e-02\n -4.12968715e-04 -3.25250439e-05 -6.34077042e-02 -9.34462473e-02\n  5.24734408e-02  3.71497907e-02  6.81253802e-03 -7.28495605e-03\n -1.65527500e-02 -4.00560424e-02  3.89244445e-02 -5.86875230e-02\n  1.00409120e-01  1.04264384e-02 -2.18318738e-02  6.77226782e-02\n -6.51308969e-02 -3.56670246e-02  2.28066482e-02  1.34110123e-32\n -8.91256984e-03  7.46205747e-02  1.15752146e-02 -1.49766598e-02\n  7.28688613e-02 -4.85866070e-02 -8.10659751e-02  2.77653821e-02\n  3.09961401e-02  3.54835019e-02 -2.46537346e-02 -6.35040328e-02\n -2.72061191e-02 -1.05504524e-02  6.06042668e-02 -4.74215336e-02\n  9.43906829e-02 -4.12035501e-03 -1.07110195e-01 -5.36543168e-02\n  6.48823380e-02 -3.86208482e-02  2.30048094e-02 -4.92304377e-02\n  3.42966639e-03  9.69715649e-04 -1.28898555e-02 -6.79138452e-02\n -9.29328799e-02  2.38202605e-02 -1.20404530e-02  9.00338124e-03\n -1.00331577e-02  5.30771241e-02  4.69127111e-03 -2.73143519e-02\n  1.04110911e-02 -4.39508408e-02 -3.10302489e-02 -1.90941859e-02\n  1.98950991e-02  1.09235793e-02  9.96472314e-02  2.05778126e-02\n  3.12080272e-02  5.84440073e-03  5.53765371e-02  4.62318175e-02\n  1.09369658e-01  5.56210615e-02 -5.41073196e-02  8.89000446e-02\n -2.14724187e-02  1.32823614e-02  4.51024398e-02 -4.41759080e-02\n -9.05201130e-04 -3.80796045e-02  4.68799211e-02  5.96962795e-02\n -9.60685313e-03  3.53326350e-02  1.25402305e-02  2.85321977e-02\n -1.29555194e-02 -6.77060932e-02 -6.71778098e-02  3.48246098e-02\n  6.76657408e-02  4.67757061e-02 -7.84634799e-02 -4.50305529e-02\n  1.30281851e-01  6.63495585e-02  4.04896066e-02 -2.65681883e-03\n -5.77961840e-02 -3.01528908e-02  8.74914005e-02 -4.33663130e-02\n -9.01205912e-02  8.06389898e-02  2.49503064e-03 -3.21958177e-02\n  1.26060814e-01 -3.03337374e-03  6.26751482e-02 -1.02639217e-02\n -5.74680753e-02 -1.85282633e-03 -5.10609001e-02 -7.82190487e-02\n  2.47716010e-02  6.07166998e-02 -2.69476604e-02 -1.42463142e-32\n -4.68757972e-02  6.22006357e-02 -7.97043741e-03 -2.10541505e-02\n -2.22932384e-03 -2.93335202e-03  3.26131061e-02 -2.29754299e-02\n  8.71789604e-02  5.18208034e-02 -1.17079047e-02  6.88683391e-02\n  6.18731370e-03 -1.07638091e-01  1.24709465e-01  2.68252715e-02\n  2.89535727e-02 -9.47908089e-02  2.58465912e-02 -1.03826437e-03\n  9.30037275e-02  2.72202343e-02 -1.96512580e-01  2.48305928e-02\n  2.31844354e-02  1.49598727e-02  4.70163971e-02 -9.25495056e-04\n -1.32858558e-02  2.90246066e-02 -9.30808708e-02 -3.23128514e-02\n -3.78147960e-02  2.71080211e-02 -6.17270824e-03 -6.07342422e-02\n  1.58065800e-02  4.95518036e-02 -3.58617753e-02 -2.10201647e-02\n  9.87822562e-02 -2.12374032e-02  1.08002327e-01  4.07969952e-03\n  1.63323320e-02 -1.02421418e-01 -6.04872293e-05 -3.68115157e-02\n -5.25058173e-02 -4.47620861e-02  6.12198655e-03  5.64759299e-02\n -2.36982405e-02 -1.76122934e-02  5.20918630e-02 -1.30074378e-02\n -6.00735098e-03 -2.36930558e-03 -9.73108932e-02 -5.61781563e-02\n  5.19096516e-02  4.62733656e-02  4.21760939e-02  4.66025360e-02\n  6.44654632e-02 -5.88762900e-03 -3.53282467e-02 -5.80106676e-02\n -7.44806752e-02 -2.23628245e-02 -5.01773432e-02 -1.86194833e-02\n  4.21666503e-02 -7.98140094e-02  5.00135534e-02 -1.26003787e-01\n  2.04206575e-02  2.35033669e-02  4.80068140e-02 -6.51350617e-03\n -4.57127914e-02 -5.29131219e-02 -3.11070830e-02 -2.46030726e-02\n -2.71463376e-02 -2.37621199e-02 -2.33657714e-02  7.79930726e-02\n  6.79255426e-02 -2.26320773e-02  2.40333937e-02  5.03907204e-02\n  3.58141921e-02 -3.53203118e-02 -8.31804704e-03 -7.17181976e-08\n -4.62746434e-02 -1.99537128e-02 -3.95829324e-03 -2.99553722e-02\n  5.58852553e-02 -6.24715909e-02  9.04216096e-02  8.12585056e-02\n -5.21580949e-02 -5.01863919e-02  4.20343019e-02  4.89445701e-02\n  5.14947288e-02  2.78179236e-02  1.71482470e-02 -1.52866626e-02\n -7.73106962e-02  5.65937757e-02 -5.46978451e-02 -4.86542359e-02\n -2.48229485e-02 -3.02338321e-02  2.90591978e-02 -3.49481590e-02\n -9.46549624e-02 -3.55111212e-02 -5.85818291e-02 -4.76482958e-02\n  1.29954899e-02  2.95325574e-02  1.97043940e-02 -8.74303165e-04\n  3.92794088e-02 -4.56998358e-03  1.39383301e-02  4.60504591e-02\n  1.74412765e-02  9.86455753e-03  3.05858664e-02  3.20840850e-02\n -2.32208725e-02 -7.62033910e-02  3.47991139e-02  4.47474234e-02\n  1.07623190e-01  2.75218878e-02 -9.51498002e-02 -3.86900865e-02\n  2.46271081e-02 -5.87619133e-02 -3.13330926e-02  4.85071391e-02\n  1.37926952e-03  1.72542892e-02  5.65940104e-02 -3.29121202e-02\n -3.12366765e-02 -9.04696360e-02 -2.34663635e-02 -3.99950380e-03\n  9.81156304e-02 -1.85840614e-02 -7.36042671e-03  6.23390265e-03]",
         null,
         null,
         "2025-08-13 04:07:36.111721+00:00",
         "0.44882578",
         "N:\\PPDO\\Records\\37xx   Oakes College\\3701\\3701\\F - Bid Documents and Contract Award\\F5 - Drawings and Specifications\\Architectural\\File 3701 A 16.TIF"
        ],
        [
         "189",
         "551225",
         "367836",
         "2025-08-13 11:45:06.872326",
         "2025-08-13 02:36:00.557249",
         "37xx   Oakes College/3701/3701/F - Bid Documents and Contract Award/F5 - Drawings and Specifications/General",
         "File 3701 G 01.TIF",
         "b077e1c4e83f332a8711ba033ad2a060c960dc3d",
         "UNIVERSITY OF CALIFORNIA COLLEGE 7 PROJECT NO. 4-9-D0086e-a SANTA CRUZ LOCATION MAP RL az a3 Roa aS a6 aT aa a aslo aolL Bo1Z Pars SITE WORK TITLE SHEET. LOCATION MAP, THDEX REVERENCE SURVEY GRADING, STAKING AND DRAINAGE HORIZONTAL AND VERTICAL ROAD CONTROL ROADWAY, DRAINAGE DETAILS CONSTRUCTION DETAILS CONSTRUCTION DETAILS IRRIGATION DETAILS IRRIGATION DETAILS PLAMPING PLAN ARCHITECTURAL NORTE RESIDENTIAL FIRST FLOOR PLAY . MORTH RESIDENTIAL SECOND FLOOR PLAN NORTH RESIDENTIAL THIRD FLOOR PLAN NORTH RESIDENTIAL ROOF PLAY NORTH RESIDENTIAL EXTERIOR ELEVATIONS NORTH RESIDENTIAL EXTERIOR ELEVATIONS SOUTH RESIDENTIAL PIRST PLOOR PLAN SOUTH RESIDENTIAL SECOND FLOOR PLAN RESIDENTIAL f RESZDENTIAL RESIDENTIAL SOUTH RESIDENTIAL APARTMENT PLANS, MODULE THIRD FLOOR PLAN ROOF PLAN EXTERIOR SLEVATIONS EXTERIOR ELEVATIONS 'A,B,C AND SERVICE Aold APARTIGNT PLANS A,B,C AND SERVICE MoDULE {OPPOSITE RAND) ACLS RESIDENTIAL BUILDING SECTIONS 2-16 RESIDENTIAL STAIR PLANS AND SECTIONS 217 RESIDENTIAL INTERIOR ELEVATIONS AND REFLECTED CEILING PLANS A-1@ RESIDENTIAL FINISH SCHEDULE, DOOR SCHEDULE, DOOR SCHEDULE AND #INDOW SCHEDULE, -M-2 a-19 (DELETED) 2-20 (DELETED) A-21 (DELETED) . A-23 (DELETED) STRUCTURAL |. _ELECTRICAL 1deg FEPTCAL DETAILS: 2 REY PLAN, FOUNDATION PLAN, RESIDENTIAL 3 FOUNDATION PLAN, HESIDENTIAL 4 FOUNDATION PLAN, RESIDENTIAL 5 SHCOND FLOOR PLAN, RESIDENT=AL SS TRIED FLOOR PLAN, \"RESIDENTIAL 7 3 9 1 a ROOF PLAN, RESIDENTIAL SHEAR WALL DETAILS, RESIDENTIAL 0 SECTION, 'RESIDENTIAL 1 SECTION' AND DETAILS AP SERVICE MODULE, RESIDENTIAL . $-12 DETAILS, RESIDENTIAL S-13 STAIR DETAILS, RESIDENTIAL S-14 FOUNDATION PEAN, ACADEMIC S-15 SECOND FLOOR PRAMING SIAN, ACADEIIC $-16 THIRD FLOOR FRAMING STAN, ACADEMIC S-17 ROOF FRAMING PLAN, ACADENIC S-18 SECTIONS AND DETAILS, ACADEMIC 5-19 SECTIONS AND DETAILS, ACADEVIC f-20 SECEIONS, LECTURE HALL MECHANICAL Mel KEY PrAN M200 SITE SLAW MO} EXISTING PARKING LOT ' Med PROFILE M5 PROFILE : M6 PROFILE Me?\" NORTH RESIDENTIAL SOUTH RESIDENTIAL M-9 RPT, A,B,C & SERVICE NODULE - GROUND FLOOR PLAN, PIPING \"melo APT. A,B,C, & SERVICE MODULE - GROUND' FLOOR FLAN, HEV 4-23 (DELETED) 2-24 (DELETED) 2-28 (BLEPED) 2-26 ACADEMIC BUILDING FIRST FLOOR PLAN 4-27 ACADEMIC BUILDING SEOCND FLOOR PLAN 4-28. ACADEMIC BUILDING THIRD FLOOR PLAN 2-29 ACADEMIC BUILDING ROOF PLAN A-30 ACADENIC BUILDING ELEVATIONS A=31 AGADENIC BUIEDING FIRST FLOOR REFLECTED CEILING PLAN A-32- ACADEMIC EUILDING SECOND FLOOR REFLECTEY CEILING PLAN A-33deg ACADEMIC BUILDING THIRD FLOOR REFLECTED SEEMING PLAN 4-34 \"ACADEMIC BUILDING sectrons A-35 ACADEMIC BUILDING INTERIOR BLPVATIONS, STAIR PLANS AND SECTIONS Ae36 ACADEMIC BUILDING FINISH SCHEDULE, SID WINDOW SCHEDULE A-37- RCADEMIC BUILDING DOOR AND FRAME SCHEDULE 4-38 ACADEMIC BUILDING DETAILS A239 ACADEMIC BUILDING DETAILS Ac40 RESIDENTIAL DETAILS 2-41 RESIDENTIAL DETAILS B-42 RESIDENTIAL DETAILS Mell APT. A,B,C, - TOP FLOOR PLAN, PIPING Mol? APT._A,B/C, - TOP PEN, Kav B13 ACADEMIC 'BUILDING - FIRST FLOOR PLAN, PIPING M14 ACADEMIC BUILDING - FIRST FLOOR DIAN, Hav M-15 ACADEMIC BUILDING - SECOND FLOOR PLAN, PIPING \" M-16 ACADEMIC BUZLDING - SECOND FLOOR PLAN, Moat = TRIRD FLOOR PLAN, Mes = THTRE FLOOR PLAX, M-18 (DELETED) 4-20 (DELETED) M-21 SERVICE MODULES ~ FLOOR PLANS, . PIPING AND HEV 23 scuEDuLES 4-23 CONTROLS M-24 DETAILS ~ MECHANICAL ROOMS 4-25 DETAILS 4-26 DETAILS M-27 DETAILS w-28 DEPAILS TYPICAL FLOOR FRAMING PLANS, RESIDENTIAL pEd2 PS13 Els E15 E16 El? E18 E-19 B20 i soon ye ee er na ene reine Yess ont ko oe SYMBOLS, NOTES, SCHEDULES, DETAILS, MISC. SITE PLAY - LIGHTING SITE PLAY - ELECTRICAL DISTRIBUTION COMMUNICATIONS AND SIGNAL, SITE PLAN ANT ELECTRICAL ONE-LINE DIAGRAM ELECTRICAL WITCHBOARD ELEVATION SIGHAL RISER DIAGRAM AND DETAILS ACADEMZC BLDG. - 1ST FLOOR - LIGHTING ACADEMIC BLDG. - 2\"D + Lice7iNc AGADEHIC BLDG. - 3R0 = Lurie ACADEMIC BLDG. - ist =LOOR - POWER 4 SIGHAL ACADEMIC BLDG, ~ 2xP ~ POWER & SIGHAL ACADELTC BLDC. - 3RD = POWER 5 SIGNAL (DELETED) (DELETED) TYPICAL APARTMENT UIT ~ LIGHTING PLANS TYPICAL APARTMENT UNIT = POWER & STGRAL PLANS ELECTRICAL PLAN, MECHANICAL SYSTEMS (Eee 0} Barking ABBREVIATIONS i seiisesote enctectorad, ap ARTEL be, Sonntag, Suh : Qiao ooo, cs E Bee EE de PS2 O wW Wo WE UG Ee 26 25 29 5 Eg PS6 oa da Te Zo 28 28 gb oA \" c $ dhe ap br go ge 8 < ef? 20 8 oF 5 ahh o. a 2ga dg Ft Gg a SS a oe 0 d> - foo ag GS pHs of yo ode ce Oo 20 4.8 G2 fae 204 as ud gt' pe Nah gu 02 C/ U a2 ba we PS 2deg 3, u F eq 2 g ge bose SF B aga Ut \"HOS a 3 a sn rae 6 ag' teak oc fee doe! eg 7\" 2 ae o: KUMP CONSULTING LANDSCAPE CHURCH CONSULTING ARCHITECT ARCHITECT ERNEST J. THOMAS D. TITLE THLE SHEET FAEVIGION BATE [Sy 4 BY DAMONTE qa Sas ese FILE # 3701",
         "all-MiniLM-L6-v2",
         "[-4.08416577e-02  1.23399328e-02  2.26275399e-02  8.01576767e-03\n -3.20423134e-02 -1.92772914e-02 -1.05735213e-01 -1.47859089e-03\n -6.21333271e-02  7.10464688e-03 -1.82299595e-02 -1.64075922e-02\n  4.36402932e-02 -3.39107215e-02  2.20555589e-02  5.45992963e-02\n -5.06594293e-02 -3.56232515e-03  3.89169380e-02 -1.70865166e-03\n  3.23698595e-02 -3.95619534e-02 -4.02466534e-03 -1.35225095e-02\n  1.77113377e-02  1.36062801e-02  3.27547863e-02  1.17229886e-01\n -4.93868627e-02 -1.27048418e-01  5.59994131e-02  6.63819909e-02\n  5.04644439e-02 -2.00074483e-02  1.02219298e-01  5.77878505e-02\n  6.32902188e-03 -3.06277759e-02 -4.35159430e-02 -2.22911499e-03\n -8.19451138e-02 -1.71183341e-03  7.01491833e-02  7.07559586e-02\n -7.66294599e-02  9.10359062e-03 -7.13145733e-02 -9.17053223e-02\n  2.07586922e-02  6.59851823e-03 -1.45220454e-03  5.62791936e-02\n -4.56589609e-02  8.67438763e-02 -3.85320745e-02  8.72258618e-02\n  1.75782200e-03 -7.19824433e-02  2.32251547e-03 -1.18924519e-02\n -2.14645849e-03  2.80154739e-02 -7.87202492e-02 -1.88393164e-02\n -2.37730201e-02  2.60902308e-02 -8.01467374e-02 -4.41830186e-03\n -4.07509413e-03  5.21317474e-04  2.99296388e-03 -4.00312878e-02\n  2.20485572e-02 -6.29632827e-03  6.36177063e-02 -1.03172883e-02\n  4.04523052e-02  1.22893807e-02 -3.73368151e-03 -1.17110424e-01\n -6.26799315e-02  1.48340771e-02 -3.90429348e-02  4.88913655e-02\n -5.34751303e-02 -2.19530822e-03 -9.05421190e-03  2.10398212e-02\n  4.96852323e-02  4.46198545e-02  5.93698062e-02 -3.21859382e-02\n -4.80232574e-02 -2.09922623e-02  4.19289134e-02 -2.07307972e-02\n -8.21907669e-02 -1.55376136e-01 -5.97669277e-03  3.25038321e-02\n -5.01298197e-02  6.88711321e-03  6.46505430e-02 -3.78643386e-02\n -6.02106601e-02 -2.10078526e-02  1.17406864e-02  8.89257863e-02\n -4.73735370e-02 -3.42951715e-03 -5.36702457e-04 -5.38704842e-02\n  1.44738844e-02 -3.84812546e-03  1.79151655e-03  1.39674498e-02\n  9.85938758e-02 -5.06501198e-02 -2.66364403e-03 -1.98720358e-02\n  3.66652682e-02 -4.47084568e-03 -2.19803862e-02 -1.33015169e-02\n -5.67654036e-02 -1.20412134e-01 -4.93356995e-02  1.37423885e-32\n -2.28414889e-02  3.08098216e-02  1.04030385e-03  5.62814586e-02\n  7.04480112e-02 -1.87491383e-02 -1.12630446e-02  3.71339321e-02\n -1.57047566e-02  9.34948623e-02  3.53506431e-02 -3.83732677e-03\n -3.59667046e-03  7.64667094e-02  9.14414078e-02 -5.93419001e-02\n  7.58936182e-02 -1.53591093e-02 -1.06868066e-01  4.96436795e-03\n  1.87793151e-02 -2.55253278e-02 -8.21449701e-03 -5.20402640e-02\n  3.97125445e-02 -1.60024117e-03  1.76993627e-02  1.45231355e-02\n -9.19250175e-02 -5.08169178e-03  5.53753525e-02 -2.41524703e-03\n -1.41293136e-02  3.47638540e-02  5.65868579e-02  9.07003805e-02\n  7.33396336e-02 -3.25688459e-02 -6.90833479e-02 -5.37871756e-02\n  4.12976444e-02  2.17479616e-02  6.77056909e-02  4.80442122e-02\n  5.63858002e-02  4.09617275e-03  5.65434843e-02  1.75463241e-02\n  6.90149516e-02  6.57124072e-02 -2.04099379e-02  5.51483631e-02\n -4.50753681e-02 -3.70881334e-02  1.40820350e-02  3.07870656e-03\n -7.71647468e-02  1.24297673e-02 -1.70313416e-03  5.23333065e-02\n -2.37164740e-03  3.85385379e-02 -5.65229729e-02 -2.06922777e-02\n -7.36943185e-02 -5.22762649e-02 -7.56521299e-02 -6.81471266e-03\n  1.13869213e-01 -2.70607285e-02 -4.04250138e-02 -4.58616763e-02\n  9.79720578e-02  6.34463578e-02 -5.50436741e-03  2.50474941e-02\n -7.99839050e-02 -3.06746494e-02  8.05477500e-02  7.52752647e-03\n -5.80402911e-02  2.95663010e-02  5.02866842e-02 -1.34450691e-02\n  1.13745786e-01 -5.53322397e-03  9.50324610e-02 -2.05284934e-02\n -5.16067445e-02  2.04678737e-02 -3.04351207e-02  2.65353099e-02\n -2.53081112e-03 -7.80475512e-03 -6.96737226e-03 -1.36599232e-32\n -2.25556362e-02 -5.45765553e-03 -2.80452017e-02 -4.64789644e-02\n  2.60401983e-02  6.66588917e-03  5.36702340e-03 -1.27984852e-01\n  3.48434299e-02 -6.52563758e-03 -5.21377623e-02  3.17758210e-02\n  2.32110848e-03 -7.82245398e-02  7.35384896e-02 -1.19920643e-02\n  2.67334711e-02 -4.06145975e-02 -3.26731242e-02  9.06314254e-02\n -2.95628961e-02  1.22587629e-01 -7.93936774e-02 -2.85710744e-03\n  2.26113778e-02  3.48609835e-02  2.50821058e-02  6.27646521e-02\n  4.91861673e-03  7.48365792e-03 -6.21943250e-02 -7.67931566e-02\n -4.58080098e-02  3.14289518e-02 -6.23974726e-02 -7.03750923e-02\n  5.61396144e-02  2.47610863e-02 -6.12064525e-02 -5.59135713e-03\n  1.47824422e-01 -2.88879089e-02  6.50248453e-02 -4.93028946e-03\n  1.89697538e-02 -3.68008986e-02 -2.14360580e-02 -4.38545644e-02\n -5.83189242e-02  1.62389614e-02 -5.50450645e-02 -6.39902875e-02\n -4.69657220e-02  2.80465856e-02  8.38638768e-02 -6.51137307e-02\n  5.15858717e-02 -7.00307591e-03 -6.08319379e-02  8.59844498e-03\n  1.13254584e-01  7.70447254e-02  1.89073700e-02  4.33603078e-02\n  5.91419116e-02 -6.40460849e-02 -8.23638588e-03 -9.30966586e-02\n -2.72000898e-02 -3.76366191e-02 -1.21457472e-01  3.09439190e-02\n -2.81290002e-02 -1.02385238e-01 -2.57625263e-02 -4.60271686e-02\n  5.88174239e-02  6.17114902e-02 -1.38012879e-02 -4.05652076e-02\n -4.63325083e-02 -2.10149363e-02 -6.82274848e-02  8.61007497e-02\n  5.59158204e-03 -4.46313880e-02 -7.44350720e-03  2.31439229e-02\n  8.35339129e-02  6.73109442e-02 -5.15727028e-02  2.06482727e-02\n -4.85736644e-03  2.05763932e-02 -6.12548105e-02 -6.53203216e-08\n -1.36122694e-02  4.89430353e-02 -7.74802342e-02 -1.86582562e-02\n  2.84831934e-02  1.66340191e-02  7.74925649e-02 -3.86744225e-03\n -3.61370668e-02 -1.18022086e-02  9.56942514e-03  6.79223761e-02\n  3.70876156e-02  3.90378796e-02 -2.32962724e-02  1.42939417e-02\n  1.10871857e-02  3.10990158e-02 -6.97041750e-02 -3.47302966e-02\n -9.88820493e-02 -1.22792344e-03 -4.91157770e-02  9.63728875e-02\n -3.65014039e-02  2.97715198e-02 -4.87453341e-02 -6.09619729e-03\n  1.06910720e-01  6.06772453e-02  2.00469103e-02  1.47907846e-02\n  3.02386936e-02 -7.31592178e-02  5.34385256e-02 -1.44227529e-02\n  4.59377691e-02  1.57053173e-02  4.54528816e-02  6.45718724e-02\n  5.00294007e-02 -6.25215992e-02 -4.70569246e-02  3.33261266e-02\n  7.30251893e-02 -9.16920602e-03 -1.14734970e-01 -3.36850770e-02\n  2.30621151e-03 -1.46116205e-02 -1.52564785e-02  9.97705199e-03\n -3.88883241e-02  2.22301483e-02  7.45503232e-02  3.32139619e-02\n -2.09806045e-03 -1.02798551e-01  1.04092117e-02 -1.93774737e-02\n  7.56620914e-02  2.85917800e-02 -1.13166571e-01 -2.80736629e-02]",
         null,
         null,
         "2025-08-13 20:11:44.768736+00:00",
         "0.4867592",
         "N:\\PPDO\\Records\\37xx   Oakes College\\3701\\3701\\F - Bid Documents and Contract Award\\F5 - Drawings and Specifications\\General\\File 3701 G 01.TIF"
        ],
        [
         "57",
         "551334",
         "367888",
         "2025-08-13 11:45:20.555142",
         "2025-08-13 02:36:59.896922",
         "37xx   Oakes College/3701/3701/G - Construction/G15 - Change Orders and Contract Amendments",
         "3701.G15.ChangeOrder29-R.pdf",
         "ec3475efdd7cf33592a1194445cf414c8b790c2d",
         "SANTA CRUZ: OFFICE... Z NERD ARE Campus Facilities December 11, 1975 hor AS 1. F. L,-PACKL s 2. ELIZABETH A. rahe approval 3. CHARLES R. KAHRS, for distribution Re: College 7 (Oakes College) Residential Enclosed is Change Order No. 29-R to the contract for the project in caption. This Change Order consists of 3 items as follows: 1. Adds sheet metal flashing and waterproofing at stairs adjacent to Building S-6, S-8 and S-9. Provides additional leak protection. 2. Revises site work. Required for anticipated construction of gift and commons building. 3. Deletes both metal railings and provides wood framed guardwalls at stair landing adjacent to roof deck of Building S-3, and extends the wood framed guardrail at north side of Building S-3 roof deck. Reduces tripping hazard and provides positive waterproofing. This change deducts a total of $12,149.00 from the contract price. The contraEURt time i tended 17 calendar days. Approval is recommended. Enclosure \\ cc: Change Order Report File UNIVERSITY OF CALIFORNIA-(Letterhead for Interdepartmental Use) Mit) Laing wandteral ae) fheadteiel UNIVERSITY OF CALIFORN' =\" ae) ; Office of Architects & Engine -rs Santa Cruz Campus Project No. 7-376270 CHANGE ORDER Date 22 Movember 1975 OrderNo. 29-2 ___Name of Project _GOlleya 7 (Oakes Collece) Residential Location. UCEC To the Contractor, _Wiiiians & Burrowa, Inc. $00 Harbor Blwd., Belmont, Califernia 94602 Address: You are hereby instructed that the contract in caption is modified as herein specifically set forth, but that in all other respects the contract remains unaltered. KR. Add sheet metal flashing and waterpreofing at stairs adjacent to Building 5-EUR, 8-8 and 8-9 per drawings P.Q. 22-1 and P.O. 22-2, revised on 26 September 1975, enclosed herewith. Fifteen days time extensien is granted for the above work. ADD $1,213.68 Ref: W6eS Proposed Change A-61, dated 19 November 1975. B. Revise site work per drawings P.O. 24-1 through P.G. 24-9 dated i4 Octeber 1974, enclosed herewith. Deliver to the University as directed4firchased materials which are part of deleted work. He tine extension is granted for the ahove change. DEDLCT ($14,368.60) Ref: W&8 Proposed Change A-65, dated 11 November 1975. c. Relete both wetal railings and provide wood framed quardwalis at ataiy' landing aGjacent to reof deck of Bldg. 8-3. Guardwall con~- struction,finish, and trim shall match adjoining walls. At noftth side of Bhd << S~3 reof deck, extend the wood framed quardwell easterly te 146\" beyond the east side of the Comfort Module, Reduce the width of the metal railing correspondingly. fwo days time extension is granted for the ahove work. ee ADB __ $946 .06- Ref: WEB Proposed A-73, dated 18 Hovamber 1975. MAO Me = Twelve Thousand One Hundred Forty Hine Y=9-DeDUCT: vas 15 Si ghiai Dollars Gr2 2249 + 00), te arch As a result of this ge, the contract completion date___~\"\"__ extended from i 2 to at % (is, is not) (date per contract or per last C.0.) = HeCue Boone Tomsick \"(date per.this C.O.) Bb . . Architect us 33IT OWS Aid) Approved: THE REGENTS OF LG7C/g70- INI E UNIVERSITY OF -GRILORNIA Qiopec-1 oe eo a ; Accepted: (CONTRACTO Na 7 , 2 . For Accounting Office CAMPUS FILE COPY 1m sets-9,'68 (J3487s2)3947-N-40 mM orev ou 198 bC/B) 9018-Yo-10 % CyWbNe LITE CObA EOL yeconuwa OuIce AesSy wae 7 4.2 as yece Bq: o Su $ yoxrona* feat WASDEC-1 A oF e 3 sb vbbioacq: IHE KEGEMI2 >tHE AVIAEKBILA OFDb CUTLOBMIV ' WiCHIESCE MCI goons Foe (2 42 way) . Igeye ber comstac ot ber joey co) 2 7 Ses Srl | Sexjsugqeg {Loud Pa ED ae F cn BONS Oar - ee le a ere eng bs a a sore Geovesvlg eye WaUgLeq ROTEA ATs 5 ; fo f= 2 3% | BGG: BeR BROboRe\" y-32' qY=oeT Te WOA-wpEeR_y2\\2deg su 4 ead ashevices 'expsteyou Ts axsveeq yon Fie vpoAS dee oO 3 pe cde fpe Agicp cy cue megey xeTTpH4d Gotes sheuc Re e6tTh PS0 Tro, Pebeurg cee Ceer Bre oc FE -Bogaye* SFIS OE HPqG* -3 Seog: gC/ek* enteug spe aoog qcaeeeAastgpsy7 epimoryonEquTep* sq EEpY tyr] weeep sgjeyuTHa asyye\" Y=F Losey Lk SPckhpONtTe wyjeatse pO Roee geex Os BTYA* E-32* Geetgesyy cep~ oO &* peers popp wegey ReyyFuaw ous Srcayqe Meow Loewed dassaesyye ve a. Sec; des Beohosug cyunde y.gz* cerey IF ee fest & : sf a *g HO PS7 Sureueyor Te Gnuegey [or age 0. a pes Greece: faey NEEL STS APTe) LAKE OG Jepuses 'a TC/ ae Tag suc roney, pyRcarr* DET TAR ce ee GvyaeRezEL we i, Bt Beayee eree Moy Soy qtenyoeS AS\" q+T eprom 70deg Sena baaa i Beg? Mty Probes, coyrde yey\" 303 Bi uecomees. SF Fat ; EyRRCer rhe Fiae expeyuTan yo engugeg. gor 'gpa seaike i PEAT SOT OF Se nebpowper Tale\" eveTesmy reteny Fy * : BATTS HS Ee' 2-g eq e~-9 Semi qnempite 5deg) s3-y eR BO\" S5-3\" Ydeg yee Soaer wersr {Tespyed wg asgenbeao jes se BruyKe& seeada? FO Osh nezbscia {US cousLacy Lewayu2 nuaisLeq' Aon ate peLep) Weapincisg yap ye coupacy 1 cabyiou f2 Woogie oz peLew ebseiycayjA 26} {OL PME spay i ayy Vide Sah feepen byAq'' wermaur' ceyygenerye afoos lows Cobnaco ~Soeryaes g Erenone* gue (ORO ete So ge a2 Otger Vo\" yee -- yous opbole- hoy rele | \\ (ornee Copiecs)F 7 - DU SY Waewper \"Taye Seuge clas cawbne prolecyMer = 55 yECPHSC oo i ' ILA OF CWFILOBUE vi + , : ZEDUANT C/ ree. 7 \\yo a8! hin Lae. /\\ id 7 ALSO erve ee = : OL Ge 7 a ie -<-_? = ' a -o ! ee Fadl cole wre vo | gl | C ou aves '. 'i . Be eS FLAN lei aes r (6.5.08 FLASH. = - -~ 032\" ALun. Flat* C/} of. Mer oe cone wpe' ' 5 vee on) aed OO Oe De ene 112 ret ioe nr oe Gaas See So , pe A oO 7 - ce | ne Vaid one. File L | - 4 te : ~<Peten OF SANG Le i a. 9h they ie Leste ie tre eng so WA Ae See hepatoioe: BLEW. ION oh bol oteeelow \"tn Eh Acad per et. Cle, 2-4 se Ot Slaw \"oS PRICE PEQUEET No. C/22, Fa-2 ore i _ReviveD reser 76\" idk Ez: 126775| ican j Uc ucwe coueee 7 6S! CLAY STREET SAN FRANCISCO Sail e ee | UT.:= oe BB eo ge ai rlaNaga = by Hovis I} Nive GOSISNVES NvS 155019 Avo ee as ls \"a as a. SSISWIOL SNODS Sn2>u1 z 30 wl [aces 13 alka al 3 Y=f; alana Bor i ae % << ee e laa6 IL eae Z 'lad a0 'ON esos 2012 - \"Norn 'sgovaxne-oNo? Y [Lae lala Ged | Levinas eg Bre =Gan aitacl Gale /E ee FEAa AZ erhze FeN VY bNltaWd 27 sealayceat ee ; code i waLLnis 22, \"INE? ell+7 Nad ONAL : a | gat / ee ae WF ya Lb i] nee, zap \\ ann j lbpixaw\"d f- Lamy do Lyoeld SE v nN! polleed alHbee , ano oa | , Le allel | yy ran Hizlon de anmkyl anita Noles ciple -1-} deg deel vid Jnire oy | @) | , a aa , eins ae Waar WILLIAMS & BURROWS, Inc. i ETT a cant TI Ss Pa Lar s General Contractors a mi ners iE 2c am AN EQUAL OPPORTUNITY EMPLOYER i Ls SOQ HARGOR BOULEVARD* TELEPHONE 5893-8411 * BELMGNT, CALIFORNIA 94002 November 19, 1975 McCue Boone Tomsick 631 Clay Street San Francisco, CA. Attn: Mr. Robert we. Yee Re: Our Job 1314, University of California - College No. 7, Santa Cruz, CA. Subj: Proposed Change A-61, Sheetmetal flashing and water proofing of stairs at s-6, 8 and 9 per Price Request No. 22. Dear Bob, Tne following proposal lists additional costs incured in stair revisions as outlined in your Price Request #22, Although we will not accept responsi- bility for its waterproofing capabilities, we feeel it is as zood a solution (c) available at this time. The original cuestion, that of waterproofing the low- er apartments adjacent to stair 5-6, 8 and 9, was raised the 3rd of July. Your first solution, An 8$ X 11 drawing dated 7/22/75, Gid not entirely fit the field condition. Several alternatives were discussed since that time and our quotation had been delayed due to the confusion and misintercretation of draw- ings P.Q.22-1 and 22-2. by our sheetmetal contractor. Architectural Sheet Metal (incl. markup)...scecccecceccece ss POS e853 BeHe Morrill (5% on Base)eccccccccccccecsccccceccesccesseses 30085 Williams & Burrows, Inc. (10% on subd base)eccevcccccsscese 77073 Labor, Ecuipment and Burden.....cccscccccccrcsecccccccccees 200.00 15 3 markup on OWN Workecccececsceccacs coc escceccsecses 30.09 , . $1,201.41 1% Bond 12,01 Total Add This Change . $1,213.00 Altnough approximately 4 months have elapsed since any progress has been accomplished in this area, we are asking for a 15 day time extension. Please \"include the above figures in your next formal change order. We will proceed upon your authorization. . ) very truly yours rans & Burrows, /e . ert W. Billock ce/JWK: Project Superintendent Belmont . | . Job Files: A-61 Chuck Kahrs G OOSIONVHA NYS LSSaLS AVIS IES pedQSISWOLSNO8Sno! yiomalisJoN@Weta ! aaoN Pa) 4s 9 09 d ONiAvdLVRSy2s12C/ > medsol7|2aAad7 ONAve!2ls2Norus120 =pity rESte j se aS |e :aTS eden | ol Naas GOS ra AS) Lingdio albynipyal ye Liao | 1) alot| aypows2 dolar 7\" OY Areal? ayNinda, | c~ oS: EXST.. GATE VALVE. , SACKFLON Pee=VENTER. - e & Fire WREVANcoos fk _ L. \\ ' ; ral REMOVE. S-BUCKNER SLT |. ES OF PIPE XX vereree Oe DHETe MaUrPLYPIPE , | a te . AS 4 / ote ae _ pRB. Rearoane pathid7 paceZ ee ow meeN cer -- ~~, - 631 CLAY STREET SAN FRANCISCO Sait Prerepamay bf y Ma: f 9 = \\ i ; y x' e % [ SEMOVE TO-ARCTOSTAPHYLOS | Uvi-URSI i esau. SAO ey pony 'REMOVE |O SEQLOIASegre Bs 9-5 GAR. ee\"<6 sed (acm @ i) Dc G-TREES5 REMAN iN CONTRACT i \"fo BE pelecapeR [Pas 3 [COLLEGE 7 peli SEA ACAI 2h McCUE BOONE TOMSICK ED CLAY STREET SAN ERANGISCS dll a i DELETION CF STE WORK ane \"Asizin aie so Naat ilvG ODSIONVUA NUS 1Sgu1S AVID Ics, BOISE: slilelei=! Spas] B40 WA et inaot Ea =aig?D . aaa l on 274007 | saarpue 2 GwaNwd 32 rind C/anger\"mab ves 'aaivdaeld | Shay Erne ld @ GH) im ozdo ds ob; alaraa (c) @ +nied aBHA PY fare' 0% 'onan alavaa D) Zo rie) << ; ge ONG? a FE, a = mg Ze aaa x.Mets Sis TSE&et Huon \"Homes pee | DART peTec(ied 2 MOLYt Topevil IN PAYER AREA PARTIAL PLANTING PLAS>> 15 25-0 bl CoWLeee 1.7 re, \"4e8l = : >> McSUE BOONE TOMSICK Y= PUAHTING a GS! CLAY STREET SAN FRANCISCO Sail E ey ~ ~,4 * C= a os - ae on: lara an w.a8 ae ae te | z U | r I; f fy | \", rai vs \\ * } ' 'y ' q \\ { {>be ) I t f-- =] &, \\ ' \\ \\. Leone J PRT eet a. # & ee Gan RGR TONG jisgoi. _, ine wr a sae Se wet eczeccannie, * ao vem aed \"L) BO DE LEFE AW. HEADS \"AHO LATERAL PIRI oN HOTEMS C-10, CN 6 C1L- 2.) MW VAWE4 To REMAIN, onnTe AO(ACENT- R.Presale Wort PREMER. AT SOTA 41D 4e WADE 2 : | Zaelry H 7 rz - ro , kbs Wa wz 7 MCCUE BOONE TOMSICK _ --- _ 63! CLAY STREET SAN FRANCISCO Bail eZ oNN F IRRICRUN 28or ~ nN Lo pMPKITHEART HR Fe Tilo RREM 406 even \"WORK UAND SUTURE sere a ee ae . f et - 2 3 4 ' y e REWCATE oe AND postL708Rew = Raa Rreniiae ress x eprimalyprapate yet te taney fE= =tRUNE ana aT rife = } = w= EI - 18Lauber No 7 rz 'teas =e Kobe i40cr78 |Zz a8 VicCUE BOONE TOIVISICK 63! CLAY STREET SAN FRANCIS\"NOD cat 3 KEMGNMERT oe Pec Lsyour \" iPS OUSIGNVYS NUS 13guLS AVIS IES HOISWIOL aNOOE anol Tag ar eae 2deg80zeal atiaeHl ail ag - L-ae 2000 | joe ey! ; | | i oA | e . . . N i x (r) Got 1A hx pera ge aanlnd cS. wor! laiyY=a nm Hay ol \"ABA -DNiAWd \"9'Y MAf i. > A Senn) 240.4 >>} \\ RN _ QWa-naz ainal ew onda ya aaalZar sy bpulaixa eRQ . N . . Stes no WILLIAMS & BURROWS, Inc. eee HyTthhl tile re -t HS,he Gencral Contractors PS AN EQUAL OPPORTUNITY EMPLOYER SOG HARBOR BOULEVARD*(r) TELEPHONE 593-8411 * BELMONT, CALIFORNIA 94002 November 11, 1975 McCue Boone Tomsick 631 Clay Street San Francisco, CA. Attn: Mr. Robert W. Yee Re: Our Job 1314, University of California - College No. 7, Santa Cruz CA, Subj: Proposed Cnange A-65, Deletion of Turf Block Area and changes in roads and benches per Price Request Ho. 24 . 10/7175C/ Gentlemen: Reference is made to your Price Request No. 24, including drawings P.Q. 241 thru 24-9 and dated 10/7/75. The following credit proposal represents deletion of the turf block area, revisions to benches & lighting, deletion of Ampnitneatre steps, celetion of paving & bencnes from tne Amphitheatre to Unit 5-12 and landscaping revisions in the general area, all in accordance Wito your request. All excess materials to be transported to storaze areas by University personnel. Williams & Burrows, Inc. Labor,Material & Equipment....... coccsceccccccceve( Sil, 79 00) Relco BLectrical.cccccrcccccccccccccascce vsvvesvesscees Ted Figg Co. 1. Labor, Material & Equipment......ccseeccccccceceese $1,639.20) - 2. Labor, Material & Equipment..cccrccccvccccccccevccel 930.00) Total Credit Tnis Change _ ($14, 308.00) This proposal includes all applicable credits in connection with Price Request #24 with tne following exceptions. 1. Roadway bench material nas already been purchased and the 125LF now in 'excess will be stored for the Universitty's future use. 2. Ampritheatre step material (6 X 8's and 1\" I.D. X 2' galv. pipe only) was also purchased and will be left for the University's use 3. Bench lighting materials and fixtures will likewise be left for the University. Itemized breakdowns with unit costs are attached for your reference. .~ There will be no time extensions required to accomplish this revision and we request that you give this proposal your hignest priority in consideration of project completion schedules. Please indicate acceptance or disapproval by phone upon reaching your decision so that we may place or cancell orders, = at the earliest possible moment. . very truly yours Froject Superintendent cc/JWK: Belmont Job Files: A-65 SOE DAL) SNL VATA, TOL | eed iP abIS Z = Te A TZ Tez I a : \"/{0 - a 7IY GY | Y vededh 2:7] Di Ean BLELT/| | AY? ATFHINS = Mel = CO? ahh | al-- = PAY ANAL TS #- BOC =| -[4q 08 || Pyy7s To fe oe 22s sA| wr PF od Mey AI pred iD soit | -|- - |= JAE [8 See | pee ae [70 Be 2A Ko ed My) OF 29 ak of OF PVE (y) ave - [37 | - | A | SO PRI Wiord SS TD LPVOT seat | oe Ares |wiak We A- @) EBry | BLK el a |e [S| AL Se || Pe Pr PL |Z CTT A ee PD PPI SE PYF ze) (sie | 6hS | eZ VT) ach lal] es] Ie SS SPP - Joh YAa D (FIlNgwss J | 09*| oF |33] 99271|| Sy 942/20 - fh DF J | D3 c4VO| Al sel sq sae [led Fra- 80h Pr\" - Vales /. , - Ohe|-| IS| 299] had WFPC 022 \"P) rar | LVESIV C/ | Ol eal] e [4 438 REPOa tro fe seb ESE FIAT, D \\SL'|92\"| 1) STD HYP= OFZ PD | T TVLOL [WRrea 1007 | 74H | woav7| wine7LLmYRCEYT) nn TVLOL WILI ON GNVd9 1809 TvioL | PS809 LINN | = PHYWLLST 40 WALI GILVNILSI SFLILNVND NOILdIYISIO 31V0 FLVMIYSA LSOD \"40 3WYN - ON gor LI3HS Fy EPPO IbAVGD 'TED FIGG CO/CPANY ~ LANDSCAPING AND SPRINKLER SYSTEMS TELEPHONE (408) 272-1270 : | 935 NORTH KING ROAD STATE OF CALIFORNIA CONTRACTORS oy SAN JOSE, CALIFORNIA 95133 PROPOSAL AND CONTRACT Date 1i/10/75 19 Name \\ilLiems & Burrows, Inc. ; Address 500 Herbor Boulevard, Belmont, California 94,002 Job Address UCSS - College #7 The undersigned agrees to furnish and proviae necessary labor, materials, tools. implements, and appliances to do, perform and complete in a good workmanlike manner the following: Price Recuest #24: Site work' revisions PG 2L-3: 1. Delete 1 ouick coupler, 35LF of 1\" main (Labor 'and Materiel) Credit ($ 75.00) 2. Remove 5 Buckner 3LT, 118' of 1\" pipe at( \" no) Credit ($ 250.00) 3. Can line n/e iL. Provide extre control wire for future velve:160 LF at $0.88 per foot. Add $ 140.80 PG 25-7: L. Delete all heade and leteral piving on systems c-16,c-11,c-12 for s totel jof 50 heads (ineludes Lebor, pipe, fittings, ete. ) at $30.00 vbr head. Credit ($ 1500.00) 2. Velves to 'remein - Locete adjecent to pressure vac.breaker at scuth side' of walk: Lebor only to change Tie-end. ,, Add _ 1.5.00 ic All the above work to be completed for the/sum o end 20/100thsieee Dollars<<ab 39.20 CREDIT _) Any alterations or deviation from the above, involving extra cost of material or labor, will be executed only on written orders for same and wil] become an extra charge over the sum mentioned above. All agreements must be in writing. seen , a ae In the event that it becomes necessary to institute suit or to employ an attorney to ollect any payment or payments due the under- signed for labor or materials furnished under this agreement or any modification thereof, then you shall be liable to the undersigned for court costs and attorney's fees; said attorney's fees shall be in an amount equal to one-third of the amount for which recavery is prayed. : oe ad Terms of payment shalt be as follows: This proposal is void if not accepted within days. . . Respectfully submitted, E., ACCEPTANCE You are hereby authorized to furnish all materials and labor required to complete the work mentioned in the above proposal for which_________agree to pay the amount mentioned in said proposal and in accordance with the terms thereof. _ ACCEPTED AND AUTHORIZED BY | Signed A . Date 19 Signed OAR a OEE et hee ot oe - \"Date 19 Signed H \"TED FIGG COK-PANY ~ LANDSCAPING AND SPRINKLER SYSTEMS TELEPHONE (408) 272-1270 . . 935 NORTH KING ROAD STATE OF CALIFORNIA CONTRACTORS ~, os, SAN JOSE, CALIFORNIA 95133 , LICENSE NO. 255950 ' PROPOSAL AND CONTRACT Date__11/10/75 19 Name _Jitiizms & Burrows, Inc. Address 2(c)O Harbor Zouleverc, Belmont, California 94007 ee Job Address UCSC - College #7 oe te The undersigned agrees to furnish and provide necessary. Jabor, materials, tools. implements, and appliances to do, perform and complete in a good workmanlike manner the following: Price recuest #24: Site work ,revisions PG..2h-h: 1..Delete 70 Arctostaphylos UviUrsi at $2.00 ea. (Labor & Materisl)Credit (C/ 110.00 a 2. Remove 5 $$-gel. Sequoia Sempervirens C/ $55.00 ea.\" Credit ($ 275.00 \"\"ah-s - > Remove 5 5 gal. \" EUR $17.00 Fa.\" \" Credit (C/ 84.00 3. 6 trees to remain in'contract ~ to be relocated n/e PQ 25-6: 1. Delete all lawn shown on this sheet: Seed $4.2,00, Hand lebor $50.00, 7 Mulch $88.00 Credit ($ 18.00 ; 2. Delete topsoil in Paver area (on-site topsoil - lebor/amend. to . w- places ~* ~ Credit (C/ 250.00 cr All the above work to be completed for the keecpct. Net Credit: NMine-hundred Thirty end no/LOOths #### Dollars ($922,00 Credit Any alterations or deviation from the above, involving extra cost of material or labor, will be executed only on written orders for same and will become an extra charge over the sum mentioned above. a . All agreements must be in writing. oe . 3 - ewe In the event that it becomes necessary to institute suit or to employ an attorney to collect any payment or payments due the under- signed for labor or materials furnished under this agreement or any modification thereof, then you shall be liable to the undersigned for court costs and attorney's fees; said attorney's fees shall be in an amount equal to one-third of the amount for which recavery is prayed. ) Terms of payment shall be as follows: This proposal 'is void if not accepted within. days. ; . Respectfully submitted, | By BG WY ACCEPTANCE | , You are hereby authorized to furnish all materials and labor required to complete the work mentioned in the above proposal for which. agree to pay the amount mentioned in said proposal and in accordance with the terms thereof. ACCEPTED AND AUTHORIZED BY Signed 4 1 -< pst ity, 4 og Se ES: WILLIAMS & BURROWS, Ine. General Contractors - ath eam y AN EQUAL OPPORTUNITY EMPLOYER SOG HARBOR BOULEVARD* TELEPHONE 593-8411 * BELMONT, CALIFORNIA 94002 November 18, 1975 McCue Boone Tonsick 631 Clay Street San Frai:c:sco, CA. Attn: iir. Robert W. Yee Re: Our Job 1314, University of California - College Nos 7, Santa Cruz, CA. -Subj: Proposed Chanze A~73, Add Wood Handrails at 5-3 walicing deck in lieu metal handrails. Gentlenen: Reference is made to jourlast jobsite visit during which you had instr- ucted us to install additional paranet nandrail walls on Unit 3-3. Tae fol- lowing charzes represent additional work involved. Tnere will.be no credit for metal handrails tnat nave been deleted, since tnese materials 12d already been fabricated and sent to the job. Metal handrails will be left on the jobsite for use by tne University. Two 4+ ft. sections were added on tie south Side at the top of the stairs and one 8 ft. section added on tne nortan side. Willians & Burrows, Ine. LADOL. <<cer ccccccccccccccccsscceccccece Material Eouipment Labor Burden at 6. 95% SBeoeeeeerseeeeeosneseaeeeeees 1 154 overhead: and Profit. eoevneeecoeoesvcece 1% Bond Total Add This Change eececeses $326.25 262.25 72025 153-33 $814.03 eoooeeoeeooece 122.11 930.19 B $946.00 We have proceeded with this work at your direction and will becuire a- two day time extension for job delay. Please include this amount in your next formal Chanze Order. ec/IWK: Belmont Job Files: A-73 very truly yours - Biilocs Projzct Superintendent a a PS15 Sat ne >) | \" _Chavar Onde na Q-73 } | JOB NO. (af: NAME SHEET __OF __ COST Estimate | DATE _ | DESCRIPTION. _ |IQUANTITIES ESTIMATED a Te] OF \" esrimand - | unit cost [TOTAL COST | GRAND ! ke) ITEM TOTAL OMIT Lagoa neare| covie LAGOR | MATL | EQUIP (2 Boney TOTAL if |Zee poll Gsm (se [ree |.50| 1 | Zot! a28i 92 Z2\\Ply &\" -_ |eY=e BF | 301 gol 5 | 932 | ope |e | is Stucke Le [sr asia is opel seize || FL) Mvele beness GY | &2)321 72 | a2| lee | yee | S| G4)\" Leone Trim | en Ce ee Of 16=|1l22 1 @ GLI Py be l2ee le lige ioe] oY . 9 | Seyregt Z lyr!Fak WA | LYS a 1S | Y=S*| a 15= co a a , | , ZEEE, 4A | | Aas. laacher! | | He. GS\" x% WEEE /SS323 | | _t | ; ee ce | . Pt Bui = OEP iw Yi tot es es ee : en eee an [| | #6? Sewell / \" woode. | Ge i | Tote! AVA his| led ti HEB | | | | __! | Pf ee MOSES rede LY _ | _ : A hay Foc Zafdenly _| | | |_| i [4 | | | _ | [| __| | | 7 4 | i | = IM | | a. C 21L November 1975 Office of Campus Facilities UCSC-7 University of California 6813 AR/OWN Santa Cruz, California Attention: Chuck Kahrs Dear Chuck: Enclosed is Change Order No. 29-R for your review and approval. Item A is for waterproofing the junction between the stair foundation wall and the wall at Building S-6, S-8 and S-9. The in-place construction presents great difficulty in providing waterproofing without incurring extraordinary expense in re- constructing part of the work. We have attempted a number of solutions. The proposed change appears to be most positive under the circumstances. We recommend your acceptance of the change. Item B is for the deletion of some site work to accomodate the construction of the Student Tutorial and Commons Building. The work deleted represents the minimum required for proper interphasing of the projects and to provide access and construc- tion areas for the new building. The work presently deleted will be furnished as part of the Commons Building contract. We recommend your acceptance of the change. Item C is for revision of railing at the roof deck of Building S-3. The solid walls at the stair landing are required to permit thickening of concrete slab at the landing. The thickened slab is required to avoid tripping hazard due to the difference in elevations. The extension of the wall at the north side of the deck is necessary to provide positive waterproofing of the construction between the deck and the Comfort Module roof. We recommend your acceptance of the changes. Sincerely, Robert W. Yee RWY : dm CC: H. Raymond, Inspector ROBERT W. YEE, Architect, Professional Documents Group 631 CLAY STREET SAN FRANCISCO 94111 (415) 434-0300 CAMPUS FACILITIES OFFICE Nov 24 9 uo Ay 15 UNiVveN. i SALIP,",
         "all-MiniLM-L6-v2",
         "[-3.64315137e-02  5.74768856e-02  4.84184548e-02 -8.22335389e-03\n  5.51833138e-02 -6.60844939e-03 -6.75103739e-02  4.11210470e-02\n  1.03329066e-02  6.14605844e-02  3.19277756e-02 -1.20352451e-02\n  1.30174812e-02  4.73238043e-02 -3.04715429e-03 -1.64444838e-02\n  2.06809584e-02 -4.90228347e-02  2.80947518e-02  1.78317335e-02\n  3.17593329e-02 -3.11077219e-02 -8.70310515e-02 -1.40746012e-02\n  1.21550001e-02 -4.98648249e-02 -7.01020751e-03  4.08084318e-02\n -1.87325086e-02 -1.04630277e-01 -1.16235539e-02  5.43836057e-02\n -4.41999920e-02 -3.26628722e-02  7.44907632e-02 -7.25422129e-02\n  2.50348412e-02 -1.95331015e-02 -3.06818318e-02  4.94544022e-02\n -3.58464904e-02  5.74588291e-02  3.77053507e-02  1.05692901e-01\n -8.77494141e-02  3.17408890e-02 -5.55309169e-02 -2.48931982e-02\n  6.43110424e-02  2.74786651e-02 -1.15696574e-02 -4.33938904e-03\n -3.59799229e-02  7.60007277e-02 -9.40485969e-02  5.50523177e-02\n  3.41143683e-02 -5.26185855e-02 -4.52915952e-02 -4.58167773e-03\n  2.09111553e-02  3.92170101e-02 -5.70537858e-02  3.32950987e-03\n  1.97928771e-02  5.59995621e-02 -1.03928767e-01 -3.33509408e-04\n  3.57623994e-02  1.04672179e-01  4.02515307e-02 -1.09600816e-02\n  3.12126148e-02 -1.71375051e-02  5.56157827e-02  1.83797367e-02\n  4.65450957e-02  8.63934755e-02  7.48440549e-02 -1.85309604e-01\n -6.21325336e-02  2.17324588e-02 -4.70673107e-02 -6.38693050e-02\n  2.35183127e-02 -2.98777539e-02 -1.24525679e-02  8.64984766e-02\n  2.50016693e-02  4.41497602e-02  1.20760113e-01 -3.64529006e-02\n -3.75035815e-02 -1.07677346e-02 -3.55204493e-02  3.73858144e-03\n -7.20499903e-02 -7.20611680e-03  1.33848581e-02  3.16922218e-02\n -8.47398117e-03  8.07158947e-02  4.44129854e-02 -6.99690264e-03\n -4.97291647e-02 -4.00641412e-02 -1.96657944e-02  6.31494597e-02\n  9.13789496e-03  7.46921822e-02 -5.61965397e-03 -4.30044830e-02\n  1.11134965e-02 -6.52065724e-02 -1.03537567e-01  9.35927182e-02\n -1.74492865e-03 -2.20795553e-02  2.54709423e-02 -5.71971536e-02\n  1.15339309e-01  8.03467333e-02  6.80016167e-03  7.23337382e-03\n -8.69352072e-02 -1.21659257e-01  1.17214303e-03  6.34120207e-33\n  1.09591763e-02  3.92763168e-02 -4.24682498e-02  2.57938392e-02\n  3.03431507e-02 -8.06326196e-02 -5.05300704e-03  4.55322908e-03\n -4.09615226e-02  8.06541219e-02 -6.20221393e-03 -4.82602306e-02\n -2.94520594e-02 -4.54626828e-02  7.48065710e-02 -3.73559818e-02\n  2.36080103e-02 -1.32696973e-02 -5.18773384e-02  7.43205771e-02\n  1.91410743e-02 -4.68223579e-02 -3.53695862e-02 -1.19335540e-02\n -5.92339691e-03  2.42771022e-02 -7.92692509e-03  3.75600606e-02\n -3.02508492e-02  5.81898307e-03  5.00620119e-02  1.76721206e-03\n  2.42885184e-02  6.45263568e-02  8.04818571e-02  2.53680581e-03\n  7.92424083e-02 -8.87784138e-02  9.28750820e-03 -8.36591944e-02\n  2.35140580e-03  4.29810919e-02  9.22514871e-02  2.52460595e-02\n  7.03543648e-02 -6.48745894e-02  8.50791559e-02  7.32143596e-03\n  3.84325869e-02 -3.39781716e-02 -3.01219877e-02  4.33819517e-02\n -3.82669643e-02  1.02160908e-02 -3.14067416e-02 -4.93417904e-02\n -2.41174307e-02  5.02586253e-02  1.66856106e-02 -3.08374111e-02\n  5.32785356e-02  1.28215039e-02 -2.12890953e-02  4.00564782e-02\n  3.12408363e-03 -1.09076314e-02 -6.60045072e-02 -1.13421995e-02\n  6.13385253e-02 -8.73936638e-02 -7.16607720e-02 -1.10155223e-02\n  5.34510761e-02  1.20726358e-02 -5.38876913e-02  1.85468048e-02\n -2.52697486e-02 -3.72862741e-02  6.16184473e-02 -5.87130524e-03\n -6.73849732e-02 -4.04587481e-03 -2.52674110e-02  3.52186896e-02\n  5.76749668e-02 -2.37546265e-02  1.11304440e-01  1.07578963e-01\n -3.81709263e-02  2.70260032e-02  7.11825341e-02  1.96789261e-02\n  2.01102197e-02  3.77989188e-02  4.97580059e-02 -6.62741584e-33\n -7.29228929e-03 -4.84162942e-02  3.34655233e-02 -2.02816576e-02\n  4.12968453e-03  1.24150012e-02 -6.28902286e-04 -2.54152878e-03\n  7.01989001e-03 -4.94871289e-02 -8.58324952e-03  5.57323806e-02\n  3.22234184e-02 -8.51700976e-02  2.74517722e-02  7.32315145e-03\n  4.32917029e-02 -7.00527476e-03 -1.92263592e-02  7.44003896e-03\n  7.78577328e-02  1.07269429e-01 -1.81334857e-02  1.61478557e-02\n  5.70857804e-03  1.35663070e-03  4.99055125e-02  6.32407665e-02\n -3.60816531e-02  2.44501475e-02 -4.54373285e-03  1.69255808e-02\n -1.22921273e-01  5.38485125e-02 -6.25294447e-02 -7.70618170e-02\n  4.47536930e-02  1.63700804e-02 -6.51605800e-02  1.29508050e-02\n  1.00603208e-01  1.41717056e-02  3.54426950e-02  5.54634742e-02\n  3.77598666e-02 -2.67504659e-02 -6.22636378e-02 -5.92680424e-02\n  4.90791500e-02  8.52341112e-03 -7.46828392e-02 -9.29800719e-02\n -3.60511709e-03 -6.06179871e-02  6.13390170e-02 -7.05174124e-03\n  2.96542998e-02 -4.98280488e-02 -2.75710542e-02  1.04098869e-02\n  1.02609836e-01  1.23099670e-01 -1.67843122e-02 -6.84133619e-02\n -3.55121633e-03  2.79161101e-03 -5.34785502e-02 -1.60722751e-02\n -1.98345836e-02 -1.31636532e-02 -1.55650303e-02  3.06196939e-02\n -2.83192340e-02 -1.10581666e-01  7.03254715e-03 -5.14538698e-02\n  1.18013903e-01  4.96444888e-02 -4.97392938e-02 -1.99199542e-02\n -6.82556778e-02  1.13925822e-02 -4.22634818e-02  5.69447465e-02\n  3.98167782e-02 -4.54276279e-02 -2.63109412e-02  3.26886028e-02\n  6.29700869e-02  3.58465798e-02 -6.50584027e-02  7.60599505e-03\n  8.22378974e-03 -1.40902214e-02 -8.80820528e-02 -6.32132782e-08\n -1.26477815e-02  2.63967272e-02 -4.50057983e-02 -2.84485519e-02\n -1.33855566e-02 -2.54229922e-02  4.16637808e-02 -2.18694732e-02\n -6.47265464e-02 -1.17536597e-02  9.24873278e-02 -9.76475794e-03\n -1.62136648e-02 -2.43408307e-02 -9.61046219e-02  6.89309370e-03\n -4.26480509e-02  3.08395084e-02 -7.74033666e-02 -1.32521749e-01\n -3.16471495e-02 -5.28857931e-02  1.98276769e-02  9.40500796e-02\n -7.79505000e-02  5.34872450e-02  2.83430796e-02  2.25462415e-03\n  7.06911907e-02  6.09398121e-03 -2.24787742e-02 -2.54588667e-05\n  5.04069142e-02  1.28880600e-02  2.92676445e-02 -4.13824655e-02\n -5.30674383e-02  6.44373298e-02  1.06740251e-01  6.54713586e-02\n -7.27148587e-03 -7.69206285e-02 -9.29823816e-02  3.62056382e-02\n  5.03714569e-03 -5.49317454e-04 -1.56279460e-01 -3.40492348e-03\n -4.18710820e-02 -9.11864452e-03  1.08683808e-02 -2.72579119e-02\n -8.16869810e-02  4.00185734e-02  6.62214532e-02  2.40503848e-02\n  2.45494191e-02 -5.22124469e-02 -8.59172177e-03 -4.01342176e-02\n  3.06651182e-02 -9.81348529e-02 -4.53503840e-02  2.11119317e-02]",
         null,
         null,
         "2025-08-14 01:13:12.941121+00:00",
         "0.54270005",
         "N:\\PPDO\\Records\\37xx   Oakes College\\3701\\3701\\G - Construction\\G15 - Change Orders and Contract Amendments\\3701.G15.ChangeOrder29-R.pdf"
        ],
        [
         "128",
         "551131",
         "98747",
         "2025-08-13 11:45:16.752591",
         "2025-08-13 02:35:19.696366",
         "37xx   Oakes College/3701/3701/F - Bid Documents and Contract Award/F5 - Drawings and Specifications/Architectural",
         "File 3701 A 04.TIF",
         "0725473c34468f39793d99687a412ec3ffc6ea10",
         "\"ta dadkl Cul ad WILNaCigae HAN ead wad 184 NISC Bane Hy BAe Parurd 'ALON UNIVERBITY OF CALIFORNIA SANTA CRUZ COLLEGE 7 PROJECT NO. 4-0-Gcoses-o MeCUE BOONE TOMSBICK ARCHITECTS EUR37 CLAY STREET, @AN FRANCIBCO, CALIF. 80111: (418) 424-0200 FORSLL - ELWESSER STAUCTURAL ENGIVEERe BO GREEN GTREET, SAN FRANCIGCO, GALIF. 94111. 397-278m KAGIN - GUTTMAN ond ASSOCIATES MECHANICAL ENGINEERS 604 HOWARD STREET, SAN FRANCISCO, CALIF, 84105- 988-095e BEAMER - WILKINSON ELECTRICAL ENGINEERS 978 SANTA CLARA AVE. OAKLAND, CALIF. 4870 - 834-4177 ROYSTON - HANAMOTO- BECK: ABEY LANDSCAPE ARCHITECTS BO GREEN STREET, SAN FRANCISCO, CALIF, 84111- 397-0594",
         "all-MiniLM-L6-v2",
         "[-6.60260245e-02  9.85566434e-03  4.46760375e-03  3.48428823e-02\n -4.55625728e-02 -5.91814183e-02 -5.43450788e-02  1.50506236e-02\n -1.26285842e-02 -4.85638939e-02 -4.29316498e-02  2.49507371e-02\n  2.43610125e-02 -4.01520282e-02 -5.31502105e-02  6.46805242e-02\n -2.60187294e-02 -3.19588594e-02 -2.54361946e-02 -6.10023411e-03\n  6.33901954e-02 -6.78795017e-03 -6.64336458e-02 -5.36002629e-02\n  2.38228906e-02  1.51971607e-02 -3.76894772e-02  3.05470359e-02\n -5.72885061e-03 -6.69635013e-02  1.34681305e-03  4.29617465e-02\n -2.41255332e-02 -1.49207469e-02  2.23281421e-02  1.70635898e-02\n -1.12389475e-02 -8.19386262e-03 -2.25255955e-02 -1.63991600e-02\n -4.09107888e-03  5.66631593e-02  3.81273478e-02  4.95935231e-02\n -3.19541357e-02 -2.58580409e-02  1.63406394e-02 -1.19064331e-01\n -4.11106413e-03  4.66217240e-03 -3.20203863e-02  1.05040045e-02\n  5.12802415e-02  6.76118955e-02  6.62154146e-03  6.53597265e-02\n  2.37346552e-02 -6.19508326e-03  4.95980345e-02 -2.04092241e-03\n  6.84627742e-02 -2.03647986e-02 -3.75203975e-02 -2.00465694e-02\n -4.40899143e-03  2.56172568e-02 -3.13074328e-02  1.60475597e-02\n -1.06249889e-02 -6.87261671e-02  3.35260332e-02 -4.43919487e-02\n  3.58325914e-02  3.77835636e-03  8.69323313e-02  3.88296600e-03\n  5.55234104e-02  3.17313559e-02 -9.29490477e-03  1.72274262e-02\n -3.05352490e-02 -1.14400974e-02 -6.12097234e-02  2.43195724e-02\n  8.09261762e-03  7.02014118e-02 -1.96290873e-02  3.11458092e-02\n  4.43631224e-02 -3.16755869e-03  2.14985125e-02  1.43268267e-02\n -1.01633430e-01  2.67071873e-02 -3.38262646e-03 -3.46862674e-02\n -6.83911145e-02 -3.19742113e-02 -9.89554226e-02  4.76607382e-02\n -6.40903935e-02 -1.19956033e-02  3.26780677e-02  2.10966226e-02\n -1.50356084e-01  1.54181232e-03 -4.65666503e-02  1.36467934e-01\n -4.06077392e-02 -6.53368160e-02  8.09481740e-02 -1.22041593e-03\n -3.29610147e-02  4.82874177e-03 -4.85236235e-02 -6.78804964e-02\n -4.01414409e-02 -9.67833865e-03  3.34934294e-02  1.92543883e-02\n  7.38128275e-02  4.23246659e-02  1.83151010e-03  3.93481404e-02\n -6.81962371e-02 -5.15108779e-02 -4.11609225e-02  1.79415468e-32\n -3.29970494e-02  7.37973526e-02  1.94597859e-02  5.13507519e-03\n  6.47353604e-02 -5.71304783e-02 -9.89695825e-03  1.01162590e-01\n  4.91706543e-02 -3.23430225e-02  1.28241971e-01  3.96102630e-02\n  5.20862527e-02 -5.22255599e-02  6.94127232e-02 -7.01436698e-02\n  1.73332170e-02 -4.68087681e-02 -8.36539790e-02  4.48323786e-02\n  1.09762531e-02 -4.32197414e-02  7.77621055e-03 -1.83820371e-02\n -4.11254168e-02  2.04044464e-03  5.57923093e-02 -1.12326164e-03\n -7.34977201e-02  3.87832746e-02  3.12886238e-02  4.23243456e-02\n  4.11470868e-02  8.71137008e-02  5.24317175e-02  5.34596480e-03\n  3.46629880e-02 -8.02288875e-02 -6.64741993e-02 -4.56567779e-02\n -1.45083060e-02  6.00168901e-03  3.09051331e-02  1.00954100e-01\n  8.93848836e-02 -4.83258404e-02  3.72837447e-02  4.68618684e-02\n  1.39686674e-01  3.45477760e-02 -5.35158776e-02  3.48683596e-02\n -1.69609878e-02  1.19150085e-02  1.58583850e-01  9.58699209e-04\n -1.49322872e-03 -1.14375493e-02  1.57458056e-02 -4.19862196e-02\n -8.23789090e-02  4.51228060e-02  3.40367714e-03 -7.25090317e-03\n -6.22421168e-02 -4.19468284e-02 -4.73278165e-02  1.38783199e-03\n -2.16656551e-02 -3.95265855e-02 -3.28532644e-02 -6.23455830e-02\n  4.41463180e-02  6.43583015e-02 -1.87084898e-02 -1.86032651e-03\n -4.38411422e-02  7.99867362e-02  4.34650779e-02  1.64528154e-02\n -8.26358795e-02  2.66263578e-02  7.57997856e-03 -8.44187066e-02\n  6.93304390e-02 -2.91809090e-03  6.71727806e-02  4.07293737e-02\n -6.49506375e-02  1.10892737e-02  2.22906657e-02  3.97550240e-02\n  2.90337615e-02  2.01219395e-02 -4.66546305e-02 -1.66580362e-32\n -4.10475507e-02  5.28328819e-03 -2.78433226e-02 -1.02215428e-02\n  1.18930347e-01  9.27223265e-03 -1.00370497e-02 -5.60616627e-02\n  5.79390042e-02 -5.60034253e-02 -2.00864393e-02 -7.44282221e-03\n -3.79064381e-02  2.23046057e-02  1.84252933e-02  5.45663871e-02\n  1.69342309e-02 -5.62319644e-02 -1.21338524e-01 -3.05832550e-02\n  1.53237864e-01  9.88146961e-02 -1.03916578e-01  1.73684359e-02\n -4.55076322e-02  2.84180068e-03  3.40553336e-02  1.44611876e-02\n -2.90032495e-02  6.86798692e-02 -1.17305309e-01 -1.06684435e-02\n -6.39919341e-02  1.26708388e-01 -9.70357955e-02  7.50209689e-02\n  7.32124150e-02  7.94653520e-02 -3.47792953e-02 -4.68790084e-02\n  4.41215038e-02  2.36748010e-02  4.51229252e-02  1.68658067e-02\n -1.04795724e-01 -6.37670159e-02 -3.27967643e-03 -3.69156823e-02\n -3.81369404e-02  6.69877604e-02 -2.02546883e-02  4.43386286e-02\n  2.69255936e-02  8.22213988e-05  3.07528898e-02 -7.99993202e-02\n  8.97056013e-02 -4.85941917e-02 -2.62663160e-02 -3.24936323e-02\n  6.08608313e-02  4.74047512e-02  1.13808967e-01  4.21340838e-02\n  2.80595683e-02 -6.94530085e-02 -4.65961546e-03 -4.69018333e-02\n -7.74328560e-02  5.94997592e-03 -1.62714180e-02  2.85123996e-02\n -2.77828034e-02 -5.83402030e-02  1.16310166e-02 -5.14455587e-02\n  7.15340897e-02  3.56720015e-02 -5.13660125e-02  2.54062582e-02\n  1.77436485e-03  4.87275049e-02 -4.76017743e-02  4.21403311e-02\n  1.02949105e-02 -2.31336039e-02 -9.43037122e-02 -8.73308536e-03\n  8.53295773e-02  5.59849627e-02  2.49089301e-02  5.05424961e-02\n  6.28592223e-02 -7.09344894e-02  5.10466227e-04 -8.44414743e-08\n -7.80386701e-02  1.11558540e-02 -9.40662697e-02 -7.44320303e-02\n  2.85144541e-02  1.27631994e-02  1.03970454e-03  1.71604417e-02\n -8.60192850e-02 -9.12626982e-02  3.32508162e-02 -3.28554548e-02\n  2.70980466e-02  6.51194714e-03  8.22313968e-03 -5.12986816e-02\n -1.56488027e-02  5.51003357e-03 -5.30671403e-02 -3.97337554e-03\n -3.02673597e-02 -2.26710308e-02  7.15674758e-02  6.31364062e-02\n -7.95604289e-02  3.41100506e-02 -1.80875268e-02 -4.78908420e-02\n -7.28884060e-03  3.80994417e-02 -1.24608025e-01  2.80810427e-03\n  4.57224064e-02 -6.87863380e-02  6.02134578e-02  5.52635379e-02\n -6.82485029e-02 -1.92181300e-02 -4.55666706e-02  4.17921245e-02\n  6.17043255e-03 -2.37816405e-02  4.73442534e-03  7.81963691e-02\n  8.39993134e-02  2.10660566e-02 -5.97183742e-02 -2.05653161e-02\n  5.90829886e-02  4.66532186e-02 -1.29927266e-02 -9.43703130e-02\n -3.48468609e-02 -6.03990592e-02  2.94906000e-04  6.73047155e-02\n  9.55633633e-03 -8.53037611e-02  1.42542478e-02 -2.16846112e-02\n  3.31721380e-02  2.64517348e-02 -4.57232744e-02  3.24247219e-02]",
         null,
         null,
         "2025-08-13 04:05:20.308410+00:00",
         "0.5645377",
         "N:\\PPDO\\Records\\37xx   Oakes College\\3701\\3701\\F - Bid Documents and Contract Award\\F5 - Drawings and Specifications\\Architectural\\File 3701 A 04.TIF"
        ],
        [
         "150",
         "551154",
         "98770",
         "2025-08-13 11:45:17.082676",
         "2025-08-13 02:35:29.275225",
         "37xx   Oakes College/3701/3701/F - Bid Documents and Contract Award/F5 - Drawings and Specifications/Architectural",
         "File 3701 A 32.TIF",
         "03f151c601de85fb76997ffd9240dda674aa5dea",
         "\"Sines 187 Beara \"Sinvlsisey\" iNsTRuepieNAL SERVICES AUDID: BETRIBVA Ago RATOR pe Aton wikisin wire | 2L Sanit Ny Scval ony. OF aH BN tl BOONE TOMSICK ARCHITECTS FA 4 go z c (c) ee j gave orm u 2 IF CALIFORNIA Ca cLAY STREET, BAN FRANCIECD, CALIF. 94771- 415) 434-0300 3 FH he 4 e uo & FORELL - ELscassn STRUCTURAL ENGNEEAB 2 8 Lr ii 80 GREEN STHEET, SAN FRANCISCD, CALIF. S411. 387-2768 = 3 Rea in R Pa Go KASIN - GUTTMAN and ASGOUIATES MECHANICAL ENGINEERS g SH 5 Pd m . 584 HOWARO STREET, SAN FRANCISCO, CALIF, 84108- Sa2-0988 Ly YU ies @EAMER - WILKINSON ELECTRICAL ENGINEERS Pac ra 978 GANTA CLARA AVE. DAKLAND, CALIF. 984810-+ 834-4177 age RoveTOn Hawawere- BECK AREY. LANDScame anctaTeura PROJECT NO. 4-58-coees-0 BO GREEN STREET, SAN FRANCISCO, CALIF. 8a71t- se7-0584",
         "all-MiniLM-L6-v2",
         "[-9.25900787e-02  4.12826762e-02 -2.75584422e-02  1.08979298e-02\n -8.31227228e-02 -3.74086984e-02 -4.73244078e-02  9.45948735e-02\n -5.09755826e-03  3.39224492e-03 -3.45661119e-02 -4.13220190e-02\n  9.39725433e-03 -1.42491860e-02 -5.50883748e-02 -6.46895822e-03\n -5.77102527e-02 -2.49381028e-02 -6.96766675e-02  4.94216233e-02\n  1.04097858e-01  1.04953283e-02 -7.87050873e-02 -7.09414482e-02\n  4.90231533e-03  3.22829969e-02 -5.39769866e-02  4.31075878e-02\n  7.72547210e-03 -9.77953300e-02 -3.26735829e-03  1.07218049e-01\n -3.49435061e-02 -3.19348872e-02  2.46696975e-02  8.69695991e-02\n -1.37497298e-02 -3.56734581e-02 -3.49433161e-02  3.37352902e-02\n -3.91923860e-02  5.57685681e-02  3.91191468e-02 -8.76390561e-03\n -8.92186165e-02 -3.95268854e-03  1.78096781e-03 -7.33273774e-02\n  4.47411723e-02 -5.02708927e-02 -5.06108962e-02  4.27893661e-02\n -2.10925657e-03  2.54761782e-02 -4.43276241e-02  2.53105606e-03\n  1.47854313e-02 -2.73508355e-02  5.69633506e-02 -4.61515300e-02\n  1.13903657e-01  9.78589710e-03 -4.51784283e-02 -1.79853458e-02\n  3.29087935e-02 -1.39649604e-02 -4.80699465e-02 -6.24269657e-02\n -3.76180075e-02 -7.82687366e-02 -4.53486759e-03 -4.87981699e-02\n  3.65260653e-02  2.78221071e-02  4.49975803e-02 -1.20548252e-02\n  5.69280162e-02  6.75688162e-02  4.18736674e-02 -1.29609406e-01\n -1.00144939e-02  3.86135280e-02  7.45290949e-04  6.62508681e-02\n -7.49399280e-03  7.22988471e-02 -2.76103746e-02  2.31773276e-02\n  6.23921305e-02 -5.89542557e-03  8.44974071e-02  4.80330586e-02\n -1.14020325e-01  2.36980319e-02  4.45033535e-02 -3.00723761e-02\n -5.82694821e-02 -3.02628949e-02 -7.06642494e-02  3.03846076e-02\n  1.65519156e-02 -2.15294845e-02 -2.86192466e-02  9.04008560e-03\n -9.00127962e-02 -1.08366627e-02 -8.48892890e-03  7.55780041e-02\n -1.30619993e-02 -2.57419124e-02  2.36240085e-02  1.32277748e-02\n -2.87625678e-02 -2.35234331e-02 -5.19758314e-02 -3.94962355e-02\n -6.69960901e-02 -4.45022732e-02  3.33026908e-02 -2.94262823e-02\n  5.12823910e-02  3.37487250e-03  1.44325825e-03  5.09121120e-02\n -4.03468236e-02 -1.23005144e-01  1.38187697e-02  2.11030741e-32\n -3.09098009e-02  3.88197638e-02 -1.95907876e-02 -4.88245822e-02\n  7.80397207e-02 -8.98635387e-02 -2.90457997e-02  1.00490645e-01\n  4.35925312e-02 -2.88711861e-03 -1.18152769e-02  6.23915531e-03\n -3.35499831e-02 -2.41564065e-02  5.09606265e-02 -2.32692193e-02\n  2.75975838e-02 -1.16933152e-01 -1.40170276e-01 -2.28475779e-02\n  2.34098136e-02 -6.93059713e-02  6.45048618e-02  1.27349198e-02\n  1.54780392e-02 -3.54173034e-02  3.67556624e-02 -1.72336288e-02\n -1.14814974e-01  5.46070710e-02  1.30262114e-02 -1.47427211e-03\n  1.91345531e-02  9.84739810e-02  2.19660662e-02 -3.99084687e-02\n  1.55548453e-02 -5.13886698e-02 -9.62020531e-02 -8.99483170e-03\n  3.98070589e-02  2.44529266e-02  5.82956634e-02  7.77796283e-02\n  4.41252515e-02  4.18034708e-03  6.94309622e-02  3.06708477e-02\n  1.21020176e-01  8.50626379e-02 -1.87111385e-02  7.23681897e-02\n -9.46830120e-03  1.16391731e-02  6.00587837e-02  1.04544926e-02\n -9.76453256e-03 -1.15744090e-02 -1.58088021e-02 -2.36765333e-02\n -9.77751985e-02  5.94329312e-02  1.45910811e-02 -1.50359841e-02\n -8.58285353e-02 -1.16824743e-03 -1.92266125e-02  4.69870120e-02\n  3.13030630e-02 -6.46203980e-02 -4.99682538e-02 -8.80453140e-02\n  9.39857066e-02  6.03599697e-02 -3.55793014e-02  4.46302891e-02\n -3.33988704e-02  5.77269979e-02  7.87889399e-03  2.30274238e-02\n -7.34801143e-02  7.17796013e-02  5.40902652e-03 -5.91545664e-02\n  4.16862331e-02 -1.20779434e-02  1.88924953e-01 -3.83085683e-02\n -2.08313596e-02  2.12914180e-02 -3.57527994e-02 -5.27703343e-03\n  3.22197899e-02 -2.10663360e-02  1.09357666e-03 -1.98123255e-32\n -2.77817231e-02  3.46697792e-02 -4.10645865e-02 -4.04209159e-02\n  1.21836914e-02 -3.52459513e-02  2.70299800e-02 -2.49093492e-03\n  5.32855652e-02 -3.25822979e-02  2.67061200e-02  4.60684784e-02\n  9.47296433e-03 -2.14613676e-02  5.68264648e-02  5.63801676e-02\n -6.57562120e-03 -8.31897482e-02 -1.17769919e-01 -3.19376700e-02\n  1.88864246e-02  8.58574733e-02 -1.17237471e-01 -4.01217723e-03\n  3.87751264e-03  5.41575737e-02  1.11418171e-02  1.70475096e-02\n -3.82484309e-02  1.75543968e-02 -4.76411954e-02 -1.29959527e-02\n -9.27249044e-02  1.26617789e-01 -7.77724683e-02 -1.89178735e-02\n  1.49277836e-01  3.08896750e-02 -8.94472748e-02 -3.19234543e-02\n  8.70207101e-02  3.04758381e-02  6.19759448e-02 -6.53657736e-03\n -9.35989916e-02 -2.95955371e-02  1.72258150e-02 -6.18460216e-02\n -5.96211217e-02  2.88097057e-02  1.00486159e-01  3.10075060e-02\n  5.45451827e-02  4.35944349e-02  3.06214578e-02 -4.61011864e-02\n  5.55330887e-02  2.15155398e-03 -7.20723942e-02 -3.34066935e-02\n  1.07255772e-01  1.95573494e-02  3.62416133e-02  6.65677246e-03\n  9.33820233e-02 -2.94897314e-02 -1.88414324e-02 -7.13277683e-02\n -1.41725549e-02  4.88880835e-02 -6.08818978e-02  1.73889119e-02\n -2.08481066e-02 -6.45244941e-02  2.28324216e-02 -2.99317986e-02\n  5.49478456e-02 -2.44590230e-02 -5.29513322e-02  1.36412615e-02\n -2.07761638e-02  8.75837263e-03 -1.51846940e-02  4.94518578e-02\n  5.09564020e-02 -3.14072706e-02 -5.04150912e-02  2.23763157e-02\n  7.63161555e-02  4.68548574e-02  5.36939222e-03  1.85411014e-02\n  2.99977437e-02  1.30405193e-02  9.73071845e-04 -8.32158875e-08\n -4.44105975e-02  2.90496405e-02 -9.53901038e-02 -4.63228896e-02\n  1.31162787e-02 -6.67931959e-02  4.55160737e-02 -1.30878482e-03\n -4.54906076e-02 -4.28349935e-02 -4.59906878e-04  5.58471959e-03\n  1.46338036e-02  1.71933454e-02 -6.66835997e-03 -4.66984771e-02\n -2.81271003e-02  2.12129001e-02 -4.71129827e-02 -4.31753285e-02\n  7.22216293e-02 -4.70804386e-02  2.68939808e-02  6.94535300e-02\n -4.49826308e-02 -1.33488197e-02 -4.94175591e-02 -7.51490071e-02\n  1.46397613e-02  8.06438252e-02 -8.79209712e-02  1.43222427e-02\n  6.70053065e-02 -2.71631088e-02  3.87903862e-02  2.33783945e-02\n -3.41642760e-02  2.02281354e-03 -2.03117505e-02  4.23180796e-02\n  5.08192703e-02 -1.36401616e-02 -3.59224924e-03  6.44838735e-02\n  9.51661021e-02 -1.16739497e-02 -6.76570684e-02 -1.18502798e-02\n  1.08571425e-01  3.49705033e-02 -4.80302311e-02  2.16827057e-02\n  9.55798756e-03  1.11378990e-02  4.36817948e-03 -9.57350247e-03\n -1.64915342e-02 -4.14119214e-02 -2.99337208e-02 -6.62915315e-03\n -8.78147839e-04  2.38200068e-03 -2.92596016e-02 -6.75283223e-02]",
         null,
         null,
         "2025-08-13 04:08:43.392656+00:00",
         "0.5771016",
         "N:\\PPDO\\Records\\37xx   Oakes College\\3701\\3701\\F - Bid Documents and Contract Award\\F5 - Drawings and Specifications\\Architectural\\File 3701 A 32.TIF"
        ]
       ],
       "shape": {
        "columns": 15,
        "rows": 5
       }
      },
      "text/html": [
       "<div>\n",
       "<style scoped>\n",
       "    .dataframe tbody tr th:only-of-type {\n",
       "        vertical-align: middle;\n",
       "    }\n",
       "\n",
       "    .dataframe tbody tr th {\n",
       "        vertical-align: top;\n",
       "    }\n",
       "\n",
       "    .dataframe thead th {\n",
       "        text-align: right;\n",
       "    }\n",
       "</style>\n",
       "<table border=\"1\" class=\"dataframe\">\n",
       "  <thead>\n",
       "    <tr style=\"text-align: right;\">\n",
       "      <th></th>\n",
       "      <th>id</th>\n",
       "      <th>file_id</th>\n",
       "      <th>existence_confirmed</th>\n",
       "      <th>hash_confirmed</th>\n",
       "      <th>file_server_directories</th>\n",
       "      <th>filename</th>\n",
       "      <th>file_hash</th>\n",
       "      <th>source_text</th>\n",
       "      <th>minilm_model</th>\n",
       "      <th>minilm_emb</th>\n",
       "      <th>mpnet_model</th>\n",
       "      <th>mpnet_emb</th>\n",
       "      <th>updated_at</th>\n",
       "      <th>similarity</th>\n",
       "      <th>local_filepath</th>\n",
       "    </tr>\n",
       "  </thead>\n",
       "  <tbody>\n",
       "    <tr>\n",
       "      <th>140</th>\n",
       "      <td>551144</td>\n",
       "      <td>98760</td>\n",
       "      <td>2025-08-13 11:45:16.917310</td>\n",
       "      <td>2025-08-13 02:35:25.201997</td>\n",
       "      <td>37xx   Oakes College/3701/3701/F - Bid Documen...</td>\n",
       "      <td>File 3701 A 16.TIF</td>\n",
       "      <td>dea44581835cc932cd40209ee8322aed95b45946</td>\n",
       "      <td>STAIR e. THIRD FLOOR | SECOND FLOOR ' STAIR *8...</td>\n",
       "      <td>all-MiniLM-L6-v2</td>\n",
       "      <td>[-0.06646472, -0.021325612, 0.005512745, -0.00...</td>\n",
       "      <td>None</td>\n",
       "      <td>None</td>\n",
       "      <td>2025-08-13 04:07:36.111721+00:00</td>\n",
       "      <td>0.448826</td>\n",
       "      <td>N:\\PPDO\\Records\\37xx   Oakes College\\3701\\3701...</td>\n",
       "    </tr>\n",
       "    <tr>\n",
       "      <th>189</th>\n",
       "      <td>551225</td>\n",
       "      <td>367836</td>\n",
       "      <td>2025-08-13 11:45:06.872326</td>\n",
       "      <td>2025-08-13 02:36:00.557249</td>\n",
       "      <td>37xx   Oakes College/3701/3701/F - Bid Documen...</td>\n",
       "      <td>File 3701 G 01.TIF</td>\n",
       "      <td>b077e1c4e83f332a8711ba033ad2a060c960dc3d</td>\n",
       "      <td>UNIVERSITY OF CALIFORNIA COLLEGE 7 PROJECT NO....</td>\n",
       "      <td>all-MiniLM-L6-v2</td>\n",
       "      <td>[-0.040841658, 0.012339933, 0.02262754, 0.0080...</td>\n",
       "      <td>None</td>\n",
       "      <td>None</td>\n",
       "      <td>2025-08-13 20:11:44.768736+00:00</td>\n",
       "      <td>0.486759</td>\n",
       "      <td>N:\\PPDO\\Records\\37xx   Oakes College\\3701\\3701...</td>\n",
       "    </tr>\n",
       "    <tr>\n",
       "      <th>57</th>\n",
       "      <td>551334</td>\n",
       "      <td>367888</td>\n",
       "      <td>2025-08-13 11:45:20.555142</td>\n",
       "      <td>2025-08-13 02:36:59.896922</td>\n",
       "      <td>37xx   Oakes College/3701/3701/G - Constructio...</td>\n",
       "      <td>3701.G15.ChangeOrder29-R.pdf</td>\n",
       "      <td>ec3475efdd7cf33592a1194445cf414c8b790c2d</td>\n",
       "      <td>SANTA CRUZ: OFFICE... Z NERD ARE Campus Facili...</td>\n",
       "      <td>all-MiniLM-L6-v2</td>\n",
       "      <td>[-0.036431514, 0.057476886, 0.048418455, -0.00...</td>\n",
       "      <td>None</td>\n",
       "      <td>None</td>\n",
       "      <td>2025-08-14 01:13:12.941121+00:00</td>\n",
       "      <td>0.542700</td>\n",
       "      <td>N:\\PPDO\\Records\\37xx   Oakes College\\3701\\3701...</td>\n",
       "    </tr>\n",
       "    <tr>\n",
       "      <th>128</th>\n",
       "      <td>551131</td>\n",
       "      <td>98747</td>\n",
       "      <td>2025-08-13 11:45:16.752591</td>\n",
       "      <td>2025-08-13 02:35:19.696366</td>\n",
       "      <td>37xx   Oakes College/3701/3701/F - Bid Documen...</td>\n",
       "      <td>File 3701 A 04.TIF</td>\n",
       "      <td>0725473c34468f39793d99687a412ec3ffc6ea10</td>\n",
       "      <td>\"ta dadkl Cul ad WILNaCigae HAN ead wad 184 NI...</td>\n",
       "      <td>all-MiniLM-L6-v2</td>\n",
       "      <td>[-0.066026025, 0.009855664, 0.0044676038, 0.03...</td>\n",
       "      <td>None</td>\n",
       "      <td>None</td>\n",
       "      <td>2025-08-13 04:05:20.308410+00:00</td>\n",
       "      <td>0.564538</td>\n",
       "      <td>N:\\PPDO\\Records\\37xx   Oakes College\\3701\\3701...</td>\n",
       "    </tr>\n",
       "    <tr>\n",
       "      <th>150</th>\n",
       "      <td>551154</td>\n",
       "      <td>98770</td>\n",
       "      <td>2025-08-13 11:45:17.082676</td>\n",
       "      <td>2025-08-13 02:35:29.275225</td>\n",
       "      <td>37xx   Oakes College/3701/3701/F - Bid Documen...</td>\n",
       "      <td>File 3701 A 32.TIF</td>\n",
       "      <td>03f151c601de85fb76997ffd9240dda674aa5dea</td>\n",
       "      <td>\"Sines 187 Beara \"Sinvlsisey\" iNsTRuepieNAL SE...</td>\n",
       "      <td>all-MiniLM-L6-v2</td>\n",
       "      <td>[-0.09259008, 0.041282676, -0.027558442, 0.010...</td>\n",
       "      <td>None</td>\n",
       "      <td>None</td>\n",
       "      <td>2025-08-13 04:08:43.392656+00:00</td>\n",
       "      <td>0.577102</td>\n",
       "      <td>N:\\PPDO\\Records\\37xx   Oakes College\\3701\\3701...</td>\n",
       "    </tr>\n",
       "  </tbody>\n",
       "</table>\n",
       "</div>"
      ],
      "text/plain": [
       "         id  ...                                     local_filepath\n",
       "140  551144  ...  N:\\PPDO\\Records\\37xx   Oakes College\\3701\\3701...\n",
       "189  551225  ...  N:\\PPDO\\Records\\37xx   Oakes College\\3701\\3701...\n",
       "57   551334  ...  N:\\PPDO\\Records\\37xx   Oakes College\\3701\\3701...\n",
       "128  551131  ...  N:\\PPDO\\Records\\37xx   Oakes College\\3701\\3701...\n",
       "150  551154  ...  N:\\PPDO\\Records\\37xx   Oakes College\\3701\\3701...\n",
       "\n",
       "[5 rows x 15 columns]"
      ]
     },
     "execution_count": 9,
     "metadata": {},
     "output_type": "execute_result"
    }
   ],
   "source": [
    "from sqlalchemy.orm import Session\n",
    "from sqlalchemy import or_\n",
    "import pandas as pd\n",
    "import numpy as np\n",
    "from db import get_db_engine\n",
    "from db.models import FileLocation, File, FileEmbedding\n",
    "from text_extraction.pdf_extraction import PDFTextExtractor\n",
    "from embedding.minilm import MiniLMEmbedder\n",
    "from utils import extract_server_dirs, build_file_path\n",
    "server_mount = r\"N:\\PPDO\\Records\"\n",
    "target_filepath = r\"N:\\PPDO\\Records\\16xx   Cowell College\\1639\\1639\\F - Bid Documents and Contract Award\\F5 - Drawings and Specifications\\Rebid Specs\\Record Specs\\05510 Precast Concrete Tread Metal Stairs.pdf\"\n",
    "target_location = r\"N:\\PPDO\\Records\\37xx   Oakes College\\3701\\3701\"\n",
    "\n",
    "\n",
    "pdf_extractor = PDFTextExtractor()\n",
    "embedder = MiniLMEmbedder()\n",
    "\n",
    "text = pdf_extractor(target_filepath)\n",
    "embeddings = embedder.encode(text)\n",
    "target_loc_dirs = extract_server_dirs(full_path=target_location, base_mount=server_mount)\n",
    "engine = get_db_engine()\n",
    "\n",
    "target_sim_distance = lambda file_embeds: 1 - np.dot(file_embeds, embeddings)\n",
    "build_local_path = lambda row: build_file_path(base_mount=server_mount, server_dir=row['file_server_directories'], filename=row['filename'])\n",
    "\n",
    "with Session(engine) as db_session:\n",
    "    files_located_in_dir = or_(\n",
    "        FileLocation.file_server_directories == target_loc_dirs,\n",
    "        FileLocation.file_server_directories.startswith(target_loc_dirs + '/')\n",
    "    )\n",
    "\n",
    "    query = db_session.query(FileLocation, FileEmbedding)\\\n",
    "        .join(File, FileLocation.file)\\\n",
    "        .join(FileEmbedding, File.hash == FileEmbedding.file_hash)\\\n",
    "        .filter(files_located_in_dir)\n",
    "    \n",
    "    # query into dataframe\n",
    "    df = pd.read_sql(query.statement, db_session.bind)\n",
    "    df['similarity'] = df['minilm_emb'].apply(target_sim_distance)\n",
    "    df = df.sort_values(by='similarity', ascending=True)\n",
    "\n",
    "    # Add local file path\n",
    "    df['local_filepath'] = df.apply(build_local_path, axis=1)\n",
    "\n",
    "df.head()\n",
    "\n",
    "\n"
   ]
  }
 ],
 "metadata": {
  "kernelspec": {
   "display_name": ".venv",
   "language": "python",
   "name": "python3"
  },
  "language_info": {
   "codemirror_mode": {
    "name": "ipython",
    "version": 3
   },
   "file_extension": ".py",
   "mimetype": "text/x-python",
   "name": "python",
   "nbconvert_exporter": "python",
   "pygments_lexer": "ipython3",
   "version": "3.13.6"
  }
 },
 "nbformat": 4,
 "nbformat_minor": 5
}
