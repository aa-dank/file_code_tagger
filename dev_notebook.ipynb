{
 "cells": [
  {
   "cell_type": "code",
   "execution_count": null,
   "id": "29a846fb",
   "metadata": {},
   "outputs": [],
   "source": [
    "import os\n",
    "from db_models import FilingTag, FileLocation, File\n",
    "from sqlalchemy import create_engine, func\n",
    "from sqlalchemy.orm import sessionmaker\n",
    "import pandas as pd\n",
    "import matplotlib.pyplot as plt\n",
    "import seaborn as sns\n",
    "\n",
    "def get_db_engine():\n",
    "    \"\"\"Create and return a SQLAlchemy engine for the project database.\"\"\"\n",
    "    conn_string = (\n",
    "        f\"postgresql+psycopg://{os.getenv('PROJECT_DB_USERNAME')}:{os.getenv('PROJECT_DB_PASSWORD')}\"\n",
    "        f\"@{os.getenv('PROJECT_DB_HOST')}:{os.getenv('PROJECT_DB_PORT')}/{os.getenv('PROJECT_DB_NAME')}\"\n",
    "    )\n",
    "    return create_engine(conn_string)\n",
    "\n",
    "# Configure your database session\n",
    "engine = get_db_engine()\n",
    "Session = sessionmaker(bind=engine)\n",
    "session = Session()\n",
    "\n",
    "def file_tag_file_locations(filing_tag):\n",
    "    \"\"\"\n",
    "    Find all FileLocation entries where file_server_directories contains the filing tag label.\n",
    "    \n",
    "    Args:\n",
    "        filing_tag (FilingTag): The filing tag object to search for\n",
    "    \n",
    "    Returns:\n",
    "        list: FileLocation entries matching the criteria\n",
    "    \"\"\"\n",
    "    search_pattern = f\"{filing_tag.label} - \"\n",
    "    \n",
    "    # Query for FileLocation entries where file_server_directories contains the pattern\n",
    "    locations = session.query(FileLocation).filter(\n",
    "        FileLocation.file_server_directories.like(f\"%{search_pattern}%\")\n",
    "    ).all()\n",
    "    \n",
    "    return locations\n",
    "\n",
    "# Get all filing tags\n",
    "all_filing_tags = session.query(FilingTag).all()\n",
    "\n",
    "# Create a list to store results\n",
    "results = []\n",
    "\n",
    "# Iterate through all filing tags\n",
    "for tag in all_filing_tags:\n",
    "    # Get matching file locations\n",
    "    locations = file_tag_file_locations(tag)\n",
    "    count = len(locations)\n",
    "    \n",
    "    # Add to results\n",
    "    results.append({\n",
    "        'tag': tag.label,\n",
    "        'description': tag.description,\n",
    "        'file_locations_count': count\n",
    "    })\n",
    "\n",
    "# Convert to DataFrame for better visualization\n",
    "df_results = pd.DataFrame(results)\n",
    "\n",
    "# Sort by count in descending order\n",
    "df_results = df_results.sort_values('file_locations_count', ascending=False)\n",
    "\n",
    "# Display summary statistics\n",
    "print(f\"Found {len(df_results)} filing tags with {df_results['file_locations_count'].sum()} total file locations\")\n",
    "\n",
    "# Display top tags by location count\n",
    "display(df_results.head(20))\n",
    "\n",
    "# Visualize the top 15 tags by file location count\n",
    "plt.figure(figsize=(12, 8))\n",
    "top_tags = df_results.head(15)\n",
    "sns.barplot(x='file_locations_count', y='tag', data=top_tags)\n",
    "plt.title('Top 15 Filing Tags by File Location Count')\n",
    "plt.xlabel('Number of File Locations')\n",
    "plt.ylabel('Filing Tag')\n",
    "plt.tight_layout()\n",
    "plt.show()"
   ]
  },
  {
   "cell_type": "code",
   "execution_count": null,
   "id": "a06eea05",
   "metadata": {},
   "outputs": [],
   "source": [
    "# create spreadsheet from df_results\n",
    "df_results.to_csv('filing_tags_file_locations_summary.csv', index=False)"
   ]
  },
  {
   "cell_type": "code",
   "execution_count": null,
   "id": "ad9fc8dd",
   "metadata": {},
   "outputs": [],
   "source": [
    "import os\n",
    "import psycopg\n",
    "from dotenv import load_dotenv\n",
    "\n",
    "# Load environment variables from .env file\n",
    "load_dotenv()\n",
    "\n",
    "# Retrieve database credentials from environment variables\n",
    "DB_NAME = os.getenv(\"DB_NAME\")\n",
    "DB_USER = os.getenv(\"DB_USER\")\n",
    "DB_PASSWORD = os.getenv(\"DB_PASSWORD\")\n",
    "DB_HOST = os.getenv(\"DB_HOST\")\n",
    "\n",
    "# Establish a connection to the database\n",
    "conn = psycopg.connect(\n",
    "    dbname=DB_NAME,\n",
    "    user=DB_USER,\n",
    "    password=DB_PASSWORD,\n",
    "    host=DB_HOST\n",
    ")\n",
    "\n",
    "# Create a cursor to execute SQL commands\n",
    "cur = conn.cursor()\n",
    "\n",
    "# SQL statements to create tables\n",
    "sql_commands = [\n",
    "    \"\"\"\n",
    "    CREATE TABLE prototype_runs (\n",
    "      run_id SERIAL PRIMARY KEY,\n",
    "      model_name TEXT NOT NULL,\n",
    "      model_version TEXT NOT NULL,\n",
    "      algorithm TEXT NOT NULL,\n",
    "      hyperparams JSONB,\n",
    "      tag_filter TEXT,\n",
    "      created_at TIMESTAMPTZ DEFAULT now()\n",
    "    );\n",
    "    \"\"\",\n",
    "    \"\"\"\n",
    "    CREATE TABLE prototype_members (\n",
    "      run_id INTEGER REFERENCES prototype_runs(run_id) ON DELETE CASCADE,\n",
    "      tag TEXT REFERENCES filing_tags(label),\n",
    "      prototype_id SMALLINT DEFAULT 0,\n",
    "      file_id INTEGER REFERENCES files(id),\n",
    "      PRIMARY KEY (run_id, tag, prototype_id, file_id)\n",
    "    );\n",
    "    \"\"\",\n",
    "    \"\"\"\n",
    "    ALTER TABLE tag_prototypes ADD COLUMN run_id INTEGER\n",
    "      REFERENCES prototype_runs(run_id) ON DELETE SET NULL;\n",
    "    \"\"\",\n",
    "    \"\"\"\n",
    "    CREATE TABLE prototype_run_metrics (\n",
    "      run_id INTEGER REFERENCES prototype_runs(run_id) ON DELETE CASCADE,\n",
    "      metric_name TEXT,\n",
    "      value NUMERIC,\n",
    "      split TEXT,\n",
    "      PRIMARY KEY (run_id, metric_name, split)\n",
    "    );\n",
    "    \"\"\"\n",
    "]\n",
    "\n",
    "# Execute each command\n",
    "for command in sql_commands:\n",
    "    cur.execute(command)\n",
    "\n",
    "# Commit changes and close the connection\n",
    "conn.commit()\n",
    "cur.close()\n",
    "conn.close()"
   ]
  },
  {
   "cell_type": "code",
   "execution_count": null,
   "id": "3c39ad64",
   "metadata": {},
   "outputs": [],
   "source": [
    "import os\n",
    "from pathlib import Path\n",
    "from itertools import islice\n",
    "\n",
    "\n",
    "def visualize_directory_tree(\n",
    "    dir_path: Path,\n",
    "    level: int = -1,\n",
    "    limit_to_directories: bool = False,\n",
    "    length_limit: int = 1000000,\n",
    "    exclusion_list: list = None\n",
    "):\n",
    "    \"\"\"Given a directory Path object print a visual tree structure, with optional exclusions.\"\"\"\n",
    "    space = '    '\n",
    "    branch = '│   '\n",
    "    # pointers:\n",
    "    tee = '├── '\n",
    "    last = '└── '\n",
    "\n",
    "    dir_path = Path(dir_path)  # accept string coerceable to Path\n",
    "    files = 0\n",
    "    directories = 0\n",
    "    exclusion_set = set(exclusion_list) if exclusion_list else set()\n",
    "\n",
    "    def inner(dir_path: Path, prefix: str = '', level=-1):\n",
    "        nonlocal files, directories\n",
    "        if not level:\n",
    "            return  # 0, stop iterating\n",
    "        if limit_to_directories:\n",
    "            contents = [d for d in dir_path.iterdir() if d.is_dir() and d.name not in exclusion_set]\n",
    "        else:\n",
    "            contents = [d for d in dir_path.iterdir() if d.name not in exclusion_set]\n",
    "        pointers = [tee] * (len(contents) - 1) + [last] if contents else []\n",
    "        for pointer, path in zip(pointers, contents):\n",
    "            if path.is_dir():\n",
    "                yield prefix + pointer + path.name\n",
    "                directories += 1\n",
    "                extension = branch if pointer == tee else space\n",
    "                yield from inner(path, prefix=prefix + extension, level=level - 1)\n",
    "            elif not limit_to_directories:\n",
    "                yield prefix + pointer + path.name\n",
    "                files += 1\n",
    "\n",
    "    print(dir_path.name)\n",
    "    iterator = inner(dir_path, level=level)\n",
    "    for line in islice(iterator, length_limit):\n",
    "        print(line)\n",
    "    if next(iterator, None):\n",
    "        print(f'... length_limit, {length_limit}, reached, counted:')\n",
    "    print(f'\\n{directories} directories' + (f', {files} files' if files else ''))\n",
    "# exclude irrelevant directories\n",
    "exclude_dirs = [\n",
    "    '.venv',\n",
    "    '__pycache__',\n",
    "    'dev\\__pycache__',\n",
    "    '.git'\n",
    "]\n",
    "\n",
    "visualize_directory_tree(\n",
    "    dir_path= os.getcwd(),\n",
    "    exclusion_list= exclude_dirs\n",
    ")"
   ]
  },
  {
   "cell_type": "code",
   "execution_count": null,
   "id": "421e5ae7",
   "metadata": {},
   "outputs": [],
   "source": [
    "import os\n",
    "from text_extraction.pdf_extraction import PDFTextExtractor\n",
    "\n",
    "def test_pdf_text_extraction(directory_path):\n",
    "    \"\"\"\n",
    "    Test PDF text extraction on all files in the given directory.\n",
    "    \n",
    "    Args:\n",
    "        directory_path (str): Path to the directory containing PDF files.\n",
    "    \"\"\"\n",
    "    extractor = PDFTextExtractor()\n",
    "    for root, _, files in os.walk(directory_path):\n",
    "        for file in files:\n",
    "            if file.lower().endswith('.pdf'):\n",
    "                file_path = os.path.join(root, file)\n",
    "                try:\n",
    "                    print(f\"Extracting text from: {file_path}\")\n",
    "                    text = extractor(file_path)\n",
    "                    print(f\"Extracted text (first 500 characters):\\n{text[:500]}\\n\")\n",
    "                except Exception as e:\n",
    "                    print(f\"Failed to extract text from {file_path}: {e}\")\n",
    "\n",
    "# Example usage\n",
    "test_directory = \"path/to/your/pdf/directory\"\n",
    "test_pdf_text_extraction(test_directory)"
   ]
  },
  {
   "cell_type": "code",
   "execution_count": 3,
   "id": "02122255",
   "metadata": {},
   "outputs": [
    {
     "name": "stdout",
     "output_type": "stream",
     "text": [
      "File N:\\PPDO\\Records\\16xx   Cowell College\\1652\\1652\\F - Bid Documents and Contract Award\\Bid Documents\\Phase II A Bid Documents\\Addendum B issued 6.27.14\\4.5 Addenda A Drawings issued by Pyatok 6.19.14.pdf does not exist, skipping.\n",
      "Copied 056 File 6701 D027 REV 1.PDF to c:\\Users\\adankert\\projects\\file_code_tagger\\test_files\\056 File 6701 D027 REV 1.PDF\n",
      "Copied Notice of Completion and Determination - Signed by Vani.pdf to c:\\Users\\adankert\\projects\\file_code_tagger\\test_files\\Notice of Completion and Determination - Signed by Vani.pdf\n",
      "File N:\\PPDO\\Records\\106xx  2300 Delaware Westside Research Park\\10630\\10630\\G - Construction\\G12 - Request for Information RFI\\RFI_113R1 response.pdf does not exist, skipping.\n",
      "File N:\\PPDO\\Records\\_To Be Archived\\WM 06.20.19\\WM\\WO00411027 ERC, Install New Roof for Bike Cage\\E - Program and Design\\Budget\\19 02 20 WO00411027 Cost Report.pdf does not exist, skipping.\n",
      "Copied Summary of Changes - ASTM D2513 (2011b-2012).pdf to c:\\Users\\adankert\\projects\\file_code_tagger\\test_files\\Summary of Changes - ASTM D2513 (2011b-2012).pdf\n",
      "Copied 041 File 6701 M110B.pdf to c:\\Users\\adankert\\projects\\file_code_tagger\\test_files\\041 File 6701 M110B.pdf\n",
      "File N:\\PPDO\\Records\\32xx   Kresge College (College 6)\\3239 Non-Acad Reno\\3239\\G12 - Request for Information RFI\\3239_RFI_4-339_-_A1_New_Framing_Clash_w_Provost_Chimney_Flue_RESPONSE.pdf does not exist, skipping.\n",
      "File N:\\PPDO\\Records\\16xx   Cowell College\\1652\\1652\\G - Construction\\G11 PCO\\Structural Repairs T&M Tracking\\141114 Completed Inspections\\Cowell 1 (1-43)\\11B - 09.24.14 T&M VOID.pdf does not exist, skipping.\n",
      "File N:\\PPDO\\Records\\16xx   Cowell College\\1652\\1652\\G - Construction\\G11 PCO\\Structural Repairs T&M Tracking\\141114 Completed Inspections\\Porter H (145-160)\\146C - 10.02.14.pdf does not exist, skipping.\n",
      "Copied PSA Blanket 2021-2024.pdf to c:\\Users\\adankert\\projects\\file_code_tagger\\test_files\\PSA Blanket 2021-2024.pdf\n",
      "Copied File 1323 #FO_45_Water Meter for EHS_5-23-14.pdf to c:\\Users\\adankert\\projects\\file_code_tagger\\test_files\\File 1323 #FO_45_Water Meter for EHS_5-23-14.pdf\n",
      "Copied 092 File 6701 MP7.07.PDF to c:\\Users\\adankert\\projects\\file_code_tagger\\test_files\\092 File 6701 MP7.07.PDF\n",
      "Copied 22-5205X-1.pdf to c:\\Users\\adankert\\projects\\file_code_tagger\\test_files\\22-5205X-1.pdf\n",
      "Copied RFI 0290 response.pdf to c:\\Users\\adankert\\projects\\file_code_tagger\\test_files\\RFI 0290 response.pdf\n",
      "Test files saved to c:\\Users\\adankert\\projects\\file_code_tagger\\test_files\n",
      "Copied G & W Electric Company - Commutating Current Limiters.mht to c:\\Users\\adankert\\projects\\file_code_tagger\\test_files\\G & W Electric Company - Commutating Current Limiters.mht\n",
      "Copied HAY BARN SCHEDULE #3 - Smartsheet.com.html to c:\\Users\\adankert\\projects\\file_code_tagger\\test_files\\HAY BARN SCHEDULE #3 - Smartsheet.com.html\n",
      "Copied north.html to c:\\Users\\adankert\\projects\\file_code_tagger\\test_files\\north.html\n",
      "Copied guide.html to c:\\Users\\adankert\\projects\\file_code_tagger\\test_files\\guide.html\n",
      "Copied AecbIDrop.htm to c:\\Users\\adankert\\projects\\file_code_tagger\\test_files\\AecbIDrop.htm\n",
      "Copied Basic Posm.html to c:\\Users\\adankert\\projects\\file_code_tagger\\test_files\\Basic Posm.html\n",
      "Copied example_lowzoom.html to c:\\Users\\adankert\\projects\\file_code_tagger\\test_files\\example_lowzoom.html\n",
      "Copied 1700-167.G1.saved_resource.html to c:\\Users\\adankert\\projects\\file_code_tagger\\test_files\\1700-167.G1.saved_resource.html\n",
      "Copied princ3.html to c:\\Users\\adankert\\projects\\file_code_tagger\\test_files\\princ3.html\n",
      "Copied slide0283.htm to c:\\Users\\adankert\\projects\\file_code_tagger\\test_files\\slide0283.htm\n",
      "Copied slide0278.htm to c:\\Users\\adankert\\projects\\file_code_tagger\\test_files\\slide0278.htm\n",
      "File N:\\PPDO\\Records\\13xx   Original Ranch Buildings\\1326\\1326\\G - Construction\\G1.1 - Contractor to.from\\FW  1326 Hay Barn Reconstruction - RFI#1 - pbarber@ucsc.edu - UC Santa Cruz Mail.htm does not exist, skipping.\n",
      "Copied gtm-iframe_v1.html to c:\\Users\\adankert\\projects\\file_code_tagger\\test_files\\gtm-iframe_v1.html\n",
      "Copied Video.html to c:\\Users\\adankert\\projects\\file_code_tagger\\test_files\\Video.html\n",
      "Copied future.html to c:\\Users\\adankert\\projects\\file_code_tagger\\test_files\\future.html\n",
      "Test files saved to c:\\Users\\adankert\\projects\\file_code_tagger\\test_files\n",
      "File N:\\PPDO\\Records\\28xx   Cowell Student Health Center\\2806\\2806\\G - Construction\\G12 - RFI\\Project Manager Email Correspondence\\.MSG Files\\RFI\\RE  South wing  exterior slab on grade (463).msg does not exist, skipping.\n",
      "Copied Re  Completion Notice for CSHC Omni Install (53).msg to c:\\Users\\adankert\\projects\\file_code_tagger\\test_files\\Re  Completion Notice for CSHC Omni Install (53).msg\n",
      "File N:\\PPDO\\Records\\28xx   Cowell Student Health Center\\2806\\2806\\G - Construction\\G12 - RFI\\Project Manager Email Correspondence\\.MSG Files\\RFI\\UCSC Cowell Student Health Center - RFI 140 (attached).msg does not exist, skipping.\n",
      "Copied UCSC Cowell.msg to c:\\Users\\adankert\\projects\\file_code_tagger\\test_files\\UCSC Cowell.msg\n",
      "File N:\\PPDO\\Records\\28xx   Cowell Student Health Center\\2806\\2806\\G - Construction\\G18 - Punch Lists\\Project Manager Email Correspondence\\.MSG Files\\Punchlist\\RE   Fwd  HPS - Check off Punch List .msg does not exist, skipping.\n",
      "Copied RE  Shut Down Request DCW loop 10-2-08 530pm doc (49).msg to c:\\Users\\adankert\\projects\\file_code_tagger\\test_files\\RE  Shut Down Request DCW loop 10-2-08 530pm doc (49).msg\n",
      "Copied RE  DPC's and RFI's for review.msg to c:\\Users\\adankert\\projects\\file_code_tagger\\test_files\\RE  DPC's and RFI's for review.msg\n",
      "Copied {Spam } CSHC Submittal 09650 Resilient Flooring Response.msg to c:\\Users\\adankert\\projects\\file_code_tagger\\test_files\\{Spam } CSHC Submittal 09650 Resilient Flooring Response.msg\n",
      "File N:\\PPDO\\Records\\28xx   Cowell Student Health Center\\2806\\2806\\G - Construction\\G12 - RFI\\Project Manager Email Correspondence\\.MSG Files\\RFI\\UCSC Cowell Student Health Center - RFI 359 (attached).msg does not exist, skipping.\n",
      "File N:\\PPDO\\Records\\28xx   Cowell Student Health Center\\2806\\2806\\G - Construction\\G12 - RFI\\Project Manager Email Correspondence\\.MSG Files\\RFI\\RE  Wall Finishes at Cowell (497).msg does not exist, skipping.\n",
      "File N:\\PPDO\\Records\\28xx   Cowell Student Health Center\\2806\\2806\\G - Construction\\G12 - RFI\\Project Manager Email Correspondence\\.MSG Files\\RFI Log\\RE  RFI Log --- Weekly Schedule.msg does not exist, skipping.\n",
      "Copied Re  Health Center project and crosswalk.msg to c:\\Users\\adankert\\projects\\file_code_tagger\\test_files\\Re  Health Center project and crosswalk.msg\n",
      "Copied FW  UCSC Cowell Questions from August 26th Meeting .msg to c:\\Users\\adankert\\projects\\file_code_tagger\\test_files\\FW  UCSC Cowell Questions from August 26th Meeting .msg\n",
      "File N:\\PPDO\\Records\\28xx   Cowell Student Health Center\\2806\\2806\\G - Construction\\G12 - RFI\\Project Manager Email Correspondence\\.MSG Files\\RFI\\RE   Fwd  UCSC Cowell Student Health Center - RFI 238 follow-up (detail attached) .msg does not exist, skipping.\n",
      "File N:\\PPDO\\Records\\28xx   Cowell Student Health Center\\2806\\2806\\G - Construction\\G12 - RFI\\Project Manager Email Correspondence\\.MSG Files\\RFI\\FW  {Spam } RFI 201A Response.msg does not exist, skipping.\n",
      "Test files saved to c:\\Users\\adankert\\projects\\file_code_tagger\\test_files\n",
      "Copied IMG_7187.JPG to c:\\Users\\adankert\\projects\\file_code_tagger\\test_files\\IMG_7187.JPG\n",
      "File N:\\PPDO\\Records\\16xx   Cowell College\\1652\\1652\\G - Construction\\G21-Photographs\\Destructive Testing Photos\\18. Dec 17-20 2012 GdH - UCSC - Plaintiff DT\\Cowell\\Building 1 1st Floor Mechanical Vent DT\\2012-12-20 002 101.JPG does not exist, skipping.\n",
      "Copied 20 Sub 5.15-R1 207.tif to c:\\Users\\adankert\\projects\\file_code_tagger\\test_files\\20 Sub 5.15-R1 207.tif\n",
      "Copied 02 File 4001 MH 920-88406-2x.TIF to c:\\Users\\adankert\\projects\\file_code_tagger\\test_files\\02 File 4001 MH 920-88406-2x.TIF\n",
      "Copied MLA N_W Road.JPG to c:\\Users\\adankert\\projects\\file_code_tagger\\test_files\\MLA N_W Road.JPG\n",
      "Copied SWPPP 4506 005.jpg to c:\\Users\\adankert\\projects\\file_code_tagger\\test_files\\SWPPP 4506 005.jpg\n",
      "Copied DSC_0091_MV_ASORRCMEPWJX.JPG to c:\\Users\\adankert\\projects\\file_code_tagger\\test_files\\DSC_0091_MV_ASORRCMEPWJX.JPG\n",
      "Copied File 4503 A 06.4.TIF to c:\\Users\\adankert\\projects\\file_code_tagger\\test_files\\File 4503 A 06.4.TIF\n",
      "Copied File 3302 02.TIF to c:\\Users\\adankert\\projects\\file_code_tagger\\test_files\\File 3302 02.TIF\n",
      "Copied 2012-12-18 001 022.JPG to c:\\Users\\adankert\\projects\\file_code_tagger\\test_files\\2012-12-18 001 022.JPG\n",
      "Copied 16 File 9065 C13.TIF to c:\\Users\\adankert\\projects\\file_code_tagger\\test_files\\16 File 9065 C13.TIF\n",
      "File N:\\PPDO\\Records\\16xx   Cowell College\\1652\\1652\\G - Construction\\G21-Photographs\\Destructive Testing Photos\\8. June 21-22 2012 - JAF - UCSC - Plaintiff Shower Documentation\\bldg. 3,unit 205,R. side\\11303 JAF 039.jpg does not exist, skipping.\n",
      "Copied TEMP122.TIF to c:\\Users\\adankert\\projects\\file_code_tagger\\test_files\\TEMP122.TIF\n",
      "Copied File 1639 Submittal # 05.16 Lee's Imperial Welding 3-26-03 E _20030619_0059.TIF to c:\\Users\\adankert\\projects\\file_code_tagger\\test_files\\File 1639 Submittal # 05.16 Lee's Imperial Welding 3-26-03 E _20030619_0059.TIF\n",
      "Copied 48 File 1810 PR-1002 P101A.TIF to c:\\Users\\adankert\\projects\\file_code_tagger\\test_files\\48 File 1810 PR-1002 P101A.TIF\n",
      "Test files saved to c:\\Users\\adankert\\projects\\file_code_tagger\\test_files\n",
      "Copied 16619porter.doc to c:\\Users\\adankert\\projects\\file_code_tagger\\test_files\\16619porter.doc\n",
      "Copied B.T. Mancini.doc to c:\\Users\\adankert\\projects\\file_code_tagger\\test_files\\B.T. Mancini.doc\n",
      "File N:\\PPDO\\Records\\42xx   Student Housing West\\4203\\4203\\C - Consultants\\C1.1 - Executive Architect Selection\\Addendum 1\\Project no. 4203 RFQ Executive Architect Addendum 1_FA0425.docx does not exist, skipping.\n",
      "Copied Sprink Rev to G.R e2.doc to c:\\Users\\adankert\\projects\\file_code_tagger\\test_files\\Sprink Rev to G.R e2.doc\n",
      "Copied AGENDA SHR 10-23-08.doc to c:\\Users\\adankert\\projects\\file_code_tagger\\test_files\\AGENDA SHR 10-23-08.doc\n",
      "File N:\\PPDO\\Records\\15xx   East & West Field House\\1504\\1504-002\\F5 - Drawings and Spec\\Specifications\\201205 Division 15800 - H.V.A.C..doc does not exist, skipping.\n",
      "File N:\\PPDO\\Records\\40xx   Sinsheimer Labs (Natural Sciences Unit 3)\\4000\\4000-021\\G12 - Request for Information RFI\\Incoming RFIs\\Sinsheimer 132 RFI 041 ODM.doc does not exist, skipping.\n",
      "Copied Trans Forell RFI_18_19 Stevenson Commons 5-23-07.doc to c:\\Users\\adankert\\projects\\file_code_tagger\\test_files\\Trans Forell RFI_18_19 Stevenson Commons 5-23-07.doc\n",
      "File N:\\PPDO\\Records\\30xx   Porter College (College 5)\\3002\\3002-040 Dining\\C - Consultants\\C - Consultants PreDesign\\C1.1 - Selection\\RFQ\\RFQ Examples\\Andreas Crown\\Interview\\2358 Interview Schedule.docx does not exist, skipping.\n",
      "Copied UCSC CBB daily 2.26.16.docx to c:\\Users\\adankert\\projects\\file_code_tagger\\test_files\\UCSC CBB daily 2.26.16.docx\n",
      "File N:\\PPDO\\Records\\28xx   Cowell Student Health Center\\2806\\2806\\G - Construction\\G12 - RFI\\RFI_400-499\\RFI_400-499\\RFI 405_CSHC_Response_090616.doc does not exist, skipping.\n",
      "Copied 21kv Cable Project description Ilse cwd.doc to c:\\Users\\adankert\\projects\\file_code_tagger\\test_files\\21kv Cable Project description Ilse cwd.doc\n",
      "Copied 220100 General Requirements.doc to c:\\Users\\adankert\\projects\\file_code_tagger\\test_files\\220100 General Requirements.doc\n",
      "Copied DPP editing process email.docx to c:\\Users\\adankert\\projects\\file_code_tagger\\test_files\\DPP editing process email.docx\n",
      "File N:\\PPDO\\Records\\17xx   Stevenson College (College 2)\\1734\\1734-003\\F5 - Drawings and Spec\\1734-003.F5.15TOC-1.doc does not exist, skipping.\n",
      "Test files saved to c:\\Users\\adankert\\projects\\file_code_tagger\\test_files\n",
      "Copied 4801-052.G1.WO00404296 EMS drain grate repair.xlsx to c:\\Users\\adankert\\projects\\file_code_tagger\\test_files\\4801-052.G1.WO00404296 EMS drain grate repair.xlsx\n",
      "Copied Table 5.2.XLS to c:\\Users\\adankert\\projects\\file_code_tagger\\test_files\\Table 5.2.XLS\n",
      "Copied 1324.E5.2.Central Garage wash bay 90% Plan Check.xls to c:\\Users\\adankert\\projects\\file_code_tagger\\test_files\\1324.E5.2.Central Garage wash bay 90% Plan Check.xls\n",
      "Copied Weekly PM Report 082012.xls to c:\\Users\\adankert\\projects\\file_code_tagger\\test_files\\Weekly PM Report 082012.xls\n",
      "Copied Child Care Sched.xls to c:\\Users\\adankert\\projects\\file_code_tagger\\test_files\\Child Care Sched.xls\n",
      "Copied CBB Draft CIB and Backup workbook ccci 6-23-10.xls to c:\\Users\\adankert\\projects\\file_code_tagger\\test_files\\CBB Draft CIB and Backup workbook ccci 6-23-10.xls\n",
      "Copied Weekly PM Report SEP PSB_9-9-13.xlsx to c:\\Users\\adankert\\projects\\file_code_tagger\\test_files\\Weekly PM Report SEP PSB_9-9-13.xlsx\n",
      "Copied Phase B Const Schedule 041015.xlsx to c:\\Users\\adankert\\projects\\file_code_tagger\\test_files\\Phase B Const Schedule 041015.xlsx\n",
      "Copied updated cost worksheet 5-17-11.xls to c:\\Users\\adankert\\projects\\file_code_tagger\\test_files\\updated cost worksheet 5-17-11.xls\n",
      "Copied Financial Capacity & Impact (191107).xlsx to c:\\Users\\adankert\\projects\\file_code_tagger\\test_files\\Financial Capacity & Impact (191107).xlsx\n",
      "Copied Copy of 4933 MSC Infrastructure 50%DD for CBB  Project Review Comment Workbook.xls to c:\\Users\\adankert\\projects\\file_code_tagger\\test_files\\Copy of 4933 MSC Infrastructure 50%DD for CBB  Project Review Comment Workbook.xls\n",
      "Copied 2358 - Crown College Major Maintenance Submittals Reviewers Matrix.xlsx to c:\\Users\\adankert\\projects\\file_code_tagger\\test_files\\2358 - Crown College Major Maintenance Submittals Reviewers Matrix.xlsx\n",
      "Copied Kresge_Early Work Package 1_Addendum 1_20190827 REV.xlsx to c:\\Users\\adankert\\projects\\file_code_tagger\\test_files\\Kresge_Early Work Package 1_Addendum 1_20190827 REV.xlsx\n",
      "File N:\\PPDO\\Records\\14xx   Thimann Labs\\1400\\1400-095\\E - Program and Design\\E3 - Budget Cost Estimates\\1400-095.E3.1400-095 Thimann Coils Replacement Accounting 6.19.17.xlsx does not exist, skipping.\n",
      "Copied CSC FSS Augmentation PBW 2-6-15.xls to c:\\Users\\adankert\\projects\\file_code_tagger\\test_files\\CSC FSS Augmentation PBW 2-6-15.xls\n",
      "Test files saved to c:\\Users\\adankert\\projects\\file_code_tagger\\test_files\n",
      "Copied README.md to c:\\Users\\adankert\\projects\\file_code_tagger\\test_files\\README.md\n",
      "Copied plot.log to c:\\Users\\adankert\\projects\\file_code_tagger\\test_files\\plot.log\n",
      "Copied FSH_100DD_Stormwater Control Plan BKF.csv to c:\\Users\\adankert\\projects\\file_code_tagger\\test_files\\FSH_100DD_Stormwater Control Plan BKF.csv\n",
      "Copied 5304D6CC.bgdomain.bgpostoffice.100.16A3779.1.1C868.1.xml to c:\\Users\\adankert\\projects\\file_code_tagger\\test_files\\5304D6CC.bgdomain.bgpostoffice.100.16A3779.1.1C868.1.xml\n",
      "Copied 24198.txt to c:\\Users\\adankert\\projects\\file_code_tagger\\test_files\\24198.txt\n",
      "Copied counties.sdc.xml to c:\\Users\\adankert\\projects\\file_code_tagger\\test_files\\counties.sdc.xml\n",
      "Copied EG_2850118ffebf4358b66d610eb5ecd019.xml to c:\\Users\\adankert\\projects\\file_code_tagger\\test_files\\EG_2850118ffebf4358b66d610eb5ecd019.xml\n",
      "Copied INDEX.TXT to c:\\Users\\adankert\\projects\\file_code_tagger\\test_files\\INDEX.TXT\n",
      "Copied Cross_Validation_Results.txt to c:\\Users\\adankert\\projects\\file_code_tagger\\test_files\\Cross_Validation_Results.txt\n",
      "Copied 09_Appendix C_UCSC EEC DD Specs VOL 2.csv to c:\\Users\\adankert\\projects\\file_code_tagger\\test_files\\09_Appendix C_UCSC EEC DD Specs VOL 2.csv\n",
      "Copied console.backup_20100302_1650.txt to c:\\Users\\adankert\\projects\\file_code_tagger\\test_files\\console.backup_20100302_1650.txt\n",
      "Copied 609P001.txt to c:\\Users\\adankert\\projects\\file_code_tagger\\test_files\\609P001.txt\n",
      "Copied plot.log to c:\\Users\\adankert\\projects\\file_code_tagger\\test_files\\plot.log\n",
      "Copied _there are two mech folders because the two that we have don't match up..txt to c:\\Users\\adankert\\projects\\file_code_tagger\\test_files\\_there are two mech folders because the two that we have don't match up..txt\n",
      "Copied FSH_100DD_Stormwater Control Plan BKF.csv to c:\\Users\\adankert\\projects\\file_code_tagger\\test_files\\FSH_100DD_Stormwater Control Plan BKF.csv\n",
      "Test files saved to c:\\Users\\adankert\\projects\\file_code_tagger\\test_files\n"
     ]
    }
   ],
   "source": [
    "# this cell is for populating /test_files with test files from the server\n",
    "import os\n",
    "import shutil\n",
    "from db_models import FileLocation, File, get_db_engine\n",
    "from sqlalchemy.orm import sessionmaker\n",
    "from sqlalchemy.sql import func, or_\n",
    "\n",
    "SERVER_MOUNT_LOCATION = r\"N:\\PPDO\\Records\"\n",
    "\n",
    "ext_lists_list = [\n",
    "['pdf'],\n",
    "[\"html\", \"htm\", \"mhtml\", \"mht\"],\n",
    "[\"eml\", \"msg\"],\n",
    "[\"png\", \"jpg\", \"jpeg\", \"tif\", \"tiff\", \"bmp\", \"gif\"],\n",
    "[\"docx\", \"docm\", \"doc\", \"rtf\"],\n",
    "[\"xlsx\", \"xlsm\", \"xls\", \"xlsb\", \"ods\", \"csv\", \"tsv\"],\n",
    "['txt', 'md', 'log', 'csv', 'json', 'xml', 'yaml', 'yml', 'ini', 'cfg', 'conf']\n",
    "]\n",
    "\n",
    "def get_test_file_locations(session, n, size_limit, ext_list):\n",
    "    \"\"\"\n",
    "    Get random test files from the database based on specified criteria.\n",
    "    \"\"\"\n",
    "    query = (\n",
    "        session\n",
    "        .query(FileLocation)\n",
    "        .join(File, FileLocation.file)\n",
    "        .filter(\n",
    "            File.size < size_limit,\n",
    "            FileLocation.file_server_directories.isnot(None)\n",
    "        )\n",
    "    )\n",
    "\n",
    "    if ext_list:\n",
    "        ext_filters = [\n",
    "            FileLocation.filename.ilike(f\"%.{ext}\") \n",
    "            for ext in ext_list\n",
    "        ]\n",
    "        query = (\n",
    "            query\n",
    "            .filter(or_(*ext_filters))\n",
    "            .order_by(func.random())\n",
    "        )\n",
    "\n",
    "    return query.limit(n).all()\n",
    "\n",
    "def save_test_files_to_directory(session, n, size_limit, ext_lists_list, destintation = os.path.join(os.getcwd(), \"test_files\")):\n",
    "    \"\"\"\n",
    "    Save test files to a specified directory based on given criteria.\n",
    "    \n",
    "    Args:\n",
    "        session: SQLAlchemy session object.\n",
    "        n (int): Number of files to retrieve.\n",
    "        size_limit (int): Maximum file size in bytes.\n",
    "        ext_lists_list: List of lists containing file extensions.\n",
    "        base_dir (str): Base directory to save the test files.\n",
    "    \"\"\"\n",
    "    for ext_list in ext_lists_list:\n",
    "        locations = get_test_file_locations(session, n, size_limit, ext_list)\n",
    "        for loc in locations:\n",
    "            file_path = loc.local_filepath(SERVER_MOUNT_LOCATION)\n",
    "            if file_path and file_path.exists():\n",
    "                dest_path = os.path.join(destintation, loc.filename)\n",
    "                shutil.copy2(file_path, dest_path)\n",
    "                print(f\"Copied {loc.filename} to {dest_path}\")\n",
    "                continue\n",
    "\n",
    "            if file_path and not file_path.exists():\n",
    "                print(f\"File {file_path} does not exist, skipping.\")\n",
    "                continue\n",
    "\n",
    "        print(f\"Test files saved to {destintation}\")\n",
    "\n",
    "\n",
    "size_limit = 150 * 1024 * 1024  # 150 MB\n",
    "n = 15  # Number of files per extension\n",
    "destintation = os.path.join(os.getcwd(), \"test_files\")\n",
    "session = sessionmaker(bind=get_db_engine())()\n",
    "\n",
    "save_test_files_to_directory(\n",
    "    session=session,\n",
    "    n=n,\n",
    "    size_limit=size_limit,\n",
    "    ext_lists_list=ext_lists_list,\n",
    "    destintation=destintation\n",
    ")           \n"
   ]
  },
  {
   "cell_type": "code",
   "execution_count": 4,
   "id": "a851098e",
   "metadata": {},
   "outputs": [
    {
     "name": "stdout",
     "output_type": "stream",
     "text": [
      "Extracting text from 02 File 4001 MH 920-88406-2x.TIF using ImageTextExtractor\n"
     ]
    },
    {
     "name": "stderr",
     "output_type": "stream",
     "text": [
      "c:\\Users\\adankert\\projects\\file_code_tagger\\.venv\\Lib\\site-packages\\PIL\\Image.py:3452: DecompressionBombWarning: Image size (119552784 pixels) exceeds limit of 89478485 pixels, could be decompression bomb DOS attack.\n",
      "  warnings.warn(\n"
     ]
    },
    {
     "name": "stdout",
     "output_type": "stream",
     "text": [
      "Extracted text (first 800 characters) from 02 File 4001 MH 920-88406-2x.TIF:\n",
      "2\n",
      "\n",
      "UCSC COOLING & HEATING COIL VALVE SCHEDULE UCSC LAB VAY CDDLING & HEATING VALVE SCHEDULE UCSC LAB VAY COOLING & HEATING VALVE SCHEDULE UCSC LAB VAV COOLING & HEATING VALVE\n",
      "\n",
      "SCHEDULE\n",
      "\n",
      "IVALVE AG ILOCATION!\n",
      "\n",
      "TYALVE,\n",
      "is¥s 1\n",
      "\n",
      "LOCATION\n",
      "TAG #\n",
      "\n",
      "SIZEICV\n",
      "\n",
      "100-01 1V5013B1011 #13 FLGi 100\n",
      "\n",
      "IVPS26A1027 #15/8F!1.6 3 ict-03-57 3 3.5 1AC-213-S 0/21\n",
      "nPOS3E1304 IVPS2SA1027 #15/8F 11.8 15 16-03-57 3 a9 iAC~213-8 D/Z1\n",
      "\n",
      "1We-01 19501381029 153141004 3 ¢c-03-50 Ls H/2Stil& ists AC-213-8 0/20\n",
      "\n",
      "iMPenSE1418 IVPSS1Aa1008 1.3 HC-03-s8 3 H/28t116 10.9 1AC-2:3-8 D720\n",
      "\n",
      "1ee-o21VE013B1011 IVPSS1A1004 3 1CC-03-S9t St H/2EI1L6 {3.8 {AG-213-8 0/20\n",
      "\n",
      "MP9S3E1364 1VP531A1004 1S 1HC-03-59: VP53101004 3 Hy2611.6 13.5 1AG-2:3-8 0/20\n",
      "\n",
      "!HC-02 VSOLSB1029 #24 FLGI140 12 I¥PSS1A1004 11/2511.6 3 st 10.9 HACH213-S BANG!\n",
      "\n",
      "MPTSSEL418 + V\n",
      "\n",
      "Extracting text from 041 File 6701 M110B.pdf using PDFTextExtractor\n"
     ]
    },
    {
     "data": {
      "application/vnd.jupyter.widget-view+json": {
       "model_id": "4242d356249d45e79095ce5f5436038f",
       "version_major": 2,
       "version_minor": 0
      },
      "text/plain": [
       "Output()"
      ]
     },
     "metadata": {},
     "output_type": "display_data"
    },
    {
     "data": {
      "text/html": [
       "<pre style=\"white-space:pre;overflow-x:auto;line-height:normal;font-family:Menlo,'DejaVu Sans Mono',consolas,'Courier New',monospace\"></pre>\n"
      ],
      "text/plain": []
     },
     "metadata": {},
     "output_type": "display_data"
    },
    {
     "data": {
      "application/vnd.jupyter.widget-view+json": {
       "model_id": "589e9215af1545679e5af88e124b78cf",
       "version_major": 2,
       "version_minor": 0
      },
      "text/plain": [
       "Output()"
      ]
     },
     "metadata": {},
     "output_type": "display_data"
    },
    {
     "data": {
      "text/html": [
       "<pre style=\"white-space:pre;overflow-x:auto;line-height:normal;font-family:Menlo,'DejaVu Sans Mono',consolas,'Courier New',monospace\"></pre>\n"
      ],
      "text/plain": []
     },
     "metadata": {},
     "output_type": "display_data"
    },
    {
     "data": {
      "application/vnd.jupyter.widget-view+json": {
       "model_id": "9e3a54631ca24e04bde27700fb8c6cb4",
       "version_major": 2,
       "version_minor": 0
      },
      "text/plain": [
       "Output()"
      ]
     },
     "metadata": {},
     "output_type": "display_data"
    },
    {
     "data": {
      "text/html": [
       "<pre style=\"white-space:pre;overflow-x:auto;line-height:normal;font-family:Menlo,'DejaVu Sans Mono',consolas,'Courier New',monospace\"></pre>\n"
      ],
      "text/plain": []
     },
     "metadata": {},
     "output_type": "display_data"
    },
    {
     "data": {
      "application/vnd.jupyter.widget-view+json": {
       "model_id": "73b4afa8228f4e30a26c755271d2dbcb",
       "version_major": 2,
       "version_minor": 0
      },
      "text/plain": [
       "Output()"
      ]
     },
     "metadata": {},
     "output_type": "display_data"
    },
    {
     "data": {
      "text/html": [
       "<pre style=\"white-space:pre;overflow-x:auto;line-height:normal;font-family:Menlo,'DejaVu Sans Mono',consolas,'Courier New',monospace\"></pre>\n"
      ],
      "text/plain": []
     },
     "metadata": {},
     "output_type": "display_data"
    },
    {
     "data": {
      "application/vnd.jupyter.widget-view+json": {
       "model_id": "f63622e0a8d346b89212e9b2af1870c9",
       "version_major": 2,
       "version_minor": 0
      },
      "text/plain": [
       "Output()"
      ]
     },
     "metadata": {},
     "output_type": "display_data"
    },
    {
     "data": {
      "text/html": [
       "<pre style=\"white-space:pre;overflow-x:auto;line-height:normal;font-family:Menlo,'DejaVu Sans Mono',consolas,'Courier New',monospace\"></pre>\n"
      ],
      "text/plain": []
     },
     "metadata": {},
     "output_type": "display_data"
    },
    {
     "data": {
      "application/vnd.jupyter.widget-view+json": {
       "model_id": "b0a600c49a8e4116a4a07be26d45e989",
       "version_major": 2,
       "version_minor": 0
      },
      "text/plain": [
       "Output()"
      ]
     },
     "metadata": {},
     "output_type": "display_data"
    },
    {
     "data": {
      "text/html": [
       "<pre style=\"white-space:pre;overflow-x:auto;line-height:normal;font-family:Menlo,'DejaVu Sans Mono',consolas,'Courier New',monospace\"></pre>\n"
      ],
      "text/plain": []
     },
     "metadata": {},
     "output_type": "display_data"
    },
    {
     "name": "stdout",
     "output_type": "stream",
     "text": [
      "No text extracted from 041 File 6701 M110B.pdf in temporary directory\n",
      "Extracting text from 056 File 6701 D027 REV 1.PDF using PDFTextExtractor\n"
     ]
    },
    {
     "data": {
      "application/vnd.jupyter.widget-view+json": {
       "model_id": "3df4af7650e843b18ab79485d8fa06c6",
       "version_major": 2,
       "version_minor": 0
      },
      "text/plain": [
       "Output()"
      ]
     },
     "metadata": {},
     "output_type": "display_data"
    },
    {
     "data": {
      "text/html": [
       "<pre style=\"white-space:pre;overflow-x:auto;line-height:normal;font-family:Menlo,'DejaVu Sans Mono',consolas,'Courier New',monospace\"></pre>\n"
      ],
      "text/plain": []
     },
     "metadata": {},
     "output_type": "display_data"
    },
    {
     "data": {
      "application/vnd.jupyter.widget-view+json": {
       "model_id": "2ff2721c63714dae827feb7f7e33d209",
       "version_major": 2,
       "version_minor": 0
      },
      "text/plain": [
       "Output()"
      ]
     },
     "metadata": {},
     "output_type": "display_data"
    },
    {
     "data": {
      "text/html": [
       "<pre style=\"white-space:pre;overflow-x:auto;line-height:normal;font-family:Menlo,'DejaVu Sans Mono',consolas,'Courier New',monospace\"></pre>\n"
      ],
      "text/plain": []
     },
     "metadata": {},
     "output_type": "display_data"
    },
    {
     "data": {
      "application/vnd.jupyter.widget-view+json": {
       "model_id": "b11b99e64d2e481e8d51c57d0a75470d",
       "version_major": 2,
       "version_minor": 0
      },
      "text/plain": [
       "Output()"
      ]
     },
     "metadata": {},
     "output_type": "display_data"
    },
    {
     "data": {
      "text/html": [
       "<pre style=\"white-space:pre;overflow-x:auto;line-height:normal;font-family:Menlo,'DejaVu Sans Mono',consolas,'Courier New',monospace\"></pre>\n"
      ],
      "text/plain": []
     },
     "metadata": {},
     "output_type": "display_data"
    },
    {
     "data": {
      "application/vnd.jupyter.widget-view+json": {
       "model_id": "7f24ee8feb7e451a9490ba0043bc1a44",
       "version_major": 2,
       "version_minor": 0
      },
      "text/plain": [
       "Output()"
      ]
     },
     "metadata": {},
     "output_type": "display_data"
    },
    {
     "data": {
      "text/html": [
       "<pre style=\"white-space:pre;overflow-x:auto;line-height:normal;font-family:Menlo,'DejaVu Sans Mono',consolas,'Courier New',monospace\"></pre>\n"
      ],
      "text/plain": []
     },
     "metadata": {},
     "output_type": "display_data"
    },
    {
     "data": {
      "application/vnd.jupyter.widget-view+json": {
       "model_id": "324ed51944ce43df873732a2e62f8dfc",
       "version_major": 2,
       "version_minor": 0
      },
      "text/plain": [
       "Output()"
      ]
     },
     "metadata": {},
     "output_type": "display_data"
    },
    {
     "data": {
      "text/html": [
       "<pre style=\"white-space:pre;overflow-x:auto;line-height:normal;font-family:Menlo,'DejaVu Sans Mono',consolas,'Courier New',monospace\"></pre>\n"
      ],
      "text/plain": []
     },
     "metadata": {},
     "output_type": "display_data"
    },
    {
     "data": {
      "application/vnd.jupyter.widget-view+json": {
       "model_id": "aa823b23be29459d89ae5a34365d68b1",
       "version_major": 2,
       "version_minor": 0
      },
      "text/plain": [
       "Output()"
      ]
     },
     "metadata": {},
     "output_type": "display_data"
    },
    {
     "data": {
      "text/html": [
       "<pre style=\"white-space:pre;overflow-x:auto;line-height:normal;font-family:Menlo,'DejaVu Sans Mono',consolas,'Courier New',monospace\"></pre>\n"
      ],
      "text/plain": []
     },
     "metadata": {},
     "output_type": "display_data"
    },
    {
     "name": "stderr",
     "output_type": "stream",
     "text": [
      "The output file size is 2.10× larger than the input file.\n",
      "Possible reasons for this include:\n",
      "--deskew was issued, causing transcoding.\n",
      "The optional dependency 'jbig2' was not found, so some image optimizations could not be attempted.\n",
      "The optional dependency 'pngquant' was not found, so some image optimizations could not be attempted.\n",
      "\n"
     ]
    },
    {
     "name": "stdout",
     "output_type": "stream",
     "text": [
      "Extracted text (first 800 characters) from 056 File 6701 D027 REV 1.PDF:\n",
      "4'-2 3’ll 144 eS \\ DN. 3’-8 4'-2 3-8 UNE - STAIR - Ae7 10TREADS @ tl = 9’-e we FOR REMAINDER S SEE SECT-A 4 VN lews (TYP,10-PLCS) p33<Ns) (TYP.10-PLCS) (REF .E6E7) 9-64 10 TREADS @ tl = 9’-2 a ZZ . NCS i J ; 2 a + % TPN 4 Oo OO Z Wa oa | a rd a27- 7 \\ oy 16 é p “EB <Te. Or 1p ao a ZB 4’-e ose S ZO Pu \\O tin 1 > 1330NS) T r ZA (TYP.10-PLCS) a: fA Lv 4 =| X& >» p33(NS) 1 © 3 6 2 (TYP,L0-PLCS) as © Lies SY? i] fom) in = A ZA 2-PLACES . NO PAINT Ags A wis <p On wo | =< 3-SIDES W/1! | 2 bY ih STYP, — RETURNS ~ ot = S 3-SIDES W/1\" & hth “TYP. RETURNS + it = ono it) 17 a on / gi P\\THFS) 1 _ o Mf ‘ yy a OX Z H os LA — 144(FS NO PAINT ° 3 | 34] stor 3'-6% ~ C27 SECTION - B CUT, BILL OF MATERIAL NO TO] Se | ASSY | cs. SECTION ee REMARKS UNT | WEIGHT | P.O.NO. ONE | Ae7 \"STAIR ae7| 1 Ci2x20,7 1 | 7% \n",
      "\n",
      "Extracting text from 092 File 6701 MP7.07.PDF using PDFTextExtractor\n"
     ]
    },
    {
     "data": {
      "application/vnd.jupyter.widget-view+json": {
       "model_id": "dcc8783ba7a145e2a3941326eda6fb3a",
       "version_major": 2,
       "version_minor": 0
      },
      "text/plain": [
       "Output()"
      ]
     },
     "metadata": {},
     "output_type": "display_data"
    },
    {
     "data": {
      "text/html": [
       "<pre style=\"white-space:pre;overflow-x:auto;line-height:normal;font-family:Menlo,'DejaVu Sans Mono',consolas,'Courier New',monospace\"></pre>\n"
      ],
      "text/plain": []
     },
     "metadata": {},
     "output_type": "display_data"
    },
    {
     "data": {
      "application/vnd.jupyter.widget-view+json": {
       "model_id": "eeaf015d0ad841a5b333775e1cbdc2c4",
       "version_major": 2,
       "version_minor": 0
      },
      "text/plain": [
       "Output()"
      ]
     },
     "metadata": {},
     "output_type": "display_data"
    },
    {
     "data": {
      "text/html": [
       "<pre style=\"white-space:pre;overflow-x:auto;line-height:normal;font-family:Menlo,'DejaVu Sans Mono',consolas,'Courier New',monospace\">c:\\Users\\adankert\\projects\\file_code_tagger\\.venv\\Lib\\site-packages\\PIL\\Image.py:3452: DecompressionBombWarning: \n",
       "Image size (453888000 pixels) exceeds limit of 250000000 pixels, could be decompression bomb DOS attack.\n",
       "  warnings.warn(\n",
       "</pre>\n"
      ],
      "text/plain": [
       "c:\\Users\\adankert\\projects\\file_code_tagger\\.venv\\Lib\\site-packages\\PIL\\Image.py:3452: DecompressionBombWarning: \n",
       "Image size (453888000 pixels) exceeds limit of 250000000 pixels, could be decompression bomb DOS attack.\n",
       "  warnings.warn(\n"
      ]
     },
     "metadata": {},
     "output_type": "display_data"
    },
    {
     "data": {
      "text/html": [
       "<pre style=\"white-space:pre;overflow-x:auto;line-height:normal;font-family:Menlo,'DejaVu Sans Mono',consolas,'Courier New',monospace\">c:\\Users\\adankert\\projects\\file_code_tagger\\.venv\\Lib\\site-packages\\PIL\\Image.py:3452: DecompressionBombWarning: \n",
       "Image size (453888000 pixels) exceeds limit of 250000000 pixels, could be decompression bomb DOS attack.\n",
       "  warnings.warn(\n",
       "</pre>\n"
      ],
      "text/plain": [
       "c:\\Users\\adankert\\projects\\file_code_tagger\\.venv\\Lib\\site-packages\\PIL\\Image.py:3452: DecompressionBombWarning: \n",
       "Image size (453888000 pixels) exceeds limit of 250000000 pixels, could be decompression bomb DOS attack.\n",
       "  warnings.warn(\n"
      ]
     },
     "metadata": {},
     "output_type": "display_data"
    },
    {
     "data": {
      "text/html": [
       "<pre style=\"white-space:pre;overflow-x:auto;line-height:normal;font-family:Menlo,'DejaVu Sans Mono',consolas,'Courier New',monospace\">[tesseract] lots of diacritics - possibly poor OCR\n",
       "</pre>\n"
      ],
      "text/plain": [
       "[tesseract] lots of diacritics - possibly poor OCR\n"
      ]
     },
     "metadata": {},
     "output_type": "display_data"
    },
    {
     "data": {
      "text/html": [
       "<pre style=\"white-space:pre;overflow-x:auto;line-height:normal;font-family:Menlo,'DejaVu Sans Mono',consolas,'Courier New',monospace\"></pre>\n"
      ],
      "text/plain": []
     },
     "metadata": {},
     "output_type": "display_data"
    },
    {
     "data": {
      "application/vnd.jupyter.widget-view+json": {
       "model_id": "f235c38a68ef4ec3adbfa5e0ad8ee5fe",
       "version_major": 2,
       "version_minor": 0
      },
      "text/plain": [
       "Output()"
      ]
     },
     "metadata": {},
     "output_type": "display_data"
    },
    {
     "data": {
      "text/html": [
       "<pre style=\"white-space:pre;overflow-x:auto;line-height:normal;font-family:Menlo,'DejaVu Sans Mono',consolas,'Courier New',monospace\"></pre>\n"
      ],
      "text/plain": []
     },
     "metadata": {},
     "output_type": "display_data"
    },
    {
     "data": {
      "application/vnd.jupyter.widget-view+json": {
       "model_id": "c3234efef2604f109ca3aec9ca0d1fa7",
       "version_major": 2,
       "version_minor": 0
      },
      "text/plain": [
       "Output()"
      ]
     },
     "metadata": {},
     "output_type": "display_data"
    },
    {
     "data": {
      "text/html": [
       "<pre style=\"white-space:pre;overflow-x:auto;line-height:normal;font-family:Menlo,'DejaVu Sans Mono',consolas,'Courier New',monospace\"></pre>\n"
      ],
      "text/plain": []
     },
     "metadata": {},
     "output_type": "display_data"
    },
    {
     "data": {
      "application/vnd.jupyter.widget-view+json": {
       "model_id": "a944a7e041374fa38176eef4bd9aa17b",
       "version_major": 2,
       "version_minor": 0
      },
      "text/plain": [
       "Output()"
      ]
     },
     "metadata": {},
     "output_type": "display_data"
    },
    {
     "data": {
      "text/html": [
       "<pre style=\"white-space:pre;overflow-x:auto;line-height:normal;font-family:Menlo,'DejaVu Sans Mono',consolas,'Courier New',monospace\"></pre>\n"
      ],
      "text/plain": []
     },
     "metadata": {},
     "output_type": "display_data"
    },
    {
     "data": {
      "application/vnd.jupyter.widget-view+json": {
       "model_id": "77f518d0353345c082dcd43e0c7bb6d7",
       "version_major": 2,
       "version_minor": 0
      },
      "text/plain": [
       "Output()"
      ]
     },
     "metadata": {},
     "output_type": "display_data"
    },
    {
     "data": {
      "text/html": [
       "<pre style=\"white-space:pre;overflow-x:auto;line-height:normal;font-family:Menlo,'DejaVu Sans Mono',consolas,'Courier New',monospace\"></pre>\n"
      ],
      "text/plain": []
     },
     "metadata": {},
     "output_type": "display_data"
    },
    {
     "name": "stderr",
     "output_type": "stream",
     "text": [
      "The output file size is 2.70× larger than the input file.\n",
      "Possible reasons for this include:\n",
      "--deskew was issued, causing transcoding.\n",
      "The optional dependency 'jbig2' was not found, so some image optimizations could not be attempted.\n",
      "The optional dependency 'pngquant' was not found, so some image optimizations could not be attempted.\n",
      "\n"
     ]
    },
    {
     "name": "stdout",
     "output_type": "stream",
     "text": [
      "Extracted text (first 800 characters) from 092 File 6701 MP7.07.PDF:\n",
      "HARDWARE INTERLOCK (TYP.) 480/30/60HZ VFD _~ SEE 9/MP7.04 M D-No ) EF-3A PI Ml] EF-3B L\\_JN /\\TFTN RHC 140, 423, 415 (SEE PLANS) Ye CAMPUS HOT WATER PI SS DPI __ VFD yy NN SEE 9/MP7.04 a ‘ad BASEMENT EXHAUST AIR 480/30/60HZ (6 EF-3 ay, SCALE: NONE DPT M M S FH-1 + FAN S a P| Pl M M } - FH-2 af \\ oS VED Pl P| a ( BO) (BO ) SEE 9/MP7.04 x DPT AD 480/30/60HZ /-7\\ SF-1 HEPA FILETED SUPPLY AIR ay, SCALE: NONE CAD 13 WATER Ir SUPPLY BMS CONTROL VALVE y | f to 1G; iF > ¢ T3 OCAL CONTROL VALVE WATER Ir <q RETURN 8 TANK MOUNTED HEAT EXCHANGER WH-1, IWH-1, PWH-1 (8 a, SCALE: NONE (9\\ TYP (=) ) A | ! MP7.0 ! MP7.03 LON TO JACE Ty Zo ee | | \\WP7.03) Yeon A =F . ved | 46ow 3 | —~— =H No . > / Y CTRL. PNL. | | n a ! ) ) FS FS | 13 | | @ | | (4, CWS -— tJ CH-1 - - Lf! . = | | P7067 CWR ~—— BASEMENT - ! |\n",
      "\n",
      "Extracting text from 09_Appendix C_UCSC EEC DD Specs VOL 2.csv using TextFileTextExtractor\n",
      "Extracted text (first 800 characters) from 09_Appendix C_UCSC EEC DD Specs VOL 2.csv:\n",
      "﻿Subject,Page Index,Author,Department,Color,Comments,Type,Volume,Section Reference,Comment Status,Note,Date\n",
      "Architect,140,dehavenjd,,#008080,A new fire alarm control panel is required,Comment,TR,3.5.15.5.a.i.3,,,6/14/2019 2:47:28 PM\n",
      "Architect,140,dehavenjd,,#008080,Remote digital voice panel is required ,Comment,TR,3.5.15.5.a.i.6,,,6/14/2019 2:53:02 PM\n",
      "Architect,140,dehavenjd,,#008080,Fireman's remote annunciator panel is required,Comment,TR,3.5.15.5.7,,,6/14/2019 2:53:56 PM\n",
      "Architect,143,dehavenjd,,#008080,Connection to central monitoring is required,Comment,TR,3.5.15.5.a.ii.1,,,6/14/2019 2:58:27 PM\n",
      "Architect,143,dehavenjd,,#008080,Mass notification function is required,Comment,TR,3.5.15.5.a.i.5,,,6/14/2019 2:51:03 PM\n",
      "Cloud+,135,Jason Moore,,#FF0000,Must use campus standard Div. 28. This \n",
      "\n",
      "Extracting text from 1324.E5.2.Central Garage wash bay 90% Plan Check.xls using SpreadsheetTextExtractor\n",
      "Extracted text (first 800 characters) from 1324.E5.2.Central Garage wash bay 90% Plan Check.xls:\n",
      "=== Sheet: 100% Schematic === UCSC Jordon Gulch Interim Sewer Stabilization Unnamed: 1 Unnamed: 2 Unnamed: 3 Unnamed: 4 Unnamed: 5 Unnamed: 6 Unnamed: 7 Kevin Crossley (WO#) (Project Manager's Email) Item Initials Spec. Ref. Sheet # Phase Reviewer Comments Consultant Response Cost Impact Y/N === Sheet: Plan Review 90% date === UCSC (Project Name and Number) Unnamed: 1 Unnamed: 2 Unnamed: 3 Unnamed: 4 Unnamed: 5 Unnamed: 6 Unnamed: 7 (Project Manager) Dave Ciolino (WO#00342232 (Project Manager's Email) dciolino@ucsc.edu Item Initials Spec. Ref. Sheet # Phase Campus Comments Consultant Response Cost Impact Y/N S/D 12/1/10 KJC comments left unresolved from 50% set of drawings 1 KJC C2 Does the water connection need to be preserved, or can it be abandoned as well? 2 KJC C2 Does the University \n",
      "\n",
      "Extracting text from 16 File 9065 C13.TIF using ImageTextExtractor\n",
      "Extracted text (first 800 characters) from 16 File 9065 C13.TIF:\n",
      " \\Proheta\\R4ELUCSC\\prenings\\ Gan Doee\\FACULTYitep {5-28-07 OSES PAL ritots\n",
      "\n",
      "ELEVATION (FEET)\n",
      "\n",
      "2450\n",
      "\n",
      "D_\\ PROFILE THRU BIORETENTION SWALE #1 & #2\n",
      "\n",
      "i2|c13 SCALE: VERT. 1\"=4”\n",
      "“SL HORIZ. 1°=20\"\n",
      "\n",
      "6° cirANoUT|\n",
      "\n",
      "ELEVATION (FEET)\n",
      "\n",
      "FOP El. 321.\n",
      "\n",
      "PED ns ourlet\n",
      "\n",
      "p75 (hore i\n",
      "\n",
      "LIMITS OF ALTERNATE PROJECT Xx-\n",
      "\n",
      "L\n",
      "2450 3+00\n",
      "\n",
      "PROFILE THRU BIORETENTION SWALE #3 & #4\n",
      "\n",
      "SCALE: VERT. 1°=4\"\n",
      "HORIZ. 1°=20°\n",
      "\n",
      "_\n",
      "\n",
      "a ee\n",
      "\n",
      "NEW ROCK LINED CHANNEL\n",
      "\n",
      "UMITS OF ALTERNATE PROJECT YY\n",
      "\n",
      "4450\n",
      "\n",
      "ELEVATION (FEET)\n",
      "\n",
      "ELEVATION (FEET)\n",
      "\n",
      "ELEVATION (FEET)\n",
      "\n",
      "d\n",
      "\n",
      "3400\n",
      "\n",
      "(PROFILE THRU DRAINAGE CHANNEL\n",
      "cuieys SCALE: VERT. 17=20°\n",
      "\n",
      "HORIZ. 1°=10°\n",
      "\n",
      "NOTES:\n",
      "PERFORATED PIPE UES FLAT WITHIN SWALE.\n",
      ". CLEANOUTS RISE 6” ABOVE FINISHED GRADE.\n",
      "\n",
      "TOP OF CLEANOUTS SHALL REMAIN OPEN TO\n",
      "ACT AS. OVERFLOW.\n",
      "\n",
      "PROFILE\n",
      "PHASE 1 - 100% CD\n",
      "\n",
      "FACULTY HOUSING\n",
      "\n",
      "STORMWATER IMPROVE\n",
      "\n",
      "Extracting text from 16619porter.doc using WordFileTextExtractor\n",
      "Extracted text (first 800 characters) from 16619porter.doc:\n",
      "SECTION 16619 AUTOMATIC TRANSFER SWITCH PART 1 - GENERAL 1.01 SECTION INCLUDES A. Automatic transfer switch. 1.02 RELATED SECTIONS A. Section 16010, Electrical General Requirements. 1.03 SUBMITTALS A. Shall be in accordance with the requirements of Section 16010. B. Materials list with manufacturer, style, series or model identified, for all contractor-furnished materials. C. Manufacturer's descriptive literature. D. Shop drawings of equipment and installation layout, including actual dimensions of equipment and clearances. Shop drawings must be submitted and approved prior to installation of any equipment. E. All systems shall be products of same manufacturer. 1.04 MANUFACTURERS A. Russellectric B. ASCO Switch Co. C. Zenith D. Or equal. 1.05 CODES AND STANDARDS A. The equipment shall conf\n",
      "\n",
      "Extracting text from 1700-167.G1.saved_resource.html using HtmlTextExtractor\n",
      "No text extracted from 1700-167.G1.saved_resource.html in temporary directory\n",
      "Extracting text from 20 Sub 5.15-R1 207.tif using ImageTextExtractor\n",
      "Extracted text (first 800 characters) from 20 Sub 5.15-R1 207.tif:\n",
      "BILL OF MATERIAL\n",
      "\n",
      "STAIR FRAME\n",
      "C12 x 20.7\n",
      "C 12 x 20.7\n",
      "C12 x 20.7\n",
      "C12 x 207\n",
      "C12 x 20.7\n",
      "ANGLE_ASS'Y.\n",
      "Lt} x tf x\n",
      "Lif x tf x\n",
      "\n",
      "i ANGLE ASSY.\n",
      "Hy Lid thx\n",
      "| Lig x th x\n",
      "q ANGLE ASS.\n",
      "i Lux ax\n",
      "| Ligx xh\n",
      "(PERFORATED)\n",
      "(BENT)\n",
      "\n",
      "ef\n",
      "(@ SHT. 207-4) ONE - STAIR FRAME ~ 207A\n",
      "\n",
      "(L0G. #4187EXTERIOR STAR $2)\n",
      "\n",
      "afl\n",
      "DETAIL _OF pm\n",
      "\n",
      "od (5)\n",
      "(6-REO'D \\\\ L-pbiFs)\n",
      "pd (NS). \\ ANGLE ASS'Y.~aa*(Ns) 2\n",
      "(REDD) \\ \\\\ (SEE DETAIL) i SHOP_NOTES: BAR ARCHITECTS\n",
      "\\ : a 1. ALL MATL'S. = ASTM A6 UNO.\n",
      "BAR ARCHITECTS MAY 06 200\n",
      "RECEIVED\n",
      "\n",
      "MAY 9 8 2003\n",
      "\n",
      ": ’ RECEIVED\n",
      "pf (NS) i DETAIL OF pg FABRICATOR NOTE:\n",
      "{4-REQ‘D,) _— eet PLEASE VERIFY IN FIELD\n",
      "ALL ELEVATIONS AND DIMENSIONS\n",
      "TP. FOR} PPI 4 SHOWN ON CZ (WITH NO\n",
      "pb & po? JI \\ a BEFORE FABRICATION OF THIS STAIR.\n",
      "\n",
      "a. G703-28 |e. (08 -Bp\n",
      "\n",
      "DETAIL~2\n",
      "SHT. 207-A\n",
      "{TYP. U.N.)\n",
      "\n",
      "Eh, SIO A a6¢2 REF. OWG. \n",
      "\n",
      "Extracting text from 2012-12-18 001 022.JPG using ImageTextExtractor\n",
      "Failed to extract text from 2012-12-18 001 022.JPG: (1, 'Estimating resolution as 328 Warning. Invalid resolution 0 dpi. Using 70 instead. Too few characters. Skipping this page Error during processing.')\n",
      "Extracting text from 21kv Cable Project description Ilse cwd.doc using WordFileTextExtractor\n"
     ]
    },
    {
     "name": "stderr",
     "output_type": "stream",
     "text": [
      "Traceback (most recent call last):\n",
      "  File \"C:\\Users\\adankert\\AppData\\Local\\Temp\\ipykernel_6096\\85131941.py\", line 60, in <module>\n",
      "    text = extractor(file_path)\n",
      "  File \"c:\\Users\\adankert\\projects\\file_code_tagger\\text_extraction\\image_extraction.py\", line 76, in __call__\n",
      "    img = self.detect_and_correct_orientation(img)\n",
      "  File \"c:\\Users\\adankert\\projects\\file_code_tagger\\text_extraction\\image_extraction.py\", line 151, in detect_and_correct_orientation\n",
      "    osd = pytesseract.image_to_osd(pil_img)\n",
      "  File \"c:\\Users\\adankert\\projects\\file_code_tagger\\.venv\\Lib\\site-packages\\pytesseract\\pytesseract.py\", line 621, in image_to_osd\n",
      "    return {\n",
      "           ~\n",
      "    ...<2 lines>...\n",
      "        Output.STRING: lambda: run_and_get_output(*args),\n",
      "        ~~~~~~~~~~~~~~~~~~~~~~~~~~~~~~~~~~~~~~~~~~~~~~~~~\n",
      "    }[output_type]()\n",
      "    ~~~~~~~~~~~~~~^^\n",
      "  File \"c:\\Users\\adankert\\projects\\file_code_tagger\\.venv\\Lib\\site-packages\\pytesseract\\pytesseract.py\", line 624, in <lambda>\n",
      "    Output.STRING: lambda: run_and_get_output(*args),\n",
      "                           ~~~~~~~~~~~~~~~~~~^^^^^^^\n",
      "  File \"c:\\Users\\adankert\\projects\\file_code_tagger\\.venv\\Lib\\site-packages\\pytesseract\\pytesseract.py\", line 352, in run_and_get_output\n",
      "    run_tesseract(**kwargs)\n",
      "    ~~~~~~~~~~~~~^^^^^^^^^^\n",
      "  File \"c:\\Users\\adankert\\projects\\file_code_tagger\\.venv\\Lib\\site-packages\\pytesseract\\pytesseract.py\", line 284, in run_tesseract\n",
      "    raise TesseractError(proc.returncode, get_errors(error_string))\n",
      "pytesseract.pytesseract.TesseractError: (1, 'Estimating resolution as 328 Warning. Invalid resolution 0 dpi. Using 70 instead. Too few characters. Skipping this page Error during processing.')\n"
     ]
    },
    {
     "name": "stdout",
     "output_type": "stream",
     "text": [
      "Extracted text (first 800 characters) from 21kv Cable Project description Ilse cwd.doc:\n",
      "Ilse, Henry and I edited your draft and also added a list of dates at the bottom for your use. Chuck DRAFT The project will replace two 45+ year-old sets of cables that transmit electricity from the PG&E meter to the main campus substation. A new cable will be pulled into an empty \"spare\" conduit that runs along with the other two conduits for the existing cables. At one point the old cable will be moved to allow clear access to the \"spare\" conduit. During this move, the old cables will be de-energized and the campus will run on a single set of cables for a short time. A single set of cables will also serve the campus when the new cables are tied into the existing system. A period of seven to eight days, from December 14 through 21 will be needed for this work. The Campus load will be hand\n",
      "\n",
      "Extracting text from 22-5205X-1.pdf using PDFTextExtractor\n",
      "Extracted text (first 800 characters) from 22-5205X-1.pdf:\n",
      "22-52052/3/4/9 22-52152/3/4/9 22-5205X.PDF Because of our continuous program of product improvement, Sears reserves the right to change materials and specifications without notice. Consult installation instructions packed with the product for final dimensional data. For complete warranty information, contact your local Sears Contract Sales Account Manager. Effective 08/08/05 Rev. 3 18705 Size Selection 30\" 22-52052 36\" 22-52152 Venting Convertible Vertical CFM 200/220 Horizontal CFM 170 Rectangular (Inches) 3 1/4 x 10 Round (Inches) 7 Vertical Sones (Vented) 4.5 Horizontal Sones (Vented) 4.5 General Features Fan Type Axial Control Type Rotary Speeds Variable Work Light* 2 @ 40W Night Light ● Amps (Maximum) 1.7 Volts 110-120 Shipping Weight (Approx. Lbs.) 30\" 16 36\" 17 Accessories 7\" Round \n",
      "\n",
      "Extracting text from 220100 General Requirements.doc using WordFileTextExtractor\n",
      "Extracted text (first 800 characters) from 220100 General Requirements.doc:\n",
      "SECTION 22 01 00 GENERAL REQUIREMENTS PART 1 - GENERAL 1.1 DESCRIPTION A. The requirements of this SECTION apply to all work of this DIVISION. B. Comply with the requirements of DIVISION 1. C. Provide a complete working installation with all equipment called for in proper operating condition. Documents do not undertake to show or list every item to be provided. When an item not shown or listed is clearly necessary for proper operation of equipment, which is shown or listed, provide an item which will allow the system to function properly at no increase in the Contract Amount. 1.2 QUALITY ASSURANCE A. Related Work Specified Elsewhere: 1. Refer to DIVISION 26 for all electrical wiring. B. Examination of the Site: 1. Visit the site prior to bidding. Take measurements and such other informatio\n",
      "\n",
      "Extracting text from 2358 - Crown College Major Maintenance Submittals Reviewers Matrix.xlsx using SpreadsheetTextExtractor\n",
      "Extracted text (first 800 characters) from 2358 - Crown College Major Maintenance Submittals Reviewers Matrix.xlsx:\n",
      "=== Sheet: Reviewers === Unnamed: 0 Unnamed: 1 Unnamed: 2 Unnamed: 3 Unnamed: 4 Unnamed: 5 Unnamed: 6 Unnamed: 7 Unnamed: 8 Unnamed: 9 Unnamed: 10 Unnamed: 11 Unnamed: 12 Specification Section SUBMITTAL DESCRIPTION Project Manager Architect - Steinberg CHES Crown College Physical Plant PP&C Mechanical Engineer PP&C Electrical Engineer PP&C Civil Engineer Other PP&C / Fire Marshal Other/ Commissioning Agent Notes Kimi Owen + David Tanza Megan Mueller Rhonda Tramble & Matt DeMonner Rhonda Tramble Eli Mowbray + Courtney Trask DIVISION 01 - GENERAL CONDITIONS 01 51 00 TEMPORARY UTILITIES KO & DT RT & MD RT EM 01 56 39 TREE PROTECTION KO & DT Roger Edberg 01 57 23 STORM WATER POLLUTION PREVETION KO & DT EM & CT 01 71 23 FIELD ENGINEERING KO & DT RT & MD RT EM 01 74 19 CONSTRUCTION WASTE MANAGEM\n",
      "\n",
      "Extracting text from 24198.txt using TextFileTextExtractor\n",
      "Extracted text (first 800 characters) from 24198.txt:\n",
      "Transmittal Report:\n",
      "\n",
      "\n",
      "\n",
      "Created by AutoCAD eTransmit Monday, November 24, 2008, 4:51 PM.\n",
      "\n",
      "\n",
      "\n",
      "Drawing:\n",
      "\n",
      "This is a transmittal based on 24198.dwg.\n",
      "\n",
      "\n",
      "\n",
      "Files:\n",
      "\n",
      "\n",
      "\n",
      "Root Drawing:\n",
      "\n",
      "\t24198.dwg\n",
      "\n",
      "\n",
      "\n",
      "AutoCAD Drawing (External) References:\n",
      "\n",
      "\t24198TPO.dwg\n",
      "\n",
      "\n",
      "\n",
      "XML Document References:\n",
      "\n",
      "\t24198GWS1.xml\n",
      "\n",
      "\n",
      "\n",
      "AutoCAD Font Map References:\n",
      "\n",
      "\tacad.fmp\n",
      "\n",
      "\n",
      "\n",
      "AutoCAD Color-dependent Plot Style Table File References:\n",
      "\n",
      "\tPlotCfgs\\KIP-BW.ctb\n",
      "\n",
      "\n",
      "\n",
      "AutoCAD Plotter Configuration File References:\n",
      "\n",
      "\tPlotCfgs\\KIP.pc3\n",
      "\n",
      "\n",
      "\n",
      "The following files were excluded from the transmittal:\n",
      "\n",
      "\tFonts\\simplex.shx\n",
      "\n",
      "\tFonts\\complex.shx\n",
      "\n",
      "\tFonts\\swissk.ttf\n",
      "\n",
      "\tFonts\\romant.shx\n",
      "\n",
      "\tFonts\\ltypeshp.shx\n",
      "\n",
      "\tFonts\\bold.shx\n",
      "\n",
      "\tFonts\\TXT.shx\n",
      "\n",
      "\tFonts\\romans.shx\n",
      "\n",
      "\n",
      "\n",
      "The following files could not be located:\n",
      "\n",
      "\tARCHITXT.(shx,ttf)\n",
      "\n",
      "\n",
      "\n",
      "\n",
      "\n",
      "Conversion:\n",
      "\n",
      "All drawing files were conve\n",
      "\n",
      "Extracting text from 48 File 1810 PR-1002 P101A.TIF using ImageTextExtractor\n",
      "Extracted text (first 800 characters) from 48 File 1810 PR-1002 P101A.TIF:\n",
      "@\n",
      "\n",
      "e608, 247. 7420\n",
      "\n",
      "GENERAL NOTES\n",
      "\n",
      "| SEE ARCHITECTURAL DEMOLITION DWG'S FOR\n",
      "\n",
      "DEMOLITION WORK,\n",
      "ALL SANITARY PIPE SHELL RUN 2X SLOPE ABOVE\n",
      "\n",
      "AND BELOW FLOOR\n",
      "\n",
      "5. ALL STORM AND OVERFLOW PIPE SHELL BE RUN\n",
      "\n",
      "(E)FDC PIPE FOR CONTINUATION SEE we) 1% SLOPE ABOVE FLOOR ANO 2% SLOPE BELOW\n",
      "\n",
      "CIV SITE UTILITY FLAN C401 OWE 7” RADE.\n",
      "\n",
      "(e0omon PacKace) ALL TRAP PRIWER LINES SHELL BE SLOPED TOWARD\n",
      "\n",
      "TO P-TRAP CF FLOOR DRAINS AHO FLOOR SINKS.\n",
      "\n",
      "~\n",
      " )\n",
      "120 5 Yangon Sta 800, Feriand, OF 7205\n",
      "\n",
      "7 moD 228.1676\n",
      "\n",
      "boora\n",
      "\n",
      "i\n",
      "\n",
      "ipommpcamon scagp\n",
      "GON OFT STATE ACTCT\n",
      "\n",
      "FIRE PROTECTION NOTES: ma 108 826\n",
      "\n",
      "1. SPRINKLERS/FIRE PROTECTION DESIGN — BUILD ee —\n",
      "DRAWINGS HAVE TO BE COORDINATED TH ALL ———\n",
      "TRADES & SUBMITTED FOR APPROVAL & RECORD\n",
      "TO FLACK & KURTZ.\n",
      "\n",
      "- 2\n",
      "(ey iS\n",
      "\n",
      "MATCH UNE.\n",
      "\n",
      "Santa Cruz, Cakfornia\n",
      "\n",
      "NUMBERED NOTES\n",
      "\n",
      "UCSC McHonry \n",
      "\n",
      "Extracting text from 4801-052.G1.WO00404296 EMS drain grate repair.xlsx using SpreadsheetTextExtractor\n",
      "Extracted text (first 800 characters) from 4801-052.G1.WO00404296 EMS drain grate repair.xlsx:\n",
      "=== Sheet: Estimate === Unnamed: 0 Unnamed: 1 Unnamed: 3 Unnamed: 4 Unnamed: 5 Unnamed: 6 WORK ORDER AND FPR ESTIMATE DATE: 2017-06-09 00:00:00 TO: Ron Dillehay FROM: Shawn Howard SUBJECT: Estimate for repair of drain grate at EMS loading dock WO / FPR #: WO00404296 An estimated cost to remove and replace damaged drain grate at EMS loading dock. The estimate is based on the noted project description and qualifications. All work to be performed to campus standards. If you wish to proceed with this work, please sign and date the estimate, forward it to the Physical Plant Work Order Desk and request a Facilities Project Requisition (FPR) be set up for the estimated scope of work. If you do not wish to proceed, please write CANCEL prominently on the this form and return it to the Physical Plan\n",
      "\n",
      "Extracting text from 5304D6CC.bgdomain.bgpostoffice.100.16A3779.1.1C868.1.xml using TextFileTextExtractor\n",
      "Extracted text (first 800 characters) from 5304D6CC.bgdomain.bgpostoffice.100.16A3779.1.1C868.1.xml:\n",
      "5304D6CC.bgdomain.bgpostoffice.100.16A3779.1.1C868.1 5304D6CC.bgdomain.bgpostoffice.100.16A3779.1.1C868.1 Internet 2008.1 1392854860 1355173311 X-Field X-Google-Dkim-Signature=v=1 true false false false true true received 1355173348 Public Normal Steve Paul <stevep@ucsc.edu> stevep@ucsc.edu David Tanza@davidt.bgpostoffice.bgdomain 1398197504315 xml/UCSC DNA Lab - Thimann 137\\Steve Paul/5304D6CC.bgdomain.bgpostoffice.100.16A3779.1.1C868.1.xml 1355173311 GW.MESSAGE.MAIL.Internet Re: thimann 137 rfi 034, 035 Steve Paul <stevep@ucsc.edu> stevep@ucsc.edu stevep@ucsc.edu Steve Paul <stevep@ucsc.edu> Jeff Pawlak Dan Miceli; David Tanza; Jim Young; 'William Glass' Dan Miceli dmiceli@ucsc.edu 5304D6CC.bgdomain.bgpostoffice.100.16A3779.1.1C868.1_R_3 CC User 0 0 0 0 0 0 0 0 0 0 0 0 0 0 0 0 0 0 0 0 0 \n",
      "\n",
      "Extracting text from 609P001.txt using TextFileTextExtractor\n",
      "Extracted text (first 800 characters) from 609P001.txt:\n",
      "Transmittal Report:\n",
      "\n",
      "\n",
      "\n",
      "Created by AutoCAD eTransmit Wednesday, May 04, 2011, 12:02 PM.\n",
      "\n",
      "\n",
      "\n",
      "Drawing:\n",
      "\n",
      "This is a transmittal based on multiple drawings.\n",
      "\n",
      "\n",
      "\n",
      "Files:\n",
      "\n",
      "\n",
      "\n",
      "Root Drawings:\n",
      "\n",
      "\t609P001.dwg\n",
      "\n",
      "\t609P002.dwg\n",
      "\n",
      "\t609P003.dwg\n",
      "\n",
      "\t609P100A.dwg\n",
      "\n",
      "\t609P100B.dwg\n",
      "\n",
      "\t609P101A.dwg\n",
      "\n",
      "\t609P101B.dwg\n",
      "\n",
      "\t609P102A.dwg\n",
      "\n",
      "\t609P102B.dwg\n",
      "\n",
      "\t609P103A.dwg\n",
      "\n",
      "\t609P103B.dwg\n",
      "\n",
      "\t609P104A.dwg\n",
      "\n",
      "\t609P104B.dwg\n",
      "\n",
      "\t609P105A.dwg\n",
      "\n",
      "\t609P105B.dwg\n",
      "\n",
      "\t609P301.dwg\n",
      "\n",
      "\t609P302.dwg\n",
      "\n",
      "\t609P303.dwg\n",
      "\n",
      "\t609P304.dwg\n",
      "\n",
      "\t609P401.dwg\n",
      "\n",
      "\t609P402.dwg\n",
      "\n",
      "\t609P404.dwg\n",
      "\n",
      "\t609P501.dwg\n",
      "\n",
      "\t609P502.dwg\n",
      "\n",
      "\t609P503.dwg\n",
      "\n",
      "\n",
      "\n",
      "AutoCAD Drawing (External) References:\n",
      "\n",
      "\tx-plans\\r_X609TB01.dwg\n",
      "\n",
      "\tx-Plans\\X609SI01.dwg\n",
      "\n",
      "\tx-plans\\bldg outline.dwg\n",
      "\n",
      "\tx-plans\\civilsite.dwg\n",
      "\n",
      "\tx-plans\\sector.dwg\n",
      "\n",
      "\tx-plans\\LP-SITEBASE.dwg\n",
      "\n",
      "\tx-plans\\pplan.dwg\n",
      "\n",
      "\tx-plans\\pgrade.dwg\n",
      "\n",
      "\tx-plans\\ACAD-R01135REV.dwg\n",
      "\n",
      "\t\n",
      "\n",
      "Extracting text from AecbIDrop.htm using HtmlTextExtractor\n",
      "No text extracted from AecbIDrop.htm in temporary directory\n",
      "Extracting text from AGENDA SHR 10-23-08.doc using WordFileTextExtractor\n",
      "Extracted text from AGENDA SHR 10-23-08.doc:\n",
      "AGENDA SHR Move Project Update Thursday October 23, 2008 2300 Delaware, Rm A138 2:00-3:00pm 1. Revised Project Schedule -- DA 10 minutes 2. Discuss Alarm System - MC, SD, AL 20 minutes 3. Discuss 90% Drawing Edits/Comments - DA 20 minutes 4. Other Topics 10 minutes\n",
      "\n",
      "Extracting text from B.T. Mancini.doc using WordFileTextExtractor\n",
      "Extracted text (first 800 characters) from B.T. Mancini.doc:\n",
      "Date: 7/10/06 Project: Humanities and Social Sciences Facility Project No. 7501 General Contractor: Devcon Construction, Inc. Fax: 831- 459-7177 Subcontractor: B. T. Mancini University of California, Santa Cruz is mandated to ensure that all Labor Compliance laws are followed on this project. We found the following items which need to be corrected: 1. Please submit DAS-1 Apprenticeship Agreement to confirm enrollment of employee Robert Reynoso as an apprentices. Pursuant to Labor Code Section 1776, you have ten days from the date of this notice to provide this documentation to UCSC, Contracts Office. If you fail to do so, the University is mandated by law to impose penalties of $25 per day per worker, even if the information you eventually submit is found to be correct. You may fax the inf\n",
      "\n",
      "Extracting text from Basic Posm.html using HtmlTextExtractor\n",
      "Extracted text from Basic Posm.html:\n",
      "Inspection Project Name {Field1} Date {Field2} Direction {Field3} Pipe Type {Field4} Pipe Size {Field5} Pipe ID {Field6} Start ID {Field7} Start Location {Field8} End ID {Field9} Completed {Field10} Comments {Comments}\n",
      "\n",
      "Extracting text from CBB Draft CIB and Backup workbook ccci 6-23-10.xls using SpreadsheetTextExtractor\n",
      "Extracted text (first 800 characters) from CBB Draft CIB and Backup workbook ccci 6-23-10.xls:\n",
      "=== Sheet: CBB_Budget === CAPITAL IMPROVEMENT BUDGET Unnamed: 1 Unnamed: 2 Unnamed: 3 Unnamed: 4 Unnamed: 5 Unnamed: 6 Unnamed: 7 Unnamed: 8 UNIVERSITY OF CALIFORNIA Unnamed: 10 Unnamed: 11 Unnamed: 12 Unnamed: 13 1 BUDGET DATA Santa Cruz 2.0 Campus 3.0 Coastal Biology Building 970250 CCCI: 5732 4.0 EPI: 3016 5.0 Project Title Campus Reference Asset No. Cost Indexes 6.0 A FUNDING SCHEDULE Per 20 - 20 C.I.P., dated Univ. Priority No. 7.0 Totals Prefunded 2011-12 2012-13 2013-14 2014-15 8.0 $ P 2,058 P 2058 9.0 W 1,648 W 2009 10.0 C 44,958 C 44629 11.0 E 1,042 E 1042.3600000000001 12.0 13.0 $ 49738.36 (Tot. Proj.) 2058 46638 1042.3600000000001 14.0 B FUNDING REFERENCES 15.0 Column (1) 2 3 (4) Total All Sources 16.0 Account No. • • • • • • • • • • • • • • • • • • • 970250 17.0 Source • • • • \n",
      "\n",
      "Extracting text from Child Care Sched.xls using SpreadsheetTextExtractor\n",
      "Extracted text (first 800 characters) from Child Care Sched.xls:\n",
      "=== Sheet: Sheet 1 === PROJECT SCHEDULE Unnamed: 1 Unnamed: 2 Unnamed: 4 Unnamed: 5 Unnamed: 6 Unnamed: 7 Unnamed: 8 Unnamed: 9 Unnamed: 10 Unnamed: 11 Unnamed: 12 Unnamed: 13 Unnamed: 14 Unnamed: 15 Unnamed: 16 Unnamed: 17 Unnamed: 18 Unnamed: 19 Unnamed: 20 Unnamed: 21 Unnamed: 22 Unnamed: 23 Unnamed: 24 Unnamed: 25 Unnamed: 26 Unnamed: 27 Unnamed: 28 Unnamed: 29 Unnamed: 30 Unnamed: 31 Unnamed: 32 Unnamed: 33 Unnamed: 34 Unnamed: 35 Unnamed: 36 Unnamed: 37 Unnamed: 38 Unnamed: 39 Unnamed: 40 Unnamed: 41 Unnamed: 42 Unnamed: 43 Unnamed: 44 Unnamed: 45 Unnamed: 46 Unnamed: 47 Unnamed: 48 Unnamed: 49 UNIVERSITY OF CALIFORNIA, SANTA CRUZ PROJECT: CHILD DEVELOPMENT FACILITY ACCOUNT NO: 970850 FISCAL YEAR No. July 1995-96 July 1996-97 July 1997-98 July 1998-99 ACTIVITY of Months J A S O N D J\n",
      "\n",
      "Extracting text from console.backup_20100302_1650.txt using TextFileTextExtractor\n",
      "Extracted text (first 800 characters) from console.backup_20100302_1650.txt:\n",
      "WARNING [12:36:14 02-Mar-10 PST][timezone] No niagara.timezone in !/lib/system.properties, set one using the Platform Administrator\n",
      "MESSAGE [12:36:14 02-Mar-10 PST][sys.registry] Up-to-date [31ms]\n",
      "MESSAGE [12:36:14 02-Mar-10 PST][sys] Baja runtime booted (\"c:\\honeywell\\webstation-ax-3.4.43\")\n",
      "MESSAGE [12:36:14 02-Mar-10 PST][sys.registry] Loaded [63ms]\n",
      "MESSAGE [12:36:14 02-Mar-10 PST][sys] Loading \"c:\\honeywell\\webstation-ax-3.4.43\\stations\\Porter_Supervisor\\config.bog\"...\n",
      "MESSAGE [12:36:14 02-Mar-10 PST][sys] Loaded (594ms)\n",
      "MESSAGE [12:36:15 02-Mar-10 PST][alarm.database] Created\n",
      "MESSAGE [12:36:15 02-Mar-10 PST][sys] Services Initialized (47ms)\n",
      "MESSAGE [12:36:15 02-Mar-10 PST][sys.mixin] Updated [0ms]\n",
      "MESSAGE [12:36:15 02-Mar-10 PST][web.server] HTTP Server started on port 80\n",
      "MESSAGE [12:3\n",
      "\n",
      "Extracting text from Copy of 4933 MSC Infrastructure 50%DD for CBB  Project Review Comment Workbook.xls using SpreadsheetTextExtractor\n",
      "Extracted text (first 800 characters) from Copy of 4933 MSC Infrastructure 50%DD for CBB  Project Review Comment Workbook.xls:\n",
      "=== Sheet: 50% SD REVIEW === Marine Science Campus Infrastructure for Coastal Biology Building, Project #4933 Unnamed: 1 Unnamed: 2 Unnamed: 3 Unnamed: 4 Unnamed: 5 Unnamed: 6 Unnamed: 7 Unnamed: 8 Unnamed: 9 Unnamed: 10 Unnamed: 11 Unnamed: 12 Unnamed: 13 Comments Due by June 6, 2011 to P.M. Kevin Crossley (crossley@ucsc.edu) Ph.# 9-4520 Design Documents Dated: 5/23/2011 Revision: 50% DESIGN DOCUMENT ITEM NUMBER REVIEW COMMENT DATE SPEC. SECTION SPEC. PAGE DRAWING SHEET DETAIL NUMBER NOTE NO. Grid Line Design Discipline REVIEWER COMMENT REVIEWER NAME/INITIALS DISCIPLINE DESIGN PROFESSIONAL RESPONSE ACTION ITEM - OPEN/CLOSED 1 2011-06-02 00:00:00 Title Sheet T-502 11 Replace text with “Provide a mule-tape suitable for a 450 lb minimum tension pull in all conduits.\" 2 2011-06-02 00:00:00 T-\n",
      "\n",
      "Extracting text from counties.sdc.xml using TextFileTextExtractor\n",
      "Extracted text (first 800 characters) from counties.sdc.xml:\n",
      "{2F87A784-8EDD-45AC-BC10-570AC1F44140} 20021204 15060200 FALSE 20060411 14290100 20060411 21293400 FALSE {CF8A914E-C1B5-44CA-94F7-48398954AC44} Microsoft Windows XP Version 5.1 (Build 2600) Service Pack 1; ESRI ArcCatalog 9.1.0.722 en U.S. Counties (Generalized) represents the counties of the United States in the 50 states and the District of Columbia. U.S. Counties (Generalized) is generalized to improve draw performance and be used effectively at a national level. Largest scale when displaying the data: 1:3,000,000. ESRI 20061001 U.S. Counties (Generalized) counties.sdc vector digital data 2006 ESRI® Data & Maps 2006 World, Europe, United States, Canada, and Mexico Redlands, California, USA ESRI Location: \\usa\\census publication date: 19920601, 2001, 200303, 200407, 20050519, 200201, 200\n",
      "\n",
      "Extracting text from Cross_Validation_Results.txt using TextFileTextExtractor\n",
      "Extracted text (first 800 characters) from Cross_Validation_Results.txt:\n",
      "Begin Part Validation | Cross\n",
      "\n",
      "Begin Part Family self validation test\n",
      "Part Family self-validation complete, no errors found\n",
      "OK: Part Domain parameter validated -- Structure_Domain\n",
      "ERROR: Part Type parameter not validated\n",
      "OK: Part Subtype parameter validated -- Cross\n",
      "OK: Part Description parameter validated -- Cross\n",
      "OK: Part Name parameter validated -- Cross\n",
      "OK: Part Size Name parameter found\n",
      "OK: Unique Part ID  validated -- 36273B6C-4625-49C9-82E5-DE0658098666\n",
      "OK: Data Version parameter validated, version = 2.0\n",
      "OK: Sample Expanded Table row successfully created\n",
      " \n",
      "Begin Calc Usage Validation\n",
      "OK: Calc Parameter PrtSN uses Context=Catalog_PartSizeName\n",
      "OK: Calc Parameter BdyD1 uses Context=BodyGeometry_Diameter\n",
      "OK: Calc Parameter BdyD2 uses Context=BodyGeometry_Diameter\n",
      "OK: Calc Parameter LenA\n",
      "\n",
      "Extracting text from CSC FSS Augmentation PBW 2-6-15.xls using SpreadsheetTextExtractor\n",
      "Extracted text (first 800 characters) from CSC FSS Augmentation PBW 2-6-15.xls:\n",
      "=== Sheet: Instructions === Introduction: Unnamed: 1 Unnamed: 2 Unnamed: 5 Unnamed: 8 Unnamed: 11 The Project Budget Worksheet is filled out by the PP&C Project Manager to provide supporting documentation of all campus costs associated with a major capital improvement project (capital improvements with a total project cost of $750,000 or more). To meet State and non-State budget requirements, the Budget Worksheet must be prepared in accordance with the UCOP Guidelines for Preparing Section C: Costs of the Project Capital Improvement Budget. Click the following URL to view these guidelines while preparing the worksheet. http://budget.ucop.edu/capital/gp/guidelines_cib-sectionc-costs.pdf Cells with red font in the Project Budget Worksheet identify cells where the Project Manager would normal\n",
      "\n",
      "Extracting text from DPP editing process email.docx using WordFileTextExtractor\n",
      "Extracted text (first 800 characters) from DPP editing process email.docx:\n",
      "TO: sk1@ucsc\\.edu; Herbie@ucsc\\.edu; barnesj@ucsc\\.edu; gbunch@ucsc\\.edu; smckay@ucsc\\.edu; rfairlie@ucsc\\.edu; szasz@ucsc\\.edu; sblayloc@ucsc\\.edu; [asassoon@ucsc\\.edu](mailto:asassoon@ucsc.edu) CC: acohen@ucsc\\.edu; dtroxell@ucsc\\.edu; 'Diane Lallemand' \\(diane@ucsc\\.edu\\); drfitch@ucsc\\.edu; dbehling@ucsc\\.edu; Felix Ang \\([felix@ucsc\\.edu](mailto:felix@ucsc.edu)\\) SUBJECT: Social Sciences 3 first draft DPP ALL: Attached to three\\(3\\) separate emails are PDFs of the __DPP for the Social Sciences Facility and the Circulation and Infrastructure Extensions, Phase 1 projects\\.__ It’s broken into three parts because of email restrictions to the size of attachments\\. The first attachment includes a separate Table of Contents\\(showing parts breakdown\\) for your reference\\. We ask you review an\n",
      "\n",
      "Extracting text from DSC_0091_MV_ASORRCMEPWJX.JPG using ImageTextExtractor\n",
      "Failed to extract text from DSC_0091_MV_ASORRCMEPWJX.JPG: (1, 'Estimating resolution as 373 Too few characters. Skipping this page Warning. Invalid resolution 0 dpi. Using 70 instead. Too few characters. Skipping this page Error during processing.')\n",
      "Extracting text from EG_2850118ffebf4358b66d610eb5ecd019.xml using TextFileTextExtractor\n",
      "No text extracted from EG_2850118ffebf4358b66d610eb5ecd019.xml in temporary directory\n",
      "Extracting text from example_lowzoom.html using HtmlTextExtractor\n",
      "Extracted text from example_lowzoom.html:\n",
      "MiniMap Test - Same zoom limits\n",
      "\n",
      "Extracting text from File 1323 #FO_45_Water Meter for EHS_5-23-14.pdf using PDFTextExtractor\n"
     ]
    },
    {
     "name": "stderr",
     "output_type": "stream",
     "text": [
      "Traceback (most recent call last):\n",
      "  File \"C:\\Users\\adankert\\AppData\\Local\\Temp\\ipykernel_6096\\85131941.py\", line 60, in <module>\n",
      "    text = extractor(file_path)\n",
      "  File \"c:\\Users\\adankert\\projects\\file_code_tagger\\text_extraction\\image_extraction.py\", line 76, in __call__\n",
      "    img = self.detect_and_correct_orientation(img)\n",
      "  File \"c:\\Users\\adankert\\projects\\file_code_tagger\\text_extraction\\image_extraction.py\", line 151, in detect_and_correct_orientation\n",
      "    osd = pytesseract.image_to_osd(pil_img)\n",
      "  File \"c:\\Users\\adankert\\projects\\file_code_tagger\\.venv\\Lib\\site-packages\\pytesseract\\pytesseract.py\", line 621, in image_to_osd\n",
      "    return {\n",
      "           ~\n",
      "    ...<2 lines>...\n",
      "        Output.STRING: lambda: run_and_get_output(*args),\n",
      "        ~~~~~~~~~~~~~~~~~~~~~~~~~~~~~~~~~~~~~~~~~~~~~~~~~\n",
      "    }[output_type]()\n",
      "    ~~~~~~~~~~~~~~^^\n",
      "  File \"c:\\Users\\adankert\\projects\\file_code_tagger\\.venv\\Lib\\site-packages\\pytesseract\\pytesseract.py\", line 624, in <lambda>\n",
      "    Output.STRING: lambda: run_and_get_output(*args),\n",
      "                           ~~~~~~~~~~~~~~~~~~^^^^^^^\n",
      "  File \"c:\\Users\\adankert\\projects\\file_code_tagger\\.venv\\Lib\\site-packages\\pytesseract\\pytesseract.py\", line 352, in run_and_get_output\n",
      "    run_tesseract(**kwargs)\n",
      "    ~~~~~~~~~~~~~^^^^^^^^^^\n",
      "  File \"c:\\Users\\adankert\\projects\\file_code_tagger\\.venv\\Lib\\site-packages\\pytesseract\\pytesseract.py\", line 284, in run_tesseract\n",
      "    raise TesseractError(proc.returncode, get_errors(error_string))\n",
      "pytesseract.pytesseract.TesseractError: (1, 'Estimating resolution as 373 Too few characters. Skipping this page Warning. Invalid resolution 0 dpi. Using 70 instead. Too few characters. Skipping this page Error during processing.')\n"
     ]
    },
    {
     "data": {
      "application/vnd.jupyter.widget-view+json": {
       "model_id": "fdcd95a521b94008aa17151f23397bc1",
       "version_major": 2,
       "version_minor": 0
      },
      "text/plain": [
       "Output()"
      ]
     },
     "metadata": {},
     "output_type": "display_data"
    },
    {
     "data": {
      "text/html": [
       "<pre style=\"white-space:pre;overflow-x:auto;line-height:normal;font-family:Menlo,'DejaVu Sans Mono',consolas,'Courier New',monospace\"></pre>\n"
      ],
      "text/plain": []
     },
     "metadata": {},
     "output_type": "display_data"
    },
    {
     "data": {
      "application/vnd.jupyter.widget-view+json": {
       "model_id": "46de36c5252f41a5a621419c0b6cb179",
       "version_major": 2,
       "version_minor": 0
      },
      "text/plain": [
       "Output()"
      ]
     },
     "metadata": {},
     "output_type": "display_data"
    },
    {
     "data": {
      "text/html": [
       "<pre style=\"white-space:pre;overflow-x:auto;line-height:normal;font-family:Menlo,'DejaVu Sans Mono',consolas,'Courier New',monospace\">[tesseract] lots of diacritics - possibly poor OCR\n",
       "</pre>\n"
      ],
      "text/plain": [
       "[tesseract] lots of diacritics - possibly poor OCR\n"
      ]
     },
     "metadata": {},
     "output_type": "display_data"
    },
    {
     "data": {
      "text/html": [
       "<pre style=\"white-space:pre;overflow-x:auto;line-height:normal;font-family:Menlo,'DejaVu Sans Mono',consolas,'Courier New',monospace\"></pre>\n"
      ],
      "text/plain": []
     },
     "metadata": {},
     "output_type": "display_data"
    },
    {
     "data": {
      "application/vnd.jupyter.widget-view+json": {
       "model_id": "fab04761fd2645e0a86c7878b5c6860e",
       "version_major": 2,
       "version_minor": 0
      },
      "text/plain": [
       "Output()"
      ]
     },
     "metadata": {},
     "output_type": "display_data"
    },
    {
     "data": {
      "text/html": [
       "<pre style=\"white-space:pre;overflow-x:auto;line-height:normal;font-family:Menlo,'DejaVu Sans Mono',consolas,'Courier New',monospace\"></pre>\n"
      ],
      "text/plain": []
     },
     "metadata": {},
     "output_type": "display_data"
    },
    {
     "data": {
      "application/vnd.jupyter.widget-view+json": {
       "model_id": "63aeac07c2f145fe8edbe6404e03d291",
       "version_major": 2,
       "version_minor": 0
      },
      "text/plain": [
       "Output()"
      ]
     },
     "metadata": {},
     "output_type": "display_data"
    },
    {
     "data": {
      "text/html": [
       "<pre style=\"white-space:pre;overflow-x:auto;line-height:normal;font-family:Menlo,'DejaVu Sans Mono',consolas,'Courier New',monospace\"></pre>\n"
      ],
      "text/plain": []
     },
     "metadata": {},
     "output_type": "display_data"
    },
    {
     "data": {
      "application/vnd.jupyter.widget-view+json": {
       "model_id": "527f579ee7104bd59eb6d16d04605ca3",
       "version_major": 2,
       "version_minor": 0
      },
      "text/plain": [
       "Output()"
      ]
     },
     "metadata": {},
     "output_type": "display_data"
    },
    {
     "data": {
      "text/html": [
       "<pre style=\"white-space:pre;overflow-x:auto;line-height:normal;font-family:Menlo,'DejaVu Sans Mono',consolas,'Courier New',monospace\"></pre>\n"
      ],
      "text/plain": []
     },
     "metadata": {},
     "output_type": "display_data"
    },
    {
     "data": {
      "application/vnd.jupyter.widget-view+json": {
       "model_id": "f7c5cbf244c84bf68f162368b5aa32df",
       "version_major": 2,
       "version_minor": 0
      },
      "text/plain": [
       "Output()"
      ]
     },
     "metadata": {},
     "output_type": "display_data"
    },
    {
     "data": {
      "text/html": [
       "<pre style=\"white-space:pre;overflow-x:auto;line-height:normal;font-family:Menlo,'DejaVu Sans Mono',consolas,'Courier New',monospace\"></pre>\n"
      ],
      "text/plain": []
     },
     "metadata": {},
     "output_type": "display_data"
    },
    {
     "name": "stderr",
     "output_type": "stream",
     "text": [
      "The output file size is 9.26× larger than the input file.\n",
      "Possible reasons for this include:\n",
      "--deskew was issued, causing transcoding.\n",
      "The optional dependency 'jbig2' was not found, so some image optimizations could not be attempted.\n",
      "The optional dependency 'pngquant' was not found, so some image optimizations could not be attempted.\n",
      "\n"
     ]
    },
    {
     "name": "stdout",
     "output_type": "stream",
     "text": [
      "Extracted text (first 800 characters) from File 1323 #FO_45_Water Meter for EHS_5-23-14.pdf:\n",
      "University of California, Santa Cruz Campus: Santa Cruz Physical Planning and Construction Field Order No. #45 Date: 5-23-14 FIELD ORDER This form to be used only for emergency instructions to a contractor where time required for preparation and execution ofa formal Change Order would result in delay or stoppage of this work, A duly authorized Change Order shall replace this Field Order as soon as possible and shall bear appropriate reference to the Field Order. Building or Job: EH&S TEMPORARY FACILITY & THIMANN LAB ROOM 144 ROOM U. C. Project No. 1323 To the Contractor: Thayer Construction Inc. General Subject: Install New Water Assembly at EHS You are hereby authorized and instructed to effect the following modifications in your contract for the above project: 1) Install new water assemb\n",
      "\n",
      "Extracting text from File 1639 Submittal # 05.16 Lee's Imperial Welding 3-26-03 E _20030619_0059.TIF using ImageTextExtractor\n",
      "Extracted text (first 800 characters) from File 1639 Submittal # 05.16 Lee's Imperial Welding 3-26-03 E _20030619_0059.TIF:\n",
      "EL. +727'-29%\n",
      "(FIRST FLOOR)\n",
      "\n",
      "= 3-44\n",
      "\n",
      "5\n",
      "\n",
      "4x 4x Px 5-3} ~ mb) (Scie)\n",
      "\n",
      "(7.0. CONCRETE)\n",
      "5-4\n",
      "\n",
      "(BPaxaxyrs-\n",
      "\n",
      "9 RISRES @ 6 = 5-24\n",
      "\n",
      "re)\n",
      "\n",
      "NO_PAINT\n",
      "\n",
      "oF\n",
      "\n",
      "4-40 x\n",
      "\n",
      "WEDGE ANCHOR)\n",
      "\n",
      "4-jo x ot\n",
      "\n",
      "WEDGE ANCHOR\n",
      "\n",
      "GL. +749'-8§\n",
      "(FOURTH FLR)\n",
      "\n",
      "ONE\n",
      "\n",
      "CL OF\n",
      "\n",
      "9 TREADS @ 114 =\n",
      "\n",
      "STAIR STRINGER ~ 152A\n",
      "\n",
      "( BLOG. #76/STAR #1)\n",
      "\n",
      "5-4\n",
      "@ RISERS @ 61 = 5'-0%\n",
      "\n",
      "CL OF\n",
      "TS BEAM\n",
      "\n",
      "EL, +743'-11\n",
      "(7.0. LANDING)\n",
      "\n",
      "pb\n",
      "(eTR'D)\n",
      "\n",
      "1 Approval by the owner of shop drawings\n",
      "inaioatee that the fobrgetor fae correct\n",
      "fequrementa, and ix releaxed by the owner fo ator febrcotion. th\n",
      "approval conatitutes the owner'a acceptar reeponeibility for\n",
      "Tee Gesign eeecucey of any ‘aetoll configuration of cannectiane. developed\n",
      "‘08 part of hia preparation of these shop drawings.\n",
      "‘Approval does not rekeve the fabricator of the responsibilty for accuracy\n",
      "‘of detail dime\n",
      "\n",
      "Extracting text from File 3302 02.TIF using ImageTextExtractor\n",
      "Extracted text (first 800 characters) from File 3302 02.TIF:\n",
      "at : ee\n",
      "\n",
      "GENOA, NOTE: a\n",
      "\n",
      "Acoustical. C¥Ling MMIEL, SULLL TE PEMoveD\n",
      "BY OWNEG PeIoe “To coNsTEUCTION Weey +\n",
      "DUAL BE CEPLACED BY CHES ATES re\n",
      "CONFLETION OF Wowk.\n",
      "\n",
      "pute OS aan\n",
      "ah eC eT):\n",
      "\n",
      "Le eecont Mb Carl)\n",
      "\n",
      "PB ait nc.\n",
      "ae\n",
      "\n",
      "0\" gus ne,\n",
      "\n",
      "Feoat oe (hurt)\n",
      "\n",
      "tore. | pean [eecjecr [ease\n",
      "\n",
      "Wee I\" erat Tec F\n",
      "\n",
      "Wels! oe Caer)\n",
      "\n",
      "key ce penihee Wek weineD rem tae vais\n",
      "Co Med SEN\n",
      "\n",
      "ual\n",
      "\n",
      "“ RpoMS Na/i2/13i\n",
      "\n",
      "Susy Car renter Hores oo aera\n",
      "L POR Wee TARTU Gre MIG, AND/IG TUS TALE LUMGRG WHORES Wh LENGTHS Mp EpRa fe Datta,\n",
      "i We Menwene te ee Seuke want,\n",
      "\n",
      "ae\n",
      "\n",
      "DULL Foe eos MUTE @\n",
      "Witt eeane <r oy Se\n",
      "\n",
      "Couprnon WEEee\n",
      "\n",
      "sie etawnees |,\n",
      "SeTWHED Sage flict i}\n",
      "we\n",
      "\n",
      "ma DA youwe wary eet en, 3\n",
      "\n",
      "fg Oy\n",
      "\n",
      "oe\" - _— amr ese\n",
      "Te AROGE STOEL PAIL FROME\n",
      "\n",
      "URXIRLE COUTUIT WHERE\n",
      "CRGuIzE ROE ELECT WAL\n",
      "\n",
      "SOCIAL SCIENCE UNITE ‘ALTERATIQNS\n",
      "\n",
      "ore \n",
      "\n",
      "Extracting text from File 4503 A 06.4.TIF using ImageTextExtractor\n",
      "Extracted text (first 800 characters) from File 4503 A 06.4.TIF:\n",
      "° t ——\n",
      "sen core Bit ser - Bay Tree\n",
      "i Tees, i xr. CEMENT PLASTER F et ETAL wa\n",
      "i fi pon — Began sn alr Te Te Pf Bent LISTER LL Se te Bookstore\n",
      "‘—— METAL FLASHING | H CONTINUED i CONT, METAL FLASHING i We. TYPE I ‘S ASSEMBLY, TYP, WP, TYPE Mi\n",
      "\\ 9 SEAMS: } To UNoeRSDG W/ SENT UP RETURN : Hl ‘SHEATHING PAPER ' we eeu SMeaTHMG PAPER and\n",
      "INTERIOR SS ext. stucco | Ii —— OOnT. $8, i SHEARING PAPER CONT, SS.\n",
      "w_ EF. fy WALL TERMINATION BAR 2 ; TERMINATION BAR G di t\n",
      "ia TZ = | Reha. a zg } GONE 8S. ne raduate\n",
      "WP, TPE W 5 bl we! F ied\n",
      "MES N an Student\n",
      "1 = a e H 5\n",
      "a | ant —— : ae — > Commons\n",
      "{ COMPRESSIBLE: “ i i w\n",
      "weouneauy fasten | beard t esuent— |\n",
      "BUABLE SEALANT esa using J T pasteney To EtAL | 72 | 3, GONE, PR SeneeO ! conmunus Santa Cruz\n",
      "LAP FLASHING OVER THROUGH Un 4 jo) SUBS BESS. . 2 STUDS W/ S\n",
      "\n",
      "Extracting text from Financial Capacity & Impact (191107).xlsx using SpreadsheetTextExtractor\n",
      "Extracted text (first 800 characters) from Financial Capacity & Impact (191107).xlsx:\n",
      "=== Sheet: Updated Analysis === Unnamed: 0 2019 Unnamed: 2 Unnamed: 3 Unnamed: 4 Unnamed: 5 Unnamed: 6 Unnamed: 7 Unnamed: 8 Unnamed: 9 Unnamed: 10 Unnamed: 11 Unnamed: 12 2020 Unnamed: 14 Unnamed: 15 Unnamed: 16 Unnamed: 17 Unnamed: 18 Unnamed: 19 Unnamed: 20 Unnamed: 21 Unnamed: 22 Unnamed: 23 Unnamed: 24 2021 Unnamed: 26 Unnamed: 27 Unnamed: 28 Unnamed: 29 Unnamed: 30 Unnamed: 31 Unnamed: 32 Unnamed: 33 Unnamed: 34 Unnamed: 35 Unnamed: 36 2022 Unnamed: 38 Unnamed: 39 Unnamed: 40 Unnamed: 41 Unnamed: 42 Unnamed: 43 Unnamed: 44 Unnamed: 45 Unnamed: 46 Unnamed: 47 Unnamed: 48 2023 J F M A M J J A S O N D J F M A M J J A S O N D J F M A M J J A S O N D J F M A M J J A S O N D J Approved Project- Schedule per V5 10/19 pro forma (For Information Only) SCENARIO 1 Period to Initial Ruling & Ass\n",
      "\n",
      "Extracting text from FSH_100DD_Stormwater Control Plan BKF.csv using TextFileTextExtractor\n",
      "Extracted text (first 800 characters) from FSH_100DD_Stormwater Control Plan BKF.csv:\n",
      "﻿Subject,Page Index,Author,Department,Color,Comments,Type,Volume,Section Reference,Comment Status,Note,Date\n",
      "Architect,3,quintanapr,,#008080,How does this reduce runoff?,,,,,,5/7/2018 8:22:51 AM\n",
      "Architect,4,quintanapr,,#008080,The drawing calls out an existing infiltration basin (call out 7). This statement reads as though it will go to a proposed basin. ,,,,,,5/9/2018 3:48:35 PM\n",
      "Architect,7,quintanapr,,#008080,Clarify sink hole vs existing infiltration basin,,,,,,5/7/2018 4:32:05 PM\n",
      "Sticky Note,2,trask,,#FFD100,This description does not explain how this project is complying with PR #1. Please read PCRs and PR#1 and provide an accurate compliance description. ,,,,,,5/7/2018 11:55:50 AM\n",
      "Sticky Note,2,trask,,#FFD100,We are at 100DD and no calculations have been provided. We can not accurately\n",
      "\n",
      "Extracting text from future.html using HtmlTextExtractor\n",
      "Extracted text (first 800 characters) from future.html:\n",
      "Future Planning FUTURE PLANNING Future planning for the campus should include detailed urban design studies to guide campus development and plans for the development, protection, management and maintenance of the campus lands and wildlife. In addition, campus-wide planning is needed for infrastructure improvements such as road, water and water systems, safety and disaster response, power supply, communication systems, lighting, signs, public spaces, and landscape elements. Objective: To provide more detailed information to aid in future decision making. Principles: The campus should develop plans for each neighborhood to address patterns of building and development, buildable sites, program capacity for suggested sites, open space, building assing, and phasing strategy. The campus should d\n",
      "\n",
      "Extracting text from FW  UCSC Cowell Questions from August 26th Meeting .msg using EmailTextExtractor\n",
      "Extracted text (first 800 characters) from FW  UCSC Cowell Questions from August 26th Meeting .msg:\n",
      "��\u0011���\u001a�\u0000\u0000\u0000\u0000\u0000\u0000\u0000\u0000\u0000\u0000\u0000\u0000\u0000\u0000\u0000\u0000>\u0000\u0003\u0000�� \u0000\u0006\u0000\u0000\u0000\u0000\u0000\u0000\u0000\u0000\u0000\u0000\u0000\u0001\u0000\u0000\u0000\u0001\u0000\u0000\u0000\u0000\u0000\u0000\u0000\u0000\u0010\u0000\u0000\u0002\u0000\u0000\u0000\u0002\u0000\u0000\u0000����\u0000\u0000\u0000\u0000\u0000\u0000\u0000\u0000����������������������������������������������������������������������������������������������������������������������������������������������������������������������������������������������������������������������������������������������������������������������������������������������������������������������������������������������������������������������������������������������������������������������������������������������������\u0004\u0000\u0000\u0000M\u0000\u0000\u0000\u0006\u0000\u0000\u0000\u0005\u0000\u0000\u0000\u0007\u0000\u0000\u0000\u0000\u0000 \u0000\u0000\u0000 \u0000\u0000\u0000 \u0000\u0000\u0000 \u0000\u0000\u0000 \u0000\u0000\u0000\u000e\u0000\u0000\u0000 \u0000\u0000\u0000 \u0000\u0000\u0000\u0010\u0000\u0000\u0000\u0011\u0000\u0000\u0000\u0012\u0000\u0000\u0000\u0013\u0000\u0000\u0000\u0014\u0000\u0000\u0000\u0015\u0000\u0000\u0000\u0016\u0000\u0000\u0000\u0017\u0000\u0000\u0000\u0018\u0000\u0000\u0000\u0019\u0000\u0000\u0000\u001a\u0000\u0000\u0000\u001b\u0000\u0000\u0000 \u0000\u0000\u0000���� \u0000\u0000\u00003\u0000\u0000\u0000 \u0000\u0000\u00008\u0000\u0000\u0000\"\u0000\u0000\u0000#\u0000\u0000\u0000$\u0000\u0000\u0000%\u0000\u0000\u0000&\u0000\u0000\u0000'\u0000\u0000\u0000(\u0000\u0000\u0000)\u0000\u0000\u0000*\u0000\u0000\u0000+\u0000\u0000\u0000,\u0000\u0000\u0000-\u0000\u0000\u0000.\u0000\u0000\u0000/\u0000\u0000\u00000\u0000\u0000\u00001\u0000\u0000\u00002\u0000\u0000\u0000����4\u0000\u0000\u00005\u0000\u0000\u00006\u0000\u0000\u00007\u0000\u0000\u00009\u0000\u0000\u0000:\u0000\u0000\u0000<\u0000\u0000\u0000;\u0000\u0000\u0000=\u0000\u0000\u0000G\u0000\u0000\u0000I\u0000\u0000\u0000?\u0000\u0000\u0000@\u0000\u0000\u0000A\u0000\u0000\u0000B\u0000\u0000\u0000C\u0000\u0000\u0000D\u0000\u0000\u0000E\u0000\u0000\u0000F\u0000\u0000\u0000����H\u0000\u0000\u0000\n",
      "\n",
      "Extracting text from G & W Electric Company - Commutating Current Limiters.mht using HtmlTextExtractor\n",
      "Extracted text (first 800 characters) from G & W Electric Company - Commutating Current Limiters.mht:\n",
      "G & W Electric Company - Commutating Current Limiters More Information CLiP Current Limiting Protectors PAF Power Assisted Fuses High Current Limiters Site Map Copyright © 2004 G&W Electric Company, all rights reserved. Commutating Current Limiters AN EFFECTIVE ALTERNATIVE FOR HIGH CURRENT PROTECTION By John S. Schaffer, G&W Electric Company SECTIONS Introduction to CCL (Commutating Current Limiters) Typical Solutions CCL Capabilities CCL Users Application and Performance Installation Photo CCL Operation Application Examples - Graphics Operation - Graphics INTRODUCTION A good place to start is with a problem statement. This may best be expressed by relating experiences that you may commonly encounter. Do you ever run into these conditions? SECTIONS Upgrade of a Service Entrance or Substati\n",
      "\n",
      "Skipping good_test_files, not a file.\n",
      "Extracting text from gtm-iframe_v1.html using HtmlTextExtractor\n",
      "No text extracted from gtm-iframe_v1.html in temporary directory\n",
      "Extracting text from guide.html using HtmlTextExtractor\n",
      "Extracted text (first 800 characters) from guide.html:\n",
      "Guidelines GUIDELINES A Note About Guidelines Previous planning and building on the UCSC campus, and the work of this Long Range Development Plan Implementation Program to date, are based on a set of understandings, principles and objectives. The maps and diagrams which outline the ideas proposed by the LRDP Implementation Program show boundaries, paths, proposed locations and land uses, and ideas about clustering and massing. The guidelines presented in the pages which follow are intended to reinforce these maps and diagrams. They attempt to express the \"ambience\" that makes UC Santa Cruz a special place and to reinforce the values which make the campus such a special place. The guidelines presented here are structured to address the concerns of the plan at four levels: Guidelines for Cam\n",
      "\n",
      "Extracting text from HAY BARN SCHEDULE #3 - Smartsheet.com.html using HtmlTextExtractor\n",
      "Extracted text (first 800 characters) from HAY BARN SCHEDULE #3 - Smartsheet.com.html:\n",
      "HAY BARN SCHEDULE #3 - Smartsheet.com Account Help Search... UPGRADE 29 Days Left Upgrade Create Your Own Sheet Home HAY BARN SCHEDULE #3 Create New Arial 10 1 2 3 4 5 6 7 8 9 10 11 12 13 14 15 16 17 18 19 20 21 22 23 24 25 26 27 HAY BARN RESTORATION 245 09/01/14 08/07/15 100% Mobilization 10 09/01/14 09/12/14 100% MOBILIZATION Mobilization Complete 1 09/12/14 09/12/14 100% MOBILIZATION COMPLETE Submittals 49 09/02/14 11/07/14 50% SUBMITTALS Wood Rehabilitation Submittal 1 11/07/14 11/07/14 0% Wood Rehab Submittal Rough Carpentry (Timber Frame)Submittal 1 11/07/14 11/07/14 0% Rough Carpentry (Timber Frame) Submittal Fire Alarm Submittal 1 11/08/14 11/08/14 0% Fire Alarm Submittal Fire Sprinklers Submittal 1 11/07/14 11/07/14 0% Fire Sprinklers Submittal Roofing Submittal 1 11/07/14 11/07/1\n",
      "\n",
      "Extracting text from IMG_7187.JPG using ImageTextExtractor\n",
      "Failed to extract text from IMG_7187.JPG: (1, 'Estimating resolution as 257 Warning. Invalid resolution 0 dpi. Using 70 instead. Too few characters. Skipping this page Error during processing.')\n",
      "Extracting text from INDEX.TXT using TextFileTextExtractor\n",
      "Extracted text (first 800 characters) from INDEX.TXT:\n",
      "1\u0000\t\u00008\u00007\u0000\t\u00001\u0000\t\u00001\u0000\t\u00001\u0000\t\u00002\u00000\u00001\u00008\u0000/\u00000\u00004\u0000/\u00001\u00007\u0000 \u00001\u00003\u0000:\u00002\u00005\u0000:\u00005\u00009\u0000\t\u0000p\u0000p\u0000c\u0000-\u0000r\u0000e\u0000c\u0000o\u0000r\u0000d\u0000s\u0000d\u0000e\u0000p\u00001\u0000\t\u0000a\u0000r\u0000c\u0000h\u0000i\u0000v\u0000e\u0000s\u0000\t\u0000C\u0000:\u0000\\\u0000U\u0000s\u0000e\u0000r\u0000s\u0000\\\u0000a\u0000r\u0000c\u0000h\u0000i\u0000v\u0000e\u0000s\u0000\\\u0000D\u0000e\u0000s\u0000k\u0000t\u0000o\u0000p\u0000\\\u00005\u00005\u00001\u00000\u0000 \u0000S\u0000u\u0000b\u0000m\u0000i\u0000t\u0000t\u0000a\u0000l\u0000s\u0000\\\u00000\u00000\u00002\u00005\u00000\u0000\\\u00000\u00000\u00002\u00005\u00000\u0000\\\u00002\u00000\u00001\u00008\u00000\u00004\u00001\u00007\u00000\u00000\u00000\u00001\u0000.\u0000p\u0000d\u0000f\u0000\t\u00002\u00000\u00001\u00008\u00000\u00004\u00001\u00007\u00000\u00000\u00000\u00001\u0000.\u0000p\u0000d\u0000f\u0000\t\u0000C\u0000:\u0000\\\u0000U\u0000s\u0000e\u0000r\u0000s\u0000\\\u0000a\u0000r\u0000c\u0000h\u0000i\u0000v\u0000e\u0000s\u0000\\\u0000D\u0000e\u0000s\u0000k\u0000t\u0000o\u0000p\u0000\\\u00005\u00005\u00001\u00000\u0000 \u0000S\u0000u\u0000b\u0000m\u0000i\u0000t\u0000t\u0000a\u0000l\u0000s\u0000\\\u00000\u00000\u00002\u00005\u00000\u0000\\\u00000\u00000\u00002\u00005\u00000\u0000\\\u0000\t\u0000P\u0000a\u0000p\u0000e\u0000r\u0000S\u0000t\u0000r\u0000e\u0000a\u0000m\u0000 \u0000I\u0000P\u0000 \u0000f\u0000i\u0000-\u00007\u00004\u00006\u00000\u0000\t\u00002\u00000\u00000\u0000\t\u00001\u00007\u00001\u00002\u0000\t\u00002\u00002\u00000\u00008\u0000\t\u00002\u00004\u0000\t\u0000\"\u0000\"\u0000\t\u0000\t\u0000\"\u0000\"\u0000\t\u00000\u0000\t\u00000\u0000\t\u00000\u0000\n",
      "\u0000\n",
      "\u00001\u0000\t\u00008\u00007\u0000\t\u00002\u0000\t\u00002\u0000\t\u00003\u0000\t\u00002\u00000\u00001\u00008\u0000/\u00000\u00004\u0000/\u00001\u00007\u0000 \u00001\u00003\u0000:\u00002\u00006\u0000:\u00000\u00000\u0000\t\u0000p\u0000p\u0000c\u0000-\u0000r\u0000e\u0000c\u0000o\u0000r\u0000d\u0000s\u0000d\u0000e\u0000p\u00001\u0000\t\u0000a\u0000r\u0000c\u0000h\u0000i\u0000v\u0000e\u0000s\u0000\t\u0000C\u0000:\u0000\\\u0000U\u0000s\u0000e\u0000r\u0000s\u0000\\\u0000a\u0000r\u0000c\u0000h\u0000i\u0000v\u0000e\u0000s\u0000\\\u0000D\u0000e\u0000s\u0000k\u0000t\u0000o\u0000p\u0000\\\u00005\u00005\u00001\u00000\u0000 \u0000S\u0000u\u0000b\u0000m\u0000i\u0000t\u0000t\u0000a\u0000l\u0000s\u0000\\\u00000\u00000\u00002\u00005\u00000\u0000\\\u00000\u00000\u00002\u00005\u00000\u0000\\\u00002\u00000\u00001\u00008\u00000\u00004\u00001\u00007\u00000\u00000\u00000\u00001\u0000.\u0000p\u0000d\u0000f\u0000\t\u00002\u00000\u00001\u00008\u00000\u00004\u00001\u00007\u00000\u00000\u00000\u00001\u0000.\u0000p\u0000d\u0000f\u0000\t\u0000C\u0000:\u0000\\\u0000\n",
      "\n",
      "Extracting text from Kresge_Early Work Package 1_Addendum 1_20190827 REV.xlsx using SpreadsheetTextExtractor\n",
      "Extracted text (first 800 characters) from Kresge_Early Work Package 1_Addendum 1_20190827 REV.xlsx:\n",
      "=== Sheet: Sheet1 === Unnamed: 0 Unnamed: 1 EARLY WORK PACKAGE NO. 1 ADDENDUM 1 Unnamed: 3 8/27/2019 REVISED 3 PM PT RFI Responses by Design Team Item No. Originating Trade/BP# Document Reference Information requested Architect Response 1 General Plan Estimation of cut/fill quantities is dependent on variance between existing and plan elevations. Existing documents do not clearly identify existing topography. Please provide existing topography. MK, SGA, 08.26.2019: a. Swinerton shall provide the updated topographic survey, as furnished by UCSC, in AutoCAD format and pdf format. File name is 'ETOPO_ALL_SUPPLEMENTAL_082219.' b. For cut/ fill quantities, refer also to drawing sheet C-450-SITE, with title block ISSUED FOR EARLY WORK PACKAGE NO. 1 ADDENDUM 1 and dated 08/26/2019 . 2 BP02 Sitewo\n",
      "\n",
      "Extracting text from MLA N_W Road.JPG using ImageTextExtractor\n"
     ]
    },
    {
     "name": "stderr",
     "output_type": "stream",
     "text": [
      "Traceback (most recent call last):\n",
      "  File \"C:\\Users\\adankert\\AppData\\Local\\Temp\\ipykernel_6096\\85131941.py\", line 60, in <module>\n",
      "    text = extractor(file_path)\n",
      "  File \"c:\\Users\\adankert\\projects\\file_code_tagger\\text_extraction\\image_extraction.py\", line 76, in __call__\n",
      "    img = self.detect_and_correct_orientation(img)\n",
      "  File \"c:\\Users\\adankert\\projects\\file_code_tagger\\text_extraction\\image_extraction.py\", line 151, in detect_and_correct_orientation\n",
      "    osd = pytesseract.image_to_osd(pil_img)\n",
      "  File \"c:\\Users\\adankert\\projects\\file_code_tagger\\.venv\\Lib\\site-packages\\pytesseract\\pytesseract.py\", line 621, in image_to_osd\n",
      "    return {\n",
      "           ~\n",
      "    ...<2 lines>...\n",
      "        Output.STRING: lambda: run_and_get_output(*args),\n",
      "        ~~~~~~~~~~~~~~~~~~~~~~~~~~~~~~~~~~~~~~~~~~~~~~~~~\n",
      "    }[output_type]()\n",
      "    ~~~~~~~~~~~~~~^^\n",
      "  File \"c:\\Users\\adankert\\projects\\file_code_tagger\\.venv\\Lib\\site-packages\\pytesseract\\pytesseract.py\", line 624, in <lambda>\n",
      "    Output.STRING: lambda: run_and_get_output(*args),\n",
      "                           ~~~~~~~~~~~~~~~~~~^^^^^^^\n",
      "  File \"c:\\Users\\adankert\\projects\\file_code_tagger\\.venv\\Lib\\site-packages\\pytesseract\\pytesseract.py\", line 352, in run_and_get_output\n",
      "    run_tesseract(**kwargs)\n",
      "    ~~~~~~~~~~~~~^^^^^^^^^^\n",
      "  File \"c:\\Users\\adankert\\projects\\file_code_tagger\\.venv\\Lib\\site-packages\\pytesseract\\pytesseract.py\", line 284, in run_tesseract\n",
      "    raise TesseractError(proc.returncode, get_errors(error_string))\n",
      "pytesseract.pytesseract.TesseractError: (1, 'Estimating resolution as 257 Warning. Invalid resolution 0 dpi. Using 70 instead. Too few characters. Skipping this page Error during processing.')\n"
     ]
    },
    {
     "name": "stdout",
     "output_type": "stream",
     "text": [
      "Failed to extract text from MLA N_W Road.JPG: (1, 'Estimating resolution as 207 Too few characters. Skipping this page Warning. Invalid resolution 0 dpi. Using 70 instead. Too few characters. Skipping this page Error during processing.')\n",
      "Extracting text from north.html using HtmlTextExtractor\n",
      "Extracted text (first 800 characters) from north.html:\n",
      "The Core North THE CORE NORTH Core North includes some of the most heavily used academic facilities of the campus. It will be one of the most urbanized places on campus; the site of most of the campus science buildings, the science library and a proposed site for a future administration building . It is an area of heavy pedestrian and bicycle circulation. The aim of the plan is to build on the spirit of the plaza and circulation adjacent to the recently completed Science Library and to create a collection of vibrant places set within a larger forest landscape. This area is bounded by the middle branch of Jordan Gulch on the east, Steinhart Way on the south, Heller Drive on the west, and extensions of Moore Creek and Jordan Gulch on the north. GUIDELINES Cluster buildings to define the majo\n",
      "\n",
      "Extracting text from Notice of Completion and Determination - Signed by Vani.pdf using PDFTextExtractor\n"
     ]
    },
    {
     "name": "stderr",
     "output_type": "stream",
     "text": [
      "Traceback (most recent call last):\n",
      "  File \"C:\\Users\\adankert\\AppData\\Local\\Temp\\ipykernel_6096\\85131941.py\", line 60, in <module>\n",
      "    text = extractor(file_path)\n",
      "  File \"c:\\Users\\adankert\\projects\\file_code_tagger\\text_extraction\\image_extraction.py\", line 76, in __call__\n",
      "    img = self.detect_and_correct_orientation(img)\n",
      "  File \"c:\\Users\\adankert\\projects\\file_code_tagger\\text_extraction\\image_extraction.py\", line 151, in detect_and_correct_orientation\n",
      "    osd = pytesseract.image_to_osd(pil_img)\n",
      "  File \"c:\\Users\\adankert\\projects\\file_code_tagger\\.venv\\Lib\\site-packages\\pytesseract\\pytesseract.py\", line 621, in image_to_osd\n",
      "    return {\n",
      "           ~\n",
      "    ...<2 lines>...\n",
      "        Output.STRING: lambda: run_and_get_output(*args),\n",
      "        ~~~~~~~~~~~~~~~~~~~~~~~~~~~~~~~~~~~~~~~~~~~~~~~~~\n",
      "    }[output_type]()\n",
      "    ~~~~~~~~~~~~~~^^\n",
      "  File \"c:\\Users\\adankert\\projects\\file_code_tagger\\.venv\\Lib\\site-packages\\pytesseract\\pytesseract.py\", line 624, in <lambda>\n",
      "    Output.STRING: lambda: run_and_get_output(*args),\n",
      "                           ~~~~~~~~~~~~~~~~~~^^^^^^^\n",
      "  File \"c:\\Users\\adankert\\projects\\file_code_tagger\\.venv\\Lib\\site-packages\\pytesseract\\pytesseract.py\", line 352, in run_and_get_output\n",
      "    run_tesseract(**kwargs)\n",
      "    ~~~~~~~~~~~~~^^^^^^^^^^\n",
      "  File \"c:\\Users\\adankert\\projects\\file_code_tagger\\.venv\\Lib\\site-packages\\pytesseract\\pytesseract.py\", line 284, in run_tesseract\n",
      "    raise TesseractError(proc.returncode, get_errors(error_string))\n",
      "pytesseract.pytesseract.TesseractError: (1, 'Estimating resolution as 207 Too few characters. Skipping this page Warning. Invalid resolution 0 dpi. Using 70 instead. Too few characters. Skipping this page Error during processing.')\n"
     ]
    },
    {
     "data": {
      "application/vnd.jupyter.widget-view+json": {
       "model_id": "16dd83d731e7450e850731183c3de187",
       "version_major": 2,
       "version_minor": 0
      },
      "text/plain": [
       "Output()"
      ]
     },
     "metadata": {},
     "output_type": "display_data"
    },
    {
     "data": {
      "text/html": [
       "<pre style=\"white-space:pre;overflow-x:auto;line-height:normal;font-family:Menlo,'DejaVu Sans Mono',consolas,'Courier New',monospace\"></pre>\n"
      ],
      "text/plain": []
     },
     "metadata": {},
     "output_type": "display_data"
    },
    {
     "data": {
      "application/vnd.jupyter.widget-view+json": {
       "model_id": "ec5c47973a204ec3ad117ec682359c09",
       "version_major": 2,
       "version_minor": 0
      },
      "text/plain": [
       "Output()"
      ]
     },
     "metadata": {},
     "output_type": "display_data"
    },
    {
     "data": {
      "text/html": [
       "<pre style=\"white-space:pre;overflow-x:auto;line-height:normal;font-family:Menlo,'DejaVu Sans Mono',consolas,'Courier New',monospace\"></pre>\n"
      ],
      "text/plain": []
     },
     "metadata": {},
     "output_type": "display_data"
    },
    {
     "data": {
      "application/vnd.jupyter.widget-view+json": {
       "model_id": "9677e5e2bd204b55b20a7611a1a69394",
       "version_major": 2,
       "version_minor": 0
      },
      "text/plain": [
       "Output()"
      ]
     },
     "metadata": {},
     "output_type": "display_data"
    },
    {
     "data": {
      "text/html": [
       "<pre style=\"white-space:pre;overflow-x:auto;line-height:normal;font-family:Menlo,'DejaVu Sans Mono',consolas,'Courier New',monospace\"></pre>\n"
      ],
      "text/plain": []
     },
     "metadata": {},
     "output_type": "display_data"
    },
    {
     "data": {
      "application/vnd.jupyter.widget-view+json": {
       "model_id": "2560025fa54f499288caf22bb39ebd65",
       "version_major": 2,
       "version_minor": 0
      },
      "text/plain": [
       "Output()"
      ]
     },
     "metadata": {},
     "output_type": "display_data"
    },
    {
     "data": {
      "text/html": [
       "<pre style=\"white-space:pre;overflow-x:auto;line-height:normal;font-family:Menlo,'DejaVu Sans Mono',consolas,'Courier New',monospace\"></pre>\n"
      ],
      "text/plain": []
     },
     "metadata": {},
     "output_type": "display_data"
    },
    {
     "data": {
      "application/vnd.jupyter.widget-view+json": {
       "model_id": "32a87a0fc14e4305849e918ae2b767a9",
       "version_major": 2,
       "version_minor": 0
      },
      "text/plain": [
       "Output()"
      ]
     },
     "metadata": {},
     "output_type": "display_data"
    },
    {
     "data": {
      "text/html": [
       "<pre style=\"white-space:pre;overflow-x:auto;line-height:normal;font-family:Menlo,'DejaVu Sans Mono',consolas,'Courier New',monospace\"></pre>\n"
      ],
      "text/plain": []
     },
     "metadata": {},
     "output_type": "display_data"
    },
    {
     "data": {
      "application/vnd.jupyter.widget-view+json": {
       "model_id": "ee936d98b4d54a2f98308a374228eef0",
       "version_major": 2,
       "version_minor": 0
      },
      "text/plain": [
       "Output()"
      ]
     },
     "metadata": {},
     "output_type": "display_data"
    },
    {
     "data": {
      "text/html": [
       "<pre style=\"white-space:pre;overflow-x:auto;line-height:normal;font-family:Menlo,'DejaVu Sans Mono',consolas,'Courier New',monospace\"></pre>\n"
      ],
      "text/plain": []
     },
     "metadata": {},
     "output_type": "display_data"
    },
    {
     "name": "stderr",
     "output_type": "stream",
     "text": [
      "The output file size is 1.87× larger than the input file.\n",
      "Possible reasons for this include:\n",
      "--deskew was issued, causing transcoding.\n",
      "The optional dependency 'jbig2' was not found, so some image optimizations could not be attempted.\n",
      "The optional dependency 'pngquant' was not found, so some image optimizations could not be attempted.\n",
      "\n"
     ]
    },
    {
     "name": "stdout",
     "output_type": "stream",
     "text": [
      "Extracted text (first 800 characters) from Notice of Completion and Determination - Signed by Vani.pdf:\n",
      "UNIVERSITY OF CALIFORNIA, SANTA CRUZ BERKELEY « DAVIS * IRVINE * LOS ANGELES * MERCED* RIVERSIDE * SAN DIEGO * SAN FRANCISCO SANTA BARBARA ¢ SANTA CRUZ PHYSICAL PLANNING AND CONSTRUCTION SANTA CRUZ, CALIFORNIA 95064 November 9, 2006 Terry Roberts State Clearinghouse 1400 Tenth Street Sacramento, CA 95814 ‘ NOTICE OF COMPLETION—MITIGATED NEGATIVE DECLARATION Project Title: Biomedical Sciences Facility Project Location: University of California, Santa Cruz Campus County: Santa Cruz In accordance with State CEQA Guidelines and the University of California (UC) CEQA Handbook, a Tiered Initial Study has been prepared for the above-named project. The Initial Study is tiered from the Environmental Impact Report for the UC Santa Cruz Long Range Development Plan 2005-2020 (2005 LRDP). The proposed \n",
      "\n",
      "Extracting text from orientation_hand_written_mess.tif using ImageTextExtractor\n",
      "Extracted text (first 800 characters) from orientation_hand_written_mess.tif:\n",
      "“wy 8D LINE \"co? }\n",
      "ee | 4\n",
      ": ELE 4 sp sup ry, Tt |\n",
      ": OD %=0.020, 1E 762.490 lle BEND A\n",
      "h SOP 4 of\n",
      "‘Ett 4 + st AND OD ,\n",
      "\n",
      "AIR RGU er VALVE\n",
      "\n",
      "Ortes NI tE. 762,50 ie ty .\n",
      "CHANNEL Ro\n",
      "~ _ Letea'[— O8OP $0 AND oO INLET Aa - gY ! DIRECTION OF L——\n",
      "\n",
      "a ss A, Lf 45° TO OUTFLOW t\n",
      "Es cboeh , oy LINE tat SN r AS REQ’D. RE 76.00 j “ « FD FLOW, TYP 3\n",
      "a m : So , i 51\\ ew ex OROF ct ot a), \\\n",
      "REQ'D FO ’\n",
      "Cag = 1ef763, = tne ct a Ecos” °° N\n",
      "\n",
      "4 7 i\n",
      "QURTYARD con, —> N\n",
      "INLET RY core\n",
      "Pi20 LF ud ‘ bo-scO011_ J RE %704 a ( 23'9\" alle 55 IE 763.00\n",
      "\n",
      "SS wie ,?@':8S 0 i 4'4 LW IE 763.00 »\n",
      "po PSS 220.005 am\n",
      "\n",
      "ny a\n",
      "{SCR SE LH S=005 | POUR pROLENE I 7S SD AND OD IE 763,00\n",
      "a SWRA Bae\n",
      "OFTG IN VINE 6762.40 5 Lf 5'> SD AND OD 5 LE 5'> SD AND\n",
      "90 70020 6 POCKET - SEE Vi $= 0.020 $= 0.020\n",
      "al 8 pet. 0-caism. | —™\n",
      "(c) _ 7 #S aoe \\ 1 77\n",
      "\n",
      "Extracting text from pdf_table.pdf using PDFTextExtractor\n",
      "Extracted text (first 800 characters) from pdf_table.pdf:\n",
      "KRESGE BUILDINGS FOR CONDITION ASSESSMENT cpsm 9-17-15 Total Area Department Area Pct% RG* w/o RG* State Fee Aux Arts Division Administration 679 0.50% 679 679 Colleges Housing Administration 1588 1.20% 1,588 1,588 Counseling and Psychological Services 513 0.40% 513 513 Film and Digital Media Department 4089 3.20% 4,089 4,089 General Arts 390 0.30% 390 390 General Assignment Classrooms 4406 3.40% 4,406 4,406 General Physical and Biological Sciences 1536 1.20% 1,536 1,536 History of Art and Visual Culture Department 534 0.40% 534 534 Housing Commercial Services 3188 2.50% 3,188 3,188 Instructional Computing Laboratories 421 0.30% 421 421 Kresge College Administration 4516 3.50% 4,516 4,516 Kresge College SLRS Administration 6383 5.00% 6,383 6,383 Physical Plant 159 0.10% 159 159 Provost- Un\n",
      "\n",
      "Extracting text from Phase B Const Schedule 041015.xlsx using SpreadsheetTextExtractor\n"
     ]
    },
    {
     "name": "stderr",
     "output_type": "stream",
     "text": [
      "c:\\Users\\adankert\\projects\\file_code_tagger\\.venv\\Lib\\site-packages\\openpyxl\\worksheet\\_reader.py:329: UserWarning: Unknown extension is not supported and will be removed\n",
      "  warn(msg)\n",
      "c:\\Users\\adankert\\projects\\file_code_tagger\\.venv\\Lib\\site-packages\\openpyxl\\worksheet\\_reader.py:329: UserWarning: Unknown extension is not supported and will be removed\n",
      "  warn(msg)\n"
     ]
    },
    {
     "name": "stdout",
     "output_type": "stream",
     "text": [
      "Extracted text (first 800 characters) from Phase B Const Schedule 041015.xlsx:\n",
      "=== Sheet: Phase B === Building Scheduling Unique Bldg. ID Building Name TR (New, Existing, Abandon) Floor TR ID TR Room Number (New)TR Room Number FOPS Hours Engineering Hours Construction for TR (9097H) Construction for Cabling (9097J) Construction for Cabling (9097K) Construction for Cabling (9097L) ITS time not needed if it is concurrent to Contractor Time. ITS time if not concurrent to Contractor Time. Construction Dependencies Description of Work Required Voice Over IP Support Premium/After Hours FOPS Hours Premium/After Hours Engineering Hours Date work needs to be completed by. Unnamed: 28 Unnamed: 29 Unnamed: 30 Unnamed: 31 Unnamed: 32 Unnamed: 33 Priority ID BldgNme TR ID trroom trroom hours hours hours hours hours 2 7098 Interdisciplinary Sci Bldg. ADF 1 7098-1.1 105 X Closet mu\n",
      "\n",
      "Extracting text from plot.log using TextFileTextExtractor\n",
      "Extracted text (first 800 characters) from plot.log:\n",
      "C:\\Documents and Settings\\Robin\\Desktop\\siesmic.ucsc\\Level 4.dwv.siesmic.dwg,Model,7/17/2003 7:15:34 AM,Robin,Lexmark Z55.pc3,Letter,1:62.6196,\n",
      "C:\\Documents and Settings\\Robin\\Desktop\\siesmic.ucsc\\Level 4.dwv.siesmic.dwg,Model,7/17/2003 7:16:25 AM,Robin,Lexmark Z55.pc3,Letter,1:86.0318,\n",
      "C:\\Documents and Settings\\Robin\\Desktop\\Level 1.dwg,Model,7/17/2003 9:00:58 AM,Robin,Lexmark Z55.pc3,Letter,1:18.2708,\n",
      "C:\\Documents and Settings\\Robin\\Desktop\\Level 1.dwg,Model,7/17/2003 10:47:02 AM,Robin,Lexmark Z55.pc3,Letter,1:31.4464,\n",
      "C:\\Documents and Settings\\Robin\\Desktop\\Level 1.dwg,Model,7/17/2003 11:03:51 AM,Robin,Lexmark Z55.pc3,Letter,1:31.4464,\n",
      "C:\\Documents and Settings\\Robin\\Desktop\\CoordFiles\\Coord1&2\\level 1 mechanichal (hvac) and process.dwg,Model,7/17/2003 11:11:36 AM,Robin,Lexmark Z55.pc3,\n",
      "\n",
      "Extracting text from princ3.html using HtmlTextExtractor\n",
      "Extracted text from princ3.html:\n",
      "Principle 3 PRINCIPLE 3 3. The tradition of building colleges in distinct clusters has established an approach to the built environment which is a symbol and a strength of the campus. Future building, both in colleges and in the core, should be in clustered groupings, providing social and public spaces within their interiors. Building clusters should continue to integrate a variety of uses and yet have an overall architectural unity. Cowell College -- A good example of building in clusters [Previous Page: Principle 2 ] [Next Page: Principle 4 ] [ Return to Guiding Principles ] [ Return to Main Page ]\n",
      "\n",
      "Extracting text from PSA Blanket 2021-2024.pdf using PDFTextExtractor\n",
      "Extracted text (first 800 characters) from PSA Blanket 2021-2024.pdf:\n",
      "April 4, 2016 Professional Services Agreement PSA-i PROFESSIONAL SERVICES AGREEMENT TABLE OF CONTENTS I. CONSULTANT SERVICES AND RESPONSIBILITIES II. TERM III. GENERAL PROVISIONS IV. COMPENSATION V. INDEMNIFICATION AND INSURANCE A. INDEMNIFICATION B. INSURANCE VI. STATUTORY AND OTHER REQUIREMENTS A. NONDISCRIMINATION B. PREVAILING WAGE RATES C. PAYROLL RECORDS D. APPRENTICES E. WORK DAY F. PATIENT HEALTH INFORMATION VII. NOTICES VIII. AUTHORITY OF AGREEMENT A. AUTHORITY OF AGREEMENT B. EXHIBITS SIGNATURE PAGE DocuSign Envelope ID: 872ABACB-927F-4CCA-B783-A19CF5CA0D23 April 4, 2016Professional Services Agreement PSA-1 PROFESSIONAL SERVICES AGREEMENT between THE REGENTS OF THE UNIVERSITY OF CALIFORNIA and ALPHA LAND SURVEYS This AGREEMENT is made on the ______ of ___________ in the year 2021\n",
      "\n",
      "Extracting text from Re  Completion Notice for CSHC Omni Install (53).msg using EmailTextExtractor\n",
      "Extracted text (first 800 characters) from Re  Completion Notice for CSHC Omni Install (53).msg:\n",
      "��\u0011���\u001a�\u0000\u0000\u0000\u0000\u0000\u0000\u0000\u0000\u0000\u0000\u0000\u0000\u0000\u0000\u0000\u0000>\u0000\u0003\u0000�� \u0000\u0006\u0000\u0000\u0000\u0000\u0000\u0000\u0000\u0000\u0000\u0000\u0000\u0001\u0000\u0000\u0000\u0001\u0000\u0000\u0000\u0000\u0000\u0000\u0000\u0000\u0010\u0000\u0000\u0002\u0000\u0000\u0000\u0002\u0000\u0000\u0000����\u0000\u0000\u0000\u0000\u0000\u0000\u0000\u0000����������������������������������������������������������������������������������������������������������������������������������������������������������������������������������������������������������������������������������������������������������������������������������������������������������������������������������������������������������������������������������������������������������������������������������������������������\u0004\u0000\u0000\u0000 \u0000\u0000\u0000\u0006\u0000\u0000\u0000\u0005\u0000\u0000\u0000\u0007\u0000\u0000\u0000\u0000\u0000 \u0000\u0000\u0000 \u0000\u0000\u0000 \u0000\u0000\u0000 \u0000\u0000\u0000 \u0000\u0000\u0000\u000e\u0000\u0000\u0000\u000f\u0000\u0000\u0000\u0016\u0000\u0000\u0000\u0010\u0000\u0000\u0000\u0011\u0000\u0000\u0000\u0012\u0000\u0000\u0000\u0013\u0000\u0000\u0000\u0014\u0000\u0000\u0000\u0015\u0000\u0000\u0000\u0018\u0000\u0000\u0000\u0017\u0000\u0000\u0000\u0019\u0000\u0000\u0000\u001a\u0000\u0000\u0000 \u0000\u0000\u0000\u001b\u0000\u0000\u0000 \u0000\u0000\u0000 \u0000\u0000\u0000 \u0000\u0000\u0000!\u0000\u0000\u0000����#\u0000\u0000\u0000\"\u0000\u0000\u0000&\u0000\u0000\u0000$\u0000\u0000\u0000%\u0000\u0000\u0000'\u0000\u0000\u0000(\u0000\u0000\u0000)\u0000\u0000\u0000*\u0000\u0000\u0000,\u0000\u0000\u0000+\u0000\u0000\u0000-\u0000\u0000\u0000/\u0000\u0000\u0000.\u0000\u0000\u00000\u0000\u0000\u00001\u0000\u0000\u00002\u0000\u0000\u00004\u0000\u0000\u00003\u0000\u0000\u00005\u0000\u0000\u00006\u0000\u0000\u00007\u0000\u0000\u00009\u0000\u0000\u00008\u0000\u0000\u0000:\u0000\u0000\u0000<\u0000\u0000\u0000;\u0000\u0000\u0000=\u0000\u0000\u0000>\u0000\u0000\u0000?\u0000\u0000\u0000����������������������������������������\n",
      "\n",
      "Extracting text from RE  DPC's and RFI's for review.msg using EmailTextExtractor\n",
      "Extracted text (first 800 characters) from RE  DPC's and RFI's for review.msg:\n",
      "��\u0011���\u001a�\u0000\u0000\u0000\u0000\u0000\u0000\u0000\u0000\u0000\u0000\u0000\u0000\u0000\u0000\u0000\u0000>\u0000\u0003\u0000�� \u0000\u0006\u0000\u0000\u0000\u0000\u0000\u0000\u0000\u0000\u0000\u0000\u0000L\u0000\u0000\u0000\u0001\u0000\u0000\u0000\u0000\u0000\u0000\u0000\u0000\u0010\u0000\u0000\u0002\u0000\u0000\u0000\u0003\u0000\u0000\u0000����\u0000\u0000\u0000\u0000\u0000\u0000\u0000\u0000j\u0000\u0000\u0000k\u0000\u0000\u0000l\u0000\u0000\u0000m\u0000\u0000\u0000n\u0000\u0000\u0000o\u0000\u0000\u0000p\u0000\u0000\u0000q\u0000\u0000\u0000r\u0000\u0000\u0000s\u0000\u0000\u0000t\u0000\u0000\u0000u\u0000\u0000\u0000;\u0006\u0000\u0000<\u0006\u0000\u0000=\u0006\u0000\u0000>\u0006\u0000\u0000?\u0006\u0000\u0000@\u0006\u0000\u0000A\u0006\u0000\u0000B\u0006\u0000\u0000C\u0006\u0000\u0000D\u0006\u0000\u0000E\u0006\u0000\u0000F\u0006\u0000\u0000\u0015 \u0000\u0000\u0016 \u0000\u0000\u0017 \u0000\u0000\u0018 \u0000\u0000\u0019 \u0000\u0000\u001a \u0000\u0000\u001b \u0000\u0000 \u0000\u0000 \u0000\u0000 \u0000\u0000 \u0000\u0000 \u0000\u00008\u0012\u0000\u00009\u0012\u0000\u0000:\u0012\u0000\u0000;\u0012\u0000\u0000<\u0012\u0000\u0000=\u0012\u0000\u0000>\u0012\u0000\u0000?\u0012\u0000\u0000@\u0012\u0000\u0000A\u0012\u0000\u0000B\u0012\u0000\u0000C\u0012\u0000\u0000Z\u0018\u0000\u0000[\u0018\u0000\u0000\\\u0018\u0000\u0000]\u0018\u0000\u0000^\u0018\u0000\u0000_\u0018\u0000\u0000`\u0018\u0000\u0000�\u001b\u0000\u0000�\u001b\u0000\u0000�\u001b\u0000\u0000�\u001b\u0000\u0000�\u001b\u0000\u0000�\u001b\u0000\u0000� \u0000\u0000� \u0000\u0000� \u0000\u0000� \u0000\u0000� \u0000\u0000� \u0000\u0000� \u0000\u0000G\"\u0000\u0000H\"\u0000\u0000I\"\u0000\u0000J\"\u0000\u0000K\"\u0000\u0000L\"\u0000\u0000M\"\u0000\u0000����������������������������������������������������������������������������������������������������������������������������������������\u0004\u0000\u0000\u0000W\u0000\u0000\u0000\u0006\u0000\u0000\u0000\u0005\u0000\u0000\u0000\u0007\u0000\u0000\u0000 \u0000\u0000\u0000\u0000\u0000 \u0000\u0000\u0000 \u0000\u0000\u0000 \u0000\u0000\u0000$\u0000\u0000\u0000 \u0000\u0000\u0000%\u0000\u0000\u0000\u000f\u0000\u0000\u0000\u0010\u0000\u0000\u0000\u0011\u0000\u0000\u0000\u0012\u0000\u0000\u0000\u0013\u0000\u0000\u0000\u0014\u0000\u0000\u0000\u0015\u0000\u0000\u0000\u0016\u0000\u0000\u0000\u0017\u0000\u0000\u0000\u0018\u0000\u0000\u0000\u0019\u0000\u0000\u0000\u001a\u0000\u0000\u0000\u001b\u0000\u0000\u0000 \u0000\u0000\u0000 \u0000\u0000\u0000 \u0000\u0000\u0000 \u0000\u0000\u0000 \u0000\u0000\u0000!\u0000\u0000\u0000\"\u0000\u0000\u0000#\u0000\u0000\u0000����'\u0000\u0000\u0000&\u0000\u0000\u00001\u0000\u0000\u0000@\u0000\u0000\u0000)\u0000\u0000\u0000*\u0000\u0000\u0000+\u0000\u0000\u0000,\u0000\u0000\u0000-\u0000\u0000\u0000.\u0000\u0000\u0000/\u0000\u0000\u00000\u0000\u0000\u0000����A\u0000\u0000\u00003\u0000\u0000\u00004\u0000\u0000\u00005\u0000\u0000\u00006\u0000\u0000\u00007\u0000\u0000\u00008\u0000\u0000\u00009\u0000\u0000\u0000:\u0000\u0000\u0000;\u0000\u0000\u0000<\u0000\u0000\u0000=\u0000\u0000\u0000>\u0000\u0000\u0000?\u0000\u0000\u0000����C\u0000\u0000\u0000B\u0000\u0000\u0000D\u0000\u0000\u0000E\u0000\u0000\u0000G\u0000\u0000\u0000F\u0000\u0000\u0000H\u0000\u0000\u0000I\u0000\u0000\u0000J\u0000\u0000\u0000K\n",
      "\n",
      "Extracting text from Re  Health Center project and crosswalk.msg using EmailTextExtractor\n",
      "Extracted text (first 800 characters) from Re  Health Center project and crosswalk.msg:\n",
      "��\u0011���\u001a�\u0000\u0000\u0000\u0000\u0000\u0000\u0000\u0000\u0000\u0000\u0000\u0000\u0000\u0000\u0000\u0000>\u0000\u0003\u0000�� \u0000\u0006\u0000\u0000\u0000\u0000\u0000\u0000\u0000\u0000\u0000\u0000\u0000\u0001\u0000\u0000\u0000\u0001\u0000\u0000\u0000\u0000\u0000\u0000\u0000\u0000\u0010\u0000\u0000\u0002\u0000\u0000\u0000\u0002\u0000\u0000\u0000����\u0000\u0000\u0000\u0000\u0000\u0000\u0000\u0000����������������������������������������������������������������������������������������������������������������������������������������������������������������������������������������������������������������������������������������������������������������������������������������������������������������������������������������������������������������������������������������������������������������������������������������������������\u0004\u0000\u0000\u0000\u0018\u0000\u0000\u0000\u0006\u0000\u0000\u0000\u0005\u0000\u0000\u0000\u0007\u0000\u0000\u0000\u0000\u0000 \u0000\u0000\u0000 \u0000\u0000\u0000 \u0000\u0000\u0000 \u0000\u0000\u0000 \u0000\u0000\u0000\u000e\u0000\u0000\u0000\u000f\u0000\u0000\u0000\u0015\u0000\u0000\u0000\u0010\u0000\u0000\u0000\u0011\u0000\u0000\u0000\u0012\u0000\u0000\u0000\u0013\u0000\u0000\u0000\u0014\u0000\u0000\u0000\u0019\u0000\u0000\u0000\u0016\u0000\u0000\u0000\u0017\u0000\u0000\u0000\"\u0000\u0000\u0000����\u001a\u0000\u0000\u0000\u001b\u0000\u0000\u0000 \u0000\u0000\u0000 \u0000\u0000\u0000 \u0000\u0000\u0000 \u0000\u0000\u0000 \u0000\u0000\u0000!\u0000\u0000\u0000$\u0000\u0000\u0000#\u0000\u0000\u0000%\u0000\u0000\u0000'\u0000\u0000\u0000&\u0000\u0000\u0000,\u0000\u0000\u0000(\u0000\u0000\u0000)\u0000\u0000\u0000*\u0000\u0000\u0000+\u0000\u0000\u0000-\u0000\u0000\u0000.\u0000\u0000\u0000/\u0000\u0000\u0000��������������������������������������������������������������������������������������������������������\n",
      "\n",
      "Extracting text from RE  Shut Down Request DCW loop 10-2-08 530pm doc (49).msg using EmailTextExtractor\n",
      "Extracted text (first 800 characters) from RE  Shut Down Request DCW loop 10-2-08 530pm doc (49).msg:\n",
      "��\u0011���\u001a�\u0000\u0000\u0000\u0000\u0000\u0000\u0000\u0000\u0000\u0000\u0000\u0000\u0000\u0000\u0000\u0000>\u0000\u0003\u0000�� \u0000\u0006\u0000\u0000\u0000\u0000\u0000\u0000\u0000\u0000\u0000\u0000\u0000\u0001\u0000\u0000\u0000\u0001\u0000\u0000\u0000\u0000\u0000\u0000\u0000\u0000\u0010\u0000\u0000\u0002\u0000\u0000\u0000\u0002\u0000\u0000\u0000����\u0000\u0000\u0000\u0000\u0000\u0000\u0000\u0000����������������������������������������������������������������������������������������������������������������������������������������������������������������������������������������������������������������������������������������������������������������������������������������������������������������������������������������������������������������������������������������������������������������������������������������������������\u0004\u0000\u0000\u0000(\u0000\u0000\u0000\u0006\u0000\u0000\u0000\u0005\u0000\u0000\u0000\u0007\u0000\u0000\u0000\u0000\u0000 \u0000\u0000\u0000 \u0000\u0000\u0000 \u0000\u0000\u0000 \u0000\u0000\u0000 \u0000\u0000\u0000\u000e\u0000\u0000\u0000 \u0000\u0000\u0000 \u0000\u0000\u0000\u0010\u0000\u0000\u0000\u0011\u0000\u0000\u0000\u0012\u0000\u0000\u0000\u0013\u0000\u0000\u0000\u0014\u0000\u0000\u0000\u0015\u0000\u0000\u0000\u0016\u0000\u0000\u0000\u0017\u0000\u0000\u0000\u0018\u0000\u0000\u0000\u0019\u0000\u0000\u0000\u001a\u0000\u0000\u0000\u001b\u0000\u0000\u0000���� \u0000\u0000\u0000 \u0000\u0000\u0000 \u0000\u0000\u0000,\u0000\u0000\u0000!\u0000\u0000\u0000\"\u0000\u0000\u0000#\u0000\u0000\u0000$\u0000\u0000\u0000%\u0000\u0000\u0000&\u0000\u0000\u0000'\u0000\u0000\u0000)\u0000\u0000\u0000����*\u0000\u0000\u0000+\u0000\u0000\u0000-\u0000\u0000\u0000.\u0000\u0000\u00000\u0000\u0000\u0000/\u0000\u0000\u00001\u0000\u0000\u00002\u0000\u0000\u00008\u0000\u0000\u00003\u0000\u0000\u00004\u0000\u0000\u00005\u0000\u0000\u00006\u0000\u0000\u00007\u0000\u0000\u0000:\u0000\u0000\u00009\u0000\u0000\u0000;\u0000\u0000\u0000=\u0000\u0000\u0000<\u0000\u0000\u0000>\u0000\u0000\u0000?\u0000\u0000\u0000@\u0000\u0000\u0000B\u0000\u0000\u0000A\u0000\u0000\u0000C\u0000\u0000\u0000D\u0000\u0000\u0000��������������������\n",
      "\n",
      "Extracting text from README.md using TextFileTextExtractor\n",
      "Extracted text (first 800 characters) from README.md:\n",
      "Leaflet.MousePosition Leaflet.MousePosition is a simple mouse position control that you can drop into your leaflet map. It displays geographic coordinates of the mouse pointer, as it is moved about the map. Using the Mouse Position Control Insert the following line: ... L.control.mousePosition().addTo(map); ... Available Options: These are the available options: position: The standard Leaflet.Control position parameter. Defaults to 'bottomleft' separator: To separate longitude\\latitude values. Defaults to ' : ' emptystring: Initial text to display. Defaults to 'Unavailable' numDigits: Number of digits. Defaults to 5 lngFirst: Weather to put the longitude first or not. Defaults to false lngFormatter: Custom function to format the longitude value. Defaults to undefined latFormatter: Custom f\n",
      "\n",
      "Extracting text from RFI 0290 response.pdf using PDFTextExtractor\n",
      "Extracted text (first 800 characters) from RFI 0290 response.pdf:\n",
      "DEVCON Response Pending Response Returned CONSTRUCTION cc: Hold File (WY) cc: 6701. G12 (WY) INCORPORATED 2-1532 East Cliff Drive Santa Cruz, California 95062 (831) 462-4333 Lic. #399163 FAX (831) 462-4699 Biomedical Science Facility - Phase II: D06-548 Request for Information - (100% CD's) RFI Number: 290 Date: Trans. Record Attention: Date Sent Date Received UCSC Job #: DCI to UCSC Wenbo Yuan 11/18/09 Originator: UCSC to EHDD Response Date: EHDD to Cons. Subject: Cons. to EHDD EHDD to UCSC Wenbo Yuan UCSC to DCI Jim Lalanne Possible Cost Impact: Yes Possible Schedule Impact: Yes Name Company/Organization Email Address Cc: x Devcon Devcon Cc: x Sadie Miles UCSC sdmiles@ucsc.edu Request By: Carl Bacon Response By: Name Company/Organization Email Address Response Sent To: 11/18/09 Sheet P2.\n",
      "\n",
      "Extracting text from scanned_pink_paper.pdf using PDFTextExtractor\n",
      "Extracted text (first 800 characters) from scanned_pink_paper.pdf:\n",
      "IMPOFTANT: SEEI REVERSE FOF INFOFMATION REGARDING MECHANICS LIEN LAWS, CFEDIT SALE INFORMATION, & TEFMS AND CONDITIONS OF SALE. Business Address: 146 ENCINAL STREET SANTACBUZ, CA95060 8311426-7280 3?- y'a¿ 4r4û4.ao &aozeæ e eclillrt4? Sq'þ//?, ?oø, Mailing Address: P.O. Box 507 Santa Cruz, CA 9506'1 CAUTION: Freshly mixed concrete may cause skin irritatlon on prolonged exposure. Avoid direct contact where possible and wash exposed skin areas promptly with water, lf any cemenllous mater¡als get into the eye, rlnse immediately and repeatedly w¡th water and get prompt medlcal attention. Keep out ol reach of chlldren. SHIP TO: nilE Mtx No. THIS YDSJIIETERS ORD'D usE DRIVER/TRUCK IIAP COORDINAIE PLANT/TFANSACTION f DATE NO. OF LOADS ACCUI'. YDS,/ITETERS BATCH T WATEF TFIIi T|CKEÍ NUilBEN WEIGHM\n",
      "\n",
      "Extracting text from slide0278.htm using HtmlTextExtractor\n",
      "Extracted text from slide0278.htm:\n",
      "No Slide Title South Entry Area Site Analysis Historic Resources\n",
      "\n",
      "Extracting text from slide0283.htm using HtmlTextExtractor\n",
      "Extracted text from slide0283.htm:\n",
      "No Slide Title\n",
      "\n",
      "Extracting text from Sprink Rev to G.R e2.doc using WordFileTextExtractor\n"
     ]
    },
    {
     "name": "stderr",
     "output_type": "stream",
     "text": [
      "c:\\Users\\adankert\\projects\\file_code_tagger\\text_extraction\\extraction_utils.py:160: GuessedAtParserWarning: No parser was explicitly specified, so I'm using the best available HTML parser for this system (\"lxml\"). This usually isn't a problem, but if you run this code on another system, or in a different virtual environment, it may use a different parser and behave differently.\n",
      "\n",
      "The code that caused this warning is on line 160 of the file c:\\Users\\adankert\\projects\\file_code_tagger\\text_extraction\\extraction_utils.py. To get rid of this warning, pass the additional argument 'features=\"lxml\"' to the BeautifulSoup constructor.\n",
      "\n",
      "  soup = BeautifulSoup(html, parser)\n"
     ]
    },
    {
     "name": "stdout",
     "output_type": "stream",
     "text": [
      "Extracted text (first 800 characters) from Sprink Rev to G.R e2.doc:\n",
      "Project No. 2208-002 Communication Building Fire Sprinkler Renovation REVISIONS TO GENERAL REQUIREMENTS 1.00 SUMMARY OF WORK 1.01 WORK REQUIRED BY CONTRACT DOCUMENTS A. Provide a complete wet-pipe automatic sprinkler system, and associated equipment, ready for operation. a. Work includes designing, engineering and installing modifications to an existing wet-pipe automatic sprinkler system for the existing Communications Building Basement EDP Facility spaces as shown on the contract drawings to afford complete fire protection throughout the areas indicated. b. Provide an accurate Ghant (bar) chart for Contract schedule, demonstrating all major construction events. B. Current Language 4.00 SUBMITTALS 4.02 PROPOSED PRODUCTS, SAMPLES & SHOP DRAWINGS A. Current Language. B. Submitted shop drawi\n",
      "\n",
      "Extracting text from Summary of Changes - ASTM D2513 (2011b-2012).pdf using PDFTextExtractor\n",
      "Extracted text (first 800 characters) from Summary of Changes - ASTM D2513 (2011b-2012).pdf:\n",
      "Summary of Substantive Changes between the 2011b and the 2012 editions of ASTM D2513, “Polyethylene (PE) Gas Pressure Pipe Tubing, and Fittings” Presented to the IAPMO Standards Review Committee on April 9, 2012 General: The changes to this standard will require additional markings for currently listed products. The changes to the standard include:  Test method ASTM D2837 was referenced in place of the (HDB) substantiation procedure (section 4.8); however, the test itself did not change.  Added the requirement of marking in accordance with ASTM F2897 (section 7.6). Section 2: Referenced Documents: Section 2.1.4, Specification For: Changed the references as follows: ASTM F2897 Specification for Tracking and Traceability Encoding System of Natural Gas Distribution Components (Pipe, Tubing,\n",
      "\n",
      "Extracting text from SWPPP 4506 005.jpg using ImageTextExtractor\n",
      "No text extracted from SWPPP 4506 005.jpg in temporary directory\n",
      "Extracting text from Table 5.2.XLS using SpreadsheetTextExtractor\n",
      "Extracted text (first 800 characters) from Table 5.2.XLS:\n",
      "=== Sheet: Sheet1 === Table 5.2 Unnamed: 1 Unnamed: 2 Unnamed: 4 Unnamed: 5 Unnamed: 7 Unnamed: 8 Unnamed: 10 Unnamed: 11 Unnamed: 13 Unnamed: 14 UC MBEST Land Utilization and Buildout Program by Land Use Development Area West Central North Central South East Total Land Use Acres S.F. Acres S.F. Acres S.F. Acres S.F. Acres S.F. Research and Development (R&D) 9.7 127020 39.3 553386 18.6 161956 213 2771261 280.6 3613623 Light Industrial/Service Commercial (LI/SC)* 29.7 331405 29.7 331405 Commercial Mixed-Use (CMU)* 4 42602 18.7 245156 8.9 77798 31.6 365556 Special Amenity Uses 13.2 114476 13.2 114476 Runway Protection 7.1 7.1 Open Space 8.6 5.1 6.6 13.9 34.199999999999996 In-Tract Roads 4 8.2 2.6 25.4 40.199999999999996 Total Development 56 501027 71.3 798542 36.7 239754 272.59999999999997 2\n",
      "\n",
      "Extracting text from TEMP122.TIF using ImageTextExtractor\n",
      "Extracted text from TEMP122.TIF:\n",
      "ive emg cout Uns 004g \\puNes ANG BFENEO OS\n",
      "\n",
      "NVWS.LNOW Be\n",
      "pan asa ava ON\n",
      "(L3S SS3Y0ONd +0/61/1\n",
      "vosae ouynaas\n",
      "\n",
      "JUVMV13C 00E2\n",
      "\n",
      "ZNO WLNVS\n",
      "\n",
      "VINHOAITVO 40 ALISHSAINN\n",
      "\n",
      "9 ® @ © @ @ @ @ ®\n",
      "a a A =, + -- 8 [ _\n",
      "| @\n",
      "al i Olo\n",
      "| O\n",
      "5 ot 6)\n",
      "\n",
      "=|\n",
      "|\n",
      "| Pe) °\n",
      "| L - @\n",
      "|,\n",
      "| a @)\n",
      "bs =\n",
      "\n",
      "a a a ar ae = a5 = H! @)\n",
      "\n",
      "4 !\n",
      "\n",
      "o-oo ee se ee ee .- - —@®\n",
      "\n",
      "@ INNHOLVA\n",
      "\n",
      "\n",
      "\n",
      "Extracting text from Trans Forell RFI_18_19 Stevenson Commons 5-23-07.doc using WordFileTextExtractor\n",
      "Extracted text from Trans Forell RFI_18_19 Stevenson Commons 5-23-07.doc:\n",
      "T R A N S M I T T A L \u0013 U n i v e r s i t y of C a l i f o r n i a, S a n t a C r u z \u0013 Office of Campus Physical Planning and Construction Information (831) 459-2170 FAX (831) 423-7436 HOUSING SEISMIC CORRECTIONS - STEVENSON COMMONS 10069-001 DATE: May 23, 2007 TO: Geoff Bomba, S.E. Forell / Elsesser Engineers, Inc. 160 Pine Street, Suite 600 San Francisco, CA 94111 (415) 837-0700 (415) 837-0800 FROM: Wenbo Yuan University Representative (831) 459-3003 # of Pages (inc. this sheet): # 3 CONTENTS AND REMARKS: Request for Information #: Description: Copies included: 18, 19 Shotcrete wall to existing wall and new grade beam Over excavation 1 COMMENTS: See attached RFI #18 & #19 from Cen-Con. Copies to: Nate Powers, Senior Inspector (w/ encls.) File: 10069-001.G12\n",
      "\n",
      "Extracting text from UCSC CBB daily 2.26.16.docx using WordFileTextExtractor\n",
      "Extracted text (first 800 characters) from UCSC CBB daily 2.26.16.docx:\n",
      "![swinerton logo portrait.gif](data:image/gif;base64,R0lGODlhagBqAHcAACH5BAEAAAAALAAAAABqAGoAh/8A/wATUAAZVQAcWAIgWgAkXwEpYgApawYjXQghYwonXwgpawYuZgkuaQ8rYhApaxMvZQ4xaRM5bhA5cxcyaBs2ahY8cRo/ch85bSM9cCI/ciJFeCFKeys0XihCcylCey5HdihKeyxPfilShDI1WzFKeTBRgDFahD04VzZNfDlQfjxTgDhYhTlajEE5Vj5VgUNahUJajEJgi0o6U0heiEphi0pjlExpkVA7UFBljVRoj1Jsk1VwllJznFo9TVltk1txllp0ml14nGByl2J1mWR5nGV+oW5BRmp8nm5/oW2Co3BBRXOEpHOErXKJqHWLqniHpnqKqHyNq32Sr3uUtYCPrIWTr4OWsoebtYlFPImXso2btY6guo+hupKft5ScvZWju5StvZStxpqnvp6qwJ2tw6Ouw6ezx6W1zqu2yK64y7C6zLW+z7W91rfC0r3G1MHL2b3O3sLJ18XM2cfP28rT38vR3c7V4NHY49PZ49fd5tzh6N7e7+Dl6+Xp7uns8efv9+/x9PL09/b3+fr6/Pv8/P7+/gAAAAAAAAAAAAAAAAAAAAAAAAAAAAAAAAAAAAAAAAAAAAAAAAAAAAAAAAAAAAAAAAAAAAAAAAAAAAAAAAAAAAAAAAAAAAAAAAAAAAAAAAAAAAAAAAAAAAAAAAAAAAAAAAAAAAAAAAAAAAAAAAAAAAAAAAAAAAAAAAAAAAA\n",
      "\n",
      "Extracting text from UCSC Cowell.msg using EmailTextExtractor\n",
      "Extracted text (first 800 characters) from UCSC Cowell.msg:\n",
      "��\u0011���\u001a�\u0000\u0000\u0000\u0000\u0000\u0000\u0000\u0000\u0000\u0000\u0000\u0000\u0000\u0000\u0000\u0000>\u0000\u0003\u0000�� \u0000\u0006\u0000\u0000\u0000\u0000\u0000\u0000\u0000\u0000\u0000\u0000\u0000\u0005\u0000\u0000\u0000\u0001\u0000\u0000\u0000\u0000\u0000\u0000\u0000\u0000\u0010\u0000\u0000\u0002\u0000\u0000\u0000\u0002\u0000\u0000\u0000����\u0000\u0000\u0000\u0000\u0000\u0000\u0000\u00006\u0000\u0000\u00007\u0000\u0000\u0000!\u0001\u0000\u0000\"\u0001\u0000\u0000������������������������������������������������������������������������������������������������������������������������������������������������������������������������������������������������������������������������������������������������������������������������������������������������������������������������������������������������������������������������������������������������������������������������������������\u0004\u0000\u0000\u0000+\u0000\u0000\u0000\u0006\u0000\u0000\u0000\u0005\u0000\u0000\u0000\u0007\u0000\u0000\u0000 \u0000\u0000\u0000\u0000\u0000 \u0000\u0000\u0000 \u0000\u0000\u0000 \u0000\u0000\u0000 \u0000\u0000\u0000\u001a\u0000\u0000\u0000\u0019\u0000\u0000\u0000\u000f\u0000\u0000\u0000\u0010\u0000\u0000\u0000\u0011\u0000\u0000\u0000\u0012\u0000\u0000\u0000\u0013\u0000\u0000\u0000\u0014\u0000\u0000\u0000\u0015\u0000\u0000\u0000\u0016\u0000\u0000\u0000\u0017\u0000\u0000\u0000\u0018\u0000\u0000\u0000����\u001b\u0000\u0000\u0000 \u0000\u0000\u0000 \u0000\u0000\u0000 \u0000\u0000\u0000 \u0000\u0000\u0000&\u0000\u0000\u0000 \u0000\u0000\u0000!\u0000\u0000\u0000\"\u0000\u0000\u0000#\u0000\u0000\u0000$\u0000\u0000\u0000%\u0000\u0000\u0000'\u0000\u0000\u0000(\u0000\u0000\u0000*\u0000\u0000\u0000)\u0000\u0000\u0000.\u0000\u0000\u0000,\u0000\u0000\u0000����-\u0000\u0000\u0000/\u0000\u0000\u00000\u0000\u0000\u00002\u0000\u0000\u00001\u0000\u0000\u00003\u0000\u0000\u00004\u0000\u0000\u00005\u0000\u0000\u0000 \u0001\u0000\u0000 \u0001\u0000\u0000��������9\u0000\u0000\u0000:\u0000\u0000\u0000;\u0000\u0000\u0000<\u0000\u0000\u0000=\u0000\u0000\u0000>\u0000\u0000\u0000?\u0000\u0000\u0000@\u0000\u0000\u0000A\u0000\u0000\u0000B\u0000\u0000\u0000C\u0000\u0000\u0000D\u0000\u0000\u0000E\u0000\u0000\u0000F\u0000\u0000\u0000G\u0000\u0000\u0000H\u0000\u0000\u0000\n",
      "\n",
      "Extracting text from UCSC Crown MM Estimate Reconciliation - 8.7.17.xlsx using SpreadsheetTextExtractor\n",
      "Extracted text (first 800 characters) from UCSC Crown MM Estimate Reconciliation - 8.7.17.xlsx:\n",
      "=== Sheet: Addl Scope Cost Study === UCSC Crown College Unnamed: 1 Unnamed: 2 Add-Scope/Costs Study 2017-06-12 00:00:00 Note: items listed below are added scope, not included in original 2015 cost estimate Description Updated Cost Added Apartment Layout (Bed and Bath) Construction Value (escalation included) 1707000 A/E Fee PP&C, Special Item Subtotal: 1707000.0 Added \"purple pipe\" (ASA 02) Construction Value (escalation included) 144402 A/E Fee PP&C, Special Item Subtotal: 144402.0 Added Power Feeder Cabinet (ASA 04) Construction Value (escalation included) 146354 A/E Fee PP&C, Special Item Subtotal: 146354.0 Added Site Domestic Water and Gas (ASA 06) Construction Value (escalation included) 1640747 A/E Fee PP&C, Special Item Subtotal: 1640747.0 Added WAPs in every room (ASA 07) Construct\n",
      "\n",
      "Extracting text from updated cost worksheet 5-17-11.xls using SpreadsheetTextExtractor\n",
      "Extracted text (first 800 characters) from updated cost worksheet 5-17-11.xls:\n",
      "=== Sheet: Sheet1 === Unnamed: 0 Unnamed: 1 Unnamed: 4 Unnamed: 5 Unnamed: 6 Unnamed: 7 Unnamed: 8 Unnamed: 9 PRELIMINARY COST ESTIMATES 2011-05-03 00:00:00 OAKES TO COLLEGE 8 PATHWAY IMPROVEMENTS Pathway between College 8 and Oakes BASE BID QUANTITY UNIT RATE PRICE 1 Demolition (existing pathway) 1450 SF 2 2900 2 Demolition (existing stairs) 315 SF 4 1260 3 Site clearing and grading, fine prep 1450 SF 1 1450 4 Subsurface base- baserock, sand SF 5 New concrete pathway (4\"depth, integral color, broom finish) 1450 SF 12 17400 6 New concrete stairs (2 sets, 14 total treads, 15ft wide, 1.5' tread) 315 LF 75 23625 7 New handrails (hot dipped galvanized) 56 LF 125 7000 subtotal 53635 BID ALTERNATE- area below 2nd stairway to service road 1 Demolition (existing) 1065 SF 2 2130 2 Subsurface base- \n",
      "\n",
      "Extracting text from Video.html using HtmlTextExtractor\n",
      "Extracted text from Video.html:\n",
      "Videos Created for Session UCSC BI BLDG INCREMENT 1 SSMH 211-1-1-SSMH 211-1-2-10162015-93848 AM-D-8608.wmv Size: 25.6 MB Created with the report generator\n",
      "\n",
      "Extracting text from Weekly PM Report 082012.xls using SpreadsheetTextExtractor\n",
      "Extracted text (first 800 characters) from Weekly PM Report 082012.xls:\n",
      "=== Sheet: New Weekly Project Report === WEEKLY PROJECT REPORT Unnamed: 1 Unnamed: 2 Unnamed: 4 Unnamed: 8 Unnamed: 9 Unnamed: 10 Project Name: Campus Wide 2011 OMP Exterior Ltg-Streetlights Week Of: 2012-08-20 00:00:00 Project No.: 10000-184 Weather Conditions: foggy mornings/sun in afternoon Prime Contractor Work is being done \"in-house\" by the Lighting Shop Sub Contractors: Schedule Status: Project End Date: 11/1/12 Conformance to Schedule (+,-): on schedule Work Performed Daily: Monday: Rudy did not work on this project today. I was told he is not scheduled back on this job until Wednesday. Today is TJ's first day and is not scheduled for this job either. 2012-08-20 00:00:00 Tuesday: Rudy did not work on this project today. 2012-08-21 00:00:00 Wednesday: Rudy brought TJ up to speed on \n",
      "\n",
      "Extracting text from Weekly PM Report SEP PSB_9-9-13.xlsx using SpreadsheetTextExtractor\n",
      "Extracted text (first 800 characters) from Weekly PM Report SEP PSB_9-9-13.xlsx:\n",
      "=== Sheet: New Weekly Project Report === WEEKLY PROJECT REPORT Unnamed: 1 Unnamed: 2 Unnamed: 4 Unnamed: 8 Unnamed: 9 Unnamed: 10 Project Name: Physical Sciences Building, SEP Lighting Conversion Week Of: 2013-09-09 00:00:00 Project No.: 42331 Weather Conditions: sunny warm Prime Contractor In-House. Campus Electrical & Lighting Crews Sub Contractors: Steve Mesh Lighting Consultant Schedule Status: Contract End Date: N/A Conformance to Schedule (+,-): on schedule Work Performed Daily: Monday: No one worked on site today. 2013-09-09 00:00:00 Tuesday: No one worked on site today. 2013-09-10 00:00:00 Wednesday: No one worked on site today. 2013-09-11 00:00:00 Thursday: No one worked on site today. 2013-09-12 00:00:00 Friday: No one worked on site today. 2013-09-13 00:00:00 NOTES: inspections,\n",
      "\n",
      "Extracting text from wrong_orientation_test.TIF using ImageTextExtractor\n",
      "Extracted text (first 800 characters) from wrong_orientation_test.TIF:\n",
      "CUT BRISTING DUET AND (METALL\n",
      "(EM nearing oH.\n",
      "\n",
      "- ig on over wine\n",
      "7 ple sins @ ane: , z\n",
      "guaran asaania STILT Y SHAS power? | Meares ‘Ba; ae ap ONS REO. sy\n",
      "TOR OF GRATING fo BAR ; fp ——“4 tb -sver seant - Of cor enema nis ae 9 | prewws 5\n",
      "+ | : FOB CONTIIATION OF i Wit wh & COMMECT NEW pen\n",
      "Lrmis seerion OF i 1 SHSE, SEE SHEET a0 \\ 8/80 HANS & HOI ippwema\n",
      "BRET UG AAA MVE 5 , ) mueri-eeace f | if metmewe Blane ro yor:\n",
      "| __+ trond COMM cLfos Gb 16° L0K8 Is —— __. 54 8067s Kirst 1 BaMte Ee HS [ ae aa © a4) & [SOE OF Ba\n",
      "' Exzans/ost BoL7s | LOCK KibCHERS eee ed ts \\\n",
      "td 4 Cp anees ‘ Tiglemuais ered aucnon. 71\n",
      "i i “Aeene &\n",
      "2-0/0 sELe- ABI AZ! LONE EA. ater ix Gee ve, 32x82 aon FS a9 ~\n",
      "Fapenis Beaaws. burt Neco ro Bascwer Born Bee ee teAT eel 5 :\n",
      "GRATE SIOES OF OUET. SUPPLY BEANE CIPES A: =:\n",
      "i MITER \n",
      "\n",
      "Extracting text from _there are two mech folders because the two that we have don't match up..txt using TextFileTextExtractor\n",
      "Extracted text from _there are two mech folders because the two that we have don't match up..txt:\n",
      "there are two mech folders because the two that we have don't match up.\n",
      "we're working on it though.\n",
      "\n",
      "Extracting text from {Spam } CSHC Submittal 09650 Resilient Flooring Response.msg using EmailTextExtractor\n",
      "Extracted text (first 800 characters) from {Spam } CSHC Submittal 09650 Resilient Flooring Response.msg:\n",
      "��\u0011���\u001a�\u0000\u0000\u0000\u0000\u0000\u0000\u0000\u0000\u0000\u0000\u0000\u0000\u0000\u0000\u0000\u0000>\u0000\u0003\u0000�� \u0000\u0006\u0000\u0000\u0000\u0000\u0000\u0000\u0000\u0000\u0000\u0000\u0000\u0002\u0000\u0000\u0000\u0001\u0000\u0000\u0000\u0000\u0000\u0000\u0000\u0000\u0010\u0000\u0000\u0002\u0000\u0000\u0000\u0002\u0000\u0000\u0000����\u0000\u0000\u0000\u0000\u0000\u0000\u0000\u0000?\u0000\u0000\u0000������������������������������������������������������������������������������������������������������������������������������������������������������������������������������������������������������������������������������������������������������������������������������������������������������������������������������������������������������������������������������������������������������������������������������������������������\u0004\u0000\u0000\u00001\u0000\u0000\u0000\u0006\u0000\u0000\u0000\u0005\u0000\u0000\u0000\u0007\u0000\u0000\u0000 \u0000\u0000\u0000\u0000\u0000 \u0000\u0000\u0000 \u0000\u0000\u0000 \u0000\u0000\u0000 \u0000\u0000\u0000 \u0000\u0000\u0000 \u0000\u0000\u0000\u000f\u0000\u0000\u0000\u0010\u0000\u0000\u0000\u0011\u0000\u0000\u0000\u0012\u0000\u0000\u0000\u0013\u0000\u0000\u0000\u0014\u0000\u0000\u0000\u0015\u0000\u0000\u0000\u0016\u0000\u0000\u0000\u0017\u0000\u0000\u0000\u0018\u0000\u0000\u0000\u0019\u0000\u0000\u0000\u001a\u0000\u0000\u0000\u001b\u0000\u0000\u0000 \u0000\u0000\u0000 \u0000\u0000\u0000����!\u0000\u0000\u0000 \u0000\u0000\u0000#\u0000\u0000\u0000\"\u0000\u0000\u0000$\u0000\u0000\u0000)\u0000\u0000\u0000%\u0000\u0000\u0000&\u0000\u0000\u0000'\u0000\u0000\u0000(\u0000\u0000\u0000*\u0000\u0000\u0000+\u0000\u0000\u0000-\u0000\u0000\u0000,\u0000\u0000\u00000\u0000\u0000\u0000.\u0000\u0000\u0000/\u0000\u0000\u00002\u0000\u0000\u00003\u0000\u0000\u0000����5\u0000\u0000\u00004\u0000\u0000\u00006\u0000\u0000\u00008\u0000\u0000\u00007\u0000\u0000\u00009\u0000\u0000\u0000:\u0000\u0000\u0000;\u0000\u0000\u0000=\u0000\u0000\u0000<\u0000\u0000\u0000>\u0000\u0000\u0000�\u0000\u0000\u0000�\u0000\u0000\u0000����A\u0000\u0000\u0000B\u0000\u0000\u0000C\u0000\u0000\u0000D\u0000\u0000\u0000E\u0000\u0000\u0000F\u0000\u0000\u0000G\u0000\u0000\u0000H\u0000\u0000\u0000\n",
      "\n"
     ]
    }
   ],
   "source": [
    "import logging\n",
    "import os\n",
    "import shutil\n",
    "import traceback \n",
    "import tempfile\n",
    "from text_extraction.pdf_extraction import PDFTextExtractor\n",
    "from text_extraction.basic_extraction import TextFileTextExtractor, get_extractor_for_file\n",
    "from text_extraction.image_extraction import ImageTextExtractor\n",
    "from text_extraction.office_doc_extraction import PresentationTextExtractor, SpreadsheetTextExtractor, WordFileTextExtractor\n",
    "from text_extraction.web_extraction import HtmlTextExtractor, EmailTextExtractor\n",
    "from text_extraction.extraction_utils import common_char_replacements, strip_diacritics, normalize_unicode\n",
    "from logging_setups import setup_logger\n",
    "\n",
    "setup_logger(name=\"NotebookLogger\", notebook=True, level=logging.DEBUG)\n",
    "\n",
    "import pytesseract\n",
    "pytesseract.pytesseract.tesseract_cmd = r'C:\\Program Files\\Tesseract-OCR\\tesseract.exe'\n",
    "\n",
    "# Initialize extractors for different file types\n",
    "pdf_extractor = PDFTextExtractor()\n",
    "txt_extractor = TextFileTextExtractor()\n",
    "image_extractor = ImageTextExtractor()\n",
    "presentation_extractor = PresentationTextExtractor()\n",
    "spreadsheet_extractor = SpreadsheetTextExtractor()\n",
    "word_extractor = WordFileTextExtractor()\n",
    "html_extractor = HtmlTextExtractor()\n",
    "email_extractor = EmailTextExtractor()\n",
    "\n",
    "extractors_list = [\n",
    "    pdf_extractor,\n",
    "    txt_extractor,\n",
    "    image_extractor,\n",
    "    presentation_extractor,\n",
    "    spreadsheet_extractor,\n",
    "    word_extractor,\n",
    "    html_extractor,\n",
    "    email_extractor\n",
    "]\n",
    "display_text_len = 800\n",
    "test_extraction_path = os.path.join(os.getcwd(), \"test_files\")\n",
    "\n",
    "for file in os.listdir(test_extraction_path):\n",
    "    file_path = os.path.join(test_extraction_path, file)\n",
    "    def text_assessment(extracted_text):\n",
    "        if not extracted_text:\n",
    "            print(f\"No text extracted from {file} in temporary directory\")\n",
    "        elif len(extracted_text) > display_text_len:\n",
    "            print(f\"Extracted text (first {display_text_len} characters) from {file}:\\n{extracted_text[:display_text_len]}\\n\")\n",
    "        else:\n",
    "            print(f\"Extracted text from {file}:\\n{extracted_text}\\n\")\n",
    "\n",
    "    if not os.path.isfile(file_path):\n",
    "        print(f\"Skipping {file}, not a file.\")\n",
    "        continue\n",
    "    \n",
    "    extractor = get_extractor_for_file(file_path=file_path, extractors=extractors_list)\n",
    "    if extractor:\n",
    "        try:\n",
    "            print(f\"Extracting text from {file} using {extractor.__class__.__name__}\")\n",
    "            text = extractor(file_path)\n",
    "            text_assessment(text)\n",
    "        \n",
    "        except PermissionError as pe:\n",
    "            # Handle PermissionError by copying the file to a temporary directory\n",
    "            temp_dir = tempfile.gettempdir()\n",
    "            temp_file_path = os.path.join(temp_dir, file)\n",
    "            shutil.copy2(file_path, temp_file_path)\n",
    "            print(f\"Copied {file} to temporary directory: {temp_file_path}\")\n",
    "            \n",
    "            # Retry extraction from the temporary file\n",
    "            try:\n",
    "                text = extractor(temp_file_path)\n",
    "                text = common_char_replacements(text)\n",
    "                text = strip_diacritics(text)\n",
    "                text = normalize_unicode(text)\n",
    "                text_assessment(text)\n",
    "\n",
    "            except Exception as e:\n",
    "                raise Exception(f\"Failed to extract text from {file} in temporary directory: {e}\")\n",
    "        \n",
    "        except Exception as e:\n",
    "\n",
    "            print(f\"Failed to extract text from {file}: {e}\")\n",
    "            traceback.print_exc()\n",
    "    else:\n",
    "        print(f\"No suitable extractor found for {file}\")\n"
   ]
  },
  {
   "cell_type": "code",
   "execution_count": null,
   "id": "e1c3ac64",
   "metadata": {},
   "outputs": [],
   "source": []
  }
 ],
 "metadata": {
  "kernelspec": {
   "display_name": ".venv",
   "language": "python",
   "name": "python3"
  },
  "language_info": {
   "codemirror_mode": {
    "name": "ipython",
    "version": 3
   },
   "file_extension": ".py",
   "mimetype": "text/x-python",
   "name": "python",
   "nbconvert_exporter": "python",
   "pygments_lexer": "ipython3",
   "version": "3.13.5"
  }
 },
 "nbformat": 4,
 "nbformat_minor": 5
}
