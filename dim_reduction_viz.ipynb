{
 "cells": [
  {
   "cell_type": "markdown",
   "id": "7031381c",
   "metadata": {},
   "source": [
    "# Dimensionality Reduction of Top-Level Filing Tags (Excluding 'A')\n",
    "This notebook:\n",
    "\n",
    "1. Connects to the project database (MiniLM embeddings).\n",
    "2. Pulls embeddings for files whose assigned tag is a *top-level* filing tag (no parent) excluding the 'A' tag.\n",
    "3. Balances samples per tag (up to `MAX_PER_TAG`).\n",
    "4. Applies L2 normalization, PCA (pre-dimension reduction), then UMAP to 2D.\n",
    "5. Produces an interactive Plotly scatter with distinct colors per tag.\n",
    "\n",
    "If database credentials are missing or the query returns no rows, the notebook will print a clear message and skip plotting.\n"
   ]
  },
  {
   "cell_type": "code",
   "execution_count": 1,
   "id": "ef85fba9",
   "metadata": {},
   "outputs": [
    {
     "name": "stderr",
     "output_type": "stream",
     "text": [
      "2025-09-16 10:28:40,398 db.db INFO Creating database engine\n"
     ]
    }
   ],
   "source": [
    "# cell 1: imports & setup\n",
    "import os\n",
    "import random\n",
    "import numpy as np\n",
    "import pandas as pd\n",
    "\n",
    "from sklearn.decomposition import PCA\n",
    "from sklearn.preprocessing import normalize\n",
    "import umap.umap_ as umap\n",
    "import plotly.express as px\n",
    "\n",
    "from sqlalchemy.orm import sessionmaker\n",
    "\n",
    "# Your existing db models\n",
    "from db.models import FileContent, FileTagLabel, FilingTag, File\n",
    "from db.db import get_db_engine\n",
    "\n",
    "# ---- Config ----\n",
    "MODEL_NAME = \"all-MiniLM-L6-v2\"\n",
    "MAX_PER_TAG = 400\n",
    "RANDOM_SEED = 42\n",
    "PCA_PRECOMP = 50\n",
    "\n",
    "UMAP_PARAMS = dict(\n",
    "    n_neighbors=15,\n",
    "    min_dist=0.1,\n",
    "    metric='cosine'\n",
    ")\n",
    "\n",
    "engine = get_db_engine()\n",
    "Session = sessionmaker(bind=engine)\n",
    "session = Session()\n"
   ]
  },
  {
   "cell_type": "code",
   "execution_count": 2,
   "id": "276bec6f",
   "metadata": {},
   "outputs": [],
   "source": [
    "def fetch_embeddings_tags(\n",
    "    engine_model_name,\n",
    "    split=None,\n",
    "    parent_tag=None,\n",
    "    max_per_tag=MAX_PER_TAG,\n",
    "    top_level_exclude_A: bool = False,\n",
    "    min_text_length: int = None  # <-- add this parameter\n",
    "):\n",
    "    \"\"\"\n",
    "    Fetch MiniLM embeddings and associated tags / filenames from the database.\n",
    "\n",
    "    Returns a DataFrame with columns: file_id, tag, filename, embedding (np.array).\n",
    "\n",
    "    Filtering modes (mutually aware):\n",
    "        top_level_exclude_A=True  -> only FilingTag rows where parent_label IS NULL AND tag != 'A'.\n",
    "        parent_tag=\"X\"            -> restrict to descendants whose parent_label == parent_tag (ignored if top_level_exclude_A True).\n",
    "        split=\"train|val|test\"    -> restrict by FileTagLabel.split.\n",
    "        min_text_length           -> only include files with text_length >= this value.\n",
    "    \"\"\"\n",
    "    from sqlalchemy import func\n",
    "    from sqlalchemy.orm import aliased\n",
    "\n",
    "    from db.models import FileContent as FE, File as F, FileTagLabel as FTL, FilingTag as FT, FileLocation as FL\n",
    "\n",
    "    filename_subq = (\n",
    "        session.query(FL.file_id.label('fl_file_id'), func.min(FL.filename).label('rep_filename'))\n",
    "        .group_by(FL.file_id)\n",
    "        .subquery()\n",
    "    )\n",
    "\n",
    "    q = (\n",
    "        session.query(\n",
    "            F.id.label('file_id'),\n",
    "            FE.minilm_emb.label('embedding'),\n",
    "            FTL.tag.label('tag'),\n",
    "            filename_subq.c.rep_filename.label('filename')\n",
    "        )\n",
    "        .join(FE, FE.file_hash == F.hash)\n",
    "        .join(FTL, F.hash == FTL.file_hash)\n",
    "        .join(FT, FT.label == FTL.tag)\n",
    "        .outerjoin(filename_subq, filename_subq.c.fl_file_id == F.id)\n",
    "        .filter(FE.minilm_model == engine_model_name)\n",
    "    )\n",
    "\n",
    "    if top_level_exclude_A:\n",
    "        q = q.filter(FT.parent_label.is_(None)).filter(FTL.tag != 'A')\n",
    "    elif parent_tag is not None:\n",
    "        q = q.filter(FT.parent_label == parent_tag)\n",
    "\n",
    "    if split is not None:\n",
    "        q = q.filter(FTL.split == split)\n",
    "\n",
    "    if min_text_length is not None:\n",
    "        q = q.filter(FE.text_length >= min_text_length)  # <-- filter by text_length\n",
    "\n",
    "    rows = q.all()\n",
    "    if not rows:\n",
    "        return pd.DataFrame([])\n",
    "\n",
    "    tag2rows = {}\n",
    "    for file_id, emb_vec, tag, filename in rows:\n",
    "        if emb_vec is None:\n",
    "            continue\n",
    "        emb_np = np.array(emb_vec, dtype=float)\n",
    "        tag2rows.setdefault(tag, []).append((file_id, emb_np, filename or \"\"))\n",
    "\n",
    "    random.seed(RANDOM_SEED)\n",
    "    records = []\n",
    "    for tag, items in tag2rows.items():\n",
    "        if not items:\n",
    "            continue\n",
    "        if len(items) > max_per_tag:\n",
    "            items = random.sample(items, max_per_tag)\n",
    "        for fid, emb_arr, fname in items:\n",
    "            records.append({\n",
    "                'file_id': fid,\n",
    "                'tag': tag,\n",
    "                'filename': fname,\n",
    "                'embedding': emb_arr\n",
    "            })\n",
    "\n",
    "    return pd.DataFrame(records)\n",
    "\n",
    "def reduce_dims(df, embedding_col='embedding'):\n",
    "    \"\"\"\n",
    "    Given df with an embedding column (np.array), do normalization, PCA, UMAP.\n",
    "    The necessary dataframe columns are: 'file_id', 'tag', 'filename', embedding_col.\n",
    "\n",
    "    Returns df augmented by 'umap_x','umap_y' (and optionally PCA columns).\n",
    "    \"\"\"\n",
    "    if df.empty:\n",
    "        return df\n",
    "    X = np.vstack(df[embedding_col].values)\n",
    "    X_norm = normalize(X, norm='l2')\n",
    "\n",
    "    pca = PCA(n_components=min(PCA_PRECOMP, X_norm.shape[1]), random_state=RANDOM_SEED)\n",
    "    X_pca = pca.fit_transform(X_norm)\n",
    "    print(\"Explained variance ratio (first few components):\", pca.explained_variance_ratio_[:10])\n",
    "\n",
    "    reducer = umap.UMAP(**UMAP_PARAMS, random_state=RANDOM_SEED)\n",
    "    X_umap = reducer.fit_transform(X_pca)\n",
    "\n",
    "    df2 = df.copy()\n",
    "    for i in range(min(5, X_pca.shape[1])):\n",
    "        df2[f'pca_{i}'] = X_pca[:, i]\n",
    "    df2['umap_x'] = X_umap[:, 0]\n",
    "    df2['umap_y'] = X_umap[:, 1]\n",
    "    return df2\n"
   ]
  },
  {
   "cell_type": "code",
   "execution_count": 4,
   "id": "7dfedbef",
   "metadata": {},
   "outputs": [
    {
     "name": "stdout",
     "output_type": "stream",
     "text": [
      "Number of points fetched: 2800\n",
      "Tag counts:\n",
      " tag\n",
      "G    400\n",
      "C    400\n",
      "E    400\n",
      "B    400\n",
      "D    400\n",
      "H    400\n",
      "F    400\n",
      "Name: count, dtype: int64\n",
      "Explained variance ratio (first few components): [0.09082202 0.04357739 0.03546871 0.03050837 0.02995427 0.02459008\n",
      " 0.02405938 0.0191057  0.01729498 0.01643306]\n"
     ]
    },
    {
     "name": "stderr",
     "output_type": "stream",
     "text": [
      "c:\\Users\\adankert\\projects\\file_code_tagger\\.venv\\Lib\\site-packages\\umap\\umap_.py:1952: UserWarning: n_jobs value 1 overridden to 1 by setting random_state. Use no seed for parallelism.\n",
      "  warn(\n"
     ]
    }
   ],
   "source": [
    "df_raw = fetch_embeddings_tags(MODEL_NAME,\n",
    "                               split='train',\n",
    "                               parent_tag=None,\n",
    "                               max_per_tag=MAX_PER_TAG,\n",
    "                               top_level_exclude_A=True,\n",
    "                               min_text_length=50)\n",
    "if df_raw.empty:\n",
    "    print(\"No rows returned for the selected criteria (top-level tags excluding 'A').\")\n",
    "else:\n",
    "    print(\"Number of points fetched:\", len(df_raw))\n",
    "    print(\"Tag counts:\\n\", df_raw['tag'].value_counts())\n",
    "\n",
    "df_vis = reduce_dims(df_raw)"
   ]
  },
  {
   "cell_type": "markdown",
   "id": "85cde9e6",
   "metadata": {},
   "source": [
    "# Top-Level Tag Embedding Visualization (Excluding 'A')\n",
    "This notebook:\n",
    "\n",
    "1. Loads MiniLM embeddings for files whose assigned tag is a *top-level* filing tag (no parent) except 'A'.\n",
    "2. Samples up to `MAX_PER_TAG` items per tag for balance.\n",
    "3. L2 normalizes embeddings, does PCA (pre-reduction) then UMAP to 2D.\n",
    "4. Plots an interactive scatter with distinct colors per tag.\n",
    "\n",
    "If no rows are returned (e.g., env vars / DB not set or tags missing), the notebook will report and skip plotting.\n",
    "\n",
    "Adjustable knobs near the top: `MAX_PER_TAG`, `PCA_PRECOMP`, and `UMAP_PARAMS`.\n"
   ]
  },
  {
   "cell_type": "code",
   "execution_count": 5,
   "id": "c93a272d",
   "metadata": {},
   "outputs": [
    {
     "data": {
      "application/vnd.plotly.v1+json": {
       "config": {
        "plotlyServerURL": "https://plot.ly"
       },
       "data": [
        {
         "customdata": [
          [
           536928,
           "File 6301 Poor Richards Blanket Order.pdf",
           "G"
          ],
          [
           795894,
           "File 6701 Bulletin 99 Air Balance for Fume Hood_Page_04.tiff",
           "G"
          ],
          [
           411879,
           "FieldOrder 4932-056 Skylight SW7 and SW8 modifications B45.1.pdf",
           "G"
          ],
          [
           943399,
           "081924_Field Report_CMJ_17123.2_OBSRV.pdf",
           "G"
          ],
          [
           317224,
           "3045-49.pdf",
           "G"
          ],
          [
           301583,
           "UCSC Cowell Student Health Center - OAC #24 (attached).msg",
           "G"
          ],
          [
           75251,
           "File 10011 Construction Permit 8-10-12.pdf",
           "G"
          ],
          [
           795654,
           "Bulletin 032.pdf",
           "G"
          ],
          [
           228421,
           "2215-14.pdf",
           "G"
          ],
          [
           331962,
           "File 3209. G5. Kresge Ph. II Inspection Reports 87.7.21_87.9.29.pdf",
           "G"
          ],
          [
           733729,
           "9082.G19.9082 Campus Utilities - Campuswide Dark Fiber Inner-Duct.doc",
           "G"
          ],
          [
           829619,
           "BACKUP info--8951, Final Punch List and Noted Project Deficiencies, 11-18-14.pdf",
           "G"
          ],
          [
           782062,
           "File 4818.G2 Expenditure Request (2).pdf",
           "G"
          ],
          [
           194858,
           "TXT.rtf",
           "G"
          ],
          [
           718394,
           "3124.G11.Proposal Request #55 Memorandum.pdf",
           "G"
          ],
          [
           23367,
           "File 1329.G18.Punchlist #2.1.pdf",
           "G"
          ],
          [
           786273,
           "Warranty Deficiency BD-084.doc",
           "G"
          ],
          [
           408792,
           "File 4932 RFI 576 Response.pdf",
           "G"
          ],
          [
           406280,
           "UCSC SIR JRG (08-15-2016).docx",
           "G"
          ],
          [
           705865,
           "3130.G17.Guaruntee Packages.pdf",
           "G"
          ],
          [
           84683,
           "UCSC Punchlist--Cen Con Stevenson 02-04-08.xls",
           "G"
          ],
          [
           295969,
           "RE  CSHC - Letter of Instructions #44 & #45 and PR#45.msg",
           "G"
          ],
          [
           599121,
           "File 9076 Phase 3 Relays.pdf",
           "G"
          ],
          [
           730717,
           "2017-11-17 - MCC - Cx Meeting Notes.pdf",
           "G"
          ],
          [
           381297,
           "4101-001 CO#1 Summary.pdf",
           "G"
          ],
          [
           718415,
           "3124.G11.Proposal Request #56.pdf",
           "G"
          ],
          [
           286465,
           "RE  UCSC Cowell Student Health Center - Mortise Cylinders.msg",
           "G"
          ],
          [
           829631,
           "UCSC Campus Roads Site Observations, 8951, BKF Report, 9-10-14.pdf",
           "G"
          ],
          [
           728076,
           "UCSC- Merrill Cultural Center Cx - FPT 2.01 - VAV Terminal Units.docx",
           "G"
          ],
          [
           91675,
           "BUL 25A_FINAL_to UCSC_5 5 09.pdf",
           "G"
          ],
          [
           114537,
           "warm shell daily 2-14-17.pdf",
           "G"
          ],
          [
           463166,
           "UCSC COASTAL BIO BLDG 112.pdf",
           "G"
          ],
          [
           730443,
           "2638 WD 002 Voided.pdf",
           "G"
          ],
          [
           194636,
           "TXT.rtf",
           "G"
          ],
          [
           873217,
           "4203_RFI_267.1_-_EEC_-_Inverter_Model_Suggestion_Response.pdf",
           "G"
          ],
          [
           843947,
           "9803B.G10.WiFi Test Report 7115 Hahn Student Services_report.pdf",
           "G"
          ],
          [
           732496,
           "10000-208.G19.Summary.pdf",
           "G"
          ],
          [
           730723,
           "UCSC- MCC Cx - FPT 2.01 - VAVs.docx",
           "G"
          ],
          [
           406385,
           "UCSC Site Inspection KDW (05-11-2016).docx",
           "G"
          ],
          [
           828400,
           "File 7601 Warranties & Guarantees.pdf",
           "G"
          ],
          [
           233545,
           "2318-094.G24.Crown Merrill Apt - Constr Permit, Jobsite Inspection.pdf",
           "G"
          ],
          [
           970267,
           "Test & Balance Report 6.9.05.pdf",
           "G"
          ],
          [
           307718,
           "File 3000-173. G24. Construction Permit.pdf",
           "G"
          ],
          [
           219230,
           "File 2113.G2.Weightmaster Certificate #3302949.pdf",
           "G"
          ],
          [
           883691,
           "qte UCSC recital hall 2023.pdf",
           "G"
          ],
          [
           727013,
           "MCC PCO 007.xlsx",
           "G"
          ],
          [
           966696,
           "File 1326.G19 Notice of Completion.pdf",
           "G"
          ],
          [
           536221,
           "CE 512411 499.01.pdf",
           "G"
          ],
          [
           13214,
           "0101-01.G17.Waste-Contractor-Report.xlsx",
           "G"
          ],
          [
           968629,
           "0130Field.pdf",
           "G"
          ],
          [
           465139,
           "schedule 15-09-16 old.pdf",
           "G"
          ],
          [
           730739,
           "Wattstopper Training Sign-in sheet.pdf",
           "G"
          ],
          [
           193581,
           "Duct test request 12-22-09.pdf",
           "G"
          ],
          [
           797319,
           "File AON Invoice 10-2-09.pdf",
           "G"
          ],
          [
           286615,
           "RE  Locksets for West Wing.msg",
           "G"
          ],
          [
           612325,
           "File 9098E.G24. Jobsite Inspection Record.pdf",
           "G"
          ],
          [
           208832,
           "File 1810 Devcon Construction Meeting No. 024 9-30-08.pdf",
           "G"
          ],
          [
           732600,
           "8900-073A.G19.Summary.pdf",
           "G"
          ],
          [
           718377,
           "3124.G11.Proposal Request #53 Memorandum -- Mr. Jim Henry, 2.pdf",
           "G"
          ],
          [
           200240,
           "1810-51 Complete.pdf",
           "G"
          ],
          [
           729561,
           "07 84 00.pdf",
           "G"
          ],
          [
           728399,
           "RFI 005.pdf",
           "G"
          ],
          [
           966217,
           "RFI 053 Response.pdf",
           "G"
          ],
          [
           536917,
           "6301.G1.1.ucsc transmittal-Submittal File-10.3C.pdf",
           "G"
          ],
          [
           950022,
           "Porter A - CQ 182.pdf",
           "G"
          ],
          [
           804955,
           "File 6702.G15 Change Order #1.pdf",
           "G"
          ],
          [
           368711,
           "3709.G15.Change Order 3.pdf",
           "G"
          ],
          [
           94456,
           "File 10070 Concrete Compression Test 2-5-08.pdf",
           "G"
          ],
          [
           702205,
           "File 2514 Transmitting Letter Buddy Morris Health Concerns 11-93-95.pdf",
           "G"
          ],
          [
           91582,
           "File 3048 ASI 2 003.TIF",
           "G"
          ],
          [
           966671,
           "151209 Wiktor Punch List.xlsx",
           "G"
          ],
          [
           900715,
           "Ph3_Bulletin_029.pdf",
           "G"
          ],
          [
           70886,
           "Biomed_6701_FieldOrder_NIH1002.1.pdf",
           "G"
          ],
          [
           367866,
           "3701.G15.39-R.pdf",
           "G"
          ],
          [
           836360,
           "3124.G22.Casework Schedule.pdf",
           "G"
          ],
          [
           874435,
           "2010-05-06.pdf",
           "G"
          ],
          [
           711408,
           "3209-028.G19.Occupancy Fillable PDF.pdf",
           "G"
          ],
          [
           703246,
           "9800-010.G15.24_lf_cost_proposal 9800-010 CO#2.docx",
           "G"
          ],
          [
           193150,
           "File 1810 App for Payment #4 Period to 7-31-08.pdf",
           "G"
          ],
          [
           895762,
           "RFI 1035 Response.pdf",
           "G"
          ],
          [
           733409,
           "3124.G11.Proposal Request #73 (Signed, 10-24-1998).pdf",
           "G"
          ],
          [
           741911,
           "5510-046.G3.5510-046 Pre-Construction Agenda.docx",
           "G"
          ],
          [
           686276,
           "3124.G11.Memorandums FOR VOID Cost Proposal Change Request #143 RFI #270 CO #6.pdf",
           "G"
          ],
          [
           298380,
           "Automatic reply_ UCSC - Latent Deficiency.... H....pdf",
           "G"
          ],
          [
           591570,
           "ALL 3 PROJECT SCHEDULE.pdf",
           "G"
          ],
          [
           472151,
           "4934B WD01.pdf",
           "G"
          ],
          [
           170288,
           "SR 206.pdf",
           "G"
          ],
          [
           222729,
           "43-ELEC MBP R1.pdf",
           "G"
          ],
          [
           587859,
           "8918.16.G10. CAMPUS ROAD RENOVATION, 1977 - Consulting Engineers - COOPER, CLARK, ASSOC.pdf",
           "G"
          ],
          [
           769030,
           "3124.G4.Weekly Construction Meeting Minutes #25.pdf",
           "G"
          ],
          [
           733206,
           "2352-001.G19.Crown Dining Hall Re-Roof, Phase 2.doc",
           "G"
          ],
          [
           194437,
           "Insp_#24-2ndShaft A.pdf",
           "G"
          ],
          [
           463025,
           "Graphics Commissioning.docx",
           "G"
          ],
          [
           609286,
           "9098A TIU PHASE C MEETING MINUTES #42 10-11-2018.pdf",
           "G"
          ],
          [
           13197,
           "1302-030.G1.8.Physical Plant Contact and Systems 12_2015.docx",
           "G"
          ],
          [
           686268,
           "3124.G11.Memorandums FOR Cost Proposal Change Request #38R PR #1 CO #5.pdf",
           "G"
          ],
          [
           975019,
           "5304B8B1.bgdomain.bgpostoffice.100.16A3779.1.1C13B.1 (2).xml",
           "G"
          ],
          [
           501636,
           "File 5510-041.G24.Construction Permit.pdf",
           "G"
          ],
          [
           200129,
           "File 1810 App for Payment #14 Period to 2-28-07.pdf",
           "G"
          ],
          [
           683049,
           "4899-013_g6.pdf",
           "G"
          ],
          [
           755457,
           "3124.G11.HAE Change Request #140 Reply.pdf",
           "G"
          ],
          [
           755460,
           "3124.G11.HAE Change Request #145.pdf",
           "G"
          ],
          [
           950518,
           "08-13-10.pdf",
           "G"
          ],
          [
           465151,
           "DeAnza(Sera)DRAFT12-4-15 (003).docx",
           "G"
          ],
          [
           75568,
           "10015.G2.Certificate for Payment 1.pdf",
           "G"
          ],
          [
           195618,
           "File 1810 RFI No. 0009.pdf",
           "G"
          ],
          [
           268689,
           "26 27 26.devc.tee.docx",
           "G"
          ],
          [
           901105,
           "File 2637 IR - 09.09.14 No. 75 Water Stop Placement at Elevator - Visual Inspection.pdf",
           "G"
          ],
          [
           814998,
           "7401-3.pdf",
           "G"
          ],
          [
           797098,
           "Field Order 040.pdf",
           "G"
          ],
          [
           724183,
           "8300-027.G19.Certificate_of_Occupancy_OPERS_Fitness_Center.pdf",
           "G"
          ],
          [
           858823,
           "FO56CQ141.doc",
           "G"
          ],
          [
           874413,
           "2010-04-12.pdf",
           "G"
          ],
          [
           743567,
           "WO Activity 060710.xls",
           "G"
          ],
          [
           728257,
           "Merrill College Roof Inspection 8_17_17.pdf",
           "G"
          ],
          [
           768988,
           "3124.G4.HVAC Office Memo #2.pdf",
           "G"
          ],
          [
           697459,
           "Daily Report UCSC Cowell EQA 061308 - Basement.pdf",
           "G"
          ],
          [
           814938,
           "09512 Acoustical Ceiling.pdf",
           "G"
          ],
          [
           797423,
           "WD # 6701 - 163 Response.pdf",
           "G"
          ],
          [
           316108,
           "CQ Log_Updated 9.14.09.pdf",
           "G"
          ],
          [
           739590,
           "10636-009.G23.UC Santa Cruz Nano Lab ZES Fume Hood Certification Testing Requirements Checklist.pdf",
           "G"
          ],
          [
           874283,
           "2009-10-21.pdf",
           "G"
          ],
          [
           723308,
           "3002-061.G19.Summary.pdf",
           "G"
          ],
          [
           463047,
           "UCSC CBB- FPT 5.01- Power Management Control System.pdf",
           "G"
          ],
          [
           301348,
           "RE  SF-1 Conference Call 10 20 08 and 10 22 08.msg",
           "G"
          ],
          [
           298397,
           "RE_ CSHC - DPR.pdf",
           "G"
          ],
          [
           769002,
           "3124.G4.Weekly Construction Meeting Minutes #12.pdf",
           "G"
          ],
          [
           990772,
           "Payment_App.pdf",
           "G"
          ],
          [
           697458,
           "Daily Report UCSC Cowell EQA 061308 - 1st Floor.pdf",
           "G"
          ],
          [
           755565,
           "3124.G11.HAE Change Request #168.pdf",
           "G"
          ],
          [
           412789,
           "Warranty_#_78.pdf",
           "G"
          ],
          [
           858721,
           "5601.G15.Digital Arts Facility Contract Ammendment #2.pdf",
           "G"
          ],
          [
           916693,
           "File 5707 G5.2 Nolan, Zinn & Assoc (HYD).pdf",
           "G"
          ],
          [
           349545,
           "PCE Field Report 4-26-22.pdf",
           "G"
          ],
          [
           83633,
           "File 10069.G6 Memorandum.pdf",
           "G"
          ],
          [
           728079,
           "UCSC- Merrill Cultural Center Cx - FPT 5.01 - Lighting Controls.docx",
           "G"
          ],
          [
           726081,
           "6005-003.G19.Cert of Substantial Completion 16_Oct_2023.pdf",
           "G"
          ],
          [
           755500,
           "3124.G11.HAE Change Request #98 Reply.pdf",
           "G"
          ],
          [
           239279,
           "2017-08-09 - Lower quad roofing tree pics.pdf",
           "G"
          ],
          [
           874536,
           "File 9200-013.G24 Construction Permit-Jobsite Inspection Record.pdf",
           "G"
          ],
          [
           465142,
           "Travel_Advance_Request TAR Debbie Sera.pdf",
           "G"
          ],
          [
           795702,
           "Bulletin 071.pdf",
           "G"
          ],
          [
           975005,
           "5304B892.bgdomain.bgpostoffice.100.16A3779.1.1C12D.1 (2).xml",
           "G"
          ],
          [
           297927,
           "Photo's of the Project.msg",
           "G"
          ],
          [
           923162,
           "File 6201 COR 248.pdf",
           "G"
          ],
          [
           545566,
           "Inspector's Memorandum 8.7.1991.pdf",
           "G"
          ],
          [
           862912,
           "3239.G5.KNAR_3239_Inspectors_Daily_Report_8-13-24[1].pdf",
           "G"
          ],
          [
           303899,
           "UCSC Cowell Student Health Center - Submittal 02713-02-00 (attached).msg",
           "G"
          ],
          [
           290845,
           "UCSC Cowell Student Health Center - RFI 544 (attached).msg",
           "G"
          ],
          [
           580243,
           "8500-045.G19. Certificate of Substantial Completion.pdf",
           "G"
          ],
          [
           268500,
           "08 31 13.pdf",
           "G"
          ],
          [
           199703,
           "Devcon Close Out Docs-Guarantees and Warranties.pdf",
           "G"
          ],
          [
           23738,
           "File 1200-005 City Permit.pdf",
           "G"
          ],
          [
           298162,
           "Re  CSHC - Warranty Deficiency (Landscape) (55).msg",
           "G"
          ],
          [
           744657,
           "C&W Proposal for Hazmat Survey2.pdf",
           "G"
          ],
          [
           222738,
           "Wortham_Rodney.pdf",
           "G"
          ],
          [
           471823,
           "A10.01.pdf",
           "G"
          ],
          [
           832219,
           "File 10079.G17 Warranty.pdf",
           "G"
          ],
          [
           723709,
           "5510-054.G19.5510-054.pdf",
           "G"
          ],
          [
           829623,
           "FINAL--8951, Final Punch List and Noted Project Deficiencies, 2-6-15.pdf",
           "G"
          ],
          [
           468036,
           "C1.70.pdf",
           "G"
          ],
          [
           612847,
           "File 9200-007 Construction Permit.pdf",
           "G"
          ],
          [
           733399,
           "3124.G11.Change Kiln Storage into Seminar Room + Glaze Room into a Faculty Office Email Chain.pdf",
           "G"
          ],
          [
           298125,
           "Re  Ceiling tile stains.msg",
           "G"
          ],
          [
           795687,
           "Bulletin 062.pdf",
           "G"
          ],
          [
           900710,
           "Ph3_Bulletin_025.pdf",
           "G"
          ],
          [
           536224,
           "6300-008 CO#2 Backup 1.pdf",
           "G"
          ],
          [
           463044,
           "UCSC CBB- FPT 2.01- Emergency Gen Test 1 + 2.pdf",
           "G"
          ],
          [
           288040,
           "UCSC Cowell Student Health Center - RFI 134 (dated 080910).pdf",
           "G"
          ],
          [
           984121,
           "GS-039 MBARD Permit - MOD2400055ATC ATC MBARD 500kW.pdf",
           "G"
          ],
          [
           301620,
           "UCSC Cowell Student Health Center - OAC Meeting Minutes #39.msg",
           "G"
          ],
          [
           574960,
           "09-08-16 Grout Comp. Test 02 - L-11.pdf",
           "G"
          ],
          [
           470646,
           "Meeting Agenda (10-3 meeting).pdf",
           "G"
          ],
          [
           730750,
           "UCSC- MCC Cx - FPT 2.01 - VAVs.pdf",
           "G"
          ],
          [
           958234,
           "5303-037.G20.5303-037 WD 026.pdf",
           "G"
          ],
          [
           298337,
           "UCSC Cowell - WD-21 Completion.msg",
           "G"
          ],
          [
           615370,
           "9803A_RFI_084_7145_stn_resp_20220707.pdf",
           "G"
          ],
          [
           795853,
           "T2_62 B70 and B72.pdf",
           "G"
          ],
          [
           742234,
           "File 8500-036.G20.Warranty Check - Inspection (19 04 17).docx",
           "G"
          ],
          [
           874378,
           "2010-03-02 PM.pdf",
           "G"
          ],
          [
           917153,
           "File 5707-014.G24 Permit.pdf",
           "G"
          ],
          [
           463120,
           "CBB Emergency Power Test 2.01_rev2_notes.pdf",
           "G"
          ],
          [
           463440,
           "Look Ahead Progress Schedule 15-06-19 (1).xls",
           "G"
          ],
          [
           755648,
           "3124.G15.Change Request #92.pdf",
           "G"
          ],
          [
           793688,
           "File 6701 Biomed Security Kroll 11-14-08.pdf",
           "G"
          ],
          [
           478279,
           "5300-048 Change Order 2.pdf",
           "G"
          ],
          [
           682208,
           "3131_g2.pdf",
           "G"
          ],
          [
           755608,
           "3124.G11.HAE Change Request #103 Reply 3.pdf",
           "G"
          ],
          [
           718992,
           "3701.G22.1.oaksCollege.ConfidentialMult1.pdf",
           "G"
          ],
          [
           689534,
           "10087-001A.G19.Notice of Completion.pdf",
           "G"
          ],
          [
           241113,
           "2358.G5.Inspectors Daily Project Log 8-22-17.pdf",
           "G"
          ],
          [
           411385,
           "CSC Parking Phase 2 Lot E 976552 171115.xls",
           "G"
          ],
          [
           200290,
           "File 1810.G20 WD No. 1810-18.pdf",
           "G"
          ],
          [
           76243,
           "File 10038.G19 Notice of Completion.pdf",
           "G"
          ],
          [
           874265,
           "2009-09-28.pdf",
           "G"
          ],
          [
           373178,
           "BREAKROOM FAUCET LOCATION.pdf",
           "G"
          ],
          [
           888981,
           "10630-4 Complete.pdf",
           "G"
          ],
          [
           958313,
           "5303-037 WD 50.pdf",
           "G"
          ],
          [
           133722,
           "File 11105 Southern Exposure Invoice #4239.pdf",
           "G"
          ],
          [
           300896,
           "RE   Fwd  Updated Six Week Rolling Schedule .msg",
           "G"
          ],
          [
           719902,
           "Re_ Submittal 050-5120-01x.rtf",
           "G"
          ],
          [
           358404,
           "File 3400-016 Construction Permit - Jobsite Inspection Record.pdf",
           "G"
          ],
          [
           208465,
           "FIR7-11.jpg",
           "G"
          ],
          [
           295231,
           "CQ 031.msg",
           "G"
          ],
          [
           858906,
           "Signed Telecom Warranty Copy.pdf",
           "G"
          ],
          [
           301570,
           "UCSC Cowell Student Health Center - Generator Yard Boulders.msg",
           "G"
          ],
          [
           94061,
           "10070 Rebid 25.TIF",
           "G"
          ],
          [
           197782,
           "File 1810 LOI No. 1003.pdf",
           "G"
          ],
          [
           406276,
           "UCSC SIR CBB SRW (08-25-2016).docx",
           "G"
          ],
          [
           846041,
           "CP 5149 - Added Window SF from Bid Drawings - 10.1.13.pdf",
           "G"
          ],
          [
           744288,
           "FR 88.xls",
           "G"
          ],
          [
           883663,
           "6300-011 Music Center Equipment Modernization - RFI #02 Ceiling Canopy Allowable Tilt.doc.pdf",
           "G"
          ],
          [
           240737,
           "BOILER.PDF",
           "G"
          ],
          [
           727754,
           "Bulletin 15  - Clerestory, Storefronts & Cladding.pdf",
           "G"
          ],
          [
           744281,
           "FR 81.xls",
           "G"
          ],
          [
           844106,
           "4917.G15.long marine library change order 5.pdf",
           "G"
          ],
          [
           883684,
           "Please_Sign_6300-011_CO2_Music_Facility_-_Mu.pdf",
           "G"
          ],
          [
           846105,
           "CP 5021 - RFI #46 - Re-Feed Fire Alarm & BMS Cabling at A Dorm Vault - 8.20.13.pdf",
           "G"
          ],
          [
           757410,
           "File 1600-197A.G24 Permit.pdf",
           "G"
          ],
          [
           782330,
           "File 4836 August - October Schedule.pdf",
           "G"
          ],
          [
           501405,
           "File 5510-026A.G24 Permit.pdf",
           "G"
          ],
          [
           349777,
           "3238.G8.082222_Field Report_CLC_1882.3_WALL-OBSRV.pdf",
           "G"
          ],
          [
           718225,
           "3124.G11.Proposal Request #49.pdf",
           "G"
          ],
          [
           682271,
           "3200-008_g15.1.pdf",
           "G"
          ],
          [
           328788,
           "3111-020.G24.Performing Arts Center - Constr Permit, Jobsite Inspection.pdf",
           "G"
          ],
          [
           758157,
           "1600-231 Cert of Substantial Completion.pdf",
           "G"
          ],
          [
           744825,
           "Field Order 4.pdf",
           "G"
          ],
          [
           718371,
           "3124.G1.2.Tanza Email #17.pdf",
           "G"
          ],
          [
           254404,
           "2635 WD 07.pdf",
           "G"
          ],
          [
           705284,
           "6401.G19.ISB Ben. Occ..doc",
           "G"
          ],
          [
           310947,
           "UC Santa Cruz Dining Expansion Porter College February 2019 Invoice.pdf",
           "G"
          ],
          [
           297069,
           "RE  CSHC - RFI#540 issued 12 11 09.msg",
           "G"
          ],
          [
           298171,
           "RE  CSHC - Water Damage.msg",
           "G"
          ],
          [
           901143,
           "2015-01-06_Merrill PH 2 and 3_Field Report L005.pdf",
           "G"
          ],
          [
           199744,
           "FM Punchlist Status_02-15-11-Devcon's comments.pdf",
           "G"
          ],
          [
           169034,
           "UCSC Infill Apartments StuccoRemoval Schedule August 8, 2013.pdf",
           "G"
          ],
          [
           411840,
           "FieldOrder 4932-039 Sea Water Piping to Greenhouse location.pdf",
           "G"
          ],
          [
           733923,
           "3124.G15.Proposal Request #70 (9-28-1998).pdf",
           "G"
          ],
          [
           362217,
           "RFI 033.pdf",
           "G"
          ],
          [
           463108,
           "UCSC - Coastal Biology - 4A - CC - Exhaust Fan (Direct Drive) - EF-x.pdf",
           "G"
          ],
          [
           408337,
           "RFI #4932-394 - Horizontal Stiffeners Not Required @ Walls With Drywall Both Sides (092216) Answer.pdf",
           "G"
          ],
          [
           911594,
           "File 4925a NOC 3-29-01.pdf",
           "G"
          ],
          [
           974273,
           "5304DC85.bgdomain.bgpostoffice.100.16A3779.1.1CE11.1.xml",
           "G"
          ],
          [
           797354,
           "WD # 6701 - 119 complete.pdf",
           "G"
          ],
          [
           1027440,
           "OCM COR 08, Painting Exterior Conduit (1).PDF",
           "G"
          ],
          [
           958283,
           "5303-037 WD 18.pdf",
           "G"
          ],
          [
           285920,
           "Re  C S H C  Shut down 8 29 - 8 30.msg",
           "G"
          ],
          [
           479268,
           "File 5303 G5 UCSC Daily Inspector Report No. 050.pdf",
           "G"
          ],
          [
           716161,
           "File 2739 Letter of Instruction #4.pdf",
           "G"
          ],
          [
           199708,
           "File 1810 Boora Punchlist Dated 03.20.08.pdf",
           "G"
          ],
          [
           600383,
           "9081 NOC.pdf",
           "G"
          ],
          [
           726930,
           "Re-occupancy Merrill Cultural Center.doc",
           "G"
          ],
          [
           867939,
           "College Nine Dish Room Cost proposal 6-Plans.pdf",
           "G"
          ],
          [
           895785,
           "RFI 1042.pdf",
           "G"
          ],
          [
           797514,
           "WD # 6701 - 36 complete.pdf",
           "G"
          ],
          [
           193733,
           "FOR001-6093-P-01.pdf",
           "G"
          ],
          [
           268381,
           "A4.5.pdf",
           "G"
          ],
          [
           723590,
           "5510-076.G19.Summary.pdf",
           "G"
          ],
          [
           241237,
           "181015_Site_Observation_Report.pdf",
           "G"
          ],
          [
           972426,
           "5304DB27.bgdomain.bgpostoffice.100.16A3779.1.1CC6B.1.xml",
           "G"
          ],
          [
           194861,
           "DASMA Door Conection Calcs.pdf",
           "G"
          ],
          [
           883813,
           "6301.G1.1 Correspondence 4.pdf",
           "G"
          ],
          [
           768963,
           "3124.G11.HAE Change Request #76 Reply 2.pdf",
           "G"
          ],
          [
           197757,
           "File 1810 G13 LOI 014.pdf",
           "G"
          ],
          [
           782331,
           "File 4836 Contract Schedule.pdf",
           "G"
          ],
          [
           329425,
           "Warranty Deficiency BD-042.doc",
           "G"
          ],
          [
           758011,
           "1600-214.G24.Cowell College - Morison House Ret - Const. Permit, Jobsite Inspection.pdf",
           "G"
          ],
          [
           255167,
           "7-9-13 Concrete Insp, Soil Insp.pdf",
           "G"
          ],
          [
           240718,
           "UCSC - Crown College - Cx Issues & Resolutions Log - 2018-11-27.pdf",
           "G"
          ],
          [
           712479,
           "3002-040.G5.1.1-30-2020.pdf",
           "G"
          ],
          [
           501999,
           "File 5510-047.G24. Jobsite Inspection Record.pdf",
           "G"
          ],
          [
           296143,
           "Re  Outstanding Items     (97).msg",
           "G"
          ],
          [
           697480,
           "Daily Report UCSC Cowell EQA 063008 - 1st Floor.pdf",
           "G"
          ],
          [
           208435,
           "Duct test inspect_3A_021910.pdf",
           "G"
          ],
          [
           518224,
           "File 6101.G10 Concrete Pour inspection Record #5 4-20-94.pdf",
           "G"
          ],
          [
           950159,
           "3048-13.pdf",
           "G"
          ],
          [
           739167,
           "10636-009.G4.WRP Atomic Nano Lab Meeting Minutes #36.pdf",
           "G"
          ],
          [
           465148,
           "UC Santa Cruz Mail - Re_ 10.09.pdf",
           "G"
          ],
          [
           470691,
           "meeting minutes (4-25 meeting).pdf",
           "G"
          ],
          [
           501828,
           "5510-043A WD 02.pdf",
           "G"
          ],
          [
           874492,
           "2011-06-10.pdf",
           "G"
          ],
          [
           968634,
           "3 MONDAY 1029423 02-09-15.pdf",
           "G"
          ],
          [
           197143,
           "File 1810 RFI No. 1543 R1 8-18-09.pdf",
           "G"
          ],
          [
           718303,
           "3124.G11.Response to Proposal Request #50.1.pdf",
           "G"
          ],
          [
           356702,
           "3301-059 CO#1 PM Memo.pdf",
           "G"
          ],
          [
           836339,
           "3124.G20.Notice of Warranty Deficiency #10.pdf",
           "G"
          ],
          [
           729563,
           "08 71 00 UCSC Merrill Cultural Center HDWE_CAW_record.pdf",
           "G"
          ],
          [
           849109,
           "5702-034.G24.Construction Permit - Wynn.pdf",
           "G"
          ],
          [
           657822,
           "File FTO-1202 G16 Field Order #07 - Signed.pdf",
           "G"
          ],
          [
           463040,
           "UCSC - CBB_Argus FPT_2017-08-01.pdf",
           "G"
          ],
          [
           657880,
           "Awning Installation.pdf",
           "G"
          ],
          [
           242013,
           "2358-003.G19 NOC.pdf",
           "G"
          ],
          [
           297600,
           "Consolidated punch lists.msg",
           "G"
          ],
          [
           962755,
           "6300-001_g1.6.pdf",
           "G"
          ],
          [
           512787,
           "File 5702-013 Construction Permit 2-23-15.pdf",
           "G"
          ],
          [
           412038,
           "UC Santa Cruz Mail - RE_ UCSC Coastal Biology Building.pdf",
           "G"
          ],
          [
           300952,
           "Conference Call Invitation for 03 27 2009 10 00 AM.msg",
           "G"
          ],
          [
           297713,
           "Punch List Update.msg",
           "G"
          ],
          [
           934475,
           "Collins 2- Week Look Ahead Construction Schedule - UCSC Biomed (thru 6-15-18).xlsx",
           "G"
          ],
          [
           739587,
           "10636-009.G23.Steps to establish control values for Westside Research Park exhaust fans.pdf",
           "G"
          ],
          [
           976367,
           "File 2724.G10 Asphalt Fume Report.pdf",
           "G"
          ],
          [
           378153,
           "4101 EHS LOI 020 DRAFT.docx",
           "G"
          ],
          [
           755514,
           "3124.G11.HAE Change Request #95.pdf",
           "G"
          ],
          [
           833610,
           "PUNCHLIST FOR THIM FILM AND MATERIALS LABS.doc",
           "G"
          ],
          [
           832740,
           "08 80 00 -02 - Glazing Warranty and O&M (Final).pdf",
           "G"
          ],
          [
           871562,
           "File 3124 H.A. Ekelin RFI #455.pdf",
           "G"
          ],
          [
           463369,
           "Coastal Biology Building Schedule - Next 3 Weeks - 16.10.26.xlsx",
           "G"
          ],
          [
           463180,
           "UCSC - Coastal Biology - 27 - SRC - Lighting Control Panel.pdf",
           "G"
          ],
          [
           609284,
           "9098A TIU PHASE C MEETING MINUTES #40 9-27-2018.pdf",
           "G"
          ],
          [
           406175,
           "Training Sign-in Sheet (03-29-2016).pdf",
           "G"
          ],
          [
           972591,
           "5304DBB0.bgdomain.bgpostoffice.100.16A3779.1.1CD1D.1.xml",
           "G"
          ],
          [
           718407,
           "3124.G11.Proposal Request #55 Memorandum -- Mr. Chris Rozof, 2.pdf",
           "G"
          ],
          [
           795741,
           "Bulletin 107.pdf",
           "G"
          ],
          [
           730727,
           "UCSC- MCC Cx - FPT 3.01a - EF-1 RR.pdf",
           "G"
          ],
          [
           883917,
           "6401.G17 Warranty 14240.pdf",
           "G"
          ],
          [
           199669,
           "FO 1076 - EF R-2 Interlock with Ex hood.pdf",
           "G"
          ],
          [
           208494,
           "File 1810.G23 Start-Up & Commissioning Meeting No. 13.pdf",
           "G"
          ],
          [
           463110,
           "UCSC - Coastal Biology - 6A - CC - Reheat VAV Terminal Units.pdf",
           "G"
          ],
          [
           91809,
           "DPR Change Request CQ 128.pdf",
           "G"
          ],
          [
           463164,
           "283100 - Fire Alarm Systems - O&M.pdf",
           "G"
          ],
          [
           296444,
           "UCSC Cowell Student Health Center - PR14.msg",
           "G"
          ],
          [
           367863,
           "3701.G15. 42-R-A.pdf",
           "G"
          ],
          [
           1030533,
           "Building Permit 5.28.25.pdf",
           "G"
          ],
          [
           298545,
           "2806-8.pdf",
           "G"
          ],
          [
           349542,
           "PCE Field Report 3-17-22.pdf",
           "G"
          ],
          [
           697750,
           "CPE #224.pdf",
           "G"
          ],
          [
           730697,
           "Readiness Forms msbms1.19.2018Revised2.pdf",
           "G"
          ],
          [
           970245,
           "Instruction Bulletin No 01.pdf",
           "G"
          ],
          [
           94466,
           "File 10070 Structural Steel- Welding Shop Insp 3-20-08.pdf",
           "G"
          ],
          [
           775197,
           "6300-011.G17.Music Center Equipment Modernization - Closeout Submittal #01 78 30 - 01.pdf",
           "G"
          ],
          [
           303416,
           "RE  CSHC - Submittals 15 20 Revision 1.msg",
           "G"
          ],
          [
           718308,
           "3124.G11.Proposal Request #50.1 Memorandum -- Mr. Erik Matthews.pdf",
           "G"
          ],
          [
           862064,
           "3238-010.G19.3238-010_Certificate_of_Substant.pdf",
           "G"
          ],
          [
           755595,
           "3124.G11.HAE Change Request #88 Reply.pdf",
           "G"
          ],
          [
           1029432,
           "977471 (2500-073) Cost Breakdown Template.xls",
           "G"
          ],
          [
           94904,
           "File 10073  Joseph J Albanese Concrete Guarantee.pdf",
           "G"
          ],
          [
           470476,
           "9-23.pdf",
           "G"
          ],
          [
           501401,
           "File 5510-026.G24 Jobsite Inspection Record.pdf",
           "G"
          ],
          [
           240728,
           "2018-09-25 - UCSC Crown College - Cx Process Tracking Leonardo Equipment.pdf",
           "G"
          ],
          [
           860559,
           "File 5601 Monthly Update 10-25-08.pdf",
           "G"
          ],
          [
           699201,
           "1649-53.pdf",
           "G"
          ],
          [
           195558,
           "PR 1085 - Courtyard Landscaping Improvements.doc",
           "G"
          ],
          [
           682191,
           "3129_g6.pdf",
           "G"
          ],
          [
           91819,
           "Overtime Premium Substantiation DPR CQ # 74 A.pdf",
           "G"
          ],
          [
           391412,
           "1601-129.G7.Dispatch Request to work nonscheduled (XX-XX-2017).docx",
           "G"
          ],
          [
           718383,
           "3124.G11.Transmittal, Proposal Request #53.pdf",
           "G"
          ],
          [
           744295,
           "FR 95.xls",
           "G"
          ],
          [
           222841,
           "File 2113.G4 OAC Meeting #60.pdf",
           "G"
          ],
          [
           755491,
           "3124.G11.HAE Change Request #106.pdf",
           "G"
          ],
          [
           817249,
           "File 7401 OAC Meeting 14 Minutes.pdf",
           "G"
          ],
          [
           718434,
           "3124.G6.Proposal Request #60 Memorandum -- Mr. Jim Henry.pdf",
           "G"
          ],
          [
           200298,
           "File 1810.G20 WD No. 1810-32.pdf",
           "G"
          ],
          [
           599131,
           "62 Fiber.docx",
           "G"
          ],
          [
           172647,
           "File 1700-135 Construction Permit - Jobsite Inspection Record.pdf",
           "G"
          ],
          [
           317463,
           "File 3045.G4.OAC Meeting #3.pdf",
           "G"
          ],
          [
           169091,
           "Meeting Minutes 4.8.15.pdf",
           "G"
          ],
          [
           723870,
           "10642.G18.Commissioning_Comments_1.25.2022.pdf",
           "G"
          ],
          [
           832094,
           "3124.G12.RFI #101 -150.pdf",
           "G"
          ],
          [
           962760,
           "6300-001_g2.pdf",
           "G"
          ],
          [
           47218,
           "7 Fan Coils First Floor.pdf",
           "G"
          ],
          [
           920560,
           "6201-G2 Pmt. Cert 23 Backup.pdf",
           "G"
          ],
          [
           886330,
           "Heller, DCC Schedule, 7-13-11.pdf",
           "G"
          ],
          [
           912044,
           "Memorandum Kresge East.pdf",
           "G"
          ],
          [
           963283,
           "8900-026_g1.5(4).pdf",
           "G"
          ],
          [
           974452,
           "5304BFFB.bgdomain.bgpostoffice.100.16A3779.1.1C332.1.xml",
           "G"
          ],
          [
           879703,
           "Kresge Admin Re-roof Project, Punch List Spreadsheet, 9-19-11.xls",
           "G"
          ],
          [
           579449,
           "8500-032.G24.Pedestrian Paths - Constr Permit, Jobsite Inspection.pdf",
           "G"
          ],
          [
           463178,
           "UCSC - Coastal Biology - 26 - SRC -  Load Interruping Switches.pdf",
           "G"
          ],
          [
           345143,
           "3238.G10 36 - Concrete Break Sheet - 5-5-22.pdf",
           "G"
          ],
          [
           974994,
           "5304B883.bgdomain.bgpostoffice.100.16A3779.1.1C121.1 (2).xml",
           "G"
          ],
          [
           966669,
           "Field Order #1 signed.pdf",
           "G"
          ],
          [
           349538,
           "3238.G6.Internal Memo.pdf",
           "G"
          ],
          [
           12958,
           "1302-025.G18.Carriage House Re Roof Punchlist 12.8.16.pdf",
           "G"
          ],
          [
           295956,
           "RE  CSHC - Field Order #5.msg",
           "G"
          ],
          [
           298141,
           "Re  CSHC - 2806 Warranty Deficiencies.msg",
           "G"
          ],
          [
           541383,
           "6401-011.G16.Field Order 001.pdf",
           "G"
          ],
          [
           378163,
           "4101 EHS LOI 023.pdf",
           "G"
          ],
          [
           867849,
           "2019-6425.F-TAPS Report - LEN AND JIM TO REVIEW.pdf",
           "G"
          ],
          [
           755652,
           "3124.G15.Change Request #79.pdf",
           "G"
          ],
          [
           874288,
           "2009-10-28.pdf",
           "G"
          ],
          [
           962236,
           "Instruction Bulletin No. 02.pdf",
           "G"
          ],
          [
           194778,
           "SVI McHenry_103007.doc",
           "G"
          ],
          [
           943242,
           "#9805C Change Order #6.pdf",
           "G"
          ],
          [
           606497,
           "4-29-16.pdf",
           "G"
          ],
          [
           361502,
           "File 3503 G15 Change Order No. 03 Summary Form 12.16.92.pdf",
           "G"
          ],
          [
           950438,
           "05-14-10.pdf",
           "G"
          ],
          [
           874345,
           "2010-01-31 PM.pdf",
           "G"
          ],
          [
           733417,
           "3124.G11.Proposal Request #62 (6-3-1998).pdf",
           "G"
          ],
          [
           240777,
           "UCSC - Crown College - Leonardo - M02A - 1 SRC - Exhaust Fan - EF-1.pdf",
           "G"
          ],
          [
           703798,
           "2318.G15.Change Order 14.pdf",
           "G"
          ],
          [
           367886,
           "3701.G15.ChangeOrder27-R.pdf",
           "G"
          ],
          [
           741143,
           "2700-134.E3.WO00404296 EMS drain grate repair.xlsx",
           "G"
          ],
          [
           669096,
           "2318-069B.G3.CMA Revised cost breakdown and job schedule.doc",
           "G"
          ],
          [
           412743,
           "Warranty_#_39.pdf",
           "G"
          ],
          [
           804906,
           "6701-012.G19.Biomedical_Sciences_Facility_-_Hot_Water_Tank_Replacement_-_Cert_of_Substantial_Completion..pdf",
           "G"
          ],
          [
           298199,
           "RE  DPR and Cowell Health.msg",
           "G"
          ],
          [
           615346,
           "9803A_RFI_075_-_Slab_Rebar.pdf",
           "G"
          ],
          [
           755471,
           "3124.G11.HAE Change Request #110 Reply.pdf",
           "G"
          ],
          [
           832104,
           "3124.G15.Change Order Summary Packet.pdf",
           "G"
          ],
          [
           883662,
           "6300-011 Music Center Equipment Modernization - RFI #02 Ceiling Canopy Allowable Tilt.doc (2).pdf",
           "G"
          ]
         ],
         "hovertemplate": "tag=%{customdata[2]}<br>umap_x=%{x}<br>umap_y=%{y}<br>file_id=%{customdata[0]}<br>filename=%{customdata[1]}<extra></extra>",
         "legendgroup": "G",
         "marker": {
          "color": "#1C8356",
          "line": {
           "width": 0
          },
          "opacity": 0.75,
          "size": 7,
          "symbol": "circle"
         },
         "mode": "markers",
         "name": "G",
         "showlegend": true,
         "type": "scattergl",
         "x": {
          "bdata": "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",
          "dtype": "f4"
         },
         "xaxis": "x",
         "y": {
          "bdata": "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",
          "dtype": "f4"
         },
         "yaxis": "y"
        },
        {
         "customdata": [
          [
           472768,
           "4999-007.C2.3.4999-008.C2.3Agreement.pdf",
           "C"
          ],
          [
           950929,
           "BOWCUO01- R1.pdf",
           "C"
          ],
          [
           826764,
           "Environmental Impact Report, Proposal for Services.pdf",
           "C"
          ],
          [
           311034,
           "Miyamoto International_Porter Dining_Inv 00050521.pdf",
           "C"
          ],
          [
           911492,
           "File 4925-001 Concrete Science Prelim Scope 5-20-02.pdf",
           "C"
          ],
          [
           146671,
           "1324.C2.2.land Fleet Wash Bay Design proposal.pdf",
           "C"
          ],
          [
           956270,
           "CTC001-R2.pdf",
           "C"
          ],
          [
           545639,
           "File 6628.C1.2 9.19.96 Guttmann&MacRitchie Submission of Statement of Qualifications.pdf",
           "C"
          ],
          [
           831346,
           "File 9086. C1.2. Putkey Letter re Hearing Details.pdf",
           "C"
          ],
          [
           792219,
           "Leon H. Waller Architect Authorization - SDWALLF1R2.pdf",
           "C"
          ],
          [
           720654,
           "3111-024.C1.3.Young Eng. - EDPAL - PAC - Baskin VA Bldg M Replace AHU Terminal.pdf",
           "C"
          ],
          [
           944602,
           "A&A DPANS002-R2.pdf",
           "C"
          ],
          [
           246645,
           "File 2630 Authorization BAG048.pdf",
           "C"
          ],
          [
           689328,
           "10057.C1.2.Elevator Controls.pdf",
           "C"
          ],
          [
           244236,
           "File 2600 Invoice #205.pdf",
           "C"
          ],
          [
           753092,
           "EXHIBIT F_General Conditions from the mini-form agreement.doc",
           "C"
          ],
          [
           738828,
           "12056-018.C2.3.Please_Sign_PSA_Dudek_-_12056-018_Environmen.pdf",
           "C"
          ],
          [
           311039,
           "completedpleasesignauthgif008porterdiningsurveyin.zip",
           "C"
          ],
          [
           942697,
           "File 5500-037.C1.3. Agreement.pdf",
           "C"
          ],
          [
           544805,
           "File 6602 Contract for Services Transmittal.pdf",
           "C"
          ],
          [
           944578,
           "additional edits from A&A.pdf",
           "C"
          ],
          [
           711033,
           "L5,L6 - WMAUD.PDF",
           "C"
          ],
          [
           310662,
           "171120_KRESGERFQ_FINALLETTER_KIERAN_TIMBERLAKE.doc",
           "C"
          ],
          [
           75866,
           "File 10019 Statement 2-7-84.pdf",
           "C"
          ],
          [
           545147,
           "6612.C1.2.Mt. Hamilton uti. and Site develop. encroachment permit request correspondence.pdf",
           "C"
          ],
          [
           790664,
           "invoice 1355 - 1383_001.pdf",
           "C"
          ],
          [
           703336,
           "9800-010.C2.1.2019 05 15 Ifland Survey Proposal.pdf",
           "C"
          ],
          [
           472936,
           "5100.C1.2.HarryJohnDuttonConsulting.pdf",
           "C"
          ],
          [
           42958,
           "CONPOR01-CONPOR01-R2.pdf",
           "C"
          ],
          [
           685046,
           "Autho Rogers 3.7.02.pdf",
           "C"
          ],
          [
           753315,
           "5404.C1.1.The Architects Collaborative Inc., Facsimile.pdf",
           "C"
          ],
          [
           975053,
           "Amendment 1.pdf",
           "C"
          ],
          [
           917312,
           "File 6201 Anshen & Allen EDPA and Authorizations.pdf",
           "C"
          ],
          [
           819493,
           "File 7501 Professional Service Agreement- Cogent Energy.pdf",
           "C"
          ],
          [
           74431,
           "File 10000-187.C1.3 Engineering Enterprise Proposal.pdf",
           "C"
          ],
          [
           1820,
           "File 1417 Proposal for Work 11-17-82.pdf",
           "C"
          ],
          [
           22864,
           "Authorization # KOP001-R1.pdf",
           "C"
          ],
          [
           307258,
           "3915_001.pdf",
           "C"
          ],
          [
           944584,
           "Exposure List Design Team.pdf",
           "C"
          ],
          [
           11848,
           "200922  UCSC 1st Floor Library Reno - EHDD Proposal.pdf",
           "C"
          ],
          [
           769740,
           "10068.C1.2.ReelGrobmanLetter.doc",
           "C"
          ],
          [
           775322,
           "10071.C1.3.10071 (C) Forell Elsesser PSA (FORSAS).doc",
           "C"
          ],
          [
           729481,
           "P0578480 Merrill Storage Containers for Lot 119.pdf",
           "C"
          ],
          [
           1025293,
           "Authorization PCEGDP16 8.15.2025.pdf",
           "C"
          ],
          [
           310709,
           "Hornberger Worstell SOQ.pdf",
           "C"
          ],
          [
           467372,
           "ECI added planting work.pdf",
           "C"
          ],
          [
           311030,
           "Auth MIY008.pdf",
           "C"
          ],
          [
           781675,
           "File 4800-034.C2.3. Agreement.pdf",
           "C"
          ],
          [
           310611,
           "Dining Expansion RFQ Rejection Letter Ratcliff.docx",
           "C"
          ],
          [
           310616,
           "Perkins.pdf",
           "C"
          ],
          [
           24228,
           "File 1200-067.C1.3. Agreement.pdf",
           "C"
          ],
          [
           245161,
           "Lot 119.pdf",
           "C"
          ],
          [
           381409,
           "appendix_3_8.pdf",
           "C"
          ],
          [
           543886,
           "6600-002.C2.2 Contractor Correspondence 5.pdf",
           "C"
          ],
          [
           703322,
           "9800-010.C2.1.20.10.21 Dudek_DUDWSM01_Inv 202007573.pdf",
           "C"
          ],
          [
           310602,
           "Dining Expansion RFQ Rejection Letter CAW.pdf",
           "C"
          ],
          [
           541600,
           "UCOP Fee Discussion",
           "C"
          ],
          [
           753326,
           "5404.C1.1.Chen & Associates - Fax Transmittal.pdf",
           "C"
          ],
          [
           247104,
           "File 2635 Proposal for Accesibility Survey of College Residential Uses and Site Areas.pdf",
           "C"
          ],
          [
           769748,
           "4500-001.C1.2.Kremer & Associates PSA Amendment Cover Letter (KRESBOO).doc",
           "C"
          ],
          [
           944621,
           "AUthorizations vs payments.xls",
           "C"
          ],
          [
           78252,
           "10062.C2.2.UBP201901180454.pdf",
           "C"
          ],
          [
           976820,
           "Amendment 2.pdf",
           "C"
          ],
          [
           579276,
           "File 8500-030A.C2.3. Authorization #HAR020-R1.pdf",
           "C"
          ],
          [
           45933,
           "A2-02 A .pdf",
           "C"
          ],
          [
           98019,
           "File 10087.C1.1 List Firms Requesting RFQ Packet.pdf",
           "C"
          ],
          [
           310597,
           "Dining Expansion RFQ Interview Invite Letter Studio Ma .docx",
           "C"
          ],
          [
           600030,
           "Gordon Prill Blue Light Phone Project General Services.pdf",
           "C"
          ],
          [
           962763,
           "6300-001_c1.3.pdf",
           "C"
          ],
          [
           844080,
           "4913.C1.2.Contract Correspondence.pdf",
           "C"
          ],
          [
           864009,
           "4910.C1.2.Laval Separator Memo.pdf",
           "C"
          ],
          [
           235714,
           "File 2358.C1.1.TefDesign RFQ.pdf",
           "C"
          ],
          [
           381407,
           "appendix_3_5.pdf",
           "C"
          ],
          [
           45963,
           "101122 UCSC Biomed AS 30 Card Reader redesign with Attachment.pdf",
           "C"
          ],
          [
           536268,
           "Agreement with Predock Architect 4-28-95.pdf",
           "C"
          ],
          [
           358855,
           "File 3404.C1.2 Earth Anchor Testing.pdf",
           "C"
          ],
          [
           716842,
           "20150930 ALC Proposal.pdf",
           "C"
          ],
          [
           329051,
           "Version B 1993.pdf",
           "C"
          ],
          [
           338302,
           "3238.C1.3. Studio Gang Architects Authorization #SGTAKRE03.pdf",
           "C"
          ],
          [
           689325,
           "10057.C1.2.Afshar-Steve.pdf",
           "C"
          ],
          [
           975081,
           "ENNTSR01-R4.pdf",
           "C"
          ],
          [
           337666,
           "Langan_UC Santa Cruz_Interview Slide Presentation.pptx",
           "C"
          ],
          [
           865223,
           "4901.C2.2.Planning Documents Correspondence 12.2.74.pdf",
           "C"
          ],
          [
           917330,
           "ANS013.pdf",
           "C"
          ],
          [
           13426,
           "File 1306-017.C2.3. Agreement.pdf",
           "C"
          ],
          [
           73259,
           "10000-024.C1.1.campus ada plumbing alterations phase 2 drinking fountains request for quotation.pdf",
           "C"
          ],
          [
           310718,
           "UC Santa Cruz Dining Expansion May 2018 Invoice.pdf",
           "C"
          ],
          [
           863496,
           "Geoffrey Smith.vcf",
           "C"
          ],
          [
           467375,
           "Granitecrete matl.pdf",
           "C"
          ],
          [
           376332,
           "File 4101.C1.3. Authorization #BDBTE003-R01.pdf",
           "C"
          ],
          [
           954880,
           "Authorization BUT016 -backup.pdf",
           "C"
          ],
          [
           235725,
           "CrownC MM ADA RFQ Attachment I.xls",
           "C"
          ],
          [
           942825,
           "10637-010_RFQ_MASTERARCH_LETTER_FLAD_Out.pdf",
           "C"
          ],
          [
           703318,
           "9800-010.C2.1.2020 02 10 CC003 - Inv 2 - $9530.pdf",
           "C"
          ],
          [
           235767,
           "DSTNCR02 - 35049.pdf",
           "C"
          ],
          [
           472880,
           "5002.C1.2.Executive Architect Correspondence.pdf",
           "C"
          ],
          [
           381405,
           "appendix_3_3.pdf",
           "C"
          ],
          [
           310575,
           "Dining Expansion Interview Schedule.pdf",
           "C"
          ],
          [
           235786,
           "DSTNCR06R2 - 37143R.pdf",
           "C"
          ],
          [
           716827,
           "BarnG.jpg",
           "C"
          ],
          [
           95601,
           "UCSC -  IT Upgrade Phase C 5-19-16.pdf",
           "C"
          ],
          [
           589960,
           "8591B.C2.3 BUTCSR1 - Invoice 11-04-16.pdf",
           "C"
          ],
          [
           917294,
           "6201.C1.2.Cunningham Eng PSA Cover Letter (CUNPSB).doc",
           "C"
          ],
          [
           44459,
           "PM Auth Entry BDIFL015-R1.pdf",
           "C"
          ],
          [
           917292,
           "6201.C1.2.Cunningham Amd 1 Cover ltr (CUNPSB).doc",
           "C"
          ],
          [
           381382,
           "section_2_0_cumulative_impacts.pdf",
           "C"
          ],
          [
           790563,
           "140604_UCSC CBB Structural Comment Log.xlsx",
           "C"
          ],
          [
           42996,
           "CRPLRP04.pdf",
           "C"
          ],
          [
           886150,
           "Nichols Consulting Engineers Heller Drive Pavement Rehab Civil Services.pdf",
           "C"
          ],
          [
           805104,
           "East Infill Program Spread Sheet.xls",
           "C"
          ],
          [
           956695,
           "GE Site Map Showing Boring Locations rfs.pdf",
           "C"
          ],
          [
           133621,
           "File 11100 City Planning Services Invoice 2-6-73.pdf",
           "C"
          ],
          [
           834940,
           "1330.C1.1330 (C) Request for a Project Specific Agreement- TEF Design.pdf",
           "C"
          ],
          [
           43939,
           "EX_B_Rates_PW19.pdf",
           "C"
          ],
          [
           541599,
           "UCOP Approval Zwart - Vani",
           "C"
          ],
          [
           337650,
           "2-Krege Geotech SOQ Attachments.docx",
           "C"
          ],
          [
           310670,
           "171106_KRESGERFQ_INTERVIEWLETTER_KIERANTIMBERLAKE.doc",
           "C"
          ],
          [
           589957,
           "8591B.C2.3 16-106-SC Observation and Testing Final.pdf",
           "C"
          ],
          [
           950789,
           "BOORA Architects, Inc 1993-2001.pdf",
           "C"
          ],
          [
           235764,
           "DSTNCR02 - 34612.pdf",
           "C"
          ],
          [
           805148,
           "File 6801 Big Creek Scope of Work 8-5-09.pdf",
           "C"
          ],
          [
           755304,
           "Cover Ltr to Degenkolb.doc",
           "C"
          ],
          [
           969581,
           "10078.C1.10078 Glass Associates,Inc. PSA (GLASCP).pdf",
           "C"
          ],
          [
           875066,
           "2501.C1.2.Correction of Building Deficiencies 4.14.78.pdf",
           "C"
          ],
          [
           588152,
           "8929.C1.2. Coolidge Drive - Campus Facilities - Intersection Improvements - Consulatants - Executive Architect - Correspondence 1997.pdf",
           "C"
          ],
          [
           874772,
           "10637-010_RFQ_MASTERARCH_LETTER_Gensler.pdf",
           "C"
          ],
          [
           752933,
           "EDPA_specific_ SUPPLEMENTARY REQUIREMENTS.doc",
           "C"
          ],
          [
           310623,
           "GoringStraja Invite.pdf",
           "C"
          ],
          [
           872851,
           "20241210_UCSC_WRP_Building_C_Flad_Interview[1].pdf",
           "C"
          ],
          [
           826769,
           "File 7601.C1.2 Contract Award.pdf",
           "C"
          ],
          [
           329047,
           "3124.C1.1.C1.2. EIR and Correspondence.pdf",
           "C"
          ],
          [
           474266,
           "5201.C1.1.Natural sciences contract review language added to exhibit D contract.pdf",
           "C"
          ],
          [
           381375,
           "9.1_alphabetical_index_by_author.pdf",
           "C"
          ],
          [
           976280,
           "Goss Engineering Auth BDGOS014-R1.pdf",
           "C"
          ],
          [
           864032,
           "4910.C1.2.Structo-Lite Drawings 1 Transmittal 4.18.77.pdf",
           "C"
          ],
          [
           860998,
           "File 6701 Construction Testing Services, Inc. 9-18-09.pdf",
           "C"
          ],
          [
           545644,
           "File 6628.C1.2 BKF References.pdf",
           "C"
          ],
          [
           865016,
           "4910.C1.2.Tnemec Certification Transmittal.pdf",
           "C"
          ],
          [
           467382,
           "REQUEST TO HAVE A NEGOTIATED CONSTRUCTION CONTRACT WRITTEN Nov 2016.pdf",
           "C"
          ],
          [
           759418,
           "File 1639 C1.2 Architect's Agreement and Fee Negotiation Guide Acknowledgment Form.pdf",
           "C"
          ],
          [
           971588,
           "1442.C1.2.1442 (C) Bogard Construction Amendment 2 Letter_cover (BCIDNA).doc",
           "C"
          ],
          [
           790213,
           "File 4932.C1.1 Advertisement Short.pdf",
           "C"
          ],
          [
           363381,
           "File 3608 Services Rendered 11-14-74.pdf",
           "C"
          ],
          [
           73377,
           "10000-025.C2.3.campus ADA alterations phase 3 thimann labs 3rd floor restroom agreement.pdf",
           "C"
          ],
          [
           271742,
           "File 2700-001 Master Plan; Draft Letter #1; Calcs.pdf",
           "C"
          ],
          [
           951183,
           "Boora. Authorization. BOR031 R2.pdf",
           "C"
          ],
          [
           235735,
           "16021_UC Santa Cruz Crown_Owner ASA 11-r1_pend.pdf",
           "C"
          ],
          [
           235837,
           "2016-11-16 Removal of bioretention in Quad.pdf",
           "C"
          ],
          [
           545642,
           "File 6628.C1.2 9.30.96 Selection Committee Scheduling.pdf",
           "C"
          ],
          [
           235841,
           "2017-06-27 Lower Quad Removal.pdf",
           "C"
          ],
          [
           381403,
           "appendix_3_12.pdf",
           "C"
          ],
          [
           805101,
           "Sasaki Letter.pdf",
           "C"
          ],
          [
           776445,
           "8900-089.C1.3.Request for a Project Specific Agreement - TDG Engineering - Toole Design.pdf",
           "C"
          ],
          [
           785540,
           "File 4901 DCA #25.pdf",
           "C"
          ],
          [
           976708,
           "DEMPOR01(2).pdf",
           "C"
          ],
          [
           753072,
           "EXHIBIT_F.doc_.doc",
           "C"
          ],
          [
           943052,
           "BDBKFMD1-R3.pdf",
           "C"
          ],
          [
           310560,
           "Dining Interview Notes 171219_Page_2.jpg",
           "C"
          ],
          [
           956446,
           "UC Santa Cruz Mail - EDPA (for CM@R Delivery Method) Design Professional Insurance Coverage Amounts per Paragraph 10.2.1_(1).UC Santa Cruz Mail - EDPA (for CM@R Delivery Method) Design Professional Insurance Coverage Amounts per Paragraph 10.2.1.pdf",
           "C"
          ],
          [
           970025,
           "Gordon Prill Auth GORDBC18 WRP - C0171 BSL-2 Teaching & Remote Work Lab - Pre-Design Services.pdf",
           "C"
          ],
          [
           356048,
           "File 3301.6.1.C1.2-Social Sciences Unit 1-Landscape Architect Correspondence.pdf",
           "C"
          ],
          [
           579611,
           "2019 02 25 SDMESG01 #2 - $3432.pdf",
           "C"
          ],
          [
           373994,
           "4000-027.C1.3 Sinsheimer_Labs_Award Agreement.pdf",
           "C"
          ],
          [
           146174,
           "13012 C1.1 Integral Group.pdf",
           "C"
          ],
          [
           337663,
           "180803_KRESGE_GEOTECH_INTERVIEW_LETTER_PACIFIC_CREST.doc",
           "C"
          ],
          [
           754391,
           "4202.C1.3.MAFHEL01-R2 - Auth.pdf",
           "C"
          ],
          [
           43942,
           "Gary Ifland and Associates - PSA for Surveys for Carson Dining Expansion.pdf",
           "C"
          ],
          [
           337670,
           "180703_KRESGE_GEOTECH_RFQ_LETTER_TWINING.doc",
           "C"
          ],
          [
           310605,
           "Dining Expansion RFQ Rejection Letter Field Paoli.docx",
           "C"
          ],
          [
           110897,
           "File 10637.C1.1 HOK Invitation to Interview.pdf",
           "C"
          ],
          [
           975514,
           "1500-027.C1.3.1500-027 PCE070 Invoice 11-30-16.pdf",
           "C"
          ],
          [
           11866,
           "AUTH DIR006 backup.pdf",
           "C"
          ],
          [
           246504,
           "File 2625 Preliminary Engineering Report #1 9-22-94.pdf",
           "C"
          ],
          [
           716808,
           "EHDD SOR Org Chart.pdf",
           "C"
          ],
          [
           235728,
           "16021_UC Santa Cruz Crown_Owner ASA 02_pend.pdf",
           "C"
          ],
          [
           752830,
           "Exhibit SC.doc",
           "C"
          ],
          [
           831343,
           "File 9086 D.J. Scheffler Pre-Qualification Packet.pdf",
           "C"
          ],
          [
           310703,
           "Porter Schedule.jpg",
           "C"
          ],
          [
           911518,
           "File 4925-002.C1.1 SRG Invitation to Interview Letter.pdf",
           "C"
          ],
          [
           45962,
           "101122 UCSC Biomed AS 29 Telecom System Redesign with attachment.pdf",
           "C"
          ],
          [
           655,
           "1400-093A.C1.2.Forensic Analytical Consulting PROHA745 UCSC Roof Survey Proposal Final.pdf",
           "C"
          ],
          [
           790670,
           "Invoice 1812 2817_001.pdf",
           "C"
          ],
          [
           517921,
           "6101.C1.2.Appointment of Architect, Colleges Nine and Ten.pdf",
           "C"
          ],
          [
           367434,
           "File 3700-061.C1.3. Hinson Agreement.pdf",
           "C"
          ],
          [
           686187,
           "EDPAL 2023.pdf",
           "C"
          ],
          [
           310651,
           "160419_KRESGERFQ_FINALLETTER_STUDIOMA_MOSS.doc",
           "C"
          ],
          [
           363387,
           "File 3608 Services Rendered 5-21-75.pdf",
           "C"
          ],
          [
           45067,
           "Auth #MIYCDP01.pdf",
           "C"
          ],
          [
           281433,
           "File 2799-031 Confirming Proposal for Consulting Services.pdf",
           "C"
          ],
          [
           235710,
           "File 2358.C1.1.Gelfand RFQ.pdf",
           "C"
          ],
          [
           753089,
           "Blanket EDPA Letter.doc",
           "C"
          ],
          [
           246505,
           "File 2625 Preliminary Engineering Report #1.pdf",
           "C"
          ],
          [
           729480,
           "RFI 178 Response.pdf",
           "C"
          ],
          [
           769989,
           "4016.C1.2.4016 (C) Glass Associates PSA Cover Letter (GLASIN).doc",
           "C"
          ],
          [
           40980,
           "File 4933.C2.3. Authorization #DPESH029.pdf",
           "C"
          ],
          [
           956261,
           "Amendment 1.pdf",
           "C"
          ],
          [
           45950,
           "081029 UCSC Biomed Add Serv 08r1 Convert Dx Units to Chilled Water FCUs letter W ATTACHMENT.pdf",
           "C"
          ],
          [
           775566,
           "1326.C1.2.1326(C) AND 6900 (C) Pacific Crest Engeering PSA executed letter PCEHBR and PCEDPP - Copy.doc",
           "C"
          ],
          [
           329048,
           "File 3124 Architectural Services.pdf",
           "C"
          ],
          [
           477579,
           "invoice 3666_001.pdf",
           "C"
          ],
          [
           338309,
           "3238 C1.2 Major Revitalization Phase 1.pdf",
           "C"
          ],
          [
           805112,
           "090224_comp_summary_INHOUSE_ OP VERSION final.pdf",
           "C"
          ],
          [
           235689,
           "File 2358 2638.C1.1 List Firms Requesting RFQ.pdf",
           "C"
          ],
          [
           754679,
           "EXHIBIT_K title.doc",
           "C"
          ],
          [
           769680,
           "5201.C1.3.5201 (C) Cogent Energy PSA (COGEMB).doc",
           "C"
          ],
          [
           735241,
           "6300-015.C1.3.Gayner (GAYMCC) Amendment 2.docx.pdf",
           "C"
          ],
          [
           381391,
           "section_6_0_growth_inducement.pdf",
           "C"
          ],
          [
           790658,
           "Auth PCE061.pdf",
           "C"
          ],
          [
           775343,
           "8900-056.C1.2.8900-056 (C) Bowman & Williams PSA cover letter (BOWCOO).doc",
           "C"
          ],
          [
           917293,
           "6201.C1.2.Cunningham Amd 2 Cover Letter (CUNPSB).doc",
           "C"
          ],
          [
           775595,
           "6900.C1.2.6900 (C) Pacific Crest PSA Letter_cover (PCEIAS).doc",
           "C"
          ],
          [
           579662,
           "8500-033 - Engineer RFQ Score Card - Z. Teske.pdf",
           "C"
          ],
          [
           232495,
           "1-021916-HYT Proposal for UCSC Dorm Fire Alarm Design.pdf",
           "C"
          ],
          [
           11870,
           "AUTH GUTCSE01.pdf",
           "C"
          ],
          [
           545148,
           "6612.C2.2.Mt. Hamilton Architect consultant correspondence.pdf",
           "C"
          ],
          [
           944588,
           "General and Supplental condition Edits from A&A.pdf",
           "C"
          ],
          [
           1007916,
           "Padlock Eyes Correspondence c1.2.pdf",
           "C"
          ],
          [
           492206,
           "File 5507 C2.3 Authorization for Steven Raas & Associates Testing Services 08.19.97.pdf",
           "C"
          ],
          [
           310634,
           "2358 RFQ Final Letter Studio Ma.pdf",
           "C"
          ],
          [
           12777,
           "1302-025.C.Estimate - Skyline Engineering 2.5.16.pdf",
           "C"
          ],
          [
           367768,
           "3701. C1.2 . Correspondence.pdf",
           "C"
          ],
          [
           744183,
           "Outside Light Safety fax.xls",
           "C"
          ],
          [
           83511,
           "File 10069.C1.1 Selection Notice - Hochbah-Lewin.pdf",
           "C"
          ],
          [
           310730,
           "PSA_for_CHES_Dining_SBE Certification Form-MAR.pdf",
           "C"
          ],
          [
           337655,
           "Pacific Crest SOQ.pdf",
           "C"
          ],
          [
           716832,
           "160519 UCSC ALC ASR4.pdf",
           "C"
          ],
          [
           472934,
           "5100.C1.2.CowellKitchenConversionInterimCommissary.pdf",
           "C"
          ],
          [
           75716,
           "File 10017 Exhibit B Transmittal 8-14-81.pdf",
           "C"
          ],
          [
           235762,
           "DSTNCR02 - 34363.pdf",
           "C"
          ],
          [
           381305,
           "File 4101A.C2.3. Authorization #DMILEHS5.pdf",
           "C"
          ],
          [
           469961,
           "0408_001.pdf",
           "C"
          ],
          [
           912491,
           "5305-015A.C1.3.Proposal-Rachel Carson College project number.pdf",
           "C"
          ],
          [
           753324,
           "5404.C1.1.Bull, Stockwell, Allen & Ripley - Correspondence.pdf",
           "C"
          ],
          [
           97995,
           "Final Infill RFQ for PM.pdf",
           "C"
          ],
          [
           585868,
           "File 8892.C1.3 Earthworks Agreement.pdf",
           "C"
          ],
          [
           235838,
           "2017-02-23 Removal of all biofiltration areas.pdf",
           "C"
          ],
          [
           1031362,
           "Executive Landscape Architect Correspondances.pdf",
           "C"
          ],
          [
           73623,
           "10000-032.C1.2.campus ADA alterations phase 6 east field house drinking fountain phase description correspondence.pdf",
           "C"
          ],
          [
           310965,
           "PM Auth Entry  MITDEX01.pdf",
           "C"
          ],
          [
           917171,
           "Nova Partners Cardiff Terrace Hagar Meadows Interior Management Services.pdf",
           "C"
          ],
          [
           743397,
           "RCM_PPC_Trlr_EV_Charger.pdf",
           "C"
          ],
          [
           310624,
           "Rev5 TIU Housing RFQ-2.docx",
           "C"
          ],
          [
           381380,
           "introduction_and_executive_summary.pdf",
           "C"
          ],
          [
           487688,
           "5470-001.C1.2.CentralFoodServiceFacilityC1.2.pdf",
           "C"
          ],
          [
           368548,
           "3705-002.C1.2.Exec Architect Correspondence.pdf",
           "C"
          ],
          [
           541585,
           "Interview rejection letter",
           "C"
          ],
          [
           746495,
           "List Qualified Applicators - Sikadur 55 SLV.doc",
           "C"
          ],
          [
           331239,
           "File 3201-018 Authorzation- Paul Rodrigues.pdf",
           "C"
          ],
          [
           110891,
           "File 10637.C1.1 Gordon Prill Presentation.pdf",
           "C"
          ],
          [
           976305,
           "Glumac Auth GLULED2-R1 - Glumac EDPA, 2700-154 - JBE - LED Lighting.pdf",
           "C"
          ],
          [
           753356,
           "5404.C1.1.Krazan & Associates.pdf",
           "C"
          ],
          [
           790674,
           "invoice 2048 3674_001.pdf",
           "C"
          ],
          [
           83099,
           "Degenkolb Engineers.pdf",
           "C"
          ],
          [
           235830,
           "PM Auth Entry #DSTNCR14.pdf",
           "C"
          ],
          [
           110933,
           "CPI-Alta Devices.doc",
           "C"
          ],
          [
           769699,
           "7601.C1.2.7601 (C) Ross Drulis PSA Cover Ltr (ROSERC).doc",
           "C"
          ],
          [
           274425,
           "File 2732 Prime Design Proposal 3-29-99.pdf",
           "C"
          ],
          [
           235812,
           "Auth #DSTNCR06-R2_1.pdf",
           "C"
          ],
          [
           787008,
           "File 4924 Survey of Coastal Marine Lab Site 5-13-76.pdf",
           "C"
          ],
          [
           467381,
           "Coastal Biology Building-Landscape Maintenance Proposal.pdf",
           "C"
          ],
          [
           969794,
           "1400-093.C2.3.SKY026 - Invoice 09-16-15.pdf",
           "C"
          ],
          [
           753032,
           "Exhibit SC_2-12-2013.doc",
           "C"
          ],
          [
           518473,
           "File 6200-018 Agreement.pdf",
           "C"
          ],
          [
           735242,
           "6300-015.C1.3.Oct 13 2023 UCSC Music Center Chiller Replacement and Boiler Electrification Study Gayner proposal.p.pdf",
           "C"
          ],
          [
           273945,
           "File 2731 Selection Committee 11-22-96.pdf",
           "C"
          ],
          [
           41260,
           "PSA.pdf",
           "C"
          ],
          [
           711028,
           "UCSC Cryo EM_TESTFIT.pdf",
           "C"
          ],
          [
           235889,
           "File 2358 2638.C2.1 Geocon Letter.pdf",
           "C"
          ],
          [
           770079,
           "12051-001.C1.3.12051-001 (C) Allana Buick & Bers PSA (ABBAUG).pdf",
           "C"
          ],
          [
           942836,
           "10637-010_RFQ_MASTERARCH_LETTER_NBBJ.pdf",
           "C"
          ],
          [
           755671,
           "10637-011.C1.3.Skyline Engineering EDPA for Westside Research Park - Building C - Re-Roofing.pdf",
           "C"
          ],
          [
           307257,
           "TT UC Santa Cruz Porter Peer Review_10.18.13.pdf",
           "C"
          ],
          [
           832223,
           "AON Fire Sprinkler.pdf",
           "C"
          ],
          [
           536190,
           "WJE, 5-20-15, Leak Test Locations attachment.pdf",
           "C"
          ],
          [
           110979,
           "Hitachi.pdf",
           "C"
          ],
          [
           467377,
           "4932-007__Coastal_Sciences_Campu.pdf",
           "C"
          ],
          [
           864046,
           "4910.C1.2.Survey of Intake Erosion Channel Memo 3.21.77.pdf",
           "C"
          ],
          [
           235829,
           "Backup - Auth #DSTNCR14.pdf",
           "C"
          ],
          [
           819494,
           "File 7501 Professional Service Agreement- Pacific Crest.pdf",
           "C"
          ],
          [
           759431,
           "File 1639 C1.2 Correspondence with Nelson Scott Smith 7-30-1999.pdf",
           "C"
          ],
          [
           337644,
           "3-Ad for geotech EH&S.doc",
           "C"
          ],
          [
           110902,
           "File 10637.C1.1 Perkins Will Invitation to Interview.pdf",
           "C"
          ],
          [
           98002,
           "Infill.PMServicesReject.ltr.NOVA.pdf",
           "C"
          ],
          [
           111090,
           "Final.Draft.GP.Exhibit K.UC Certificate of Insurance.doc",
           "C"
          ],
          [
           577809,
           "8347-4-1.C1.2.Amended Stop notice.pdf",
           "C"
          ],
          [
           133634,
           "File 11100 Proposal 6-11-71.pdf",
           "C"
          ],
          [
           753532,
           "bf_general_conditions 6-4-13.docx",
           "C"
          ],
          [
           543885,
           "6600-002.C2.2 Contractor Correspondence 4.pdf",
           "C"
          ],
          [
           310590,
           "Dining Expansion RFQ Interview Invite Letter Hornberger.pdf",
           "C"
          ],
          [
           536189,
           "WJE Proposed Destructive Testing, 5-12-15.JPG",
           "C"
          ],
          [
           754280,
           "8887.C1.2.Request for Proposals.pdf",
           "C"
          ],
          [
           969544,
           "CUMBBI01.pdf",
           "C"
          ],
          [
           769700,
           "7601.C1.2.7601( C) Pacific Crest Engineering PSA Amd 1 Cover Letter (PCEERC).doc",
           "C"
          ],
          [
           541597,
           "UCOP Approval Greenwood - UCOP",
           "C"
          ],
          [
           577814,
           "8347-4-1.C1.2.Facilities Shop Drawing and Submittal Review.pdf",
           "C"
          ],
          [
           381388,
           "section_3_7_land_use_and_planning.pdf",
           "C"
          ],
          [
           310685,
           "171106_KRESGECOLLEGERFQSUBMISSION_SVA_LETTER.docx",
           "C"
          ],
          [
           753527,
           "Cover Ltr to BCJ.doc",
           "C"
          ],
          [
           381377,
           "9.3_responses_to_comments.pdf",
           "C"
          ],
          [
           775518,
           "10078 (C) Cumming PSA cover Letter (CUM2SB).doc",
           "C"
          ],
          [
           311031,
           "Back Up MIY008.pdf",
           "C"
          ],
          [
           1244,
           "File 1400-098A.C1.3 Dolder Agreement.pdf",
           "C"
          ],
          [
           45936,
           "A2-03 A - WY.pdf",
           "C"
          ],
          [
           364915,
           "File 3619 C1.1 Sample Req. For Qualification.pdf",
           "C"
          ],
          [
           1007915,
           "Landscape Architect Correspondence c1.2.pdf",
           "C"
          ],
          [
           944585,
           "Fee Letter from A&A.pdf",
           "C"
          ],
          [
           768650,
           "Scope of Work for Student Life Seismic Corrections Ph 2 Draft 09.03.13.pdf",
           "C"
          ],
          [
           310540,
           "Attachment B revised per Addendum 1.pdf",
           "C"
          ],
          [
           487171,
           "Willdan College 8 2006 Major Maintenance Third Party Check Services.pdf",
           "C"
          ],
          [
           310579,
           "Dining Expansion RFQ-Final Letter StudioMA No.pdf",
           "C"
          ],
          [
           273578,
           "File 2721-002 Questions for Jim Young 5-26-99 .pdf",
           "C"
          ],
          [
           310731,
           "PSA_for_CHES_Dining_SBE Certification Form-Mithun.pdf",
           "C"
          ],
          [
           310588,
           "CHES Dining Expansion Services Project.docx",
           "C"
          ],
          [
           740727,
           "1302-026A.C1.2.16 02 12 - REQUEST FOR FEE PROPOSAL (Janecki).pdf",
           "C"
          ],
          [
           580979,
           "File 8700.C2.3. Ageement.pdf",
           "C"
          ],
          [
           752826,
           "EXHIBIT G Design Professional Rate Schedul.doc",
           "C"
          ],
          [
           381402,
           "appendix_3_11.pdf",
           "C"
          ],
          [
           11853,
           "SEL 1 Scope EHDD.docx",
           "C"
          ],
          [
           72065,
           "1 ECI - Geotech RFQ lntroduction.doc",
           "C"
          ],
          [
           954594,
           "COPLUP01.pdf",
           "C"
          ],
          [
           689510,
           "10071.C1.2.Hohbach-Lewin Inc. Selection Committee Correspondence.pdf",
           "C"
          ],
          [
           273943,
           "File 2731 Proposal for Consulting Services-Glass 1-13-97.pdf",
           "C"
          ],
          [
           727950,
           "2638 G 16 FieldOrder_49.pdf",
           "C"
          ],
          [
           726222,
           "6300-015.C1.3.Amendment 1 - PSA (GAYMCC) - Music Center - Chiller & Boiler Repl Study.pdf",
           "C"
          ],
          [
           790667,
           "invoice 1570 2021_001.pdf",
           "C"
          ],
          [
           137321,
           "File 12012-001.C1.1 Gensler Award Letter.pdf",
           "C"
          ],
          [
           43608,
           "WAL063R8.pdf",
           "C"
          ],
          [
           954819,
           "DPCAWMC1-R09.pdf",
           "C"
          ],
          [
           548976,
           "File 6701 Consultant Selection Geotechnical Services.pdf",
           "C"
          ],
          [
           969763,
           "PA FA  Consultant Select mem c1.doc",
           "C"
          ],
          [
           45925,
           "8th-INCH-TOLERANCE-1_Page_3.jpg",
           "C"
          ],
          [
           274424,
           "File 2732 P2-2 & Pwr Req Questions.pdf",
           "C"
          ],
          [
           887459,
           "File 10077 C1.2 Cody Anderson Wasney Architect Interview Invite.pdf",
           "C"
          ],
          [
           753374,
           "5404.C1.1.Tito Patel & Associates.pdf",
           "C"
          ],
          [
           711054,
           "WebResource(1).axd",
           "C"
          ],
          [
           591395,
           "9022 C1.2 Executive Architect Correspondence.pdf",
           "C"
          ],
          [
           13840,
           "File 1311-012 RIA Architecture Professional Service Agreement IVIGRN.pdf",
           "C"
          ],
          [
           805141,
           "File 6801 Statement of Qualifications - Apex Testing Lab.pdf",
           "C"
          ],
          [
           381418,
           "chapter_4.10.pdf",
           "C"
          ],
          [
           133617,
           "File 11100 Agreement No. 000062.pdf",
           "C"
          ],
          [
           487815,
           "File 5500-004 Additional Services Memorandum 5-11-09.pdf",
           "C"
          ],
          [
           235722,
           "CrownC MM ADA RFQ Attachment I.pdf",
           "C"
          ],
          [
           775340,
           "8700.C1.2.8700 (C) Colliers International PSA cover letter.doc",
           "C"
          ],
          [
           743315,
           "Contract Scope of Work.docx",
           "C"
          ],
          [
           337654,
           "Langan_SOQ.pdf",
           "C"
          ],
          [
           491885,
           "File 5506-012.C2.3. Agreement.pdf",
           "C"
          ],
          [
           337645,
           "site map.tif",
           "C"
          ],
          [
           381413,
           "chapter_1.pdf",
           "C"
          ],
          [
           913400,
           "5707.C1.1.RVT PFP UCSC CEQA Master Consultant List.pdf",
           "C"
          ],
          [
           97979,
           "Steinberg.pdf",
           "C"
          ],
          [
           110929,
           "P7-UCSC RFQ Tab-5.docx",
           "C"
          ],
          [
           1016517,
           "140902_EHDD Authoriz To Proceed Letter_UCSC SEL.pdf",
           "C"
          ],
          [
           474270,
           "5201.C1.2.UCSCEarth&MarineSc_Correspondence01.pdf",
           "C"
          ],
          [
           962653,
           "52.223-14.doc",
           "C"
          ],
          [
           362753,
           "09042 UCSC PICA Additl Service.pdf",
           "C"
          ],
          [
           282759,
           "File 2806.C2.3 Geomatrix 2007.pdf",
           "C"
          ],
          [
           472939,
           "5100.C1.2.InterimCommissaryHarryJohnDutton.pdf",
           "C"
          ],
          [
           775680,
           "10000-054.C1.3.10000-054 (C) William Carson Joyce PSA (WCJLBC).doc",
           "C"
          ],
          [
           232499,
           "092018-HYT-Additional Fees-Comments Luis.pdf",
           "C"
          ],
          [
           337664,
           "Langan_ER Description.pdf",
           "C"
          ],
          [
           963084,
           "PSA 2019-2022.pdf",
           "C"
          ],
          [
           775681,
           "10000-054.C1.2.10000-054 (C) William Carson Joyce PSA cover letter (WCJLBC).doc",
           "C"
          ],
          [
           381378,
           "9.4_revised_draft_eir_pages.pdf",
           "C"
          ],
          [
           329052,
           "Version C 1997.pdf",
           "C"
          ],
          [
           844142,
           "10634.C1.2.EliseLev memo - FA 050912.doc",
           "C"
          ],
          [
           45960,
           "090624 UCSC Biomed Add Serv 23 BIM Coordination Support w ATTACHMENT - APPROVED.pdf",
           "C"
          ],
          [
           310545,
           "Porter Dining schedule 171031.xlsx",
           "C"
          ],
          [
           844121,
           "4917.C2.2.Exec Engineer Correspondence 4917.pdf",
           "C"
          ],
          [
           951224,
           "BRDEHD01.pdf",
           "C"
          ],
          [
           970405,
           "WAL082R2 (4).pdf",
           "C"
          ],
          [
           986455,
           "1310-006.C1.2.PrelimPlantingPlan.pdf",
           "C"
          ],
          [
           310627,
           "transmittal.docx",
           "C"
          ],
          [
           755688,
           "Auth MAFHEL01-R2 - 4202 Student Housing West - Phase 2 Heller Development.pdf",
           "C"
          ],
          [
           311037,
           "Auth #GIF008 - Proposal.pdf",
           "C"
          ],
          [
           235796,
           "DSTNCR12 - 35348.pdf",
           "C"
          ],
          [
           769692,
           "5601.C1.2.5601 (C) Rutherford + Chekene PSA Letter (RUTDAF).doc",
           "C"
          ],
          [
           235793,
           "DSTNCR11 - 35419.pdf",
           "C"
          ],
          [
           703325,
           "9800-010.C2.1.21.01.20 Dudek_DUDWSM01_Inv 202009846.pdf",
           "C"
          ],
          [
           733023,
           "11409-004.C1.3.2 - MADWTR01 - Auth.pdf",
           "C"
          ],
          [
           381383,
           "section_3_10_population_and_housing.pdf",
           "C"
          ],
          [
           235687,
           "File 2358 2638.C1.1 IBI Presentation.pptx",
           "C"
          ],
          [
           246503,
           "File 2625 Preliminary Engineering Report #1 8-13-91.pdf",
           "C"
          ],
          [
           310714,
           "STEINBERG SOQ.pdf",
           "C"
          ],
          [
           964979,
           "1326.C1.1 Qualifications RFQ.pdf",
           "C"
          ],
          [
           969948,
           "Cover Letter.doc",
           "C"
          ],
          [
           545641,
           "File 6628.C1.2 9.24.96 Scheduling Memos.pdf",
           "C"
          ],
          [
           951949,
           "Butano Geotechnical Engineering PM Auth Entry BUT023.pdf",
           "C"
          ],
          [
           769917,
           "6401.C1.1.Selection Criteria - Interdisciplinary Sciences Addition #1.pdf",
           "C"
          ],
          [
           306,
           "File 1400-036 C2.3 Authorization #LEE011 to Provide Engineering Services.pdf",
           "C"
          ],
          [
           775532,
           "4101 (C) Pacific Crest PSA Letter_cover (PCEGEHS).doc",
           "C"
          ],
          [
           614238,
           "PCEI Proposal No. PR025.02 - UCSC Fire Alarm Upgrades - Rev. 0.pdf",
           "C"
          ],
          [
           517570,
           "File 5900-031.C1.3 Graduate Student Housing - Apartment 312 Mold Remediation.pdf",
           "C"
          ],
          [
           969793,
           "1400-093.C2.3.SKY026 - Invoice 05-17-16.pdf",
           "C"
          ],
          [
           235845,
           "Backup - Auth DSTNCR16.pdf",
           "C"
          ],
          [
           579623,
           "2020 01 14 SDMESG02 - Invoice 11.27.19 - $480.pdf",
           "C"
          ],
          [
           163589,
           "CM_A03_EDPA_EXHIBIT_L_ProjectSchedule_Rev5-2-03.dot",
           "C"
          ],
          [
           83518,
           "File 10069.C1.2 Simpson Gumpertz & Heger Inc. Correspondence.pdf",
           "C"
          ],
          [
           363390,
           "File 3608 Services Rendered 8-29-74.pdf",
           "C"
          ],
          [
           872854,
           "WRNS_HE510_UCSC_Westside_Research_Park_FINAL_Revised_(1)[1].pdf",
           "C"
          ],
          [
           501250,
           "File 5510-011 Stonehard Scope of Work Proposal.pdf",
           "C"
          ]
         ],
         "hovertemplate": "tag=%{customdata[2]}<br>umap_x=%{x}<br>umap_y=%{y}<br>file_id=%{customdata[0]}<br>filename=%{customdata[1]}<extra></extra>",
         "legendgroup": "C",
         "marker": {
          "color": "#3283FE",
          "line": {
           "width": 0
          },
          "opacity": 0.75,
          "size": 7,
          "symbol": "circle"
         },
         "mode": "markers",
         "name": "C",
         "showlegend": true,
         "type": "scattergl",
         "x": {
          "bdata": "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",
          "dtype": "f4"
         },
         "xaxis": "x",
         "y": {
          "bdata": "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",
          "dtype": "f4"
         },
         "yaxis": "y"
        },
        {
         "customdata": [
          [
           712928,
           "File 2739 Glass Associates 2-10-03.pdf",
           "E"
          ],
          [
           790969,
           "50 SD DPP - Part 1 and 2 combined_Page_43.jpg",
           "E"
          ],
          [
           310520,
           "A0.2 - Exiting Diagrams.pdf",
           "E"
          ],
          [
           791370,
           "env consultant costs.xls",
           "E"
          ],
          [
           809306,
           "11x17 Typical Structural Assemblies.jpg",
           "E"
          ],
          [
           863770,
           "3124.E5.3.Film Theater Lecture Hall Correspondence Continued 9.3.93.pdf",
           "E"
          ],
          [
           945478,
           "303-6065.pdf",
           "E"
          ],
          [
           912203,
           "rachel_carson_college_9-17 CHES-Rev030118.pdf",
           "E"
          ],
          [
           884727,
           "032718-Coordination with Sadie and Felix.docx",
           "E"
          ],
          [
           743386,
           "356940 Scope of Work.docx",
           "E"
          ],
          [
           111260,
           "V.E.9.28.2015.pdf",
           "E"
          ],
          [
           307974,
           "037 File 3001.TIF",
           "E"
          ],
          [
           307949,
           "012 File 3001.TIF",
           "E"
          ],
          [
           212937,
           "02 File 9092 C-1.TIF",
           "E"
          ],
          [
           683231,
           "4999-006_h(5).pdf",
           "E"
          ],
          [
           136815,
           "12001-002.E3.Final Proposed Costs.pdf",
           "E"
          ],
          [
           831697,
           "TIU Schedule, v1, E Size Dtl.pdf",
           "E"
          ],
          [
           367776,
           "3701.E2. PPG - Revised February 1971.pdf",
           "E"
          ],
          [
           863748,
           "3124.E5.3.Bill Taber Correspondence 3.7.94.pdf",
           "E"
          ],
          [
           969646,
           "Door 08410,Entrances e2.doc",
           "E"
          ],
          [
           963128,
           "Project Specifications.pdf",
           "E"
          ],
          [
           862937,
           "3124.E5.4.Pipe Correspondence 10.10.94.pdf",
           "E"
          ],
          [
           608642,
           "Telecom Phase C D CSC and Res - Schedule DRAFT 8-21-15.xlsx",
           "E"
          ],
          [
           544020,
           "File 6600-009 Wildman & Morris Estimate 5-7-99.pdf",
           "E"
          ],
          [
           311490,
           "180516_Meeting Agenda_Mtg 7.pdf",
           "E"
          ],
          [
           236111,
           "Pages from UCSC Crown_90CD.1.31.17.pdf",
           "E"
          ],
          [
           680006,
           "Projects to be Accomplished Log.pdf",
           "E"
          ],
          [
           863782,
           "3124.E5.3.Preliminary Design Review 12.13.93.pdf",
           "E"
          ],
          [
           311497,
           "180502_UCSC Dining_Meeting #6_Notes.pdf",
           "E"
          ],
          [
           492642,
           "41-College 9 and 10 Tree Survey.pdf",
           "E"
          ],
          [
           902201,
           "Porter College Ph 2 Final signed PPG.pdf",
           "E"
          ],
          [
           791338,
           "14-02-11 Construction Cost Estimate Summary - SD vs DD-total.pdf",
           "E"
          ],
          [
           862117,
           "6702.E5.Mechanical & Electrical Plans.doc",
           "E"
          ],
          [
           355652,
           "KerrPedDeck, Initial Schedule REV, 5-13-13.docx",
           "E"
          ],
          [
           146709,
           "1324.E8.Fleet Garage Wash Station Project Kick Off.doc",
           "E"
          ],
          [
           361100,
           "File 3502 E5.2 Quarry Studies 04.12.66.pdf",
           "E"
          ],
          [
           862940,
           "3124.E5.7.Invoice Transmittal & Project Review 6.30.97.pdf",
           "E"
          ],
          [
           668684,
           "2300-160.F5.Table of Contents Specifications.doc",
           "E"
          ],
          [
           944893,
           "303-2050.pdf",
           "E"
          ],
          [
           884725,
           "021-051920-5510-043A-Action Item List.xlsx",
           "E"
          ],
          [
           882774,
           "5202.E5.4 PP&C Memo 16.pdf",
           "E"
          ],
          [
           956858,
           "18 04 10 Carson Dining Schedule.xlsx",
           "E"
          ],
          [
           311180,
           "200202 Carson Dining Schedule Detailed.xlsx",
           "E"
          ],
          [
           869136,
           "UCSC Silicon Valley Campus Digital Sign SCHEDULE     2.2.24.pdf",
           "E"
          ],
          [
           945276,
           "303-5007.pdf",
           "E"
          ],
          [
           236121,
           "Crown-College-Phasing-Plan.jpg",
           "E"
          ],
          [
           85981,
           "CIB2Revised.XLS",
           "E"
          ],
          [
           970335,
           "CEQA Screening Assessment Checklist.pdf",
           "E"
          ],
          [
           956830,
           "191202 Carson Dining Schedule Detailed.xlsx",
           "E"
          ],
          [
           311527,
           "UCSC Dining Expansion_ 11x17 v.zip",
           "E"
          ],
          [
           141823,
           "2505 Augustine 3rd floor - Program Instructions 3-2-11.pdf",
           "E"
          ],
          [
           96049,
           "File 10081.E6 Weld Certificates_exp02.01.2019.pdf",
           "E"
          ],
          [
           338544,
           "UCSC Kresge College - P01AC - Status 7.8.19 Rev 07.19.19-Phase 2A Schedule.pdf",
           "E"
          ],
          [
           971152,
           "Thimann 95% 16720.doc",
           "E"
          ],
          [
           517937,
           "6101 struct calcs 6.8.93_001.pdf",
           "E"
          ],
          [
           805480,
           "Conformed Set Documents 523.pdf",
           "E"
          ],
          [
           893235,
           "UCSC Cowell & Porter Summer Schedule.pdf",
           "E"
          ],
          [
           311524,
           "180625_Meeting Agenda_DAB.docx",
           "E"
          ],
          [
           829780,
           "File 9065 E3 Phase 1 Projects Summary 09.01.06.pdf",
           "E"
          ],
          [
           681683,
           "2600-109_e8.pdf",
           "E"
          ],
          [
           13586,
           "1309-020 E4 Non Scheduled Periods 4-11-15.xls",
           "E"
          ],
          [
           311457,
           "3002-040 - Porter Dining Seat Expansion Meeting Minutes #29  8-18-2020.pdf",
           "E"
          ],
          [
           247354,
           "File 2635 Baseline Bidding Schedule.pdf",
           "E"
          ],
          [
           711201,
           "Sinsheimer Cryo Lab 132 - Status Report_2020-01-07.docx",
           "E"
          ],
          [
           311484,
           "180416 Meeting Notes Dining Feasibility Study Update - 20180224_131850.pdf",
           "E"
          ],
          [
           2347,
           "UCSC-THIMANN LAB 135 SCHEDULE.pdf",
           "E"
          ],
          [
           78401,
           "10062.E4 Funding Schedule.pdf",
           "E"
          ],
          [
           329063,
           "3124.E6.Improvements to Arts Facilities, Geotechnical Investigation.pdf",
           "E"
          ],
          [
           215252,
           "COGEN PLANT-C3D2010.txt",
           "E"
          ],
          [
           828605,
           "8884.E2 - PPG for Core West Structure.pdf",
           "E"
          ],
          [
           683117,
           "4917-002_e5.1(4).pdf",
           "E"
          ],
          [
           956818,
           "180703 Carson Dining Schedule.xlsx",
           "E"
          ],
          [
           809417,
           "5_Bldg Program_p64.indd.pdf",
           "E"
          ],
          [
           162581,
           "09-02-08_Schedule.pdf",
           "E"
          ],
          [
           768691,
           "13-10-30 Student Life Seismic Corrections Ph 2B.pdf",
           "E"
          ],
          [
           80605,
           "10064-002-003-004-008.E3 Capital Outlay Cost.pdf",
           "E"
          ],
          [
           73384,
           "10000-025.E4.campus ADA alterations phase 3 thimann labs 3rd floor project schedule.pdf",
           "E"
          ],
          [
           85986,
           "Porter B Soft Costs JH PWC-final.xls",
           "E"
          ],
          [
           744030,
           "Dust needs.doc",
           "E"
          ],
          [
           310513,
           "UCSC Porter_ Final DAB Present.zip",
           "E"
          ],
          [
           863788,
           "3124.E5.3.Preliminary Design Review Memorandum1 11.19.93.pdf",
           "E"
          ],
          [
           971156,
           "Thimann ADA 16720.doc",
           "E"
          ],
          [
           682928,
           "4015_e5.1(4).pdf",
           "E"
          ],
          [
           862933,
           "3124.E5.4.Fire Marshall 5.22.95.pdf",
           "E"
          ],
          [
           536274,
           "6301 Project Planning Guide 1991.pdf",
           "E"
          ],
          [
           712919,
           "File 2739 Budget Data 4-18-05 (2).pdf",
           "E"
          ],
          [
           586768,
           "9800-010.E6.Coolidge Drive Assessment Final Report #354.pdf",
           "E"
          ],
          [
           956816,
           "PBW 5303-037 Carson Dining -Full Budget- Final 190925.xlsx",
           "E"
          ],
          [
           230307,
           "Request to Work Non Scheduled Periods 8-10-12.xls",
           "E"
          ],
          [
           356975,
           "File 3309 Minardi Engineering Preliminary Design Letter #1.pdf",
           "E"
          ],
          [
           536121,
           "File 6300 Agreement for Architect Services Value Engineering.pdf",
           "E"
          ],
          [
           339515,
           "A010 NEW.jpg",
           "E"
          ],
          [
           829737,
           "1-3 Cooling Water System.ai",
           "E"
          ],
          [
           311479,
           "180321_Meeting Agenda_Mtg 3.pdf",
           "E"
          ],
          [
           956763,
           "UC Santa Cruz Mail - Porter and Rachel Carson Dining Estimates.pdf",
           "E"
          ],
          [
           746602,
           "College 9-10 Kitchen Custodial Closet Drain Estimate (11-7-13).xls",
           "E"
          ],
          [
           805455,
           "Conformed Set Documents 498.pdf",
           "E"
          ],
          [
           790982,
           "SC Coastal Biology Building Approved PPG Revsd CIB Sched 7-12-10.pdf",
           "E"
          ],
          [
           487738,
           "7-Long-Eared owl and Cooper's Hawk Survey Colleges 9 &10 Site.pdf",
           "E"
          ],
          [
           990781,
           "3.P&D_Correspondence.pdf",
           "E"
          ],
          [
           477720,
           "13-12-06 College 8 Servery.pdf",
           "E"
          ],
          [
           362768,
           "PICA Kitchen, Initial Planning Budget DRAFT 7-28-09.xls",
           "E"
          ],
          [
           863768,
           "3124.E5.3.Electrical Review Continued 4.13.94.pdf",
           "E"
          ],
          [
           863765,
           "3124.E5.3.Design Review ad Working Drawings Correspondence 1.12.94.pdf",
           "E"
          ],
          [
           612681,
           "File 9201-004 E7.2 Final Report NextG UCSC Oakes.pdf",
           "E"
          ],
          [
           883571,
           "Project schedule draft.pdf",
           "E"
          ],
          [
           21242,
           "Hay Barn Schedule #7 8-28-15.pdf",
           "E"
          ],
          [
           788354,
           "4925.E5.1. Title 24 Document Submittal 8-18-99.pdf",
           "E"
          ],
          [
           956768,
           "190522 Carson Dining Exp Capital Project 970152.xls",
           "E"
          ],
          [
           311421,
           "190508 Agenda Porter Meeting 5- 100% Design Set Review.pdf",
           "E"
          ],
          [
           809123,
           "141205_UCSC_IAS_DPP_VolumeII_RoomDataSheets_FinalDraft.pdf",
           "E"
          ],
          [
           22873,
           "StuLifeSeismic-2A request to proceed with revised CIB and Project Summary 1 26 15.pdf",
           "E"
          ],
          [
           944883,
           "303-2040.pdf",
           "E"
          ],
          [
           944960,
           "303-2117.pdf",
           "E"
          ],
          [
           781280,
           "File 4505-004 WO-FPR #38300.pdf",
           "E"
          ],
          [
           689488,
           "10069.E7.Agenda.pdf",
           "E"
          ],
          [
           784599,
           "2019.07.30 Funding LETTER Coastal Science Campus Overlook B Repair.pdf",
           "E"
          ],
          [
           744639,
           "10.03.02 Project 10010 Estimate.pdf",
           "E"
          ],
          [
           829712,
           "06_Natural_Gas_Rev2.pdf",
           "E"
          ],
          [
           869148,
           "UCSC Silicon Valley Campus Digital Signboard Schedule  6.25.24.pdf",
           "E"
          ],
          [
           901713,
           "E211_(1).E211.pdf",
           "E"
          ],
          [
           884707,
           "009-011519-Action Item List-Coordination with CHES.xlsx",
           "E"
          ],
          [
           577895,
           "File 8352 Soil Report 173.pdf",
           "E"
          ],
          [
           311055,
           "1134_001.pdf",
           "E"
          ],
          [
           682631,
           "3614-010_e5.3.pdf",
           "E"
          ],
          [
           956862,
           "18 06 18 Carson detailed schedule.pdf",
           "E"
          ],
          [
           1007830,
           "ChangeOrder_FinalEst.pdf",
           "E"
          ],
          [
           311190,
           "180130 3002-040 Porter Dining Schedule.xlsx",
           "E"
          ],
          [
           970193,
           "3799-062_e3.pdf",
           "E"
          ],
          [
           492657,
           "File 5510 Value Engineering Agendas.pdf",
           "E"
          ],
          [
           791220,
           "Total Project Costs Combined v2.xls",
           "E"
          ],
          [
           311193,
           "180321_UCSC Dining_Meeting #3 notes.pdf",
           "E"
          ],
          [
           581154,
           "UC Santa Cruz Mail - FW_ Potential building acquisition status.pdf",
           "E"
          ],
          [
           971151,
           "Thimann 95% 16050.doc",
           "E"
          ],
          [
           893252,
           "UCSC Preliminary Timeline 130416.pdf",
           "E"
          ],
          [
           791090,
           "3148_001 Greenhouse Quote.pdf",
           "E"
          ],
          [
           768662,
           "KZSC space needs summary draft 9-04-13.xlsx",
           "E"
          ],
          [
           85988,
           "Porter PPG draft 2-121907.doc",
           "E"
          ],
          [
           79692,
           "File 10064.E5 Memorandum.pdf",
           "E"
          ],
          [
           744680,
           "Water Projects Ph I.doc",
           "E"
          ],
          [
           311467,
           "3002-040 - Porter Dining Seat Expansion Meeting Minutes #5  2-18-2020.pdf",
           "E"
          ],
          [
           790992,
           "UC Santa Cruz Mail - RE_ FW_ CBB CIB Cost Estimate Back-up.pdf",
           "E"
          ],
          [
           791859,
           "UC Santa Cruz Mail - RE_ Greenhouse Mechanical Units-decibels.pdf",
           "E"
          ],
          [
           83577,
           "10069. E7.1. Agenda.9.25.06.pdf",
           "E"
          ],
          [
           969717,
           "Oakes-09300 e2.doc",
           "E"
          ],
          [
           759482,
           "File 1639 Cowell Infill Forensics Binder.pdf",
           "E"
          ],
          [
           474401,
           "5201.E7.Value Engineering Session 2.pdf",
           "E"
          ],
          [
           1031336,
           "DHUD publications.pdf",
           "E"
          ],
          [
           883509,
           "26-01 60 00-Product Requirements.pdf",
           "E"
          ],
          [
           742376,
           "18 02 21 - WO00404439 Cost Report.pdf",
           "E"
          ],
          [
           883590,
           "6300-011 Music Center Recital Hall Theatrical Equipment Modernization - Meeting Minutes #4.pdf",
           "E"
          ],
          [
           175546,
           "1731.E1.DPP- Detailed Project Program.pdf",
           "E"
          ],
          [
           171163,
           "1700-001.E6.Stevenson college (college 2) preliminary ancillary and miscellaneous fire report.pdf",
           "E"
          ],
          [
           971509,
           "Project_Phasing_Matrix_R2.pdf",
           "E"
          ],
          [
           88551,
           "File 3001 M 07.TIF",
           "E"
          ],
          [
           503314,
           "September 2007  Monthly Schdule Update 9-05-07.pdf",
           "E"
          ],
          [
           684686,
           "Addendum 01.pdf",
           "E"
          ],
          [
           694341,
           "1649.E2 Capital Improvement Budget Analytical Data.pdf",
           "E"
          ],
          [
           367791,
           "3701.E6.oaks remarks revised closet door measurements report.pdf",
           "E"
          ],
          [
           331873,
           "File 3209. E5. Kresge College Housing Addition - Phase 2 Rebid. Budget - Correspondence.pdf",
           "E"
          ],
          [
           863512,
           "3124.E3.Architect's Cost Check.pdf",
           "E"
          ],
          [
           111201,
           "File 10637.E2 PPG Signed.pdf",
           "E"
          ],
          [
           975539,
           "1500-027.E8.16 01 13 - EFH Concrete Entryway Repair Design Kick-off Meeting Minutes.pdf",
           "E"
          ],
          [
           308158,
           "02 File 3002-013A 28-565-B_(1).02 File 3002-013A 28-565-B.tif",
           "E"
          ],
          [
           398655,
           "Bid Related flow chart.pdf",
           "E"
          ],
          [
           868883,
           "4910.E2.Long Term Planning Guide.pdf",
           "E"
          ],
          [
           863810,
           "3124.E5.5.Proposed Regent's Agenda Correspondence1 2.17.93.pdf",
           "E"
          ],
          [
           831653,
           "Draft Phase A Draw down 3-5-13.pdf",
           "E"
          ],
          [
           364945,
           "File 3619. E4. Phase 2A Proposed Schedule..pdf",
           "E"
          ],
          [
           133148,
           "11009-005.E2.EIR Mitigation Measure Phase I Drainage-Erosion Control.pdf",
           "E"
          ],
          [
           308016,
           "File 3001 P 08.TIF",
           "E"
          ],
          [
           17213,
           "Building Committee roster 1.xlsx",
           "E"
          ],
          [
           369901,
           "File 3737 Funding Transfer Request.pdf",
           "E"
          ],
          [
           367916,
           "3701.G3.college 8 detention basin grasses contractor list- schedule descriptions.pdf",
           "E"
          ],
          [
           682179,
           "3129_e2.pdf",
           "E"
          ],
          [
           809721,
           "File 7401 Design Presentation.pdf",
           "E"
          ],
          [
           680403,
           "EFH Meeting Notes 8.10.11.pdf",
           "E"
          ],
          [
           742430,
           "WO00409158 C-02 Site Plan.pdf",
           "E"
          ],
          [
           844164,
           "10634.E2.Program draft 5-29-12-FA.doc",
           "E"
          ],
          [
           143163,
           "971084_BIG CREEK - Schedule 12-07-15 JS (1).xls",
           "E"
          ],
          [
           468786,
           "UC Santa Cruz Mail - Re_ MM Pools - Draft Schedule - input from EAG.pdf",
           "E"
          ],
          [
           339300,
           "190304 Kresge Revitalization Project Schedule.xlsx",
           "E"
          ],
          [
           742489,
           "Lot 301 2300 Delaware.pdf",
           "E"
          ],
          [
           809260,
           "2011-12-13_Building Framing Options_TM_2.pdf",
           "E"
          ],
          [
           356529,
           "File 3301-044.E2.Kerr Hall-alterations for Psychology, phase 2.pdf",
           "E"
          ],
          [
           331870,
           "File 3209. E2.Project Planning Guide. 1986.11.pdf",
           "E"
          ],
          [
           945302,
           "303-5033.pdf",
           "E"
          ],
          [
           490530,
           "File 5506.E5.3 Area Calculations.pdf",
           "E"
          ],
          [
           809389,
           "DPP2 comments 4-2-12.xlsx",
           "E"
          ],
          [
           887871,
           "BuildingC040405.xls",
           "E"
          ],
          [
           883538,
           "6301.H Spec 11061 O+M.pdf",
           "E"
          ],
          [
           311531,
           "UCSC Dining Expansion_ Meeting.zip",
           "E"
          ],
          [
           681662,
           "2600-099_e4.pdf",
           "E"
          ],
          [
           791424,
           "CBB_Infrastructure Project Sched 130917.pdf",
           "E"
          ],
          [
           246854,
           "Request to Work Non Scheduled Periods 6-24-11.pdf",
           "E"
          ],
          [
           809146,
           "973770 IAS_Schedule_20130516.pdf",
           "E"
          ],
          [
           791961,
           "turning Radius sketch.pdf",
           "E"
          ],
          [
           870842,
           "10638-007.E8.WRP Building C ECE Lab - Meeting Minutes #32.pdf",
           "E"
          ],
          [
           809390,
           "peter McMillan's comments wordfile.docx",
           "E"
          ],
          [
           599197,
           "Porject Planning Guide Infrastructure Improvements Phase 2.pdf",
           "E"
          ],
          [
           863839,
           "File 6300 Soils Report 161.pdf",
           "E"
          ],
          [
           809426,
           "Bridge options from DPP.pdf",
           "E"
          ],
          [
           311059,
           "21-Day Load Reading - UCSC Rachel Carson.pdf",
           "E"
          ],
          [
           17128,
           "Hay Barn Schedule 131010.pdf",
           "E"
          ],
          [
           307454,
           "14-01-07 Porter C Roof Protection.pdf",
           "E"
          ],
          [
           862024,
           "Soil Reports # 192 (Sector 67N, 67S).pdf",
           "E"
          ],
          [
           16821,
           "2013_1022 UCSC Hay Barn Schematic Design Workshop Notes final.pdf",
           "E"
          ],
          [
           977098,
           "Kerr 3 Fl Planter Sheet e2.xls",
           "E"
          ],
          [
           868885,
           "4910.E2.Planning.pdf",
           "E"
          ],
          [
           819604,
           "VE-SW-001.pdf",
           "E"
          ],
          [
           215289,
           "UCSC CPR Review Meeting Agenda.pdf",
           "E"
          ],
          [
           863798,
           "3124.E5.3.Toilet Facilities Correspondence 3.15.93.pdf",
           "E"
          ],
          [
           829746,
           "04 Cond Chilled Water.ai",
           "E"
          ],
          [
           311445,
           "191009 Porter and Rachel Carson Dining - ITS Coordination #3 Meeting Notes.pdf",
           "E"
          ],
          [
           976917,
           "KNAR OVERVIEW.pdf",
           "E"
          ],
          [
           829724,
           "2-3 Chilled Water System.pdf",
           "E"
          ],
          [
           622063,
           "CoBioMtgAgenda.doc",
           "E"
          ],
          [
           862461,
           "4911.E6.Report of Analysis 6.13.77.pdf",
           "E"
          ],
          [
           883330,
           "File 5510 EHDD Architecture Transmittal 7-27-99.pdf",
           "E"
          ],
          [
           311474,
           "171010 CHES large group Meeting notes.pdf",
           "E"
          ],
          [
           913837,
           "107-Inclusion Area D-report",
           "E"
          ],
          [
           307978,
           "File 3001 K 01.TIF",
           "E"
          ],
          [
           790935,
           "50 SD DPP - Part 1 and 2 combined_Page_09.jpg",
           "E"
          ],
          [
           744164,
           "HV Yard Bldg. est.doc",
           "E"
          ],
          [
           944801,
           "303-1033.pdf",
           "E"
          ],
          [
           545153,
           "6612.E2.observatory project planning guide site plan.pdf",
           "E"
          ],
          [
           829798,
           "File 9065 E4 PWA Table 1 - Project Status Summary.pdf",
           "E"
          ],
          [
           369921,
           "File 3737 Temporal Residential Smoke Detector.pdf",
           "E"
          ],
          [
           969876,
           "1400-093.E8.PRECON Sign in Sheet.xlsx",
           "E"
          ],
          [
           541677,
           "revisedprogram.5.17.01.xls",
           "E"
          ],
          [
           117426,
           "250000_building_management_systems_LB edits,comments.docx",
           "E"
          ],
          [
           945473,
           "303-6060.pdf",
           "E"
          ],
          [
           226592,
           "2200-091.E2.PPG Request to Use Campus Facilities.pdf",
           "E"
          ],
          [
           354837,
           "2B Schedule.xlsx",
           "E"
          ],
          [
           809348,
           "8+9+10_Cost",
           "E"
          ],
          [
           883540,
           "6301.H Spec 11061 O+M3.pdf",
           "E"
          ],
          [
           213391,
           "15239 UCSC Cogen Retn Wall Crack Letter.pdf",
           "E"
          ],
          [
           311535,
           "UC Santa Cruz Mail - UCSC Dining Expansion_ Updated Agenda and Site Plans DAB.pdf",
           "E"
          ],
          [
           86047,
           "Porter B  Additional Floor Budget Sheets.xls",
           "E"
          ],
          [
           791475,
           "abbreviated schedule.xlsx",
           "E"
          ],
          [
           21238,
           "HAY BARN SCHEDULE #4 NOVEMBER 13.pdf",
           "E"
          ],
          [
           819598,
           "VE-SS-017.pdf",
           "E"
          ],
          [
           883510,
           "29-01 74 19-Construction Waste Management and Disposal.doc",
           "E"
          ],
          [
           247450,
           "File 2635 Value Engineering-Updated 7-13-12.pdf",
           "E"
          ],
          [
           339232,
           "Kresge Library sub-project 976387.xls",
           "E"
          ],
          [
           863513,
           "3124.E5.3.50% Construction Review Meeting 4.20.94.pdf",
           "E"
          ],
          [
           819600,
           "VE-SS-026.pdf",
           "E"
          ],
          [
           132560,
           "11005.E7.Area Planning Documents and Studies.pdf",
           "E"
          ],
          [
           588234,
           "File 8930-001 E3 Mass Ex Construction Brief Form Contract Estimate 10.02.01.pdf",
           "E"
          ],
          [
           884425,
           "File 5510 A 004 DH.A2.12.pdf",
           "E"
          ],
          [
           367775,
           "3701.E2. PPG - Revised December 1968.pdf",
           "E"
          ],
          [
           682630,
           "3614-010_e5.1.pdf",
           "E"
          ],
          [
           745183,
           "Site List 101408 e2.doc",
           "E"
          ],
          [
           880545,
           "Kresge ASK-115 New Building Survey Flags.pdf",
           "E"
          ],
          [
           85995,
           "PPG Signed.pdf",
           "E"
          ],
          [
           809438,
           "UCSC SS3 DPP - Electrical System Narrative - 111117 DRAFT.doc",
           "E"
          ],
          [
           236131,
           "Crown-College-Preliminary-Phasing-Schedule-16.10.07.jpg",
           "E"
          ],
          [
           684680,
           "Site Meeting Correspondence 7.15.01.pdf",
           "E"
          ],
          [
           883579,
           "6300-011 Music Center Recital Hall Theatrical Equipment Modernization - Meeting Minutes #11.pdf",
           "E"
          ],
          [
           605640,
           "SC Telecom Phase B Approved PPG 8-20-14.pdf",
           "E"
          ],
          [
           901726,
           "E252_(1).E252.pdf",
           "E"
          ],
          [
           574610,
           "18 03 09 WO00391688 Cost Report.pdf",
           "E"
          ],
          [
           668687,
           "2300-160.F5.uci hangers and supports for hvac fl.docx",
           "E"
          ],
          [
           962751,
           "6300-001_e5.4.pdf",
           "E"
          ],
          [
           791139,
           "Scope Creep 14-11-25.pdf",
           "E"
          ],
          [
           883591,
           "6300-011 Music Center Recital Hall Theatrical Equipment Modernization - Meeting Minutes #5.pdf",
           "E"
          ],
          [
           964782,
           "Music Pass. Elev. Costs 9-6 e3.xls",
           "E"
          ],
          [
           282944,
           "File 2806.E6 SS Credit Comments.pdf",
           "E"
          ],
          [
           884564,
           "03-041018-CHES-Preliminary Schedule-Option B-Rev091818-.pdf",
           "E"
          ],
          [
           329059,
           "3124.E6.Improvements to Arts Facilities, Bulk Asbestos Analysis Summary1.pdf",
           "E"
          ],
          [
           883563,
           "1 - BUDGET Template.xls",
           "E"
          ],
          [
           809320,
           "1122 Circulation Plan 50sc DPP.jpg",
           "E"
          ],
          [
           236145,
           "Schedule Status Date.docx",
           "E"
          ],
          [
           311131,
           "Final UCSC Pre-Design Dining Cost Report.pdf",
           "E"
          ],
          [
           668693,
           "2300-160.F5.LOW-VOLTAGE ELECTRICAL POWER CONDUCTORS AND CABLES.DOC",
           "E"
          ],
          [
           741850,
           "5510-046.E2.UCSC College 9 & 10 gutters.pdf",
           "E"
          ],
          [
           307262,
           "CPform.Porterkitchen.doc",
           "E"
          ],
          [
           902199,
           "CIB-Final.xls",
           "E"
          ],
          [
           689554,
           "10099-017.E5.Grazing License Agreement Corre(2).pdf",
           "E"
          ],
          [
           406053,
           "Overlook Shelter 1.pdf",
           "E"
          ],
          [
           474304,
           "5201.E1.SUI.pdf",
           "E"
          ],
          [
           887264,
           "RF Study2 email.TIF",
           "E"
          ],
          [
           755769,
           "SC Alts for PBSci n Soc Sci Draft PPG 3-16-07 Final.doc",
           "E"
          ],
          [
           819547,
           "7501 BP1 geotech03_001.pdf",
           "E"
          ],
          [
           1020452,
           "2318.E2.CrownAptAddition_PPG.pdf",
           "E"
          ],
          [
           883523,
           "23-11-07 UCSC Recital Hall Rigging Add Service Proposal.pdf",
           "E"
          ],
          [
           880442,
           "2501.E2.Project Planning Guide Architect.pdf",
           "E"
          ],
          [
           14221,
           "EH&S_RENOVATION DETAIL_9-9-11.pdf",
           "E"
          ],
          [
           740928,
           "2300-160.G.Greenheck System Effect Simulator new.pdf",
           "E"
          ],
          [
           472963,
           "5100.E2.UCSCProgramForFoodFacilitiesDevelopment&OperationThoughCollege8.pdf",
           "E"
          ],
          [
           952763,
           "2300-153_e2(3).pdf",
           "E"
          ],
          [
           788348,
           "4925.E5.1. ICBO Electrical Review Comments 11-3-99.pdf",
           "E"
          ],
          [
           944974,
           "303-2131.pdf",
           "E"
          ],
          [
           96046,
           "LSU_Signed PPG Amendment 2.pdf",
           "E"
          ],
          [
           938967,
           "UCSC Biomed VE 021607.xls",
           "E"
          ],
          [
           791436,
           "CBB Sched Option 5 06-17-13.pdf",
           "E"
          ],
          [
           546856,
           "File 6632 Schedule 7-26-99.pdf",
           "E"
          ],
          [
           311515,
           "180516_Meeting Agenda_Mtg 7.docx",
           "E"
          ],
          [
           681569,
           "2513_e8.pdf",
           "E"
          ],
          [
           679829,
           "10626-026_e8(2).pdf",
           "E"
          ],
          [
           541705,
           "EECC Cost Estimate (2)",
           "E"
          ],
          [
           273840,
           "File 2727 Project Planning Guide.pdf",
           "E"
          ],
          [
           117388,
           "UCSC 2300 Delaware Building A Renovation DD 10-4-18.pdf",
           "E"
          ],
          [
           339002,
           "UCSC Kresge DPP Book_VOL 1.pdf",
           "E"
          ],
          [
           95411,
           "KZSC - Seismic Survey.pdf",
           "E"
          ],
          [
           790981,
           "CBB draft Prog 8 23 10 MA.xls",
           "E"
          ],
          [
           962991,
           "8900-039_e7.pdf",
           "E"
          ],
          [
           21237,
           "HAY BARN SCHEDULE #3 .pdf",
           "E"
          ],
          [
           790927,
           "50 SD DPP - Part 1 and 2 combined.pdf",
           "E"
          ],
          [
           682981,
           "4800-001_e5.1.pdf",
           "E"
          ],
          [
           790955,
           "50 SD DPP - Part 1 and 2 combined_Page_29.jpg",
           "E"
          ],
          [
           215008,
           "01-07-11 UCSC CPR Meeting Minutes.pdf",
           "E"
          ],
          [
           744636,
           "10.01.19 Construction Plan Dates CD.xls",
           "E"
          ],
          [
           281795,
           "File 2801 Campus Geologic Map (Color).TIF",
           "E"
          ],
          [
           809119,
           "File 6900 141230_UCSC_IAS_DPP_Volume II Room Data Sheets.pdf",
           "E"
          ],
          [
           791394,
           "130708 CBB & Infrastructure Schedule DD-CA-SUPERCEDED.PDF",
           "E"
          ],
          [
           74892,
           "10000-204.E3.18 04 20 - WO00401952 Cost Report.pdf",
           "E"
          ],
          [
           893261,
           "UCSC Preliminary Timeline 130528.pdf",
           "E"
          ],
          [
           831771,
           "File 9097A.E3. Architect's Estimate.pdf",
           "E"
          ],
          [
           490411,
           "File 5504.E2 Project Planning Guide Residence Halls.pdf",
           "E"
          ],
          [
           744716,
           "10010.E8.Meeting minutes 071510.doc",
           "E"
          ],
          [
           490482,
           "File 5504.E5.1 Road Loop Study (color).pdf",
           "E"
          ],
          [
           884630,
           "2-Stero-Tragen Flex Conveyor.pdf",
           "E"
          ],
          [
           711213,
           "app.css",
           "E"
          ],
          [
           95273,
           "UC Santa Cruz Mail - RE_ Seismic Question.pdf",
           "E"
          ],
          [
           969769,
           "PA FA Division 1 LF 95%.doc",
           "E"
          ],
          [
           902209,
           "3048.E4.House A Seismic & Capital Renewal - Expansion.pdf",
           "E"
          ],
          [
           868837,
           "4910-001.E1.Minor Capital Improvement.pdf",
           "E"
          ],
          [
           541910,
           "File 6600 Structural Investigation Dormitory Building #1.pdf",
           "E"
          ],
          [
           863753,
           "3124.E5.3.Bill Taber Correspondence.pdf",
           "E"
          ],
          [
           962449,
           "6300-004_E3 64349  Res Halls Room Lights.pdf",
           "E"
          ],
          [
           374104,
           "4001.E7. Value Engineering.pdf",
           "E"
          ],
          [
           236174,
           "Figure 3-7 - Post-Development Conditions - updated.pdf",
           "E"
          ],
          [
           621986,
           "Sewer Replacement.pdf",
           "E"
          ],
          [
           339152,
           "nVE_3_01_RNEW PATH.pdf",
           "E"
          ],
          [
           884734,
           "4-Temporary Dish Wash Double Shift Opt.pdf",
           "E"
          ],
          [
           962990,
           "8900-039_e7(2).pdf",
           "E"
          ],
          [
           971448,
           "ThimannShopReroof2001.pdf",
           "E"
          ],
          [
           95420,
           "For UCOP-121005-Redwood Building rating.doc",
           "E"
          ],
          [
           863808,
           "3124.E5.5.Project Statistics 10.7.93.pdf",
           "E"
          ],
          [
           719035,
           "File 9069 Change Request 006.pdf",
           "E"
          ],
          [
           361095,
           "File 3502 E5.1 Transmittal for Stone Wall at Theatre Stage 03.18.68.pdf",
           "E"
          ],
          [
           212192,
           "File 1810-013 Project Summary and Estimates.pdf",
           "E"
          ],
          [
           883539,
           "6301.H Spec 11061 O+M2.pdf",
           "E"
          ],
          [
           468827,
           "Preliminary Report.pdf",
           "E"
          ],
          [
           339000,
           "180517_KRESGE_CM_RFQ_INTERVIEWLETTER (002)_cfh comments.doc",
           "E"
          ],
          [
           791091,
           "UC Santa Cruz - BM0111-075 Budget Autoclave.doc",
           "E"
          ],
          [
           768663,
           "KZSC_report2012tot.pdf",
           "E"
          ],
          [
           273582,
           "File 2721-002 Lee & Assoc. Budget Estimates.pdf",
           "E"
          ],
          [
           311072,
           "UCSC Dining_ Presentation from.zip",
           "E"
          ],
          [
           136813,
           "12001-002.E3.Email Correspondence.pdf",
           "E"
          ],
          [
           143205,
           "BCR SD vs DD VE sheet r.1.xls",
           "E"
          ],
          [
           909888,
           "UC Santa Cruz Mail - Re_ Kerr Hall Room 283 Remodel - Schedule and Workbook.pdf",
           "E"
          ],
          [
           145079,
           "MME Eq Eval Porter College Infill Apts.pdf",
           "E"
          ],
          [
           703040,
           "1701.E2.PPG INCOMPLETE SCAN.pdf",
           "E"
          ],
          [
           79023,
           "10063.E3.Opinion of Probable Cost.pdf",
           "E"
          ],
          [
           256567,
           "2013.12.04 Ph 2 OA Meeting #16.pdf",
           "E"
          ],
          [
           311057,
           "1025_2018-06-25_FOG Tech Report.docx",
           "E"
          ],
          [
           545365,
           "6620.E2. Mauna Kea Science Reserve- PPG.pdf",
           "E"
          ],
          [
           887474,
           "Student Life Seismic 2A P Phase project sum draft 1-02-14.doc",
           "E"
          ],
          [
           944868,
           "303-2025.pdf",
           "E"
          ],
          [
           489747,
           "File 5502.E1 College 9 Plan with Comments.pdf",
           "E"
          ],
          [
           503249,
           "5601.E5.2.DAF Internal Review Only.pdf",
           "E"
          ],
          [
           790919,
           "50% SD DPP_Steve Paul Comments_10-29-10.doc",
           "E"
          ],
          [
           956838,
           "Carson Dining Schedule Detailed.1.pdf",
           "E"
          ],
          [
           79681,
           "File 10064.E4 Schedule.pdf",
           "E"
          ],
          [
           246855,
           "Request to Work Non Scheduled Periods 6-24-11.xls",
           "E"
          ],
          [
           86044,
           "Porter B 50% CD Basis of Estiimate 4-11-08.pdf",
           "E"
          ],
          [
           364442,
           "File 3618.E5.3 SOAR Folder.pdf",
           "E"
          ],
          [
           685035,
           "Axiom Agenda 12.09.05.pdf",
           "E"
          ],
          [
           236106,
           "Crown for PWG 8-26-16_FA0829_Rev_(1).Crown for PWG 8-26-16_FA0829_Rev.pptx",
           "E"
          ],
          [
           75152,
           "128-Tree survey and forestry.pdf",
           "E"
          ],
          [
           339293,
           "UCSC Kresge 2B - Roles & Responsibilities.pdf",
           "E"
          ],
          [
           791440,
           "14-05-07 approval matrix.pdf",
           "E"
          ],
          [
           545231,
           "6614.E3.120 Telescope Bldg. Fabrication and installation project budget expense.pdf",
           "E"
          ],
          [
           541646,
           "EECC - DPP (2).doc",
           "E"
          ],
          [
           490399,
           "File 5504.E1 Boiler Memo 4-24-92.pdf",
           "E"
          ],
          [
           863807,
           "3124.E5.5.Preliminary Design Correspondence 10.19.93.pdf",
           "E"
          ],
          [
           809132,
           "1.8 DPP Agenda, Schedule, and Meeting Minutes.pdf",
           "E"
          ],
          [
           468754,
           "140617 LML Schedule 14.pdf",
           "E"
          ],
          [
           809133,
           "1.9 TWBTA-TEF Competition Scheme.pdf",
           "E"
          ],
          [
           111261,
           "VE list 04.23.2015R1.pdf",
           "E"
          ],
          [
           329056,
           "3124 PPG 9-4-91.pdf",
           "E"
          ],
          [
           96047,
           "UC Santa Cruz Mail - Signed REQUEST FOR APPROV...pdf",
           "E"
          ],
          [
           14199,
           "1323.E2 Renovations Project Options.pdf",
           "E"
          ],
          [
           819606,
           "VE-SW-011.pdf",
           "E"
          ],
          [
           478760,
           "062920-RCC L-Bldgs Dwg 50% CD + comments.pdf",
           "E"
          ],
          [
           679946,
           "1200-050.E4.Possible Project Sequencing.pdf",
           "E"
          ],
          [
           829749,
           "20090629114217.pdf",
           "E"
          ],
          [
           16929,
           "111208 CBB DPP Part 1.pdf",
           "E"
          ],
          [
           741763,
           "Div 16 Elec Campus Standards.pdf",
           "E"
          ],
          [
           311440,
           "190821 Carson and Porter Furniture Proposals Meeting notes.pdf",
           "E"
          ],
          [
           788482,
           "4931. E6. Soils Report #103.pdf",
           "E"
          ],
          [
           883560,
           "Recital Hall Modernization Project Budget Workbook.xlsx",
           "E"
          ],
          [
           78167,
           "File 10061.E4. Stevenson Agenda.pdf",
           "E"
          ],
          [
           215141,
           "UCSC Schedule Update 1-24-11.pdf",
           "E"
          ],
          [
           956897,
           "refig equip .elog 60 amp clge 8 ktchn.csv",
           "E"
          ],
          [
           971160,
           "PCC Meeting minutes 043008.doc",
           "E"
          ],
          [
           339226,
           "Kresge Residential Improvements PreDesign 976393.xls",
           "E"
          ],
          [
           536120,
           "File 6300 Agreement for Architect Services Final Billing.pdf",
           "E"
          ]
         ],
         "hovertemplate": "tag=%{customdata[2]}<br>umap_x=%{x}<br>umap_y=%{y}<br>file_id=%{customdata[0]}<br>filename=%{customdata[1]}<extra></extra>",
         "legendgroup": "E",
         "marker": {
          "color": "#782AB6",
          "line": {
           "width": 0
          },
          "opacity": 0.75,
          "size": 7,
          "symbol": "circle"
         },
         "mode": "markers",
         "name": "E",
         "showlegend": true,
         "type": "scattergl",
         "x": {
          "bdata": "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",
          "dtype": "f4"
         },
         "xaxis": "x",
         "y": {
          "bdata": "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",
          "dtype": "f4"
         },
         "yaxis": "y"
        },
        {
         "customdata": [
          [
           396219,
           "09 sept 2015.pdf",
           "B"
          ],
          [
           235639,
           "170330_UCSC Crown College_TIR-01 Ex Ramp-DSA-AC_Published.pdf",
           "B"
          ],
          [
           962745,
           "6300-001_b12.pdf",
           "B"
          ],
          [
           693662,
           "EB green power template.pdf",
           "B"
          ],
          [
           725766,
           "d - EQ Credit 8.3 Elevation.pdf",
           "B"
          ],
          [
           789520,
           "2._UC Santa Cruz Mail - Fwd_ UCSC MSC entry-$404K!!!!.pdf",
           "B"
          ],
          [
           789550,
           "Streambed Alteration Agreement 1600-2014-0034-R3.pdf",
           "B"
          ],
          [
           246643,
           "File 2630 Transmittal Drawings.pdf",
           "B"
          ],
          [
           179407,
           "File 1810 Certificate of Compliance 10-20-06 (4).pdf",
           "B"
          ],
          [
           693686,
           "green seal paints and coatings.doc",
           "B"
          ],
          [
           975585,
           "1600-180.A2.Planreview Approval.pdf",
           "B"
          ],
          [
           548428,
           "LS Calculations Biomed SWPPP Amendment No. 3 - 08.24.11-1-2.pdf",
           "B"
          ],
          [
           548324,
           "SWPPP INSPECTION CHECKLISTS 5-17-11 page.doc",
           "B"
          ],
          [
           95966,
           "6. LSU - Cost Plan Workbook (Fire Alarm) - W Sumbmittal.pdf",
           "B"
          ],
          [
           179686,
           "Authorization to Tranfer Construction Funds.pdf",
           "B"
          ],
          [
           789750,
           "Augmentation List.xlsx",
           "B"
          ],
          [
           694171,
           "02 EA Prereq 2.pdf",
           "B"
          ],
          [
           174119,
           "1700-186.B12 Project Information.pdf",
           "B"
          ],
          [
           587850,
           "8918.1.B. CAMPUS ROAD RENOVATION, 1977 - Administrative Approval.pdf",
           "B"
          ],
          [
           179306,
           "File 1810 Certificate of Compliance 8-16-06 (2).pdf",
           "B"
          ],
          [
           944456,
           "Fourth Floor Plan.pdf",
           "B"
          ],
          [
           686142,
           "2700-128.B12.Lab 216 Repairs.pdf",
           "B"
          ],
          [
           913523,
           "Edited Pedestrian Court.jpg",
           "B"
          ],
          [
           338073,
           "F3 Kresge Non Academic Item FINAL (190308).pdf",
           "B"
          ],
          [
           789982,
           "1 Cover sheet.pdf",
           "B"
          ],
          [
           179688,
           "Award Deferred Bid Alts 1 and 1a.pdf",
           "B"
          ],
          [
           96024,
           "UCSC LSU 100% CD Opinion of Probable Cost - Rev. 1.xls",
           "B"
          ],
          [
           179606,
           "Attachment H.pdf",
           "B"
          ],
          [
           247036,
           "File 2635 B7 DSA Change Order #5 Approval Packet.pdf",
           "B"
          ],
          [
           489717,
           "File 5502.B1 Proposed Budget Amendment Meeting Item.pdf",
           "B"
          ],
          [
           944345,
           "Porter A_Total Materials Value-20110301.pdf",
           "B"
          ],
          [
           117270,
           "Attachment 3-Addendum 3.pdf",
           "B"
          ],
          [
           489853,
           "File 5503.B6 Property Line Questions.pdf",
           "B"
          ],
          [
           579275,
           "File 8500-030A. B6. Plan Review Approval.pdf",
           "B"
          ],
          [
           917182,
           "ConcurrencePackage_Employee_Housing_Program_Project_20-01-20.pdf",
           "B"
          ],
          [
           693888,
           "b - ID Credit 1.2 Narrative.pdf",
           "B"
          ],
          [
           137848,
           "Memo to VCVani from Campus Provost.pdf",
           "B"
          ],
          [
           143083,
           "12058 Big Creek Reserve_Meeting with CAL FIRE.pdf",
           "B"
          ],
          [
           235631,
           "2016 12 23 UCSC CROWN COLLEGE - DSA SUBMITTAL - SPECIFICATIONS - VOL 1.pdf",
           "B"
          ],
          [
           944297,
           "Baseline 90.pdf",
           "B"
          ],
          [
           789469,
           "4932.B12. CDFW- Steambed Alteration Agreement - Plant Cover Data.pdf",
           "B"
          ],
          [
           85377,
           "IDc1.2_Template_SubmittedOn_09252009.pdf",
           "B"
          ],
          [
           605632,
           "Reference_TII P.pdf",
           "B"
          ],
          [
           337956,
           "Kresge Non-Academic - Schedule 02-04-19 JK DAL.xls",
           "B"
          ],
          [
           790157,
           "CBB Bldg gross 8-27-14.xlsx",
           "B"
          ],
          [
           684139,
           "JordanGulchDrainageRepairProject_Permits-b12(2).pdf",
           "B"
          ],
          [
           314034,
           "CreditFiles_IDc1.4_IDc1.4_Template_SubmittedOn_01192011#11F4.pdf",
           "B"
          ],
          [
           246972,
           "Merrill Cap Renewal Aug - Action Item 11-15-13 - Approved.pdf",
           "B"
          ],
          [
           962301,
           "90Specs & 95Plans Transmittal 5.26.99.pdf",
           "B"
          ],
          [
           331531,
           "File 3201-111.B6 FM Plan Approval.pdf",
           "B"
          ],
          [
           912129,
           "File 5305-015.B6 SD Plan Review Transmittal.pdf",
           "B"
          ],
          [
           314044,
           "A+A _SCUP Presentation Entry_Pacific Region 2009_Porter College_v1.doc",
           "B"
          ],
          [
           710499,
           "2. DSA_082223_Memo.pdf",
           "B"
          ],
          [
           944550,
           "Application.pdf",
           "B"
          ],
          [
           2316,
           "DSA-1.Thimann135.pdf",
           "B"
          ],
          [
           282094,
           "EQc1 Supporting Documentation.pdf",
           "B"
          ],
          [
           381975,
           "20180731_SHW_CostSavingStrategy_DRAFTAGENDA.docx",
           "B"
          ],
          [
           789503,
           "Bus Stop Curb Ramp-FA0430.pdf",
           "B"
          ],
          [
           314038,
           "2009-0129_SCUP_UCSC-Porter-College_Presentation-Outline FZ Notes.doc",
           "B"
          ],
          [
           913547,
           "C-2_Plan2_3_Floor.jpg",
           "B"
          ],
          [
           694285,
           "14 SS Credit 7.2 v.2.2a.pdf",
           "B"
          ],
          [
           789863,
           "4 CBB C bidtab-lumpsump V2.xlsx",
           "B"
          ],
          [
           313905,
           "TemplateRenderer.pdf",
           "B"
          ],
          [
           788956,
           "4931-002.B12.USDepartmentOfCommerceB120001.pdf",
           "B"
          ],
          [
           204,
           "12056-014.B12.CaliforniaCoatalCommissionALandelsHill-BigCreekB120001.pdf",
           "B"
          ],
          [
           95952,
           "211300 - Fire Suppression Systems - Thimann.pdf",
           "B"
          ],
          [
           502828,
           "5601.B7.DAF BCJ Project #04511.pdf",
           "B"
          ],
          [
           591921,
           "File 9048 Hazard Mitigation.pdf",
           "B"
          ],
          [
           356609,
           "Kerr Hall 317 Renovation - APPROVED Project Summary.pdf",
           "B"
          ],
          [
           85525,
           "PorterB.SS6.2.pdf",
           "B"
          ],
          [
           474247,
           "5201.B1.UCSCEarth&MarineSc_CCPCApproval01.pdf",
           "B"
          ],
          [
           3444,
           "1442.B1 CPS and Chancellor's Approval.pdf",
           "B"
          ],
          [
           235591,
           "SSc2 CreditForm.pdf",
           "B"
          ],
          [
           944189,
           "Open Space Site Plan.pdf",
           "B"
          ],
          [
           354822,
           "Prep .docx",
           "B"
          ],
          [
           789480,
           "Enclosure 1 figures.pdf",
           "B"
          ],
          [
           179391,
           "File 1810 Certificate of Compliance 3-8-07 (3).pdf",
           "B"
          ],
          [
           789794,
           "email draft.docx",
           "B"
          ],
          [
           686220,
           "6202.B1.Approval of Recommended Selection of Bidder.pdf",
           "B"
          ],
          [
           354811,
           "Bill Text - AB-183 Higher education trailer bill.pdf",
           "B"
          ],
          [
           179463,
           "EQc2_Template_SubmittedOn_08032010.pdf",
           "B"
          ],
          [
           381771,
           "202818_Current EEC Space Program_BH.PDF SUPERCEDED.PDF",
           "B"
          ],
          [
           694177,
           "08 EA Credit 3.3.pdf",
           "B"
          ],
          [
           79015,
           "10063.B4 Department of Finance.pdf",
           "B"
          ],
          [
           382083,
           "Pages from 180116 - FSH 50% SD.pdf",
           "B"
          ],
          [
           790141,
           "6c CBB Cost Plan workbook BLDG 08012014.xlsx",
           "B"
          ],
          [
           734704,
           "10642.B1.Augmentation1_WRP-Clinical-Sequencing-Lab-C0171_Aug12-2021.pdf",
           "B"
          ],
          [
           337829,
           "SC Kresge Non-Acad DRAFT PPG 02x08x19.docx",
           "B"
          ],
          [
           693418,
           "LEED-Online_ Scorecard and ...pdf",
           "B"
          ],
          [
           337866,
           "2018 10 09 Phasing Diagrams_PHASE_01.pdf",
           "B"
          ],
          [
           95956,
           "10. LSU - CIB - W Sumbmittal.xlsm",
           "B"
          ],
          [
           667157,
           "1324.B10.Concrete_Waste_Management_3.TIF",
           "B"
          ],
          [
           789772,
           "CSC Public Access Improvements Proj Summ-150405.doc",
           "B"
          ],
          [
           790006,
           "8 Area Reconciliation.pdf",
           "B"
          ],
          [
           214763,
           "Cogen PH1 Augmentation PBW - 4-9-13 DAL.xls",
           "B"
          ],
          [
           789896,
           "10 Signed P-phase CIB.pdf",
           "B"
          ],
          [
           96004,
           "LSU - Fire Alarms and Sprinklers action item.docx",
           "B"
          ],
          [
           146219,
           "File 13015.B2. Confirmation of Action Items to be Completed.pdf",
           "B"
          ],
          [
           978813,
           "Suggest_FireSprinklers.pdf",
           "B"
          ],
          [
           95989,
           "Division 1 Specs- 100% CD.pdf",
           "B"
          ],
          [
           819174,
           "File 7401-008 California Regional Water Quality Control Board.pdf",
           "B"
          ],
          [
           943532,
           "UC Santa Cruz Mail - Kresge - DSA Coordination Update.pdf",
           "B"
          ],
          [
           716799,
           "160726-DSA-Appl-receipt.PDF",
           "B"
          ],
          [
           789688,
           "160603 UC 2016 Projects.xlsx",
           "B"
          ],
          [
           789623,
           "Copy of bidtab-lumpsumtemplate.xls",
           "B"
          ],
          [
           789309,
           "GBCI INVOICE.PDF",
           "B"
          ],
          [
           145118,
           "GaryDahl - List of buildings and seismic ratings for UCSC.pdf",
           "B"
          ],
          [
           95991,
           "Cowell College - 100% CD Drawings.pdf",
           "B"
          ],
          [
           789655,
           "UCSC Biomed Schedule 11-19-08.pdf",
           "B"
          ],
          [
           313904,
           "F9569 UCSC Porter A EQA Report.pdf",
           "B"
          ],
          [
           179347,
           "File 1810 Certificate of Compliance 2-21-07 (2).pdf",
           "B"
          ],
          [
           605611,
           "9097L BP1 90% CD OPCC.pdf",
           "B"
          ],
          [
           694144,
           "08 MR Credit 5.pdf",
           "B"
          ],
          [
           778349,
           "UCSC ECIH Regents FINAL HANDOUTS.pdf",
           "B"
          ],
          [
           693851,
           "b - Narrative for MR PREREQ 1.pdf",
           "B"
          ],
          [
           95984,
           "LSU Fire Alarm - 100% CD Specs.pdf",
           "B"
          ],
          [
           944323,
           "BEPU Proposed.pdf",
           "B"
          ],
          [
           337978,
           "12 85 CD Vol 2 Specs Combined_20191011.pdf",
           "B"
          ],
          [
           710952,
           "Tow-Away Signage Detail.pdf",
           "B"
          ],
          [
           828588,
           "8884.B4 - Campus Parking - Core West Parking Structure - Original Construction.pdf",
           "B"
          ],
          [
           789900,
           "UC Santa Cruz Mail - Coa...pdf",
           "B"
          ],
          [
           517737,
           "100 % CD Approval Transmittal.pdf",
           "B"
          ],
          [
           179293,
           "File 1810 Certificate of Compliance 4-11-07.pdf",
           "B"
          ],
          [
           231596,
           "Crown MM_EVP-CFO Brostrom_Attachment 1.pdf",
           "B"
          ],
          [
           681371,
           "2302-010_b6.pdf",
           "B"
          ],
          [
           944230,
           "A.2.08_Roof Plan.pdf",
           "B"
          ],
          [
           179509,
           "EQc5 Design Review Response.pdf",
           "B"
          ],
          [
           85308,
           "LEED NC checklist Porter College.xls",
           "B"
          ],
          [
           875684,
           "2501.B4.Budget Acts Correspondence 8.7.70.pdf",
           "B"
          ],
          [
           970550,
           "Plan Review Transmittal 6.12.00.pdf",
           "B"
          ],
          [
           548885,
           "EF2_1 speed.csv",
           "B"
          ],
          [
           605625,
           "10 SC Telecom Phase B State GFF CIB W submittal.pdf",
           "B"
          ],
          [
           75465,
           "10014.B7.Office of General Counsel Administrative Approvals.pdf",
           "B"
          ],
          [
           338123,
           "5 GFF_cost_model_for_construction_funds draft.xlsx",
           "B"
          ],
          [
           247012,
           "Chancellor Action Item w OP comments v2 12-18-12.docx",
           "B"
          ],
          [
           382035,
           "1711205_S2S O&M Agenda v2.doc",
           "B"
          ],
          [
           85451,
           "SS2CC.pdf",
           "B"
          ],
          [
           78378,
           "File 10062.B2 Contract Award Submittal (2).pdf",
           "B"
          ],
          [
           473031,
           "File 5200 Plan Review Transmittal 4-14-05.pdf",
           "B"
          ],
          [
           619586,
           "Student Hsg TIU 2 Predesign appvd 3-24-17.pdf",
           "B"
          ],
          [
           358849,
           "File 3404.B12 Response to First Appeal.pdf",
           "B"
          ],
          [
           179324,
           "File 1810 Certificate of Compliance 8-4-06.pdf",
           "B"
          ],
          [
           364906,
           "01515550_Student Union-Redwood_9-5-14.pdf",
           "B"
          ],
          [
           144398,
           "File 13008-018 Presidents Recommendation.pdf",
           "B"
          ],
          [
           789478,
           "Alisa Email string.pdf",
           "B"
          ],
          [
           275541,
           "File 2739 Plan Review Approval 7-21-05.pdf",
           "B"
          ],
          [
           338284,
           "DSA_1-Application_THALL_20190830.pdf",
           "B"
          ],
          [
           46280,
           "058 File 6701 7.23.tif",
           "B"
          ],
          [
           382079,
           "Zoom_attendance.PNG",
           "B"
          ],
          [
           790200,
           "DSA_3-1.pdf",
           "B"
          ],
          [
           789834,
           "sc-cbb-aug-appvd.pdf",
           "B"
          ],
          [
           85341,
           "EAp1_Template_SubmittedOn_07022010.pdf",
           "B"
          ],
          [
           790032,
           "13 CBB Updated Drawdown Schedule July 2014.xlsx",
           "B"
          ],
          [
           809702,
           "File 7401 BP #2 Drawings Approval.pdf",
           "B"
          ],
          [
           885473,
           "File 8946 B12.Cover Letter and Federal Report of Expenditures Checklist.pdf",
           "B"
          ],
          [
           786927,
           "File 4923 Application for Service.pdf",
           "B"
          ],
          [
           934342,
           "BioMed Safety Upg PH2 Smoke Detectors 6-28-17 Rev1.docx",
           "B"
          ],
          [
           85695,
           "IAQ Management Plan.pdf",
           "B"
          ],
          [
           117300,
           "TIU Phase C Loan Draw Sch 1-27-17.pdf",
           "B"
          ],
          [
           232377,
           "2318-055.B12.Crown Merrill Apartment Buildings 2, 4, 9, 10, 12, 14, & Multipurpose Building 15 Painting.pdf",
           "B"
          ],
          [
           789534,
           "LML Water Fixture counts 2004.pdf",
           "B"
          ],
          [
           725739,
           "a - MR Credit 1.1 Template.pdf",
           "B"
          ],
          [
           338080,
           "03_SC Kresge ACAD PPG Amend w Attach 2021-08-11.pdf",
           "B"
          ],
          [
           790028,
           "10 GFF_cibtemplate.xlsm",
           "B"
          ],
          [
           46255,
           "033 File 6701 5.07.tif",
           "B"
          ],
          [
           14188,
           "File 1323.B7 DSA Plan Review_5-10-13.pdf",
           "B"
          ],
          [
           179607,
           "Attachment I.pdf",
           "B"
          ],
          [
           232487,
           "Increase Approval_2017-12-05.pdf",
           "B"
          ],
          [
           214695,
           "LPG (1) 01.2016-01.2019.pdf",
           "B"
          ],
          [
           282035,
           "20090216.pdf",
           "B"
          ],
          [
           944340,
           "TemplateRenderer.pdf",
           "B"
          ],
          [
           477661,
           "File 5300-034 Application for Approval.pdf",
           "B"
          ],
          [
           85536,
           "PORTER B Non-roof Results.pdf",
           "B"
          ],
          [
           789991,
           "3 - GFF W1 Cap Outlay Summary (4).xlsx",
           "B"
          ],
          [
           789199,
           "131014 Design Progress Package_BC.pdf",
           "B"
          ],
          [
           338291,
           "UC Santa Cruz Mail - Division of the State Architect Approval of Plans Letter 01-118546 - Increment 0.pdf",
           "B"
          ],
          [
           790127,
           "13-00457.00 UCSC Coastal Biology Permit Set Bldg rev2.pdf",
           "B"
          ],
          [
           548282,
           "2009-10 - OCT.pdf",
           "B"
          ],
          [
           282703,
           "UCSC CSHC Regents Info Item.doc",
           "B"
          ],
          [
           875671,
           "2500.B1.Request for Additional Space 7.29.69.pdf",
           "B"
          ],
          [
           85386,
           "2009-07 WM report.pdf",
           "B"
          ],
          [
           179605,
           "Attachment G.pdf",
           "B"
          ],
          [
           179744,
           "03 File 1810 E104A.pdf",
           "B"
          ],
          [
           179541,
           "UCSC_Sust_Plan_4.23.10.pdf",
           "B"
          ],
          [
           282143,
           "EQc6.1_Template_SubmittedOn_11302010.pdf",
           "B"
          ],
          [
           40965,
           "AckLetter_107961973.PDF",
           "B"
          ],
          [
           85301,
           "File 10069-002 SWPPP.pdf",
           "B"
          ],
          [
           693983,
           "EQ Credit 6.2.xlsx",
           "B"
          ],
          [
           85449,
           "A-101-SitePlan.pdf",
           "B"
          ],
          [
           789539,
           "WATER SERVICE INSTALLATION PERMIT 6 29 2015.pdf",
           "B"
          ],
          [
           944518,
           "Bocchicchio - Porter A Architect Select Letter DRAFT .doc",
           "B"
          ],
          [
           272352,
           "DSA approval letter 01_114148_2.pdf",
           "B"
          ],
          [
           574074,
           "File 7602.B1 Project Summary Form Signed.pdf",
           "B"
          ],
          [
           179396,
           "File 1810 Certificate of Compliance 11-2-06.pdf",
           "B"
          ],
          [
           789168,
           "100930  Coastal Biology DAB PRESENTATION EB 36.pdf",
           "B"
          ],
          [
           95944,
           "Cowell College - Fire Sprinklers - Design Development.pdf",
           "B"
          ],
          [
           789184,
           "100930  Coastal Biology DAB PRESENTATION EB 50.pdf",
           "B"
          ],
          [
           235559,
           "SC-Crown MM Amnd Scope - Final 1-18-18.pdf",
           "B"
          ],
          [
           179736,
           "04 File 1810 A102B.pdf",
           "B"
          ],
          [
           789523,
           "5._Chapter 10-City Traffic Impact Fees for Capital Projects.pdf",
           "B"
          ],
          [
           381968,
           "UCSC-SHW Stormwater Control Plan BKF.pdf",
           "B"
          ],
          [
           310522,
           "01_118607_0.pdf",
           "B"
          ],
          [
           588914,
           "DSA Application UCSC Project # 8948.pdf",
           "B"
          ],
          [
           338267,
           "DSA_1-Application_SITE_20190827 FINAL.pdf",
           "B"
          ],
          [
           786361,
           "976551 Public Ed Picnic Shelter 4921-001 Augmentation Letter 180821.docx",
           "B"
          ],
          [
           789518,
           "UC Santa Cruz Mail - UCSC MSC entry.pdf",
           "B"
          ],
          [
           789971,
           "3 - GFF Cap Outlay Summary.xlsx",
           "B"
          ],
          [
           25036,
           "1500-027.E3.Concrete_Entryway_Cost_Estimates.pdf",
           "B"
          ],
          [
           162563,
           "Soft costs-Draft 100108 FA markup.xls",
           "B"
          ],
          [
           337993,
           "13 Kresge Academic 976483 Drawdown.xlsx",
           "B"
          ],
          [
           313935,
           "CreditFiles_SSc1_LEED CI 2.0 - SS Credit 1 - Option G_Documentation#A525.pdf",
           "B"
          ],
          [
           790164,
           "transmittal.doc",
           "B"
          ],
          [
           790109,
           "10 CBB CIB 9-10-14.xlsm",
           "B"
          ],
          [
           790192,
           "DSA Final Fees 01_116608_0.pdf",
           "B"
          ],
          [
           282675,
           "E003 T24.pdf",
           "B"
          ],
          [
           22853,
           "1329.B12 Project Information.pdf",
           "B"
          ],
          [
           382131,
           "sbd_owner_applicationUCSCHagarEEC.pdf",
           "B"
          ],
          [
           789180,
           "100930  Coastal Biology DAB PRESENTATION EB 47.pdf",
           "B"
          ],
          [
           789456,
           "EBOM Sustainable Purchasing Policy Form.pdf",
           "B"
          ],
          [
           789648,
           "UCSC Biomed Signed Request to Proceed or Encumber Funds.pdf",
           "B"
          ],
          [
           726288,
           "2638 NTP.pdf",
           "B"
          ],
          [
           179351,
           "File 1810 Certificate of Compliance 2-28-07.pdf",
           "B"
          ],
          [
           376263,
           "Draft NOI cover letter.docx",
           "B"
          ],
          [
           338278,
           "DSA - Kresge ACAD.pdf",
           "B"
          ],
          [
           381963,
           "180614_TAPS DIAGRAMS - HAGAR.pdf",
           "B"
          ],
          [
           232489,
           "2318-064.B12.Permanent Smoke Detector Installation.pdf",
           "B"
          ],
          [
           382138,
           "sbd_owner_applicationUCSCHeller6.pdf",
           "B"
          ],
          [
           716802,
           "05_02_2016 DSA Pre-App Meeting Minutes.pdf",
           "B"
          ],
          [
           179294,
           "File 1810 Certificate of Compliance 4-2-07 (2).pdf",
           "B"
          ],
          [
           11312,
           "190912_ UCSC SEL DSA pre-app meeting Memo RA.PDF",
           "B"
          ],
          [
           396650,
           "signed Biomed CIB 7-29-09.pdf",
           "B"
          ],
          [
           381711,
           "G-002.pdf",
           "B"
          ],
          [
           964658,
           "Plan Review Transmittal of Mech Plans 11.15.01.pdf",
           "B"
          ],
          [
           789703,
           "2016-01 UC Progress by Campus.pdf",
           "B"
          ],
          [
           693955,
           "Recycling & Composting Narrative.doc",
           "B"
          ],
          [
           862515,
           "File 2806 PGE Incentive Award.pdf",
           "B"
          ],
          [
           789957,
           "9 Exhibit_L-SC CBB signed Schedule 8-28-13- USE THIS COPY.pdf",
           "B"
          ],
          [
           605604,
           "3 SC Telecom Phase B Cap Outlay Summary.pdf",
           "B"
          ],
          [
           46243,
           "021 File 6701 3.41.tif",
           "B"
          ],
          [
           179413,
           "File 1810 Certificate of Compliance 10-27-06.pdf",
           "B"
          ],
          [
           235606,
           "File 2358.B6 Plan Review 100%DD.pdf",
           "B"
          ],
          [
           790179,
           "UC Santa Cruz Mail - Re_ FW_ Coastal Biology Transfer Air.pdf",
           "B"
          ],
          [
           975044,
           "10.2.20 UC 2020-21 Capital Outlay Letter-Final Approval-CC.pdf",
           "B"
          ],
          [
           789979,
           "P Phase approval - UCSC_Coastal Biology Building_May 27 2014.pdf",
           "B"
          ],
          [
           145109,
           "TOP 20 SEISMIC.xlsx",
           "B"
          ],
          [
           356971,
           "File 3309 Memorandum 6-07-96.pdf",
           "B"
          ],
          [
           789802,
           "CBB Admin Item - draft 3.docx",
           "B"
          ],
          [
           235620,
           "Code Analysis - Access Compliance-1.docx",
           "B"
          ],
          [
           868873,
           "4910.B2.Project Agreement.pdf",
           "B"
          ],
          [
           862889,
           "20170303_1-16-121SCR_ADD-DFG.pdf",
           "B"
          ],
          [
           694074,
           "EA 1.3.pdf",
           "B"
          ],
          [
           944397,
           "Porter A_EQ8_1_equations.pdf",
           "B"
          ],
          [
           310516,
           "B4  SC_CHES_UchsTenYearBusPlan FY 17-18 18.5.8 v5.pdf",
           "B"
          ],
          [
           46230,
           "008 File 6701 2.01.tif",
           "B"
          ],
          [
           789819,
           "Lessons Learned OP 15-03-16.JCB.docx",
           "B"
          ],
          [
           789716,
           "May 2015 UC Progress by Campus.pdf",
           "B"
          ],
          [
           282159,
           "EQp1_Template_SubmittedOn_01122009.pdf",
           "B"
          ],
          [
           789608,
           "SC Biomed Bid Tabulation 07-29-09.pdf",
           "B"
          ],
          [
           372068,
           "4000-021 Small Project CEQA Checklist.rev2.xls",
           "B"
          ],
          [
           85429,
           "Porter B_ReviewDocumentRenderer-LEED Silver.pdf",
           "B"
          ],
          [
           752557,
           "Arboretum Gate-signed projsumm - ACF.pdf",
           "B"
          ],
          [
           605568,
           "6- SC TII Phase B Project Schedule.pdf",
           "B"
          ],
          [
           85464,
           "A-Porter B-Transportation Plan.pdf",
           "B"
          ],
          [
           694053,
           "BuildingGreen.com - EBN_ 14...pdf",
           "B"
          ],
          [
           179362,
           "File 1810 Certificate of Compliance 1-26-07.pdf",
           "B"
          ],
          [
           214740,
           "Cogen.OPmtg.Timeline.1.xls",
           "B"
          ],
          [
           789865,
           "4 CBB C bidtab-lumpsump V3.xlsx",
           "B"
          ],
          [
           789529,
           "Dec22-2004 UCSC-CSC Communication.pdf",
           "B"
          ],
          [
           548349,
           "Bulletin 007 UCSC Biomed DI Routing KJC edits.pdf",
           "B"
          ],
          [
           282046,
           "20090708.pdf",
           "B"
          ],
          [
           275544,
           "File 2739 Project Conditional Approval.pdf",
           "B"
          ],
          [
           231595,
           "Crown MM_EVP-CFO Brostrom 092621.pdf",
           "B"
          ],
          [
           789689,
           "160615 UC 2016 Projects.xlsx",
           "B"
          ],
          [
           599171,
           "2615-03 CDFG Form.pdf",
           "B"
          ],
          [
           725769,
           "c - EQ Credit 2 Spreadsheet.pdf",
           "B"
          ],
          [
           179721,
           "Alternative Materials & Methods Request.pdf",
           "B"
          ],
          [
           371855,
           "4000-016.E5.4000-016 Sins Labs Air Compressor Replace 90% CD Fire Review.pdf",
           "B"
          ],
          [
           337805,
           "Kresge College - IRS 2055.pdf",
           "B"
          ],
          [
           376275,
           "CCC Email Record Orozco 2017-01-31 1458.docx",
           "B"
          ],
          [
           95968,
           "6. LSU - Cost Plan Workbook (Fire Sprinklers) - W Sumbmittal.pdf",
           "B"
          ],
          [
           1167,
           "File 1400-095.B6 60% CD Review Transmittal.pdf",
           "B"
          ],
          [
           789487,
           "New Microsoft Word Document.docx",
           "B"
          ],
          [
           235613,
           "160623_UCSC Crown College MMA_Petition for Technical Infeasibility-DSA-AC_signed.pdf",
           "B"
          ],
          [
           789151,
           "100930  Coastal Biology DAB PRESENTATION EB 20.pdf",
           "B"
          ],
          [
           913506,
           "Community Bldg N&W Elev.jpg",
           "B"
          ],
          [
           790207,
           "DSA Review with Barry Ryan (4-24-2014).pdf",
           "B"
          ],
          [
           95973,
           "6. LSU - Cost Plan Workbook (Path Lighting) - W Sumbmittal.xlsm",
           "B"
          ],
          [
           225242,
           "File 2116 B6 Plan Review Approval Bid Set 2015.04.14.pdf",
           "B"
          ],
          [
           313940,
           "CreditFiles_SSc2_SSc2_Template_SubmittedOn_01072010#A7F1.pdf",
           "B"
          ],
          [
           789308,
           "CBB Sustainability Questions.docx",
           "B"
          ],
          [
           25046,
           "01-115684_006.pdf",
           "B"
          ],
          [
           944514,
           "SW_North.jpg",
           "B"
          ],
          [
           68693,
           "08800-110.1.pdf",
           "B"
          ],
          [
           913528,
           "01_Location_Plan.pdf",
           "B"
          ],
          [
           313973,
           "CreditFiles_EAc2_EAc2_Template_SubmittedOn_12172010#5C69.pdf",
           "B"
          ],
          [
           145149,
           "Santa CruzAttachment 1_Groups 1 2 3 Database Table_2020 11 1 - Copy.xlsx",
           "B"
          ],
          [
           789486,
           "Mail Bart - RE_ CA red-legged frog YLR Ponds.pdf",
           "B"
          ],
          [
           282290,
           "CSHC-Response EQc7.1_Thermal Confort Design_12-7-10.pdf",
           "B"
          ],
          [
           584026,
           "1894-RD NEMMT IA.pdf",
           "B"
          ],
          [
           96010,
           "LSU - Generators Site Plan.pdf",
           "B"
          ],
          [
           789476,
           "Alisa email extract.docx",
           "B"
          ],
          [
           235629,
           "UCSC Crown College_TI Petitions .zip",
           "B"
          ],
          [
           85416,
           "LEED pdfs 7-12-10.zip",
           "B"
          ],
          [
           85628,
           "TemplateRenderer.pdf",
           "B"
          ],
          [
           375398,
           "Plan Review Approval 11-26-02.pdf",
           "B"
          ],
          [
           280841,
           "2746.B12.Alterations to Room 301B JBEB BME Lab.pdf",
           "B"
          ],
          [
           338030,
           "F#_SC_Kresge College Academic_FINAL_10x24x2017.pdf",
           "B"
          ],
          [
           789449,
           "Master LEED M&R Calculator.xlsm",
           "B"
          ],
          [
           314053,
           "Presidents' Climate Commitment.pdf",
           "B"
          ],
          [
           85496,
           "Porter B C_L3.0_LEED-notes.pdf",
           "B"
          ],
          [
           789611,
           "SC Biomed Cap Outlay 072709.xls",
           "B"
          ],
          [
           944224,
           "LEED.CalcsSS6.1.pdf",
           "B"
          ],
          [
           337836,
           "Kresge Non-Academic - Bid Alternate Language 2019-02-07 DAL TFe.docx",
           "B"
          ],
          [
           804890,
           "6701-012 FM Plan Review Approval 07.14.21.pdf",
           "B"
          ],
          [
           337785,
           "190221_KRESGE_COSTDRIVERS_NOTES.docx",
           "B"
          ],
          [
           338224,
           "B4 Project Breakdown.xlsx",
           "B"
          ],
          [
           725765,
           "c - EQ Credit 8.3 Floor Plan.pdf",
           "B"
          ],
          [
           3448,
           "DSA-1.pdf",
           "B"
          ],
          [
           954612,
           "HCD, Approved Application with Inspection Report and Activity Report, SAMPLE, 1-13-12.pdf",
           "B"
          ],
          [
           964969,
           "Gmail - UCSC Hay Barn - News from the DSA – Barn Openings.pdf",
           "B"
          ],
          [
           338279,
           "DSA - Kresge Renovations.pdf",
           "B"
          ],
          [
           934341,
           "BioMed Safety Upg PH2 Smoke Detectors 6-26-17.docx",
           "B"
          ],
          [
           492196,
           "File 5507 B7 Application for Approval of Plans and Specs Access Compliance 09.04.97.pdf",
           "B"
          ],
          [
           913566,
           "Plan 2 Elevation.jpg",
           "B"
          ],
          [
           944206,
           "Sustainability at Porter How You Can Help_FINAL.pdf",
           "B"
          ],
          [
           337870,
           "2018 10 16 Phasing Matrix.pdf",
           "B"
          ],
          [
           337827,
           "KRESGE NON-ACADEMIC - Housing Phase 2 Loan Draw Sched.pdf",
           "B"
          ],
          [
           214756,
           "UCSC Cogen Model 10-24-2011 - Fackler Cogen.pdf",
           "B"
          ],
          [
           337907,
           "2018 11 05_Moore Foundation_update JG narrative_v5_Page_03.jpg",
           "B"
          ],
          [
           502404,
           "5520 SS1 Anthro Lab - DSA form and check.pdf",
           "B"
          ],
          [
           944305,
           "Porter A LEED Review Narrative Responses.pdf",
           "B"
          ],
          [
           599180,
           "File 9077 Request for Approval to Proceed or Encumber Funds.pdf",
           "B"
          ],
          [
           790189,
           "CBB_DSA_1-INC.pdf",
           "B"
          ],
          [
           680484,
           "Chief Hernandez Correspondence 9.7.01.pdf",
           "B"
          ],
          [
           789191,
           "100930  Coastal Biology DAB PRESENTATION EB 57.pdf",
           "B"
          ],
          [
           396430,
           "street permit.pdf",
           "B"
          ],
          [
           712899,
           "File 2739Approval to Bid.pdf",
           "B"
          ],
          [
           789516,
           "UC Santa Cruz Mail - Fwd_ Delaware Saffer Entrance Plan Comments.pdf",
           "B"
          ],
          [
           884299,
           "011119-5510-043-ADA Space Coordination.pdf",
           "B"
          ],
          [
           396224,
           "2015 Debris Report.pdf",
           "B"
          ],
          [
           179601,
           "Attachment C.pdf",
           "B"
          ],
          [
           85395,
           "EQA Final Report_Contractor Letter.pdf",
           "B"
          ],
          [
           789747,
           "scanned C Phase submittal.pdf",
           "B"
          ],
          [
           382063,
           "Fire Access & Design Attendee List.pdf",
           "B"
          ],
          [
           790202,
           "DSA_403.pdf",
           "B"
          ],
          [
           782899,
           "Desalination Plant Hazardous Materials Plan.pdf",
           "B"
          ],
          [
           358846,
           "File 3404.B12 First Appeal of DSRS.pdf",
           "B"
          ],
          [
           944279,
           "Porter A_WE1.1_Diagram.pdf",
           "B"
          ],
          [
           95949,
           "211300 - Fire Suppression Systems - Cowell.pdf",
           "B"
          ],
          [
           337891,
           "Figure 17 Program.jpg",
           "B"
          ],
          [
           788376,
           "4930.B7.4930.B7DGS0001.pdf",
           "B"
          ],
          [
           85784,
           "TemplateRenderer.pdf",
           "B"
          ],
          [
           179590,
           "SS6.2-Calcs&Support.Docs.pdf",
           "B"
          ],
          [
           313967,
           "CreditFiles_EAc1.3A_Microsoft Word - Responses to LEED DocumentationCredit1.3A#5F63.pdf",
           "B"
          ],
          [
           313909,
           "2009-08 Waste Management Report.pdf",
           "B"
          ],
          [
           790026,
           "10 CIB 7-16-14.xlsm",
           "B"
          ],
          [
           831606,
           "File 9097.B1. Working Project Summary.pdf",
           "B"
          ],
          [
           141478,
           "File 12051 Santa Clara FD Plan Check Requirements 05.31.09.pdf",
           "B"
          ],
          [
           913554,
           "F-2_Comm_Bldg_2_Floor.jpg",
           "B"
          ],
          [
           179592,
           "SS7.1 HEAT ISLAND AERIAL.jpg",
           "B"
          ],
          [
           910554,
           "4925.B4.4925.B4PlanReviewTransmittal.pdf",
           "B"
          ],
          [
           328265,
           "3101.B2.3101.B2 - Bid for Lump Sum Contract, December 1968 (#2).pdf",
           "B"
          ],
          [
           95905,
           "File 10081.B1 Action Item VC Not Signed.docx",
           "B"
          ],
          [
           310531,
           "DSA_91-Porter.pdf",
           "B"
          ],
          [
           548910,
           "2009-11 Waste Management Report.pdf",
           "B"
          ],
          [
           956415,
           "LEED BD+C New Silver Scorecard.pdf",
           "B"
          ],
          [
           95938,
           "LSU - Generator Upgrades - DD Drawings.pdf",
           "B"
          ],
          [
           95932,
           "LSU - GFF_costplanworkbook - P 6.1.15.xlsm",
           "B"
          ],
          [
           577338,
           "8347.B1.Concerns about the P.E facilities being constructed near the cowell provost's house Correspondence.pdf",
           "B"
          ],
          [
           376312,
           "20170110_1-16-121SCR_ResubSec6.pdf",
           "B"
          ],
          [
           944549,
           "Application Form DSA-1 for Porter A.pdf",
           "B"
          ],
          [
           694253,
           "09 EQ Credit 4.3 v.2.2a.pdf",
           "B"
          ],
          [
           694229,
           "04 WE Credit 2.pdf",
           "B"
          ],
          [
           235601,
           "2358.B6.Crown College - Major Maintenance & ADA Upgrade.pdf",
           "B"
          ],
          [
           78097,
           "File 10061.B7. DGS Forms.pdf",
           "B"
          ],
          [
           789103,
           "100930  Coastal Biology DAB PRESENTATION EB_Page_23.jpg",
           "B"
          ],
          [
           789975,
           "9 - CBB GFF CIB-signed.pdf",
           "B"
          ],
          [
           282721,
           "Regents 109 - Biomed EIS Summary.pdf",
           "B"
          ],
          [
           726333,
           "Merril - Existing Conditions.zip",
           "B"
          ],
          [
           85771,
           "Sustainability at Porter How You Can Help Brochure.pdf",
           "B"
          ],
          [
           396467,
           "218SC2015.pdf",
           "B"
          ],
          [
           944285,
           "RE  Porter A LEED calcs.msg",
           "B"
          ],
          [
           375396,
           "fire alarm battery test .pdf",
           "B"
          ],
          [
           281996,
           "File 2806 B10 Letter of Transmittal.pdf",
           "B"
          ],
          [
           694142,
           "06 MR Credit 3.3.pdf",
           "B"
          ],
          [
           789498,
           "Pedaling Towards Sustainable Stewardship MILESTONES.xlsx",
           "B"
          ],
          [
           338261,
           "01-118546 Receipt of Material.pdf",
           "B"
          ],
          [
           313956,
           "CreditFiles_EAc1.3A_BEPU 2-Baseline#AFB7.pdf",
           "B"
          ],
          [
           789120,
           "100930  Coastal Biology DAB PRESENTATION EB_Page_40.jpg",
           "B"
          ],
          [
           49248,
           "39 File 6701 E3.02.2B.tif",
           "B"
          ],
          [
           175534,
           "1731.B6. State Fire Marshal.pdf",
           "B"
          ],
          [
           693733,
           "toilet & locker assemblies.pdf",
           "B"
          ],
          [
           375392,
           "File 4012 Plan Review Transmittal 12-23-03.pdf",
           "B"
          ],
          [
           356610,
           "Kerr Hall 317 Renovation - Draft Proj Sum 2019-09-04.pdf",
           "B"
          ],
          [
           944300,
           "BEPU-Proposed.pdf",
           "B"
          ],
          [
           95981,
           "ESTIMATE SUMMARY (without details).pdf",
           "B"
          ],
          [
           110854,
           "2300.DSA.11.6.15.pdf",
           "B"
          ],
          [
           871972,
           "3239 VOL_2 FM Plan Review Approval 10.24.2024.pdf",
           "B"
          ],
          [
           374914,
           "File 4007 Defective Roof Membrane 12-1-93.pdf",
           "B"
          ],
          [
           944553,
           "DSA Drawing Comments Porter A .pdf",
           "B"
          ]
         ],
         "hovertemplate": "tag=%{customdata[2]}<br>umap_x=%{x}<br>umap_y=%{y}<br>file_id=%{customdata[0]}<br>filename=%{customdata[1]}<extra></extra>",
         "legendgroup": "B",
         "marker": {
          "color": "#AA0DFE",
          "line": {
           "width": 0
          },
          "opacity": 0.75,
          "size": 7,
          "symbol": "circle"
         },
         "mode": "markers",
         "name": "B",
         "showlegend": true,
         "type": "scattergl",
         "x": {
          "bdata": "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",
          "dtype": "f4"
         },
         "xaxis": "x",
         "y": {
          "bdata": "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",
          "dtype": "f4"
         },
         "yaxis": "y"
        },
        {
         "customdata": [
          [
           338965,
           "4.2 Agriculture and Forestry Resources.pdf",
           "D"
          ],
          [
           790880,
           "Draft schedule for RAP noise analysis.xlsx",
           "D"
          ],
          [
           3473,
           "Ancient DNA signed EIC.pdf",
           "D"
          ],
          [
           337892,
           "Figure 17 Program.pdf",
           "D"
          ],
          [
           781882,
           "File 4801-034.D1 800 Loop Paving Project Description.pdf",
           "D"
          ],
          [
           478212,
           "5300-048.D1.Extension for Stormwater Infrastructure Improvement Project 33413WQ04 - CCRWQCB Approval (10-14-15).pdf",
           "D"
          ],
          [
           579709,
           "Great Meadow Bike Path Improvement Project - Screencheck Draft Initial Study.docx",
           "D"
          ],
          [
           579685,
           "2018 02 16 CEQA Screening Checklist - Meadow Bike Path.xls",
           "D"
          ],
          [
           790873,
           "Additional Noise Analysis 5-23-14.pdf",
           "D"
          ],
          [
           875731,
           "4.14 Recreation.pdf",
           "D"
          ],
          [
           214836,
           "2015-08-_cogen-usts-closure-report.pdf",
           "D"
          ],
          [
           702910,
           "2513.D1.FEMA Appeal.pdf",
           "D"
          ],
          [
           579686,
           "2018 07 06 8500-033 Great Meadow Bike Path PII - Plant Survey Report.pdf",
           "D"
          ],
          [
           391392,
           "4900-045.D3.WO00408746 Small Project CEQA Screening Checklist rev2.pdf",
           "D"
          ],
          [
           836406,
           "3124.D1. Earth and Marine Labs Environmental Review.pdf",
           "D"
          ],
          [
           338975,
           "7 References and Preparers.pdf",
           "D"
          ],
          [
           826820,
           "NOP Cover letter",
           "D"
          ],
          [
           984204,
           "EnvAssessment_Drawing.pdf",
           "D"
          ],
          [
           588501,
           "File 8941 Programmatic Categorical Exclusion.pdf",
           "D"
          ],
          [
           9138,
           "File 6004 Active Learning Classroom signed EIC.pdf",
           "D"
          ],
          [
           782090,
           "File 4823.D1 Notice of Exemption.pdf",
           "D"
          ],
          [
           75138,
           "10006.D2.Fire protection environmental environmental impact  checklist.pdf",
           "D"
          ],
          [
           478215,
           "5300-048.D1.Request for Work Variance - CDFW Approval (10-12-15).pdf",
           "D"
          ],
          [
           337888,
           "Figure 15 Site Preservation Plan.pdf",
           "D"
          ],
          [
           734454,
           "5507.D2.ModularStudentHousingEICmult.pdf",
           "D"
          ],
          [
           790850,
           "UC Santa Cruz Mail - Cbc blue lights.pdf",
           "D"
          ],
          [
           829665,
           "File 9065 D1 UCSC Hydrology Excerpt.pdf",
           "D"
          ],
          [
           136580,
           "11408-001.D2.LRDPAmendmentForStudentHousingEIRScopingMeeting0001.pdf",
           "D"
          ],
          [
           179923,
           "McHenry MMP checklist-new format 4-08.xls",
           "D"
          ],
          [
           786601,
           "4922.D3 Noise Table and Info.pdf",
           "D"
          ],
          [
           826789,
           "4-Setting,ImpMM.doc",
           "D"
          ],
          [
           874978,
           "P225503 UCSC-THIMAND LABS REV 2.pdf",
           "D"
          ],
          [
           1027681,
           "SCIPP Assembly_Test Lab draft EIC2.docx",
           "D"
          ],
          [
           492209,
           "File 5507 D1 College 9 & 10 Temp Mod Hsg Unit EIC Forms 05.21.97.pdf",
           "D"
          ],
          [
           913758,
           "E_Ranch_View_Terrace.pdf",
           "D"
          ],
          [
           732723,
           "11021.D3.CEQA Small Proj. Desc. Form.xls",
           "D"
          ],
          [
           338859,
           "CEQA FINDINGS - Kresge.pdf",
           "D"
          ],
          [
           790881,
           "I&W Noise Memo 052314.docx",
           "D"
          ],
          [
           338888,
           "2 Project Description 4.pdf",
           "D"
          ],
          [
           965213,
           "Herbert Inv#1677-20150223_162142.pdf",
           "D"
          ],
          [
           487656,
           "File 5404.D1 Build Schedule(5).pdf",
           "D"
          ],
          [
           311051,
           "Porter Dining EIC-signed-corrected project number.pdf",
           "D"
          ],
          [
           912508,
           "HYT Responses to 5305-015A 083120 RCC 100% CD Dwgs  w comments.pdf",
           "D"
          ],
          [
           785656,
           "YLRbeachfigure1 3.jpg",
           "D"
          ],
          [
           689692,
           "EIC Signed September 2009.pdf",
           "D"
          ],
          [
           338955,
           "4.1 Aesthetics.pdf",
           "D"
          ],
          [
           306991,
           "EIC Signed.pdf",
           "D"
          ],
          [
           965207,
           "LUMBER INSPECTION CERT (1).pdf",
           "D"
          ],
          [
           586225,
           "Backup of McLaughlin #8900-048, Small Proj. Desc. Form 2011.rev-1.xlk",
           "D"
          ],
          [
           361386,
           "UQA CEQA Findings.pdf",
           "D"
          ],
          [
           805097,
           "File 6801.D2 EIR Draft 5-11-09.pdf",
           "D"
          ],
          [
           826801,
           "4.5-Cultural.doc",
           "D"
          ],
          [
           712914,
           "File 2739 JBEB Marssim Day Plan.pdf",
           "D"
          ],
          [
           356882,
           "File 3308 CEQA Study.pdf",
           "D"
          ],
          [
           689543,
           "10099-016.D2.EIC Signed.pdf",
           "D"
          ],
          [
           474274,
           "5201.D1.Campus Drainage Plan.pdf",
           "D"
          ],
          [
           740720,
           "1302-026A.D.1302-026A.D1.ArborestTreeReview.docx",
           "D"
          ],
          [
           135918,
           "11407.D1.EIRaddenum10001.pdf",
           "D"
          ],
          [
           971494,
           "factsheet_partners.pdf",
           "D"
          ],
          [
           901565,
           "EIC Signed.pdf",
           "D"
          ],
          [
           338969,
           "4.6 Cultural and Historical Resources.pdf",
           "D"
          ],
          [
           740959,
           "2318-069B.D3.2017 06 16 2318-069B CMA Bldg. 8 Retaining Wall - CEQA Assessment Checklist.pdf",
           "D"
          ],
          [
           236029,
           "Crown college Major Maint and Renov EIC-UCOP signed.pdf",
           "D"
          ],
          [
           474279,
           "5201.D1.EIR.pdf",
           "D"
          ],
          [
           689540,
           "10099-013.D2.EIC Signed.pdf",
           "D"
          ],
          [
           156,
           "EIC Big Creek Reserve_Road Repair_v2_2020-12-20.docx",
           "D"
          ],
          [
           272316,
           "File 2700-126 BME 287 Renovation signed EIC.pdf",
           "D"
          ],
          [
           338835,
           "3238.D1.EnviromentalConsultingServicesKresgeCollegeD1.pdf",
           "D"
          ],
          [
           965245,
           "UCSC_HayBarn_NC-4 signed.pdf",
           "D"
          ],
          [
           82914,
           "barn H ada path EIC signed.pdf",
           "D"
          ],
          [
           478205,
           "5300-048.D1.File 9077 Streambed Alt Agreement.pdf",
           "D"
          ],
          [
           870959,
           "2746-BME Teaching Lab EIC-signed.pdf",
           "D"
          ],
          [
           111102,
           "10637.D2.EnvironmentalImpactClassificationD20001.pdf",
           "D"
          ],
          [
           805162,
           "1.0 Executive Summary.final.pdf",
           "D"
          ],
          [
           363856,
           "3608-0035_Aquaculture_Lab_24x36.pdf",
           "D"
          ],
          [
           282793,
           "I-1 & I-2 numbered.pdf",
           "D"
          ],
          [
           111107,
           "10637.D3.10639&10637EICEIRD30.pdf",
           "D"
          ],
          [
           144,
           "12056-003.D4.LandelsHillBigCreekReverveFacilityImprovementMMPD4.pdf",
           "D"
          ],
          [
           474282,
           "5201.D1.Preparation of EIR.pdf",
           "D"
          ],
          [
           805163,
           "CEQA-drainageAreas-1.pdf",
           "D"
          ],
          [
           338837,
           "3238.D1.USCSCDEIRD10001.pdf",
           "D"
          ],
          [
           72930,
           "0101-01.D.Asbestos Sample Analysis Request.pdf",
           "D"
          ],
          [
           78509,
           "EIC Signed_Thimann.pdf",
           "D"
          ],
          [
           214861,
           "File 2113 Email Annual Report THP No. 1-12-002 SCR .pdf",
           "D"
          ],
          [
           790882,
           "I&W Noise Memo 052314.pdf",
           "D"
          ],
          [
           135237,
           "11405.D4.LRDP Monitoring Program, Operations Handbook.pdf",
           "D"
          ],
          [
           579054,
           "File 8500-026 Campuswide Stair Replacement 2014 signed EIC.pdf",
           "D"
          ],
          [
           76445,
           "EIC Signed.pdf",
           "D"
          ],
          [
           703400,
           "9800-010.D1.2019 11 13 9800-010 Tree Removal Memo - FINAL.pdf",
           "D"
          ],
          [
           492208,
           "File 5507 D1 Attachment Memo for Draft EIC 05.21.97.pdf",
           "D"
          ],
          [
           759439,
           "Final EIR.pdf",
           "D"
          ],
          [
           12410,
           "Air Samples Results A259528_REP01.pdf",
           "D"
          ],
          [
           913682,
           "3.0-15.pdf",
           "D"
          ],
          [
           487654,
           "File 5404.D1 Build Schedule(3).pdf",
           "D"
          ],
          [
           338839,
           "VI CEQA-Understanding the 50-year Threshold.pdf",
           "D"
          ],
          [
           805182,
           "NOC.pdf",
           "D"
          ],
          [
           492220,
           "File 5507 D4 New College 9 and 10 Mitigation Measures Checklist 02.28.90.pdf",
           "D"
          ],
          [
           474297,
           "5201.D4.Summary.pdf",
           "D"
          ],
          [
           790870,
           "MSC Projects Mit Mon table from EIR.Spec.References- FA_July 7.docx",
           "D"
          ],
          [
           593603,
           "EIC Signed.pdf",
           "D"
          ],
          [
           832182,
           "4910.D2.CoastalMarine_Environmental_Impact.pdf",
           "D"
          ],
          [
           361636,
           "NOD.pdf",
           "D"
          ],
          [
           913740,
           "5707 Final EIR.pdf",
           "D"
          ],
          [
           588500,
           "File 8941 Environmental Impact Classification.pdf",
           "D"
          ],
          [
           780639,
           "Small Project CEQA Screening Checklist.rev2.xls",
           "D"
          ],
          [
           256065,
           "2635A Merrill Moat Fire Lane signed EIC.pdf",
           "D"
          ],
          [
           93329,
           "File 10070.D2 EIC Report.pdf",
           "D"
          ],
          [
           46007,
           "Certifications.pdf",
           "D"
          ],
          [
           1027677,
           "Backup of NS2-SCIPP Assembly and Test Lab Small Proj. Desc. Form 2011.rev.xlk",
           "D"
          ],
          [
           492224,
           "File 5507 D4 Project Specific LRDP Mitigation Measures Draft 07.17.97.pdf",
           "D"
          ],
          [
           657106,
           "File FTO-1200-048 EIC JPA revised UCOP sign.pdf",
           "D"
          ],
          [
           136519,
           "2007-08 AMMR Table 1-date.pdf",
           "D"
          ],
          [
           917354,
           "04-03-bio-PSB",
           "D"
          ],
          [
           41029,
           "3.7Geology Final final web.pdf",
           "D"
          ],
          [
           790852,
           "SC Coastal Biology Building.UCOP signed EIC.pdf",
           "D"
          ],
          [
           913705,
           "4.04-04.pdf",
           "D"
          ],
          [
           474283,
           "5201.D1.Soil Investigation.pdf",
           "D"
          ],
          [
           2318,
           "Small Project CEQA Screening Checklist.rev2.xls",
           "D"
          ],
          [
           884270,
           "Final IS and MND.pdf",
           "D"
          ],
          [
           214846,
           "File 2113 Notice of Completion.pdf",
           "D"
          ],
          [
           338973,
           "5 Other CEQA Required Discussions.pdf",
           "D"
          ],
          [
           143131,
           "File 12058 Big Creek Facil Improv signed EIC.pdf",
           "D"
          ],
          [
           912498,
           "01-HYT_KBDHYT01_Inv_20-0903.pdf",
           "D"
          ],
          [
           361376,
           "File 3503 D1 Aldecoa Memo Quarry Repair Project 05.15.92.pdf",
           "D"
          ],
          [
           281475,
           "EIC Signed.pdf",
           "D"
          ],
          [
           712915,
           "File 2739 Radiation Safety Academy Invoice #2.pdf",
           "D"
          ],
          [
           337715,
           "APRIL17_KRESGE_EIRSCOPING_FLYER.pdf",
           "D"
          ],
          [
           179862,
           "Ultimate Parking and ADA Access.pdf",
           "D"
          ],
          [
           40997,
           "Environmental Summary MSC Projects.pdf",
           "D"
          ],
          [
           577356,
           "8347.D1.Physical Education Facilities 1987 Swimming Pool.pdf",
           "D"
          ],
          [
           702896,
           "2513.D1.Earthquake Repair FEMA Memo.pdf",
           "D"
          ],
          [
           580696,
           "File 8531-005.D3 Lake and Streambed Alteration Agreement.pdf",
           "D"
          ],
          [
           136440,
           "1988-31.pdf",
           "D"
          ],
          [
           975534,
           "1500-027.D.CEQA_Screening_Checklist_xls.xls",
           "D"
          ],
          [
           868880,
           "4910.D2.Environmental Impact Classification.pdf",
           "D"
          ],
          [
           282810,
           "RegionalLocationMap(Fig3-2).pdf",
           "D"
          ],
          [
           76482,
           "EIC Signed.pdf",
           "D"
          ],
          [
           338951,
           "1 Introduction.pdf",
           "D"
          ],
          [
           361895,
           "3505.D3.N.O.CEICFromD30001.pdf",
           "D"
          ],
          [
           369496,
           "File 3717.2.D1-Correspondence-Oakes Faculty Office Addition-Environmental Impact.pdf",
           "D"
          ],
          [
           76446,
           "10050-006  EIC Big Creek Circle M Ranch.pdf",
           "D"
          ],
          [
           703350,
           "9800-010.D4.Pages from 2005feir-IV-4.0-mmp-unlocked.pdf",
           "D"
          ],
          [
           175544,
           "1731.D1.Copy of Bulk Asbestos Analysis- Correspondence.pdf",
           "D"
          ],
          [
           472830,
           "Marine Mammal Pool Expansion draft EIC-Rev0909FA.xlsx",
           "D"
          ],
          [
           478214,
           "5300-048.D1.Info for permit reporting, 11-12-15.pdf",
           "D"
          ],
          [
           478208,
           "5300-048.D1.FinalIS-Checklist-MooreCr.doc",
           "D"
          ],
          [
           338971,
           "4.8 Geology and Soils.pdf",
           "D"
          ],
          [
           875728,
           "4.11 Noise.pdf",
           "D"
          ],
          [
           3248,
           "DPP Narrative R1.doc",
           "D"
          ],
          [
           1045200,
           "Barn H ADA path.eic.xls",
           "D"
          ],
          [
           583432,
           "8800-019 parking pay stations signed EIC - Copy.pdf",
           "D"
          ],
          [
           337890,
           "Figure 16 Site Preservation Details.pdf",
           "D"
          ],
          [
           282781,
           "CSHC NOD mailing list.doc",
           "D"
          ],
          [
           478201,
           "5300-048.D1.CorrespondanceEmails.pdf",
           "D"
          ],
          [
           744807,
           "CWLF CEQA Form.xls",
           "D"
          ],
          [
           492225,
           "File 5507 D4 Project-Specific LRDP Measures Checklist.pdf",
           "D"
          ],
          [
           74159,
           "Recycling Sites, Scope 3-11-11.pdf",
           "D"
          ],
          [
           136524,
           "MMP_2008-09.pdf",
           "D"
          ],
          [
           579695,
           "2019 05 09 8500-033 CEQA Design Approval.docx",
           "D"
          ],
          [
           490513,
           "EIC Signed.pdf",
           "D"
          ],
          [
           965248,
           "2013 Reg_Docs_WBA (1).doc",
           "D"
          ],
          [
           338943,
           "Kresge Mit Details tmg.pdf",
           "D"
          ],
          [
           580700,
           "File 8531-005.D3 Pre-Construction Notification - Nationwide Permit #27.pdf",
           "D"
          ],
          [
           359111,
           "3405.D1.Department of Parks and Recreation Correspondence.pdf",
           "D"
          ],
          [
           586228,
           "McLaughlin #8900-048, Small Project CEQA Screening Checklist.1-26-12.rev2.pdf",
           "D"
          ],
          [
           361387,
           "UQA Final IS-complete VC signed.pdf",
           "D"
          ],
          [
           670061,
           "5303-036.D1.Skyline Engineering Asbestos and Lead Survey Report.pdf",
           "D"
          ],
          [
           744847,
           "UCSC Low Flow Fixture - ESI representatives.jpg",
           "D"
          ],
          [
           545658,
           "6628.D2 Environmental Impact Classification Water Well.pdf",
           "D"
          ],
          [
           376342,
           "EH&S Facility EIC re-signed UCOP 8-22-14.pdf",
           "D"
          ],
          [
           913782,
           "DRAFT RVT IA  1Jun04.pdf",
           "D"
          ],
          [
           338869,
           "Kresge NOC distribution.xlsx",
           "D"
          ],
          [
           338961,
           "4.15 Transportation Traffic.pdf",
           "D"
          ],
          [
           703401,
           "9800-010.D1.2019 11 13 9800-010 Tree Removal Memo - SIGNED.pdf",
           "D"
          ],
          [
           478216,
           "5300-048.D1.Winterization Plan (Douvia Adds).docx",
           "D"
          ],
          [
           474293,
           "5201.D4.LDRP Evidence.pdf",
           "D"
          ],
          [
           111105,
           "signed NOD - Copy.pdf",
           "D"
          ],
          [
           832977,
           "thin films mitigation monitoring memo.doc",
           "D"
          ],
          [
           281474,
           "EIC Signed.pdf",
           "D"
          ],
          [
           135920,
           "11407.D2.Field Data 2010-2011.pdf",
           "D"
          ],
          [
           23569,
           "EIC Signed.pdf",
           "D"
          ],
          [
           579708,
           "Great Meadow Bike Path Improvement Project - Screencheck Draft Initial Study-comment.pdf",
           "D"
          ],
          [
           135922,
           "11407.D2.WETS Data.pdf",
           "D"
          ],
          [
           913720,
           "5707 DEIR Secs 4.05 - 4.11.pdf",
           "D"
          ],
          [
           363466,
           "File 3608-010.D3 Farm and Arboretum EIS 7-1990.pdf",
           "D"
          ],
          [
           614952,
           "Final UCSC Recycling Yard Preconstruction Survey Report  (05-27-2016).pdf",
           "D"
          ],
          [
           874503,
           "File 7401 Notice of Availability 11-8-01.pdf",
           "D"
          ],
          [
           579245,
           "Appendix D.pdf",
           "D"
          ],
          [
           703356,
           "9800-010.D4.UCSC-WestSewer_WEAP-Cultural_05052020.docx",
           "D"
          ],
          [
           468650,
           "Mammal Pools NOD MAILING LABELS - Copy.docx",
           "D"
          ],
          [
           489860,
           "Memorandum and Correspondence.pdf",
           "D"
          ],
          [
           94907,
           "signed EIC.pdf",
           "D"
          ],
          [
           913640,
           "000TOC_DEIR.pdf",
           "D"
          ],
          [
           338864,
           "3 Response to Comments.pdf",
           "D"
          ],
          [
           805183,
           "NOD to SCH 2009.07.14.pdf",
           "D"
          ],
          [
           965198,
           "1326.D1.HayBarnTreatmentsOfHistoricPropertyD10001.pdf",
           "D"
          ],
          [
           719026,
           "Steve P email_ cooling tower mitigation_.pdf",
           "D"
          ],
          [
           912496,
           "HYT Proposal for Rachel Carson Fire Detection and Alarm_2020-LR Comments.pdf",
           "D"
          ],
          [
           614940,
           "9802 Recycling yard signed EIC.pdf",
           "D"
          ],
          [
           474285,
           "5201.D3.Enviormental Impact Report.pdf",
           "D"
          ],
          [
           489740,
           "File 5502.D4 Stage Update.pdf",
           "D"
          ],
          [
           955194,
           "Transmittal.pdf",
           "D"
          ],
          [
           337709,
           "5M_Alternatives.pdf",
           "D"
          ],
          [
           805165,
           "CEQA-ProposedStormCalcs-2.pdf",
           "D"
          ],
          [
           965243,
           "Signed NOE.pdf",
           "D"
          ],
          [
           917343,
           "NOD.pdf",
           "D"
          ],
          [
           214855,
           "Cogen tree  Map 2113 7-24-2012.pdf",
           "D"
          ],
          [
           40993,
           "File 4933 NOD-signed.pdf",
           "D"
          ],
          [
           307261,
           "UC Santa Cruz Mail - Filling out the CEQA screening assessment checklist.pdf",
           "D"
          ],
          [
           338879,
           "NOP form-Kresge.pdf",
           "D"
          ],
          [
           212,
           "12056-099.D2.EICLandelsHill-BigCreekReverveD20001.pdf",
           "D"
          ],
          [
           913663,
           "500Alternatives_DEIR.pdf",
           "D"
          ],
          [
           780638,
           "4506-003A Cafe Iveta lease EIC.pdf",
           "D"
          ],
          [
           913707,
           "4.04-06.pdf",
           "D"
          ],
          [
           214870,
           "AK email 5-16.pdf",
           "D"
          ],
          [
           485390,
           "5304-015 Coll 8_Kresge Academic Elevators EIC signed Latham.pdf",
           "D"
          ],
          [
           13830,
           "NOE.pdf",
           "D"
          ],
          [
           364436,
           "EIC Signed.pdf",
           "D"
          ],
          [
           117283,
           "10640 EIC Materials Lab Ph 2 EIC w VC Latham signature.pdf",
           "D"
          ],
          [
           85971,
           "EIC Signed.pdf",
           "D"
          ],
          [
           579727,
           "20.06.02 8500-030 Grassland Map.pdf",
           "D"
          ],
          [
           368772,
           "3715.D2 Environmental Impact Forms.pdf",
           "D"
          ],
          [
           965201,
           "1326.D2.HayBarnEICD2.pdf",
           "D"
          ],
          [
           790897,
           "741_Transmittal_01-15-10_Final_Report.pdf",
           "D"
          ],
          [
           832979,
           "Thin Films NOD dist 10-19-101.xls",
           "D"
          ],
          [
           786603,
           "4922.D3 Publication of Negative Declaration and Addendum.pdf",
           "D"
          ],
          [
           136522,
           "2007-08 AMMR Table 4-date.pdf",
           "D"
          ],
          [
           135066,
           "Final IS.pdf",
           "D"
          ],
          [
           917373,
           "05-alts-PSB",
           "D"
          ],
          [
           786932,
           "4923.D2.4923.D2.EIC.pdf",
           "D"
          ],
          [
           338863,
           "2 Introduction.pdf",
           "D"
          ],
          [
           586787,
           "File 8900-061 Coolidge Drive UCOP signed EIC.pdf",
           "D"
          ],
          [
           487651,
           "File 5404.D1 Budget(3).pdf",
           "D"
          ],
          [
           587016,
           "8900-069.D3.8900-069 Small Project CEQA Screening Checklist rev2.xls",
           "D"
          ],
          [
           83100,
           "EIC Signed.pdf",
           "D"
          ],
          [
           361382,
           "File 3503 D1 Transmittal for S. Raas 12.04.89.pdf",
           "D"
          ],
          [
           902182,
           "EIC Signed.pdf",
           "D"
          ],
          [
           179858,
           "Environmental Assessment Initail Project Description.pdf",
           "D"
          ],
          [
           76467,
           "EIC Signed.pdf",
           "D"
          ],
          [
           984205,
           "EnvAssessment.pdf",
           "D"
          ],
          [
           703345,
           "9800-010.D3.2019 08 09 Sewer Replace CEQA Memo - draft.docx",
           "D"
          ],
          [
           214854,
           "Cogen Replace Phase 1 Mitigation checklist.xlsx",
           "D"
          ],
          [
           489734,
           "File 5502.D1 Apartment EIR Issues.pdf",
           "D"
          ],
          [
           965212,
           "Herbert Inv 1678-20150210_130808.pdf",
           "D"
          ],
          [
           492212,
           "File 5507 D1 Mitigation Monitoring 10.13.98.pdf",
           "D"
          ],
          [
           703347,
           "9800-010.D4.2020 05 05 9800-010 Worker Envi Awareness.docx",
           "D"
          ],
          [
           179872,
           "NOP_Governor's Office of Planning and Research.pdf",
           "D"
          ],
          [
           1114,
           "A212887_REP01.pdf",
           "D"
          ],
          [
           1027683,
           "Small Project CEQA Screening Checklist.rev2.xls",
           "D"
          ],
          [
           79018,
           "10063.D2 EIC Forms.pdf",
           "D"
          ],
          [
           311052,
           "Porter Dining EIC-signed.pdf",
           "D"
          ],
          [
           864137,
           "File 9097 TIIPA OTB Report BR 220 - Final.pdf",
           "D"
          ],
          [
           143128,
           "12058.D1.BigCreekImprovmentsCorrespondenceD1.pdf",
           "D"
          ],
          [
           742417,
           "WO00409158 Small Project CEQA Screening Checklist rev2.pdf",
           "D"
          ],
          [
           579249,
           "CEQA Findings Bike Path.pdf",
           "D"
          ],
          [
           12415,
           "B291985_COC01.pdf",
           "D"
          ],
          [
           891597,
           "EIC Signed.pdf",
           "D"
          ],
          [
           362926,
           "3600-012 Hahn Art Building Re-roof signed EIC.pdf",
           "D"
          ],
          [
           884268,
           "6701 D3 Biomedical Sciences Facility.pdf",
           "D"
          ],
          [
           885477,
           "File 8946 NOE.pdf",
           "D"
          ],
          [
           893089,
           "Infill Apartments EIC-campus signed.pdf",
           "D"
          ],
          [
           78507,
           "EIC Signed.pdf",
           "D"
          ],
          [
           588499,
           "Fiel 8941 Programmatic Categorical Exclusion copy.pdf",
           "D"
          ],
          [
           826776,
           "EIC Signed.pdf",
           "D"
          ],
          [
           468649,
           "Mammal Pools NOD Dist-1.docx",
           "D"
          ],
          [
           338862,
           "1 Executive Summary.pdf",
           "D"
          ],
          [
           1105,
           "1400-093A 02080 Asbestos Abatement Spec_AR-1.doc",
           "D"
          ],
          [
           805174,
           "ECI Findings final.pdf",
           "D"
          ],
          [
           586226,
           "McLaughlin #8900-048, Small Proj. Desc. Form 2011.rev-1.pdf",
           "D"
          ],
          [
           338810,
           "CRLF_Habitat Assessment UCSC_Kresge College_20180522-FINAL.pdf",
           "D"
          ],
          [
           826809,
           "8-Changes.doc",
           "D"
          ],
          [
           381338,
           "4200.D1.FamilyHousingWestCorrespondence7_03_18.pdf",
           "D"
          ],
          [
           875730,
           "4.13 Public Services.pdf",
           "D"
          ],
          [
           913622,
           "5707.D1.RVT EIR Hearing Comments.pdf",
           "D"
          ],
          [
           732722,
           "11021.D2.Campus Wide Fire Hydrants Replacement EIC.pdf",
           "D"
          ],
          [
           743395,
           "UC Santa Cruz Mail - Re_ CEQA Screening Checklist - File 1302-024.pdf",
           "D"
          ],
          [
           668963,
           "2318-069B.D2.2017 06 26 CMA Bldg 8 retaining wall EIC signed.pdf",
           "D"
          ],
          [
           913676,
           "3.0-09.pdf",
           "D"
          ],
          [
           790876,
           "CBB permit reporting matrix.xlsx",
           "D"
          ],
          [
           703404,
           "9800-010.D1.2019 10 14 9800-010 Tree Removal EMAIL Arboretum Acceptance.pdf",
           "D"
          ],
          [
           478476,
           "5300-060-Rachel Carson-Small Project CEQA Screening Checklist.rev2.xls",
           "D"
          ],
          [
           362875,
           "File 3600-008 EIC (revised) form.pdf",
           "D"
          ],
          [
           85974,
           "NOC.pdf",
           "D"
          ],
          [
           790891,
           "UCSC_Marine_Sciences_BuOw_Survey_Report_03-28-14.pdf",
           "D"
          ],
          [
           175543,
           "1731.D1.Copy of Bulk Asbestos Analysis for PM- Correspondence.pdf",
           "D"
          ],
          [
           13829,
           "EIC Signed.pdf",
           "D"
          ],
          [
           664,
           "1400-093.D.ASBESTOS AND CONSTRUCTION RELATED LEAD REMOVAL SPECIFICATIONS.doc",
           "D"
          ],
          [
           805160,
           "File 6801 Re- EIR Project Limit of Work 2-20-09.pdf",
           "D"
          ],
          [
           337731,
           "180510_KRESGEEIR_PROJECTDESCRIPTION_Campus comments_A10_TEF_SGA_merged comments.docx",
           "D"
          ],
          [
           835151,
           "EIC Signed.pdf",
           "D"
          ],
          [
           381341,
           "4200.D2.FamilyHousingWestConsultantSelection.pdf",
           "D"
          ],
          [
           790890,
           "GretchenFlor's Schedule.pdf",
           "D"
          ],
          [
           670030,
           "5300-017.A.HTH-UCSC Rachel Carson College Bats.pdf",
           "D"
          ],
          [
           487657,
           "File 5404.D1 Build Schedule.pdf",
           "D"
          ],
          [
           913717,
           "Project__Specific_LRDP MM.pdf",
           "D"
          ],
          [
           503239,
           "5601 DAF MMP checklist-Stages 3-4-complete.xls",
           "D"
          ],
          [
           545125,
           "6610.D2.hamilton environmental impact classification.pdf",
           "D"
          ],
          [
           136532,
           "MMP_Table3_2009-10.pdf",
           "D"
          ],
          [
           874163,
           "File 6201-029 EIC 10-31-07.pdf",
           "D"
          ],
          [
           834997,
           "File 4928 Fax - Predatory Bird Research Group.pdf",
           "D"
          ],
          [
           381336,
           "4200.D1.FamilyHousingWestCorrespondence6_21_18.pdf",
           "D"
          ],
          [
           742253,
           "Small Project CEQA Screening Checklist rev2, 8600-002, Remove & Replace Footbridge at Hahn.xls",
           "D"
          ],
          [
           891475,
           "12054 WaterLab signed EIC.pdf",
           "D"
          ],
          [
           579728,
           "20.07.09 8500-033 Grassland Seeding & Monitoring.pdf",
           "D"
          ],
          [
           282763,
           "CSHC NOD.pdf",
           "D"
          ],
          [
           135915,
           "11407.D2.Revarification.pdf",
           "D"
          ],
          [
           535746,
           "6202.D2.EIC Form.pdf",
           "D"
          ],
          [
           136527,
           "MMP_Table3_2008-09.pdf",
           "D"
          ],
          [
           179863,
           "50SD area of disturbance.pdf",
           "D"
          ],
          [
           246850,
           "Bird survey HT Harvey proposal 7-13-09.pdf",
           "D"
          ],
          [
           361892,
           "3505 Upper Quarry amph renov Ph 1 EIC signed UCOP.pdf",
           "D"
          ],
          [
           826796,
           "4.15-Traffic.doc",
           "D"
          ],
          [
           779257,
           "Findings.pdf",
           "D"
          ],
          [
           136729,
           "12000-035 1101 Pacific Campus televideo signed EIC.pdf",
           "D"
          ],
          [
           136528,
           "MMP_Table4_2008-09.pdf",
           "D"
          ],
          [
           579690,
           "2019 01 30 UCSC GMBP - Data Needs List.docx",
           "D"
          ],
          [
           782238,
           "File 4836 EIC Report.pdf",
           "D"
          ],
          [
           545654,
           "6628.D2 Environmental Impact Classification Heating.pdf",
           "D"
          ],
          [
           574080,
           "File 7602.D2 EIC Signed.pdf",
           "D"
          ],
          [
           214869,
           "20120103_1-12-002SCR_Sec2.pdf",
           "D"
          ],
          [
           912509,
           "283100 - Fire Alarm Systems Rachel Carson College Detector Replacement.pdf",
           "D"
          ],
          [
           874977,
           "IMAGE.jpeg",
           "D"
          ],
          [
           361381,
           "File 3503 D1 Transmittal for Plan of Quarry and Access 05.12.92.pdf",
           "D"
          ],
          [
           829660,
           "File 9065 D1 California Red-Legged Frog Site Assessment DRAFT 07.25.06.pdf",
           "D"
          ],
          [
           742286,
           "8802-002.D3.Small Project CEQA Screening Checklist rev2.xls",
           "D"
          ],
          [
           141814,
           "Project Description for CEQA Analysisrk.doc",
           "D"
          ],
          [
           912507,
           "5305-015A Technical Specifications w comments.pdf",
           "D"
          ],
          [
           111103,
           "10637.D2.Phase1&2D2.pdf",
           "D"
          ],
          [
           790878,
           "CBB-MSC Projects mit mon database.pdf",
           "D"
          ],
          [
           337713,
           "APRIL17_KRESGE_EIRSCOPING_FLYER.ai",
           "D"
          ],
          [
           361384,
           "Final CEQA Findings UQA.docx",
           "D"
          ],
          [
           41023,
           "3.2Agri.Final.Final.pdf",
           "D"
          ],
          [
           574520,
           "7603.D2.ERC storm drain repairs EIC-signed.pdf",
           "D"
          ],
          [
           589980,
           "8951B.D1.EXISTING CONDITIONS AND SITE DEMOLITION.pdf",
           "D"
          ],
          [
           327303,
           "Shakespeare Play On Lease signed EIC.pdf",
           "D"
          ],
          [
           273795,
           "EIC Signed.pdf",
           "D"
          ],
          [
           719020,
           "Findings.pdf",
           "D"
          ],
          [
           828602,
           "West Core FEIR Vol II 7-1999.pdf",
           "D"
          ],
          [
           689550,
           "10099-017.D2.EIC Signed.pdf",
           "D"
          ],
          [
           337705,
           "2 Proj Description_2.8.18-ak.docx",
           "D"
          ],
          [
           826798,
           "4.2-Agricultural.doc",
           "D"
          ],
          [
           578503,
           "arboretum gate.EIC.signed.pdf",
           "D"
          ],
          [
           214840,
           "F1-LID Updated 2012-08-07.pdf",
           "D"
          ],
          [
           689434,
           "10064-004.D2.EIC Signed.pdf",
           "D"
          ],
          [
           488306,
           "File 5501 EIC Review 8-17-00.pdf",
           "D"
          ],
          [
           376343,
           "EH&S Facility EIC signed Latham 8-22-14.pdf",
           "D"
          ],
          [
           492211,
           "File 5507 D1 EIC Preparation and Signage 05.21.97.pdf",
           "D"
          ],
          [
           944751,
           "Porter A  Mitigation checklist final.xls",
           "D"
          ],
          [
           944738,
           "File 3048 Phase 2 Tiered Initial Study.pdf",
           "D"
          ],
          [
           783418,
           "30 day NOID notice signed.pdf",
           "D"
          ],
          [
           511977,
           "File 5701-012.D1 Notice of Exemption.pdf",
           "D"
          ],
          [
           805172,
           "102-ECI Wildlife-wetland report.pdf",
           "D"
          ],
          [
           790895,
           "Figure 2 Project Site and Biological Resources 2016 Map (01-05-2017).pdf",
           "D"
          ],
          [
           73962,
           "Biotic Study.pdf",
           "D"
          ],
          [
           361374,
           "File 3503 D Draft of Quarry Mitigation Measure.pdf",
           "D"
          ],
          [
           781881,
           "File 4801-034.D1 800 Loop Paving Memo.pdf",
           "D"
          ],
          [
           891651,
           "EIC Signed.pdf",
           "D"
          ],
          [
           476829,
           "5205 EMS C580-584 lab signed EIC.pdf",
           "D"
          ],
          [
           612855,
           "9200-008 Verizon antenna power upgrade signed EIC.pdf",
           "D"
          ],
          [
           76371,
           "NOE.pdf",
           "D"
          ],
          [
           703407,
           "9800-010.D3.2019 10 24 9800-010 Standard Construction Measures ESC.xlsx",
           "D"
          ],
          [
           492223,
           "File 5507 D4 Project Specific LRDP Mitigation Measure.pdf",
           "D"
          ],
          [
           614932,
           "9802.D1.CorrespondenceDraftInitalstudyD1.pdf",
           "D"
          ],
          [
           236028,
           "2358 Crown College MM EIC-UCOP signed.pdf",
           "D"
          ],
          [
           545657,
           "6628.D2 Environmental Impact Classification Septic Tank.pdf",
           "D"
          ],
          [
           719021,
           "NOD.pdf",
           "D"
          ],
          [
           8467,
           "1499-038 Thimann Air Handler signed EIC.pdf",
           "D"
          ],
          [
           282786,
           "Notice Availa.doc",
           "D"
          ],
          [
           256525,
           "2636-Merrill Cafe Lease signed EIC.pdf",
           "D"
          ],
          [
           913633,
           "Project Description Draft with Review Comments.pdf",
           "D"
          ],
          [
           358693,
           "File 3400-024.D2 EIC Forms.pdf",
           "D"
          ],
          [
           12314,
           "File 1303-021.D2 EIC Signed.pdf",
           "D"
          ],
          [
           917383,
           "02a-sum-table-PSB",
           "D"
          ],
          [
           613155,
           "1601-129.D3.Small Project CEQA Screening Checklist rev2.xls",
           "D"
          ],
          [
           965242,
           "Mailing Labels.docx",
           "D"
          ],
          [
           913750,
           "7.0 MMRP.pdf",
           "D"
          ],
          [
           338877,
           "kresge-college-nop_final.pdf",
           "D"
          ],
          [
           885610,
           "EIC Signed.pdf",
           "D"
          ],
          [
           598828,
           "UCSC_Variance__Application_Dec.__2012_Signiture_page.pdf",
           "D"
          ],
          [
           885155,
           "EIC Signed 2-3-09.pdf",
           "D"
          ],
          [
           875734,
           "4.2 Agricultural Resources.pdf",
           "D"
          ],
          [
           965215,
           "Revised COC Requirements Memo_TO BE POSTED.docx.pdf",
           "D"
          ],
          [
           689433,
           "10064-003.D2.EIC Signed.pdf",
           "D"
          ],
          [
           668962,
           "2318-069B.D2.2017 06 20 DRAFT EIC - CMA Bldg 8 retaining wall.docx",
           "D"
          ],
          [
           41022,
           "3.1Aesthetics.Final.Final.web.pdf",
           "D"
          ],
          [
           282812,
           "Site Plan scanned.pdf",
           "D"
          ],
          [
           503215,
           "IS Digital Arts Facility.pdf",
           "D"
          ],
          [
           489736,
           "File 5502.D1 Emergency Power Calculations.pdf",
           "D"
          ],
          [
           366645,
           "File 3700-015 Oakes lighting signed EIC.pdf",
           "D"
          ],
          [
           719024,
           "IIP Phase 1-Stormwater mitigation checklist.xls",
           "D"
          ],
          [
           24717,
           "File 1210.D3 EIC Signed.pdf",
           "D"
          ],
          [
           975287,
           "EIC Signed.pdf",
           "D"
          ],
          [
           703349,
           "9800-010.D4.Emergency Sewer Replacement - SPECIFICATIONS - Bid Set - Environmental Measures.pdf",
           "D"
          ],
          [
           338945,
           "Kresge Mit Details.xlsx",
           "D"
          ],
          [
           136518,
           "2007-08 AMMR Intro.pdf",
           "D"
          ],
          [
           282801,
           "CSHC Traffic-Kelly approved",
           "D"
          ],
          [
           784041,
           "4900-028 COH Conference Room Expansion EIC-signed.pdf",
           "D"
          ],
          [
           826784,
           "11-AgencyPersons-final.doc",
           "D"
          ],
          [
           338850,
           "3238.D3.USCSCEICPicture&LetterD3.pdf",
           "D"
          ],
          [
           282819,
           "Notice Availa.doc",
           "D"
          ]
         ],
         "hovertemplate": "tag=%{customdata[2]}<br>umap_x=%{x}<br>umap_y=%{y}<br>file_id=%{customdata[0]}<br>filename=%{customdata[1]}<extra></extra>",
         "legendgroup": "D",
         "marker": {
          "color": "#85660D",
          "line": {
           "width": 0
          },
          "opacity": 0.75,
          "size": 7,
          "symbol": "circle"
         },
         "mode": "markers",
         "name": "D",
         "showlegend": true,
         "type": "scattergl",
         "x": {
          "bdata": "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",
          "dtype": "f4"
         },
         "xaxis": "x",
         "y": {
          "bdata": "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",
          "dtype": "f4"
         },
         "yaxis": "y"
        },
        {
         "customdata": [
          [
           835444,
           "3124.H.08520 Submittal Aluminum Windows Structural Calculations.pdf",
           "H"
          ],
          [
           331963,
           "Submittal Log.pdf",
           "H"
          ],
          [
           332000,
           "Submittal #97.pdf",
           "H"
          ],
          [
           737971,
           "3124.H.Section 2.8 02730 1.3B6.3. Data & Cast Iron Pipe; Sanitary Sewer System.pdf",
           "H"
          ],
          [
           510951,
           "073 File 5601 368.TIF",
           "H"
          ],
          [
           537225,
           "6301.H Submittal 16.25c.pdf",
           "H"
          ],
          [
           686678,
           "TEMP001.TIF",
           "H"
          ],
          [
           779818,
           "4503.H. 09380 Cut Natural Stone Tile - Verification Samples.pdf",
           "H"
          ],
          [
           466648,
           "085113-005.pdf",
           "H"
          ],
          [
           686528,
           "3124.H.Section 2.11 02910 1.2B1. Test Reports; Soil Analysis Report.pdf",
           "H"
          ],
          [
           94674,
           "042.pdf",
           "H"
          ],
          [
           318470,
           "3045-001.H.Job 103, R17 (#3).pdf",
           "H"
          ],
          [
           537342,
           "6301.H. Submittal 2.8b Waterfittings - Stainless Steel Pilot Valve.pdf",
           "H"
          ],
          [
           686675,
           "TEMP005.TIF",
           "H"
          ],
          [
           817741,
           "File 7401 Sub 5.05 BP 2 Strocal (11.18.02)_20021210_0071.TIF",
           "H"
          ],
          [
           510031,
           "15440-087 R2.pdf",
           "H"
          ],
          [
           862785,
           "3239_-_4-233400-03_R0_-_HVAC_Fan_SF-A1-2-1_Product_Data_Package.pdf",
           "H"
          ],
          [
           92850,
           "TEMP001.TIF",
           "H"
          ],
          [
           332027,
           "Submittal #6-1.pdf",
           "H"
          ],
          [
           331989,
           "Submittal #53.pdf",
           "H"
          ],
          [
           707870,
           "3238_-_032000NC-038-R1 - Concrete Reinforcing - ACAD - Ground Level - Shop Drawings_SGA_20201214.pdf",
           "H"
          ],
          [
           883773,
           "6300-011 Music Center Equipment Modernization - Submittal #11 61 33 - 02R3 Theatrical Rigging Equipment Modernization.pdf",
           "H"
          ],
          [
           332039,
           "Submittal #47.pdf",
           "H"
          ],
          [
           874824,
           "10000-010.H.STT Submittal 2.pdf",
           "H"
          ],
          [
           686564,
           "11.04 11064 1.13.pdf",
           "H"
          ],
          [
           1049997,
           "Materials.pdf",
           "H"
          ],
          [
           332022,
           "Submittal #25.pdf",
           "H"
          ],
          [
           537313,
           "6301.H. Submittal 16.11 Pad Mounted Transformer.pdf",
           "H"
          ],
          [
           8635,
           "8880-002 Submittal 26 05 33 -03_Response.pdf",
           "H"
          ],
          [
           686452,
           "3124.H.Section 2.4 02665 1.3B10.2. Data & B-48 Meter Box; Water Lines.pdf",
           "H"
          ],
          [
           709480,
           "3238_-_230000NC-005_R3_-_HVAC_-_RNEW-S_Level_1-4_Mechanical_Ducts_-_SD_MD062930.pdf",
           "H"
          ],
          [
           740069,
           "10633.H.16470-15.14 (3-24-11).pdf",
           "H"
          ],
          [
           537268,
           "6301.H. Submittal 1.13.9 Schedule Update - July 1996.pdf",
           "H"
          ],
          [
           705470,
           "3124.H.Section 5.5 1.3B Shop Drawings(D11-D31)- Metal Fabrications.pdf",
           "H"
          ],
          [
           510287,
           "05500-441.pdf",
           "H"
          ],
          [
           143808,
           "26 31 00 -01 R3.pdf",
           "H"
          ],
          [
           471778,
           "32 91 13 -02.pdf",
           "H"
          ],
          [
           951437,
           "6300-011_-_260583-01_R0_-_Dead_Hang_Unsafe_Light_Batten_review.pdf",
           "H"
          ],
          [
           537203,
           "6301.H Shop Drawings 2 Perhaps Duplicates.pdf",
           "H"
          ],
          [
           241648,
           "12 24 20 -001.pdf",
           "H"
          ],
          [
           210882,
           "15900-188 R0.pdf",
           "H"
          ],
          [
           716495,
           "File 2739.H Frostking O&M. Defrost Time Clock.pdf",
           "H"
          ],
          [
           511625,
           "TEMP016.tif",
           "H"
          ],
          [
           571346,
           "File 7501 _20060110_0011.TIF",
           "H"
          ],
          [
           332026,
           "Submittal #59.pdf",
           "H"
          ],
          [
           737948,
           "3124.H.Section 2.4 02665 1.3B15. Data & Tapping Sleeve; Water Lines.pdf",
           "H"
          ],
          [
           709380,
           "3238_-_223000NC-002_R1_-_Domestic_Water_Expansion_Tank_-_PD GP.pdf",
           "H"
          ],
          [
           802213,
           "065 File 6201 Sub# 37.2.TIF",
           "H"
          ],
          [
           537335,
           "6301.H. Submittal 2.5 Site Concrete Los Animas.pdf",
           "H"
          ],
          [
           491696,
           "20180412152124.pdf",
           "H"
          ],
          [
           612102,
           "7318-T2.1_JE.pdf",
           "H"
          ],
          [
           709847,
           "3238_-_260533NC-012_R0_-_Raceways_&_Boxes_For_Elec_Systems_-_RNEW-N_Ground_Level_Overhead_&_L1_Deck_Inslab-GR.pdf",
           "H"
          ],
          [
           255649,
           "079500-01-R1.pdf",
           "H"
          ],
          [
           705931,
           "3238-013300-036-R0 - Submittal Procedures - Daily Reports - February 2021.pdf",
           "H"
          ],
          [
           241621,
           "09 67 00 -002 Revised.pdf",
           "H"
          ],
          [
           686636,
           "3124.H.Pad Mounted Transformers - Shop drawings.pdf",
           "H"
          ],
          [
           933554,
           "File 6201 Sub# 166  _20061004_0055.TIF",
           "H"
          ],
          [
           909005,
           "TEMP034.TIF",
           "H"
          ],
          [
           366009,
           "015723-01R1.pdf",
           "H"
          ],
          [
           332035,
           "Submittal #16.pdf",
           "H"
          ],
          [
           732712,
           "3124.H.Transmittal Color Sample.pdf",
           "H"
          ],
          [
           909215,
           "022 File 3048 Sub 227 R1 231.TIF",
           "H"
          ],
          [
           332013,
           "Submittal #2.pdf",
           "H"
          ],
          [
           709793,
           "3238_-_260526WP4-001-R0 - GROUNDING BONDING - SITE - PD_SGA_20210328.pdf",
           "H"
          ],
          [
           737957,
           "3124.H.Section 2.4 02665 1.3B6. Data & Pressure reducing Valve; Water Lines.pdf",
           "H"
          ],
          [
           304920,
           "07.01-07.05 R1_Product Data_DPR_081013.pdf",
           "H"
          ],
          [
           537196,
           "6301.H - Sprinkler Specs (Unknown).pdf",
           "H"
          ],
          [
           802032,
           "04 File 6701 Sub.029.1 4.TIF",
           "H"
          ],
          [
           537288,
           "6301.H. Submittal 1.18 and 16.22 Spec 16511 Interior Lighting - Electric Ballast.pdf",
           "H"
          ],
          [
           835291,
           "3124.H.07822 7.2 Submittal Aluminum Skylights Samples and Transmittal.pdf",
           "H"
          ],
          [
           537473,
           "6301.H Submittal#5.5b4 Field Order 38.pdf",
           "H"
          ],
          [
           737959,
           "3124.H.Section 2.4 02665 1.3B8. Data & Gate Valve; Water Lines.pdf",
           "H"
          ],
          [
           537341,
           "6301.H. Submittal 2.8a Outside Utilities.pdf",
           "H"
          ],
          [
           331995,
           "Submittal #73.pdf",
           "H"
          ],
          [
           223711,
           "Submittal Log.Reviewers.xls",
           "H"
          ],
          [
           211473,
           "P103A-S.pdf",
           "H"
          ],
          [
           537370,
           "6301.H.Submittal 15.16 Plumbing Fixtures.pdf",
           "H"
          ],
          [
           241566,
           "08 51 13 -001.pdf",
           "H"
          ],
          [
           801444,
           "15300-043.pdf",
           "H"
          ],
          [
           708918,
           "3238_-_092513.13NC-004_R0_-_Acrylic_Plaster_Finish_-_Samples_for_Verification.pdf",
           "H"
          ],
          [
           737877,
           "3124.H.3124. H. 05120 Structural steel Shop Drawings R1_R2 part 4.pdf",
           "H"
          ],
          [
           686583,
           "3124.H. Submittal 5.1 C Structural Steel - Welder's Certification, Welding Procedure Specifications.pdf",
           "H"
          ],
          [
           732707,
           "3124.H.20231219095610.pdf",
           "H"
          ],
          [
           910334,
           "4203_-_053100-08_R0_-_MB_-_Steel_Decking_-_Product_Data.pdf",
           "H"
          ],
          [
           737958,
           "3124.H.Section 2.4 02665 1.3B7.Dat & Tapping Valve; Water Lines.pdf",
           "H"
          ],
          [
           709791,
           "3238_-_260526NC-001_R1_-_Grounding_&_Bonding_-_PD-GR.pdf",
           "H"
          ],
          [
           705467,
           "3124.H. 1.20 Guarantees, Bonds, Service Agmts.pdf",
           "H"
          ],
          [
           113197,
           "A8-09.pdf",
           "H"
          ],
          [
           537258,
           "6301.H Submittal Data Voice Termination Schedule.pdf",
           "H"
          ],
          [
           732668,
           "3124.H.Entrances & Storefront Arts C Shop Drawings 19980326.pdf",
           "H"
          ],
          [
           686630,
           "3124.H.Mix Design & Air Entraining Admix.pdf",
           "H"
          ],
          [
           737917,
           "3124.H.Reinforcing Steel. Placing Drawings & Bar List.pdf",
           "H"
          ],
          [
           686582,
           "3124.H. Submittal 5.1 B - Structural Steel Inspector's Qualifications.pdf",
           "H"
          ],
          [
           537392,
           "6301.H.Submittal 15.32 Testing, Adjusting and Balancing.pdf",
           "H"
          ],
          [
           881930,
           "4203_-_083216-02_R0_-_Multi-Panel_Sliding_Pocket_Walls_-_Shop_Drawing.pdf",
           "H"
          ],
          [
           617690,
           "7701-T8.1.pdf",
           "H"
          ],
          [
           729661,
           "233700 Air Outlets and Inlets.docx",
           "H"
          ],
          [
           686622,
           "3124.H.Improvements to Art Facility O & M v 4.pdf",
           "H"
          ],
          [
           368267,
           "Construction Progress Report No. 08.pdf",
           "H"
          ],
          [
           738000,
           "File 3124 Submittal 16.16 R2 Review.pdf",
           "H"
          ],
          [
           830523,
           "01500-046.pdf",
           "H"
          ],
          [
           536981,
           "6301.H.11.6 SoundSystem.pdf",
           "H"
          ],
          [
           873415,
           "4203_-_054400-02_R1_-_EEC_-_Steel_Trusses_-_Shop_Drawing.pdf",
           "H"
          ],
          [
           737841,
           "3124.H. 1.20 1.05 Guarantees, Bonds, & Service Agrmts.pdf",
           "H"
          ],
          [
           537204,
           "6301.H Shop Drawings 2.pdf",
           "H"
          ],
          [
           332034,
           "Submittal #15.pdf",
           "H"
          ],
          [
           835069,
           "3124.H.07270 7.6 Firestopping Submittal Substitution Request.pdf",
           "H"
          ],
          [
           537479,
           "File 6301.H. Submittal #9.7 Samples.pdf",
           "H"
          ],
          [
           537433,
           "File 6301 Submittal Data 7.8a 07620.pdf",
           "H"
          ],
          [
           537460,
           "6301.H Submittal 5.2 Material Bills 2.pdf",
           "H"
          ],
          [
           845509,
           "Monterey Structural Steel - 1 Year Warranty.pdf",
           "H"
          ],
          [
           537309,
           "6301.H. Submittal 1.7 33 Construction Photos May 96.pdf",
           "H"
          ],
          [
           537251,
           "6301.H Submittal 16.27a.pdf",
           "H"
          ],
          [
           537255,
           "6301.H Submittal 16.28.pdf",
           "H"
          ],
          [
           368186,
           "Additional Wood Trim Cost Estimate.pdf",
           "H"
          ],
          [
           571520,
           "7501.H Submittal 01.02 01310 #269 Schedule Update Review.pdf",
           "H"
          ],
          [
           99538,
           "H2 Distribution and Design Data.pdf",
           "H"
          ],
          [
           737945,
           "3124.H.Section 2.4 02665 1.3B12. Data & Indicator post; Water lines.pdf",
           "H"
          ],
          [
           737876,
           "3124.H.3124. H. 05120 Structural steel Shop Drawings R1_R2 part 3.pdf",
           "H"
          ],
          [
           510571,
           "076 File 5601 A74.TIF",
           "H"
          ],
          [
           686634,
           "3124.H.Mix Design & Water Repellent Admix.pdf",
           "H"
          ],
          [
           115300,
           "RH-1 Point To Point.pdf",
           "H"
          ],
          [
           537278,
           "6301.H. Submittal 1.18 and 15.20  Spec 15540 HVAC Pumps.pdf",
           "H"
          ],
          [
           933168,
           "File 6201 Sub. # 16.23 _20030424_0022.TIF",
           "H"
          ],
          [
           537314,
           "6301.H. Submittal 16.11 Unit Substation.pdf",
           "H"
          ],
          [
           833894,
           "File 10633 Operations & Maintenance by James Griffin.pdf",
           "H"
          ],
          [
           537478,
           "File 6301.H. Submittal #9.7 Product Data.pdf",
           "H"
          ],
          [
           818682,
           "File 7401 Sub#15.21R1 _20060413_0005.TIF",
           "H"
          ],
          [
           803145,
           "FA 16 FM review.pdf",
           "H"
          ],
          [
           737910,
           "3124.H.Mix Design & Water Reducing Admix.pdf",
           "H"
          ],
          [
           875709,
           "3124.H. Sound Control Doors, Shop Drawings 1-4.pdf",
           "H"
          ],
          [
           174174,
           "1700-186_-_265110-02_R0_-_Emergency_Light_Fixtures_type_E_&_EM.pdf",
           "H"
          ],
          [
           890686,
           "10641-001_-_230000-07_R0_-_HVAC_As-Built_Drawings.pdf",
           "H"
          ],
          [
           756926,
           "Section 221616 Natural Gas Piping Specialties.pdf",
           "H"
          ],
          [
           537424,
           "File 6301 Submittal 16.23 Section 16580.pdf",
           "H"
          ],
          [
           304352,
           "02.39-02.41_Prod Data & Mat Certs, Dsgn Mixes & Test Rprts_DPR_090211.pdf",
           "H"
          ],
          [
           537486,
           "6301.H. Acoustical Curtains O&Ms.pdf",
           "H"
          ],
          [
           544254,
           "32 12 17 -01.pdf",
           "H"
          ],
          [
           76050,
           "File 10026 O & M Fig 3.TIF",
           "H"
          ],
          [
           737987,
           "3124.H.Submittal Section- 16.2 16121 1.3(A). Conductors - Product Data & Shop Drawings.pdf",
           "H"
          ],
          [
           834828,
           "10641-001_-_271119-01_R0_-_Communications_Patch_Panel_PD.pdf",
           "H"
          ],
          [
           835475,
           "3124.H.08521 8.10 Submittal Aluminum Windows Samples.pdf",
           "H"
          ],
          [
           537236,
           "6301.H Submittal 16.26 Shop Drawings.pdf",
           "H"
          ],
          [
           537493,
           "6301.H. Temp Control Systems O&M.pdf",
           "H"
          ],
          [
           615865,
           "9803C_-_099100-01_R0_-_Paint_Product_Data_archive.pdf",
           "H"
          ],
          [
           737949,
           "3124.H.Section 2.4 02665 1.3B16. Data & Backflow preventer; water lines.pdf",
           "H"
          ],
          [
           537318,
           "6301.H. Submittal 16.2 Cable Trays.pdf",
           "H"
          ],
          [
           709269,
           "3238_-_220518NC-001_R0_-_Escutcheons_For_Plumbing_Piping_-_PD.PDF",
           "H"
          ],
          [
           331969,
           "Submittal #32.pdf",
           "H"
          ],
          [
           536155,
           "6300. H. Stage Lift O & M.pdf",
           "H"
          ],
          [
           368198,
           "Change Order No. 09 Squib.pdf",
           "H"
          ],
          [
           331984,
           "Submittal #28.pdf",
           "H"
          ],
          [
           368317,
           "MBT Confirmation for Elevator Relocation.pdf",
           "H"
          ],
          [
           835322,
           "3124.H.05800 5.7 Submittal Expansion Control Substitution.pdf",
           "H"
          ],
          [
           737999,
           "File 3124 H Working Drawing Submittal Phase 2 11.04.96.pdf",
           "H"
          ],
          [
           692740,
           "12050-005_-_018113-09_R0_-_28_-_LEED_-_Pacific_Coast_Fire_review.pdf",
           "H"
          ],
          [
           596693,
           "3654_001.pdf",
           "H"
          ],
          [
           818564,
           "File 7401 BP 4A Sub # 8.38 _20031103_0005.TIF",
           "H"
          ],
          [
           332061,
           "File 3209. H. UCSC Kresge College Apartments - Pyrotronics System XL-3 Operation, Installation & Maintenance Manual.pdf",
           "H"
          ],
          [
           732642,
           "3124.H Shop Drawings.pdf",
           "H"
          ],
          [
           537305,
           "6301.H. Submittal 1.7 27 Photographs.pdf",
           "H"
          ],
          [
           281339,
           "260140-01-R1.pdf",
           "H"
          ],
          [
           883772,
           "6300-011 Music Center Equipment Modernization - Submittal #11 61 33 - 02R3 Theatrical Rigging Equipment Modernization - APEIRO COMMENTS.pdf",
           "H"
          ],
          [
           738001,
           "File 3124 Submittal 16.16R2 Review.pdf",
           "H"
          ],
          [
           537408,
           "File 6301 Shop Drawing Review 7.8 07620, 2.02.pdf",
           "H"
          ],
          [
           468205,
           "312000-016.pdf",
           "H"
          ],
          [
           537505,
           "06 File 6301 Submittal 16.26.TIF",
           "H"
          ],
          [
           737909,
           "3124.H.Mix Design & Cement conform cert.pdf",
           "H"
          ],
          [
           710416,
           "3238_-_333000-001_R1_-_ACAD_-_Sanitary_Sewer_-_Product_Data KR.pdf",
           "H"
          ],
          [
           883757,
           "Submittal Stamp.pdf",
           "H"
          ],
          [
           115169,
           "FH-3 Certification 05-13-17.pdf",
           "H"
          ],
          [
           537403,
           "File 6301 Resubmittal 16.23 Section 16580 (2).pdf",
           "H"
          ],
          [
           737904,
           "3124.H.Mix Design & 07-1-625-Music.pdf",
           "H"
          ],
          [
           573813,
           "File 7601 Sub # 053 22.TIF",
           "H"
          ],
          [
           835534,
           "3124.H.09200 Submittal Lath and Plaster Product Data.pdf",
           "H"
          ],
          [
           737920,
           "3124.H.Section - 05120 1.3(B). Structural Steel Shop drawings.pdf",
           "H"
          ],
          [
           686538,
           "3124.H.Section 2.4 02665 3.1E. State Fire Marshall Report; Water Lines.pdf",
           "H"
          ],
          [
           707320,
           "3238_-_280528NC-001_R0_-_Pathways_For_Electronic_Safety_And_Security_-_RNEW.pdf",
           "H"
          ],
          [
           737995,
           "3124.H.Warranties.pdf",
           "H"
          ],
          [
           362374,
           "09 93 13 -01.pdf",
           "H"
          ],
          [
           830559,
           "02372-032.pdf",
           "H"
          ],
          [
           780008,
           "4503.H. Submittal File 14.1 14240 1.02A Hydraulic Elevators - Product Data - FOR REVIEW & APPROVAL.pdf",
           "H"
          ],
          [
           537507,
           "08 File 6301 Submittal 16.26.TIF",
           "H"
          ],
          [
           210760,
           "11165-065.pdf",
           "H"
          ],
          [
           511160,
           "TEMP038.TIF",
           "H"
          ],
          [
           961401,
           "5303-037_-_064013-003_R1_-_Exterior_Architectural_Woodwork_-_Samples_review.pdf",
           "H"
          ],
          [
           818025,
           "File 7401 BP2 Sub # 5.27 Strocal (4-21-2003) _20030505_0001.TIF",
           "H"
          ],
          [
           305650,
           "File 2608 E0.01.tif",
           "H"
          ],
          [
           537334,
           "6301.H. Submittal 2.5 Outlet Structure Reinforcing-Shop Drawings.pdf",
           "H"
          ],
          [
           962063,
           "5303-037_-_321313-001_R1_-_Concrete_Paving_-_Exterior_Improvements_Mithun.pdf",
           "H"
          ],
          [
           737961,
           "3124.H.Section 2.4 02665 3.1E. State Fire Marshall Report; Water Lines.pdf",
           "H"
          ],
          [
           617083,
           "9804c Submittal Log.xlsx",
           "H"
          ],
          [
           702993,
           "6300.H.Blank Submittals.pdf",
           "H"
          ],
          [
           883762,
           "6300-011 Music Center Equipment Modernization - Submittal #11 61 33 - 01R2 Theatrical Rigging Equipment Modernization - APF Review.pdf",
           "H"
          ],
          [
           835412,
           "3124.H.08521 8.10 Submittal Aluminum Windows Product Data.pdf",
           "H"
          ],
          [
           883764,
           "6300-011 Music Center Equipment Modernization - Submittal #11 61 33 - 01R3 Theatrical Rigging Equipment Modernization - APEIRO COMMENTS.pdf",
           "H"
          ],
          [
           737989,
           "3124.H.Submittal Section-15895A.Grilles, Registers and Diffusers - Product Data.pdf",
           "H"
          ],
          [
           732659,
           "3124.H.3124. H. 05120 Structural steel Shop Drawings R1_R2 part 5.pdf",
           "H"
          ],
          [
           737951,
           "3124.H.Section 2.4 02665 1.3B18. Data & Fire Dept. Connection; Water Lines.pdf",
           "H"
          ],
          [
           738004,
           "File 3124 Submittal Comments.pdf",
           "H"
          ],
          [
           224228,
           "221113-01-R1 Jeff Pawlak Late Review.pdf",
           "H"
          ],
          [
           510110,
           "16465-097.pdf",
           "H"
          ],
          [
           737849,
           "3124.H. 5.2 B Steel Joists Shop Drawigs  (Review and Approval).pdf",
           "H"
          ],
          [
           537480,
           "File 6301.H. Submittal #9.7 Shop Drawings.pdf",
           "H"
          ],
          [
           803743,
           "01 File 6701 Sub. 258 SRG-01.TIF",
           "H"
          ],
          [
           331970,
           "Submittal #38.pdf",
           "H"
          ],
          [
           1054628,
           "10641_-_055213-01_R0_-_Pipe_and_Tube_Railings_Submittal.pdf",
           "H"
          ],
          [
           151228,
           "15 File 1639 Sub 3.06 R2.pdf",
           "H"
          ],
          [
           23458,
           "033000-01R2.pdf",
           "H"
          ],
          [
           537219,
           "6301.H Submittal 16.25.pdf",
           "H"
          ],
          [
           802505,
           "028 File 6701 Sub.# 037.6 41.pdf",
           "H"
          ],
          [
           537423,
           "File 6301 Submittal 16.23 Section 16580 Review.pdf",
           "H"
          ],
          [
           875713,
           "3124.H.Panel Work, Shop Drawings.pdf",
           "H"
          ],
          [
           537459,
           "6301.H Submittal#11.6 Transmittal.pdf",
           "H"
          ],
          [
           729567,
           "230529 Hangers and Supports.pdf",
           "H"
          ],
          [
           610411,
           "26 05 00 -05 9098B.pdf",
           "H"
          ],
          [
           619538,
           "9805H_-_019100-03_R_-_CAT6_TEST_RESULTS_Merrill_House_B_7184-0.1_archive.pdf",
           "H"
          ],
          [
           537343,
           "6301.H. Submittal 2.9 Storm Drain Lines.pdf",
           "H"
          ],
          [
           537361,
           "6301.H.1.3 Layout Drawings.pdf",
           "H"
          ],
          [
           362516,
           "RFI 006 GFCI Cover Types RESPONSE - 031417.pdf",
           "H"
          ],
          [
           883782,
           "TSUBAKI.pdf",
           "H"
          ],
          [
           686618,
           "3124.H.Data & Vapor Retarder sheet.pdf",
           "H"
          ],
          [
           537464,
           "6301.H Submittal#05500 Shop Drawings.pdf",
           "H"
          ],
          [
           737934,
           "3124.H.Section 2.10 02841 1.2A. Manufacturer's Data; Bicycle Racks.pdf",
           "H"
          ],
          [
           875711,
           "3124.H.Manufactured Roof Panels, Shop Drawings.pdf",
           "H"
          ],
          [
           537443,
           "File 6301.H. Submittal #12.2 Product Data.pdf",
           "H"
          ],
          [
           818469,
           "File 12005_20030902_0007.TIF",
           "H"
          ],
          [
           686591,
           "3124.H. Submittal 5.3 C Metal Decking - Product Data - HA Ekelin & Assoc.pdf",
           "H"
          ],
          [
           332051,
           "Submittal #42.pdf",
           "H"
          ],
          [
           708753,
           "3238_-_084413NC-021_R0_-_Glazed_Aluminum_Curtain_Walls_-_RNEW_-_Window_Actuator_-_SD.pdf",
           "H"
          ],
          [
           669552,
           "3400-022A.H.Parts list Quincy QGS 10-15_(C55)_2200773152 04.pdf",
           "H"
          ],
          [
           537508,
           "09 File 6301 Submittal 16.26.TIF",
           "H"
          ],
          [
           317937,
           "103 Motor Failure .pdf",
           "H"
          ],
          [
           835392,
           "3124.H.09521 9.5 Submittal Acoustical Wall Panels Samples.pdf",
           "H"
          ],
          [
           509907,
           "01300-428.pdf",
           "H"
          ],
          [
           329392,
           "File 3124 Submittal Comments.pdf",
           "H"
          ],
          [
           686616,
           "3124.H.Data & Fibrous Concrete Reinf.pdf",
           "H"
          ],
          [
           835316,
           "3124.H.06100 6.1Submittal Rough Carpentry Certificates.pdf",
           "H"
          ],
          [
           737889,
           "3124.H.Concrete unit Masonry, Shop Drawings.pdf",
           "H"
          ],
          [
           537372,
           "6301.H.Submittal 15.18 Hydronic Piping.pdf",
           "H"
          ],
          [
           211316,
           "15010-1358.pdf",
           "H"
          ],
          [
           113437,
           "PPD1.13.pdf",
           "H"
          ],
          [
           537333,
           "6301.H. Submittal 2.4 Asphaltic Concrete PAving.pdf",
           "H"
          ],
          [
           686650,
           "3124.H.Submittal Section- 16.2 16121 1.3(A). Conductors - Product Data & Shop Drawings.pdf",
           "H"
          ],
          [
           709114,
           "3238_-_210000NC-003_R0_-_Fire_Suppression_-_RNEW-M_Delegated_Design.pdf",
           "H"
          ],
          [
           835421,
           "3124.H.08520 8.9 Submittal Aluminum Windows Samples for Color.pdf",
           "H"
          ],
          [
           880916,
           "3238-057310WP4-001-R1 - DECORATIVE MTL RAILINGS - SITE- BRIDGE HANDRAILS P...1 - DD.pdf",
           "H"
          ],
          [
           834800,
           "10641-001_-_232113-01_R1_-_HVAC_Refrigerant_Piping_&_Piping_Insulation_PD.pdf",
           "H"
          ],
          [
           883794,
           "6300-011 Letter of Transmittal 2.27.23.pdf",
           "H"
          ],
          [
           744873,
           "[100110 Sub Review3 July 2 2010].pdf",
           "H"
          ],
          [
           224479,
           "262713-01.pdf",
           "H"
          ],
          [
           151430,
           "53 5.10-R2.TIF",
           "H"
          ],
          [
           332007,
           "Submittal #26.pdf",
           "H"
          ],
          [
           537481,
           "File 6301.H. Submittal #9.7 Product Data 2 .pdf",
           "H"
          ],
          [
           834974,
           "3124.H.07130 Benonite Waterproofing Product Data Submittal.pdf",
           "H"
          ],
          [
           706856,
           "3238_-_142100NC-008_R0_-_Traction_&_Hydraulic_Elevators_-_ACAD_-_RB-6_Flooring_-_Samples_UCSC_20210922.pdf",
           "H"
          ],
          [
           474044,
           "5200-040 Submittal 250000-01 R0_Review.pdf",
           "H"
          ],
          [
           886368,
           "#3 SS-1h (NCE).pdf",
           "H"
          ],
          [
           151643,
           "37 File 1639 Sub 5.16-R1.tif",
           "H"
          ],
          [
           883768,
           "6300-011 Music Center Equipment Modernization - Submittal #11 61 33 - 02R1 Theatrical Rigging Equipment Modernization - APF COMMENTS.pdf",
           "H"
          ],
          [
           537194,
           "6301.H - Equpiment & Material Submittal #1.pdf",
           "H"
          ],
          [
           500477,
           "Proposal Request #217.pdf",
           "H"
          ],
          [
           537448,
           "6301.H Submittal 1.11 Preliminary Schedule.pdf",
           "H"
          ],
          [
           93037,
           "File 10069-002 07.TIF",
           "H"
          ],
          [
           174073,
           "1700-182_-_331116-05_R0_-_Ford_Ultra-Flex_Transition_Coupling_Product_Data_&_Cut_Sheets..pdf",
           "H"
          ],
          [
           686683,
           "11.3 11063 1.7B Shop Drawings (Sheets 3-4).pdf",
           "H"
          ],
          [
           737932,
           "3124.H.Section 2.1 02515 1.3. Substitution Request; Turf Block paving.pdf",
           "H"
          ],
          [
           115920,
           "10637-004_-_080000-01_R1_-_Doors-Frames-Hardware_archive.pdf",
           "H"
          ],
          [
           737942,
           "3124.H.Section 2.4 02665 1.3B10.1. Data & B-36 Meter Box; Water Lines.pdf",
           "H"
          ],
          [
           737944,
           "3124.H.Section 2.4 02665 1.3B11. PMX Precision Meter; Water lines.pdf",
           "H"
          ],
          [
           537380,
           "6301.H.Submittal 15.25 Centrifugal Faus.pdf",
           "H"
          ],
          [
           476396,
           "File 5201.H Section 15300 Submittal 15.4.pdf",
           "H"
          ],
          [
           466616,
           "084123-004R1.pdf",
           "H"
          ],
          [
           467019,
           "262413-006R2.pdf",
           "H"
          ],
          [
           800924,
           "01300-027.118.pdf",
           "H"
          ],
          [
           537358,
           "6301.H.1.13.8 #2.pdf",
           "H"
          ],
          [
           686609,
           "3124.H.Concrete unit Masonry, Data & Rapid Control Joint.pdf",
           "H"
          ],
          [
           737931,
           "3124.H.Section 2.09 02810 H. Irrigation. Extra Stock.pdf",
           "H"
          ],
          [
           686701,
           "TEMP005.TIF",
           "H"
          ],
          [
           331973,
           "Submittal #80.pdf",
           "H"
          ],
          [
           224357,
           "255000-02.pdf",
           "H"
          ],
          [
           737907,
           "3124.H.Mix Design & Air Entraining Admix.pdf",
           "H"
          ],
          [
           686643,
           "3124.H.Submittal Section- 15685 2.3(R2). Improvement to the Arts Chiller.pdf",
           "H"
          ],
          [
           737886,
           "3124.H.Concrete unit Masonry, Data & Rapid Control Joint.pdf",
           "H"
          ],
          [
           835287,
           "3124.H.Submittal 06410 6.3 Hardware Cut Sheets and Transmittal.pdf",
           "H"
          ],
          [
           691459,
           "Vizio S3820wC0 Spec Sheet.pdf",
           "H"
          ],
          [
           537463,
           "6301.H Submittal#05500 Qualification Data.pdf",
           "H"
          ],
          [
           537434,
           "File 6301.G1.1 H. Submittal #10.5 Letter on Setting Drawings Transmittal.pdf",
           "H"
          ],
          [
           537279,
           "6301.H. Submittal 1.18 and 15.22  Spec 15559 Inclined Water Tube Boilers.pdf",
           "H"
          ],
          [
           536157,
           "6300. H. Wheelchair Lifts O & M.pdf",
           "H"
          ],
          [
           537501,
           "02 File 6301 Submittal 16.26.TIF",
           "H"
          ],
          [
           475930,
           "5201.H .11.6 A.9 pass through chamber .pdf",
           "H"
          ],
          [
           801021,
           "01300-027.68.pdf",
           "H"
          ],
          [
           686693,
           "TEMP001.TIF",
           "H"
          ],
          [
           571276,
           "7501.H Submittal 03.02 03200 #080 Transmittal.pdf",
           "H"
          ],
          [
           909657,
           "3239_-_4-014516-01_R0_-_Water_Testing_Procedures_UC.pdf",
           "H"
          ],
          [
           152583,
           "File 1639 Sub # 16.12R2 BAR Architects comments 07.24.2003 _20030731_0013.TIF",
           "H"
          ],
          [
           686460,
           "3124.H.Section 2.4 02665 1.3B8. Data & Gate Valve; Water Lines.pdf",
           "H"
          ],
          [
           737939,
           "3124.H.Section 2.2 02518 1.3D. Qualification Statement; Concrete unit Pavers.pdf",
           "H"
          ],
          [
           738799,
           "3238_-_031000WP4-009-R1 SITE - CONCRETE - WALL I - SHOP DRAWINGS_SGA20220124.pdf",
           "H"
          ],
          [
           978754,
           "Wheelock Inc Description COPY.pdf",
           "H"
          ],
          [
           537455,
           "6301.H Submittal#11.2 Acoustical Curtains.pdf",
           "H"
          ],
          [
           318684,
           "3045-001.H.Porter Dining Hall -- Seismic Correction Submittal #91.pdf",
           "H"
          ],
          [
           732705,
           "3124.H.20231219095404.pdf",
           "H"
          ],
          [
           686680,
           "TEMP003.TIF",
           "H"
          ],
          [
           705461,
           "3124.H. 1.18 A2 Schedule of Submittals, List of Substitutions.pdf",
           "H"
          ],
          [
           933321,
           "TEMP013.TIF",
           "H"
          ],
          [
           488902,
           "File 5510 Sub #09900 Painting.pdf",
           "H"
          ],
          [
           332050,
           "Submittal #34.pdf",
           "H"
          ],
          [
           114898,
           "RB1 PFC.pdf",
           "H"
          ],
          [
           332048,
           "Submittal #23.pdf",
           "H"
          ],
          [
           686544,
           "3124.H.Section 2.7 02725 1.2B. Shop drawings & Data; Trench Drain.pdf",
           "H"
          ],
          [
           471655,
           "01 32 16 -11.pdf",
           "H"
          ],
          [
           377986,
           "4101 RFI 302 Response.pdf",
           "H"
          ],
          [
           23524,
           "270528-02 Revised Return.pdf",
           "H"
          ],
          [
           92600,
           "Stomper Work Plan.pdf",
           "H"
          ],
          [
           705463,
           "3124.H. 1.20 01740 Guarantees, Bonds & Service Agmts.pdf",
           "H"
          ],
          [
           737859,
           "3124.H. Submittal 5.1 B - Structural Steel Inspector's Qualifications.pdf",
           "H"
          ],
          [
           537475,
           "File 6301.H. Submittal #9.7 Per Architect's Comments 5-31-96.pdf",
           "H"
          ],
          [
           818200,
           "File 7401 BP4 Sub 05.102 07.08.2003_20030714_0011.TIF",
           "H"
          ],
          [
           116094,
           "10637-005_-_233113-01_R0_-_Stainless_Steel_Duct,_Tubing,_Drops.pdf",
           "H"
          ],
          [
           537256,
           "6301.H Submittal 16.39 Shop Drawing.pdf",
           "H"
          ],
          [
           3227,
           "File 1439 13.07-130364.pdf",
           "H"
          ],
          [
           686642,
           "3124.H.Submittal Section- 15.8 15990 1.5(A). Testing. Adjusting and Balancing - Tester's Qualifications.pdf",
           "H"
          ],
          [
           211722,
           "5.03-1414R1 Drawings.pdf",
           "H"
          ],
          [
           536147,
           "6300. H. Fire Protection O & M.pdf",
           "H"
          ],
          [
           961057,
           "5303-037_-_262413-001_R4_-_Switchboards_-_Product_Data_RESPONSE.pdf",
           "H"
          ],
          [
           718489,
           "9800-007_-_335100-01_R0_-_Index_Numbers_2.01-2.06_review.pdf",
           "H"
          ],
          [
           573460,
           "10800-055.pdf",
           "H"
          ],
          [
           802288,
           "File 6701 Submittal 037.5 016.TIF",
           "H"
          ],
          [
           955456,
           "3239_-_2-084133-02_R1_-_Fire_Rated_Glasss_Samples.pdf",
           "H"
          ],
          [
           686530,
           "3124.H.Section 2.4 02665 1.3B11. PMX Precision Meter; Water lines.pdf",
           "H"
          ],
          [
           961249,
           "5303-037_-_013216-001_R33_-_Baseline_Schedule.xer",
           "H"
          ],
          [
           212559,
           "1810-027_-_064000-01_R0_-_Wood_Veneer_Paneling_Review_archive_.pdf",
           "H"
          ],
          [
           686661,
           "Division 12511 1.2 B2- Horizontal Louver Blinds.pdf",
           "H"
          ],
          [
           537228,
           "6301.H Submittal 16.25e-2.pdf",
           "H"
          ],
          [
           881091,
           "3238-114000NC-005-R1 - Food Service Equipment - Walk-in Cooler Freezer - Subs Request_UCSC_20220707.pdf",
           "H"
          ],
          [
           537325,
           "6301.H. Submittal 16.8 Overcurrent Protection Devices.pdf",
           "H"
          ],
          [
           485281,
           "12 Metal Framed Skylights.pdf",
           "H"
          ],
          [
           707904,
           "3238_-_032000WP4-006_R1_-_REVIEW_TRANSMITTAL.pdf",
           "H"
          ],
          [
           801248,
           "10400-181 R2_Devcons number 181.1.pdf",
           "H"
          ],
          [
           801235,
           "10210-131.1 R1.pdf",
           "H"
          ],
          [
           862312,
           "3701.H.Submittal from Williams & Burrows.pdf",
           "H"
          ],
          [
           737831,
           "16.14 16515 1.3A R1 Ayraud Review.pdf",
           "H"
          ],
          [
           115490,
           "10 22 13 -02.pdf",
           "H"
          ],
          [
           686459,
           "3124.H.Section 2.4 02665 1.3B7.Dat & Tapping Valve; Water Lines.pdf",
           "H"
          ],
          [
           686665,
           "File 3124 Submittal 7.8 07525 1.4B R1.pdf",
           "H"
          ],
          [
           686579,
           "3124.H. Long Span Joist Material Item C Checklist.pdf",
           "H"
          ],
          [
           537187,
           "6301.;H Submittal 16.25-2.pdf",
           "H"
          ],
          [
           686690,
           "TEMP004.TIF",
           "H"
          ],
          [
           537202,
           "6301.H Preliminary Design Submittal.pdf",
           "H"
          ],
          [
           737874,
           "3124.H.05120 Structural steel Shop Drawings R1_R2 part 1 transmittal.pdf",
           "H"
          ],
          [
           961497,
           "5303-037_-_079219-003_R0_-_Acoustical_Joint_Sealants_-_LEED_review.pdf",
           "H"
          ],
          [
           80567,
           "File 10064-001Revised Door Sub 02.TIF",
           "H"
          ],
          [
           115254,
           "SF-3.1 PFC.pdf",
           "H"
          ],
          [
           686537,
           "3124.H.Section 2.4 02665 1.3B18. Data & Fire Dept. Connection; Water Lines.pdf",
           "H"
          ],
          [
           573639,
           "01 File 7601 Sub Item 008  01.TIF",
           "H"
          ],
          [
           537253,
           "6301.H Submittal 16.27c.pdf",
           "H"
          ],
          [
           737954,
           "3124.H.Section 2.4 02665 1.3B4. Data & Ductile Iron Mech. Joint; Water Lines.pdf",
           "H"
          ],
          [
           737933,
           "3124.H.Section 2.1 02515 1.3C. Qualification Statement; Turf Block Paving.pdf",
           "H"
          ],
          [
           686628,
           "3124.H.Mix Design & 67-0-301-Music.pdf",
           "H"
          ],
          [
           304898,
           "06.03-05_Wood Stain Samples_DPR_091027.pdf",
           "H"
          ],
          [
           537292,
           "6301.H. Submittal 1.18_11.4  Spec 11132 Projection Screens.pdf",
           "H"
          ],
          [
           537465,
           "6301.H Submittal#05500 Welder Certificates.pdf",
           "H"
          ],
          [
           737829,
           "11.04 11064 1.13.pdf",
           "H"
          ],
          [
           744869,
           "10.08.06 Submittal 9.4 Review.pdf",
           "H"
          ],
          [
           706630,
           "3238_-_076200NC-008_R2_-_Sheet_Metal_Flashing_And_Trim_-_ACAD_-_Product_Data_UCSC_20211222.pdf",
           "H"
          ],
          [
           537185,
           "6301 add to wheelchair oand ms.pdf",
           "H"
          ],
          [
           332036,
           "Submittal #17.pdf",
           "H"
          ],
          [
           604674,
           "271119-01-R1.pdf",
           "H"
          ],
          [
           682628,
           "Camper Central Building Floor Plan.pdf",
           "H"
          ],
          [
           575743,
           "Wood_and_Wood_Dust_Untreated_Lumber_Logs_Chips_and_Sawdust.pdf",
           "H"
          ],
          [
           881035,
           "3238-088000NC-001-R0 - Glazing - ACAD - Product Data_UCSC_20210816.pdf",
           "H"
          ],
          [
           537306,
           "6301.H. Submittal 1.7 28 Photographs.pdf",
           "H"
          ],
          [
           537291,
           "6301.H. Submittal 1.18_11.3 Spec 11066 Moveable Forestage.pdf",
           "H"
          ],
          [
           283560,
           "25 File 2806 R2.TIF",
           "H"
          ],
          [
           818402,
           "File 7401 Unreviewed Submittal 08.18.2003_20030825_0003.TIF",
           "H"
          ],
          [
           616260,
           "10.11.17_7126-T2.1.pdf",
           "H"
          ],
          [
           686541,
           "3124.H.Section 2.6 02720 1.3B3. Data & PVC Pipe; Storm Sewer System.pdf",
           "H"
          ],
          [
           536980,
           "6301.H.11.6 Sound System.pdf",
           "H"
          ],
          [
           708790,
           "3238_-_085113NC-008_R0_-_REVIEW_TRANSMITTAL.pdf",
           "H"
          ],
          [
           283182,
           "05 File 2806 P1.02.tif",
           "H"
          ],
          [
           732657,
           "3124.H.3124. H. 05120 Structural steel Shop Drawings R1_R2 part 3.pdf",
           "H"
          ],
          [
           211010,
           "02538-279.pdf",
           "H"
          ],
          [
           537275,
           "6301.H. Submittal 1.18  Spec 15170 Motors and Variable Freq. Drives.pdf",
           "H"
          ],
          [
           476357,
           "5201.H Submittal 1.12 Contract Schedule Mar 1993.pdf",
           "H"
          ],
          [
           908674,
           "3048.H.phase 2 plan 4 diagram marked.pdf",
           "H"
          ],
          [
           968688,
           "055000-01R2.pdf",
           "H"
          ],
          [
           686012,
           "3124.H. 5.1 B Structural Steel Shope Drawings (S30-S56) (1 set of Sepias) For Review and Approval.pdf",
           "H"
          ],
          [
           737893,
           "3124.H.Data & Fibrous Concrete Reinf.pdf",
           "H"
          ],
          [
           331994,
           "Submittal #71.pdf",
           "H"
          ],
          [
           537299,
           "6301.H. Submittal 1.19 Contract Close-Out As-Built Drawings.pdf",
           "H"
          ],
          [
           737856,
           "3124.H. O & M with Record Drawings.pdf",
           "H"
          ],
          [
           331967,
           "Submittal #21.pdf",
           "H"
          ],
          [
           578252,
           "File.8352.H. Submittals - 8.5 #08412 1.4C.pdf",
           "H"
          ],
          [
           304276,
           "01.10 and 01.27_SWPPP_Report_DPR_080808.pdf",
           "H"
          ],
          [
           706025,
           "3238_-_028233-02_R2_-_Hazardous_Abatement_Work_Plan_and_Submittal.pdf",
           "H"
          ],
          [
           332044,
           "Submittal #100.pdf",
           "H"
          ],
          [
           686539,
           "3124.H.Section 2.5 02675 1.4C. Welder's Performance Qual.; Underground Hot Water system.pdf",
           "H"
          ],
          [
           537506,
           "07 File 6301 Submittal 16.26.TIF",
           "H"
          ]
         ],
         "hovertemplate": "tag=%{customdata[2]}<br>umap_x=%{x}<br>umap_y=%{y}<br>file_id=%{customdata[0]}<br>filename=%{customdata[1]}<extra></extra>",
         "legendgroup": "H",
         "marker": {
          "color": "#16FF32",
          "line": {
           "width": 0
          },
          "opacity": 0.75,
          "size": 7,
          "symbol": "circle"
         },
         "mode": "markers",
         "name": "H",
         "showlegend": true,
         "type": "scattergl",
         "x": {
          "bdata": "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",
          "dtype": "f4"
         },
         "xaxis": "x",
         "y": {
          "bdata": "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",
          "dtype": "f4"
         },
         "yaxis": "y"
        },
        {
         "customdata": [
          [
           46213,
           "T2-00B.pdf",
           "F"
          ],
          [
           338387,
           "3238 Addendum 5.pdf",
           "F"
          ],
          [
           884156,
           "6630 F8 Facsimile.pdf",
           "F"
          ],
          [
           331933,
           "File 3209 S 02 COPY.TIF",
           "F"
          ],
          [
           831366,
           "File 9086 Certified Engineers Estimate.pdf",
           "F"
          ],
          [
           789038,
           "File 4931-005 NOAA Comments.pdf",
           "F"
          ],
          [
           282979,
           "File 2806.F3. Structural Calculations.pdf",
           "F"
          ],
          [
           361453,
           "File 3503 F7.1 Ponza Bros Bid Withdrawal 07.13.92.pdf",
           "F"
          ],
          [
           803775,
           "File 6701-001.F8 Brief Forms.pdf",
           "F"
          ],
          [
           329364,
           "File 3124 E 100.TIF",
           "F"
          ],
          [
           1029378,
           "Project 2500-073 Pre-Bid Walkthrough Agenda.doc",
           "F"
          ],
          [
           98866,
           "File 3701 SW 03.TIF",
           "F"
          ],
          [
           361715,
           "File 3504 F4 Advertisement for Bids 01.01.93 (3).pdf",
           "F"
          ],
          [
           329116,
           "File 3124 FA 04.TIF",
           "F"
          ],
          [
           862953,
           "3124.F1.1.Forwarded Final Documents 5.19.95.pdf",
           "F"
          ],
          [
           681721,
           "2600-113_f1.7.pdf",
           "F"
          ],
          [
           942334,
           "Summary Activity Report.pdf",
           "F"
          ],
          [
           939875,
           "VC #3 9097F.doc",
           "F"
          ],
          [
           682909,
           "4009_f5.pdf",
           "F"
          ],
          [
           742995,
           "8951B Low Bid Subcontractor List.pdf",
           "F"
          ],
          [
           682610,
           "3608-026_f1.1.pdf",
           "F"
          ],
          [
           883616,
           "6300-011 Theatrical Rigging 95% Progress Drawings.pdf",
           "F"
          ],
          [
           358955,
           "File 3404.F3 Additional Structural Calculations (Possibly Newer or Older).pdf",
           "F"
          ],
          [
           329205,
           "File 3124 AV 302.TIF",
           "F"
          ],
          [
           329351,
           "File 3124 A 713.TIF",
           "F"
          ],
          [
           536716,
           "068 File 6301 A308.TIF",
           "F"
          ],
          [
           917131,
           "File 5707-004.F1.4 Cathodic Test.pdf",
           "F"
          ],
          [
           581191,
           "04 Kitchen Exhaust Ducts-Sprinklers.pdf",
           "F"
          ],
          [
           251831,
           "File 2635 Agenda for Walkthrough.pdf",
           "F"
          ],
          [
           886961,
           "LF_E13_SelfCertification_Rev5-1-06.doc",
           "F"
          ],
          [
           940861,
           "File 1326 50CD Tramble Comments.xls",
           "F"
          ],
          [
           536534,
           "File 6301 M 017.TIF",
           "F"
          ],
          [
           937109,
           "2113.F7.1.Central Heating Plant - Cogen Replacement Phase I.pdf",
           "F"
          ],
          [
           752373,
           "4203.F7.1.Bid Protest Response to UBCJA Local 505.pdf",
           "F"
          ],
          [
           488378,
           "File 5501 College 9&10 DH Const 9-5-00.pdf",
           "F"
          ],
          [
           712684,
           "4000-012.F7.BF MASTER RQST & BID FRM 03_Sinsheimer Fume Hoods_Demonner.doc",
           "F"
          ],
          [
           541333,
           "6401-011.F6.Pre-Bid Sign In Sheet (10-07-16).pdf",
           "F"
          ],
          [
           145944,
           "Santa Cruz_7214_Mtham R 7214_Tier 1+R+C_20201107.pdf",
           "F"
          ],
          [
           98776,
           "File 3701 A 37.TIF",
           "F"
          ],
          [
           687345,
           "6644H.F8.Agreement.pdf",
           "F"
          ],
          [
           536821,
           "173 File 6301 P104.TIF",
           "F"
          ],
          [
           111230,
           "Bid CD.R0.0 - Add 2.pdf",
           "F"
          ],
          [
           329126,
           "File 3124 FA 14.TIF",
           "F"
          ],
          [
           870768,
           "RFI PRE044.pdf",
           "F"
          ],
          [
           536595,
           "File 6301 TR 103.TIF",
           "F"
          ],
          [
           367834,
           "File 3701 E 03.TIF",
           "F"
          ],
          [
           329230,
           "File 3124 G 05.TIF",
           "F"
          ],
          [
           98845,
           "File 3701 M 08.TIF",
           "F"
          ],
          [
           536858,
           "210 File 6301 AV303.TIF",
           "F"
          ],
          [
           25705,
           "1500-027C.F6.Pre-Bid Sign In Sheet.xlsx",
           "F"
          ],
          [
           883628,
           "6300-011 Certificate of Occupancy.pdf",
           "F"
          ],
          [
           145765,
           "Santa Cruz_7694_Center for Ocean Health_Form 1.pdf",
           "F"
          ],
          [
           145791,
           "Santa Cruz_7764_Crsn Drm DG_Form 1_R+C_20200222.pdf",
           "F"
          ],
          [
           536502,
           "File 6301 FP 02.TIF",
           "F"
          ],
          [
           358798,
           "#3401-003 NTP.pdf",
           "F"
          ],
          [
           937113,
           "2113.F7.1.Final UCSC Ad for Prequalified Subs BP#2-2.pdf",
           "F"
          ],
          [
           536354,
           "05 File 6301 A 103 (markups).TIF",
           "F"
          ],
          [
           898324,
           "2200-108.G11.RFP - PARC (12-12-16).pdf",
           "F"
          ],
          [
           329154,
           "File 3124 A 302.TIF",
           "F"
          ],
          [
           832109,
           "4843.F6.Bret Caton's Files Family Student Housing Fax.pdf",
           "F"
          ],
          [
           536325,
           "6301.F5 - Blueprint Batch #11, F.S Plan (3 of 6).pdf",
           "F"
          ],
          [
           246171,
           "File 2611.G15 Change Order No. 02 Squib 11.16.78.pdf",
           "F"
          ],
          [
           861032,
           "03-09-09 Devcon 1.pdf",
           "F"
          ],
          [
           712409,
           "3400-012.F7.Bid Sum.xls",
           "F"
          ],
          [
           940849,
           "1326 50CD Responses.xlsx",
           "F"
          ],
          [
           363035,
           "File 3600-016 NTP.pdf",
           "F"
          ],
          [
           742966,
           "03 8951B Request for Bid.pdf",
           "F"
          ],
          [
           536723,
           "075 File 6301 A324A.TIF",
           "F"
          ],
          [
           882727,
           "5201.F1.7. Prequalification.pdf",
           "F"
          ],
          [
           46162,
           "File 6701 F2.1 Autoclave Clearance.pdf",
           "F"
          ],
          [
           536387,
           "38 File 6301 A 421A.TIF",
           "F"
          ],
          [
           849257,
           "4932 50CD SD Comments..xls",
           "F"
          ],
          [
           911626,
           "4930.F7.1.4930.F7.1PreBidWalkthrough0001.pdf",
           "F"
          ],
          [
           690262,
           "Structural Calculations.pdf",
           "F"
          ],
          [
           146007,
           "Santa Cruz_7343_SH 308-316_Tier 1_R+C_20201029.pdf",
           "F"
          ],
          [
           329171,
           "File 3124 A 501.TIF",
           "F"
          ],
          [
           705816,
           "2700-111.F7.1.Notify Gregory Electric of Protest.doc",
           "F"
          ],
          [
           536527,
           "File 6301 M 010.TIF",
           "F"
          ],
          [
           329188,
           "File 3124 A 704.TIF",
           "F"
          ],
          [
           329113,
           "File 3124 FA 01.TIF",
           "F"
          ],
          [
           876307,
           "Addendum1_fax cover.doc",
           "F"
          ],
          [
           712943,
           "File 2739 Glass Associates Building Alts 3 2-13-03.pdf",
           "F"
          ],
          [
           163002,
           "100%CD Distribution List.xls",
           "F"
          ],
          [
           83591,
           "File 10069. F2. Crown Dining Seismic Evaluation.pdf",
           "F"
          ],
          [
           682366,
           "3201-102_f1.1.pdf",
           "F"
          ],
          [
           861038,
           "03-09-09 Zwart 2.pdf",
           "F"
          ],
          [
           113516,
           "Alts Ph1 3 combined PBW 4-25-15.BID.xls",
           "F"
          ],
          [
           536513,
           "File 6301 T 101.TIF",
           "F"
          ],
          [
           340072,
           "3238 F10 Major Revitalization.pdf",
           "F"
          ],
          [
           940009,
           "Bid bond return letter to Walker Telecomm.pdf",
           "F"
          ],
          [
           536444,
           "82 File 6301 A 831.TIF",
           "F"
          ],
          [
           612693,
           "12-6-2012 Baskin Crown Castle AT&T LTE Comments.xls",
           "F"
          ],
          [
           238996,
           "01_-_Bid_Form_Rev._7_-_08.07.17 (1).doc",
           "F"
          ],
          [
           329332,
           "File 3124 S 102B.TIF",
           "F"
          ],
          [
           845774,
           "Specs & Plans Issuance Log.doc",
           "F"
          ],
          [
           536298,
           "6301.F5.Blueprint Batch (#19) - (6 of 6).pdf",
           "F"
          ],
          [
           875832,
           "Alliance response to Cen-Con protest.pdf",
           "F"
          ],
          [
           712415,
           "6600-006.F7.Bid Summary.xls",
           "F"
          ],
          [
           367798,
           "3701.F5.college 7 signal level monitoring  coms. bldg drawing specs..pdf",
           "F"
          ],
          [
           879629,
           "Vani1_3236.doc",
           "F"
          ],
          [
           489896,
           "5503.F2.4 - Degenkold Transmittal and Correspondence, General Design Criteria.pdf",
           "F"
          ],
          [
           536427,
           "65 File 6301 A 751.TIF",
           "F"
          ],
          [
           536454,
           "File 6301 CCS 1.TIF",
           "F"
          ],
          [
           134989,
           "11200.F8.Insurance.pdf",
           "F"
          ],
          [
           236225,
           "1015-104 Crown College change order .pdf",
           "F"
          ],
          [
           912669,
           "5305-017.F8.5305-017 NTP, Contract Cover Letter.pdf",
           "F"
          ],
          [
           536696,
           "048 File 6301 A101.TIF",
           "F"
          ],
          [
           939985,
           "Documents Posted to PlanRoom.zip",
           "F"
          ],
          [
           329547,
           "File 3124. VT008. Preliminary drawings.pdf",
           "F"
          ],
          [
           536862,
           "6301.F5 Specs and Diagrams 2.pdf",
           "F"
          ],
          [
           145995,
           "Santa Cruz_7331_Family Student Housing F 15-17.pdf",
           "F"
          ],
          [
           536809,
           "161 File 6301 M16.TIF",
           "F"
          ],
          [
           340070,
           "Prequal for USCS Kresge - Draft tmg.pdf",
           "F"
          ],
          [
           539538,
           "02667.DOC",
           "F"
          ],
          [
           536297,
           "6301.F5.Blueprint Batch #18, Sheet #84.pdf",
           "F"
          ],
          [
           331938,
           "File 3209 S 04.TIF",
           "F"
          ],
          [
           536448,
           "File 6301 AV 201.TIF",
           "F"
          ],
          [
           693036,
           "File 1301.F3 Structural Plans and Details.pdf.pdf",
           "F"
          ],
          [
           1007888,
           "NTP Nat Sci Unit Two - Main Building Mechanical Area Reroofing.pdf",
           "F"
          ],
          [
           111324,
           "Reheat Coil Calcs.xlsx",
           "F"
          ],
          [
           705767,
           "10059.F7.1.Rejected Bid ltr not lowest.doc",
           "F"
          ],
          [
           720913,
           "1500-033.F8.Combined Executed Contract.zip",
           "F"
          ],
          [
           547579,
           "Contract Memo (VC3).doc.pdf",
           "F"
          ],
          [
           876555,
           "Specs_&_Plan_Log.doc",
           "F"
          ],
          [
           712872,
           "3614-026.F6.Bid Review Checklist.xlsx",
           "F"
          ],
          [
           329354,
           "File 3124 A 801.TIF",
           "F"
          ],
          [
           163098,
           "16710 Telecom Horizontal Cabling.pdf",
           "F"
          ],
          [
           805611,
           "File 6801.F1.4 RE- ECI - Bid Opening Tommorow.pdf",
           "F"
          ],
          [
           969781,
           "ADD #1 2-16-01 f7.doc",
           "F"
          ],
          [
           826899,
           "100% Design Development, August 2003.pdf",
           "F"
          ],
          [
           891685,
           "Agenda  for Walkthrough.doc",
           "F"
          ],
          [
           885668,
           "COST PROPOSAL.doc",
           "F"
          ],
          [
           145876,
           "Santa Cruz_7554_Graduate Student Housing 2_Form 1.pdf",
           "F"
          ],
          [
           486894,
           "File 5307.F3 Project Fund Lien Request.pdf",
           "F"
          ],
          [
           689372,
           "10062.F2.Bid Awards.pdf",
           "F"
          ],
          [
           849276,
           "140811_UCSC CBB Structural Comment Log.xlsx",
           "F"
          ],
          [
           886909,
           "Drill Tech prequal notice.doc",
           "F"
          ],
          [
           537570,
           "6301.F5 - Untitled Drawing (6).pdf",
           "F"
          ],
          [
           536503,
           "File 6301 FP 03.TIF",
           "F"
          ],
          [
           744846,
           "Sign in sheet.xls",
           "F"
          ],
          [
           236555,
           "2358 50 SD Comments.xlsx",
           "F"
          ],
          [
           705221,
           "3701.F1.4.oaksCollege.CorrespondanceMult1.pdf",
           "F"
          ],
          [
           329295,
           "File 3124 BA 602.TIF",
           "F"
          ],
          [
           667264,
           "1400-095.F6.Pre-Bid Conference - Job Walk Agenda .docx",
           "F"
          ],
          [
           963267,
           "8900-026_f1.1(2).pdf",
           "F"
          ],
          [
           831360,
           "File 9086 Sierra Mountain Bid.pdf",
           "F"
          ],
          [
           536237,
           "6300-009 Executed Contract.pdf",
           "F"
          ],
          [
           536172,
           "6300-004 95CD Specs.pdf",
           "F"
          ],
          [
           744860,
           "Kohler K_4368 bowl.pdf",
           "F"
          ],
          [
           537553,
           "6301.F5 - F.S Plan (1).pdf",
           "F"
          ],
          [
           13193,
           "1302-030.F7.Carriage House updated proposal.pdf",
           "F"
          ],
          [
           975627,
           "1600-180.F.pdf 1600-180  Insurance.pdf",
           "F"
          ],
          [
           2362,
           "Request_Over_$100,000.doc",
           "F"
          ],
          [
           91368,
           "ESI Bid.pdf",
           "F"
          ],
          [
           537574,
           "6301.F5 - X Section Details (4).pdf",
           "F"
          ],
          [
           716711,
           "File 6001.F8 Contract Docs.pdf",
           "F"
          ],
          [
           329294,
           "File 3124 BA 601.TIF",
           "F"
          ],
          [
           875379,
           "Bid Bond Return Letter_North State Specialty.doc",
           "F"
          ],
          [
           599358,
           "Transmittal.pdf",
           "F"
          ],
          [
           849272,
           "4932 50CD Structural Comment .xlsx",
           "F"
          ],
          [
           307115,
           "File 3000-120 Minardi Engineering.pdf",
           "F"
          ],
          [
           718986,
           "3701.F7.oaksCollege.Correspondance1.pdf",
           "F"
          ],
          [
           536364,
           "14 File 6301 A 204.TIF",
           "F"
          ],
          [
           874118,
           "Summary Sections & Files Report.pdf",
           "F"
          ],
          [
           331889,
           "File 3209 A 05.TIF",
           "F"
          ],
          [
           682970,
           "4018_f7.pdf",
           "F"
          ],
          [
           921935,
           "6201 BID SUMMARY_001.pdf",
           "F"
          ],
          [
           238744,
           "BP CERT 12 SPECIALTIES - FINAL SIGNED EH.pdf",
           "F"
          ],
          [
           739827,
           "5507.F3.ModularStudentHousingMultipSesmicReeview.pdf",
           "F"
          ],
          [
           536813,
           "165 File 6301 M103.TIF",
           "F"
          ],
          [
           81497,
           "Cookhouse 50% CD Struct Calcs.pdf",
           "F"
          ],
          [
           177639,
           "Messina Bid Form.pdf",
           "F"
          ],
          [
           537520,
           "6301-003.F5.Blueprint Batch #13, F.S Plan, Music Facility (5 of 6).pdf",
           "F"
          ],
          [
           876088,
           "SHORT ADVERTISEMENT.pdf",
           "F"
          ],
          [
           861039,
           "03-09-09 Zwart.pdf",
           "F"
          ],
          [
           79030,
           "10063.F6 Affirmative Action.pdf",
           "F"
          ],
          [
           329092,
           "1960.DOC",
           "F"
          ],
          [
           536817,
           "169 File 6301 P102.TIF",
           "F"
          ],
          [
           546491,
           "File 6630 Cupertino Electric Bid Protest.pdf",
           "F"
          ],
          [
           940003,
           "Wulff Electric Bid Protest for 9098B .pdf",
           "F"
          ],
          [
           536748,
           "100 File 6301 A501.TIF",
           "F"
          ],
          [
           681687,
           "2600-109_f7.pdf",
           "F"
          ],
          [
           976085,
           "Bid Form Wk Mgmt f7.doc",
           "F"
          ],
          [
           577244,
           "8346.F6.Affirmative Action Program.pdf",
           "F"
          ],
          [
           939964,
           "Hinson Response.pdf",
           "F"
          ],
          [
           741045,
           "2318-069B.F1.2318-069B REBID Pre-Bid Conference Sign In.doc",
           "F"
          ],
          [
           25838,
           "File 1503. F4. SupplementaryInstructionstoBidders_Rev5-31-07.doc",
           "F"
          ],
          [
           329322,
           "File 3124 BL 101.TIF",
           "F"
          ],
          [
           329184,
           "File 3124 A 621.TIF",
           "F"
          ],
          [
           536414,
           "56 File 6301 A 604.TIF",
           "F"
          ],
          [
           176412,
           "1734-010.F10. Agreement.pdf",
           "F"
          ],
          [
           862285,
           "Prequal Eval.xls",
           "F"
          ],
          [
           536343,
           "6301.F5 - Blueprint Batch #7, F.S Plan, 2nd Floor & Low Roof Framing (2 of 6).pdf",
           "F"
          ],
          [
           943928,
           "Notice of Selection for 1700-186 Stevenson Residence Halls 5,6,7 & 8 Interior Refresh.pdf",
           "F"
          ],
          [
           476550,
           "5202.F7 Bid Summary Form 3.pdf",
           "F"
          ],
          [
           939980,
           "VC 2_9097L.doc",
           "F"
          ],
          [
           331915,
           "File 3209 CE 01.TIF",
           "F"
          ],
          [
           712442,
           "3701.F1.5.OaksCollege.Correspondance3.pdf",
           "F"
          ],
          [
           535654,
           "6201-029.F6.Pre-Bid Conference Contact List.pdf",
           "F"
          ],
          [
           329231,
           "File 3124 L 101.TIF",
           "F"
          ],
          [
           536847,
           "199 File 6301 FA102.TIF",
           "F"
          ],
          [
           962400,
           "6003-1_f8.pdf",
           "F"
          ],
          [
           837371,
           "Shaw Construction Correspondence.pdf",
           "F"
          ],
          [
           874051,
           "5501. F8. Contract Docuements .pdf",
           "F"
          ],
          [
           329244,
           "File 3124 M  803.TIF",
           "F"
          ],
          [
           990674,
           "1311-012.F7.AlamedaRoofing_BidForm.pdf",
           "F"
          ],
          [
           478242,
           "5300-048A.F7.BID - detention basin fence (GRANTSCAPE).docx",
           "F"
          ],
          [
           536875,
           "Submittal List for Agreement.xls",
           "F"
          ],
          [
           113519,
           "Bid.Budget.xlsx",
           "F"
          ],
          [
           247713,
           "7951S22-S2.2.PDF",
           "F"
          ],
          [
           590362,
           "9000.F7.Water Meter Installation.pdf",
           "F"
          ],
          [
           536407,
           "52 File 6301 A 600.TIF",
           "F"
          ],
          [
           115791,
           "Evaluation_SCComp.rpt",
           "F"
          ],
          [
           547638,
           "6644J.F7.1.Bid Protest Determination Letter- Noland Building.pdf",
           "F"
          ],
          [
           958109,
           "5303-037.F7.Trade Pkg 5.pdf",
           "F"
          ],
          [
           536867,
           "File 6301 Topo 1 of 2.TIF",
           "F"
          ],
          [
           74256,
           "10000-081.F6.Pre Bid Walk.pdf",
           "F"
          ],
          [
           367826,
           "File 3701 A 26.TIF",
           "F"
          ],
          [
           25000,
           "14134 scanned calcs.pdf",
           "F"
          ],
          [
           943076,
           "T&B Comm Bid Bond.pdf",
           "F"
          ],
          [
           105291,
           "File 10626-003 Prebid Conference Attendance.pdf",
           "F"
          ],
          [
           479882,
           "File 5303-024 C.Carmichael Email Re Oven Install Contract.pdf",
           "F"
          ],
          [
           536200,
           "Mini Form 6300-007A.pdf",
           "F"
          ],
          [
           329241,
           "File 3124 M  602.TIF",
           "F"
          ],
          [
           942364,
           "Acknowledgement Letter to Rollin Electric.pdf",
           "F"
          ],
          [
           74672,
           "10000-200.F6.Water Metering 2016 Pre-Bid Conference - Job Walk Agenda.docx",
           "F"
          ],
          [
           940838,
           "prequalification_evaluation.docx",
           "F"
          ],
          [
           1022137,
           "4503-015.F7.Bay Tree Bookstore Renovation Bid Summary.pdf",
           "F"
          ],
          [
           863823,
           "3124.F1.1.Peer & Independent Seismic Review 9.25.95.pdf",
           "F"
          ],
          [
           329237,
           "File 3124 M  102.TIF",
           "F"
          ],
          [
           367829,
           "3701.F5.Architectural.pdf",
           "F"
          ],
          [
           943036,
           "8880-002B F7 Bids, Bid Results & Bid Checklist.pdf",
           "F"
          ],
          [
           836657,
           "3700-069.F8.BM112 Contractor Proposal.pdf",
           "F"
          ],
          [
           986450,
           "1310-001.F1.6.Contract_Comments.pdf",
           "F"
          ],
          [
           939949,
           "File 9097H Bid Set Specifications.pdf",
           "F"
          ],
          [
           144699,
           "File 3124 Architectural Sheets Vol A.pdf",
           "F"
          ],
          [
           329160,
           "File 3124 A 422.TIF",
           "F"
          ],
          [
           861034,
           "03-09-09 Devcon_Lalanne.pdf",
           "F"
          ],
          [
           942149,
           "8. if_supplementary_instructions_to_bidders.docx",
           "F"
          ],
          [
           98863,
           "File 3701 M 28.TIF",
           "F"
          ],
          [
           975659,
           "1600-180.F.1600-180 Cowell Adams HHP Replacement Bid Result.pdf",
           "F"
          ],
          [
           687341,
           "5501-025.F7.Bid Form.pdf",
           "F"
          ],
          [
           536175,
           "File 6300-004 Notice to Proceed.pdf",
           "F"
          ],
          [
           536779,
           "131 File 6301 A820.TIF",
           "F"
          ],
          [
           311888,
           "04  Advertisment for Bids tmg.docx",
           "F"
          ],
          [
           883632,
           "CFR 32013-82 Increase 2.pdf",
           "F"
          ],
          [
           25295,
           "1500-027.F1.1500-027 RFB - MG Creations Construction (5-10-16) - drawings.pdf",
           "F"
          ],
          [
           943062,
           "Permission to Solicit 9098C Memo .pdf",
           "F"
          ],
          [
           872886,
           "10000-047.F4.Plan Deposit Reciept Log.pdf",
           "F"
          ],
          [
           251857,
           "File 2636 1-Z Soft Demolition.pdf",
           "F"
          ],
          [
           25708,
           "1500-027C.F6.Pre-Bid Conf Sign-in Sheet (06-07-16).pdf",
           "F"
          ],
          [
           115767,
           "LA.RPT",
           "F"
          ],
          [
           975467,
           "10 1500-027 General Conditions.docx",
           "F"
          ],
          [
           742836,
           "8900-070.F1.cb=gapi(5).loaded_0",
           "F"
          ],
          [
           874759,
           "10070.F1.Rebid Alternates Correspondence 6.19.07.pdf",
           "F"
          ],
          [
           537555,
           "6301.F5 - F.S Plan (3).pdf",
           "F"
          ],
          [
           938994,
           "Please_DocuSign_NTP_6300-016_Music_Center_Ba.pdf",
           "F"
          ],
          [
           705830,
           "3314.F7.1.Kerr_Hall_8-11-12_Protest.doc",
           "F"
          ],
          [
           546065,
           "File 6629.F6 3.24.98 Pre Bid Conference.pdf",
           "F"
          ],
          [
           75233,
           "TEMP005.TIF",
           "F"
          ],
          [
           536378,
           "29 File 6301 A 322.TIF",
           "F"
          ],
          [
           238796,
           "CBB.CM Precon Fee Matrix.xls",
           "F"
          ],
          [
           756185,
           "1600-093.F7.Bid Sum Housing Addl Laundry Improvements.xls",
           "F"
          ],
          [
           873013,
           "3310.F4.Plan Deposit Reciept Log.pdf",
           "F"
          ],
          [
           943954,
           "Escrow in Lieu of Retention - WRP Building A & B Research Office Renovation.pdf",
           "F"
          ],
          [
           364459,
           "File 3618.F1.1.pdf",
           "F"
          ],
          [
           272626,
           "File 2700-128.F7 Bid Results.pdf",
           "F"
          ],
          [
           712825,
           "1400-084A.F1.4.Bid Bond Return Letter.doc",
           "F"
          ],
          [
           329262,
           "File 3124 S 203.TIF",
           "F"
          ],
          [
           943659,
           "Santa Cruz_7273_Mtham RHUYPK Huygen Reservoir_Tier 1_R+C_20250128.pdf",
           "F"
          ],
          [
           364460,
           "File 3618.F1.3 Bidding.pdf",
           "F"
          ],
          [
           686233,
           "6202.F6.Pre-Bid Conference Contact List.pdf",
           "F"
          ],
          [
           887016,
           "File 9086. F7.1 . Anderson Pacific Bid Protest 6.22.09.pdf",
           "F"
          ],
          [
           536660,
           "012 File 6301 C104.TIF",
           "F"
          ],
          [
           74255,
           "10000-081.F6.Elevator List.pdf",
           "F"
          ],
          [
           863825,
           "3124.F1.Bid Advertisement Correspondence 12.14.96.pdf",
           "F"
          ],
          [
           943924,
           "1700-186.F7.1 Bid Protest.pdf",
           "F"
          ],
          [
           863832,
           "3124.F1.Resolution of Board Directors.pdf",
           "F"
          ],
          [
           78304,
           "UBP201901230500.pdf",
           "F"
          ],
          [
           492481,
           "File 5507 F7 Request to Have Project Bid 06.06.97.pdf",
           "F"
          ],
          [
           332367,
           "File 3212. F6. Kresge Stair Repair R3, R4, R5 - Affirmative Action.pdf",
           "F"
          ],
          [
           958129,
           "bidsummaries5303037workpackage1.zip",
           "F"
          ],
          [
           137944,
           "#12040-004 NTP.pdf",
           "F"
          ],
          [
           331929,
           "File 3209 L 05.TIF",
           "F"
          ],
          [
           788084,
           "4926.F7.1.4926.F7GHWBid0001.pdf",
           "F"
          ],
          [
           75241,
           "005 File 10010 P2.2.TIF",
           "F"
          ],
          [
           970484,
           "Bid Results 5.16.03.pdf",
           "F"
          ],
          [
           536322,
           "6301.F5.Blueprint Batch #6 - F.S Plan (4 of 6).pdf",
           "F"
          ],
          [
           788210,
           "File 4928 Transmittal - Plan check.pdf",
           "F"
          ],
          [
           893855,
           "1652.F7.Various Bids.pdf",
           "F"
          ],
          [
           537554,
           "6301.F5 - F.S Plan (2).pdf",
           "F"
          ],
          [
           849201,
           "BP #14 -  Mechanical.Controls.pdf",
           "F"
          ],
          [
           955510,
           "3406.F10.Escrow Correspondence.pdf",
           "F"
          ],
          [
           536574,
           "File 6301 S 107.TIF",
           "F"
          ],
          [
           329141,
           "File 3124 A 101.TIF",
           "F"
          ],
          [
           180455,
           "File 1810 Central Pacific Engineering 90CD Electrical Review.pdf",
           "F"
          ],
          [
           943022,
           "Summary Sections & Files Report.pdf",
           "F"
          ],
          [
           687487,
           "10014.F4.Advertisement for Bids.pdf",
           "F"
          ],
          [
           367817,
           "File 3701 A 02.TIF",
           "F"
          ],
          [
           25865,
           "File 1503. F7. BCI Sub List- Attach A.pdf",
           "F"
          ],
          [
           536712,
           "064 File 6301 A303.TIF",
           "F"
          ],
          [
           98859,
           "File 3701 M 24.TIF",
           "F"
          ],
          [
           536714,
           "066 File 6301 A305.TIF",
           "F"
          ],
          [
           612989,
           "E6 - COLLEGE 8.pdf",
           "F"
          ],
          [
           75101,
           "10000-241.F3 UCSC MME 90 CD Structural Calculations.pdf",
           "F"
          ],
          [
           329125,
           "File 3124 FA 13.TIF",
           "F"
          ],
          [
           367809,
           "3701.F5.oaks proposed changes handicapped specification drawings.pdf",
           "F"
          ],
          [
           329219,
           "File 3124 E 111.TIF",
           "F"
          ],
          [
           886943,
           "LF_C01_Certification_Rev1-2-96.doc",
           "F"
          ],
          [
           178396,
           "1800-188.F4 Bid Request.pdf",
           "F"
          ],
          [
           539627,
           "15060.DOC",
           "F"
          ],
          [
           230464,
           "Crown, Pre-Con sign-in sheet 6-15-12.docx",
           "F"
          ],
          [
           329356,
           "File 3124 A 831.TIF",
           "F"
          ],
          [
           332399,
           "File.3214.F1. Bidding Correspondence - Kresge College Roof Repairs - Stair & Bath Reapirs - Painting.pdf",
           "F"
          ],
          [
           474189,
           "Contractor Signed Agreement pages.pdf",
           "F"
          ],
          [
           97846,
           "10085-002 Bid Results.pdf",
           "F"
          ],
          [
           591553,
           "Fiber Backbone Installation Signed Form1.pdf",
           "F"
          ],
          [
           875044,
           "10070.F4.Addenda No. 1 Mike Hinson Construction Inc. Signed 6.1.07.pdf",
           "F"
          ],
          [
           115786,
           "dbvalid.rpt",
           "F"
          ],
          [
           874912,
           "LF_E15_CertificateofSubstantial Completion_Rev2-1-04.doc",
           "F"
          ],
          [
           892633,
           "Cowell Building C1 DT Locations Elevation.pdf",
           "F"
          ],
          [
           536410,
           "54 File 6301 A 602.TIF",
           "F"
          ],
          [
           311895,
           "project Bid Walk Agenda date template.doc",
           "F"
          ],
          [
           819616,
           "7501.F3 100DD Structural Calculations.pdf",
           "F"
          ],
          [
           684122,
           "8500-013_f1.1.pdf",
           "F"
          ],
          [
           875643,
           "BE Mail Out List 1651.doc",
           "F"
          ],
          [
           741969,
           "PSB Lab 386 Modifications.pdf",
           "F"
          ],
          [
           883613,
           "6300-011 - UCSC Recital Hall Rigging Equipment Modernization 2022-04-18 95% Prorgess.pdf",
           "F"
          ],
          [
           537515,
           "6301-003.F5.Blueprint Batch #12, F.S Plan, 2nd Floor & Low Roof Framing (2 of 6).pdf",
           "F"
          ],
          [
           536522,
           "File 6301 M 005.TIF",
           "F"
          ],
          [
           536585,
           "File 6301 S 304.TIF",
           "F"
          ],
          [
           536785,
           "137 File 6301 TR-101.TIF",
           "F"
          ],
          [
           875483,
           "Job Walk.pdf",
           "F"
          ],
          [
           911820,
           "Letter to Mike Hinson Construction 5-8-18.pdf",
           "F"
          ],
          [
           943660,
           "Santa Cruz_7279_MTHAM LABMES_Tier 1.pdf",
           "F"
          ],
          [
           236614,
           "2017_04_20_ADDENDUM_1_30x42_sheets_1_.pdf",
           "F"
          ],
          [
           163024,
           "File 1651 Cen-Con Inc.pdf",
           "F"
          ],
          [
           738738,
           "1311-014.F8.GRANARY SIDEWALK AND SHED.doc",
           "F"
          ],
          [
           367818,
           "File 3701 A 03.TIF",
           "F"
          ],
          [
           683202,
           "4999-006_f1.1.pdf",
           "F"
          ],
          [
           861035,
           "03-09-09 Robinson.pdf",
           "F"
          ],
          [
           849280,
           "Plan Reviewers Template ID 6416.xls",
           "F"
          ],
          [
           875829,
           "Campus Response to protest of bid rejection.docx",
           "F"
          ],
          [
           535834,
           "File 6203. F7.1. PSB FIFS Lab Remodel Bid Protest Decision.doc",
           "F"
          ],
          [
           536524,
           "File 6301 M 007.TIF",
           "F"
          ],
          [
           536464,
           "002 File 6301 C 100.TIF",
           "F"
          ],
          [
           536589,
           "File 6301 TE 101.TIF",
           "F"
          ],
          [
           957111,
           "WP1.0_BP12 Acoustical Ceilings.pdf",
           "F"
          ],
          [
           887396,
           "Bid Bond Return Letter_Hinson.doc",
           "F"
          ],
          [
           238877,
           "Attach_A_GL_WC.pdf",
           "F"
          ],
          [
           145916,
           "Santa Cruz_7046_L CT APT 702_Form 1_R+C_20201028.pdf",
           "F"
          ],
          [
           720881,
           "8884-002.F8.Clean Fuel Connection, Inc. Contract.doc",
           "F"
          ],
          [
           145797,
           "Santa Cruz_7803_CRSN APT 4_Form 1_R+C_20200224.pdf",
           "F"
          ],
          [
           536299,
           "6301.F5.Blueprint Batch (#19) - F.S Plan (3 of 6).pdf",
           "F"
          ],
          [
           239014,
           "Attachment_C_-_BP_05_Cabinets_Casework_Counters_08.31 (1).pdf",
           "F"
          ],
          [
           942294,
           "3608-035 VC3 Memo.pdf",
           "F"
          ],
          [
           942341,
           "Exhibit 2 - CSLB C-22 Abatement Classification.pdf",
           "F"
          ],
          [
           942305,
           "Cen-Con Bid for 3608-035 Rebid.pdf",
           "F"
          ],
          [
           732774,
           "11021.F6.2021-03-25 Design Phase Kickoff Meeting Agenda.pdf",
           "F"
          ],
          [
           939797,
           "BidSum 9081_corrected.xls",
           "F"
          ],
          [
           536836,
           "188 File 6301 E301.TIF",
           "F"
          ],
          [
           875383,
           "Vani #3 1650-004.doc",
           "F"
          ],
          [
           887403,
           "Vani1_10010.doc",
           "F"
          ],
          [
           247706,
           "7951_100%DD peer review comments response.pdf",
           "F"
          ],
          [
           376737,
           "4101 Bid Results.pdf",
           "F"
          ],
          [
           368722,
           "3710.F7.Bid Summary Forms.pdf",
           "F"
          ],
          [
           874136,
           "BCCI Price Proposal.pdf",
           "F"
          ],
          [
           329223,
           "File 3124 E 221.TIF",
           "F"
          ],
          [
           873035,
           "6636.F4.Plan Deposit Reciept Log.pdf",
           "F"
          ],
          [
           536453,
           "File 6301 AV 303.TIF",
           "F"
          ],
          [
           849202,
           "BP #15 - CBB Sitework.pdf",
           "F"
          ],
          [
           536308,
           "6301.F5.Blueprint Batch #18, Sheet #74.pdf",
           "F"
          ],
          [
           331920,
           "File 3209 ME 03.TIF",
           "F"
          ],
          [
           361753,
           "File 3504 F6 Job Walk Through Attendance Sign-In 07.12.95.pdf",
           "F"
          ],
          [
           111320,
           "Load Sum Updated 11-9-15.xlsx",
           "F"
          ],
          [
           329110,
           "00 File 3124.pdf",
           "F"
          ],
          [
           539642,
           "15510.DOC",
           "F"
          ],
          [
           726258,
           "10064-005.F2.10064-005 Project LCP Report - July 2006.doc",
           "F"
          ],
          [
           536368,
           "19 File 6301 A 302.TIF",
           "F"
          ],
          [
           536359,
           "10 File 6301 A 105.TIF",
           "F"
          ],
          [
           831367,
           "File 9086 Engineer's opinion of Proabable Cost.doc",
           "F"
          ],
          [
           872278,
           "Executed Escrow Agreement.pdf",
           "F"
          ],
          [
           367795,
           "3701.F1.6.oaks plastic pipe confidential general counsel.pdf",
           "F"
          ],
          [
           12867,
           "1302-025.F6.REBID Request For Bid.pdf",
           "F"
          ],
          [
           586893,
           "8900-065.F7.11b 8900-065 Performance  Bond.pdf",
           "F"
          ],
          [
           744692,
           "Section 09110",
           "F"
          ],
          [
           546267,
           "File 6630 Fire Pump Review Request.pdf",
           "F"
          ],
          [
           75239,
           "002 File 10010 P0.1.TIF",
           "F"
          ],
          [
           892888,
           "4.4.3 Changes-Additions to Drawings.pdf",
           "F"
          ],
          [
           98804,
           "File 3701 E 01.TIF",
           "F"
          ],
          [
           536812,
           "164 File 6301 M102.TIF",
           "F"
          ],
          [
           853913,
           "Bid Package 12.pdf",
           "F"
          ],
          [
           83652,
           "Pre-Bid - List of Names.pdf",
           "F"
          ],
          [
           917511,
           "Section 15890 - 3",
           "F"
          ],
          [
           329240,
           "File 3124 M  601.TIF",
           "F"
          ],
          [
           230074,
           "2300-096.F7.1.3905_001-1.pdf",
           "F"
          ],
          [
           329345,
           "File 3124 A 113.TIF",
           "F"
          ],
          [
           478410,
           "Mini Form 5300-049.pdf",
           "F"
          ],
          [
           613049,
           "CVR - COVER SHEET.pdf",
           "F"
          ],
          [
           329385,
           "File 3124 Contract Document Volume I.pdf",
           "F"
          ]
         ],
         "hovertemplate": "tag=%{customdata[2]}<br>umap_x=%{x}<br>umap_y=%{y}<br>file_id=%{customdata[0]}<br>filename=%{customdata[1]}<extra></extra>",
         "legendgroup": "F",
         "marker": {
          "color": "#565656",
          "line": {
           "width": 0
          },
          "opacity": 0.75,
          "size": 7,
          "symbol": "circle"
         },
         "mode": "markers",
         "name": "F",
         "showlegend": true,
         "type": "scattergl",
         "x": {
          "bdata": "D3UOQfbHDUEUvjtBeJtDQa3zBUFVeThBHioVQVyuJEF5RhtBEhVDQTqME0GfMzxBpfj5QE+bC0EqzTJBhttBQdsTIkF71gVB5EwGQWhHEUGKRSFBmng+QZv9JUEU3kJBOQU4QZxVIkG9+wtBRhgKQTpkEkFUbBJBWhQNQSCqCEEmPwhBh4v9QDCzA0G6ReVA6jQ2QX29/EAApEFByfTxQNeRPUH8QhdBaBwPQa7EC0EBiB9B1W5CQQRIJ0FyNUFBe4JDQch3JkG9JOlAQ4D7QFOJ+0Dv+kJBiEAQQUT+8UACCiZB77jRQHRLJ0H9LNtAUBc/QV1VOUEuQwRBzR4gQWWYBUFb2elAE/38QB9wRUF8qQdBB2DpQJnPRkF7AiBBRGQUQdV2HkHKDvxAsBc/QRjRCkGhDDhBgns8QU/1P0Hy/zZBbbQ3Qbn4IUFmzwNBTNHTQONhCUHwrhRBAsgTQZP+5UDH2uNA518iQZZrIEGV/whBRRckQTIKIEHjSTdB4l0FQf8dIEGe2DZBAbwGQRhNAkERYCJBUkZAQZMMDkG39QlB2GTzQKEgMEHMwPtASEg+QYyvC0HwwPxALn5DQXsKEEExifZAlQE/QVNnQ0FfazxBHAUcQW7QAUGmFiFB0oYLQQV6/EB3CfJAkwkhQacJI0GaPEBB1qkuQe2SDEGvtQlBwun8QDdAE0EHsA5Bp9j7QK+U50CoKjtBsZPsQAo1BkEElzpB0zk+QctSCkFhPzJBBGsQQe8tQkFOiBJBd0cfQdbzBEENJkFB06A9QeJRF0Gc9TBBw08CQVOBC0EqeB1Bqzj5QPAYN0EZxddAgK4tQVZjB0HchUVBTpXsQFFQOkHO+wdBbZ8aQbDkJEFSsD1B00UDQR/GOUE7ZgtBgeQ6QXs/N0F3XyBBIpg5QWQDOUHZHQBBysoJQaTe80ACl+RA31xDQdMwN0H3iwRB9ZQ5QS0qQEFLrwJBzoP+QFjXDEHiHDdB9poCQcZRDkEhkDpB2MEnQeFZBkFKgiNBXY03QXwx8kBzmvxAaSQJQR6NPUE6VQZBv6M0QTecPkGSzwxBBFcDQc7X70CID8tAWAYjQZb5AUEh3wtBm6MhQRNeH0EEEh9B9OoCQUjrJkEaQQVB7obhQI66JEG8KUZBEzcRQcX/O0HbdfxAq1cAQYucMUHkkQ1BgSXoQBdmREFJlN1AnqETQdFKE0HxR/1AZBk7QSfWPkGIZztBB0ICQXdkEEFU3FRBnQwRQUfYQ0GdyDdBrlUCQc3ACEEaIENB6xsLQSOEAkHNL0JByfU/QRoq+0D8dRJBNmcaQdwb9UC8WD9BGggOQXoFOEH3DQNBeroTQZY+FEFA7SJBs046QXULQkH89gNBgUc2QSZsDEGTSjpBjDkXQThAIEHTDUBBPa7oQLzgBUFH7RNBK5cBQU/PEkFlBPxAgr8FQfusMkFfhQZBIF4iQXOsI0HcEedABu7aQOSD8kBfkf1AyCseQUBqAkGyChxBLuD3QPW+PkGbMQZBBDUNQf/ECUHp/jdBpjREQTkILUFp+DNBAfr+QIvs5kDUjT1BU1dCQUihCkEb+BxB5knuQPrNQUHgihJBxM03QUToP0H/eiNBhpMLQefOD0H7uURByn0/QWPOOEFE5QVBkpbzQGO6D0EZ+clAsX45QaREB0EAEglBEdkMQT0K7kDqpjdBGWolQW/AJ0H5DB1BtIAlQbYgwEAk/QJBPvQhQcDs1kB/jPxAEeA8QdCPN0EGxgxBX9AfQbDLQkHbEDZBPpDxQPaA/ECrJiNBna85QeR1A0EpCxVBTDwiQfWJC0EsqSRBktQlQa18BUGRejZBBq45QVvrEEG0RDxB2DkIQWjSC0HAgftAbkQBQfuY/UD9EEJBamsPQcf19kCqrtFA7K0CQYfzCEFVIx9B3rtAQYgoCEHIVQdBAR8GQZM2FEH5PgVBrCbeQP1wO0HwTD9BSNsvQRJBHEHgqENBWkc3QeGrO0GqTx5BKdVCQdtAEkEvrCZBd8YjQcNMK0G/XgVBnFHlQGmtC0EsLABB8drPQGEGEkE8WjpBnCELQXRmGUFjL0JBnzc6QZUzDUEw/ztBX0MLQTZhP0E/swRBQtwjQaKj8EBRtz9B7aDaQA==",
          "dtype": "f4"
         },
         "xaxis": "x",
         "y": {
          "bdata": "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",
          "dtype": "f4"
         },
         "yaxis": "y"
        }
       ],
       "layout": {
        "height": 800,
        "legend": {
         "bordercolor": "rgba(0,0,0,0.2)",
         "borderwidth": 1,
         "itemsizing": "trace",
         "title": {
          "text": "Tag"
         },
         "tracegroupgap": 0
        },
        "template": {
         "data": {
          "bar": [
           {
            "error_x": {
             "color": "#2a3f5f"
            },
            "error_y": {
             "color": "#2a3f5f"
            },
            "marker": {
             "line": {
              "color": "#E5ECF6",
              "width": 0.5
             },
             "pattern": {
              "fillmode": "overlay",
              "size": 10,
              "solidity": 0.2
             }
            },
            "type": "bar"
           }
          ],
          "barpolar": [
           {
            "marker": {
             "line": {
              "color": "#E5ECF6",
              "width": 0.5
             },
             "pattern": {
              "fillmode": "overlay",
              "size": 10,
              "solidity": 0.2
             }
            },
            "type": "barpolar"
           }
          ],
          "carpet": [
           {
            "aaxis": {
             "endlinecolor": "#2a3f5f",
             "gridcolor": "white",
             "linecolor": "white",
             "minorgridcolor": "white",
             "startlinecolor": "#2a3f5f"
            },
            "baxis": {
             "endlinecolor": "#2a3f5f",
             "gridcolor": "white",
             "linecolor": "white",
             "minorgridcolor": "white",
             "startlinecolor": "#2a3f5f"
            },
            "type": "carpet"
           }
          ],
          "choropleth": [
           {
            "colorbar": {
             "outlinewidth": 0,
             "ticks": ""
            },
            "type": "choropleth"
           }
          ],
          "contour": [
           {
            "colorbar": {
             "outlinewidth": 0,
             "ticks": ""
            },
            "colorscale": [
             [
              0,
              "#0d0887"
             ],
             [
              0.1111111111111111,
              "#46039f"
             ],
             [
              0.2222222222222222,
              "#7201a8"
             ],
             [
              0.3333333333333333,
              "#9c179e"
             ],
             [
              0.4444444444444444,
              "#bd3786"
             ],
             [
              0.5555555555555556,
              "#d8576b"
             ],
             [
              0.6666666666666666,
              "#ed7953"
             ],
             [
              0.7777777777777778,
              "#fb9f3a"
             ],
             [
              0.8888888888888888,
              "#fdca26"
             ],
             [
              1,
              "#f0f921"
             ]
            ],
            "type": "contour"
           }
          ],
          "contourcarpet": [
           {
            "colorbar": {
             "outlinewidth": 0,
             "ticks": ""
            },
            "type": "contourcarpet"
           }
          ],
          "heatmap": [
           {
            "colorbar": {
             "outlinewidth": 0,
             "ticks": ""
            },
            "colorscale": [
             [
              0,
              "#0d0887"
             ],
             [
              0.1111111111111111,
              "#46039f"
             ],
             [
              0.2222222222222222,
              "#7201a8"
             ],
             [
              0.3333333333333333,
              "#9c179e"
             ],
             [
              0.4444444444444444,
              "#bd3786"
             ],
             [
              0.5555555555555556,
              "#d8576b"
             ],
             [
              0.6666666666666666,
              "#ed7953"
             ],
             [
              0.7777777777777778,
              "#fb9f3a"
             ],
             [
              0.8888888888888888,
              "#fdca26"
             ],
             [
              1,
              "#f0f921"
             ]
            ],
            "type": "heatmap"
           }
          ],
          "histogram": [
           {
            "marker": {
             "pattern": {
              "fillmode": "overlay",
              "size": 10,
              "solidity": 0.2
             }
            },
            "type": "histogram"
           }
          ],
          "histogram2d": [
           {
            "colorbar": {
             "outlinewidth": 0,
             "ticks": ""
            },
            "colorscale": [
             [
              0,
              "#0d0887"
             ],
             [
              0.1111111111111111,
              "#46039f"
             ],
             [
              0.2222222222222222,
              "#7201a8"
             ],
             [
              0.3333333333333333,
              "#9c179e"
             ],
             [
              0.4444444444444444,
              "#bd3786"
             ],
             [
              0.5555555555555556,
              "#d8576b"
             ],
             [
              0.6666666666666666,
              "#ed7953"
             ],
             [
              0.7777777777777778,
              "#fb9f3a"
             ],
             [
              0.8888888888888888,
              "#fdca26"
             ],
             [
              1,
              "#f0f921"
             ]
            ],
            "type": "histogram2d"
           }
          ],
          "histogram2dcontour": [
           {
            "colorbar": {
             "outlinewidth": 0,
             "ticks": ""
            },
            "colorscale": [
             [
              0,
              "#0d0887"
             ],
             [
              0.1111111111111111,
              "#46039f"
             ],
             [
              0.2222222222222222,
              "#7201a8"
             ],
             [
              0.3333333333333333,
              "#9c179e"
             ],
             [
              0.4444444444444444,
              "#bd3786"
             ],
             [
              0.5555555555555556,
              "#d8576b"
             ],
             [
              0.6666666666666666,
              "#ed7953"
             ],
             [
              0.7777777777777778,
              "#fb9f3a"
             ],
             [
              0.8888888888888888,
              "#fdca26"
             ],
             [
              1,
              "#f0f921"
             ]
            ],
            "type": "histogram2dcontour"
           }
          ],
          "mesh3d": [
           {
            "colorbar": {
             "outlinewidth": 0,
             "ticks": ""
            },
            "type": "mesh3d"
           }
          ],
          "parcoords": [
           {
            "line": {
             "colorbar": {
              "outlinewidth": 0,
              "ticks": ""
             }
            },
            "type": "parcoords"
           }
          ],
          "pie": [
           {
            "automargin": true,
            "type": "pie"
           }
          ],
          "scatter": [
           {
            "fillpattern": {
             "fillmode": "overlay",
             "size": 10,
             "solidity": 0.2
            },
            "type": "scatter"
           }
          ],
          "scatter3d": [
           {
            "line": {
             "colorbar": {
              "outlinewidth": 0,
              "ticks": ""
             }
            },
            "marker": {
             "colorbar": {
              "outlinewidth": 0,
              "ticks": ""
             }
            },
            "type": "scatter3d"
           }
          ],
          "scattercarpet": [
           {
            "marker": {
             "colorbar": {
              "outlinewidth": 0,
              "ticks": ""
             }
            },
            "type": "scattercarpet"
           }
          ],
          "scattergeo": [
           {
            "marker": {
             "colorbar": {
              "outlinewidth": 0,
              "ticks": ""
             }
            },
            "type": "scattergeo"
           }
          ],
          "scattergl": [
           {
            "marker": {
             "colorbar": {
              "outlinewidth": 0,
              "ticks": ""
             }
            },
            "type": "scattergl"
           }
          ],
          "scattermap": [
           {
            "marker": {
             "colorbar": {
              "outlinewidth": 0,
              "ticks": ""
             }
            },
            "type": "scattermap"
           }
          ],
          "scattermapbox": [
           {
            "marker": {
             "colorbar": {
              "outlinewidth": 0,
              "ticks": ""
             }
            },
            "type": "scattermapbox"
           }
          ],
          "scatterpolar": [
           {
            "marker": {
             "colorbar": {
              "outlinewidth": 0,
              "ticks": ""
             }
            },
            "type": "scatterpolar"
           }
          ],
          "scatterpolargl": [
           {
            "marker": {
             "colorbar": {
              "outlinewidth": 0,
              "ticks": ""
             }
            },
            "type": "scatterpolargl"
           }
          ],
          "scatterternary": [
           {
            "marker": {
             "colorbar": {
              "outlinewidth": 0,
              "ticks": ""
             }
            },
            "type": "scatterternary"
           }
          ],
          "surface": [
           {
            "colorbar": {
             "outlinewidth": 0,
             "ticks": ""
            },
            "colorscale": [
             [
              0,
              "#0d0887"
             ],
             [
              0.1111111111111111,
              "#46039f"
             ],
             [
              0.2222222222222222,
              "#7201a8"
             ],
             [
              0.3333333333333333,
              "#9c179e"
             ],
             [
              0.4444444444444444,
              "#bd3786"
             ],
             [
              0.5555555555555556,
              "#d8576b"
             ],
             [
              0.6666666666666666,
              "#ed7953"
             ],
             [
              0.7777777777777778,
              "#fb9f3a"
             ],
             [
              0.8888888888888888,
              "#fdca26"
             ],
             [
              1,
              "#f0f921"
             ]
            ],
            "type": "surface"
           }
          ],
          "table": [
           {
            "cells": {
             "fill": {
              "color": "#EBF0F8"
             },
             "line": {
              "color": "white"
             }
            },
            "header": {
             "fill": {
              "color": "#C8D4E3"
             },
             "line": {
              "color": "white"
             }
            },
            "type": "table"
           }
          ]
         },
         "layout": {
          "annotationdefaults": {
           "arrowcolor": "#2a3f5f",
           "arrowhead": 0,
           "arrowwidth": 1
          },
          "autotypenumbers": "strict",
          "coloraxis": {
           "colorbar": {
            "outlinewidth": 0,
            "ticks": ""
           }
          },
          "colorscale": {
           "diverging": [
            [
             0,
             "#8e0152"
            ],
            [
             0.1,
             "#c51b7d"
            ],
            [
             0.2,
             "#de77ae"
            ],
            [
             0.3,
             "#f1b6da"
            ],
            [
             0.4,
             "#fde0ef"
            ],
            [
             0.5,
             "#f7f7f7"
            ],
            [
             0.6,
             "#e6f5d0"
            ],
            [
             0.7,
             "#b8e186"
            ],
            [
             0.8,
             "#7fbc41"
            ],
            [
             0.9,
             "#4d9221"
            ],
            [
             1,
             "#276419"
            ]
           ],
           "sequential": [
            [
             0,
             "#0d0887"
            ],
            [
             0.1111111111111111,
             "#46039f"
            ],
            [
             0.2222222222222222,
             "#7201a8"
            ],
            [
             0.3333333333333333,
             "#9c179e"
            ],
            [
             0.4444444444444444,
             "#bd3786"
            ],
            [
             0.5555555555555556,
             "#d8576b"
            ],
            [
             0.6666666666666666,
             "#ed7953"
            ],
            [
             0.7777777777777778,
             "#fb9f3a"
            ],
            [
             0.8888888888888888,
             "#fdca26"
            ],
            [
             1,
             "#f0f921"
            ]
           ],
           "sequentialminus": [
            [
             0,
             "#0d0887"
            ],
            [
             0.1111111111111111,
             "#46039f"
            ],
            [
             0.2222222222222222,
             "#7201a8"
            ],
            [
             0.3333333333333333,
             "#9c179e"
            ],
            [
             0.4444444444444444,
             "#bd3786"
            ],
            [
             0.5555555555555556,
             "#d8576b"
            ],
            [
             0.6666666666666666,
             "#ed7953"
            ],
            [
             0.7777777777777778,
             "#fb9f3a"
            ],
            [
             0.8888888888888888,
             "#fdca26"
            ],
            [
             1,
             "#f0f921"
            ]
           ]
          },
          "colorway": [
           "#636efa",
           "#EF553B",
           "#00cc96",
           "#ab63fa",
           "#FFA15A",
           "#19d3f3",
           "#FF6692",
           "#B6E880",
           "#FF97FF",
           "#FECB52"
          ],
          "font": {
           "color": "#2a3f5f"
          },
          "geo": {
           "bgcolor": "white",
           "lakecolor": "white",
           "landcolor": "#E5ECF6",
           "showlakes": true,
           "showland": true,
           "subunitcolor": "white"
          },
          "hoverlabel": {
           "align": "left"
          },
          "hovermode": "closest",
          "mapbox": {
           "style": "light"
          },
          "paper_bgcolor": "white",
          "plot_bgcolor": "#E5ECF6",
          "polar": {
           "angularaxis": {
            "gridcolor": "white",
            "linecolor": "white",
            "ticks": ""
           },
           "bgcolor": "#E5ECF6",
           "radialaxis": {
            "gridcolor": "white",
            "linecolor": "white",
            "ticks": ""
           }
          },
          "scene": {
           "xaxis": {
            "backgroundcolor": "#E5ECF6",
            "gridcolor": "white",
            "gridwidth": 2,
            "linecolor": "white",
            "showbackground": true,
            "ticks": "",
            "zerolinecolor": "white"
           },
           "yaxis": {
            "backgroundcolor": "#E5ECF6",
            "gridcolor": "white",
            "gridwidth": 2,
            "linecolor": "white",
            "showbackground": true,
            "ticks": "",
            "zerolinecolor": "white"
           },
           "zaxis": {
            "backgroundcolor": "#E5ECF6",
            "gridcolor": "white",
            "gridwidth": 2,
            "linecolor": "white",
            "showbackground": true,
            "ticks": "",
            "zerolinecolor": "white"
           }
          },
          "shapedefaults": {
           "line": {
            "color": "#2a3f5f"
           }
          },
          "ternary": {
           "aaxis": {
            "gridcolor": "white",
            "linecolor": "white",
            "ticks": ""
           },
           "baxis": {
            "gridcolor": "white",
            "linecolor": "white",
            "ticks": ""
           },
           "bgcolor": "#E5ECF6",
           "caxis": {
            "gridcolor": "white",
            "linecolor": "white",
            "ticks": ""
           }
          },
          "title": {
           "x": 0.05
          },
          "xaxis": {
           "automargin": true,
           "gridcolor": "white",
           "linecolor": "white",
           "ticks": "",
           "title": {
            "standoff": 15
           },
           "zerolinecolor": "white",
           "zerolinewidth": 2
          },
          "yaxis": {
           "automargin": true,
           "gridcolor": "white",
           "linecolor": "white",
           "ticks": "",
           "title": {
            "standoff": 15
           },
           "zerolinecolor": "white",
           "zerolinewidth": 2
          }
         }
        },
        "title": {
         "text": "UMAP of MiniLM embeddings (model=all-MiniLM-L6-v2) – Top-Level Tags (excl. 'A')"
        },
        "width": 1000,
        "xaxis": {
         "anchor": "y",
         "domain": [
          0,
          1
         ],
         "title": {
          "text": "umap_x"
         }
        },
        "yaxis": {
         "anchor": "x",
         "domain": [
          0,
          1
         ],
         "title": {
          "text": "umap_y"
         }
        }
       }
      }
     },
     "metadata": {},
     "output_type": "display_data"
    },
    {
     "name": "stdout",
     "output_type": "stream",
     "text": [
      "Visualization complete.\n"
     ]
    }
   ],
   "source": [
    "if df_vis.empty:\n",
    "    print(\"No data available for visualization. Check database connection, model name, or tag filters.\")\n",
    "else:\n",
    "    # Ensure deterministic color mapping (sorted tags)\n",
    "    unique_tags = sorted(df_vis['tag'].unique())\n",
    "    color_discrete_sequence = px.colors.qualitative.Alphabet\n",
    "    # If more tags than palette length, cycle\n",
    "    palette = [color_discrete_sequence[i % len(color_discrete_sequence)] for i in range(len(unique_tags))]\n",
    "    tag_color_map = {t: palette[i] for i, t in enumerate(unique_tags)}\n",
    "\n",
    "    fig = px.scatter(\n",
    "        df_vis,\n",
    "        x='umap_x',\n",
    "        y='umap_y',\n",
    "        color='tag',\n",
    "        hover_data=['file_id', 'filename', 'tag'],\n",
    "        title=f\"UMAP of MiniLM embeddings (model={MODEL_NAME}) – Top-Level Tags (excl. 'A')\",\n",
    "        width=1000,\n",
    "        height=800,\n",
    "        opacity=0.75,\n",
    "        color_discrete_map=tag_color_map,\n",
    "    )\n",
    "    fig.update_layout(legend_title_text=\"Tag\", legend=dict(itemsizing='trace', bordercolor='rgba(0,0,0,0.2)', borderwidth=1))\n",
    "    fig.update_traces(marker=dict(size=7, line=dict(width=0)))\n",
    "    fig.show()\n",
    "    print(\"Visualization complete.\")"
   ]
  }
 ],
 "metadata": {
  "kernelspec": {
   "display_name": ".venv",
   "language": "python",
   "name": "python3"
  },
  "language_info": {
   "codemirror_mode": {
    "name": "ipython",
    "version": 3
   },
   "file_extension": ".py",
   "mimetype": "text/x-python",
   "name": "python",
   "nbconvert_exporter": "python",
   "pygments_lexer": "ipython3",
   "version": "3.13.5"
  }
 },
 "nbformat": 4,
 "nbformat_minor": 5
}
