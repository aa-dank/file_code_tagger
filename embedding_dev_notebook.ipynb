{
 "cells": [
  {
   "cell_type": "code",
   "execution_count": 1,
   "id": "b1e9dc39",
   "metadata": {},
   "outputs": [
    {
     "ename": "SyntaxError",
     "evalue": "invalid syntax (4258843389.py, line 6)",
     "output_type": "error",
     "traceback": [
      "  \u001b[36mCell\u001b[39m\u001b[36m \u001b[39m\u001b[32mIn[1]\u001b[39m\u001b[32m, line 6\u001b[39m\n\u001b[31m    \u001b[39m\u001b[31mnfrom db.models import File, FileLocation, FilingTag, FileTagLabel, FileEmbedding\u001b[39m\n          ^\n\u001b[31mSyntaxError\u001b[39m\u001b[31m:\u001b[39m invalid syntax\n"
     ]
    }
   ],
   "source": [
    "import logging\n",
    "import os\n",
    "import shutil\n",
    "import traceback\n",
    "import tempfile\n",
    "nfrom db.models import File, FileLocation, FilingTag, FileTagLabel, FileEmbedding\n",
    "from db.db import get_db_engine\n",
    "from embedding.minilm import MiniLMEmbedder\n",
    "from sqlalchemy import func\n",
    "from sqlalchemy.orm import Session\n",
    "from text_extraction.pdf_extraction import PDFTextExtractor\n",
    "from text_extraction.basic_extraction import TextFileTextExtractor, TikaTextExtractor, get_extractor_for_file\n",
    "from text_extraction.image_extraction import ImageTextExtractor\n",
    "from text_extraction.office_doc_extraction import PresentationTextExtractor, SpreadsheetTextExtractor, WordFileTextExtractor\n",
    "from text_extraction.web_extraction import HtmlTextExtractor, EmailTextExtractor\n",
    "from text_extraction.extraction_utils import common_char_replacements, strip_diacritics, normalize_unicode, normalize_whitespace\n",
    "from logging_setups import setup_logger\n"
   ]
  },
  {
   "cell_type": "code",
   "execution_count": null,
   "id": "498d092e",
   "metadata": {},
   "outputs": [],
   "source": [
    "import logging\n",
    "import os\n",
    "import shutil\n",
    "import traceback\n",
    "import tempfile\n",
    "from db.models import File, FileLocation, FilingTag, FileTagLabel, FileEmbedding\n",
    "from db.db import get_db_engine\n",
    "from embedding.minilm import MiniLMEmbedder\n",
    "from sqlalchemy import func\n",
    "from sqlalchemy.orm import Session\n",
    "from text_extraction.pdf_extraction import PDFTextExtractor\n",
    "from text_extraction.basic_extraction import TextFileTextExtractor, TikaTextExtractor, get_extractor_for_file\n",
    "from text_extraction.image_extraction import ImageTextExtractor\n",
    "from text_extraction.office_doc_extraction import PresentationTextExtractor, SpreadsheetTextExtractor, WordFileTextExtractor\n",
    "from text_extraction.web_extraction import HtmlTextExtractor, EmailTextExtractor\n",
    "from text_extraction.extraction_utils import common_char_replacements, strip_diacritics, normalize_unicode, normalize_whitespace\n",
    "from logging_setups import setup_logger\n"
   ]
  }
 ],
 "metadata": {
  "kernelspec": {
   "display_name": ".venv",
   "language": "python",
   "name": "python3"
  },
  "language_info": {
   "codemirror_mode": {
    "name": "ipython",
    "version": 3
   },
   "file_extension": ".py",
   "mimetype": "text/x-python",
   "name": "python",
   "nbconvert_exporter": "python",
   "pygments_lexer": "ipython3",
   "version": "3.13.6"
  }
 },
 "nbformat": 4,
 "nbformat_minor": 5
}
