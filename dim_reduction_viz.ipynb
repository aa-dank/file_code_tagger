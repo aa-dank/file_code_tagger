{
 "cells": [
  {
   "cell_type": "markdown",
   "id": "7031381c",
   "metadata": {},
   "source": [
    "# Dimensionality Reduction of Top-Level Filing Tags (Excluding 'A')\n",
    "This notebook:\n",
    "\n",
    "1. Connects to the project database (MiniLM embeddings).\n",
    "2. Pulls embeddings for files whose assigned tag is a *top-level* filing tag (no parent) excluding the 'A' tag.\n",
    "3. Balances samples per tag (up to `MAX_PER_TAG`).\n",
    "4. Applies L2 normalization, PCA (pre-dimension reduction), then UMAP to 2D.\n",
    "5. Produces an interactive Plotly scatter with distinct colors per tag.\n",
    "\n",
    "If database credentials are missing or the query returns no rows, the notebook will print a clear message and skip plotting.\n"
   ]
  },
  {
   "cell_type": "code",
   "execution_count": 11,
   "id": "ef85fba9",
   "metadata": {},
   "outputs": [
    {
     "name": "stderr",
     "output_type": "stream",
     "text": [
      "2025-09-11 19:24:18,775 db.db INFO Creating database engine\n"
     ]
    }
   ],
   "source": [
    "# cell 1: imports & setup\n",
    "import os\n",
    "import random\n",
    "import numpy as np\n",
    "import pandas as pd\n",
    "\n",
    "from sklearn.decomposition import PCA\n",
    "from sklearn.preprocessing import normalize\n",
    "import umap.umap_ as umap\n",
    "import plotly.express as px\n",
    "\n",
    "from sqlalchemy.orm import sessionmaker\n",
    "\n",
    "# Your existing db models\n",
    "from db.models import FileEmbedding, FileTagLabel, FilingTag, File\n",
    "from db.db import get_db_engine\n",
    "\n",
    "# ---- Config ----\n",
    "MODEL_NAME = \"all-MiniLM-L6-v2\"\n",
    "MAX_PER_TAG = 300\n",
    "RANDOM_SEED = 42\n",
    "PCA_PRECOMP = 50\n",
    "\n",
    "UMAP_PARAMS = dict(\n",
    "    n_neighbors=15,\n",
    "    min_dist=0.1,\n",
    "    metric='cosine'\n",
    ")\n",
    "\n",
    "engine = get_db_engine()\n",
    "Session = sessionmaker(bind=engine)\n",
    "session = Session()\n"
   ]
  },
  {
   "cell_type": "code",
   "execution_count": 12,
   "id": "276bec6f",
   "metadata": {},
   "outputs": [],
   "source": [
    "def fetch_embeddings_tags(engine_model_name, split=None, parent_tag=None, max_per_tag=MAX_PER_TAG, top_level_exclude_A: bool = False):\n",
    "    \"\"\"\n",
    "    Fetch MiniLM embeddings and associated tags / filenames from the database.\n",
    "\n",
    "    Returns a DataFrame with columns: file_id, tag, filename, embedding (np.array).\n",
    "\n",
    "    Filtering modes (mutually aware):\n",
    "        top_level_exclude_A=True  -> only FilingTag rows where parent_label IS NULL AND tag != 'A'.\n",
    "        parent_tag=\"X\"            -> restrict to descendants whose parent_label == parent_tag (ignored if top_level_exclude_A True).\n",
    "        split=\"train|val|test\"    -> restrict by FileTagLabel.split.\n",
    "\n",
    "    Notes:\n",
    "        * Correct joins use file hash (File.hash) because FileEmbedding & FileTagLabel are keyed on file_hash.\n",
    "        * File itself has no filename column; we take the (first) FileLocation.filename via LEFT OUTER JOIN.\n",
    "        * Sampling is done client‑side per tag after full retrieval; for very large tables consider a SQL sampling strategy.\n",
    "    \"\"\"\n",
    "    # Base query assembling required pieces.\n",
    "    # We pick the first filename by using MIN(FileLocation.filename) aggregation in a subquery to avoid duplicate rows per location.\n",
    "    from sqlalchemy import func\n",
    "    from sqlalchemy.orm import aliased\n",
    "\n",
    "    # Subquery to get a representative filename per file_id (min over filenames)\n",
    "    from db.models import FileEmbedding as FE, File as F, FileTagLabel as FTL, FilingTag as FT, FileLocation as FL\n",
    "\n",
    "    filename_subq = (\n",
    "        session.query(FL.file_id.label('fl_file_id'), func.min(FL.filename).label('rep_filename'))\n",
    "        .group_by(FL.file_id)\n",
    "        .subquery()\n",
    "    )\n",
    "\n",
    "    q = (\n",
    "        session.query(\n",
    "            F.id.label('file_id'),\n",
    "            FE.minilm_emb.label('embedding'),\n",
    "            FTL.tag.label('tag'),\n",
    "            filename_subq.c.rep_filename.label('filename')\n",
    "        )\n",
    "        .join(FE, FE.file_hash == F.hash)          # FileEmbedding -> File via hash\n",
    "        .join(FTL, F.hash == FTL.file_hash)        # Tag labels via hash\n",
    "        .join(FT, FT.label == FTL.tag)             # FilingTag for hierarchy filters\n",
    "        .outerjoin(filename_subq, filename_subq.c.fl_file_id == F.id)  # representative filename\n",
    "        .filter(FE.minilm_model == engine_model_name)\n",
    "    )\n",
    "\n",
    "    if top_level_exclude_A:\n",
    "        q = q.filter(FT.parent_label.is_(None)).filter(FTL.tag != 'A')\n",
    "    elif parent_tag is not None:\n",
    "        # Children of specific parent\n",
    "        q = q.filter(FT.parent_label == parent_tag)\n",
    "\n",
    "    if split is not None:\n",
    "        q = q.filter(FTL.split == split)\n",
    "\n",
    "    rows = q.all()\n",
    "    if not rows:\n",
    "        return pd.DataFrame([])\n",
    "\n",
    "    # Group and sample per tag\n",
    "    tag2rows = {}\n",
    "    for file_id, emb_vec, tag, filename in rows:\n",
    "        if emb_vec is None:\n",
    "            continue\n",
    "        # pgvector returns a list-like already; ensure numpy array float\n",
    "        emb_np = np.array(emb_vec, dtype=float)\n",
    "        tag2rows.setdefault(tag, []).append((file_id, emb_np, filename or \"\"))\n",
    "\n",
    "    random.seed(RANDOM_SEED)\n",
    "    records = []\n",
    "    for tag, items in tag2rows.items():\n",
    "        if not items:\n",
    "            continue\n",
    "        if len(items) > max_per_tag:\n",
    "            items = random.sample(items, max_per_tag)\n",
    "        for fid, emb_arr, fname in items:\n",
    "            records.append({\n",
    "                'file_id': fid,\n",
    "                'tag': tag,\n",
    "                'filename': fname,\n",
    "                'embedding': emb_arr\n",
    "            })\n",
    "\n",
    "    return pd.DataFrame(records)\n",
    "\n",
    "\n",
    "def reduce_dims(df, embedding_col='embedding'):\n",
    "    \"\"\"\n",
    "    Given df with an embedding column (np.array), do normalization, PCA, UMAP.\n",
    "    The necessary dataframe columns are: 'file_id', 'tag', 'filename', embedding_col.\n",
    "\n",
    "    Returns df augmented by 'umap_x','umap_y' (and optionally PCA columns).\n",
    "    \"\"\"\n",
    "    if df.empty:\n",
    "        return df\n",
    "    X = np.vstack(df[embedding_col].values)\n",
    "    X_norm = normalize(X, norm='l2')\n",
    "\n",
    "    pca = PCA(n_components=min(PCA_PRECOMP, X_norm.shape[1]), random_state=RANDOM_SEED)\n",
    "    X_pca = pca.fit_transform(X_norm)\n",
    "    print(\"Explained variance ratio (first few components):\", pca.explained_variance_ratio_[:10])\n",
    "\n",
    "    reducer = umap.UMAP(**UMAP_PARAMS, random_state=RANDOM_SEED)\n",
    "    X_umap = reducer.fit_transform(X_pca)\n",
    "\n",
    "    df2 = df.copy()\n",
    "    for i in range(min(5, X_pca.shape[1])):\n",
    "        df2[f'pca_{i}'] = X_pca[:, i]\n",
    "    df2['umap_x'] = X_umap[:, 0]\n",
    "    df2['umap_y'] = X_umap[:, 1]\n",
    "    return df2\n"
   ]
  },
  {
   "cell_type": "code",
   "execution_count": 13,
   "id": "7dfedbef",
   "metadata": {},
   "outputs": [
    {
     "name": "stdout",
     "output_type": "stream",
     "text": [
      "Number of points fetched: 2100\n",
      "Tag counts:\n",
      " tag\n",
      "B    300\n",
      "G    300\n",
      "H    300\n",
      "E    300\n",
      "D    300\n",
      "F    300\n",
      "C    300\n",
      "Name: count, dtype: int64\n",
      "Explained variance ratio (first few components): [0.08548264 0.04174839 0.03548706 0.03101033 0.02861427 0.02512823\n",
      " 0.0223553  0.01926928 0.01753276 0.01604993]\n",
      "Explained variance ratio (first few components): [0.08548264 0.04174839 0.03548706 0.03101033 0.02861427 0.02512823\n",
      " 0.0223553  0.01926928 0.01753276 0.01604993]\n"
     ]
    },
    {
     "name": "stderr",
     "output_type": "stream",
     "text": [
      "c:\\Users\\adankert\\projects\\file_code_tagger\\.venv\\Lib\\site-packages\\umap\\umap_.py:1952: UserWarning:\n",
      "\n",
      "n_jobs value 1 overridden to 1 by setting random_state. Use no seed for parallelism.\n",
      "\n"
     ]
    }
   ],
   "source": [
    "df_raw = fetch_embeddings_tags(MODEL_NAME, split='train', parent_tag=None, max_per_tag=MAX_PER_TAG, top_level_exclude_A=True)\n",
    "if df_raw.empty:\n",
    "    print(\"No rows returned for the selected criteria (top-level tags excluding 'A').\")\n",
    "else:\n",
    "    print(\"Number of points fetched:\", len(df_raw))\n",
    "    print(\"Tag counts:\\n\", df_raw['tag'].value_counts())\n",
    "\n",
    "df_vis = reduce_dims(df_raw)"
   ]
  },
  {
   "cell_type": "markdown",
   "id": "85cde9e6",
   "metadata": {},
   "source": [
    "# Top-Level Tag Embedding Visualization (Excluding 'A')\n",
    "This notebook:\n",
    "\n",
    "1. Loads MiniLM embeddings for files whose assigned tag is a *top-level* filing tag (no parent) except 'A'.\n",
    "2. Samples up to `MAX_PER_TAG` items per tag for balance.\n",
    "3. L2 normalizes embeddings, does PCA (pre-reduction) then UMAP to 2D.\n",
    "4. Plots an interactive scatter with distinct colors per tag.\n",
    "\n",
    "If no rows are returned (e.g., env vars / DB not set or tags missing), the notebook will report and skip plotting.\n",
    "\n",
    "Adjustable knobs near the top: `MAX_PER_TAG`, `PCA_PRECOMP`, and `UMAP_PARAMS`.\n"
   ]
  },
  {
   "cell_type": "code",
   "execution_count": 14,
   "id": "c93a272d",
   "metadata": {},
   "outputs": [
    {
     "data": {
      "application/vnd.plotly.v1+json": {
       "config": {
        "plotlyServerURL": "https://plot.ly"
       },
       "data": [
        {
         "customdata": [
          [
           693418,
           "LEED-Online_ Scorecard and ...pdf",
           "B"
          ],
          [
           179347,
           "File 1810 Certificate of Compliance 2-21-07 (2).pdf",
           "B"
          ],
          [
           693662,
           "EB green power template.pdf",
           "B"
          ],
          [
           179319,
           "File 1810 Certificate of Compliance 8-23-06.pdf",
           "B"
          ],
          [
           790193,
           "UC Santa Cruz Mail - Coastal Biology Building intake.pdf",
           "B"
          ],
          [
           789638,
           "UCSC Biomed 2007-08 Cost Plan Workbook UCSC Biomed CD 103008.pdf",
           "B"
          ],
          [
           95993,
           "Merrill College - 100% CD Drawings.pdf",
           "B"
          ],
          [
           11320,
           "01-118629_UCSC Science Eng Library.pdf",
           "B"
          ],
          [
           382095,
           "2001.7.18_Bowman Williams Calculations for Repair Project.pdf",
           "B"
          ],
          [
           712322,
           "10638-007.B6.FM Plan Review Approval 10.09.2023.pdf",
           "B"
          ],
          [
           337841,
           "190219_KRESGE_MARCHREGENTS_SLIDES_DRAFT_R1.pptx",
           "B"
          ],
          [
           314074,
           "001 File A1.00 BW.TIF",
           "B"
          ],
          [
           789327,
           "TEMPLATE-XXcX-UCSC CBB-design-review-response-MMDDYY.doc",
           "B"
          ],
          [
           85313,
           "LEED NC V2.2.pdf",
           "B"
          ],
          [
           179324,
           "File 1810 Certificate of Compliance 8-4-06.pdf",
           "B"
          ],
          [
           615991,
           "9803D FM Plan Review Approval 09.01.22.pdf",
           "B"
          ],
          [
           337900,
           "Figure 21 Stormwater Management.pdf",
           "B"
          ],
          [
           789515,
           "Traffic Tecnical Study in CLRDP DEIR Appendices.pdf",
           "B"
          ],
          [
           757423,
           "1600-199.B12 Project Information.pdf",
           "B"
          ],
          [
           956401,
           "SC_RCC_Dining_Action Item Ex funding approval Signed.pdf",
           "B"
          ],
          [
           790060,
           "W Phase Submittal - incomplete.pdf",
           "B"
          ],
          [
           832968,
           "File 10633 DSA.pdf",
           "B"
          ],
          [
           710939,
           "4000-021 DSA Fee Check Transmittal_2019-09-25.xls",
           "B"
          ],
          [
           357889,
           "3313.B7.DSA ACS Approval Letter.pdf",
           "B"
          ],
          [
           24760,
           "File 1299-014 Valuation Threshold.pdf",
           "B"
          ],
          [
           944285,
           "RE  Porter A LEED calcs.msg",
           "B"
          ],
          [
           545475,
           "6623.B2.UCSC.MtHamilton.TENMeterEmergencyGen.pdf",
           "B"
          ],
          [
           235603,
           "File 2358.B6 FM Planreview Transmittal 100% SD.pdf",
           "B"
          ],
          [
           702991,
           "5303.B12.Terms and Conditions Approval of O&Ms.pdf",
           "B"
          ],
          [
           944440,
           "TemplateRenderer.pdf",
           "B"
          ],
          [
           790169,
           "sample from ucop - serc_bid1_annotated.pdf",
           "B"
          ],
          [
           382051,
           "2018-0038 UCSC FSH - Single Line Diagrams - 2018-05-29 - red marks by Benson -2018-06-29.pdf",
           "B"
          ],
          [
           725784,
           "a - Credit 1.3A Template.pdf",
           "B"
          ],
          [
           214687,
           "UCSC DG5-1 Cogen Project 11-12-2014AP (5).docx",
           "B"
          ],
          [
           944255,
           "TemplateRenderer.pdf",
           "B"
          ],
          [
           898422,
           "Beneficial Occupancy Merrill Phase 3_2014-09-26.xls",
           "B"
          ],
          [
           179622,
           "Attachment U.pdf",
           "B"
          ],
          [
           95967,
           "6. LSU - Cost Plan Workbook (Fire Alarm) - W Sumbmittal.xlsm",
           "B"
          ],
          [
           489382,
           "File 5501-018.B6. Plan Review Approval.pdf",
           "B"
          ],
          [
           381703,
           "AC-003.pdf",
           "B"
          ],
          [
           667155,
           "1324.B10.Concrete_Waste_Management.TIF",
           "B"
          ],
          [
           693971,
           "a - PreReq 1 Template.pdf",
           "B"
          ],
          [
           785704,
           "PlanField Review Fee Calculator.pdf",
           "B"
          ],
          [
           789404,
           "123553 - LEED Laboratory Wood Casework FSC Wood Back Up.pdf",
           "B"
          ],
          [
           789535,
           "reciept 2906_001.pdf",
           "B"
          ],
          [
           576398,
           "8300-042 FM_Approval_Stamp_Signature - UCSC FINAL 12.21.21.pdf",
           "B"
          ],
          [
           744924,
           "028900011.pdf",
           "B"
          ],
          [
           485503,
           "File 5304-016.B7 DSA Approval Letter 01_115463_0.pdf",
           "B"
          ],
          [
           354815,
           "F5 Action Item.pdf",
           "B"
          ],
          [
           338273,
           "Field Review Fee Calculator - THALL.pdf",
           "B"
          ],
          [
           179539,
           "IDc1.1 Transportation CR response.pdf",
           "B"
          ],
          [
           282179,
           "IDc1.4_Template_SubmittedOn_12132010.pdf",
           "B"
          ],
          [
           25037,
           "1500-027.A2.Entryway_Replace_Application.pdf",
           "B"
          ],
          [
           716798,
           "DSA_95.pdf",
           "B"
          ],
          [
           790087,
           "6a CBB W1 Cost Plan workbook INFRA.pdf",
           "B"
          ],
          [
           710498,
           "1. DSA_160.DSA Appeal.01-120907_response 230901r.pdf",
           "B"
          ],
          [
           975044,
           "10.2.20 UC 2020-21 Capital Outlay Letter-Final Approval-CC.pdf",
           "B"
          ],
          [
           898421,
           "Beneficial Occupancy Merrill Phase 3_2014-09-26.pdf",
           "B"
          ],
          [
           179377,
           "File 1810 Certificate of Compliance 7-28-06.pdf",
           "B"
          ],
          [
           694025,
           "a - PreReq 1 Template.pdf",
           "B"
          ],
          [
           944504,
           "2008_1216_porter-vicinity-map.jpg",
           "B"
          ],
          [
           805072,
           "Conceptual Fire Protection Plan.pdf",
           "B"
          ],
          [
           338239,
           "3238 RNEW FM Plan Review Approval 02.12.21.pdf",
           "B"
          ],
          [
           548323,
           "SWPPP INSPECTION CHECKLISTS 5-16-11 page.doc",
           "B"
          ],
          [
           46229,
           "007 File 6701 1.05.tif",
           "B"
          ],
          [
           338154,
           "10 ACAD_KRESGE_95DD.pdf",
           "B"
          ],
          [
           944514,
           "SW_North.jpg",
           "B"
          ],
          [
           809694,
           "UCSC_Engineering_Building_4.pdf",
           "B"
          ],
          [
           898423,
           "Merrill Phase 3 SFM Approval_2013-11-07.pdf",
           "B"
          ],
          [
           752663,
           "8900-084.B6.8900-084 FM Plan Review Approval 02.15.2024.pdf",
           "B"
          ],
          [
           179692,
           "Correspondence Vice Chancellor .pdf",
           "B"
          ],
          [
           548898,
           "111808 UCSC Biomed LEED Matrix prep mtg.pdf",
           "B"
          ],
          [
           179363,
           "File 1810 Certificate of Compliance 1-30-07.pdf",
           "B"
          ],
          [
           790021,
           "1 CBB W1 cover letter 7-18-14-DKB-Rev3.docx",
           "B"
          ],
          [
           789498,
           "Pedaling Towards Sustainable Stewardship MILESTONES.xlsx",
           "B"
          ],
          [
           910561,
           "4925.B6.4925.B6PlanReviewTransmittalFireAlarmPlans&Specs8.4.00.pdf",
           "B"
          ],
          [
           356610,
           "Kerr Hall 317 Renovation - Draft Proj Sum 2019-09-04.pdf",
           "B"
          ],
          [
           716804,
           "116072_SPEC_01_ACS_1.pdf",
           "B"
          ],
          [
           275544,
           "File 2739 Project Conditional Approval.pdf",
           "B"
          ],
          [
           789554,
           "att_e_risk3.pdf",
           "B"
          ],
          [
           338083,
           "2021_Nov17_Regents Information Item.pdf",
           "B"
          ],
          [
           179690,
           "Capital Imrpovement Budget.pdf",
           "B"
          ],
          [
           587757,
           "8911-003.B6 FM Plan Review Approval 03.11.22.pdf",
           "B"
          ],
          [
           214727,
           "COGEN Narrative 3-21-13.doc",
           "B"
          ],
          [
           145137,
           "UCSC_978498_Seismic_Studies_Memo_to_UCOP_Signed.pdf",
           "B"
          ],
          [
           789429,
           "170131 UCSC CBB LEED scorecard.xlsx",
           "B"
          ],
          [
           179513,
           "Mechanical HVAC drawings.pdf",
           "B"
          ],
          [
           694229,
           "04 WE Credit 2.pdf",
           "B"
          ],
          [
           710504,
           "DSA_160.DSA Appeal.01-120907.pdf",
           "B"
          ],
          [
           587013,
           "3124.B.WO00399369 - Arbo Asphalt Repairs & Entry Striping Schematic.pdf",
           "B"
          ],
          [
           789423,
           "UCSC CBB-IEQc3.2-const-review-response.doc",
           "B"
          ],
          [
           179605,
           "Attachment G.pdf",
           "B"
          ],
          [
           956428,
           "Signed RCC Exception Letter 01.02.pdf",
           "B"
          ],
          [
           246629,
           "File 2630 Cowell Beard House Bathroom Renovatinos.pdf",
           "B"
          ],
          [
           599175,
           "File 9077 Streambed Alt Agreement.pdf",
           "B"
          ],
          [
           693683,
           "acoustic ceiling adhesive.pdf",
           "B"
          ],
          [
           338224,
           "B4 Project Breakdown.xlsx",
           "B"
          ],
          [
           337978,
           "12 85 CD Vol 2 Specs Combined_20191011.pdf",
           "B"
          ],
          [
           179318,
           "File 1810 Certificate of Compliance 8-23-06 (3).pdf",
           "B"
          ],
          [
           805063,
           "Regents Item Routing Slip.doc",
           "B"
          ],
          [
           96025,
           "10081 - Cowell Admin Office & Trellis Bracing & Hydro.pdf",
           "B"
          ],
          [
           944553,
           "DSA Drawing Comments Porter A .pdf",
           "B"
          ],
          [
           990399,
           "ParkimgSpace_Approval.pdf",
           "B"
          ],
          [
           396470,
           "Attached Message Part_1",
           "B"
          ],
          [
           747091,
           "PP, WM Trailer Remodel, FM Review, 10-24-11.pdf",
           "B"
          ],
          [
           790192,
           "DSA Final Fees 01_116608_0.pdf",
           "B"
          ],
          [
           85861,
           "Application Form DSA-1 for Porter B.pdf",
           "B"
          ],
          [
           691785,
           "File 12050-005.B1 Project Summary Form - Full Budget Approved.pdf",
           "B"
          ],
          [
           144913,
           "program update slides.PDF",
           "B"
          ],
          [
           819288,
           "File 7500 Application for Permanent Variance.pdf",
           "B"
          ],
          [
           246639,
           "File 2630 Merrill C D Dorms Bathroom Repairs Submittals.pdf",
           "B"
          ],
          [
           789753,
           "CBB Admin Item_021115_clean draft.docx",
           "B"
          ],
          [
           372099,
           "JF UC Santa Cruz Mail - RE_ UCSC Sinsheimer Labs - 2019-01-22.pdf",
           "B"
          ],
          [
           790135,
           "6b CBB Cost Plan workbook FNDN 08012014 v1 (2).pdf",
           "B"
          ],
          [
           235630,
           "2016 12 23 - UCSC Crown - confirmation of box upload.pdf",
           "B"
          ],
          [
           943530,
           "single occupant use of interconnected Toilet and Shower Rooms.pdf",
           "B"
          ],
          [
           117298,
           "File 9098.B1 P Phase Project Summary Form Signed.pdf",
           "B"
          ],
          [
           117515,
           "10642.B6 Construction Inspection FA Final.pdf",
           "B"
          ],
          [
           95951,
           "211300 - Fire Suppression Systems - Merrill.pdf",
           "B"
          ],
          [
           576865,
           "File 8338E.B6.pdf",
           "B"
          ],
          [
           548263,
           "East Remote Grades.TIF",
           "B"
          ],
          [
           25039,
           "1500-027.E3.DSA BU 13-05- Access Comp Fee.pdf",
           "B"
          ],
          [
           912139,
           "5305-015 Plan Review Approval Form 03.06.19.pdf",
           "B"
          ],
          [
           338278,
           "DSA - Kresge ACAD.pdf",
           "B"
          ],
          [
           110850,
           "File 10637. B12. Elevator Temporary Certificate 2017-10-3.pdf",
           "B"
          ],
          [
           869065,
           "Complete_with_DocuSignSC-Checklist_-_WRP_A_B.pdf",
           "B"
          ],
          [
           358844,
           "File 3404.B12 FEMA Denial.pdf",
           "B"
          ],
          [
           686220,
           "6202.B1.Approval of Recommended Selection of Bidder.pdf",
           "B"
          ],
          [
           712895,
           "File 2739 Approval of Working Drawing Submittal.pdf",
           "B"
          ],
          [
           517737,
           "100 % CD Approval Transmittal.pdf",
           "B"
          ],
          [
           780072,
           "DRAFT Egress Plan for SFM_2015-10-26.pdf",
           "B"
          ],
          [
           580246,
           "8500-047.B6.UCSC FM Plan Review Approval 04.10.2023.pdf",
           "B"
          ],
          [
           789553,
           "att_d_risk2.pdf",
           "B"
          ],
          [
           790205,
           "PR_09-05.pdf",
           "B"
          ],
          [
           789330,
           "UCSC - Master LEED M&R Calculator.xlsm",
           "B"
          ],
          [
           74725,
           "2016 09-14 Fire Marshal Meeting.docx",
           "B"
          ],
          [
           913565,
           "Plan 2 3rd Floor Plan.jpg",
           "B"
          ],
          [
           214691,
           "Part 1 MVSG.zip",
           "B"
          ],
          [
           954612,
           "HCD, Approved Application with Inspection Report and Activity Report, SAMPLE, 1-13-12.pdf",
           "B"
          ],
          [
           235627,
           "SUPERSEDED Crown College_05.25.16 Draft 1 DSA Meeting-Notes.pdf",
           "B"
          ],
          [
           46273,
           "051 File 6701 7.16.tif",
           "B"
          ],
          [
           313967,
           "CreditFiles_EAc1.3A_Microsoft Word - Responses to LEED DocumentationCredit1.3A#5F63.pdf",
           "B"
          ],
          [
           214698,
           "VR-01-146 1.16.19-1.16.24.pdf",
           "B"
          ],
          [
           944509,
           "MW_East.jpg",
           "B"
          ],
          [
           789960,
           "CBB 100 DD Rev 3 Comments 2.pdf",
           "B"
          ],
          [
           694138,
           "02 MR Credit 1.1.pdf",
           "B"
          ],
          [
           978813,
           "Suggest_FireSprinklers.pdf",
           "B"
          ],
          [
           80596,
           "10064-002-003-004-008.B2 Office of President Correspondence.pdf",
           "B"
          ],
          [
           501280,
           "FM cover sheet 6-13-11.pdf",
           "B"
          ],
          [
           371944,
           "01_116733_0.pdf",
           "B"
          ],
          [
           485388,
           "File 5304-015.B7 DSA Approvl Letter 01_115462_0.pdf",
           "B"
          ],
          [
           548926,
           "File 6701 Permit to Op LPG Tank.pdf",
           "B"
          ],
          [
           710962,
           "IMG_0138.jpg",
           "B"
          ],
          [
           710507,
           "Rebuild units diagram.pdf",
           "B"
          ],
          [
           375392,
           "File 4012 Plan Review Transmittal 12-23-03.pdf",
           "B"
          ],
          [
           331531,
           "File 3201-111.B6 FM Plan Approval.pdf",
           "B"
          ],
          [
           886149,
           "File 8949 Plan Review Transmittal.pdf",
           "B"
          ],
          [
           85561,
           "E223.pdf",
           "B"
          ],
          [
           235613,
           "160623_UCSC Crown College MMA_Petition for Technical Infeasibility-DSA-AC_signed.pdf",
           "B"
          ],
          [
           110858,
           "File 10637.B7 DSA Approval Letter.pdf",
           "B"
          ],
          [
           944515,
           "SW_South.jpg",
           "B"
          ],
          [
           517877,
           "FM Plan Review Approval Form 6100-010 12.01.2020.pdf",
           "B"
          ],
          [
           235637,
           "DSA meeting draft agenda.doc",
           "B"
          ],
          [
           179394,
           "File 1810 Certificate of Compliance 11-1-06.pdf",
           "B"
          ],
          [
           25040,
           "1500-027.E3.PavingEstimate.pdf",
           "B"
          ],
          [
           548275,
           "1 - SWPPP Requirements.pdf",
           "B"
          ],
          [
           274645,
           "File 2736 Department of Finance Approval 5-23-05.pdf",
           "B"
          ],
          [
           179322,
           "File 1810 Certificate of Compliance 8-28-06.pdf",
           "B"
          ],
          [
           96006,
           "LSU - Fire Alarms and Sprinklers action item_draft.docx",
           "B"
          ],
          [
           694144,
           "08 MR Credit 5.pdf",
           "B"
          ],
          [
           944425,
           "waste-and-recycling sustainability website.pdf",
           "B"
          ],
          [
           944270,
           "Porter A - Leed SSc8.pdf",
           "B"
          ],
          [
           605612,
           "9097L BP2 90% CD OPCC.pdf",
           "B"
          ],
          [
           887892,
           "File 10630 ADA.pdf",
           "B"
          ],
          [
           942275,
           "978099 Fish Barn Aquaculture Predesign.xls",
           "B"
          ],
          [
           282693,
           "File 2806 B2 OP Request for Approval.pdf",
           "B"
          ],
          [
           25032,
           "1500-027.B12.pdf",
           "B"
          ],
          [
           179771,
           "1810 Plan Review Transmittal 11-03-08.pdf",
           "B"
          ],
          [
           397212,
           "CBB 1st Floor 4-28-16.pdf",
           "B"
          ],
          [
           693759,
           "NOTES for How to guide.doc",
           "B"
          ],
          [
           693889,
           "c - ID Credit 1.2 - Green Business - About Us.pdf",
           "B"
          ],
          [
           97556,
           "Feb 2014 Signed Re-delegation of Authority to Approve Project Design.pdf",
           "B"
          ],
          [
           734387,
           "1600-229A.B6.1600-229A FM_Approval_Stamp_Signature - UCSC 02.01.2024.pdf",
           "B"
          ],
          [
           235619,
           "ab3640-01-116395-0-1.pdf",
           "B"
          ],
          [
           789804,
           "CBB Admin Item - draft 4.docx",
           "B"
          ],
          [
           693997,
           "a - EQ Credit 2 Template Final.pdf",
           "B"
          ],
          [
           860988,
           "README FIRST (UCSC Reply to RFI).doc",
           "B"
          ],
          [
           338159,
           "3 capoutlay summ AB94 final.pdf",
           "B"
          ],
          [
           689355,
           "10062.B7.DSA letter 12.11.2003.pdf",
           "B"
          ],
          [
           909874,
           "File 3300-024.B6 FM Stamp 06.27.19.pdf",
           "B"
          ],
          [
           358315,
           "File 3400-012 DSA Approval Letter 01-112783.pdf",
           "B"
          ],
          [
           358730,
           "3400-032.B6 FM_Approval_Stamp_Signature - UCSC 01.10.2023.pdf",
           "B"
          ],
          [
           214766,
           "PR_09-05_corr11-30-09.pdf",
           "B"
          ],
          [
           310530,
           "DSA Plan Review_Porter_Direct Pay.pdf",
           "B"
          ],
          [
           862455,
           "Cupertino Electric Transmittal.pdf",
           "B"
          ],
          [
           875686,
           "2501.B4.Release of Capital Outlay Projects.pdf",
           "B"
          ],
          [
           179408,
           "File 1810 Certificate of Compliance 10-20-06 (5).pdf",
           "B"
          ],
          [
           885473,
           "File 8946 B12.Cover Letter and Federal Report of Expenditures Checklist.pdf",
           "B"
          ],
          [
           1167,
           "File 1400-095.B6 60% CD Review Transmittal.pdf",
           "B"
          ],
          [
           511919,
           "5700-020FM_Approval_Stamp_Signature - UCSC 05.08.2023.pdf",
           "B"
          ],
          [
           789517,
           "UC Santa Cruz Mail - Re_ CBB Entry Site Plan - Width Verification.pdf",
           "B"
          ],
          [
           11313,
           "20190916 UCSC DSA_1- Application for Plans & specs RA.PDF",
           "B"
          ],
          [
           40965,
           "AckLetter_107961973.PDF",
           "B"
          ],
          [
           694126,
           "08 EQ Credit 4.2.pdf",
           "B"
          ],
          [
           179744,
           "03 File 1810 E104A.pdf",
           "B"
          ],
          [
           85681,
           "LEED Submittal Template_101115.pdf",
           "B"
          ],
          [
           884299,
           "011119-5510-043-ADA Space Coordination.pdf",
           "B"
          ],
          [
           832137,
           "File 10057.B12. Office of Historic Preservation.pdf",
           "B"
          ],
          [
           25047,
           "01-115684_007.pdf",
           "B"
          ],
          [
           789803,
           "CBB Admin Item - draft 3.JB.docx",
           "B"
          ],
          [
           605568,
           "6- SC TII Phase B Project Schedule.pdf",
           "B"
          ],
          [
           338243,
           "3238.B6 RNEW-N Fire Line Lateral Pressure Test 11.12.21.pdf",
           "B"
          ],
          [
           73933,
           "2 Original grant deeds.pdf",
           "B"
          ],
          [
           944303,
           "ECON-1 Rev.pdf",
           "B"
          ],
          [
           734691,
           "10636-009.B1.Start a Project Form_Yan Lab July 11.pdf",
           "B"
          ],
          [
           472732,
           "APPROVED_Project Summary.pdf",
           "B"
          ],
          [
           338267,
           "DSA_1-Application_SITE_20190827 FINAL.pdf",
           "B"
          ],
          [
           940091,
           "10Div2 Standard Details.pdf",
           "B"
          ],
          [
           548881,
           "EF1_2 speed.csv",
           "B"
          ],
          [
           179703,
           "File 1810 Documentation to Proceed into Construction.pdf",
           "B"
          ],
          [
           694030,
           "a - Credit 3.1 Template.pdf",
           "B"
          ],
          [
           726330,
           "UC Santa Cruz Mail - MCC - R.Tramble Generator Info_2015-09-30.pdf",
           "B"
          ],
          [
           789536,
           "UC Santa Cruz Mail - Fwd_ Message from Unknown sender (8312120192).pdf",
           "B"
          ],
          [
           805086,
           "DSA-1 Form Blue Ink Signed .pdf",
           "B"
          ],
          [
           85673,
           "Jan. 2009 Waste Management Detailed Report.pdf",
           "B"
          ],
          [
           913561,
           "Signage2.pdf",
           "B"
          ],
          [
           790208,
           "transmittal ehdd.docx",
           "B"
          ],
          [
           485389,
           "File 5304-015.B7 DSA Transmittal Letter.pdf",
           "B"
          ],
          [
           591921,
           "File 9048 Hazard Mitigation.pdf",
           "B"
          ],
          [
           934340,
           "Biomed Safety Upg Ph2 signed Proj Summ 7-12-17.pdf",
           "B"
          ],
          [
           214762,
           "File 2113.G5. Alarm System Testing.pdf",
           "B"
          ],
          [
           790040,
           "3 capoutlay summ AB94 V4.xlsx",
           "B"
          ],
          [
           338136,
           "01_210621_KRESGE_GFFCPHASE_INC2B_FULLSUBMISSION.pdf",
           "B"
          ],
          [
           789489,
           "AT&T Communication regarding CDFW.pdf",
           "B"
          ],
          [
           235652,
           "161208_UCSC Crown College_TI Petition for .pdf",
           "B"
          ],
          [
           247028,
           "01-112973 Incr#1 ACCEPTED Retroactively Supplement ACS Hardship Request.pdf",
           "B"
          ],
          [
           694152,
           "06 SS Credit 1e.pdf",
           "B"
          ],
          [
           615574,
           "9803B.B6 FM Approval.pdf",
           "B"
          ],
          [
           244950,
           "2600-138.B12.Academic Building Chair Lift Replacement.pdf",
           "B"
          ],
          [
           371999,
           "4000-020.B6. Fire Mashal Approval 07.10.17.pdf",
           "B"
          ],
          [
           710928,
           "Sinsheimer Cryo 132 - EDP Consulants List.pdf",
           "B"
          ],
          [
           95946,
           "Merrill College - Fire Sprinklers - Design Development.pdf",
           "B"
          ],
          [
           693706,
           "Purchase Order for Cowell Dining Furniture.pdf",
           "B"
          ],
          [
           862504,
           "2638 - FA Final Inspection_2017-09-13_(1).2638 - FA Final Inspection_2017-09-13_(1).2638 - FA Final Inspection_2017-09-13_(1).2638 - FA Final Inspection_2017-09-13.pdf",
           "B"
          ],
          [
           548917,
           "2010-06 Waste Management Report.xls",
           "B"
          ],
          [
           789383,
           "095439 - LEED Metal Ceiling Panels Recycled Content Back Up.pdf",
           "B"
          ],
          [
           599178,
           "File 9077 Water Qual Control App.pdf",
           "B"
          ],
          [
           368051,
           "01_116734_0.pdf",
           "B"
          ],
          [
           246636,
           "File 2630 Merrill C D Bathroom Renovations Draft to DSA.pdf",
           "B"
          ],
          [
           376320,
           "01-116345_SPECSv02_2017_0501_APPROVED.pdf",
           "B"
          ],
          [
           382025,
           "20180508_SHW Agenda Physical Security.doc",
           "B"
          ],
          [
           781104,
           "File 4505 Preliminary Accessibility Review Memo.pdf",
           "B"
          ],
          [
           338222,
           "B4 Project Breakdown Matrix.pdf",
           "B"
          ],
          [
           835144,
           "File 2741 Schematic Design Submittal.pdf",
           "B"
          ],
          [
           592133,
           "Decision making matrix for distribution (1).xlsx",
           "B"
          ],
          [
           790005,
           "7 GFF_costmodelforconstructionfundstemplate.xlsx",
           "B"
          ],
          [
           85845,
           "130p07_porter_b-ROOF.zip",
           "B"
          ],
          [
           179465,
           "UCSC-Biomed_AM10_ NV_Operable Window sizing.pdf",
           "B"
          ],
          [
           738091,
           "Hecker Kresge Hsg Bath Appeal Memo 101623.pdf",
           "B"
          ],
          [
           95938,
           "LSU - Generator Upgrades - DD Drawings.pdf",
           "B"
          ],
          [
           689581,
           "10641.B6.WRP A&B Renovation - 100% SD, DD and CD Checklists 2023.pdf",
           "B"
          ],
          [
           96007,
           "File 10083.B1 Action Item VC Approved.pdf",
           "B"
          ],
          [
           179736,
           "04 File 1810 A102B.pdf",
           "B"
          ],
          [
           790073,
           "1 CBB W2 cover letter signed.pdf",
           "B"
          ],
          [
           694221,
           "09 SS Credit 4.pdf",
           "B"
          ],
          [
           235649,
           "170330_UCSC Crown College_TIR-03 Petition for Rooms-DSA-AC_Published.pdf",
           "B"
          ],
          [
           95974,
           "6. LSU - Cost Plan Workbook - W Sumbmittal.pdf",
           "B"
          ],
          [
           22854,
           "File 1329.B12 Savings By Design Application.pdf",
           "B"
          ],
          [
           962745,
           "6300-001_b12.pdf",
           "B"
          ],
          [
           944280,
           "TemplateRenderer.pdf",
           "B"
          ],
          [
           179779,
           "Receipt of Material Worksheet.pdf",
           "B"
          ],
          [
           145117,
           "Fund_Transfer_SeismEval_UCSC_2019_0220_SIGNED.pdf",
           "B"
          ],
          [
           368644,
           "3706.B6.Fire Marshal Doc.pdf",
           "B"
          ],
          [
           145170,
           "Regents Reporting - Seismic Capital Need - 2021_04-15.docx",
           "B"
          ],
          [
           85376,
           "Sustainability at Porter How You Can Help Brochure.pdf",
           "B"
          ],
          [
           179444,
           "EAc3_Template_SubmittedOn_04182012.pdf",
           "B"
          ],
          [
           809702,
           "File 7401 BP #2 Drawings Approval.pdf",
           "B"
          ],
          [
           179601,
           "Attachment C.pdf",
           "B"
          ],
          [
           789531,
           "letter to city from SD re water and sewer connection fees 1166_001.pdf",
           "B"
          ],
          [
           969214,
           "1326-005.B12.1326-005.B12 Project Information.pdf",
           "B"
          ],
          [
           831606,
           "File 9097.B1. Working Project Summary.pdf",
           "B"
          ],
          [
           944296,
           "Baseline 270.pdf",
           "B"
          ],
          [
           769826,
           "2319-001 FM_Approval_Stamp_Signature - UCSC 05.14.2024.pdf",
           "B"
          ],
          [
           790045,
           "5 Cost Estimate placeholder.docx",
           "B"
          ],
          [
           472787,
           "File 4999-010 Fire Marshall Approved Fire Hydrant.pdf",
           "B"
          ],
          [
           85525,
           "PorterB.SS6.2.pdf",
           "B"
          ],
          [
           214756,
           "UCSC Cogen Model 10-24-2011 - Fackler Cogen.pdf",
           "B"
          ],
          [
           96027,
           "10081 _ Kerr Hall 3rd-4th-Penthouse Hydro & Seismic.pdf",
           "B"
          ],
          [
           280841,
           "2746.B12.Alterations to Room 301B JBEB BME Lab.pdf",
           "B"
          ],
          [
           338288,
           "DSA_1-Registration _Kresge RENO.pdf",
           "B"
          ],
          [
           338262,
           "01-118547 Receipt of Material.pdf",
           "B"
          ],
          [
           75225,
           "File 10010 DSA Approval Letter.pdf",
           "B"
          ],
          [
           358849,
           "File 3404.B12 Response to First Appeal.pdf",
           "B"
          ],
          [
           282046,
           "20090708.pdf",
           "B"
          ],
          [
           689354,
           "10062.B4.UBP201901180449.pdf",
           "B"
          ],
          [
           95932,
           "LSU - GFF_costplanworkbook - P 6.1.15.xlsm",
           "B"
          ],
          [
           72005,
           "Transition Plan_final.pdf",
           "B"
          ],
          [
           329043,
           "File 3124 B2 Request for Augmentation of Funds 11.08.96.pdf",
           "B"
          ],
          [
           862662,
           "Confirmation-of-Agents-Authority-Kresge-AR signed_FA091223.pdf",
           "B"
          ],
          [
           282130,
           "EQc3.2_Template_SubmittedOn_09162010.pdf",
           "B"
          ]
         ],
         "hovertemplate": "tag=%{customdata[2]}<br>umap_x=%{x}<br>umap_y=%{y}<br>file_id=%{customdata[0]}<br>filename=%{customdata[1]}<extra></extra>",
         "legendgroup": "B",
         "marker": {
          "color": "#AA0DFE",
          "line": {
           "width": 0
          },
          "opacity": 0.75,
          "size": 7,
          "symbol": "circle"
         },
         "mode": "markers",
         "name": "B",
         "showlegend": true,
         "type": "scattergl",
         "x": {
          "bdata": "6h1kQNnGkz+BSlNAV/eWP4pe0kA3lxdA8cQmv7YVm0CE4sdA/cw8v4tlnECfOuK/bs0tPnQdYEAfEJg/47FDv0DtDECKy9FAX7GUQKZRmkCD4dZAOSMdQO8KE0CIIiBAf92IQL0OKL/PnUQ/Qg1Kv6mm2z+QBmZA+PSbQIfFdz+Z61VAtHldP0aZZkB5+IxAyZwkQPY/E0AMsj6/zTvRv1FbVUCCslpAeM75P5ga/j5KtDJAz8Z3vvP6pUC7zxdA5K+fQHLEhb1D16xAPJ9lQM1IFkCkiBlAYxs0QEkSHkBY651AW1Isv2+Clz/CWGJAKBh9v3N3UL/zEUC/AG9mQJeaub8W8dK+t7VCv9oiZEAZGWK/DaFDvz0XnEDXBHxAtFiVP1JW1kBorEZAG+9Zv2t4oUDXhJFAa0ERQJXNkkBVEaBArd3jv2vwSb9xfltAQxu4QIHwdUDny7k/2g93QKWjH0ABN01AUvZlQIW9cEDNPZRAIqyeQFt+y0CmYu2/dC8iQMydFb9EdJk/OPSCQDpnJr5dtQ9AJyeRQGWKw0BOh4i/08cVQAWnFUA4A6pA/ErFQDcEq78iog5AnU/YQJymm0BYnhZA4YJqQN/nT0B8BahA9tpzvkrB2b6FpQa/BIxoQAGMDUBR4zW/b6QPQCieJUCOWH9Azg6Qv5mfikDax5m/j7pPvwO5hT/+7kO/s+OQQFzLEEBxAg5A6r3jP2eAn0DcB00/9xgnQFr8gkDXLUC+CWdUQCDIxT960N+/mpLVQJskYEDQzbtAMDunQH0rYr+MyhVAuX0XQNadzD9Li42/iMEbQEQPW78eekO/yvJbvyFSL0AMWIVA7xUXQK/giL+nKkm/8u5cQI8Hkz+IAVVA6IuOQLaVrb/eT5k/w/IWv/knBkBwz7VAOmdZQHNyXkCuLxJAmwYyQHJ2mkC4fpRAIp1nv4tDKL4nnmNAIua8QDsCg0AVdmy+/AaQQLD02EAclDRAMBZvQCC8BkAabRZA+xhAvryhHUAFGGG+NikTQFx6E0B74zM/2Y42QEXklD9CwbJArTJXv2twa77ag5xAIbARQE1uO0DB0a0/6nP3v8khI74L3WtAOV+vQDQiQUBfCddAoEQAwGccO774385A/UcAQJ3tJ7+ZeqpA+2uOQGRxTUDkESdA3+qiQDnRc0Bt/9o/HGkHQInWGUCOB70/5HqjQJW+0kCjdhpA4cvUvx+dEb9YfJG+mVgIQOHvnkD6pGw/L8eAQM1+e0CgdOc+1blFvzvIl0C8YkW/wkSmvWUeMr+/8mtA5k8FvnM33j+G2IM+ExPIQJqtFUDIpxhAmdnFQEjRhD85xW9ARgHuP6VuZ0CMSihA5ScnQKwINb6EURtAKN1yQG2GDEBnnTm/DUnTPwsBAMDBEdRAB/mNQMPxgUColx9A1f8MQDLLyj8GNnFA6IwOQIPIn0DwamS/kgUuQA+s8T8k61tA7N+pvzJEb0CwJMpAt3yYQPSfWUAKGBhA4RhbvtGwEUAvqcy/nHZsQDlS8z+96g2+/x+9QOJNEkCYoA9AUcAaQCsGq74Fk3VAO+SjQEyvE0BOhmdA7+OnQPkrLkBhC1xA",
          "dtype": "f4"
         },
         "xaxis": "x",
         "y": {
          "bdata": "yySpQIGy1kCm6qhAsvnXQHmoIEAlCL1AU5GUvr35WEBaVXJAN4V7vndRQUC60sNA/6/HQIkUqECODthAQb91vlsIlEAhlVFA47SVPwxxAEDlkSpAgQuov23ec78iGKG/6iL/PyL1AUFHYppAfpRYvi24kECc5KpAnfbZP82OrUBkr6dAEVajQF6PnkAYtjJAIJILvgQAv0DHgae+tp4hQMD5kUCSG6tABueEv+cgV0CKXUJAfxvkQHX+G0BbKa6/qaIuQKWsm75sZHBAlXikQCHBqL8fn5y/dcGlQFzcpb9C+dU/qFIhvnLL10DD5KlAeX7eQOT+6b20pYS+bFOXQK59w0DWPqZAsZbZQL6RqUCneYm+LICcvp6HsT/jAaJA92vXQOZKJUBrq8hAS8OWPDwODUABTzFAJW6Uv5dlpkCCBT1Avze2QGo3gL6msalAu2aiP5h/pUARZKBAU6KiQE+Zn78LPoxAruuqQLxImUDbadE//fQoQOljg0D68ypASPy7QJVm+0A5UddAFCsFQFiht7yXHYa/U0NZQC/RgkC4hIdAUz2qvzNnrb+PaBlAA56FP6EeskCH7zdAeLw6QOEFeUBcYr9A3pQqQNfRU0A14h9AllOZvXPJCz/jmpu9v/SWQJYwnr8K3FG+Bg5Tv/LPcL+rMic/O2mKQH3JtD83PJdA8JluvcQ4qEB32LW+3O2mQKKcm7/GgsZAf+afQLsEO0DaYJ5Ayj04vzlwKEBxoZ1AjU+pQFvWhUCkoNBA+/AoQExXqkAZpmRA73u2P294q733xKa/j+epv/qEgUDXnNtAqECNQJ0eOj4iGZS+ufYWvYbM0EDA2ylAPmynv6pZ0kDzuI6+UW5QQBZd10B/OpZA19CiQBPnnEBl4NdAY2fKvbP0yUCqhoVAydynQDOD3z8YSZS/q6rFQJug+D9wqZA/gfsYPUMgVr09PqtA5a6JQO+csj+Ey+NA4DipPxm7O0AKAqNAy4evQNweZj8W8Kq/S4HiQA7Osr9qQuFAFy6dv/BuJ7/gpb5AADzTPx7I10DXoCBAI50Vviso5EBBCB9AIIWXv3q3RED4jdFAatXYQLVM5kCeyIVADRAjQJSfhUAvtzNAPtbQQB/BBbtT0mBAWuGvQJOr/kB5JxZAVVqWP9Ss5D14z8xAo4sRQP7Ni0BIf6VAEkR5QI+cpL+gSEZA/CRYQD+1K0DmOAm/Tze0QOckDr5nq4y9ZIMkPxJEGkCzZJFAQJctQNNIKUAiF1pAB+aEvrtakT8UKou+/T2FQGbCrb6FA2E/BibyvJ0pVUAh16BAmF18QBDCpr+uLEFAdigwQE4nmkC4p1JAMCOyQH9gtz/od75AfWy+QCcT7UAcJpxAE5Q0QNKYi7+CXVK+UtKfQJ6a10D95SdAz2aWQKggKkCd/qhAwn4eQFLRZUCRh51AeTONv+CUwz+DXpE7Jze6QGnprkDEoqlApcOUQFV6mUAwtkpAtnmSP5nrdkDjuq9AnVLkQGnjtUCVXrZAeUKZQPahrUAjhui96k40QPa4nL+AbYm/JXayv/+03L4yK5hA7MTQP05hvkCkiWtAxzgEQF46DL5CHahA",
          "dtype": "f4"
         },
         "yaxis": "y"
        },
        {
         "customdata": [
          [
           194472,
           "IM#017.jpg",
           "G"
          ],
          [
           973029,
           "5304C03B.bgdomain.bgpostoffice.100.16A3779.1.1C381.1.xml",
           "G"
          ],
          [
           412590,
           "Logins-UC Project Listings for Reports-UCSC Coastal Biology Building.pdf",
           "G"
          ],
          [
           911395,
           "File 4925 Fire Water Shutoff 11-8-00.pdf",
           "G"
          ],
          [
           239854,
           "2358 RFI 129 Response [not returned].pdf",
           "G"
          ],
          [
           755599,
           "3124.G11.HAE Change Request #88 Reply 2.pdf",
           "G"
          ],
          [
           702668,
           "3002-053.G11.Request for Contract.pdf",
           "G"
          ],
          [
           199704,
           "File 1810 Siemens Industry Manual Cleaning Auth 2-15-11.pdf",
           "G"
          ],
          [
           922137,
           "Letter186",
           "G"
          ],
          [
           697346,
           "Daily 12-22-09.xls",
           "G"
          ],
          [
           958230,
           "5303-037.G20.WD 024 Photo.pdf",
           "G"
          ],
          [
           723367,
           "10638.G19.10638.pdf",
           "G"
          ],
          [
           755462,
           "3124.G15.Change Request #145.pdf",
           "G"
          ],
          [
           240767,
           "UCSC - Crown College - Galen - P03 - 1 SRC - Building Gas DHW Heater - GWH-1.pdf",
           "G"
          ],
          [
           96664,
           "10081 - Thimann Labs  - Lecture Hall FAFS Final Acceptance.pdf",
           "G"
          ],
          [
           729627,
           "08 31 13_mc ACCESS DOORS.doc",
           "G"
          ],
          [
           861704,
           "6701.G15.RFI #1096.pdf",
           "G"
          ],
          [
           976367,
           "File 2724.G10 Asphalt Fume Report.pdf",
           "G"
          ],
          [
           744754,
           "10010.G21.IMG_20110105_141001.jpg",
           "G"
          ],
          [
           733416,
           "3124.G6.Proposal Request #72 (10-7-1998).pdf",
           "G"
          ],
          [
           91533,
           "08-31-09 Daily Report.pdf",
           "G"
          ],
          [
           14915,
           "27 OAC Meeting Minutes 10-06-14.pdf",
           "G"
          ],
          [
           901143,
           "2015-01-06_Merrill PH 2 and 3_Field Report L005.pdf",
           "G"
          ],
          [
           941529,
           "Construction Inspection Report - CC Rough and Hydro 3.20.2025.pdf",
           "G"
          ],
          [
           23406,
           "CARDIFF MEETING MINUTES #1_2015_6-3.pdf",
           "G"
          ],
          [
           874404,
           "2010-04-02.pdf",
           "G"
          ],
          [
           406218,
           "UCSC DMR KDW (06-27-2016).docx",
           "G"
          ],
          [
           883834,
           "File 6301 Submittal 16.22a Section 16511 Transmittal.pdf",
           "G"
          ],
          [
           874328,
           "2009-12-31.pdf",
           "G"
          ],
          [
           464587,
           "CCF10152015.pdf",
           "G"
          ],
          [
           726134,
           "10637-004.G15.CHANGE ORDER 12.pdf",
           "G"
          ],
          [
           883496,
           "6300-008 Cert of Occupancy.pdf",
           "G"
          ],
          [
           1007878,
           "8802-009.G3.Schedule.pdf",
           "G"
          ],
          [
           256976,
           "ANSI31.pat",
           "G"
          ],
          [
           329406,
           "3124.G15.3.H.A. Ekelin & Associates Change Order #3.pdf",
           "G"
          ],
          [
           799311,
           "Work Sequence Plan.pdf",
           "G"
          ],
          [
           96796,
           "File 10081.G15. Change Order #7.pdf",
           "G"
          ],
          [
           712334,
           "2600-146A.G5.Jobsite Inspection Record.pdf",
           "G"
          ],
          [
           984192,
           "AlarmsBeforeTest.PNG",
           "G"
          ],
          [
           728238,
           "2017.08.23 UCSC Merrill CC -CAW Site Observation Report_reduced_1.pdf",
           "G"
          ],
          [
           541402,
           "6401-011.G2.Alliance Roofing Company, Inc., AFP #3 (10-26-17).pdf",
           "G"
          ],
          [
           686324,
           "3124.G11.Memorandums FOR Cost Proposal Change Request #86 and #86.1 RFI #197 CO #6.pdf",
           "G"
          ],
          [
           363760,
           "File 3608-018 Response to Fax Nov. 2 .pdf",
           "G"
          ],
          [
           195407,
           "File 1810 Proposal Request 1046.pdf",
           "G"
          ],
          [
           900702,
           "Ph3_Bulletin_016.pdf",
           "G"
          ],
          [
           907491,
           "3048.G11. Porter-A CQ Log.pdf",
           "G"
          ],
          [
           501828,
           "5510-043A WD 02.pdf",
           "G"
          ],
          [
           297035,
           "Re  Cowell Student Health Center contact at ITS.msg",
           "G"
          ],
          [
           858933,
           "File 5601 Punchlist Exterior South.pdf",
           "G"
          ],
          [
           73327,
           "10000-024.G3.campus ada plumbing alterations phase 2 drinking transition plan update.pdf",
           "G"
          ],
          [
           698809,
           "Field Order 193 RFI 235 W18x143 Beam.pdf",
           "G"
          ],
          [
           699148,
           "Baseline Schedule - July2008-R1.pdf",
           "G"
          ],
          [
           608055,
           "7194-T4.7.pdf",
           "G"
          ],
          [
           843947,
           "9803B.G10.WiFi Test Report 7115 Hahn Student Services_report.pdf",
           "G"
          ],
          [
           718160,
           "3124.G11.Proposal Request #46.pdf",
           "G"
          ],
          [
           1007814,
           "Cutting Edge Building Permit 8.4.25.pdf",
           "G"
          ],
          [
           23237,
           "File 1329. G16. FO #1.pdf",
           "G"
          ],
          [
           797289,
           "Authorizations.pdf",
           "G"
          ],
          [
           744396,
           "FR 196.xls",
           "G"
          ],
          [
           406379,
           "UCSC Site Inspection KDW (04-13-2016).docx",
           "G"
          ],
          [
           701024,
           "4-20-2009 3 wk look ahead.pdf",
           "G"
          ],
          [
           492143,
           "5506-024.G5.1 Hot permits.pdf",
           "G"
          ],
          [
           233699,
           "File 2327.G19.pdf",
           "G"
          ],
          [
           717693,
           "6300-011.G15.Music Center Recital Hall. CO #4r. Install Track System for Acoustical Drapes.pdf",
           "G"
          ],
          [
           253751,
           "Bulletin_023_2013-07-12.pdf",
           "G"
          ],
          [
           300873,
           "Emailing  UCSC COWELL CONSTRUCTION SCHEDULE - B34 Update 29 1-20-09 pdf.msg",
           "G"
          ],
          [
           730419,
           "2018-07-23 - Substantial Completion.pdf",
           "G"
          ],
          [
           541271,
           "6401-011.E3.17 09 19, WO00402390 Cost Report.pdf",
           "G"
          ],
          [
           296372,
           "UCSC Cowell Student Health Center - CQ 368 1 (Field Order 114).msg",
           "G"
          ],
          [
           684520,
           "8934 g_8_.pdf",
           "G"
          ],
          [
           329424,
           "Warranty Deficiency BD-036-1 .doc",
           "G"
          ],
          [
           613095,
           "File 9200-018.G24 Jobsite Inspection Record.pdf",
           "G"
          ],
          [
           208755,
           "File 1810 Devcon Construction Meeting No. 067 3-13-07.pdf",
           "G"
          ],
          [
           681113,
           "Project Total Costs.pdf",
           "G"
          ],
          [
           412565,
           "12-7-16 UC Santa Cruz Coastal Biology Project Site Survey.xlsx",
           "G"
          ],
          [
           657770,
           "File FTO-1202 G12 RFIs #44 & 45.pdf",
           "G"
          ],
          [
           195333,
           "File 1810.G11.1025 Dwg.pdf",
           "G"
          ],
          [
           230784,
           "File 2300-152 Construction Permit - Jobsite Inspection Record.pdf",
           "G"
          ],
          [
           920529,
           "6201-G2 Pmt. Cert 07 Backup.pdf",
           "G"
          ],
          [
           733681,
           "10629.G19.10629 2300 Delaware VAV Box.doc",
           "G"
          ],
          [
           733388,
           "3124.G11.Transmittal, proposal Request #63.pdf",
           "G"
          ],
          [
           255206,
           "RFI 046 response.pdf",
           "G"
          ],
          [
           75251,
           "File 10011 Construction Permit 8-10-12.pdf",
           "G"
          ],
          [
           1027545,
           "1600-175 June 2017 Billing Percentages (1).pdf",
           "G"
          ],
          [
           292104,
           "RFI 150_CSHC_HPS_Response_080918.doc",
           "G"
          ],
          [
           364679,
           "SU_RB Field Order #5.eml",
           "G"
          ],
          [
           871225,
           "Schedule of Values 301B.pdf",
           "G"
          ],
          [
           883736,
           "Parking Space.pdf",
           "G"
          ],
          [
           966508,
           "ASI 034.pdf",
           "G"
          ],
          [
           874371,
           "2010-02-23.pdf",
           "G"
          ],
          [
           686247,
           "3124.G11.Memorandum FOR Cost Proposal Change Request #10 and CO #01.pdf",
           "G"
          ],
          [
           744678,
           "UCSC Plumbing Fixture Replacement Mtg Memo.pdf",
           "G"
          ],
          [
           1127,
           "10000-204.G12.RFI Template.doc",
           "G"
          ],
          [
           143761,
           "File 12058.G24 Permit.pdf",
           "G"
          ],
          [
           720968,
           "8-19-19.pdf",
           "G"
          ],
          [
           795684,
           "Bulletin 059.pdf",
           "G"
          ],
          [
           378936,
           "IMG_2789.JPG",
           "G"
          ],
          [
           874430,
           "2010-04-28.pdf",
           "G"
          ],
          [
           657887,
           "Fire Sprinkler.pdf",
           "G"
          ],
          [
           199002,
           "File 1810.G15.50 Change Request No. 1185_updated.pdf",
           "G"
          ],
          [
           920897,
           "6201-G13 LOI 04_001.pdf",
           "G"
          ],
          [
           942689,
           "20250121161317.pdf",
           "G"
          ],
          [
           723896,
           "2358.G19.2358_Cert_of_Ben_Occ_-_Rutherford.pdf",
           "G"
          ],
          [
           307184,
           "File 3000-136 CenCon Inc Labor and Material Cost Estimate.pdf",
           "G"
          ],
          [
           240208,
           "RFI 013 Response.pdf",
           "G"
          ],
          [
           232742,
           "Fulfillment Letter to NECA-IBEW 11-8-18.pdf",
           "G"
          ],
          [
           966505,
           "ASI 031.pdf",
           "G"
          ],
          [
           194573,
           "TXT.rtf",
           "G"
          ],
          [
           871564,
           "File 3124 Field Order #19.pdf",
           "G"
          ],
          [
           799280,
           "01810-320 Part II.pdf",
           "G"
          ],
          [
           874458,
           "2010-06-21.pdf",
           "G"
          ],
          [
           288864,
           "RE   Fwd  Re  Following Up on the Closeout Binder .msg",
           "G"
          ],
          [
           728109,
           "Merrill College - 24-Jul-17 Update - Completed Activities.pdf",
           "G"
          ],
          [
           329405,
           "3124.G15.11.H.A. Ekelin & Associates Change Order #11.pdf",
           "G"
          ],
          [
           729561,
           "07 84 00.pdf",
           "G"
          ],
          [
           301945,
           "File 2806.G8 Seismic Hazards Summary.pdf",
           "G"
          ],
          [
           498119,
           "5510.G20 Warranty Deficiencies cont.pdf",
           "G"
          ],
          [
           797209,
           "FieldOrder 131.CFM.4thFlr.Elev.Machine.Rooms.pdf",
           "G"
          ],
          [
           536957,
           "6301.G21.63-1B Vol B November 16-22 1995.pdf",
           "G"
          ],
          [
           687288,
           "3505.G24.DIR DOSH PVU 3505 UQA Permit.pdf",
           "G"
          ],
          [
           920914,
           "6201-G15.01.pdf",
           "G"
          ],
          [
           574953,
           "7603A.G19.#7603A NOC.pdf",
           "G"
          ],
          [
           362239,
           "Steinberg scanned document.pdf",
           "G"
          ],
          [
           412034,
           "071900 - Water Repellents - Specialty Warranty.pdf",
           "G"
          ],
          [
           92331,
           "SS79-2-3_SS79-2-4__082908_1030.txt",
           "G"
          ],
          [
           836305,
           "3124.G16.3124.G15.2 #3.pdf",
           "G"
          ],
          [
           828357,
           "File 7601 Boiler Start Up.pdf",
           "G"
          ],
          [
           755628,
           "3124.G15.Change Request #172.pdf",
           "G"
          ],
          [
           536880,
           "6301.G.Contractor Staging Permit- (Saviano Company Inc.).pdf",
           "G"
          ],
          [
           242015,
           "2358-003.G5.1.Hot Permit.pdf",
           "G"
          ],
          [
           718225,
           "3124.G11.Proposal Request #49.pdf",
           "G"
          ],
          [
           883664,
           "6300-011 Music Center Equipment Modernization - RFI #03 Arbor Welding.doc.pdf",
           "G"
          ],
          [
           296522,
           "X Ray Developer Room Light and Blood Draw Room Added Light.msg",
           "G"
          ],
          [
           1018746,
           "LOI No. 9 10.6.67.pdf",
           "G"
          ],
          [
           958967,
           "UC Santa Cruz Mail - RE_ Carson Dining - Hand Delivery of a Letter.pdf",
           "G"
          ],
          [
           718400,
           "3124.G11.Fax Transmittal.pdf",
           "G"
          ],
          [
           252827,
           "7-27-13.pdf",
           "G"
          ],
          [
           222653,
           "CogenCommissioning.Section01810.pdf",
           "G"
          ],
          [
           545135,
           "6610.G6.84' telescope hamilton memorandum.pdf",
           "G"
          ],
          [
           588935,
           "Project Schedule 4-6-11.pdf",
           "G"
          ],
          [
           667519,
           "1600-197.G.1600-197A Construction Permit.pdf",
           "G"
          ],
          [
           769023,
           "3124.G4.Weekly Construction Meeting Minutes #20.pdf",
           "G"
          ],
          [
           301581,
           "UCSC Cowell Student Health Center - Minutes from Demo Meeting 2 24 09 (attached).msg",
           "G"
          ],
          [
           297694,
           "NO SMOKING SIGNS.msg",
           "G"
          ],
          [
           298337,
           "UCSC Cowell - WD-21 Completion.msg",
           "G"
          ],
          [
           973866,
           "5304DAED.bgdomain.bgpostoffice.100.16A3779.1.1CC33.1.xml",
           "G"
          ],
          [
           941750,
           "File 2100-019.G15 Change Order #4.pdf",
           "G"
          ],
          [
           874452,
           "2010-06-10.pdf",
           "G"
          ],
          [
           744240,
           "FR 40.xls",
           "G"
          ],
          [
           252814,
           "9-4-13.pdf",
           "G"
          ],
          [
           883725,
           "Please_DocuSign_AuerbachDLAPTA01Inv003013.pdf",
           "G"
          ],
          [
           157380,
           "Daily 10-24-09.xls",
           "G"
          ],
          [
           331956,
           "File 3209. G21. Kresge Housing Ph. 2 Photo Log.pdf",
           "G"
          ],
          [
           890638,
           "10637-002.G19 NOC.pdf",
           "G"
          ],
          [
           199732,
           "File 1810 UCSC Punchlist 1.pdf",
           "G"
          ],
          [
           298231,
           "Re  Fwd  Fwd  Tile samples.msg",
           "G"
          ],
          [
           345145,
           "3238.G10 38 - Concrete Break Sheet - 5-11-22.pdf",
           "G"
          ],
          [
           92321,
           "A_29_08_2008_33b.jpg",
           "G"
          ],
          [
           617511,
           "9805B Meeting Minutes 07.15.19.pdf",
           "G"
          ],
          [
           348903,
           "3238 2-25-20.pdf",
           "G"
          ],
          [
           295156,
           "field order 11 oct 2 2008.pdf",
           "G"
          ],
          [
           313753,
           "3041.G15.Porter College Building D Window Replacement Change Order.tif",
           "G"
          ],
          [
           254781,
           "Copy of 8-8-13.xlsx",
           "G"
          ],
          [
           133723,
           "File 11105 Southern Exposure Workshop 2.12.90.pdf",
           "G"
          ],
          [
           301682,
           "UCSC Cowell Student Health Center - Walk With Fire Marshal 2 10 09.msg",
           "G"
          ],
          [
           744314,
           "FR 114.xls",
           "G"
          ],
          [
           544986,
           "6605.G1. Construction Correspondence.pdf",
           "G"
          ],
          [
           718383,
           "3124.G11.Transmittal, Proposal Request #53.pdf",
           "G"
          ],
          [
           670091,
           "5303-036.G3.5303-036 RC Dorm CL Roof Repl Weekly PM Report 7.28.17.xls",
           "G"
          ],
          [
           916677,
           "5707.G4.Faculty and Staff Housing Project Meeting No. 11.pdf",
           "G"
          ],
          [
           718243,
           "3124.G11.Plan Review Transmittal -- -12-6-98.pdf",
           "G"
          ],
          [
           298538,
           "2806-4 Official Notice #2.pdf",
           "G"
          ],
          [
           408550,
           "RFI #4932-478.2 - Bike Shed Louvers Question.pdf",
           "G"
          ],
          [
           463635,
           "OAC Meeting #097.pdf",
           "G"
          ],
          [
           681005,
           "Consultant Selection 7.3.08.pdf",
           "G"
          ],
          [
           391151,
           "CHANGE ORDER 18- 4932.pdf",
           "G"
          ],
          [
           871372,
           "G5.1. Zurich Hot Work Permit.pdf",
           "G"
          ],
          [
           795702,
           "Bulletin 071.pdf",
           "G"
          ],
          [
           755495,
           "3124.G11.HAE Change Request #111 Reply.pdf",
           "G"
          ],
          [
           133725,
           "File 11105 Southern Exposure Workshop Invoice.pdf",
           "G"
          ],
          [
           958349,
           "5303-037.G20.5303-037 WD 023.pdf",
           "G"
          ],
          [
           701089,
           "Barchart Plot of Critical Activities.pdf",
           "G"
          ],
          [
           465151,
           "DeAnza(Sera)DRAFT12-4-15 (003).docx",
           "G"
          ],
          [
           758011,
           "1600-214.G24.Cowell College - Morison House Ret - Const. Permit, Jobsite Inspection.pdf",
           "G"
          ],
          [
           723308,
           "3002-061.G19.Summary.pdf",
           "G"
          ],
          [
           463731,
           "Preconstruction Meeting Minutes #2.docx",
           "G"
          ],
          [
           703235,
           "9800-010.G15.20.06.26 9800-010 - CO#1 Backup.pdf",
           "G"
          ],
          [
           712482,
           "3002-040.G5.1.10-5-2020.pdf",
           "G"
          ],
          [
           776356,
           "5507.G1.4ModStudentHousingCentralCoastSystemInc1.pdf",
           "G"
          ],
          [
           138271,
           "100 Enterprise DD Project Schedule.pdf",
           "G"
          ],
          [
           683049,
           "4899-013_g6.pdf",
           "G"
          ],
          [
           511839,
           "5700-012.G24.Constuction Permit .pdf",
           "G"
          ],
          [
           358793,
           "3401-002.G1.RFC Lick Machine Shop.pdf",
           "G"
          ],
          [
           870949,
           "5510.G10.Acceptance Testing Documentation.pdf",
           "G"
          ],
          [
           729586,
           "01 35 43_mc ENVIRONMENTAL MITIGATION rev.docx",
           "G"
          ],
          [
           963166,
           "Instruction Bulletin 6.26.00.pdf",
           "G"
          ],
          [
           241224,
           "SSK - 004.pdf",
           "G"
          ],
          [
           502342,
           "5510-078.G19.Notice of Completion NOC.pdf",
           "G"
          ],
          [
           374048,
           "4000-027.G19.Certificate of Occupancy.pdf",
           "G"
          ],
          [
           934475,
           "Collins 2- Week Look Ahead Construction Schedule - UCSC Biomed (thru 6-15-18).xlsx",
           "G"
          ],
          [
           786255,
           "Warranty  Deficiency BD-091.doc",
           "G"
          ],
          [
           252362,
           "1027226 time 1 13-07-26.pdf",
           "G"
          ],
          [
           261446,
           "File 2636 Inspection 1.15.15 .pdf",
           "G"
          ],
          [
           546694,
           "6630.G16.Field orders on Mount Hamilton Infrastructure phase 2.pdf",
           "G"
          ],
          [
           294361,
           "RFI 569_CSHC_Response_100126.doc",
           "G"
          ],
          [
           814710,
           "Pages from Inspection of Sealant Joints Product_7401.pdf",
           "G"
          ],
          [
           10500,
           "SK-02 AV501A_501 B11.pdf",
           "G"
          ],
          [
           741944,
           "5510-046.G19.5510-046 Cert of Substantial Completion.docx.pdf",
           "G"
          ],
          [
           463022,
           "UCSC Form A 7-5-16.xlsx",
           "G"
          ],
          [
           849108,
           "5700-023.G24.Construction Permit - Wynn.pdf",
           "G"
          ],
          [
           584205,
           "detailofbill201806.pdf",
           "G"
          ],
          [
           861716,
           "6701.G15.RFI #727.pdf",
           "G"
          ],
          [
           287563,
           "RFI 283_CSHC_Response_090207.pdf",
           "G"
          ],
          [
           465149,
           "UC Santa Cruz Mail - text Ben Clawson.pdf",
           "G"
          ],
          [
           377223,
           "UCSC EHS WE 4.9.18.pdf",
           "G"
          ],
          [
           487998,
           "File 5500-019 Construction Permit - Jobsite Inspection Record.pdf",
           "G"
          ],
          [
           200002,
           "File 1810 12-4-08.pdf",
           "G"
          ],
          [
           477026,
           "5205 WD 02.pdf",
           "G"
          ],
          [
           931964,
           "Inspection Report #353",
           "G"
          ],
          [
           718401,
           "3124.G11.Tanza-Rozor (1-29-97) Fax Transmittal.pdf",
           "G"
          ],
          [
           252761,
           "7-22-13.pdf",
           "G"
          ],
          [
           727948,
           "2638 G 16 FieldOrder_48.pdf",
           "G"
          ],
          [
           301037,
           "FW  Stair demo.msg",
           "G"
          ],
          [
           873217,
           "4203_RFI_267.1_-_EEC_-_Inverter_Model_Suggestion_Response.pdf",
           "G"
          ],
          [
           616990,
           "File 9804C RFI 001 Response.pdf",
           "G"
          ],
          [
           900820,
           "CPE #009.pdf",
           "G"
          ],
          [
           232797,
           "02-2318-064-041619-Crown Merrill-Weekly Meeting-11.xlsx",
           "G"
          ],
          [
           681889,
           "2700-119_g19.pdf",
           "G"
          ],
          [
           297604,
           "Demo items in South Wing.msg",
           "G"
          ],
          [
           730718,
           "2017-12-01 - MCC - Cx Meeting Notes.docx",
           "G"
          ],
          [
           718310,
           "3124.G11.Proposal Request #50.1 Memorandum -- Mr. Chris Rozof (#2).pdf",
           "G"
          ],
          [
           858972,
           "5601-20.pdf",
           "G"
          ],
          [
           797514,
           "WD # 6701 - 36 complete.pdf",
           "G"
          ],
          [
           141362,
           "Final Approval letter signed.pdf",
           "G"
          ],
          [
           966225,
           "RFI 055.pdf",
           "G"
          ],
          [
           298307,
           "Re  water leak at health center - resending with corrected address.msg",
           "G"
          ],
          [
           252395,
           "1027226 on 13-07-08 1shotcrete.pdf",
           "G"
          ],
          [
           317117,
           "Field Order C076- Bulletin C075 - Gallery Track lights.DOC",
           "G"
          ],
          [
           923608,
           "6201-116.pdf",
           "G"
          ],
          [
           724229,
           "3002-059.G19.Certificate of Occupancy.pdf",
           "G"
          ],
          [
           874286,
           "2009-10-26.pdf",
           "G"
          ],
          [
           199212,
           "File 1810 Change Request #1377.pdf",
           "G"
          ],
          [
           768985,
           "3124.G4.IFAMusic Addition Correspondence.pdf",
           "G"
          ],
          [
           874275,
           "2009-10-09.pdf",
           "G"
          ],
          [
           768979,
           "3124.G4.Minutes of Preconstruction Conference.pdf",
           "G"
          ],
          [
           726252,
           "6301.G8.Progress Report 11-15-1995.pdf",
           "G"
          ],
          [
           4177,
           "Precon.2.doc",
           "G"
          ],
          [
           260568,
           "2015-06-02 Punchlist - UCSC Merrill Phase 2 - HVAC Punch List - Final.pdf",
           "G"
          ],
          [
           768970,
           "3124.G3.H.A.E #1.pdf",
           "G"
          ],
          [
           313228,
           "3017-006 Certificate of Substantial Completion.pdf",
           "G"
          ],
          [
           586489,
           "Cornerstone daily field reports 1-6.pdf",
           "G"
          ],
          [
           268374,
           "A0.4.pdf",
           "G"
          ],
          [
           884112,
           "Ridge- MT Hamilton Gen Add_CX Schedule.xls",
           "G"
          ],
          [
           752798,
           "3124.G11.Proposal Request 61 BOORA Clarification.pdf",
           "G"
          ],
          [
           406328,
           "UCSC Site Inspection (11-20-2015).docx",
           "G"
          ],
          [
           47197,
           "12 TCP-0-2.pdf",
           "G"
          ],
          [
           871557,
           "File 3124 Panduit Panels.pdf",
           "G"
          ],
          [
           409170,
           "RFI #4932-723.3 - Confirming Backflow Preventer in OFOI Ice Maker (P2.01A, P4.04) Answer.pdf",
           "G"
          ],
          [
           799975,
           "-.JPG",
           "G"
          ],
          [
           902,
           "1400-093.G13.Thimann Labs Crane Lift Occupant Notice (10-15-16).pdf",
           "G"
          ],
          [
           686320,
           "3124.G11.Memorandums FOR Cost Proposal Change Request #136 RFI #131 CO #6.pdf",
           "G"
          ],
          [
           170172,
           "Site Safety Survey 9-22-14.xls",
           "G"
          ],
          [
           703443,
           "McPunchlist.xls",
           "G"
          ],
          [
           685077,
           "Coastwide Invoice Asbestos.pdf",
           "G"
          ],
          [
           978794,
           "DIR Notice of Complaint Closed.pdf",
           "G"
          ],
          [
           923556,
           "GHW_Invoice06_050124.pdf",
           "G"
          ],
          [
           874500,
           "File 6701 G8 2-28-2011 Revised 3-1-2011.pdf",
           "G"
          ],
          [
           733054,
           "3002-106.G19.PorterDiningWaterTankRpl.doc",
           "G"
          ],
          [
           536878,
           "6301.G - Sprinkler Specs (Part 5).pdf",
           "G"
          ],
          [
           730709,
           "UCSC_MCC_Cx Issues Log - HVAC  03-02-2018.pdf",
           "G"
          ],
          [
           173303,
           "File 1700-178.G24 Permit.pdf",
           "G"
          ],
          [
           74279,
           "File 10000-082 Construction Permit - Job Inspection Record 13.04.12.pdf",
           "G"
          ],
          [
           868530,
           "CO 001 R1 UCSC Recap Cover Sheets.xlsx",
           "G"
          ],
          [
           692878,
           "12050-010 Substantial Completion.pdf",
           "G"
          ],
          [
           255167,
           "7-9-13 Concrete Insp, Soil Insp.pdf",
           "G"
          ],
          [
           831288,
           "Application for Payment 5626-12.pdf",
           "G"
          ],
          [
           874428,
           "2010-04-26.pdf",
           "G"
          ],
          [
           718433,
           "3124.G11.Cost Proposal #60r.pdf",
           "G"
          ],
          [
           297232,
           "Re  meter commission @ hlth cnter (126).msg",
           "G"
          ],
          [
           575139,
           "2017_certificate_of_substantial_completion.docx",
           "G"
          ],
          [
           958674,
           "5303-037.G5.Daily reports 3-14-2023.pdf",
           "G"
          ],
          [
           830502,
           "File 9065 G8 Testing Engineers, Inc Inspection Report 10.09.09.pdf",
           "G"
          ],
          [
           170136,
           "Site Safety Survey 12-20-13.xls",
           "G"
          ],
          [
           378194,
           "File 4101.G13 EHS LOI 039.pdf",
           "G"
          ],
          [
           356756,
           "File 3302.G17.Division 1-Heating water exchanger upgrade-guarantee quality & performance.pdf",
           "G"
          ],
          [
           8508,
           "1499-038.G24 Construction Permit.pdf",
           "G"
          ],
          [
           724174,
           "6300-009.G19.Summary.pdf",
           "G"
          ],
          [
           868036,
           "5510-024-CP #026 UCSC Review.xlsx",
           "G"
          ],
          [
           411943,
           "FieldOrder 4932-088 Temp Power Bill 7-16.docx",
           "G"
          ],
          [
           362150,
           "File 3505.G10. FM Kicker Hydro Inspection 7.7.17.pdf",
           "G"
          ],
          [
           240981,
           "2-1-18.pdf",
           "G"
          ],
          [
           297829,
           "Re  Omni Lock.msg",
           "G"
          ],
          [
           260286,
           "2636 G 16 FieldOrder_064.doc",
           "G"
          ],
          [
           473560,
           "5200-031 G6 MesitiMiller Memo, 12-17-12.doc",
           "G"
          ],
          [
           377218,
           "UCSC EHS WE 3.15.19.pdf",
           "G"
          ],
          [
           365687,
           "3619 SURW - FO #05.2 Dry Rot & General Carpentry Part 2.xlsx.pdf",
           "G"
          ],
          [
           195136,
           "File 1810 Proposal Request No. 034 Sevice Desk.pdf",
           "G"
          ],
          [
           830345,
           "File 9065 Landscape Closeout Meeting Agenda.pdf",
           "G"
          ],
          [
           373186,
           "CO#2 DRAFT.2.pdf",
           "G"
          ],
          [
           883497,
           "6300-008 Cert of Substantial Completion - punch list.pdf",
           "G"
          ]
         ],
         "hovertemplate": "tag=%{customdata[2]}<br>umap_x=%{x}<br>umap_y=%{y}<br>file_id=%{customdata[0]}<br>filename=%{customdata[1]}<extra></extra>",
         "legendgroup": "G",
         "marker": {
          "color": "#1C8356",
          "line": {
           "width": 0
          },
          "opacity": 0.75,
          "size": 7,
          "symbol": "circle"
         },
         "mode": "markers",
         "name": "G",
         "showlegend": true,
         "type": "scattergl",
         "x": {
          "bdata": "7h89P65aRL8UG9dAyKrgvrj8iz7guIBAdQcDQDboOj9hWYpAGfoxQLaJtj+7OvI/9UJSQHqStT9L/RK+zysSQJhjRT9nVZVAkLhfv2xRW0DMfz5AEAXeP5KRbEC27F2+tOBJQE+G97/TsYZAMccMwJ+97b952uQ/GNZ5QOnHcTys245A1XyFP3OcR0CZj9S/CnG9vfrvfT+4HjE/LDGEQOVxnr+DwXVAsDu+vzo+rD/IKgU+Z3sZQJiztD9zGSq/ObzxvusRC0COel1AOzXyvzlbUD//HJhAovNaQJgxVz8afBhAl5CHQDp0R0ASEYZAd8GAQC33lD8s3KpAJt0RvgE1Rz5DByq/CgbwP5nsKkAwxSO/qzHLP0ocpj9CMag/ZutbQLeFEEBJijxAxlzcv3nT97+CPqM/z/3rv3fbq0CwfVm//agsP4iWqD8xVDtAJY6vPxN1ID7fbCFA3R3/vkNhYUDZOgLA0UR3QOxADEDwYJxArqeCP+Lg3z9LmmtA/cWGvxZP579dC90/q8wxQOeoZkBKPnc/I3+OPEwnnz+UCfG+SkmuQHV2VkAePTG/9rXWvxmBPL/zpwLAZQE8v5NYXkBQa11ALMkAv2kpKkBzw7c/mjunP/PXs79DOck/oIVlQI+AqkDhl7o/Zd9AP9rqYT3rB2dAhw+2P8MbWkBGU5JAaQeVPy3TYEBiFfy/mO8jv4VILkAWwh2/b/HdvqCqBUCN3r4/WO/dv1utbkD9kX4/t2tvQNIPKL8knSe/4gEkvwNEt78/qjy+YJYBwImmQkBO6hxA5E4HvgsSN0DgYnK/DN+qQCOw6D94bh+/lEfKP/rXpL5agYVAE42CQNlNbEDA1WdA3Rc2QO2ArL/1yCe/ADBEQDOr87+WqGS/zUg+QJzYiECDFVu/bA26Pz2Drz95jHhACoCBQFoS00CwV40/Da6BQOi6ekDaMaq/tXm3P2Ev879ImA6/cDJ6P705nT26VGFA3x1vQN4KlT8hGRM/jQpqQFzNyECQBHM/mFEZQL8hNj/97qZAbP05QCWgGT5hw6tANc49PDHAPUAOsqM/c7kyQK+IXrw3SSQ/FQqlP6t6xT9eecq+qw3hP5ZLOkDomXs/EnwoQPBhOz/PRrg/KPRSQJnCcEDXl6g/J/DTvwc8sz87nYBAZLN+vzYOEUB06mBAsVglvyqjnkC5KGw//G1KQB44ur4iSqdAn1Qkv8vVU0Bkicg+BWauP6Y3tj9nJKhA8ViZP6nhHL9XNs4/dAtfQN9AoD+Qpbo8BDgAwKvqR0DKwwQ/nWYCwO9OeEBotwdAzCV9QD6apD8+Hk+/LxnvP8t5+D9bMpFAfm87QLcGgUBnJodAU+JBP9tOvL8Kxdw/sG4Jv1FxqD848HhAUywHOyUFK0Cdk6FAwlg8QC3/K0Bq6ytAz8esQOVNLD/6YVs/J8OBP2fmpz93IkxAjQTqPzoYqL/39qC/47AFwKUPSkCIITe/acDpPy7rg0CL+us/hKVTO6dTYkBTFrQ/WQ56P3POib7JXx1AX2tFQHv9FL6XbIJAxbghv+xIXUDMKY5ASyZpQOvmp0BGeFhAe4vLQEU9V0BbwgFA",
          "dtype": "f4"
         },
         "xaxis": "x",
         "y": {
          "bdata": "d6e6QPmAAEGooDpAT/MePw0pbkDSI+I/I08NP631l0Ck/D4/PFWSQLzlvj/djPk+Gcy6P7QKoUA/fEm9rziPQFRxlECdsq1AkfbYQB0VxT9py05A6d1DQB82iEDF6AI8E4pIQB1JukD1I5VAqR8tQIWttkDbyWtAjBKXP0rJhb/gL1pAruq5QPA5oD9/+95AHXtoPlnlHz8m3ptADZVKQKt/pkBLC9g/CHuvQBgcjkAtxHBA6ZMWQPuPwD/FTAFBma+eQEe7iEAeB2s/LBHSQKYZskC+qaFAZenAP7fnWj+bwDBA/xCdP0jqx0CoP5dAE113QOrliECbheI/K3XdQNiPZ0ASZwFBOUjmPjrXsUCDzgFBUDVbQMQP9T/ULEs/5B0tQNdApkAf0rhAjomwQKNpzEBwVlA/rArMQF3c1j+o+itApz+TQI4pXz9iHBZAz0hZQFe9UkAA06JAtxjrQPdShD/mY7hA31TUP+UzQkCD7SZAT/IYPzCmiUBqEJs/kmfVQMl4t0AKkFo/DHLOP36KVT9aVSA/nOKGv0gVUUDfTAc++mvfP5FLiD9i1AFBWmAnQJEYg0BgV7hAzgUBQZA/z0CYqI8/BQ3UPvgiUkBWL64/RGp5QMTTuECoqIBAgs5fP+4o3j8bVbs/EO5qQAxr4UDTCY0/k1qfQIFmvD9K1ldAQgCKQISdxD8oLl1AZgQCQYaSf0BkTf5AsRyEQNvZhUAlNKRAmZmwQNTZ1UBMgyA/PokPQH8RAkEAGAFBG3oBQcss5EDXLt9AP4G8QG33xUC5GodAWSzdQJktlkD1lOBAB1TmP4RhhUBu+wFBtxtvQDB+40BGhiJAoyV4QMbCjj8rX14/gSiSQFqznUC1fgFBQhPGQExqxUCnAC1Apq/IQPRIA0BJobK8Dqm8P3QokUAtXR1AhN8eQOrFIkCcRYpA9iOKP0oe2z+tyJ1AdCy8P2xG0UCMfPpAmCsbP0bk1kAc7CVA2BinP3XijECnTpVA7rDRQL0/b0ADNCU/IjKDP0PnokDK6aNAZHCoP7mBc0Alv9c/PgCGvwjFykBGiu4/wcxXQEh95z+lY4dAmxeJQEo2XkD/D+FAzEXyPobov0COhRY/kaAxQBYxgUCwPF5AgDIOQAbCmUBGOFc/UyqtQOQGxz9Hum5AFDJ5QJeph0DeXGQ/owYCQee35T8+1pdA/YTLP3p8Aj6GDeQ/wKIBQdwgxkBZH55AOIzXP1SbvD+VLOY/BXFwQIfHAUHj+nlAzGpiPwXc2j/mcYe/jL+6QEYOvD+f4I9AXpC7QGaRG0Bqj05A9G4gQMC8kEDmUEBA6yLePlfUaUBZ8lFAV5DIQFzB3z9MNpVAiyWhQAFzuUARQIpAMFTgQJXxAkAjTNo/CeJ3vw8NnEDyr8pAzsQUPs7NJkD3jUlAgVHVPwGdpUAnSppAjb0ZP6Bvaj9zhrM/3JPoPo02r0A65J9Apom5QD+buT/8MQJBAtr6Pk0UdEAAel5A+XB3vwnsZT9pUNg/UnsYP6fGQL2jkrtAWVSmP7WXW71icXZALb8AQYvcej9mjyBA9uuYQD2hnD9XGL0/erZ/QPGpkT/0GzZA",
          "dtype": "f4"
         },
         "yaxis": "y"
        },
        {
         "customdata": [
          [
           686543,
           "3124.H.Section 2.6 02720 1.3B6. Data & Catch Basins; Storm Sewer System.pdf",
           "H"
          ],
          [
           510287,
           "05500-441.pdf",
           "H"
          ],
          [
           883761,
           "6300-011 Music Center Equipment Modernization - Submittal #11 61 33 - 01R1 Theatrical Rigging Equipment Modernization.pdf",
           "H"
          ],
          [
           596632,
           "TXT.rtf",
           "H"
          ],
          [
           537260,
           "6301.H.1.8 List of Materials.pdf",
           "H"
          ],
          [
           537321,
           "6301.H. Submittal 16.5 Electrical Connections for Equipment.pdf",
           "H"
          ],
          [
           686447,
           "3124.H.Section 2.2 02518 1.3. Substitution request; Concrete unit Paves.pdf",
           "H"
          ],
          [
           537329,
           "6301.H. Submittal 2.11 Prod Data.pdf",
           "H"
          ],
          [
           862544,
           "3124.H.Division 1 4.23.95.pdf",
           "H"
          ],
          [
           737896,
           "3124.H.Data & Waterstops.pdf",
           "H"
          ],
          [
           331975,
           "Submittal #83.pdf",
           "H"
          ],
          [
           737884,
           "3124.H.Concrete unit Masonry, Data & Mortar - Grout Admixture.pdf",
           "H"
          ],
          [
           686616,
           "3124.H.Data & Fibrous Concrete Reinf.pdf",
           "H"
          ],
          [
           686455,
           "3124.H.Section 2.4 02665 1.3B4. Data & Ductile Iron Mech. Joint; Water Lines.pdf",
           "H"
          ],
          [
           332057,
           "Cabrillo Plumbing O&M Manual.pdf",
           "H"
          ],
          [
           331985,
           "Submittal #39.pdf",
           "H"
          ],
          [
           737911,
           "3124.H.Mix Design & Water Repellent Admix.pdf",
           "H"
          ],
          [
           835410,
           "3124.H.09510 9.3 Submittal Acoustical Ceilings Product Data.pdf",
           "H"
          ],
          [
           705469,
           "3124.H. Submittal 1.18 - Mechanical - List of Substitutions.pdf",
           "H"
          ],
          [
           883807,
           "Letter of Transmittal 11.28.22.pdf",
           "H"
          ],
          [
           536148,
           "6300. H. Geo H. Wilson O & M.pdf",
           "H"
          ],
          [
           737834,
           "3124.H Shop Drawings.pdf",
           "H"
          ],
          [
           537231,
           "6301.H Submittal 16.25f.pdf",
           "H"
          ],
          [
           332020,
           "Submittal #84.pdf",
           "H"
          ],
          [
           737890,
           "3124.H.Concrete Unit Masonry, Tests & Inspections.pdf",
           "H"
          ],
          [
           92427,
           "16950-456.pdf",
           "H"
          ],
          [
           738001,
           "File 3124 Submittal 16.16R2 Review.pdf",
           "H"
          ],
          [
           331989,
           "Submittal #53.pdf",
           "H"
          ],
          [
           732705,
           "3124.H.20231219095404.pdf",
           "H"
          ],
          [
           705466,
           "3124.H. 1.20 Guarantees, Bonds, & Service Agrmnts.pdf",
           "H"
          ],
          [
           537221,
           "6301.H Submittal 16.25a.pdf",
           "H"
          ],
          [
           537431,
           "File 6301 Submittal 7.9, 8.3 07700, 08305.pdf",
           "H"
          ],
          [
           537298,
           "6301.H. Submittal 1.18_9.16 Spec 09931Exterior Wood Finish.pdf",
           "H"
          ],
          [
           537228,
           "6301.H Submittal 16.25e-2.pdf",
           "H"
          ],
          [
           862312,
           "3701.H.Submittal from Williams & Burrows.pdf",
           "H"
          ],
          [
           537421,
           "File 6301 Submittal 16.22 Section 16511 Review.pdf",
           "H"
          ],
          [
           686692,
           "11.3 11063 1.7B Shop Drawings (Sheet 3).pdf",
           "H"
          ],
          [
           737983,
           "3124.H.Submittal Section- 15990. C Testing and Adjusting Data, and Balancing.pdf",
           "H"
          ],
          [
           537201,
           "6301.H Powell Esco Shop Drawing.pdf",
           "H"
          ],
          [
           836395,
           "3124.H.08520 8.9 Submittal Aluminum Windows Product Data.pdf",
           "H"
          ],
          [
           305650,
           "File 2608 E0.01.tif",
           "H"
          ],
          [
           537202,
           "6301.H Preliminary Design Submittal.pdf",
           "H"
          ],
          [
           537416,
           "File 6301 Submittal #7.10b JS.pdf",
           "H"
          ],
          [
           537258,
           "6301.H Submittal Data Voice Termination Schedule.pdf",
           "H"
          ],
          [
           536146,
           "6300. H. Elevator O & M.pdf",
           "H"
          ],
          [
           537392,
           "6301.H.Submittal 15.32 Testing, Adjusting and Balancing.pdf",
           "H"
          ],
          [
           705461,
           "3124.H. 1.18 A2 Schedule of Submittals, List of Substitutions.pdf",
           "H"
          ],
          [
           537351,
           "6301.H.1.13.1.pdf",
           "H"
          ],
          [
           737857,
           "3124.H. Submittal 1.18 - Mechanical - List of Substitutions.pdf",
           "H"
          ],
          [
           737902,
           "3124.H.Manufacturer's Field Service Cast-in-place Concrete.pdf",
           "H"
          ],
          [
           686626,
           "3124.H.Metal Decking Shop Drawings transmittal.pdf",
           "H"
          ],
          [
           537288,
           "6301.H. Submittal 1.18 and 16.22 Spec 16511 Interior Lighting - Electric Ballast.pdf",
           "H"
          ],
          [
           537226,
           "6301.H Submittal 16.25d-2.pdf",
           "H"
          ],
          [
           883757,
           "Submittal Stamp.pdf",
           "H"
          ],
          [
           331987,
           "Submittal #44.pdf",
           "H"
          ],
          [
           332054,
           "Submittal #8.pdf",
           "H"
          ],
          [
           883764,
           "6300-011 Music Center Equipment Modernization - Submittal #11 61 33 - 01R3 Theatrical Rigging Equipment Modernization - APEIRO COMMENTS.pdf",
           "H"
          ],
          [
           332040,
           "Submittal #48.pdf",
           "H"
          ],
          [
           737854,
           "3124.H. Div. 01700 O&M Manual Record Drawings.pdf",
           "H"
          ],
          [
           537204,
           "6301.H Shop Drawings 2.pdf",
           "H"
          ],
          [
           744874,
           "[Fwd  Proj. No. 10010 Submittal 4 Low Flow Plumbing  Replacement].eml",
           "H"
          ],
          [
           537435,
           "File 6301.G1.1 H. Submittal #10.5.pdf",
           "H"
          ],
          [
           537286,
           "6301.H. Submittal 1.18 and 15.31 Spec 15932 Air Outlets and Inlets.pdf",
           "H"
          ],
          [
           686521,
           "3124.H.Section 1.19 01700 1.01 A5. Contract Close-out; Operations and Maintenance Manuals.pdf",
           "H"
          ],
          [
           737917,
           "3124.H.Reinforcing Steel. Placing Drawings & Bar List.pdf",
           "H"
          ],
          [
           732642,
           "3124.H Shop Drawings.pdf",
           "H"
          ],
          [
           908674,
           "3048.H.phase 2 plan 4 diagram marked.pdf",
           "H"
          ],
          [
           686529,
           "3124.H.Section 2.12 029501 1.4. Substitution Request; Planting.pdf",
           "H"
          ],
          [
           537246,
           "6301.H Submittal 16.26c Resubmittal.pdf",
           "H"
          ],
          [
           537400,
           "File 6301 16.22a Resubmittal Section 16511 Substitution.pdf",
           "H"
          ],
          [
           332019,
           "Submittal #14.pdf",
           "H"
          ],
          [
           331990,
           "Submittal #54.pdf",
           "H"
          ],
          [
           835411,
           "3124.H.093101 9.2 Submittal Ceramic Title Color Selection Samples.pdf",
           "H"
          ],
          [
           211630,
           "16720-1440-R1_updated.pdf",
           "H"
          ],
          [
           737952,
           "3124.H.Section 2.4 02665 1.3B2. Data & Copper Pipe; Water Lines.pdf",
           "H"
          ],
          [
           830559,
           "02372-032.pdf",
           "H"
          ],
          [
           143816,
           "33 12 19 -02 final review VOIDED.pdf",
           "H"
          ],
          [
           537309,
           "6301.H. Submittal 1.7 33 Construction Photos May 96.pdf",
           "H"
          ],
          [
           686549,
           "3124.H.Section 2.9 02810 1.2 B. Catalog Cuts; Irrigation.pdf",
           "H"
          ],
          [
           686453,
           "3124.H.Section 2.4 02665 1.3B2. Data & Copper Pipe; Water Lines.pdf",
           "H"
          ],
          [
           537336,
           "6301.H. Submittal 2.5a Site Concrete.pdf",
           "H"
          ],
          [
           331999,
           "Submittal #89.pdf",
           "H"
          ],
          [
           686617,
           "3124.H.Data & Surface Retarder.pdf",
           "H"
          ],
          [
           737962,
           "3124.H.Section 2.5 02675 1.4C. Welder's Performance Qual.; Underground Hot Water system.pdf",
           "H"
          ],
          [
           537406,
           "File 6301 Resubmittal 16.23b Section 16580.pdf",
           "H"
          ],
          [
           737882,
           "3124.H.Concrete unit Masonry, Data & Fine and Coarse Grout.pdf",
           "H"
          ],
          [
           834977,
           "3124.H.07210 Building Insulation Submittal Perimeter Foundation Insulation.pdf",
           "H"
          ],
          [
           705459,
           "3124.H. 1.18 A2 General Requirements - Addedndum to List of Subs Accepted.pdf",
           "H"
          ],
          [
           962747,
           "6300-001_h.pdf",
           "H"
          ],
          [
           537436,
           "File 6301.G1.2 H. Submittal #12.2 Samples for Inital Selection.pdf",
           "H"
          ],
          [
           733440,
           "3124.H.Structural Steel Shop Drawings.pdf",
           "H"
          ],
          [
           537200,
           "6301.H Hydraulics Calculations - Sept 11, 1995 (After Review by MCB & APA).pdf",
           "H"
          ],
          [
           737994,
           "3124.H.Transformers - Equipment data & Shop drawings.pdf",
           "H"
          ],
          [
           537272,
           "6301.H. Submittal 1.16 Temporary Utilities Plan.pdf",
           "H"
          ],
          [
           686605,
           "3124.H.Concrete unit Masonry, Data & Fine and Coarse Grout.pdf",
           "H"
          ],
          [
           848990,
           "4203_-_271101-04_R0_-_Fire_Rated_Plywood.pdf",
           "H"
          ],
          [
           537240,
           "6301.H Submittal 16.26a Shop Drawings.pdf",
           "H"
          ],
          [
           686622,
           "3124.H.Improvements to Art Facility O & M v 4.pdf",
           "H"
          ],
          [
           537496,
           "6301.H.Fire Safety Plan.pdf",
           "H"
          ],
          [
           732660,
           "3124.H.05120 Structural steel Shop Drawings R1_R2 part 1 transmittal.pdf",
           "H"
          ],
          [
           737831,
           "16.14 16515 1.3A R1 Ayraud Review.pdf",
           "H"
          ],
          [
           737836,
           "3124.H. 1.18 A2 General Requirements - Addedndum to List of Subs Accepted.pdf",
           "H"
          ],
          [
           686627,
           "3124.H.Mix Design & 07-1-625-Music.pdf",
           "H"
          ],
          [
           332029,
           "Submittal #64.pdf",
           "H"
          ],
          [
           686623,
           "3124.H.Improvements to Arts Facility O & M V 1.pdf",
           "H"
          ],
          [
           537360,
           "6301.H.1.2 Designated Representative.pdf",
           "H"
          ],
          [
           732708,
           "3124.H.20231219095706.pdf",
           "H"
          ],
          [
           686667,
           "11.03 11063.pdf",
           "H"
          ],
          [
           737910,
           "3124.H.Mix Design & Water Reducing Admix.pdf",
           "H"
          ],
          [
           537462,
           "6301.H Submittal 5.3 Material Stuff.pdf",
           "H"
          ],
          [
           835316,
           "3124.H.06100 6.1Submittal Rough Carpentry Certificates.pdf",
           "H"
          ],
          [
           686633,
           "3124.H.Mix Design & Water Reducing Admix.pdf",
           "H"
          ],
          [
           737976,
           "3124.H.Structural steel Shop Drawings part 1.pdf",
           "H"
          ],
          [
           537384,
           "6301.H.Submittal 15.28a Ductwork.pdf",
           "H"
          ],
          [
           332041,
           "Submittal #49.pdf",
           "H"
          ],
          [
           883792,
           "6300-011 Letter of Transmittal 1.20.23.pdf",
           "H"
          ],
          [
           686700,
           "TEMP004.TIF",
           "H"
          ],
          [
           737975,
           "3124.H.structural steel shop drawing transmittal.pdf",
           "H"
          ],
          [
           962746,
           "6300-001_h(2).pdf",
           "H"
          ],
          [
           598616,
           "01060-01 complete.pdf",
           "H"
          ],
          [
           331971,
           "Submittal #50.pdf",
           "H"
          ],
          [
           537192,
           "6301.H - Equipment and Materials Submittal (Jan 13, 1996).pdf",
           "H"
          ],
          [
           686629,
           "3124.H.Mix Design & 67-0-401-Arts.pdf",
           "H"
          ],
          [
           686688,
           "TEMP002.TIF",
           "H"
          ],
          [
           737853,
           "3124.H. 5.3 B Metal Decking Shop Drawings Sheets E12-E23 & S58 (Review and Approval).pdf",
           "H"
          ],
          [
           332024,
           "Submittal #5-1.pdf",
           "H"
          ],
          [
           332006,
           "Submittal #12.pdf",
           "H"
          ],
          [
           329392,
           "File 3124 Submittal Comments.pdf",
           "H"
          ],
          [
           537347,
           "6301.H.1.11 PreliminarySchedule.pdf",
           "H"
          ],
          [
           834978,
           "3124.H.07210 Building Insulation Submittal Batt Insulation Schedule.pdf",
           "H"
          ],
          [
           537319,
           "6301.H. Submittal 16.3 Wire and Cables.pdf",
           "H"
          ],
          [
           537413,
           "File 6301 Submittal #7.10 R1 Joint Sealers.pdf",
           "H"
          ],
          [
           537276,
           "6301.H. Submittal 1.18 and 12.2 Spec 12710 Auditorium and Theatre Seating.pdf",
           "H"
          ],
          [
           537439,
           "File 6301.H 16.22a 5-12-95.pdf",
           "H"
          ],
          [
           331994,
           "Submittal #71.pdf",
           "H"
          ],
          [
           537494,
           "6301.H. Toilet Partitions and Accesories O&Ms.pdf",
           "H"
          ],
          [
           962459,
           "Re-Sub 1-R1 Younng Eng 8.8.14.pdf",
           "H"
          ],
          [
           737946,
           "3124.H.Section 2.4 02665 1.3B13. Data & Flance coupling adapter; Water lines.pdf",
           "H"
          ],
          [
           737932,
           "3124.H.Section 2.1 02515 1.3. Substitution Request; Turf Block paving.pdf",
           "H"
          ],
          [
           686671,
           "TEMP001.TIF",
           "H"
          ],
          [
           744632,
           "01300-1.10 Submittal Schedule.doc",
           "H"
          ],
          [
           686524,
           "3124.H.Section 2.09 02810 G. Irrigation; Keys.pdf",
           "H"
          ],
          [
           732633,
           "3124.H.structural steel shop drawing transmittal.pdf",
           "H"
          ],
          [
           331968,
           "Submittal #30.pdf",
           "H"
          ],
          [
           737991,
           "3124.H.Submittal Section-15951. Temperature Control - Product Data.pdf",
           "H"
          ],
          [
           686588,
           "3124.H. Submittal 5.2 C R1 BOORA - Long Span Joist Bill of Material - Vulcraft (4 copies).pdf",
           "H"
          ],
          [
           537385,
           "6301.H.Submittal 15.29 Ductwork Accessories Fire Dampner and Smoke Dampner.pdf",
           "H"
          ],
          [
           705468,
           "3124.H. Div. 01700 O&M Manual Record Drawings.pdf",
           "H"
          ],
          [
           835139,
           "3124.H.08385 8.6 Sound Control Doors Door Handing Chart Submittal.pdf",
           "H"
          ],
          [
           737969,
           "3124.H.Section 2.8 02730 1.3B2. Data & Concrete access hole; Sanitary Sewer System.pdf",
           "H"
          ],
          [
           737947,
           "3124.H.Section 2.4 02665 1.3B14. Data & Tapping Saddle; Water lines.pdf",
           "H"
          ],
          [
           835298,
           "3124.H.076101  7.10 Submittal Sheet Metal Roofing Samples.pdf",
           "H"
          ],
          [
           686666,
           "File 3124 Submittal 7.8 07525 1.4B.pdf",
           "H"
          ],
          [
           686519,
           "3124.H.Section 02675 2.2A. Product Data; Subdrainage system.pdf",
           "H"
          ],
          [
           844026,
           "3124.H.Submittal Strand Lighting.pdf",
           "H"
          ],
          [
           536978,
           "6301.H.11.5 11135 Projector Lift.pdf",
           "H"
          ],
          [
           332043,
           "Submittal #10.pdf",
           "H"
          ],
          [
           466780,
           "115313-001R1 Revised Review.pdf",
           "H"
          ],
          [
           686595,
           "3124.H. Submittal 5.3 Item D Checklist.pdf",
           "H"
          ],
          [
           537417,
           "File 6301 Submittal #7.10b Product Data JS.pdf",
           "H"
          ],
          [
           737878,
           "3124.H.3124. H. 05120 Structural steel Shop Drawings R1_R2 part 5.pdf",
           "H"
          ],
          [
           537387,
           "6301.H.Submittal 15.29.2 Ductwork Accessories Acoustical Silencers.pdf",
           "H"
          ],
          [
           686647,
           "3124.H.Submittal Section- 16.10 16461 1.3(A3). Pad Mounted Transformers - Installation Instructions.pdf",
           "H"
          ],
          [
           737866,
           "3124.H. Submittal 5.2 D Steel Joists Inspector's Qualifications.pdf",
           "H"
          ],
          [
           732657,
           "3124.H.3124. H. 05120 Structural steel Shop Drawings R1_R2 part 3.pdf",
           "H"
          ],
          [
           686582,
           "3124.H. Submittal 5.1 B - Structural Steel Inspector's Qualifications.pdf",
           "H"
          ],
          [
           317792,
           "02511-3195 through 3201.pdf",
           "H"
          ],
          [
           686542,
           "3124.H.Section 2.6 02720 1.3B4. Data & Ductile iron Pipe; Storm Sewer System.pdf",
           "H"
          ],
          [
           686454,
           "3124.H.Section 2.4 02665 1.3B3. Data & Cast Iron fittings; Water lines.pdf",
           "H"
          ],
          [
           686638,
           "3124.H.Reinforcing Steel. Placing Drawings & Bar List.pdf",
           "H"
          ],
          [
           686457,
           "3124.H.Section 2.4 02665 1.3B5.2. Data & Threaded check Valve; water Lines.pdf",
           "H"
          ],
          [
           537268,
           "6301.H. Submittal 1.13.9 Schedule Update - July 1996.pdf",
           "H"
          ],
          [
           537185,
           "6301 add to wheelchair oand ms.pdf",
           "H"
          ],
          [
           537257,
           "6301.H Submittal 16.39.pdf",
           "H"
          ],
          [
           737945,
           "3124.H.Section 2.4 02665 1.3B12. Data & Indicator post; Water lines.pdf",
           "H"
          ],
          [
           537375,
           "6301.H.Submittal 15.21 Chemical Water Treatment.pdf",
           "H"
          ],
          [
           537311,
           "6301.H. Submittal 15.28.pdf",
           "H"
          ],
          [
           332050,
           "Submittal #34.pdf",
           "H"
          ],
          [
           835533,
           "3124.H.08950 8.13 Submittal Translucent Wall Design Data.pdf",
           "H"
          ],
          [
           537415,
           "File 6301 Submittal #7.10a R1 07900-Sealants.pdf",
           "H"
          ],
          [
           742352,
           "9205-007.H.Submittal Log .xls",
           "H"
          ],
          [
           537278,
           "6301.H. Submittal 1.18 and 15.20  Spec 15540 HVAC Pumps.pdf",
           "H"
          ],
          [
           686545,
           "3124.H.Section 2.8 02730 1.3 B5. Data & Sewer Cleanout; Sanitary Sewer System.pdf",
           "H"
          ],
          [
           537245,
           "6301.H Submittal 16.26c Resubmittal 2.pdf",
           "H"
          ],
          [
           537353,
           "6301.H.1.13.3.pdf",
           "H"
          ],
          [
           537429,
           "File 6301 Submittal 7.7 Correspondence.pdf",
           "H"
          ],
          [
           537381,
           "6301.H.Submittal 15.26 Power and Gravity Ventilators.pdf",
           "H"
          ],
          [
           835392,
           "3124.H.09521 9.5 Submittal Acoustical Wall Panels Samples.pdf",
           "H"
          ],
          [
           537359,
           "6301.H.1.13.8.pdf",
           "H"
          ],
          [
           737835,
           "3124.H Submittal 3.2 03213 1.3 B (R1-R28) - Reinforced Steel Rebar Shop Drawings R1-R28.pdf",
           "H"
          ],
          [
           732658,
           "3124.H.3124. H. 05120 Structural steel Shop Drawings R1_R2 part 4.pdf",
           "H"
          ],
          [
           737978,
           "3124.H.Submittal 5.1 Structural Steel Shop Drawings.pdf",
           "H"
          ],
          [
           537348,
           "6301.H.1.12 ContractSchedule-Prelim..pdf",
           "H"
          ],
          [
           537386,
           "6301.H.Submittal 15.29.1 Ductwork Accessories Turning Vanes,Access Doors, Flex Duct Connectors.pdf",
           "H"
          ],
          [
           737877,
           "3124.H.3124. H. 05120 Structural steel Shop Drawings R1_R2 part 4.pdf",
           "H"
          ],
          [
           537479,
           "File 6301.H. Submittal #9.7 Samples.pdf",
           "H"
          ],
          [
           537475,
           "File 6301.H. Submittal #9.7 Per Architect's Comments 5-31-96.pdf",
           "H"
          ],
          [
           737858,
           "3124.H. Submittal 5.1 A - Structural Steel Tests and Inspections.pdf",
           "H"
          ],
          [
           537210,
           "6301.H Submittal 16.16a.pdf",
           "H"
          ],
          [
           537279,
           "6301.H. Submittal 1.18 and 15.22  Spec 15559 Inclined Water Tube Boilers.pdf",
           "H"
          ],
          [
           962457,
           "Re-Sub 1 Younng Eng. 1-9.pdf",
           "H"
          ],
          [
           686608,
           "3124.H.Concrete unit Masonry, Data & Mortar mixing Requirements.pdf",
           "H"
          ],
          [
           332046,
           "Submittal #16.pdf",
           "H"
          ],
          [
           686606,
           "3124.H.Concrete unit Masonry, Data & Light wright Concrete Block.pdf",
           "H"
          ],
          [
           537281,
           "6301.H. Submittal 1.18 and 15.25  Spec 15860 Centrifugal Fans.pdf",
           "H"
          ],
          [
           537267,
           "6301.H. Submittal 09050-01 Acoustical Sealant for Duct Penetrations.pdf",
           "H"
          ],
          [
           686676,
           "TEMP006.TIF",
           "H"
          ],
          [
           537104,
           "6301.H Projector Lift O+M.pdf",
           "H"
          ],
          [
           737889,
           "3124.H.Concrete unit Masonry, Shop Drawings.pdf",
           "H"
          ],
          [
           537423,
           "File 6301 Submittal 16.23 Section 16580 Review.pdf",
           "H"
          ],
          [
           737966,
           "3124.H.Section 2.6 02720 1.3B6. Data & Catch Basins; Storm Sewer System.pdf",
           "H"
          ],
          [
           705470,
           "3124.H.Section 5.5 1.3B Shop Drawings(D11-D31)- Metal Fabrications.pdf",
           "H"
          ],
          [
           537449,
           "6301.H Submittal 1.3 Layout Drawings.pdf",
           "H"
          ],
          [
           732704,
           "3124.H.20231219094712.pdf",
           "H"
          ],
          [
           732712,
           "3124.H.Transmittal Color Sample.pdf",
           "H"
          ],
          [
           732665,
           "3124.H.Metal Fab Shop Drawings.pdf",
           "H"
          ],
          [
           737893,
           "3124.H.Data & Fibrous Concrete Reinf.pdf",
           "H"
          ],
          [
           737888,
           "3124.H.Concrete unit Masonry, Masonry Water Seal.pdf",
           "H"
          ],
          [
           212559,
           "1810-027_-_064000-01_R0_-_Wood_Veneer_Paneling_Review_archive_.pdf",
           "H"
          ],
          [
           537320,
           "6301.H. Submittal 16.4 Electrical Boxes and Fittings.pdf",
           "H"
          ],
          [
           537301,
           "6301.H. Submittal 1.19 Maintenance Materials Contract Close Out.pdf",
           "H"
          ],
          [
           332060,
           "File 3209. H. NEMA Panelboard O&M.pdf",
           "H"
          ],
          [
           835313,
           "3124.H.06200 PR21 Submittal Finish Carpentry Samples.pdf",
           "H"
          ],
          [
           686591,
           "3124.H. Submittal 5.3 C Metal Decking - Product Data - HA Ekelin & Assoc.pdf",
           "H"
          ],
          [
           537307,
           "6301.H. Submittal 1.7 31 Photographs Apr. 9_30, 96.pdf",
           "H"
          ],
          [
           883760,
           "6300-011 Music Center Equipment Modernization - Submittal #11 61 33 - 01R1 Theatrical Rigging Equipment Modernization - APF COMMENTS.pdf",
           "H"
          ],
          [
           835420,
           "3124.H.08521 8.10 Submittal Aluminum Windows Certification.pdf",
           "H"
          ],
          [
           737974,
           "3124.H.Section 5.5 1.3B Shop Drawings(E1-D10)- Metal Fabrications.pdf",
           "H"
          ],
          [
           241621,
           "09 67 00 -002 Revised.pdf",
           "H"
          ],
          [
           686443,
           "3124.H.Section 02510A. Mix Design & Sieve Analysis; Asphaltic Concrete Paving.pdf",
           "H"
          ],
          [
           332010,
           "Submittal #63.pdf",
           "H"
          ],
          [
           268454,
           "01 31 19.pdf",
           "H"
          ],
          [
           537443,
           "File 6301.H. Submittal #12.2 Product Data.pdf",
           "H"
          ],
          [
           537424,
           "File 6301 Submittal 16.23 Section 16580.pdf",
           "H"
          ],
          [
           537249,
           "6301.H Submittal 16.26d.pdf",
           "H"
          ],
          [
           737860,
           "3124.H. Submittal 5.1 C Structural Steel - Welder's Certification, Welding Procedure Specifications.pdf",
           "H"
          ],
          [
           536981,
           "6301.H.11.6 SoundSystem.pdf",
           "H"
          ],
          [
           332028,
           "Submittal #6-2.pdf",
           "H"
          ],
          [
           686592,
           "3124.H. Submittal 5.3 D BOORA Metal Decking - Bill of Materials.pdf",
           "H"
          ],
          [
           537334,
           "6301.H. Submittal 2.5 Outlet Structure Reinforcing-Shop Drawings.pdf",
           "H"
          ],
          [
           737972,
           "3124.H.Section 2.9 02810 1.2 B. Catalog Cuts; Irrigation.pdf",
           "H"
          ],
          [
           686654,
           "3124.H.Submittal Section-15951. Temperature Control - Product Data.pdf",
           "H"
          ],
          [
           686603,
           "3124.H.Boxes - Product Data.pdf",
           "H"
          ],
          [
           737949,
           "3124.H.Section 2.4 02665 1.3B16. Data & Backflow preventer; water lines.pdf",
           "H"
          ],
          [
           537412,
           "File 6301 Submittal #7.10 Joint Sealers .pdf",
           "H"
          ],
          [
           737841,
           "3124.H. 1.20 1.05 Guarantees, Bonds, & Service Agrmts.pdf",
           "H"
          ],
          [
           732710,
           "3124.H.4792_001.pdf",
           "H"
          ],
          [
           883769,
           "6300-011 Music Center Equipment Modernization - Submittal #11 61 33 - 02R1 Theatrical Rigging Equipment Modernization.pdf",
           "H"
          ],
          [
           377761,
           "4101 RFI 209 Response.pdf",
           "H"
          ],
          [
           737838,
           "3124.H. 1.18 A2 Schedule of Submittals, List of Substitutions.pdf",
           "H"
          ],
          [
           883791,
           "6300-011 Letter of Transmittal 1.18.23.pdf",
           "H"
          ],
          [
           875710,
           "3124.H.Aluminum Canopy Skylights.pdf",
           "H"
          ],
          [
           537239,
           "6301.H Submittal 16.26.pdf",
           "H"
          ],
          [
           537483,
           "File 6301.H. Submittal #9.7a Shop Drawings.pdf",
           "H"
          ],
          [
           686615,
           "3124.H.Data & Expansion Joints.pdf",
           "H"
          ],
          [
           686587,
           "3124.H. Submittal 5.2 C R1 BOORA - Long Span Joist Bill of Material - Vulcraft (10-28-97).pdf",
           "H"
          ],
          [
           883774,
           "6300-011 Music Center Equipment Modernization - Submittal #11 61 33 - 03 Theatrical Rigging Equipment Modernization - APR REVIEW.pdf",
           "H"
          ],
          [
           537452,
           "6301.H Submittal#11.1 Recital Hall Canopy Rigging.pdf",
           "H"
          ],
          [
           537101,
           "6301.H.Loading Dock Equipment.pdf",
           "H"
          ],
          [
           332056,
           "3209.H Heating and Air O&M Janitrol.pdf",
           "H"
          ],
          [
           835132,
           "3124.H.08385 8.6 Sound Control Doors Laboratory Test Performance Submittal.pdf",
           "H"
          ],
          [
           737999,
           "File 3124 H Working Drawing Submittal Phase 2 11.04.96.pdf",
           "H"
          ],
          [
           737929,
           "3124.H.Section 2.09 02810 3.16I. Irrigation; Observation Meetings.pdf",
           "H"
          ],
          [
           686456,
           "3124.H.Section 2.4 02665 1.3B5.1. Data & Flanged check Valve; Water Lines.pdf",
           "H"
          ],
          [
           737918,
           "3124.H.Reinforcing Steel.pdf",
           "H"
          ],
          [
           537454,
           "6301.H Submittal#11.1J O&M Recital Hall.pdf",
           "H"
          ],
          [
           332009,
           "Submittal #45.pdf",
           "H"
          ],
          [
           686522,
           "3124.H.Section 2.09 02810 1.7L. Irrigation; Record Drawings.pdf",
           "H"
          ],
          [
           537374,
           "6301.H.Submittal 15.20 HVAC Pumps.pdf",
           "H"
          ],
          [
           537488,
           "6301.H. Hydraulic Elevators O&Ms.pdf",
           "H"
          ],
          [
           737997,
           "Division 12.2 12522 1.2 B1,B2- Motorized Blackout Shades.pdf",
           "H"
          ],
          [
           883799,
           "6300-011 Letter of Transmittal 4.13.23.pdf",
           "H"
          ],
          [
           537390,
           "6301.H.Submittal 15.31 Air Outlets and Inlets.pdf",
           "H"
          ],
          [
           686445,
           "3124.H.Section 2.1 02515 1.3. Substitution Request; Turf Block paving.pdf",
           "H"
          ],
          [
           686669,
           "3124. H. Steel Details.pdf",
           "H"
          ],
          [
           537209,
           "6301.H Submittal 16.16.pdf",
           "H"
          ],
          [
           737960,
           "3124.H.Section 2.4 02665 1.3B9. Data & Valve Box; Water Lines.pdf",
           "H"
          ],
          [
           537280,
           "6301.H. Submittal 1.18 and 15.23  Spec 15684 Air Colled Water Chillers.pdf",
           "H"
          ],
          [
           537250,
           "6301.H Submittal 16.27.pdf",
           "H"
          ],
          [
           883806,
           "6300-011 Letter of Transmittal 7.20.23.pdf",
           "H"
          ],
          [
           332027,
           "Submittal #6-1.pdf",
           "H"
          ],
          [
           835076,
           "3124.H.07525 7.8 Modified Bituminous Sheet Roofing Samples.pdf",
           "H"
          ],
          [
           686564,
           "11.04 11064 1.13.pdf",
           "H"
          ],
          [
           331988,
           "Submittal #52.pdf",
           "H"
          ],
          [
           537191,
           "6301.H - Equipment & Material Submittal, Parts 2 & 3 (date unknown).pdf",
           "H"
          ],
          [
           537458,
           "6301.H Submittal#11.6 Audio and Visual Systems.pdf",
           "H"
          ],
          [
           537485,
           "6301.H. Acoustical Curtains O&Ms part 2.pdf",
           "H"
          ],
          [
           686674,
           "TEMP004.TIF",
           "H"
          ],
          [
           537170,
           "6301.H.submittal 11.4 Projection Screens.pdf",
           "H"
          ],
          [
           332004,
           "Submittal #95.pdf",
           "H"
          ],
          [
           537352,
           "6301.H.1.13.2.pdf",
           "H"
          ],
          [
           537444,
           "File 6301.H. Submittal #12.2 Shop Drawings.pdf",
           "H"
          ],
          [
           875708,
           "3124.H. Flashing and Sheet Metal Shop Drawings.pdf",
           "H"
          ],
          [
           883801,
           "6300-011 Letter of Transmittal 4.18.23.pdf",
           "H"
          ],
          [
           686640,
           "3124.H.Relays and Contactors - Product Data & Shop Drawings.pdf",
           "H"
          ],
          [
           537389,
           "6301.H.Submittal 15.30 Air Terminal Units-fan coils coil modules.pdf",
           "H"
          ],
          [
           705471,
           "3124.H.Section 5.5 1.3B Shop Drawings(E1-D10)- Metal Fabrications.pdf",
           "H"
          ],
          [
           686449,
           "3124.H.Section 2.4 02665 1.3B. Water Lines; Product data.pdf",
           "H"
          ],
          [
           686686,
           "11.3 11063 1.7B Shop Drawings (B).pdf",
           "H"
          ],
          [
           734548,
           "3124.H.Aluminum Storefronts, window, & Entrances data and samples.pdf",
           "H"
          ]
         ],
         "hovertemplate": "tag=%{customdata[2]}<br>umap_x=%{x}<br>umap_y=%{y}<br>file_id=%{customdata[0]}<br>filename=%{customdata[1]}<extra></extra>",
         "legendgroup": "H",
         "marker": {
          "color": "#16FF32",
          "line": {
           "width": 0
          },
          "opacity": 0.75,
          "size": 7,
          "symbol": "circle"
         },
         "mode": "markers",
         "name": "H",
         "showlegend": true,
         "type": "scattergl",
         "x": {
          "bdata": "v1XOP7Ush744XgLAS+CJPVkbvz/j4fi/iGTxvmKo4r+eMzM/vjyIPwjmsL4hdIE/tPCPP4+YkbsgK+o/On7xvgNAgz9D5Oi/Nhltv99uhL9G2tM/jSqrv0MzAMAmSme/7OREP3m/tkCDoTk/Jcl/PrJkob4Z44w9k68BwPUr6Tzgxf49t0cDwHLiSz4CHw8/c144vwBGB8BWS/q/tgSbvh0ZOz9gs5O/YCMGwP14+79IzDm/7ROsv2c6aL/afWJAJfJ1v92PPj+KUly+fooXwJ2FA8B1nsA+AVZrvHDbmD8brM0+4ByWQP8BBT+BYfS/p5fpP8xu/L8xPx3ACWhRvzkk3r2dOK6/4t+sv1ivFL/bLQ/AAgnHv8rc8rzpk+E/54nGvg1n2L8/AlK9TdAhPvKNJD0kjvS/7A5QvyXvub38iP6/cZSZP6E4iT+O3VK+IRz+v0jmXT/regm/bRdDv2coxL8K7gfA4TOhvYkNGL+Amwy/scYMwBIzXz8f3AQ/0pX+v8U/kr8z8gLAucyavsFGMb+8kji/5AqIP6vH57+nLJW/roADwMa5Bb9DnMG/CMmGPzl5vr94KBu/gESKP+jSo77SDu+/KiyWQAJnir8mm807AjWivrx7H0Ddns0+lEyZQHQU6r9XJ4o/v1XgvzD5lb6BbAg+Fm3jP2A5FL+O2fy/Nawxv5PxBcBEycq/HxUbwEPICcA0BGw/UBDtP4gvpD/WMSu9AZijP4tE47+GXyRAhrNzv4kol77DS/0/Q/Y/v6z9Jb6bzAzAl6cIP2K8zb/oXtQ/T8asvqvfLr0wdnG9iflKvwcc2r6jV/G/lDA7vioxhj/CgdG/7NSKv6fxsr/5eA/AMKckv0bcSD80Ea6/nspFP/JQqj//9bE/xyjovJnH2b3/35Y8skpnQNhDNz9CIBPAxrGRvYm8BMAm4uq/e620Oy1dkL7wjQHA4ilNQDXhGcBBJsw/RwoVv0MkZUC7ecg/5VMKwHL/u78EqGJABiWov+o7pL+d7Ja+ttpgQDd1CsAjt6O/c64MwMNi5b2awBM+WXUDwJZQGsAyuZM/W0V0P2gnCT8jw2o/iRwfwN2vCcAuSAk9Tmjev6CPAsBvoZI+08zNP4r5Mr5GtfK/XOJtv+Spwr6yxYy+dNKWPxTnWz/vifk+hscEwCul67+KPWY/A68mv7MmWb7w/PS/YmgIwL3Jyr9L3Ya+HlxHP6KMgT/Ry7k/u/GHQKqFA8Djsrq/GdkAwMVFHL7K8xrAF/UhP655NL7QPPe/MMtSv2zlRb/D+0O/jySXvcAVAcCacUw9OoWpvp+aXr+mo2g/8D5ovxgeh7+4q4a+ik+Lv7kgBMBCo34/bYMIvhbx2D5IwQHA4JQMwNO3wz8hrM2/nbWfv4AzU784MR49vMFGPxiZCcDfwkJAel50v3HvC8Cc3ja/CyOPPkR0ir9DCgbARJqfP7ocbb8UZwDASUuBveI3HsDimPS/BpaJv1AjED/xqdo9apzJv3B5lT9ozek/987lv7xVAsDixgK+dE3Ev3dSOj+AT2VAlKsKwAq+jL6Enoi/TVSuviQpDcABzYm+W0qDviAtZb+I0Mi/",
          "dtype": "f4"
         },
         "xaxis": "x",
         "y": {
          "bdata": "TxIzQPMUJ0BMJVdA4/EdQHRRa0BWNSpAuI4jQH5cL0Bm+S5A7QQ6QIwVKj/DdTdA6wM/QB5z6j99CZRAITk+P3lPN0CgXypAsiJFQAJGiEDSwYxAg3y9QKfLJ0DHV6BA+TIgQDVlnz+bZ8BAx6urQJRJNkDxd0pApiEoQCERUUAaXI9AYsEmQG3vVEAlJpdAqKMeQEEHHkBAtNNAZGcuQLHPo0CoUI1AX+wwQGCFoEBkH5dAtgUVQH5WMEDh2zI/CaNFQL/tHkC6HCpAVggzQACSJ0AzSwhAAJzSPzpD0UB9cwtA86AfQCWPk0BRR89A8qx7QJ/DLUAKzStAAWAbQO8tKEBheLtAILm8QPXrGEB72zVA07StQHQtokC6gZJAJfUvQMrIskB2zO0/OtUtQOoF8T+/WjlAWAccQOxV6j9X7S1APlufQEepOkC2Og5A8jmYQD46NUDBcyJAUQQhQCRhSkDn+0RAXUcoQPY3uz4YciNAjjEfQEcuM0BbkQNAJk6bQFn5GEDYPstAUzAGQK4vJEDEvh5AZQo5QDZYx0BJtxRAtLktQLLhJkBtilBAHo46QGI2vEDMrCJAXfA6QKI+A0DnbzNA0hYoQIWMh0DaL6JAZz0FQKr9yUAz4pFAG5wiQLos2EASwTtAq5iJQJiZJ0ALSn5A3qmIQOEl/zyQpy1AhpYbQCoTKUCepaxAgos1QCHfJUBVjJxAKa6GQD92nkCEQeY/6LM/QDgrgEA765w/DSISQH7TA0BpDYZAG2AWQEC6J0AL7h1AU46UQB5DI0D/IjRAdqs6QAo0QUAK7z5A1I4eQPcKLED25ypAn42kQN8dcUAE+J9AfK6HQPIdykBDqiVAaEIeQKPJHEAzwcZAhCweQL8qRkDSdStAB33lP0VnKUDgFuw/LspLP3zOwUB9NztAkZbkPw92LkBoyYdAyByaQBE2OUAJMy9ALbbKQFNlJ0DkEDFAOvQHPnLqLz+wB1ZAGBcfQH5/JEDA5VI/9s+8QJaTzUD18QZAkM8sP0UfIEA0/81AA5gsQNEQn0AcAD1AwBMqQI/vLEABOp1A/VYvQFw6DUBDejJAK5AwQLlNMkBdn6JAFDglQC060UDu0otANT0yQMQoIECW8jFAiz83QAP2LED+CChAb3dBQNDBMUAx3AVA+BIuQHnEj0AZeahAbtklQJaUKkDaFDNAvLVLQOJqJ0CsyR9AjKo1QMKmN0Bb0VBAoqQGQJnCfEAs8aNAW74tQJWHH0DcVjhA+Z9qQFhZLEBw0TFAT44bQBrJFUC0SiFA97TiPzokMECWakpAO1UyQKJ1nkAn93dAXF4uQIxIh0A7TzFA7A+JQMW9LECakDVALXQqQIDvCECPuD1AMgQiQP9joECZtCRAHVAsQMUADUBw1uI/OGcfQI62TkARw5G+OkURQHwMHED2N5tAnvapQIdOiEDlQCJAPH0/QGwSs0DBtS1AcXTnP3vGLEBJPCpApcCGQLIua0CZNkxAUcdRQEf91kCIvZBAkJrYQKzMWED8UqNAapF5QLjKokA3MjI/wn1EQBLcJkDDuIZAuLQeQC/PGECBMSBAxHHhPy+1GkDo0CVA",
          "dtype": "f4"
         },
         "yaxis": "y"
        },
        {
         "customdata": [
          [
           975537,
           "1500-027.E8.16 01 13 - EFH Concrete Entryway Repair Design Kick-off Meeting Agenda.docx",
           "E"
          ],
          [
           732451,
           "6600-038.E4.Lick Observatory Hydrant R&R - Contract Schedule.pdf",
           "E"
          ],
          [
           956730,
           "UC Santa Cruz Mail - Fwd_ DRAFT Report.pdf",
           "E"
          ],
          [
           717503,
           "11026.E6.UCSC D&E Pre-Design Appendix G Supporting Fleet Data.pdf",
           "E"
          ],
          [
           311525,
           "180625_Meeting Agenda_DAB.pdf",
           "E"
          ],
          [
           809306,
           "11x17 Typical Structural Assemblies.jpg",
           "E"
          ],
          [
           212939,
           "16.7-00.pdf",
           "E"
          ],
          [
           79696,
           "File 10064.E5. Glenn Mah to Steve Ayraud - Code Issue.pdf",
           "E"
          ],
          [
           945299,
           "303-5030.pdf",
           "E"
          ],
          [
           337563,
           "180918_KRESGE PROJECT CALENDAR DD WORKING.xls",
           "E"
          ],
          [
           791284,
           "CSC FSS PBW.xls",
           "E"
          ],
          [
           819589,
           "VE-A-005.pdf",
           "E"
          ],
          [
           117359,
           "2300 Delaware Building C - SF.pdf",
           "E"
          ],
          [
           883539,
           "6301.H Spec 11061 O+M2.pdf",
           "E"
          ],
          [
           790972,
           "UCSC CBB Wkshp 2 Notes.MA.doc",
           "E"
          ],
          [
           790943,
           "50 SD DPP - Part 1 and 2 combined_Page_17.jpg",
           "E"
          ],
          [
           882838,
           "UC Santa Cruz Mail - Fwd_ College 8 Servery Discussion.pdf",
           "E"
          ],
          [
           474328,
           "File 5201.E4. Overview Construction Schedule.pdf",
           "E"
          ],
          [
           490531,
           "File 5506.E5.3 Building #1 Floor Plans.pdf",
           "E"
          ],
          [
           883138,
           "File 5507 E5.1 Village Schedule 09.05.97.pdf",
           "E"
          ],
          [
           487735,
           "5-Botanical Survey.pdf",
           "E"
          ],
          [
           702175,
           "File 2514 Move Out Schedule.pdf",
           "E"
          ],
          [
           809241,
           "LEED - GBS.pdf",
           "E"
          ],
          [
           17160,
           "13-10-15 Hay Barn DPP Final.pdf",
           "E"
          ],
          [
           945514,
           "303-6105.pdf",
           "E"
          ],
          [
           22873,
           "StuLifeSeismic-2A request to proceed with revised CIB and Project Summary 1 26 15.pdf",
           "E"
          ],
          [
           885379,
           "8545 Schematic Design Upper Creek.pdf",
           "E"
          ],
          [
           311067,
           "180411_Carson Budget Sch1A Breakdown.pdf",
           "E"
          ],
          [
           913886,
           "File 5707 E6 911990 BR 198.pdf",
           "E"
          ],
          [
           829781,
           "File 9065 E3 Phase 2 Cost Plan Workbook Budget Breakdown 02.05.08.pdf",
           "E"
          ],
          [
           884732,
           "1-092618-5510-043 - Agenda-Minutes.docx",
           "E"
          ],
          [
           370154,
           "03. Process.doc",
           "E"
          ],
          [
           232514,
           "2318-064-102318-Schedule-Phase II.pdf",
           "E"
          ],
          [
           612680,
           "File 9201-004 E7.2 Final Report NextG UCSC Natural Science Building.pdf",
           "E"
          ],
          [
           356897,
           "3308.E4. Schedules.pdf",
           "E"
          ],
          [
           247365,
           "File 2635 Additional Utilitiy Survey.pdf",
           "E"
          ],
          [
           746991,
           "WO00416347 Pkg Lot 140 Increase Pkg Spcs (Vers 1.4).pdf",
           "E"
          ],
          [
           805349,
           "East Infill Apartments  CD Design Schedule CM @ Risk 7-01-08.pdf",
           "E"
          ],
          [
           962986,
           "8900-039_e3.pdf",
           "E"
          ],
          [
           369921,
           "File 3737 Temporal Residential Smoke Detector.pdf",
           "E"
          ],
          [
           337566,
           "180410 - 17042_Schedule - Design Phases.pdf",
           "E"
          ],
          [
           831654,
           "Draft Phase A Schedule 3-5-13.pdf",
           "E"
          ],
          [
           311063,
           "UC Santa Cruz Mail - College 8Rachel Carson Dining Power Monitoring.pdf",
           "E"
          ],
          [
           874691,
           "10638-007.E8.WRP Building C ECE Lab - Meeting Minutes #34.pdf",
           "E"
          ],
          [
           541677,
           "revisedprogram.5.17.01.xls",
           "E"
          ],
          [
           374106,
           "File 4001. E7.Value Engineering-Natural Sciences 3-Session 2-3 .pdf",
           "E"
          ],
          [
           236103,
           "Crown College MM&A_Revised Design Schedule_2016-07-19_(1).Crown College MM&A_Revised Design Schedule_2016-07-19.pdf",
           "E"
          ],
          [
           976172,
           "1600-205.E2.Cowell College Concrete Repairs.pdf",
           "E"
          ],
          [
           684688,
           "Application for Payment.pdf",
           "E"
          ],
          [
           788365,
           "4925.E5.4. LML COH Rep. Correspondence.pdf",
           "E"
          ],
          [
           744672,
           "Low Flow_UPDATED SCHEDULE-2.doc",
           "E"
          ],
          [
           25238,
           "1500-027.E4.Pt Paper-1500-027 Update (3-30-16).docx",
           "E"
          ],
          [
           668684,
           "2300-160.F5.Table of Contents Specifications.doc",
           "E"
          ],
          [
           790975,
           "CBB draft narrative MA edit.doc",
           "E"
          ],
          [
           95387,
           "IMG_2123.JPG",
           "E"
          ],
          [
           133701,
           "File 11105 Attendees 2.12.90 (2).pdf",
           "E"
          ],
          [
           308150,
           "File 3002-010.F5.Plan, Elevations & Notes_(1).File 3002-010.F5.Plan, Elevations & Notes.pdf",
           "E"
          ],
          [
           141961,
           "TL MEP Review Response.xls",
           "E"
          ],
          [
           917463,
           "File 6201 E5.3 Nat Sci 5 Special Items and Schedule 02.12.92.pdf",
           "E"
          ],
          [
           893247,
           "Kresge Schedule Assumptions.doc",
           "E"
          ],
          [
           311500,
           "180516_UCSC Full Project Preliminary Schedules.pdf",
           "E"
          ],
          [
           809133,
           "1.9 TWBTA-TEF Competition Scheme.pdf",
           "E"
          ],
          [
           474308,
           "5201.E1.UCSCEarth&MarineSc_Natrual#4_DesignFeb1989.pdf",
           "E"
          ],
          [
           111260,
           "V.E.9.28.2015.pdf",
           "E"
          ],
          [
           236137,
           "UCSC-Crown-Preliminary-Phasing-Schedule-16.09.23.jpg",
           "E"
          ],
          [
           865201,
           "4910.E2.Concrete Mix Design 6.7.77.pdf",
           "E"
          ],
          [
           489881,
           "5503.E5.1 - Keller Email, EHDD Architecture Transmittals.pdf",
           "E"
          ],
          [
           893229,
           "Infill Calendar 130617 JH.xls",
           "E"
          ],
          [
           945259,
           "303-4135.pdf",
           "E"
          ],
          [
           790988,
           "SC Coastal Biology Bldg CIB draft 7-31-13.pdf",
           "E"
          ],
          [
           681756,
           "2600-122_e4.pdf",
           "E"
          ],
          [
           308155,
           "File 3002-012A 01_(1).File 3002-012A 01.TIF",
           "E"
          ],
          [
           517227,
           "File 5899-006 Scope Letter 1-5-98.pdf",
           "E"
          ],
          [
           819604,
           "VE-SW-001.pdf",
           "E"
          ],
          [
           712801,
           "10000-079.E4.Water Meter Upgrade Phase 1E Schedule.xlsx",
           "E"
          ],
          [
           883511,
           "31-01 78 30-Guarantees Bonds Maintenance Contrac Don't Edit.doc",
           "E"
          ],
          [
           14221,
           "EH&S_RENOVATION DETAIL_9-9-11.pdf",
           "E"
          ],
          [
           970501,
           "Plan Check Review Spreadsheet.pdf",
           "E"
          ],
          [
           311489,
           "180503 Meeting Notes Dining BCA Funding Approvals - 20180224_131850.pdf",
           "E"
          ],
          [
           689442,
           "10064-007.E7.Otis Elevator.pdf",
           "E"
          ],
          [
           307451,
           "13-10-30 - Porter C Roof Protection draft.pdf",
           "E"
          ],
          [
           584200,
           "Interval Data SA 1293423005 Kvar  PF-Edit.xlsx",
           "E"
          ],
          [
           805564,
           "File 6801 100%SD VE List.pdf",
           "E"
          ],
          [
           791003,
           "SC CBB PPG FINAL 8-1-13.pdf",
           "E"
          ],
          [
           12783,
           "1302-025 Carriage House ReRoof Preliminary Sched 6.3.16.pdf",
           "E"
          ],
          [
           215132,
           "UCSC CPR Review Meeting Agenda.pdf",
           "E"
          ],
          [
           577188,
           "8343.E1.Ramp for UCSC Docks.pdf",
           "E"
          ],
          [
           313581,
           "File 3035 Budget Journal.pdf",
           "E"
          ],
          [
           863742,
           "3124.E5.3.Bill Taber Comments.pdf",
           "E"
          ],
          [
           835003,
           "File 4928 Option 1 & 2.pdf",
           "E"
          ],
          [
           893266,
           "UCSC Preliminary Timeline 130909.pdf",
           "E"
          ],
          [
           339152,
           "nVE_3_01_RNEW PATH.pdf",
           "E"
          ],
          [
           339069,
           "2018 10 01 KRESGE COST VE TRACKING_DETAILED_TEFUpdates.xlsx",
           "E"
          ],
          [
           744675,
           "Project Scope.xls",
           "E"
          ],
          [
           945430,
           "303-6017.pdf",
           "E"
          ],
          [
           883102,
           "File 5507 E5.1 Modular Housing Env Documents 07.16.97.pdf",
           "E"
          ],
          [
           367789,
           "3701.E5.Correspondence.pdf",
           "E"
          ],
          [
           768692,
           "13-11-18 Student Life Seismic Corrections Ph 2B - summary.pdf",
           "E"
          ],
          [
           917413,
           "6201.E1.2 - PSB - Chemistry Building 1992.pdf",
           "E"
          ],
          [
           734700,
           "10636-009.E4.Atomic Nano (Yan) Lab DRAFT SCHEDULE.pdf",
           "E"
          ],
          [
           809408,
           "UC Santa Cruz Mail - Pedestrian Bridge for Soc Sci 3.pdf",
           "E"
          ],
          [
           909861,
           "PPC-Kerr Security Budget 7.15.16.xls",
           "E"
          ],
          [
           884629,
           "1-Stero ER 94S.pdf",
           "E"
          ],
          [
           541670,
           "9-4-02 Space History.xls",
           "E"
          ],
          [
           16929,
           "111208 CBB DPP Part 1.pdf",
           "E"
          ],
          [
           945219,
           "303-4094.pdf",
           "E"
          ],
          [
           956929,
           "UCSC_RachelCarson_072419.zip",
           "E"
          ],
          [
           215100,
           "RLT Edits 9-15 SC Cogen PH1 - Certification Checklist 8-30-11.docx",
           "E"
          ],
          [
           883561,
           "1 - BUDGET Template (Copy and Paste your Original Budget).xls",
           "E"
          ],
          [
           8550,
           "East Remote Parking Renovations and Accessibility.pdf",
           "E"
          ],
          [
           612681,
           "File 9201-004 E7.2 Final Report NextG UCSC Oakes.pdf",
           "E"
          ],
          [
           215005,
           "UCSC Preliminary Project Schedule 7-16.pdf",
           "E"
          ],
          [
           591530,
           "9026-001.E5.West entrance water entry correspondences.pdf",
           "E"
          ],
          [
           990582,
           "1310.E1.InterimGarage_DPP.pdf",
           "E"
          ],
          [
           862938,
           "3124.E5.4.Review of Previous Comments 10.3.94.pdf",
           "E"
          ],
          [
           977098,
           "Kerr 3 Fl Planter Sheet e2.xls",
           "E"
          ],
          [
           884705,
           "007-122118-Dishwasher Selection Criteria.xlsx",
           "E"
          ],
          [
           778971,
           "File 4500-001 Final Review Comments.txt",
           "E"
          ],
          [
           886438,
           "8951B.E3 -16 01 05, WO Cost Report (WO00390219).pdf",
           "E"
          ],
          [
           354862,
           "IMG_4283.JPG",
           "E"
          ],
          [
           844081,
           "6302.E7.pdf",
           "E"
          ],
          [
           311180,
           "200202 Carson Dining Schedule Detailed.xlsx",
           "E"
          ],
          [
           236417,
           "Gauss House Insp Addition.pdf",
           "E"
          ],
          [
           339691,
           "2019 08 20_Kresge cd45_working VE list_EH_JK.xlsx",
           "E"
          ],
          [
           103443,
           "400923001 Appendix G.1 Historic Subsurface Sampling.pdf",
           "E"
          ],
          [
           789925,
           "13-00457 00 UCSC Coastal Biology 100 DD rev3.pdf",
           "E"
          ],
          [
           882718,
           "5201.E3.Class Project Cost Sheet - N.S 4.pdf",
           "E"
          ],
          [
           869143,
           "UCSC Silicon Valley Campus Digital Signboard Schedule  10.24.2024.pdf",
           "E"
          ],
          [
           141903,
           "CQ # 22.pdf",
           "E"
          ],
          [
           743311,
           "2300 delaware lighting 10 6 revision.doc",
           "E"
          ],
          [
           361138,
           "File 3502 E8 Campus Planning Committee Meeting 10.09.67.pdf",
           "E"
          ],
          [
           884148,
           "File 6630 Transformer Cost Quote Request.pdf",
           "E"
          ],
          [
           489868,
           "5503 PPG 4-21-91.pdf",
           "E"
          ],
          [
           490407,
           "File 5504.E1 Schematic Electrical Ideas; From 4-1-92 Meeting.pdf",
           "E"
          ],
          [
           884703,
           "005-102318-Action Item List-Coordination with CHES.xlsx",
           "E"
          ],
          [
           15560,
           "1324.E7.Layout 2.PDF",
           "E"
          ],
          [
           744848,
           "UCSC Low Flow Fixtures #6565.xls",
           "E"
          ],
          [
           331869,
           "File 3209. E2. Project Planning Guide. 1986.06&07.pdf",
           "E"
          ],
          [
           537511,
           "6301-003.E6. Geotechnical Report.pdf",
           "E"
          ],
          [
           574084,
           "File 7602.E3 Approved Project Summary.pdf",
           "E"
          ],
          [
           882761,
           "5202.E5.2 Correspondence 8.pdf",
           "E"
          ],
          [
           236104,
           "Crown for PWG 8-26-16_(1).Crown for PWG 8-26-16.pptx",
           "E"
          ],
          [
           339293,
           "UCSC Kresge 2B - Roles & Responsibilities.pdf",
           "E"
          ],
          [
           744637,
           "10.02.09 Wall Finish Removal Schedule.doc",
           "E"
          ],
          [
           282869,
           "File 2806.E4. Project Scheulde 2005-06 and Preliminary Schedules.pdf",
           "E"
          ],
          [
           162579,
           "05-12-08_CowellBasement_Schedule.pdf",
           "E"
          ],
          [
           744673,
           "Low Flow_UPDATED SCHEDULE-2CD.doc",
           "E"
          ],
          [
           329058,
           "3124.E6.Improvements to Arts Facilities, Bulk Asbestos Analysis Summary.pdf",
           "E"
          ],
          [
           809127,
           "1.2 Geotechnical Report.pdf",
           "E"
          ],
          [
           912619,
           "5305-017.E3.Rachel Carson Roof Bldg 1 and 6 Budget 10.26.17.xlsx",
           "E"
          ],
          [
           369905,
           "File 3737 Blocks of Apts Sched 2-8-00.pdf",
           "E"
          ],
          [
           912179,
           "eventchange-02.pdf",
           "E"
          ],
          [
           945302,
           "303-5033.pdf",
           "E"
          ],
          [
           117388,
           "UCSC 2300 Delaware Building A Renovation DD 10-4-18.pdf",
           "E"
          ],
          [
           603052,
           "Telecom PPG 10.25.12.doc",
           "E"
          ],
          [
           74502,
           "File 10000-191 Cost Estimate 10-22-09.pdf",
           "E"
          ],
          [
           395958,
           "NEF signed approval docs 9-23-10.docx.pdf",
           "E"
          ],
          [
           490402,
           "File 5504.E1 Checklist of Necessary Equipment.pdf",
           "E"
          ],
          [
           747120,
           "WM trailer electrical scope -1.xlsx",
           "E"
          ],
          [
           541705,
           "EECC Cost Estimate (2)",
           "E"
          ],
          [
           786405,
           "IMG_3637.jpg",
           "E"
          ],
          [
           863751,
           "3124.E5.3.Bill Taber Correspondence 7.28.93.pdf",
           "E"
          ],
          [
           490419,
           "File 5504.E4 C9&10 Project Schedule.pdf",
           "E"
          ],
          [
           791457,
           "Project Narration and Schedule.docx",
           "E"
          ],
          [
           339230,
           "Kresge TAPS sub-project 976382.xls",
           "E"
          ],
          [
           809384,
           "DPP Table of Contents_Combined.doc",
           "E"
          ],
          [
           587035,
           "8900-069.E3.FPR Form WO00399369.pdf",
           "E"
          ],
          [
           901713,
           "E211_(1).E211.pdf",
           "E"
          ],
          [
           790945,
           "50 SD DPP - Part 1 and 2 combined_Page_19.jpg",
           "E"
          ],
          [
           133278,
           "File 11009-012 Sanitary Sewer Plans.pdf",
           "E"
          ],
          [
           711160,
           "PBW_Sinsheimer Cryo Lab 132_Augmentation 2020-01-08.xls",
           "E"
          ],
          [
           247449,
           "File 2635 Value Engineering- Updated 5-31-12.pdf",
           "E"
          ],
          [
           902203,
           "Porter Hse A PPG Final Draft-090808.doc",
           "E"
          ],
          [
           503314,
           "September 2007  Monthly Schdule Update 9-05-07.pdf",
           "E"
          ],
          [
           829756,
           "Scope 2-1.ai",
           "E"
          ],
          [
           589707,
           "41 File 8951 C3.09.pdf",
           "E"
          ],
          [
           863515,
           "3124.E5.3.50% Construction Document Memorandum 3.23.94.pdf",
           "E"
          ],
          [
           863755,
           "3124.E5.3.Bill Taber Correspondence1 7.28.93.pdf",
           "E"
          ],
          [
           809260,
           "2011-12-13_Building Framing Options_TM_2.pdf",
           "E"
          ],
          [
           311522,
           "180615_UCSC_RACHEL CARSON_PLAN 1.rev.pdf",
           "E"
          ],
          [
           790942,
           "50 SD DPP - Part 1 and 2 combined_Page_16.jpg",
           "E"
          ],
          [
           16842,
           "12-117A r1 Hay Barn Estimate 12.17.2012.pdf",
           "E"
          ],
          [
           883577,
           "Meeting Minutes Template.xlsx",
           "E"
          ],
          [
           893240,
           "Kresge Infill Repair Schedule 130723.pdf",
           "E"
          ],
          [
           93352,
           "File 10070.E3 Cost Estimate 50DD - West Field House (Original PDF).pdf",
           "E"
          ],
          [
           622054,
           "Ecological Restoration Plan for Historic Land.doc",
           "E"
          ],
          [
           744177,
           "Energy Meters ws.xls",
           "E"
          ],
          [
           680814,
           "Asbestos Work Guidelines.pdf",
           "E"
          ],
          [
           835089,
           "5312.E3.FundingForWCampus&RecreationalFacilities.pdf",
           "E"
          ],
          [
           311203,
           "181025  Porter Dining Schedule.pdf",
           "E"
          ],
          [
           901723,
           "E242_(1).E242.pdf",
           "E"
          ],
          [
           791271,
           "CSC Trails Augmentation PBW 2-6-15.xls",
           "E"
          ],
          [
           367794,
           "3701. E6. Soils Report #059.pdf",
           "E"
          ],
          [
           135085,
           "File 11209 Project Schedule 1-6-98.pdf",
           "E"
          ],
          [
           311058,
           "2018_Action Items from Facilities Discussions.docx",
           "E"
          ],
          [
           791779,
           "INFRA L108.pdf",
           "E"
          ],
          [
           73247,
           "File 10000-022.E6 UCSC Transition Plan Item Status.pdf",
           "E"
          ],
          [
           809119,
           "File 6900 141230_UCSC_IAS_DPP_Volume II Room Data Sheets.pdf",
           "E"
          ],
          [
           883533,
           "Rate Schedule.docx",
           "E"
          ],
          [
           744646,
           "ABATEMENT notification Porter CD.doc",
           "E"
          ],
          [
           863738,
           "3124.E5.3.50% Drawings Communications 5.6.94.pdf",
           "E"
          ],
          [
           307762,
           "Directions for Roto-Waiter Installation Docs.pdf",
           "E"
          ],
          [
           78258,
           "UBP201901210474.pdf",
           "E"
          ],
          [
           809377,
           "DPP comments 2-1-12.xlsx",
           "E"
          ],
          [
           786035,
           "File 4921 Water System Agreement.pdf",
           "E"
          ],
          [
           310526,
           "20190805_DSA Meeting Notes.docx",
           "E"
          ],
          [
           832082,
           "3101.E1.Detailed Project Plan and Correspondence.pdf",
           "E"
          ],
          [
           111219,
           "2300Delaware PBW 3 12 15 LLF dt Rev7.4.8.14.xls",
           "E"
          ],
          [
           755727,
           "DPP_1.1-2.5_R1.pdf",
           "E"
          ],
          [
           809231,
           "SS3_DPP_Final.pdf",
           "E"
          ],
          [
           791436,
           "CBB Sched Option 5 06-17-13.pdf",
           "E"
          ],
          [
           863771,
           "3124.E5.3.Landscape CD CA Phases Memorandum 2.17.94.pdf",
           "E"
          ],
          [
           962914,
           "Work Order Estimate 3.17.04.pdf",
           "E"
          ],
          [
           311441,
           "190912 Porter Dining 100CD Civil items.docx",
           "E"
          ],
          [
           479878,
           "File 5303-024 K.Woldow Email Re Comments on Oven Replacement.pdf",
           "E"
          ],
          [
           819529,
           "File 7501 E5.6 Memo Re Utility Problems 03.30.01.pdf",
           "E"
          ],
          [
           704676,
           "File 2501 M 04.TIF",
           "E"
          ],
          [
           141408,
           "4-2-09 Preliminary P.pdf",
           "E"
          ],
          [
           969767,
           "PCC Meeting minutes 030308 e8.doc",
           "E"
          ],
          [
           21251,
           "E2_28.0.3_f.js",
           "E"
          ],
          [
           406052,
           "OVERLOOK G REVISED LAYOUT 2 14 17.pdf",
           "E"
          ],
          [
           732717,
           "11021.E4.Draft Project Sched 7-15-20.xlsx",
           "E"
          ],
          [
           143205,
           "BCR SD vs DD VE sheet r.1.xls",
           "E"
          ],
          [
           832619,
           "10084 E2 Project Planning Guide Amendment.pdf",
           "E"
          ],
          [
           307452,
           "13-12-06 - Porter C Roof Protection.pdf",
           "E"
          ],
          [
           369901,
           "File 3737 Funding Transfer Request.pdf",
           "E"
          ],
          [
           971538,
           "ThimannMtg06Minutes.pdf",
           "E"
          ],
          [
           893230,
           "Infill CM Selection Calendar.xls",
           "E"
          ],
          [
           306866,
           "2999.E4.MultiplesSchedule.pdf",
           "E"
          ],
          [
           791652,
           "UC Santa Cruz Mail - Re_ Matt and In-house Radio Coverage.pdf",
           "E"
          ],
          [
           790993,
           "2013_June_CBB July 29 LLF.xls",
           "E"
          ],
          [
           311510,
           "180411_Meeting Agenda_Mtg 4.textClipping",
           "E"
          ],
          [
           791200,
           "Total Project Costs Combined v4.pdf",
           "E"
          ],
          [
           880545,
           "Kresge ASK-115 New Building Survey Flags.pdf",
           "E"
          ],
          [
           883585,
           "6300-011 Music Center Recital Hall Theatrical Equipment Modernization - Meeting Minutes #16R1.pdf",
           "E"
          ],
          [
           809421,
           "FTPInstructions.pdf",
           "E"
          ],
          [
           329064,
           "3124.E6.Improvements to Arts Facilities, Geotechnical Investigation1.pdf",
           "E"
          ],
          [
           311526,
           "DAB Agenda 25 June 2018_FINAL.docx",
           "E"
          ],
          [
           215012,
           "20100604111728783.pdf",
           "E"
          ],
          [
           893295,
           "File 1639 Conformed Specs V2.pdf",
           "E"
          ],
          [
           971603,
           "05_Rm_137D_Program_Form.xls",
           "E"
          ],
          [
           684647,
           "Earthworks Schedule.pdf",
           "E"
          ],
          [
           503280,
           "DPP Coverback.jpg",
           "E"
          ],
          [
           668693,
           "2300-160.F5.LOW-VOLTAGE ELECTRICAL POWER CONDUCTORS AND CABLES.DOC",
           "E"
          ],
          [
           883579,
           "6300-011 Music Center Recital Hall Theatrical Equipment Modernization - Meeting Minutes #11.pdf",
           "E"
          ],
          [
           862024,
           "Soil Reports # 192 (Sector 67N, 67S).pdf",
           "E"
          ],
          [
           887720,
           "14-01-22 Student Life Seismic Corrections Ph 2A - draft.pdf",
           "E"
          ],
          [
           273883,
           "File 2727 Project 976027 Quarterly Report 8-31-90.pdf",
           "E"
          ],
          [
           962583,
           "Meeting Agenda 1.24.08.pdf",
           "E"
          ],
          [
           755728,
           "1 1-2 5 (2).pdf",
           "E"
          ],
          [
           976912,
           "2018-0051SUM661A UCSC Kresge 25% CD Summaries 2020-12-22 Draft.pdf",
           "E"
          ],
          [
           171163,
           "1700-001.E6.Stevenson college (college 2) preliminary ancillary and miscellaneous fire report.pdf",
           "E"
          ],
          [
           791338,
           "14-02-11 Construction Cost Estimate Summary - SD vs DD-total.pdf",
           "E"
          ],
          [
           363662,
           "File  3608-018 Reimbursable Expenses.pdf",
           "E"
          ],
          [
           25234,
           "1500-027.E4.Estimate page 2.pdf",
           "E"
          ],
          [
           809274,
           "classroom 1000_1-16.pdf",
           "E"
          ],
          [
           311458,
           "3002-040 - Porter Dining Seat Expansion Meeting Minutes #30  9-1-2020.pdf",
           "E"
          ],
          [
           247354,
           "File 2635 Baseline Bidding Schedule.pdf",
           "E"
          ],
          [
           805228,
           "DL 50% CD Estimate 6.25.2009.pdf",
           "E"
          ],
          [
           938917,
           "CCL03458_KZSC UC SANTA CRUZ_95_CD_REV2_2022-11-10_AD.pdf",
           "E"
          ],
          [
           964644,
           "General Requirements.pdf",
           "E"
          ],
          [
           902209,
           "3048.E4.House A Seismic & Capital Renewal - Expansion.pdf",
           "E"
          ],
          [
           809130,
           "1.5 HVAC Equipment Information.pdf",
           "E"
          ],
          [
           785127,
           "Trail layout.pdf",
           "E"
          ],
          [
           311503,
           "180607_UCSC Dining_Cost Saving Strategies.pdf",
           "E"
          ],
          [
           339406,
           "20190607 Kresge - IG - Grey Water Heat Recovery (1).pdf",
           "E"
          ],
          [
           311464,
           "3002-040 - Porter Dining Seat Expansion Meeting Minutes #38  11-17-2020.pdf",
           "E"
          ],
          [
           883503,
           "6300-011.E.Plan - Ground level.DWG",
           "E"
          ],
          [
           790919,
           "50% SD DPP_Steve Paul Comments_10-29-10.doc",
           "E"
          ],
          [
           98056,
           "160404_FSH Draft Assessment Report.pdf",
           "E"
          ],
          [
           307827,
           "TEMP005.TIF",
           "E"
          ],
          [
           679957,
           "Control System Upgrade Scope of Work.pdf",
           "E"
          ],
          [
           311062,
           "NOTES FROM FACILITIES CONVERSATIONS.docx",
           "E"
          ],
          [
           862936,
           "3124.E5.4.Meeting Summary 1.27.94.pdf",
           "E"
          ],
          [
           809406,
           "DPP#1-Consultant Responses_030412.pdf",
           "E"
          ],
          [
           742399,
           "8884-007 Core West Pkg Clean-Assess-Restore Seismic Joints Scope of Work.doc",
           "E"
          ],
          [
           970508,
           "Revisions to General Requirements.pdf",
           "E"
          ],
          [
           790936,
           "50 SD DPP - Part 1 and 2 combined_Page_10.jpg",
           "E"
          ],
          [
           307267,
           "scope of work.docx",
           "E"
          ],
          [
           790929,
           "50 SD DPP - Part 1 and 2 combined_Page_03.jpg",
           "E"
          ],
          [
           863790,
           "3124.E5.3.Preliminary Plan Review 12.13.93.pdf",
           "E"
          ],
          [
           744641,
           "ABATEMENT notification CD.doc",
           "E"
          ],
          [
           581069,
           "Copy of 2004 Enterprise Bldg Data.xls",
           "E"
          ],
          [
           358913,
           "3404.E1.Title 25 California Admin Code.pdf",
           "E"
          ],
          [
           679946,
           "1200-050.E4.Possible Project Sequencing.pdf",
           "E"
          ],
          [
           969875,
           "1400-093.E8.PRECON Sign In Sheet.pdf",
           "E"
          ],
          [
           883560,
           "Recital Hall Modernization Project Budget Workbook.xlsx",
           "E"
          ],
          [
           883033,
           "File 5502.E5.1 Path Questions.pdf",
           "E"
          ],
          [
           247446,
           "File 2635 Value Engineering 5-23-12.pdf",
           "E"
          ],
          [
           75152,
           "128-Tree survey and forestry.pdf",
           "E"
          ],
          [
           339307,
           "190604 Kresge Revitalization Project Schedule.xlsx",
           "E"
          ],
          [
           844318,
           "UC Santa Cruz Mail - Fwd_ Baskin Center - kitchen estimate and the Final Program Assumptions.pdf",
           "E"
          ],
          [
           862141,
           "7501.E2.Humanities and Social Sciences PPG.pdf",
           "E"
          ],
          [
           15551,
           "1324.E1.Details & Notes.PDF",
           "E"
          ],
          [
           473544,
           "Request to Work Non Scheduled Periods 9-13-13.pdf",
           "E"
          ],
          [
           230304,
           "Request to Work Non Scheduled Periods 10-21-12.pdf",
           "E"
          ],
          [
           844279,
           "Shalleck Collaborative Engineering Reports.pdf",
           "E"
          ],
          [
           474317,
           "5201.E3.cost Estimate `89.pdf",
           "E"
          ],
          [
           574610,
           "18 03 09 WO00391688 Cost Report.pdf",
           "E"
          ],
          [
           339463,
           "File 3238 C-428-SITE-DRAINAGE PLAN.pdf",
           "E"
          ]
         ],
         "hovertemplate": "tag=%{customdata[2]}<br>umap_x=%{x}<br>umap_y=%{y}<br>file_id=%{customdata[0]}<br>filename=%{customdata[1]}<extra></extra>",
         "legendgroup": "E",
         "marker": {
          "color": "#782AB6",
          "line": {
           "width": 0
          },
          "opacity": 0.75,
          "size": 7,
          "symbol": "circle"
         },
         "mode": "markers",
         "name": "E",
         "showlegend": true,
         "type": "scattergl",
         "x": {
          "bdata": "PcOHQP1SWkDZZVRAdrP9P7+lgkAXJQTANxFLPzf6qz/HpTs/L4cwQD/nCEC1Eiq/RPt5vyTd8D5SoNVAkgZ3QI7FXEDFUIg/TSdnv2nUDkCTJMxAGRc1QNhwsEDZrLJA/gVEPxoim0BXNcVAWeuJQHFM2ECPESZAN0ZJQIlZnkDnNmdAGLOYQLqrgkDhBEm/G5ZXQC4EZ0DJthRAs0sZP5rMk0AW/fFAouDtP9JjZkDJLzBArDycQObCZUAkBmlAtYgGwCen0UBEJC5AkrApQOQKlD+jP9dA6c4Jv3MQakDhSYC//XU7P0Rijj/RLx1Advh9QKehw0Aq+c5A/mWePw4UbUClgrA/R9J6QBI1NkDajzw/lHPVQCe+Az/Lk76+o4itP1ohF0D18XA/o+z6P+ygI0B0txg/NRt3PXsuUT+h2GdAg9vzP8pKCEB/3dVAflxkQA60jkBKOZi/h+IcQBcIYkBHH2U/pKFqQLQPLUANHkBAIpoOQCXgPT+brlNAMnU9QJrHaEC2PaZA4o1zQDPYRkDX7ApAt4vnP05LIUC1ZtRAjEk9P9vg2LxgXQdAPDAsQJ6xkkAV3JhA8PppQBdFq0CDLHRAZXtNv+X6MUDOXJ8/m2PDvmDZMUBqVz+/OJNDvyXdSkDtLPk/bXE3QFXf8b/Gx9VApNoZQDyJZ0Dt+3m+wChnP1Jak78cWM6/fQijQFwFcUDgWHVA89DaPhxhNUDke6JAe0YWQAScrUAkXIK/WEI3QJdYlUBG1yVAvb6LQBRYOUDCajBA8JeiQFZWIUDz5ShANuqCv7BjRkAZdTw/8rKKQICrpECbB+O+wcbYQJIAoz8xCFM/lDuXQHlE3L+sVjRAzkD3v2/d2EB8IjVAxBiUQAE8jEAaM7VAojoUQBq/sb/yqQtA4v5ZQGOqo0AS5me/iCxbQKhJ9L/N2ZBAoUExvwK2u0AFKDVAgZPVQM9GMT+++FlAvsppQNvfuEAS4cJADOaaP9bi87/RYp9Ah8B0QPrLtECEdgpAxTDKQF1gdUDLQH5A4twSQMx8ZUDLJoFAmJ5QQBl1okBvBzlAwEY7PwqtiUCm6Fk/KDuvQDpXg0CdG11A8a8KQO1l20CF7aJAgt/UQDywlEBNQgZAUehhQKCtoD83+tY/yASwv23ga0Dohg4/3Gr0vik2aED+jThA4FghQJe3rECpeGpAG66cQICCfEDowDVAumADwBVwiUAFfQhADvwhv8TRJUDpJ6FAG9L9v/RvY763iihAqM1xQDmN8UCJ0pRAdk3wP/xw+L/+lJQ+AM2CPykB/b8MMBRAg5ZqQOhkJUBjg/0+ZuTbQAbMj0COmbi/EzUrQCicY0D4LCVAqX/8vk+mckC0Emi/OeKZQOnh1D5uZQVAz0prQB+zlT+JTd+/cEGFQDYb/T9mf2tAdSwHv/eyEUBR86RAcN+zP2IFoT+jjIJAV1tBQMCtQ0AjXhRA2JuLQI5XqUAN0Z9A9a/JQAvdk0B1NaNAFTgAQEKx70DodmhARUH9v/7uMUAqZna/xzhJQLPRFEAbulVAxc4bQGCep0D8jEVAbXFuPyvPcj/aOK4/AaaYQCKTM0B11s89",
          "dtype": "f4"
         },
         "xaxis": "x",
         "y": {
          "bdata": "h3IsQANj0UAxfhBAsiOzQG+qQkAdu9FA0Vu4QNM3wz9jysBAqyrQQAquz0CBuatAbB25QIW4pkDefzFALv9NQIsuFEANg0RAGVliQPr2NkBflGxAvi2UQGQTfkAEpWxAau/BQOPfyz8MVHhAOjhMQNSfcUCa8vU/TvB5QKquBEANltFAQW2wQFZuTUBkI6lAYIaIQLGq0EAnTyFA5/WRQPmFeUCh3qlA/9i0QFP8J0DrEJRA7rwAQAFJ0ECvZ1NA147PQJFEN0DHLY1A7dqdPx8HnUDNOTtA7BjsQCI7SUCpNLtAv42gQAW71EAR7YJABJJMQP9oX0BkvjxAlr6QQMlr0EBD/k9ArJ9bQNNNzUDwJ8BA1WImQIqKWECRiKNApCOjQKIUdUAuqahAg6YIP3LPjECTYpRA5+HgQEBluEDxctFACpW2QNivoUBRo0JAkCbUQJi6KkAX2b5AsrcCQLfag0DuPI9AEfPSQDbmgkBqpaNA1X6VQJebwEC73ZRA3LfjP1X40kDH/x1AwzHNQJz36T/bMs9AYSeXQHcUk0AwS0VA10TBQFCm6kBf4wQ/AQTBQGkMYUBU8bBAI17SQDZ94D8mjWdAw7FAQED/yUCzIahAB/MRP1xetEBwBdtAMtrmQC7szUCaJVVAusWoQFaI0kA61yhAw62oQCWi0kD+3eFArbuoQHQIp0AbN65AcA0dQFiJYUDAOVFAGcKoQLB6yUCzuStAb8VZQO6/KkDCCYVAulavQMiPLkBSn41As8YdQA0Hz0BIBY9A24fJQH7yWEDYs79Aj3yFQOZcmkD/4MBAx6oBQLmfS0BpAqRAbJo7QBVupUBGbKtA8flMQDxY0UAJDtY/kFnaQAyeOECNrchAPUJ/QLmykT+RjxhAJ/iMQIr6xECfvs9A4hWMQN9iF0A05GpA9VeTQKvX2EAoXAdAqTrqQGpduD8/X49AgMlDQEJ6VkAEShdADQvUQGMIrD98y2FAMBu2QMZ51EDP4CdA3qpLQIN8E0A2as9AhAdvQBVoFEAmTFhAhrmQv6NSbECHaEpABZ6YP82hxkAt03tA9huvQFYg4z8cDqVAsnPmP3gvPUASeMk/YnnPQBGgW0D+k2lAxZ0kQKZbDUA76ahACT2UQBlgm0C0oqFAWC+3QB5E00A2ZItAdknyQAnYlECCS8pA1XqxQFS7HkBr5tFACkQMQK0WJEDtis1AKlbRQBT2NUDE089AN18AQcnKs0Aen1FAtoxuQIjb5UB+iVRAYzY5QMKlr0AyeVpA8ieHQFFF00BiGWtAdSmsQJaab0BTNllAFSHTQHrY4T9jg5BAeD1cQCWXQkDp47pAR3isQKzy4D95Oug/jjbzQHpbO0BWmKNANpIRQL+qcUD4GYY/1aXSQKxUqEDyAtNAS1tNQDrfn0ATJDVAUnPmQLtBn0AfaFVAtYWyQLe6oUB0rJJA/kGBQKjagEAZrl1Av+5LQIG1U0AoGgpAFmxDQJStB0ApqcVAR3SyQBjAo0DPhM9A0+2+QBzdw0CpCGtATieQQBZ5sUDems9A4XO8QGWrLED2sIVA4EArPxCCIz8EY6RAEczjP5hgskBlzAxA",
          "dtype": "f4"
         },
         "yaxis": "y"
        },
        {
         "customdata": [
          [
           488104,
           "5500-036.D3.Small Project CEQA Screening Checklist rev2, 5500-036, College 9-10 Garden Water Meter.pdf",
           "D"
          ],
          [
           1105,
           "1400-093A 02080 Asbestos Abatement Spec_AR-1.doc",
           "D"
          ],
          [
           579244,
           "File 8500-029 Bike path safety EIC UCOP signed.pdf",
           "D"
          ],
          [
           361893,
           "3505.D2.EnviroImpactD20001.pdf",
           "D"
          ],
          [
           487694,
           "5500.D1.EIR & Water Mitigations Correspondence.pdf",
           "D"
          ],
          [
           179865,
           "CEQA Findings Aug 2004.pdf",
           "D"
          ],
          [
           579727,
           "20.06.02 8500-030 Grassland Map.pdf",
           "D"
          ],
          [
           805161,
           "File 6801 Re-Comments on Demo Plan- CEQA.pdf",
           "D"
          ],
          [
           913687,
           "3.0-20.pdf",
           "D"
          ],
          [
           214836,
           "2015-08-_cogen-usts-closure-report.pdf",
           "D"
          ],
          [
           141813,
           "Notice of Exemption.pdf",
           "D"
          ],
          [
           337706,
           "2018 09 27 Kresge EIR alternatives notes.pdf",
           "D"
          ],
          [
           703355,
           "9800-010.D4.UCSC-WestSewer_WEAP-Cultural_05052020 revESCZT.docx",
           "D"
          ],
          [
           891604,
           "File 1321-002.D2 EIC Signed.pdf",
           "D"
          ],
          [
           965196,
           "1326.D1.HayBarnHistoricalD10001.pdf",
           "D"
          ],
          [
           474282,
           "5201.D1.Preparation of EIR.pdf",
           "D"
          ],
          [
           338864,
           "3 Response to Comments.pdf",
           "D"
          ],
          [
           689497,
           "10070.D2.EIC Signed.pdf",
           "D"
          ],
          [
           689419,
           "10064-002.D2.EIC Signed.pdf",
           "D"
          ],
          [
           579728,
           "20.07.09 8500-033 Grassland Seeding & Monitoring.pdf",
           "D"
          ],
          [
           781883,
           "File 4801-034.D1 800 Loop Paving Site Plan.pdf",
           "D"
          ],
          [
           172832,
           "1700-152 Stevenson coffee shop signed EIC.pdf",
           "D"
          ],
          [
           381339,
           "1-USSC_Hearing2.pdf",
           "D"
          ],
          [
           913706,
           "4.04-05.pdf",
           "D"
          ],
          [
           965213,
           "Herbert Inv#1677-20150223_162142.pdf",
           "D"
          ],
          [
           829664,
           "File 9065 D1 Request for Determintation of U.S. ACOE Jurisdiction 06.15.05.pdf",
           "D"
          ],
          [
           589980,
           "8951B.D1.EXISTING CONDITIONS AND SITE DEMOLITION.pdf",
           "D"
          ],
          [
           805159,
           "File 6801 Re- Comments on Demo Plan.pdf",
           "D"
          ],
          [
           356885,
           "File 3308 EIC Report.pdf",
           "D"
          ],
          [
           338974,
           "6 Alternatives.pdf",
           "D"
          ],
          [
           587921,
           "File 8924 D1 S. Strelow Revisions to Proposal to Prepare EIR 02.21.91.pdf",
           "D"
          ],
          [
           969799,
           "1400-093.D.UCSC Bat Projects 2016.pdf",
           "D"
          ],
          [
           381343,
           "4200.D2.FamilyHousingWestDEIRFinalDraft.pdf",
           "D"
          ],
          [
           732722,
           "11021.D2.Campus Wide Fire Hydrants Replacement EIC.pdf",
           "D"
          ],
          [
           338959,
           "4.13 Population and Housing.pdf",
           "D"
          ],
          [
           545657,
           "6628.D2 Environmental Impact Classification Septic Tank.pdf",
           "D"
          ],
          [
           828593,
           "8884.D1 - Campus Parking - Core West Parking Structure - Original Construction.pdf",
           "D"
          ],
          [
           468659,
           "data needs for consultant draft.docx",
           "D"
          ],
          [
           545125,
           "6610.D2.hamilton environmental impact classification.pdf",
           "D"
          ],
          [
           702900,
           "2513.D1.FEMA Corrp..pdf",
           "D"
          ],
          [
           664,
           "1400-093.D.ASBESTOS AND CONSTRUCTION RELATED LEAD REMOVAL SPECIFICATIONS.doc",
           "D"
          ],
          [
           580695,
           "File 8531-005.D3 Evaluation of Habitat for California Red-Legged Frog.pdf",
           "D"
          ],
          [
           536271,
           "Environmental Review Correspondance.pdf",
           "D"
          ],
          [
           884270,
           "Final IS and MND.pdf",
           "D"
          ],
          [
           703349,
           "9800-010.D4.Emergency Sewer Replacement - SPECIFICATIONS - Bid Set - Environmental Measures.pdf",
           "D"
          ],
          [
           338810,
           "CRLF_Habitat Assessment UCSC_Kresge College_20180522-FINAL.pdf",
           "D"
          ],
          [
           702899,
           "2513.D1.Earthquake Repairs Corrp..pdf",
           "D"
          ],
          [
           689540,
           "10099-013.D2.EIC Signed.pdf",
           "D"
          ],
          [
           14001,
           "1316-009.D1.Memorandas and Plans - Original Ranch Buildings - EH&S Trailer.pdf",
           "D"
          ],
          [
           874627,
           "NOC Recycling Yard signed.pdf",
           "D"
          ],
          [
           805097,
           "File 6801.D2 EIR Draft 5-11-09.pdf",
           "D"
          ],
          [
           790836,
           "UCSC FINAL Final Annual Compliance Report Reduced File Size (02-05-2018).pdf",
           "D"
          ],
          [
           72931,
           "0101-01.D.Bulk Asbestos Analysis.pdf",
           "D"
          ],
          [
           474294,
           "5201.D4.LDRP Mitigation Program.pdf",
           "D"
          ],
          [
           338838,
           "California Code of Regulations_CEQA 15064.5.pdf",
           "D"
          ],
          [
           338865,
           "4 Corrections and Additions to the Draft EIR.pdf",
           "D"
          ],
          [
           975533,
           "1500-027.D.1500-027.D3.CEQA_Screening_Checklist.pdf",
           "D"
          ],
          [
           913782,
           "DRAFT RVT IA  1Jun04.pdf",
           "D"
          ],
          [
           282786,
           "Notice Availa.doc",
           "D"
          ],
          [
           337724,
           "City of Santa Cruz comments for Kresge College Projet NOP (002).pdf",
           "D"
          ],
          [
           944740,
           "Findings Final.pdf",
           "D"
          ],
          [
           13830,
           "NOE.pdf",
           "D"
          ],
          [
           828603,
           "8884.D4 - Campus Parking - Core West Parking Structure - Original Construction.pdf",
           "D"
          ],
          [
           826810,
           "9-MMProgram.doc",
           "D"
          ],
          [
           913641,
           "100Intro_DEIR.pdf",
           "D"
          ],
          [
           785655,
           "YLR Letter.pdf",
           "D"
          ],
          [
           613492,
           "EIC Signed.pdf",
           "D"
          ],
          [
           917395,
           "04-10-noise-PSB",
           "D"
          ],
          [
           781884,
           "File 4801-034.D1 FSH Existing Site Plan.pdf",
           "D"
          ],
          [
           468657,
           "CEQA schedule- 22Aug DRAFT-ak.xlsx",
           "D"
          ],
          [
           338837,
           "3238.D1.USCSCDEIRD10001.pdf",
           "D"
          ],
          [
           487665,
           "File 5404.D1 Memo Env. Studies Building.pdf",
           "D"
          ],
          [
           364436,
           "EIC Signed.pdf",
           "D"
          ],
          [
           917346,
           "01-intro-PSB",
           "D"
          ],
          [
           226877,
           "2200-108.D3.WO00400012 Small Project CEQA Screening Checklist rev2.pdf",
           "D"
          ],
          [
           580696,
           "File 8531-005.D3 Lake and Streambed Alteration Agreement.pdf",
           "D"
          ],
          [
           744847,
           "UCSC Low Flow Fixture - ESI representatives.jpg",
           "D"
          ],
          [
           805156,
           "File 6801 Additional CEQA Requirements.pdf",
           "D"
          ],
          [
           913667,
           "900Glossary_DEIR.pdf",
           "D"
          ],
          [
           307261,
           "UC Santa Cruz Mail - Filling out the CEQA screening assessment checklist.pdf",
           "D"
          ],
          [
           790884,
           "Off-campus parking baseline counts Spr 2014.xlsx",
           "D"
          ],
          [
           337703,
           "180924_KRESGEEIR_FIRSTADMINDRAFT_SUMMARYNOTES.docx",
           "D"
          ],
          [
           780637,
           "CEQA Screening Form.pdf",
           "D"
          ],
          [
           703354,
           "9800-010.D4.UCSC-WestSewer_WEAP-Bio_05052020_ESC revZT.docx",
           "D"
          ],
          [
           492213,
           "File 5507 D1 Transmittal Capital Improvement Budget Data 05.21.97.pdf",
           "D"
          ],
          [
           588018,
           "Findings.pdf",
           "D"
          ],
          [
           136710,
           "CERF Coastal Commission Staff Report.pdf",
           "D"
          ],
          [
           356778,
           "File 3304.2.D2-Alterations to Psych Lab # 415-Environmental Impact.pdf",
           "D"
          ],
          [
           135236,
           "11405.D4.2001 Annual Mitigation Monitoring Program Report.pdf",
           "D"
          ],
          [
           503230,
           "06 Alternatives - FEIR.pdf",
           "D"
          ],
          [
           832977,
           "thin films mitigation monitoring memo.doc",
           "D"
          ],
          [
           205,
           "12056-014.D3.CEQALandelsHill-BigCreekD30001.pdf",
           "D"
          ],
          [
           782088,
           "File 4823.D1 FSH Fire Alarm Memo.pdf",
           "D"
          ],
          [
           468664,
           "Mammal Pools Final IS-MND-complete.pdf",
           "D"
          ],
          [
           805162,
           "1.0 Executive Summary.final.pdf",
           "D"
          ],
          [
           1027683,
           "Small Project CEQA Screening Checklist.rev2.xls",
           "D"
          ],
          [
           361890,
           "3505.D1.CorrespondanceRoughDraftRIC0001.pdf",
           "D"
          ],
          [
           135921,
           "11407.D2.JD Verification.pdf",
           "D"
          ],
          [
           579699,
           "FINALSIGNED - RTCBikePath Grant-2018RTIP reduced.pdf",
           "D"
          ],
          [
           135914,
           "11407.D2.EIReport02.pdf",
           "D"
          ],
          [
           703346,
           "9800-010.D4.2005feir-IV-4.0-mmp-unlocked.pdf",
           "D"
          ],
          [
           689543,
           "10099-016.D2.EIC Signed.pdf",
           "D"
          ],
          [
           468650,
           "Mammal Pools NOD MAILING LABELS - Copy.docx",
           "D"
          ],
          [
           41023,
           "3.2Agri.Final.Final.pdf",
           "D"
          ],
          [
           282761,
           "File 2806. D2. Environmental Impact Classif .pdf",
           "D"
          ],
          [
           668962,
           "2318-069B.D2.2017 06 20 DRAFT EIC - CMA Bldg 8 retaining wall.docx",
           "D"
          ],
          [
           338076,
           "Kresge College Renewal and Expansion Project Draf EIR Nov 2018.pdf",
           "D"
          ],
          [
           478476,
           "5300-060-Rachel Carson-Small Project CEQA Screening Checklist.rev2.xls",
           "D"
          ],
          [
           965247,
           "2013 Reg_Docs_SA.doc",
           "D"
          ],
          [
           136533,
           "MMP_Table4_2009-10.pdf",
           "D"
          ],
          [
           356615,
           "Kerr Hall Historical Sample Results.pdf",
           "D"
          ],
          [
           375880,
           "signed EIC.pdf",
           "D"
          ],
          [
           826801,
           "4.5-Cultural.doc",
           "D"
          ],
          [
           338958,
           "4.12 Noise.pdf",
           "D"
          ],
          [
           214863,
           "File 2113 Letter to RWQCB-Defer THP Monitoring 9-27-10.pdf",
           "D"
          ],
          [
           488305,
           "File 5501 EIC Review .pdf",
           "D"
          ],
          [
           338949,
           "01_Executive Summary.pdf",
           "D"
          ],
          [
           502407,
           "Anthro wet lab expansion EIC-signed.pdf",
           "D"
          ],
          [
           381340,
           "4200.D2.DEIR UCD Hospital Demo and Office Replacement.pdf",
           "D"
          ],
          [
           913677,
           "3.0-10.pdf",
           "D"
          ],
          [
           23570,
           "EIC Signed.pdf",
           "D"
          ],
          [
           314150,
           "0909460.pdf",
           "D"
          ],
          [
           703350,
           "9800-010.D4.Pages from 2005feir-IV-4.0-mmp-unlocked.pdf",
           "D"
          ],
          [
           76467,
           "EIC Signed.pdf",
           "D"
          ],
          [
           135227,
           "11405.D3.LRDP 1987 Drafts.pdf",
           "D"
          ],
          [
           356882,
           "File 3308 CEQA Study.pdf",
           "D"
          ],
          [
           782903,
           "4900-014 Corrrespondence.tif",
           "D"
          ],
          [
           468660,
           "LML Pool Expansion data needs for consultant FINAL.docx",
           "D"
          ],
          [
           734455,
           "5507.D4.ModularStudentHousingMigrationMeasuresChecklist.pdf",
           "D"
          ],
          [
           314152,
           "NOE Signed.pdf",
           "D"
          ],
          [
           832974,
           "File 10633 NOD.pdf",
           "D"
          ],
          [
           23565,
           "EIC Signed.pdf",
           "D"
          ],
          [
           214854,
           "Cogen Replace Phase 1 Mitigation checklist.xlsx",
           "D"
          ],
          [
           374860,
           "4003.D2.Sinsheimer Laboratories - Fume Exhaust Stacks.pdf",
           "D"
          ],
          [
           759458,
           "04-11-pub-CIA-deir",
           "D"
          ],
          [
           598826,
           "Signed Page 9.pdf",
           "D"
          ],
          [
           488307,
           "File 5501 EIC.pdf",
           "D"
          ],
          [
           214862,
           "File 2113 Enrollment Notification from RWQCB.pdf",
           "D"
          ],
          [
           338890,
           "Kresge_FEIR_2_PD_1.24.19_JKEDITS.docx",
           "D"
          ],
          [
           179878,
           "LRDP Stage 2",
           "D"
          ],
          [
           111106,
           "Volume III, 4.0_2300 Delaware Avenue - 2005deir-iii-4.0-2300delaware.pdf",
           "D"
          ],
          [
           214855,
           "Cogen tree  Map 2113 7-24-2012.pdf",
           "D"
          ],
          [
           136580,
           "11408-001.D2.LRDPAmendmentForStudentHousingEIRScopingMeeting0001.pdf",
           "D"
          ],
          [
           214864,
           "Laabs email CRLF monitoring not needed.pdf",
           "D"
          ],
          [
           913758,
           "E_Ranch_View_Terrace.pdf",
           "D"
          ],
          [
           577355,
           "8347.D1.P.E Facilities Tennis Court lighting-Environmental Impact.pdf",
           "D"
          ],
          [
           78253,
           "UBP201901180455.pdf",
           "D"
          ],
          [
           781882,
           "File 4801-034.D1 800 Loop Paving Project Description.pdf",
           "D"
          ],
          [
           917402,
           "09-MitMon Matrix-PSB",
           "D"
          ],
          [
           214847,
           "Cogen plant replacement revised EIC-UCOP sign.pdf",
           "D"
          ],
          [
           135919,
           "11407.D1.S Morgan letter.pdf",
           "D"
          ],
          [
           179860,
           "Preconstruction Wildlife Surverys for SF Dusky-footed Woodrats and Nesting Birds.pdf",
           "D"
          ],
          [
           752558,
           "CRLF avoidance measures.7.02.07-1, signed.pdf",
           "D"
          ],
          [
           212,
           "12056-099.D2.EICLandelsHill-BigCreekReverveD20001.pdf",
           "D"
          ],
          [
           338834,
           "3238.D1.EICFormD1.pdf",
           "D"
          ],
          [
           362875,
           "File 3600-008 EIC (revised) form.pdf",
           "D"
          ],
          [
           214871,
           "Cogen Timber Harvest Documents.doc",
           "D"
          ],
          [
           376343,
           "EH&S Facility EIC signed Latham 8-22-14.pdf",
           "D"
          ],
          [
           76446,
           "10050-006  EIC Big Creek Circle M Ranch.pdf",
           "D"
          ],
          [
           338843,
           "3238.D2.EIRFormD2.pdf",
           "D"
          ],
          [
           783432,
           "OVERLOOKS Approval.pdf",
           "D"
          ],
          [
           338844,
           "3238.D2.USCSCDEIRD2.pdf",
           "D"
          ],
          [
           790880,
           "Draft schedule for RAP noise analysis.xlsx",
           "D"
          ],
          [
           135235,
           "11405.D4.1999-2000 Mitigation Monitoring Report.pdf",
           "D"
          ],
          [
           141814,
           "Project Description for CEQA Analysisrk.doc",
           "D"
          ],
          [
           487659,
           "File 5404.D1 Env. Studies Building(3) .pdf",
           "D"
          ],
          [
           485390,
           "5304-015 Coll 8_Kresge Academic Elevators EIC signed Latham.pdf",
           "D"
          ],
          [
           579684,
           "2018 02 06 UCSC GMBP Project Description - Draft 2 - track changes.docx",
           "D"
          ],
          [
           588500,
           "File 8941 Environmental Impact Classification.pdf",
           "D"
          ],
          [
           282814,
           "CSHC NOC mailing list.doc",
           "D"
          ],
          [
           703400,
           "9800-010.D1.2019 11 13 9800-010 Tree Removal Memo - FINAL.pdf",
           "D"
          ],
          [
           702909,
           "2513.D1.Federal Emergency Management Agency.pdf",
           "D"
          ],
          [
           746922,
           "File XXXX-XXX.D3.Small Project CEQA Screening Checklist rev2.xls",
           "D"
          ],
          [
           478718,
           "Small Project CEQA Screening Checklist.rev2.xls",
           "D"
          ],
          [
           790890,
           "GretchenFlor's Schedule.pdf",
           "D"
          ],
          [
           703347,
           "9800-010.D4.2020 05 05 9800-010 Worker Envi Awareness.docx",
           "D"
          ],
          [
           488304,
           "File 5501 EIC Report Draft.pdf",
           "D"
          ],
          [
           689515,
           "10073.D2.EIC Signed.pdf",
           "D"
          ],
          [
           338830,
           "161012_ALISA_NATL_STATE_REG_CRITERIA_LINKS.pdf",
           "D"
          ],
          [
           726466,
           "SUPERSEDED 2638 Merrill Cultural Center signed EIC.pdf",
           "D"
          ],
          [
           586225,
           "Backup of McLaughlin #8900-048, Small Proj. Desc. Form 2011.rev-1.xlk",
           "D"
          ],
          [
           781880,
           "File 4801-034.D1 800 Loop Paving Memo(2).pdf",
           "D"
          ],
          [
           111102,
           "10637.D2.EnvironmentalImpactClassificationD20001.pdf",
           "D"
          ],
          [
           318323,
           "3045-001.D4.Bayview Enviormental Services Respitory Protection Program.pdf",
           "D"
          ],
          [
           719021,
           "NOD.pdf",
           "D"
          ],
          [
           536194,
           "Music Center, Interior Air Quality Report, CL, 12-18-14pdf.pdf",
           "D"
          ],
          [
           503219,
           "01 Introduction - FEIR.pdf",
           "D"
          ],
          [
           702901,
           "2513.D1.FEMA Damage Survey Report #25434.pdf",
           "D"
          ],
          [
           544016,
           "File 6600-009 Environmental Assessment.pdf",
           "D"
          ],
          [
           875731,
           "4.14 Recreation.pdf",
           "D"
          ],
          [
           78507,
           "EIC Signed.pdf",
           "D"
          ],
          [
           917351,
           "04-01-geo-PSB",
           "D"
          ],
          [
           805171,
           "UCSC ECI Draft EIR print 03-20-2009_1.pdf",
           "D"
          ],
          [
           874501,
           "EIC Signed.pdf",
           "D"
          ],
          [
           25088,
           "1500-027.D2.Entryway_Signed_EIC.pdf",
           "D"
          ],
          [
           669364,
           "3111-019.D3.WO00400236 Small Project CEQA Screening Checklist rev2.xls",
           "D"
          ],
          [
           358693,
           "File 3400-024.D2 EIC Forms.pdf",
           "D"
          ],
          [
           788334,
           "4928-002.D2.4928.D2InitalStudyChecklistEnviormentalImpactAssesment0001.pdf",
           "D"
          ],
          [
           503232,
           "08 Changes to DEIR - FEIR.pdf",
           "D"
          ],
          [
           783445,
           "NOD signed 2-17-11.pdf",
           "D"
          ],
          [
           337890,
           "Figure 16 Site Preservation Details.pdf",
           "D"
          ],
          [
           913697,
           "4.01-06.pdf",
           "D"
          ],
          [
           913788,
           "File 5707 Campus & Developer Responsibilites.pdf",
           "D"
          ],
          [
           489860,
           "Memorandum and Correspondence.pdf",
           "D"
          ],
          [
           913633,
           "Project Description Draft with Review Comments.pdf",
           "D"
          ],
          [
           511978,
           "File 5701-012.D1 Office Memo EIC(2).pdf",
           "D"
          ],
          [
           1112,
           "~$00-093A 02080 Asbestos Abatement Spec.doc",
           "D"
          ],
          [
           213474,
           "2100-020A.D3.Small Project CEQA Screening Checklist rev2.pdf",
           "D"
          ],
          [
           487655,
           "File 5404.D1 Build Schedule(4).pdf",
           "D"
          ],
          [
           179872,
           "NOP_Governor's Office of Planning and Research.pdf",
           "D"
          ],
          [
           36378,
           "00-sect-div-CIA-ca",
           "D"
          ],
          [
           46006,
           "Asbestos Follow Up Email.pdf",
           "D"
          ],
          [
           179859,
           "File 1810 D1 2-8-2002.pdf",
           "D"
          ],
          [
           965201,
           "1326.D2.HayBarnEICD2.pdf",
           "D"
          ],
          [
           580700,
           "File 8531-005.D3 Pre-Construction Notification - Nationwide Permit #27.pdf",
           "D"
          ],
          [
           337705,
           "2 Proj Description_2.8.18-ak.docx",
           "D"
          ],
          [
           834957,
           "4910.D2.CoastalMarineLab_Environmental_Impact_Proposed_Final.pdf",
           "D"
          ],
          [
           790872,
           "4932 D4. Approval of Additional Biologists 06-23-2015.pdf",
           "D"
          ],
          [
           135913,
           "11407.D2.D2Report0001.pdf",
           "D"
          ],
          [
           759441,
           "NOC.pdf",
           "D"
          ],
          [
           875722,
           "13.0 Appendices.pdf",
           "D"
          ],
          [
           913768,
           "O_Ranch_View_Terrace.pdf",
           "D"
          ],
          [
           834999,
           "File 4928 Northern Harrier Survey.pdf",
           "D"
          ],
          [
           23562,
           "EIC Signed.pdf",
           "D"
          ],
          [
           913678,
           "3.0-11.pdf",
           "D"
          ],
          [
           580913,
           "File 8600.D1 Appendix C.pdf",
           "D"
          ],
          [
           329053,
           "IAF FEI 10-1993.pdf",
           "D"
          ],
          [
           361377,
           "File 3503 D1 Notice of Exemption 06.19.92.pdf",
           "D"
          ],
          [
           788340,
           "4929.D2.4929.D2.EnviromentalImpactClassification.pdf",
           "D"
          ],
          [
           478209,
           "5300-048.D1.Findings.pdf",
           "D"
          ],
          [
           544134,
           "File 6600-022 Verizon Mt Ham fuel cell signed EIC (2).pdf",
           "D"
          ],
          [
           613490,
           "EIC Signed.pdf",
           "D"
          ],
          [
           75191,
           "10009-002.D3.Botanical Study Request for Proposals & Survey Area Map.pdf",
           "D"
          ],
          [
           719025,
           "IIP Phase 1-Water.complete.xls",
           "D"
          ],
          [
           135233,
           "11405.D4.1997 Mitigation Monitoring Program Report.pdf",
           "D"
          ],
          [
           282796,
           "LA-1 for final.pdf",
           "D"
          ],
          [
           474291,
           "5201.D4.Fill Storage Area.pdf",
           "D"
          ],
          [
           487651,
           "File 5404.D1 Budget(3).pdf",
           "D"
          ],
          [
           478212,
           "5300-048.D1.Extension for Stormwater Infrastructure Improvement Project 33413WQ04 - CCRWQCB Approval (10-14-15).pdf",
           "D"
          ],
          [
           912498,
           "01-HYT_KBDHYT01_Inv_20-0903.pdf",
           "D"
          ],
          [
           828594,
           "8884.D2 - Campus Parking - Core West Parking Structure - Original Construction.pdf",
           "D"
          ],
          [
           368551,
           "3705-002.D2.EIC Form.pdf",
           "D"
          ],
          [
           790885,
           "sample equipment list.pdf",
           "D"
          ],
          [
           913625,
           "5707.D3.Ranch View Terrace (Inclusion Area D).pdf",
           "D"
          ],
          [
           179856,
           "50SD Drawings.pdf",
           "D"
          ],
          [
           23567,
           "Withdrawal of NOE.pdf",
           "D"
          ],
          [
           913623,
           "ERP Correspondance.pdf",
           "D"
          ],
          [
           227346,
           "EIC Signed.pdf",
           "D"
          ],
          [
           487656,
           "File 5404.D1 Build Schedule(5).pdf",
           "D"
          ],
          [
           478211,
           "34413WQ04 Winterization Plan submittal.docx",
           "D"
          ],
          [
           874978,
           "P225503 UCSC-THIMAND LABS REV 2.pdf",
           "D"
          ],
          [
           41026,
           "3.4 Biology.Final final web.pdf",
           "D"
          ],
          [
           965208,
           "LUMBER INSPECTION CERT.pdf",
           "D"
          ],
          [
           805169,
           "Traffic appendix EIR slip sheet.pdf",
           "D"
          ],
          [
           703414,
           "9800-010.D1.pinus canariensis lot 105 report.pdf",
           "D"
          ],
          [
           832978,
           "Thin Films MMP.docx",
           "D"
          ],
          [
           703404,
           "9800-010.D1.2019 10 14 9800-010 Tree Removal EMAIL Arboretum Acceptance.pdf",
           "D"
          ],
          [
           790850,
           "UC Santa Cruz Mail - Cbc blue lights.pdf",
           "D"
          ],
          [
           579733,
           "Files.zip",
           "D"
          ],
          [
           614940,
           "9802 Recycling yard signed EIC.pdf",
           "D"
          ],
          [
           835084,
           "File 5312.D1 College 8 Rec. Facilities EIC.pdf",
           "D"
          ],
          [
           338852,
           "CEQA sched concept.xlsx",
           "D"
          ],
          [
           381349,
           "4200.D2.UUCSCSStudentHousingWestProjectEIRLoudenNelsonCommunityCenter0001.pdf",
           "D"
          ],
          [
           474293,
           "5201.D4.LDRP Evidence.pdf",
           "D"
          ],
          [
           361379,
           "File 3503 D1 Posibility of Emergency Exemption Under CEQA 05.27.92.pdf",
           "D"
          ],
          [
           1115,
           "1400-093A.D4.Analysis Request Form(COC).pdf",
           "D"
          ],
          [
           790889,
           "UCSC FINAL Final Compliance Report REV (05-17-2019).pdf",
           "D"
          ],
          [
           741685,
           "4503-006.D3.4503-006 Small Project CEQA Screening Checklist rev2.pdf",
           "D"
          ],
          [
           965246,
           "UCSC_HayBarn_NC-4.pdf",
           "D"
          ],
          [
           311050,
           "Long Range Development Plan EIR_California Red Legged Frog Mitigation Measures.docx",
           "D"
          ],
          [
           503211,
           "5601.D1.DAF Final EIR.pdf",
           "D"
          ],
          [
           338863,
           "2 Introduction.pdf",
           "D"
          ],
          [
           875718,
           "1.0 Introduction.pdf",
           "D"
          ],
          [
           790873,
           "Additional Noise Analysis 5-23-14.pdf",
           "D"
          ],
          [
           831641,
           "973820 Phase A, OP signed EIC.pdf",
           "D"
          ],
          [
           913750,
           "7.0 MMRP.pdf",
           "D"
          ],
          [
           805168,
           "L0.02_TREE HARVEST-1.pdf",
           "D"
          ],
          [
           361894,
           "3505.D2.InviormentalReport0001.pdf",
           "D"
          ],
          [
           8467,
           "1499-038 Thimann Air Handler signed EIC.pdf",
           "D"
          ],
          [
           337701,
           "180725_KresgeProjectObjectives.docx",
           "D"
          ],
          [
           136528,
           "MMP_Table4_2008-09.pdf",
           "D"
          ],
          [
           579719,
           "Great Meadow Bike Path Improvement Project - Public Draft Initial Study.docx",
           "D"
          ],
          [
           742175,
           "WO00410470 Small Project CEQA Screening Checklist rev2.pdf",
           "D"
          ],
          [
           913622,
           "5707.D1.RVT EIR Hearing Comments.pdf",
           "D"
          ],
          [
           338862,
           "1 Executive Summary.pdf",
           "D"
          ],
          [
           487657,
           "File 5404.D1 Build Schedule.pdf",
           "D"
          ],
          [
           614921,
           "9801-PGE gas line-ERC driveway repair EIC-signed.pdf",
           "D"
          ],
          [
           488308,
           "File 5510 D2.pdf",
           "D"
          ],
          [
           23544,
           "EIC Signed.pdf",
           "D"
          ],
          [
           478213,
           "5300-048.D1.IIP Ph 2 permit reporting matrix, AK, 7-14-14.xlsx",
           "D"
          ],
          [
           363855,
           "3608-0035_Aquaculture_Lab_11x17.pdf",
           "D"
          ],
          [
           917372,
           "05-alts-PS-tables",
           "D"
          ],
          [
           579729,
           "20.07.16 8500-033 Pre-Con Biotic Survey.pdf",
           "D"
          ],
          [
           874503,
           "File 7401 Notice of Availability 11-8-01.pdf",
           "D"
          ],
          [
           541225,
           "6401-011.D3.Small Project CEQA Screening Checklist rev2.xls",
           "D"
          ],
          [
           1027681,
           "SCIPP Assembly_Test Lab draft EIC2.docx",
           "D"
          ],
          [
           314151,
           "Wastewater form - handed to Blunk.pdf",
           "D"
          ],
          [
           3249,
           "DPP_1.1-2.5.pdf",
           "D"
          ],
          [
           489859,
           "Correspondence and Memorandum.pdf",
           "D"
          ],
          [
           779254,
           "EIC Signed.pdf",
           "D"
          ]
         ],
         "hovertemplate": "tag=%{customdata[2]}<br>umap_x=%{x}<br>umap_y=%{y}<br>file_id=%{customdata[0]}<br>filename=%{customdata[1]}<extra></extra>",
         "legendgroup": "D",
         "marker": {
          "color": "#85660D",
          "line": {
           "width": 0
          },
          "opacity": 0.75,
          "size": 7,
          "symbol": "circle"
         },
         "mode": "markers",
         "name": "D",
         "showlegend": true,
         "type": "scattergl",
         "x": {
          "bdata": "NBCUQBH7o0BVBvNAcjj1QPvhsEBd+bpAxzzYQHsfokAglxVATpfIQDCpt0Dte59A+GuiQFmy70AaX55AmdzJQFx+t0AY9/lAm/v3QPHN2ECiuNy/dGX0QOdbh0BPettAejMSQAYXx0BrQJ9Av6WfQD7A6ECw56lAcTgyQOLU00AuCrxA5k/qQOFCskCM6PVASm26v4MAhkCfTcRAYUGvvvl1o0Cg8NlA5/jGQEO50UDBuZBAr7HaQOTTiL6TXPVABOFMQPe7ukBeqH9An+LVQKgQo0DKJrJAPUftQDeHskDRYZVABV7YQF8spkADALJA8l7cQKw8wUBYX7JAY0avQFaSukD2otVAH6L3QJndmkCBoX6/x0VVQHLOuEBI9ppA6JrsQHgKukCM55RAcKLNQP757D+ssxBAukqXQH1si0BgxGFAnQWsQKeAkUA5ZAu/KgNMv9s7vEAAErpAWdfjQNFjt0ClzaxAyMekQBvKyUBzrCq/LeTXQKyEmEAwoI5AMRm0QNzsz0A/ILVA962PQNlGr0B0BvJAlUvIQJgLpkA9mvNAhrf2QA9huEAQPZBACE1SQMnCpEAlsKNAwUL3QH81uUBvJ5xAml7KQIvAqz/CI6tAlm7xQP8TtECtZptAfOfuQJdVoUD6YK9APzXzQOUVuEAdXuxAnwvBQH4Oh0CGArBA4+agQKRLvEBzyPRA1eBOQDj5vUBSmbFAiYk3QMnh9EDPOcxAwTgBv2EEsUBHNJdAUzVCQB8vtkAs3dhAkSUav5xLC0DzwrZAWcpRQMR/r0A8r+9AopTXQEol10DhQdlAOEbsQA07uEBekepARuTJQDgI80D3MulA6L65QN1WyUAj47xA1Z1GQM+sv0C2h4NArGWPQF+08kBDY7hAoR3vQNHkyUDbmcpAn/CSvnvuBj9lH5BAXV7WQI3tA7/aV+5AeWfyQDJI70B36fBABG1HQAQXxUC/wvRAizCiQN2aukBAo5VABXa3QCewsL4qvIZAXeOvQETn+UCN9ydAkGy5QEG3+ECaQvZAILQSQE/m9EBnQNhAJ66wQDHowECrkkxA8gGyQK6nsUBL7JZAou58v6Gj7UA4SRS+0PaUQJb/l0DrJMNAhJeeQJ8IokD5c7ZAC/rtQMdZxUBttRC/h+LPQLM+3EC8D79AWjq5QOclUb4UWim/Yy3YQD8A80DJb6NAui/UQAu5ukBmoS1A34/rQFHT1UBaz/JASgn0QJHNz0A6yVNACvK1QHYFE78IWtpAMn9oQMV7xEAa5rK9DuHyQCKO7kDSCak/Y+SBQJNGN0BfAuBAtO0ZQMs/7UDm26tA0omIQA500D/alKFA9ZrjPWpbr0BXbMhA72WqQLmxBEChJAlAgVbWQMyG8EC333JAW/eFQClDh0BVwrJAChzLv17KoEAjFtdAOpCUQMRiD0AAxdpAQ2JUQFigt0BRhbdAeiyeQCXN9kA9a69Ao9DFQIzQsUC5YvNAmk6dQF4jo0AvWrtAX7WUQKgbp0DpabVAitpKQOyc7EAv2/JAnK30QDky1UCZKDRA5jeBQOWt2EDwxMFAsB0PP+Lj9ECJFds/2B3cQJSO9T9O4vdA",
          "dtype": "f4"
         },
         "xaxis": "x",
         "y": {
          "bdata": "rq6JQCHux0AozK9ATbywQGTXh0Dq3JRADENxQGANjkAKtm1ANKCBQLTFMECXij9AhQDKQF64rEBDnpBANNdPQOYNlECWMrBAfUewQM9Jc0DwNtRAWE+wQMj0MkBH3G5ABeAnQHg/gkAz9pBAwN2PQFmGrECIY4dAz9/VP6BIaEDR24RANeOsQB80fUBs/69A+ZO8QCvwm0AExoZAPCTgvuNfyECQqXNAxShzQD8CVkAvNaxAfCFxQNuJBL/lRq5ALVKVQJqHN0Bb+aVAwVRGQFbtyECPu6NAvFyoQMTbk0BC84dAaRdxQN5HfUCjAXdAw4aeQMkwV0A876FA7mCjQIFWlkAVMUpAXtKuQNI1q0DYysFAYsHKQDdjiEDrsSBAFcmrQKa0lUBgF4hAvFZqQIq/c0Ag24o+FnqpQOHqeUAkQ4tARE6OQKwrjEDK5PdADLxNQEtWl0CO9DpA9dKmQDxkiUDU+JFANEahQEhrc0DTA7a+J/FOQDfEnkBpo49A5MNLQIO2ikBbKi1Avph5QJATokD+RahA5llNQKp7oECtM7JAj0yyQIq/iEBlWIxAqrWqQBXooUCEhshAXuyqQIJWWECbaKlAy/drQOCSRECbOWdA48ytQG/4jkDoF15AHBKtQI35yUCycaNALE2qQFj2WUAu+qhAECdEQJ2lmkCGoKNA6tQRQL/VPUCUiKtAn/LKQCrwiEClgIpANA2Hvf3nqkDYjXNA/VT7QByopEAnBKBA4ZSPQJ8FmUC1B3ZAvjfcQP5tm0Bbh7Y/T4mLQBaMo0CBja9AZ3tAQNWhckCHIHFA+meqQCTNMEBeXatAgLpqQKV+sUCUTalAg2+DQEuam0AIV4xAfKeKQO3OkEBtJJZAzt9hQDKsrUDa4C1AcE+vQC3zaUD8cHBAhNu8vrDMVUCi74xARUSBQNxy90BDra9AjBeuQHlGqkDXVa1AZjKFQJIeakAChLBAHkvIQMSEOUCZca5AibWYQFCn5b42xpxA/ayTQDytsUD9WF5AjuqKQPcjsEAPi7FAQwyKQI4LsUAA+UtAjUybQK7PP0AJjo5A17ZTQJrwoUAaHiFAEV1MQOs1sEBR8OFA5XCJQEypcUBEh5JABUmfQIZYykDY4o9AKA6uQORdc0C1CgBB68RhQEWdbkABQEVAyW6DQD3r4kAkFNxAQzNzQN3WqEAcgFVAD9psQDTgi0B3MkxAIBitQHWwmkCqbrBAGruqQO82a0DaE8xAPbuaQNa53EBboUNA4rH0P24hg0AGh81AkoamQCCuqkCu96xA/QidQLctgkASvJZALoBaQIJsqkDbLYRAd7mXQDutoEBbf6NA7BKVQCC4hUAExmtAOC6kQGJMT0Bc2p1A+/9xQDcDrUCC1+U/CIybQFyuNkDIPaNAOSumQF/oyUAsx0dACAOJQP+2aD7DG25ASVEXQEM5lED6gpdA0oioQO3fsEDjAqRAIaZgQAI+VUDF4LBA2utIQOpyokBka49AiT2HQMlej0CbqopAz1DZPyp+q0DIMqpA7I2rQGLwe0BmKZBAUo6TQLfnbkDOtk5A3sZYQH1lsUASCoxAqi1ZQLJ0mEAaga5A",
          "dtype": "f4"
         },
         "yaxis": "y"
        },
        {
         "customdata": [
          [
           975889,
           "Up Camp JH Letter f2.doc",
           "F"
          ],
          [
           536823,
           "175 File 6301 P201.TIF",
           "F"
          ],
          [
           912031,
           "Pre Bid Form Kresge Omega.pdf",
           "F"
          ],
          [
           744865,
           "Zurn urinal2.pdf",
           "F"
          ],
          [
           367821,
           "File 3701 A 07.TIF",
           "F"
          ],
          [
           875460,
           "BE Mail Out List 1650-007.doc",
           "F"
          ],
          [
           536744,
           "096 File 6301 A433.TIF",
           "F"
          ],
          [
           937121,
           "2113.F7.1.UCSC Cogen res ltr to ESI 10.8.12.pdf",
           "F"
          ],
          [
           327413,
           "3100-179.F5.File 3124 A 321.TIF",
           "F"
          ],
          [
           732476,
           "6600-038.F1.Opportunity _ 1042862 - ICAMP.pdf",
           "F"
          ],
          [
           329174,
           "File 3124 A 512.TIF",
           "F"
          ],
          [
           329304,
           "File 3124 BA 712.TIF",
           "F"
          ],
          [
           536766,
           "118 File 6301 A751.TIF",
           "F"
          ],
          [
           781303,
           "4505-007.F8. NTP.pdf",
           "F"
          ],
          [
           145902,
           "Santa Cruz_7021_Village Housing D2.pdf",
           "F"
          ],
          [
           329300,
           "File 3124 BA 702.TIF",
           "F"
          ],
          [
           739982,
           "3025.F1.Notification of Contract Funds to Associate Accounting Officer.pdf",
           "F"
          ],
          [
           329372,
           "File 3124 M 111.TIF",
           "F"
          ],
          [
           886173,
           "Bid Bond Return Letter--Pavex.doc",
           "F"
          ],
          [
           831364,
           "Jordan Gulch - Final Design - Structural Calcs.pdf",
           "F"
          ],
          [
           744699,
           "10010.F5.urinal dimensions needed.pdf",
           "F"
          ],
          [
           744690,
           "Section 07270",
           "F"
          ],
          [
           536736,
           "088 File 6301 A425.TIF",
           "F"
          ],
          [
           990726,
           "Alternative Action Program.pdf",
           "F"
          ],
          [
           885491,
           "BE Mail Out List 8946.doc",
           "F"
          ],
          [
           98841,
           "File 3701 M 05.TIF",
           "F"
          ],
          [
           849259,
           "4932 95CD JV Comments.xls",
           "F"
          ],
          [
           722019,
           "12010-003.F8.Geo. H. Wilson, Inc. Contract.doc",
           "F"
          ],
          [
           911670,
           "6300-013A.F8.NTP.pdf",
           "F"
          ],
          [
           861046,
           "Biomed Subs Bid Review Analysis.pdf",
           "F"
          ],
          [
           536368,
           "19 File 6301 A 302.TIF",
           "F"
          ],
          [
           613972,
           "Oakes FA pre-bid-agenda.doc",
           "F"
          ],
          [
           537514,
           "6301-003.F5.Blueprint Batch #12, F.S Plan (4 of 6).pdf",
           "F"
          ],
          [
           329338,
           "File 3124 S 202B.TIF",
           "F"
          ],
          [
           329218,
           "File 3124 E 102.TIF",
           "F"
          ],
          [
           180484,
           "File 1810 McCarthy Completed Prequalification Package.pdf",
           "F"
          ],
          [
           329117,
           "File 3124 FA 05.TIF",
           "F"
          ],
          [
           115767,
           "LA.RPT",
           "F"
          ],
          [
           329361,
           "File 3124 AV 112.TIF",
           "F"
          ],
          [
           970428,
           "5399-072_f1.7.pdf",
           "F"
          ],
          [
           682333,
           "3201-094_f1.1.pdf",
           "F"
          ],
          [
           862952,
           "3124.F1.1.Fire Chief Meeting Notes 1.10.95.pdf",
           "F"
          ],
          [
           83402,
           "File 10068.F2. Response to Plan Review Comments.pdf",
           "F"
          ],
          [
           367842,
           "3701.F5. Structural As-Builts_Academic Only.pdf",
           "F"
          ],
          [
           882729,
           "5201.F1.7.Prequalification (Honeywell).pdf",
           "F"
          ],
          [
           329381,
           "File 3124 T 111.TIF",
           "F"
          ],
          [
           720683,
           "6300-011.F8.Rebid Combined Executed Contract.pdf",
           "F"
          ],
          [
           367829,
           "3701.F5.Architectural.pdf",
           "F"
          ],
          [
           831369,
           "File 9086 Structural Calculations.pdf",
           "F"
          ],
          [
           368622,
           "3705-002.F3 Structural Documents.pdf",
           "F"
          ],
          [
           145939,
           "Santa Cruz_7207_Mtham APF_Form 1_R+C_20201101.pdf",
           "F"
          ],
          [
           329114,
           "File 3124 FA 02.TIF",
           "F"
          ],
          [
           536412,
           "55 File 6301 A 434.TIF",
           "F"
          ],
          [
           536395,
           "46 File 6301 A 427.TIF",
           "F"
          ],
          [
           329242,
           "File 3124 M  801.TIF",
           "F"
          ],
          [
           546977,
           "6634 F6 Affirmative Action.pdf",
           "F"
          ],
          [
           876307,
           "Addendum1_fax cover.doc",
           "F"
          ],
          [
           875265,
           "Santa Cruz Appeal2.pdf",
           "F"
          ],
          [
           145940,
           "Santa Cruz_7208_Mtham 30 inch_Tier 1_R+C_20201101.pdf",
           "F"
          ],
          [
           536808,
           "160 File 6301 M15.TIF",
           "F"
          ],
          [
           962582,
           "Mechanical General Provisions.pdf",
           "F"
          ],
          [
           73282,
           "10000-024.F1.campus ada drinking fountain inspection alteration contracts and accounting  correspondence.pdf",
           "F"
          ],
          [
           734128,
           "3400-020D.F8.3400-020D Village E2 Plumbing Repairs.docx",
           "F"
          ],
          [
           329253,
           "File 3124 S 101.TIF",
           "F"
          ],
          [
           886814,
           "PUBLETS 9077.doc",
           "F"
          ],
          [
           536559,
           "File 6301 P 103.TIF",
           "F"
          ],
          [
           964728,
           "McH FA Rebid SPEC Cover f1.doc",
           "F"
          ],
          [
           536785,
           "137 File 6301 TR-101.TIF",
           "F"
          ],
          [
           1937,
           "1430.F.1430 F.pdf",
           "F"
          ],
          [
           890636,
           "MME Bldg C response letter FINAL.pdf",
           "F"
          ],
          [
           329278,
           "File 3124 BA 002.TIF",
           "F"
          ],
          [
           536748,
           "100 File 6301 A501.TIF",
           "F"
          ],
          [
           536827,
           "179 File 6301 E102.TIF",
           "F"
          ],
          [
           536824,
           "176 File 6301 E90.TIF",
           "F"
          ],
          [
           307115,
           "File 3000-120 Minardi Engineering.pdf",
           "F"
          ],
          [
           329208,
           "File 3124 C 101.TIF",
           "F"
          ],
          [
           732774,
           "11021.F6.2021-03-25 Design Phase Kickoff Meeting Agenda.pdf",
           "F"
          ],
          [
           477829,
           "Pre-Con Conference Agenda.pdf",
           "F"
          ],
          [
           137944,
           "#12040-004 NTP.pdf",
           "F"
          ],
          [
           331893,
           "File 3209 A 09.TIF",
           "F"
          ],
          [
           75244,
           "008 File 10010 P2.5.TIF",
           "F"
          ],
          [
           374058,
           "4000-028.F8 8-3-2020 NTP.pdf",
           "F"
          ],
          [
           744688,
           "CWLF Division 2 Sec 02083.doc",
           "F"
          ],
          [
           874913,
           "LF_E16_FinalDistributionofContractDollars_Rev5-1-06(MS-Word).doc",
           "F"
          ],
          [
           849300,
           "Plan Review.xls",
           "F"
          ],
          [
           849265,
           "SB Constructability 50CD Set.pdf",
           "F"
          ],
          [
           793486,
           "File 6701.F8 Liability Insurance Certificates.pdf",
           "F"
          ],
          [
           885707,
           "Vani1_8946.doc",
           "F"
          ],
          [
           329322,
           "File 3124 BL 101.TIF",
           "F"
          ],
          [
           990793,
           "GraniteConstr_Bid_Continued.pdf",
           "F"
          ],
          [
           886612,
           "Vani#2 9065.doc",
           "F"
          ],
          [
           236387,
           "Swinerton Email - Certifications #4.pdf",
           "F"
          ],
          [
           145743,
           "Santa Cruz_7182_Student Union Redwood_Form 1.pdf",
           "F"
          ],
          [
           862949,
           "3124.F1.1.Construction Documents 1.10.95.pdf",
           "F"
          ],
          [
           682984,
           "4800-001_f1.1.pdf",
           "F"
          ],
          [
           875248,
           "PUBLETS for Subcontractor prequal .doc",
           "F"
          ],
          [
           536455,
           "File 6301 CCS 2.TIF",
           "F"
          ],
          [
           537565,
           "6301.F5 - Untitled Drawing (1).pdf",
           "F"
          ],
          [
           236396,
           "REQUEST TO HAVE A CONSTRUCTION CONTRACT WRITTEN v9.pdf",
           "F"
          ],
          [
           871707,
           "3238.F7.1.University Response to Bid Protest.pdf",
           "F"
          ],
          [
           705838,
           "4015.F7.1.Withdrawal of Bid O.C. McDonald.doc",
           "F"
          ],
          [
           329112,
           "Pg. 6 File 3124.pdf",
           "F"
          ],
          [
           861029,
           "02-20-09 Robinson.pdf",
           "F"
          ],
          [
           795,
           "1400-093.F6.Pre-Bid Sign In Sheet.xlsx",
           "F"
          ],
          [
           329203,
           "File 3124 AV 300.TIF",
           "F"
          ],
          [
           329166,
           "File 3124 A 431.TIF",
           "F"
          ],
          [
           712441,
           "3701.F1.5.OaksCollege.Correspondance26.pdf",
           "F"
          ],
          [
           705774,
           "10070.F7.1.Mark Plainfield response to University Decision.pdf",
           "F"
          ],
          [
           98889,
           "File 3701 S 18.TIF",
           "F"
          ],
          [
           955965,
           "3406.F8.Brief Froms Contract Punchlist Completion & Steel.pdf",
           "F"
          ],
          [
           536807,
           "159 File 6301 M14.TIF",
           "F"
          ],
          [
           332398,
           "File 3214. F1. Kresge College Roof Repairs, Stair & Bath Repairs, Painting 1990 - Bidding - Correspondence.pdf",
           "F"
          ],
          [
           145740,
           "Santa Cruz_7145.1_McHenry_Block C_Form 1 R+C Report_20200305.pdf",
           "F"
          ],
          [
           145772,
           "Santa Cruz_7712_Porter College Apt Bldg F.pdf",
           "F"
          ],
          [
           744800,
           "Agenda_open items090110.doc",
           "F"
          ],
          [
           98893,
           "File 3701 S 22.TIF",
           "F"
          ],
          [
           329226,
           "File 3124 G 01.TIF",
           "F"
          ],
          [
           25000,
           "14134 scanned calcs.pdf",
           "F"
          ],
          [
           876090,
           "Vani 12600-111A.doc",
           "F"
          ],
          [
           939836,
           "Campus Response 3-31-14.pdf",
           "F"
          ],
          [
           13181,
           "File 1302-028.F8. Notice to Proceed.pdf",
           "F"
          ],
          [
           942301,
           "Bid Protest Letter to CRW re 3608-035 Rebid.pdf",
           "F"
          ],
          [
           329262,
           "File 3124 S 203.TIF",
           "F"
          ],
          [
           875035,
           "10070.F4.Addenda No. 1 6.1.07.pdf",
           "F"
          ],
          [
           311562,
           "2019-10-14 Structural Specs - MI Comments.pdf",
           "F"
          ],
          [
           536597,
           "File 6301 TR 105.TIF",
           "F"
          ],
          [
           886943,
           "LF_C01_Certification_Rev1-2-96.doc",
           "F"
          ],
          [
           145906,
           "Santa Cruz_7025_Village Housing C5.pdf",
           "F"
          ],
          [
           863555,
           "Bid Protest Response Letter to Knowlton.pdf",
           "F"
          ],
          [
           98837,
           "File 3701 M 01.TIF",
           "F"
          ],
          [
           939985,
           "Documents Posted to PlanRoom.zip",
           "F"
          ],
          [
           969644,
           "Door walk thru - notes f4.xls",
           "F"
          ],
          [
           610668,
           "File 9098C.F7.1 CTS_Bid_Protest_REBID_9098C_050218_ex.pdf",
           "F"
          ],
          [
           690262,
           "Structural Calculations.pdf",
           "F"
          ],
          [
           331895,
           "File 3209 A 11.TIF",
           "F"
          ],
          [
           942303,
           "CRW Bid Form for 3608-035.pdf",
           "F"
          ],
          [
           329370,
           "File 3124 G 1.TIF",
           "F"
          ],
          [
           734568,
           "1600-125.F8.1600-125 Cowell College Provost House Roof Repair.doc",
           "F"
          ],
          [
           145708,
           "santa-cruz_7921_social-sciences-2-north.pdf",
           "F"
          ],
          [
           98895,
           "File 3701 S 24.TIF",
           "F"
          ],
          [
           718988,
           "3701.F8.oaksCollege.Correspondance1.pdf",
           "F"
          ],
          [
           893379,
           "VC2 Memo.doc",
           "F"
          ],
          [
           536495,
           "File 6301 E 102.TIF",
           "F"
          ],
          [
           875839,
           "Hinson Attachment A.pdf",
           "F"
          ],
          [
           79747,
           "Barn H Structual Calculations.pdf",
           "F"
          ],
          [
           683182,
           "4931-001_e8.pdf",
           "F"
          ],
          [
           25779,
           "1500-033.F8. NTP Physical Education Facilities - East Field House Cage Enclosures.pdf",
           "F"
          ],
          [
           111329,
           "Utilities Requirements.pdf",
           "F"
          ],
          [
           536794,
           "146 File 6301 M1.TIF",
           "F"
          ],
          [
           849273,
           "4932 50CD Constructability Comments.xls",
           "F"
          ],
          [
           363544,
           "3608-010.F8 Executed Contract.pdf",
           "F"
          ],
          [
           501255,
           "File 5510-011 Brief Form Contract.pdf",
           "F"
          ],
          [
           537522,
           "6301-003.F5.Blueprint Batch #14, X-Section (1 of 6).pdf",
           "F"
          ],
          [
           871701,
           "3238.F7.1.Bid Package #17.5 Window Coverings.pdf",
           "F"
          ],
          [
           311555,
           "Concrete Column Design.pdf",
           "F"
          ],
          [
           477828,
           "Pre-Con Conference Agenda.doc",
           "F"
          ],
          [
           593412,
           "File 9054-002.F6 Pre-Bid Walkthrough Agenda.pdf",
           "F"
          ],
          [
           313784,
           "3042.F6.Agenda Notes for Porter Infil Apartments.tif",
           "F"
          ],
          [
           849190,
           "Part B Prequal Form Rev. A..pdf",
           "F"
          ],
          [
           681133,
           "Drawing Spec Review Comments.pdf",
           "F"
          ],
          [
           487372,
           "5315.F7.1.BidProtestAcknowledgement.pdf",
           "F"
          ],
          [
           712943,
           "File 2739 Glass Associates Building Alts 3 2-13-03.pdf",
           "F"
          ],
          [
           367798,
           "3701.F5.college 7 signal level monitoring  coms. bldg drawing specs..pdf",
           "F"
          ],
          [
           705606,
           "Pre-bid-agenda.doc",
           "F"
          ],
          [
           41252,
           "9001-001.pdf",
           "F"
          ],
          [
           962921,
           "8900-028_F1.8.pdf",
           "F"
          ],
          [
           329266,
           "File 3124 S 304.TIF",
           "F"
          ],
          [
           329275,
           "File 3124 T 302.TIF",
           "F"
          ],
          [
           682623,
           "3612-008_F1.1.pdf",
           "F"
          ],
          [
           329173,
           "File 3124 A 511.TIF",
           "F"
          ],
          [
           76255,
           "File 10039. F8. Contract Documents-Lick Shop Building A Expansion-March 1988.pdf",
           "F"
          ],
          [
           81497,
           "Cookhouse 50% CD Struct Calcs.pdf",
           "F"
          ],
          [
           329365,
           "File 3124 E 111.TIF",
           "F"
          ],
          [
           938981,
           "REQUEST TO HAVE A CONSTRUCTION CONTRACT WRITTEN v9 (6701-009A)(2).pdf",
           "F"
          ],
          [
           536761,
           "113 File 6301 A702.TIF",
           "F"
          ],
          [
           537526,
           "6301.F5 - Blueprint Batch #1, Recital Hall F.S Plan (3 of 6).pdf",
           "F"
          ],
          [
           681666,
           "2600-099_f1.7.pdf",
           "F"
          ],
          [
           942302,
           "Campus Response to Protest 3608-035 Rebid.pdf",
           "F"
          ],
          [
           683202,
           "4999-006_f1.1.pdf",
           "F"
          ],
          [
           329359,
           "File 3124 AV 100A.TIF",
           "F"
          ],
          [
           361752,
           "File 3504 F6 Cal-Neva Affirmative Action Program 07.19.95.pdf",
           "F"
          ],
          [
           613975,
           "Plainfield Response to protest.pdf",
           "F"
          ],
          [
           536533,
           "File 6301 M 016.TIF",
           "F"
          ],
          [
           536425,
           "63 File 6301 A 705.TIF",
           "F"
          ],
          [
           873026,
           "4505.F4.Plan Deposit Reciept Log.pdf",
           "F"
          ],
          [
           236227,
           "Descartes House Insp Addition.pdf",
           "F"
          ],
          [
           331939,
           "File 3209 S 05.TIF",
           "F"
          ],
          [
           883627,
           "6300-011 Certificate of Beneficial Occupancy.pdf",
           "F"
          ],
          [
           537575,
           "6301.F5 - X Section Details (5).pdf",
           "F"
          ],
          [
           887401,
           "Vani #3 10010.doc",
           "F"
          ],
          [
           536719,
           "071 File 6301 A321.TIF",
           "F"
          ],
          [
           883606,
           "22-05-06 APF UCSC Recital Hall OPC.pdf",
           "F"
          ],
          [
           439,
           "File 1400-084_Transmittal.pdf",
           "F"
          ],
          [
           98811,
           "File 3701 E 07.TIF",
           "F"
          ],
          [
           885679,
           "LF_C08_BidBond_Rev1-2-96.doc",
           "F"
          ],
          [
           536465,
           "003 File 6301 C 101.TIF",
           "F"
          ],
          [
           115804,
           "Visualizer_SCComp.rpt",
           "F"
          ],
          [
           75245,
           "009 File 10010 P2.6.TIF",
           "F"
          ],
          [
           744692,
           "Section 09110",
           "F"
          ],
          [
           844055,
           "6302.F7.pdf",
           "F"
          ],
          [
           942294,
           "3608-035 VC3 Memo.pdf",
           "F"
          ],
          [
           951113,
           "Lowest Bidder Correspondence 6.21.94.pdf",
           "F"
          ],
          [
           536202,
           "Mini Form 6300-007B.pdf",
           "F"
          ],
          [
           705837,
           "4015.F7.1.Sinsheimer Chiller 4 Rpl. letter to O.C. McDonald.doc",
           "F"
          ],
          [
           25326,
           "05 1500-027 ITB.pdf",
           "F"
          ],
          [
           41249,
           "20.06.25 EMAIL - Plumbing Shop Cathodic Projects.pdf",
           "F"
          ],
          [
           329374,
           "File 3124 M 601.TIF",
           "F"
          ],
          [
           954745,
           "C8 AG,BG Brief Form Data wb.xls",
           "F"
          ],
          [
           361182,
           "File 3502 F4 Plan Deposit Receipt No. 18193 and 18200.pdf",
           "F"
          ],
          [
           331883,
           "File 3209. F1.4. Kresge East Apartments Housing Addition - Phase 2 Rebid. Handicapped.pdf",
           "F"
          ],
          [
           943954,
           "Escrow in Lieu of Retention - WRP Building A & B Research Office Renovation.pdf",
           "F"
          ],
          [
           536499,
           "File 6301 FA 104.TIF",
           "F"
          ],
          [
           865,
           "1400-093.F6 Request for Contract.pdf",
           "F"
          ],
          [
           939805,
           "VC #3 9097C.doc",
           "F"
          ],
          [
           367848,
           "File 3701. VT227. Design Brownlines - Site Plan.pdf",
           "F"
          ],
          [
           536445,
           "83 File 6301 A 840.TIF",
           "F"
          ],
          [
           536732,
           "084 File 6301 A422A.TIF",
           "F"
          ],
          [
           740099,
           "6300-014 Music Center Survey & Repair Recommendations 20240308.pdf",
           "F"
          ],
          [
           25357,
           "1500-027.F10.17 1500-027 Selection of Retention Options.docx",
           "F"
          ],
          [
           536691,
           "043 File 6301 S401.TIF",
           "F"
          ],
          [
           536385,
           "36 File 6301 A 410.TIF",
           "F"
          ],
          [
           487374,
           "5315.F7.1.ContractorLicenseDetail.pdf",
           "F"
          ],
          [
           747084,
           "Bid Form 10-26-11.doc",
           "F"
          ],
          [
           1022324,
           "Pre-Bid_Conference.pdf",
           "F"
          ],
          [
           585785,
           "8884-009.F8 Mini Form.pdf",
           "F"
          ],
          [
           837374,
           "Pre-Bid Conference.pdf",
           "F"
          ],
          [
           536815,
           "167 File 6301 M105.TIF",
           "F"
          ],
          [
           720702,
           "8900-075.F8.Combined Executed Contract.pdf",
           "F"
          ],
          [
           720898,
           "13000-003.F8.PM Auth Entry BDSFM002.pdf",
           "F"
          ],
          [
           892888,
           "4.4.3 Changes-Additions to Drawings.pdf",
           "F"
          ],
          [
           739656,
           "4203.F2.23033 UCSC ADA PEER REVIEW - 2024-03-16 Comments Parking Review.pdf",
           "F"
          ],
          [
           536383,
           "34 File 6301 A 331.TIF",
           "F"
          ],
          [
           536394,
           "45 File 6301 A 426.TIF",
           "F"
          ],
          [
           871262,
           "SLD Submittal review Comments from UCSC.xlsx",
           "F"
          ],
          [
           145909,
           "Santa Cruz_7028_Village Housing C1.pdf",
           "F"
          ],
          [
           875835,
           "Notice of Protest to Alliance.doc",
           "F"
          ],
          [
           577775,
           "File 8347-015.F2 FM Review.pdf",
           "F"
          ],
          [
           329336,
           "File 3124 S 106B.TIF",
           "F"
          ],
          [
           742983,
           "05 8951B Instructions to Bidders.docx",
           "F"
          ],
          [
           702792,
           "10629.F4. Ad for bid.pdf",
           "F"
          ],
          [
           588400,
           "8937 F8 Contract.pdf",
           "F"
          ],
          [
           536819,
           "171 File 6301 P103.TIF",
           "F"
          ],
          [
           849166,
           "Letters to Advertisers for CM Prequalification 1.doc",
           "F"
          ],
          [
           536783,
           "135 File 6301 A831.TIF",
           "F"
          ],
          [
           849315,
           "110302.Response.100 SD Comments.xlsx FINAL.xlsx",
           "F"
          ],
          [
           536661,
           "013 File 6301 C105.TIF",
           "F"
          ],
          [
           259042,
           "2636.F6. Pre-bid Conference.pdf",
           "F"
          ],
          [
           682431,
           "3231_f1.1.pdf",
           "F"
          ],
          [
           686562,
           "File 3124. F5. Construction Documents-Improvements to Arts Facilities-February 1996.pdf",
           "F"
          ],
          [
           79743,
           "PP 100%CD Review Comments 01-14-05.pdf",
           "F"
          ],
          [
           536196,
           "Mini Form 6300-007.pdf",
           "F"
          ],
          [
           742075,
           "7603D - RFQ.pdf",
           "F"
          ],
          [
           146008,
           "Santa Cruz_7344_SH 317-323_Tier 1_R+C_20201029.pdf",
           "F"
          ],
          [
           98778,
           "File 3701 A 39.TIF",
           "F"
          ],
          [
           354685,
           "3238-002A Combined Executed Contract.pdf",
           "F"
          ],
          [
           975446,
           "1500-027 Funding Options (with estimates).pdf",
           "F"
          ],
          [
           332289,
           "3209-030.F8.NTP Kresge College - Redwood Grove Apartment 1211 Black Water Flood Remediation.pdf",
           "F"
          ],
          [
           861050,
           "03-31-09 Devcon_Lalanne 2.pdf",
           "F"
          ],
          [
           192306,
           "File 1810 Announcement to Pre-Qualified Subcontract Bidder.pdf",
           "F"
          ],
          [
           367822,
           "File 3701 A 09.TIF",
           "F"
          ],
          [
           536459,
           "File 6301 CCS 6.TIF",
           "F"
          ],
          [
           75241,
           "005 File 10010 P2.2.TIF",
           "F"
          ],
          [
           536797,
           "149 File 6301 M4.TIF",
           "F"
          ],
          [
           331885,
           "File 3209 A 01.TIF",
           "F"
          ],
          [
           891728,
           "lf_exhibits_toc.docx",
           "F"
          ],
          [
           98765,
           "01 File 3701 A 28.TIF",
           "F"
          ],
          [
           777468,
           "Settlement Agreement - UC 10.17 EMI Rev2023_11_15(83564102 (1).pdf",
           "F"
          ],
          [
           251832,
           "File 2635 Pre-Bid Conference 2-14-11.pdf",
           "F"
          ],
          [
           536321,
           "6301.F5.Blueprint Batch #6 - F.S Plan (3 of 6).pdf",
           "F"
          ],
          [
           145995,
           "Santa Cruz_7331_Family Student Housing F 15-17.pdf",
           "F"
          ],
          [
           536659,
           "011 File 6301 C103.TIF",
           "F"
          ],
          [
           940003,
           "Wulff Electric Bid Protest for 9098B .pdf",
           "F"
          ],
          [
           256345,
           "2635A.F6. Pre-Bid Conference.pdf",
           "F"
          ],
          [
           809179,
           "6900 30DPP1 Comments Weber TWO 9.18.14.xls",
           "F"
          ],
          [
           98844,
           "File 3701 M 08 Cogen Markups.pdf",
           "F"
          ],
          [
           537544,
           "6301.F5 - Blueprint Batch #4, F.S Plan (3 of 6).pdf",
           "F"
          ],
          [
           943018,
           "Permission to Solicit 8880-002A Memo.pdf",
           "F"
          ],
          [
           574799,
           "7603A.F2.7603A Plan Check Master.xls",
           "F"
          ],
          [
           863825,
           "3124.F1.Bid Advertisement Correspondence 12.14.96.pdf",
           "F"
          ],
          [
           861040,
           "03-10-09 Devcon_Lalanne.pdf",
           "F"
          ],
          [
           115749,
           "DRC-14 Phase.bak",
           "F"
          ],
          [
           863833,
           "3124.F1.Revenue Bond Process Correspondence 1.27.95.pdf",
           "F"
          ],
          [
           111321,
           "O2 concentration calcs.pdf",
           "F"
          ],
          [
           911736,
           "5205 Permission to Solicit Bids.pdf",
           "F"
          ],
          [
           98827,
           "File 3701 EAB-1.TIF",
           "F"
          ],
          [
           958174,
           "Notice of Selection.pdf",
           "F"
          ],
          [
           863827,
           "3124.F1.Bid Rejection Correspondence 5.7.96.pdf",
           "F"
          ],
          [
           741027,
           "2318-069B.F1.3.2 2318-069B information_available_to_bidders.docx",
           "F"
          ],
          [
           479882,
           "File 5303-024 C.Carmichael Email Re Oven Install Contract.pdf",
           "F"
          ],
          [
           891710,
           "LF_C08_BidBond_Rev1-2-96.doc",
           "F"
          ],
          [
           536639,
           "6301.F5. Record Set Audio Visual Sheets.pdf",
           "F"
          ],
          [
           683213,
           "4999-006_f8.pdf",
           "F"
          ],
          [
           612693,
           "12-6-2012 Baskin Crown Castle AT&T LTE Comments.xls",
           "F"
          ],
          [
           872279,
           "Letter from River City Bank re Escrow Account.pdf",
           "F"
          ],
          [
           684549,
           "8934_f1.7 (2).pdf",
           "F"
          ],
          [
           963486,
           "CB FS WT notes  f4.xls",
           "F"
          ],
          [
           883615,
           "6300-011 95CD Comments MD.xlsx",
           "F"
          ],
          [
           331919,
           "File 3209 E 02.TIF",
           "F"
          ],
          [
           705841,
           "5314.F7.1.Bid Protest to Mike Hinson.doc",
           "F"
          ],
          [
           990673,
           "1311-012.F6.AffirmativeAction.pdf",
           "F"
          ]
         ],
         "hovertemplate": "tag=%{customdata[2]}<br>umap_x=%{x}<br>umap_y=%{y}<br>file_id=%{customdata[0]}<br>filename=%{customdata[1]}<extra></extra>",
         "legendgroup": "F",
         "marker": {
          "color": "#565656",
          "line": {
           "width": 0
          },
          "opacity": 0.75,
          "size": 7,
          "symbol": "circle"
         },
         "mode": "markers",
         "name": "F",
         "showlegend": true,
         "type": "scattergl",
         "x": {
          "bdata": "Ra4Bv3Ck3j9YRxpA47EYP2VJBsCzBQ1ASPGpvlZRMEB3psW//wctv/OAGr8Gq/y/S0WxP3rJY0AY1MRAcHqyv+xuakAC0JS/JiG9P94H/z9qhis/5LfPvoC2g7/2eR9AZzAMQLOe3zzE2z1A7mtTQKOHZ0DdgZ4/SFWcvjg+gEDjy+y/7Y3Mvc6eHz/obZtAvBYYP+7Yzj9WAuC/G9QmQL9EoEBnAGe/ibwKQDZwAcDsfgLAuazAv/I0B8Brtde/ILwCQKMNib8OOLtA/OcKP5D0q76PWtm/aBWMP/Plkr/hZ3G/5juEQMiuxUDdvcc+IrICQJACS7/3K1FAQXzKv7LvRUDzw5q/vksHP9Wpzb9704a/9Q61QOoD473SeOW/B0v3v2pm3D7QgLq/+1FHQAQ1mb5JinhARNdqQG0Ep7/V+gJAGuFuQGfkpEC9NgE/NUQGQF4tR0CbFipAe8WDQC3uDz9M3khAUwczQCIwhz+15LtA9z7wv9X4vD9OuExAzSI9P5Gvsb85jhpAlYBTQFsRsD+BHJG/Kq5IQLeNN0CeGuC/7wbNv+V4hECB8zJAtt8GwFGSGEBd8PG/4+D3P8JfukCpT8RAX3YKQLNX0b8odMC/XsUOQN6PhUBc2UlAZTd0QLu0f0DI9Q+/E1UuQG3Wwz/2wOA+Z4H6P87nxEDYo0ZAZgaKvrpTkkC8ajZAkM5IQF3ObL3DSca/0NbOQDLivL9TB1NAqKfFQDQEAMCiRVFA36QxQA74ID/3b09AvGs4QKQ88z/0W2RAc9vUP5Ni67+PrD9AqaCrQHpHbEC1m/S/2YFWQD/Jtz+toHlAocEdQI8PikBJZBZAZte4P1Jr+D7yMti/K/zsv68hjUA4Ta6/CRyzQN5aR77UqOk9KC4aP/qc2b9IZ61AwPGlvuMRyL+HOBlAYXhQvzs80r8E1CZA9denQL9Z9T6kC9y/5Pyxv/+iFz/c1bQ/2N2evwfbur82Ifo/pkO4v1B5Az0eFuy/+8/1P35j+7/ZcQi/oxgEPyyp9r9z+kJAFk6qv12ekT9of1m/RLraP/RhkkBNppJAuS1MQERWXEC5nbU/TPkpQJWsJT9LQPe/dh1CQAbyob/i0oVA56atQFgsyb/JPChAgv0LQHD8u79jEs+/mu/Jv2YVBMC9gQ9Atm/Qvx2Y2r6BlC9AvWtJQLlCnb9sSwtAPWpUQFcpdj45E0VA9xoPQKpfEEBZF5NAVL/1v1RnIr8PmiJAEsXEQNzBLEDcXze/N+mJvkQTF0B9aZhA/NqTv9l3uL8dH9JA8Ihbvs/jjUAu1+U/5t1hQBhgoEBM7htAdV1RQEs6rkA21dZAwl3FQFiLBMDt5TVAUCkyQO22Y0BIg0tAzGwsQItVWr1o0O+/jLT4Pw0y9L/sK/O+VZsUQBb4RL7wklhAsFdqQDgZAMC5cMVAMfdCQLiGQkCR4VFA+OgcQGiFA8ARdvW/dFKMQA3LLUBUGIhA7UxSQLyWSr5xPZZApwUbQHrHhkANu7+/s0ZMQKoxmUCTmwlATx12QKnYPkDAC84+7VBVQKZoIkD1iL1A1iorQDxaN0AdUkRAWGIoP1RwEz8nXRVA",
          "dtype": "f4"
         },
         "xaxis": "x",
         "y": {
          "bdata": "UI3VPFBmk0DM/5Y/Ub+hQLa/0kAwvCNA9SmjQJZ/sj+pbb9ASqf+QHt1m0CJQ8tAY8ibQL8mMD/iGYQ/W7m+QOG/kT5i5LNAo+NTQJXAPkCLd6dArOoWPx4Ds0BOJl8+d3QhQJwYgUCFjMpAjFY4P+O0KD9Cj1lAVPWfQA6qDEA/jNxAH96fQA41p0Bi0BhAUvSTQHA9tECSKYVAJIOQPyVty0BXo11AAH1DvzvFyUD5WtNA4dyHQModUkBth8ZA94pCQAxyh0A6t54/rASbQHnBoEDTccJAD8ujQErMPkAXKGtAet8DQPaWgz9w+qFAd52TQEScQkA9Oz4/qPDDQBM01j9uybhAAh6PQOn7xkB+LLxA5hmuPzUEhEAkjcNAf+7HQDwQp0CWPaZAqYOGQOOaAz9oMx5AEtEvP5tSw0Dyk4RAtRBbP8KUxkAgNo1AF3CqQB/Wi0C1u929c1zpPzeqqUCtYmm9piTmP/MH1UAeRZ8/+iUyQJ/qQ0Ak0ds/iYSeQPtRykAxP4Q/4tX3P7PCdUCYwrdAlJPvP5QHyUDCOsdA59rCQJGvsj8ASXA/BOTSQIsMDUB78odA3s85QCcKoT/B14Y/9nEsQF0ZyECqWcVAd69lQC/U0D/f/lE/+L2FP+je8D8leaNAu3Z8Pxf9YUCxQKdA5e9RQOtlhT9UBjI/lMeTQJS5n0C4CMtAFckWP5OPlkD6i8ZApNEhQIUciUCR8Tc/YUyDP+J/0UCi7gdATpa0P9CnpUAN20Y//qtHQNuTlUAkIRA/foqjQNYylED9rYtAi0DJP9STfD9rvdZAb18HQBs9a0B+ByFAmPiFP5ZFLEBaTGU+UeufQH66UkAGE7RANxLXQE0+YECqjsdAs5ESQOz8oEDUhqJASl+JQOCHkEAMPOA/N9qfQHUTykBElYM/ykO0QDGey0D1pJY/UdbvP0FmVkA9y4pA/QuxQEUyikAGk6JAy6W2QDzPtkDBU1RAw0G4QMZiib/OAtZAs0ZyQJhPx0C8RuxAvJWPQBW3x0C9RRM//2/DQFSTs0A4Pr5AyH2BQFU2A0CRkoc/IPUnP+JDUD+f8XxAhbiOP7kNokCqLM5AtMnEQByqnEATKSxAx4PcPybt1ED6U7g/FzpxQBfBwUBHiMpAaTnLQPodWUB60Ks+ojXFQCYWo0BYvQ++4mY4P6nIkUDHBk8/1fwRQAOLo0CL5F0/myyQv/45JUAri1dAIJHHQA9XpkCj1LNAeRKGPx6X0j8kkJe+WYKaQKuyKT+mopY/fvW4QIK7SkDo/ihAzq6dQOhUKEDtHJJA4yMhQIw7y0B9I66/PEIOQKsy5T+FCnRAnkmEP8eDz0DUFGw/XUK1P9g9PT9iZQxArDCbP/lBhkBOjm1A+r59QCC/jkDElqRAo9dCPw5IjUAb/JW7Ac+vP5pH0EAUBIE/H4qFQNM3QT+cPSBAYZqsQOjf0UASUtJA43SiP3T0wUDqhfo/cvALQCAb5UBVVss/2J6gQL8gJz/e075A0Bg4PyTtCkBOFx4/IJJlQB07Hj87TaRAzVo1P9BbtkD0hCZAilqUP7zsyUAuWMxAb4KhQNl7V0Cf5UM+",
          "dtype": "f4"
         },
         "yaxis": "y"
        },
        {
         "customdata": [
          [
           310596,
           "Dining Expansion RFQ Interview Invite Letter Steinberg.pdf",
           "C"
          ],
          [
           337652,
           "1-Kresge Cvr Ltr Geotech Consult__01.docx",
           "C"
          ],
          [
           781696,
           "File 4801 DCA #2 2-25-83.pdf",
           "C"
          ],
          [
           583883,
           "Auth #BDBOW013.pdf",
           "C"
          ],
          [
           589966,
           "8591B.C2.3 BUTCSR1 - Invoice 6-21-16.pdf",
           "C"
          ],
          [
           544803,
           "File 6602 Agreement Transmittal.pdf",
           "C"
          ],
          [
           753021,
           "a_Master executed cover letter.doc",
           "C"
          ],
          [
           917264,
           "File 6201 C1.1 Firms Selected for Further Consideration 08.23.91.pdf",
           "C"
          ],
          [
           589971,
           "8591B.C2.3 SDBKFCS1 - Invoice 8-16-16.pdf",
           "C"
          ],
          [
           310707,
           "Dreyfuss + Blackford SOQ.pdf",
           "C"
          ],
          [
           752926,
           "Exhibit E_updated.doc",
           "C"
          ],
          [
           274420,
           "File 2732 GHW Bid #99-105.pdf",
           "C"
          ],
          [
           755311,
           "EXECUTIVE DESIGN PROFESSIONAL AGREEMENT.doc",
           "C"
          ],
          [
           381430,
           "chapter_5.pdf",
           "C"
          ],
          [
           703306,
           "9800-010.C1.1.2020 07 20 DLWALWS1 - June 2020.pdf",
           "C"
          ],
          [
           41117,
           "04 File 4932 Addendum Geotechnical Report.pdf",
           "C"
          ],
          [
           652,
           "1400-093A.C1.2.S Tech Consoluting Asbestos Survey Proposal - Thimann Lab, UCSC.pdf",
           "C"
          ],
          [
           890779,
           "Auth #JANCYC01-R1.pdf",
           "C"
          ],
          [
           703320,
           "9800-010.C2.1.2019 07 25 CWU012 - Invoice - signed.pdf",
           "C"
          ],
          [
           753378,
           "6701.C1.1.R.L Binder F.A.I.A.pdf",
           "C"
          ],
          [
           689325,
           "10057.C1.2.Afshar-Steve.pdf",
           "C"
          ],
          [
           577006,
           "File 8341-009.C1.3. Agreement.pdf",
           "C"
          ],
          [
           716827,
           "BarnG.jpg",
           "C"
          ],
          [
           953032,
           "10626.C2.2.10626(C) Huntsman PSA Letter (HUNDEL) 2.doc",
           "C"
          ],
          [
           472768,
           "4999-007.C2.3.4999-008.C2.3Agreement.pdf",
           "C"
          ],
          [
           759428,
           "File 1639 C1.2 Correspondence with Joseph Mullinix 5-31-2001.pdf",
           "C"
          ],
          [
           337658,
           "Kresge  Interview Evaluation_FINALFINAL.xlsx",
           "C"
          ],
          [
           711035,
           "L8,L9 - RND.PDF",
           "C"
          ],
          [
           614931,
           "9802.C2.2.correspondenceC.2.2.pdf",
           "C"
          ],
          [
           1016534,
           "EHDD Architecture Authorization - EHDMASE1-R3.pdf",
           "C"
          ],
          [
           133621,
           "File 11100 City Planning Services Invoice 2-6-73.pdf",
           "C"
          ],
          [
           381407,
           "appendix_3_5.pdf",
           "C"
          ],
          [
           363387,
           "File 3608 Services Rendered 5-21-75.pdf",
           "C"
          ],
          [
           397717,
           "4932 50CD Comments.pdf",
           "C"
          ],
          [
           137321,
           "File 12012-001.C1.1 Gensler Award Letter.pdf",
           "C"
          ],
          [
           769870,
           "5500-009.C2.3.Service Department Information and Agreement Form.pdf",
           "C"
          ],
          [
           271748,
           "File 27000-001 Partial Plan; Estimate.pdf",
           "C"
          ],
          [
           861005,
           "File 6701 Pacific Crest Engineering.pdf",
           "C"
          ],
          [
           73263,
           "10000-024.C2.2.campus ada plumbing alterations phase 2 correspondence.pdf",
           "C"
          ],
          [
           711050,
           "toastr.js.download",
           "C"
          ],
          [
           235773,
           "DSTNCR06 - 33414.pdf",
           "C"
          ],
          [
           235687,
           "File 2358 2638.C1.1 IBI Presentation.pptx",
           "C"
          ],
          [
           110907,
           "Gordon Prill Submittal-2300 Delaware Bldg C.pdf",
           "C"
          ],
          [
           381446,
           "appendix_b_transit_analysis.pdf",
           "C"
          ],
          [
           755318,
           "General Conditions.doc",
           "C"
          ],
          [
           536266,
           "Antoine Predock SOQ.pdf",
           "C"
          ],
          [
           544805,
           "File 6602 Contract for Services Transmittal.pdf",
           "C"
          ],
          [
           703324,
           "9800-010.C2.1.2020 06 29 DUDWSM01 May 2020.pdf",
           "C"
          ],
          [
           235718,
           "CrownC MM ADA FULL RFQ.pdf",
           "C"
          ],
          [
           98004,
           "InfillExt. Interview Instructions.doc",
           "C"
          ],
          [
           971485,
           "1440.C1.2.Glass Associates PSA Cover Letter (GLASOC).doc",
           "C"
          ],
          [
           73376,
           "10000-025.C2.2.campus ADA alterations phase 3 thimann labs 3rd floor restrooms plan correspondence.pdf",
           "C"
          ],
          [
           110897,
           "File 10637.C1.1 HOK Invitation to Interview.pdf",
           "C"
          ],
          [
           703416,
           "9800-010.C2.1.2020 01 17 9800-010 Request to have Project Bid.pdf",
           "C"
          ],
          [
           330656,
           "File 3200-129.C1.1 Kresge 921.docx",
           "C"
          ],
          [
           865015,
           "4910.C1.2.Schematic & Iron Works & Rebar Shop Transmittal 12.15.76.pdf",
           "C"
          ],
          [
           687248,
           "3505.C1.3.Office of Cheryl Barton PSA (3505).pdf",
           "C"
          ],
          [
           310542,
           "Porter and Carson Dining Phase 1&2_RFQ_AD_Draft.pdf",
           "C"
          ],
          [
           72021,
           "4 ECIApts Project Team In 2.doc",
           "C"
          ],
          [
           246506,
           "File 2625 Authorization to Perform Services- Minardi.pdf",
           "C"
          ],
          [
           45069,
           "Miyamoto - Structural Engineering Svcs for Rachel Carson Peer Review 2.pdf",
           "C"
          ],
          [
           364920,
           "File 3619 C1.2 Interview Invitation to CAW Architects 11.05.13.pdf",
           "C"
          ],
          [
           163589,
           "CM_A03_EDPA_EXHIBIT_L_ProjectSchedule_Rev5-2-03.dot",
           "C"
          ],
          [
           235707,
           "2358 RFQ Interview Invite Letter TEF.pdf",
           "C"
          ],
          [
           703326,
           "9800-010.C2.1.21.02.26 Dudek_DUDWSM01 - October 2020.pdf",
           "C"
          ],
          [
           311043,
           "exhibit_AB_PW_1819.pdf",
           "C"
          ],
          [
           589965,
           "8591B.C2.3 BUTCSR1 - Invoice 5-05-16.pdf",
           "C"
          ],
          [
           769695,
           "7601.C1.2.7601 (C) Jones & Stokes PSA  Cover Letter (JONERC).doc",
           "C"
          ],
          [
           583873,
           "8880-002A.C1.2 Letter from Nathan Wood (in Regards to Seams).pdf",
           "C"
          ],
          [
           950929,
           "BOWCUO01- R1.pdf",
           "C"
          ],
          [
           282745,
           "File 2806.C1.2.pdf",
           "C"
          ],
          [
           381386,
           "section_3_4_geotechnical_soils.pdf",
           "C"
          ],
          [
           902019,
           "3048.C1.3.3048(C) Nova Partners PSA (NOVPOR).doc",
           "C"
          ],
          [
           790229,
           "File 4932.C1.1 List Firms Submitting RFQ.pdf",
           "C"
          ],
          [
           741125,
           "2603-015.C1.2.Project Number Request Template - Merrill Provost Cooktop.docx",
           "C"
          ],
          [
           831011,
           "File 9069 CMC Bid 3-21-08.pdf",
           "C"
          ],
          [
           364921,
           "File 3619 C1.2 Interview Invitation to Goring & Staja Architects 11.05.13-EXAMPLE.pdf",
           "C"
          ],
          [
           235708,
           "File 2358.C1.1.Aetypic SOQ.pdf",
           "C"
          ],
          [
           381426,
           "chapter_4.6.pdf",
           "C"
          ],
          [
           334178,
           "1656 Kresge College Renovation Feasibility Study RFS.pdf",
           "C"
          ],
          [
           703312,
           "9800-010.C2.1.2020 06 29 BUTCTS02 May 2020.pdf",
           "C"
          ],
          [
           467372,
           "ECI added planting work.pdf",
           "C"
          ],
          [
           956697,
           "2019 Pacific Crest Std Fee Schedule UCSC - January 1, 2019.pdf",
           "C"
          ],
          [
           790228,
           "File 4932.C1.1 List Firms Requesting RFQ.pdf",
           "C"
          ],
          [
           235844,
           "Auth DSTNCR16.pdf",
           "C"
          ],
          [
           910572,
           "File 4925 Service Proposal, SD thru Construction.pdf",
           "C"
          ],
          [
           307258,
           "3915_001.pdf",
           "C"
          ],
          [
           753541,
           "10000-238.C1.3.10000-238 Glass Associates, Inc. Authorization# GLA036.pdf",
           "C"
          ],
          [
           381438,
           "13. SFSU Final EIR Chapter 6.pdf",
           "C"
          ],
          [
           235874,
           "Tree Protection Notice Template.pdf",
           "C"
          ],
          [
           874064,
           "5506-030.C2.3.Gutter Replacement Consulting Agreement.pdf",
           "C"
          ],
          [
           256500,
           "File 2636 Preconstructio Services Proposal 4-10-13.pdf",
           "C"
          ],
          [
           93318,
           "File 10070.C1.2 Forell-Elsesser Exec Engineer Selection.pdf",
           "C"
          ],
          [
           769681,
           "5314.C1.2.5314 (C) Simpson Gumpertz & Heger Inc. PSA & Amendment Letter (SGHWAT).doc",
           "C"
          ],
          [
           337638,
           "Ad for geotech.doc",
           "C"
          ],
          [
           703323,
           "9800-010.C2.1.2020 04 27 Auth DUDWSM01 - signed.pdf",
           "C"
          ],
          [
           246505,
           "File 2625 Preliminary Engineering Report #1.pdf",
           "C"
          ],
          [
           337664,
           "Langan_ER Description.pdf",
           "C"
          ],
          [
           73257,
           "10000-024.C1.1.campus ada fountain drink quotation.pdf",
           "C"
          ],
          [
           232495,
           "1-021916-HYT Proposal for UCSC Dorm Fire Alarm Design.pdf",
           "C"
          ],
          [
           769702,
           "7601.C1.2.7601(C) Dynamic Consultants PSA Cover Letter (DYNERC).doc",
           "C"
          ],
          [
           282738,
           "File 2806 C1.1 Hawley Peterson & Snyder Architects SOQ.pdf",
           "C"
          ],
          [
           381388,
           "section_3_7_land_use_and_planning.pdf",
           "C"
          ],
          [
           381441,
           "5. SFSU Final EIR Chapter 4-Comment Letters 01 thru 03.pdf",
           "C"
          ],
          [
           16574,
           "HABS Cowell Lime Works Hay Barn.pdf",
           "C"
          ],
          [
           944658,
           "File 3048.F8 Authorization to Perform Professional Services Anshen + Allen 12-2-09.pdf",
           "C"
          ],
          [
           790655,
           "32 15 40 aggregate paving spec 4933 95CD Specifications.pdf",
           "C"
          ],
          [
           93310,
           "File 10070.C1.1 General Contract Info.pdf",
           "C"
          ],
          [
           83099,
           "Degenkolb Engineers.pdf",
           "C"
          ],
          [
           755364,
           "EDPA Reg Agency Approvals .doc",
           "C"
          ],
          [
           368550,
           "3705-002.C2.2.Correspondence with Other Consultants.pdf",
           "C"
          ],
          [
           944607,
           "A&A DPANS002-R7.pdf",
           "C"
          ],
          [
           703336,
           "9800-010.C2.1.2019 05 15 Ifland Survey Proposal.pdf",
           "C"
          ],
          [
           585778,
           "File 8884-008.C2.3. Video Voice Agreement.pdf",
           "C"
          ],
          [
           485100,
           "File 5303-038.C2.3. Agreement.pdf",
           "C"
          ],
          [
           329052,
           "Version C 1997.pdf",
           "C"
          ],
          [
           912807,
           "Cosco Quote - Rachel Carson Bid 18-118_2018-06-25.pdf",
           "C"
          ],
          [
           310731,
           "PSA_for_CHES_Dining_SBE Certification Form-Mithun.pdf",
           "C"
          ],
          [
           753611,
           "3232.C2.2.3232 Reel Grobman & Associates PSA (DPREE) Vani Letter.doc",
           "C"
          ],
          [
           311047,
           "UCSC_Rachel_Carson_Dining_052419.pdf",
           "C"
          ],
          [
           769745,
           "11408.C1.2.Bay Area Economics_1 yr extension Cover Letter.doc",
           "C"
          ],
          [
           363374,
           "File 3608 Agreement 000130 10-16-74.pdf",
           "C"
          ],
          [
           614639,
           "File 9800-005.C2.3. Authorization #BUT006.pdf",
           "C"
          ],
          [
           864044,
           "4910.C1.2.Strcuto-Lite Drawing Transmittal 4.18.77.pdf",
           "C"
          ],
          [
           963064,
           "LSSAEFT1.pdf",
           "C"
          ],
          [
           310959,
           "UCSC Rachel Carson Dining -Furniture Proposal 07122019.pdf",
           "C"
          ],
          [
           831612,
           "File 9097.C1.1 RFQ Letter.pdf",
           "C"
          ],
          [
           310650,
           "160419_KRESGERFQ_FINALLETTER_STUDIOGANG_WEISENTHAL.doc",
           "C"
          ],
          [
           971121,
           "Amendment 1 (2).pdf",
           "C"
          ],
          [
           805149,
           "File 6801 Re- Access Road Investigation 3-11-09.pdf",
           "C"
          ],
          [
           492201,
           "File 5507 C2.2 Copy of Latest Fee Schedule 08.04.97.pdf",
           "C"
          ],
          [
           492202,
           "File 5507 C2.2 Craig Bailey Architect Acoustic Consulting 05.15.98.pdf",
           "C"
          ],
          [
           1007870,
           "June Letter Responses.pdf",
           "C"
          ],
          [
           754236,
           "11408.C2.2.Bay Area Economics PSA Cover Letter (BAELRD).doc",
           "C"
          ],
          [
           310618,
           "2_Ad for Arch Serv Master.pages",
           "C"
          ],
          [
           310703,
           "Porter Schedule.jpg",
           "C"
          ],
          [
           274429,
           "File 2732 Revised Consultant Proposal Lee+Assoc. 04.16.99.pdf",
           "C"
          ],
          [
           902016,
           "3048.C1.2.3048 (C) Pacific Crest PSA Cover Letter (PCEPOR).doc",
           "C"
          ],
          [
           41260,
           "PSA.pdf",
           "C"
          ],
          [
           917270,
           "File 6201 C1.1 List of Exec Architects Selected for Architectural Services.pdf",
           "C"
          ],
          [
           362745,
           "File 3600-003 Blu Green Features.pdf",
           "C"
          ],
          [
           1007873,
           "Staff Changes Correspondence.pdf",
           "C"
          ],
          [
           310571,
           "porter college sketch3.pdf",
           "C"
          ],
          [
           944736,
           "Porter A - EDPA CM at Risk Version.pdf",
           "C"
          ],
          [
           729506,
           "File 2638.C2.3. Authorization #CTW012-R3.pdf",
           "C"
          ],
          [
           472953,
           "5100.C2.3.indepentConsultantAgreement.pdf",
           "C"
          ],
          [
           865222,
           "4901.C2.2.Fencing of Marine Site Recommendation Correspondence 12.10.74.pdf",
           "C"
          ],
          [
           133616,
           "File 11100 Agreement No. 000032.pdf",
           "C"
          ],
          [
           546197,
           "File 6630 Richard Coen Resume.pdf",
           "C"
          ],
          [
           536115,
           "File 6300 Rutherford Chekene Authorization Engineering Services.pdf",
           "C"
          ],
          [
           543884,
           "6600-002.C2.2 Contractor Correspondence 3.pdf",
           "C"
          ],
          [
           397305,
           "EXHIBIT A.pdf",
           "C"
          ],
          [
           472928,
           "5100.C1.2.CommunicationHarryJohnDutton.pdf",
           "C"
          ],
          [
           310588,
           "CHES Dining Expansion Services Project.docx",
           "C"
          ],
          [
           472934,
           "5100.C1.2.CowellKitchenConversionInterimCommissary.pdf",
           "C"
          ],
          [
           45929,
           "Basement.pdf",
           "C"
          ],
          [
           790664,
           "invoice 1355 - 1383_001.pdf",
           "C"
          ],
          [
           337640,
           "Geotech scope of work for construction inspection.docx",
           "C"
          ],
          [
           759432,
           "File 1639 C1.2 EDPA Fee Reconciliation Correspondence 7-12-2001.pdf",
           "C"
          ],
          [
           913403,
           "5707.C2.2.Faculty and Staff Housing.pdf",
           "C"
          ],
          [
           865012,
           "4910.C1.2.Granite Mix Transmittal 12.16.76.pdf",
           "C"
          ],
          [
           544799,
           "File 6602 Agreement No. 000013.pdf",
           "C"
          ],
          [
           487536,
           "File 5404 and 6401 C1.1 Notice ENVS Bldg Conversion to ISB for Architect Selection 06.06.97.pdf",
           "C"
          ],
          [
           381400,
           "appendix_312_revised.pdf",
           "C"
          ],
          [
           956702,
           "UCSC Dining_LEED-Title 24 Cx Proposal_2020-01-03.pdf",
           "C"
          ],
          [
           547152,
           "File 6639 Hamilton Site Development Engineer Appointment.pdf",
           "C"
          ],
          [
           544801,
           "File 6602 Agreement No. 000183.pdf",
           "C"
          ],
          [
           703322,
           "9800-010.C2.1.20.10.21 Dudek_DUDWSM01_Inv 202007573.pdf",
           "C"
          ],
          [
           917295,
           "6201.C1.2.Nova Partners PSA Cover Letter 2003.doc",
           "C"
          ],
          [
           944732,
           "Porter A - EDPA CM at Risk 6-18-09.doc",
           "C"
          ],
          [
           73264,
           "10000-024.C2.2.Campus ADA plumbing alterations phase 2 drinking fountain water shutdown telephone correspondence.pdf",
           "C"
          ],
          [
           381391,
           "section_6_0_growth_inducement.pdf",
           "C"
          ],
          [
           310540,
           "Attachment B revised per Addendum 1.pdf",
           "C"
          ],
          [
           752820,
           "Exhibit A_updated 1-10-11.pdf",
           "C"
          ],
          [
           790681,
           "invoice 2832.pdf",
           "C"
          ],
          [
           337667,
           "PacificCrest_Geo Physiscs Report July 2018.pdf",
           "C"
          ],
          [
           712913,
           "File 2739 RFD Proposal for Lab Building Desing Services.pdf",
           "C"
          ],
          [
           381306,
           "File 4101A.C2.3. Authorization #DMILEHS6.pdf",
           "C"
          ],
          [
           754391,
           "4202.C1.3.MAFHEL01-R2 - Auth.pdf",
           "C"
          ],
          [
           950789,
           "BOORA Architects, Inc 1993-2001.pdf",
           "C"
          ],
          [
           310598,
           "Dining Expansion RFQ Interview Invite Letter Studio Ma .pdf",
           "C"
          ],
          [
           589950,
           "8591B.C2.3 - Authorization to Perform Professional Services.PDF",
           "C"
          ],
          [
           942820,
           "UCSC_WRP_16037-010_MarkCavagnero[1].pdf",
           "C"
          ],
          [
           956445,
           "UC Santa Cruz Mail - CMAR stuff_(1).UC Santa Cruz Mail - CMAR stuff.pdf",
           "C"
          ],
          [
           934350,
           "PRO 3 E UCSC Biomed Fire Alarm System Upgrade (1).pdf",
           "C"
          ],
          [
           969539,
           "GAYMCR04.pdf",
           "C"
          ],
          [
           133631,
           "File 11100 City Planning Services Invoice 9-10-73.pdf",
           "C"
          ],
          [
           310580,
           "Dining Interview matrix.pdf",
           "C"
          ],
          [
           965067,
           "VICINITY.tif",
           "C"
          ],
          [
           97998,
           "Infill.PMServicesAward.ltr.Bogard.pdf",
           "C"
          ],
          [
           381414,
           "chapter_2.pdf",
           "C"
          ],
          [
           902017,
           "3048.C1.2.3048 (C) SCA Environmental PSA Cover Letter (SCAPRA).doc",
           "C"
          ],
          [
           790224,
           "File 4932.C1.1 Gensler Letter Unsigned.pdf",
           "C"
          ],
          [
           536190,
           "WJE, 5-20-15, Leak Test Locations attachment.pdf",
           "C"
          ],
          [
           1030589,
           "BDYOU028.pdf",
           "C"
          ],
          [
           1021696,
           "ESH063.pdf",
           "C"
          ],
          [
           832194,
           "4843.C2.2.Bret Caton's Files Family Student Housing Correspondance.pdf",
           "C"
          ],
          [
           310682,
           "171114_KRESGE_TEAMSUMMARYSHEET.pdf",
           "C"
          ],
          [
           541599,
           "UCOP Approval Zwart - Vani",
           "C"
          ],
          [
           703309,
           "9800-010.C2.1.20.07.23 BUTCTS02 - June 2020 2.0..pdf",
           "C"
          ],
          [
           917290,
           "6201.C1.2.Berryman Henigar PSA Cover Letter (BERPSB).doc",
           "C"
          ],
          [
           337648,
           "1-Kresge Cvr Ltr Geotech Consult.docx",
           "C"
          ],
          [
           726188,
           "6300-015.C1.3.39094-Proposal_UCSC_Music_Bldg_Boiler_Study-SL.pdf",
           "C"
          ],
          [
           576334,
           "File 8300-029.C1.3. T. Boyd Construction Agreement.pdf",
           "C"
          ],
          [
           942830,
           "10637-010_RFQ_MASTERARCH_LETTER_Cannon.pdf",
           "C"
          ],
          [
           381397,
           "appendix_1.0.pdf",
           "C"
          ],
          [
           580247,
           "8500-047.C1.2.Opinion of probable Cost - Materials Testing Services.pdf",
           "C"
          ],
          [
           865223,
           "4901.C2.2.Planning Documents Correspondence 12.2.74.pdf",
           "C"
          ],
          [
           337671,
           "2018 Pacific Crest Std Fee Schedule - June 1 2018.pdf",
           "C"
          ],
          [
           970025,
           "Gordon Prill Auth GORDBC18 WRP - C0171 BSL-2 Teaching & Remote Work Lab - Pre-Design Services.pdf",
           "C"
          ],
          [
           703338,
           "9800-010.C2.1.2019 05 21 PSA - Yeh.pdf",
           "C"
          ],
          [
           43852,
           "ESS001.pdf",
           "C"
          ],
          [
           755320,
           "LF.GEN.COND 07-15-02.dot",
           "C"
          ],
          [
           805103,
           "East Infill Program Spread Sheet 7-15-08.xls",
           "C"
          ],
          [
           274424,
           "File 2732 P2-2 & Pwr Req Questions.pdf",
           "C"
          ],
          [
           517310,
           "File 5900-012 Apartment 111 Plumbing Repairs.pdf",
           "C"
          ],
          [
           769680,
           "5201.C1.3.5201 (C) Cogent Energy PSA (COGEMB).doc",
           "C"
          ],
          [
           809110,
           "File 6900. C1.1. TWBTA.InviteLetter.FINAL.doc",
           "C"
          ],
          [
           337649,
           "1-Kresge Cvr Ltr Geotech Consult__02.docx",
           "C"
          ],
          [
           809510,
           "7116.C2.C2.3 7116 Adaptive optics laboratory.pdf",
           "C"
          ],
          [
           720654,
           "3111-024.C1.3.Young Eng. - EDPAL - PAC - Baskin VA Bldg M Replace AHU Terminal.pdf",
           "C"
          ],
          [
           235854,
           "File 2358.C1.3. Authorization #DSTNCR12.pdf",
           "C"
          ],
          [
           769705,
           "1639.C1.2.Multiple.phases. notification letter rev_dk.doc",
           "C"
          ],
          [
           472941,
           "5100.C1.2.KitchenStudyHarryJohnDuttonCentralCommissaryUnit1.pdf",
           "C"
          ],
          [
           831010,
           "File 9069 CMC Bid 3-21-08 (2).pdf",
           "C"
          ],
          [
           720655,
           "8800-030.C1.3.TL Engineering EDPAL for Campus PL 127 & Trnst Yard Top Coat and Stripping.pdf",
           "C"
          ],
          [
           78252,
           "10062.C2.2.UBP201901180454.pdf",
           "C"
          ],
          [
           110945,
           "CPI-UCSC.doc",
           "C"
          ],
          [
           755293,
           "SFM EDPA Cover Letter.doc",
           "C"
          ],
          [
           360343,
           "VillagesDoorAndShowerProposal.pdf",
           "C"
          ],
          [
           864010,
           "4910.C1.2.Progress Report Correspondence 1.26.78.pdf",
           "C"
          ],
          [
           976308,
           "GUT2401.pdf",
           "C"
          ],
          [
           310625,
           "Advertising RFQs procedure.doc",
           "C"
          ],
          [
           381368,
           "Dudek Proposal.pdf",
           "C"
          ],
          [
           42998,
           "CRPLRP07.pdf",
           "C"
          ],
          [
           577809,
           "8347-4-1.C1.2.Amended Stop notice.pdf",
           "C"
          ],
          [
           472921,
           "5100.C1.2.AlterationToCowell&CrownKitchensForInterimCommissarryCorresspondenceC1.2.pdf",
           "C"
          ],
          [
           310664,
           "171120_KRESGERFQ_FINALLETTER_STEINBERG.doc",
           "C"
          ],
          [
           955144,
           "Amendment 2.pdf",
           "C"
          ],
          [
           328593,
           "File 3111 DCA #1.pdf",
           "C"
          ],
          [
           978218,
           "Autho MON2501 4204.pdf",
           "C"
          ],
          [
           587918,
           "File 8924.C1.3 Auth for Stephanie Strelow to Perform Professional Services 02.22.91.pdf",
           "C"
          ],
          [
           282751,
           "file 2806 C2.1 Construction Testing SOQ.pdf",
           "C"
          ],
          [
           545098,
           "6606.C2.2.administrative approval construction and planning chancellor fire protection correspondence.pdf",
           "C"
          ],
          [
           273952,
           "File 2731 Authorization Cost Estimating Services 8-20-96.pdf",
           "C"
          ],
          [
           1007854,
           "Academic Staff Directory 1.6.69.pdf",
           "C"
          ],
          [
           282754,
           "File 2806 C2.1 D&M SOQ.pdf",
           "C"
          ],
          [
           754299,
           "4016.C1.2.Central Pacific Engineering PSA Cover Letter (CPESIN).doc",
           "C"
          ],
          [
           703314,
           "9800-010.C2.1.21.04.02 Butano_BUTCTS02_Inv 5317.pdf",
           "C"
          ],
          [
           381447,
           "appendix_c_shadow_study.pdf",
           "C"
          ],
          [
           472930,
           "5100.C1.2.CorrespondanceInterimCommissary.pdf",
           "C"
          ],
          [
           754238,
           "11408.C2.3.Bay Area Economics PSA (BAELRD).doc",
           "C"
          ],
          [
           367434,
           "File 3700-061.C1.3. Hinson Agreement.pdf",
           "C"
          ],
          [
           832224,
           "Gaynor Fire Sprinkler.pdf",
           "C"
          ],
          [
           769075,
           "Exhibit E.pdf",
           "C"
          ],
          [
           944584,
           "Exposure List Design Team.pdf",
           "C"
          ],
          [
           790683,
           "Invoice 3367.pdf",
           "C"
          ],
          [
           472650,
           "F.D. Thomas 4-16-20.pdf",
           "C"
          ],
          [
           337643,
           "2-EH&S Geotech RFQ Attachments.docx",
           "C"
          ],
          [
           381398,
           "appendix_2.0.pdf",
           "C"
          ],
          [
           917171,
           "Nova Partners Cardiff Terrace Hagar Meadows Interior Management Services.pdf",
           "C"
          ],
          [
           310672,
           "171106_KRESGERFQ_INTERVIEWLETTER_STEINBERG.doc",
           "C"
          ],
          [
           910570,
           "4925.C1.2.AE Service ProposalSchematic Design #1.pdf",
           "C"
          ],
          [
           310699,
           "Carson Dining schedule 171031.pdf",
           "C"
          ],
          [
           381405,
           "appendix_3_3.pdf",
           "C"
          ],
          [
           975508,
           "15 12 08 - Bowman & Williams Proposal - Exhibit C2015-2016 (1500-027).pdf",
           "C"
          ],
          [
           381377,
           "9.3_responses_to_comments.pdf",
           "C"
          ],
          [
           363395,
           "File 3608 Supplies to Complete Plumbing 10-15-75.pdf",
           "C"
          ],
          [
           235809,
           "Authorization #DSTNCR06.pdf",
           "C"
          ],
          [
           864040,
           "4910.C1.2.Emergency Port Memo 10.10.77.pdf",
           "C"
          ],
          [
           489731,
           "File 5502.C1.1 Revised Architectural Site Plan (2).pdf",
           "C"
          ],
          [
           886899,
           "Winzler & Kelly PSA (WINJGS) and other auths.pdf",
           "C"
          ],
          [
           854501,
           "10069.C1.3.Authorization for Seismic Corrections.pdf",
           "C"
          ],
          [
           605639,
           "File 9097H.C2.3. Authorization #LEN007.pdf",
           "C"
          ],
          [
           472951,
           "5100.C2.2.CorrespondanceLaschober&ScovichIncorporatedC2.2.pdf",
           "C"
          ],
          [
           969972,
           "JER026.pdf",
           "C"
          ],
          [
           361847,
           "File 3505 Walker-Macy.pdf",
           "C"
          ],
          [
           917271,
           "File 6201 C1.1 List of Firms Submitting Letters of Interest.pdf",
           "C"
          ],
          [
           487820,
           "File 5500-004 EHDD Additonal Service Auth 5-6-09.pdf",
           "C"
          ],
          [
           133620,
           "File 11100 City Planning Services Invoice 12-5-72.pdf",
           "C"
          ],
          [
           310715,
           "Studio Ma SOQ.pdf",
           "C"
          ],
          [
           589958,
           "8591B.C2.3 BUTCSR1 - Invoice 1-09-17.pdf",
           "C"
          ],
          [
           579668,
           "Arboretum Parking Lot Addition - ZT Budget Estimate.pdf",
           "C"
          ],
          [
           11862,
           "DL-FP-2020-028-00 UCSC S&E Library Interior Renovation.pdf",
           "C"
          ],
          [
           329050,
           "File 3124 C1.3 University Standard Form of Agreement Vers B.pdf",
           "C"
          ],
          [
           976244,
           "DLGOSMB1-R02.pdf",
           "C"
          ],
          [
           975053,
           "Amendment 1.pdf",
           "C"
          ],
          [
           310624,
           "Rev5 TIU Housing RFQ-2.docx",
           "C"
          ],
          [
           381393,
           "section_8_0_references.pdf",
           "C"
          ],
          [
           944590,
           "Green Building Material Tracking Form.xls",
           "C"
          ],
          [
           962628,
           "CCI001 R2.pdf",
           "C"
          ],
          [
           769051,
           "2700-158.C1.3.Please_DocuSign_2700-158_Baskin_Engineering_.pdf",
           "C"
          ],
          [
           655,
           "1400-093A.C1.2.Forensic Analytical Consulting PROHA745 UCSC Roof Survey Proposal Final.pdf",
           "C"
          ],
          [
           934351,
           "PRO 4 E UCSC Biomed Fire Alarm System Upgrade.pdf",
           "C"
          ],
          [
           367769,
           "3701.C1.3.oaks student commons architect agreement compensation.pdf",
           "C"
          ],
          [
           863962,
           "Harley Ellis.pdf",
           "C"
          ],
          [
           744096,
           "CP FA  Consultant Select 2mem.doc",
           "C"
          ],
          [
           310668,
           "171106_KRESGERFQ_INTERVIEWLETTER_BCJ.doc",
           "C"
          ],
          [
           364915,
           "File 3619 C1.1 Sample Req. For Qualification.pdf",
           "C"
          ],
          [
           950790,
           "PSA 1993.pdf",
           "C"
          ]
         ],
         "hovertemplate": "tag=%{customdata[2]}<br>umap_x=%{x}<br>umap_y=%{y}<br>file_id=%{customdata[0]}<br>filename=%{customdata[1]}<extra></extra>",
         "legendgroup": "C",
         "marker": {
          "color": "#3283FE",
          "line": {
           "width": 0
          },
          "opacity": 0.75,
          "size": 7,
          "symbol": "circle"
         },
         "mode": "markers",
         "name": "C",
         "showlegend": true,
         "type": "scattergl",
         "x": {
          "bdata": "VOyGQMuyn0A8kFC//TeOQI47L0Dc1PG/XAmMQKY+n7/4Ii9AqmEPQCP4UkBfqb0/yyAUQH/rl0DppDFAltHhP8I+pUBdzZFAQbouQBPAcr9US6RAY3lbQOHde0CUXolAi+pUQB+ToEBtFGtAxevzPtcqtUB1p4lAHqibQD7Ao0DCNrW/lfvVQCFSmkDLKylAV3LSPzIZOUC2zyRAON2HvkSblEANRYJAh3MQQIytr0D2OgpA7w3Ovx28RkB6kzFA44CMQJ+5jkA18IlAXNptQIQmk0DszxxA10f8P2Rg2r5yeti/BuuMQOhojECS3zlATllDQPwiU0CHXVVAbfqTQEdDMkCoIRZAw/MsQGDyiEDeFWJA1uaHQArjm0CDyiNAEhEYQCddz0CJlxC/VP+bPxzdQUDSqZtAYa6cQEIgIUAyUi9AmnUsQGpBNUASgM5AIiqOQA8Q1kARyTtAJuCUQBdHsUCuTqBAfnhtQGfAXUBE0aRAEmxZQFDdxkDHBS1A+yenvwh1G0DiEfQ/eco/vylhiEDURX9AzZGoQCBrrUDsZblA9s2hQJfBQEByw6pAuLmoQEUhVUDWKLNA2FaiQKQiN0DGio1AUT9tQPY+qUAw22lAV9c4QNl8OkD7sLVApgB/QF4MLUBRiihAiSmMvvlrjkCLOoFAWbKmQBMLmUBQCj9A/7WyQLPd478leqS/8B5+QJMKh0DsmOu+EI1/QLRwVb/5wYdAeq9DQPmf0780aOY/WvSaQJaCeUAvCBZAojCLQLEkR0CxzNVAL81GQJ1OBD+lLUhArxA/QFbXCEAEJYBAvnyJQB0HN0BVLPi/1Nw1QKfXG0BIIotA0qekQORwtT/+cUhAeAysQBmIqkA9s4ZANn8WQJnFSEDtzS9AP8yJQGbwFECmknK/UCegQKlREEAespBAgH82QMwdw0D6LS6/xAOQQPlwl0AU86hAc4aGQEvghkB4EJxAjSlWQDPCC7+NU/w/XxGcQMhSf0AQYg6/FRGTQPcjnED90YhAu47MQJoGFUDT0Y5AWAafQPb+oUCUOpJAGb+DQLlxLECRmIhAa8WeQGIsAkAl/Pc+zkuaQKXkwEDipi1AyZDXQHwLMkADZIxA0zRDQOsZkEDo3QRA30YWQMkVa0DP/Ps/5ckVQB+vj0BjCZ9A7xhBQJVUFUBDtY5AWoUlQJUygEDu8ru/TXcWQCTHtECOGidAX4eIQGgCiUDqgkhAO+iNQJ/nHUBg9bRADDOPQJoqakCSPjpAqOuUQAm3VEBIqG6/GVmWQGz4r0CQvQE/7D9kv+52OEB3X7q/YGS0QDgOiUDPoypAqH1zQDnTQ0ArXRZAuiG9vHFupUCbjFJAeZCfQNsRMkAMDSpAypkRQNlWqkA3rlZAsCKaQLSCh0Alg4lAx+KoQOF+LkDCt9hAvEajv7aKkUDpI+A/9awuQOK+VUCCBaNAhkuPQKWRekDTD+e+5JCgQJtiyL+zZnhAsfmYQA5DhEDmnS1Ai2o6QDPniUC0Y4K/+eGFQBNCU0BRm45AekuuQJ8HCUBtS5FAf3BtQLAlo0ChrQi/CyakQC7QnUDZaBi//2SWQB+PjUDCNKVA",
          "dtype": "f4"
         },
         "xaxis": "x",
         "y": {
          "bdata": "6kU1QP24QUDHnKdABElVQHmrI0DXMblAHHC9Pi6Kr0AIhCFAPciMPpoBj71eVJJApXFGP83lnkB6CTlAGYdXQCQNx0D23Yo/JS0+QEegbkCs3cdAPZwIP7T3ZkC4TJA+jUEyP0cQ/T+F5UdAifmwQM2XgEBo+oo/qovWP+wJn0B+4qVAVkYpQIszDUDNzBpAg+ihQKDXIkCS9gVAfpHmQGAHJ0DWmhxA39JyPlnzikDBcgI/wj6HQLIDPb602TVAlVsXQOeFVkAiRoY+ZnWUP6u2E0AGiIM/wWOEQL5fj0BfEMlASDUgQEECKkC4tRNAAONQvX4+PkBB485AbiMVQIcqOEAMWVg+a5omQCfPhD4Oa4ZAcDiCP7sRuD8O0FxAsaacPv/xNkBFs/JAyALZQKQNQ0AQaU1Aj7CiQM+hVUCB1ydA5KC/QAljMUBftixAkoKHP+CwN0D3Uv8/YVXWPye9OkCzg5BAcYqdP/Smw0CfI+o/0wwcPp0iJ0CO7T5AAfWzQKTrcUBsjJFAoGqIvlwAlT739R9A5NB3QHNaikD75EpACQbEP6AAhECex6I/l3KuP+TlqUA+wLw/AWKdP9L8RkAh/lhAZ0WrPyrHyj9BWo0/Xk4gvswMmj4aZ1dAQ38yP1VR3D8v8FBAWFOPQAmNvT+1O01Avbc2QHVjKkCStoa8baw2QI1lukAfr6tAgjTMP6iQqT57pPNAj2NCQKbEW0CH+JQ+/naXvb7mt0Aq5axA0t6FP9EqYkDQFc4+Odh9P6kxyL36EkhA/JJGvt1yo0D5cME/DgrdPxIQxT5s6VdA1dwtQFhW3j+7J8lACbonQGgfYUCsKq8/PkxSQHdATkCKNGW+UmfuPwnMh0D+didAlONjQE0xZb5wozNAp8qjPhC3Oz9P4KpA7zyMQGhDgj5jsI0/ot4nQM+UO0Bz14RA46B8P32Ljj8DFs0/EVAyQK2KnT8WfxpAm3QNQIJlL77yRqRAHrTWP/DmPEBifu1A8XYNQCwboUALDHY+IRUhQBWNcEAn8nQ/dbfVP2peD0BtVD5AG+PiP2ghJECIyow+OZM+QBBKpUDYkj9ACHUXQOF5h0CbY0ZAyUVAQNvlLUC7e6o/dlCQveJXdj/SeRI/CEmbQEAxvT9zYzdAdu2XPmmRFEBzxT5A5fCLvTHQvT5YJ48/N4OLvx7vVkBaD7BA5CaqPmrErj+XPrBAN7qWPuXlEUCM2sQ/F5nEPz3hjr+aH3hARs1wP9mKiT7xk8o/A/caQOWvEb0M6adA5MytPwG0A0D37jlAzQWxPErduD/QbOJAuzIwQOKujD4NeiRA7UrIQGFZxT8tT5E++GvXQArb6T+gSkW93G39Px33KUDPIBC+O3OEPv6SYkBVIyC9CPctQF1tOEB1NiFAsJ9hQHF4I0Dl55tAdk2fQNSmxz/n9YpAMFSXQCZeKLplCZY/w0J/P8VUUkCNyWq+xEUpQP5KtkCs1E5Aop3dP9suR0BMRCRAd+KfQFX9DUAiK6dAbWt5P9NQHr0jbSdAWi5nQOMFykAsNoY/LoCYP3tTyEBXABC+Kmm9P4HvCUA6Tu+9mXYtQKERFkBaL9k/",
          "dtype": "f4"
         },
         "yaxis": "y"
        }
       ],
       "layout": {
        "height": 800,
        "legend": {
         "bordercolor": "rgba(0,0,0,0.2)",
         "borderwidth": 1,
         "itemsizing": "trace",
         "title": {
          "text": "Tag"
         },
         "tracegroupgap": 0
        },
        "template": {
         "data": {
          "bar": [
           {
            "error_x": {
             "color": "#2a3f5f"
            },
            "error_y": {
             "color": "#2a3f5f"
            },
            "marker": {
             "line": {
              "color": "#E5ECF6",
              "width": 0.5
             },
             "pattern": {
              "fillmode": "overlay",
              "size": 10,
              "solidity": 0.2
             }
            },
            "type": "bar"
           }
          ],
          "barpolar": [
           {
            "marker": {
             "line": {
              "color": "#E5ECF6",
              "width": 0.5
             },
             "pattern": {
              "fillmode": "overlay",
              "size": 10,
              "solidity": 0.2
             }
            },
            "type": "barpolar"
           }
          ],
          "carpet": [
           {
            "aaxis": {
             "endlinecolor": "#2a3f5f",
             "gridcolor": "white",
             "linecolor": "white",
             "minorgridcolor": "white",
             "startlinecolor": "#2a3f5f"
            },
            "baxis": {
             "endlinecolor": "#2a3f5f",
             "gridcolor": "white",
             "linecolor": "white",
             "minorgridcolor": "white",
             "startlinecolor": "#2a3f5f"
            },
            "type": "carpet"
           }
          ],
          "choropleth": [
           {
            "colorbar": {
             "outlinewidth": 0,
             "ticks": ""
            },
            "type": "choropleth"
           }
          ],
          "contour": [
           {
            "colorbar": {
             "outlinewidth": 0,
             "ticks": ""
            },
            "colorscale": [
             [
              0,
              "#0d0887"
             ],
             [
              0.1111111111111111,
              "#46039f"
             ],
             [
              0.2222222222222222,
              "#7201a8"
             ],
             [
              0.3333333333333333,
              "#9c179e"
             ],
             [
              0.4444444444444444,
              "#bd3786"
             ],
             [
              0.5555555555555556,
              "#d8576b"
             ],
             [
              0.6666666666666666,
              "#ed7953"
             ],
             [
              0.7777777777777778,
              "#fb9f3a"
             ],
             [
              0.8888888888888888,
              "#fdca26"
             ],
             [
              1,
              "#f0f921"
             ]
            ],
            "type": "contour"
           }
          ],
          "contourcarpet": [
           {
            "colorbar": {
             "outlinewidth": 0,
             "ticks": ""
            },
            "type": "contourcarpet"
           }
          ],
          "heatmap": [
           {
            "colorbar": {
             "outlinewidth": 0,
             "ticks": ""
            },
            "colorscale": [
             [
              0,
              "#0d0887"
             ],
             [
              0.1111111111111111,
              "#46039f"
             ],
             [
              0.2222222222222222,
              "#7201a8"
             ],
             [
              0.3333333333333333,
              "#9c179e"
             ],
             [
              0.4444444444444444,
              "#bd3786"
             ],
             [
              0.5555555555555556,
              "#d8576b"
             ],
             [
              0.6666666666666666,
              "#ed7953"
             ],
             [
              0.7777777777777778,
              "#fb9f3a"
             ],
             [
              0.8888888888888888,
              "#fdca26"
             ],
             [
              1,
              "#f0f921"
             ]
            ],
            "type": "heatmap"
           }
          ],
          "histogram": [
           {
            "marker": {
             "pattern": {
              "fillmode": "overlay",
              "size": 10,
              "solidity": 0.2
             }
            },
            "type": "histogram"
           }
          ],
          "histogram2d": [
           {
            "colorbar": {
             "outlinewidth": 0,
             "ticks": ""
            },
            "colorscale": [
             [
              0,
              "#0d0887"
             ],
             [
              0.1111111111111111,
              "#46039f"
             ],
             [
              0.2222222222222222,
              "#7201a8"
             ],
             [
              0.3333333333333333,
              "#9c179e"
             ],
             [
              0.4444444444444444,
              "#bd3786"
             ],
             [
              0.5555555555555556,
              "#d8576b"
             ],
             [
              0.6666666666666666,
              "#ed7953"
             ],
             [
              0.7777777777777778,
              "#fb9f3a"
             ],
             [
              0.8888888888888888,
              "#fdca26"
             ],
             [
              1,
              "#f0f921"
             ]
            ],
            "type": "histogram2d"
           }
          ],
          "histogram2dcontour": [
           {
            "colorbar": {
             "outlinewidth": 0,
             "ticks": ""
            },
            "colorscale": [
             [
              0,
              "#0d0887"
             ],
             [
              0.1111111111111111,
              "#46039f"
             ],
             [
              0.2222222222222222,
              "#7201a8"
             ],
             [
              0.3333333333333333,
              "#9c179e"
             ],
             [
              0.4444444444444444,
              "#bd3786"
             ],
             [
              0.5555555555555556,
              "#d8576b"
             ],
             [
              0.6666666666666666,
              "#ed7953"
             ],
             [
              0.7777777777777778,
              "#fb9f3a"
             ],
             [
              0.8888888888888888,
              "#fdca26"
             ],
             [
              1,
              "#f0f921"
             ]
            ],
            "type": "histogram2dcontour"
           }
          ],
          "mesh3d": [
           {
            "colorbar": {
             "outlinewidth": 0,
             "ticks": ""
            },
            "type": "mesh3d"
           }
          ],
          "parcoords": [
           {
            "line": {
             "colorbar": {
              "outlinewidth": 0,
              "ticks": ""
             }
            },
            "type": "parcoords"
           }
          ],
          "pie": [
           {
            "automargin": true,
            "type": "pie"
           }
          ],
          "scatter": [
           {
            "fillpattern": {
             "fillmode": "overlay",
             "size": 10,
             "solidity": 0.2
            },
            "type": "scatter"
           }
          ],
          "scatter3d": [
           {
            "line": {
             "colorbar": {
              "outlinewidth": 0,
              "ticks": ""
             }
            },
            "marker": {
             "colorbar": {
              "outlinewidth": 0,
              "ticks": ""
             }
            },
            "type": "scatter3d"
           }
          ],
          "scattercarpet": [
           {
            "marker": {
             "colorbar": {
              "outlinewidth": 0,
              "ticks": ""
             }
            },
            "type": "scattercarpet"
           }
          ],
          "scattergeo": [
           {
            "marker": {
             "colorbar": {
              "outlinewidth": 0,
              "ticks": ""
             }
            },
            "type": "scattergeo"
           }
          ],
          "scattergl": [
           {
            "marker": {
             "colorbar": {
              "outlinewidth": 0,
              "ticks": ""
             }
            },
            "type": "scattergl"
           }
          ],
          "scattermap": [
           {
            "marker": {
             "colorbar": {
              "outlinewidth": 0,
              "ticks": ""
             }
            },
            "type": "scattermap"
           }
          ],
          "scattermapbox": [
           {
            "marker": {
             "colorbar": {
              "outlinewidth": 0,
              "ticks": ""
             }
            },
            "type": "scattermapbox"
           }
          ],
          "scatterpolar": [
           {
            "marker": {
             "colorbar": {
              "outlinewidth": 0,
              "ticks": ""
             }
            },
            "type": "scatterpolar"
           }
          ],
          "scatterpolargl": [
           {
            "marker": {
             "colorbar": {
              "outlinewidth": 0,
              "ticks": ""
             }
            },
            "type": "scatterpolargl"
           }
          ],
          "scatterternary": [
           {
            "marker": {
             "colorbar": {
              "outlinewidth": 0,
              "ticks": ""
             }
            },
            "type": "scatterternary"
           }
          ],
          "surface": [
           {
            "colorbar": {
             "outlinewidth": 0,
             "ticks": ""
            },
            "colorscale": [
             [
              0,
              "#0d0887"
             ],
             [
              0.1111111111111111,
              "#46039f"
             ],
             [
              0.2222222222222222,
              "#7201a8"
             ],
             [
              0.3333333333333333,
              "#9c179e"
             ],
             [
              0.4444444444444444,
              "#bd3786"
             ],
             [
              0.5555555555555556,
              "#d8576b"
             ],
             [
              0.6666666666666666,
              "#ed7953"
             ],
             [
              0.7777777777777778,
              "#fb9f3a"
             ],
             [
              0.8888888888888888,
              "#fdca26"
             ],
             [
              1,
              "#f0f921"
             ]
            ],
            "type": "surface"
           }
          ],
          "table": [
           {
            "cells": {
             "fill": {
              "color": "#EBF0F8"
             },
             "line": {
              "color": "white"
             }
            },
            "header": {
             "fill": {
              "color": "#C8D4E3"
             },
             "line": {
              "color": "white"
             }
            },
            "type": "table"
           }
          ]
         },
         "layout": {
          "annotationdefaults": {
           "arrowcolor": "#2a3f5f",
           "arrowhead": 0,
           "arrowwidth": 1
          },
          "autotypenumbers": "strict",
          "coloraxis": {
           "colorbar": {
            "outlinewidth": 0,
            "ticks": ""
           }
          },
          "colorscale": {
           "diverging": [
            [
             0,
             "#8e0152"
            ],
            [
             0.1,
             "#c51b7d"
            ],
            [
             0.2,
             "#de77ae"
            ],
            [
             0.3,
             "#f1b6da"
            ],
            [
             0.4,
             "#fde0ef"
            ],
            [
             0.5,
             "#f7f7f7"
            ],
            [
             0.6,
             "#e6f5d0"
            ],
            [
             0.7,
             "#b8e186"
            ],
            [
             0.8,
             "#7fbc41"
            ],
            [
             0.9,
             "#4d9221"
            ],
            [
             1,
             "#276419"
            ]
           ],
           "sequential": [
            [
             0,
             "#0d0887"
            ],
            [
             0.1111111111111111,
             "#46039f"
            ],
            [
             0.2222222222222222,
             "#7201a8"
            ],
            [
             0.3333333333333333,
             "#9c179e"
            ],
            [
             0.4444444444444444,
             "#bd3786"
            ],
            [
             0.5555555555555556,
             "#d8576b"
            ],
            [
             0.6666666666666666,
             "#ed7953"
            ],
            [
             0.7777777777777778,
             "#fb9f3a"
            ],
            [
             0.8888888888888888,
             "#fdca26"
            ],
            [
             1,
             "#f0f921"
            ]
           ],
           "sequentialminus": [
            [
             0,
             "#0d0887"
            ],
            [
             0.1111111111111111,
             "#46039f"
            ],
            [
             0.2222222222222222,
             "#7201a8"
            ],
            [
             0.3333333333333333,
             "#9c179e"
            ],
            [
             0.4444444444444444,
             "#bd3786"
            ],
            [
             0.5555555555555556,
             "#d8576b"
            ],
            [
             0.6666666666666666,
             "#ed7953"
            ],
            [
             0.7777777777777778,
             "#fb9f3a"
            ],
            [
             0.8888888888888888,
             "#fdca26"
            ],
            [
             1,
             "#f0f921"
            ]
           ]
          },
          "colorway": [
           "#636efa",
           "#EF553B",
           "#00cc96",
           "#ab63fa",
           "#FFA15A",
           "#19d3f3",
           "#FF6692",
           "#B6E880",
           "#FF97FF",
           "#FECB52"
          ],
          "font": {
           "color": "#2a3f5f"
          },
          "geo": {
           "bgcolor": "white",
           "lakecolor": "white",
           "landcolor": "#E5ECF6",
           "showlakes": true,
           "showland": true,
           "subunitcolor": "white"
          },
          "hoverlabel": {
           "align": "left"
          },
          "hovermode": "closest",
          "mapbox": {
           "style": "light"
          },
          "paper_bgcolor": "white",
          "plot_bgcolor": "#E5ECF6",
          "polar": {
           "angularaxis": {
            "gridcolor": "white",
            "linecolor": "white",
            "ticks": ""
           },
           "bgcolor": "#E5ECF6",
           "radialaxis": {
            "gridcolor": "white",
            "linecolor": "white",
            "ticks": ""
           }
          },
          "scene": {
           "xaxis": {
            "backgroundcolor": "#E5ECF6",
            "gridcolor": "white",
            "gridwidth": 2,
            "linecolor": "white",
            "showbackground": true,
            "ticks": "",
            "zerolinecolor": "white"
           },
           "yaxis": {
            "backgroundcolor": "#E5ECF6",
            "gridcolor": "white",
            "gridwidth": 2,
            "linecolor": "white",
            "showbackground": true,
            "ticks": "",
            "zerolinecolor": "white"
           },
           "zaxis": {
            "backgroundcolor": "#E5ECF6",
            "gridcolor": "white",
            "gridwidth": 2,
            "linecolor": "white",
            "showbackground": true,
            "ticks": "",
            "zerolinecolor": "white"
           }
          },
          "shapedefaults": {
           "line": {
            "color": "#2a3f5f"
           }
          },
          "ternary": {
           "aaxis": {
            "gridcolor": "white",
            "linecolor": "white",
            "ticks": ""
           },
           "baxis": {
            "gridcolor": "white",
            "linecolor": "white",
            "ticks": ""
           },
           "bgcolor": "#E5ECF6",
           "caxis": {
            "gridcolor": "white",
            "linecolor": "white",
            "ticks": ""
           }
          },
          "title": {
           "x": 0.05
          },
          "xaxis": {
           "automargin": true,
           "gridcolor": "white",
           "linecolor": "white",
           "ticks": "",
           "title": {
            "standoff": 15
           },
           "zerolinecolor": "white",
           "zerolinewidth": 2
          },
          "yaxis": {
           "automargin": true,
           "gridcolor": "white",
           "linecolor": "white",
           "ticks": "",
           "title": {
            "standoff": 15
           },
           "zerolinecolor": "white",
           "zerolinewidth": 2
          }
         }
        },
        "title": {
         "text": "UMAP of MiniLM embeddings (model=all-MiniLM-L6-v2) – Top-Level Tags (excl. 'A')"
        },
        "width": 1000,
        "xaxis": {
         "anchor": "y",
         "domain": [
          0,
          1
         ],
         "title": {
          "text": "umap_x"
         }
        },
        "yaxis": {
         "anchor": "x",
         "domain": [
          0,
          1
         ],
         "title": {
          "text": "umap_y"
         }
        }
       }
      }
     },
     "metadata": {},
     "output_type": "display_data"
    },
    {
     "name": "stdout",
     "output_type": "stream",
     "text": [
      "Visualization complete.\n"
     ]
    }
   ],
   "source": [
    "if df_vis.empty:\n",
    "    print(\"No data available for visualization. Check database connection, model name, or tag filters.\")\n",
    "else:\n",
    "    # Ensure deterministic color mapping (sorted tags)\n",
    "    unique_tags = sorted(df_vis['tag'].unique())\n",
    "    color_discrete_sequence = px.colors.qualitative.Alphabet\n",
    "    # If more tags than palette length, cycle\n",
    "    palette = [color_discrete_sequence[i % len(color_discrete_sequence)] for i in range(len(unique_tags))]\n",
    "    tag_color_map = {t: palette[i] for i, t in enumerate(unique_tags)}\n",
    "\n",
    "    fig = px.scatter(\n",
    "        df_vis,\n",
    "        x='umap_x',\n",
    "        y='umap_y',\n",
    "        color='tag',\n",
    "        hover_data=['file_id', 'filename', 'tag'],\n",
    "        title=f\"UMAP of MiniLM embeddings (model={MODEL_NAME}) – Top-Level Tags (excl. 'A')\",\n",
    "        width=1000,\n",
    "        height=800,\n",
    "        opacity=0.75,\n",
    "        color_discrete_map=tag_color_map,\n",
    "    )\n",
    "    fig.update_layout(legend_title_text=\"Tag\", legend=dict(itemsizing='trace', bordercolor='rgba(0,0,0,0.2)', borderwidth=1))\n",
    "    fig.update_traces(marker=dict(size=7, line=dict(width=0)))\n",
    "    fig.show()\n",
    "    print(\"Visualization complete.\")"
   ]
  }
 ],
 "metadata": {
  "kernelspec": {
   "display_name": ".venv",
   "language": "python",
   "name": "python3"
  },
  "language_info": {
   "codemirror_mode": {
    "name": "ipython",
    "version": 3
   },
   "file_extension": ".py",
   "mimetype": "text/x-python",
   "name": "python",
   "nbconvert_exporter": "python",
   "pygments_lexer": "ipython3",
   "version": "3.13.7"
  }
 },
 "nbformat": 4,
 "nbformat_minor": 5
}
