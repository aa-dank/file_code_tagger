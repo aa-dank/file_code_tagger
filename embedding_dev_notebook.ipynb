{
 "cells": [
  {
   "cell_type": "code",
   "execution_count": null,
   "id": "b1e9dc39",
   "metadata": {},
   "outputs": [
    {
     "name": "stderr",
     "output_type": "stream",
     "text": [
      "INFO - Processing file number 1 of 202: 214868\n",
      "INFO - Found file 214868 at N:\\PPDO\\Records\\21xx   Central Heating Plant (Fackler Cogeneration)\\2113\\2113\\D - Environmental Review Process\\D4 - Mitigation Monitoring Program\\UCSC Cogen THP  LTO Amend 8.17.12.pdf\n",
      "INFO - Processed file 214868 with tag D4 - Mitigation Monitoring Program\n",
      "INFO - Added tag D4 to file with hash bedc35d8de0eb40b1ce73b64dfe4488809d5cddf\n",
      "INFO - Added tag D to file with hash bedc35d8de0eb40b1ce73b64dfe4488809d5cddf\n",
      "INFO - Processing file number 2 of 202: 490397\n",
      "INFO - Found file 490397 at N:\\PPDO\\Records\\55xx   College 9 & 10\\5504\\D - Environmental Review Process\\D4 - Mitigation Monitoring Program\\File 5504.D4 C9-10 Projects Status Update 1-24-94.pdf\n"
     ]
    },
    {
     "data": {
      "application/vnd.jupyter.widget-view+json": {
       "model_id": "50f254660b5c438ba71ae08ecae7c3b6",
       "version_major": 2,
       "version_minor": 0
      },
      "text/plain": [
       "Output()"
      ]
     },
     "metadata": {},
     "output_type": "display_data"
    },
    {
     "data": {
      "text/html": [
       "<pre style=\"white-space:pre;overflow-x:auto;line-height:normal;font-family:Menlo,'DejaVu Sans Mono',consolas,'Courier New',monospace\"></pre>\n"
      ],
      "text/plain": []
     },
     "metadata": {},
     "output_type": "display_data"
    },
    {
     "data": {
      "application/vnd.jupyter.widget-view+json": {
       "model_id": "8928c9c2c43e49e1b334ac7cffc1797c",
       "version_major": 2,
       "version_minor": 0
      },
      "text/plain": [
       "Output()"
      ]
     },
     "metadata": {},
     "output_type": "display_data"
    },
    {
     "data": {
      "text/html": [
       "<pre style=\"white-space:pre;overflow-x:auto;line-height:normal;font-family:Menlo,'DejaVu Sans Mono',consolas,'Courier New',monospace\"></pre>\n"
      ],
      "text/plain": []
     },
     "metadata": {},
     "output_type": "display_data"
    },
    {
     "data": {
      "application/vnd.jupyter.widget-view+json": {
       "model_id": "eed0d00999894bd2858e9b839901d56f",
       "version_major": 2,
       "version_minor": 0
      },
      "text/plain": [
       "Output()"
      ]
     },
     "metadata": {},
     "output_type": "display_data"
    },
    {
     "data": {
      "text/html": [
       "<pre style=\"white-space:pre;overflow-x:auto;line-height:normal;font-family:Menlo,'DejaVu Sans Mono',consolas,'Courier New',monospace\"></pre>\n"
      ],
      "text/plain": []
     },
     "metadata": {},
     "output_type": "display_data"
    },
    {
     "data": {
      "application/vnd.jupyter.widget-view+json": {
       "model_id": "aaf65ff0f3c549118024d7eb403956b1",
       "version_major": 2,
       "version_minor": 0
      },
      "text/plain": [
       "Output()"
      ]
     },
     "metadata": {},
     "output_type": "display_data"
    },
    {
     "data": {
      "text/html": [
       "<pre style=\"white-space:pre;overflow-x:auto;line-height:normal;font-family:Menlo,'DejaVu Sans Mono',consolas,'Courier New',monospace\"></pre>\n"
      ],
      "text/plain": []
     },
     "metadata": {},
     "output_type": "display_data"
    },
    {
     "data": {
      "application/vnd.jupyter.widget-view+json": {
       "model_id": "9e7271e2ebb8486abe23042a1e0c400a",
       "version_major": 2,
       "version_minor": 0
      },
      "text/plain": [
       "Output()"
      ]
     },
     "metadata": {},
     "output_type": "display_data"
    },
    {
     "data": {
      "text/html": [
       "<pre style=\"white-space:pre;overflow-x:auto;line-height:normal;font-family:Menlo,'DejaVu Sans Mono',consolas,'Courier New',monospace\"></pre>\n"
      ],
      "text/plain": []
     },
     "metadata": {},
     "output_type": "display_data"
    },
    {
     "data": {
      "application/vnd.jupyter.widget-view+json": {
       "model_id": "38d806a27add4ef49e893d43769d0a6b",
       "version_major": 2,
       "version_minor": 0
      },
      "text/plain": [
       "Output()"
      ]
     },
     "metadata": {},
     "output_type": "display_data"
    },
    {
     "data": {
      "text/html": [
       "<pre style=\"white-space:pre;overflow-x:auto;line-height:normal;font-family:Menlo,'DejaVu Sans Mono',consolas,'Courier New',monospace\"></pre>\n"
      ],
      "text/plain": []
     },
     "metadata": {},
     "output_type": "display_data"
    },
    {
     "name": "stderr",
     "output_type": "stream",
     "text": [
      "The output file size is 11.36× larger than the input file.\n",
      "Possible reasons for this include:\n",
      "--deskew was issued, causing transcoding.\n",
      "The optional dependency 'jbig2' was not found, so some image optimizations could not be attempted.\n",
      "The optional dependency 'pngquant' was not found, so some image optimizations could not be attempted.\n",
      "\n",
      "INFO - Processed file 490397 with tag D4 - Mitigation Monitoring Program\n",
      "INFO - Added tag D4 to file with hash d8e9ccc9b5144cad5d25a6d99fd31a394b1549dd\n",
      "INFO - Added tag D to file with hash d8e9ccc9b5144cad5d25a6d99fd31a394b1549dd\n",
      "INFO - Processing file number 3 of 202: 468665\n",
      "INFO - Found file 468665 at N:\\PPDO\\Records\\49xx   Long Marine Lab\\4934\\4934\\D - Environmental Review Process\\D4 - Mitigation Monitoring Program\\Proposed Mitigation Monitoring and Reporting Program.docx\n",
      "INFO - Processed file 468665 with tag D4 - Mitigation Monitoring Program\n",
      "INFO - Added tag D4 to file with hash 952838248e93a39e2cb978f4995159d258cd6496\n",
      "INFO - Added tag D to file with hash 952838248e93a39e2cb978f4995159d258cd6496\n",
      "INFO - Processing file number 4 of 202: 828603\n",
      "INFO - Found file 828603 at N:\\PPDO\\Records\\88xx   Campus Parking\\8884\\8884\\D - Environmental Review Process\\D4 - Mitigation Monitoring Program\\8884.D4 - Campus Parking - Core West Parking Structure - Original Construction.pdf\n"
     ]
    },
    {
     "data": {
      "application/vnd.jupyter.widget-view+json": {
       "model_id": "39217de540f24ff5b83b39dce36d67dd",
       "version_major": 2,
       "version_minor": 0
      },
      "text/plain": [
       "Output()"
      ]
     },
     "metadata": {},
     "output_type": "display_data"
    },
    {
     "data": {
      "text/html": [
       "<pre style=\"white-space:pre;overflow-x:auto;line-height:normal;font-family:Menlo,'DejaVu Sans Mono',consolas,'Courier New',monospace\"></pre>\n"
      ],
      "text/plain": []
     },
     "metadata": {},
     "output_type": "display_data"
    },
    {
     "data": {
      "application/vnd.jupyter.widget-view+json": {
       "model_id": "8dceff372b9e435d818b265d4badbcf1",
       "version_major": 2,
       "version_minor": 0
      },
      "text/plain": [
       "Output()"
      ]
     },
     "metadata": {},
     "output_type": "display_data"
    },
    {
     "data": {
      "text/html": [
       "<pre style=\"white-space:pre;overflow-x:auto;line-height:normal;font-family:Menlo,'DejaVu Sans Mono',consolas,'Courier New',monospace\">[tesseract] lots of diacritics - possibly poor OCR\n",
       "</pre>\n"
      ],
      "text/plain": [
       "[tesseract] lots of diacritics - possibly poor OCR\n"
      ]
     },
     "metadata": {},
     "output_type": "display_data"
    },
    {
     "data": {
      "text/html": [
       "<pre style=\"white-space:pre;overflow-x:auto;line-height:normal;font-family:Menlo,'DejaVu Sans Mono',consolas,'Courier New',monospace\"></pre>\n"
      ],
      "text/plain": []
     },
     "metadata": {},
     "output_type": "display_data"
    },
    {
     "data": {
      "application/vnd.jupyter.widget-view+json": {
       "model_id": "92aa3be22cbb463dbeb845a0a526a2d9",
       "version_major": 2,
       "version_minor": 0
      },
      "text/plain": [
       "Output()"
      ]
     },
     "metadata": {},
     "output_type": "display_data"
    },
    {
     "data": {
      "text/html": [
       "<pre style=\"white-space:pre;overflow-x:auto;line-height:normal;font-family:Menlo,'DejaVu Sans Mono',consolas,'Courier New',monospace\"></pre>\n"
      ],
      "text/plain": []
     },
     "metadata": {},
     "output_type": "display_data"
    },
    {
     "data": {
      "application/vnd.jupyter.widget-view+json": {
       "model_id": "5c86272f6d6a4a9fb05efa2bc34a54b0",
       "version_major": 2,
       "version_minor": 0
      },
      "text/plain": [
       "Output()"
      ]
     },
     "metadata": {},
     "output_type": "display_data"
    },
    {
     "data": {
      "text/html": [
       "<pre style=\"white-space:pre;overflow-x:auto;line-height:normal;font-family:Menlo,'DejaVu Sans Mono',consolas,'Courier New',monospace\"></pre>\n"
      ],
      "text/plain": []
     },
     "metadata": {},
     "output_type": "display_data"
    },
    {
     "data": {
      "application/vnd.jupyter.widget-view+json": {
       "model_id": "4fc6f9b6544549df89ef619093e9a9e8",
       "version_major": 2,
       "version_minor": 0
      },
      "text/plain": [
       "Output()"
      ]
     },
     "metadata": {},
     "output_type": "display_data"
    },
    {
     "data": {
      "text/html": [
       "<pre style=\"white-space:pre;overflow-x:auto;line-height:normal;font-family:Menlo,'DejaVu Sans Mono',consolas,'Courier New',monospace\"></pre>\n"
      ],
      "text/plain": []
     },
     "metadata": {},
     "output_type": "display_data"
    },
    {
     "data": {
      "application/vnd.jupyter.widget-view+json": {
       "model_id": "36afa7f8fd7f4ffa8f925ae3c6fd8846",
       "version_major": 2,
       "version_minor": 0
      },
      "text/plain": [
       "Output()"
      ]
     },
     "metadata": {},
     "output_type": "display_data"
    },
    {
     "data": {
      "text/html": [
       "<pre style=\"white-space:pre;overflow-x:auto;line-height:normal;font-family:Menlo,'DejaVu Sans Mono',consolas,'Courier New',monospace\"></pre>\n"
      ],
      "text/plain": []
     },
     "metadata": {},
     "output_type": "display_data"
    },
    {
     "name": "stderr",
     "output_type": "stream",
     "text": [
      "INFO - Processed file 828603 with tag D4 - Mitigation Monitoring Program\n",
      "INFO - Added tag D4 to file with hash 7d8eddcdbefec1e03eaffaaabc726246236d296b\n",
      "INFO - Added tag D to file with hash 7d8eddcdbefec1e03eaffaaabc726246236d296b\n",
      "INFO - Processing file number 5 of 202: 578505\n",
      "INFO - Found file 578505 at N:\\PPDO\\Records\\Email Archived from Cruzmail\\Damon Adlao Saved Files\\Current Projects\\Arboretum Gate Attachments\\CRLF avoidance measures.7.02.07-1.doc\n",
      "WARNING - File 578505 does not match tag D4 - Mitigation Monitoring Program in its location directories\n",
      "INFO - Found file 578505 at N:\\PPDO\\Records\\84xx   Arboretum\\8400\\8400-001\\D4 - Mitigation Monitoring Program\\CRLF avoidance measures.7.02.07-1.doc\n",
      "INFO - Processed file 578505 with tag D4 - Mitigation Monitoring Program\n",
      "INFO - Added tag D4 to file with hash 1cfb026790a36460017b013be23551daad3f6b3a\n",
      "INFO - Added tag D to file with hash 1cfb026790a36460017b013be23551daad3f6b3a\n",
      "INFO - Processing file number 6 of 202: 46057\n",
      "INFO - Found file 46057 at N:\\PPDO\\Records\\67xx   Biomedical Sciences Facility\\6701\\6701\\D  -Environmental Review Process\\D4 - Mitigation Monitoring Program\\Biomed mitigation checklist-final.xls\n",
      "INFO - Processed file 46057 with tag D4 - Mitigation Monitoring Program\n",
      "INFO - Added tag D4 to file with hash 292f96c9f480f6abd6e5bc9fa18fcd67f3f3c947\n",
      "INFO - Added tag D to file with hash 292f96c9f480f6abd6e5bc9fa18fcd67f3f3c947\n",
      "INFO - Processing file number 7 of 202: 214857\n",
      "WARNING - File 214857 not found at N:\\PPDO\\Records\\21xx   Central Heating Plant (Fackler Cogeneration)\\2113\\2113-003\\F-5 Bid docs\\Cogen_Tree_Stump_Grinding.pdf\n",
      "INFO - Found file 214857 at N:\\PPDO\\Records\\21xx   Central Heating Plant (Fackler Cogeneration)\\2113\\2113-003\\F - Bid Documents and Contract Award\\F5 - Drawings and Specifications\\Cogen_Tree_Stump_Grinding.pdf\n",
      "WARNING - File 214857 does not match tag D4 - Mitigation Monitoring Program in its location directories\n",
      "WARNING - File 214857 not found at N:\\PPDO\\Records\\21xx   Central Heating Plant (Fackler Cogeneration)\\2113\\2113\\D - Environmental Review Process\\Timber Harvest\\Cogen_Tree_Stump_Grinding.pdf\n",
      "INFO - Found file 214857 at N:\\PPDO\\Records\\21xx   Central Heating Plant (Fackler Cogeneration)\\2113\\2113\\D - Environmental Review Process\\D1 - Environmental Correspondence\\Timber Harvest\\Cogen_Tree_Stump_Grinding.pdf\n",
      "WARNING - File 214857 does not match tag D4 - Mitigation Monitoring Program in its location directories\n",
      "INFO - Found file 214857 at N:\\PPDO\\Records\\21xx   Central Heating Plant (Fackler Cogeneration)\\2113\\2113\\D - Environmental Review Process\\D4 - Mitigation Monitoring Program\\Cogen Tree Stump Grinding.pdf\n"
     ]
    },
    {
     "data": {
      "application/vnd.jupyter.widget-view+json": {
       "model_id": "c1de32dc9a6d489f9dc4403177c7164b",
       "version_major": 2,
       "version_minor": 0
      },
      "text/plain": [
       "Output()"
      ]
     },
     "metadata": {},
     "output_type": "display_data"
    },
    {
     "data": {
      "text/html": [
       "<pre style=\"white-space:pre;overflow-x:auto;line-height:normal;font-family:Menlo,'DejaVu Sans Mono',consolas,'Courier New',monospace\"></pre>\n"
      ],
      "text/plain": []
     },
     "metadata": {},
     "output_type": "display_data"
    },
    {
     "data": {
      "application/vnd.jupyter.widget-view+json": {
       "model_id": "5470b095fdda49758b740df241c6300c",
       "version_major": 2,
       "version_minor": 0
      },
      "text/plain": [
       "Output()"
      ]
     },
     "metadata": {},
     "output_type": "display_data"
    },
    {
     "data": {
      "text/html": [
       "<pre style=\"white-space:pre;overflow-x:auto;line-height:normal;font-family:Menlo,'DejaVu Sans Mono',consolas,'Courier New',monospace\"></pre>\n"
      ],
      "text/plain": []
     },
     "metadata": {},
     "output_type": "display_data"
    },
    {
     "data": {
      "application/vnd.jupyter.widget-view+json": {
       "model_id": "1f241814d3f74abcbf189bb7b71e7071",
       "version_major": 2,
       "version_minor": 0
      },
      "text/plain": [
       "Output()"
      ]
     },
     "metadata": {},
     "output_type": "display_data"
    },
    {
     "data": {
      "text/html": [
       "<pre style=\"white-space:pre;overflow-x:auto;line-height:normal;font-family:Menlo,'DejaVu Sans Mono',consolas,'Courier New',monospace\"></pre>\n"
      ],
      "text/plain": []
     },
     "metadata": {},
     "output_type": "display_data"
    },
    {
     "data": {
      "application/vnd.jupyter.widget-view+json": {
       "model_id": "43d9c18c20e44c938231654cabc17b72",
       "version_major": 2,
       "version_minor": 0
      },
      "text/plain": [
       "Output()"
      ]
     },
     "metadata": {},
     "output_type": "display_data"
    },
    {
     "data": {
      "text/html": [
       "<pre style=\"white-space:pre;overflow-x:auto;line-height:normal;font-family:Menlo,'DejaVu Sans Mono',consolas,'Courier New',monospace\"></pre>\n"
      ],
      "text/plain": []
     },
     "metadata": {},
     "output_type": "display_data"
    },
    {
     "data": {
      "application/vnd.jupyter.widget-view+json": {
       "model_id": "81837f4e612543c89e6d4d4cfe760e11",
       "version_major": 2,
       "version_minor": 0
      },
      "text/plain": [
       "Output()"
      ]
     },
     "metadata": {},
     "output_type": "display_data"
    },
    {
     "data": {
      "text/html": [
       "<pre style=\"white-space:pre;overflow-x:auto;line-height:normal;font-family:Menlo,'DejaVu Sans Mono',consolas,'Courier New',monospace\"></pre>\n"
      ],
      "text/plain": []
     },
     "metadata": {},
     "output_type": "display_data"
    },
    {
     "data": {
      "application/vnd.jupyter.widget-view+json": {
       "model_id": "64a8fce1805940f8ae140b9c30ea1e4e",
       "version_major": 2,
       "version_minor": 0
      },
      "text/plain": [
       "Output()"
      ]
     },
     "metadata": {},
     "output_type": "display_data"
    },
    {
     "data": {
      "text/html": [
       "<pre style=\"white-space:pre;overflow-x:auto;line-height:normal;font-family:Menlo,'DejaVu Sans Mono',consolas,'Courier New',monospace\"></pre>\n"
      ],
      "text/plain": []
     },
     "metadata": {},
     "output_type": "display_data"
    },
    {
     "name": "stderr",
     "output_type": "stream",
     "text": [
      "The output file size is 2.22× larger than the input file.\n",
      "Possible reasons for this include:\n",
      "--deskew was issued, causing transcoding.\n",
      "The optional dependency 'jbig2' was not found, so some image optimizations could not be attempted.\n",
      "The optional dependency 'pngquant' was not found, so some image optimizations could not be attempted.\n",
      "\n",
      "INFO - Processed file 214857 with tag D4 - Mitigation Monitoring Program\n",
      "INFO - Added tag D4 to file with hash a09f77c1a43d7e37ccebe86f932cba654301f2ec\n",
      "INFO - Added tag D to file with hash a09f77c1a43d7e37ccebe86f932cba654301f2ec\n",
      "INFO - Processing file number 8 of 202: 783446\n",
      "INFO - Found file 783446 at N:\\PPDO\\Records\\49xx   Long Marine Lab\\4900\\4900-025A Overlooks\\D  - Environmental Review\\D4 - Mitigation Monitoring Program\\NOID PROCESS.doc\n",
      "INFO - Processed file 783446 with tag D4 - Mitigation Monitoring Program\n",
      "INFO - Added tag D4 to file with hash dec80111f9ecbe79527302e567a1588f068fb57c\n",
      "INFO - Added tag D to file with hash dec80111f9ecbe79527302e567a1588f068fb57c\n",
      "INFO - Processing file number 9 of 202: 338970\n",
      "INFO - Found file 338970 at N:\\PPDO\\Records\\32xx   Kresge College (College 6)\\3238\\3238\\D - Environmental Review Process\\D3 - CEQA Documentation\\D.3 CEQA MITIGATIONS\\EIR\\Kresge Draft EIR chapters\\4.7 Energy.pdf\n",
      "WARNING - File 338970 does not match tag D4 - Mitigation Monitoring Program in its location directories\n",
      "INFO - Found file 338970 at N:\\PPDO\\Records\\32xx   Kresge College (College 6)\\3238\\3238\\D - Environmental Review Process\\D4 - Mitigation Monitoring Program\\EIR\\Kresge Draft EIR chapters\\4.7 Energy.pdf\n",
      "INFO - Processed file 338970 with tag D4 - Mitigation Monitoring Program\n",
      "INFO - Added tag D4 to file with hash 0363f9249776563c9ae6cbf52ab5fb910f1172d6\n",
      "INFO - Added tag D to file with hash 0363f9249776563c9ae6cbf52ab5fb910f1172d6\n",
      "INFO - Processing file number 10 of 202: 790893\n",
      "INFO - Found file 790893 at N:\\PPDO\\Records\\49xx   Long Marine Lab\\4932\\4932\\D - Environmental Review Process\\D4 - Mitigation Monitoring Program\\Annual Compliance Report 2016\\Attachment B- Photopoints Photographs (01-04-2016).pdf\n",
      "INFO - Processed file 790893 with tag D4 - Mitigation Monitoring Program\n",
      "INFO - Added tag D4 to file with hash 06c956927597c1424834b89fca50df85ce9b7668\n",
      "INFO - Added tag D to file with hash 06c956927597c1424834b89fca50df85ce9b7668\n",
      "INFO - Processing file number 11 of 202: 468664\n",
      "INFO - Found file 468664 at N:\\PPDO\\Records\\49xx   Long Marine Lab\\USGS Building\\4934 Marine Mammal Pools\\D - Environmental Review Process\\D4 - Mitigation Monitoring Program\\Mammal Pools Final IS-MND-complete.pdf\n",
      "INFO - Processed file 468664 with tag D4 - Mitigation Monitoring Program\n",
      "INFO - Added tag D4 to file with hash cbf56a1a684ad3ff17b901547fcadc5e13ac5462\n",
      "INFO - Added tag D to file with hash cbf56a1a684ad3ff17b901547fcadc5e13ac5462\n",
      "INFO - Processing file number 12 of 202: 790884\n",
      "INFO - Found file 790884 at N:\\PPDO\\Records\\49xx   Long Marine Lab\\4932\\4932\\D - Environmental Review Process\\D4 - Mitigation Monitoring Program\\Off-campus parking baseline counts Spr 2014.xlsx\n",
      "INFO - Processed file 790884 with tag D4 - Mitigation Monitoring Program\n",
      "INFO - Added tag D4 to file with hash 053486566a343fb02ed2afd38f0e6b9f27f9e6ae\n",
      "INFO - Added tag D to file with hash 053486566a343fb02ed2afd38f0e6b9f27f9e6ae\n",
      "INFO - Processing file number 13 of 202: 614938\n",
      "INFO - Found file 614938 at N:\\PPDO\\Records\\98xx   Campus Utilities 2012 on\\9802 Resource Recovery Facility\\9802\\D - Environmental Review Process\\D4 - Mitigation Monitoring Program\\9802.D4.CommunicationD40001.pdf\n"
     ]
    },
    {
     "data": {
      "application/vnd.jupyter.widget-view+json": {
       "model_id": "85c83fd69cea48f4a35ad1887d017429",
       "version_major": 2,
       "version_minor": 0
      },
      "text/plain": [
       "Output()"
      ]
     },
     "metadata": {},
     "output_type": "display_data"
    },
    {
     "data": {
      "text/html": [
       "<pre style=\"white-space:pre;overflow-x:auto;line-height:normal;font-family:Menlo,'DejaVu Sans Mono',consolas,'Courier New',monospace\"></pre>\n"
      ],
      "text/plain": []
     },
     "metadata": {},
     "output_type": "display_data"
    },
    {
     "data": {
      "application/vnd.jupyter.widget-view+json": {
       "model_id": "f7feecf1edd14e9893313a684ad0f875",
       "version_major": 2,
       "version_minor": 0
      },
      "text/plain": [
       "Output()"
      ]
     },
     "metadata": {},
     "output_type": "display_data"
    },
    {
     "data": {
      "text/html": [
       "<pre style=\"white-space:pre;overflow-x:auto;line-height:normal;font-family:Menlo,'DejaVu Sans Mono',consolas,'Courier New',monospace\"></pre>\n"
      ],
      "text/plain": []
     },
     "metadata": {},
     "output_type": "display_data"
    },
    {
     "data": {
      "application/vnd.jupyter.widget-view+json": {
       "model_id": "b5fac483687b45df8fbe21fe7cdb6e33",
       "version_major": 2,
       "version_minor": 0
      },
      "text/plain": [
       "Output()"
      ]
     },
     "metadata": {},
     "output_type": "display_data"
    },
    {
     "data": {
      "text/html": [
       "<pre style=\"white-space:pre;overflow-x:auto;line-height:normal;font-family:Menlo,'DejaVu Sans Mono',consolas,'Courier New',monospace\"></pre>\n"
      ],
      "text/plain": []
     },
     "metadata": {},
     "output_type": "display_data"
    },
    {
     "data": {
      "application/vnd.jupyter.widget-view+json": {
       "model_id": "1e4258a56f644f748e3c6753949a1bab",
       "version_major": 2,
       "version_minor": 0
      },
      "text/plain": [
       "Output()"
      ]
     },
     "metadata": {},
     "output_type": "display_data"
    },
    {
     "data": {
      "text/html": [
       "<pre style=\"white-space:pre;overflow-x:auto;line-height:normal;font-family:Menlo,'DejaVu Sans Mono',consolas,'Courier New',monospace\"></pre>\n"
      ],
      "text/plain": []
     },
     "metadata": {},
     "output_type": "display_data"
    },
    {
     "data": {
      "application/vnd.jupyter.widget-view+json": {
       "model_id": "6341953f4bb145e6a47c10c2aa0605e1",
       "version_major": 2,
       "version_minor": 0
      },
      "text/plain": [
       "Output()"
      ]
     },
     "metadata": {},
     "output_type": "display_data"
    },
    {
     "data": {
      "text/html": [
       "<pre style=\"white-space:pre;overflow-x:auto;line-height:normal;font-family:Menlo,'DejaVu Sans Mono',consolas,'Courier New',monospace\"></pre>\n"
      ],
      "text/plain": []
     },
     "metadata": {},
     "output_type": "display_data"
    },
    {
     "data": {
      "application/vnd.jupyter.widget-view+json": {
       "model_id": "51c0fb9239164d53ab4ce086a2602202",
       "version_major": 2,
       "version_minor": 0
      },
      "text/plain": [
       "Output()"
      ]
     },
     "metadata": {},
     "output_type": "display_data"
    },
    {
     "data": {
      "text/html": [
       "<pre style=\"white-space:pre;overflow-x:auto;line-height:normal;font-family:Menlo,'DejaVu Sans Mono',consolas,'Courier New',monospace\"></pre>\n"
      ],
      "text/plain": []
     },
     "metadata": {},
     "output_type": "display_data"
    },
    {
     "name": "stderr",
     "output_type": "stream",
     "text": [
      "INFO - Processed file 614938 with tag D4 - Mitigation Monitoring Program\n",
      "INFO - Added tag D4 to file with hash 8de150efac1fc10cd26b1a166ada742a74d58516\n",
      "INFO - Added tag D to file with hash 8de150efac1fc10cd26b1a166ada742a74d58516\n",
      "INFO - Processing file number 14 of 202: 338877\n",
      "INFO - Found file 338877 at N:\\PPDO\\Records\\32xx   Kresge College (College 6)\\3238\\3238\\D - Environmental Review Process\\D3 - CEQA Documentation\\CEQA documents for Records\\Notice of Preparation\\Kresge College NOP_FINAL.pdf\n",
      "WARNING - File 338877 does not match tag D4 - Mitigation Monitoring Program in its location directories\n",
      "INFO - Found file 338877 at N:\\PPDO\\Records\\32xx   Kresge College (College 6)\\3238\\3238\\D - Environmental Review Process\\D3 - CEQA Documentation\\D.3 CEQA MITIGATIONS\\EIR\\kresge-college-nop_final.pdf\n",
      "WARNING - File 338877 does not match tag D4 - Mitigation Monitoring Program in its location directories\n",
      "INFO - Found file 338877 at N:\\PPDO\\Records\\32xx   Kresge College (College 6)\\3238\\3238\\D - Environmental Review Process\\D4 - Mitigation Monitoring Program\\EIR\\kresge-college-nop_final.pdf\n",
      "INFO - Processed file 338877 with tag D4 - Mitigation Monitoring Program\n",
      "INFO - Added tag D4 to file with hash 2aafc196b948e54135d8ce6433b4d57eed5f6b93\n",
      "INFO - Added tag D to file with hash 2aafc196b948e54135d8ce6433b4d57eed5f6b93\n",
      "INFO - Processing file number 15 of 202: 338949\n",
      "INFO - Found file 338949 at N:\\PPDO\\Records\\32xx   Kresge College (College 6)\\3238\\3238\\D - Environmental Review Process\\D3 - CEQA Documentation\\D.3 CEQA MITIGATIONS\\EIR\\Kresge Draft EIR chapters\\01_Executive Summary.pdf\n",
      "WARNING - File 338949 does not match tag D4 - Mitigation Monitoring Program in its location directories\n",
      "INFO - Found file 338949 at N:\\PPDO\\Records\\32xx   Kresge College (College 6)\\3238\\3238\\D - Environmental Review Process\\D4 - Mitigation Monitoring Program\\EIR\\Kresge Draft EIR chapters\\01_Executive Summary.pdf\n",
      "INFO - Processed file 338949 with tag D4 - Mitigation Monitoring Program\n",
      "INFO - Added tag D4 to file with hash 1ee3856f503e32d060fc8ebadd5909be631838ca\n",
      "INFO - Added tag D to file with hash 1ee3856f503e32d060fc8ebadd5909be631838ca\n",
      "INFO - Processing file number 16 of 202: 179860\n",
      "INFO - Found file 179860 at N:\\PPDO\\Records\\18xx   Mc Henry Library Unit I\\1810\\1810\\D - Environmental Review Process\\D1 - Environmental Correspondence\\Preconstruction Wildlife Surverys for SF Dusky-footed Woodrats and Nesting Birds.pdf\n",
      "WARNING - File 179860 does not match tag D4 - Mitigation Monitoring Program in its location directories\n",
      "INFO - Found file 179860 at N:\\PPDO\\Records\\18xx   Mc Henry Library Unit I\\1810\\1810\\D - Environmental Review Process\\D4 - Mitigation Monitoring Program\\Preconstruction Wildlife Surveys for SF Dusky-footed Woodrats and Nesting Birds.pdf\n"
     ]
    },
    {
     "data": {
      "application/vnd.jupyter.widget-view+json": {
       "model_id": "31d6148b4f5c45949190f8638bfe5e4f",
       "version_major": 2,
       "version_minor": 0
      },
      "text/plain": [
       "Output()"
      ]
     },
     "metadata": {},
     "output_type": "display_data"
    },
    {
     "data": {
      "text/html": [
       "<pre style=\"white-space:pre;overflow-x:auto;line-height:normal;font-family:Menlo,'DejaVu Sans Mono',consolas,'Courier New',monospace\"></pre>\n"
      ],
      "text/plain": []
     },
     "metadata": {},
     "output_type": "display_data"
    },
    {
     "data": {
      "application/vnd.jupyter.widget-view+json": {
       "model_id": "3a3ceb12ff524c07b53a8fd7c343f44c",
       "version_major": 2,
       "version_minor": 0
      },
      "text/plain": [
       "Output()"
      ]
     },
     "metadata": {},
     "output_type": "display_data"
    },
    {
     "data": {
      "text/html": [
       "<pre style=\"white-space:pre;overflow-x:auto;line-height:normal;font-family:Menlo,'DejaVu Sans Mono',consolas,'Courier New',monospace\"></pre>\n"
      ],
      "text/plain": []
     },
     "metadata": {},
     "output_type": "display_data"
    },
    {
     "data": {
      "application/vnd.jupyter.widget-view+json": {
       "model_id": "ba0cc48ec00142318687ca6237a6c99b",
       "version_major": 2,
       "version_minor": 0
      },
      "text/plain": [
       "Output()"
      ]
     },
     "metadata": {},
     "output_type": "display_data"
    },
    {
     "data": {
      "text/html": [
       "<pre style=\"white-space:pre;overflow-x:auto;line-height:normal;font-family:Menlo,'DejaVu Sans Mono',consolas,'Courier New',monospace\"></pre>\n"
      ],
      "text/plain": []
     },
     "metadata": {},
     "output_type": "display_data"
    },
    {
     "data": {
      "application/vnd.jupyter.widget-view+json": {
       "model_id": "aac70d01388940ba9bc8489d45dd6c31",
       "version_major": 2,
       "version_minor": 0
      },
      "text/plain": [
       "Output()"
      ]
     },
     "metadata": {},
     "output_type": "display_data"
    },
    {
     "data": {
      "text/html": [
       "<pre style=\"white-space:pre;overflow-x:auto;line-height:normal;font-family:Menlo,'DejaVu Sans Mono',consolas,'Courier New',monospace\"></pre>\n"
      ],
      "text/plain": []
     },
     "metadata": {},
     "output_type": "display_data"
    },
    {
     "data": {
      "application/vnd.jupyter.widget-view+json": {
       "model_id": "c16d1387a44944e5abbf9dd02629f7b1",
       "version_major": 2,
       "version_minor": 0
      },
      "text/plain": [
       "Output()"
      ]
     },
     "metadata": {},
     "output_type": "display_data"
    },
    {
     "data": {
      "text/html": [
       "<pre style=\"white-space:pre;overflow-x:auto;line-height:normal;font-family:Menlo,'DejaVu Sans Mono',consolas,'Courier New',monospace\"></pre>\n"
      ],
      "text/plain": []
     },
     "metadata": {},
     "output_type": "display_data"
    },
    {
     "data": {
      "application/vnd.jupyter.widget-view+json": {
       "model_id": "88582f9981b240f7a5ed9595baa88136",
       "version_major": 2,
       "version_minor": 0
      },
      "text/plain": [
       "Output()"
      ]
     },
     "metadata": {},
     "output_type": "display_data"
    },
    {
     "data": {
      "text/html": [
       "<pre style=\"white-space:pre;overflow-x:auto;line-height:normal;font-family:Menlo,'DejaVu Sans Mono',consolas,'Courier New',monospace\"></pre>\n"
      ],
      "text/plain": []
     },
     "metadata": {},
     "output_type": "display_data"
    },
    {
     "name": "stderr",
     "output_type": "stream",
     "text": [
      "INFO - Processed file 179860 with tag D4 - Mitigation Monitoring Program\n",
      "INFO - Added tag D4 to file with hash 0a26341cdd7ebafd665141ee97b575a164a9bf7c\n",
      "INFO - Added tag D to file with hash 0a26341cdd7ebafd665141ee97b575a164a9bf7c\n",
      "INFO - Processing file number 17 of 202: 135236\n",
      "INFO - Found file 135236 at N:\\PPDO\\Records\\114xx  Long Range Development Planning (LRDP) Documents and Studies\\11405 LRDP 1988\\11405\\D - Environmental Review Process\\D4 - Mitigation Monitoring Program\\11405.D4.2001 Annual Mitigation Monitoring Program Report.pdf\n"
     ]
    },
    {
     "data": {
      "application/vnd.jupyter.widget-view+json": {
       "model_id": "e9ddb30f500b46bfb741f4e2a1ae5adf",
       "version_major": 2,
       "version_minor": 0
      },
      "text/plain": [
       "Output()"
      ]
     },
     "metadata": {},
     "output_type": "display_data"
    },
    {
     "data": {
      "text/html": [
       "<pre style=\"white-space:pre;overflow-x:auto;line-height:normal;font-family:Menlo,'DejaVu Sans Mono',consolas,'Courier New',monospace\"></pre>\n"
      ],
      "text/plain": []
     },
     "metadata": {},
     "output_type": "display_data"
    },
    {
     "data": {
      "application/vnd.jupyter.widget-view+json": {
       "model_id": "88dbade6e0564f1fb6c59165f53f600d",
       "version_major": 2,
       "version_minor": 0
      },
      "text/plain": [
       "Output()"
      ]
     },
     "metadata": {},
     "output_type": "display_data"
    },
    {
     "data": {
      "text/html": [
       "<pre style=\"white-space:pre;overflow-x:auto;line-height:normal;font-family:Menlo,'DejaVu Sans Mono',consolas,'Courier New',monospace\">[tesseract] lots of diacritics - possibly poor OCR\n",
       "</pre>\n"
      ],
      "text/plain": [
       "[tesseract] lots of diacritics - possibly poor OCR\n"
      ]
     },
     "metadata": {},
     "output_type": "display_data"
    },
    {
     "data": {
      "text/html": [
       "<pre style=\"white-space:pre;overflow-x:auto;line-height:normal;font-family:Menlo,'DejaVu Sans Mono',consolas,'Courier New',monospace\">[tesseract] lots of diacritics - possibly poor OCR\n",
       "</pre>\n"
      ],
      "text/plain": [
       "[tesseract] lots of diacritics - possibly poor OCR\n"
      ]
     },
     "metadata": {},
     "output_type": "display_data"
    },
    {
     "data": {
      "text/html": [
       "<pre style=\"white-space:pre;overflow-x:auto;line-height:normal;font-family:Menlo,'DejaVu Sans Mono',consolas,'Courier New',monospace\">[tesseract] lots of diacritics - possibly poor OCR\n",
       "</pre>\n"
      ],
      "text/plain": [
       "[tesseract] lots of diacritics - possibly poor OCR\n"
      ]
     },
     "metadata": {},
     "output_type": "display_data"
    },
    {
     "data": {
      "text/html": [
       "<pre style=\"white-space:pre;overflow-x:auto;line-height:normal;font-family:Menlo,'DejaVu Sans Mono',consolas,'Courier New',monospace\">[tesseract] lots of diacritics - possibly poor OCR\n",
       "</pre>\n"
      ],
      "text/plain": [
       "[tesseract] lots of diacritics - possibly poor OCR\n"
      ]
     },
     "metadata": {},
     "output_type": "display_data"
    },
    {
     "data": {
      "text/html": [
       "<pre style=\"white-space:pre;overflow-x:auto;line-height:normal;font-family:Menlo,'DejaVu Sans Mono',consolas,'Courier New',monospace\">[tesseract] lots of diacritics - possibly poor OCR\n",
       "</pre>\n"
      ],
      "text/plain": [
       "[tesseract] lots of diacritics - possibly poor OCR\n"
      ]
     },
     "metadata": {},
     "output_type": "display_data"
    },
    {
     "data": {
      "text/html": [
       "<pre style=\"white-space:pre;overflow-x:auto;line-height:normal;font-family:Menlo,'DejaVu Sans Mono',consolas,'Courier New',monospace\">[tesseract] lots of diacritics - possibly poor OCR\n",
       "</pre>\n"
      ],
      "text/plain": [
       "[tesseract] lots of diacritics - possibly poor OCR\n"
      ]
     },
     "metadata": {},
     "output_type": "display_data"
    },
    {
     "data": {
      "text/html": [
       "<pre style=\"white-space:pre;overflow-x:auto;line-height:normal;font-family:Menlo,'DejaVu Sans Mono',consolas,'Courier New',monospace\">[tesseract] lots of diacritics - possibly poor OCR\n",
       "</pre>\n"
      ],
      "text/plain": [
       "[tesseract] lots of diacritics - possibly poor OCR\n"
      ]
     },
     "metadata": {},
     "output_type": "display_data"
    },
    {
     "data": {
      "text/html": [
       "<pre style=\"white-space:pre;overflow-x:auto;line-height:normal;font-family:Menlo,'DejaVu Sans Mono',consolas,'Courier New',monospace\">[tesseract] Error during processing.\n",
       "</pre>\n"
      ],
      "text/plain": [
       "[tesseract] Error during processing.\n"
      ]
     },
     "metadata": {},
     "output_type": "display_data"
    },
    {
     "data": {
      "text/html": [
       "<pre style=\"white-space:pre;overflow-x:auto;line-height:normal;font-family:Menlo,'DejaVu Sans Mono',consolas,'Courier New',monospace\"></pre>\n"
      ],
      "text/plain": []
     },
     "metadata": {},
     "output_type": "display_data"
    },
    {
     "data": {
      "application/vnd.jupyter.widget-view+json": {
       "model_id": "bc8453cb4ebd46baa4e60dd46d53364d",
       "version_major": 2,
       "version_minor": 0
      },
      "text/plain": [
       "Output()"
      ]
     },
     "metadata": {},
     "output_type": "display_data"
    },
    {
     "data": {
      "text/html": [
       "<pre style=\"white-space:pre;overflow-x:auto;line-height:normal;font-family:Menlo,'DejaVu Sans Mono',consolas,'Courier New',monospace\"></pre>\n"
      ],
      "text/plain": []
     },
     "metadata": {},
     "output_type": "display_data"
    },
    {
     "data": {
      "application/vnd.jupyter.widget-view+json": {
       "model_id": "0272e7600ff0410d89e0be7457d92dc5",
       "version_major": 2,
       "version_minor": 0
      },
      "text/plain": [
       "Output()"
      ]
     },
     "metadata": {},
     "output_type": "display_data"
    },
    {
     "data": {
      "text/html": [
       "<pre style=\"white-space:pre;overflow-x:auto;line-height:normal;font-family:Menlo,'DejaVu Sans Mono',consolas,'Courier New',monospace\"></pre>\n"
      ],
      "text/plain": []
     },
     "metadata": {},
     "output_type": "display_data"
    },
    {
     "data": {
      "application/vnd.jupyter.widget-view+json": {
       "model_id": "2a72bd96b71c424b94c51eadecced48b",
       "version_major": 2,
       "version_minor": 0
      },
      "text/plain": [
       "Output()"
      ]
     },
     "metadata": {},
     "output_type": "display_data"
    },
    {
     "data": {
      "text/html": [
       "<pre style=\"white-space:pre;overflow-x:auto;line-height:normal;font-family:Menlo,'DejaVu Sans Mono',consolas,'Courier New',monospace\"></pre>\n"
      ],
      "text/plain": []
     },
     "metadata": {},
     "output_type": "display_data"
    },
    {
     "data": {
      "application/vnd.jupyter.widget-view+json": {
       "model_id": "92c395235ef144fc86e8654c5df3cfcd",
       "version_major": 2,
       "version_minor": 0
      },
      "text/plain": [
       "Output()"
      ]
     },
     "metadata": {},
     "output_type": "display_data"
    },
    {
     "data": {
      "text/html": [
       "<pre style=\"white-space:pre;overflow-x:auto;line-height:normal;font-family:Menlo,'DejaVu Sans Mono',consolas,'Courier New',monospace\"></pre>\n"
      ],
      "text/plain": []
     },
     "metadata": {},
     "output_type": "display_data"
    },
    {
     "name": "stderr",
     "output_type": "stream",
     "text": [
      "The output file size is 4.98× larger than the input file.\n",
      "Possible reasons for this include:\n",
      "--deskew was issued, causing transcoding.\n",
      "The optional dependency 'jbig2' was not found, so some image optimizations could not be attempted.\n",
      "The optional dependency 'pngquant' was not found, so some image optimizations could not be attempted.\n",
      "\n",
      "INFO - Processed file 135236 with tag D4 - Mitigation Monitoring Program\n",
      "INFO - Added tag D4 to file with hash 93a2a15b689f620c4d4f1667e73a87884295034a\n",
      "INFO - Added tag D to file with hash 93a2a15b689f620c4d4f1667e73a87884295034a\n",
      "INFO - Processing file number 18 of 202: 614939\n",
      "INFO - Found file 614939 at N:\\PPDO\\Records\\98xx   Campus Utilities 2012 on\\9802 Resource Recovery Facility\\9802\\D - Environmental Review Process\\D4 - Mitigation Monitoring Program\\9802.D4.EnviornmentalReviewD4.pdf\n"
     ]
    },
    {
     "data": {
      "application/vnd.jupyter.widget-view+json": {
       "model_id": "071bafff987c4ae990d04f44ae7817df",
       "version_major": 2,
       "version_minor": 0
      },
      "text/plain": [
       "Output()"
      ]
     },
     "metadata": {},
     "output_type": "display_data"
    },
    {
     "data": {
      "text/html": [
       "<pre style=\"white-space:pre;overflow-x:auto;line-height:normal;font-family:Menlo,'DejaVu Sans Mono',consolas,'Courier New',monospace\"></pre>\n"
      ],
      "text/plain": []
     },
     "metadata": {},
     "output_type": "display_data"
    },
    {
     "data": {
      "application/vnd.jupyter.widget-view+json": {
       "model_id": "e83e1a0568364dbbbd02c18d049b611f",
       "version_major": 2,
       "version_minor": 0
      },
      "text/plain": [
       "Output()"
      ]
     },
     "metadata": {},
     "output_type": "display_data"
    },
    {
     "data": {
      "text/html": [
       "<pre style=\"white-space:pre;overflow-x:auto;line-height:normal;font-family:Menlo,'DejaVu Sans Mono',consolas,'Courier New',monospace\"></pre>\n"
      ],
      "text/plain": []
     },
     "metadata": {},
     "output_type": "display_data"
    },
    {
     "data": {
      "application/vnd.jupyter.widget-view+json": {
       "model_id": "798bad8f40b84ba796d9de25364a9ef1",
       "version_major": 2,
       "version_minor": 0
      },
      "text/plain": [
       "Output()"
      ]
     },
     "metadata": {},
     "output_type": "display_data"
    },
    {
     "data": {
      "text/html": [
       "<pre style=\"white-space:pre;overflow-x:auto;line-height:normal;font-family:Menlo,'DejaVu Sans Mono',consolas,'Courier New',monospace\"></pre>\n"
      ],
      "text/plain": []
     },
     "metadata": {},
     "output_type": "display_data"
    },
    {
     "data": {
      "application/vnd.jupyter.widget-view+json": {
       "model_id": "afbc494f2d8142beb41a1ac75c28db73",
       "version_major": 2,
       "version_minor": 0
      },
      "text/plain": [
       "Output()"
      ]
     },
     "metadata": {},
     "output_type": "display_data"
    },
    {
     "data": {
      "text/html": [
       "<pre style=\"white-space:pre;overflow-x:auto;line-height:normal;font-family:Menlo,'DejaVu Sans Mono',consolas,'Courier New',monospace\"></pre>\n"
      ],
      "text/plain": []
     },
     "metadata": {},
     "output_type": "display_data"
    },
    {
     "data": {
      "application/vnd.jupyter.widget-view+json": {
       "model_id": "51ae057f6d024f3fb8114440ee7df9be",
       "version_major": 2,
       "version_minor": 0
      },
      "text/plain": [
       "Output()"
      ]
     },
     "metadata": {},
     "output_type": "display_data"
    },
    {
     "data": {
      "text/html": [
       "<pre style=\"white-space:pre;overflow-x:auto;line-height:normal;font-family:Menlo,'DejaVu Sans Mono',consolas,'Courier New',monospace\"></pre>\n"
      ],
      "text/plain": []
     },
     "metadata": {},
     "output_type": "display_data"
    },
    {
     "data": {
      "application/vnd.jupyter.widget-view+json": {
       "model_id": "023c524a59c24dc1be52be2296e0f7af",
       "version_major": 2,
       "version_minor": 0
      },
      "text/plain": [
       "Output()"
      ]
     },
     "metadata": {},
     "output_type": "display_data"
    },
    {
     "data": {
      "text/html": [
       "<pre style=\"white-space:pre;overflow-x:auto;line-height:normal;font-family:Menlo,'DejaVu Sans Mono',consolas,'Courier New',monospace\"></pre>\n"
      ],
      "text/plain": []
     },
     "metadata": {},
     "output_type": "display_data"
    },
    {
     "name": "stderr",
     "output_type": "stream",
     "text": [
      "The output file size is 2.09× larger than the input file.\n",
      "Possible reasons for this include:\n",
      "--deskew was issued, causing transcoding.\n",
      "The optional dependency 'jbig2' was not found, so some image optimizations could not be attempted.\n",
      "The optional dependency 'pngquant' was not found, so some image optimizations could not be attempted.\n",
      "\n",
      "INFO - Processed file 614939 with tag D4 - Mitigation Monitoring Program\n",
      "INFO - Added tag D4 to file with hash 95558235cf84019fa665abe0add7de8eadabb3ab\n",
      "INFO - Added tag D to file with hash 95558235cf84019fa665abe0add7de8eadabb3ab\n",
      "INFO - Processing file number 19 of 202: 338950\n",
      "INFO - Found file 338950 at N:\\PPDO\\Records\\32xx   Kresge College (College 6)\\3238\\3238\\D - Environmental Review Process\\D3 - CEQA Documentation\\D.3 CEQA MITIGATIONS\\EIR\\Kresge Draft EIR chapters\\0_Cover_Title_TOC_Acronyms.pdf\n",
      "WARNING - File 338950 does not match tag D4 - Mitigation Monitoring Program in its location directories\n",
      "INFO - Found file 338950 at N:\\PPDO\\Records\\32xx   Kresge College (College 6)\\3238\\3238\\D - Environmental Review Process\\D4 - Mitigation Monitoring Program\\EIR\\Kresge Draft EIR chapters\\0_Cover_Title_TOC_Acronyms.pdf\n",
      "INFO - Processed file 338950 with tag D4 - Mitigation Monitoring Program\n",
      "INFO - Added tag D4 to file with hash edac129b6ca889bf1163a3007c56184cc721bb18\n",
      "INFO - Added tag D to file with hash edac129b6ca889bf1163a3007c56184cc721bb18\n",
      "INFO - Processing file number 20 of 202: 973555\n",
      "INFO - Found file 973555 at N:\\PPDO\\Records\\14xx   Thimann Labs\\1443\\G - Construction\\G1 - Construction Correspondence\\Email Correspondence Dave Tanza\\data\\accounts\\David Tanza@davidt.bgpostoffice.bgdomain\\att\\53\\04\\D4 - Mitigation Monitoring Program\\D4\\TEXT.htm\n",
      "INFO - Processed file 973555 with tag D4 - Mitigation Monitoring Program\n",
      "INFO - Added tag D4 to file with hash f1ce85a1e782f06ab73e3b3f47fddc6548d38643\n",
      "INFO - Added tag D to file with hash f1ce85a1e782f06ab73e3b3f47fddc6548d38643\n",
      "INFO - Processing file number 21 of 202: 790887\n",
      "INFO - Found file 790887 at N:\\PPDO\\Records\\49xx   Long Marine Lab\\4932\\4932\\D - Environmental Review Process\\D4 - Mitigation Monitoring Program\\UC Santa Cruz Mail - Re_ FW_ Noise Information for MSC.pdf\n",
      "INFO - Processed file 790887 with tag D4 - Mitigation Monitoring Program\n",
      "INFO - Added tag D4 to file with hash e0ad2a62cd57c7115abd27f4e9f29678b0ea85d6\n",
      "INFO - Added tag D to file with hash e0ad2a62cd57c7115abd27f4e9f29678b0ea85d6\n",
      "INFO - Processing file number 22 of 202: 224851\n",
      "WARNING - File 224851 not found at N:\\PPDO\\Records\\21xx   Central Heating Plant (Fackler Cogeneration)\\2114\\2114\\D4 - Mitigation Monitoring Program\\2114.D4. CenCo Quote.pdf\n",
      "WARNING - No valid file found for 224851\n",
      "INFO - Processing file number 23 of 202: 489860\n",
      "INFO - Found file 489860 at N:\\PPDO\\Records\\55xx   College 9 & 10\\5503\\5503\\D - Environmental Review Process\\D4 - Mitigation Monitoring Program\\Memorandum and Correspondence.pdf\n"
     ]
    },
    {
     "data": {
      "application/vnd.jupyter.widget-view+json": {
       "model_id": "6d91f45fb31e44af940999b32d708045",
       "version_major": 2,
       "version_minor": 0
      },
      "text/plain": [
       "Output()"
      ]
     },
     "metadata": {},
     "output_type": "display_data"
    },
    {
     "data": {
      "text/html": [
       "<pre style=\"white-space:pre;overflow-x:auto;line-height:normal;font-family:Menlo,'DejaVu Sans Mono',consolas,'Courier New',monospace\"></pre>\n"
      ],
      "text/plain": []
     },
     "metadata": {},
     "output_type": "display_data"
    },
    {
     "data": {
      "application/vnd.jupyter.widget-view+json": {
       "model_id": "fccae61863534985b688150a6aa9ef30",
       "version_major": 2,
       "version_minor": 0
      },
      "text/plain": [
       "Output()"
      ]
     },
     "metadata": {},
     "output_type": "display_data"
    },
    {
     "data": {
      "text/html": [
       "<pre style=\"white-space:pre;overflow-x:auto;line-height:normal;font-family:Menlo,'DejaVu Sans Mono',consolas,'Courier New',monospace\"></pre>\n"
      ],
      "text/plain": []
     },
     "metadata": {},
     "output_type": "display_data"
    },
    {
     "data": {
      "application/vnd.jupyter.widget-view+json": {
       "model_id": "8027cc0af8f040e3a54b7e643f11c3bd",
       "version_major": 2,
       "version_minor": 0
      },
      "text/plain": [
       "Output()"
      ]
     },
     "metadata": {},
     "output_type": "display_data"
    },
    {
     "data": {
      "text/html": [
       "<pre style=\"white-space:pre;overflow-x:auto;line-height:normal;font-family:Menlo,'DejaVu Sans Mono',consolas,'Courier New',monospace\"></pre>\n"
      ],
      "text/plain": []
     },
     "metadata": {},
     "output_type": "display_data"
    },
    {
     "data": {
      "application/vnd.jupyter.widget-view+json": {
       "model_id": "ac540c2878fc4d12900bef342ab40524",
       "version_major": 2,
       "version_minor": 0
      },
      "text/plain": [
       "Output()"
      ]
     },
     "metadata": {},
     "output_type": "display_data"
    },
    {
     "data": {
      "text/html": [
       "<pre style=\"white-space:pre;overflow-x:auto;line-height:normal;font-family:Menlo,'DejaVu Sans Mono',consolas,'Courier New',monospace\"></pre>\n"
      ],
      "text/plain": []
     },
     "metadata": {},
     "output_type": "display_data"
    },
    {
     "data": {
      "application/vnd.jupyter.widget-view+json": {
       "model_id": "1e23e8451e614dcdbef852854330ef6b",
       "version_major": 2,
       "version_minor": 0
      },
      "text/plain": [
       "Output()"
      ]
     },
     "metadata": {},
     "output_type": "display_data"
    },
    {
     "data": {
      "text/html": [
       "<pre style=\"white-space:pre;overflow-x:auto;line-height:normal;font-family:Menlo,'DejaVu Sans Mono',consolas,'Courier New',monospace\"></pre>\n"
      ],
      "text/plain": []
     },
     "metadata": {},
     "output_type": "display_data"
    },
    {
     "data": {
      "application/vnd.jupyter.widget-view+json": {
       "model_id": "fcb22c4320d7452799ad7c4a11808727",
       "version_major": 2,
       "version_minor": 0
      },
      "text/plain": [
       "Output()"
      ]
     },
     "metadata": {},
     "output_type": "display_data"
    },
    {
     "data": {
      "text/html": [
       "<pre style=\"white-space:pre;overflow-x:auto;line-height:normal;font-family:Menlo,'DejaVu Sans Mono',consolas,'Courier New',monospace\"></pre>\n"
      ],
      "text/plain": []
     },
     "metadata": {},
     "output_type": "display_data"
    },
    {
     "name": "stderr",
     "output_type": "stream",
     "text": [
      "INFO - Processed file 489860 with tag D4 - Mitigation Monitoring Program\n",
      "INFO - Added tag D4 to file with hash edfac97c8e4e83f2d03acdfb31968ad658b47e49\n",
      "INFO - Added tag D to file with hash edfac97c8e4e83f2d03acdfb31968ad658b47e49\n",
      "INFO - Processing file number 24 of 202: 1116\n",
      "WARNING - File 1116 not found at N:\\PPDO\\Records\\14xx   Thimann Labs\\1400\\1400-093A Thimann Labs, Roof Repair Asbestos Abatement\\D - Environmental\\D4 - Mitigation Monitoring Program\\1400-093A.D4.Airborne Fiber Analysis.pdf\n",
      "WARNING - File 1116 not found at N:\\PPDO\\Records\\14xx   Thimann Labs\\1400\\1400-093A Thimann Labs, Roof Repair Asbestos Abatement\\D - Environmental\\Mitigation Monitoring Program\\A212934_REP01.pdf\n",
      "INFO - Found file 1116 at N:\\PPDO\\Records\\14xx   Thimann Labs\\1400\\1400-093A\\D - Environmental Review Process\\D4 - Mitigation Monitoring Program\\1400-093A.D4.Airborne Fiber Analysis.pdf\n",
      "INFO - Processed file 1116 with tag D4 - Mitigation Monitoring Program\n",
      "INFO - Added tag D4 to file with hash fb86528ddc85779dc69883aac2a0d824d9181143\n",
      "INFO - Added tag D to file with hash fb86528ddc85779dc69883aac2a0d824d9181143\n",
      "INFO - Processing file number 25 of 202: 1115\n",
      "INFO - Found file 1115 at N:\\PPDO\\Records\\14xx   Thimann Labs\\1400\\1400-093A\\D - Environmental Review Process\\D4 - Mitigation Monitoring Program\\1400-093A.D4.Analysis Request Form(COC).pdf\n"
     ]
    },
    {
     "data": {
      "application/vnd.jupyter.widget-view+json": {
       "model_id": "6acec2cf92ab44da9100907f3cf59efb",
       "version_major": 2,
       "version_minor": 0
      },
      "text/plain": [
       "Output()"
      ]
     },
     "metadata": {},
     "output_type": "display_data"
    },
    {
     "data": {
      "text/html": [
       "<pre style=\"white-space:pre;overflow-x:auto;line-height:normal;font-family:Menlo,'DejaVu Sans Mono',consolas,'Courier New',monospace\"></pre>\n"
      ],
      "text/plain": []
     },
     "metadata": {},
     "output_type": "display_data"
    },
    {
     "data": {
      "application/vnd.jupyter.widget-view+json": {
       "model_id": "0f13c80645aa418b8d3d7daf86cec456",
       "version_major": 2,
       "version_minor": 0
      },
      "text/plain": [
       "Output()"
      ]
     },
     "metadata": {},
     "output_type": "display_data"
    },
    {
     "data": {
      "text/html": [
       "<pre style=\"white-space:pre;overflow-x:auto;line-height:normal;font-family:Menlo,'DejaVu Sans Mono',consolas,'Courier New',monospace\"></pre>\n"
      ],
      "text/plain": []
     },
     "metadata": {},
     "output_type": "display_data"
    },
    {
     "data": {
      "application/vnd.jupyter.widget-view+json": {
       "model_id": "b9e21731a4234e22b1029988a350e169",
       "version_major": 2,
       "version_minor": 0
      },
      "text/plain": [
       "Output()"
      ]
     },
     "metadata": {},
     "output_type": "display_data"
    },
    {
     "data": {
      "text/html": [
       "<pre style=\"white-space:pre;overflow-x:auto;line-height:normal;font-family:Menlo,'DejaVu Sans Mono',consolas,'Courier New',monospace\">c:\\Users\\adankert\\projects\\file_code_tagger\\.venv\\Lib\\site-packages\\pikepdf\\models\\metadata.py:414: UserWarning: \n",
       "The metadata field /CreationDate could not be copied to XMP\n",
       "  warn(msg)\n",
       "</pre>\n"
      ],
      "text/plain": [
       "c:\\Users\\adankert\\projects\\file_code_tagger\\.venv\\Lib\\site-packages\\pikepdf\\models\\metadata.py:414: UserWarning: \n",
       "The metadata field /CreationDate could not be copied to XMP\n",
       "  warn(msg)\n"
      ]
     },
     "metadata": {},
     "output_type": "display_data"
    },
    {
     "data": {
      "text/html": [
       "<pre style=\"white-space:pre;overflow-x:auto;line-height:normal;font-family:Menlo,'DejaVu Sans Mono',consolas,'Courier New',monospace\">c:\\Users\\adankert\\projects\\file_code_tagger\\.venv\\Lib\\site-packages\\pikepdf\\models\\metadata.py:529: UserWarning: \n",
       "The DocumentInfo field /CreationDate could not be updated from XMP\n",
       "  warn(\n",
       "</pre>\n"
      ],
      "text/plain": [
       "c:\\Users\\adankert\\projects\\file_code_tagger\\.venv\\Lib\\site-packages\\pikepdf\\models\\metadata.py:529: UserWarning: \n",
       "The DocumentInfo field /CreationDate could not be updated from XMP\n",
       "  warn(\n"
      ]
     },
     "metadata": {},
     "output_type": "display_data"
    },
    {
     "data": {
      "text/html": [
       "<pre style=\"white-space:pre;overflow-x:auto;line-height:normal;font-family:Menlo,'DejaVu Sans Mono',consolas,'Courier New',monospace\"></pre>\n"
      ],
      "text/plain": []
     },
     "metadata": {},
     "output_type": "display_data"
    },
    {
     "data": {
      "application/vnd.jupyter.widget-view+json": {
       "model_id": "5eaacfa87f9b4e7ba3ed0e096554392d",
       "version_major": 2,
       "version_minor": 0
      },
      "text/plain": [
       "Output()"
      ]
     },
     "metadata": {},
     "output_type": "display_data"
    },
    {
     "data": {
      "text/html": [
       "<pre style=\"white-space:pre;overflow-x:auto;line-height:normal;font-family:Menlo,'DejaVu Sans Mono',consolas,'Courier New',monospace\"></pre>\n"
      ],
      "text/plain": []
     },
     "metadata": {},
     "output_type": "display_data"
    },
    {
     "data": {
      "application/vnd.jupyter.widget-view+json": {
       "model_id": "d83b24d8d99141cf8f7f902b6c922db7",
       "version_major": 2,
       "version_minor": 0
      },
      "text/plain": [
       "Output()"
      ]
     },
     "metadata": {},
     "output_type": "display_data"
    },
    {
     "data": {
      "text/html": [
       "<pre style=\"white-space:pre;overflow-x:auto;line-height:normal;font-family:Menlo,'DejaVu Sans Mono',consolas,'Courier New',monospace\"></pre>\n"
      ],
      "text/plain": []
     },
     "metadata": {},
     "output_type": "display_data"
    },
    {
     "data": {
      "application/vnd.jupyter.widget-view+json": {
       "model_id": "5c3ab084ae9148e58a7d4302eb5e9710",
       "version_major": 2,
       "version_minor": 0
      },
      "text/plain": [
       "Output()"
      ]
     },
     "metadata": {},
     "output_type": "display_data"
    },
    {
     "data": {
      "text/html": [
       "<pre style=\"white-space:pre;overflow-x:auto;line-height:normal;font-family:Menlo,'DejaVu Sans Mono',consolas,'Courier New',monospace\"></pre>\n"
      ],
      "text/plain": []
     },
     "metadata": {},
     "output_type": "display_data"
    },
    {
     "name": "stderr",
     "output_type": "stream",
     "text": [
      "INFO - Processed file 1115 with tag D4 - Mitigation Monitoring Program\n",
      "INFO - Added tag D4 to file with hash 67ab2403ec1f51b7f9acfd24a216bf0585e10f36\n",
      "INFO - Added tag D to file with hash 67ab2403ec1f51b7f9acfd24a216bf0585e10f36\n",
      "INFO - Processing file number 26 of 202: 214871\n",
      "INFO - Found file 214871 at N:\\PPDO\\Records\\21xx   Central Heating Plant (Fackler Cogeneration)\\2113\\2113\\D - Environmental Review Process\\D4 - Mitigation Monitoring Program\\Timber Harvest & Conversion\\Cogen Timber Harvest Documents.doc\n",
      "WARNING - Text length for file 214871 is 106:\n",
      "\n",
      "Cogen Timber Harvest Documents\n",
      "ftp://thp.fire.ca.gov/THPLibrary/North_Coast_Region/THPs2012/1-12-002SCR/\n",
      "\n",
      "INFO - Processing file number 27 of 202: 474293\n",
      "INFO - Found file 474293 at N:\\PPDO\\Records\\52xx   Earth Marine Science Building\\5201\\5201\\D - Environmental Review Process\\D4 - Mitigation Monitoring Program\\5201.D4.LDRP Evidence.pdf\n"
     ]
    },
    {
     "data": {
      "application/vnd.jupyter.widget-view+json": {
       "model_id": "02be3724836d4b9099baaf4c29f9e75e",
       "version_major": 2,
       "version_minor": 0
      },
      "text/plain": [
       "Output()"
      ]
     },
     "metadata": {},
     "output_type": "display_data"
    },
    {
     "data": {
      "text/html": [
       "<pre style=\"white-space:pre;overflow-x:auto;line-height:normal;font-family:Menlo,'DejaVu Sans Mono',consolas,'Courier New',monospace\"></pre>\n"
      ],
      "text/plain": []
     },
     "metadata": {},
     "output_type": "display_data"
    },
    {
     "data": {
      "application/vnd.jupyter.widget-view+json": {
       "model_id": "a89b1a913a0a4500a1ff1537ac5d1d09",
       "version_major": 2,
       "version_minor": 0
      },
      "text/plain": [
       "Output()"
      ]
     },
     "metadata": {},
     "output_type": "display_data"
    },
    {
     "data": {
      "text/html": [
       "<pre style=\"white-space:pre;overflow-x:auto;line-height:normal;font-family:Menlo,'DejaVu Sans Mono',consolas,'Courier New',monospace\">[tesseract] lots of diacritics - possibly poor OCR\n",
       "</pre>\n"
      ],
      "text/plain": [
       "[tesseract] lots of diacritics - possibly poor OCR\n"
      ]
     },
     "metadata": {},
     "output_type": "display_data"
    },
    {
     "data": {
      "text/html": [
       "<pre style=\"white-space:pre;overflow-x:auto;line-height:normal;font-family:Menlo,'DejaVu Sans Mono',consolas,'Courier New',monospace\"></pre>\n"
      ],
      "text/plain": []
     },
     "metadata": {},
     "output_type": "display_data"
    },
    {
     "data": {
      "application/vnd.jupyter.widget-view+json": {
       "model_id": "11a0ae0465cd47cbb31516e8ee20b866",
       "version_major": 2,
       "version_minor": 0
      },
      "text/plain": [
       "Output()"
      ]
     },
     "metadata": {},
     "output_type": "display_data"
    },
    {
     "data": {
      "text/html": [
       "<pre style=\"white-space:pre;overflow-x:auto;line-height:normal;font-family:Menlo,'DejaVu Sans Mono',consolas,'Courier New',monospace\"></pre>\n"
      ],
      "text/plain": []
     },
     "metadata": {},
     "output_type": "display_data"
    },
    {
     "data": {
      "application/vnd.jupyter.widget-view+json": {
       "model_id": "e399b7bed4b94d43b8f52492b69cf8dc",
       "version_major": 2,
       "version_minor": 0
      },
      "text/plain": [
       "Output()"
      ]
     },
     "metadata": {},
     "output_type": "display_data"
    },
    {
     "data": {
      "text/html": [
       "<pre style=\"white-space:pre;overflow-x:auto;line-height:normal;font-family:Menlo,'DejaVu Sans Mono',consolas,'Courier New',monospace\"></pre>\n"
      ],
      "text/plain": []
     },
     "metadata": {},
     "output_type": "display_data"
    },
    {
     "data": {
      "application/vnd.jupyter.widget-view+json": {
       "model_id": "cea805ab2c1b42c4abec568de4dca7e0",
       "version_major": 2,
       "version_minor": 0
      },
      "text/plain": [
       "Output()"
      ]
     },
     "metadata": {},
     "output_type": "display_data"
    },
    {
     "data": {
      "text/html": [
       "<pre style=\"white-space:pre;overflow-x:auto;line-height:normal;font-family:Menlo,'DejaVu Sans Mono',consolas,'Courier New',monospace\"></pre>\n"
      ],
      "text/plain": []
     },
     "metadata": {},
     "output_type": "display_data"
    },
    {
     "data": {
      "application/vnd.jupyter.widget-view+json": {
       "model_id": "a6fa7674f4134faf9231e88a8e1b8c31",
       "version_major": 2,
       "version_minor": 0
      },
      "text/plain": [
       "Output()"
      ]
     },
     "metadata": {},
     "output_type": "display_data"
    },
    {
     "data": {
      "text/html": [
       "<pre style=\"white-space:pre;overflow-x:auto;line-height:normal;font-family:Menlo,'DejaVu Sans Mono',consolas,'Courier New',monospace\"></pre>\n"
      ],
      "text/plain": []
     },
     "metadata": {},
     "output_type": "display_data"
    },
    {
     "name": "stderr",
     "output_type": "stream",
     "text": [
      "The output file size is 5.87× larger than the input file.\n",
      "Possible reasons for this include:\n",
      "--deskew was issued, causing transcoding.\n",
      "The optional dependency 'jbig2' was not found, so some image optimizations could not be attempted.\n",
      "The optional dependency 'pngquant' was not found, so some image optimizations could not be attempted.\n",
      "\n",
      "INFO - Processed file 474293 with tag D4 - Mitigation Monitoring Program\n",
      "INFO - Added tag D4 to file with hash c13fc6bd6e06f7dd0f853fe7e63b38a27cca6bde\n",
      "INFO - Added tag D to file with hash c13fc6bd6e06f7dd0f853fe7e63b38a27cca6bde\n",
      "INFO - Processing file number 28 of 202: 338961\n",
      "INFO - Found file 338961 at N:\\PPDO\\Records\\32xx   Kresge College (College 6)\\3238\\3238\\D - Environmental Review Process\\D3 - CEQA Documentation\\D.3 CEQA MITIGATIONS\\EIR\\Kresge Draft EIR chapters\\4.15 Transportation Traffic.pdf\n",
      "WARNING - File 338961 does not match tag D4 - Mitigation Monitoring Program in its location directories\n",
      "INFO - Found file 338961 at N:\\PPDO\\Records\\32xx   Kresge College (College 6)\\3238\\3238\\D - Environmental Review Process\\D4 - Mitigation Monitoring Program\\EIR\\Kresge Draft EIR chapters\\4.15 Transportation Traffic.pdf\n",
      "INFO - Processed file 338961 with tag D4 - Mitigation Monitoring Program\n",
      "INFO - Added tag D4 to file with hash 7a2b704798f14b8bad59c5cb6415115d76a5f738\n",
      "INFO - Added tag D to file with hash 7a2b704798f14b8bad59c5cb6415115d76a5f738\n",
      "INFO - Processing file number 29 of 202: 135231\n",
      "INFO - Found file 135231 at N:\\PPDO\\Records\\114xx  Long Range Development Planning (LRDP) Documents and Studies\\11405 LRDP 1988\\11405\\D - Environmental Review Process\\D4 - Mitigation Monitoring Program\\11405.D4.1995 Mitigation Monitoring Program Report.pdf\n"
     ]
    },
    {
     "data": {
      "application/vnd.jupyter.widget-view+json": {
       "model_id": "7eb25837242c4887bf6311406759723f",
       "version_major": 2,
       "version_minor": 0
      },
      "text/plain": [
       "Output()"
      ]
     },
     "metadata": {},
     "output_type": "display_data"
    },
    {
     "data": {
      "text/html": [
       "<pre style=\"white-space:pre;overflow-x:auto;line-height:normal;font-family:Menlo,'DejaVu Sans Mono',consolas,'Courier New',monospace\"></pre>\n"
      ],
      "text/plain": []
     },
     "metadata": {},
     "output_type": "display_data"
    },
    {
     "data": {
      "application/vnd.jupyter.widget-view+json": {
       "model_id": "a32e975d3541437cb554b917db1fcd41",
       "version_major": 2,
       "version_minor": 0
      },
      "text/plain": [
       "Output()"
      ]
     },
     "metadata": {},
     "output_type": "display_data"
    },
    {
     "data": {
      "text/html": [
       "<pre style=\"white-space:pre;overflow-x:auto;line-height:normal;font-family:Menlo,'DejaVu Sans Mono',consolas,'Courier New',monospace\">[tesseract] lots of diacritics - possibly poor OCR\n",
       "</pre>\n"
      ],
      "text/plain": [
       "[tesseract] lots of diacritics - possibly poor OCR\n"
      ]
     },
     "metadata": {},
     "output_type": "display_data"
    },
    {
     "data": {
      "text/html": [
       "<pre style=\"white-space:pre;overflow-x:auto;line-height:normal;font-family:Menlo,'DejaVu Sans Mono',consolas,'Courier New',monospace\">[tesseract] lots of diacritics - possibly poor OCR\n",
       "</pre>\n"
      ],
      "text/plain": [
       "[tesseract] lots of diacritics - possibly poor OCR\n"
      ]
     },
     "metadata": {},
     "output_type": "display_data"
    },
    {
     "data": {
      "text/html": [
       "<pre style=\"white-space:pre;overflow-x:auto;line-height:normal;font-family:Menlo,'DejaVu Sans Mono',consolas,'Courier New',monospace\">[tesseract] lots of diacritics - possibly poor OCR\n",
       "</pre>\n"
      ],
      "text/plain": [
       "[tesseract] lots of diacritics - possibly poor OCR\n"
      ]
     },
     "metadata": {},
     "output_type": "display_data"
    },
    {
     "data": {
      "text/html": [
       "<pre style=\"white-space:pre;overflow-x:auto;line-height:normal;font-family:Menlo,'DejaVu Sans Mono',consolas,'Courier New',monospace\">[tesseract] lots of diacritics - possibly poor OCR\n",
       "</pre>\n"
      ],
      "text/plain": [
       "[tesseract] lots of diacritics - possibly poor OCR\n"
      ]
     },
     "metadata": {},
     "output_type": "display_data"
    },
    {
     "data": {
      "text/html": [
       "<pre style=\"white-space:pre;overflow-x:auto;line-height:normal;font-family:Menlo,'DejaVu Sans Mono',consolas,'Courier New',monospace\">[tesseract] Error during processing.\n",
       "</pre>\n"
      ],
      "text/plain": [
       "[tesseract] Error during processing.\n"
      ]
     },
     "metadata": {},
     "output_type": "display_data"
    },
    {
     "data": {
      "text/html": [
       "<pre style=\"white-space:pre;overflow-x:auto;line-height:normal;font-family:Menlo,'DejaVu Sans Mono',consolas,'Courier New',monospace\">[tesseract] lots of diacritics - possibly poor OCR\n",
       "</pre>\n"
      ],
      "text/plain": [
       "[tesseract] lots of diacritics - possibly poor OCR\n"
      ]
     },
     "metadata": {},
     "output_type": "display_data"
    },
    {
     "data": {
      "text/html": [
       "<pre style=\"white-space:pre;overflow-x:auto;line-height:normal;font-family:Menlo,'DejaVu Sans Mono',consolas,'Courier New',monospace\"></pre>\n"
      ],
      "text/plain": []
     },
     "metadata": {},
     "output_type": "display_data"
    },
    {
     "data": {
      "application/vnd.jupyter.widget-view+json": {
       "model_id": "a86a2ffd0e4e46bcba470897829c7aae",
       "version_major": 2,
       "version_minor": 0
      },
      "text/plain": [
       "Output()"
      ]
     },
     "metadata": {},
     "output_type": "display_data"
    },
    {
     "data": {
      "text/html": [
       "<pre style=\"white-space:pre;overflow-x:auto;line-height:normal;font-family:Menlo,'DejaVu Sans Mono',consolas,'Courier New',monospace\"></pre>\n"
      ],
      "text/plain": []
     },
     "metadata": {},
     "output_type": "display_data"
    },
    {
     "data": {
      "application/vnd.jupyter.widget-view+json": {
       "model_id": "9a187778a597487f88ed38e2e80c6814",
       "version_major": 2,
       "version_minor": 0
      },
      "text/plain": [
       "Output()"
      ]
     },
     "metadata": {},
     "output_type": "display_data"
    },
    {
     "data": {
      "text/html": [
       "<pre style=\"white-space:pre;overflow-x:auto;line-height:normal;font-family:Menlo,'DejaVu Sans Mono',consolas,'Courier New',monospace\"></pre>\n"
      ],
      "text/plain": []
     },
     "metadata": {},
     "output_type": "display_data"
    },
    {
     "data": {
      "application/vnd.jupyter.widget-view+json": {
       "model_id": "f0ad4f1abfb74d6eb02a763d51089979",
       "version_major": 2,
       "version_minor": 0
      },
      "text/plain": [
       "Output()"
      ]
     },
     "metadata": {},
     "output_type": "display_data"
    },
    {
     "data": {
      "text/html": [
       "<pre style=\"white-space:pre;overflow-x:auto;line-height:normal;font-family:Menlo,'DejaVu Sans Mono',consolas,'Courier New',monospace\"></pre>\n"
      ],
      "text/plain": []
     },
     "metadata": {},
     "output_type": "display_data"
    },
    {
     "data": {
      "application/vnd.jupyter.widget-view+json": {
       "model_id": "f5ff0770438b451c9b13c623998fdddb",
       "version_major": 2,
       "version_minor": 0
      },
      "text/plain": [
       "Output()"
      ]
     },
     "metadata": {},
     "output_type": "display_data"
    },
    {
     "data": {
      "text/html": [
       "<pre style=\"white-space:pre;overflow-x:auto;line-height:normal;font-family:Menlo,'DejaVu Sans Mono',consolas,'Courier New',monospace\"></pre>\n"
      ],
      "text/plain": []
     },
     "metadata": {},
     "output_type": "display_data"
    },
    {
     "name": "stderr",
     "output_type": "stream",
     "text": [
      "The output file size is 4.73× larger than the input file.\n",
      "Possible reasons for this include:\n",
      "--deskew was issued, causing transcoding.\n",
      "The optional dependency 'jbig2' was not found, so some image optimizations could not be attempted.\n",
      "The optional dependency 'pngquant' was not found, so some image optimizations could not be attempted.\n",
      "\n",
      "INFO - Processed file 135231 with tag D4 - Mitigation Monitoring Program\n",
      "INFO - Added tag D4 to file with hash 7b9e88f433df03dc1f444a02498ea6e2e67460dc\n",
      "INFO - Added tag D to file with hash 7b9e88f433df03dc1f444a02498ea6e2e67460dc\n",
      "INFO - Processing file number 30 of 202: 703353\n",
      "INFO - Found file 703353 at N:\\PPDO\\Records\\98xx   Campus Utilities 2012 on\\9800\\9800-010\\D - Environmental Review Process\\D4 - Mitigation Monitoring Program\\9800-010.D4.UCSC-WestSewer_WEAP-Bio_05052020.docx\n",
      "INFO - Processed file 703353 with tag D4 - Mitigation Monitoring Program\n",
      "INFO - Added tag D4 to file with hash eb1354cc580fbb185dfdc4e59f8532a1a53368b3\n",
      "INFO - Added tag D to file with hash eb1354cc580fbb185dfdc4e59f8532a1a53368b3\n",
      "INFO - Processing file number 31 of 202: 783418\n",
      "INFO - Found file 783418 at N:\\PPDO\\Records\\49xx   Long Marine Lab\\4900\\4900-047\\E - Program and Design\\E. Mowbray 2.3.20\\CSC Noid\\NOID 5 12-2 Overlooks\\30 day NOID notice signed.pdf\n",
      "WARNING - File 783418 does not match tag D4 - Mitigation Monitoring Program in its location directories\n",
      "INFO - Found file 783418 at N:\\PPDO\\Records\\49xx   Long Marine Lab\\4900\\4900-025A Overlooks\\B - Administrative Reviews and Approvals\\B1 - Chancellor's and Delegated Approval (EVC)\\30 day NOID notice signed.pdf\n",
      "WARNING - File 783418 does not match tag D4 - Mitigation Monitoring Program in its location directories\n",
      "INFO - Found file 783418 at N:\\PPDO\\Records\\49xx   Long Marine Lab\\4900\\4900-025A Overlooks\\D  - Environmental Review\\D4 - Mitigation Monitoring Program\\30 day NOID notice signed.pdf\n"
     ]
    },
    {
     "data": {
      "application/vnd.jupyter.widget-view+json": {
       "model_id": "84cd74f9609445d2992b9c46898c4e6c",
       "version_major": 2,
       "version_minor": 0
      },
      "text/plain": [
       "Output()"
      ]
     },
     "metadata": {},
     "output_type": "display_data"
    },
    {
     "data": {
      "text/html": [
       "<pre style=\"white-space:pre;overflow-x:auto;line-height:normal;font-family:Menlo,'DejaVu Sans Mono',consolas,'Courier New',monospace\"></pre>\n"
      ],
      "text/plain": []
     },
     "metadata": {},
     "output_type": "display_data"
    },
    {
     "data": {
      "application/vnd.jupyter.widget-view+json": {
       "model_id": "5eb825366ecd40eea0bc2ae17dcc13c6",
       "version_major": 2,
       "version_minor": 0
      },
      "text/plain": [
       "Output()"
      ]
     },
     "metadata": {},
     "output_type": "display_data"
    },
    {
     "data": {
      "text/html": [
       "<pre style=\"white-space:pre;overflow-x:auto;line-height:normal;font-family:Menlo,'DejaVu Sans Mono',consolas,'Courier New',monospace\"></pre>\n"
      ],
      "text/plain": []
     },
     "metadata": {},
     "output_type": "display_data"
    },
    {
     "data": {
      "application/vnd.jupyter.widget-view+json": {
       "model_id": "3c0494081d0143c0815ac0c70ca8354e",
       "version_major": 2,
       "version_minor": 0
      },
      "text/plain": [
       "Output()"
      ]
     },
     "metadata": {},
     "output_type": "display_data"
    },
    {
     "data": {
      "text/html": [
       "<pre style=\"white-space:pre;overflow-x:auto;line-height:normal;font-family:Menlo,'DejaVu Sans Mono',consolas,'Courier New',monospace\"></pre>\n"
      ],
      "text/plain": []
     },
     "metadata": {},
     "output_type": "display_data"
    },
    {
     "data": {
      "application/vnd.jupyter.widget-view+json": {
       "model_id": "4745781b2d854b3187b86130faadb776",
       "version_major": 2,
       "version_minor": 0
      },
      "text/plain": [
       "Output()"
      ]
     },
     "metadata": {},
     "output_type": "display_data"
    },
    {
     "data": {
      "text/html": [
       "<pre style=\"white-space:pre;overflow-x:auto;line-height:normal;font-family:Menlo,'DejaVu Sans Mono',consolas,'Courier New',monospace\"></pre>\n"
      ],
      "text/plain": []
     },
     "metadata": {},
     "output_type": "display_data"
    },
    {
     "data": {
      "application/vnd.jupyter.widget-view+json": {
       "model_id": "a0601badb64d4c2bb4d3bca407f2b864",
       "version_major": 2,
       "version_minor": 0
      },
      "text/plain": [
       "Output()"
      ]
     },
     "metadata": {},
     "output_type": "display_data"
    },
    {
     "data": {
      "text/html": [
       "<pre style=\"white-space:pre;overflow-x:auto;line-height:normal;font-family:Menlo,'DejaVu Sans Mono',consolas,'Courier New',monospace\"></pre>\n"
      ],
      "text/plain": []
     },
     "metadata": {},
     "output_type": "display_data"
    },
    {
     "data": {
      "application/vnd.jupyter.widget-view+json": {
       "model_id": "76d0971f1bb64f2385d2f3965e9d428a",
       "version_major": 2,
       "version_minor": 0
      },
      "text/plain": [
       "Output()"
      ]
     },
     "metadata": {},
     "output_type": "display_data"
    },
    {
     "data": {
      "text/html": [
       "<pre style=\"white-space:pre;overflow-x:auto;line-height:normal;font-family:Menlo,'DejaVu Sans Mono',consolas,'Courier New',monospace\"></pre>\n"
      ],
      "text/plain": []
     },
     "metadata": {},
     "output_type": "display_data"
    },
    {
     "name": "stderr",
     "output_type": "stream",
     "text": [
      "The output file size is 9.31× larger than the input file.\n",
      "Possible reasons for this include:\n",
      "--deskew was issued, causing transcoding.\n",
      "The optional dependency 'jbig2' was not found, so some image optimizations could not be attempted.\n",
      "The optional dependency 'pngquant' was not found, so some image optimizations could not be attempted.\n",
      "\n",
      "INFO - Processed file 783418 with tag D4 - Mitigation Monitoring Program\n",
      "INFO - Added tag D4 to file with hash 3313d1f372dccf6fc3e9ec06c344b6418c3a3fd2\n",
      "INFO - Added tag D to file with hash 3313d1f372dccf6fc3e9ec06c344b6418c3a3fd2\n",
      "INFO - Processing file number 32 of 202: 703352\n",
      "INFO - Found file 703352 at N:\\PPDO\\Records\\98xx   Campus Utilities 2012 on\\9800\\9800-010\\D - Environmental Review Process\\D4 - Mitigation Monitoring Program\\9800-010.D4.Ranch View Terrace HCP Final CLEAN 101805.pdf\n"
     ]
    },
    {
     "name": "stdout",
     "output_type": "stream",
     "text": [
      "MuPDF error: format error: No default Layer config\n",
      "\n"
     ]
    },
    {
     "name": "stderr",
     "output_type": "stream",
     "text": [
      "INFO - Processed file 703352 with tag D4 - Mitigation Monitoring Program\n",
      "INFO - Added tag D4 to file with hash ca0188f5dc4688d8f7c6afaacd16676acd0e818a\n",
      "INFO - Added tag D to file with hash ca0188f5dc4688d8f7c6afaacd16676acd0e818a\n",
      "INFO - Processing file number 33 of 202: 135233\n",
      "INFO - Found file 135233 at N:\\PPDO\\Records\\114xx  Long Range Development Planning (LRDP) Documents and Studies\\11405 LRDP 1988\\11405\\D - Environmental Review Process\\D4 - Mitigation Monitoring Program\\11405.D4.1997 Mitigation Monitoring Program Report.pdf\n"
     ]
    },
    {
     "data": {
      "application/vnd.jupyter.widget-view+json": {
       "model_id": "812074813ada4931926bd40879804262",
       "version_major": 2,
       "version_minor": 0
      },
      "text/plain": [
       "Output()"
      ]
     },
     "metadata": {},
     "output_type": "display_data"
    },
    {
     "data": {
      "text/html": [
       "<pre style=\"white-space:pre;overflow-x:auto;line-height:normal;font-family:Menlo,'DejaVu Sans Mono',consolas,'Courier New',monospace\"></pre>\n"
      ],
      "text/plain": []
     },
     "metadata": {},
     "output_type": "display_data"
    },
    {
     "data": {
      "application/vnd.jupyter.widget-view+json": {
       "model_id": "d8e286697bf746f8b629b6f959b0a56b",
       "version_major": 2,
       "version_minor": 0
      },
      "text/plain": [
       "Output()"
      ]
     },
     "metadata": {},
     "output_type": "display_data"
    },
    {
     "data": {
      "text/html": [
       "<pre style=\"white-space:pre;overflow-x:auto;line-height:normal;font-family:Menlo,'DejaVu Sans Mono',consolas,'Courier New',monospace\"></pre>\n"
      ],
      "text/plain": []
     },
     "metadata": {},
     "output_type": "display_data"
    },
    {
     "data": {
      "application/vnd.jupyter.widget-view+json": {
       "model_id": "c31a476eb09546e49ee273eda006dd8d",
       "version_major": 2,
       "version_minor": 0
      },
      "text/plain": [
       "Output()"
      ]
     },
     "metadata": {},
     "output_type": "display_data"
    },
    {
     "data": {
      "text/html": [
       "<pre style=\"white-space:pre;overflow-x:auto;line-height:normal;font-family:Menlo,'DejaVu Sans Mono',consolas,'Courier New',monospace\"></pre>\n"
      ],
      "text/plain": []
     },
     "metadata": {},
     "output_type": "display_data"
    },
    {
     "data": {
      "application/vnd.jupyter.widget-view+json": {
       "model_id": "fc82462be39643c6b24338757edeaf0f",
       "version_major": 2,
       "version_minor": 0
      },
      "text/plain": [
       "Output()"
      ]
     },
     "metadata": {},
     "output_type": "display_data"
    },
    {
     "data": {
      "text/html": [
       "<pre style=\"white-space:pre;overflow-x:auto;line-height:normal;font-family:Menlo,'DejaVu Sans Mono',consolas,'Courier New',monospace\"></pre>\n"
      ],
      "text/plain": []
     },
     "metadata": {},
     "output_type": "display_data"
    },
    {
     "data": {
      "application/vnd.jupyter.widget-view+json": {
       "model_id": "b48109a5effe4c3294e441b16d1cdd35",
       "version_major": 2,
       "version_minor": 0
      },
      "text/plain": [
       "Output()"
      ]
     },
     "metadata": {},
     "output_type": "display_data"
    },
    {
     "data": {
      "text/html": [
       "<pre style=\"white-space:pre;overflow-x:auto;line-height:normal;font-family:Menlo,'DejaVu Sans Mono',consolas,'Courier New',monospace\"></pre>\n"
      ],
      "text/plain": []
     },
     "metadata": {},
     "output_type": "display_data"
    },
    {
     "data": {
      "application/vnd.jupyter.widget-view+json": {
       "model_id": "c4a14e9af0c3495c94312753230ed630",
       "version_major": 2,
       "version_minor": 0
      },
      "text/plain": [
       "Output()"
      ]
     },
     "metadata": {},
     "output_type": "display_data"
    },
    {
     "data": {
      "text/html": [
       "<pre style=\"white-space:pre;overflow-x:auto;line-height:normal;font-family:Menlo,'DejaVu Sans Mono',consolas,'Courier New',monospace\"></pre>\n"
      ],
      "text/plain": []
     },
     "metadata": {},
     "output_type": "display_data"
    },
    {
     "name": "stderr",
     "output_type": "stream",
     "text": [
      "The output file size is 4.94× larger than the input file.\n",
      "Possible reasons for this include:\n",
      "--deskew was issued, causing transcoding.\n",
      "The optional dependency 'jbig2' was not found, so some image optimizations could not be attempted.\n",
      "The optional dependency 'pngquant' was not found, so some image optimizations could not be attempted.\n",
      "\n",
      "INFO - Processed file 135233 with tag D4 - Mitigation Monitoring Program\n",
      "INFO - Added tag D4 to file with hash 020e0094d46c1204936ba7d77e8d9b4c727c2050\n",
      "INFO - Added tag D to file with hash 020e0094d46c1204936ba7d77e8d9b4c727c2050\n",
      "INFO - Processing file number 34 of 202: 135232\n",
      "INFO - Found file 135232 at N:\\PPDO\\Records\\114xx  Long Range Development Planning (LRDP) Documents and Studies\\11405 LRDP 1988\\11405\\D - Environmental Review Process\\D4 - Mitigation Monitoring Program\\11405.D4.1996 Mitigation Monitoring Program Report.pdf\n"
     ]
    },
    {
     "data": {
      "application/vnd.jupyter.widget-view+json": {
       "model_id": "c67c1d6f148e4bb898980107fe02d6a8",
       "version_major": 2,
       "version_minor": 0
      },
      "text/plain": [
       "Output()"
      ]
     },
     "metadata": {},
     "output_type": "display_data"
    },
    {
     "data": {
      "text/html": [
       "<pre style=\"white-space:pre;overflow-x:auto;line-height:normal;font-family:Menlo,'DejaVu Sans Mono',consolas,'Courier New',monospace\"></pre>\n"
      ],
      "text/plain": []
     },
     "metadata": {},
     "output_type": "display_data"
    },
    {
     "data": {
      "application/vnd.jupyter.widget-view+json": {
       "model_id": "2080179315f244d4bcdcc73b1949fc97",
       "version_major": 2,
       "version_minor": 0
      },
      "text/plain": [
       "Output()"
      ]
     },
     "metadata": {},
     "output_type": "display_data"
    },
    {
     "data": {
      "text/html": [
       "<pre style=\"white-space:pre;overflow-x:auto;line-height:normal;font-family:Menlo,'DejaVu Sans Mono',consolas,'Courier New',monospace\">[tesseract] lots of diacritics - possibly poor OCR\n",
       "</pre>\n"
      ],
      "text/plain": [
       "[tesseract] lots of diacritics - possibly poor OCR\n"
      ]
     },
     "metadata": {},
     "output_type": "display_data"
    },
    {
     "data": {
      "text/html": [
       "<pre style=\"white-space:pre;overflow-x:auto;line-height:normal;font-family:Menlo,'DejaVu Sans Mono',consolas,'Courier New',monospace\">[tesseract] lots of diacritics - possibly poor OCR\n",
       "</pre>\n"
      ],
      "text/plain": [
       "[tesseract] lots of diacritics - possibly poor OCR\n"
      ]
     },
     "metadata": {},
     "output_type": "display_data"
    },
    {
     "data": {
      "text/html": [
       "<pre style=\"white-space:pre;overflow-x:auto;line-height:normal;font-family:Menlo,'DejaVu Sans Mono',consolas,'Courier New',monospace\">[tesseract] lots of diacritics - possibly poor OCR\n",
       "</pre>\n"
      ],
      "text/plain": [
       "[tesseract] lots of diacritics - possibly poor OCR\n"
      ]
     },
     "metadata": {},
     "output_type": "display_data"
    },
    {
     "data": {
      "text/html": [
       "<pre style=\"white-space:pre;overflow-x:auto;line-height:normal;font-family:Menlo,'DejaVu Sans Mono',consolas,'Courier New',monospace\">[tesseract] lots of diacritics - possibly poor OCR\n",
       "</pre>\n"
      ],
      "text/plain": [
       "[tesseract] lots of diacritics - possibly poor OCR\n"
      ]
     },
     "metadata": {},
     "output_type": "display_data"
    },
    {
     "data": {
      "text/html": [
       "<pre style=\"white-space:pre;overflow-x:auto;line-height:normal;font-family:Menlo,'DejaVu Sans Mono',consolas,'Courier New',monospace\">[tesseract] lots of diacritics - possibly poor OCR\n",
       "</pre>\n"
      ],
      "text/plain": [
       "[tesseract] lots of diacritics - possibly poor OCR\n"
      ]
     },
     "metadata": {},
     "output_type": "display_data"
    },
    {
     "data": {
      "text/html": [
       "<pre style=\"white-space:pre;overflow-x:auto;line-height:normal;font-family:Menlo,'DejaVu Sans Mono',consolas,'Courier New',monospace\"></pre>\n"
      ],
      "text/plain": []
     },
     "metadata": {},
     "output_type": "display_data"
    },
    {
     "data": {
      "application/vnd.jupyter.widget-view+json": {
       "model_id": "34cdcafc69b4427ea65fdcf561d309d3",
       "version_major": 2,
       "version_minor": 0
      },
      "text/plain": [
       "Output()"
      ]
     },
     "metadata": {},
     "output_type": "display_data"
    },
    {
     "data": {
      "text/html": [
       "<pre style=\"white-space:pre;overflow-x:auto;line-height:normal;font-family:Menlo,'DejaVu Sans Mono',consolas,'Courier New',monospace\"></pre>\n"
      ],
      "text/plain": []
     },
     "metadata": {},
     "output_type": "display_data"
    },
    {
     "data": {
      "application/vnd.jupyter.widget-view+json": {
       "model_id": "92c994297b5f4a3f8f38d8567da8c1e9",
       "version_major": 2,
       "version_minor": 0
      },
      "text/plain": [
       "Output()"
      ]
     },
     "metadata": {},
     "output_type": "display_data"
    },
    {
     "data": {
      "text/html": [
       "<pre style=\"white-space:pre;overflow-x:auto;line-height:normal;font-family:Menlo,'DejaVu Sans Mono',consolas,'Courier New',monospace\"></pre>\n"
      ],
      "text/plain": []
     },
     "metadata": {},
     "output_type": "display_data"
    },
    {
     "data": {
      "application/vnd.jupyter.widget-view+json": {
       "model_id": "91497c53246244d8b3f2d4a40c8097cc",
       "version_major": 2,
       "version_minor": 0
      },
      "text/plain": [
       "Output()"
      ]
     },
     "metadata": {},
     "output_type": "display_data"
    },
    {
     "data": {
      "text/html": [
       "<pre style=\"white-space:pre;overflow-x:auto;line-height:normal;font-family:Menlo,'DejaVu Sans Mono',consolas,'Courier New',monospace\"></pre>\n"
      ],
      "text/plain": []
     },
     "metadata": {},
     "output_type": "display_data"
    },
    {
     "data": {
      "application/vnd.jupyter.widget-view+json": {
       "model_id": "303bc0e835d9450b888a4265ba058f4e",
       "version_major": 2,
       "version_minor": 0
      },
      "text/plain": [
       "Output()"
      ]
     },
     "metadata": {},
     "output_type": "display_data"
    },
    {
     "data": {
      "text/html": [
       "<pre style=\"white-space:pre;overflow-x:auto;line-height:normal;font-family:Menlo,'DejaVu Sans Mono',consolas,'Courier New',monospace\"></pre>\n"
      ],
      "text/plain": []
     },
     "metadata": {},
     "output_type": "display_data"
    },
    {
     "name": "stderr",
     "output_type": "stream",
     "text": [
      "The output file size is 4.87× larger than the input file.\n",
      "Possible reasons for this include:\n",
      "--deskew was issued, causing transcoding.\n",
      "The optional dependency 'jbig2' was not found, so some image optimizations could not be attempted.\n",
      "The optional dependency 'pngquant' was not found, so some image optimizations could not be attempted.\n",
      "\n",
      "INFO - Processed file 135232 with tag D4 - Mitigation Monitoring Program\n",
      "INFO - Added tag D4 to file with hash d27d090c1ed9f1c6207def0c0423862a5310a642\n",
      "INFO - Added tag D to file with hash d27d090c1ed9f1c6207def0c0423862a5310a642\n",
      "INFO - Processing file number 35 of 202: 790883\n",
      "INFO - Found file 790883 at N:\\PPDO\\Records\\49xx   Long Marine Lab\\4932\\4932\\D - Environmental Review Process\\D4 - Mitigation Monitoring Program\\Noise Levels.pdf\n",
      "INFO - Processed file 790883 with tag D4 - Mitigation Monitoring Program\n",
      "INFO - Added tag D4 to file with hash 95038467625d340b40f3f0d60fff3430e751ec6b\n",
      "INFO - Added tag D to file with hash 95038467625d340b40f3f0d60fff3430e751ec6b\n",
      "INFO - Processing file number 36 of 202: 338963\n",
      "INFO - Found file 338963 at N:\\PPDO\\Records\\32xx   Kresge College (College 6)\\3238\\3238\\D - Environmental Review Process\\D3 - CEQA Documentation\\D.3 CEQA MITIGATIONS\\EIR\\Kresge Draft EIR chapters\\4.17 Utilities and Service Systems.pdf\n",
      "WARNING - File 338963 does not match tag D4 - Mitigation Monitoring Program in its location directories\n",
      "INFO - Found file 338963 at N:\\PPDO\\Records\\32xx   Kresge College (College 6)\\3238\\3238\\D - Environmental Review Process\\D4 - Mitigation Monitoring Program\\EIR\\Kresge Draft EIR chapters\\4.17 Utilities and Service Systems.pdf\n",
      "INFO - Processed file 338963 with tag D4 - Mitigation Monitoring Program\n",
      "INFO - Added tag D4 to file with hash d71d5204f0f6bbf25f6cbebaadc8ffd48706159b\n",
      "INFO - Added tag D to file with hash d71d5204f0f6bbf25f6cbebaadc8ffd48706159b\n",
      "INFO - Processing file number 37 of 202: 973553\n",
      "INFO - Found file 973553 at N:\\PPDO\\Records\\14xx   Thimann Labs\\1443\\G - Construction\\G1 - Construction Correspondence\\Email Correspondence Dave Tanza\\data\\accounts\\David Tanza@davidt.bgpostoffice.bgdomain\\att\\53\\04\\D4 - Mitigation Monitoring Program\\D4\\IMG_1846.jpeg\n",
      "Tesseract OSD failed: (1, 'libpng warning: iCCP: known incorrect sRGB profile Estimating resolution as 199 Too few characters. Skipping this page Warning. Invalid resolution 0 dpi. Using 70 instead. Too few characters. Skipping this page Error during processing.')\n",
      "WARNING - Text length for file 973553 is 0:\n",
      "\n",
      "INFO - Processing file number 38 of 202: 338948\n",
      "INFO - Found file 338948 at N:\\PPDO\\Records\\32xx   Kresge College (College 6)\\3238\\3238\\D - Environmental Review Process\\D3 - CEQA Documentation\\D.3 CEQA MITIGATIONS\\EIR\\kresge-notice-of-determination.pdf\n",
      "WARNING - File 338948 does not match tag D4 - Mitigation Monitoring Program in its location directories\n",
      "INFO - Found file 338948 at N:\\PPDO\\Records\\32xx   Kresge College (College 6)\\3238\\3238\\D - Environmental Review Process\\D4 - Mitigation Monitoring Program\\EIR\\kresge-notice-of-determination.pdf\n",
      "INFO - Processed file 338948 with tag D4 - Mitigation Monitoring Program\n",
      "INFO - Added tag D4 to file with hash 0863e5ecda30d0a1ef59a0d1cfd00a3333482a49\n",
      "INFO - Added tag D to file with hash 0863e5ecda30d0a1ef59a0d1cfd00a3333482a49\n",
      "INFO - Processing file number 39 of 202: 338954\n",
      "INFO - Found file 338954 at N:\\PPDO\\Records\\32xx   Kresge College (College 6)\\3238\\3238\\D - Environmental Review Process\\D3 - CEQA Documentation\\D.3 CEQA MITIGATIONS\\EIR\\Kresge Draft EIR chapters\\4 Environmental Impact Analysis.pdf\n",
      "WARNING - File 338954 does not match tag D4 - Mitigation Monitoring Program in its location directories\n",
      "INFO - Found file 338954 at N:\\PPDO\\Records\\32xx   Kresge College (College 6)\\3238\\3238\\D - Environmental Review Process\\D4 - Mitigation Monitoring Program\\EIR\\Kresge Draft EIR chapters\\4 Environmental Impact Analysis.pdf\n",
      "INFO - Processed file 338954 with tag D4 - Mitigation Monitoring Program\n",
      "INFO - Added tag D4 to file with hash 8ade9954b5fa9e8f5af527387b45969879183ec8\n",
      "INFO - Added tag D to file with hash 8ade9954b5fa9e8f5af527387b45969879183ec8\n",
      "INFO - Processing file number 40 of 202: 135235\n",
      "INFO - Found file 135235 at N:\\PPDO\\Records\\114xx  Long Range Development Planning (LRDP) Documents and Studies\\11405 LRDP 1988\\11405\\D - Environmental Review Process\\D4 - Mitigation Monitoring Program\\11405.D4.1999-2000 Mitigation Monitoring Report.pdf\n"
     ]
    },
    {
     "data": {
      "application/vnd.jupyter.widget-view+json": {
       "model_id": "676cce8542904a009da6a14e5e236a51",
       "version_major": 2,
       "version_minor": 0
      },
      "text/plain": [
       "Output()"
      ]
     },
     "metadata": {},
     "output_type": "display_data"
    },
    {
     "data": {
      "text/html": [
       "<pre style=\"white-space:pre;overflow-x:auto;line-height:normal;font-family:Menlo,'DejaVu Sans Mono',consolas,'Courier New',monospace\"></pre>\n"
      ],
      "text/plain": []
     },
     "metadata": {},
     "output_type": "display_data"
    },
    {
     "data": {
      "application/vnd.jupyter.widget-view+json": {
       "model_id": "b55c58f82b4b49fb8e6795de0727378c",
       "version_major": 2,
       "version_minor": 0
      },
      "text/plain": [
       "Output()"
      ]
     },
     "metadata": {},
     "output_type": "display_data"
    },
    {
     "data": {
      "text/html": [
       "<pre style=\"white-space:pre;overflow-x:auto;line-height:normal;font-family:Menlo,'DejaVu Sans Mono',consolas,'Courier New',monospace\">[tesseract] lots of diacritics - possibly poor OCR\n",
       "</pre>\n"
      ],
      "text/plain": [
       "[tesseract] lots of diacritics - possibly poor OCR\n"
      ]
     },
     "metadata": {},
     "output_type": "display_data"
    },
    {
     "data": {
      "text/html": [
       "<pre style=\"white-space:pre;overflow-x:auto;line-height:normal;font-family:Menlo,'DejaVu Sans Mono',consolas,'Courier New',monospace\">[tesseract] lots of diacritics - possibly poor OCR\n",
       "</pre>\n"
      ],
      "text/plain": [
       "[tesseract] lots of diacritics - possibly poor OCR\n"
      ]
     },
     "metadata": {},
     "output_type": "display_data"
    },
    {
     "data": {
      "text/html": [
       "<pre style=\"white-space:pre;overflow-x:auto;line-height:normal;font-family:Menlo,'DejaVu Sans Mono',consolas,'Courier New',monospace\">[tesseract] lots of diacritics - possibly poor OCR\n",
       "</pre>\n"
      ],
      "text/plain": [
       "[tesseract] lots of diacritics - possibly poor OCR\n"
      ]
     },
     "metadata": {},
     "output_type": "display_data"
    },
    {
     "data": {
      "text/html": [
       "<pre style=\"white-space:pre;overflow-x:auto;line-height:normal;font-family:Menlo,'DejaVu Sans Mono',consolas,'Courier New',monospace\">[tesseract] Error during processing.\n",
       "</pre>\n"
      ],
      "text/plain": [
       "[tesseract] Error during processing.\n"
      ]
     },
     "metadata": {},
     "output_type": "display_data"
    },
    {
     "data": {
      "text/html": [
       "<pre style=\"white-space:pre;overflow-x:auto;line-height:normal;font-family:Menlo,'DejaVu Sans Mono',consolas,'Courier New',monospace\"></pre>\n"
      ],
      "text/plain": []
     },
     "metadata": {},
     "output_type": "display_data"
    },
    {
     "data": {
      "application/vnd.jupyter.widget-view+json": {
       "model_id": "722dce1ed5d344729a8255565133b338",
       "version_major": 2,
       "version_minor": 0
      },
      "text/plain": [
       "Output()"
      ]
     },
     "metadata": {},
     "output_type": "display_data"
    },
    {
     "data": {
      "text/html": [
       "<pre style=\"white-space:pre;overflow-x:auto;line-height:normal;font-family:Menlo,'DejaVu Sans Mono',consolas,'Courier New',monospace\"></pre>\n"
      ],
      "text/plain": []
     },
     "metadata": {},
     "output_type": "display_data"
    },
    {
     "data": {
      "application/vnd.jupyter.widget-view+json": {
       "model_id": "6323d0d8de494901b87f72cebd4f4c42",
       "version_major": 2,
       "version_minor": 0
      },
      "text/plain": [
       "Output()"
      ]
     },
     "metadata": {},
     "output_type": "display_data"
    },
    {
     "data": {
      "text/html": [
       "<pre style=\"white-space:pre;overflow-x:auto;line-height:normal;font-family:Menlo,'DejaVu Sans Mono',consolas,'Courier New',monospace\"></pre>\n"
      ],
      "text/plain": []
     },
     "metadata": {},
     "output_type": "display_data"
    },
    {
     "data": {
      "application/vnd.jupyter.widget-view+json": {
       "model_id": "20724977796046d39c4dee1cc5c2310a",
       "version_major": 2,
       "version_minor": 0
      },
      "text/plain": [
       "Output()"
      ]
     },
     "metadata": {},
     "output_type": "display_data"
    },
    {
     "data": {
      "text/html": [
       "<pre style=\"white-space:pre;overflow-x:auto;line-height:normal;font-family:Menlo,'DejaVu Sans Mono',consolas,'Courier New',monospace\"></pre>\n"
      ],
      "text/plain": []
     },
     "metadata": {},
     "output_type": "display_data"
    },
    {
     "data": {
      "application/vnd.jupyter.widget-view+json": {
       "model_id": "a7498db9329e439389f48114b8f91f74",
       "version_major": 2,
       "version_minor": 0
      },
      "text/plain": [
       "Output()"
      ]
     },
     "metadata": {},
     "output_type": "display_data"
    },
    {
     "data": {
      "text/html": [
       "<pre style=\"white-space:pre;overflow-x:auto;line-height:normal;font-family:Menlo,'DejaVu Sans Mono',consolas,'Courier New',monospace\"></pre>\n"
      ],
      "text/plain": []
     },
     "metadata": {},
     "output_type": "display_data"
    },
    {
     "name": "stderr",
     "output_type": "stream",
     "text": [
      "The output file size is 5.06× larger than the input file.\n",
      "Possible reasons for this include:\n",
      "--deskew was issued, causing transcoding.\n",
      "The optional dependency 'jbig2' was not found, so some image optimizations could not be attempted.\n",
      "The optional dependency 'pngquant' was not found, so some image optimizations could not be attempted.\n",
      "\n",
      "INFO - Processed file 135235 with tag D4 - Mitigation Monitoring Program\n",
      "INFO - Added tag D4 to file with hash 6690df733fb1f729689210f02e3e78b10c3b1248\n",
      "INFO - Added tag D to file with hash 6690df733fb1f729689210f02e3e78b10c3b1248\n",
      "INFO - Processing file number 41 of 202: 489741\n",
      "INFO - Found file 489741 at N:\\PPDO\\Records\\55xx   College 9 & 10\\5502\\5502\\D - Environmental Review Process\\D4 - Mitigation Monitoring Program\\File 5502.D4 Status Update Checklist 1-22-93.pdf\n"
     ]
    },
    {
     "data": {
      "application/vnd.jupyter.widget-view+json": {
       "model_id": "f1cdef6206ed4c61a317c12e7731e64e",
       "version_major": 2,
       "version_minor": 0
      },
      "text/plain": [
       "Output()"
      ]
     },
     "metadata": {},
     "output_type": "display_data"
    },
    {
     "data": {
      "text/html": [
       "<pre style=\"white-space:pre;overflow-x:auto;line-height:normal;font-family:Menlo,'DejaVu Sans Mono',consolas,'Courier New',monospace\"></pre>\n"
      ],
      "text/plain": []
     },
     "metadata": {},
     "output_type": "display_data"
    },
    {
     "data": {
      "application/vnd.jupyter.widget-view+json": {
       "model_id": "393416edc4b74274a9a9be29bda9f600",
       "version_major": 2,
       "version_minor": 0
      },
      "text/plain": [
       "Output()"
      ]
     },
     "metadata": {},
     "output_type": "display_data"
    },
    {
     "data": {
      "text/html": [
       "<pre style=\"white-space:pre;overflow-x:auto;line-height:normal;font-family:Menlo,'DejaVu Sans Mono',consolas,'Courier New',monospace\"></pre>\n"
      ],
      "text/plain": []
     },
     "metadata": {},
     "output_type": "display_data"
    },
    {
     "data": {
      "application/vnd.jupyter.widget-view+json": {
       "model_id": "87d299d9fe534f65a7af727e3df5a045",
       "version_major": 2,
       "version_minor": 0
      },
      "text/plain": [
       "Output()"
      ]
     },
     "metadata": {},
     "output_type": "display_data"
    },
    {
     "data": {
      "text/html": [
       "<pre style=\"white-space:pre;overflow-x:auto;line-height:normal;font-family:Menlo,'DejaVu Sans Mono',consolas,'Courier New',monospace\"></pre>\n"
      ],
      "text/plain": []
     },
     "metadata": {},
     "output_type": "display_data"
    },
    {
     "data": {
      "application/vnd.jupyter.widget-view+json": {
       "model_id": "b19cfbed2cfc4f75abb5b6a63f54b155",
       "version_major": 2,
       "version_minor": 0
      },
      "text/plain": [
       "Output()"
      ]
     },
     "metadata": {},
     "output_type": "display_data"
    },
    {
     "data": {
      "text/html": [
       "<pre style=\"white-space:pre;overflow-x:auto;line-height:normal;font-family:Menlo,'DejaVu Sans Mono',consolas,'Courier New',monospace\"></pre>\n"
      ],
      "text/plain": []
     },
     "metadata": {},
     "output_type": "display_data"
    },
    {
     "data": {
      "application/vnd.jupyter.widget-view+json": {
       "model_id": "8f474e420dc34dd0a537bface56d9a95",
       "version_major": 2,
       "version_minor": 0
      },
      "text/plain": [
       "Output()"
      ]
     },
     "metadata": {},
     "output_type": "display_data"
    },
    {
     "data": {
      "text/html": [
       "<pre style=\"white-space:pre;overflow-x:auto;line-height:normal;font-family:Menlo,'DejaVu Sans Mono',consolas,'Courier New',monospace\"></pre>\n"
      ],
      "text/plain": []
     },
     "metadata": {},
     "output_type": "display_data"
    },
    {
     "data": {
      "application/vnd.jupyter.widget-view+json": {
       "model_id": "007cdfbae77d4680ae4ca714155c4418",
       "version_major": 2,
       "version_minor": 0
      },
      "text/plain": [
       "Output()"
      ]
     },
     "metadata": {},
     "output_type": "display_data"
    },
    {
     "data": {
      "text/html": [
       "<pre style=\"white-space:pre;overflow-x:auto;line-height:normal;font-family:Menlo,'DejaVu Sans Mono',consolas,'Courier New',monospace\"></pre>\n"
      ],
      "text/plain": []
     },
     "metadata": {},
     "output_type": "display_data"
    },
    {
     "name": "stderr",
     "output_type": "stream",
     "text": [
      "The output file size is 11.06× larger than the input file.\n",
      "Possible reasons for this include:\n",
      "--deskew was issued, causing transcoding.\n",
      "The optional dependency 'jbig2' was not found, so some image optimizations could not be attempted.\n",
      "The optional dependency 'pngquant' was not found, so some image optimizations could not be attempted.\n",
      "\n",
      "INFO - Processed file 489741 with tag D4 - Mitigation Monitoring Program\n",
      "INFO - Added tag D4 to file with hash cd950b043cc471478a074e1a42945147bf536874\n",
      "INFO - Added tag D to file with hash cd950b043cc471478a074e1a42945147bf536874\n",
      "INFO - Processing file number 42 of 202: 783445\n",
      "INFO - Found file 783445 at N:\\PPDO\\Records\\49xx   Long Marine Lab\\4900\\4900-025A Overlooks\\D  - Environmental Review\\D4 - Mitigation Monitoring Program\\NOD signed 2-17-11.pdf\n"
     ]
    },
    {
     "data": {
      "application/vnd.jupyter.widget-view+json": {
       "model_id": "7176a7bea7214008b81a3ceb34996e86",
       "version_major": 2,
       "version_minor": 0
      },
      "text/plain": [
       "Output()"
      ]
     },
     "metadata": {},
     "output_type": "display_data"
    },
    {
     "data": {
      "text/html": [
       "<pre style=\"white-space:pre;overflow-x:auto;line-height:normal;font-family:Menlo,'DejaVu Sans Mono',consolas,'Courier New',monospace\"></pre>\n"
      ],
      "text/plain": []
     },
     "metadata": {},
     "output_type": "display_data"
    },
    {
     "data": {
      "application/vnd.jupyter.widget-view+json": {
       "model_id": "82a7656bca004bada58919fe8ad2cee3",
       "version_major": 2,
       "version_minor": 0
      },
      "text/plain": [
       "Output()"
      ]
     },
     "metadata": {},
     "output_type": "display_data"
    },
    {
     "data": {
      "text/html": [
       "<pre style=\"white-space:pre;overflow-x:auto;line-height:normal;font-family:Menlo,'DejaVu Sans Mono',consolas,'Courier New',monospace\">[tesseract] lots of diacritics - possibly poor OCR\n",
       "</pre>\n"
      ],
      "text/plain": [
       "[tesseract] lots of diacritics - possibly poor OCR\n"
      ]
     },
     "metadata": {},
     "output_type": "display_data"
    },
    {
     "data": {
      "text/html": [
       "<pre style=\"white-space:pre;overflow-x:auto;line-height:normal;font-family:Menlo,'DejaVu Sans Mono',consolas,'Courier New',monospace\"></pre>\n"
      ],
      "text/plain": []
     },
     "metadata": {},
     "output_type": "display_data"
    },
    {
     "data": {
      "application/vnd.jupyter.widget-view+json": {
       "model_id": "76d4fab0005a49ae98dcceef1d2a10b1",
       "version_major": 2,
       "version_minor": 0
      },
      "text/plain": [
       "Output()"
      ]
     },
     "metadata": {},
     "output_type": "display_data"
    },
    {
     "data": {
      "text/html": [
       "<pre style=\"white-space:pre;overflow-x:auto;line-height:normal;font-family:Menlo,'DejaVu Sans Mono',consolas,'Courier New',monospace\"></pre>\n"
      ],
      "text/plain": []
     },
     "metadata": {},
     "output_type": "display_data"
    },
    {
     "data": {
      "application/vnd.jupyter.widget-view+json": {
       "model_id": "3ff4047fd3b14969b77e54c6a4613081",
       "version_major": 2,
       "version_minor": 0
      },
      "text/plain": [
       "Output()"
      ]
     },
     "metadata": {},
     "output_type": "display_data"
    },
    {
     "data": {
      "text/html": [
       "<pre style=\"white-space:pre;overflow-x:auto;line-height:normal;font-family:Menlo,'DejaVu Sans Mono',consolas,'Courier New',monospace\"></pre>\n"
      ],
      "text/plain": []
     },
     "metadata": {},
     "output_type": "display_data"
    },
    {
     "data": {
      "application/vnd.jupyter.widget-view+json": {
       "model_id": "36de10d3b5794054a8b34408f1523656",
       "version_major": 2,
       "version_minor": 0
      },
      "text/plain": [
       "Output()"
      ]
     },
     "metadata": {},
     "output_type": "display_data"
    },
    {
     "data": {
      "text/html": [
       "<pre style=\"white-space:pre;overflow-x:auto;line-height:normal;font-family:Menlo,'DejaVu Sans Mono',consolas,'Courier New',monospace\"></pre>\n"
      ],
      "text/plain": []
     },
     "metadata": {},
     "output_type": "display_data"
    },
    {
     "data": {
      "application/vnd.jupyter.widget-view+json": {
       "model_id": "5f26e9f104e7426c9bbda76ccd47f964",
       "version_major": 2,
       "version_minor": 0
      },
      "text/plain": [
       "Output()"
      ]
     },
     "metadata": {},
     "output_type": "display_data"
    },
    {
     "data": {
      "text/html": [
       "<pre style=\"white-space:pre;overflow-x:auto;line-height:normal;font-family:Menlo,'DejaVu Sans Mono',consolas,'Courier New',monospace\"></pre>\n"
      ],
      "text/plain": []
     },
     "metadata": {},
     "output_type": "display_data"
    },
    {
     "name": "stderr",
     "output_type": "stream",
     "text": [
      "The output file size is 1.95× larger than the input file.\n",
      "Possible reasons for this include:\n",
      "--deskew was issued, causing transcoding.\n",
      "The optional dependency 'jbig2' was not found, so some image optimizations could not be attempted.\n",
      "The optional dependency 'pngquant' was not found, so some image optimizations could not be attempted.\n",
      "\n",
      "INFO - Processed file 783445 with tag D4 - Mitigation Monitoring Program\n",
      "INFO - Added tag D4 to file with hash d5e4191e1639bc33fa39decdc5e76a97df50b361\n",
      "INFO - Added tag D to file with hash d5e4191e1639bc33fa39decdc5e76a97df50b361\n",
      "INFO - Processing file number 43 of 202: 338943\n",
      "INFO - Found file 338943 at N:\\PPDO\\Records\\32xx   Kresge College (College 6)\\3238\\3238\\D - Environmental Review Process\\D3 - CEQA Documentation\\D.3 CEQA MITIGATIONS\\Kresge Mit Details tmg.pdf\n",
      "WARNING - File 338943 does not match tag D4 - Mitigation Monitoring Program in its location directories\n",
      "INFO - Found file 338943 at N:\\PPDO\\Records\\32xx   Kresge College (College 6)\\3238\\3238\\D - Environmental Review Process\\D4 - Mitigation Monitoring Program\\Kresge Mit Details tmg.pdf\n",
      "INFO - Processed file 338943 with tag D4 - Mitigation Monitoring Program\n",
      "INFO - Added tag D4 to file with hash ee16a6541e3d79866fa686fee3b95a87e674a795\n",
      "INFO - Added tag D to file with hash ee16a6541e3d79866fa686fee3b95a87e674a795\n",
      "INFO - Processing file number 44 of 202: 144\n",
      "INFO - Found file 144 at N:\\PPDO\\Records\\120xx  Off Campus Facilities\\12056 Big Creek\\12056-003\\D - Environmental Review Process\\D4 - Mitigation Monitoring Program\\12056-003.D4.LandelsHillBigCreekReverveFacilityImprovementMMPD4.pdf\n"
     ]
    },
    {
     "data": {
      "application/vnd.jupyter.widget-view+json": {
       "model_id": "fb0e5aeba0c745859784cd381f7df316",
       "version_major": 2,
       "version_minor": 0
      },
      "text/plain": [
       "Output()"
      ]
     },
     "metadata": {},
     "output_type": "display_data"
    },
    {
     "data": {
      "text/html": [
       "<pre style=\"white-space:pre;overflow-x:auto;line-height:normal;font-family:Menlo,'DejaVu Sans Mono',consolas,'Courier New',monospace\"></pre>\n"
      ],
      "text/plain": []
     },
     "metadata": {},
     "output_type": "display_data"
    },
    {
     "data": {
      "application/vnd.jupyter.widget-view+json": {
       "model_id": "b7e51eb129664616a6c47cf095fce106",
       "version_major": 2,
       "version_minor": 0
      },
      "text/plain": [
       "Output()"
      ]
     },
     "metadata": {},
     "output_type": "display_data"
    },
    {
     "data": {
      "text/html": [
       "<pre style=\"white-space:pre;overflow-x:auto;line-height:normal;font-family:Menlo,'DejaVu Sans Mono',consolas,'Courier New',monospace\"></pre>\n"
      ],
      "text/plain": []
     },
     "metadata": {},
     "output_type": "display_data"
    },
    {
     "data": {
      "application/vnd.jupyter.widget-view+json": {
       "model_id": "2ac5b97507354b7391ae9ca0b6499ed5",
       "version_major": 2,
       "version_minor": 0
      },
      "text/plain": [
       "Output()"
      ]
     },
     "metadata": {},
     "output_type": "display_data"
    },
    {
     "data": {
      "text/html": [
       "<pre style=\"white-space:pre;overflow-x:auto;line-height:normal;font-family:Menlo,'DejaVu Sans Mono',consolas,'Courier New',monospace\"></pre>\n"
      ],
      "text/plain": []
     },
     "metadata": {},
     "output_type": "display_data"
    },
    {
     "data": {
      "application/vnd.jupyter.widget-view+json": {
       "model_id": "593ef444cf004defb1193164c5d0c460",
       "version_major": 2,
       "version_minor": 0
      },
      "text/plain": [
       "Output()"
      ]
     },
     "metadata": {},
     "output_type": "display_data"
    },
    {
     "data": {
      "text/html": [
       "<pre style=\"white-space:pre;overflow-x:auto;line-height:normal;font-family:Menlo,'DejaVu Sans Mono',consolas,'Courier New',monospace\"></pre>\n"
      ],
      "text/plain": []
     },
     "metadata": {},
     "output_type": "display_data"
    },
    {
     "data": {
      "application/vnd.jupyter.widget-view+json": {
       "model_id": "75c11cd24d704e549da3f79f97e40a8d",
       "version_major": 2,
       "version_minor": 0
      },
      "text/plain": [
       "Output()"
      ]
     },
     "metadata": {},
     "output_type": "display_data"
    },
    {
     "data": {
      "text/html": [
       "<pre style=\"white-space:pre;overflow-x:auto;line-height:normal;font-family:Menlo,'DejaVu Sans Mono',consolas,'Courier New',monospace\"></pre>\n"
      ],
      "text/plain": []
     },
     "metadata": {},
     "output_type": "display_data"
    },
    {
     "data": {
      "application/vnd.jupyter.widget-view+json": {
       "model_id": "7832114c995f4012a2d6385e90b5c96b",
       "version_major": 2,
       "version_minor": 0
      },
      "text/plain": [
       "Output()"
      ]
     },
     "metadata": {},
     "output_type": "display_data"
    },
    {
     "data": {
      "text/html": [
       "<pre style=\"white-space:pre;overflow-x:auto;line-height:normal;font-family:Menlo,'DejaVu Sans Mono',consolas,'Courier New',monospace\"></pre>\n"
      ],
      "text/plain": []
     },
     "metadata": {},
     "output_type": "display_data"
    },
    {
     "name": "stderr",
     "output_type": "stream",
     "text": [
      "The output file size is 2.37× larger than the input file.\n",
      "Possible reasons for this include:\n",
      "--deskew was issued, causing transcoding.\n",
      "The optional dependency 'jbig2' was not found, so some image optimizations could not be attempted.\n",
      "The optional dependency 'pngquant' was not found, so some image optimizations could not be attempted.\n",
      "\n",
      "INFO - Processed file 144 with tag D4 - Mitigation Monitoring Program\n",
      "INFO - Added tag D4 to file with hash cfc1636d64c7134fc6cb1aaca32689b553c1f73d\n",
      "INFO - Added tag D to file with hash cfc1636d64c7134fc6cb1aaca32689b553c1f73d\n",
      "INFO - Processing file number 45 of 202: 179924\n",
      "INFO - Found file 179924 at N:\\PPDO\\Records\\18xx   Mc Henry Library Unit I\\1810\\1810\\D - Environmental Review Process\\D4 - Mitigation Monitoring Program\\Roosting Bats and Woodrat Pre-construction surveys correspondence.pdf\n",
      "INFO - Processed file 179924 with tag D4 - Mitigation Monitoring Program\n",
      "INFO - Added tag D4 to file with hash 9cfe45e53f9f18b4f54d20189ec0bde1bb782162\n",
      "INFO - Added tag D to file with hash 9cfe45e53f9f18b4f54d20189ec0bde1bb782162\n",
      "INFO - Processing file number 46 of 202: 875766\n",
      "WARNING - File 875766 not found at N:\\PPDO\\Records\\21xx   Central Heating Plant (Fackler Cogeneration)\\2114\\2114\\D4 - Mitigation Monitoring Program\\2114.D4.ACM Waste weight Receipt.pdf\n",
      "WARNING - No valid file found for 875766\n",
      "INFO - Processing file number 47 of 202: 361896\n",
      "INFO - Found file 361896 at N:\\PPDO\\Records\\35xx   Upper & Lower Quarries\\3505\\3505 Renovations\\D - Environmental Review Process\\D4 - Mitigation Monitoring Program\\3505.D4.MigratedNecgativeDeclarationD40001.pdf\n"
     ]
    },
    {
     "data": {
      "application/vnd.jupyter.widget-view+json": {
       "model_id": "d9e4993b98a74350937097da7ab48cd5",
       "version_major": 2,
       "version_minor": 0
      },
      "text/plain": [
       "Output()"
      ]
     },
     "metadata": {},
     "output_type": "display_data"
    },
    {
     "data": {
      "text/html": [
       "<pre style=\"white-space:pre;overflow-x:auto;line-height:normal;font-family:Menlo,'DejaVu Sans Mono',consolas,'Courier New',monospace\"></pre>\n"
      ],
      "text/plain": []
     },
     "metadata": {},
     "output_type": "display_data"
    },
    {
     "data": {
      "application/vnd.jupyter.widget-view+json": {
       "model_id": "d5bba4e9d0634945bbe55012ed80c7e5",
       "version_major": 2,
       "version_minor": 0
      },
      "text/plain": [
       "Output()"
      ]
     },
     "metadata": {},
     "output_type": "display_data"
    },
    {
     "data": {
      "text/html": [
       "<pre style=\"white-space:pre;overflow-x:auto;line-height:normal;font-family:Menlo,'DejaVu Sans Mono',consolas,'Courier New',monospace\"></pre>\n"
      ],
      "text/plain": []
     },
     "metadata": {},
     "output_type": "display_data"
    },
    {
     "data": {
      "application/vnd.jupyter.widget-view+json": {
       "model_id": "be0cf01d2a4445c688fbe0594b4379cf",
       "version_major": 2,
       "version_minor": 0
      },
      "text/plain": [
       "Output()"
      ]
     },
     "metadata": {},
     "output_type": "display_data"
    },
    {
     "data": {
      "text/html": [
       "<pre style=\"white-space:pre;overflow-x:auto;line-height:normal;font-family:Menlo,'DejaVu Sans Mono',consolas,'Courier New',monospace\"></pre>\n"
      ],
      "text/plain": []
     },
     "metadata": {},
     "output_type": "display_data"
    },
    {
     "data": {
      "application/vnd.jupyter.widget-view+json": {
       "model_id": "30b1db4fabce41e7b13873af1b2cb9f0",
       "version_major": 2,
       "version_minor": 0
      },
      "text/plain": [
       "Output()"
      ]
     },
     "metadata": {},
     "output_type": "display_data"
    },
    {
     "data": {
      "text/html": [
       "<pre style=\"white-space:pre;overflow-x:auto;line-height:normal;font-family:Menlo,'DejaVu Sans Mono',consolas,'Courier New',monospace\"></pre>\n"
      ],
      "text/plain": []
     },
     "metadata": {},
     "output_type": "display_data"
    },
    {
     "data": {
      "application/vnd.jupyter.widget-view+json": {
       "model_id": "58746ddd48ea45dbb5b83290a5898f8d",
       "version_major": 2,
       "version_minor": 0
      },
      "text/plain": [
       "Output()"
      ]
     },
     "metadata": {},
     "output_type": "display_data"
    },
    {
     "data": {
      "text/html": [
       "<pre style=\"white-space:pre;overflow-x:auto;line-height:normal;font-family:Menlo,'DejaVu Sans Mono',consolas,'Courier New',monospace\"></pre>\n"
      ],
      "text/plain": []
     },
     "metadata": {},
     "output_type": "display_data"
    },
    {
     "data": {
      "application/vnd.jupyter.widget-view+json": {
       "model_id": "43c193094b1c49afa05d04ec36f2ac13",
       "version_major": 2,
       "version_minor": 0
      },
      "text/plain": [
       "Output()"
      ]
     },
     "metadata": {},
     "output_type": "display_data"
    },
    {
     "data": {
      "text/html": [
       "<pre style=\"white-space:pre;overflow-x:auto;line-height:normal;font-family:Menlo,'DejaVu Sans Mono',consolas,'Courier New',monospace\"></pre>\n"
      ],
      "text/plain": []
     },
     "metadata": {},
     "output_type": "display_data"
    },
    {
     "name": "stderr",
     "output_type": "stream",
     "text": [
      "The output file size is 2.03× larger than the input file.\n",
      "Possible reasons for this include:\n",
      "--deskew was issued, causing transcoding.\n",
      "The optional dependency 'jbig2' was not found, so some image optimizations could not be attempted.\n",
      "The optional dependency 'pngquant' was not found, so some image optimizations could not be attempted.\n",
      "\n",
      "INFO - Processed file 361896 with tag D4 - Mitigation Monitoring Program\n",
      "INFO - Added tag D4 to file with hash 6f3ad2676e071c1b47bc32525f3eaa32a4c6f809\n",
      "INFO - Added tag D to file with hash 6f3ad2676e071c1b47bc32525f3eaa32a4c6f809\n",
      "INFO - Processing file number 48 of 202: 579731\n",
      "INFO - Found file 579731 at N:\\PPDO\\Records\\85xx   Pedestrian Paths and Site Development\\8500\\8500-033\\D - Environmental Review Process\\D4 - Mitigation Monitoring Program\\2019 10 08 MMRP from Great Meadow Bike Path Improvement Project - Initial Study - FINAL.pdf\n",
      "INFO - Processed file 579731 with tag D4 - Mitigation Monitoring Program\n",
      "INFO - Added tag D4 to file with hash 5af8578787c8c53e3fbc051b9f1bbf1907ade4cd\n",
      "INFO - Added tag D to file with hash 5af8578787c8c53e3fbc051b9f1bbf1907ade4cd\n",
      "INFO - Processing file number 49 of 202: 474296\n",
      "INFO - Found file 474296 at N:\\PPDO\\Records\\52xx   Earth Marine Science Building\\5201\\5201\\D - Environmental Review Process\\D4 - Mitigation Monitoring Program\\5201.D4.Soil Removal.pdf\n"
     ]
    },
    {
     "data": {
      "application/vnd.jupyter.widget-view+json": {
       "model_id": "b4d1786f8bb24752bb730c1c3e576c2c",
       "version_major": 2,
       "version_minor": 0
      },
      "text/plain": [
       "Output()"
      ]
     },
     "metadata": {},
     "output_type": "display_data"
    },
    {
     "data": {
      "text/html": [
       "<pre style=\"white-space:pre;overflow-x:auto;line-height:normal;font-family:Menlo,'DejaVu Sans Mono',consolas,'Courier New',monospace\"></pre>\n"
      ],
      "text/plain": []
     },
     "metadata": {},
     "output_type": "display_data"
    },
    {
     "data": {
      "application/vnd.jupyter.widget-view+json": {
       "model_id": "60591c7b95e74e39b62bd57848ce847f",
       "version_major": 2,
       "version_minor": 0
      },
      "text/plain": [
       "Output()"
      ]
     },
     "metadata": {},
     "output_type": "display_data"
    },
    {
     "data": {
      "text/html": [
       "<pre style=\"white-space:pre;overflow-x:auto;line-height:normal;font-family:Menlo,'DejaVu Sans Mono',consolas,'Courier New',monospace\"></pre>\n"
      ],
      "text/plain": []
     },
     "metadata": {},
     "output_type": "display_data"
    },
    {
     "data": {
      "application/vnd.jupyter.widget-view+json": {
       "model_id": "c97ef5d03f0f46bf96cc3a3f8ccd0229",
       "version_major": 2,
       "version_minor": 0
      },
      "text/plain": [
       "Output()"
      ]
     },
     "metadata": {},
     "output_type": "display_data"
    },
    {
     "data": {
      "text/html": [
       "<pre style=\"white-space:pre;overflow-x:auto;line-height:normal;font-family:Menlo,'DejaVu Sans Mono',consolas,'Courier New',monospace\"></pre>\n"
      ],
      "text/plain": []
     },
     "metadata": {},
     "output_type": "display_data"
    },
    {
     "data": {
      "application/vnd.jupyter.widget-view+json": {
       "model_id": "43dba7bd34454f2090798778071e7ce6",
       "version_major": 2,
       "version_minor": 0
      },
      "text/plain": [
       "Output()"
      ]
     },
     "metadata": {},
     "output_type": "display_data"
    },
    {
     "data": {
      "text/html": [
       "<pre style=\"white-space:pre;overflow-x:auto;line-height:normal;font-family:Menlo,'DejaVu Sans Mono',consolas,'Courier New',monospace\"></pre>\n"
      ],
      "text/plain": []
     },
     "metadata": {},
     "output_type": "display_data"
    },
    {
     "data": {
      "application/vnd.jupyter.widget-view+json": {
       "model_id": "23e91a654f624ebeb7ae4d1e37284b28",
       "version_major": 2,
       "version_minor": 0
      },
      "text/plain": [
       "Output()"
      ]
     },
     "metadata": {},
     "output_type": "display_data"
    },
    {
     "data": {
      "text/html": [
       "<pre style=\"white-space:pre;overflow-x:auto;line-height:normal;font-family:Menlo,'DejaVu Sans Mono',consolas,'Courier New',monospace\"></pre>\n"
      ],
      "text/plain": []
     },
     "metadata": {},
     "output_type": "display_data"
    },
    {
     "data": {
      "application/vnd.jupyter.widget-view+json": {
       "model_id": "50e59ae2084c486289b21dc5b5d09b16",
       "version_major": 2,
       "version_minor": 0
      },
      "text/plain": [
       "Output()"
      ]
     },
     "metadata": {},
     "output_type": "display_data"
    },
    {
     "data": {
      "text/html": [
       "<pre style=\"white-space:pre;overflow-x:auto;line-height:normal;font-family:Menlo,'DejaVu Sans Mono',consolas,'Courier New',monospace\"></pre>\n"
      ],
      "text/plain": []
     },
     "metadata": {},
     "output_type": "display_data"
    },
    {
     "name": "stderr",
     "output_type": "stream",
     "text": [
      "The output file size is 10.85× larger than the input file.\n",
      "Possible reasons for this include:\n",
      "--deskew was issued, causing transcoding.\n",
      "The optional dependency 'jbig2' was not found, so some image optimizations could not be attempted.\n",
      "The optional dependency 'pngquant' was not found, so some image optimizations could not be attempted.\n",
      "\n",
      "INFO - Processed file 474296 with tag D4 - Mitigation Monitoring Program\n",
      "INFO - Added tag D4 to file with hash b7bae63bc97a545aeb34b66389cb5f47f6f4031e\n",
      "INFO - Added tag D to file with hash b7bae63bc97a545aeb34b66389cb5f47f6f4031e\n",
      "INFO - Processing file number 50 of 202: 973552\n",
      "INFO - Found file 973552 at N:\\PPDO\\Records\\14xx   Thimann Labs\\1443\\G - Construction\\G1 - Construction Correspondence\\Email Correspondence Dave Tanza\\data\\accounts\\David Tanza@davidt.bgpostoffice.bgdomain\\att\\53\\04\\D4 - Mitigation Monitoring Program\\D4\\IMG_1845.jpeg\n",
      "Tesseract OSD failed: (1, 'libpng warning: iCCP: known incorrect sRGB profile Estimating resolution as 240 Too few characters. Skipping this page Warning. Invalid resolution 0 dpi. Using 70 instead. Too few characters. Skipping this page Error during processing.')\n",
      "WARNING - Text length for file 973552 is 0:\n",
      "\n",
      "INFO - Processing file number 51 of 202: 214854\n",
      "INFO - Found file 214854 at N:\\PPDO\\Records\\21xx   Central Heating Plant (Fackler Cogeneration)\\2113\\2113\\D - Environmental Review Process\\D4 - Mitigation Monitoring Program\\Cogen Replace Phase 1 Mitigation checklist.xlsx\n",
      "INFO - Processed file 214854 with tag D4 - Mitigation Monitoring Program\n",
      "INFO - Added tag D4 to file with hash 6de03ff74432affc9d3c230735461548480c10b8\n",
      "INFO - Added tag D to file with hash 6de03ff74432affc9d3c230735461548480c10b8\n",
      "INFO - Processing file number 52 of 202: 136499\n",
      "INFO - Found file 136499 at N:\\PPDO\\Records\\42xx   Student Housing West\\4202\\4202\\SHW_Design Review\\A1_RFP\\Appendix E - Reference Documents\\Appendix E.2 - 2005 LRDP EIR\\2005deir-iii-2.0-infrastructure.pdf\n",
      "WARNING - File 136499 does not match tag D4 - Mitigation Monitoring Program in its location directories\n",
      "INFO - Found file 136499 at N:\\PPDO\\Records\\42xx   Student Housing West\\4202\\4202\\SHW_Design Review As of 12.23.19\\A1_RFP\\Appendix E - Reference Documents\\Appendix E.2 - 2005 LRDP EIR\\2005deir-iii-2.0-infrastructure.pdf\n",
      "WARNING - File 136499 does not match tag D4 - Mitigation Monitoring Program in its location directories\n",
      "INFO - Found file 136499 at N:\\PPDO\\Records\\98xx   Campus Utilities 2012 on\\9800\\9800-010\\D - Environmental Review Process\\D4 - Mitigation Monitoring Program\\9800-010.D4.2005deir-iii-2.0-infrastructure.pdf\n",
      "INFO - Processed file 136499 with tag D4 - Mitigation Monitoring Program\n",
      "INFO - Added tag D4 to file with hash 3724bb34831b9b55ab55101c4d6ca1a684e4329b\n",
      "INFO - Added tag D to file with hash 3724bb34831b9b55ab55101c4d6ca1a684e4329b\n",
      "INFO - Processing file number 53 of 202: 338863\n",
      "INFO - Found file 338863 at N:\\PPDO\\Records\\32xx   Kresge College (College 6)\\3238\\3238\\D - Environmental Review Process\\D3 - CEQA Documentation\\CEQA documents for Records\\Final EIR\\Kresge FEIR chapters\\2 Introduction.pdf\n",
      "WARNING - File 338863 does not match tag D4 - Mitigation Monitoring Program in its location directories\n",
      "INFO - Found file 338863 at N:\\PPDO\\Records\\32xx   Kresge College (College 6)\\3238\\3238\\D - Environmental Review Process\\D3 - CEQA Documentation\\D.3 CEQA MITIGATIONS\\EIR\\Kresge Final EIR chapters\\2 Introduction.pdf\n",
      "WARNING - File 338863 does not match tag D4 - Mitigation Monitoring Program in its location directories\n",
      "INFO - Found file 338863 at N:\\PPDO\\Records\\32xx   Kresge College (College 6)\\3238\\3238\\D - Environmental Review Process\\D4 - Mitigation Monitoring Program\\EIR\\Kresge Final EIR chapters\\2 Introduction.pdf\n",
      "INFO - Processed file 338863 with tag D4 - Mitigation Monitoring Program\n",
      "INFO - Added tag D4 to file with hash 89d08e48154cf2c11505102afeb3a9fea63db5db\n",
      "INFO - Added tag D to file with hash 89d08e48154cf2c11505102afeb3a9fea63db5db\n",
      "INFO - Processing file number 54 of 202: 338959\n",
      "INFO - Found file 338959 at N:\\PPDO\\Records\\32xx   Kresge College (College 6)\\3238\\3238\\D - Environmental Review Process\\D3 - CEQA Documentation\\D.3 CEQA MITIGATIONS\\EIR\\Kresge Draft EIR chapters\\4.13 Population and Housing.pdf\n",
      "WARNING - File 338959 does not match tag D4 - Mitigation Monitoring Program in its location directories\n",
      "INFO - Found file 338959 at N:\\PPDO\\Records\\32xx   Kresge College (College 6)\\3238\\3238\\D - Environmental Review Process\\D4 - Mitigation Monitoring Program\\EIR\\Kresge Draft EIR chapters\\4.13 Population and Housing.pdf\n",
      "INFO - Processed file 338959 with tag D4 - Mitigation Monitoring Program\n",
      "INFO - Added tag D4 to file with hash db114238961298c2d38944e40afff95961f20bb0\n",
      "INFO - Added tag D to file with hash db114238961298c2d38944e40afff95961f20bb0\n",
      "INFO - Processing file number 55 of 202: 338975\n",
      "INFO - Found file 338975 at N:\\PPDO\\Records\\32xx   Kresge College (College 6)\\3238\\3238\\D - Environmental Review Process\\D3 - CEQA Documentation\\D.3 CEQA MITIGATIONS\\EIR\\Kresge Draft EIR chapters\\7 References and Preparers.pdf\n",
      "WARNING - File 338975 does not match tag D4 - Mitigation Monitoring Program in its location directories\n",
      "INFO - Found file 338975 at N:\\PPDO\\Records\\32xx   Kresge College (College 6)\\3238\\3238\\D - Environmental Review Process\\D4 - Mitigation Monitoring Program\\EIR\\Kresge Draft EIR chapters\\7 References and Preparers.pdf\n",
      "INFO - Processed file 338975 with tag D4 - Mitigation Monitoring Program\n",
      "INFO - Added tag D4 to file with hash 064b229df1b23700e8c9f7321155a5e03175ba2e\n",
      "INFO - Added tag D to file with hash 064b229df1b23700e8c9f7321155a5e03175ba2e\n",
      "INFO - Processing file number 56 of 202: 338951\n",
      "INFO - Found file 338951 at N:\\PPDO\\Records\\32xx   Kresge College (College 6)\\3238\\3238\\D - Environmental Review Process\\D3 - CEQA Documentation\\D.3 CEQA MITIGATIONS\\EIR\\Kresge Draft EIR chapters\\1 Introduction.pdf\n",
      "WARNING - File 338951 does not match tag D4 - Mitigation Monitoring Program in its location directories\n",
      "INFO - Found file 338951 at N:\\PPDO\\Records\\32xx   Kresge College (College 6)\\3238\\3238\\D - Environmental Review Process\\D4 - Mitigation Monitoring Program\\EIR\\Kresge Draft EIR chapters\\1 Introduction.pdf\n",
      "INFO - Processed file 338951 with tag D4 - Mitigation Monitoring Program\n",
      "INFO - Added tag D4 to file with hash 6ffc48d8603fd9e5242cc0c92d25c638dd2c5e7e\n",
      "INFO - Added tag D to file with hash 6ffc48d8603fd9e5242cc0c92d25c638dd2c5e7e\n",
      "INFO - Processing file number 57 of 202: 790875\n",
      "INFO - Found file 790875 at N:\\PPDO\\Records\\49xx   Long Marine Lab\\4932\\4932\\D - Environmental Review Process\\D4 - Mitigation Monitoring Program\\CBB Marine Science Campus-Biology Monitoring.pdf\n"
     ]
    },
    {
     "data": {
      "application/vnd.jupyter.widget-view+json": {
       "model_id": "f315ada1a6714a769c419d36f72a010e",
       "version_major": 2,
       "version_minor": 0
      },
      "text/plain": [
       "Output()"
      ]
     },
     "metadata": {},
     "output_type": "display_data"
    },
    {
     "data": {
      "text/html": [
       "<pre style=\"white-space:pre;overflow-x:auto;line-height:normal;font-family:Menlo,'DejaVu Sans Mono',consolas,'Courier New',monospace\"></pre>\n"
      ],
      "text/plain": []
     },
     "metadata": {},
     "output_type": "display_data"
    },
    {
     "data": {
      "application/vnd.jupyter.widget-view+json": {
       "model_id": "d8ace1a635954b9b89e0d43cda686ec8",
       "version_major": 2,
       "version_minor": 0
      },
      "text/plain": [
       "Output()"
      ]
     },
     "metadata": {},
     "output_type": "display_data"
    },
    {
     "data": {
      "text/html": [
       "<pre style=\"white-space:pre;overflow-x:auto;line-height:normal;font-family:Menlo,'DejaVu Sans Mono',consolas,'Courier New',monospace\"></pre>\n"
      ],
      "text/plain": []
     },
     "metadata": {},
     "output_type": "display_data"
    },
    {
     "data": {
      "application/vnd.jupyter.widget-view+json": {
       "model_id": "891b6f4fceb44a18a24469b85f1921fe",
       "version_major": 2,
       "version_minor": 0
      },
      "text/plain": [
       "Output()"
      ]
     },
     "metadata": {},
     "output_type": "display_data"
    },
    {
     "data": {
      "text/html": [
       "<pre style=\"white-space:pre;overflow-x:auto;line-height:normal;font-family:Menlo,'DejaVu Sans Mono',consolas,'Courier New',monospace\"></pre>\n"
      ],
      "text/plain": []
     },
     "metadata": {},
     "output_type": "display_data"
    },
    {
     "data": {
      "application/vnd.jupyter.widget-view+json": {
       "model_id": "30931382ff314d518ae76423cefed53d",
       "version_major": 2,
       "version_minor": 0
      },
      "text/plain": [
       "Output()"
      ]
     },
     "metadata": {},
     "output_type": "display_data"
    },
    {
     "data": {
      "text/html": [
       "<pre style=\"white-space:pre;overflow-x:auto;line-height:normal;font-family:Menlo,'DejaVu Sans Mono',consolas,'Courier New',monospace\"></pre>\n"
      ],
      "text/plain": []
     },
     "metadata": {},
     "output_type": "display_data"
    },
    {
     "data": {
      "application/vnd.jupyter.widget-view+json": {
       "model_id": "5683d2f9f3fc43999af8d91006d3a54f",
       "version_major": 2,
       "version_minor": 0
      },
      "text/plain": [
       "Output()"
      ]
     },
     "metadata": {},
     "output_type": "display_data"
    },
    {
     "data": {
      "text/html": [
       "<pre style=\"white-space:pre;overflow-x:auto;line-height:normal;font-family:Menlo,'DejaVu Sans Mono',consolas,'Courier New',monospace\"></pre>\n"
      ],
      "text/plain": []
     },
     "metadata": {},
     "output_type": "display_data"
    },
    {
     "data": {
      "application/vnd.jupyter.widget-view+json": {
       "model_id": "1c29301695c44b5a9e04de0ffe5de813",
       "version_major": 2,
       "version_minor": 0
      },
      "text/plain": [
       "Output()"
      ]
     },
     "metadata": {},
     "output_type": "display_data"
    },
    {
     "data": {
      "text/html": [
       "<pre style=\"white-space:pre;overflow-x:auto;line-height:normal;font-family:Menlo,'DejaVu Sans Mono',consolas,'Courier New',monospace\"></pre>\n"
      ],
      "text/plain": []
     },
     "metadata": {},
     "output_type": "display_data"
    },
    {
     "name": "stderr",
     "output_type": "stream",
     "text": [
      "The output file size is 13.67× larger than the input file.\n",
      "Possible reasons for this include:\n",
      "--deskew was issued, causing transcoding.\n",
      "The optional dependency 'jbig2' was not found, so some image optimizations could not be attempted.\n",
      "The optional dependency 'pngquant' was not found, so some image optimizations could not be attempted.\n",
      "\n",
      "INFO - Processed file 790875 with tag D4 - Mitigation Monitoring Program\n",
      "INFO - Added tag D4 to file with hash 7b1139cc08ca1a20b5086a017a2eaf28d505162e\n",
      "INFO - Added tag D to file with hash 7b1139cc08ca1a20b5086a017a2eaf28d505162e\n",
      "INFO - Processing file number 58 of 202: 790882\n",
      "INFO - Found file 790882 at N:\\PPDO\\Records\\49xx   Long Marine Lab\\4932\\4932\\D - Environmental Review Process\\D4 - Mitigation Monitoring Program\\I&W Noise Memo 052314.pdf\n",
      "INFO - Processed file 790882 with tag D4 - Mitigation Monitoring Program\n",
      "INFO - Added tag D4 to file with hash 7be9b2c7b55cd2dc0b969751143e3e1411e9f812\n",
      "INFO - Added tag D to file with hash 7be9b2c7b55cd2dc0b969751143e3e1411e9f812\n",
      "INFO - Processing file number 59 of 202: 135237\n",
      "INFO - Found file 135237 at N:\\PPDO\\Records\\114xx  Long Range Development Planning (LRDP) Documents and Studies\\11405 LRDP 1988\\11405\\D - Environmental Review Process\\D4 - Mitigation Monitoring Program\\11405.D4.LRDP Monitoring Program, Operations Handbook.pdf\n"
     ]
    },
    {
     "data": {
      "application/vnd.jupyter.widget-view+json": {
       "model_id": "d7972d64948a44429b5431ae9d59bcf2",
       "version_major": 2,
       "version_minor": 0
      },
      "text/plain": [
       "Output()"
      ]
     },
     "metadata": {},
     "output_type": "display_data"
    },
    {
     "data": {
      "text/html": [
       "<pre style=\"white-space:pre;overflow-x:auto;line-height:normal;font-family:Menlo,'DejaVu Sans Mono',consolas,'Courier New',monospace\"></pre>\n"
      ],
      "text/plain": []
     },
     "metadata": {},
     "output_type": "display_data"
    },
    {
     "data": {
      "application/vnd.jupyter.widget-view+json": {
       "model_id": "c353a12254a14fd3b8cf8b7052e53ac6",
       "version_major": 2,
       "version_minor": 0
      },
      "text/plain": [
       "Output()"
      ]
     },
     "metadata": {},
     "output_type": "display_data"
    },
    {
     "data": {
      "text/html": [
       "<pre style=\"white-space:pre;overflow-x:auto;line-height:normal;font-family:Menlo,'DejaVu Sans Mono',consolas,'Courier New',monospace\">[tesseract] Error during processing.\n",
       "</pre>\n"
      ],
      "text/plain": [
       "[tesseract] Error during processing.\n"
      ]
     },
     "metadata": {},
     "output_type": "display_data"
    },
    {
     "data": {
      "text/html": [
       "<pre style=\"white-space:pre;overflow-x:auto;line-height:normal;font-family:Menlo,'DejaVu Sans Mono',consolas,'Courier New',monospace\">[tesseract] Error during processing.\n",
       "</pre>\n"
      ],
      "text/plain": [
       "[tesseract] Error during processing.\n"
      ]
     },
     "metadata": {},
     "output_type": "display_data"
    },
    {
     "data": {
      "text/html": [
       "<pre style=\"white-space:pre;overflow-x:auto;line-height:normal;font-family:Menlo,'DejaVu Sans Mono',consolas,'Courier New',monospace\">[tesseract] lots of diacritics - possibly poor OCR\n",
       "</pre>\n"
      ],
      "text/plain": [
       "[tesseract] lots of diacritics - possibly poor OCR\n"
      ]
     },
     "metadata": {},
     "output_type": "display_data"
    },
    {
     "data": {
      "text/html": [
       "<pre style=\"white-space:pre;overflow-x:auto;line-height:normal;font-family:Menlo,'DejaVu Sans Mono',consolas,'Courier New',monospace\">[tesseract] lots of diacritics - possibly poor OCR\n",
       "</pre>\n"
      ],
      "text/plain": [
       "[tesseract] lots of diacritics - possibly poor OCR\n"
      ]
     },
     "metadata": {},
     "output_type": "display_data"
    },
    {
     "data": {
      "text/html": [
       "<pre style=\"white-space:pre;overflow-x:auto;line-height:normal;font-family:Menlo,'DejaVu Sans Mono',consolas,'Courier New',monospace\">[tesseract] lots of diacritics - possibly poor OCR\n",
       "</pre>\n"
      ],
      "text/plain": [
       "[tesseract] lots of diacritics - possibly poor OCR\n"
      ]
     },
     "metadata": {},
     "output_type": "display_data"
    },
    {
     "data": {
      "text/html": [
       "<pre style=\"white-space:pre;overflow-x:auto;line-height:normal;font-family:Menlo,'DejaVu Sans Mono',consolas,'Courier New',monospace\"></pre>\n"
      ],
      "text/plain": []
     },
     "metadata": {},
     "output_type": "display_data"
    },
    {
     "data": {
      "application/vnd.jupyter.widget-view+json": {
       "model_id": "6413dbca30a94f45a5a5a87efbd0d9a7",
       "version_major": 2,
       "version_minor": 0
      },
      "text/plain": [
       "Output()"
      ]
     },
     "metadata": {},
     "output_type": "display_data"
    },
    {
     "data": {
      "text/html": [
       "<pre style=\"white-space:pre;overflow-x:auto;line-height:normal;font-family:Menlo,'DejaVu Sans Mono',consolas,'Courier New',monospace\"></pre>\n"
      ],
      "text/plain": []
     },
     "metadata": {},
     "output_type": "display_data"
    },
    {
     "data": {
      "application/vnd.jupyter.widget-view+json": {
       "model_id": "ff5a7ea683f04b64859ae37329930b2c",
       "version_major": 2,
       "version_minor": 0
      },
      "text/plain": [
       "Output()"
      ]
     },
     "metadata": {},
     "output_type": "display_data"
    },
    {
     "data": {
      "text/html": [
       "<pre style=\"white-space:pre;overflow-x:auto;line-height:normal;font-family:Menlo,'DejaVu Sans Mono',consolas,'Courier New',monospace\"></pre>\n"
      ],
      "text/plain": []
     },
     "metadata": {},
     "output_type": "display_data"
    },
    {
     "data": {
      "application/vnd.jupyter.widget-view+json": {
       "model_id": "bc635fe2d6f741898270d2d5c106660d",
       "version_major": 2,
       "version_minor": 0
      },
      "text/plain": [
       "Output()"
      ]
     },
     "metadata": {},
     "output_type": "display_data"
    },
    {
     "data": {
      "text/html": [
       "<pre style=\"white-space:pre;overflow-x:auto;line-height:normal;font-family:Menlo,'DejaVu Sans Mono',consolas,'Courier New',monospace\"></pre>\n"
      ],
      "text/plain": []
     },
     "metadata": {},
     "output_type": "display_data"
    },
    {
     "data": {
      "application/vnd.jupyter.widget-view+json": {
       "model_id": "7ae019d8aa9f48fb8e4f968693c32e3f",
       "version_major": 2,
       "version_minor": 0
      },
      "text/plain": [
       "Output()"
      ]
     },
     "metadata": {},
     "output_type": "display_data"
    },
    {
     "data": {
      "text/html": [
       "<pre style=\"white-space:pre;overflow-x:auto;line-height:normal;font-family:Menlo,'DejaVu Sans Mono',consolas,'Courier New',monospace\"></pre>\n"
      ],
      "text/plain": []
     },
     "metadata": {},
     "output_type": "display_data"
    },
    {
     "name": "stderr",
     "output_type": "stream",
     "text": [
      "The output file size is 4.92× larger than the input file.\n",
      "Possible reasons for this include:\n",
      "--deskew was issued, causing transcoding.\n",
      "The optional dependency 'jbig2' was not found, so some image optimizations could not be attempted.\n",
      "The optional dependency 'pngquant' was not found, so some image optimizations could not be attempted.\n",
      "\n",
      "INFO - Processed file 135237 with tag D4 - Mitigation Monitoring Program\n",
      "INFO - Added tag D4 to file with hash 92f66e23e54c941f309fa92c4f74e04ed7ad2f8f\n",
      "INFO - Added tag D to file with hash 92f66e23e54c941f309fa92c4f74e04ed7ad2f8f\n",
      "INFO - Processing file number 60 of 202: 790892\n",
      "INFO - Found file 790892 at N:\\PPDO\\Records\\49xx   Long Marine Lab\\4932\\4932\\D - Environmental Review Process\\D4 - Mitigation Monitoring Program\\Annual Compliance Report 2016\\Attachment A- Photographs (01-04-2017).pdf\n",
      "INFO - Processed file 790892 with tag D4 - Mitigation Monitoring Program\n",
      "INFO - Added tag D4 to file with hash 89a0fcccc81e52845a4f2b71e6763eacfc6dfa0e\n",
      "INFO - Added tag D to file with hash 89a0fcccc81e52845a4f2b71e6763eacfc6dfa0e\n",
      "INFO - Processing file number 61 of 202: 1113\n",
      "WARNING - File 1113 not found at N:\\PPDO\\Records\\14xx   Thimann Labs\\1400\\1400-093A Thimann Labs, Roof Repair Asbestos Abatement\\D - Environmental\\Mitigation Monitoring Program\\A212887_COC01.pdf\n",
      "INFO - Found file 1113 at N:\\PPDO\\Records\\14xx   Thimann Labs\\1400\\1400-093A\\D - Environmental Review Process\\D4 - Mitigation Monitoring Program\\A212887_COC01.pdf\n"
     ]
    },
    {
     "data": {
      "application/vnd.jupyter.widget-view+json": {
       "model_id": "617d1b2eab8a4d6fa67fa1044e27a13c",
       "version_major": 2,
       "version_minor": 0
      },
      "text/plain": [
       "Output()"
      ]
     },
     "metadata": {},
     "output_type": "display_data"
    },
    {
     "data": {
      "text/html": [
       "<pre style=\"white-space:pre;overflow-x:auto;line-height:normal;font-family:Menlo,'DejaVu Sans Mono',consolas,'Courier New',monospace\"></pre>\n"
      ],
      "text/plain": []
     },
     "metadata": {},
     "output_type": "display_data"
    },
    {
     "data": {
      "application/vnd.jupyter.widget-view+json": {
       "model_id": "2fb854a05f4b44b896a8c9870eb21541",
       "version_major": 2,
       "version_minor": 0
      },
      "text/plain": [
       "Output()"
      ]
     },
     "metadata": {},
     "output_type": "display_data"
    },
    {
     "data": {
      "text/html": [
       "<pre style=\"white-space:pre;overflow-x:auto;line-height:normal;font-family:Menlo,'DejaVu Sans Mono',consolas,'Courier New',monospace\"></pre>\n"
      ],
      "text/plain": []
     },
     "metadata": {},
     "output_type": "display_data"
    },
    {
     "data": {
      "application/vnd.jupyter.widget-view+json": {
       "model_id": "fcf3ba00d1f94f37a06a7bc4e8f578fb",
       "version_major": 2,
       "version_minor": 0
      },
      "text/plain": [
       "Output()"
      ]
     },
     "metadata": {},
     "output_type": "display_data"
    },
    {
     "data": {
      "text/html": [
       "<pre style=\"white-space:pre;overflow-x:auto;line-height:normal;font-family:Menlo,'DejaVu Sans Mono',consolas,'Courier New',monospace\">c:\\Users\\adankert\\projects\\file_code_tagger\\.venv\\Lib\\site-packages\\pikepdf\\models\\metadata.py:414: UserWarning: \n",
       "The metadata field /CreationDate could not be copied to XMP\n",
       "  warn(msg)\n",
       "</pre>\n"
      ],
      "text/plain": [
       "c:\\Users\\adankert\\projects\\file_code_tagger\\.venv\\Lib\\site-packages\\pikepdf\\models\\metadata.py:414: UserWarning: \n",
       "The metadata field /CreationDate could not be copied to XMP\n",
       "  warn(msg)\n"
      ]
     },
     "metadata": {},
     "output_type": "display_data"
    },
    {
     "data": {
      "text/html": [
       "<pre style=\"white-space:pre;overflow-x:auto;line-height:normal;font-family:Menlo,'DejaVu Sans Mono',consolas,'Courier New',monospace\">c:\\Users\\adankert\\projects\\file_code_tagger\\.venv\\Lib\\site-packages\\pikepdf\\models\\metadata.py:529: UserWarning: \n",
       "The DocumentInfo field /CreationDate could not be updated from XMP\n",
       "  warn(\n",
       "</pre>\n"
      ],
      "text/plain": [
       "c:\\Users\\adankert\\projects\\file_code_tagger\\.venv\\Lib\\site-packages\\pikepdf\\models\\metadata.py:529: UserWarning: \n",
       "The DocumentInfo field /CreationDate could not be updated from XMP\n",
       "  warn(\n"
      ]
     },
     "metadata": {},
     "output_type": "display_data"
    },
    {
     "data": {
      "text/html": [
       "<pre style=\"white-space:pre;overflow-x:auto;line-height:normal;font-family:Menlo,'DejaVu Sans Mono',consolas,'Courier New',monospace\"></pre>\n"
      ],
      "text/plain": []
     },
     "metadata": {},
     "output_type": "display_data"
    },
    {
     "data": {
      "application/vnd.jupyter.widget-view+json": {
       "model_id": "3700b910dc724a5d9bb9903a9b384d3d",
       "version_major": 2,
       "version_minor": 0
      },
      "text/plain": [
       "Output()"
      ]
     },
     "metadata": {},
     "output_type": "display_data"
    },
    {
     "data": {
      "text/html": [
       "<pre style=\"white-space:pre;overflow-x:auto;line-height:normal;font-family:Menlo,'DejaVu Sans Mono',consolas,'Courier New',monospace\"></pre>\n"
      ],
      "text/plain": []
     },
     "metadata": {},
     "output_type": "display_data"
    },
    {
     "data": {
      "application/vnd.jupyter.widget-view+json": {
       "model_id": "33b9b3cf36f547bc8fc0127fcaa4b64d",
       "version_major": 2,
       "version_minor": 0
      },
      "text/plain": [
       "Output()"
      ]
     },
     "metadata": {},
     "output_type": "display_data"
    },
    {
     "data": {
      "text/html": [
       "<pre style=\"white-space:pre;overflow-x:auto;line-height:normal;font-family:Menlo,'DejaVu Sans Mono',consolas,'Courier New',monospace\"></pre>\n"
      ],
      "text/plain": []
     },
     "metadata": {},
     "output_type": "display_data"
    },
    {
     "data": {
      "application/vnd.jupyter.widget-view+json": {
       "model_id": "91d054b46800484388416564788a2268",
       "version_major": 2,
       "version_minor": 0
      },
      "text/plain": [
       "Output()"
      ]
     },
     "metadata": {},
     "output_type": "display_data"
    },
    {
     "data": {
      "text/html": [
       "<pre style=\"white-space:pre;overflow-x:auto;line-height:normal;font-family:Menlo,'DejaVu Sans Mono',consolas,'Courier New',monospace\"></pre>\n"
      ],
      "text/plain": []
     },
     "metadata": {},
     "output_type": "display_data"
    },
    {
     "name": "stderr",
     "output_type": "stream",
     "text": [
      "INFO - Processed file 1113 with tag D4 - Mitigation Monitoring Program\n",
      "INFO - Added tag D4 to file with hash cbea268532b3b3c7b431f5bacb6c2243733ec8f4\n",
      "INFO - Added tag D to file with hash cbea268532b3b3c7b431f5bacb6c2243733ec8f4\n",
      "INFO - Processing file number 62 of 202: 790878\n",
      "INFO - Found file 790878 at N:\\PPDO\\Records\\49xx   Long Marine Lab\\4932\\4932\\D - Environmental Review Process\\D4 - Mitigation Monitoring Program\\CBB-MSC Projects mit mon database.pdf\n",
      "INFO - Processed file 790878 with tag D4 - Mitigation Monitoring Program\n",
      "INFO - Added tag D4 to file with hash 34fb9108961b5a91e8b69b4504646e48515ade40\n",
      "INFO - Added tag D to file with hash 34fb9108961b5a91e8b69b4504646e48515ade40\n",
      "INFO - Processing file number 63 of 202: 338865\n",
      "INFO - Found file 338865 at N:\\PPDO\\Records\\32xx   Kresge College (College 6)\\3238\\3238\\D - Environmental Review Process\\D3 - CEQA Documentation\\CEQA documents for Records\\Final EIR\\Kresge FEIR chapters\\4 Corrections and Additions to the Draft EIR.pdf\n",
      "WARNING - File 338865 does not match tag D4 - Mitigation Monitoring Program in its location directories\n",
      "INFO - Found file 338865 at N:\\PPDO\\Records\\32xx   Kresge College (College 6)\\3238\\3238\\D - Environmental Review Process\\D3 - CEQA Documentation\\D.3 CEQA MITIGATIONS\\EIR\\Kresge Final EIR chapters\\4 Corrections and Additions to the Draft EIR.pdf\n",
      "WARNING - File 338865 does not match tag D4 - Mitigation Monitoring Program in its location directories\n",
      "INFO - Found file 338865 at N:\\PPDO\\Records\\32xx   Kresge College (College 6)\\3238\\3238\\D - Environmental Review Process\\D4 - Mitigation Monitoring Program\\EIR\\Kresge Final EIR chapters\\4 Corrections and Additions to the Draft EIR.pdf\n",
      "INFO - Processed file 338865 with tag D4 - Mitigation Monitoring Program\n",
      "INFO - Added tag D4 to file with hash 3086dfc9aba0efae10b2d8e0a6376e8c00144d8e\n",
      "INFO - Added tag D to file with hash 3086dfc9aba0efae10b2d8e0a6376e8c00144d8e\n",
      "INFO - Processing file number 64 of 202: 338955\n",
      "INFO - Found file 338955 at N:\\PPDO\\Records\\32xx   Kresge College (College 6)\\3238\\3238\\D - Environmental Review Process\\D3 - CEQA Documentation\\D.3 CEQA MITIGATIONS\\EIR\\Kresge Draft EIR chapters\\4.1 Aesthetics.pdf\n",
      "WARNING - File 338955 does not match tag D4 - Mitigation Monitoring Program in its location directories\n",
      "INFO - Found file 338955 at N:\\PPDO\\Records\\32xx   Kresge College (College 6)\\3238\\3238\\D - Environmental Review Process\\D4 - Mitigation Monitoring Program\\EIR\\Kresge Draft EIR chapters\\4.1 Aesthetics.pdf\n",
      "INFO - Processed file 338955 with tag D4 - Mitigation Monitoring Program\n",
      "INFO - Added tag D4 to file with hash 4097255bf2c289853c1d549a02f703fd3d26f98d\n",
      "INFO - Added tag D to file with hash 4097255bf2c289853c1d549a02f703fd3d26f98d\n",
      "INFO - Processing file number 65 of 202: 579734\n",
      "INFO - Found file 579734 at N:\\PPDO\\Records\\85xx   Pedestrian Paths and Site Development\\8500\\8500-033\\D - Environmental Review Process\\D4 - Mitigation Monitoring Program\\UCSC Great Meadow Bike Path, Year 2 Grassland Seeding Monitoring Report, 5-2-22a.pdf\n",
      "INFO - Processed file 579734 with tag D4 - Mitigation Monitoring Program\n",
      "INFO - Added tag D4 to file with hash cf4a603085eebea3f7496e40f23d59d3426325d9\n",
      "INFO - Added tag D to file with hash cf4a603085eebea3f7496e40f23d59d3426325d9\n",
      "INFO - Processing file number 66 of 202: 214856\n",
      "INFO - Found file 214856 at N:\\PPDO\\Records\\21xx   Central Heating Plant (Fackler Cogeneration)\\2113\\2113\\D - Environmental Review Process\\D4 - Mitigation Monitoring Program\\Cogen tree Map 7-24-2012.ai\n",
      "No extractor found for file extension: ai\n",
      "INFO - Processed file 214856 with tag D4 - Mitigation Monitoring Program\n",
      "INFO - Added tag D4 to file with hash c2c3ce81270a4fe749fd26feb62f649c17b2df65\n",
      "INFO - Added tag D to file with hash c2c3ce81270a4fe749fd26feb62f649c17b2df65\n",
      "INFO - Processing file number 67 of 202: 214865\n",
      "INFO - Found file 214865 at N:\\PPDO\\Records\\21xx   Central Heating Plant (Fackler Cogeneration)\\2113\\2113\\D - Environmental Review Process\\D4 - Mitigation Monitoring Program\\Preconstruction Survey Report Aug 2012.pdf\n",
      "INFO - Processed file 214865 with tag D4 - Mitigation Monitoring Program\n",
      "INFO - Added tag D4 to file with hash 69c72610e7a65d2973a80d3d87b5d6933e13b832\n",
      "INFO - Added tag D to file with hash 69c72610e7a65d2973a80d3d87b5d6933e13b832\n",
      "INFO - Processing file number 68 of 202: 719025\n",
      "INFO - Found file 719025 at N:\\PPDO\\Records\\90xx  Campus Utilities\\9069\\9069\\D - Environmental Review Process\\D4 - Mitigation Monitoring Program\\IIP Phase 1-Water.complete.xls\n",
      "INFO - Processed file 719025 with tag D4 - Mitigation Monitoring Program\n",
      "INFO - Added tag D4 to file with hash 70a95b106d16efec25a42d7bb0f5af44c205e7b6\n",
      "INFO - Added tag D to file with hash 70a95b106d16efec25a42d7bb0f5af44c205e7b6\n",
      "INFO - Processing file number 69 of 202: 719022\n",
      "INFO - Found file 719022 at N:\\PPDO\\Records\\90xx  Campus Utilities\\9069\\9069\\D - Environmental Review Process\\D4 - Mitigation Monitoring Program\\IIP Phase 1-All mitigation checklist-new.xls\n",
      "INFO - Processed file 719022 with tag D4 - Mitigation Monitoring Program\n",
      "INFO - Added tag D4 to file with hash ddd26e68315adbb99c9d2d23a5d778938cc745d7\n",
      "INFO - Added tag D to file with hash ddd26e68315adbb99c9d2d23a5d778938cc745d7\n",
      "INFO - Processing file number 70 of 202: 492226\n",
      "INFO - Found file 492226 at N:\\PPDO\\Records\\55xx   College 9 & 10\\5507\\5507\\D4 - Mitigation Monitoring Program\\File 5507 D4 Project-Specific LRDP Mitigation Measures.pdf\n",
      "INFO - Processed file 492226 with tag D4 - Mitigation Monitoring Program\n",
      "INFO - Added tag D4 to file with hash 31989b75fd88d2f5557611fd301eebdaa638ff32\n",
      "INFO - Added tag D to file with hash 31989b75fd88d2f5557611fd301eebdaa638ff32\n",
      "INFO - Processing file number 71 of 202: 703351\n",
      "INFO - Found file 703351 at N:\\PPDO\\Records\\98xx   Campus Utilities 2012 on\\9800\\9800-010\\D - Environmental Review Process\\D4 - Mitigation Monitoring Program\\9800-010.D4.Pages from 2005feir-IV-4.0-mmp-unlocked.xlsx\n",
      "INFO - Processed file 703351 with tag D4 - Mitigation Monitoring Program\n",
      "INFO - Added tag D4 to file with hash ddbea8f56bd9faa7b7dd56c7e04c65f744c11cd1\n",
      "INFO - Added tag D to file with hash ddbea8f56bd9faa7b7dd56c7e04c65f744c11cd1\n",
      "INFO - Processing file number 72 of 202: 790898\n",
      "INFO - Found file 790898 at N:\\PPDO\\Records\\49xx   Long Marine Lab\\4932\\4932\\D - Environmental Review Process\\D4 - Mitigation Monitoring Program\\YerbaBuena Island\\Location Plan.PDF\n",
      "INFO - Processed file 790898 with tag D4 - Mitigation Monitoring Program\n",
      "INFO - Added tag D4 to file with hash 41ba756b61bc183d0916e3e4dfd66046e1e26489\n",
      "INFO - Added tag D to file with hash 41ba756b61bc183d0916e3e4dfd66046e1e26489\n",
      "INFO - Processing file number 73 of 202: 790890\n",
      "INFO - Found file 790890 at N:\\PPDO\\Records\\49xx   Long Marine Lab\\4932\\4932\\D - Environmental Review Process\\D4 - Mitigation Monitoring Program\\UCSC Schedule (03-25-2015).pdf\n",
      "INFO - Processed file 790890 with tag D4 - Mitigation Monitoring Program\n",
      "INFO - Added tag D4 to file with hash d2a349b62f2ae5de8d6d52b5b98b1685669d1137\n",
      "INFO - Added tag D to file with hash d2a349b62f2ae5de8d6d52b5b98b1685669d1137\n",
      "INFO - Processing file number 74 of 202: 214863\n",
      "INFO - Found file 214863 at N:\\PPDO\\Records\\21xx   Central Heating Plant (Fackler Cogeneration)\\2113\\2113\\D - Environmental Review Process\\D4 - Mitigation Monitoring Program\\File 2113 Letter to RWQCB-Defer THP Monitoring 9-27-10.pdf\n"
     ]
    },
    {
     "data": {
      "application/vnd.jupyter.widget-view+json": {
       "model_id": "1c8dae1860e44259a04aeec5fc3ca29a",
       "version_major": 2,
       "version_minor": 0
      },
      "text/plain": [
       "Output()"
      ]
     },
     "metadata": {},
     "output_type": "display_data"
    },
    {
     "data": {
      "text/html": [
       "<pre style=\"white-space:pre;overflow-x:auto;line-height:normal;font-family:Menlo,'DejaVu Sans Mono',consolas,'Courier New',monospace\"></pre>\n"
      ],
      "text/plain": []
     },
     "metadata": {},
     "output_type": "display_data"
    },
    {
     "data": {
      "application/vnd.jupyter.widget-view+json": {
       "model_id": "f2d12e575e0942ddbc0959d958cf7563",
       "version_major": 2,
       "version_minor": 0
      },
      "text/plain": [
       "Output()"
      ]
     },
     "metadata": {},
     "output_type": "display_data"
    },
    {
     "data": {
      "text/html": [
       "<pre style=\"white-space:pre;overflow-x:auto;line-height:normal;font-family:Menlo,'DejaVu Sans Mono',consolas,'Courier New',monospace\"></pre>\n"
      ],
      "text/plain": []
     },
     "metadata": {},
     "output_type": "display_data"
    },
    {
     "data": {
      "application/vnd.jupyter.widget-view+json": {
       "model_id": "db9b0a08fe9644b6b6ebe0b40d709a82",
       "version_major": 2,
       "version_minor": 0
      },
      "text/plain": [
       "Output()"
      ]
     },
     "metadata": {},
     "output_type": "display_data"
    },
    {
     "data": {
      "text/html": [
       "<pre style=\"white-space:pre;overflow-x:auto;line-height:normal;font-family:Menlo,'DejaVu Sans Mono',consolas,'Courier New',monospace\"></pre>\n"
      ],
      "text/plain": []
     },
     "metadata": {},
     "output_type": "display_data"
    },
    {
     "data": {
      "application/vnd.jupyter.widget-view+json": {
       "model_id": "dedd4b8a3cdf42ceaa6b84f5eb4747bd",
       "version_major": 2,
       "version_minor": 0
      },
      "text/plain": [
       "Output()"
      ]
     },
     "metadata": {},
     "output_type": "display_data"
    },
    {
     "data": {
      "text/html": [
       "<pre style=\"white-space:pre;overflow-x:auto;line-height:normal;font-family:Menlo,'DejaVu Sans Mono',consolas,'Courier New',monospace\"></pre>\n"
      ],
      "text/plain": []
     },
     "metadata": {},
     "output_type": "display_data"
    },
    {
     "data": {
      "application/vnd.jupyter.widget-view+json": {
       "model_id": "6ef9d6c079ef4d2b86c52e28c46bd381",
       "version_major": 2,
       "version_minor": 0
      },
      "text/plain": [
       "Output()"
      ]
     },
     "metadata": {},
     "output_type": "display_data"
    },
    {
     "data": {
      "text/html": [
       "<pre style=\"white-space:pre;overflow-x:auto;line-height:normal;font-family:Menlo,'DejaVu Sans Mono',consolas,'Courier New',monospace\"></pre>\n"
      ],
      "text/plain": []
     },
     "metadata": {},
     "output_type": "display_data"
    },
    {
     "data": {
      "application/vnd.jupyter.widget-view+json": {
       "model_id": "29c7e4df2fd246269fece0b50acfa0aa",
       "version_major": 2,
       "version_minor": 0
      },
      "text/plain": [
       "Output()"
      ]
     },
     "metadata": {},
     "output_type": "display_data"
    },
    {
     "data": {
      "text/html": [
       "<pre style=\"white-space:pre;overflow-x:auto;line-height:normal;font-family:Menlo,'DejaVu Sans Mono',consolas,'Courier New',monospace\"></pre>\n"
      ],
      "text/plain": []
     },
     "metadata": {},
     "output_type": "display_data"
    },
    {
     "name": "stderr",
     "output_type": "stream",
     "text": [
      "The output file size is 1.81× larger than the input file.\n",
      "Possible reasons for this include:\n",
      "--deskew was issued, causing transcoding.\n",
      "The optional dependency 'jbig2' was not found, so some image optimizations could not be attempted.\n",
      "The optional dependency 'pngquant' was not found, so some image optimizations could not be attempted.\n",
      "\n",
      "INFO - Processed file 214863 with tag D4 - Mitigation Monitoring Program\n",
      "INFO - Added tag D4 to file with hash 900751bfa9f52e0e3bea2f36817053c1645e8d7d\n",
      "INFO - Added tag D to file with hash 900751bfa9f52e0e3bea2f36817053c1645e8d7d\n",
      "INFO - Processing file number 75 of 202: 752558\n",
      "INFO - Found file 752558 at N:\\PPDO\\Records\\84xx   Arboretum\\8400\\8400-001\\D4 - Mitigation Monitoring Program\\CRLF avoidance measures.7.02.07-1, signed.pdf\n"
     ]
    },
    {
     "data": {
      "application/vnd.jupyter.widget-view+json": {
       "model_id": "87aab280999e497785760e727dc3f4cf",
       "version_major": 2,
       "version_minor": 0
      },
      "text/plain": [
       "Output()"
      ]
     },
     "metadata": {},
     "output_type": "display_data"
    },
    {
     "data": {
      "text/html": [
       "<pre style=\"white-space:pre;overflow-x:auto;line-height:normal;font-family:Menlo,'DejaVu Sans Mono',consolas,'Courier New',monospace\"></pre>\n"
      ],
      "text/plain": []
     },
     "metadata": {},
     "output_type": "display_data"
    },
    {
     "data": {
      "application/vnd.jupyter.widget-view+json": {
       "model_id": "a7711fe5af1e4e678e43b37e9d31c124",
       "version_major": 2,
       "version_minor": 0
      },
      "text/plain": [
       "Output()"
      ]
     },
     "metadata": {},
     "output_type": "display_data"
    },
    {
     "data": {
      "text/html": [
       "<pre style=\"white-space:pre;overflow-x:auto;line-height:normal;font-family:Menlo,'DejaVu Sans Mono',consolas,'Courier New',monospace\">[tesseract] lots of diacritics - possibly poor OCR\n",
       "</pre>\n"
      ],
      "text/plain": [
       "[tesseract] lots of diacritics - possibly poor OCR\n"
      ]
     },
     "metadata": {},
     "output_type": "display_data"
    },
    {
     "data": {
      "text/html": [
       "<pre style=\"white-space:pre;overflow-x:auto;line-height:normal;font-family:Menlo,'DejaVu Sans Mono',consolas,'Courier New',monospace\">[tesseract] lots of diacritics - possibly poor OCR\n",
       "</pre>\n"
      ],
      "text/plain": [
       "[tesseract] lots of diacritics - possibly poor OCR\n"
      ]
     },
     "metadata": {},
     "output_type": "display_data"
    },
    {
     "data": {
      "text/html": [
       "<pre style=\"white-space:pre;overflow-x:auto;line-height:normal;font-family:Menlo,'DejaVu Sans Mono',consolas,'Courier New',monospace\">[tesseract] lots of diacritics - possibly poor OCR\n",
       "</pre>\n"
      ],
      "text/plain": [
       "[tesseract] lots of diacritics - possibly poor OCR\n"
      ]
     },
     "metadata": {},
     "output_type": "display_data"
    },
    {
     "data": {
      "text/html": [
       "<pre style=\"white-space:pre;overflow-x:auto;line-height:normal;font-family:Menlo,'DejaVu Sans Mono',consolas,'Courier New',monospace\"></pre>\n"
      ],
      "text/plain": []
     },
     "metadata": {},
     "output_type": "display_data"
    },
    {
     "data": {
      "application/vnd.jupyter.widget-view+json": {
       "model_id": "250b4b3adf354312b33642f1dd5ab555",
       "version_major": 2,
       "version_minor": 0
      },
      "text/plain": [
       "Output()"
      ]
     },
     "metadata": {},
     "output_type": "display_data"
    },
    {
     "data": {
      "text/html": [
       "<pre style=\"white-space:pre;overflow-x:auto;line-height:normal;font-family:Menlo,'DejaVu Sans Mono',consolas,'Courier New',monospace\"></pre>\n"
      ],
      "text/plain": []
     },
     "metadata": {},
     "output_type": "display_data"
    },
    {
     "data": {
      "application/vnd.jupyter.widget-view+json": {
       "model_id": "3fb05ad556704d69b26713346f5cd68a",
       "version_major": 2,
       "version_minor": 0
      },
      "text/plain": [
       "Output()"
      ]
     },
     "metadata": {},
     "output_type": "display_data"
    },
    {
     "data": {
      "text/html": [
       "<pre style=\"white-space:pre;overflow-x:auto;line-height:normal;font-family:Menlo,'DejaVu Sans Mono',consolas,'Courier New',monospace\"></pre>\n"
      ],
      "text/plain": []
     },
     "metadata": {},
     "output_type": "display_data"
    },
    {
     "data": {
      "application/vnd.jupyter.widget-view+json": {
       "model_id": "4ecba2e87f4c43689310645b227aca78",
       "version_major": 2,
       "version_minor": 0
      },
      "text/plain": [
       "Output()"
      ]
     },
     "metadata": {},
     "output_type": "display_data"
    },
    {
     "data": {
      "text/html": [
       "<pre style=\"white-space:pre;overflow-x:auto;line-height:normal;font-family:Menlo,'DejaVu Sans Mono',consolas,'Courier New',monospace\"></pre>\n"
      ],
      "text/plain": []
     },
     "metadata": {},
     "output_type": "display_data"
    },
    {
     "data": {
      "application/vnd.jupyter.widget-view+json": {
       "model_id": "7a6547109d484345a1f5cfcec9376771",
       "version_major": 2,
       "version_minor": 0
      },
      "text/plain": [
       "Output()"
      ]
     },
     "metadata": {},
     "output_type": "display_data"
    },
    {
     "data": {
      "text/html": [
       "<pre style=\"white-space:pre;overflow-x:auto;line-height:normal;font-family:Menlo,'DejaVu Sans Mono',consolas,'Courier New',monospace\"></pre>\n"
      ],
      "text/plain": []
     },
     "metadata": {},
     "output_type": "display_data"
    },
    {
     "name": "stderr",
     "output_type": "stream",
     "text": [
      "The output file size is 1.90× larger than the input file.\n",
      "Possible reasons for this include:\n",
      "--deskew was issued, causing transcoding.\n",
      "The optional dependency 'jbig2' was not found, so some image optimizations could not be attempted.\n",
      "The optional dependency 'pngquant' was not found, so some image optimizations could not be attempted.\n",
      "\n",
      "INFO - Processed file 752558 with tag D4 - Mitigation Monitoring Program\n",
      "INFO - Added tag D4 to file with hash 6a4b9fe649e13be92b2dc346517f05e7ab2ad49e\n",
      "INFO - Added tag D to file with hash 6a4b9fe649e13be92b2dc346517f05e7ab2ad49e\n",
      "INFO - Processing file number 76 of 202: 489739\n",
      "INFO - Found file 489739 at N:\\PPDO\\Records\\55xx   College 9 & 10\\5502\\5502\\D - Environmental Review Process\\D4 - Mitigation Monitoring Program\\File 5502.D4 Solar Heating Rejection.pdf\n"
     ]
    },
    {
     "data": {
      "application/vnd.jupyter.widget-view+json": {
       "model_id": "07c51a7871fb4147907e6457824cccd2",
       "version_major": 2,
       "version_minor": 0
      },
      "text/plain": [
       "Output()"
      ]
     },
     "metadata": {},
     "output_type": "display_data"
    },
    {
     "data": {
      "text/html": [
       "<pre style=\"white-space:pre;overflow-x:auto;line-height:normal;font-family:Menlo,'DejaVu Sans Mono',consolas,'Courier New',monospace\"></pre>\n"
      ],
      "text/plain": []
     },
     "metadata": {},
     "output_type": "display_data"
    },
    {
     "data": {
      "application/vnd.jupyter.widget-view+json": {
       "model_id": "9db11a70369e4d16a840f340907f768c",
       "version_major": 2,
       "version_minor": 0
      },
      "text/plain": [
       "Output()"
      ]
     },
     "metadata": {},
     "output_type": "display_data"
    },
    {
     "data": {
      "text/html": [
       "<pre style=\"white-space:pre;overflow-x:auto;line-height:normal;font-family:Menlo,'DejaVu Sans Mono',consolas,'Courier New',monospace\"></pre>\n"
      ],
      "text/plain": []
     },
     "metadata": {},
     "output_type": "display_data"
    },
    {
     "data": {
      "application/vnd.jupyter.widget-view+json": {
       "model_id": "c20c1bec69384e178492ce1f767cee29",
       "version_major": 2,
       "version_minor": 0
      },
      "text/plain": [
       "Output()"
      ]
     },
     "metadata": {},
     "output_type": "display_data"
    },
    {
     "data": {
      "text/html": [
       "<pre style=\"white-space:pre;overflow-x:auto;line-height:normal;font-family:Menlo,'DejaVu Sans Mono',consolas,'Courier New',monospace\"></pre>\n"
      ],
      "text/plain": []
     },
     "metadata": {},
     "output_type": "display_data"
    },
    {
     "data": {
      "application/vnd.jupyter.widget-view+json": {
       "model_id": "942f3f5a324f4288be41c52cb9ec2bb3",
       "version_major": 2,
       "version_minor": 0
      },
      "text/plain": [
       "Output()"
      ]
     },
     "metadata": {},
     "output_type": "display_data"
    },
    {
     "data": {
      "text/html": [
       "<pre style=\"white-space:pre;overflow-x:auto;line-height:normal;font-family:Menlo,'DejaVu Sans Mono',consolas,'Courier New',monospace\"></pre>\n"
      ],
      "text/plain": []
     },
     "metadata": {},
     "output_type": "display_data"
    },
    {
     "data": {
      "application/vnd.jupyter.widget-view+json": {
       "model_id": "0baae851a87b4d2a885fde467f887bf0",
       "version_major": 2,
       "version_minor": 0
      },
      "text/plain": [
       "Output()"
      ]
     },
     "metadata": {},
     "output_type": "display_data"
    },
    {
     "data": {
      "text/html": [
       "<pre style=\"white-space:pre;overflow-x:auto;line-height:normal;font-family:Menlo,'DejaVu Sans Mono',consolas,'Courier New',monospace\"></pre>\n"
      ],
      "text/plain": []
     },
     "metadata": {},
     "output_type": "display_data"
    },
    {
     "data": {
      "application/vnd.jupyter.widget-view+json": {
       "model_id": "dad53364954e43c09539c7c16261895a",
       "version_major": 2,
       "version_minor": 0
      },
      "text/plain": [
       "Output()"
      ]
     },
     "metadata": {},
     "output_type": "display_data"
    },
    {
     "data": {
      "text/html": [
       "<pre style=\"white-space:pre;overflow-x:auto;line-height:normal;font-family:Menlo,'DejaVu Sans Mono',consolas,'Courier New',monospace\"></pre>\n"
      ],
      "text/plain": []
     },
     "metadata": {},
     "output_type": "display_data"
    },
    {
     "name": "stderr",
     "output_type": "stream",
     "text": [
      "The output file size is 9.45× larger than the input file.\n",
      "Possible reasons for this include:\n",
      "--deskew was issued, causing transcoding.\n",
      "The optional dependency 'jbig2' was not found, so some image optimizations could not be attempted.\n",
      "The optional dependency 'pngquant' was not found, so some image optimizations could not be attempted.\n",
      "\n",
      "INFO - Processed file 489739 with tag D4 - Mitigation Monitoring Program\n",
      "INFO - Added tag D4 to file with hash 6d214157fef568ee6beb00f4a90464b091c4524b\n",
      "INFO - Added tag D to file with hash 6d214157fef568ee6beb00f4a90464b091c4524b\n",
      "INFO - Processing file number 77 of 202: 468663\n",
      "INFO - Found file 468663 at N:\\PPDO\\Records\\49xx   Long Marine Lab\\4934\\4934\\D - Environmental Review Process\\D4 - Mitigation Monitoring Program\\Mammal Pools Draft IS-MND.pdf\n",
      "INFO - Processed file 468663 with tag D4 - Mitigation Monitoring Program\n",
      "INFO - Added tag D4 to file with hash 8d77c147dbfa31f9d33a11fe22191643c8260792\n",
      "INFO - Added tag D to file with hash 8d77c147dbfa31f9d33a11fe22191643c8260792\n",
      "INFO - Processing file number 78 of 202: 790886\n",
      "INFO - Found file 790886 at N:\\PPDO\\Records\\49xx   Long Marine Lab\\4932\\4932\\D - Environmental Review Process\\D4 - Mitigation Monitoring Program\\SB equip usage 0365_001.pdf\n"
     ]
    },
    {
     "data": {
      "application/vnd.jupyter.widget-view+json": {
       "model_id": "352873db1f1d423b898cd9d70d56cd39",
       "version_major": 2,
       "version_minor": 0
      },
      "text/plain": [
       "Output()"
      ]
     },
     "metadata": {},
     "output_type": "display_data"
    },
    {
     "data": {
      "text/html": [
       "<pre style=\"white-space:pre;overflow-x:auto;line-height:normal;font-family:Menlo,'DejaVu Sans Mono',consolas,'Courier New',monospace\"></pre>\n"
      ],
      "text/plain": []
     },
     "metadata": {},
     "output_type": "display_data"
    },
    {
     "data": {
      "application/vnd.jupyter.widget-view+json": {
       "model_id": "59c68b54d3024fbaae289d4258343e07",
       "version_major": 2,
       "version_minor": 0
      },
      "text/plain": [
       "Output()"
      ]
     },
     "metadata": {},
     "output_type": "display_data"
    },
    {
     "data": {
      "text/html": [
       "<pre style=\"white-space:pre;overflow-x:auto;line-height:normal;font-family:Menlo,'DejaVu Sans Mono',consolas,'Courier New',monospace\"></pre>\n"
      ],
      "text/plain": []
     },
     "metadata": {},
     "output_type": "display_data"
    },
    {
     "data": {
      "application/vnd.jupyter.widget-view+json": {
       "model_id": "bfc1d77d31824c58a98f1e165a6ace81",
       "version_major": 2,
       "version_minor": 0
      },
      "text/plain": [
       "Output()"
      ]
     },
     "metadata": {},
     "output_type": "display_data"
    },
    {
     "data": {
      "text/html": [
       "<pre style=\"white-space:pre;overflow-x:auto;line-height:normal;font-family:Menlo,'DejaVu Sans Mono',consolas,'Courier New',monospace\"></pre>\n"
      ],
      "text/plain": []
     },
     "metadata": {},
     "output_type": "display_data"
    },
    {
     "data": {
      "application/vnd.jupyter.widget-view+json": {
       "model_id": "6f658450822f41f990e948e51389db66",
       "version_major": 2,
       "version_minor": 0
      },
      "text/plain": [
       "Output()"
      ]
     },
     "metadata": {},
     "output_type": "display_data"
    },
    {
     "data": {
      "text/html": [
       "<pre style=\"white-space:pre;overflow-x:auto;line-height:normal;font-family:Menlo,'DejaVu Sans Mono',consolas,'Courier New',monospace\"></pre>\n"
      ],
      "text/plain": []
     },
     "metadata": {},
     "output_type": "display_data"
    },
    {
     "data": {
      "application/vnd.jupyter.widget-view+json": {
       "model_id": "d2a6c8a280fd432686c988805e8d000d",
       "version_major": 2,
       "version_minor": 0
      },
      "text/plain": [
       "Output()"
      ]
     },
     "metadata": {},
     "output_type": "display_data"
    },
    {
     "data": {
      "text/html": [
       "<pre style=\"white-space:pre;overflow-x:auto;line-height:normal;font-family:Menlo,'DejaVu Sans Mono',consolas,'Courier New',monospace\"></pre>\n"
      ],
      "text/plain": []
     },
     "metadata": {},
     "output_type": "display_data"
    },
    {
     "data": {
      "application/vnd.jupyter.widget-view+json": {
       "model_id": "4814dfd4d2ee41fcb68c6e282621b219",
       "version_major": 2,
       "version_minor": 0
      },
      "text/plain": [
       "Output()"
      ]
     },
     "metadata": {},
     "output_type": "display_data"
    },
    {
     "data": {
      "text/html": [
       "<pre style=\"white-space:pre;overflow-x:auto;line-height:normal;font-family:Menlo,'DejaVu Sans Mono',consolas,'Courier New',monospace\"></pre>\n"
      ],
      "text/plain": []
     },
     "metadata": {},
     "output_type": "display_data"
    },
    {
     "name": "stderr",
     "output_type": "stream",
     "text": [
      "The output file size is 4.74× larger than the input file.\n",
      "Possible reasons for this include:\n",
      "--deskew was issued, causing transcoding.\n",
      "The optional dependency 'jbig2' was not found, so some image optimizations could not be attempted.\n",
      "The optional dependency 'pngquant' was not found, so some image optimizations could not be attempted.\n",
      "\n",
      "INFO - Processed file 790886 with tag D4 - Mitigation Monitoring Program\n",
      "INFO - Added tag D4 to file with hash 5f998d9696eb7d37c6634b300c425d5b1856a605\n",
      "INFO - Added tag D to file with hash 5f998d9696eb7d37c6634b300c425d5b1856a605\n",
      "INFO - Processing file number 79 of 202: 790897\n",
      "INFO - Found file 790897 at N:\\PPDO\\Records\\49xx   Long Marine Lab\\4932\\4932\\D - Environmental Review Process\\D4 - Mitigation Monitoring Program\\YerbaBuena Island\\741_Transmittal_01-15-10_Final_Report.pdf\n",
      "INFO - Processed file 790897 with tag D4 - Mitigation Monitoring Program\n",
      "INFO - Added tag D4 to file with hash 577b5645075dfa1d471da507211bf0f931d4ed67\n",
      "INFO - Added tag D to file with hash 577b5645075dfa1d471da507211bf0f931d4ed67\n",
      "INFO - Processing file number 80 of 202: 311050\n",
      "INFO - Found file 311050 at N:\\PPDO\\Records\\30xx   Porter College (College 5)\\3002\\3002-040 Dining\\F - Bid Documents and Contract Award\\F5 - Drawings and Specifications\\Division 1 General Requirements\\Long Range Development Plan EIR_California Red Legged Frog Mitigation Measures.docx\n",
      "WARNING - File 311050 does not match tag D4 - Mitigation Monitoring Program in its location directories\n",
      "INFO - Found file 311050 at N:\\PPDO\\Records\\30xx   Porter College (College 5)\\3002\\3002-040 Dining\\F - Bid Documents and Contract Award\\F5 - Drawings and Specifications\\DSA Approved Conformed Permit Set\\Division 1 General Requirements\\Long Range Development Plan EIR_California Red Legged Frog Mitigation Measures.docx\n",
      "WARNING - File 311050 does not match tag D4 - Mitigation Monitoring Program in its location directories\n",
      "INFO - Found file 311050 at N:\\PPDO\\Records\\53xx   Rachel Carson College (8)\\5303\\5303-037 Carson Dining\\D - Environmental Review Process\\D4 - Mitigation Monitoring Program\\Long Range Development Plan EIR_California Red Legged Frog Mitigation Measures.docx\n",
      "INFO - Processed file 311050 with tag D4 - Mitigation Monitoring Program\n",
      "INFO - Added tag D4 to file with hash 72ffa73257f5f0c09c9d2b35cdb87efefc205192\n",
      "INFO - Added tag D to file with hash 72ffa73257f5f0c09c9d2b35cdb87efefc205192\n",
      "INFO - Processing file number 81 of 202: 913789\n",
      "INFO - Found file 913789 at N:\\PPDO\\Records\\57xx   Faculty & Staff Housing\\5707\\5707\\D- Environmental Review Process\\D4 - Mitigation Monitoring Program\\File 5707 Project Manger's Report.pdf\n",
      "INFO - Processed file 913789 with tag D4 - Mitigation Monitoring Program\n",
      "INFO - Added tag D4 to file with hash 1c026ad402b629bdb864ccd3c11ca2ff8ea0ff49\n",
      "INFO - Added tag D to file with hash 1c026ad402b629bdb864ccd3c11ca2ff8ea0ff49\n",
      "INFO - Processing file number 82 of 202: 474297\n",
      "INFO - Found file 474297 at N:\\PPDO\\Records\\52xx   Earth Marine Science Building\\5201\\5201\\D - Environmental Review Process\\D4 - Mitigation Monitoring Program\\5201.D4.Summary.pdf\n"
     ]
    },
    {
     "data": {
      "application/vnd.jupyter.widget-view+json": {
       "model_id": "4e727d77b19d49338bbee0e1bb07f910",
       "version_major": 2,
       "version_minor": 0
      },
      "text/plain": [
       "Output()"
      ]
     },
     "metadata": {},
     "output_type": "display_data"
    },
    {
     "data": {
      "text/html": [
       "<pre style=\"white-space:pre;overflow-x:auto;line-height:normal;font-family:Menlo,'DejaVu Sans Mono',consolas,'Courier New',monospace\"></pre>\n"
      ],
      "text/plain": []
     },
     "metadata": {},
     "output_type": "display_data"
    },
    {
     "data": {
      "application/vnd.jupyter.widget-view+json": {
       "model_id": "80ae6b6564a448b5b1b31be27a3da329",
       "version_major": 2,
       "version_minor": 0
      },
      "text/plain": [
       "Output()"
      ]
     },
     "metadata": {},
     "output_type": "display_data"
    },
    {
     "data": {
      "text/html": [
       "<pre style=\"white-space:pre;overflow-x:auto;line-height:normal;font-family:Menlo,'DejaVu Sans Mono',consolas,'Courier New',monospace\">[tesseract] lots of diacritics - possibly poor OCR\n",
       "</pre>\n"
      ],
      "text/plain": [
       "[tesseract] lots of diacritics - possibly poor OCR\n"
      ]
     },
     "metadata": {},
     "output_type": "display_data"
    },
    {
     "data": {
      "text/html": [
       "<pre style=\"white-space:pre;overflow-x:auto;line-height:normal;font-family:Menlo,'DejaVu Sans Mono',consolas,'Courier New',monospace\">[tesseract] lots of diacritics - possibly poor OCR\n",
       "</pre>\n"
      ],
      "text/plain": [
       "[tesseract] lots of diacritics - possibly poor OCR\n"
      ]
     },
     "metadata": {},
     "output_type": "display_data"
    },
    {
     "data": {
      "text/html": [
       "<pre style=\"white-space:pre;overflow-x:auto;line-height:normal;font-family:Menlo,'DejaVu Sans Mono',consolas,'Courier New',monospace\">[tesseract] lots of diacritics - possibly poor OCR\n",
       "</pre>\n"
      ],
      "text/plain": [
       "[tesseract] lots of diacritics - possibly poor OCR\n"
      ]
     },
     "metadata": {},
     "output_type": "display_data"
    },
    {
     "data": {
      "text/html": [
       "<pre style=\"white-space:pre;overflow-x:auto;line-height:normal;font-family:Menlo,'DejaVu Sans Mono',consolas,'Courier New',monospace\">[tesseract] lots of diacritics - possibly poor OCR\n",
       "</pre>\n"
      ],
      "text/plain": [
       "[tesseract] lots of diacritics - possibly poor OCR\n"
      ]
     },
     "metadata": {},
     "output_type": "display_data"
    },
    {
     "data": {
      "text/html": [
       "<pre style=\"white-space:pre;overflow-x:auto;line-height:normal;font-family:Menlo,'DejaVu Sans Mono',consolas,'Courier New',monospace\"></pre>\n"
      ],
      "text/plain": []
     },
     "metadata": {},
     "output_type": "display_data"
    },
    {
     "data": {
      "application/vnd.jupyter.widget-view+json": {
       "model_id": "762f81efad094a9d8b1e8b4941819769",
       "version_major": 2,
       "version_minor": 0
      },
      "text/plain": [
       "Output()"
      ]
     },
     "metadata": {},
     "output_type": "display_data"
    },
    {
     "data": {
      "text/html": [
       "<pre style=\"white-space:pre;overflow-x:auto;line-height:normal;font-family:Menlo,'DejaVu Sans Mono',consolas,'Courier New',monospace\"></pre>\n"
      ],
      "text/plain": []
     },
     "metadata": {},
     "output_type": "display_data"
    },
    {
     "data": {
      "application/vnd.jupyter.widget-view+json": {
       "model_id": "f4210c678e9e4b779f030a8b4d02878c",
       "version_major": 2,
       "version_minor": 0
      },
      "text/plain": [
       "Output()"
      ]
     },
     "metadata": {},
     "output_type": "display_data"
    },
    {
     "data": {
      "text/html": [
       "<pre style=\"white-space:pre;overflow-x:auto;line-height:normal;font-family:Menlo,'DejaVu Sans Mono',consolas,'Courier New',monospace\"></pre>\n"
      ],
      "text/plain": []
     },
     "metadata": {},
     "output_type": "display_data"
    },
    {
     "data": {
      "application/vnd.jupyter.widget-view+json": {
       "model_id": "9bb55935a0e641fdb9db47fe75ccd405",
       "version_major": 2,
       "version_minor": 0
      },
      "text/plain": [
       "Output()"
      ]
     },
     "metadata": {},
     "output_type": "display_data"
    },
    {
     "data": {
      "text/html": [
       "<pre style=\"white-space:pre;overflow-x:auto;line-height:normal;font-family:Menlo,'DejaVu Sans Mono',consolas,'Courier New',monospace\"></pre>\n"
      ],
      "text/plain": []
     },
     "metadata": {},
     "output_type": "display_data"
    },
    {
     "data": {
      "application/vnd.jupyter.widget-view+json": {
       "model_id": "ad0347cd868148b3b88890608e1118c1",
       "version_major": 2,
       "version_minor": 0
      },
      "text/plain": [
       "Output()"
      ]
     },
     "metadata": {},
     "output_type": "display_data"
    },
    {
     "data": {
      "text/html": [
       "<pre style=\"white-space:pre;overflow-x:auto;line-height:normal;font-family:Menlo,'DejaVu Sans Mono',consolas,'Courier New',monospace\"></pre>\n"
      ],
      "text/plain": []
     },
     "metadata": {},
     "output_type": "display_data"
    },
    {
     "name": "stderr",
     "output_type": "stream",
     "text": [
      "The output file size is 5.70× larger than the input file.\n",
      "Possible reasons for this include:\n",
      "--deskew was issued, causing transcoding.\n",
      "The optional dependency 'jbig2' was not found, so some image optimizations could not be attempted.\n",
      "The optional dependency 'pngquant' was not found, so some image optimizations could not be attempted.\n",
      "\n",
      "INFO - Processed file 474297 with tag D4 - Mitigation Monitoring Program\n",
      "INFO - Added tag D4 to file with hash b4af18a31c13a58a02ef42c89236907b215de663\n",
      "INFO - Added tag D to file with hash b4af18a31c13a58a02ef42c89236907b215de663\n",
      "INFO - Processing file number 83 of 202: 790877\n",
      "INFO - Found file 790877 at N:\\PPDO\\Records\\49xx   Long Marine Lab\\4932\\4932\\D - Environmental Review Process\\D4 - Mitigation Monitoring Program\\CBB-MSC Projects mit mon database 1.pdf\n",
      "INFO - Processed file 790877 with tag D4 - Mitigation Monitoring Program\n",
      "INFO - Added tag D4 to file with hash bab60a50bc77a6e01cb61528ff996b71ab099a84\n",
      "INFO - Added tag D to file with hash bab60a50bc77a6e01cb61528ff996b71ab099a84\n",
      "INFO - Processing file number 84 of 202: 944750\n",
      "INFO - Found file 944750 at N:\\PPDO\\Records\\30xx   Porter College (College 5)\\3048\\3048\\D - Environmental Review Process\\D4 - Mitigation Monitoring Program\\LP email Jan 2011 Porter A traffic mitigations.pdf\n",
      "INFO - Processed file 944750 with tag D4 - Mitigation Monitoring Program\n",
      "INFO - Added tag D4 to file with hash 75ba17b068760a27ec8271ab7721236048ed245a\n",
      "INFO - Added tag D to file with hash 75ba17b068760a27ec8271ab7721236048ed245a\n",
      "INFO - Processing file number 85 of 202: 338965\n",
      "INFO - Found file 338965 at N:\\PPDO\\Records\\32xx   Kresge College (College 6)\\3238\\3238\\D - Environmental Review Process\\D3 - CEQA Documentation\\D.3 CEQA MITIGATIONS\\EIR\\Kresge Draft EIR chapters\\4.2 Agriculture and Forestry Resources.pdf\n",
      "WARNING - File 338965 does not match tag D4 - Mitigation Monitoring Program in its location directories\n",
      "INFO - Found file 338965 at N:\\PPDO\\Records\\32xx   Kresge College (College 6)\\3238\\3238\\D - Environmental Review Process\\D4 - Mitigation Monitoring Program\\EIR\\Kresge Draft EIR chapters\\4.2 Agriculture and Forestry Resources.pdf\n",
      "INFO - Processed file 338965 with tag D4 - Mitigation Monitoring Program\n",
      "INFO - Added tag D4 to file with hash 148af8d869e286e9a4ec23e116a00c79ccfe0238\n",
      "INFO - Added tag D to file with hash 148af8d869e286e9a4ec23e116a00c79ccfe0238\n",
      "INFO - Processing file number 86 of 202: 338969\n",
      "INFO - Found file 338969 at N:\\PPDO\\Records\\32xx   Kresge College (College 6)\\3238\\3238\\D - Environmental Review Process\\D3 - CEQA Documentation\\D.3 CEQA MITIGATIONS\\EIR\\Kresge Draft EIR chapters\\4.6 Cultural and Historical Resources.pdf\n",
      "WARNING - File 338969 does not match tag D4 - Mitigation Monitoring Program in its location directories\n",
      "INFO - Found file 338969 at N:\\PPDO\\Records\\32xx   Kresge College (College 6)\\3238\\3238\\D - Environmental Review Process\\D4 - Mitigation Monitoring Program\\EIR\\Kresge Draft EIR chapters\\4.6 Cultural and Historical Resources.pdf\n",
      "INFO - Processed file 338969 with tag D4 - Mitigation Monitoring Program\n",
      "INFO - Added tag D4 to file with hash d44c9189c650ec4d6491f9a700b12d32a9e62810\n",
      "INFO - Added tag D to file with hash d44c9189c650ec4d6491f9a700b12d32a9e62810\n",
      "INFO - Processing file number 87 of 202: 214873\n",
      "INFO - Found file 214873 at N:\\PPDO\\Records\\21xx   Central Heating Plant (Fackler Cogeneration)\\2113\\2113\\D - Environmental Review Process\\D4 - Mitigation Monitoring Program\\Timber Harvest & Conversion\\Sheet C-102 Tree Protection.pdf\n"
     ]
    },
    {
     "data": {
      "application/vnd.jupyter.widget-view+json": {
       "model_id": "df61ef1d093d4534b30d84064ad2a73a",
       "version_major": 2,
       "version_minor": 0
      },
      "text/plain": [
       "Output()"
      ]
     },
     "metadata": {},
     "output_type": "display_data"
    },
    {
     "data": {
      "text/html": [
       "<pre style=\"white-space:pre;overflow-x:auto;line-height:normal;font-family:Menlo,'DejaVu Sans Mono',consolas,'Courier New',monospace\"></pre>\n"
      ],
      "text/plain": []
     },
     "metadata": {},
     "output_type": "display_data"
    },
    {
     "data": {
      "application/vnd.jupyter.widget-view+json": {
       "model_id": "38c89ea6d1064306aa74c0d940011626",
       "version_major": 2,
       "version_minor": 0
      },
      "text/plain": [
       "Output()"
      ]
     },
     "metadata": {},
     "output_type": "display_data"
    },
    {
     "data": {
      "text/html": [
       "<pre style=\"white-space:pre;overflow-x:auto;line-height:normal;font-family:Menlo,'DejaVu Sans Mono',consolas,'Courier New',monospace\"></pre>\n"
      ],
      "text/plain": []
     },
     "metadata": {},
     "output_type": "display_data"
    },
    {
     "data": {
      "application/vnd.jupyter.widget-view+json": {
       "model_id": "48b180f1564048b3a20c3435326e6db2",
       "version_major": 2,
       "version_minor": 0
      },
      "text/plain": [
       "Output()"
      ]
     },
     "metadata": {},
     "output_type": "display_data"
    },
    {
     "data": {
      "text/html": [
       "<pre style=\"white-space:pre;overflow-x:auto;line-height:normal;font-family:Menlo,'DejaVu Sans Mono',consolas,'Courier New',monospace\"></pre>\n"
      ],
      "text/plain": []
     },
     "metadata": {},
     "output_type": "display_data"
    },
    {
     "data": {
      "application/vnd.jupyter.widget-view+json": {
       "model_id": "c0c0ec8dc1d74386a16f71b4a8e79e03",
       "version_major": 2,
       "version_minor": 0
      },
      "text/plain": [
       "Output()"
      ]
     },
     "metadata": {},
     "output_type": "display_data"
    },
    {
     "data": {
      "text/html": [
       "<pre style=\"white-space:pre;overflow-x:auto;line-height:normal;font-family:Menlo,'DejaVu Sans Mono',consolas,'Courier New',monospace\"></pre>\n"
      ],
      "text/plain": []
     },
     "metadata": {},
     "output_type": "display_data"
    },
    {
     "data": {
      "application/vnd.jupyter.widget-view+json": {
       "model_id": "6c716340e6124f899e6d6cf415485e93",
       "version_major": 2,
       "version_minor": 0
      },
      "text/plain": [
       "Output()"
      ]
     },
     "metadata": {},
     "output_type": "display_data"
    },
    {
     "data": {
      "text/html": [
       "<pre style=\"white-space:pre;overflow-x:auto;line-height:normal;font-family:Menlo,'DejaVu Sans Mono',consolas,'Courier New',monospace\"></pre>\n"
      ],
      "text/plain": []
     },
     "metadata": {},
     "output_type": "display_data"
    },
    {
     "data": {
      "application/vnd.jupyter.widget-view+json": {
       "model_id": "e45f283f5e66475d90772bfc12635a02",
       "version_major": 2,
       "version_minor": 0
      },
      "text/plain": [
       "Output()"
      ]
     },
     "metadata": {},
     "output_type": "display_data"
    },
    {
     "data": {
      "text/html": [
       "<pre style=\"white-space:pre;overflow-x:auto;line-height:normal;font-family:Menlo,'DejaVu Sans Mono',consolas,'Courier New',monospace\"></pre>\n"
      ],
      "text/plain": []
     },
     "metadata": {},
     "output_type": "display_data"
    },
    {
     "name": "stderr",
     "output_type": "stream",
     "text": [
      "WARNING - Text length for file 214873 is 0:\n",
      "\n",
      "INFO - Processing file number 88 of 202: 214867\n",
      "INFO - Found file 214867 at N:\\PPDO\\Records\\21xx   Central Heating Plant (Fackler Cogeneration)\\2113\\2113\\D - Environmental Review Process\\D4 - Mitigation Monitoring Program\\Timber Harvest Plan.pdf\n"
     ]
    },
    {
     "data": {
      "application/vnd.jupyter.widget-view+json": {
       "model_id": "0cd6e9ecafd84744b6ff3bb72f47215c",
       "version_major": 2,
       "version_minor": 0
      },
      "text/plain": [
       "Output()"
      ]
     },
     "metadata": {},
     "output_type": "display_data"
    },
    {
     "data": {
      "text/html": [
       "<pre style=\"white-space:pre;overflow-x:auto;line-height:normal;font-family:Menlo,'DejaVu Sans Mono',consolas,'Courier New',monospace\"></pre>\n"
      ],
      "text/plain": []
     },
     "metadata": {},
     "output_type": "display_data"
    },
    {
     "data": {
      "application/vnd.jupyter.widget-view+json": {
       "model_id": "cbc88bc14fb24a029753eab091a338fa",
       "version_major": 2,
       "version_minor": 0
      },
      "text/plain": [
       "Output()"
      ]
     },
     "metadata": {},
     "output_type": "display_data"
    },
    {
     "data": {
      "text/html": [
       "<pre style=\"white-space:pre;overflow-x:auto;line-height:normal;font-family:Menlo,'DejaVu Sans Mono',consolas,'Courier New',monospace\">[tesseract] lots of diacritics - possibly poor OCR\n",
       "</pre>\n"
      ],
      "text/plain": [
       "[tesseract] lots of diacritics - possibly poor OCR\n"
      ]
     },
     "metadata": {},
     "output_type": "display_data"
    },
    {
     "data": {
      "text/html": [
       "<pre style=\"white-space:pre;overflow-x:auto;line-height:normal;font-family:Menlo,'DejaVu Sans Mono',consolas,'Courier New',monospace\">[tesseract] lots of diacritics - possibly poor OCR\n",
       "</pre>\n"
      ],
      "text/plain": [
       "[tesseract] lots of diacritics - possibly poor OCR\n"
      ]
     },
     "metadata": {},
     "output_type": "display_data"
    },
    {
     "data": {
      "text/html": [
       "<pre style=\"white-space:pre;overflow-x:auto;line-height:normal;font-family:Menlo,'DejaVu Sans Mono',consolas,'Courier New',monospace\">[tesseract] lots of diacritics - possibly poor OCR\n",
       "</pre>\n"
      ],
      "text/plain": [
       "[tesseract] lots of diacritics - possibly poor OCR\n"
      ]
     },
     "metadata": {},
     "output_type": "display_data"
    },
    {
     "data": {
      "text/html": [
       "<pre style=\"white-space:pre;overflow-x:auto;line-height:normal;font-family:Menlo,'DejaVu Sans Mono',consolas,'Courier New',monospace\">[tesseract] lots of diacritics - possibly poor OCR\n",
       "</pre>\n"
      ],
      "text/plain": [
       "[tesseract] lots of diacritics - possibly poor OCR\n"
      ]
     },
     "metadata": {},
     "output_type": "display_data"
    },
    {
     "data": {
      "text/html": [
       "<pre style=\"white-space:pre;overflow-x:auto;line-height:normal;font-family:Menlo,'DejaVu Sans Mono',consolas,'Courier New',monospace\">[tesseract] lots of diacritics - possibly poor OCR\n",
       "</pre>\n"
      ],
      "text/plain": [
       "[tesseract] lots of diacritics - possibly poor OCR\n"
      ]
     },
     "metadata": {},
     "output_type": "display_data"
    },
    {
     "data": {
      "text/html": [
       "<pre style=\"white-space:pre;overflow-x:auto;line-height:normal;font-family:Menlo,'DejaVu Sans Mono',consolas,'Courier New',monospace\">[tesseract] lots of diacritics - possibly poor OCR\n",
       "</pre>\n"
      ],
      "text/plain": [
       "[tesseract] lots of diacritics - possibly poor OCR\n"
      ]
     },
     "metadata": {},
     "output_type": "display_data"
    },
    {
     "data": {
      "text/html": [
       "<pre style=\"white-space:pre;overflow-x:auto;line-height:normal;font-family:Menlo,'DejaVu Sans Mono',consolas,'Courier New',monospace\">[tesseract] lots of diacritics - possibly poor OCR\n",
       "</pre>\n"
      ],
      "text/plain": [
       "[tesseract] lots of diacritics - possibly poor OCR\n"
      ]
     },
     "metadata": {},
     "output_type": "display_data"
    },
    {
     "data": {
      "text/html": [
       "<pre style=\"white-space:pre;overflow-x:auto;line-height:normal;font-family:Menlo,'DejaVu Sans Mono',consolas,'Courier New',monospace\">[tesseract] lots of diacritics - possibly poor OCR\n",
       "</pre>\n"
      ],
      "text/plain": [
       "[tesseract] lots of diacritics - possibly poor OCR\n"
      ]
     },
     "metadata": {},
     "output_type": "display_data"
    },
    {
     "data": {
      "text/html": [
       "<pre style=\"white-space:pre;overflow-x:auto;line-height:normal;font-family:Menlo,'DejaVu Sans Mono',consolas,'Courier New',monospace\">[tesseract] lots of diacritics - possibly poor OCR\n",
       "</pre>\n"
      ],
      "text/plain": [
       "[tesseract] lots of diacritics - possibly poor OCR\n"
      ]
     },
     "metadata": {},
     "output_type": "display_data"
    },
    {
     "data": {
      "text/html": [
       "<pre style=\"white-space:pre;overflow-x:auto;line-height:normal;font-family:Menlo,'DejaVu Sans Mono',consolas,'Courier New',monospace\">[tesseract] lots of diacritics - possibly poor OCR\n",
       "</pre>\n"
      ],
      "text/plain": [
       "[tesseract] lots of diacritics - possibly poor OCR\n"
      ]
     },
     "metadata": {},
     "output_type": "display_data"
    },
    {
     "data": {
      "text/html": [
       "<pre style=\"white-space:pre;overflow-x:auto;line-height:normal;font-family:Menlo,'DejaVu Sans Mono',consolas,'Courier New',monospace\">[tesseract] lots of diacritics - possibly poor OCR\n",
       "</pre>\n"
      ],
      "text/plain": [
       "[tesseract] lots of diacritics - possibly poor OCR\n"
      ]
     },
     "metadata": {},
     "output_type": "display_data"
    },
    {
     "data": {
      "text/html": [
       "<pre style=\"white-space:pre;overflow-x:auto;line-height:normal;font-family:Menlo,'DejaVu Sans Mono',consolas,'Courier New',monospace\">[tesseract] lots of diacritics - possibly poor OCR\n",
       "</pre>\n"
      ],
      "text/plain": [
       "[tesseract] lots of diacritics - possibly poor OCR\n"
      ]
     },
     "metadata": {},
     "output_type": "display_data"
    },
    {
     "data": {
      "text/html": [
       "<pre style=\"white-space:pre;overflow-x:auto;line-height:normal;font-family:Menlo,'DejaVu Sans Mono',consolas,'Courier New',monospace\">[tesseract] lots of diacritics - possibly poor OCR\n",
       "</pre>\n"
      ],
      "text/plain": [
       "[tesseract] lots of diacritics - possibly poor OCR\n"
      ]
     },
     "metadata": {},
     "output_type": "display_data"
    },
    {
     "data": {
      "text/html": [
       "<pre style=\"white-space:pre;overflow-x:auto;line-height:normal;font-family:Menlo,'DejaVu Sans Mono',consolas,'Courier New',monospace\">[tesseract] lots of diacritics - possibly poor OCR\n",
       "</pre>\n"
      ],
      "text/plain": [
       "[tesseract] lots of diacritics - possibly poor OCR\n"
      ]
     },
     "metadata": {},
     "output_type": "display_data"
    },
    {
     "data": {
      "text/html": [
       "<pre style=\"white-space:pre;overflow-x:auto;line-height:normal;font-family:Menlo,'DejaVu Sans Mono',consolas,'Courier New',monospace\">[tesseract] lots of diacritics - possibly poor OCR\n",
       "</pre>\n"
      ],
      "text/plain": [
       "[tesseract] lots of diacritics - possibly poor OCR\n"
      ]
     },
     "metadata": {},
     "output_type": "display_data"
    },
    {
     "data": {
      "text/html": [
       "<pre style=\"white-space:pre;overflow-x:auto;line-height:normal;font-family:Menlo,'DejaVu Sans Mono',consolas,'Courier New',monospace\">[tesseract] lots of diacritics - possibly poor OCR\n",
       "</pre>\n"
      ],
      "text/plain": [
       "[tesseract] lots of diacritics - possibly poor OCR\n"
      ]
     },
     "metadata": {},
     "output_type": "display_data"
    },
    {
     "data": {
      "text/html": [
       "<pre style=\"white-space:pre;overflow-x:auto;line-height:normal;font-family:Menlo,'DejaVu Sans Mono',consolas,'Courier New',monospace\">[tesseract] lots of diacritics - possibly poor OCR\n",
       "</pre>\n"
      ],
      "text/plain": [
       "[tesseract] lots of diacritics - possibly poor OCR\n"
      ]
     },
     "metadata": {},
     "output_type": "display_data"
    },
    {
     "data": {
      "text/html": [
       "<pre style=\"white-space:pre;overflow-x:auto;line-height:normal;font-family:Menlo,'DejaVu Sans Mono',consolas,'Courier New',monospace\">[tesseract] lots of diacritics - possibly poor OCR\n",
       "</pre>\n"
      ],
      "text/plain": [
       "[tesseract] lots of diacritics - possibly poor OCR\n"
      ]
     },
     "metadata": {},
     "output_type": "display_data"
    },
    {
     "data": {
      "text/html": [
       "<pre style=\"white-space:pre;overflow-x:auto;line-height:normal;font-family:Menlo,'DejaVu Sans Mono',consolas,'Courier New',monospace\">[tesseract] lots of diacritics - possibly poor OCR\n",
       "</pre>\n"
      ],
      "text/plain": [
       "[tesseract] lots of diacritics - possibly poor OCR\n"
      ]
     },
     "metadata": {},
     "output_type": "display_data"
    },
    {
     "data": {
      "text/html": [
       "<pre style=\"white-space:pre;overflow-x:auto;line-height:normal;font-family:Menlo,'DejaVu Sans Mono',consolas,'Courier New',monospace\">[tesseract] lots of diacritics - possibly poor OCR\n",
       "</pre>\n"
      ],
      "text/plain": [
       "[tesseract] lots of diacritics - possibly poor OCR\n"
      ]
     },
     "metadata": {},
     "output_type": "display_data"
    },
    {
     "data": {
      "text/html": [
       "<pre style=\"white-space:pre;overflow-x:auto;line-height:normal;font-family:Menlo,'DejaVu Sans Mono',consolas,'Courier New',monospace\">[tesseract] lots of diacritics - possibly poor OCR\n",
       "</pre>\n"
      ],
      "text/plain": [
       "[tesseract] lots of diacritics - possibly poor OCR\n"
      ]
     },
     "metadata": {},
     "output_type": "display_data"
    },
    {
     "data": {
      "text/html": [
       "<pre style=\"white-space:pre;overflow-x:auto;line-height:normal;font-family:Menlo,'DejaVu Sans Mono',consolas,'Courier New',monospace\">[tesseract] lots of diacritics - possibly poor OCR\n",
       "</pre>\n"
      ],
      "text/plain": [
       "[tesseract] lots of diacritics - possibly poor OCR\n"
      ]
     },
     "metadata": {},
     "output_type": "display_data"
    },
    {
     "data": {
      "text/html": [
       "<pre style=\"white-space:pre;overflow-x:auto;line-height:normal;font-family:Menlo,'DejaVu Sans Mono',consolas,'Courier New',monospace\">[tesseract] lots of diacritics - possibly poor OCR\n",
       "</pre>\n"
      ],
      "text/plain": [
       "[tesseract] lots of diacritics - possibly poor OCR\n"
      ]
     },
     "metadata": {},
     "output_type": "display_data"
    },
    {
     "data": {
      "text/html": [
       "<pre style=\"white-space:pre;overflow-x:auto;line-height:normal;font-family:Menlo,'DejaVu Sans Mono',consolas,'Courier New',monospace\">[tesseract] lots of diacritics - possibly poor OCR\n",
       "</pre>\n"
      ],
      "text/plain": [
       "[tesseract] lots of diacritics - possibly poor OCR\n"
      ]
     },
     "metadata": {},
     "output_type": "display_data"
    },
    {
     "data": {
      "text/html": [
       "<pre style=\"white-space:pre;overflow-x:auto;line-height:normal;font-family:Menlo,'DejaVu Sans Mono',consolas,'Courier New',monospace\">[tesseract] lots of diacritics - possibly poor OCR\n",
       "</pre>\n"
      ],
      "text/plain": [
       "[tesseract] lots of diacritics - possibly poor OCR\n"
      ]
     },
     "metadata": {},
     "output_type": "display_data"
    },
    {
     "data": {
      "text/html": [
       "<pre style=\"white-space:pre;overflow-x:auto;line-height:normal;font-family:Menlo,'DejaVu Sans Mono',consolas,'Courier New',monospace\">[tesseract] lots of diacritics - possibly poor OCR\n",
       "</pre>\n"
      ],
      "text/plain": [
       "[tesseract] lots of diacritics - possibly poor OCR\n"
      ]
     },
     "metadata": {},
     "output_type": "display_data"
    },
    {
     "data": {
      "text/html": [
       "<pre style=\"white-space:pre;overflow-x:auto;line-height:normal;font-family:Menlo,'DejaVu Sans Mono',consolas,'Courier New',monospace\">[tesseract] lots of diacritics - possibly poor OCR\n",
       "</pre>\n"
      ],
      "text/plain": [
       "[tesseract] lots of diacritics - possibly poor OCR\n"
      ]
     },
     "metadata": {},
     "output_type": "display_data"
    },
    {
     "data": {
      "text/html": [
       "<pre style=\"white-space:pre;overflow-x:auto;line-height:normal;font-family:Menlo,'DejaVu Sans Mono',consolas,'Courier New',monospace\">[tesseract] lots of diacritics - possibly poor OCR\n",
       "</pre>\n"
      ],
      "text/plain": [
       "[tesseract] lots of diacritics - possibly poor OCR\n"
      ]
     },
     "metadata": {},
     "output_type": "display_data"
    },
    {
     "data": {
      "text/html": [
       "<pre style=\"white-space:pre;overflow-x:auto;line-height:normal;font-family:Menlo,'DejaVu Sans Mono',consolas,'Courier New',monospace\">[tesseract] lots of diacritics - possibly poor OCR\n",
       "</pre>\n"
      ],
      "text/plain": [
       "[tesseract] lots of diacritics - possibly poor OCR\n"
      ]
     },
     "metadata": {},
     "output_type": "display_data"
    },
    {
     "data": {
      "text/html": [
       "<pre style=\"white-space:pre;overflow-x:auto;line-height:normal;font-family:Menlo,'DejaVu Sans Mono',consolas,'Courier New',monospace\">[tesseract] lots of diacritics - possibly poor OCR\n",
       "</pre>\n"
      ],
      "text/plain": [
       "[tesseract] lots of diacritics - possibly poor OCR\n"
      ]
     },
     "metadata": {},
     "output_type": "display_data"
    },
    {
     "data": {
      "text/html": [
       "<pre style=\"white-space:pre;overflow-x:auto;line-height:normal;font-family:Menlo,'DejaVu Sans Mono',consolas,'Courier New',monospace\">[tesseract] lots of diacritics - possibly poor OCR\n",
       "</pre>\n"
      ],
      "text/plain": [
       "[tesseract] lots of diacritics - possibly poor OCR\n"
      ]
     },
     "metadata": {},
     "output_type": "display_data"
    },
    {
     "data": {
      "text/html": [
       "<pre style=\"white-space:pre;overflow-x:auto;line-height:normal;font-family:Menlo,'DejaVu Sans Mono',consolas,'Courier New',monospace\">[tesseract] lots of diacritics - possibly poor OCR\n",
       "</pre>\n"
      ],
      "text/plain": [
       "[tesseract] lots of diacritics - possibly poor OCR\n"
      ]
     },
     "metadata": {},
     "output_type": "display_data"
    },
    {
     "data": {
      "text/html": [
       "<pre style=\"white-space:pre;overflow-x:auto;line-height:normal;font-family:Menlo,'DejaVu Sans Mono',consolas,'Courier New',monospace\">[tesseract] lots of diacritics - possibly poor OCR\n",
       "</pre>\n"
      ],
      "text/plain": [
       "[tesseract] lots of diacritics - possibly poor OCR\n"
      ]
     },
     "metadata": {},
     "output_type": "display_data"
    },
    {
     "data": {
      "text/html": [
       "<pre style=\"white-space:pre;overflow-x:auto;line-height:normal;font-family:Menlo,'DejaVu Sans Mono',consolas,'Courier New',monospace\">[tesseract] lots of diacritics - possibly poor OCR\n",
       "</pre>\n"
      ],
      "text/plain": [
       "[tesseract] lots of diacritics - possibly poor OCR\n"
      ]
     },
     "metadata": {},
     "output_type": "display_data"
    },
    {
     "data": {
      "text/html": [
       "<pre style=\"white-space:pre;overflow-x:auto;line-height:normal;font-family:Menlo,'DejaVu Sans Mono',consolas,'Courier New',monospace\">[tesseract] lots of diacritics - possibly poor OCR\n",
       "</pre>\n"
      ],
      "text/plain": [
       "[tesseract] lots of diacritics - possibly poor OCR\n"
      ]
     },
     "metadata": {},
     "output_type": "display_data"
    },
    {
     "data": {
      "text/html": [
       "<pre style=\"white-space:pre;overflow-x:auto;line-height:normal;font-family:Menlo,'DejaVu Sans Mono',consolas,'Courier New',monospace\">[tesseract] lots of diacritics - possibly poor OCR\n",
       "</pre>\n"
      ],
      "text/plain": [
       "[tesseract] lots of diacritics - possibly poor OCR\n"
      ]
     },
     "metadata": {},
     "output_type": "display_data"
    },
    {
     "data": {
      "text/html": [
       "<pre style=\"white-space:pre;overflow-x:auto;line-height:normal;font-family:Menlo,'DejaVu Sans Mono',consolas,'Courier New',monospace\">[tesseract] lots of diacritics - possibly poor OCR\n",
       "</pre>\n"
      ],
      "text/plain": [
       "[tesseract] lots of diacritics - possibly poor OCR\n"
      ]
     },
     "metadata": {},
     "output_type": "display_data"
    },
    {
     "data": {
      "text/html": [
       "<pre style=\"white-space:pre;overflow-x:auto;line-height:normal;font-family:Menlo,'DejaVu Sans Mono',consolas,'Courier New',monospace\">[tesseract] lots of diacritics - possibly poor OCR\n",
       "</pre>\n"
      ],
      "text/plain": [
       "[tesseract] lots of diacritics - possibly poor OCR\n"
      ]
     },
     "metadata": {},
     "output_type": "display_data"
    },
    {
     "data": {
      "text/html": [
       "<pre style=\"white-space:pre;overflow-x:auto;line-height:normal;font-family:Menlo,'DejaVu Sans Mono',consolas,'Courier New',monospace\">[tesseract] lots of diacritics - possibly poor OCR\n",
       "</pre>\n"
      ],
      "text/plain": [
       "[tesseract] lots of diacritics - possibly poor OCR\n"
      ]
     },
     "metadata": {},
     "output_type": "display_data"
    },
    {
     "data": {
      "text/html": [
       "<pre style=\"white-space:pre;overflow-x:auto;line-height:normal;font-family:Menlo,'DejaVu Sans Mono',consolas,'Courier New',monospace\">[tesseract] lots of diacritics - possibly poor OCR\n",
       "</pre>\n"
      ],
      "text/plain": [
       "[tesseract] lots of diacritics - possibly poor OCR\n"
      ]
     },
     "metadata": {},
     "output_type": "display_data"
    },
    {
     "data": {
      "text/html": [
       "<pre style=\"white-space:pre;overflow-x:auto;line-height:normal;font-family:Menlo,'DejaVu Sans Mono',consolas,'Courier New',monospace\">[tesseract] lots of diacritics - possibly poor OCR\n",
       "</pre>\n"
      ],
      "text/plain": [
       "[tesseract] lots of diacritics - possibly poor OCR\n"
      ]
     },
     "metadata": {},
     "output_type": "display_data"
    },
    {
     "data": {
      "text/html": [
       "<pre style=\"white-space:pre;overflow-x:auto;line-height:normal;font-family:Menlo,'DejaVu Sans Mono',consolas,'Courier New',monospace\"></pre>\n"
      ],
      "text/plain": []
     },
     "metadata": {},
     "output_type": "display_data"
    },
    {
     "data": {
      "application/vnd.jupyter.widget-view+json": {
       "model_id": "800e8901e29b46dd844427680f67973a",
       "version_major": 2,
       "version_minor": 0
      },
      "text/plain": [
       "Output()"
      ]
     },
     "metadata": {},
     "output_type": "display_data"
    },
    {
     "data": {
      "text/html": [
       "<pre style=\"white-space:pre;overflow-x:auto;line-height:normal;font-family:Menlo,'DejaVu Sans Mono',consolas,'Courier New',monospace\"></pre>\n"
      ],
      "text/plain": []
     },
     "metadata": {},
     "output_type": "display_data"
    },
    {
     "data": {
      "application/vnd.jupyter.widget-view+json": {
       "model_id": "70a2a16733394be08917402f37a10e11",
       "version_major": 2,
       "version_minor": 0
      },
      "text/plain": [
       "Output()"
      ]
     },
     "metadata": {},
     "output_type": "display_data"
    },
    {
     "data": {
      "text/html": [
       "<pre style=\"white-space:pre;overflow-x:auto;line-height:normal;font-family:Menlo,'DejaVu Sans Mono',consolas,'Courier New',monospace\"></pre>\n"
      ],
      "text/plain": []
     },
     "metadata": {},
     "output_type": "display_data"
    },
    {
     "data": {
      "application/vnd.jupyter.widget-view+json": {
       "model_id": "9a9ced56db6242d5867551a17c69d85a",
       "version_major": 2,
       "version_minor": 0
      },
      "text/plain": [
       "Output()"
      ]
     },
     "metadata": {},
     "output_type": "display_data"
    },
    {
     "data": {
      "text/html": [
       "<pre style=\"white-space:pre;overflow-x:auto;line-height:normal;font-family:Menlo,'DejaVu Sans Mono',consolas,'Courier New',monospace\"></pre>\n"
      ],
      "text/plain": []
     },
     "metadata": {},
     "output_type": "display_data"
    },
    {
     "data": {
      "application/vnd.jupyter.widget-view+json": {
       "model_id": "cea3d890ca03479fac71bb07c4e72892",
       "version_major": 2,
       "version_minor": 0
      },
      "text/plain": [
       "Output()"
      ]
     },
     "metadata": {},
     "output_type": "display_data"
    },
    {
     "data": {
      "text/html": [
       "<pre style=\"white-space:pre;overflow-x:auto;line-height:normal;font-family:Menlo,'DejaVu Sans Mono',consolas,'Courier New',monospace\"></pre>\n"
      ],
      "text/plain": []
     },
     "metadata": {},
     "output_type": "display_data"
    },
    {
     "name": "stderr",
     "output_type": "stream",
     "text": [
      "INFO - Processed file 214867 with tag D4 - Mitigation Monitoring Program\n",
      "INFO - Added tag D4 to file with hash 0af91f2adef54e119db28c8ccc904ff6b71038c0\n",
      "INFO - Added tag D to file with hash 0af91f2adef54e119db28c8ccc904ff6b71038c0\n",
      "INFO - Processing file number 89 of 202: 338947\n",
      "INFO - Found file 338947 at N:\\PPDO\\Records\\32xx   Kresge College (College 6)\\3238\\3238\\D - Environmental Review Process\\D3 - CEQA Documentation\\D.3 CEQA MITIGATIONS\\EIR\\kresge-deir-noa-final.pdf\n",
      "WARNING - File 338947 does not match tag D4 - Mitigation Monitoring Program in its location directories\n",
      "INFO - Found file 338947 at N:\\PPDO\\Records\\32xx   Kresge College (College 6)\\3238\\3238\\D - Environmental Review Process\\D4 - Mitigation Monitoring Program\\EIR\\kresge-deir-noa-final.pdf\n",
      "INFO - Processed file 338947 with tag D4 - Mitigation Monitoring Program\n",
      "INFO - Added tag D4 to file with hash 30158ae8792f3473c8a8c2fd60b25a7bb011f446\n",
      "INFO - Added tag D to file with hash 30158ae8792f3473c8a8c2fd60b25a7bb011f446\n",
      "INFO - Processing file number 90 of 202: 214870\n",
      "INFO - Found file 214870 at N:\\PPDO\\Records\\21xx   Central Heating Plant (Fackler Cogeneration)\\2113\\2113\\D - Environmental Review Process\\D4 - Mitigation Monitoring Program\\Timber Harvest & Conversion\\AK email 5-16.pdf\n",
      "INFO - Processed file 214870 with tag D4 - Mitigation Monitoring Program\n",
      "INFO - Added tag D4 to file with hash 6c10118b0763bd65b85e1ccb2d95991539edabae\n",
      "INFO - Added tag D to file with hash 6c10118b0763bd65b85e1ccb2d95991539edabae\n",
      "INFO - Processing file number 91 of 202: 338960\n",
      "INFO - Found file 338960 at N:\\PPDO\\Records\\32xx   Kresge College (College 6)\\3238\\3238\\D - Environmental Review Process\\D3 - CEQA Documentation\\D.3 CEQA MITIGATIONS\\EIR\\Kresge Draft EIR chapters\\4.14 Public Services.pdf\n",
      "WARNING - File 338960 does not match tag D4 - Mitigation Monitoring Program in its location directories\n",
      "INFO - Found file 338960 at N:\\PPDO\\Records\\32xx   Kresge College (College 6)\\3238\\3238\\D - Environmental Review Process\\D4 - Mitigation Monitoring Program\\EIR\\Kresge Draft EIR chapters\\4.14 Public Services.pdf\n",
      "INFO - Processed file 338960 with tag D4 - Mitigation Monitoring Program\n",
      "INFO - Added tag D4 to file with hash 1940b06d54e99eac8c8546a33863bd913356f478\n",
      "INFO - Added tag D to file with hash 1940b06d54e99eac8c8546a33863bd913356f478\n",
      "INFO - Processing file number 92 of 202: 214874\n",
      "INFO - Found file 214874 at N:\\PPDO\\Records\\21xx   Central Heating Plant (Fackler Cogeneration)\\2113\\2113\\D - Environmental Review Process\\D4 - Mitigation Monitoring Program\\Timber Harvest & Conversion\\UCSC_Cogen_Tree_Precon_Survey_2012.doc\n",
      "INFO - Processed file 214874 with tag D4 - Mitigation Monitoring Program\n",
      "INFO - Added tag D4 to file with hash a4b9417bb94107c41204b439a538a2d6227d3561\n",
      "INFO - Added tag D to file with hash a4b9417bb94107c41204b439a538a2d6227d3561\n",
      "INFO - Processing file number 93 of 202: 913788\n",
      "INFO - Found file 913788 at N:\\PPDO\\Records\\57xx   Faculty & Staff Housing\\5707\\5707\\D- Environmental Review Process\\D4 - Mitigation Monitoring Program\\File 5707 Campus & Developer Responsibilites.pdf\n",
      "INFO - Processed file 913788 with tag D4 - Mitigation Monitoring Program\n",
      "INFO - Added tag D4 to file with hash be958e356781f7b7a6787cfbb4c787fc9950342a\n",
      "INFO - Added tag D to file with hash be958e356781f7b7a6787cfbb4c787fc9950342a\n",
      "INFO - Processing file number 94 of 202: 338944\n",
      "INFO - Found file 338944 at N:\\PPDO\\Records\\32xx   Kresge College (College 6)\\3238\\3238\\D - Environmental Review Process\\D3 - CEQA Documentation\\D.3 CEQA MITIGATIONS\\Kresge Mit Details tmg.xlsx\n",
      "WARNING - File 338944 does not match tag D4 - Mitigation Monitoring Program in its location directories\n",
      "INFO - Found file 338944 at N:\\PPDO\\Records\\32xx   Kresge College (College 6)\\3238\\3238\\D - Environmental Review Process\\D4 - Mitigation Monitoring Program\\Kresge Mit Details tmg.xlsx\n",
      "INFO - Processed file 338944 with tag D4 - Mitigation Monitoring Program\n",
      "INFO - Added tag D4 to file with hash 5db360341644cbbb34ca172373cbc5e609755948\n",
      "INFO - Added tag D to file with hash 5db360341644cbbb34ca172373cbc5e609755948\n",
      "INFO - Processing file number 95 of 202: 179923\n",
      "INFO - Found file 179923 at N:\\PPDO\\Records\\18xx   Mc Henry Library Unit I\\1810\\1810\\D - Environmental Review Process\\D4 - Mitigation Monitoring Program\\McHenry MMP checklist-new format 4-08.xls\n",
      "INFO - Processed file 179923 with tag D4 - Mitigation Monitoring Program\n",
      "INFO - Added tag D4 to file with hash 955da67a3207ca8e5da5782f9ac70d42355f0475\n",
      "INFO - Added tag D to file with hash 955da67a3207ca8e5da5782f9ac70d42355f0475\n",
      "INFO - Processing file number 96 of 202: 135234\n",
      "INFO - Found file 135234 at N:\\PPDO\\Records\\114xx  Long Range Development Planning (LRDP) Documents and Studies\\11405 LRDP 1988\\11405\\D - Environmental Review Process\\D4 - Mitigation Monitoring Program\\11405.D4.1998 Mitigation Monitoring Program Report.pdf\n"
     ]
    },
    {
     "data": {
      "application/vnd.jupyter.widget-view+json": {
       "model_id": "077858b45f43480fab1061c76ecdec07",
       "version_major": 2,
       "version_minor": 0
      },
      "text/plain": [
       "Output()"
      ]
     },
     "metadata": {},
     "output_type": "display_data"
    },
    {
     "data": {
      "text/html": [
       "<pre style=\"white-space:pre;overflow-x:auto;line-height:normal;font-family:Menlo,'DejaVu Sans Mono',consolas,'Courier New',monospace\"></pre>\n"
      ],
      "text/plain": []
     },
     "metadata": {},
     "output_type": "display_data"
    },
    {
     "data": {
      "application/vnd.jupyter.widget-view+json": {
       "model_id": "63befd7b6fb9499b934180def4f7b967",
       "version_major": 2,
       "version_minor": 0
      },
      "text/plain": [
       "Output()"
      ]
     },
     "metadata": {},
     "output_type": "display_data"
    },
    {
     "data": {
      "text/html": [
       "<pre style=\"white-space:pre;overflow-x:auto;line-height:normal;font-family:Menlo,'DejaVu Sans Mono',consolas,'Courier New',monospace\">[tesseract] Error during processing.\n",
       "</pre>\n"
      ],
      "text/plain": [
       "[tesseract] Error during processing.\n"
      ]
     },
     "metadata": {},
     "output_type": "display_data"
    },
    {
     "data": {
      "text/html": [
       "<pre style=\"white-space:pre;overflow-x:auto;line-height:normal;font-family:Menlo,'DejaVu Sans Mono',consolas,'Courier New',monospace\">[tesseract] lots of diacritics - possibly poor OCR\n",
       "</pre>\n"
      ],
      "text/plain": [
       "[tesseract] lots of diacritics - possibly poor OCR\n"
      ]
     },
     "metadata": {},
     "output_type": "display_data"
    },
    {
     "data": {
      "text/html": [
       "<pre style=\"white-space:pre;overflow-x:auto;line-height:normal;font-family:Menlo,'DejaVu Sans Mono',consolas,'Courier New',monospace\">[tesseract] lots of diacritics - possibly poor OCR\n",
       "</pre>\n"
      ],
      "text/plain": [
       "[tesseract] lots of diacritics - possibly poor OCR\n"
      ]
     },
     "metadata": {},
     "output_type": "display_data"
    },
    {
     "data": {
      "text/html": [
       "<pre style=\"white-space:pre;overflow-x:auto;line-height:normal;font-family:Menlo,'DejaVu Sans Mono',consolas,'Courier New',monospace\"></pre>\n"
      ],
      "text/plain": []
     },
     "metadata": {},
     "output_type": "display_data"
    },
    {
     "data": {
      "application/vnd.jupyter.widget-view+json": {
       "model_id": "50a24cabcec546b688fd7e90ed016954",
       "version_major": 2,
       "version_minor": 0
      },
      "text/plain": [
       "Output()"
      ]
     },
     "metadata": {},
     "output_type": "display_data"
    },
    {
     "data": {
      "text/html": [
       "<pre style=\"white-space:pre;overflow-x:auto;line-height:normal;font-family:Menlo,'DejaVu Sans Mono',consolas,'Courier New',monospace\"></pre>\n"
      ],
      "text/plain": []
     },
     "metadata": {},
     "output_type": "display_data"
    },
    {
     "data": {
      "application/vnd.jupyter.widget-view+json": {
       "model_id": "882ae9e927aa46879875c33db3b5ea91",
       "version_major": 2,
       "version_minor": 0
      },
      "text/plain": [
       "Output()"
      ]
     },
     "metadata": {},
     "output_type": "display_data"
    },
    {
     "data": {
      "text/html": [
       "<pre style=\"white-space:pre;overflow-x:auto;line-height:normal;font-family:Menlo,'DejaVu Sans Mono',consolas,'Courier New',monospace\"></pre>\n"
      ],
      "text/plain": []
     },
     "metadata": {},
     "output_type": "display_data"
    },
    {
     "data": {
      "application/vnd.jupyter.widget-view+json": {
       "model_id": "a42da7a60f854ae6b0463d9625616a5b",
       "version_major": 2,
       "version_minor": 0
      },
      "text/plain": [
       "Output()"
      ]
     },
     "metadata": {},
     "output_type": "display_data"
    },
    {
     "data": {
      "text/html": [
       "<pre style=\"white-space:pre;overflow-x:auto;line-height:normal;font-family:Menlo,'DejaVu Sans Mono',consolas,'Courier New',monospace\"></pre>\n"
      ],
      "text/plain": []
     },
     "metadata": {},
     "output_type": "display_data"
    },
    {
     "data": {
      "application/vnd.jupyter.widget-view+json": {
       "model_id": "2256b21764cc4e5c91e8d195d7f06d26",
       "version_major": 2,
       "version_minor": 0
      },
      "text/plain": [
       "Output()"
      ]
     },
     "metadata": {},
     "output_type": "display_data"
    },
    {
     "data": {
      "text/html": [
       "<pre style=\"white-space:pre;overflow-x:auto;line-height:normal;font-family:Menlo,'DejaVu Sans Mono',consolas,'Courier New',monospace\"></pre>\n"
      ],
      "text/plain": []
     },
     "metadata": {},
     "output_type": "display_data"
    },
    {
     "name": "stderr",
     "output_type": "stream",
     "text": [
      "The output file size is 5.04× larger than the input file.\n",
      "Possible reasons for this include:\n",
      "--deskew was issued, causing transcoding.\n",
      "The optional dependency 'jbig2' was not found, so some image optimizations could not be attempted.\n",
      "The optional dependency 'pngquant' was not found, so some image optimizations could not be attempted.\n",
      "\n",
      "INFO - Processed file 135234 with tag D4 - Mitigation Monitoring Program\n",
      "INFO - Added tag D4 to file with hash caad1b703bb02f37eddbbdbacd6b69a109862594\n",
      "INFO - Added tag D to file with hash caad1b703bb02f37eddbbdbacd6b69a109862594\n",
      "INFO - Processing file number 97 of 202: 579732\n",
      "INFO - Found file 579732 at N:\\PPDO\\Records\\85xx   Pedestrian Paths and Site Development\\8500\\8500-033\\D - Environmental Review Process\\D4 - Mitigation Monitoring Program\\21.04.26 8500-033 Year 1 Grassland Seeding Monitoring Report.pdf\n",
      "INFO - Processed file 579732 with tag D4 - Mitigation Monitoring Program\n",
      "INFO - Added tag D4 to file with hash 67c0baf01c526c4991fa8d627c2ded6da04f2bbb\n",
      "INFO - Added tag D to file with hash 67c0baf01c526c4991fa8d627c2ded6da04f2bbb\n",
      "INFO - Processing file number 98 of 202: 338076\n",
      "INFO - Found file 338076 at N:\\PPDO\\Records\\32xx   Kresge College (College 6)\\3238\\3238\\D - Environmental Review Process\\D3 - CEQA Documentation\\CEQA documents for Records\\Draft EIR\\Kresge College Renewal and Expansion Project Draft EIR Nov 2018.pdf\n",
      "WARNING - File 338076 does not match tag D4 - Mitigation Monitoring Program in its location directories\n",
      "INFO - Found file 338076 at N:\\PPDO\\Records\\32xx   Kresge College (College 6)\\3238\\3238\\D - Environmental Review Process\\D3 - CEQA Documentation\\D.3 CEQA MITIGATIONS\\EIR\\Kresge College Renewal and Expansion Project Draft EIR Nov 2018.pdf\n",
      "WARNING - File 338076 does not match tag D4 - Mitigation Monitoring Program in its location directories\n",
      "INFO - Found file 338076 at N:\\PPDO\\Records\\32xx   Kresge College (College 6)\\3238\\3238\\D - Environmental Review Process\\D4 - Mitigation Monitoring Program\\EIR\\Kresge College Renewal and Expansion Project Draft EIR Nov 2018.pdf\n",
      "INFO - Processed file 338076 with tag D4 - Mitigation Monitoring Program\n",
      "INFO - Added tag D4 to file with hash d290b1adf5ba3fc044811ba49da74aaff393b31c\n",
      "INFO - Added tag D to file with hash d290b1adf5ba3fc044811ba49da74aaff393b31c\n",
      "INFO - Processing file number 99 of 202: 338973\n",
      "INFO - Found file 338973 at N:\\PPDO\\Records\\32xx   Kresge College (College 6)\\3238\\3238\\D - Environmental Review Process\\D3 - CEQA Documentation\\D.3 CEQA MITIGATIONS\\EIR\\Kresge Draft EIR chapters\\5 Other CEQA Required Discussions.pdf\n",
      "WARNING - File 338973 does not match tag D4 - Mitigation Monitoring Program in its location directories\n",
      "INFO - Found file 338973 at N:\\PPDO\\Records\\32xx   Kresge College (College 6)\\3238\\3238\\D - Environmental Review Process\\D4 - Mitigation Monitoring Program\\EIR\\Kresge Draft EIR chapters\\5 Other CEQA Required Discussions.pdf\n",
      "INFO - Processed file 338973 with tag D4 - Mitigation Monitoring Program\n",
      "INFO - Added tag D4 to file with hash 735949169cd01f3bf69f3a49e757c72843d34b3b\n",
      "INFO - Added tag D to file with hash 735949169cd01f3bf69f3a49e757c72843d34b3b\n",
      "INFO - Processing file number 100 of 202: 338864\n",
      "INFO - Found file 338864 at N:\\PPDO\\Records\\32xx   Kresge College (College 6)\\3238\\3238\\D - Environmental Review Process\\D3 - CEQA Documentation\\CEQA documents for Records\\Final EIR\\Kresge FEIR chapters\\3 Response to Comments.pdf\n",
      "WARNING - File 338864 does not match tag D4 - Mitigation Monitoring Program in its location directories\n",
      "INFO - Found file 338864 at N:\\PPDO\\Records\\32xx   Kresge College (College 6)\\3238\\3238\\D - Environmental Review Process\\D3 - CEQA Documentation\\D.3 CEQA MITIGATIONS\\EIR\\Kresge Final EIR chapters\\3 Response to Comments.pdf\n",
      "WARNING - File 338864 does not match tag D4 - Mitigation Monitoring Program in its location directories\n",
      "INFO - Found file 338864 at N:\\PPDO\\Records\\32xx   Kresge College (College 6)\\3238\\3238\\D - Environmental Review Process\\D4 - Mitigation Monitoring Program\\EIR\\Kresge Final EIR chapters\\3 Response to Comments.pdf\n",
      "INFO - Processed file 338864 with tag D4 - Mitigation Monitoring Program\n",
      "INFO - Added tag D4 to file with hash 9ae564868ffcf3db1daa8bf93b0e4fcea788a2e5\n",
      "INFO - Added tag D to file with hash 9ae564868ffcf3db1daa8bf93b0e4fcea788a2e5\n",
      "INFO - Processing file number 101 of 202: 734455\n",
      "INFO - Found file 734455 at N:\\PPDO\\Records\\55xx   College 9 & 10\\5507\\5507\\D4 - Mitigation Monitoring Program\\5507.D4.ModularStudentHousingMigrationMeasuresChecklist.pdf\n"
     ]
    },
    {
     "data": {
      "application/vnd.jupyter.widget-view+json": {
       "model_id": "4e8817522a314c468ed3ae9cdbe30ea6",
       "version_major": 2,
       "version_minor": 0
      },
      "text/plain": [
       "Output()"
      ]
     },
     "metadata": {},
     "output_type": "display_data"
    },
    {
     "data": {
      "text/html": [
       "<pre style=\"white-space:pre;overflow-x:auto;line-height:normal;font-family:Menlo,'DejaVu Sans Mono',consolas,'Courier New',monospace\"></pre>\n"
      ],
      "text/plain": []
     },
     "metadata": {},
     "output_type": "display_data"
    },
    {
     "data": {
      "application/vnd.jupyter.widget-view+json": {
       "model_id": "31ed1b64be034f479fd02cb74c215f47",
       "version_major": 2,
       "version_minor": 0
      },
      "text/plain": [
       "Output()"
      ]
     },
     "metadata": {},
     "output_type": "display_data"
    },
    {
     "data": {
      "text/html": [
       "<pre style=\"white-space:pre;overflow-x:auto;line-height:normal;font-family:Menlo,'DejaVu Sans Mono',consolas,'Courier New',monospace\"></pre>\n"
      ],
      "text/plain": []
     },
     "metadata": {},
     "output_type": "display_data"
    },
    {
     "data": {
      "application/vnd.jupyter.widget-view+json": {
       "model_id": "44ff67c670b2453aadf65b1f5c013b56",
       "version_major": 2,
       "version_minor": 0
      },
      "text/plain": [
       "Output()"
      ]
     },
     "metadata": {},
     "output_type": "display_data"
    },
    {
     "data": {
      "text/html": [
       "<pre style=\"white-space:pre;overflow-x:auto;line-height:normal;font-family:Menlo,'DejaVu Sans Mono',consolas,'Courier New',monospace\"></pre>\n"
      ],
      "text/plain": []
     },
     "metadata": {},
     "output_type": "display_data"
    },
    {
     "data": {
      "application/vnd.jupyter.widget-view+json": {
       "model_id": "08e6b52759d747f2a319cbb1c18cc7f6",
       "version_major": 2,
       "version_minor": 0
      },
      "text/plain": [
       "Output()"
      ]
     },
     "metadata": {},
     "output_type": "display_data"
    },
    {
     "data": {
      "text/html": [
       "<pre style=\"white-space:pre;overflow-x:auto;line-height:normal;font-family:Menlo,'DejaVu Sans Mono',consolas,'Courier New',monospace\"></pre>\n"
      ],
      "text/plain": []
     },
     "metadata": {},
     "output_type": "display_data"
    },
    {
     "data": {
      "application/vnd.jupyter.widget-view+json": {
       "model_id": "29b8a721c94a43868870176020973085",
       "version_major": 2,
       "version_minor": 0
      },
      "text/plain": [
       "Output()"
      ]
     },
     "metadata": {},
     "output_type": "display_data"
    },
    {
     "data": {
      "text/html": [
       "<pre style=\"white-space:pre;overflow-x:auto;line-height:normal;font-family:Menlo,'DejaVu Sans Mono',consolas,'Courier New',monospace\"></pre>\n"
      ],
      "text/plain": []
     },
     "metadata": {},
     "output_type": "display_data"
    },
    {
     "data": {
      "application/vnd.jupyter.widget-view+json": {
       "model_id": "82f7168cf9f04a048b4ec6d5f8c6796e",
       "version_major": 2,
       "version_minor": 0
      },
      "text/plain": [
       "Output()"
      ]
     },
     "metadata": {},
     "output_type": "display_data"
    },
    {
     "data": {
      "text/html": [
       "<pre style=\"white-space:pre;overflow-x:auto;line-height:normal;font-family:Menlo,'DejaVu Sans Mono',consolas,'Courier New',monospace\"></pre>\n"
      ],
      "text/plain": []
     },
     "metadata": {},
     "output_type": "display_data"
    },
    {
     "name": "stderr",
     "output_type": "stream",
     "text": [
      "INFO - Processed file 734455 with tag D4 - Mitigation Monitoring Program\n",
      "INFO - Added tag D4 to file with hash 85d25b34797b5d18161ba7125cfdcd4a7b097ff6\n",
      "INFO - Added tag D to file with hash 85d25b34797b5d18161ba7125cfdcd4a7b097ff6\n",
      "INFO - Processing file number 102 of 202: 829670\n",
      "INFO - Found file 829670 at N:\\PPDO\\Records\\90xx  Campus Utilities\\9065\\9065\\D - Environmental Review Process\\D4 - Mitigation Monitoring Program\\nesting bird results stormwater April 2010.pdf\n",
      "INFO - Processed file 829670 with tag D4 - Mitigation Monitoring Program\n",
      "INFO - Added tag D4 to file with hash c4ec8a73e55dfe9bab27e06ff587c0e4cf35584b\n",
      "INFO - Added tag D to file with hash c4ec8a73e55dfe9bab27e06ff587c0e4cf35584b\n",
      "INFO - Processing file number 103 of 202: 492225\n",
      "INFO - Found file 492225 at N:\\PPDO\\Records\\55xx   College 9 & 10\\5507\\5507\\D4 - Mitigation Monitoring Program\\File 5507 D4 Project-Specific LRDP Measures Checklist.pdf\n",
      "INFO - Processed file 492225 with tag D4 - Mitigation Monitoring Program\n",
      "INFO - Added tag D4 to file with hash 7dded409b923d7e9b9e1e991735959f25bf48b94\n",
      "INFO - Added tag D to file with hash 7dded409b923d7e9b9e1e991735959f25bf48b94\n",
      "INFO - Processing file number 104 of 202: 790894\n",
      "INFO - Found file 790894 at N:\\PPDO\\Records\\49xx   Long Marine Lab\\4932\\4932\\D - Environmental Review Process\\D4 - Mitigation Monitoring Program\\Annual Compliance Report 2016\\Figure 1 Vicinity (02-03-2016).pdf\n",
      "WARNING - Text length for file 790894 is 229:\n",
      "Figure 1: Vicinity Map \n",
      "Coastal Biology Building Project\n",
      "UCSC Marine Science Campus\n",
      "4127 Bay Street, Ste. B\n",
      "Fremont, CA 94538\n",
      "Project Boundary\n",
      "|ÿ\n",
      "1\n",
      "Western Dr.\n",
      "High St.\n",
      "Bay St.\n",
      "King St.\n",
      "P a c i f i c  O c e a n\n",
      "±\n",
      "0\n",
      "0.25\n",
      "0.5\n",
      "Mile\n",
      "\n",
      "INFO - Processing file number 105 of 202: 338866\n",
      "INFO - Found file 338866 at N:\\PPDO\\Records\\32xx   Kresge College (College 6)\\3238\\3238\\D - Environmental Review Process\\D3 - CEQA Documentation\\CEQA documents for Records\\Final EIR\\Kresge FEIR chapters\\5 Mitigation Monitoring and Reporting Program.pdf\n",
      "WARNING - File 338866 does not match tag D4 - Mitigation Monitoring Program in its location directories\n",
      "INFO - Found file 338866 at N:\\PPDO\\Records\\32xx   Kresge College (College 6)\\3238\\3238\\D - Environmental Review Process\\D3 - CEQA Documentation\\D.3 CEQA MITIGATIONS\\EIR\\Kresge Final EIR chapters\\5 Mitigation Monitoring and Reporting Program.pdf\n",
      "WARNING - File 338866 does not match tag D4 - Mitigation Monitoring Program in its location directories\n",
      "INFO - Found file 338866 at N:\\PPDO\\Records\\32xx   Kresge College (College 6)\\3238\\3238\\D - Environmental Review Process\\D4 - Mitigation Monitoring Program\\EIR\\Kresge Final EIR chapters\\5 Mitigation Monitoring and Reporting Program.pdf\n",
      "INFO - Processed file 338866 with tag D4 - Mitigation Monitoring Program\n",
      "INFO - Added tag D4 to file with hash 798e4afb31ea67a98b52c71600c35a1798fad337\n",
      "INFO - Added tag D to file with hash 798e4afb31ea67a98b52c71600c35a1798fad337\n",
      "INFO - Processing file number 106 of 202: 719023\n",
      "INFO - Found file 719023 at N:\\PPDO\\Records\\90xx  Campus Utilities\\9069\\9069\\D - Environmental Review Process\\D4 - Mitigation Monitoring Program\\IIP Phase 1-Cooling mitigation checklist-new.xls\n",
      "INFO - Processed file 719023 with tag D4 - Mitigation Monitoring Program\n",
      "INFO - Added tag D4 to file with hash 548e1d31683912c5ed43b43da7b30b7eadd6ee6c\n",
      "INFO - Added tag D to file with hash 548e1d31683912c5ed43b43da7b30b7eadd6ee6c\n",
      "INFO - Processing file number 107 of 202: 944749\n",
      "INFO - Found file 944749 at N:\\PPDO\\Records\\30xx   Porter College (College 5)\\3048\\3048\\D - Environmental Review Process\\D4 - Mitigation Monitoring Program\\email Porter Dorm Mit Measure_ ped xing.pdf\n",
      "INFO - Processed file 944749 with tag D4 - Mitigation Monitoring Program\n",
      "INFO - Added tag D4 to file with hash 0c18dd90b195512c37852fd42b8f2f6c41ec4e8a\n",
      "INFO - Added tag D to file with hash 0c18dd90b195512c37852fd42b8f2f6c41ec4e8a\n",
      "INFO - Processing file number 108 of 202: 829669\n",
      "INFO - Found file 829669 at N:\\PPDO\\Records\\90xx  Campus Utilities\\9065\\9065\\D - Environmental Review Process\\D4 - Mitigation Monitoring Program\\Kerr Hall chickadee nest update 5-11-10.pdf\n",
      "INFO - Processed file 829669 with tag D4 - Mitigation Monitoring Program\n",
      "INFO - Added tag D4 to file with hash 01d7beaa876f3dd65f9b8f1bd1a231a78e02e759\n",
      "INFO - Added tag D to file with hash 01d7beaa876f3dd65f9b8f1bd1a231a78e02e759\n",
      "INFO - Processing file number 109 of 202: 790888\n",
      "INFO - Found file 790888 at N:\\PPDO\\Records\\49xx   Long Marine Lab\\4932\\4932\\D - Environmental Review Process\\D4 - Mitigation Monitoring Program\\UCSC FINAL Annual Compliance Report (01-30-2017).pdf\n",
      "INFO - Processed file 790888 with tag D4 - Mitigation Monitoring Program\n",
      "INFO - Added tag D4 to file with hash 02fb55922a9343d42ec2a973226bb692f77c0023\n",
      "INFO - Added tag D to file with hash 02fb55922a9343d42ec2a973226bb692f77c0023\n",
      "INFO - Processing file number 110 of 202: 790874\n",
      "INFO - Found file 790874 at N:\\PPDO\\Records\\49xx   Long Marine Lab\\4932\\4932\\D - Environmental Review Process\\D4 - Mitigation Monitoring Program\\Appendix G ISI Noise TechStudy - UCSC Marine Science Campus Final-revised.pdf\n",
      "INFO - Processed file 790874 with tag D4 - Mitigation Monitoring Program\n",
      "INFO - Added tag D4 to file with hash f9a9217c5b8f1081aa5ea44614d2a2e3a23a29d7\n",
      "INFO - Added tag D to file with hash f9a9217c5b8f1081aa5ea44614d2a2e3a23a29d7\n",
      "INFO - Processing file number 111 of 202: 703350\n",
      "INFO - Found file 703350 at N:\\PPDO\\Records\\98xx   Campus Utilities 2012 on\\9800\\9800-010\\D - Environmental Review Process\\D4 - Mitigation Monitoring Program\\9800-010.D4.Pages from 2005feir-IV-4.0-mmp-unlocked.pdf\n",
      "INFO - Processed file 703350 with tag D4 - Mitigation Monitoring Program\n",
      "INFO - Added tag D4 to file with hash 03d79ad61cc64d43223d074dcb0c30fcebe1bf47\n",
      "INFO - Added tag D to file with hash 03d79ad61cc64d43223d074dcb0c30fcebe1bf47\n",
      "INFO - Processing file number 112 of 202: 703346\n",
      "INFO - Found file 703346 at N:\\PPDO\\Records\\98xx   Campus Utilities 2012 on\\9800\\9800-010\\D - Environmental Review Process\\D4 - Mitigation Monitoring Program\\9800-010.D4.2005feir-IV-4.0-mmp-unlocked.pdf\n",
      "INFO - Processed file 703346 with tag D4 - Mitigation Monitoring Program\n",
      "INFO - Added tag D4 to file with hash 0c4738e0e4adec623061297936aeb6e13ade7ae2\n",
      "INFO - Added tag D to file with hash 0c4738e0e4adec623061297936aeb6e13ade7ae2\n",
      "INFO - Processing file number 113 of 202: 579727\n",
      "INFO - Found file 579727 at N:\\PPDO\\Records\\85xx   Pedestrian Paths and Site Development\\8500\\8500-033\\D - Environmental Review Process\\D4 - Mitigation Monitoring Program\\20.06.02 8500-030 Grassland Map.pdf\n",
      "INFO - Processed file 579727 with tag D4 - Mitigation Monitoring Program\n",
      "INFO - Added tag D4 to file with hash 0e4da5e78845daba259b3e3afb38e66d37c8f065\n",
      "INFO - Added tag D to file with hash 0e4da5e78845daba259b3e3afb38e66d37c8f065\n",
      "INFO - Processing file number 114 of 202: 214860\n",
      "INFO - Found file 214860 at N:\\PPDO\\Records\\21xx   Central Heating Plant (Fackler Cogeneration)\\2113\\2113\\D - Environmental Review Process\\D4 - Mitigation Monitoring Program\\File 2113 Email Annual Report 2014.pdf\n",
      "INFO - Processed file 214860 with tag D4 - Mitigation Monitoring Program\n",
      "INFO - Added tag D4 to file with hash 081215da55108476659a883e77b3de073abb6103\n",
      "INFO - Added tag D to file with hash 081215da55108476659a883e77b3de073abb6103\n",
      "INFO - Processing file number 115 of 202: 338957\n",
      "INFO - Found file 338957 at N:\\PPDO\\Records\\32xx   Kresge College (College 6)\\3238\\3238\\D - Environmental Review Process\\D3 - CEQA Documentation\\D.3 CEQA MITIGATIONS\\EIR\\Kresge Draft EIR chapters\\4.11 Land Use and Planning.pdf\n",
      "WARNING - File 338957 does not match tag D4 - Mitigation Monitoring Program in its location directories\n",
      "INFO - Found file 338957 at N:\\PPDO\\Records\\32xx   Kresge College (College 6)\\3238\\3238\\D - Environmental Review Process\\D4 - Mitigation Monitoring Program\\EIR\\Kresge Draft EIR chapters\\4.11 Land Use and Planning.pdf\n",
      "INFO - Processed file 338957 with tag D4 - Mitigation Monitoring Program\n",
      "INFO - Added tag D4 to file with hash c0fe8e9e303f7b30abac7680a47c434e3b5bdcae\n",
      "INFO - Added tag D to file with hash c0fe8e9e303f7b30abac7680a47c434e3b5bdcae\n",
      "INFO - Processing file number 116 of 202: 311049\n",
      "INFO - Found file 311049 at N:\\PPDO\\Records\\53xx   Rachel Carson College (8)\\5303\\5303-037 Carson Dining\\D - Environmental Review Process\\D4 - Mitigation Monitoring Program\\CRLF Mitigation Measures_Porter Dining Hall.docx\n",
      "INFO - Processed file 311049 with tag D4 - Mitigation Monitoring Program\n",
      "INFO - Added tag D4 to file with hash 5464dc6ce65e4bb5a96abe0738d0c9b431f26c02\n",
      "INFO - Added tag D to file with hash 5464dc6ce65e4bb5a96abe0738d0c9b431f26c02\n",
      "INFO - Processing file number 117 of 202: 474295\n",
      "INFO - Found file 474295 at N:\\PPDO\\Records\\52xx   Earth Marine Science Building\\5201\\5201\\D - Environmental Review Process\\D4 - Mitigation Monitoring Program\\5201.D4.Mitigation Report.pdf\n"
     ]
    },
    {
     "data": {
      "application/vnd.jupyter.widget-view+json": {
       "model_id": "69ba0940f2794e189d3b944c35351281",
       "version_major": 2,
       "version_minor": 0
      },
      "text/plain": [
       "Output()"
      ]
     },
     "metadata": {},
     "output_type": "display_data"
    },
    {
     "data": {
      "text/html": [
       "<pre style=\"white-space:pre;overflow-x:auto;line-height:normal;font-family:Menlo,'DejaVu Sans Mono',consolas,'Courier New',monospace\"></pre>\n"
      ],
      "text/plain": []
     },
     "metadata": {},
     "output_type": "display_data"
    },
    {
     "data": {
      "application/vnd.jupyter.widget-view+json": {
       "model_id": "5b0507d6c48146e192384c2124ecda5c",
       "version_major": 2,
       "version_minor": 0
      },
      "text/plain": [
       "Output()"
      ]
     },
     "metadata": {},
     "output_type": "display_data"
    },
    {
     "data": {
      "text/html": [
       "<pre style=\"white-space:pre;overflow-x:auto;line-height:normal;font-family:Menlo,'DejaVu Sans Mono',consolas,'Courier New',monospace\"></pre>\n"
      ],
      "text/plain": []
     },
     "metadata": {},
     "output_type": "display_data"
    },
    {
     "data": {
      "application/vnd.jupyter.widget-view+json": {
       "model_id": "a6b597ca3d9c47dfb9c0fe424967c75d",
       "version_major": 2,
       "version_minor": 0
      },
      "text/plain": [
       "Output()"
      ]
     },
     "metadata": {},
     "output_type": "display_data"
    },
    {
     "data": {
      "text/html": [
       "<pre style=\"white-space:pre;overflow-x:auto;line-height:normal;font-family:Menlo,'DejaVu Sans Mono',consolas,'Courier New',monospace\"></pre>\n"
      ],
      "text/plain": []
     },
     "metadata": {},
     "output_type": "display_data"
    },
    {
     "data": {
      "application/vnd.jupyter.widget-view+json": {
       "model_id": "c70f9c71359042cea0f1b894fbc58683",
       "version_major": 2,
       "version_minor": 0
      },
      "text/plain": [
       "Output()"
      ]
     },
     "metadata": {},
     "output_type": "display_data"
    },
    {
     "data": {
      "text/html": [
       "<pre style=\"white-space:pre;overflow-x:auto;line-height:normal;font-family:Menlo,'DejaVu Sans Mono',consolas,'Courier New',monospace\"></pre>\n"
      ],
      "text/plain": []
     },
     "metadata": {},
     "output_type": "display_data"
    },
    {
     "data": {
      "application/vnd.jupyter.widget-view+json": {
       "model_id": "a0ccf14886b149fb8b7f8def7a2eb6c3",
       "version_major": 2,
       "version_minor": 0
      },
      "text/plain": [
       "Output()"
      ]
     },
     "metadata": {},
     "output_type": "display_data"
    },
    {
     "data": {
      "text/html": [
       "<pre style=\"white-space:pre;overflow-x:auto;line-height:normal;font-family:Menlo,'DejaVu Sans Mono',consolas,'Courier New',monospace\"></pre>\n"
      ],
      "text/plain": []
     },
     "metadata": {},
     "output_type": "display_data"
    },
    {
     "data": {
      "application/vnd.jupyter.widget-view+json": {
       "model_id": "0a70b4fea390499492734b54e025b846",
       "version_major": 2,
       "version_minor": 0
      },
      "text/plain": [
       "Output()"
      ]
     },
     "metadata": {},
     "output_type": "display_data"
    },
    {
     "data": {
      "text/html": [
       "<pre style=\"white-space:pre;overflow-x:auto;line-height:normal;font-family:Menlo,'DejaVu Sans Mono',consolas,'Courier New',monospace\"></pre>\n"
      ],
      "text/plain": []
     },
     "metadata": {},
     "output_type": "display_data"
    },
    {
     "name": "stderr",
     "output_type": "stream",
     "text": [
      "The output file size is 5.96× larger than the input file.\n",
      "Possible reasons for this include:\n",
      "--deskew was issued, causing transcoding.\n",
      "The optional dependency 'jbig2' was not found, so some image optimizations could not be attempted.\n",
      "The optional dependency 'pngquant' was not found, so some image optimizations could not be attempted.\n",
      "\n",
      "INFO - Processed file 474295 with tag D4 - Mitigation Monitoring Program\n",
      "INFO - Added tag D4 to file with hash 2b3125f848edef277ac703c6b23272ad066e5f2a\n",
      "INFO - Added tag D to file with hash 2b3125f848edef277ac703c6b23272ad066e5f2a\n",
      "INFO - Processing file number 118 of 202: 830656\n",
      "INFO - Found file 830656 at N:\\PPDO\\Records\\90xx  Campus Utilities\\9068\\9068\\D - Environmental Review Process\\D4 - Mitigation Monitoring Program\\9068 IIP Phase 1-Water.complete.xls\n",
      "INFO - Processed file 830656 with tag D4 - Mitigation Monitoring Program\n",
      "INFO - Added tag D4 to file with hash 7da2cc3113ff8b6d3b3e2f9a518b94aafb30ae98\n",
      "INFO - Added tag D to file with hash 7da2cc3113ff8b6d3b3e2f9a518b94aafb30ae98\n",
      "INFO - Processing file number 119 of 202: 338862\n",
      "INFO - Found file 338862 at N:\\PPDO\\Records\\32xx   Kresge College (College 6)\\3238\\3238\\D - Environmental Review Process\\D3 - CEQA Documentation\\CEQA documents for Records\\Final EIR\\Kresge FEIR chapters\\1 Executive Summary.pdf\n",
      "WARNING - File 338862 does not match tag D4 - Mitigation Monitoring Program in its location directories\n",
      "INFO - Found file 338862 at N:\\PPDO\\Records\\32xx   Kresge College (College 6)\\3238\\3238\\D - Environmental Review Process\\D3 - CEQA Documentation\\D.3 CEQA MITIGATIONS\\EIR\\Kresge Final EIR chapters\\1 Executive Summary.pdf\n",
      "WARNING - File 338862 does not match tag D4 - Mitigation Monitoring Program in its location directories\n",
      "INFO - Found file 338862 at N:\\PPDO\\Records\\32xx   Kresge College (College 6)\\3238\\3238\\D - Environmental Review Process\\D4 - Mitigation Monitoring Program\\EIR\\Kresge Final EIR chapters\\1 Executive Summary.pdf\n",
      "INFO - Processed file 338862 with tag D4 - Mitigation Monitoring Program\n",
      "INFO - Added tag D4 to file with hash 91adab5f83faa8811a51487849a42adc9524c6da\n",
      "INFO - Added tag D to file with hash 91adab5f83faa8811a51487849a42adc9524c6da\n",
      "INFO - Processing file number 120 of 202: 338974\n",
      "INFO - Found file 338974 at N:\\PPDO\\Records\\32xx   Kresge College (College 6)\\3238\\3238\\D - Environmental Review Process\\D3 - CEQA Documentation\\D.3 CEQA MITIGATIONS\\EIR\\Kresge Draft EIR chapters\\6 Alternatives.pdf\n",
      "WARNING - File 338974 does not match tag D4 - Mitigation Monitoring Program in its location directories\n",
      "INFO - Found file 338974 at N:\\PPDO\\Records\\32xx   Kresge College (College 6)\\3238\\3238\\D - Environmental Review Process\\D4 - Mitigation Monitoring Program\\EIR\\Kresge Draft EIR chapters\\6 Alternatives.pdf\n",
      "INFO - Processed file 338974 with tag D4 - Mitigation Monitoring Program\n",
      "INFO - Added tag D4 to file with hash 2ded6b23047e86465b0a4fc12420c56da843cf2f\n",
      "INFO - Added tag D to file with hash 2ded6b23047e86465b0a4fc12420c56da843cf2f\n",
      "INFO - Processing file number 121 of 202: 214866\n",
      "INFO - Found file 214866 at N:\\PPDO\\Records\\21xx   Central Heating Plant (Fackler Cogeneration)\\2113\\2113\\D - Environmental Review Process\\D4 - Mitigation Monitoring Program\\THP # 1-12-002 SCR WCR.pdf\n",
      "INFO - Processed file 214866 with tag D4 - Mitigation Monitoring Program\n",
      "INFO - Added tag D4 to file with hash 1f0f7c631240621cfea321d012bf3f0f82a24e6c\n",
      "INFO - Added tag D to file with hash 1f0f7c631240621cfea321d012bf3f0f82a24e6c\n",
      "INFO - Processing file number 122 of 202: 790872\n",
      "INFO - Found file 790872 at N:\\PPDO\\Records\\49xx   Long Marine Lab\\4932\\4932\\D - Environmental Review Process\\D4 - Mitigation Monitoring Program\\4932 D4. Approval of Additional Biologists 06-23-2015.pdf\n"
     ]
    },
    {
     "data": {
      "application/vnd.jupyter.widget-view+json": {
       "model_id": "7e9a7f908c05434faf4b0d68c0eac200",
       "version_major": 2,
       "version_minor": 0
      },
      "text/plain": [
       "Output()"
      ]
     },
     "metadata": {},
     "output_type": "display_data"
    },
    {
     "data": {
      "text/html": [
       "<pre style=\"white-space:pre;overflow-x:auto;line-height:normal;font-family:Menlo,'DejaVu Sans Mono',consolas,'Courier New',monospace\"></pre>\n"
      ],
      "text/plain": []
     },
     "metadata": {},
     "output_type": "display_data"
    },
    {
     "data": {
      "application/vnd.jupyter.widget-view+json": {
       "model_id": "0f60bfc0d9764db2b43346d1ef039756",
       "version_major": 2,
       "version_minor": 0
      },
      "text/plain": [
       "Output()"
      ]
     },
     "metadata": {},
     "output_type": "display_data"
    },
    {
     "data": {
      "text/html": [
       "<pre style=\"white-space:pre;overflow-x:auto;line-height:normal;font-family:Menlo,'DejaVu Sans Mono',consolas,'Courier New',monospace\">[tesseract] lots of diacritics - possibly poor OCR\n",
       "</pre>\n"
      ],
      "text/plain": [
       "[tesseract] lots of diacritics - possibly poor OCR\n"
      ]
     },
     "metadata": {},
     "output_type": "display_data"
    },
    {
     "data": {
      "text/html": [
       "<pre style=\"white-space:pre;overflow-x:auto;line-height:normal;font-family:Menlo,'DejaVu Sans Mono',consolas,'Courier New',monospace\"></pre>\n"
      ],
      "text/plain": []
     },
     "metadata": {},
     "output_type": "display_data"
    },
    {
     "data": {
      "application/vnd.jupyter.widget-view+json": {
       "model_id": "88d0b5337e6e41f686ac290331c08561",
       "version_major": 2,
       "version_minor": 0
      },
      "text/plain": [
       "Output()"
      ]
     },
     "metadata": {},
     "output_type": "display_data"
    },
    {
     "data": {
      "text/html": [
       "<pre style=\"white-space:pre;overflow-x:auto;line-height:normal;font-family:Menlo,'DejaVu Sans Mono',consolas,'Courier New',monospace\"></pre>\n"
      ],
      "text/plain": []
     },
     "metadata": {},
     "output_type": "display_data"
    },
    {
     "data": {
      "application/vnd.jupyter.widget-view+json": {
       "model_id": "19ee2c994d08401b92d6150d2d9a98f8",
       "version_major": 2,
       "version_minor": 0
      },
      "text/plain": [
       "Output()"
      ]
     },
     "metadata": {},
     "output_type": "display_data"
    },
    {
     "data": {
      "text/html": [
       "<pre style=\"white-space:pre;overflow-x:auto;line-height:normal;font-family:Menlo,'DejaVu Sans Mono',consolas,'Courier New',monospace\"></pre>\n"
      ],
      "text/plain": []
     },
     "metadata": {},
     "output_type": "display_data"
    },
    {
     "data": {
      "application/vnd.jupyter.widget-view+json": {
       "model_id": "2d8d32e217fa45128f5f4d6ca393e134",
       "version_major": 2,
       "version_minor": 0
      },
      "text/plain": [
       "Output()"
      ]
     },
     "metadata": {},
     "output_type": "display_data"
    },
    {
     "data": {
      "text/html": [
       "<pre style=\"white-space:pre;overflow-x:auto;line-height:normal;font-family:Menlo,'DejaVu Sans Mono',consolas,'Courier New',monospace\"></pre>\n"
      ],
      "text/plain": []
     },
     "metadata": {},
     "output_type": "display_data"
    },
    {
     "data": {
      "application/vnd.jupyter.widget-view+json": {
       "model_id": "be634d1bf7b243578ee518fd4853084c",
       "version_major": 2,
       "version_minor": 0
      },
      "text/plain": [
       "Output()"
      ]
     },
     "metadata": {},
     "output_type": "display_data"
    },
    {
     "data": {
      "text/html": [
       "<pre style=\"white-space:pre;overflow-x:auto;line-height:normal;font-family:Menlo,'DejaVu Sans Mono',consolas,'Courier New',monospace\"></pre>\n"
      ],
      "text/plain": []
     },
     "metadata": {},
     "output_type": "display_data"
    },
    {
     "name": "stderr",
     "output_type": "stream",
     "text": [
      "The output file size is 6.12× larger than the input file.\n",
      "Possible reasons for this include:\n",
      "--deskew was issued, causing transcoding.\n",
      "The optional dependency 'jbig2' was not found, so some image optimizations could not be attempted.\n",
      "The optional dependency 'pngquant' was not found, so some image optimizations could not be attempted.\n",
      "\n",
      "INFO - Processed file 790872 with tag D4 - Mitigation Monitoring Program\n",
      "INFO - Added tag D4 to file with hash 589dee1308be49d4e96311122f427444c217de9d\n",
      "INFO - Added tag D to file with hash 589dee1308be49d4e96311122f427444c217de9d\n",
      "INFO - Processing file number 123 of 202: 214864\n",
      "INFO - Found file 214864 at N:\\PPDO\\Records\\21xx   Central Heating Plant (Fackler Cogeneration)\\2113\\2113\\D - Environmental Review Process\\D4 - Mitigation Monitoring Program\\Laabs email CRLF monitoring not needed.pdf\n",
      "INFO - Processed file 214864 with tag D4 - Mitigation Monitoring Program\n",
      "INFO - Added tag D4 to file with hash bef81d36e96a83ce0e2867a3430c86155b1cb214\n",
      "INFO - Added tag D to file with hash bef81d36e96a83ce0e2867a3430c86155b1cb214\n",
      "INFO - Processing file number 124 of 202: 338976\n",
      "INFO - Found file 338976 at N:\\PPDO\\Records\\32xx   Kresge College (College 6)\\3238\\3238\\D - Environmental Review Process\\D3 - CEQA Documentation\\D.3 CEQA MITIGATIONS\\Mitigation Monitoring Checklists\\Kresge alias\n",
      "WARNING - File 338976 does not match tag D4 - Mitigation Monitoring Program in its location directories\n",
      "INFO - Found file 338976 at N:\\PPDO\\Records\\32xx   Kresge College (College 6)\\3238\\3238\\D - Environmental Review Process\\D4 - Mitigation Monitoring Program\\Mitigation Monitoring Checklists\\Kresge alias\n",
      "No extractor found for file extension: \n",
      "WARNING - Text length for file 338976 is 0:\n",
      "\n",
      "INFO - Processing file number 125 of 202: 944751\n",
      "INFO - Found file 944751 at N:\\PPDO\\Records\\30xx   Porter College (College 5)\\3048\\3048\\D - Environmental Review Process\\D4 - Mitigation Monitoring Program\\Porter A  Mitigation checklist final.xls\n",
      "INFO - Processed file 944751 with tag D4 - Mitigation Monitoring Program\n",
      "INFO - Added tag D4 to file with hash aed06515027d2149985415c9581f9cfe06888e85\n",
      "INFO - Added tag D to file with hash aed06515027d2149985415c9581f9cfe06888e85\n",
      "INFO - Processing file number 126 of 202: 790889\n",
      "INFO - Found file 790889 at N:\\PPDO\\Records\\49xx   Long Marine Lab\\4932\\4932\\D - Environmental Review Process\\D4 - Mitigation Monitoring Program\\UCSC FINAL Final Compliance Report REV (05-17-2019).pdf\n",
      "INFO - Processed file 790889 with tag D4 - Mitigation Monitoring Program\n",
      "INFO - Added tag D4 to file with hash 54ae3fa5436480e5c074182b2e89d640d016c0b6\n",
      "INFO - Added tag D to file with hash 54ae3fa5436480e5c074182b2e89d640d016c0b6\n",
      "INFO - Processing file number 127 of 202: 790873\n",
      "INFO - Found file 790873 at N:\\PPDO\\Records\\49xx   Long Marine Lab\\4932\\4932\\D - Environmental Review Process\\D4 - Mitigation Monitoring Program\\Additional Noise Analysis 5-23-14.pdf\n",
      "INFO - Processed file 790873 with tag D4 - Mitigation Monitoring Program\n",
      "INFO - Added tag D4 to file with hash d8da970ff0562c49234a2a546930a2381a2df25c\n",
      "INFO - Added tag D to file with hash d8da970ff0562c49234a2a546930a2381a2df25c\n",
      "INFO - Processing file number 128 of 202: 489740\n",
      "INFO - Found file 489740 at N:\\PPDO\\Records\\55xx   College 9 & 10\\5502\\5502\\D - Environmental Review Process\\D4 - Mitigation Monitoring Program\\File 5502.D4 Stage Update.pdf\n"
     ]
    },
    {
     "data": {
      "application/vnd.jupyter.widget-view+json": {
       "model_id": "7361d096b34343dca8247e5a5dc0f481",
       "version_major": 2,
       "version_minor": 0
      },
      "text/plain": [
       "Output()"
      ]
     },
     "metadata": {},
     "output_type": "display_data"
    },
    {
     "data": {
      "text/html": [
       "<pre style=\"white-space:pre;overflow-x:auto;line-height:normal;font-family:Menlo,'DejaVu Sans Mono',consolas,'Courier New',monospace\"></pre>\n"
      ],
      "text/plain": []
     },
     "metadata": {},
     "output_type": "display_data"
    },
    {
     "data": {
      "application/vnd.jupyter.widget-view+json": {
       "model_id": "d1e545c42aaa4f70a2d1dedf54f39b0c",
       "version_major": 2,
       "version_minor": 0
      },
      "text/plain": [
       "Output()"
      ]
     },
     "metadata": {},
     "output_type": "display_data"
    },
    {
     "data": {
      "text/html": [
       "<pre style=\"white-space:pre;overflow-x:auto;line-height:normal;font-family:Menlo,'DejaVu Sans Mono',consolas,'Courier New',monospace\"></pre>\n"
      ],
      "text/plain": []
     },
     "metadata": {},
     "output_type": "display_data"
    },
    {
     "data": {
      "application/vnd.jupyter.widget-view+json": {
       "model_id": "4e5114c0392f4f0c895c7df1c515b457",
       "version_major": 2,
       "version_minor": 0
      },
      "text/plain": [
       "Output()"
      ]
     },
     "metadata": {},
     "output_type": "display_data"
    },
    {
     "data": {
      "text/html": [
       "<pre style=\"white-space:pre;overflow-x:auto;line-height:normal;font-family:Menlo,'DejaVu Sans Mono',consolas,'Courier New',monospace\"></pre>\n"
      ],
      "text/plain": []
     },
     "metadata": {},
     "output_type": "display_data"
    },
    {
     "data": {
      "application/vnd.jupyter.widget-view+json": {
       "model_id": "e62624b4258e4a268a296ce2e3c7c2e7",
       "version_major": 2,
       "version_minor": 0
      },
      "text/plain": [
       "Output()"
      ]
     },
     "metadata": {},
     "output_type": "display_data"
    },
    {
     "data": {
      "text/html": [
       "<pre style=\"white-space:pre;overflow-x:auto;line-height:normal;font-family:Menlo,'DejaVu Sans Mono',consolas,'Courier New',monospace\"></pre>\n"
      ],
      "text/plain": []
     },
     "metadata": {},
     "output_type": "display_data"
    },
    {
     "data": {
      "application/vnd.jupyter.widget-view+json": {
       "model_id": "fb5b43b0a4a84691b739a13d3d0ae2a1",
       "version_major": 2,
       "version_minor": 0
      },
      "text/plain": [
       "Output()"
      ]
     },
     "metadata": {},
     "output_type": "display_data"
    },
    {
     "data": {
      "text/html": [
       "<pre style=\"white-space:pre;overflow-x:auto;line-height:normal;font-family:Menlo,'DejaVu Sans Mono',consolas,'Courier New',monospace\"></pre>\n"
      ],
      "text/plain": []
     },
     "metadata": {},
     "output_type": "display_data"
    },
    {
     "data": {
      "application/vnd.jupyter.widget-view+json": {
       "model_id": "91a9b78c4f684ce3a0ea3eed9807ac8b",
       "version_major": 2,
       "version_minor": 0
      },
      "text/plain": [
       "Output()"
      ]
     },
     "metadata": {},
     "output_type": "display_data"
    },
    {
     "data": {
      "text/html": [
       "<pre style=\"white-space:pre;overflow-x:auto;line-height:normal;font-family:Menlo,'DejaVu Sans Mono',consolas,'Courier New',monospace\"></pre>\n"
      ],
      "text/plain": []
     },
     "metadata": {},
     "output_type": "display_data"
    },
    {
     "name": "stderr",
     "output_type": "stream",
     "text": [
      "The output file size is 9.70× larger than the input file.\n",
      "Possible reasons for this include:\n",
      "--deskew was issued, causing transcoding.\n",
      "The optional dependency 'jbig2' was not found, so some image optimizations could not be attempted.\n",
      "The optional dependency 'pngquant' was not found, so some image optimizations could not be attempted.\n",
      "\n",
      "INFO - Processed file 489740 with tag D4 - Mitigation Monitoring Program\n",
      "INFO - Added tag D4 to file with hash 8a4c3d132607b96c7ae67f393cff526ec12725a0\n",
      "INFO - Added tag D to file with hash 8a4c3d132607b96c7ae67f393cff526ec12725a0\n",
      "INFO - Processing file number 129 of 202: 790876\n",
      "INFO - Found file 790876 at N:\\PPDO\\Records\\49xx   Long Marine Lab\\4932\\4932\\D - Environmental Review Process\\D4 - Mitigation Monitoring Program\\CBB permit reporting matrix.xlsx\n",
      "INFO - Processed file 790876 with tag D4 - Mitigation Monitoring Program\n",
      "INFO - Added tag D4 to file with hash 724f990d93af8d8dd291e7e00d06797b0cba3247\n",
      "INFO - Added tag D to file with hash 724f990d93af8d8dd291e7e00d06797b0cba3247\n",
      "INFO - Processing file number 130 of 202: 474294\n",
      "INFO - Found file 474294 at N:\\PPDO\\Records\\52xx   Earth Marine Science Building\\5201\\5201\\D - Environmental Review Process\\D4 - Mitigation Monitoring Program\\5201.D4.LDRP Mitigation Program.pdf\n"
     ]
    },
    {
     "data": {
      "application/vnd.jupyter.widget-view+json": {
       "model_id": "3a5052cf5c71402da8976184198e0d53",
       "version_major": 2,
       "version_minor": 0
      },
      "text/plain": [
       "Output()"
      ]
     },
     "metadata": {},
     "output_type": "display_data"
    },
    {
     "data": {
      "text/html": [
       "<pre style=\"white-space:pre;overflow-x:auto;line-height:normal;font-family:Menlo,'DejaVu Sans Mono',consolas,'Courier New',monospace\"></pre>\n"
      ],
      "text/plain": []
     },
     "metadata": {},
     "output_type": "display_data"
    },
    {
     "data": {
      "application/vnd.jupyter.widget-view+json": {
       "model_id": "9989d6214cce4b59bb26c39c89f3d1f7",
       "version_major": 2,
       "version_minor": 0
      },
      "text/plain": [
       "Output()"
      ]
     },
     "metadata": {},
     "output_type": "display_data"
    },
    {
     "data": {
      "text/html": [
       "<pre style=\"white-space:pre;overflow-x:auto;line-height:normal;font-family:Menlo,'DejaVu Sans Mono',consolas,'Courier New',monospace\">[tesseract] lots of diacritics - possibly poor OCR\n",
       "</pre>\n"
      ],
      "text/plain": [
       "[tesseract] lots of diacritics - possibly poor OCR\n"
      ]
     },
     "metadata": {},
     "output_type": "display_data"
    },
    {
     "data": {
      "text/html": [
       "<pre style=\"white-space:pre;overflow-x:auto;line-height:normal;font-family:Menlo,'DejaVu Sans Mono',consolas,'Courier New',monospace\"></pre>\n"
      ],
      "text/plain": []
     },
     "metadata": {},
     "output_type": "display_data"
    },
    {
     "data": {
      "application/vnd.jupyter.widget-view+json": {
       "model_id": "f3ff6a902dfe4f408debcdb6e432ae4d",
       "version_major": 2,
       "version_minor": 0
      },
      "text/plain": [
       "Output()"
      ]
     },
     "metadata": {},
     "output_type": "display_data"
    },
    {
     "data": {
      "text/html": [
       "<pre style=\"white-space:pre;overflow-x:auto;line-height:normal;font-family:Menlo,'DejaVu Sans Mono',consolas,'Courier New',monospace\"></pre>\n"
      ],
      "text/plain": []
     },
     "metadata": {},
     "output_type": "display_data"
    },
    {
     "data": {
      "application/vnd.jupyter.widget-view+json": {
       "model_id": "054d61bd704b4dada4b4b9eba7fdf9a7",
       "version_major": 2,
       "version_minor": 0
      },
      "text/plain": [
       "Output()"
      ]
     },
     "metadata": {},
     "output_type": "display_data"
    },
    {
     "data": {
      "text/html": [
       "<pre style=\"white-space:pre;overflow-x:auto;line-height:normal;font-family:Menlo,'DejaVu Sans Mono',consolas,'Courier New',monospace\"></pre>\n"
      ],
      "text/plain": []
     },
     "metadata": {},
     "output_type": "display_data"
    },
    {
     "data": {
      "application/vnd.jupyter.widget-view+json": {
       "model_id": "cc1c7f1eac3744f992fea1fd38d66166",
       "version_major": 2,
       "version_minor": 0
      },
      "text/plain": [
       "Output()"
      ]
     },
     "metadata": {},
     "output_type": "display_data"
    },
    {
     "data": {
      "text/html": [
       "<pre style=\"white-space:pre;overflow-x:auto;line-height:normal;font-family:Menlo,'DejaVu Sans Mono',consolas,'Courier New',monospace\"></pre>\n"
      ],
      "text/plain": []
     },
     "metadata": {},
     "output_type": "display_data"
    },
    {
     "data": {
      "application/vnd.jupyter.widget-view+json": {
       "model_id": "7bece0c171fc4e6a92935aac7c854122",
       "version_major": 2,
       "version_minor": 0
      },
      "text/plain": [
       "Output()"
      ]
     },
     "metadata": {},
     "output_type": "display_data"
    },
    {
     "data": {
      "text/html": [
       "<pre style=\"white-space:pre;overflow-x:auto;line-height:normal;font-family:Menlo,'DejaVu Sans Mono',consolas,'Courier New',monospace\"></pre>\n"
      ],
      "text/plain": []
     },
     "metadata": {},
     "output_type": "display_data"
    },
    {
     "name": "stderr",
     "output_type": "stream",
     "text": [
      "The output file size is 5.71× larger than the input file.\n",
      "Possible reasons for this include:\n",
      "--deskew was issued, causing transcoding.\n",
      "The optional dependency 'jbig2' was not found, so some image optimizations could not be attempted.\n",
      "The optional dependency 'pngquant' was not found, so some image optimizations could not be attempted.\n",
      "\n",
      "INFO - Processed file 474294 with tag D4 - Mitigation Monitoring Program\n",
      "INFO - Added tag D4 to file with hash 9b0d2dea2063c8c4eda28efc3971f2e33e1678ea\n",
      "INFO - Added tag D to file with hash 9b0d2dea2063c8c4eda28efc3971f2e33e1678ea\n",
      "INFO - Processing file number 131 of 202: 579730\n",
      "INFO - Found file 579730 at N:\\PPDO\\Records\\85xx   Pedestrian Paths and Site Development\\8500\\8500-033\\D - Environmental Review Process\\D4 - Mitigation Monitoring Program\\2019 03 22 EMAIL - Vibration Monitoring Options.pdf\n",
      "INFO - Processed file 579730 with tag D4 - Mitigation Monitoring Program\n",
      "INFO - Added tag D4 to file with hash a2134a82bee7ac0dcd3ad5e26f4c2d3a79bbffae\n",
      "INFO - Added tag D to file with hash a2134a82bee7ac0dcd3ad5e26f4c2d3a79bbffae\n",
      "INFO - Processing file number 132 of 202: 179922\n",
      "INFO - Found file 179922 at N:\\PPDO\\Records\\18xx   Mc Henry Library Unit I\\1810\\1810\\D - Environmental Review Process\\D4 - Mitigation Monitoring Program\\CA Red-Legged Frog.pdf\n",
      "INFO - Processed file 179922 with tag D4 - Mitigation Monitoring Program\n",
      "INFO - Added tag D4 to file with hash b20fef53f6e97b402da62f45102df115aedba886\n",
      "INFO - Added tag D to file with hash b20fef53f6e97b402da62f45102df115aedba886\n",
      "INFO - Processing file number 133 of 202: 1114\n",
      "WARNING - File 1114 not found at N:\\PPDO\\Records\\14xx   Thimann Labs\\1400\\1400-093A Thimann Labs, Roof Repair Asbestos Abatement\\D - Environmental\\Mitigation Monitoring Program\\A212887_REP01.pdf\n",
      "INFO - Found file 1114 at N:\\PPDO\\Records\\14xx   Thimann Labs\\1400\\1400-093A\\D - Environmental Review Process\\D4 - Mitigation Monitoring Program\\A212887_REP01.pdf\n",
      "INFO - Processed file 1114 with tag D4 - Mitigation Monitoring Program\n",
      "INFO - Added tag D4 to file with hash a37243af251bda29100c6b0398b78094a191a240\n",
      "INFO - Added tag D to file with hash a37243af251bda29100c6b0398b78094a191a240\n",
      "INFO - Processing file number 134 of 202: 790885\n",
      "INFO - Found file 790885 at N:\\PPDO\\Records\\49xx   Long Marine Lab\\4932\\4932\\D - Environmental Review Process\\D4 - Mitigation Monitoring Program\\sample equipment list.pdf\n",
      "INFO - Processed file 790885 with tag D4 - Mitigation Monitoring Program\n",
      "INFO - Added tag D4 to file with hash e51e76a5ac8febd3d02e95f25bb1b150a5d7864e\n",
      "INFO - Added tag D to file with hash e51e76a5ac8febd3d02e95f25bb1b150a5d7864e\n",
      "INFO - Processing file number 135 of 202: 338971\n",
      "INFO - Found file 338971 at N:\\PPDO\\Records\\32xx   Kresge College (College 6)\\3238\\3238\\D - Environmental Review Process\\D3 - CEQA Documentation\\D.3 CEQA MITIGATIONS\\EIR\\Kresge Draft EIR chapters\\4.8 Geology and Soils.pdf\n",
      "WARNING - File 338971 does not match tag D4 - Mitigation Monitoring Program in its location directories\n",
      "INFO - Found file 338971 at N:\\PPDO\\Records\\32xx   Kresge College (College 6)\\3238\\3238\\D - Environmental Review Process\\D4 - Mitigation Monitoring Program\\EIR\\Kresge Draft EIR chapters\\4.8 Geology and Soils.pdf\n",
      "INFO - Processed file 338971 with tag D4 - Mitigation Monitoring Program\n",
      "INFO - Added tag D4 to file with hash 76bcf89a1b4491f1b7c0a0a21a88fdf710c641a8\n",
      "INFO - Added tag D to file with hash 76bcf89a1b4491f1b7c0a0a21a88fdf710c641a8\n",
      "INFO - Processing file number 136 of 202: 214869\n",
      "INFO - Found file 214869 at N:\\PPDO\\Records\\21xx   Central Heating Plant (Fackler Cogeneration)\\2113\\2113\\D - Environmental Review Process\\D4 - Mitigation Monitoring Program\\Timber Harvest & Conversion\\20120103_1-12-002SCR_Sec2.pdf\n"
     ]
    },
    {
     "data": {
      "application/vnd.jupyter.widget-view+json": {
       "model_id": "f5d9f2d46dea473798bc5e5312a39fd2",
       "version_major": 2,
       "version_minor": 0
      },
      "text/plain": [
       "Output()"
      ]
     },
     "metadata": {},
     "output_type": "display_data"
    },
    {
     "data": {
      "text/html": [
       "<pre style=\"white-space:pre;overflow-x:auto;line-height:normal;font-family:Menlo,'DejaVu Sans Mono',consolas,'Courier New',monospace\"></pre>\n"
      ],
      "text/plain": []
     },
     "metadata": {},
     "output_type": "display_data"
    },
    {
     "data": {
      "application/vnd.jupyter.widget-view+json": {
       "model_id": "7a7d6e3035e64f4ba1a0cd056a973458",
       "version_major": 2,
       "version_minor": 0
      },
      "text/plain": [
       "Output()"
      ]
     },
     "metadata": {},
     "output_type": "display_data"
    },
    {
     "data": {
      "text/html": [
       "<pre style=\"white-space:pre;overflow-x:auto;line-height:normal;font-family:Menlo,'DejaVu Sans Mono',consolas,'Courier New',monospace\">[tesseract] lots of diacritics - possibly poor OCR\n",
       "</pre>\n"
      ],
      "text/plain": [
       "[tesseract] lots of diacritics - possibly poor OCR\n"
      ]
     },
     "metadata": {},
     "output_type": "display_data"
    },
    {
     "data": {
      "text/html": [
       "<pre style=\"white-space:pre;overflow-x:auto;line-height:normal;font-family:Menlo,'DejaVu Sans Mono',consolas,'Courier New',monospace\">[tesseract] lots of diacritics - possibly poor OCR\n",
       "</pre>\n"
      ],
      "text/plain": [
       "[tesseract] lots of diacritics - possibly poor OCR\n"
      ]
     },
     "metadata": {},
     "output_type": "display_data"
    },
    {
     "data": {
      "text/html": [
       "<pre style=\"white-space:pre;overflow-x:auto;line-height:normal;font-family:Menlo,'DejaVu Sans Mono',consolas,'Courier New',monospace\">[tesseract] lots of diacritics - possibly poor OCR\n",
       "</pre>\n"
      ],
      "text/plain": [
       "[tesseract] lots of diacritics - possibly poor OCR\n"
      ]
     },
     "metadata": {},
     "output_type": "display_data"
    },
    {
     "data": {
      "text/html": [
       "<pre style=\"white-space:pre;overflow-x:auto;line-height:normal;font-family:Menlo,'DejaVu Sans Mono',consolas,'Courier New',monospace\">[tesseract] lots of diacritics - possibly poor OCR\n",
       "</pre>\n"
      ],
      "text/plain": [
       "[tesseract] lots of diacritics - possibly poor OCR\n"
      ]
     },
     "metadata": {},
     "output_type": "display_data"
    },
    {
     "data": {
      "text/html": [
       "<pre style=\"white-space:pre;overflow-x:auto;line-height:normal;font-family:Menlo,'DejaVu Sans Mono',consolas,'Courier New',monospace\">[tesseract] lots of diacritics - possibly poor OCR\n",
       "</pre>\n"
      ],
      "text/plain": [
       "[tesseract] lots of diacritics - possibly poor OCR\n"
      ]
     },
     "metadata": {},
     "output_type": "display_data"
    },
    {
     "data": {
      "text/html": [
       "<pre style=\"white-space:pre;overflow-x:auto;line-height:normal;font-family:Menlo,'DejaVu Sans Mono',consolas,'Courier New',monospace\">[tesseract] lots of diacritics - possibly poor OCR\n",
       "</pre>\n"
      ],
      "text/plain": [
       "[tesseract] lots of diacritics - possibly poor OCR\n"
      ]
     },
     "metadata": {},
     "output_type": "display_data"
    },
    {
     "data": {
      "text/html": [
       "<pre style=\"white-space:pre;overflow-x:auto;line-height:normal;font-family:Menlo,'DejaVu Sans Mono',consolas,'Courier New',monospace\">[tesseract] lots of diacritics - possibly poor OCR\n",
       "</pre>\n"
      ],
      "text/plain": [
       "[tesseract] lots of diacritics - possibly poor OCR\n"
      ]
     },
     "metadata": {},
     "output_type": "display_data"
    },
    {
     "data": {
      "text/html": [
       "<pre style=\"white-space:pre;overflow-x:auto;line-height:normal;font-family:Menlo,'DejaVu Sans Mono',consolas,'Courier New',monospace\"></pre>\n"
      ],
      "text/plain": []
     },
     "metadata": {},
     "output_type": "display_data"
    },
    {
     "data": {
      "application/vnd.jupyter.widget-view+json": {
       "model_id": "208b7ec8d0f8472bbef6847a1fbb5574",
       "version_major": 2,
       "version_minor": 0
      },
      "text/plain": [
       "Output()"
      ]
     },
     "metadata": {},
     "output_type": "display_data"
    },
    {
     "data": {
      "text/html": [
       "<pre style=\"white-space:pre;overflow-x:auto;line-height:normal;font-family:Menlo,'DejaVu Sans Mono',consolas,'Courier New',monospace\"></pre>\n"
      ],
      "text/plain": []
     },
     "metadata": {},
     "output_type": "display_data"
    },
    {
     "data": {
      "application/vnd.jupyter.widget-view+json": {
       "model_id": "fd22bbaa43884283a4951695e2a4a9ef",
       "version_major": 2,
       "version_minor": 0
      },
      "text/plain": [
       "Output()"
      ]
     },
     "metadata": {},
     "output_type": "display_data"
    },
    {
     "data": {
      "text/html": [
       "<pre style=\"white-space:pre;overflow-x:auto;line-height:normal;font-family:Menlo,'DejaVu Sans Mono',consolas,'Courier New',monospace\"></pre>\n"
      ],
      "text/plain": []
     },
     "metadata": {},
     "output_type": "display_data"
    },
    {
     "data": {
      "application/vnd.jupyter.widget-view+json": {
       "model_id": "28760856a9594e94bd364728154f1c6c",
       "version_major": 2,
       "version_minor": 0
      },
      "text/plain": [
       "Output()"
      ]
     },
     "metadata": {},
     "output_type": "display_data"
    },
    {
     "data": {
      "text/html": [
       "<pre style=\"white-space:pre;overflow-x:auto;line-height:normal;font-family:Menlo,'DejaVu Sans Mono',consolas,'Courier New',monospace\"></pre>\n"
      ],
      "text/plain": []
     },
     "metadata": {},
     "output_type": "display_data"
    },
    {
     "data": {
      "application/vnd.jupyter.widget-view+json": {
       "model_id": "94c988bb02ca465b9becff40fcfef8df",
       "version_major": 2,
       "version_minor": 0
      },
      "text/plain": [
       "Output()"
      ]
     },
     "metadata": {},
     "output_type": "display_data"
    },
    {
     "data": {
      "text/html": [
       "<pre style=\"white-space:pre;overflow-x:auto;line-height:normal;font-family:Menlo,'DejaVu Sans Mono',consolas,'Courier New',monospace\"></pre>\n"
      ],
      "text/plain": []
     },
     "metadata": {},
     "output_type": "display_data"
    },
    {
     "name": "stderr",
     "output_type": "stream",
     "text": [
      "INFO - Processed file 214869 with tag D4 - Mitigation Monitoring Program\n",
      "INFO - Added tag D4 to file with hash ce41f3346792554b7eb819548e6fc2571f6fff96\n",
      "INFO - Added tag D to file with hash ce41f3346792554b7eb819548e6fc2571f6fff96\n",
      "INFO - Processing file number 137 of 202: 579728\n",
      "INFO - Found file 579728 at N:\\PPDO\\Records\\85xx   Pedestrian Paths and Site Development\\8500\\8500-033\\D - Environmental Review Process\\D4 - Mitigation Monitoring Program\\20.07.09 8500-033 Grassland Seeding & Monitoring.pdf\n",
      "INFO - Processed file 579728 with tag D4 - Mitigation Monitoring Program\n",
      "INFO - Added tag D4 to file with hash a618568bed22aac0c1703273e9fd860f6226b676\n",
      "INFO - Added tag D to file with hash a618568bed22aac0c1703273e9fd860f6226b676\n",
      "INFO - Processing file number 138 of 202: 214872\n",
      "INFO - Found file 214872 at N:\\PPDO\\Records\\21xx   Central Heating Plant (Fackler Cogeneration)\\2113\\2113\\D - Environmental Review Process\\D4 - Mitigation Monitoring Program\\Timber Harvest & Conversion\\doh1000.pdf\n"
     ]
    },
    {
     "data": {
      "application/vnd.jupyter.widget-view+json": {
       "model_id": "a6089361137f4dc6b26a7a73122efd15",
       "version_major": 2,
       "version_minor": 0
      },
      "text/plain": [
       "Output()"
      ]
     },
     "metadata": {},
     "output_type": "display_data"
    },
    {
     "data": {
      "text/html": [
       "<pre style=\"white-space:pre;overflow-x:auto;line-height:normal;font-family:Menlo,'DejaVu Sans Mono',consolas,'Courier New',monospace\"></pre>\n"
      ],
      "text/plain": []
     },
     "metadata": {},
     "output_type": "display_data"
    },
    {
     "data": {
      "application/vnd.jupyter.widget-view+json": {
       "model_id": "da3ab5f97a594aadb6ea073699ae485f",
       "version_major": 2,
       "version_minor": 0
      },
      "text/plain": [
       "Output()"
      ]
     },
     "metadata": {},
     "output_type": "display_data"
    },
    {
     "data": {
      "text/html": [
       "<pre style=\"white-space:pre;overflow-x:auto;line-height:normal;font-family:Menlo,'DejaVu Sans Mono',consolas,'Courier New',monospace\"></pre>\n"
      ],
      "text/plain": []
     },
     "metadata": {},
     "output_type": "display_data"
    },
    {
     "data": {
      "application/vnd.jupyter.widget-view+json": {
       "model_id": "ecb921b081034aa59feb3da7bbce1fbd",
       "version_major": 2,
       "version_minor": 0
      },
      "text/plain": [
       "Output()"
      ]
     },
     "metadata": {},
     "output_type": "display_data"
    },
    {
     "data": {
      "text/html": [
       "<pre style=\"white-space:pre;overflow-x:auto;line-height:normal;font-family:Menlo,'DejaVu Sans Mono',consolas,'Courier New',monospace\"></pre>\n"
      ],
      "text/plain": []
     },
     "metadata": {},
     "output_type": "display_data"
    },
    {
     "data": {
      "application/vnd.jupyter.widget-view+json": {
       "model_id": "1fb169fd75b34ce6a89f08ecd403fa3c",
       "version_major": 2,
       "version_minor": 0
      },
      "text/plain": [
       "Output()"
      ]
     },
     "metadata": {},
     "output_type": "display_data"
    },
    {
     "data": {
      "text/html": [
       "<pre style=\"white-space:pre;overflow-x:auto;line-height:normal;font-family:Menlo,'DejaVu Sans Mono',consolas,'Courier New',monospace\"></pre>\n"
      ],
      "text/plain": []
     },
     "metadata": {},
     "output_type": "display_data"
    },
    {
     "data": {
      "application/vnd.jupyter.widget-view+json": {
       "model_id": "cbaa10037ab6401686e519a4a23277ad",
       "version_major": 2,
       "version_minor": 0
      },
      "text/plain": [
       "Output()"
      ]
     },
     "metadata": {},
     "output_type": "display_data"
    },
    {
     "data": {
      "text/html": [
       "<pre style=\"white-space:pre;overflow-x:auto;line-height:normal;font-family:Menlo,'DejaVu Sans Mono',consolas,'Courier New',monospace\"></pre>\n"
      ],
      "text/plain": []
     },
     "metadata": {},
     "output_type": "display_data"
    },
    {
     "data": {
      "application/vnd.jupyter.widget-view+json": {
       "model_id": "45850a6a455940bd8962d8352ba3dc5d",
       "version_major": 2,
       "version_minor": 0
      },
      "text/plain": [
       "Output()"
      ]
     },
     "metadata": {},
     "output_type": "display_data"
    },
    {
     "data": {
      "text/html": [
       "<pre style=\"white-space:pre;overflow-x:auto;line-height:normal;font-family:Menlo,'DejaVu Sans Mono',consolas,'Courier New',monospace\"></pre>\n"
      ],
      "text/plain": []
     },
     "metadata": {},
     "output_type": "display_data"
    },
    {
     "name": "stderr",
     "output_type": "stream",
     "text": [
      "The output file size is 12.44× larger than the input file.\n",
      "Possible reasons for this include:\n",
      "--deskew was issued, causing transcoding.\n",
      "The optional dependency 'jbig2' was not found, so some image optimizations could not be attempted.\n",
      "The optional dependency 'pngquant' was not found, so some image optimizations could not be attempted.\n",
      "\n",
      "INFO - Processed file 214872 with tag D4 - Mitigation Monitoring Program\n",
      "INFO - Added tag D4 to file with hash 8034abce0e07eb41364c3e6f8fdf7c72f509e22a\n",
      "INFO - Added tag D to file with hash 8034abce0e07eb41364c3e6f8fdf7c72f509e22a\n",
      "INFO - Processing file number 139 of 202: 338968\n",
      "INFO - Found file 338968 at N:\\PPDO\\Records\\32xx   Kresge College (College 6)\\3238\\3238\\D - Environmental Review Process\\D3 - CEQA Documentation\\D.3 CEQA MITIGATIONS\\EIR\\Kresge Draft EIR chapters\\4.5 Climate Change GHG Emissions.pdf\n",
      "WARNING - File 338968 does not match tag D4 - Mitigation Monitoring Program in its location directories\n",
      "INFO - Found file 338968 at N:\\PPDO\\Records\\32xx   Kresge College (College 6)\\3238\\3238\\D - Environmental Review Process\\D4 - Mitigation Monitoring Program\\EIR\\Kresge Draft EIR chapters\\4.5 Climate Change GHG Emissions.pdf\n",
      "INFO - Processed file 338968 with tag D4 - Mitigation Monitoring Program\n",
      "INFO - Added tag D4 to file with hash e1401a886a60b7e9bcce5e9a29c93322728581cd\n",
      "INFO - Added tag D to file with hash e1401a886a60b7e9bcce5e9a29c93322728581cd\n",
      "INFO - Processing file number 140 of 202: 256526\n",
      "INFO - Found file 256526 at N:\\PPDO\\Records\\26xx   Merrill College (College 4)\\2636\\2636 - Merrill Phase 2\\D - Environmental Review Process\\D4 - Mitigation Monitoring Program\\11044_Preliminary Drainage Calculations-CEQA-1.pdf\n",
      "INFO - Processed file 256526 with tag D4 - Mitigation Monitoring Program\n",
      "INFO - Added tag D4 to file with hash 04e17f2d6d6fbf2cf675bed829522aa643f5a876\n",
      "INFO - Added tag D to file with hash 04e17f2d6d6fbf2cf675bed829522aa643f5a876\n",
      "INFO - Processing file number 141 of 202: 492222\n",
      "INFO - Found file 492222 at N:\\PPDO\\Records\\55xx   College 9 & 10\\5507\\5507\\D4 - Mitigation Monitoring Program\\File 5507 D4 Project Specific LRDP Mitigation Measure (2).pdf\n",
      "INFO - Processed file 492222 with tag D4 - Mitigation Monitoring Program\n",
      "INFO - Added tag D4 to file with hash 76c4f7a6daf630e86fd2617b99f140ff12364c09\n",
      "INFO - Added tag D to file with hash 76c4f7a6daf630e86fd2617b99f140ff12364c09\n",
      "INFO - Processing file number 142 of 202: 318323\n",
      "INFO - Found file 318323 at N:\\PPDO\\Records\\30xx   Porter College (College 5)\\3045\\3045-001\\D - Environmental Review Process\\D4 - Mitigation Monitoring Program\\3045-001.D4.Bayview Enviormental Services Respitory Protection Program.pdf\n"
     ]
    },
    {
     "data": {
      "application/vnd.jupyter.widget-view+json": {
       "model_id": "938e5f1b464e41648c98eedf414e760d",
       "version_major": 2,
       "version_minor": 0
      },
      "text/plain": [
       "Output()"
      ]
     },
     "metadata": {},
     "output_type": "display_data"
    },
    {
     "data": {
      "text/html": [
       "<pre style=\"white-space:pre;overflow-x:auto;line-height:normal;font-family:Menlo,'DejaVu Sans Mono',consolas,'Courier New',monospace\"></pre>\n"
      ],
      "text/plain": []
     },
     "metadata": {},
     "output_type": "display_data"
    },
    {
     "data": {
      "application/vnd.jupyter.widget-view+json": {
       "model_id": "9efcac0907ee4e94ba8be476db886a82",
       "version_major": 2,
       "version_minor": 0
      },
      "text/plain": [
       "Output()"
      ]
     },
     "metadata": {},
     "output_type": "display_data"
    },
    {
     "data": {
      "text/html": [
       "<pre style=\"white-space:pre;overflow-x:auto;line-height:normal;font-family:Menlo,'DejaVu Sans Mono',consolas,'Courier New',monospace\">[tesseract] Error during processing.\n",
       "</pre>\n"
      ],
      "text/plain": [
       "[tesseract] Error during processing.\n"
      ]
     },
     "metadata": {},
     "output_type": "display_data"
    },
    {
     "data": {
      "text/html": [
       "<pre style=\"white-space:pre;overflow-x:auto;line-height:normal;font-family:Menlo,'DejaVu Sans Mono',consolas,'Courier New',monospace\">[tesseract] Error during processing.\n",
       "</pre>\n"
      ],
      "text/plain": [
       "[tesseract] Error during processing.\n"
      ]
     },
     "metadata": {},
     "output_type": "display_data"
    },
    {
     "data": {
      "text/html": [
       "<pre style=\"white-space:pre;overflow-x:auto;line-height:normal;font-family:Menlo,'DejaVu Sans Mono',consolas,'Courier New',monospace\"></pre>\n"
      ],
      "text/plain": []
     },
     "metadata": {},
     "output_type": "display_data"
    },
    {
     "ename": "KeyboardInterrupt",
     "evalue": "",
     "output_type": "error",
     "traceback": [
      "\u001b[31m---------------------------------------------------------------------------\u001b[39m",
      "\u001b[31mKeyboardInterrupt\u001b[39m                         Traceback (most recent call last)",
      "\u001b[36mCell\u001b[39m\u001b[36m \u001b[39m\u001b[32mIn[2]\u001b[39m\u001b[32m, line 181\u001b[39m\n\u001b[32m    179\u001b[39m extractor = get_extractor_for_file(temp_filepath, extractors_list)\n\u001b[32m    180\u001b[39m \u001b[38;5;28;01mif\u001b[39;00m extractor:\n\u001b[32m--> \u001b[39m\u001b[32m181\u001b[39m     text = \u001b[43mextractor\u001b[49m\u001b[43m(\u001b[49m\u001b[43mtemp_filepath\u001b[49m\u001b[43m)\u001b[49m\n\u001b[32m    182\u001b[39m \u001b[38;5;28;01melse\u001b[39;00m:\n\u001b[32m    183\u001b[39m     text = tika_extractor(temp_filepath)  \u001b[38;5;66;03m# Fallback to Tika extractor\u001b[39;00m\n",
      "\u001b[36mFile \u001b[39m\u001b[32mc:\\Users\\adankert\\projects\\file_code_tagger\\text_extraction\\pdf_extraction.py:340\u001b[39m, in \u001b[36mPDFTextExtractor.__call__\u001b[39m\u001b[34m(self, pdf_filepath)\u001b[39m\n\u001b[32m    338\u001b[39m     data = pdf.path.read_bytes()\n\u001b[32m    339\u001b[39m     doc = fitz.open(stream=data, filetype=\u001b[33m\"\u001b[39m\u001b[33mpdf\u001b[39m\u001b[33m\"\u001b[39m)\n\u001b[32m--> \u001b[39m\u001b[32m340\u001b[39m     extracted_text = \u001b[38;5;28;43mself\u001b[39;49m\u001b[43m.\u001b[49m\u001b[43m_fitz_doc_text\u001b[49m\u001b[43m(\u001b[49m\u001b[43mfitz_doc\u001b[49m\u001b[43m=\u001b[49m\u001b[43mdoc\u001b[49m\u001b[43m,\u001b[49m\u001b[43m \u001b[49m\u001b[43mpdf_document\u001b[49m\u001b[43m=\u001b[49m\u001b[43mpdf\u001b[49m\u001b[43m)\u001b[49m\n\u001b[32m    341\u001b[39m     doc.close()\n\u001b[32m    343\u001b[39m \u001b[38;5;28;01melse\u001b[39;00m:\n",
      "\u001b[36mFile \u001b[39m\u001b[32mc:\\Users\\adankert\\projects\\file_code_tagger\\text_extraction\\pdf_extraction.py:304\u001b[39m, in \u001b[36mPDFTextExtractor._fitz_doc_text\u001b[39m\u001b[34m(self, fitz_doc, pdf_document)\u001b[39m\n\u001b[32m    301\u001b[39m \u001b[38;5;28;01mif\u001b[39;00m \u001b[38;5;129;01mnot\u001b[39;00m ocr_params.get(\u001b[33m'\u001b[39m\u001b[33mmax_image_mpixels\u001b[39m\u001b[33m'\u001b[39m, \u001b[38;5;28;01mNone\u001b[39;00m):\n\u001b[32m    302\u001b[39m     ocr_params[\u001b[33m'\u001b[39m\u001b[33mmax_image_mpixels\u001b[39m\u001b[33m'\u001b[39m] = \u001b[32m1000\u001b[39m \u001b[38;5;28;01mif\u001b[39;00m pdf_document.has_large_format \u001b[38;5;28;01melse\u001b[39;00m \u001b[32m300\u001b[39m\n\u001b[32m--> \u001b[39m\u001b[32m304\u001b[39m pdf_text = \u001b[38;5;28;43mself\u001b[39;49m\u001b[43m.\u001b[49m\u001b[43mextract_text_with_ocr\u001b[49m\u001b[43m(\u001b[49m\u001b[43mpdf_path\u001b[49m\u001b[43m=\u001b[49m\u001b[43mpdf_document\u001b[49m\u001b[43m.\u001b[49m\u001b[43mpath\u001b[49m\u001b[43m,\u001b[49m\u001b[43m \u001b[49m\u001b[43mocr_params\u001b[49m\u001b[43m=\u001b[49m\u001b[43mocr_params\u001b[49m\u001b[43m)\u001b[49m\n\u001b[32m    306\u001b[39m \u001b[38;5;28;01mreturn\u001b[39;00m pdf_text\n",
      "\u001b[36mFile \u001b[39m\u001b[32mc:\\Users\\adankert\\projects\\file_code_tagger\\text_extraction\\pdf_extraction.py:261\u001b[39m, in \u001b[36mPDFTextExtractor.extract_text_with_ocr\u001b[39m\u001b[34m(pdf_path, ocr_params)\u001b[39m\n\u001b[32m    259\u001b[39m params[\u001b[33m'\u001b[39m\u001b[33minput_file\u001b[39m\u001b[33m'\u001b[39m] = pdf_path\n\u001b[32m    260\u001b[39m params[\u001b[33m'\u001b[39m\u001b[33moutput_file\u001b[39m\u001b[33m'\u001b[39m] = output_pdf_path\n\u001b[32m--> \u001b[39m\u001b[32m261\u001b[39m \u001b[43mocrmypdf\u001b[49m\u001b[43m.\u001b[49m\u001b[43mocr\u001b[49m\u001b[43m(\u001b[49m\u001b[43m*\u001b[49m\u001b[43m*\u001b[49m\u001b[43mparams\u001b[49m\u001b[43m)\u001b[49m\n\u001b[32m    262\u001b[39m logger.debug(\u001b[33mf\u001b[39m\u001b[33m\"\u001b[39m\u001b[33mOCR completed, reading text from generated PDF\u001b[39m\u001b[33m\"\u001b[39m)\n\u001b[32m    264\u001b[39m \u001b[38;5;28;01mwith\u001b[39;00m fitz.open(output_pdf_path) \u001b[38;5;28;01mas\u001b[39;00m doc:\n",
      "\u001b[36mFile \u001b[39m\u001b[32mc:\\Users\\adankert\\projects\\file_code_tagger\\.venv\\Lib\\site-packages\\ocrmypdf\\api.py:380\u001b[39m, in \u001b[36mocr\u001b[39m\u001b[34m(input_file, output_file, language, image_dpi, output_type, sidecar, jobs, use_threads, title, author, subject, keywords, rotate_pages, remove_background, deskew, clean, clean_final, unpaper_args, oversample, remove_vectors, force_ocr, skip_text, redo_ocr, skip_big, optimize, jpg_quality, png_quality, jbig2_lossy, jbig2_page_group_size, jbig2_threshold, pages, max_image_mpixels, tesseract_config, tesseract_pagesegmode, tesseract_oem, tesseract_thresholding, pdf_renderer, tesseract_timeout, tesseract_non_ocr_timeout, tesseract_downsample_above, tesseract_downsample_large_images, rotate_pages_threshold, pdfa_image_compression, color_conversion_strategy, user_words, user_patterns, fast_web_view, continue_on_soft_render_error, invalidate_digital_signatures, plugins, plugin_manager, keep_temporary_files, progress_bar, **kwargs)\u001b[39m\n\u001b[32m    373\u001b[39m options = create_options(\n\u001b[32m    374\u001b[39m     input_file=input_file,\n\u001b[32m    375\u001b[39m     output_file=output_file,\n\u001b[32m    376\u001b[39m     parser=parser,\n\u001b[32m    377\u001b[39m     **create_options_kwargs,\n\u001b[32m    378\u001b[39m )\n\u001b[32m    379\u001b[39m check_options(options, plugin_manager)\n\u001b[32m--> \u001b[39m\u001b[32m380\u001b[39m \u001b[38;5;28;01mreturn\u001b[39;00m \u001b[43mrun_pipeline\u001b[49m\u001b[43m(\u001b[49m\u001b[43moptions\u001b[49m\u001b[43m=\u001b[49m\u001b[43moptions\u001b[49m\u001b[43m,\u001b[49m\u001b[43m \u001b[49m\u001b[43mplugin_manager\u001b[49m\u001b[43m=\u001b[49m\u001b[43mplugin_manager\u001b[49m\u001b[43m)\u001b[49m\n",
      "\u001b[36mFile \u001b[39m\u001b[32mc:\\Users\\adankert\\projects\\file_code_tagger\\.venv\\Lib\\site-packages\\ocrmypdf\\_pipelines\\ocr.py:214\u001b[39m, in \u001b[36mrun_pipeline\u001b[39m\u001b[34m(options, plugin_manager)\u001b[39m\n\u001b[32m    202\u001b[39m \u001b[38;5;28;01mdef\u001b[39;00m\u001b[38;5;250m \u001b[39m\u001b[34mrun_pipeline\u001b[39m(\n\u001b[32m    203\u001b[39m     options: argparse.Namespace,\n\u001b[32m    204\u001b[39m     *,\n\u001b[32m    205\u001b[39m     plugin_manager: OcrmypdfPluginManager,\n\u001b[32m    206\u001b[39m ) -> ExitCode:\n\u001b[32m    207\u001b[39m \u001b[38;5;250m    \u001b[39m\u001b[33;03m\"\"\"Run the OCR pipeline without command line exception handling.\u001b[39;00m\n\u001b[32m    208\u001b[39m \n\u001b[32m    209\u001b[39m \u001b[33;03m    Args:\u001b[39;00m\n\u001b[32m   (...)\u001b[39m\u001b[32m    212\u001b[39m \u001b[33;03m            created.\u001b[39;00m\n\u001b[32m    213\u001b[39m \u001b[33;03m    \"\"\"\u001b[39;00m\n\u001b[32m--> \u001b[39m\u001b[32m214\u001b[39m     \u001b[38;5;28;01mreturn\u001b[39;00m \u001b[43m_run_pipeline\u001b[49m\u001b[43m(\u001b[49m\u001b[43moptions\u001b[49m\u001b[43m,\u001b[49m\u001b[43m \u001b[49m\u001b[43mplugin_manager\u001b[49m\u001b[43m)\u001b[49m\n",
      "\u001b[36mFile \u001b[39m\u001b[32mc:\\Users\\adankert\\projects\\file_code_tagger\\.venv\\Lib\\site-packages\\ocrmypdf\\_pipelines\\ocr.py:181\u001b[39m, in \u001b[36m_run_pipeline\u001b[39m\u001b[34m(options, plugin_manager)\u001b[39m\n\u001b[32m    178\u001b[39m validate_pdfinfo_options(context)\n\u001b[32m    180\u001b[39m \u001b[38;5;66;03m# Execute the pipeline\u001b[39;00m\n\u001b[32m--> \u001b[39m\u001b[32m181\u001b[39m optimize_messages = \u001b[43mexec_concurrent\u001b[49m\u001b[43m(\u001b[49m\u001b[43mcontext\u001b[49m\u001b[43m,\u001b[49m\u001b[43m \u001b[49m\u001b[43mexecutor\u001b[49m\u001b[43m)\u001b[49m\n\u001b[32m    183\u001b[39m exitcode = report_output_pdf(options, start_input_file, optimize_messages)\n\u001b[32m    184\u001b[39m \u001b[38;5;28;01mreturn\u001b[39;00m exitcode\n",
      "\u001b[36mFile \u001b[39m\u001b[32mc:\\Users\\adankert\\projects\\file_code_tagger\\.venv\\Lib\\site-packages\\ocrmypdf\\_pipelines\\ocr.py:117\u001b[39m, in \u001b[36mexec_concurrent\u001b[39m\u001b[34m(context, executor)\u001b[39m\n\u001b[32m    114\u001b[39m     \u001b[38;5;28;01mfinally\u001b[39;00m:\n\u001b[32m    115\u001b[39m         set_thread_pageno(\u001b[38;5;28;01mNone\u001b[39;00m)\n\u001b[32m--> \u001b[39m\u001b[32m117\u001b[39m \u001b[43mexecutor\u001b[49m\u001b[43m(\u001b[49m\n\u001b[32m    118\u001b[39m \u001b[43m    \u001b[49m\u001b[43muse_threads\u001b[49m\u001b[43m=\u001b[49m\u001b[43moptions\u001b[49m\u001b[43m.\u001b[49m\u001b[43muse_threads\u001b[49m\u001b[43m,\u001b[49m\n\u001b[32m    119\u001b[39m \u001b[43m    \u001b[49m\u001b[43mmax_workers\u001b[49m\u001b[43m=\u001b[49m\u001b[43mmax_workers\u001b[49m\u001b[43m,\u001b[49m\n\u001b[32m    120\u001b[39m \u001b[43m    \u001b[49m\u001b[43mprogress_kwargs\u001b[49m\u001b[43m=\u001b[49m\u001b[38;5;28;43mdict\u001b[39;49m\u001b[43m(\u001b[49m\n\u001b[32m    121\u001b[39m \u001b[43m        \u001b[49m\u001b[43mtotal\u001b[49m\u001b[43m=\u001b[49m\u001b[38;5;28;43mlen\u001b[39;49m\u001b[43m(\u001b[49m\u001b[43mcontext\u001b[49m\u001b[43m.\u001b[49m\u001b[43mpdfinfo\u001b[49m\u001b[43m)\u001b[49m\u001b[43m,\u001b[49m\n\u001b[32m    122\u001b[39m \u001b[43m        \u001b[49m\u001b[43mdesc\u001b[49m\u001b[43m=\u001b[49m\u001b[33;43m'\u001b[39;49m\u001b[33;43mOCR\u001b[39;49m\u001b[33;43m'\u001b[39;49m\u001b[43m \u001b[49m\u001b[38;5;28;43;01mif\u001b[39;49;00m\u001b[43m \u001b[49m\u001b[43moptions\u001b[49m\u001b[43m.\u001b[49m\u001b[43mtesseract_timeout\u001b[49m\u001b[43m \u001b[49m\u001b[43m>\u001b[49m\u001b[43m \u001b[49m\u001b[32;43m0\u001b[39;49m\u001b[43m \u001b[49m\u001b[38;5;28;43;01melse\u001b[39;49;00m\u001b[43m \u001b[49m\u001b[33;43m'\u001b[39;49m\u001b[33;43mImage processing\u001b[39;49m\u001b[33;43m'\u001b[39;49m\u001b[43m,\u001b[49m\n\u001b[32m    123\u001b[39m \u001b[43m        \u001b[49m\u001b[43munit\u001b[49m\u001b[43m=\u001b[49m\u001b[33;43m'\u001b[39;49m\u001b[33;43mpage\u001b[39;49m\u001b[33;43m'\u001b[39;49m\u001b[43m,\u001b[49m\n\u001b[32m    124\u001b[39m \u001b[43m        \u001b[49m\u001b[43mdisable\u001b[49m\u001b[43m=\u001b[49m\u001b[38;5;129;43;01mnot\u001b[39;49;00m\u001b[43m \u001b[49m\u001b[43moptions\u001b[49m\u001b[43m.\u001b[49m\u001b[43mprogress_bar\u001b[49m\u001b[43m,\u001b[49m\n\u001b[32m    125\u001b[39m \u001b[43m    \u001b[49m\u001b[43m)\u001b[49m\u001b[43m,\u001b[49m\n\u001b[32m    126\u001b[39m \u001b[43m    \u001b[49m\u001b[43mworker_initializer\u001b[49m\u001b[43m=\u001b[49m\u001b[43mpartial\u001b[49m\u001b[43m(\u001b[49m\u001b[43mworker_init\u001b[49m\u001b[43m,\u001b[49m\u001b[43m \u001b[49m\u001b[43mPIL\u001b[49m\u001b[43m.\u001b[49m\u001b[43mImage\u001b[49m\u001b[43m.\u001b[49m\u001b[43mMAX_IMAGE_PIXELS\u001b[49m\u001b[43m)\u001b[49m\u001b[43m,\u001b[49m\n\u001b[32m    127\u001b[39m \u001b[43m    \u001b[49m\u001b[43mtask\u001b[49m\u001b[43m=\u001b[49m\u001b[43m_exec_page_sync\u001b[49m\u001b[43m,\u001b[49m\n\u001b[32m    128\u001b[39m \u001b[43m    \u001b[49m\u001b[43mtask_arguments\u001b[49m\u001b[43m=\u001b[49m\u001b[43mcontext\u001b[49m\u001b[43m.\u001b[49m\u001b[43mget_page_context_args\u001b[49m\u001b[43m(\u001b[49m\u001b[43m)\u001b[49m\u001b[43m,\u001b[49m\n\u001b[32m    129\u001b[39m \u001b[43m    \u001b[49m\u001b[43mtask_finished\u001b[49m\u001b[43m=\u001b[49m\u001b[43mupdate_page\u001b[49m\u001b[43m,\u001b[49m\n\u001b[32m    130\u001b[39m \u001b[43m\u001b[49m\u001b[43m)\u001b[49m\n\u001b[32m    132\u001b[39m \u001b[38;5;66;03m# Output sidecar text\u001b[39;00m\n\u001b[32m    133\u001b[39m \u001b[38;5;28;01mif\u001b[39;00m options.sidecar:\n",
      "\u001b[36mFile \u001b[39m\u001b[32mc:\\Users\\adankert\\projects\\file_code_tagger\\.venv\\Lib\\site-packages\\ocrmypdf\\_concurrent.py:78\u001b[39m, in \u001b[36mExecutor.__call__\u001b[39m\u001b[34m(self, use_threads, max_workers, progress_kwargs, worker_initializer, task, task_arguments, task_finished)\u001b[39m\n\u001b[32m     75\u001b[39m     task = _task_noop\n\u001b[32m     77\u001b[39m \u001b[38;5;28;01mwith\u001b[39;00m \u001b[38;5;28mself\u001b[39m.pool_lock:\n\u001b[32m---> \u001b[39m\u001b[32m78\u001b[39m     \u001b[38;5;28;43mself\u001b[39;49m\u001b[43m.\u001b[49m\u001b[43m_execute\u001b[49m\u001b[43m(\u001b[49m\n\u001b[32m     79\u001b[39m \u001b[43m        \u001b[49m\u001b[43muse_threads\u001b[49m\u001b[43m=\u001b[49m\u001b[43muse_threads\u001b[49m\u001b[43m,\u001b[49m\n\u001b[32m     80\u001b[39m \u001b[43m        \u001b[49m\u001b[43mmax_workers\u001b[49m\u001b[43m=\u001b[49m\u001b[43mmax_workers\u001b[49m\u001b[43m,\u001b[49m\n\u001b[32m     81\u001b[39m \u001b[43m        \u001b[49m\u001b[43mprogress_kwargs\u001b[49m\u001b[43m=\u001b[49m\u001b[43mprogress_kwargs\u001b[49m\u001b[43m,\u001b[49m\n\u001b[32m     82\u001b[39m \u001b[43m        \u001b[49m\u001b[43mworker_initializer\u001b[49m\u001b[43m=\u001b[49m\u001b[43mworker_initializer\u001b[49m\u001b[43m,\u001b[49m\n\u001b[32m     83\u001b[39m \u001b[43m        \u001b[49m\u001b[43mtask\u001b[49m\u001b[43m=\u001b[49m\u001b[43mtask\u001b[49m\u001b[43m,\u001b[49m\n\u001b[32m     84\u001b[39m \u001b[43m        \u001b[49m\u001b[43mtask_arguments\u001b[49m\u001b[43m=\u001b[49m\u001b[43mtask_arguments\u001b[49m\u001b[43m,\u001b[49m\n\u001b[32m     85\u001b[39m \u001b[43m        \u001b[49m\u001b[43mtask_finished\u001b[49m\u001b[43m=\u001b[49m\u001b[43mtask_finished\u001b[49m\u001b[43m,\u001b[49m\n\u001b[32m     86\u001b[39m \u001b[43m    \u001b[49m\u001b[43m)\u001b[49m\n",
      "\u001b[36mFile \u001b[39m\u001b[32mc:\\Users\\adankert\\projects\\file_code_tagger\\.venv\\Lib\\site-packages\\ocrmypdf\\builtin_plugins\\concurrency.py:143\u001b[39m, in \u001b[36mStandardExecutor._execute\u001b[39m\u001b[34m(self, use_threads, max_workers, progress_kwargs, worker_initializer, task, task_arguments, task_finished)\u001b[39m\n\u001b[32m    141\u001b[39m futures = [executor.submit(task, *args) \u001b[38;5;28;01mfor\u001b[39;00m args \u001b[38;5;129;01min\u001b[39;00m task_arguments]\n\u001b[32m    142\u001b[39m \u001b[38;5;28;01mtry\u001b[39;00m:\n\u001b[32m--> \u001b[39m\u001b[32m143\u001b[39m \u001b[43m    \u001b[49m\u001b[38;5;28;43;01mfor\u001b[39;49;00m\u001b[43m \u001b[49m\u001b[43mfuture\u001b[49m\u001b[43m \u001b[49m\u001b[38;5;129;43;01min\u001b[39;49;00m\u001b[43m \u001b[49m\u001b[43mas_completed\u001b[49m\u001b[43m(\u001b[49m\u001b[43mfutures\u001b[49m\u001b[43m)\u001b[49m\u001b[43m:\u001b[49m\n\u001b[32m    144\u001b[39m \u001b[43m        \u001b[49m\u001b[43mresult\u001b[49m\u001b[43m \u001b[49m\u001b[43m=\u001b[49m\u001b[43m \u001b[49m\u001b[43mfuture\u001b[49m\u001b[43m.\u001b[49m\u001b[43mresult\u001b[49m\u001b[43m(\u001b[49m\u001b[43m)\u001b[49m\n\u001b[32m    145\u001b[39m \u001b[43m        \u001b[49m\u001b[43mtask_finished\u001b[49m\u001b[43m(\u001b[49m\u001b[43mresult\u001b[49m\u001b[43m,\u001b[49m\u001b[43m \u001b[49m\u001b[43mpbar\u001b[49m\u001b[43m)\u001b[49m\n",
      "\u001b[36mFile \u001b[39m\u001b[32mC:\\Program Files\\WindowsApps\\PythonSoftwareFoundation.Python.3.13_3.13.1776.0_x64__qbz5n2kfra8p0\\Lib\\concurrent\\futures\\_base.py:243\u001b[39m, in \u001b[36mas_completed\u001b[39m\u001b[34m(fs, timeout)\u001b[39m\n\u001b[32m    238\u001b[39m     \u001b[38;5;28;01mif\u001b[39;00m wait_timeout < \u001b[32m0\u001b[39m:\n\u001b[32m    239\u001b[39m         \u001b[38;5;28;01mraise\u001b[39;00m \u001b[38;5;167;01mTimeoutError\u001b[39;00m(\n\u001b[32m    240\u001b[39m                 \u001b[33m'\u001b[39m\u001b[38;5;132;01m%d\u001b[39;00m\u001b[33m (of \u001b[39m\u001b[38;5;132;01m%d\u001b[39;00m\u001b[33m) futures unfinished\u001b[39m\u001b[33m'\u001b[39m % (\n\u001b[32m    241\u001b[39m                 \u001b[38;5;28mlen\u001b[39m(pending), total_futures))\n\u001b[32m--> \u001b[39m\u001b[32m243\u001b[39m \u001b[43mwaiter\u001b[49m\u001b[43m.\u001b[49m\u001b[43mevent\u001b[49m\u001b[43m.\u001b[49m\u001b[43mwait\u001b[49m\u001b[43m(\u001b[49m\u001b[43mwait_timeout\u001b[49m\u001b[43m)\u001b[49m\n\u001b[32m    245\u001b[39m \u001b[38;5;28;01mwith\u001b[39;00m waiter.lock:\n\u001b[32m    246\u001b[39m     finished = waiter.finished_futures\n",
      "\u001b[36mFile \u001b[39m\u001b[32mC:\\Program Files\\WindowsApps\\PythonSoftwareFoundation.Python.3.13_3.13.1776.0_x64__qbz5n2kfra8p0\\Lib\\threading.py:659\u001b[39m, in \u001b[36mEvent.wait\u001b[39m\u001b[34m(self, timeout)\u001b[39m\n\u001b[32m    657\u001b[39m signaled = \u001b[38;5;28mself\u001b[39m._flag\n\u001b[32m    658\u001b[39m \u001b[38;5;28;01mif\u001b[39;00m \u001b[38;5;129;01mnot\u001b[39;00m signaled:\n\u001b[32m--> \u001b[39m\u001b[32m659\u001b[39m     signaled = \u001b[38;5;28;43mself\u001b[39;49m\u001b[43m.\u001b[49m\u001b[43m_cond\u001b[49m\u001b[43m.\u001b[49m\u001b[43mwait\u001b[49m\u001b[43m(\u001b[49m\u001b[43mtimeout\u001b[49m\u001b[43m)\u001b[49m\n\u001b[32m    660\u001b[39m \u001b[38;5;28;01mreturn\u001b[39;00m signaled\n",
      "\u001b[36mFile \u001b[39m\u001b[32mC:\\Program Files\\WindowsApps\\PythonSoftwareFoundation.Python.3.13_3.13.1776.0_x64__qbz5n2kfra8p0\\Lib\\threading.py:359\u001b[39m, in \u001b[36mCondition.wait\u001b[39m\u001b[34m(self, timeout)\u001b[39m\n\u001b[32m    357\u001b[39m \u001b[38;5;28;01mtry\u001b[39;00m:    \u001b[38;5;66;03m# restore state no matter what (e.g., KeyboardInterrupt)\u001b[39;00m\n\u001b[32m    358\u001b[39m     \u001b[38;5;28;01mif\u001b[39;00m timeout \u001b[38;5;129;01mis\u001b[39;00m \u001b[38;5;28;01mNone\u001b[39;00m:\n\u001b[32m--> \u001b[39m\u001b[32m359\u001b[39m         \u001b[43mwaiter\u001b[49m\u001b[43m.\u001b[49m\u001b[43macquire\u001b[49m\u001b[43m(\u001b[49m\u001b[43m)\u001b[49m\n\u001b[32m    360\u001b[39m         gotit = \u001b[38;5;28;01mTrue\u001b[39;00m\n\u001b[32m    361\u001b[39m     \u001b[38;5;28;01melse\u001b[39;00m:\n",
      "\u001b[31mKeyboardInterrupt\u001b[39m: "
     ]
    }
   ],
   "source": [
    "import logging\n",
    "import os\n",
    "import shutil\n",
    "import traceback\n",
    "import tempfile\n",
    "from db_models import File, FileLocation, FilingTag, FileTagLabel, FileEmbedding, get_db_engine\n",
    "from embedding.minilm import MiniLMEmbedder\n",
    "from sqlalchemy import func\n",
    "from sqlalchemy.orm import Session\n",
    "from text_extraction.pdf_extraction import PDFTextExtractor\n",
    "from text_extraction.basic_extraction import TextFileTextExtractor, TikaTextExtractor, get_extractor_for_file\n",
    "from text_extraction.image_extraction import ImageTextExtractor\n",
    "from text_extraction.office_doc_extraction import PresentationTextExtractor, SpreadsheetTextExtractor, WordFileTextExtractor\n",
    "from text_extraction.web_extraction import HtmlTextExtractor, EmailTextExtractor\n",
    "from text_extraction.extraction_utils import common_char_replacements, strip_diacritics, normalize_unicode, normalize_whitespace\n",
    "from typing import Optional\n",
    "from logging_setups import setup_logger\n",
    "\n",
    "nb_logger = setup_logger(name=\"NotebookLogger\", notebook=True, level=logging.DEBUG)\n",
    "\n",
    "import pytesseract\n",
    "pytesseract.pytesseract.tesseract_cmd = r'C:\\Program Files\\Tesseract-OCR\\tesseract.exe'\n",
    "\n",
    "pdf_extractor = PDFTextExtractor()\n",
    "txt_extractor = TextFileTextExtractor()\n",
    "image_extractor = ImageTextExtractor()\n",
    "presentation_extractor = PresentationTextExtractor()\n",
    "spreadsheet_extractor = SpreadsheetTextExtractor()\n",
    "word_extractor = WordFileTextExtractor()\n",
    "html_extractor = HtmlTextExtractor()\n",
    "email_extractor = EmailTextExtractor()\n",
    "tika_extractor = TikaTextExtractor()\n",
    "\n",
    "extractors_list = [\n",
    "    pdf_extractor,\n",
    "    txt_extractor,\n",
    "    image_extractor,\n",
    "    presentation_extractor,\n",
    "    spreadsheet_extractor,\n",
    "    word_extractor,\n",
    "    html_extractor,\n",
    "    email_extractor\n",
    "]\n",
    "\n",
    "def get_files_from_tag_locations(\n",
    "        db_session: Session,\n",
    "        tag_obj: FilingTag,\n",
    "        n: int = 100,\n",
    "        randomize: bool = False,\n",
    "        exclude_embedded: bool = False,\n",
    "        max_size_mb: Optional[float] = None\n",
    "        ):\n",
    "    \"\"\"\n",
    "    Retrieve files tagged with a specific tag string.\n",
    "    Optionally exclude files that already have a FileEmbedding.\n",
    "    \"\"\"\n",
    "    tag_locations = FileLocation.file_server_directories.ilike(f\"%/{tag_obj.full_tag_label_str}%\")\n",
    "\n",
    "    # start the base query\n",
    "    q = db_session.query(File) \\\n",
    "                  .join(FileLocation) \\\n",
    "                  .filter(tag_locations)\n",
    "\n",
    "    if exclude_embedded:\n",
    "        # left‐outer join to file_embeddings, keep only those with no match\n",
    "        q = q.outerjoin(FileEmbedding, File.hash == FileEmbedding.file_hash)\\\n",
    "            .filter(FileEmbedding.file_hash == None)\\\n",
    "            \n",
    "    if max_size_mb is not None:\n",
    "        max_size_bytes = max_size_mb * 1024 * 1024\n",
    "        q = q.filter(File.size <= max_size_bytes)\n",
    "\n",
    "    if randomize:\n",
    "        q = q.order_by(func.random())\n",
    "    \n",
    "    q = q.limit(n)\n",
    "\n",
    "    return q.all()\n",
    "\n",
    "def label_file_using_tag(\n",
    "        db_session: Session,\n",
    "        file_obj: File,\n",
    "        some_tag: FilingTag|str,\n",
    "        label_source: str = 'rule'\n",
    "    ):\n",
    "    \"\"\"\n",
    "    Label a file with a specific tag.\n",
    "    \"\"\"\n",
    "    \n",
    "    if isinstance(some_tag, str):\n",
    "        tag_obj = FilingTag.retrieve_tag_by_label(db_session, some_tag)\n",
    "        if not tag_obj:\n",
    "            raise ValueError(f\"Tag '{some_tag}' not found in the database.\")\n",
    "        current_tag = tag_obj\n",
    "    elif isinstance(some_tag, FilingTag):\n",
    "        tag_obj = some_tag\n",
    "        current_tag = tag_obj\n",
    "    else:\n",
    "        raise TypeError(\"some_tag must be a FilingTag instance or a string representing the tag label.\")\n",
    "    \n",
    "    while current_tag is not None:\n",
    "        already = (\n",
    "            db_session.query(FileTagLabel)\n",
    "            .filter_by(file_id=file_obj.id, tag=current_tag.label)\n",
    "            .first()\n",
    "        )\n",
    "        if already:\n",
    "            nb_logger.info(f\"File {file_obj.id} already labeled with tag {current_tag.label}\")\n",
    "            current_tag = current_tag.parent\n",
    "            continue\n",
    "\n",
    "        labeling_record = FileTagLabel(\n",
    "            file_id=file_obj.id,\n",
    "            file_hash=file_obj.hash,\n",
    "            tag=current_tag.label,\n",
    "            is_primary=True if not current_tag.parent else False,\n",
    "            label_source=label_source\n",
    "        )\n",
    "        db_session.add(labeling_record)\n",
    "        nb_logger.info(f\"Added tag {current_tag.label} to file with hash {file_obj.hash}\")\n",
    "        current_tag = current_tag.parent\n",
    "\n",
    "    db_session.commit()\n",
    "    return labeling_record\n",
    "\n",
    "\n",
    "filing_code_tag = \"D4 - Mitigation Monitoring Program\"\n",
    "text_leng_threshold = 250\n",
    "file_server_location = r\"N:\\PPDO\\Records\"\n",
    "n = 250\n",
    "embedding_client = MiniLMEmbedder()\n",
    "with Session(get_db_engine()) as db_session:\n",
    "    tag = FilingTag.retrieve_tag_by_label(db_session, filing_code_tag)\n",
    "    files = get_files_from_tag_locations(\n",
    "        db_session= db_session,\n",
    "        tag_obj = tag,\n",
    "        randomize=True,\n",
    "        n = n,\n",
    "        exclude_embedded=True,\n",
    "        max_size_mb=150\n",
    "    )\n",
    "\n",
    "    with tempfile.TemporaryDirectory() as temp_dir:\n",
    "        for file_i, file_obj in enumerate(files):\n",
    "            nb_logger.info(f\"Processing file number {file_i + 1} of {len(files)}: {file_obj.id}\")\n",
    "\n",
    "            if not file_obj.locations:\n",
    "                nb_logger.warning(f\"No locations found for file {file_obj.id}\")\n",
    "                continue\n",
    "            \n",
    "            local_location_filepath = \"\"\n",
    "            filename = \"\"\n",
    "            for location in file_obj.locations:\n",
    "                # if the tag's full label is not in the file server directories, continue\n",
    "                if tag.full_tag_label_str.lower() not in location.file_server_directories.lower():\n",
    "                    continue\n",
    "                \n",
    "                local_location_filepath = location.local_filepath(server_mount_path=file_server_location)\n",
    "\n",
    "                if os.path.exists(local_location_filepath):\n",
    "                    nb_logger.info(f\"Found file {file_obj.id} at {local_location_filepath}\")\n",
    "                    filename = location.filename\n",
    "                    break\n",
    "                \n",
    "                else:\n",
    "                    nb_logger.warning(f\"File {file_obj.id} not found at {local_location_filepath}\")\n",
    "                    continue\n",
    "            \n",
    "            # if no valid file found, skip to next file\n",
    "            if not filename:\n",
    "                nb_logger.warning(f\"No valid file found for {file_obj.id}\")\n",
    "                continue\n",
    "\n",
    "            try:\n",
    "                temp_filepath = os.path.join(temp_dir, filename)\n",
    "                shutil.copyfile(local_location_filepath, temp_filepath)\n",
    "                extractor = get_extractor_for_file(temp_filepath, extractors_list)\n",
    "                if extractor:\n",
    "                    text = extractor(temp_filepath)\n",
    "                else:\n",
    "                    text = tika_extractor(temp_filepath)  # Fallback to Tika extractor\n",
    "                \n",
    "                # if the text is empty or too short, skip processing\n",
    "                if text and len(text) >= text_leng_threshold:\n",
    "                    text = common_char_replacements(text)\n",
    "                    text = strip_diacritics(text)\n",
    "                    text = normalize_unicode(text)\n",
    "                    text = normalize_whitespace(text)\n",
    "                    emb_list = embedding_client.encode([text])\n",
    "                    emb_vec = emb_list[0] if emb_list else None\n",
    "                    if emb_vec is not None:\n",
    "                        file_embedding = FileEmbedding(\n",
    "                            file_hash =file_obj.hash,\n",
    "                            source_text =text,\n",
    "                            minilm_model=embedding_client.model_name,\n",
    "                            minilm_emb=emb_vec\n",
    "                        )\n",
    "                        db_session.add(file_embedding)\n",
    "                        db_session.commit()\n",
    "                        nb_logger.info(f\"Processed file {file_obj.id} with tag {filing_code_tag}\")\n",
    "                    else:\n",
    "                        nb_logger.warning(f\"Failed to create embedding for file {file_obj.id}\")\n",
    "                        continue\n",
    "                    \n",
    "                    file_labeling = label_file_using_tag(\n",
    "                        db_session=db_session,\n",
    "                        file_obj=file_obj,\n",
    "                        some_tag=tag\n",
    "                    )\n",
    "                else:\n",
    "                    if len(text) < text_leng_threshold:\n",
    "                        nb_logger.warning(f\"Text length for file {file_obj.id} is {len(text)}:\\n{text}\")\n",
    "                    else:\n",
    "                        nb_logger.warning(f\"No text extracted from {file_obj.id}\")\n",
    "                    continue\n",
    "            \n",
    "            except Exception as e:\n",
    "                nb_logger.error(f\"Error processing file {file_obj.id}: {e}\")\n",
    "                nb_logger.debug(traceback.format_exc())\n",
    "                continue"
   ]
  },
  {
   "cell_type": "code",
   "execution_count": null,
   "id": "498d092e",
   "metadata": {},
   "outputs": [],
   "source": []
  }
 ],
 "metadata": {
  "kernelspec": {
   "display_name": ".venv",
   "language": "python",
   "name": "python3"
  },
  "language_info": {
   "codemirror_mode": {
    "name": "ipython",
    "version": 3
   },
   "file_extension": ".py",
   "mimetype": "text/x-python",
   "name": "python",
   "nbconvert_exporter": "python",
   "pygments_lexer": "ipython3",
   "version": "3.13.6"
  }
 },
 "nbformat": 4,
 "nbformat_minor": 5
}
