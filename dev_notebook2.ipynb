{
 "cells": [
  {
   "cell_type": "code",
   "execution_count": null,
   "id": "8c825d1d",
   "metadata": {},
   "outputs": [],
   "source": [
    "from db.db import backup_database\n",
    "\n",
    "backup_destination = r\"N:\\PPDO\\BS\\Records Department\\Archive_Data\"\n",
    "backup_database(backup_dir=backup_destination, compress=True)"
   ]
  },
  {
   "cell_type": "code",
   "execution_count": null,
   "id": "9374674b",
   "metadata": {},
   "outputs": [],
   "source": [
    "from sqlalchemy.orm import Session\n",
    "from sqlalchemy import or_\n",
    "import pandas as pd\n",
    "import numpy as np\n",
    "from db import get_db_engine\n",
    "from db.models import FileLocation, File, FileContent\n",
    "from text_extraction.pdf_extraction import PDFTextExtractor\n",
    "from embedding.minilm import MiniLMEmbedder\n",
    "from utils import extract_server_dirs, build_file_path\n",
    "server_mount = r\"N:\\PPDO\\Records\"\n",
    "target_filepath = r\"N:\\PPDO\\Records\\23xx   Crown College (College 3)\\2318\\2318\\H - Submittals\\Lumber_ProductData.pdf\"\n",
    "target_location = r\"N:\\PPDO\\Records\\37xx   Oakes College\\3701\\3701\"\n",
    "\n",
    "\n",
    "pdf_extractor = PDFTextExtractor()\n",
    "embedder = MiniLMEmbedder()\n",
    "\n",
    "text = pdf_extractor(target_filepath)\n",
    "embeddings = embedder.encode(text)\n",
    "target_loc_dirs = extract_server_dirs(full_path=target_location, base_mount=server_mount)\n",
    "engine = get_db_engine()\n",
    "\n",
    "target_sim_distance = lambda file_embeds: 1 - np.dot(file_embeds, embeddings)\n",
    "build_local_path = lambda row: build_file_path(base_mount=server_mount, server_dir=row['file_server_directories'], filename=row['filename'])\n",
    "\n",
    "with Session(engine) as db_session:\n",
    "    files_located_in_dir = or_(\n",
    "        FileLocation.file_server_directories == target_loc_dirs,\n",
    "        FileLocation.file_server_directories.startswith(target_loc_dirs + '/')\n",
    "    )\n",
    "\n",
    "    query = db_session.query(FileLocation, FileContent)"
   ]
  },
  {
   "cell_type": "code",
   "execution_count": null,
   "id": "6b361d6d",
   "metadata": {},
   "outputs": [],
   "source": [
    "# This cell is to backfill the text_length column in FileContent for existing rows where source_text is present.\n",
    "\n",
    "from db.models import FileContent\n",
    "from db.db import get_db_engine\n",
    "from sqlalchemy.orm import sessionmaker\n",
    "\n",
    "# Create a session\n",
    "engine = get_db_engine()\n",
    "Session = sessionmaker(bind=engine)\n",
    "session = Session()\n",
    "\n",
    "# Query all FileContent rows where text_length is null and source_text is not null\n",
    "to_update = session.query(FileContent).filter(\n",
    "    (FileContent.text_length.is_(None)) & (FileContent.source_text.isnot(None))\n",
    ").all()\n",
    "\n",
    "print(f\"Found {len(to_update)} rows to backfill.\")\n",
    "\n",
    "for fc in to_update:\n",
    "    fc.text_length = len(fc.source_text)\n",
    "\n",
    "session.commit()\n",
    "print(\"Backfill complete.\")\n",
    "\n",
    "session.close()"
   ]
  },
  {
   "cell_type": "code",
   "execution_count": null,
   "id": "cf4da9c6",
   "metadata": {},
   "outputs": [],
   "source": []
  }
 ],
 "metadata": {
  "kernelspec": {
   "display_name": ".venv",
   "language": "python",
   "name": "python3"
  },
  "language_info": {
   "codemirror_mode": {
    "name": "ipython",
    "version": 3
   },
   "file_extension": ".py",
   "mimetype": "text/x-python",
   "name": "python",
   "nbconvert_exporter": "python",
   "pygments_lexer": "ipython3",
   "version": "3.13.7"
  }
 },
 "nbformat": 4,
 "nbformat_minor": 5
}
