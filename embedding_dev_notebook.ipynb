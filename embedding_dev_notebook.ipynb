{
 "cells": [
  {
   "cell_type": "code",
   "execution_count": 2,
   "id": "b1e9dc39",
   "metadata": {},
   "outputs": [
    {
     "name": "stderr",
     "output_type": "stream",
     "text": [
      "INFO - Processing file number 1 of 30: 15560\n",
      "INFO - Found file 15560 at N:\\PPDO\\Records\\13xx   Original Ranch Buildings\\1324\\1324\\E - Program and Design\\E7 - Value Engineering\\1324.E7.Layout 2.PDF\n"
     ]
    },
    {
     "data": {
      "application/vnd.jupyter.widget-view+json": {
       "model_id": "c55cbcb7154c44a4b79abfda12bc56b1",
       "version_major": 2,
       "version_minor": 0
      },
      "text/plain": [
       "Output()"
      ]
     },
     "metadata": {},
     "output_type": "display_data"
    },
    {
     "data": {
      "text/html": [
       "<pre style=\"white-space:pre;overflow-x:auto;line-height:normal;font-family:Menlo,'DejaVu Sans Mono',consolas,'Courier New',monospace\"></pre>\n"
      ],
      "text/plain": []
     },
     "metadata": {},
     "output_type": "display_data"
    },
    {
     "data": {
      "application/vnd.jupyter.widget-view+json": {
       "model_id": "23712565d0144d529c90e2bccb9ed29f",
       "version_major": 2,
       "version_minor": 0
      },
      "text/plain": [
       "Output()"
      ]
     },
     "metadata": {},
     "output_type": "display_data"
    },
    {
     "data": {
      "text/html": [
       "<pre style=\"white-space:pre;overflow-x:auto;line-height:normal;font-family:Menlo,'DejaVu Sans Mono',consolas,'Courier New',monospace\">[tesseract] lots of diacritics - possibly poor OCR\n",
       "</pre>\n"
      ],
      "text/plain": [
       "[tesseract] lots of diacritics - possibly poor OCR\n"
      ]
     },
     "metadata": {},
     "output_type": "display_data"
    },
    {
     "data": {
      "text/html": [
       "<pre style=\"white-space:pre;overflow-x:auto;line-height:normal;font-family:Menlo,'DejaVu Sans Mono',consolas,'Courier New',monospace\"></pre>\n"
      ],
      "text/plain": []
     },
     "metadata": {},
     "output_type": "display_data"
    },
    {
     "data": {
      "application/vnd.jupyter.widget-view+json": {
       "model_id": "9c6d5d88847c40559eb9e1e0f19a5268",
       "version_major": 2,
       "version_minor": 0
      },
      "text/plain": [
       "Output()"
      ]
     },
     "metadata": {},
     "output_type": "display_data"
    },
    {
     "data": {
      "text/html": [
       "<pre style=\"white-space:pre;overflow-x:auto;line-height:normal;font-family:Menlo,'DejaVu Sans Mono',consolas,'Courier New',monospace\"></pre>\n"
      ],
      "text/plain": []
     },
     "metadata": {},
     "output_type": "display_data"
    },
    {
     "data": {
      "application/vnd.jupyter.widget-view+json": {
       "model_id": "540efa77f4d64c078331269d99f19fec",
       "version_major": 2,
       "version_minor": 0
      },
      "text/plain": [
       "Output()"
      ]
     },
     "metadata": {},
     "output_type": "display_data"
    },
    {
     "data": {
      "text/html": [
       "<pre style=\"white-space:pre;overflow-x:auto;line-height:normal;font-family:Menlo,'DejaVu Sans Mono',consolas,'Courier New',monospace\"></pre>\n"
      ],
      "text/plain": []
     },
     "metadata": {},
     "output_type": "display_data"
    },
    {
     "data": {
      "application/vnd.jupyter.widget-view+json": {
       "model_id": "5021885f7ac24b61a923a7d781ae944a",
       "version_major": 2,
       "version_minor": 0
      },
      "text/plain": [
       "Output()"
      ]
     },
     "metadata": {},
     "output_type": "display_data"
    },
    {
     "data": {
      "text/html": [
       "<pre style=\"white-space:pre;overflow-x:auto;line-height:normal;font-family:Menlo,'DejaVu Sans Mono',consolas,'Courier New',monospace\"></pre>\n"
      ],
      "text/plain": []
     },
     "metadata": {},
     "output_type": "display_data"
    },
    {
     "data": {
      "application/vnd.jupyter.widget-view+json": {
       "model_id": "2ad0b8510c2a4be68aeafb216eb50e2a",
       "version_major": 2,
       "version_minor": 0
      },
      "text/plain": [
       "Output()"
      ]
     },
     "metadata": {},
     "output_type": "display_data"
    },
    {
     "data": {
      "text/html": [
       "<pre style=\"white-space:pre;overflow-x:auto;line-height:normal;font-family:Menlo,'DejaVu Sans Mono',consolas,'Courier New',monospace\"></pre>\n"
      ],
      "text/plain": []
     },
     "metadata": {},
     "output_type": "display_data"
    },
    {
     "name": "stderr",
     "output_type": "stream",
     "text": [
      "INFO - Processed file 15560 with tag E7 - Value Engineering\n",
      "INFO - Added tag E7 to file with hash 2df297890231f45967494ad584386ee1ce54c79b\n",
      "INFO - Added tag E to file with hash 2df297890231f45967494ad584386ee1ce54c79b\n",
      "INFO - Processing file number 2 of 30: 256564\n",
      "INFO - Found file 256564 at N:\\PPDO\\Records\\26xx   Merrill College (College 4)\\2636\\2636 - Merrill Phase 2\\E - Program and Design\\E7 - Value Engineering\\Guzman VE Options..xlsx\n",
      "INFO - Processed file 256564 with tag E7 - Value Engineering\n",
      "INFO - Added tag E7 to file with hash 7be7cc1fb8c2e83f864c6a0c705d5e58144349e8\n",
      "INFO - Added tag E to file with hash 7be7cc1fb8c2e83f864c6a0c705d5e58144349e8\n",
      "INFO - Processing file number 3 of 30: 354894\n",
      "INFO - Found file 354894 at N:\\PPDO\\Records\\32xx   Kresge College (College 6)\\3239 Non-Acad Reno\\3239\\E - Program and Design\\E7 - Value Engineering\\UC Santa Cruz Mail - Re_ Kresge - Below Grade Waterproofing and Foundation Drainage - Follow Up.pdf\n",
      "INFO - Processed file 354894 with tag E7 - Value Engineering\n",
      "INFO - Added tag E7 to file with hash 7d27515a3d3f061b9d1a11fcdd90da97ebcff801\n",
      "INFO - Added tag E to file with hash 7d27515a3d3f061b9d1a11fcdd90da97ebcff801\n",
      "INFO - Processing file number 4 of 30: 962990\n",
      "INFO - Found file 962990 at N:\\PPDO\\Records\\89xx   Campus Roads\\8900\\8900-039\\E - Program and Design\\E7 - Value Engineering\\8900-039_e7(2).pdf\n"
     ]
    },
    {
     "data": {
      "application/vnd.jupyter.widget-view+json": {
       "model_id": "81d7902c996e44d298d57b88e8e6c7c4",
       "version_major": 2,
       "version_minor": 0
      },
      "text/plain": [
       "Output()"
      ]
     },
     "metadata": {},
     "output_type": "display_data"
    },
    {
     "data": {
      "text/html": [
       "<pre style=\"white-space:pre;overflow-x:auto;line-height:normal;font-family:Menlo,'DejaVu Sans Mono',consolas,'Courier New',monospace\"></pre>\n"
      ],
      "text/plain": []
     },
     "metadata": {},
     "output_type": "display_data"
    },
    {
     "data": {
      "application/vnd.jupyter.widget-view+json": {
       "model_id": "00bb2c3c820b4963924c37407d25c6f3",
       "version_major": 2,
       "version_minor": 0
      },
      "text/plain": [
       "Output()"
      ]
     },
     "metadata": {},
     "output_type": "display_data"
    },
    {
     "data": {
      "text/html": [
       "<pre style=\"white-space:pre;overflow-x:auto;line-height:normal;font-family:Menlo,'DejaVu Sans Mono',consolas,'Courier New',monospace\">[tesseract] lots of diacritics - possibly poor OCR\n",
       "</pre>\n"
      ],
      "text/plain": [
       "[tesseract] lots of diacritics - possibly poor OCR\n"
      ]
     },
     "metadata": {},
     "output_type": "display_data"
    },
    {
     "data": {
      "text/html": [
       "<pre style=\"white-space:pre;overflow-x:auto;line-height:normal;font-family:Menlo,'DejaVu Sans Mono',consolas,'Courier New',monospace\"></pre>\n"
      ],
      "text/plain": []
     },
     "metadata": {},
     "output_type": "display_data"
    },
    {
     "data": {
      "application/vnd.jupyter.widget-view+json": {
       "model_id": "ddd795cdd50142eca89201af86414f95",
       "version_major": 2,
       "version_minor": 0
      },
      "text/plain": [
       "Output()"
      ]
     },
     "metadata": {},
     "output_type": "display_data"
    },
    {
     "data": {
      "text/html": [
       "<pre style=\"white-space:pre;overflow-x:auto;line-height:normal;font-family:Menlo,'DejaVu Sans Mono',consolas,'Courier New',monospace\"></pre>\n"
      ],
      "text/plain": []
     },
     "metadata": {},
     "output_type": "display_data"
    },
    {
     "data": {
      "application/vnd.jupyter.widget-view+json": {
       "model_id": "7012530846634f55aef497a7165a4c3a",
       "version_major": 2,
       "version_minor": 0
      },
      "text/plain": [
       "Output()"
      ]
     },
     "metadata": {},
     "output_type": "display_data"
    },
    {
     "data": {
      "text/html": [
       "<pre style=\"white-space:pre;overflow-x:auto;line-height:normal;font-family:Menlo,'DejaVu Sans Mono',consolas,'Courier New',monospace\"></pre>\n"
      ],
      "text/plain": []
     },
     "metadata": {},
     "output_type": "display_data"
    },
    {
     "data": {
      "application/vnd.jupyter.widget-view+json": {
       "model_id": "2b36e419c6cb4002b16bc7530d6e46ac",
       "version_major": 2,
       "version_minor": 0
      },
      "text/plain": [
       "Output()"
      ]
     },
     "metadata": {},
     "output_type": "display_data"
    },
    {
     "data": {
      "text/html": [
       "<pre style=\"white-space:pre;overflow-x:auto;line-height:normal;font-family:Menlo,'DejaVu Sans Mono',consolas,'Courier New',monospace\"></pre>\n"
      ],
      "text/plain": []
     },
     "metadata": {},
     "output_type": "display_data"
    },
    {
     "data": {
      "application/vnd.jupyter.widget-view+json": {
       "model_id": "a90d2b7c444c441590e636c2c47cfce3",
       "version_major": 2,
       "version_minor": 0
      },
      "text/plain": [
       "Output()"
      ]
     },
     "metadata": {},
     "output_type": "display_data"
    },
    {
     "data": {
      "text/html": [
       "<pre style=\"white-space:pre;overflow-x:auto;line-height:normal;font-family:Menlo,'DejaVu Sans Mono',consolas,'Courier New',monospace\"></pre>\n"
      ],
      "text/plain": []
     },
     "metadata": {},
     "output_type": "display_data"
    },
    {
     "name": "stderr",
     "output_type": "stream",
     "text": [
      "INFO - Processed file 962990 with tag E7 - Value Engineering\n",
      "INFO - Added tag E7 to file with hash 4e38b486b2117e1cc798060712ba0d26619b335a\n",
      "INFO - Added tag E to file with hash 4e38b486b2117e1cc798060712ba0d26619b335a\n",
      "INFO - Processing file number 5 of 30: 917476\n",
      "INFO - Found file 917476 at N:\\PPDO\\Records\\62xx   Physical Sciences Building (Natural Sciences 5)\\6201\\6201\\6201\\E - Program and Design\\E7 - Value Engineering\\Agenda-VE-2.doc\n",
      "INFO - Processed file 917476 with tag E7 - Value Engineering\n",
      "INFO - Added tag E7 to file with hash 97293a8e28a96ce6acd299ff429b604ffb5792bc\n",
      "INFO - Added tag E to file with hash 97293a8e28a96ce6acd299ff429b604ffb5792bc\n",
      "INFO - Processing file number 6 of 30: 474400\n",
      "INFO - Found file 474400 at N:\\PPDO\\Records\\52xx   Earth Marine Science Building\\5201\\5201\\E7 - Value Engineering\\5201.E7.Value Engineering Session 1.pdf\n"
     ]
    },
    {
     "data": {
      "application/vnd.jupyter.widget-view+json": {
       "model_id": "23d2e72c14d14602aafaf14d1e562347",
       "version_major": 2,
       "version_minor": 0
      },
      "text/plain": [
       "Output()"
      ]
     },
     "metadata": {},
     "output_type": "display_data"
    },
    {
     "data": {
      "text/html": [
       "<pre style=\"white-space:pre;overflow-x:auto;line-height:normal;font-family:Menlo,'DejaVu Sans Mono',consolas,'Courier New',monospace\"></pre>\n"
      ],
      "text/plain": []
     },
     "metadata": {},
     "output_type": "display_data"
    },
    {
     "data": {
      "application/vnd.jupyter.widget-view+json": {
       "model_id": "5272c456862047a0a0aa7ae134b5779c",
       "version_major": 2,
       "version_minor": 0
      },
      "text/plain": [
       "Output()"
      ]
     },
     "metadata": {},
     "output_type": "display_data"
    },
    {
     "data": {
      "text/html": [
       "<pre style=\"white-space:pre;overflow-x:auto;line-height:normal;font-family:Menlo,'DejaVu Sans Mono',consolas,'Courier New',monospace\">[tesseract] lots of diacritics - possibly poor OCR\n",
       "</pre>\n"
      ],
      "text/plain": [
       "[tesseract] lots of diacritics - possibly poor OCR\n"
      ]
     },
     "metadata": {},
     "output_type": "display_data"
    },
    {
     "data": {
      "text/html": [
       "<pre style=\"white-space:pre;overflow-x:auto;line-height:normal;font-family:Menlo,'DejaVu Sans Mono',consolas,'Courier New',monospace\">[tesseract] lots of diacritics - possibly poor OCR\n",
       "</pre>\n"
      ],
      "text/plain": [
       "[tesseract] lots of diacritics - possibly poor OCR\n"
      ]
     },
     "metadata": {},
     "output_type": "display_data"
    },
    {
     "data": {
      "text/html": [
       "<pre style=\"white-space:pre;overflow-x:auto;line-height:normal;font-family:Menlo,'DejaVu Sans Mono',consolas,'Courier New',monospace\">[tesseract] lots of diacritics - possibly poor OCR\n",
       "</pre>\n"
      ],
      "text/plain": [
       "[tesseract] lots of diacritics - possibly poor OCR\n"
      ]
     },
     "metadata": {},
     "output_type": "display_data"
    },
    {
     "data": {
      "text/html": [
       "<pre style=\"white-space:pre;overflow-x:auto;line-height:normal;font-family:Menlo,'DejaVu Sans Mono',consolas,'Courier New',monospace\">[tesseract] lots of diacritics - possibly poor OCR\n",
       "</pre>\n"
      ],
      "text/plain": [
       "[tesseract] lots of diacritics - possibly poor OCR\n"
      ]
     },
     "metadata": {},
     "output_type": "display_data"
    },
    {
     "data": {
      "text/html": [
       "<pre style=\"white-space:pre;overflow-x:auto;line-height:normal;font-family:Menlo,'DejaVu Sans Mono',consolas,'Courier New',monospace\">[tesseract] lots of diacritics - possibly poor OCR\n",
       "</pre>\n"
      ],
      "text/plain": [
       "[tesseract] lots of diacritics - possibly poor OCR\n"
      ]
     },
     "metadata": {},
     "output_type": "display_data"
    },
    {
     "data": {
      "text/html": [
       "<pre style=\"white-space:pre;overflow-x:auto;line-height:normal;font-family:Menlo,'DejaVu Sans Mono',consolas,'Courier New',monospace\">[tesseract] lots of diacritics - possibly poor OCR\n",
       "</pre>\n"
      ],
      "text/plain": [
       "[tesseract] lots of diacritics - possibly poor OCR\n"
      ]
     },
     "metadata": {},
     "output_type": "display_data"
    },
    {
     "data": {
      "text/html": [
       "<pre style=\"white-space:pre;overflow-x:auto;line-height:normal;font-family:Menlo,'DejaVu Sans Mono',consolas,'Courier New',monospace\">[tesseract] lots of diacritics - possibly poor OCR\n",
       "</pre>\n"
      ],
      "text/plain": [
       "[tesseract] lots of diacritics - possibly poor OCR\n"
      ]
     },
     "metadata": {},
     "output_type": "display_data"
    },
    {
     "data": {
      "text/html": [
       "<pre style=\"white-space:pre;overflow-x:auto;line-height:normal;font-family:Menlo,'DejaVu Sans Mono',consolas,'Courier New',monospace\">[tesseract] lots of diacritics - possibly poor OCR\n",
       "</pre>\n"
      ],
      "text/plain": [
       "[tesseract] lots of diacritics - possibly poor OCR\n"
      ]
     },
     "metadata": {},
     "output_type": "display_data"
    },
    {
     "data": {
      "text/html": [
       "<pre style=\"white-space:pre;overflow-x:auto;line-height:normal;font-family:Menlo,'DejaVu Sans Mono',consolas,'Courier New',monospace\">[tesseract] lots of diacritics - possibly poor OCR\n",
       "</pre>\n"
      ],
      "text/plain": [
       "[tesseract] lots of diacritics - possibly poor OCR\n"
      ]
     },
     "metadata": {},
     "output_type": "display_data"
    },
    {
     "data": {
      "text/html": [
       "<pre style=\"white-space:pre;overflow-x:auto;line-height:normal;font-family:Menlo,'DejaVu Sans Mono',consolas,'Courier New',monospace\">[tesseract] Error during processing.\n",
       "</pre>\n"
      ],
      "text/plain": [
       "[tesseract] Error during processing.\n"
      ]
     },
     "metadata": {},
     "output_type": "display_data"
    },
    {
     "data": {
      "text/html": [
       "<pre style=\"white-space:pre;overflow-x:auto;line-height:normal;font-family:Menlo,'DejaVu Sans Mono',consolas,'Courier New',monospace\">[tesseract] lots of diacritics - possibly poor OCR\n",
       "</pre>\n"
      ],
      "text/plain": [
       "[tesseract] lots of diacritics - possibly poor OCR\n"
      ]
     },
     "metadata": {},
     "output_type": "display_data"
    },
    {
     "data": {
      "text/html": [
       "<pre style=\"white-space:pre;overflow-x:auto;line-height:normal;font-family:Menlo,'DejaVu Sans Mono',consolas,'Courier New',monospace\">[tesseract] Error during processing.\n",
       "</pre>\n"
      ],
      "text/plain": [
       "[tesseract] Error during processing.\n"
      ]
     },
     "metadata": {},
     "output_type": "display_data"
    },
    {
     "data": {
      "text/html": [
       "<pre style=\"white-space:pre;overflow-x:auto;line-height:normal;font-family:Menlo,'DejaVu Sans Mono',consolas,'Courier New',monospace\">[tesseract] lots of diacritics - possibly poor OCR\n",
       "</pre>\n"
      ],
      "text/plain": [
       "[tesseract] lots of diacritics - possibly poor OCR\n"
      ]
     },
     "metadata": {},
     "output_type": "display_data"
    },
    {
     "data": {
      "text/html": [
       "<pre style=\"white-space:pre;overflow-x:auto;line-height:normal;font-family:Menlo,'DejaVu Sans Mono',consolas,'Courier New',monospace\">[tesseract] lots of diacritics - possibly poor OCR\n",
       "</pre>\n"
      ],
      "text/plain": [
       "[tesseract] lots of diacritics - possibly poor OCR\n"
      ]
     },
     "metadata": {},
     "output_type": "display_data"
    },
    {
     "data": {
      "text/html": [
       "<pre style=\"white-space:pre;overflow-x:auto;line-height:normal;font-family:Menlo,'DejaVu Sans Mono',consolas,'Courier New',monospace\">[tesseract] lots of diacritics - possibly poor OCR\n",
       "</pre>\n"
      ],
      "text/plain": [
       "[tesseract] lots of diacritics - possibly poor OCR\n"
      ]
     },
     "metadata": {},
     "output_type": "display_data"
    },
    {
     "data": {
      "text/html": [
       "<pre style=\"white-space:pre;overflow-x:auto;line-height:normal;font-family:Menlo,'DejaVu Sans Mono',consolas,'Courier New',monospace\">[tesseract] lots of diacritics - possibly poor OCR\n",
       "</pre>\n"
      ],
      "text/plain": [
       "[tesseract] lots of diacritics - possibly poor OCR\n"
      ]
     },
     "metadata": {},
     "output_type": "display_data"
    },
    {
     "data": {
      "text/html": [
       "<pre style=\"white-space:pre;overflow-x:auto;line-height:normal;font-family:Menlo,'DejaVu Sans Mono',consolas,'Courier New',monospace\">[tesseract] lots of diacritics - possibly poor OCR\n",
       "</pre>\n"
      ],
      "text/plain": [
       "[tesseract] lots of diacritics - possibly poor OCR\n"
      ]
     },
     "metadata": {},
     "output_type": "display_data"
    },
    {
     "data": {
      "text/html": [
       "<pre style=\"white-space:pre;overflow-x:auto;line-height:normal;font-family:Menlo,'DejaVu Sans Mono',consolas,'Courier New',monospace\">[tesseract] lots of diacritics - possibly poor OCR\n",
       "</pre>\n"
      ],
      "text/plain": [
       "[tesseract] lots of diacritics - possibly poor OCR\n"
      ]
     },
     "metadata": {},
     "output_type": "display_data"
    },
    {
     "data": {
      "text/html": [
       "<pre style=\"white-space:pre;overflow-x:auto;line-height:normal;font-family:Menlo,'DejaVu Sans Mono',consolas,'Courier New',monospace\">[tesseract] lots of diacritics - possibly poor OCR\n",
       "</pre>\n"
      ],
      "text/plain": [
       "[tesseract] lots of diacritics - possibly poor OCR\n"
      ]
     },
     "metadata": {},
     "output_type": "display_data"
    },
    {
     "data": {
      "text/html": [
       "<pre style=\"white-space:pre;overflow-x:auto;line-height:normal;font-family:Menlo,'DejaVu Sans Mono',consolas,'Courier New',monospace\"></pre>\n"
      ],
      "text/plain": []
     },
     "metadata": {},
     "output_type": "display_data"
    },
    {
     "data": {
      "application/vnd.jupyter.widget-view+json": {
       "model_id": "a9f7fa0d62ae48cbbd50d6da5214ce19",
       "version_major": 2,
       "version_minor": 0
      },
      "text/plain": [
       "Output()"
      ]
     },
     "metadata": {},
     "output_type": "display_data"
    },
    {
     "data": {
      "text/html": [
       "<pre style=\"white-space:pre;overflow-x:auto;line-height:normal;font-family:Menlo,'DejaVu Sans Mono',consolas,'Courier New',monospace\"></pre>\n"
      ],
      "text/plain": []
     },
     "metadata": {},
     "output_type": "display_data"
    },
    {
     "data": {
      "application/vnd.jupyter.widget-view+json": {
       "model_id": "aa499884a9bd487bb5fe5c1d6db39d6e",
       "version_major": 2,
       "version_minor": 0
      },
      "text/plain": [
       "Output()"
      ]
     },
     "metadata": {},
     "output_type": "display_data"
    },
    {
     "data": {
      "text/html": [
       "<pre style=\"white-space:pre;overflow-x:auto;line-height:normal;font-family:Menlo,'DejaVu Sans Mono',consolas,'Courier New',monospace\"></pre>\n"
      ],
      "text/plain": []
     },
     "metadata": {},
     "output_type": "display_data"
    },
    {
     "data": {
      "application/vnd.jupyter.widget-view+json": {
       "model_id": "6c23b3b2f24046debb63a360f9157256",
       "version_major": 2,
       "version_minor": 0
      },
      "text/plain": [
       "Output()"
      ]
     },
     "metadata": {},
     "output_type": "display_data"
    },
    {
     "data": {
      "text/html": [
       "<pre style=\"white-space:pre;overflow-x:auto;line-height:normal;font-family:Menlo,'DejaVu Sans Mono',consolas,'Courier New',monospace\"></pre>\n"
      ],
      "text/plain": []
     },
     "metadata": {},
     "output_type": "display_data"
    },
    {
     "data": {
      "application/vnd.jupyter.widget-view+json": {
       "model_id": "4369f4b65d154f2e9b3a41c9bcd757df",
       "version_major": 2,
       "version_minor": 0
      },
      "text/plain": [
       "Output()"
      ]
     },
     "metadata": {},
     "output_type": "display_data"
    },
    {
     "data": {
      "text/html": [
       "<pre style=\"white-space:pre;overflow-x:auto;line-height:normal;font-family:Menlo,'DejaVu Sans Mono',consolas,'Courier New',monospace\"></pre>\n"
      ],
      "text/plain": []
     },
     "metadata": {},
     "output_type": "display_data"
    },
    {
     "name": "stderr",
     "output_type": "stream",
     "text": [
      "The output file size is 1.60× larger than the input file.\n",
      "Possible reasons for this include:\n",
      "--deskew was issued, causing transcoding.\n",
      "The optional dependency 'jbig2' was not found, so some image optimizations could not be attempted.\n",
      "The optional dependency 'pngquant' was not found, so some image optimizations could not be attempted.\n",
      "\n",
      "INFO - Processed file 474400 with tag E7 - Value Engineering\n",
      "INFO - Added tag E7 to file with hash b994b8d0a8c3836ff805868d86e06287d84541b5\n",
      "INFO - Added tag E to file with hash b994b8d0a8c3836ff805868d86e06287d84541b5\n",
      "INFO - Processing file number 7 of 30: 133701\n",
      "INFO - Found file 133701 at N:\\PPDO\\Records\\111xx  Area Planning Documents and Studies\\11105\\E - Program and Design\\E7 - Value Engineering\\E7.1 - Value Engineering Correspondence\\File 11105 Attendees 2.12.90 (2).pdf\n",
      "INFO - Processed file 133701 with tag E7 - Value Engineering\n",
      "INFO - Added tag E7 to file with hash 90e7e0f13a11924acf63cc494a3e65d7b4fa4d3b\n",
      "INFO - Added tag E to file with hash 90e7e0f13a11924acf63cc494a3e65d7b4fa4d3b\n",
      "INFO - Processing file number 8 of 30: 256565\n",
      "INFO - Found file 256565 at N:\\PPDO\\Records\\26xx   Merrill College (College 4)\\2637\\2637\\E - Program and Design\\E7 - Value Engineering\\UCSC Merrill College Renovation 50% CD Phase 2 Structural Peer Review Comments 2013 05 13.docx\n",
      "INFO - Processed file 256565 with tag E7 - Value Engineering\n",
      "INFO - Added tag E7 to file with hash ff8c0399c3fd4c82a6039985a56746024fb85232\n",
      "INFO - Added tag E to file with hash ff8c0399c3fd4c82a6039985a56746024fb85232\n",
      "INFO - Processing file number 9 of 30: 917478\n",
      "INFO - Found file 917478 at N:\\PPDO\\Records\\62xx   Physical Sciences Building (Natural Sciences 5)\\6201\\6201\\6201\\E - Program and Design\\E7 - Value Engineering\\VE 2-Costed Items-6-27.xls\n",
      "INFO - Processed file 917478 with tag E7 - Value Engineering\n",
      "INFO - Added tag E7 to file with hash 48ad52853f97a8fa60b2f452febf23f96c22e8a5\n",
      "INFO - Added tag E to file with hash 48ad52853f97a8fa60b2f452febf23f96c22e8a5\n",
      "INFO - Processing file number 10 of 30: 819586\n",
      "INFO - Found file 819586 at N:\\PPDO\\Records\\75xx   Humanities\\7501\\7501\\E - Program and Design\\E7 - Value Engineering\\Value Engineering\\0217_DD_VE_List.xls\n",
      "INFO - Processed file 819586 with tag E7 - Value Engineering\n",
      "INFO - Added tag E7 to file with hash 5126149d073818cbfcf4e0a1d24f250740f64689\n",
      "INFO - Added tag E to file with hash 5126149d073818cbfcf4e0a1d24f250740f64689\n",
      "INFO - Processing file number 11 of 30: 819596\n",
      "INFO - Found file 819596 at N:\\PPDO\\Records\\75xx   Humanities\\7501\\7501\\E - Program and Design\\E7 - Value Engineering\\Value Engineering PDFs\\VE-SS-013.pdf\n"
     ]
    },
    {
     "data": {
      "application/vnd.jupyter.widget-view+json": {
       "model_id": "535a76103cb844be95a6379cd181bb84",
       "version_major": 2,
       "version_minor": 0
      },
      "text/plain": [
       "Output()"
      ]
     },
     "metadata": {},
     "output_type": "display_data"
    },
    {
     "data": {
      "text/html": [
       "<pre style=\"white-space:pre;overflow-x:auto;line-height:normal;font-family:Menlo,'DejaVu Sans Mono',consolas,'Courier New',monospace\"></pre>\n"
      ],
      "text/plain": []
     },
     "metadata": {},
     "output_type": "display_data"
    },
    {
     "data": {
      "application/vnd.jupyter.widget-view+json": {
       "model_id": "b2998baeb5a64b6fb8cf15fe48aaff09",
       "version_major": 2,
       "version_minor": 0
      },
      "text/plain": [
       "Output()"
      ]
     },
     "metadata": {},
     "output_type": "display_data"
    },
    {
     "data": {
      "text/html": [
       "<pre style=\"white-space:pre;overflow-x:auto;line-height:normal;font-family:Menlo,'DejaVu Sans Mono',consolas,'Courier New',monospace\"></pre>\n"
      ],
      "text/plain": []
     },
     "metadata": {},
     "output_type": "display_data"
    },
    {
     "data": {
      "application/vnd.jupyter.widget-view+json": {
       "model_id": "ca21e7e9e0d44df69e4823d3e890fe95",
       "version_major": 2,
       "version_minor": 0
      },
      "text/plain": [
       "Output()"
      ]
     },
     "metadata": {},
     "output_type": "display_data"
    },
    {
     "data": {
      "text/html": [
       "<pre style=\"white-space:pre;overflow-x:auto;line-height:normal;font-family:Menlo,'DejaVu Sans Mono',consolas,'Courier New',monospace\"></pre>\n"
      ],
      "text/plain": []
     },
     "metadata": {},
     "output_type": "display_data"
    },
    {
     "data": {
      "application/vnd.jupyter.widget-view+json": {
       "model_id": "c147c716eceb49f3a88f00f8afb552ce",
       "version_major": 2,
       "version_minor": 0
      },
      "text/plain": [
       "Output()"
      ]
     },
     "metadata": {},
     "output_type": "display_data"
    },
    {
     "data": {
      "text/html": [
       "<pre style=\"white-space:pre;overflow-x:auto;line-height:normal;font-family:Menlo,'DejaVu Sans Mono',consolas,'Courier New',monospace\"></pre>\n"
      ],
      "text/plain": []
     },
     "metadata": {},
     "output_type": "display_data"
    },
    {
     "data": {
      "application/vnd.jupyter.widget-view+json": {
       "model_id": "6ad25f6910944e0085eb4e88c34648ca",
       "version_major": 2,
       "version_minor": 0
      },
      "text/plain": [
       "Output()"
      ]
     },
     "metadata": {},
     "output_type": "display_data"
    },
    {
     "data": {
      "text/html": [
       "<pre style=\"white-space:pre;overflow-x:auto;line-height:normal;font-family:Menlo,'DejaVu Sans Mono',consolas,'Courier New',monospace\"></pre>\n"
      ],
      "text/plain": []
     },
     "metadata": {},
     "output_type": "display_data"
    },
    {
     "data": {
      "application/vnd.jupyter.widget-view+json": {
       "model_id": "1be9781fb78040efb16732e79abe2d41",
       "version_major": 2,
       "version_minor": 0
      },
      "text/plain": [
       "Output()"
      ]
     },
     "metadata": {},
     "output_type": "display_data"
    },
    {
     "data": {
      "text/html": [
       "<pre style=\"white-space:pre;overflow-x:auto;line-height:normal;font-family:Menlo,'DejaVu Sans Mono',consolas,'Courier New',monospace\"></pre>\n"
      ],
      "text/plain": []
     },
     "metadata": {},
     "output_type": "display_data"
    },
    {
     "name": "stderr",
     "output_type": "stream",
     "text": [
      "INFO - Processed file 819596 with tag E7 - Value Engineering\n",
      "INFO - Added tag E7 to file with hash e2ce167ca3b5e00edb7e6ab0d0c518e6cc284b66\n",
      "INFO - Added tag E to file with hash e2ce167ca3b5e00edb7e6ab0d0c518e6cc284b66\n",
      "INFO - Processing file number 12 of 30: 819590\n",
      "INFO - Found file 819590 at N:\\PPDO\\Records\\75xx   Humanities\\7501\\7501\\E - Program and Design\\E7 - Value Engineering\\Value Engineering PDFs\\VE-A-017.pdf\n"
     ]
    },
    {
     "data": {
      "application/vnd.jupyter.widget-view+json": {
       "model_id": "69890f586de44716a6fd20a309e2e339",
       "version_major": 2,
       "version_minor": 0
      },
      "text/plain": [
       "Output()"
      ]
     },
     "metadata": {},
     "output_type": "display_data"
    },
    {
     "data": {
      "text/html": [
       "<pre style=\"white-space:pre;overflow-x:auto;line-height:normal;font-family:Menlo,'DejaVu Sans Mono',consolas,'Courier New',monospace\"></pre>\n"
      ],
      "text/plain": []
     },
     "metadata": {},
     "output_type": "display_data"
    },
    {
     "data": {
      "application/vnd.jupyter.widget-view+json": {
       "model_id": "753bc92b337a460faf4480049cff4b08",
       "version_major": 2,
       "version_minor": 0
      },
      "text/plain": [
       "Output()"
      ]
     },
     "metadata": {},
     "output_type": "display_data"
    },
    {
     "data": {
      "text/html": [
       "<pre style=\"white-space:pre;overflow-x:auto;line-height:normal;font-family:Menlo,'DejaVu Sans Mono',consolas,'Courier New',monospace\"></pre>\n"
      ],
      "text/plain": []
     },
     "metadata": {},
     "output_type": "display_data"
    },
    {
     "data": {
      "application/vnd.jupyter.widget-view+json": {
       "model_id": "77b85b8c89a242c890998a0b4aff37e2",
       "version_major": 2,
       "version_minor": 0
      },
      "text/plain": [
       "Output()"
      ]
     },
     "metadata": {},
     "output_type": "display_data"
    },
    {
     "data": {
      "text/html": [
       "<pre style=\"white-space:pre;overflow-x:auto;line-height:normal;font-family:Menlo,'DejaVu Sans Mono',consolas,'Courier New',monospace\"></pre>\n"
      ],
      "text/plain": []
     },
     "metadata": {},
     "output_type": "display_data"
    },
    {
     "data": {
      "application/vnd.jupyter.widget-view+json": {
       "model_id": "def9e909f8e14073bd5865305f888f9a",
       "version_major": 2,
       "version_minor": 0
      },
      "text/plain": [
       "Output()"
      ]
     },
     "metadata": {},
     "output_type": "display_data"
    },
    {
     "data": {
      "text/html": [
       "<pre style=\"white-space:pre;overflow-x:auto;line-height:normal;font-family:Menlo,'DejaVu Sans Mono',consolas,'Courier New',monospace\"></pre>\n"
      ],
      "text/plain": []
     },
     "metadata": {},
     "output_type": "display_data"
    },
    {
     "data": {
      "application/vnd.jupyter.widget-view+json": {
       "model_id": "ed166dc8baf7437ab87f2d8866ce2c34",
       "version_major": 2,
       "version_minor": 0
      },
      "text/plain": [
       "Output()"
      ]
     },
     "metadata": {},
     "output_type": "display_data"
    },
    {
     "data": {
      "text/html": [
       "<pre style=\"white-space:pre;overflow-x:auto;line-height:normal;font-family:Menlo,'DejaVu Sans Mono',consolas,'Courier New',monospace\"></pre>\n"
      ],
      "text/plain": []
     },
     "metadata": {},
     "output_type": "display_data"
    },
    {
     "data": {
      "application/vnd.jupyter.widget-view+json": {
       "model_id": "b8700368566c42c4b2cfb0cb7fa90717",
       "version_major": 2,
       "version_minor": 0
      },
      "text/plain": [
       "Output()"
      ]
     },
     "metadata": {},
     "output_type": "display_data"
    },
    {
     "data": {
      "text/html": [
       "<pre style=\"white-space:pre;overflow-x:auto;line-height:normal;font-family:Menlo,'DejaVu Sans Mono',consolas,'Courier New',monospace\"></pre>\n"
      ],
      "text/plain": []
     },
     "metadata": {},
     "output_type": "display_data"
    },
    {
     "name": "stderr",
     "output_type": "stream",
     "text": [
      "INFO - Processed file 819590 with tag E7 - Value Engineering\n",
      "INFO - Added tag E7 to file with hash d2fdcd90ab9c5cd7393151e8040d3cf3215db992\n",
      "INFO - Added tag E to file with hash d2fdcd90ab9c5cd7393151e8040d3cf3215db992\n",
      "INFO - Processing file number 13 of 30: 236276\n",
      "INFO - Found file 236276 at N:\\PPDO\\Records\\23xx   Crown College (College 3)\\2358\\2358\\E - Program and Design\\E7 - Value Engineering\\Email - Site VE Items.pdf\n",
      "INFO - Processed file 236276 with tag E7 - Value Engineering\n",
      "INFO - Added tag E7 to file with hash 4b2b43e34d092b9c96c339816197b280d4085600\n",
      "INFO - Added tag E to file with hash 4b2b43e34d092b9c96c339816197b280d4085600\n",
      "INFO - Processing file number 14 of 30: 805564\n",
      "INFO - Found file 805564 at N:\\PPDO\\Records\\68xx   East Campus Infill\\6801\\6801\\E- Program and Design\\E7 - Value Engineering\\File 6801 100%SD VE List.pdf\n",
      "INFO - Processed file 805564 with tag E7 - Value Engineering\n",
      "INFO - Added tag E7 to file with hash dba5a89d0673f5de993dcfce289cfaeabf7163ee\n",
      "INFO - Added tag E to file with hash dba5a89d0673f5de993dcfce289cfaeabf7163ee\n",
      "INFO - Processing file number 15 of 30: 247449\n",
      "INFO - Found file 247449 at N:\\PPDO\\Records\\26xx   Merrill College (College 4)\\2635\\2635\\E - Program and Design\\E7 - Value Engineering\\File 2635 Value Engineering- Updated 5-31-12.pdf\n",
      "INFO - Processed file 247449 with tag E7 - Value Engineering\n",
      "INFO - Added tag E7 to file with hash f9cd66b39c9ad5ddc99ba49dc17f56acef3303af\n",
      "INFO - Added tag E to file with hash f9cd66b39c9ad5ddc99ba49dc17f56acef3303af\n",
      "INFO - Processing file number 16 of 30: 247450\n",
      "INFO - Found file 247450 at N:\\PPDO\\Records\\26xx   Merrill College (College 4)\\2635\\2635\\E - Program and Design\\E7 - Value Engineering\\File 2635 Value Engineering-Updated 7-13-12.pdf\n",
      "INFO - Processed file 247450 with tag E7 - Value Engineering\n",
      "INFO - Added tag E7 to file with hash 634ebbf39d93c2d276c1924b5c3dd7e31adf88d8\n",
      "INFO - Added tag E to file with hash 634ebbf39d93c2d276c1924b5c3dd7e31adf88d8\n",
      "INFO - Processing file number 17 of 30: 819589\n",
      "INFO - Found file 819589 at N:\\PPDO\\Records\\75xx   Humanities\\7501\\7501\\E - Program and Design\\E7 - Value Engineering\\Value Engineering PDFs\\VE-A-005.pdf\n"
     ]
    },
    {
     "data": {
      "application/vnd.jupyter.widget-view+json": {
       "model_id": "1dde35d8a8c6484d8536852ef2950d4a",
       "version_major": 2,
       "version_minor": 0
      },
      "text/plain": [
       "Output()"
      ]
     },
     "metadata": {},
     "output_type": "display_data"
    },
    {
     "data": {
      "text/html": [
       "<pre style=\"white-space:pre;overflow-x:auto;line-height:normal;font-family:Menlo,'DejaVu Sans Mono',consolas,'Courier New',monospace\"></pre>\n"
      ],
      "text/plain": []
     },
     "metadata": {},
     "output_type": "display_data"
    },
    {
     "data": {
      "application/vnd.jupyter.widget-view+json": {
       "model_id": "8ff4062f303148ae81c8b5d0c85c9ec5",
       "version_major": 2,
       "version_minor": 0
      },
      "text/plain": [
       "Output()"
      ]
     },
     "metadata": {},
     "output_type": "display_data"
    },
    {
     "data": {
      "text/html": [
       "<pre style=\"white-space:pre;overflow-x:auto;line-height:normal;font-family:Menlo,'DejaVu Sans Mono',consolas,'Courier New',monospace\"></pre>\n"
      ],
      "text/plain": []
     },
     "metadata": {},
     "output_type": "display_data"
    },
    {
     "data": {
      "application/vnd.jupyter.widget-view+json": {
       "model_id": "c83425ee2a774e15bef78ee123306b1c",
       "version_major": 2,
       "version_minor": 0
      },
      "text/plain": [
       "Output()"
      ]
     },
     "metadata": {},
     "output_type": "display_data"
    },
    {
     "data": {
      "text/html": [
       "<pre style=\"white-space:pre;overflow-x:auto;line-height:normal;font-family:Menlo,'DejaVu Sans Mono',consolas,'Courier New',monospace\"></pre>\n"
      ],
      "text/plain": []
     },
     "metadata": {},
     "output_type": "display_data"
    },
    {
     "data": {
      "application/vnd.jupyter.widget-view+json": {
       "model_id": "72182cc96b37420eaefa619e94829a3c",
       "version_major": 2,
       "version_minor": 0
      },
      "text/plain": [
       "Output()"
      ]
     },
     "metadata": {},
     "output_type": "display_data"
    },
    {
     "data": {
      "text/html": [
       "<pre style=\"white-space:pre;overflow-x:auto;line-height:normal;font-family:Menlo,'DejaVu Sans Mono',consolas,'Courier New',monospace\"></pre>\n"
      ],
      "text/plain": []
     },
     "metadata": {},
     "output_type": "display_data"
    },
    {
     "data": {
      "application/vnd.jupyter.widget-view+json": {
       "model_id": "cd21139ccdb94ee9a36e120f8c88a58e",
       "version_major": 2,
       "version_minor": 0
      },
      "text/plain": [
       "Output()"
      ]
     },
     "metadata": {},
     "output_type": "display_data"
    },
    {
     "data": {
      "text/html": [
       "<pre style=\"white-space:pre;overflow-x:auto;line-height:normal;font-family:Menlo,'DejaVu Sans Mono',consolas,'Courier New',monospace\"></pre>\n"
      ],
      "text/plain": []
     },
     "metadata": {},
     "output_type": "display_data"
    },
    {
     "data": {
      "application/vnd.jupyter.widget-view+json": {
       "model_id": "7dec09caad9b4918b57ddb8dda442be3",
       "version_major": 2,
       "version_minor": 0
      },
      "text/plain": [
       "Output()"
      ]
     },
     "metadata": {},
     "output_type": "display_data"
    },
    {
     "data": {
      "text/html": [
       "<pre style=\"white-space:pre;overflow-x:auto;line-height:normal;font-family:Menlo,'DejaVu Sans Mono',consolas,'Courier New',monospace\"></pre>\n"
      ],
      "text/plain": []
     },
     "metadata": {},
     "output_type": "display_data"
    },
    {
     "name": "stderr",
     "output_type": "stream",
     "text": [
      "INFO - Processed file 819589 with tag E7 - Value Engineering\n",
      "INFO - Added tag E7 to file with hash 92f0de79933239a68af1dfc957d31234f5ee46d7\n",
      "INFO - Added tag E to file with hash 92f0de79933239a68af1dfc957d31234f5ee46d7\n",
      "INFO - Processing file number 18 of 30: 819602\n",
      "INFO - Found file 819602 at N:\\PPDO\\Records\\75xx   Humanities\\7501\\7501\\E - Program and Design\\E7 - Value Engineering\\Value Engineering PDFs\\VE-SS-030.pdf\n"
     ]
    },
    {
     "data": {
      "application/vnd.jupyter.widget-view+json": {
       "model_id": "0c62fde165b94d14bbaf6e09ee546bda",
       "version_major": 2,
       "version_minor": 0
      },
      "text/plain": [
       "Output()"
      ]
     },
     "metadata": {},
     "output_type": "display_data"
    },
    {
     "data": {
      "text/html": [
       "<pre style=\"white-space:pre;overflow-x:auto;line-height:normal;font-family:Menlo,'DejaVu Sans Mono',consolas,'Courier New',monospace\"></pre>\n"
      ],
      "text/plain": []
     },
     "metadata": {},
     "output_type": "display_data"
    },
    {
     "data": {
      "application/vnd.jupyter.widget-view+json": {
       "model_id": "0707e2d346294da0939ba203f76659bd",
       "version_major": 2,
       "version_minor": 0
      },
      "text/plain": [
       "Output()"
      ]
     },
     "metadata": {},
     "output_type": "display_data"
    },
    {
     "data": {
      "text/html": [
       "<pre style=\"white-space:pre;overflow-x:auto;line-height:normal;font-family:Menlo,'DejaVu Sans Mono',consolas,'Courier New',monospace\"></pre>\n"
      ],
      "text/plain": []
     },
     "metadata": {},
     "output_type": "display_data"
    },
    {
     "data": {
      "application/vnd.jupyter.widget-view+json": {
       "model_id": "00809d2478ff4cc3a3eb313ee8ac6650",
       "version_major": 2,
       "version_minor": 0
      },
      "text/plain": [
       "Output()"
      ]
     },
     "metadata": {},
     "output_type": "display_data"
    },
    {
     "data": {
      "text/html": [
       "<pre style=\"white-space:pre;overflow-x:auto;line-height:normal;font-family:Menlo,'DejaVu Sans Mono',consolas,'Courier New',monospace\"></pre>\n"
      ],
      "text/plain": []
     },
     "metadata": {},
     "output_type": "display_data"
    },
    {
     "data": {
      "application/vnd.jupyter.widget-view+json": {
       "model_id": "e77d53f083ee4ea99db53af440f9d866",
       "version_major": 2,
       "version_minor": 0
      },
      "text/plain": [
       "Output()"
      ]
     },
     "metadata": {},
     "output_type": "display_data"
    },
    {
     "data": {
      "text/html": [
       "<pre style=\"white-space:pre;overflow-x:auto;line-height:normal;font-family:Menlo,'DejaVu Sans Mono',consolas,'Courier New',monospace\"></pre>\n"
      ],
      "text/plain": []
     },
     "metadata": {},
     "output_type": "display_data"
    },
    {
     "data": {
      "application/vnd.jupyter.widget-view+json": {
       "model_id": "adf428fbfa934414acd0bf7632792862",
       "version_major": 2,
       "version_minor": 0
      },
      "text/plain": [
       "Output()"
      ]
     },
     "metadata": {},
     "output_type": "display_data"
    },
    {
     "data": {
      "text/html": [
       "<pre style=\"white-space:pre;overflow-x:auto;line-height:normal;font-family:Menlo,'DejaVu Sans Mono',consolas,'Courier New',monospace\"></pre>\n"
      ],
      "text/plain": []
     },
     "metadata": {},
     "output_type": "display_data"
    },
    {
     "data": {
      "application/vnd.jupyter.widget-view+json": {
       "model_id": "1888a4229703424aa00b4acd31c7a143",
       "version_major": 2,
       "version_minor": 0
      },
      "text/plain": [
       "Output()"
      ]
     },
     "metadata": {},
     "output_type": "display_data"
    },
    {
     "data": {
      "text/html": [
       "<pre style=\"white-space:pre;overflow-x:auto;line-height:normal;font-family:Menlo,'DejaVu Sans Mono',consolas,'Courier New',monospace\"></pre>\n"
      ],
      "text/plain": []
     },
     "metadata": {},
     "output_type": "display_data"
    },
    {
     "name": "stderr",
     "output_type": "stream",
     "text": [
      "INFO - Processed file 819602 with tag E7 - Value Engineering\n",
      "INFO - Added tag E7 to file with hash ef0e1f2d3cacc504ed8bc88ca325a67ef91b3fcc\n",
      "INFO - Added tag E to file with hash ef0e1f2d3cacc504ed8bc88ca325a67ef91b3fcc\n",
      "INFO - Processing file number 19 of 30: 132560\n",
      "INFO - Found file 132560 at N:\\PPDO\\Records\\110xx  Infrastructure Planning Documents and Studies\\11005\\11005\\E - Program and Design\\E7 - Value Engineering\\11005.E7.Area Planning Documents and Studies.pdf\n"
     ]
    },
    {
     "data": {
      "application/vnd.jupyter.widget-view+json": {
       "model_id": "f7423fc3182945dabbc3000e9164dc13",
       "version_major": 2,
       "version_minor": 0
      },
      "text/plain": [
       "Output()"
      ]
     },
     "metadata": {},
     "output_type": "display_data"
    },
    {
     "data": {
      "text/html": [
       "<pre style=\"white-space:pre;overflow-x:auto;line-height:normal;font-family:Menlo,'DejaVu Sans Mono',consolas,'Courier New',monospace\"></pre>\n"
      ],
      "text/plain": []
     },
     "metadata": {},
     "output_type": "display_data"
    },
    {
     "data": {
      "application/vnd.jupyter.widget-view+json": {
       "model_id": "c16ba7d7196a4b25bceefa2e44630db1",
       "version_major": 2,
       "version_minor": 0
      },
      "text/plain": [
       "Output()"
      ]
     },
     "metadata": {},
     "output_type": "display_data"
    },
    {
     "data": {
      "text/html": [
       "<pre style=\"white-space:pre;overflow-x:auto;line-height:normal;font-family:Menlo,'DejaVu Sans Mono',consolas,'Courier New',monospace\">[tesseract] lots of diacritics - possibly poor OCR\n",
       "</pre>\n"
      ],
      "text/plain": [
       "[tesseract] lots of diacritics - possibly poor OCR\n"
      ]
     },
     "metadata": {},
     "output_type": "display_data"
    },
    {
     "data": {
      "text/html": [
       "<pre style=\"white-space:pre;overflow-x:auto;line-height:normal;font-family:Menlo,'DejaVu Sans Mono',consolas,'Courier New',monospace\"></pre>\n"
      ],
      "text/plain": []
     },
     "metadata": {},
     "output_type": "display_data"
    },
    {
     "data": {
      "application/vnd.jupyter.widget-view+json": {
       "model_id": "2ebc39e7d5334cadb9b896a6089b7289",
       "version_major": 2,
       "version_minor": 0
      },
      "text/plain": [
       "Output()"
      ]
     },
     "metadata": {},
     "output_type": "display_data"
    },
    {
     "data": {
      "text/html": [
       "<pre style=\"white-space:pre;overflow-x:auto;line-height:normal;font-family:Menlo,'DejaVu Sans Mono',consolas,'Courier New',monospace\"></pre>\n"
      ],
      "text/plain": []
     },
     "metadata": {},
     "output_type": "display_data"
    },
    {
     "data": {
      "application/vnd.jupyter.widget-view+json": {
       "model_id": "3afa1c6c9b9d465ba207064a15d05370",
       "version_major": 2,
       "version_minor": 0
      },
      "text/plain": [
       "Output()"
      ]
     },
     "metadata": {},
     "output_type": "display_data"
    },
    {
     "data": {
      "text/html": [
       "<pre style=\"white-space:pre;overflow-x:auto;line-height:normal;font-family:Menlo,'DejaVu Sans Mono',consolas,'Courier New',monospace\"></pre>\n"
      ],
      "text/plain": []
     },
     "metadata": {},
     "output_type": "display_data"
    },
    {
     "data": {
      "application/vnd.jupyter.widget-view+json": {
       "model_id": "b8297e4d1e7549aea8de1c9b6ee0dc77",
       "version_major": 2,
       "version_minor": 0
      },
      "text/plain": [
       "Output()"
      ]
     },
     "metadata": {},
     "output_type": "display_data"
    },
    {
     "data": {
      "text/html": [
       "<pre style=\"white-space:pre;overflow-x:auto;line-height:normal;font-family:Menlo,'DejaVu Sans Mono',consolas,'Courier New',monospace\"></pre>\n"
      ],
      "text/plain": []
     },
     "metadata": {},
     "output_type": "display_data"
    },
    {
     "data": {
      "application/vnd.jupyter.widget-view+json": {
       "model_id": "f7e4f36974f24033b59bbeb61d1c8cca",
       "version_major": 2,
       "version_minor": 0
      },
      "text/plain": [
       "Output()"
      ]
     },
     "metadata": {},
     "output_type": "display_data"
    },
    {
     "data": {
      "text/html": [
       "<pre style=\"white-space:pre;overflow-x:auto;line-height:normal;font-family:Menlo,'DejaVu Sans Mono',consolas,'Courier New',monospace\"></pre>\n"
      ],
      "text/plain": []
     },
     "metadata": {},
     "output_type": "display_data"
    },
    {
     "name": "stderr",
     "output_type": "stream",
     "text": [
      "INFO - Processed file 132560 with tag E7 - Value Engineering\n",
      "INFO - Added tag E7 to file with hash 41071d3003a99bab9e7e18cfd0d13b2c445f9a79\n",
      "INFO - Added tag E to file with hash 41071d3003a99bab9e7e18cfd0d13b2c445f9a79\n",
      "INFO - Processing file number 20 of 30: 247365\n",
      "INFO - Found file 247365 at N:\\PPDO\\Records\\26xx   Merrill College (College 4)\\2635\\2635\\E - Program and Design\\E5 - Program and Design Correspondence\\File 2635 Additional Utilitiy Survey.pdf\n",
      "WARNING - File 247365 does not match tag E7 - Value Engineering in its location directories\n",
      "INFO - Found file 247365 at N:\\PPDO\\Records\\26xx   Merrill College (College 4)\\2635\\2635\\E - Program and Design\\E7 - Value Engineering\\File 2635 Proposed Value Engineering Log.pdf\n",
      "INFO - Processed file 247365 with tag E7 - Value Engineering\n",
      "INFO - Added tag E7 to file with hash 754b1062eadefc9e4127d94f3a66757af867a9d3\n",
      "INFO - Added tag E to file with hash 754b1062eadefc9e4127d94f3a66757af867a9d3\n",
      "INFO - Processing file number 21 of 30: 819592\n",
      "INFO - Found file 819592 at N:\\PPDO\\Records\\75xx   Humanities\\7501\\7501\\E - Program and Design\\E7 - Value Engineering\\Value Engineering PDFs\\VE-E-001.pdf\n"
     ]
    },
    {
     "data": {
      "application/vnd.jupyter.widget-view+json": {
       "model_id": "2bc8fa66dc304264ac964efa2c68c0b3",
       "version_major": 2,
       "version_minor": 0
      },
      "text/plain": [
       "Output()"
      ]
     },
     "metadata": {},
     "output_type": "display_data"
    },
    {
     "data": {
      "text/html": [
       "<pre style=\"white-space:pre;overflow-x:auto;line-height:normal;font-family:Menlo,'DejaVu Sans Mono',consolas,'Courier New',monospace\"></pre>\n"
      ],
      "text/plain": []
     },
     "metadata": {},
     "output_type": "display_data"
    },
    {
     "data": {
      "application/vnd.jupyter.widget-view+json": {
       "model_id": "8c1f6641241c4d66911ca18a2fadf522",
       "version_major": 2,
       "version_minor": 0
      },
      "text/plain": [
       "Output()"
      ]
     },
     "metadata": {},
     "output_type": "display_data"
    },
    {
     "data": {
      "text/html": [
       "<pre style=\"white-space:pre;overflow-x:auto;line-height:normal;font-family:Menlo,'DejaVu Sans Mono',consolas,'Courier New',monospace\"></pre>\n"
      ],
      "text/plain": []
     },
     "metadata": {},
     "output_type": "display_data"
    },
    {
     "data": {
      "application/vnd.jupyter.widget-view+json": {
       "model_id": "27eb0408c9e9411189cbdbcc0e05653c",
       "version_major": 2,
       "version_minor": 0
      },
      "text/plain": [
       "Output()"
      ]
     },
     "metadata": {},
     "output_type": "display_data"
    },
    {
     "data": {
      "text/html": [
       "<pre style=\"white-space:pre;overflow-x:auto;line-height:normal;font-family:Menlo,'DejaVu Sans Mono',consolas,'Courier New',monospace\"></pre>\n"
      ],
      "text/plain": []
     },
     "metadata": {},
     "output_type": "display_data"
    },
    {
     "data": {
      "application/vnd.jupyter.widget-view+json": {
       "model_id": "47dfd1f55f834f989517706d53192ab3",
       "version_major": 2,
       "version_minor": 0
      },
      "text/plain": [
       "Output()"
      ]
     },
     "metadata": {},
     "output_type": "display_data"
    },
    {
     "data": {
      "text/html": [
       "<pre style=\"white-space:pre;overflow-x:auto;line-height:normal;font-family:Menlo,'DejaVu Sans Mono',consolas,'Courier New',monospace\"></pre>\n"
      ],
      "text/plain": []
     },
     "metadata": {},
     "output_type": "display_data"
    },
    {
     "data": {
      "application/vnd.jupyter.widget-view+json": {
       "model_id": "5d7e9bae04494692a0870416a88f1c52",
       "version_major": 2,
       "version_minor": 0
      },
      "text/plain": [
       "Output()"
      ]
     },
     "metadata": {},
     "output_type": "display_data"
    },
    {
     "data": {
      "text/html": [
       "<pre style=\"white-space:pre;overflow-x:auto;line-height:normal;font-family:Menlo,'DejaVu Sans Mono',consolas,'Courier New',monospace\"></pre>\n"
      ],
      "text/plain": []
     },
     "metadata": {},
     "output_type": "display_data"
    },
    {
     "data": {
      "application/vnd.jupyter.widget-view+json": {
       "model_id": "c1e560478a694eca8524262dde40136c",
       "version_major": 2,
       "version_minor": 0
      },
      "text/plain": [
       "Output()"
      ]
     },
     "metadata": {},
     "output_type": "display_data"
    },
    {
     "data": {
      "text/html": [
       "<pre style=\"white-space:pre;overflow-x:auto;line-height:normal;font-family:Menlo,'DejaVu Sans Mono',consolas,'Courier New',monospace\"></pre>\n"
      ],
      "text/plain": []
     },
     "metadata": {},
     "output_type": "display_data"
    },
    {
     "name": "stderr",
     "output_type": "stream",
     "text": [
      "WARNING - Text length for file 819592 is 139:\n",
      "722.2\n",
      "Q G\n",
      "aD)MOUNTEDGENERATOR NATURALNGAS\n",
      "280kW\n",
      "NEMA\n",
      "3R”\n",
      "NON-SOUNDATTENUATED\n",
      "ENCLOSURE\n",
      ">\n",
      "JND\n",
      "INICATION\n",
      "JUITS——_#\n",
      "!\n",
      "PRIMARYSWITCHL\n",
      "LA\n",
      "12004\n",
      "\n",
      "INFO - Processing file number 22 of 30: 339495\n",
      "INFO - Found file 339495 at N:\\PPDO\\Records\\32xx   Kresge College (College 6)\\3238\\3238\\E - Program and Design\\E6 - Reports (soils, structural, acoustic, calculations, etc.)\\190923 Kresge - ACAD VE idea\\Kresge Constructability Review.xlsx\n",
      "WARNING - File 339495 does not match tag E7 - Value Engineering in its location directories\n",
      "INFO - Found file 339495 at N:\\PPDO\\Records\\32xx   Kresge College (College 6)\\3238\\3238\\E - Program and Design\\E7 - Value Engineering\\190923 Kresge - ACAD VE idea\\Kresge Constructability Review.xlsx\n",
      "INFO - Processed file 339495 with tag E7 - Value Engineering\n",
      "INFO - Added tag E7 to file with hash c61af6a539f20bb49a7dff8cdc89a122cf82c73f\n",
      "INFO - Added tag E to file with hash c61af6a539f20bb49a7dff8cdc89a122cf82c73f\n",
      "INFO - Processing file number 23 of 30: 468828\n",
      "INFO - Found file 468828 at N:\\PPDO\\Records\\49xx   Long Marine Lab\\4934\\4934\\E - Program and Design\\E7 - Value Engineering\\E7.1 - Value Engineering Correspondence\\File 4934.E7.1. Agendas.pdf\n"
     ]
    },
    {
     "data": {
      "application/vnd.jupyter.widget-view+json": {
       "model_id": "87b86de5e6ab4e998732e28ec098dc1e",
       "version_major": 2,
       "version_minor": 0
      },
      "text/plain": [
       "Output()"
      ]
     },
     "metadata": {},
     "output_type": "display_data"
    },
    {
     "data": {
      "text/html": [
       "<pre style=\"white-space:pre;overflow-x:auto;line-height:normal;font-family:Menlo,'DejaVu Sans Mono',consolas,'Courier New',monospace\"></pre>\n"
      ],
      "text/plain": []
     },
     "metadata": {},
     "output_type": "display_data"
    },
    {
     "data": {
      "application/vnd.jupyter.widget-view+json": {
       "model_id": "2d67ab9dc0fc4237b750ff6ec54f96a6",
       "version_major": 2,
       "version_minor": 0
      },
      "text/plain": [
       "Output()"
      ]
     },
     "metadata": {},
     "output_type": "display_data"
    },
    {
     "data": {
      "text/html": [
       "<pre style=\"white-space:pre;overflow-x:auto;line-height:normal;font-family:Menlo,'DejaVu Sans Mono',consolas,'Courier New',monospace\">[tesseract] lots of diacritics - possibly poor OCR\n",
       "</pre>\n"
      ],
      "text/plain": [
       "[tesseract] lots of diacritics - possibly poor OCR\n"
      ]
     },
     "metadata": {},
     "output_type": "display_data"
    },
    {
     "data": {
      "text/html": [
       "<pre style=\"white-space:pre;overflow-x:auto;line-height:normal;font-family:Menlo,'DejaVu Sans Mono',consolas,'Courier New',monospace\"></pre>\n"
      ],
      "text/plain": []
     },
     "metadata": {},
     "output_type": "display_data"
    },
    {
     "data": {
      "application/vnd.jupyter.widget-view+json": {
       "model_id": "22bc2eb5bc214d51b373b466200e90dd",
       "version_major": 2,
       "version_minor": 0
      },
      "text/plain": [
       "Output()"
      ]
     },
     "metadata": {},
     "output_type": "display_data"
    },
    {
     "data": {
      "text/html": [
       "<pre style=\"white-space:pre;overflow-x:auto;line-height:normal;font-family:Menlo,'DejaVu Sans Mono',consolas,'Courier New',monospace\"></pre>\n"
      ],
      "text/plain": []
     },
     "metadata": {},
     "output_type": "display_data"
    },
    {
     "data": {
      "application/vnd.jupyter.widget-view+json": {
       "model_id": "cef5f93656de400b822b5dabcfd7eb33",
       "version_major": 2,
       "version_minor": 0
      },
      "text/plain": [
       "Output()"
      ]
     },
     "metadata": {},
     "output_type": "display_data"
    },
    {
     "data": {
      "text/html": [
       "<pre style=\"white-space:pre;overflow-x:auto;line-height:normal;font-family:Menlo,'DejaVu Sans Mono',consolas,'Courier New',monospace\"></pre>\n"
      ],
      "text/plain": []
     },
     "metadata": {},
     "output_type": "display_data"
    },
    {
     "data": {
      "application/vnd.jupyter.widget-view+json": {
       "model_id": "0488182cba604fa0b098e54c75f57b31",
       "version_major": 2,
       "version_minor": 0
      },
      "text/plain": [
       "Output()"
      ]
     },
     "metadata": {},
     "output_type": "display_data"
    },
    {
     "data": {
      "text/html": [
       "<pre style=\"white-space:pre;overflow-x:auto;line-height:normal;font-family:Menlo,'DejaVu Sans Mono',consolas,'Courier New',monospace\"></pre>\n"
      ],
      "text/plain": []
     },
     "metadata": {},
     "output_type": "display_data"
    },
    {
     "data": {
      "application/vnd.jupyter.widget-view+json": {
       "model_id": "ee650ffe2613436c94705ef15e36b798",
       "version_major": 2,
       "version_minor": 0
      },
      "text/plain": [
       "Output()"
      ]
     },
     "metadata": {},
     "output_type": "display_data"
    },
    {
     "data": {
      "text/html": [
       "<pre style=\"white-space:pre;overflow-x:auto;line-height:normal;font-family:Menlo,'DejaVu Sans Mono',consolas,'Courier New',monospace\"></pre>\n"
      ],
      "text/plain": []
     },
     "metadata": {},
     "output_type": "display_data"
    },
    {
     "name": "stderr",
     "output_type": "stream",
     "text": [
      "INFO - Processed file 468828 with tag E7 - Value Engineering\n",
      "INFO - Added tag E7 to file with hash 7532ab6a92b9e222abbb011306825cf57f4d6bc8\n",
      "INFO - Added tag E to file with hash 7532ab6a92b9e222abbb011306825cf57f4d6bc8\n",
      "INFO - Processing file number 24 of 30: 236275\n",
      "INFO - Found file 236275 at N:\\PPDO\\Records\\23xx   Crown College (College 3)\\2358\\2358\\E - Program and Design\\E7 - Value Engineering\\2017-02-23 - VE Meeting.pdf\n"
     ]
    },
    {
     "data": {
      "application/vnd.jupyter.widget-view+json": {
       "model_id": "31d78210a41442c8b1dec419c70f66cb",
       "version_major": 2,
       "version_minor": 0
      },
      "text/plain": [
       "Output()"
      ]
     },
     "metadata": {},
     "output_type": "display_data"
    },
    {
     "data": {
      "text/html": [
       "<pre style=\"white-space:pre;overflow-x:auto;line-height:normal;font-family:Menlo,'DejaVu Sans Mono',consolas,'Courier New',monospace\"></pre>\n"
      ],
      "text/plain": []
     },
     "metadata": {},
     "output_type": "display_data"
    },
    {
     "data": {
      "application/vnd.jupyter.widget-view+json": {
       "model_id": "bdbaed393d15409c866637b292b488c6",
       "version_major": 2,
       "version_minor": 0
      },
      "text/plain": [
       "Output()"
      ]
     },
     "metadata": {},
     "output_type": "display_data"
    },
    {
     "data": {
      "text/html": [
       "<pre style=\"white-space:pre;overflow-x:auto;line-height:normal;font-family:Menlo,'DejaVu Sans Mono',consolas,'Courier New',monospace\"></pre>\n"
      ],
      "text/plain": []
     },
     "metadata": {},
     "output_type": "display_data"
    },
    {
     "data": {
      "application/vnd.jupyter.widget-view+json": {
       "model_id": "cdd958a7347841c6a82dc505eaeb36c2",
       "version_major": 2,
       "version_minor": 0
      },
      "text/plain": [
       "Output()"
      ]
     },
     "metadata": {},
     "output_type": "display_data"
    },
    {
     "data": {
      "text/html": [
       "<pre style=\"white-space:pre;overflow-x:auto;line-height:normal;font-family:Menlo,'DejaVu Sans Mono',consolas,'Courier New',monospace\"></pre>\n"
      ],
      "text/plain": []
     },
     "metadata": {},
     "output_type": "display_data"
    },
    {
     "data": {
      "application/vnd.jupyter.widget-view+json": {
       "model_id": "b35286ea8e8b41699de24d91a5d9def1",
       "version_major": 2,
       "version_minor": 0
      },
      "text/plain": [
       "Output()"
      ]
     },
     "metadata": {},
     "output_type": "display_data"
    },
    {
     "data": {
      "text/html": [
       "<pre style=\"white-space:pre;overflow-x:auto;line-height:normal;font-family:Menlo,'DejaVu Sans Mono',consolas,'Courier New',monospace\"></pre>\n"
      ],
      "text/plain": []
     },
     "metadata": {},
     "output_type": "display_data"
    },
    {
     "data": {
      "application/vnd.jupyter.widget-view+json": {
       "model_id": "05829d56680b402c9be05258458cdd21",
       "version_major": 2,
       "version_minor": 0
      },
      "text/plain": [
       "Output()"
      ]
     },
     "metadata": {},
     "output_type": "display_data"
    },
    {
     "data": {
      "text/html": [
       "<pre style=\"white-space:pre;overflow-x:auto;line-height:normal;font-family:Menlo,'DejaVu Sans Mono',consolas,'Courier New',monospace\"></pre>\n"
      ],
      "text/plain": []
     },
     "metadata": {},
     "output_type": "display_data"
    },
    {
     "data": {
      "application/vnd.jupyter.widget-view+json": {
       "model_id": "f544000bc6b240e6af3d9c0aee7a7968",
       "version_major": 2,
       "version_minor": 0
      },
      "text/plain": [
       "Output()"
      ]
     },
     "metadata": {},
     "output_type": "display_data"
    },
    {
     "data": {
      "text/html": [
       "<pre style=\"white-space:pre;overflow-x:auto;line-height:normal;font-family:Menlo,'DejaVu Sans Mono',consolas,'Courier New',monospace\"></pre>\n"
      ],
      "text/plain": []
     },
     "metadata": {},
     "output_type": "display_data"
    },
    {
     "name": "stderr",
     "output_type": "stream",
     "text": [
      "INFO - Processed file 236275 with tag E7 - Value Engineering\n",
      "INFO - Added tag E7 to file with hash c801677c328b4eb6963d87831a4bf106f4bdbbdd\n",
      "INFO - Added tag E to file with hash c801677c328b4eb6963d87831a4bf106f4bdbbdd\n",
      "INFO - Processing file number 25 of 30: 612681\n",
      "INFO - Found file 612681 at N:\\PPDO\\Records\\92xx   Antenna and Supporting Infrastructures\\9201\\9201-007\\E - Program and Design\\Final Report NextG UCSC Oakes.pdf\n",
      "WARNING - File 612681 does not match tag E7 - Value Engineering in its location directories\n",
      "INFO - Found file 612681 at N:\\PPDO\\Records\\92xx   Antenna and Supporting Infrastructures\\9201\\9201-007\\E - Program and Design\\USCS RF STUDIES\\Final Report NextG UCSC Oakes.pdf\n",
      "WARNING - File 612681 does not match tag E7 - Value Engineering in its location directories\n",
      "INFO - Found file 612681 at N:\\PPDO\\Records\\92xx   Antenna and Supporting Infrastructures\\9200\\9200-007\\D - Environmental Review Process\\EMF_RF Studies\\Preliminary\\Final Report NextG UCSC Oakes.pdf\n",
      "WARNING - File 612681 does not match tag E7 - Value Engineering in its location directories\n",
      "INFO - Found file 612681 at N:\\PPDO\\Records\\92xx   Antenna and Supporting Infrastructures\\9201\\9201-004\\DOCS\\E- Program and Design\\E7 - Value Engineering\\E7.2 - VE Workshop Minutes, Summaries, Final Reports\\File 9201-004 E7.2 Final Report NextG UCSC Oakes.pdf\n",
      "INFO - Processed file 612681 with tag E7 - Value Engineering\n",
      "INFO - Added tag E7 to file with hash 766fe3a4e404cabcb1f7de29123ceef5c0ce0690\n",
      "INFO - Added tag E to file with hash 766fe3a4e404cabcb1f7de29123ceef5c0ce0690\n",
      "INFO - Processing file number 26 of 30: 613237\n",
      "INFO - Found file 613237 at N:\\PPDO\\Records\\92xx   Antenna and Supporting Infrastructures\\9201\\9201-004\\DOCS\\E- Program and Design\\E7 - Value Engineering\\E7.2 - VE Workshop Minutes, Summaries, Final Reports\\File 9201-004 E7.2 Final Report UCSC Five Carrier Panel DBXLH-8585A-VTM.pdf\n",
      "INFO - Processed file 613237 with tag E7 - Value Engineering\n",
      "INFO - Added tag E7 to file with hash dd950ebe01f331a9e5849f78259f4404ff2f6513\n",
      "INFO - Added tag E to file with hash dd950ebe01f331a9e5849f78259f4404ff2f6513\n",
      "INFO - Processing file number 27 of 30: 272529\n",
      "INFO - Found file 272529 at N:\\PPDO\\Records\\27xx   Applied Sciences Baskin Engineering\\2700\\2700-128\\E - Program and Design\\E3 - Budget,  Cost Estimates,  Cost Proposal\\Revised VE plan and budget\\JBEB 216 Programming Rev B.pdf\n",
      "WARNING - File 272529 does not match tag E7 - Value Engineering in its location directories\n",
      "INFO - Found file 272529 at N:\\PPDO\\Records\\27xx   Applied Sciences Baskin Engineering\\2700\\2700-128\\E - Program and Design\\E7 - Value Engineering\\JBEB 216 Programming Rev B.pdf\n",
      "INFO - Processed file 272529 with tag E7 - Value Engineering\n",
      "INFO - Added tag E7 to file with hash cebf359505016766520b011f9b757fd8415839eb\n",
      "INFO - Added tag E to file with hash cebf359505016766520b011f9b757fd8415839eb\n",
      "INFO - Processing file number 28 of 30: 819605\n",
      "INFO - Found file 819605 at N:\\PPDO\\Records\\75xx   Humanities\\7501\\7501\\E - Program and Design\\E7 - Value Engineering\\Value Engineering PDFs\\VE-SW-006.pdf\n"
     ]
    },
    {
     "data": {
      "application/vnd.jupyter.widget-view+json": {
       "model_id": "70e410f6125f4a3ca1bafb4057464dad",
       "version_major": 2,
       "version_minor": 0
      },
      "text/plain": [
       "Output()"
      ]
     },
     "metadata": {},
     "output_type": "display_data"
    },
    {
     "data": {
      "text/html": [
       "<pre style=\"white-space:pre;overflow-x:auto;line-height:normal;font-family:Menlo,'DejaVu Sans Mono',consolas,'Courier New',monospace\"></pre>\n"
      ],
      "text/plain": []
     },
     "metadata": {},
     "output_type": "display_data"
    },
    {
     "data": {
      "application/vnd.jupyter.widget-view+json": {
       "model_id": "b098cb096353497d87cde602ea39898d",
       "version_major": 2,
       "version_minor": 0
      },
      "text/plain": [
       "Output()"
      ]
     },
     "metadata": {},
     "output_type": "display_data"
    },
    {
     "data": {
      "text/html": [
       "<pre style=\"white-space:pre;overflow-x:auto;line-height:normal;font-family:Menlo,'DejaVu Sans Mono',consolas,'Courier New',monospace\"></pre>\n"
      ],
      "text/plain": []
     },
     "metadata": {},
     "output_type": "display_data"
    },
    {
     "data": {
      "application/vnd.jupyter.widget-view+json": {
       "model_id": "6e7c1745b0f540cd8a3ec8ea7933bc63",
       "version_major": 2,
       "version_minor": 0
      },
      "text/plain": [
       "Output()"
      ]
     },
     "metadata": {},
     "output_type": "display_data"
    },
    {
     "data": {
      "text/html": [
       "<pre style=\"white-space:pre;overflow-x:auto;line-height:normal;font-family:Menlo,'DejaVu Sans Mono',consolas,'Courier New',monospace\"></pre>\n"
      ],
      "text/plain": []
     },
     "metadata": {},
     "output_type": "display_data"
    },
    {
     "data": {
      "application/vnd.jupyter.widget-view+json": {
       "model_id": "7ef6b1c7f70242989b3425699fa00e60",
       "version_major": 2,
       "version_minor": 0
      },
      "text/plain": [
       "Output()"
      ]
     },
     "metadata": {},
     "output_type": "display_data"
    },
    {
     "data": {
      "text/html": [
       "<pre style=\"white-space:pre;overflow-x:auto;line-height:normal;font-family:Menlo,'DejaVu Sans Mono',consolas,'Courier New',monospace\"></pre>\n"
      ],
      "text/plain": []
     },
     "metadata": {},
     "output_type": "display_data"
    },
    {
     "data": {
      "application/vnd.jupyter.widget-view+json": {
       "model_id": "ca6e0675dc3a44e4ab9d3a60e0322bc7",
       "version_major": 2,
       "version_minor": 0
      },
      "text/plain": [
       "Output()"
      ]
     },
     "metadata": {},
     "output_type": "display_data"
    },
    {
     "data": {
      "text/html": [
       "<pre style=\"white-space:pre;overflow-x:auto;line-height:normal;font-family:Menlo,'DejaVu Sans Mono',consolas,'Courier New',monospace\"></pre>\n"
      ],
      "text/plain": []
     },
     "metadata": {},
     "output_type": "display_data"
    },
    {
     "data": {
      "application/vnd.jupyter.widget-view+json": {
       "model_id": "f143cbcb80a146458434894fa18b4c2a",
       "version_major": 2,
       "version_minor": 0
      },
      "text/plain": [
       "Output()"
      ]
     },
     "metadata": {},
     "output_type": "display_data"
    },
    {
     "data": {
      "text/html": [
       "<pre style=\"white-space:pre;overflow-x:auto;line-height:normal;font-family:Menlo,'DejaVu Sans Mono',consolas,'Courier New',monospace\"></pre>\n"
      ],
      "text/plain": []
     },
     "metadata": {},
     "output_type": "display_data"
    },
    {
     "name": "stderr",
     "output_type": "stream",
     "text": [
      "WARNING - Text length for file 819605 is 25:\n",
      "(\n",
      "aaa\n",
      "NI)\n",
      "FIVOS\n",
      "OIHdvuyD\n",
      "\n",
      "INFO - Processing file number 29 of 30: 339692\n",
      "INFO - Found file 339692 at N:\\PPDO\\Records\\32xx   Kresge College (College 6)\\3238\\3238\\E - Program and Design\\E7 - Value Engineering\\kresgevesketches.zip\n",
      "No extractor found for file extension: zip\n",
      "INFO - Processed file 339692 with tag E7 - Value Engineering\n",
      "INFO - Added tag E7 to file with hash 20fed40bfb235f1f1509f4cb1a434e3a676d9d46\n",
      "INFO - Added tag E to file with hash 20fed40bfb235f1f1509f4cb1a434e3a676d9d46\n",
      "INFO - Processing file number 30 of 30: 339688\n",
      "INFO - Found file 339688 at N:\\PPDO\\Records\\32xx   Kresge College (College 6)\\3238\\3238\\E - Program and Design\\E7 - Value Engineering\\190510_100DDCOSTESTIMATE_FINAL_VE_.xlsx\n",
      "INFO - Processed file 339688 with tag E7 - Value Engineering\n",
      "INFO - Added tag E7 to file with hash 882692bc722943e585e89400cc3b4659c1424da2\n",
      "INFO - Added tag E to file with hash 882692bc722943e585e89400cc3b4659c1424da2\n"
     ]
    }
   ],
   "source": [
    "import logging\n",
    "import os\n",
    "import shutil\n",
    "import traceback\n",
    "import tempfile\n",
    "from db_models import File, FileLocation, FilingTag, FileTagLabel, FileEmbedding, get_db_engine\n",
    "from embedding.minilm import MiniLMEmbedder\n",
    "from sqlalchemy import func\n",
    "from sqlalchemy.orm import Session\n",
    "from text_extraction.pdf_extraction import PDFTextExtractor\n",
    "from text_extraction.basic_extraction import TextFileTextExtractor, TikaTextExtractor, get_extractor_for_file\n",
    "from text_extraction.image_extraction import ImageTextExtractor\n",
    "from text_extraction.office_doc_extraction import PresentationTextExtractor, SpreadsheetTextExtractor, WordFileTextExtractor\n",
    "from text_extraction.web_extraction import HtmlTextExtractor, EmailTextExtractor\n",
    "from text_extraction.extraction_utils import common_char_replacements, strip_diacritics, normalize_unicode, normalize_whitespace\n",
    "from typing import Optional, Union\n",
    "from logging_setups import setup_logger\n",
    "\n",
    "nb_logger = setup_logger(name=\"NotebookLogger\", notebook=True, level=logging.DEBUG)\n",
    "\n",
    "import pytesseract\n",
    "pytesseract.pytesseract.tesseract_cmd = r'C:\\Program Files\\Tesseract-OCR\\tesseract.exe'\n",
    "\n",
    "pdf_extractor = PDFTextExtractor()\n",
    "txt_extractor = TextFileTextExtractor()\n",
    "image_extractor = ImageTextExtractor()\n",
    "presentation_extractor = PresentationTextExtractor()\n",
    "spreadsheet_extractor = SpreadsheetTextExtractor()\n",
    "word_extractor = WordFileTextExtractor()\n",
    "html_extractor = HtmlTextExtractor()\n",
    "email_extractor = EmailTextExtractor()\n",
    "tika_extractor = TikaTextExtractor()\n",
    "\n",
    "extractors_list = [\n",
    "    pdf_extractor,\n",
    "    txt_extractor,\n",
    "    image_extractor,\n",
    "    presentation_extractor,\n",
    "    spreadsheet_extractor,\n",
    "    word_extractor,\n",
    "    html_extractor,\n",
    "    email_extractor\n",
    "]\n",
    "\n",
    "def get_files_from_tag_locations(\n",
    "        db_session: Session,\n",
    "        tag_obj: FilingTag,\n",
    "        n: int = 100,\n",
    "        randomize: bool = False,\n",
    "        exclude_embedded: bool = False,\n",
    "        max_size_mb: Optional[float] = None\n",
    "        ):\n",
    "    \"\"\"\n",
    "    Retrieve files tagged with a specific tag string.\n",
    "    Optionally exclude files that already have a FileEmbedding.\n",
    "    \"\"\"\n",
    "    tag_locations = FileLocation.file_server_directories.ilike(f\"%/{tag_obj.full_tag_label_str}%\")\n",
    "\n",
    "    # start the base query\n",
    "    q = db_session.query(File) \\\n",
    "                  .join(FileLocation) \\\n",
    "                  .filter(tag_locations)\n",
    "\n",
    "    if exclude_embedded:\n",
    "        # left‐outer join to file_embeddings, keep only those with no match\n",
    "        q = q.outerjoin(FileEmbedding, File.hash == FileEmbedding.file_hash)\\\n",
    "            .filter(FileEmbedding.file_hash == None)\\\n",
    "            \n",
    "    if max_size_mb is not None:\n",
    "        max_size_bytes = max_size_mb * 1024 * 1024\n",
    "        q = q.filter(File.size <= max_size_bytes)\n",
    "\n",
    "    if randomize:\n",
    "        q = q.order_by(func.random())\n",
    "    \n",
    "    q = q.limit(n)\n",
    "\n",
    "    return q.all()\n",
    "\n",
    "def label_file_using_tag(\n",
    "        db_session: Session,\n",
    "        file_obj: File,\n",
    "        some_tag: FilingTag|str,\n",
    "        label_source: str = 'rule'\n",
    "    ):\n",
    "    \"\"\"\n",
    "    Label a file with a specific tag.\n",
    "    \"\"\"\n",
    "    \n",
    "    if isinstance(some_tag, str):\n",
    "        tag_obj = FilingTag.retrieve_tag_by_label(db_session, some_tag)\n",
    "        if not tag_obj:\n",
    "            raise ValueError(f\"Tag '{some_tag}' not found in the database.\")\n",
    "        current_tag = tag_obj\n",
    "    elif isinstance(some_tag, FilingTag):\n",
    "        tag_obj = some_tag\n",
    "        current_tag = tag_obj\n",
    "    else:\n",
    "        raise TypeError(\"some_tag must be a FilingTag instance or a string representing the tag label.\")\n",
    "    \n",
    "    while current_tag is not None:\n",
    "        already = (\n",
    "            db_session.query(FileTagLabel)\n",
    "            .filter_by(file_id=file_obj.id, tag=current_tag.label)\n",
    "            .first()\n",
    "        )\n",
    "        if already:\n",
    "            nb_logger.info(f\"File {file_obj.id} already labeled with tag {current_tag.label}\")\n",
    "            current_tag = current_tag.parent\n",
    "            continue\n",
    "\n",
    "        labeling_record = FileTagLabel(\n",
    "            file_id=file_obj.id,\n",
    "            file_hash=file_obj.hash,\n",
    "            tag=current_tag.label,\n",
    "            is_primary=True if not current_tag.parent else False,\n",
    "            label_source=label_source\n",
    "        )\n",
    "        db_session.add(labeling_record)\n",
    "        nb_logger.info(f\"Added tag {current_tag.label} to file with hash {file_obj.hash}\")\n",
    "        current_tag = current_tag.parent\n",
    "\n",
    "    db_session.commit()\n",
    "    return labeling_record\n",
    "\n",
    "\n",
    "filing_code_tag = \"E7 - Value Engineering\"\n",
    "text_leng_threshold = 250\n",
    "file_server_location = r\"N:\\PPDO\\Records\"\n",
    "embedding_client = MiniLMEmbedder()\n",
    "with Session(get_db_engine()) as db_session:\n",
    "    tag = FilingTag.retrieve_tag_by_label(db_session, filing_code_tag)\n",
    "    files = get_files_from_tag_locations(\n",
    "        db_session= db_session,\n",
    "        tag_obj = tag,\n",
    "        randomize=True,\n",
    "        n = 30,\n",
    "        exclude_embedded=True,\n",
    "        max_size_mb=150\n",
    "    )\n",
    "\n",
    "    with tempfile.TemporaryDirectory() as temp_dir:\n",
    "        for file_i, file_obj in enumerate(files):\n",
    "            nb_logger.info(f\"Processing file number {file_i + 1} of {len(files)}: {file_obj.id}\")\n",
    "\n",
    "            if not file_obj.locations:\n",
    "                nb_logger.warning(f\"No locations found for file {file_obj.id}\")\n",
    "                continue\n",
    "            \n",
    "            filepath = \"\"\n",
    "            filename = \"\"\n",
    "            for location in file_obj.locations:\n",
    "                local_location_filepath = location.local_filepath(server_mount_path=file_server_location)\n",
    "\n",
    "                if os.path.exists(local_location_filepath):\n",
    "                    nb_logger.info(f\"Found file {file_obj.id} at {local_location_filepath}\")\n",
    "                    \n",
    "                    # if the tag's full label is not in the file server directories, do something...\n",
    "                    if tag.full_tag_label_str.lower() not in location.file_server_directories.lower():\n",
    "                        nb_logger.warning(f\"File {file_obj.id} does not match tag {filing_code_tag} in its location directories\")\n",
    "                        #TODO\n",
    "                        continue\n",
    "                    filename = location.filename\n",
    "                    break\n",
    "                \n",
    "                else:\n",
    "                    nb_logger.warning(f\"File {file_obj.id} not found at {local_location_filepath}\")\n",
    "                    continue\n",
    "            \n",
    "            # if no valid file found, skip to next file\n",
    "            if not filename:\n",
    "                nb_logger.warning(f\"No valid file found for {file_obj.id}\")\n",
    "                continue\n",
    "\n",
    "            try:\n",
    "                temp_filepath = os.path.join(temp_dir, filename)\n",
    "                shutil.copyfile(local_location_filepath, temp_filepath)\n",
    "                extractor = get_extractor_for_file(temp_filepath, extractors_list)\n",
    "                if extractor:\n",
    "                    text = extractor(temp_filepath)\n",
    "                else:\n",
    "                    text = tika_extractor(temp_filepath)  # Fallback to Tika extractor\n",
    "                \n",
    "                # if the text is empty or too short, skip processing\n",
    "                if text and len(text) >= text_leng_threshold:\n",
    "                    text = common_char_replacements(text)\n",
    "                    text = strip_diacritics(text)\n",
    "                    text = normalize_unicode(text)\n",
    "                    text = normalize_whitespace(text)\n",
    "                    emb_list = embedding_client.encode([text])\n",
    "                    emb_vec = emb_list[0] if emb_list else None\n",
    "                    if emb_vec is not None:\n",
    "                        file_embedding = FileEmbedding(\n",
    "                            file_hash =file_obj.hash,\n",
    "                            source_text =text,\n",
    "                            minilm_model=embedding_client.model_name,\n",
    "                            minilm_emb=emb_vec\n",
    "                        )\n",
    "                        db_session.add(file_embedding)\n",
    "                        db_session.commit()\n",
    "                        nb_logger.info(f\"Processed file {file_obj.id} with tag {filing_code_tag}\")\n",
    "                    else:\n",
    "                        nb_logger.warning(f\"Failed to create embedding for file {file_obj.id}\")\n",
    "                        continue\n",
    "                    \n",
    "                    file_labeling = label_file_using_tag(\n",
    "                        db_session=db_session,\n",
    "                        file_obj=file_obj,\n",
    "                        some_tag=tag\n",
    "                    )\n",
    "                else:\n",
    "                    if len(text) < text_leng_threshold:\n",
    "                        nb_logger.warning(f\"Text length for file {file_obj.id} is {len(text)}:\\n{text}\")\n",
    "                    else:\n",
    "                        nb_logger.warning(f\"No text extracted from {file_obj.id}\")\n",
    "                    continue\n",
    "            \n",
    "            except Exception as e:\n",
    "                nb_logger.error(f\"Error processing file {file_obj.id}: {e}\")\n",
    "                nb_logger.debug(traceback.format_exc())\n",
    "                continue"
   ]
  },
  {
   "cell_type": "code",
   "execution_count": null,
   "id": "498d092e",
   "metadata": {},
   "outputs": [],
   "source": []
  }
 ],
 "metadata": {
  "kernelspec": {
   "display_name": ".venv",
   "language": "python",
   "name": "python3"
  },
  "language_info": {
   "codemirror_mode": {
    "name": "ipython",
    "version": 3
   },
   "file_extension": ".py",
   "mimetype": "text/x-python",
   "name": "python",
   "nbconvert_exporter": "python",
   "pygments_lexer": "ipython3",
   "version": "3.13.5"
  }
 },
 "nbformat": 4,
 "nbformat_minor": 5
}
