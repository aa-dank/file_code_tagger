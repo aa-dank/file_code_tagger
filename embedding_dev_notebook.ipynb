{
 "cells": [
  {
   "cell_type": "code",
   "execution_count": 1,
   "id": "b1e9dc39",
   "metadata": {},
   "outputs": [
    {
     "data": {
      "application/vnd.jupyter.widget-view+json": {
       "model_id": "08481532f7214d7bb49521c8560bc183",
       "version_major": 2,
       "version_minor": 0
      },
      "text/plain": [
       "Output()"
      ]
     },
     "metadata": {},
     "output_type": "display_data"
    },
    {
     "name": "stderr",
     "output_type": "stream",
     "text": [
      "INFO - Processing file number 1 of 30: 940676\n",
      "INFO - Found file 940676 at N:\\PPDO\\Records\\106xx  2300 Delaware Westside Research Park\\10641\\10641\\H - Submittals and O&M's\\distribution document.lnk\n",
      "No extractor found for file extension: lnk\n",
      "ERROR - Error processing file 940676: No extractor found for file extension: lnk\n",
      "DEBUG - Traceback (most recent call last):\n",
      "  File \"C:\\Users\\adankert\\AppData\\Local\\Temp\\ipykernel_3580\\1711867908.py\", line 168, in <module>\n",
      "    extractor = get_extractor_for_file(temp_filepath, extractors_list)\n",
      "  File \"c:\\Users\\adankert\\projects\\file_code_tagger\\text_extraction\\basic_extraction.py\", line 138, in get_extractor_for_file\n",
      "    raise ValueError(f\"No extractor found for file extension: {file_extension}\")\n",
      "ValueError: No extractor found for file extension: lnk\n",
      "\n",
      "INFO - Processing file number 2 of 30: 303391\n",
      "INFO - Found file 303391 at N:\\PPDO\\Records\\28xx   Cowell Student Health Center\\2806\\2806\\H - Submittals\\Project Manager Email Correspondence\\.MSG Files\\Submittals\\RE  CSHC - Submittal Review 3 7 1 Collector Beam (1 of 2).msg\n",
      "INFO - Processed file 303391 with tag H - Submittals\n",
      "INFO - Added tag H to file with hash a8877649a56b834b78d5965f8427f1b6a5dc5302\n",
      "INFO - Processing file number 3 of 30: 99538\n",
      "INFO - Found file 99538 at N:\\PPDO\\Records\\106xx  2300 Delaware Westside Research Park\\10600\\10600\\DOCS\\H - Submittals\\H2 Distribution and Design Data.pdf\n",
      "INFO - Processed file 99538 with tag H - Submittals\n",
      "INFO - Added tag H to file with hash 72f695a724ffb8a7478cbba181133ba043df501f\n",
      "INFO - Processing file number 4 of 30: 47509\n",
      "INFO - Found file 47509 at N:\\PPDO\\Records\\67xx   Biomedical Sciences Facility\\6701\\6701\\F - Bid Documents and Contract Award\\F5 - Drawings and Specifications\\As Builts\\ESI\\ESI Program Software\\Ucsc_BioMed_BU_5_4_12\\virtualXL10\\eb6ba788-a38b-42ef-9643-647b9d32daf2.bog\n",
      "WARNING - File 47509 does not match tag H - Submittals in its location directories\n",
      "INFO - Found file 47509 at N:\\PPDO\\Records\\67xx   Biomedical Sciences Facility\\6701\\6701\\F - Bid Documents and Contract Award\\F5 - Drawings and Specifications\\As Builts\\ESI\\ESI Program Software\\Ucsc_BioMed_BU_5_4_12\\virtualXL10_backup_120504_1006.bak\\eb6ba788-a38b-42ef-9643-647b9d32daf2.bog\n",
      "WARNING - File 47509 does not match tag H - Submittals in its location directories\n",
      "INFO - Found file 47509 at N:\\PPDO\\Records\\67xx   Biomedical Sciences Facility\\6701\\6701\\H - Submittals\\O&M\\Honeywell WEBsAx\\ESI Program Software\\Ucsc_BioMed_BU_5_4_12\\virtualXL10\\eb6ba788-a38b-42ef-9643-647b9d32daf2.bog\n",
      "No extractor found for file extension: bog\n",
      "ERROR - Error processing file 47509: No extractor found for file extension: bog\n",
      "DEBUG - Traceback (most recent call last):\n",
      "  File \"C:\\Users\\adankert\\AppData\\Local\\Temp\\ipykernel_3580\\1711867908.py\", line 168, in <module>\n",
      "    extractor = get_extractor_for_file(temp_filepath, extractors_list)\n",
      "  File \"c:\\Users\\adankert\\projects\\file_code_tagger\\text_extraction\\basic_extraction.py\", line 138, in get_extractor_for_file\n",
      "    raise ValueError(f\"No extractor found for file extension: {file_extension}\")\n",
      "ValueError: No extractor found for file extension: bog\n",
      "\n",
      "INFO - Processing file number 5 of 30: 617083\n",
      "INFO - Found file 617083 at N:\\PPDO\\Records\\98xx   Campus Utilities 2012 on\\9804\\9804C\\H - Submittals\\Hold\\9804c Submittal Log.xlsx\n",
      "c:\\Users\\adankert\\projects\\file_code_tagger\\.venv\\Lib\\site-packages\\openpyxl\\styles\\stylesheet.py:237: UserWarning: Workbook contains no default style, apply openpyxl's default\n",
      "  warn(\"Workbook contains no default style, apply openpyxl's default\")\n",
      "INFO - Processed file 617083 with tag H - Submittals\n",
      "INFO - Added tag H to file with hash 8385bd27a81b1ad3edf255819bc0b2d6555790f1\n",
      "INFO - Processing file number 6 of 30: 211630\n",
      "INFO - Found file 211630 at N:\\PPDO\\Records\\18xx   Mc Henry Library Unit I\\1810\\1810\\H - Submittals\\2 Phase 2- Renovation\\Division 16\\16720-1440-R1_updated.pdf\n",
      "INFO - Processed file 211630 with tag H - Submittals\n",
      "INFO - Added tag H to file with hash 2c20bde8160c53685ff307532e2139c768f66823\n",
      "INFO - Processing file number 7 of 30: 848990\n",
      "INFO - Found file 848990 at N:\\PPDO\\Records\\42xx   Student Housing West\\4203\\4203\\H - Submittals and O&M's\\Div 27\\4203_-_271101-04_R0_-_Fire_Rated_Plywood.pdf\n",
      "INFO - Processed file 848990 with tag H - Submittals\n",
      "INFO - Added tag H to file with hash 3dd2bddf3ef3a921c0e731c154916952e321fcf7\n",
      "INFO - Processing file number 8 of 30: 220139\n",
      "WARNING - File 220139 not found at N:\\PPDO\\Records\\21xx   Central Heating Plant (Fackler Cogeneration)\\2113\\2113\\G - Construction\\G21 - CM's Construction Photos\\2014 February\\2014.02.03\\DSC02316.JPG\n",
      "INFO - Found file 220139 at N:\\PPDO\\Records\\21xx   Central Heating Plant (Fackler Cogeneration)\\2113\\2113\\H - Submittals\\Photos\\2014 February\\2014.02.03\\DSC02316.JPG\n",
      "Tesseract OSD failed: (1, 'Estimating resolution as 593 Too few characters. Skipping this page Warning. Invalid resolution 0 dpi. Using 70 instead. Too few characters. Skipping this page Error during processing.')\n",
      "Tesseract OSD failed: (1, 'Estimating resolution as 593 Too few characters. Skipping this page Warning. Invalid resolution 0 dpi. Using 70 instead. Too few characters. Skipping this page Error during processing.')\n",
      "INFO - Processed file 220139 with tag H - Submittals\n",
      "INFO - Added tag H to file with hash a0a13159ecdf28f465f330a21c0f4dad247def2b\n",
      "INFO - Processing file number 9 of 30: 23524\n",
      "INFO - Found file 23524 at N:\\PPDO\\Records\\13xx   Original Ranch Buildings\\1329\\1329\\H - Submittals\\Div 27\\270528-02 Revised Return.pdf\n",
      "INFO - Processed file 23524 with tag H - Submittals\n",
      "INFO - Added tag H to file with hash 95b779424e03867620f9a9cfea4496a979acfa89\n",
      "INFO - Processing file number 10 of 30: 500606\n",
      "INFO - Found file 500606 at N:\\PPDO\\Records\\55xx   College 9 & 10\\5510 Res Halls & Dining\\5510\\H - Submittals\\Division 0\\00290A\\Fire Marshal Corr. PR (3)\\Proposal Request #94.pdf\n"
     ]
    },
    {
     "data": {
      "application/vnd.jupyter.widget-view+json": {
       "model_id": "fec92ff6174946bcaf4bb7a0b38bc944",
       "version_major": 2,
       "version_minor": 0
      },
      "text/plain": [
       "Output()"
      ]
     },
     "metadata": {},
     "output_type": "display_data"
    },
    {
     "data": {
      "text/html": [
       "<pre style=\"white-space:pre;overflow-x:auto;line-height:normal;font-family:Menlo,'DejaVu Sans Mono',consolas,'Courier New',monospace\"></pre>\n"
      ],
      "text/plain": []
     },
     "metadata": {},
     "output_type": "display_data"
    },
    {
     "data": {
      "application/vnd.jupyter.widget-view+json": {
       "model_id": "4f9fea82638e4aa28f0e667f7dc8bdd7",
       "version_major": 2,
       "version_minor": 0
      },
      "text/plain": [
       "Output()"
      ]
     },
     "metadata": {},
     "output_type": "display_data"
    },
    {
     "data": {
      "text/html": [
       "<pre style=\"white-space:pre;overflow-x:auto;line-height:normal;font-family:Menlo,'DejaVu Sans Mono',consolas,'Courier New',monospace\"></pre>\n"
      ],
      "text/plain": []
     },
     "metadata": {},
     "output_type": "display_data"
    },
    {
     "data": {
      "application/vnd.jupyter.widget-view+json": {
       "model_id": "9e043ff4ca614f63af5d2289e2011e8b",
       "version_major": 2,
       "version_minor": 0
      },
      "text/plain": [
       "Output()"
      ]
     },
     "metadata": {},
     "output_type": "display_data"
    },
    {
     "data": {
      "text/html": [
       "<pre style=\"white-space:pre;overflow-x:auto;line-height:normal;font-family:Menlo,'DejaVu Sans Mono',consolas,'Courier New',monospace\"></pre>\n"
      ],
      "text/plain": []
     },
     "metadata": {},
     "output_type": "display_data"
    },
    {
     "data": {
      "application/vnd.jupyter.widget-view+json": {
       "model_id": "ab86c0c4723b412f9f74d4f805b4d8d9",
       "version_major": 2,
       "version_minor": 0
      },
      "text/plain": [
       "Output()"
      ]
     },
     "metadata": {},
     "output_type": "display_data"
    },
    {
     "data": {
      "text/html": [
       "<pre style=\"white-space:pre;overflow-x:auto;line-height:normal;font-family:Menlo,'DejaVu Sans Mono',consolas,'Courier New',monospace\"></pre>\n"
      ],
      "text/plain": []
     },
     "metadata": {},
     "output_type": "display_data"
    },
    {
     "data": {
      "application/vnd.jupyter.widget-view+json": {
       "model_id": "32029a6de561408b9198347d08606a1b",
       "version_major": 2,
       "version_minor": 0
      },
      "text/plain": [
       "Output()"
      ]
     },
     "metadata": {},
     "output_type": "display_data"
    },
    {
     "data": {
      "text/html": [
       "<pre style=\"white-space:pre;overflow-x:auto;line-height:normal;font-family:Menlo,'DejaVu Sans Mono',consolas,'Courier New',monospace\"></pre>\n"
      ],
      "text/plain": []
     },
     "metadata": {},
     "output_type": "display_data"
    },
    {
     "data": {
      "application/vnd.jupyter.widget-view+json": {
       "model_id": "3f2e2851713248d4a33b8a3043a16696",
       "version_major": 2,
       "version_minor": 0
      },
      "text/plain": [
       "Output()"
      ]
     },
     "metadata": {},
     "output_type": "display_data"
    },
    {
     "data": {
      "text/html": [
       "<pre style=\"white-space:pre;overflow-x:auto;line-height:normal;font-family:Menlo,'DejaVu Sans Mono',consolas,'Courier New',monospace\"></pre>\n"
      ],
      "text/plain": []
     },
     "metadata": {},
     "output_type": "display_data"
    },
    {
     "name": "stderr",
     "output_type": "stream",
     "text": [
      "INFO - Processed file 500606 with tag H - Submittals\n",
      "INFO - Added tag H to file with hash bf1a039920071bbac4dd233b369ea9dfa704b93a\n",
      "INFO - Processing file number 11 of 30: 255649\n",
      "INFO - Found file 255649 at N:\\PPDO\\Records\\26xx   Merrill College (College 4)\\2635\\2635\\H - Submittals\\H - Submittals and OMs\\Div 07\\079500-01-R1.pdf\n",
      "INFO - Processed file 255649 with tag H - Submittals\n",
      "INFO - Added tag H to file with hash ebc515893cea39d2922a574a2a045821c1ab1a79\n",
      "INFO - Processing file number 12 of 30: 377761\n",
      "INFO - Found file 377761 at N:\\PPDO\\Records\\41xx   EH&S Facility\\4101\\4101\\G - Construction\\G12 - Request for Information (RFI)\\4101 RFI 209 Response.pdf\n",
      "WARNING - File 377761 does not match tag H - Submittals in its location directories\n",
      "INFO - Found file 377761 at N:\\PPDO\\Records\\41xx   EH&S Facility\\4101\\4101\\H - Submittals and O&M's\\Div 01\\4101_-_017700-03_R1_-_Closeout_-_Project_Record_Documents_(As-Built_Drawings)\\3 - RFI RESPONSES\\4101 RFI 209 Response.pdf\n",
      "INFO - Processed file 377761 with tag H - Submittals\n",
      "INFO - Added tag H to file with hash 159a6501e7902b9c3537e7e69250475038206a9f\n",
      "INFO - Processing file number 13 of 30: 908717\n",
      "INFO - Found file 908717 at N:\\PPDO\\Records\\30xx   Porter College (College 5)\\3048\\3048\\H - Submittals O&M\\164-165 16113 maybe\\InDeck Plans 102009\\SK-OH.5 5th Floor Overhead Power Conduits.pdf\n"
     ]
    },
    {
     "data": {
      "application/vnd.jupyter.widget-view+json": {
       "model_id": "9f47fbd5f7bf4ef8b7de135709a6bee2",
       "version_major": 2,
       "version_minor": 0
      },
      "text/plain": [
       "Output()"
      ]
     },
     "metadata": {},
     "output_type": "display_data"
    },
    {
     "data": {
      "text/html": [
       "<pre style=\"white-space:pre;overflow-x:auto;line-height:normal;font-family:Menlo,'DejaVu Sans Mono',consolas,'Courier New',monospace\"></pre>\n"
      ],
      "text/plain": []
     },
     "metadata": {},
     "output_type": "display_data"
    },
    {
     "data": {
      "application/vnd.jupyter.widget-view+json": {
       "model_id": "ac653f5bbd404a6eb3486c79d77d90dc",
       "version_major": 2,
       "version_minor": 0
      },
      "text/plain": [
       "Output()"
      ]
     },
     "metadata": {},
     "output_type": "display_data"
    },
    {
     "data": {
      "text/html": [
       "<pre style=\"white-space:pre;overflow-x:auto;line-height:normal;font-family:Menlo,'DejaVu Sans Mono',consolas,'Courier New',monospace\"></pre>\n"
      ],
      "text/plain": []
     },
     "metadata": {},
     "output_type": "display_data"
    },
    {
     "data": {
      "application/vnd.jupyter.widget-view+json": {
       "model_id": "5d354085fa1a4d46967ac5b490617d63",
       "version_major": 2,
       "version_minor": 0
      },
      "text/plain": [
       "Output()"
      ]
     },
     "metadata": {},
     "output_type": "display_data"
    },
    {
     "data": {
      "text/html": [
       "<pre style=\"white-space:pre;overflow-x:auto;line-height:normal;font-family:Menlo,'DejaVu Sans Mono',consolas,'Courier New',monospace\"></pre>\n"
      ],
      "text/plain": []
     },
     "metadata": {},
     "output_type": "display_data"
    },
    {
     "data": {
      "application/vnd.jupyter.widget-view+json": {
       "model_id": "4a1dc7797eba4aca9cbdfb06577fd3a7",
       "version_major": 2,
       "version_minor": 0
      },
      "text/plain": [
       "Output()"
      ]
     },
     "metadata": {},
     "output_type": "display_data"
    },
    {
     "data": {
      "text/html": [
       "<pre style=\"white-space:pre;overflow-x:auto;line-height:normal;font-family:Menlo,'DejaVu Sans Mono',consolas,'Courier New',monospace\"></pre>\n"
      ],
      "text/plain": []
     },
     "metadata": {},
     "output_type": "display_data"
    },
    {
     "data": {
      "application/vnd.jupyter.widget-view+json": {
       "model_id": "77dee75f61aa48429aa454f021955699",
       "version_major": 2,
       "version_minor": 0
      },
      "text/plain": [
       "Output()"
      ]
     },
     "metadata": {},
     "output_type": "display_data"
    },
    {
     "data": {
      "text/html": [
       "<pre style=\"white-space:pre;overflow-x:auto;line-height:normal;font-family:Menlo,'DejaVu Sans Mono',consolas,'Courier New',monospace\"></pre>\n"
      ],
      "text/plain": []
     },
     "metadata": {},
     "output_type": "display_data"
    },
    {
     "data": {
      "application/vnd.jupyter.widget-view+json": {
       "model_id": "256e2a5a80b5437992a0acbef217bef5",
       "version_major": 2,
       "version_minor": 0
      },
      "text/plain": [
       "Output()"
      ]
     },
     "metadata": {},
     "output_type": "display_data"
    },
    {
     "data": {
      "text/html": [
       "<pre style=\"white-space:pre;overflow-x:auto;line-height:normal;font-family:Menlo,'DejaVu Sans Mono',consolas,'Courier New',monospace\"></pre>\n"
      ],
      "text/plain": []
     },
     "metadata": {},
     "output_type": "display_data"
    },
    {
     "name": "stderr",
     "output_type": "stream",
     "text": [
      "WARNING - No text extracted from 908717\n",
      "INFO - Processing file number 14 of 30: 611809\n",
      "INFO - Found file 611809 at N:\\PPDO\\Records\\90xx  Campus Utilities\\9098\\9098D\\H - Submittals\\Hold 9098D\\01 77 00 Closeout Submittals\\9098D Submittal 01 77 00 -01\\T0.3.dwg\n",
      "No extractor found for file extension: dwg\n",
      "ERROR - Error processing file 611809: No extractor found for file extension: dwg\n",
      "DEBUG - Traceback (most recent call last):\n",
      "  File \"C:\\Users\\adankert\\AppData\\Local\\Temp\\ipykernel_3580\\1711867908.py\", line 168, in <module>\n",
      "    extractor = get_extractor_for_file(temp_filepath, extractors_list)\n",
      "  File \"c:\\Users\\adankert\\projects\\file_code_tagger\\text_extraction\\basic_extraction.py\", line 138, in get_extractor_for_file\n",
      "    raise ValueError(f\"No extractor found for file extension: {file_extension}\")\n",
      "ValueError: No extractor found for file extension: dwg\n",
      "\n",
      "INFO - Processing file number 15 of 30: 317792\n",
      "INFO - Found file 317792 at N:\\PPDO\\Records\\30xx   Porter College (College 5)\\3045\\3045\\H - Submittals\\Division 2\\02511-3195 through 3201.pdf\n"
     ]
    },
    {
     "data": {
      "application/vnd.jupyter.widget-view+json": {
       "model_id": "f3da5c738c7a468285474e8ad43ae9fa",
       "version_major": 2,
       "version_minor": 0
      },
      "text/plain": [
       "Output()"
      ]
     },
     "metadata": {},
     "output_type": "display_data"
    },
    {
     "data": {
      "text/html": [
       "<pre style=\"white-space:pre;overflow-x:auto;line-height:normal;font-family:Menlo,'DejaVu Sans Mono',consolas,'Courier New',monospace\"></pre>\n"
      ],
      "text/plain": []
     },
     "metadata": {},
     "output_type": "display_data"
    },
    {
     "data": {
      "application/vnd.jupyter.widget-view+json": {
       "model_id": "499a4dbf063b498ba43932cd1959b765",
       "version_major": 2,
       "version_minor": 0
      },
      "text/plain": [
       "Output()"
      ]
     },
     "metadata": {},
     "output_type": "display_data"
    },
    {
     "data": {
      "text/html": [
       "<pre style=\"white-space:pre;overflow-x:auto;line-height:normal;font-family:Menlo,'DejaVu Sans Mono',consolas,'Courier New',monospace\">[tesseract] lots of diacritics - possibly poor OCR\n",
       "</pre>\n"
      ],
      "text/plain": [
       "[tesseract] lots of diacritics - possibly poor OCR\n"
      ]
     },
     "metadata": {},
     "output_type": "display_data"
    },
    {
     "data": {
      "text/html": [
       "<pre style=\"white-space:pre;overflow-x:auto;line-height:normal;font-family:Menlo,'DejaVu Sans Mono',consolas,'Courier New',monospace\">[tesseract] lots of diacritics - possibly poor OCR\n",
       "</pre>\n"
      ],
      "text/plain": [
       "[tesseract] lots of diacritics - possibly poor OCR\n"
      ]
     },
     "metadata": {},
     "output_type": "display_data"
    },
    {
     "data": {
      "text/html": [
       "<pre style=\"white-space:pre;overflow-x:auto;line-height:normal;font-family:Menlo,'DejaVu Sans Mono',consolas,'Courier New',monospace\">[tesseract] lots of diacritics - possibly poor OCR\n",
       "</pre>\n"
      ],
      "text/plain": [
       "[tesseract] lots of diacritics - possibly poor OCR\n"
      ]
     },
     "metadata": {},
     "output_type": "display_data"
    },
    {
     "data": {
      "text/html": [
       "<pre style=\"white-space:pre;overflow-x:auto;line-height:normal;font-family:Menlo,'DejaVu Sans Mono',consolas,'Courier New',monospace\">[tesseract] lots of diacritics - possibly poor OCR\n",
       "</pre>\n"
      ],
      "text/plain": [
       "[tesseract] lots of diacritics - possibly poor OCR\n"
      ]
     },
     "metadata": {},
     "output_type": "display_data"
    },
    {
     "data": {
      "text/html": [
       "<pre style=\"white-space:pre;overflow-x:auto;line-height:normal;font-family:Menlo,'DejaVu Sans Mono',consolas,'Courier New',monospace\">[tesseract] lots of diacritics - possibly poor OCR\n",
       "</pre>\n"
      ],
      "text/plain": [
       "[tesseract] lots of diacritics - possibly poor OCR\n"
      ]
     },
     "metadata": {},
     "output_type": "display_data"
    },
    {
     "data": {
      "text/html": [
       "<pre style=\"white-space:pre;overflow-x:auto;line-height:normal;font-family:Menlo,'DejaVu Sans Mono',consolas,'Courier New',monospace\"></pre>\n"
      ],
      "text/plain": []
     },
     "metadata": {},
     "output_type": "display_data"
    },
    {
     "data": {
      "application/vnd.jupyter.widget-view+json": {
       "model_id": "35d7ea19de7b422baceff906151fc0d6",
       "version_major": 2,
       "version_minor": 0
      },
      "text/plain": [
       "Output()"
      ]
     },
     "metadata": {},
     "output_type": "display_data"
    },
    {
     "data": {
      "text/html": [
       "<pre style=\"white-space:pre;overflow-x:auto;line-height:normal;font-family:Menlo,'DejaVu Sans Mono',consolas,'Courier New',monospace\"></pre>\n"
      ],
      "text/plain": []
     },
     "metadata": {},
     "output_type": "display_data"
    },
    {
     "data": {
      "application/vnd.jupyter.widget-view+json": {
       "model_id": "9bef49dfbfd84d818dbb684c9c6028f6",
       "version_major": 2,
       "version_minor": 0
      },
      "text/plain": [
       "Output()"
      ]
     },
     "metadata": {},
     "output_type": "display_data"
    },
    {
     "data": {
      "text/html": [
       "<pre style=\"white-space:pre;overflow-x:auto;line-height:normal;font-family:Menlo,'DejaVu Sans Mono',consolas,'Courier New',monospace\"></pre>\n"
      ],
      "text/plain": []
     },
     "metadata": {},
     "output_type": "display_data"
    },
    {
     "data": {
      "application/vnd.jupyter.widget-view+json": {
       "model_id": "c1a089e90d4c4857b97c0dc501acfde6",
       "version_major": 2,
       "version_minor": 0
      },
      "text/plain": [
       "Output()"
      ]
     },
     "metadata": {},
     "output_type": "display_data"
    },
    {
     "data": {
      "text/html": [
       "<pre style=\"white-space:pre;overflow-x:auto;line-height:normal;font-family:Menlo,'DejaVu Sans Mono',consolas,'Courier New',monospace\"></pre>\n"
      ],
      "text/plain": []
     },
     "metadata": {},
     "output_type": "display_data"
    },
    {
     "data": {
      "application/vnd.jupyter.widget-view+json": {
       "model_id": "0a185ca604f94731899d560930de5bc8",
       "version_major": 2,
       "version_minor": 0
      },
      "text/plain": [
       "Output()"
      ]
     },
     "metadata": {},
     "output_type": "display_data"
    },
    {
     "data": {
      "text/html": [
       "<pre style=\"white-space:pre;overflow-x:auto;line-height:normal;font-family:Menlo,'DejaVu Sans Mono',consolas,'Courier New',monospace\"></pre>\n"
      ],
      "text/plain": []
     },
     "metadata": {},
     "output_type": "display_data"
    },
    {
     "name": "stderr",
     "output_type": "stream",
     "text": [
      "The output file size is 1.62× larger than the input file.\n",
      "Possible reasons for this include:\n",
      "--deskew was issued, causing transcoding.\n",
      "The optional dependency 'jbig2' was not found, so some image optimizations could not be attempted.\n",
      "The optional dependency 'pngquant' was not found, so some image optimizations could not be attempted.\n",
      "\n",
      "INFO - Processed file 317792 with tag H - Submittals\n",
      "INFO - Added tag H to file with hash 0a103109147febe7f2851f22c9a3ebdf7cfbcdbc\n",
      "INFO - Processing file number 16 of 30: 618064\n",
      "INFO - Found file 618064 at N:\\PPDO\\Records\\98xx   Campus Utilities 2012 on\\9805\\9805C\\H - Submittals\\Div 01\\9805C_-_017700-03_R1_-_As-Builts\\UCSC 9805C 01-77-00-03 AS- BUILTS PDF\\E0_13_9805_RACHEL CARSON 1 LINE.pdf\n",
      "INFO - Processed file 618064 with tag H - Submittals\n",
      "INFO - Added tag H to file with hash 2d3009b551561477e851028595701b0e22377e7c\n",
      "INFO - Processing file number 17 of 30: 380543\n",
      "INFO - Found file 380543 at N:\\PPDO\\Records\\41xx   EH&S Facility\\4101\\4101\\H - Submittals and O&M's\\Div 01\\UCSC_EHS_Baseline_01_12-5-17.xer\n",
      "No extractor found for file extension: xer\n",
      "ERROR - Error processing file 380543: No extractor found for file extension: xer\n",
      "DEBUG - Traceback (most recent call last):\n",
      "  File \"C:\\Users\\adankert\\AppData\\Local\\Temp\\ipykernel_3580\\1711867908.py\", line 168, in <module>\n",
      "    extractor = get_extractor_for_file(temp_filepath, extractors_list)\n",
      "  File \"c:\\Users\\adankert\\projects\\file_code_tagger\\text_extraction\\basic_extraction.py\", line 138, in get_extractor_for_file\n",
      "    raise ValueError(f\"No extractor found for file extension: {file_extension}\")\n",
      "ValueError: No extractor found for file extension: xer\n",
      "\n",
      "INFO - Processing file number 18 of 30: 961455\n",
      "INFO - Found file 961455 at N:\\PPDO\\Records\\53xx   Rachel Carson College (8)\\5303\\5303-037 Carson Dining\\H - Submittals\\Hold\\5303-037_-_075126-003_R0_-_Keystone_Ethylene_Roofing_-_Assembly_Letter_&_Approved_Pre-Install_Notice_review.pdf\n",
      "INFO - Processed file 961455 with tag H - Submittals\n",
      "INFO - Added tag H to file with hash 7f05facf7d3a0bbd6ef8c48be2644e59ec5070b6\n",
      "INFO - Processing file number 19 of 30: 268454\n",
      "INFO - Found file 268454 at N:\\PPDO\\Records\\26xx   Merrill College (College 4)\\2638\\2638\\H - Submittals\\CD2\\CD2\\Division 01\\01 31 19.pdf\n",
      "INFO - Processed file 268454 with tag H - Submittals\n",
      "INFO - Added tag H to file with hash b3ed12849d9914d384d5f839e3fde89e9901a15d\n",
      "INFO - Processing file number 20 of 30: 597529\n",
      "INFO - Found file 597529 at N:\\PPDO\\Records\\90xx  Campus Utilities\\9069\\9069\\H - Submittals\\17920-001 Tower Management System\\Section 8 Station Program\\UcscSouthCoolingTower\\history\\station\\seg4\\CND_CT4_ScwsTemp_Pid.hdb\n",
      "No extractor found for file extension: hdb\n",
      "ERROR - Error processing file 597529: No extractor found for file extension: hdb\n",
      "DEBUG - Traceback (most recent call last):\n",
      "  File \"C:\\Users\\adankert\\AppData\\Local\\Temp\\ipykernel_3580\\1711867908.py\", line 168, in <module>\n",
      "    extractor = get_extractor_for_file(temp_filepath, extractors_list)\n",
      "  File \"c:\\Users\\adankert\\projects\\file_code_tagger\\text_extraction\\basic_extraction.py\", line 138, in get_extractor_for_file\n",
      "    raise ValueError(f\"No extractor found for file extension: {file_extension}\")\n",
      "ValueError: No extractor found for file extension: hdb\n",
      "\n",
      "INFO - Processing file number 21 of 30: 212559\n",
      "INFO - Found file 212559 at N:\\PPDO\\Records\\18xx   Mc Henry Library Unit I\\1810\\1810-027\\H - Submittals\\Div 06\\1810-027_-_064000-01_R0_-_Wood_Veneer_Paneling_Review_archive_.pdf\n",
      "INFO - Processed file 212559 with tag H - Submittals\n",
      "INFO - Added tag H to file with hash 8c808fad8589edcae03c39a750d7e548de034857\n",
      "INFO - Processing file number 22 of 30: 598616\n",
      "INFO - Found file 598616 at N:\\PPDO\\Records\\90xx  Campus Utilities\\9072\\9072\\H - Submittals\\Div 01\\01060-01 complete.pdf\n",
      "INFO - Processed file 598616 with tag H - Submittals\n",
      "INFO - Added tag H to file with hash 475ccd808ed2b1814ad774a1bd217bb68a5679bc\n",
      "INFO - Processing file number 23 of 30: 716717\n",
      "INFO - Found file 716717 at N:\\PPDO\\Records\\60xx   Science Library\\6001\\6001\\H - Submittals\\6001.H. Submittal #15.1 - Blueprint.pdf\n"
     ]
    },
    {
     "data": {
      "application/vnd.jupyter.widget-view+json": {
       "model_id": "b5f7312fdbc14930be380f94c6b63f16",
       "version_major": 2,
       "version_minor": 0
      },
      "text/plain": [
       "Output()"
      ]
     },
     "metadata": {},
     "output_type": "display_data"
    },
    {
     "data": {
      "text/html": [
       "<pre style=\"white-space:pre;overflow-x:auto;line-height:normal;font-family:Menlo,'DejaVu Sans Mono',consolas,'Courier New',monospace\"></pre>\n"
      ],
      "text/plain": []
     },
     "metadata": {},
     "output_type": "display_data"
    },
    {
     "name": "stderr",
     "output_type": "stream",
     "text": [
      "This PDF is marked as a Tagged PDF. This often indicates that the PDF was generated from an office document and does not need OCR. PDF pages processed by OCRmyPDF may not be tagged correctly.\n"
     ]
    },
    {
     "data": {
      "application/vnd.jupyter.widget-view+json": {
       "model_id": "cf56cc10c1574e9db8a7b06134827f11",
       "version_major": 2,
       "version_minor": 0
      },
      "text/plain": [
       "Output()"
      ]
     },
     "metadata": {},
     "output_type": "display_data"
    },
    {
     "data": {
      "text/html": [
       "<pre style=\"white-space:pre;overflow-x:auto;line-height:normal;font-family:Menlo,'DejaVu Sans Mono',consolas,'Courier New',monospace\">[tesseract] lots of diacritics - possibly poor OCR\n",
       "</pre>\n"
      ],
      "text/plain": [
       "[tesseract] lots of diacritics - possibly poor OCR\n"
      ]
     },
     "metadata": {},
     "output_type": "display_data"
    },
    {
     "data": {
      "text/html": [
       "<pre style=\"white-space:pre;overflow-x:auto;line-height:normal;font-family:Menlo,'DejaVu Sans Mono',consolas,'Courier New',monospace\"></pre>\n"
      ],
      "text/plain": []
     },
     "metadata": {},
     "output_type": "display_data"
    },
    {
     "data": {
      "application/vnd.jupyter.widget-view+json": {
       "model_id": "98d562eaa85c43f4aad5dd82ceb1a950",
       "version_major": 2,
       "version_minor": 0
      },
      "text/plain": [
       "Output()"
      ]
     },
     "metadata": {},
     "output_type": "display_data"
    },
    {
     "data": {
      "text/html": [
       "<pre style=\"white-space:pre;overflow-x:auto;line-height:normal;font-family:Menlo,'DejaVu Sans Mono',consolas,'Courier New',monospace\"></pre>\n"
      ],
      "text/plain": []
     },
     "metadata": {},
     "output_type": "display_data"
    },
    {
     "data": {
      "application/vnd.jupyter.widget-view+json": {
       "model_id": "b44136473b3c466f958a488c305929b0",
       "version_major": 2,
       "version_minor": 0
      },
      "text/plain": [
       "Output()"
      ]
     },
     "metadata": {},
     "output_type": "display_data"
    },
    {
     "data": {
      "text/html": [
       "<pre style=\"white-space:pre;overflow-x:auto;line-height:normal;font-family:Menlo,'DejaVu Sans Mono',consolas,'Courier New',monospace\"></pre>\n"
      ],
      "text/plain": []
     },
     "metadata": {},
     "output_type": "display_data"
    },
    {
     "data": {
      "application/vnd.jupyter.widget-view+json": {
       "model_id": "a720478634c1467fbb61f33825aa9b93",
       "version_major": 2,
       "version_minor": 0
      },
      "text/plain": [
       "Output()"
      ]
     },
     "metadata": {},
     "output_type": "display_data"
    },
    {
     "data": {
      "text/html": [
       "<pre style=\"white-space:pre;overflow-x:auto;line-height:normal;font-family:Menlo,'DejaVu Sans Mono',consolas,'Courier New',monospace\"></pre>\n"
      ],
      "text/plain": []
     },
     "metadata": {},
     "output_type": "display_data"
    },
    {
     "data": {
      "application/vnd.jupyter.widget-view+json": {
       "model_id": "422d51bdbdd949d18f74c8028a96edea",
       "version_major": 2,
       "version_minor": 0
      },
      "text/plain": [
       "Output()"
      ]
     },
     "metadata": {},
     "output_type": "display_data"
    },
    {
     "data": {
      "text/html": [
       "<pre style=\"white-space:pre;overflow-x:auto;line-height:normal;font-family:Menlo,'DejaVu Sans Mono',consolas,'Courier New',monospace\"></pre>\n"
      ],
      "text/plain": []
     },
     "metadata": {},
     "output_type": "display_data"
    },
    {
     "name": "stderr",
     "output_type": "stream",
     "text": [
      "INFO - Processed file 716717 with tag H - Submittals\n",
      "INFO - Added tag H to file with hash 9dc0f69f66ca3e5dfee9471d218a254964ed985b\n",
      "INFO - Processing file number 24 of 30: 908674\n",
      "INFO - Found file 908674 at N:\\PPDO\\Records\\30xx   Porter College (College 5)\\3048\\3048\\H - Submittals O&M\\3048.H.phase 2 plan 4 diagram marked.pdf\n"
     ]
    },
    {
     "data": {
      "application/vnd.jupyter.widget-view+json": {
       "model_id": "a2ba3903d3a649c7b781bf44d4519cae",
       "version_major": 2,
       "version_minor": 0
      },
      "text/plain": [
       "Output()"
      ]
     },
     "metadata": {},
     "output_type": "display_data"
    },
    {
     "data": {
      "text/html": [
       "<pre style=\"white-space:pre;overflow-x:auto;line-height:normal;font-family:Menlo,'DejaVu Sans Mono',consolas,'Courier New',monospace\"></pre>\n"
      ],
      "text/plain": []
     },
     "metadata": {},
     "output_type": "display_data"
    },
    {
     "name": "stderr",
     "output_type": "stream",
     "text": [
      "This PDF is marked as a Tagged PDF. This often indicates that the PDF was generated from an office document and does not need OCR. PDF pages processed by OCRmyPDF may not be tagged correctly.\n"
     ]
    },
    {
     "data": {
      "application/vnd.jupyter.widget-view+json": {
       "model_id": "90a50a910cf648199150c50e221c1de0",
       "version_major": 2,
       "version_minor": 0
      },
      "text/plain": [
       "Output()"
      ]
     },
     "metadata": {},
     "output_type": "display_data"
    },
    {
     "data": {
      "text/html": [
       "<pre style=\"white-space:pre;overflow-x:auto;line-height:normal;font-family:Menlo,'DejaVu Sans Mono',consolas,'Courier New',monospace\"></pre>\n"
      ],
      "text/plain": []
     },
     "metadata": {},
     "output_type": "display_data"
    },
    {
     "data": {
      "application/vnd.jupyter.widget-view+json": {
       "model_id": "8ba583f0a786425589e862bf766d7221",
       "version_major": 2,
       "version_minor": 0
      },
      "text/plain": [
       "Output()"
      ]
     },
     "metadata": {},
     "output_type": "display_data"
    },
    {
     "data": {
      "text/html": [
       "<pre style=\"white-space:pre;overflow-x:auto;line-height:normal;font-family:Menlo,'DejaVu Sans Mono',consolas,'Courier New',monospace\"></pre>\n"
      ],
      "text/plain": []
     },
     "metadata": {},
     "output_type": "display_data"
    },
    {
     "data": {
      "application/vnd.jupyter.widget-view+json": {
       "model_id": "6a63ef074d424fa88acda8ccc679152b",
       "version_major": 2,
       "version_minor": 0
      },
      "text/plain": [
       "Output()"
      ]
     },
     "metadata": {},
     "output_type": "display_data"
    },
    {
     "data": {
      "text/html": [
       "<pre style=\"white-space:pre;overflow-x:auto;line-height:normal;font-family:Menlo,'DejaVu Sans Mono',consolas,'Courier New',monospace\"></pre>\n"
      ],
      "text/plain": []
     },
     "metadata": {},
     "output_type": "display_data"
    },
    {
     "data": {
      "application/vnd.jupyter.widget-view+json": {
       "model_id": "597a8a589c4b44fcaa242f0f82f1f499",
       "version_major": 2,
       "version_minor": 0
      },
      "text/plain": [
       "Output()"
      ]
     },
     "metadata": {},
     "output_type": "display_data"
    },
    {
     "data": {
      "text/html": [
       "<pre style=\"white-space:pre;overflow-x:auto;line-height:normal;font-family:Menlo,'DejaVu Sans Mono',consolas,'Courier New',monospace\"></pre>\n"
      ],
      "text/plain": []
     },
     "metadata": {},
     "output_type": "display_data"
    },
    {
     "data": {
      "application/vnd.jupyter.widget-view+json": {
       "model_id": "134bc756a9454d3bb57d3d30508b60b3",
       "version_major": 2,
       "version_minor": 0
      },
      "text/plain": [
       "Output()"
      ]
     },
     "metadata": {},
     "output_type": "display_data"
    },
    {
     "data": {
      "text/html": [
       "<pre style=\"white-space:pre;overflow-x:auto;line-height:normal;font-family:Menlo,'DejaVu Sans Mono',consolas,'Courier New',monospace\"></pre>\n"
      ],
      "text/plain": []
     },
     "metadata": {},
     "output_type": "display_data"
    },
    {
     "name": "stderr",
     "output_type": "stream",
     "text": [
      "INFO - Processed file 908674 with tag H - Submittals\n",
      "INFO - Added tag H to file with hash ec985602e09cbedd9bccbe4399fffe44743e10a0\n",
      "INFO - Processing file number 25 of 30: 467129\n",
      "INFO - Found file 467129 at N:\\PPDO\\Records\\49xx   Long Marine Lab\\4932\\4932\\H - Submittals\\Hold\\Submittal 233600-001R1 MD reivew.pdf\n",
      "INFO - Processed file 467129 with tag H - Submittals\n",
      "INFO - Added tag H to file with hash 2c8a9823d6df6e8bfce7c9c8c7abd7fc6ba5715f\n",
      "INFO - Processing file number 26 of 30: 880896\n",
      "INFO - Found file 880896 at N:\\PPDO\\Records\\32xx   Kresge College (College 6)\\3238\\3238\\H - Submittals and O&M's\\3238-057000NC-010-R1 - Decorative Metal - ACAD - MTL-3 & MTL-23 - SD.pdf\n",
      "INFO - Processed file 880896 with tag H - Submittals\n",
      "INFO - Added tag H to file with hash 6b5baf93d9d5fe7613973e9faf6a6d0c3bbc2b53\n",
      "INFO - Processing file number 27 of 30: 466780\n",
      "INFO - Found file 466780 at N:\\PPDO\\Records\\49xx   Long Marine Lab\\4932\\4932\\H - Submittals\\Div 11\\115313-001R1 Revised Review.pdf\n",
      "INFO - Processed file 466780 with tag H - Submittals\n",
      "INFO - Added tag H to file with hash f6bf7195c173c182f4fa962b4d1fed6ddb233b5d\n",
      "INFO - Processing file number 28 of 30: 170942\n",
      "WARNING - File 170942 not found at N:\\PPDO\\Records\\16xx   Cowell College\\1699\\1699\\H - Submittals and O&M's\\1699.H.1699-058 brieft forms contract infill sump grinding  vision recycling transmittal.pdf\n",
      "WARNING - No valid file found for 170942\n",
      "INFO - Processing file number 29 of 30: 318531\n",
      "INFO - Found file 318531 at N:\\PPDO\\Records\\30xx   Porter College (College 5)\\3045\\3045-001\\H - Submittals and O&M's\\3045-001.H.L.C NelsonSymons Corparation - Submittal #3.1 (4 of 8).pdf\n"
     ]
    },
    {
     "data": {
      "application/vnd.jupyter.widget-view+json": {
       "model_id": "30b92cffdc0142f395462fe09bed3055",
       "version_major": 2,
       "version_minor": 0
      },
      "text/plain": [
       "Output()"
      ]
     },
     "metadata": {},
     "output_type": "display_data"
    },
    {
     "data": {
      "text/html": [
       "<pre style=\"white-space:pre;overflow-x:auto;line-height:normal;font-family:Menlo,'DejaVu Sans Mono',consolas,'Courier New',monospace\"></pre>\n"
      ],
      "text/plain": []
     },
     "metadata": {},
     "output_type": "display_data"
    },
    {
     "name": "stderr",
     "output_type": "stream",
     "text": [
      "This PDF is marked as a Tagged PDF. This often indicates that the PDF was generated from an office document and does not need OCR. PDF pages processed by OCRmyPDF may not be tagged correctly.\n"
     ]
    },
    {
     "data": {
      "application/vnd.jupyter.widget-view+json": {
       "model_id": "535d27b89b1e468e852b04264d1a344e",
       "version_major": 2,
       "version_minor": 0
      },
      "text/plain": [
       "Output()"
      ]
     },
     "metadata": {},
     "output_type": "display_data"
    },
    {
     "data": {
      "text/html": [
       "<pre style=\"white-space:pre;overflow-x:auto;line-height:normal;font-family:Menlo,'DejaVu Sans Mono',consolas,'Courier New',monospace\">[tesseract] lots of diacritics - possibly poor OCR\n",
       "</pre>\n"
      ],
      "text/plain": [
       "[tesseract] lots of diacritics - possibly poor OCR\n"
      ]
     },
     "metadata": {},
     "output_type": "display_data"
    },
    {
     "data": {
      "text/html": [
       "<pre style=\"white-space:pre;overflow-x:auto;line-height:normal;font-family:Menlo,'DejaVu Sans Mono',consolas,'Courier New',monospace\"></pre>\n"
      ],
      "text/plain": []
     },
     "metadata": {},
     "output_type": "display_data"
    },
    {
     "data": {
      "application/vnd.jupyter.widget-view+json": {
       "model_id": "344731b4c4f34ba5925d6bae844abfc7",
       "version_major": 2,
       "version_minor": 0
      },
      "text/plain": [
       "Output()"
      ]
     },
     "metadata": {},
     "output_type": "display_data"
    },
    {
     "data": {
      "text/html": [
       "<pre style=\"white-space:pre;overflow-x:auto;line-height:normal;font-family:Menlo,'DejaVu Sans Mono',consolas,'Courier New',monospace\"></pre>\n"
      ],
      "text/plain": []
     },
     "metadata": {},
     "output_type": "display_data"
    },
    {
     "data": {
      "application/vnd.jupyter.widget-view+json": {
       "model_id": "7c3fb3b2b79c4340be540c6de1601158",
       "version_major": 2,
       "version_minor": 0
      },
      "text/plain": [
       "Output()"
      ]
     },
     "metadata": {},
     "output_type": "display_data"
    },
    {
     "data": {
      "text/html": [
       "<pre style=\"white-space:pre;overflow-x:auto;line-height:normal;font-family:Menlo,'DejaVu Sans Mono',consolas,'Courier New',monospace\"></pre>\n"
      ],
      "text/plain": []
     },
     "metadata": {},
     "output_type": "display_data"
    },
    {
     "data": {
      "application/vnd.jupyter.widget-view+json": {
       "model_id": "e61b59787ba440aea8ddc91cd216eb05",
       "version_major": 2,
       "version_minor": 0
      },
      "text/plain": [
       "Output()"
      ]
     },
     "metadata": {},
     "output_type": "display_data"
    },
    {
     "data": {
      "text/html": [
       "<pre style=\"white-space:pre;overflow-x:auto;line-height:normal;font-family:Menlo,'DejaVu Sans Mono',consolas,'Courier New',monospace\"></pre>\n"
      ],
      "text/plain": []
     },
     "metadata": {},
     "output_type": "display_data"
    },
    {
     "data": {
      "application/vnd.jupyter.widget-view+json": {
       "model_id": "8c5da5512ffd4ba38ea20ca8bd318ca5",
       "version_major": 2,
       "version_minor": 0
      },
      "text/plain": [
       "Output()"
      ]
     },
     "metadata": {},
     "output_type": "display_data"
    },
    {
     "data": {
      "text/html": [
       "<pre style=\"white-space:pre;overflow-x:auto;line-height:normal;font-family:Menlo,'DejaVu Sans Mono',consolas,'Courier New',monospace\"></pre>\n"
      ],
      "text/plain": []
     },
     "metadata": {},
     "output_type": "display_data"
    },
    {
     "name": "stderr",
     "output_type": "stream",
     "text": [
      "INFO - Processed file 318531 with tag H - Submittals\n",
      "INFO - Added tag H to file with hash c17cae2fbabc46ebb6af812baee1d49c7035174f\n",
      "INFO - Processing file number 30 of 30: 306001\n",
      "INFO - Found file 306001 at N:\\PPDO\\Records\\28xx   Cowell Student Health Center\\2806\\2806\\H - Submittals\\Submittals\\LEED credits\\LEED progress photos_420\\2010-04-14 health center\\11\\hct_11_119.JPG\n",
      "INFO - Processed file 306001 with tag H - Submittals\n",
      "INFO - Added tag H to file with hash 6007b740d71580b20ae7a4d6b655af7b26a015be\n"
     ]
    },
    {
     "ename": "PermissionError",
     "evalue": "[WinError 32] The process cannot access the file because it is being used by another process: 'C:\\\\Users\\\\adankert\\\\AppData\\\\Local\\\\Temp\\\\tmpt0drj5qw\\\\9804c Submittal Log.xlsx'",
     "output_type": "error",
     "traceback": [
      "\u001b[31m---------------------------------------------------------------------------\u001b[39m",
      "\u001b[31mPermissionError\u001b[39m                           Traceback (most recent call last)",
      "\u001b[36mFile \u001b[39m\u001b[32mC:\\Program Files\\WindowsApps\\PythonSoftwareFoundation.Python.3.13_3.13.1520.0_x64__qbz5n2kfra8p0\\Lib\\shutil.py:625\u001b[39m, in \u001b[36m_rmtree_unsafe\u001b[39m\u001b[34m(path, onexc)\u001b[39m\n\u001b[32m    624\u001b[39m \u001b[38;5;28;01mtry\u001b[39;00m:\n\u001b[32m--> \u001b[39m\u001b[32m625\u001b[39m     \u001b[43mos\u001b[49m\u001b[43m.\u001b[49m\u001b[43munlink\u001b[49m\u001b[43m(\u001b[49m\u001b[43mfullname\u001b[49m\u001b[43m)\u001b[49m\n\u001b[32m    626\u001b[39m \u001b[38;5;28;01mexcept\u001b[39;00m \u001b[38;5;167;01mFileNotFoundError\u001b[39;00m:\n",
      "\u001b[31mPermissionError\u001b[39m: [WinError 32] The process cannot access the file because it is being used by another process: 'C:\\\\Users\\\\adankert\\\\AppData\\\\Local\\\\Temp\\\\tmpt0drj5qw\\\\9804c Submittal Log.xlsx'",
      "\nDuring handling of the above exception, another exception occurred:\n",
      "\u001b[31mPermissionError\u001b[39m                           Traceback (most recent call last)",
      "\u001b[36mCell\u001b[39m\u001b[36m \u001b[39m\u001b[32mIn[1]\u001b[39m\u001b[32m, line 132\u001b[39m\n\u001b[32m    122\u001b[39m tag = FilingTag.retrieve_tag_by_label(db_session, filing_code_tag)\n\u001b[32m    123\u001b[39m files = get_files_from_tag_locations(\n\u001b[32m    124\u001b[39m     db_session= db_session,\n\u001b[32m    125\u001b[39m     tag_obj = tag,\n\u001b[32m   (...)\u001b[39m\u001b[32m    129\u001b[39m     max_size_mb=\u001b[32m150\u001b[39m\n\u001b[32m    130\u001b[39m )\n\u001b[32m--> \u001b[39m\u001b[32m132\u001b[39m \u001b[43m\u001b[49m\u001b[38;5;28;43;01mwith\u001b[39;49;00m\u001b[43m \u001b[49m\u001b[43mtempfile\u001b[49m\u001b[43m.\u001b[49m\u001b[43mTemporaryDirectory\u001b[49m\u001b[43m(\u001b[49m\u001b[43m)\u001b[49m\u001b[43m \u001b[49m\u001b[38;5;28;43;01mas\u001b[39;49;00m\u001b[43m \u001b[49m\u001b[43mtemp_dir\u001b[49m\u001b[43m:\u001b[49m\n\u001b[32m    133\u001b[39m \u001b[43m    \u001b[49m\u001b[38;5;28;43;01mfor\u001b[39;49;00m\u001b[43m \u001b[49m\u001b[43mfile_i\u001b[49m\u001b[43m,\u001b[49m\u001b[43m \u001b[49m\u001b[43mfile_obj\u001b[49m\u001b[43m \u001b[49m\u001b[38;5;129;43;01min\u001b[39;49;00m\u001b[43m \u001b[49m\u001b[38;5;28;43menumerate\u001b[39;49m\u001b[43m(\u001b[49m\u001b[43mfiles\u001b[49m\u001b[43m)\u001b[49m\u001b[43m:\u001b[49m\n\u001b[32m    134\u001b[39m \u001b[43m        \u001b[49m\u001b[43mnb_logger\u001b[49m\u001b[43m.\u001b[49m\u001b[43minfo\u001b[49m\u001b[43m(\u001b[49m\u001b[33;43mf\u001b[39;49m\u001b[33;43m\"\u001b[39;49m\u001b[33;43mProcessing file number \u001b[39;49m\u001b[38;5;132;43;01m{\u001b[39;49;00m\u001b[43mfile_i\u001b[49m\u001b[38;5;250;43m \u001b[39;49m\u001b[43m+\u001b[49m\u001b[38;5;250;43m \u001b[39;49m\u001b[32;43m1\u001b[39;49m\u001b[38;5;132;43;01m}\u001b[39;49;00m\u001b[33;43m of \u001b[39;49m\u001b[38;5;132;43;01m{\u001b[39;49;00m\u001b[38;5;28;43mlen\u001b[39;49m\u001b[43m(\u001b[49m\u001b[43mfiles\u001b[49m\u001b[43m)\u001b[49m\u001b[38;5;132;43;01m}\u001b[39;49;00m\u001b[33;43m: \u001b[39;49m\u001b[38;5;132;43;01m{\u001b[39;49;00m\u001b[43mfile_obj\u001b[49m\u001b[43m.\u001b[49m\u001b[43mid\u001b[49m\u001b[38;5;132;43;01m}\u001b[39;49;00m\u001b[33;43m\"\u001b[39;49m\u001b[43m)\u001b[49m\n",
      "\u001b[36mFile \u001b[39m\u001b[32mC:\\Program Files\\WindowsApps\\PythonSoftwareFoundation.Python.3.13_3.13.1520.0_x64__qbz5n2kfra8p0\\Lib\\tempfile.py:950\u001b[39m, in \u001b[36mTemporaryDirectory.__exit__\u001b[39m\u001b[34m(self, exc, value, tb)\u001b[39m\n\u001b[32m    948\u001b[39m \u001b[38;5;28;01mdef\u001b[39;00m\u001b[38;5;250m \u001b[39m\u001b[34m__exit__\u001b[39m(\u001b[38;5;28mself\u001b[39m, exc, value, tb):\n\u001b[32m    949\u001b[39m     \u001b[38;5;28;01mif\u001b[39;00m \u001b[38;5;28mself\u001b[39m._delete:\n\u001b[32m--> \u001b[39m\u001b[32m950\u001b[39m         \u001b[38;5;28;43mself\u001b[39;49m\u001b[43m.\u001b[49m\u001b[43mcleanup\u001b[49m\u001b[43m(\u001b[49m\u001b[43m)\u001b[49m\n",
      "\u001b[36mFile \u001b[39m\u001b[32mC:\\Program Files\\WindowsApps\\PythonSoftwareFoundation.Python.3.13_3.13.1520.0_x64__qbz5n2kfra8p0\\Lib\\tempfile.py:954\u001b[39m, in \u001b[36mTemporaryDirectory.cleanup\u001b[39m\u001b[34m(self)\u001b[39m\n\u001b[32m    952\u001b[39m \u001b[38;5;28;01mdef\u001b[39;00m\u001b[38;5;250m \u001b[39m\u001b[34mcleanup\u001b[39m(\u001b[38;5;28mself\u001b[39m):\n\u001b[32m    953\u001b[39m     \u001b[38;5;28;01mif\u001b[39;00m \u001b[38;5;28mself\u001b[39m._finalizer.detach() \u001b[38;5;129;01mor\u001b[39;00m _os.path.exists(\u001b[38;5;28mself\u001b[39m.name):\n\u001b[32m--> \u001b[39m\u001b[32m954\u001b[39m         \u001b[38;5;28;43mself\u001b[39;49m\u001b[43m.\u001b[49m\u001b[43m_rmtree\u001b[49m\u001b[43m(\u001b[49m\u001b[38;5;28;43mself\u001b[39;49m\u001b[43m.\u001b[49m\u001b[43mname\u001b[49m\u001b[43m,\u001b[49m\u001b[43m \u001b[49m\u001b[43mignore_errors\u001b[49m\u001b[43m=\u001b[49m\u001b[38;5;28;43mself\u001b[39;49m\u001b[43m.\u001b[49m\u001b[43m_ignore_cleanup_errors\u001b[49m\u001b[43m)\u001b[49m\n",
      "\u001b[36mFile \u001b[39m\u001b[32mC:\\Program Files\\WindowsApps\\PythonSoftwareFoundation.Python.3.13_3.13.1520.0_x64__qbz5n2kfra8p0\\Lib\\tempfile.py:934\u001b[39m, in \u001b[36mTemporaryDirectory._rmtree\u001b[39m\u001b[34m(cls, name, ignore_errors, repeated)\u001b[39m\n\u001b[32m    931\u001b[39m         \u001b[38;5;28;01mif\u001b[39;00m \u001b[38;5;129;01mnot\u001b[39;00m ignore_errors:\n\u001b[32m    932\u001b[39m             \u001b[38;5;28;01mraise\u001b[39;00m\n\u001b[32m--> \u001b[39m\u001b[32m934\u001b[39m \u001b[43m_shutil\u001b[49m\u001b[43m.\u001b[49m\u001b[43mrmtree\u001b[49m\u001b[43m(\u001b[49m\u001b[43mname\u001b[49m\u001b[43m,\u001b[49m\u001b[43m \u001b[49m\u001b[43monexc\u001b[49m\u001b[43m=\u001b[49m\u001b[43monexc\u001b[49m\u001b[43m)\u001b[49m\n",
      "\u001b[36mFile \u001b[39m\u001b[32mC:\\Program Files\\WindowsApps\\PythonSoftwareFoundation.Python.3.13_3.13.1520.0_x64__qbz5n2kfra8p0\\Lib\\shutil.py:790\u001b[39m, in \u001b[36mrmtree\u001b[39m\u001b[34m(path, ignore_errors, onerror, onexc, dir_fd)\u001b[39m\n\u001b[32m    788\u001b[39m     \u001b[38;5;66;03m# can't continue even if onexc hook returns\u001b[39;00m\n\u001b[32m    789\u001b[39m     \u001b[38;5;28;01mreturn\u001b[39;00m\n\u001b[32m--> \u001b[39m\u001b[32m790\u001b[39m \u001b[38;5;28;01mreturn\u001b[39;00m \u001b[43m_rmtree_unsafe\u001b[49m\u001b[43m(\u001b[49m\u001b[43mpath\u001b[49m\u001b[43m,\u001b[49m\u001b[43m \u001b[49m\u001b[43monexc\u001b[49m\u001b[43m)\u001b[49m\n",
      "\u001b[36mFile \u001b[39m\u001b[32mC:\\Program Files\\WindowsApps\\PythonSoftwareFoundation.Python.3.13_3.13.1520.0_x64__qbz5n2kfra8p0\\Lib\\shutil.py:629\u001b[39m, in \u001b[36m_rmtree_unsafe\u001b[39m\u001b[34m(path, onexc)\u001b[39m\n\u001b[32m    627\u001b[39m             \u001b[38;5;28;01mcontinue\u001b[39;00m\n\u001b[32m    628\u001b[39m         \u001b[38;5;28;01mexcept\u001b[39;00m \u001b[38;5;167;01mOSError\u001b[39;00m \u001b[38;5;28;01mas\u001b[39;00m err:\n\u001b[32m--> \u001b[39m\u001b[32m629\u001b[39m             \u001b[43monexc\u001b[49m\u001b[43m(\u001b[49m\u001b[43mos\u001b[49m\u001b[43m.\u001b[49m\u001b[43munlink\u001b[49m\u001b[43m,\u001b[49m\u001b[43m \u001b[49m\u001b[43mfullname\u001b[49m\u001b[43m,\u001b[49m\u001b[43m \u001b[49m\u001b[43merr\u001b[49m\u001b[43m)\u001b[49m\n\u001b[32m    630\u001b[39m \u001b[38;5;28;01mtry\u001b[39;00m:\n\u001b[32m    631\u001b[39m     os.rmdir(path)\n",
      "\u001b[36mFile \u001b[39m\u001b[32mC:\\Program Files\\WindowsApps\\PythonSoftwareFoundation.Python.3.13_3.13.1520.0_x64__qbz5n2kfra8p0\\Lib\\tempfile.py:909\u001b[39m, in \u001b[36mTemporaryDirectory._rmtree.<locals>.onexc\u001b[39m\u001b[34m(func, path, exc)\u001b[39m\n\u001b[32m    906\u001b[39m _resetperms(path)\n\u001b[32m    908\u001b[39m \u001b[38;5;28;01mtry\u001b[39;00m:\n\u001b[32m--> \u001b[39m\u001b[32m909\u001b[39m     \u001b[43m_os\u001b[49m\u001b[43m.\u001b[49m\u001b[43munlink\u001b[49m\u001b[43m(\u001b[49m\u001b[43mpath\u001b[49m\u001b[43m)\u001b[49m\n\u001b[32m    910\u001b[39m \u001b[38;5;28;01mexcept\u001b[39;00m \u001b[38;5;167;01mIsADirectoryError\u001b[39;00m:\n\u001b[32m    911\u001b[39m     \u001b[38;5;28mcls\u001b[39m._rmtree(path, ignore_errors=ignore_errors)\n",
      "\u001b[31mPermissionError\u001b[39m: [WinError 32] The process cannot access the file because it is being used by another process: 'C:\\\\Users\\\\adankert\\\\AppData\\\\Local\\\\Temp\\\\tmpt0drj5qw\\\\9804c Submittal Log.xlsx'"
     ]
    }
   ],
   "source": [
    "import logging\n",
    "import os\n",
    "import shutil\n",
    "import traceback\n",
    "import tempfile\n",
    "from db_models import File, FileLocation, FilingTag, FileTagLabel, FileEmbedding, get_db_engine\n",
    "from embedding.minilm import MiniLMEmbedder\n",
    "from sqlalchemy import func\n",
    "from sqlalchemy.orm import Session\n",
    "from text_extraction.pdf_extraction import PDFTextExtractor\n",
    "from text_extraction.basic_extraction import TextFileTextExtractor, get_extractor_for_file\n",
    "from text_extraction.image_extraction import ImageTextExtractor\n",
    "from text_extraction.office_doc_extraction import PresentationTextExtractor, SpreadsheetTextExtractor, WordFileTextExtractor\n",
    "from text_extraction.web_extraction import HtmlTextExtractor, EmailTextExtractor\n",
    "from text_extraction.extraction_utils import common_char_replacements, strip_diacritics, normalize_unicode, normalize_whitespace\n",
    "from typing import Optional, Union\n",
    "from logging_setups import setup_logger\n",
    "\n",
    "nb_logger = setup_logger(name=\"NotebookLogger\", notebook=True, level=logging.DEBUG)\n",
    "\n",
    "import pytesseract\n",
    "pytesseract.pytesseract.tesseract_cmd = r'C:\\Program Files\\Tesseract-OCR\\tesseract.exe'\n",
    "\n",
    "pdf_extractor = PDFTextExtractor()\n",
    "txt_extractor = TextFileTextExtractor()\n",
    "image_extractor = ImageTextExtractor()\n",
    "presentation_extractor = PresentationTextExtractor()\n",
    "spreadsheet_extractor = SpreadsheetTextExtractor()\n",
    "word_extractor = WordFileTextExtractor()\n",
    "html_extractor = HtmlTextExtractor()\n",
    "email_extractor = EmailTextExtractor()\n",
    "\n",
    "extractors_list = [\n",
    "    pdf_extractor,\n",
    "    txt_extractor,\n",
    "    image_extractor,\n",
    "    presentation_extractor,\n",
    "    spreadsheet_extractor,\n",
    "    word_extractor,\n",
    "    html_extractor,\n",
    "    email_extractor\n",
    "]\n",
    "\n",
    "def get_files_from_tag_locations(\n",
    "        db_session: Session,\n",
    "        tag_obj: FilingTag,\n",
    "        n: int = 100,\n",
    "        randomize: bool = False,\n",
    "        exclude_embedded: bool = False,\n",
    "        max_size_mb: Optional[float] = None\n",
    "        ):\n",
    "    \"\"\"\n",
    "    Retrieve files tagged with a specific tag string.\n",
    "    Optionally exclude files that already have a FileEmbedding.\n",
    "    \"\"\"\n",
    "    tag_locations = FileLocation.file_server_directories.ilike(f\"%/{tag_obj.full_tag_label_str}%\")\n",
    "\n",
    "    # start the base query\n",
    "    q = db_session.query(File) \\\n",
    "                  .join(FileLocation) \\\n",
    "                  .filter(tag_locations)\n",
    "\n",
    "    if exclude_embedded:\n",
    "        # left‐outer join to file_embeddings, keep only those with no match\n",
    "        q = q.outerjoin(FileEmbedding, File.hash == FileEmbedding.file_hash)\\\n",
    "            .filter(FileEmbedding.file_hash == None)\\\n",
    "            \n",
    "    if max_size_mb is not None:\n",
    "        max_size_bytes = max_size_mb * 1024 * 1024\n",
    "        q = q.filter(File.size <= max_size_bytes)\n",
    "\n",
    "    if randomize:\n",
    "        q = q.order_by(func.random())\n",
    "    \n",
    "    q = q.limit(n)\n",
    "\n",
    "    return q.all()\n",
    "\n",
    "def label_file_using_tag(\n",
    "        db_session: Session,\n",
    "        file_obj: File,\n",
    "        some_tag: FilingTag|str,\n",
    "        label_source: str = 'rule'\n",
    "    ):\n",
    "    \"\"\"\n",
    "    Label a file with a specific tag.\n",
    "    \"\"\"\n",
    "    \n",
    "    if isinstance(some_tag, str):\n",
    "        tag_obj = FilingTag.retrieve_tag_by_label(db_session, some_tag)\n",
    "        if not tag_obj:\n",
    "            raise ValueError(f\"Tag '{some_tag}' not found in the database.\")\n",
    "        current_tag = tag_obj\n",
    "    elif isinstance(some_tag, FilingTag):\n",
    "        tag_obj = some_tag\n",
    "        current_tag = tag_obj\n",
    "    else:\n",
    "        raise TypeError(\"some_tag must be a FilingTag instance or a string representing the tag label.\")\n",
    "    \n",
    "    while current_tag is not None:\n",
    "\n",
    "        labeling_record = FileTagLabel(\n",
    "            file_id=file_obj.id,\n",
    "            file_hash=file_obj.hash,\n",
    "            tag=tag_obj.label,\n",
    "            is_primary=True if not current_tag.parent else False,\n",
    "            label_source=label_source\n",
    "        )\n",
    "        db_session.add(labeling_record)\n",
    "        nb_logger.info(f\"Added tag {current_tag.label} to file with hash {file_obj.hash}\")\n",
    "        current_tag = current_tag.parent\n",
    "\n",
    "    db_session.commit()\n",
    "    return labeling_record\n",
    "\n",
    "\n",
    "filing_code_tag = \"F10 - Escrow Agreement\"\n",
    "filing_code_tag = \"H - Submittals\"\n",
    "file_server_location = r\"N:\\PPDO\\Records\"\n",
    "embedding_client = MiniLMEmbedder()\n",
    "with Session(get_db_engine()) as db_session:\n",
    "    tag = FilingTag.retrieve_tag_by_label(db_session, filing_code_tag)\n",
    "    files = get_files_from_tag_locations(\n",
    "        db_session= db_session,\n",
    "        tag_obj = tag,\n",
    "        randomize=True,\n",
    "        n = 30,\n",
    "        exclude_embedded=True,\n",
    "        max_size_mb=150\n",
    "    )\n",
    "\n",
    "    with tempfile.TemporaryDirectory() as temp_dir:\n",
    "        for file_i, file_obj in enumerate(files):\n",
    "            nb_logger.info(f\"Processing file number {file_i + 1} of {len(files)}: {file_obj.id}\")\n",
    "\n",
    "            if not file_obj.locations:\n",
    "                nb_logger.warning(f\"No locations found for file {file_obj.id}\")\n",
    "                continue\n",
    "            \n",
    "            filepath = \"\"\n",
    "            filename = \"\"\n",
    "            for location in file_obj.locations:\n",
    "                local_location_filepath = location.local_filepath(server_mount_path=file_server_location)\n",
    "\n",
    "                if os.path.exists(local_location_filepath):\n",
    "                    nb_logger.info(f\"Found file {file_obj.id} at {local_location_filepath}\")\n",
    "                    \n",
    "                    # if the tag's full label is not in the file server directories, do something...\n",
    "                    if tag.full_tag_label_str.lower() not in location.file_server_directories.lower():\n",
    "                        nb_logger.warning(f\"File {file_obj.id} does not match tag {filing_code_tag} in its location directories\")\n",
    "                        #TODO\n",
    "                        continue\n",
    "                    filename = location.filename\n",
    "                    break\n",
    "                \n",
    "                else:\n",
    "                    nb_logger.warning(f\"File {file_obj.id} not found at {local_location_filepath}\")\n",
    "                    continue\n",
    "            \n",
    "            # if no valid file found, skip to next file\n",
    "            if not filename:\n",
    "                nb_logger.warning(f\"No valid file found for {file_obj.id}\")\n",
    "                continue\n",
    "\n",
    "            try:\n",
    "                temp_filepath = os.path.join(temp_dir, filename)\n",
    "                shutil.copyfile(local_location_filepath, temp_filepath)\n",
    "                extractor = get_extractor_for_file(temp_filepath, extractors_list)\n",
    "                if extractor:\n",
    "                    text = extractor(temp_filepath)\n",
    "                    if text:\n",
    "                        text = common_char_replacements(text)\n",
    "                        text = strip_diacritics(text)\n",
    "                        text = normalize_unicode(text)\n",
    "                        text = normalize_whitespace(text)\n",
    "                        emb_list = embedding_client.encode([text])\n",
    "                        emb_vec = emb_list[0] if emb_list else None\n",
    "                        if emb_vec is not None:\n",
    "                            file_embedding = FileEmbedding(\n",
    "                                file_hash =file_obj.hash,\n",
    "                                source_text =text,\n",
    "                                minilm_model=embedding_client.model_name,\n",
    "                                minilm_emb=emb_vec\n",
    "                            )\n",
    "                            db_session.add(file_embedding)\n",
    "                            db_session.commit()\n",
    "                            nb_logger.info(f\"Processed file {file_obj.id} with tag {filing_code_tag}\")\n",
    "                        else:\n",
    "                            nb_logger.warning(f\"Failed to create embedding for file {file_obj.id}\")\n",
    "                            continue\n",
    "                        \n",
    "                        file_labeling = label_file_using_tag(\n",
    "                            db_session=db_session,\n",
    "                            file_obj=file_obj,\n",
    "                            some_tag=tag\n",
    "                        )\n",
    "                    else:\n",
    "                        nb_logger.warning(f\"No text extracted from {file_obj.id}\")\n",
    "                else:\n",
    "                    nb_logger.warning(f\"No suitable extractor found for file {file_obj.id}\")\n",
    "            except Exception as e:\n",
    "\n",
    "\n",
    "                nb_logger.error(f\"Error processing file {file_obj.id}: {e}\")\n",
    "                nb_logger.debug(traceback.format_exc())\n",
    "                continue"
   ]
  }
 ],
 "metadata": {
  "kernelspec": {
   "display_name": ".venv",
   "language": "python",
   "name": "python3"
  },
  "language_info": {
   "codemirror_mode": {
    "name": "ipython",
    "version": 3
   },
   "file_extension": ".py",
   "mimetype": "text/x-python",
   "name": "python",
   "nbconvert_exporter": "python",
   "pygments_lexer": "ipython3",
   "version": "3.13.5"
  }
 },
 "nbformat": 4,
 "nbformat_minor": 5
}
