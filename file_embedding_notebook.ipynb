{
 "cells": [
  {
   "cell_type": "code",
   "execution_count": null,
   "id": "036640fe",
   "metadata": {},
   "outputs": [],
   "source": [
    "from .embedding.minilm import MiniLMEmbedder\n",
    "\n",
    "filing_tag_"
   ]
  }
 ],
 "metadata": {
  "language_info": {
   "name": "python"
  }
 },
 "nbformat": 4,
 "nbformat_minor": 5
}
