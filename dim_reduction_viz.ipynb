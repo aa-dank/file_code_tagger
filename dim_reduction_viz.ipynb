{
 "cells": [
  {
   "cell_type": "markdown",
   "id": "7031381c",
   "metadata": {},
   "source": [
    "# Dimensionality Reduction of Top-Level Filing Tags (Excluding 'A')\n",
    "This notebook:\n",
    "\n",
    "1. Connects to the project database (MiniLM embeddings).\n",
    "2. Pulls embeddings for files whose assigned tag is a *top-level* filing tag (no parent) excluding the 'A' tag.\n",
    "3. Balances samples per tag (up to `MAX_PER_TAG`).\n",
    "4. Applies L2 normalization, PCA (pre-dimension reduction), then UMAP to 2D.\n",
    "5. Produces an interactive Plotly scatter with distinct colors per tag.\n",
    "\n",
    "If database credentials are missing or the query returns no rows, the notebook will print a clear message and skip plotting.\n"
   ]
  },
  {
   "cell_type": "code",
   "execution_count": null,
   "id": "ef85fba9",
   "metadata": {},
   "outputs": [
    {
     "name": "stderr",
     "output_type": "stream",
     "text": [
      "2025-09-15 15:08:46,665 db.db INFO Creating database engine\n"
     ]
    }
   ],
   "source": [
    "# cell 1: imports & setup\n",
    "import os\n",
    "import random\n",
    "import numpy as np\n",
    "import pandas as pd\n",
    "\n",
    "from sklearn.decomposition import PCA\n",
    "from sklearn.preprocessing import normalize\n",
    "import umap.umap_ as umap\n",
    "import plotly.express as px\n",
    "\n",
    "from sqlalchemy.orm import sessionmaker\n",
    "\n",
    "# Your existing db models\n",
    "from db.models import FileContent, FileTagLabel, FilingTag, File\n",
    "from db.db import get_db_engine\n",
    "\n",
    "# ---- Config ----\n",
    "MODEL_NAME = \"all-MiniLM-L6-v2\"\n",
    "MAX_PER_TAG = 400\n",
    "RANDOM_SEED = 42\n",
    "PCA_PRECOMP = 50\n",
    "\n",
    "UMAP_PARAMS = dict(\n",
    "    n_neighbors=15,\n",
    "    min_dist=0.1,\n",
    "    metric='cosine'\n",
    ")\n",
    "\n",
    "engine = get_db_engine()\n",
    "Session = sessionmaker(bind=engine)\n",
    "session = Session()\n"
   ]
  },
  {
   "cell_type": "code",
   "execution_count": null,
   "id": "276bec6f",
   "metadata": {},
   "outputs": [],
   "source": [
    "def fetch_embeddings_tags(engine_model_name, split=None, parent_tag=None, max_per_tag=MAX_PER_TAG, top_level_exclude_A: bool = False):\n",
    "    \"\"\"\n",
    "    Fetch MiniLM embeddings and associated tags / filenames from the database.\n",
    "\n",
    "    Returns a DataFrame with columns: file_id, tag, filename, embedding (np.array).\n",
    "\n",
    "    Filtering modes (mutually aware):\n",
    "        top_level_exclude_A=True  -> only FilingTag rows where parent_label IS NULL AND tag != 'A'.\n",
    "        parent_tag=\"X\"            -> restrict to descendants whose parent_label == parent_tag (ignored if top_level_exclude_A True).\n",
    "        split=\"train|val|test\"    -> restrict by FileTagLabel.split.\n",
    "\n",
    "    Notes:\n",
    "        * Correct joins use file hash (File.hash) because FileContent & FileTagLabel are keyed on file_hash.\n",
    "        * File itself has no filename column; we take the (first) FileLocation.filename via LEFT OUTER JOIN.\n",
    "        * Sampling is done client‑side per tag after full retrieval; for very large tables consider a SQL sampling strategy.\n",
    "    \"\"\"\n",
    "    # Base query assembling required pieces.\n",
    "    # We pick the first filename by using MIN(FileLocation.filename) aggregation in a subquery to avoid duplicate rows per location.\n",
    "    from sqlalchemy import func\n",
    "    from sqlalchemy.orm import aliased\n",
    "\n",
    "    # Subquery to get a representative filename per file_id (min over filenames)\n",
    "    from db.models import FileContent as FE, File as F, FileTagLabel as FTL, FilingTag as FT, FileLocation as FL\n",
    "\n",
    "    filename_subq = (\n",
    "        session.query(FL.file_id.label('fl_file_id'), func.min(FL.filename).label('rep_filename'))\n",
    "        .group_by(FL.file_id)\n",
    "        .subquery()\n",
    "    )\n",
    "\n",
    "    q = (\n",
    "        session.query(\n",
    "            F.id.label('file_id'),\n",
    "            FE.minilm_emb.label('embedding'),\n",
    "            FTL.tag.label('tag'),\n",
    "            filename_subq.c.rep_filename.label('filename')\n",
    "        )\n",
    "        .join(FE, FE.file_hash == F.hash)          # FileContent -> File via hash\n",
    "        .join(FTL, F.hash == FTL.file_hash)        # Tag labels via hash\n",
    "        .join(FT, FT.label == FTL.tag)             # FilingTag for hierarchy filters\n",
    "        .outerjoin(filename_subq, filename_subq.c.fl_file_id == F.id)  # representative filename\n",
    "        .filter(FE.minilm_model == engine_model_name)\n",
    "    )\n",
    "\n",
    "    if top_level_exclude_A:\n",
    "        q = q.filter(FT.parent_label.is_(None)).filter(FTL.tag != 'A')\n",
    "    elif parent_tag is not None:\n",
    "        # Children of specific parent\n",
    "        q = q.filter(FT.parent_label == parent_tag)\n",
    "\n",
    "    if split is not None:\n",
    "        q = q.filter(FTL.split == split)\n",
    "\n",
    "    rows = q.all()\n",
    "    if not rows:\n",
    "        return pd.DataFrame([])\n",
    "\n",
    "    # Group and sample per tag\n",
    "    tag2rows = {}\n",
    "    for file_id, emb_vec, tag, filename in rows:\n",
    "        if emb_vec is None:\n",
    "            continue\n",
    "        # pgvector returns a list-like already; ensure numpy array float\n",
    "        emb_np = np.array(emb_vec, dtype=float)\n",
    "        tag2rows.setdefault(tag, []).append((file_id, emb_np, filename or \"\"))\n",
    "\n",
    "    random.seed(RANDOM_SEED)\n",
    "    records = []\n",
    "    for tag, items in tag2rows.items():\n",
    "        if not items:\n",
    "            continue\n",
    "        if len(items) > max_per_tag:\n",
    "            items = random.sample(items, max_per_tag)\n",
    "        for fid, emb_arr, fname in items:\n",
    "            records.append({\n",
    "                'file_id': fid,\n",
    "                'tag': tag,\n",
    "                'filename': fname,\n",
    "                'embedding': emb_arr\n",
    "            })\n",
    "\n",
    "    return pd.DataFrame(records)\n",
    "\n",
    "\n",
    "def reduce_dims(df, embedding_col='embedding'):\n",
    "    \"\"\"\n",
    "    Given df with an embedding column (np.array), do normalization, PCA, UMAP.\n",
    "    The necessary dataframe columns are: 'file_id', 'tag', 'filename', embedding_col.\n",
    "\n",
    "    Returns df augmented by 'umap_x','umap_y' (and optionally PCA columns).\n",
    "    \"\"\"\n",
    "    if df.empty:\n",
    "        return df\n",
    "    X = np.vstack(df[embedding_col].values)\n",
    "    X_norm = normalize(X, norm='l2')\n",
    "\n",
    "    pca = PCA(n_components=min(PCA_PRECOMP, X_norm.shape[1]), random_state=RANDOM_SEED)\n",
    "    X_pca = pca.fit_transform(X_norm)\n",
    "    print(\"Explained variance ratio (first few components):\", pca.explained_variance_ratio_[:10])\n",
    "\n",
    "    reducer = umap.UMAP(**UMAP_PARAMS, random_state=RANDOM_SEED)\n",
    "    X_umap = reducer.fit_transform(X_pca)\n",
    "\n",
    "    df2 = df.copy()\n",
    "    for i in range(min(5, X_pca.shape[1])):\n",
    "        df2[f'pca_{i}'] = X_pca[:, i]\n",
    "    df2['umap_x'] = X_umap[:, 0]\n",
    "    df2['umap_y'] = X_umap[:, 1]\n",
    "    return df2\n"
   ]
  },
  {
   "cell_type": "code",
   "execution_count": 17,
   "id": "7dfedbef",
   "metadata": {},
   "outputs": [
    {
     "name": "stdout",
     "output_type": "stream",
     "text": [
      "Number of points fetched: 2800\n",
      "Tag counts:\n",
      " tag\n",
      "E    400\n",
      "G    400\n",
      "B    400\n",
      "C    400\n",
      "F    400\n",
      "D    400\n",
      "H    400\n",
      "Name: count, dtype: int64\n",
      "Explained variance ratio (first few components): [0.08594083 0.04298185 0.03619305 0.03065251 0.03012792 0.02461157\n",
      " 0.02250789 0.01935257 0.01742866 0.01631295]\n",
      "Explained variance ratio (first few components): [0.08594083 0.04298185 0.03619305 0.03065251 0.03012792 0.02461157\n",
      " 0.02250789 0.01935257 0.01742866 0.01631295]\n"
     ]
    },
    {
     "name": "stderr",
     "output_type": "stream",
     "text": [
      "c:\\Users\\adankert\\projects\\file_code_tagger\\.venv\\Lib\\site-packages\\umap\\umap_.py:1952: UserWarning:\n",
      "\n",
      "n_jobs value 1 overridden to 1 by setting random_state. Use no seed for parallelism.\n",
      "\n"
     ]
    }
   ],
   "source": [
    "df_raw = fetch_embeddings_tags(MODEL_NAME, split='train', parent_tag=None, max_per_tag=MAX_PER_TAG, top_level_exclude_A=True)\n",
    "if df_raw.empty:\n",
    "    print(\"No rows returned for the selected criteria (top-level tags excluding 'A').\")\n",
    "else:\n",
    "    print(\"Number of points fetched:\", len(df_raw))\n",
    "    print(\"Tag counts:\\n\", df_raw['tag'].value_counts())\n",
    "\n",
    "df_vis = reduce_dims(df_raw)"
   ]
  },
  {
   "cell_type": "markdown",
   "id": "85cde9e6",
   "metadata": {},
   "source": [
    "# Top-Level Tag Embedding Visualization (Excluding 'A')\n",
    "This notebook:\n",
    "\n",
    "1. Loads MiniLM embeddings for files whose assigned tag is a *top-level* filing tag (no parent) except 'A'.\n",
    "2. Samples up to `MAX_PER_TAG` items per tag for balance.\n",
    "3. L2 normalizes embeddings, does PCA (pre-reduction) then UMAP to 2D.\n",
    "4. Plots an interactive scatter with distinct colors per tag.\n",
    "\n",
    "If no rows are returned (e.g., env vars / DB not set or tags missing), the notebook will report and skip plotting.\n",
    "\n",
    "Adjustable knobs near the top: `MAX_PER_TAG`, `PCA_PRECOMP`, and `UMAP_PARAMS`.\n"
   ]
  },
  {
   "cell_type": "code",
   "execution_count": 18,
   "id": "c93a272d",
   "metadata": {},
   "outputs": [
    {
     "data": {
      "application/vnd.plotly.v1+json": {
       "config": {
        "plotlyServerURL": "https://plot.ly"
       },
       "data": [
        {
         "customdata": [
          [
           78255,
           "20190211144301.pdf",
           "E"
          ],
          [
           136592,
           "File 11700 Finance & Planning Re Various Handicapped Issues 09.06.90.pdf",
           "E"
          ],
          [
           854604,
           "desktop.ini",
           "E"
          ],
          [
           16829,
           "Hay Barn Lumber Chart brief.xlsx",
           "E"
          ],
          [
           910443,
           "File 4838 Playground Phase II 2-3-04.pdf",
           "E"
          ],
          [
           545159,
           "6612.E4.Hamilton program and design project schedule estimate.pdf",
           "E"
          ],
          [
           990781,
           "3.P&D_Correspondence.pdf",
           "E"
          ],
          [
           362760,
           "File 3600-003 Scope of Work Draft 3-29-11.pdf",
           "E"
          ],
          [
           790931,
           "50 SD DPP - Part 1 and 2 combined_Page_05.jpg",
           "E"
          ],
          [
           790988,
           "SC Coastal Biology Bldg CIB draft 7-31-13.pdf",
           "E"
          ],
          [
           95349,
           "IMG_2131.JPG",
           "E"
          ],
          [
           541644,
           "EDPA_Ver_B_Rev_031201 (2).doc",
           "E"
          ],
          [
           869141,
           "UCSC Silicon Valley Campus Digital Signboard Schedule   11.20.23  11x17.pdf",
           "E"
          ],
          [
           337563,
           "180918_KRESGE PROJECT CALENDAR DD WORKING.xls",
           "E"
          ],
          [
           881410,
           "File 3308 Kerr Layouts.pdf",
           "E"
          ],
          [
           311490,
           "180516_Meeting Agenda_Mtg 7.pdf",
           "E"
          ],
          [
           2353,
           "2013_SavingsByDesign_OnePager.pdf",
           "E"
          ],
          [
           962887,
           "Revised Project Schedule 9.28.99.pdf",
           "E"
          ],
          [
           862943,
           "3124.E7.2.Budget Validation Agenda & Notes 12.22.92.pdf",
           "E"
          ],
          [
           819514,
           "File 7501 E2 Scope of Construction for the PPG Budget 03.14.01.pdf",
           "E"
          ],
          [
           883543,
           "Stagecraft Letter 9_2_21 batten.pdf",
           "E"
          ],
          [
           689488,
           "10069.E7.Agenda.pdf",
           "E"
          ],
          [
           790985,
           "Phase 3 Costs 2011-04-28.pdf",
           "E"
          ],
          [
           882100,
           "File 4922 Backflow Preventors.pdf",
           "E"
          ],
          [
           884355,
           "File 5510 A 006 DH.A2.14-Level 3.pdf",
           "E"
          ],
          [
           844161,
           "10634.E2.Program Assumptions draft 5-16-12-RevFA.doc",
           "E"
          ],
          [
           16418,
           "Schematic Design Estimate.xlsx",
           "E"
          ],
          [
           805341,
           "DL -  Wood Framed Estimate A-B 5 Floors.pdf",
           "E"
          ],
          [
           829734,
           "2-4 Natural Gas.ai",
           "E"
          ],
          [
           477686,
           "Scope of work.docx",
           "E"
          ],
          [
           86076,
           "Mc Henry Elevator Spec 1.pdf",
           "E"
          ],
          [
           809128,
           "1.3 Arborist Report.pdf",
           "E"
          ],
          [
           103443,
           "400923001 Appendix G.1 Historic Subsurface Sampling.pdf",
           "E"
          ],
          [
           970543,
           "Keyed Sheet Notes.pdf",
           "E"
          ],
          [
           487738,
           "7-Long-Eared owl and Cooper's Hawk Survey Colleges 9 &10 Site.pdf",
           "E"
          ],
          [
           311167,
           "190506 PBW 3002-040 Porter Dining - Full Budget Draft - Schedule copy.pdf",
           "E"
          ],
          [
           311482,
           "180411_Meeting Agenda_Mtg 4.pdf",
           "E"
          ],
          [
           917479,
           "VE 2-Costed Items.xls",
           "E"
          ],
          [
           962991,
           "8900-039_e7.pdf",
           "E"
          ],
          [
           884288,
           "2-College Nine 9-25-18 Cost-Final -ToCapital Planning.pdf",
           "E"
          ],
          [
           945473,
           "303-6060.pdf",
           "E"
          ],
          [
           236115,
           "2017-06-02 - Crown S02O.pdf",
           "E"
          ],
          [
           791713,
           "Cross-Walk at COH.pdf",
           "E"
          ],
          [
           956755,
           "Rachel_Carson_College_Dining_Expansion_Revie.pdf",
           "E"
          ],
          [
           215024,
           "ARB 5172010 Workshop summary.docx",
           "E"
          ],
          [
           307762,
           "Directions for Roto-Waiter Installation Docs.pdf",
           "E"
          ],
          [
           844042,
           "6302.E5.4.pdf",
           "E"
          ],
          [
           863767,
           "3124.E5.3.Electrical Review 4.13.94.pdf",
           "E"
          ],
          [
           744675,
           "Project Scope.xls",
           "E"
          ],
          [
           3255,
           "EIC-20070320125618473.pdf",
           "E"
          ],
          [
           883569,
           "22029 - UC Santa Cruz Schedule LVH.pdf",
           "E"
          ],
          [
           574083,
           "File 7602.E3 2nd Fund Chng - APPROVED Proj Sum.pdf",
           "E"
          ],
          [
           964675,
           "Voltage Wire and Cable Requirements.pdf",
           "E"
          ],
          [
           962748,
           "6300-001_e5.1.pdf",
           "E"
          ],
          [
           599199,
           "File 9077 50CD Cost Estimate March 2011.pdf",
           "E"
          ],
          [
           711160,
           "PBW_Sinsheimer Cryo Lab 132_Augmentation 2020-01-08.xls",
           "E"
          ],
          [
           374106,
           "File 4001. E7.Value Engineering-Natural Sciences 3-Session 2-3 .pdf",
           "E"
          ],
          [
           235328,
           "File 2365 Preliminary Project Schedule.pdf",
           "E"
          ],
          [
           339011,
           "UCSC Kresge DPP Book_VOL 1 16.pdf",
           "E"
          ],
          [
           901718,
           "E223_(1).E223.pdf",
           "E"
          ],
          [
           945603,
           "303-612.pdf",
           "E"
          ],
          [
           809238,
           "Code - The Fire Consultants, Inc..pdf",
           "E"
          ],
          [
           819522,
           "7501.E5.2 Special Consultants Transmittal Fax.pdf",
           "E"
          ],
          [
           93334,
           "10070. E2. Project Description.pdf",
           "E"
          ],
          [
           791256,
           "CSC FSS Augmentation PBW 2-11-15.xls",
           "E"
          ],
          [
           14220,
           "EH&S_Planning Concerns_12-20-11.SM_rev.pdf",
           "E"
          ],
          [
           311488,
           "180502_Meeting Agenda_Mtg 6.pdf",
           "E"
          ],
          [
           111261,
           "VE list 04.23.2015R1.pdf",
           "E"
          ],
          [
           893295,
           "File 1639 Conformed Specs V2.pdf",
           "E"
          ],
          [
           832147,
           "File 10057.E3. DD Cost Check.pdf",
           "E"
          ],
          [
           809249,
           "160318 UCSC SS3 DPP Addendum DRAFT.pdf",
           "E"
          ],
          [
           144947,
           "2701_SoilsReport002_1968.pdf",
           "E"
          ],
          [
           869136,
           "UCSC Silicon Valley Campus Digital Sign SCHEDULE     2.2.24.pdf",
           "E"
          ],
          [
           809274,
           "classroom 1000_1-16.pdf",
           "E"
          ],
          [
           836285,
           "3124.E3.Improvements to Arts Budget.pdf",
           "E"
          ],
          [
           311202,
           "180727 Porter Dining Schedule 3002-040.pdf",
           "E"
          ],
          [
           971515,
           "Thimann_Program_Summary_R2.pdf",
           "E"
          ],
          [
           331869,
           "File 3209. E2. Project Planning Guide. 1986.06&07.pdf",
           "E"
          ],
          [
           327975,
           "3100-179.E4.UC Santa Cruz - Schedule of Classes -Winter 2017.pdf",
           "E"
          ],
          [
           863756,
           "3124.E5.3.Boora Transmittal 5.18.94.pdf",
           "E"
          ],
          [
           705035,
           "BSOE 216-Rev Budget 8-25-2015.xls",
           "E"
          ],
          [
           829755,
           "Scope 1-3.pdf",
           "E"
          ],
          [
           882105,
           "File 4922 E5.6 Natural Reserve Coordinator Comments on Facility Design 01.28.92.pdf",
           "E"
          ],
          [
           887698,
           "Student Life Seismic 2A C Phase Project Summary Form Signed 4-16-15.pdf",
           "E"
          ],
          [
           74588,
           "10000-200.E3.Campus Wide Meter Upgrade 2016 Accounting 11.1.16.xlsx",
           "E"
          ],
          [
           667383,
           "1600-168.E.Document (2).pdf",
           "E"
          ],
          [
           680549,
           "Plan Check Review Spreadsheet.pdf",
           "E"
          ],
          [
           844043,
           "6302.E5.7.pdf",
           "E"
          ],
          [
           329062,
           "3124.E6.Improvements to Arts Facilities, Erosion Control Standards1.pdf",
           "E"
          ],
          [
           311521,
           "_20180622_Final Meeting PDF.pdf",
           "E"
          ],
          [
           862088,
           "6200-016.E4.Anticipated Schedule.xlsx",
           "E"
          ],
          [
           577893,
           "8352 PPG 11-96.pdf",
           "E"
          ],
          [
           786405,
           "IMG_3637.jpg",
           "E"
          ],
          [
           681451,
           "2318-044_e5.4.pdf",
           "E"
          ],
          [
           361430,
           "File 3503 E6 Billing Invoices for Engineering Services Oct 18 - 27 11.30.89.pdf",
           "E"
          ],
          [
           577371,
           "8347.E4.Physical Education Facilities Chronological Information.pdf",
           "E"
          ],
          [
           307469,
           "File 3000-149 Structural Calcs.pdf",
           "E"
          ],
          [
           311070,
           "180430 UCSC Dining_ Progress Meeting .zip",
           "E"
          ],
          [
           374093,
           "4001.E5. Program and Design Correspondence.pdf",
           "E"
          ],
          [
           95212,
           "13-09-13 Student Life Seismic Corrections Ph 2A - draft.pdf",
           "E"
          ],
          [
           883105,
           "File 5507 E5.1 Modular Housing Name 06.30.97.pdf",
           "E"
          ],
          [
           399312,
           "Letter WF Coastal Marine Research Center Option - Regents 2001.pdf",
           "E"
          ],
          [
           962713,
           "Joni Site Concept Meeting Minutes.pdf",
           "E"
          ],
          [
           476482,
           "5202.E4 schedule 1.pdf",
           "E"
          ],
          [
           724419,
           "140226 Schedule Current_rev2f&h.xlsx",
           "E"
          ],
          [
           862939,
           "3124.E5.4.Sheet Details.pdf",
           "E"
          ],
          [
           311513,
           "UCSC Dining_Meeting 6_05012018_FINAL.pdf",
           "E"
          ],
          [
           829716,
           "04_Cond_Chilled_Water_Rev3.pdf",
           "E"
          ],
          [
           1031192,
           "12.3 progress meeting minutes.pdf",
           "E"
          ],
          [
           902198,
           "3048.E2.House A Seismic & Capital Renewal - Expansion.pdf",
           "E"
          ],
          [
           535642,
           "6201-029.E4.Planning Schedule.pdf",
           "E"
          ],
          [
           171050,
           "Prebid Agenda Termites.doc",
           "E"
          ],
          [
           472714,
           "2016-05-23 Estimate of Probable CC Parking Lot E.pdf",
           "E"
          ],
          [
           489867,
           "5503 PPG 3-5-91.pdf",
           "E"
          ],
          [
           862159,
           "2024-Oct 1 WRP Whiteboard Schedules.pdf",
           "E"
          ],
          [
           791011,
           "SC Coastal Biology Bldg CIB 2 column draft 12-05-11.xls",
           "E"
          ],
          [
           364948,
           "File 3619.E4.Sept.20 Updated Schedules.pdf",
           "E"
          ],
          [
           468799,
           "130115 LML Schedule12revCIH draft.pdf",
           "E"
          ],
          [
           883594,
           "6300-011 Music Center Recital Hall Theatrical Equipment Modernization - Meeting Minutes #8.pdf",
           "E"
          ],
          [
           683231,
           "4999-006_h(5).pdf",
           "E"
          ],
          [
           755895,
           "UCSC Draft DPP Report_Volume II.pdf",
           "E"
          ],
          [
           577363,
           "8347.E4.P.E Facilities 1987 East Expansion Progress Schedule.pdf",
           "E"
          ],
          [
           311487,
           "180502_Meeting Agenda_Mtg 6 - 20180502_105808.pdf",
           "E"
          ],
          [
           474397,
           "5201.E7.2. Value Engineering Final Report.pdf",
           "E"
          ],
          [
           704676,
           "File 2501 M 04.TIF",
           "E"
          ],
          [
           913837,
           "107-Inclusion Area D-report",
           "E"
          ],
          [
           80606,
           "10064-002-003-004-008.E3 Cost Estimates-Capital Improvement Budget.pdf",
           "E"
          ],
          [
           162580,
           "07-03-08_Schedule.pdf",
           "E"
          ],
          [
           829703,
           "01_Water_System_Rev.pdf",
           "E"
          ],
          [
           577190,
           "8343.E1.Truss Layout.pdf",
           "E"
          ],
          [
           235617,
           "160929_UCSC Crown College_09.27.16 DSA Meeting-Notes.pdf",
           "E"
          ],
          [
           339355,
           "KRESGE BUILDING NAMES A-010 CPSM REV 2019-09-18.pdf",
           "E"
          ],
          [
           755757,
           "3.2_Existing_Room_Plans_&_Photos.pdf",
           "E"
          ],
          [
           809137,
           "UCSC institute of the Arts and Sciences - Design Brief Volume II 140903.pdf",
           "E"
          ],
          [
           746925,
           "s06_32200.pdf",
           "E"
          ],
          [
           809399,
           "4_Site.indd.pdf",
           "E"
          ],
          [
           682219,
           "3199-016_e5.1.pdf",
           "E"
          ],
          [
           563306,
           "File 7501 PPG and Addendum.pdf",
           "E"
          ],
          [
           884148,
           "File 6630 Transformer Cost Quote Request.pdf",
           "E"
          ],
          [
           681664,
           "2600-099_e5.3.pdf",
           "E"
          ],
          [
           883589,
           "6300-011 Music Center Recital Hall Theatrical Equipment Modernization - Meeting Minutes #3.pdf",
           "E"
          ],
          [
           870842,
           "10638-007.E8.WRP Building C ECE Lab - Meeting Minutes #32.pdf",
           "E"
          ],
          [
           98899,
           "File 3701 Soils Report 058.pdf",
           "E"
          ],
          [
           339155,
           "nVE_thall_mka_notes.pdf",
           "E"
          ],
          [
           111244,
           "Alts Bldg C Budget Strategies draft 1-27-15.docx",
           "E"
          ],
          [
           881418,
           "File 3308 Visitor Survey 6-7-94.pdf",
           "E"
          ],
          [
           744879,
           "2300 Del Holec disconnect s of w.doc",
           "E"
          ],
          [
           339263,
           "181206_KRESGE_PBW_OUTLINE.xlsx",
           "E"
          ],
          [
           951219,
           "UCSC LOW FLOW Schedule rev 1 (1).pdf",
           "E"
          ],
          [
           541649,
           "EECC - DPP.doc 1",
           "E"
          ],
          [
           111205,
           "SC Alts for Acad Programs Phase 1 PPG Final 5-15-15.pdf",
           "E"
          ],
          [
           310513,
           "UCSC Porter_ Final DAB Present.zip",
           "E"
          ],
          [
           962360,
           "Submittal Review for Plant Controls 5.27.10.pdf",
           "E"
          ],
          [
           541655,
           "OP Proposal (2).doc",
           "E"
          ],
          [
           863748,
           "3124.E5.3.Bill Taber Correspondence 3.7.94.pdf",
           "E"
          ],
          [
           75914,
           "File 10021 Soils Report 281_Page_05.tif",
           "E"
          ],
          [
           406053,
           "Overlook Shelter 1.pdf",
           "E"
          ],
          [
           770,
           "1400-093.E1.Roof and Stairway detail Lecture Hall.TIF",
           "E"
          ],
          [
           399498,
           "UC Santa Cruz Mail - Fwd_ Exceeding Title 24.pdf",
           "E"
          ],
          [
           83650,
           "100%DD_FE_UCSC_SC_Calcs_111006.pdf",
           "E"
          ],
          [
           805452,
           "Conformed Set Documents 495.pdf",
           "E"
          ],
          [
           479714,
           "5303-012_f5.pdf",
           "E"
          ],
          [
           755730,
           "2.4_Program_Forms_&_Room_Plans.pdf",
           "E"
          ],
          [
           791110,
           "Infr.pdf",
           "E"
          ],
          [
           969646,
           "Door 08410,Entrances e2.doc",
           "E"
          ],
          [
           3251,
           "1.1-2.3.pdf",
           "E"
          ],
          [
           887647,
           "picture-39.jpg",
           "E"
          ],
          [
           227076,
           "2201.E1 DPP.pdf",
           "E"
          ],
          [
           541311,
           "6401-011.E4.Pt Paper - 6401-011 Update (04-25-17).docx",
           "E"
          ],
          [
           311512,
           "Student Engagement Flyer.pdf",
           "E"
          ],
          [
           844277,
           "Scheme 7 & 8.pdf",
           "E"
          ],
          [
           945478,
           "303-6065.pdf",
           "E"
          ],
          [
           94750,
           "File 10071.E6 Cantu Center.pdf",
           "E"
          ],
          [
           46071,
           "DL 90% CD Reconciled Estimate.pdf",
           "E"
          ],
          [
           819594,
           "VE-SS-005.pdf",
           "E"
          ],
          [
           944883,
           "303-2040.pdf",
           "E"
          ],
          [
           274652,
           "File 2736 Project Planning Guide.pdf",
           "E"
          ],
          [
           339400,
           "NFPA 58-Fig1.1(b) Above Ground Tank Location Clearances.pdf",
           "E"
          ],
          [
           879306,
           "20180514_Part 1 Draft_(1).20180514_Part 1 Draft.pdf",
           "E"
          ],
          [
           111228,
           "Bid CD.R0.0 - 2300 Delaware.pdf",
           "E"
          ],
          [
           574632,
           "18 05 10 WO00410314 Cost Report.pdf",
           "E"
          ],
          [
           863589,
           "5501.E5.Response to College Nine Fact Sheet.pdf",
           "E"
          ],
          [
           956864,
           "18 06 20 5303-037 Carson Dining Schedule - 18-06.pdf",
           "E"
          ],
          [
           744641,
           "ABATEMENT notification CD.doc",
           "E"
          ],
          [
           273840,
           "File 2727 Project Planning Guide.pdf",
           "E"
          ],
          [
           311493,
           "180606_RCC site plan_1-60.pdf",
           "E"
          ],
          [
           884591,
           "5510-043 College 9-SD Comments Clint.pdf",
           "E"
          ],
          [
           135020,
           "11203.E3.East Remote Parking Expansion Concrete and Gutters Estimate.pdf",
           "E"
          ],
          [
           791875,
           "noname.eml",
           "E"
          ],
          [
           747120,
           "WM trailer electrical scope -1.xlsx",
           "E"
          ],
          [
           844181,
           "BCC-WHL Draft Narrative-053012-WHL.docx",
           "E"
          ],
          [
           682414,
           "3230_e8.pdf",
           "E"
          ],
          [
           399076,
           "File 4932 95CD Plan Review Transmittal Combined.pdf",
           "E"
          ],
          [
           956941,
           "Cost Estimate Analysis and VE.xlsx",
           "E"
          ],
          [
           78135,
           "File 10061.E3. DD Cost Plan 6-15-01.pdf",
           "E"
          ],
          [
           314183,
           "File 3045.E7.Value Engineering Proposal #4.pdf",
           "E"
          ],
          [
           963913,
           "7401-012_e5.3(2).pdf",
           "E"
          ],
          [
           256564,
           "Guzman VE Options..xlsx",
           "E"
          ],
          [
           711212,
           "analytics.js.download",
           "E"
          ],
          [
           809121,
           "File 6900 DPP, Final Distribution Transmittal.pdf",
           "E"
          ],
          [
           791400,
           "CBB - Revised Schedule 7-15-10.pdf",
           "E"
          ],
          [
           805362,
           "File 6801 LEED Checklist and Cost Analysis.pdf",
           "E"
          ],
          [
           880442,
           "2501.E2.Project Planning Guide Architect.pdf",
           "E"
          ],
          [
           339299,
           "190301 Kresge - Draft Schedule Summary 2019.03.01a.pdf",
           "E"
          ],
          [
           990741,
           "Office Memo 8.1.95.pdf",
           "E"
          ],
          [
           939467,
           "File 9077-005 Soils Report #339.pdf",
           "E"
          ],
          [
           742306,
           "8802-002.E3.Cost Breakdown.xls",
           "E"
          ],
          [
           311068,
           "180411_UCSC Dining_Meeting #4 notes.pdf",
           "E"
          ],
          [
           786945,
           "File 4923 Physical Plant Fax.pdf",
           "E"
          ],
          [
           962530,
           "8300-003_e5.4.pdf",
           "E"
          ],
          [
           41107,
           "25 File 4933 C163.pdf",
           "E"
          ],
          [
           790955,
           "50 SD DPP - Part 1 and 2 combined_Page_29.jpg",
           "E"
          ],
          [
           501253,
           "College Ten RH-4 shower walls repairs 2010.docx",
           "E"
          ],
          [
           954673,
           "EA 2024-02-29 Final DPP Report_Volume III.pdf",
           "E"
          ],
          [
           329055,
           "3124 PPG 7-30-93.pdf",
           "E"
          ],
          [
           809237,
           "Civil - Sherwood Design Engineers.pdf",
           "E"
          ],
          [
           786612,
           "File 4922 E4 Draft Timeline for Oiled Wildlife Facility 06.01.93.pdf",
           "E"
          ],
          [
           689366,
           "10062.E3.Working Drawing Submittal (3).pdf",
           "E"
          ],
          [
           884704,
           "006-112018-Action Item List-Coordination with CHES.xlsx",
           "E"
          ],
          [
           339218,
           "190524 Kresge Non-Academic MASTER REPORT (contains links).xls",
           "E"
          ],
          [
           682202,
           "3131_e8.pdf",
           "E"
          ],
          [
           488099,
           "5500-036.E3.78295 College 9.10 Garden Project.xls",
           "E"
          ],
          [
           339379,
           "190830 Kresge Communications Timeline.xlsx",
           "E"
          ],
          [
           805486,
           "Conformed Set Documents 529.pdf",
           "E"
          ],
          [
           832619,
           "10084 E2 Project Planning Guide Amendment.pdf",
           "E"
          ],
          [
           884130,
           "6605 E3 Project Budget Report.pdf",
           "E"
          ],
          [
           805292,
           "M2.02.pdf",
           "E"
          ],
          [
           490402,
           "File 5504.E1 Checklist of Necessary Equipment.pdf",
           "E"
          ],
          [
           478483,
           "115303 4 of 4.pdf",
           "E"
          ],
          [
           829700,
           "LR_prop nat gas2.pdf",
           "E"
          ],
          [
           809272,
           "6_Room data",
           "E"
          ],
          [
           339230,
           "Kresge TAPS sub-project 976382.xls",
           "E"
          ],
          [
           517314,
           "E3 File 5900-012 GSH 111 Stonhard Flooring Cost Estimate.pdf",
           "E"
          ],
          [
           581069,
           "Copy of 2004 Enterprise Bldg Data.xls",
           "E"
          ],
          [
           1027697,
           "2500-073 NS2 SCIPP A and T Lab Study-Budget Meeting 2-14-17.docx",
           "E"
          ],
          [
           142697,
           "3 week rolling schedule 101013.pdf",
           "E"
          ],
          [
           311185,
           "17 04 10 E4 Schedule.pdf",
           "E"
          ],
          [
           976917,
           "KNAR OVERVIEW.pdf",
           "E"
          ],
          [
           273963,
           "File 2731 Project Planning Guide.pdf",
           "E"
          ],
          [
           984401,
           "6002.E2.NatSciAnnex_PPG.pdf",
           "E"
          ],
          [
           545231,
           "6614.E3.120 Telescope Bldg. Fabrication and installation project budget expense.pdf",
           "E"
          ],
          [
           884634,
           "6-TragenFlex vs Bi-Line Rotary Accumulator Comparison.pdf",
           "E"
          ],
          [
           376403,
           "File 4101.E6 Soils Report 362.pdf",
           "E"
          ],
          [
           111196,
           "Cap Prog Staff Report-Alterationsfor Academic Programs Phase 1 v Final.pdf",
           "E"
          ],
          [
           791130,
           "invoice NOAA Fiber.xls",
           "E"
          ],
          [
           339277,
           "190110_KRESGE NON-ACADEMIC - Combined PBW 2019-01-10 DAL JK.xls",
           "E"
          ],
          [
           882723,
           "Preliminary Sinkhole Geotech Report.pdf",
           "E"
          ],
          [
           819513,
           "File 7501 Recommended DPP CIB.pdf",
           "E"
          ],
          [
           951217,
           "UCSC LOW FLOW rev 1.pdf",
           "E"
          ],
          [
           361412,
           "File 3503 E5.4 Discrepancy in Scope of Work in DSR 09.21.90 (2).pdf",
           "E"
          ],
          [
           141818,
           "SVC TI Reqts 2505 Augustine 2-1-11.doc",
           "E"
          ],
          [
           901713,
           "E211_(1).E211.pdf",
           "E"
          ],
          [
           863764,
           "3124.E5.3.Design Concepts Transmittal 3.7.94.pdf",
           "E"
          ],
          [
           951107,
           "Project Schedule 7.11.94.pdf",
           "E"
          ],
          [
           541676,
           "revisedprogram.12.09.01.xls",
           "E"
          ],
          [
           99227,
           "File 10099-018.E3. Proposal 7.12.12.pdf",
           "E"
          ],
          [
           135004,
           "11201.E2.Grad Center PPG 05-1984.pdf",
           "E"
          ],
          [
           214999,
           "Cogen Replacement Draft Schedule 5-19-10 DAL.xls",
           "E"
          ],
          [
           938629,
           "UCSC- D&S.pptx",
           "E"
          ],
          [
           745217,
           "E2 Sim 7401-FA12.tif",
           "E"
          ],
          [
           488138,
           "5500-036 C9C10 Garden Water Supply FPR Increase.xlsx",
           "E"
          ],
          [
           962219,
           "Construction Inspection Checklist.pdf",
           "E"
          ],
          [
           792483,
           "5200.E3.Opinion of Probable Cost Construction Document Stage.pdf",
           "E"
          ],
          [
           85992,
           "Porter signed EIC.pdf",
           "E"
          ],
          [
           971146,
           "TFA Division 1 LF 100%.doc",
           "E"
          ],
          [
           829679,
           "9065.E2. PPG Infrastructure Improvements Phase 1.pdf",
           "E"
          ],
          [
           308190,
           "05 File 3002-023 A-4_(1).05 File 3002-023 A-4.TIF",
           "E"
          ],
          [
           819589,
           "VE-A-005.pdf",
           "E"
          ],
          [
           608628,
           "973840 161210 Telecom Phase C PBW draft pm 12-02-16.xls",
           "E"
          ],
          [
           331873,
           "File 3209. E5. Kresge College Housing Addition - Phase 2 Rebid. Budget - Correspondence.pdf",
           "E"
          ],
          [
           680678,
           "Project Close-out Check Sheet.pdf",
           "E"
          ],
          [
           843871,
           "File 8300-009 Nevco Warner Construction Cost Proposal.pdf",
           "E"
          ],
          [
           247448,
           "File 2635 Value Engineering- 100%DD 7-13-12.pdf",
           "E"
          ],
          [
           891229,
           "Borings-Kerr Hall site.pdf",
           "E"
          ],
          [
           141821,
           "2505 Augustine 3rd floor - Program Instructions 3-1-2011 with Linda Comments.pdf",
           "E"
          ],
          [
           963128,
           "Project Specifications.pdf",
           "E"
          ],
          [
           503297,
           "08. Site Analysis.doc",
           "E"
          ],
          [
           574535,
           "16 02 05, WO Cost Report (WO00391688).pdf",
           "E"
          ],
          [
           311486,
           "180423 Meeting Notes Dining Peak Diners - 20180224_131850.pdf",
           "E"
          ],
          [
           537612,
           "6401.E7.6401.E7.InterdisciplinaryScienceBuilding0001.pdf",
           "E"
          ],
          [
           329056,
           "3124 PPG 9-4-91.pdf",
           "E"
          ],
          [
           791485,
           "Construction Schedule - November Start for EIR 12-3-10.pdf",
           "E"
          ],
          [
           680747,
           "Hours & Locations Calendar.pdf",
           "E"
          ],
          [
           331334,
           "3201-053.F5.  Fire Alarm Distribution.pdf",
           "E"
          ],
          [
           809261,
           "2011-12-13_Building Framing Options_TM_3.pdf",
           "E"
          ],
          [
           884718,
           "018-011320-5510-043A-Change Order &Utensil Log.xlsx",
           "E"
          ],
          [
           880457,
           "2501.E8.Regents Board Minutes 1.22.65.pdf",
           "E"
          ],
          [
           829698,
           "EW_prop_natgas2.pdf",
           "E"
          ],
          [
           307208,
           "Pages from 20130513032319-8.pdf",
           "E"
          ],
          [
           743310,
           "2300 delaware lighting 10 6 revision 4.doc",
           "E"
          ],
          [
           863801,
           "3124.E5.3.Architect Selection Process Correspondence 2.17.93.pdf",
           "E"
          ],
          [
           329058,
           "3124.E6.Improvements to Arts Facilities, Bulk Asbestos Analysis Summary.pdf",
           "E"
          ],
          [
           247444,
           "2012.07.12 Merrill-Value Engineering.pdf",
           "E"
          ],
          [
           828630,
           "8884.E7 - Campus Parking - Core West Parking StructureOriginal Construction.pdf",
           "E"
          ],
          [
           85990,
           "Porter PPG draft 8 2-06-08.pdf",
           "E"
          ],
          [
           622063,
           "CoBioMtgAgenda.doc",
           "E"
          ],
          [
           477731,
           "Short Form Div 1 14-04-18.pdf",
           "E"
          ],
          [
           681242,
           "2300-092_e2.pdf",
           "E"
          ],
          [
           256543,
           "DavisLangdon UCSC Merrill Ph 2 50% CD(R).pdf",
           "E"
          ],
          [
           743311,
           "2300 delaware lighting 10 6 revision.doc",
           "E"
          ],
          [
           884733,
           "1-092618-5510-043 - Agenda.docx",
           "E"
          ],
          [
           702178,
           "Deisng Specialists Unlimited.pdf",
           "E"
          ],
          [
           95211,
           "13-09-12 Student Life Seismic Corrections Ph 2A - draft.pdf",
           "E"
          ],
          [
           311209,
           "UC Santa Cruz Mail - RE_ Porter Dining PBW 3002-040 Draft - Invitation to edit.pdf",
           "E"
          ],
          [
           835004,
           "File 4928 Updated Project Description 3-1-01.pdf",
           "E"
          ],
          [
           282885,
           "File 2806 Curtis Snyder Mission Program.pdf",
           "E"
          ],
          [
           746633,
           "JBEB Rm 281 Plumb As Built Drwg.pdf",
           "E"
          ],
          [
           744718,
           "10010.E8.PCC Meeting minutes 061610.doc",
           "E"
          ],
          [
           883535,
           "File 6301 Construction Document Vol.1 Specifications.pdf",
           "E"
          ],
          [
           884429,
           "File 5510 A 011 DH.A2.25.pdf",
           "E"
          ],
          [
           884701,
           "003-082118-Action Item List-Coordination with CHES.xlsx",
           "E"
          ],
          [
           307451,
           "13-10-30 - Porter C Roof Protection draft.pdf",
           "E"
          ],
          [
           355655,
           "KerrPedDeck, Initial Schedule, 3-7-13.docx",
           "E"
          ],
          [
           490534,
           "File 5506.E5.4 Consultation Authorization.pdf",
           "E"
          ],
          [
           831657,
           "Telecom Phase A PPG draft 3-05-13-2.docx",
           "E"
          ],
          [
           791091,
           "UC Santa Cruz - BM0111-075 Budget Autoclave.doc",
           "E"
          ],
          [
           809404,
           "DPP#1- 7101-Mar06-SaraB.xls",
           "E"
          ],
          [
           884432,
           "File 5510 A 014 DH.A2.32.pdf",
           "E"
          ],
          [
           681756,
           "2600-122_e4.pdf",
           "E"
          ],
          [
           135082,
           "File 11209 Schedule Design and Review.pdf",
           "E"
          ],
          [
           863772,
           "3124.E5.3.Landscape CD CA Phases Memorandum Comments 2.17.94.pdf",
           "E"
          ],
          [
           971504,
           "PROGRAM_397-301.pdf",
           "E"
          ],
          [
           381542,
           "UC Santa Cruz Mail - FW_ Updated Studen...pdf",
           "E"
          ],
          [
           863842,
           "File 6301 01 soils report drwg.TFwx",
           "E"
          ],
          [
           884581,
           "mtgnotes181210coll9&10dishroomBMS.pdf",
           "E"
          ],
          [
           541643,
           "Child Care Center DPP draft March 13, 2007.doc",
           "E"
          ],
          [
           308037,
           "File 3001 S 13.TIF",
           "E"
          ],
          [
           971517,
           "L3_PLANS.pdf",
           "E"
          ],
          [
           893223,
           "Infill.Timeline.xls",
           "E"
          ],
          [
           273890,
           "File 2727 Quarterly Reports June, July, Aug 1990.pdf",
           "E"
          ],
          [
           682830,
           "4000-011_e2.pdf",
           "E"
          ],
          [
           962583,
           "Meeting Agenda 1.24.08.pdf",
           "E"
          ],
          [
           472957,
           "5100.E2.PlanFoodServiceEquipmen.pdf",
           "E"
          ],
          [
           247445,
           "File 2635 Major Renovations Value Egineering 100% DD.pdf",
           "E"
          ],
          [
           311531,
           "UCSC Dining Expansion_ Meeting.zip",
           "E"
          ],
          [
           790929,
           "50 SD DPP - Part 1 and 2 combined_Page_03.jpg",
           "E"
          ],
          [
           809430,
           "DDP_Draft 3_p93-164.pdf",
           "E"
          ],
          [
           791464,
           "UCSC Precon 040314.pdf",
           "E"
          ],
          [
           945009,
           "303-3022.pdf",
           "E"
          ],
          [
           311478,
           "180321 Meeting Notes Dining Update - 20180224_131850.pdf",
           "E"
          ],
          [
           791002,
           "UC Santa Cruz Mail - SC CBB Draft CIB- To Alix.pdf",
           "E"
          ],
          [
           951213,
           "Accessibility Survey.xls",
           "E"
          ],
          [
           682845,
           "4001-7_f5.pdf",
           "E"
          ],
          [
           969612,
           "General Requirements.pdf",
           "E"
          ],
          [
           311506,
           "UCSC Dining_030518_meeting 2 notes.pdf",
           "E"
          ],
          [
           791961,
           "turning Radius sketch.pdf",
           "E"
          ],
          [
           364947,
           "File 3619.E4.Comparison Schedules.pdf",
           "E"
          ],
          [
           354862,
           "IMG_4283.JPG",
           "E"
          ],
          [
           363500,
           "3608-010.E5.4 PPC Correspondence.pdf",
           "E"
          ],
          [
           311401,
           "Porter College FOG Rec Graphic.pdf",
           "E"
          ],
          [
           11273,
           "141014_Program Documentation.pdf",
           "E"
          ],
          [
           369921,
           "File 3737 Temporal Residential Smoke Detector.pdf",
           "E"
          ],
          [
           951998,
           "18 06 14 - WO00411055 Cost Report.pdf",
           "E"
          ],
          [
           940025,
           "2018 08 15 9200-013 Design Walk - Notes.pdf",
           "E"
          ],
          [
           311498,
           "180503_UCSC Dining_Meeting #6A_Notes.pdf",
           "E"
          ],
          [
           829711,
           "05_Electrical_Rev2.pdf",
           "E"
          ],
          [
           844318,
           "UC Santa Cruz Mail - Fwd_ Baskin Center - kitchen estimate and the Final Program Assumptions.pdf",
           "E"
          ],
          [
           586808,
           "16 07 15 - WO00392303 Cost Report.pdf",
           "E"
          ],
          [
           212778,
           "2012-05-10 DLA UCSC Classroom Auditorium update FINAL.pdf",
           "E"
          ],
          [
           588234,
           "File 8930-001 E3 Mass Ex Construction Brief Form Contract Estimate 10.02.01.pdf",
           "E"
          ],
          [
           311457,
           "3002-040 - Porter Dining Seat Expansion Meeting Minutes #29  8-18-2020.pdf",
           "E"
          ],
          [
           474328,
           "File 5201.E4. Overview Construction Schedule.pdf",
           "E"
          ],
          [
           884716,
           "017-5510-043A-111919-Change Order &Utensil Log.xlsx",
           "E"
          ],
          [
           873040,
           "UCSC_20221207_MG_Teresa Jin.pptx",
           "E"
          ],
          [
           711192,
           "Instagantt_2019-04-03.html",
           "E"
          ],
          [
           17136,
           "13-09-18 Hay Barn Mini-DPP draft.pdf",
           "E"
          ],
          [
           339137,
           "Kresge College - 100% DD Budget Estimate updated 06.06.19 with UCSC Final 05.14.19 VE.pdf",
           "E"
          ],
          [
           971514,
           "Thimann_Program_Summary.pdf",
           "E"
          ],
          [
           541657,
           "revisedprogram.12.09.01.xls",
           "E"
          ],
          [
           805560,
           "Pacific Crest  - Additional Boring findings letter.pdf",
           "E"
          ],
          [
           355653,
           "KerrPedDeck, Initial Schedule REVISED, 4-25-13.docx",
           "E"
          ],
          [
           792030,
           "File 4932 Chemical Inventory.pdf",
           "E"
          ],
          [
           863749,
           "3124.E5.3.Bill Taber Correspondence 4.1.94.pdf",
           "E"
          ],
          [
           826827,
           "01 File 7601 E2 Topo 1 of 3.TIF",
           "E"
          ],
          [
           603052,
           "Telecom PPG 10.25.12.doc",
           "E"
          ],
          [
           357890,
           "File 3313.E5 DOSH Rope Breaks.pdf",
           "E"
          ],
          [
           884724,
           "020-042120-5510-043A-Action Item List.xlsx",
           "E"
          ],
          [
           236145,
           "Schedule Status Date.docx",
           "E"
          ],
          [
           313021,
           "2017 12 04 WO#403818 Porter Acad - Projector  Screen Install - ESTIMATE - signed.pdf",
           "E"
          ],
          [
           141950,
           "Occupancy Drawing for discussion with Tedd.pdf",
           "E"
          ],
          [
           141816,
           "SVC TI Reqts 2505 Augustine 12-08-10.doc",
           "E"
          ],
          [
           956810,
           "190918 Carson Dining Exp Capital Project 970152.xls",
           "E"
          ],
          [
           339310,
           "190708 Kresge Revitalization Project Schedule.xlsx",
           "E"
          ],
          [
           945299,
           "303-5030.pdf",
           "E"
          ],
          [
           790952,
           "50 SD DPP - Part 1 and 2 combined_Page_26.jpg",
           "E"
          ],
          [
           844170,
           "Baskin Conf Center Timeline draft 4-10-12.doc",
           "E"
          ],
          [
           541297,
           "6401-011.E3.18 05 09, WO00402390 Cost Report.pdf",
           "E"
          ],
          [
           912820,
           "RCC Gantt Chart - RCC.pdf",
           "E"
          ],
          [
           831684,
           "973820_TIU Phase A Schedule_20130509.pdf",
           "E"
          ],
          [
           474398,
           "5201.E7.2Value Engineering 3 Summaries.pdf",
           "E"
          ],
          [
           472956,
           "5100.E2.PlanE2.pdf",
           "E"
          ],
          [
           746660,
           "File 4001 P 2.14.pdf",
           "E"
          ],
          [
           788348,
           "4925.E5.1. ICBO Electrical Review Comments 11-3-99.pdf",
           "E"
          ],
          [
           212939,
           "16.7-00.pdf",
           "E"
          ],
          [
           311067,
           "180411_Carson Budget Sch1A Breakdown.pdf",
           "E"
          ],
          [
           689357,
           "10062.E2.Revised Prelim Plans Submittal.pdf",
           "E"
          ],
          [
           863762,
           "3124.E5.3.Dave Tanza Correspondence.pdf",
           "E"
          ],
          [
           791169,
           "Total Project Costs Combined.xls",
           "E"
          ],
          [
           887291,
           "~$ableOfContents_toc.doc",
           "E"
          ],
          [
           809120,
           "File 6900 141230_UCSC_IAS_DPP_Volume III Appendix.pdf",
           "E"
          ]
         ],
         "hovertemplate": "tag=%{customdata[2]}<br>umap_x=%{x}<br>umap_y=%{y}<br>file_id=%{customdata[0]}<br>filename=%{customdata[1]}<extra></extra>",
         "legendgroup": "E",
         "marker": {
          "color": "#782AB6",
          "line": {
           "width": 0
          },
          "opacity": 0.75,
          "size": 7,
          "symbol": "circle"
         },
         "mode": "markers",
         "name": "E",
         "showlegend": true,
         "type": "scattergl",
         "x": {
          "bdata": "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",
          "dtype": "f4"
         },
         "xaxis": "x",
         "y": {
          "bdata": "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",
          "dtype": "f4"
         },
         "yaxis": "y"
        },
        {
         "customdata": [
          [
           832740,
           "08 80 00 -02 - Glazing Warranty and O&M (Final).pdf",
           "G"
          ],
          [
           301030,
           "FW  parking passes.msg",
           "G"
          ],
          [
           797351,
           "WD # 6701 - 117 Invalid.pdf",
           "G"
          ],
          [
           969422,
           "0101-009.G19.Cert_of_Substantial_Completion.pdf",
           "G"
          ],
          [
           831526,
           "WF_FLANGES.pdf",
           "G"
          ],
          [
           47212,
           "26 TCP-EF-3AB.pdf",
           "G"
          ],
          [
           311941,
           "3002-040 Pre-Construction Agenda 1-28-2020.pdf",
           "G"
          ],
          [
           795806,
           "Clarification 022.pdf",
           "G"
          ],
          [
           373231,
           "4000-021.G19 Sinsheimer Cryo Lab 132 Cert. Occupancy.pdf",
           "G"
          ],
          [
           197462,
           "RFI No. 1671 Response F+K.pdf",
           "G"
          ],
          [
           799598,
           "12.5.09.xls",
           "G"
          ],
          [
           729806,
           "RFI 118 Response.pdf",
           "G"
          ],
          [
           240702,
           "UCSC Crown College - Leonardo - Draft FPT 02.01 - Heating Hot Water System v1.pdf",
           "G"
          ],
          [
           590140,
           "8951B.G10.Concrete Break Summary 20170914.pdf",
           "G"
          ],
          [
           463074,
           "UCSC - CBB - Cx Meeting Agenda - 2016-05-17.pdf",
           "G"
          ],
          [
           686266,
           "3124.G11.Memorandums FOR Cost Proposal Change Request #24R PR #5 COR #24 COR #1 CO #5.pdf",
           "G"
          ],
          [
           718405,
           "3124.G1.2.Revised Proposal Request Email (3-9-99).pdf",
           "G"
          ],
          [
           242013,
           "2358-003.G19 NOC.pdf",
           "G"
          ],
          [
           718341,
           "3124.G11.Proposal Request #51.pdf",
           "G"
          ],
          [
           194465,
           "File 1810 Weighmaster Certificates 8-28-07.pdf",
           "G"
          ],
          [
           730702,
           "_Scan_2018043019052700_1-1_1.pdf",
           "G"
          ],
          [
           380376,
           "Concrete Break Summary - 4-27-18.pdf",
           "G"
          ],
          [
           371461,
           "4000.G10.Sinsheimer Labs-Shielding Effectiveness Testing Report.pdf",
           "G"
          ],
          [
           862482,
           "6300-013.G15.Change Order 1, Music Facility - Music Center Leak Investigation #4.pdf",
           "G"
          ],
          [
           755649,
           "3124.G11.HAE Change Request #82.pdf",
           "G"
          ],
          [
           702974,
           "3701.G1.6.Testing and Inspection Reports.pdf",
           "G"
          ],
          [
           412551,
           "10-7-16 Safety Flash-Why Do workplace safety inspections.doc",
           "G"
          ],
          [
           75362,
           "10012-004.G11.Request to Work During Non-Scheduled Periods.pdf",
           "G"
          ],
          [
           722371,
           "9805A.G5.7412 - B16-17 - 8-19-19 cable.pdf",
           "G"
          ],
          [
           968499,
           "File 1326. G4. Meeting Minutes.pdf",
           "G"
          ],
          [
           718378,
           "3124.G11.Plan Review Transmittal -- 4-30-98 (copy).pdf",
           "G"
          ],
          [
           744805,
           "CO Response on letterhead 101210.pdf",
           "G"
          ],
          [
           755613,
           "3124.G11.HAE Change Request #173.pdf",
           "G"
          ],
          [
           727754,
           "Bulletin 15  - Clerestory, Storefronts & Cladding.pdf",
           "G"
          ],
          [
           962451,
           "6300-004_G.15CO 1 Music Facility Dimmer.pdf",
           "G"
          ],
          [
           12714,
           "HCD Approved permit, 12-9-11.pdf",
           "G"
          ],
          [
           14822,
           "File 1323 #FO_18_signed_2-10-14.pdf",
           "G"
          ],
          [
           316269,
           "UCSC Porter C Cost Proposal CQ 161 (option 1).pdf",
           "G"
          ],
          [
           974718,
           "5304D78D.bgdomain.bgpostoffice.100.16A3779.1.1C90A.1.xml",
           "G"
          ],
          [
           727884,
           "2638 G 16 FieldOrder_27.doc",
           "G"
          ],
          [
           289696,
           "Re  Status on RFI's.msg",
           "G"
          ],
          [
           330777,
           "File 3200-136.G24 Permit.pdf",
           "G"
          ],
          [
           976200,
           "1600-205.G17.Warranty Check - Inspection (19 03 26).pdf",
           "G"
          ],
          [
           795799,
           "Clarification 016 R2.pdf",
           "G"
          ],
          [
           857981,
           "MM Fiber  UCSC Digital Arts Test Results.pdf",
           "G"
          ],
          [
           949896,
           "Porter A - CQ 026.pdf",
           "G"
          ],
          [
           463075,
           "UCSC - CBB - Cx Meeting Agenda - 2016-08-19.pdf",
           "G"
          ],
          [
           745209,
           "Enovity Engineering 2 Lighing Audit Report - Final.pdf",
           "G"
          ],
          [
           497887,
           "5510.G11.54.pdf",
           "G"
          ],
          [
           301546,
           "UCSC Cowell Student Health Center - 3 23 10 Meeting Recap.msg",
           "G"
          ],
          [
           408452,
           "RFI #4932-441 - Laboratory Casework Product Data Submittal Review Clarifications (123553) Answer.pdf",
           "G"
          ],
          [
           844021,
           "10010.G15.Change Orders.pdf",
           "G"
          ],
          [
           296377,
           "UCSC Cowell Student Health Center - CQ 378 (attached).msg",
           "G"
          ],
          [
           874445,
           "2010-06-01.pdf",
           "G"
          ],
          [
           208448,
           "03-11 Elec T&C MM.doc",
           "G"
          ],
          [
           193822,
           "MHL Remedial Solution for Pile Cap at Line 1 R&C 090609.pdf",
           "G"
          ],
          [
           730733,
           "2017-10-20 - Wattstopper Field Report.pdf",
           "G"
          ],
          [
           412419,
           "AFP 3.pdf",
           "G"
          ],
          [
           900818,
           "CPE #006.pdf",
           "G"
          ],
          [
           900895,
           "CPE #108.pdf",
           "G"
          ],
          [
           298279,
           "Re  Re  CSHC - Warranty Deficiency (Landscape).msg",
           "G"
          ],
          [
           755637,
           "3124.G15.Change Request #87.pdf",
           "G"
          ],
          [
           405346,
           "250000 - BMS  - Training Agenda.pdf",
           "G"
          ],
          [
           745191,
           "Weekly PM Report MCTEP 10-6-08.xls",
           "G"
          ],
          [
           733919,
           "3124.G11.H.A Ekelin & Associates Fax Transmittal.pdf",
           "G"
          ],
          [
           730740,
           "#www.dropbox.com.url",
           "G"
          ],
          [
           799272,
           "6701 Trans Devcon Commission Plan 12-21-10.pdf",
           "G"
          ],
          [
           606117,
           "7098-E1_2_2.pdf",
           "G"
          ],
          [
           349538,
           "3238.G6.Internal Memo.pdf",
           "G"
          ],
          [
           876296,
           "Water Heater Startup Checklist.pdf",
           "G"
          ],
          [
           208648,
           "File 1810 Devcon Mech. Coordination Meeting Agenda 1-17-06.pdf",
           "G"
          ],
          [
           739581,
           "10636-009.G23.FT EF4,5,6.pdf",
           "G"
          ],
          [
           222767,
           "UCSC COGEN 3 WEEK 7-21-14.pdf",
           "G"
          ],
          [
           497969,
           "5510-D1.G15.1.pdf",
           "G"
          ],
          [
           795611,
           "Biomed Bulletin Log.pdf",
           "G"
          ],
          [
           463731,
           "Preconstruction Meeting Minutes #2.docx",
           "G"
          ],
          [
           832745,
           "Earth and Marine Canopy Inspections.pdf",
           "G"
          ],
          [
           1024847,
           "3701.G5.oaks correspondence university inspection request.pdf",
           "G"
          ],
          [
           195136,
           "File 1810 Proposal Request No. 034 Sevice Desk.pdf",
           "G"
          ],
          [
           828569,
           "4016.G19.4016 Certificate of Substantial Completion_Mike Hinson.doc",
           "G"
          ],
          [
           755588,
           "3124.G11.HAE Change Request #51 Reply.pdf",
           "G"
          ],
          [
           958902,
           "5303-037.G5.Daily reports 8-23-22.pdf",
           "G"
          ],
          [
           91550,
           "09-21-09 Daily Report.pdf",
           "G"
          ],
          [
           958249,
           "5303-037 WD 05.pdf",
           "G"
          ],
          [
           463735,
           "Preconstruction Meeting Minutes #22.pdf",
           "G"
          ],
          [
           730711,
           "UCSC_MCC_Cx Issues Log - LIGHTING  03-02-2018.pdf",
           "G"
          ],
          [
           874309,
           "2009-12-01.pdf",
           "G"
          ],
          [
           703282,
           "2318-100A.G15.Unit 1411 Water Intrusion Repairs COR #2 - Additional Material Costs.pdf",
           "G"
          ],
          [
           683358,
           "Hot Work Permit 3.22.10.pdf",
           "G"
          ],
          [
           92337,
           "SS79-3-2_SS79-3-4__082908_1233.txt",
           "G"
          ],
          [
           240329,
           "SSK - 20.pdf",
           "G"
          ],
          [
           287098,
           "Re  Shutdown request  Domestic Water.msg",
           "G"
          ],
          [
           733776,
           "8949.G19.8949 Heller Dr Pavement Rehab Meyer to Core West .doc",
           "G"
          ],
          [
           923610,
           "6201-118.pdf",
           "G"
          ],
          [
           828488,
           "File 7601.G8 Geotechnical Report Heller.pdf",
           "G"
          ],
          [
           730011,
           "RFI 209 Response.pdf",
           "G"
          ],
          [
           463041,
           "UCSC - CBB_HVAC FPT_2017-07-31.pdf",
           "G"
          ],
          [
           380348,
           "2-12-18 to 2-28-18 MAM.pdf",
           "G"
          ],
          [
           296144,
           "Re  Outstanding Items    .msg",
           "G"
          ],
          [
           874364,
           "2010-02-17 PM.pdf",
           "G"
          ],
          [
           497890,
           "5510.G11.57.pdf",
           "G"
          ],
          [
           705658,
           "8880-002 Pond Changes rev3.docx",
           "G"
          ],
          [
           463282,
           "UCSC CBB S87N Full Schedule.pdf",
           "G"
          ],
          [
           300780,
           "16.14.pdf",
           "G"
          ],
          [
           268681,
           "26 05 26.gndg.tee.docx",
           "G"
          ],
          [
           729563,
           "08 71 00 UCSC Merrill Cultural Center HDWE_CAW_record.pdf",
           "G"
          ],
          [
           355319,
           "3300.G10.Roof and Pedestrian Deck Repair.pdf",
           "G"
          ],
          [
           958350,
           "5303-037.G20.5303-037 WD 024.pdf",
           "G"
          ],
          [
           962235,
           "Instruction Bulletin No. 01 11.26.02.pdf",
           "G"
          ],
          [
           195336,
           "File 1810.G11.1025-R5 Proposal Request.pdf",
           "G"
          ],
          [
           815005,
           "7401-38.pdf",
           "G"
          ],
          [
           744841,
           "Sequencing for scheduled shutdowns  2.docx",
           "G"
          ],
          [
           255532,
           "Submittal 230513-01-R2.pdf",
           "G"
          ],
          [
           298540,
           "2806-5 Complete.pdf",
           "G"
          ],
          [
           10516,
           "CLA-VAL Selection_55F.pdf",
           "G"
          ],
          [
           691315,
           "06400 Millwork (Executive Casework, Inc.) Warranty.pdf",
           "G"
          ],
          [
           313347,
           "3020-009 CO#1 Summary.pdf",
           "G"
          ],
          [
           703817,
           "2318.G16.Field Order 5.pdf",
           "G"
          ],
          [
           574966,
           "09-16-16 Grout Comp. Test 08 - N-8.pdf",
           "G"
          ],
          [
           1018733,
           "LOI No. 31 7.1.68.pdf",
           "G"
          ],
          [
           231635,
           "2300-184.G24.Crown - Library Room 201 Ceiling Repairs - Construction Permit.pdf",
           "G"
          ],
          [
           361502,
           "File 3503 G15 Change Order No. 03 Summary Form 12.16.92.pdf",
           "G"
          ],
          [
           692878,
           "12050-010 Substantial Completion.pdf",
           "G"
          ],
          [
           240656,
           "CPT.1_1.jpg",
           "G"
          ],
          [
           349518,
           "05-20-22 PCE Field Report.pdf",
           "G"
          ],
          [
           239049,
           "Logins for DataWrap-Project Teams-Accessing Reports-160608.pdf",
           "G"
          ],
          [
           242015,
           "2358-003.G5.1.Hot Permit.pdf",
           "G"
          ],
          [
           14922,
           "34 OAC Meeting Minutes 01-12-16.pdf",
           "G"
          ],
          [
           682190,
           "3129_g2.pdf",
           "G"
          ],
          [
           733388,
           "3124.G11.Transmittal, proposal Request #63.pdf",
           "G"
          ],
          [
           768967,
           "3124.G11.Change Request #77.pdf",
           "G"
          ],
          [
           281428,
           "File 2799-023.G2 - Invoice.pdf",
           "G"
          ],
          [
           757305,
           "File 1600-193.G26 - Building Permit.pdf",
           "G"
          ],
          [
           733706,
           "2739.G19.2739 Alterations for Engineering, Phase Two and Phase Three.doc",
           "G"
          ],
          [
           874408,
           "2010-04-07.pdf",
           "G"
          ],
          [
           681699,
           "2600-110_g6.pdf",
           "G"
          ],
          [
           297764,
           "Re  building temperature.msg",
           "G"
          ],
          [
           317151,
           "File 3045 Northwestern Ind Warranty.pdf",
           "G"
          ],
          [
           976194,
           "1600-205.G3.Dispatch Request to work nonscheduled (04-13-2018).pdf",
           "G"
          ],
          [
           730399,
           "CAW Back Punch List-Room 212 12-07.pdf",
           "G"
          ],
          [
           718383,
           "3124.G11.Transmittal, Proposal Request #53.pdf",
           "G"
          ],
          [
           728214,
           "2016.11.02 UCSC Merrill CC -CAW Site Observation Report.pdf",
           "G"
          ],
          [
           683098,
           "4900-021_g2.pdf",
           "G"
          ],
          [
           477287,
           "File 5207.G19 Certificate of Occupancy.pdf",
           "G"
          ],
          [
           200318,
           "File 1810.G20 WD No. 1810-57.pdf",
           "G"
          ],
          [
           586939,
           "8900-065.G2.8900-052 draft Page 2 Bid Form.xlsx",
           "G"
          ],
          [
           240812,
           "System Readiness Check List - Metering - Preceptor.pdf",
           "G"
          ],
          [
           208492,
           "File 1810.G23 Start-Up & Commissioning Meeting No. 07.pdf",
           "G"
          ],
          [
           727690,
           "PCO 074 Re-Review.pdf",
           "G"
          ],
          [
           94093,
           "10070 Rebid 57.TIF",
           "G"
          ],
          [
           194772,
           "SVI McHenry_103106.doc",
           "G"
          ],
          [
           846234,
           "CP 5048a - Stainless Steel Angles Added at Toilet Partitions.pdf",
           "G"
          ],
          [
           200310,
           "File 1810.G20 WD No. 1810-46.pdf",
           "G"
          ],
          [
           718441,
           "3124.G11.Proposal Request #60.pdf",
           "G"
          ],
          [
           916693,
           "File 5707 G5.2 Nolan, Zinn & Assoc (HYD).pdf",
           "G"
          ],
          [
           473019,
           "5100.G8.MemorandumMeetingNotesMarch81968.pdf",
           "G"
          ],
          [
           717687,
           "6300-011.G15.CO3 summary.pdf",
           "G"
          ],
          [
           463024,
           "95-7554.pdf",
           "G"
          ],
          [
           545022,
           "6605.G8.MtHamiltonCalLickObservatory.TestInspection.pdf",
           "G"
          ],
          [
           883686,
           "Please_Sign_Change_Order_4_6300-011_Music_F.pdf",
           "G"
          ],
          [
           412548,
           "10-28-15 UC Santa Cruz-Coastal Biology Building.xls",
           "G"
          ],
          [
           795825,
           "Clarification 048 revision 2.pdf",
           "G"
          ],
          [
           701024,
           "4-20-2009 3 wk look ahead.pdf",
           "G"
          ],
          [
           110672,
           "10636-009.G24. Const Permit (Nano Lab).pdf",
           "G"
          ],
          [
           301341,
           "RE  Review procedure for Shutdownh of the South Wing AHU and compressor .msg",
           "G"
          ],
          [
           974112,
           "5304DBD5.bgdomain.bgpostoffice.100.16A3779.1.1CD45.1.xml",
           "G"
          ],
          [
           733412,
           "3124.G6.Memorandum, Response to Change Request #73.pdf",
           "G"
          ],
          [
           755575,
           "3124.G11.HAE Change Request #49.pdf",
           "G"
          ],
          [
           331117,
           "File 3201 3-22-73.pdf",
           "G"
          ],
          [
           463096,
           "UCSC - Coastal Biology - 15A - CC - Domestic Hot Water Distribution System.pdf",
           "G"
          ],
          [
           200251,
           "1810-61.pdf",
           "G"
          ],
          [
           252339,
           "1027226 on13-07-24 torque.pdf",
           "G"
          ],
          [
           874433,
           "2010-05-04.pdf",
           "G"
          ],
          [
           879535,
           "10000-241.G19.NOC.pdf",
           "G"
          ],
          [
           907557,
           "PORTER BUILDING A  8-2-10 mpp.pdf",
           "G"
          ],
          [
           23348,
           "Trans Cen-Con_11-3-15_FO_021_Basement Walls-Stairs.pdf",
           "G"
          ],
          [
           883699,
           "File XXXX-XXX.G16.Field Order 001 Sample.xls",
           "G"
          ],
          [
           729622,
           "07 60 00_mc FLASHING AND SHEET METAL_Bulletin 16.pdf",
           "G"
          ],
          [
           846432,
           "Merril Water & Vent pipingt T&M Est.pdf",
           "G"
          ],
          [
           874385,
           "2010-03-08.pdf",
           "G"
          ],
          [
           541497,
           "6401-011.G24.Interdisciplinary Sci Building - Constr Permit, Jobsite Inspection.pdf",
           "G"
          ],
          [
           199974,
           "File 1810 4-9-07.pdf",
           "G"
          ],
          [
           669717,
           "4000-016.G2.5890 Invoice.pdf",
           "G"
          ],
          [
           896939,
           "Kresge Interior_MEP BCC Compiled Punchlist - IOR Sign-off.pdf",
           "G"
          ],
          [
           755641,
           "3124.G11.HAE Change Request #83.pdf",
           "G"
          ],
          [
           923606,
           "6201-114.pdf",
           "G"
          ],
          [
           297675,
           "HC rooms 2240  0240.msg",
           "G"
          ],
          [
           222738,
           "Wortham_Rodney.pdf",
           "G"
          ],
          [
           356707,
           "Sign_3301-059_CO1_Kerr Office 317.pdf",
           "G"
          ],
          [
           240797,
           "UCSC - Crown College - Preceptor -  System Readiness Manual TOC.pdf",
           "G"
          ],
          [
           312163,
           "20180108 Porter Leak.jpg",
           "G"
          ],
          [
           99358,
           "File 10500-001.G24 Construction Permit - Jobsite Inspection Record.pdf",
           "G"
          ],
          [
           117414,
           "170518_2300 Delaware AB_GRD FLR PLAN_SP-2.pdf",
           "G"
          ],
          [
           950022,
           "Porter A - CQ 182.pdf",
           "G"
          ],
          [
           883721,
           "Please_DocuSign_AuerbachDLAPTA016300-011I.pdf",
           "G"
          ],
          [
           858721,
           "5601.G15.Digital Arts Facility Contract Ammendment #2.pdf",
           "G"
          ],
          [
           702668,
           "3002-053.G11.Request for Contract.pdf",
           "G"
          ],
          [
           913161,
           "03.2-C9_Dining_Dish_Room_Punch_List_Back-Check_4-27-20.pdf",
           "G"
          ],
          [
           498075,
           "File 5510-E1 G19 Notice of Completion (2).pdf",
           "G"
          ],
          [
           972591,
           "5304DBB0.bgdomain.bgpostoffice.100.16A3779.1.1CD1D.1.xml",
           "G"
          ],
          [
           592222,
           "Application for Payment 2.pdf",
           "G"
          ],
          [
           463394,
           "Coastal Biology Building_ Next 3 Weeks 15-09-16.xls",
           "G"
          ],
          [
           973539,
           "TEXT.htm",
           "G"
          ],
          [
           718391,
           "3124.G11.Proposal Request #54 -- 2.pdf",
           "G"
          ],
          [
           468054,
           "Transmittal_Bulletin - 4933 B-012 (Sent and Closed).pdf",
           "G"
          ],
          [
           406218,
           "UCSC DMR KDW (06-27-2016).docx",
           "G"
          ],
          [
           745202,
           "Cyclops Invoice 10724.pdf",
           "G"
          ],
          [
           943207,
           "#9805A Change Order #9.pdf",
           "G"
          ],
          [
           287243,
           "RE  Planned Atcivities Revised.msg",
           "G"
          ],
          [
           536207,
           "File 6300-007C.G17 Warranty Pkg #160157.pdf",
           "G"
          ],
          [
           931757,
           "Update 18 Review.doc",
           "G"
          ],
          [
           686277,
           "3124.G11.Proposal Change Request #151.pdf",
           "G"
          ],
          [
           301211,
           "RE  CSHC - Cx Commissioning Meeting and Back Check of Outstanding Punchlists (URGENT).msg",
           "G"
          ],
          [
           799286,
           "100621 UCSC Biomed Commissioning Issue Log.xls",
           "G"
          ],
          [
           297471,
           "UCSC Cowell Student Health Center - Updated Punchlist (14).msg",
           "G"
          ],
          [
           10230,
           "CPE #003 - Bulletin 05-WAP and Data Outlet Locations.pdf",
           "G"
          ],
          [
           295620,
           "FW  For Your Records & Approval .msg",
           "G"
          ],
          [
           268383,
           "A5.2.pdf",
           "G"
          ],
          [
           728238,
           "2017.08.23 UCSC Merrill CC -CAW Site Observation Report_reduced_1.pdf",
           "G"
          ],
          [
           900694,
           "Ph3_Bulletin_008.pdf",
           "G"
          ],
          [
           295166,
           "field order 21 nov 8 2008.pdf",
           "G"
          ],
          [
           373179,
           "digital clock basis of design.pdf",
           "G"
          ],
          [
           733761,
           "10010.G19.10010 Low Flow Plumbing Fixture Replacement.doc",
           "G"
          ],
          [
           680438,
           "Standard Warranty.pdf",
           "G"
          ],
          [
           377666,
           "4101 RFI 169 Response.pdf",
           "G"
          ],
          [
           94083,
           "10070 Rebid 47.TIF",
           "G"
          ],
          [
           199939,
           "File 1810.G2 Granite Construction Co. Invoice No. 13043905.pdf",
           "G"
          ],
          [
           871557,
           "File 3124 Panduit Panels.pdf",
           "G"
          ],
          [
           13212,
           "0101-01.G1.4.shutdown request form (1).pdf",
           "G"
          ],
          [
           958788,
           "5303-037.G5.Daily reports 5-26-22.pdf",
           "G"
          ],
          [
           990713,
           "Concrete Break Summary_4-28-25.pdf",
           "G"
          ],
          [
           883826,
           "File 6301 Resubmittal 16.22a Section 16511.pdf",
           "G"
          ],
          [
           157385,
           "Daily 10-30-09.xls",
           "G"
          ],
          [
           240564,
           "File 2358.G19 Certificate of Beneficial Occupancy.pdf",
           "G"
          ],
          [
           575139,
           "2017_certificate_of_substantial_completion.docx",
           "G"
          ],
          [
           133723,
           "File 11105 Southern Exposure Workshop 2.12.90.pdf",
           "G"
          ],
          [
           846481,
           "CP 5101 - Signed.pdf",
           "G"
          ],
          [
           958637,
           "5303-037.G5.Daily reports 12-30-2022.pdf",
           "G"
          ],
          [
           199346,
           "FO #452.pdf",
           "G"
          ],
          [
           725813,
           "3239.G5.Inspectors Daily Report 10623.pdf",
           "G"
          ],
          [
           329407,
           "3124.G15.4-6.H.A. Ekelin & Associates Change Order #4.pdf",
           "G"
          ],
          [
           723732,
           "4000-031.G19.Cert_of_Substantial_Completion.pdf",
           "G"
          ],
          [
           963517,
           "Young Services Invoice 5.2.08 3900-002_g2.pdf",
           "G"
          ],
          [
           716472,
           "File 2739 Field Observation Report 11-29-06.pdf",
           "G"
          ],
          [
           978735,
           "Jerome PSA Invoice.pdf",
           "G"
          ],
          [
           300820,
           "20150427100322.pdf",
           "G"
          ],
          [
           199998,
           "File 1810 8-22-08.pdf",
           "G"
          ],
          [
           464273,
           "(UC) CBB Daily 5-9-16.pdf",
           "G"
          ],
          [
           517545,
           "File 5900-026.G19. NOC.pdf",
           "G"
          ],
          [
           230497,
           "2300-125.G24.Library Building Envelope Restoration.pdf",
           "G"
          ],
          [
           950085,
           "Porter A PR #026.pdf",
           "G"
          ],
          [
           292747,
           "RFI 290_CSHC_Response_090217.doc",
           "G"
          ],
          [
           470714,
           "Progress Meeting Agenda 6-21-16.pdf",
           "G"
          ],
          [
           730706,
           "UCSC_MCC_Cx Issues Log - 2019-03-20.pdf",
           "G"
          ],
          [
           883822,
           "6301.G1.2 Exec Architect Correspondence.pdf",
           "G"
          ],
          [
           412009,
           "FieldOrder 4932-118 WAP Installation.pdf",
           "G"
          ],
          [
           536936,
           "6301.G21. 63-2B Vol B March 26-29 1996_(1).6301.G21. 63-2B Vol B March 26-29 1996.pdf",
           "G"
          ],
          [
           701150,
           "Superintendent Field Report-UCSC Cowell College 9-26-08.pdf",
           "G"
          ],
          [
           194830,
           "TXT.rtf",
           "G"
          ],
          [
           367336,
           "001 Single Replacement.pdf",
           "G"
          ],
          [
           909523,
           "3239.G10.Construction Inspection Report A1 Fire Caulking Inspection 03.04.2025.pdf",
           "G"
          ],
          [
           240307,
           "UCSC Crown College ASI #7.pdf",
           "G"
          ],
          [
           616169,
           "File 9804A.G24 Construction Permit.pdf",
           "G"
          ],
          [
           874423,
           "2010-04-20.pdf",
           "G"
          ],
          [
           295703,
           "Fwd   Fwd  Re   Fwd  Re  bark mulch   .msg",
           "G"
          ],
          [
           316154,
           "UCSC Porter C Cost Proposal CQ 043.pdf",
           "G"
          ],
          [
           972224,
           "5304DA82.bgdomain.bgpostoffice.100.16A3779.1.1CB9B.1.xml",
           "G"
          ],
          [
           406329,
           "UCSC Site Inspection (11-25-2015).docx",
           "G"
          ],
          [
           463058,
           "INF Standby Generator CC.pdf",
           "G"
          ],
          [
           744480,
           "FR 280.xls",
           "G"
          ],
          [
           272907,
           "2700-152.G19. NOC Applied Sciences (JBEB) - First Floor Painting Common Areas.pdf",
           "G"
          ],
          [
           712334,
           "2600-146A.G5.Jobsite Inspection Record.pdf",
           "G"
          ],
          [
           298141,
           "Re  CSHC - 2806 Warranty Deficiencies.msg",
           "G"
          ],
          [
           730388,
           "MCC Training_18.08.14.xlsx",
           "G"
          ],
          [
           316219,
           "UCSC Porter C Cost Proposal CQ 110.pdf",
           "G"
          ],
          [
           793835,
           "RFC 116.pdf",
           "G"
          ],
          [
           863714,
           "2807-003.G19.NOC Cowell Student Health Center - Room 1220 Sink Installation.pdf",
           "G"
          ],
          [
           198892,
           "File 1810 CO#42.pdf",
           "G"
          ],
          [
           74272,
           "10000-081.G3.Weekly PM Report Elevators 100812.xlsx",
           "G"
          ],
          [
           738885,
           "9803C.G10.WiFi Test Report 7751 Agroecology Trailer 4_report.pdf",
           "G"
          ],
          [
           491882,
           "File 5506-011.G24 Permit.pdf",
           "G"
          ],
          [
           208530,
           "File 1810 9-25-07.pdf",
           "G"
          ],
          [
           545174,
           "6612.G19.utilities and site development observatory notice of completion.pdf",
           "G"
          ],
          [
           881230,
           "8500-053.G15.Pedestrian Paths & Site Development - Water Pumping Station Culvert Repair.pdf",
           "G"
          ],
          [
           303416,
           "RE  CSHC - Submittals 15 20 Revision 1.msg",
           "G"
          ],
          [
           916680,
           "5707.G4.Faculty and Staff Housing Project Meeting No. 5.pdf",
           "G"
          ],
          [
           870596,
           "File 1810 Central Heating Preliminary Order (G10).pdf",
           "G"
          ],
          [
           923496,
           "File 6201 Punchlist Communications Cabling Rev #1.pdf",
           "G"
          ],
          [
           782854,
           "4900-001.G15.LML Propane to Natural Gas Conversion Order #1.pdf",
           "G"
          ],
          [
           208916,
           "File 1810 Devcon Construction Meeting No. 059 6-16-09.pdf",
           "G"
          ],
          [
           208681,
           "File 1810 Devcon Pre-Construction Meeting Agenda 9-18-07.pdf",
           "G"
          ],
          [
           12716,
           "Inspection Report 12-27-11.pdf",
           "G"
          ],
          [
           378181,
           "261317 Medium Voltage Load Break Sectionalizing Equipment.pdf",
           "G"
          ],
          [
           732890,
           "6300-011.G19.Summary.pdf",
           "G"
          ],
          [
           738159,
           "UC Santa Cruz Mail - Re_ Kresge 3239 - Notice of Potential Impact - R6 Tree Conflict (10.06.23).pdf",
           "G"
          ],
          [
           874312,
           "2009-12-04.pdf",
           "G"
          ],
          [
           406261,
           "UCSC DMR SRW (07-01-2015).doc",
           "G"
          ],
          [
           744474,
           "FR 274.xls",
           "G"
          ],
          [
           974274,
           "5304DC86.bgdomain.bgpostoffice.100.16A3779.1.1CE12.1.xml",
           "G"
          ],
          [
           744434,
           "FR 234.xls",
           "G"
          ],
          [
           769839,
           "3124.G5.Daily Report, HAE, PR-21.pdf",
           "G"
          ],
          [
           240774,
           "UCSC - Crown College - Leonardo - E04 - 1 SRC - Electrical Metering.pdf",
           "G"
          ],
          [
           725801,
           "3239.G5.Inspectors Daily Report 92223.pdf",
           "G"
          ],
          [
           477643,
           "File 5300-025 Construction Permit - Jobsite Inspection Record.pdf",
           "G"
          ],
          [
           755456,
           "3124.G11.HAE Change Request #140.pdf",
           "G"
          ],
          [
           253738,
           "Bulletin_010_2013-05-20.pdf",
           "G"
          ],
          [
           923398,
           "File 6201 COR  BFF Fire Protection.pdf",
           "G"
          ],
          [
           536938,
           "6301.G21.63-1B Vol B August 28-31 1995_(1).6301.G21.63-1B Vol B August 28-31 1995.pdf",
           "G"
          ],
          [
           583957,
           "File 8880-002A.G24 Granite Permit.pdf",
           "G"
          ],
          [
           681641,
           "2600-094_g6.pdf",
           "G"
          ],
          [
           834101,
           "warm shell daily 11-15-16.pdf",
           "G"
          ],
          [
           331960,
           "File 3209. G5. Kresge Housing Ph. 2 Inspection Reports_88.2.23.pdf",
           "G"
          ],
          [
           241224,
           "SSK - 004.pdf",
           "G"
          ],
          [
           769032,
           "3124.G4.Weekly Construction Meeting Minutes #26.pdf",
           "G"
          ],
          [
           225437,
           "2116.G6.Memorandum -Bid Response Questions.pdf",
           "G"
          ],
          [
           297124,
           "RE  Driveway Opening (44).msg",
           "G"
          ],
          [
           830503,
           "File 9065 G8 Zinn Technology Re Findings for Focused Geologic Investigation 07.23.07.pdf",
           "G"
          ],
          [
           744795,
           "10.10.06 Revised Fixture Replacement Punch List.xls",
           "G"
          ],
          [
           723941,
           "4000-020.G19.4000-020 Cert of Occupancy.pdf",
           "G"
          ],
          [
           733671,
           "6639.G19.6639 Mount Hamilton UCO Lick Automated Planet Finder Site Work.doc",
           "G"
          ],
          [
           292612,
           "RFI 258_CSHC_DPR_Request_090121.doc",
           "G"
          ],
          [
           304182,
           "{Spam } RE  Cowell - Confirmation of conf call.msg",
           "G"
          ],
          [
           657887,
           "Fire Sprinkler.pdf",
           "G"
          ],
          [
           883839,
           "EnsembleRehearsalPunchlist.xls",
           "G"
          ],
          [
           208434,
           "Duct test 4B-SE.pdf",
           "G"
          ],
          [
           717688,
           "6300-011.G15.Music Center Recital Hall. CO #3r. Credit to Change VSMS to FSMS + Cost Proposal.pdf",
           "G"
          ],
          [
           240361,
           "File 2358.G15. Change Order #15.pdf",
           "G"
          ],
          [
           194768,
           "SVI McHenry_050306.doc",
           "G"
          ],
          [
           1027441,
           "OCM COR 10, Insulate (E) Piping as per 9-25-17 Job Walk (1).PDF",
           "G"
          ],
          [
           240695,
           "FPT - Lighting Controls - Leonardo.pdf",
           "G"
          ],
          [
           330691,
           "3200-132 Earthworks Paving Invoice (09-08-16) FINAL.pdf",
           "G"
          ],
          [
           331079,
           "File 3201 RE- Intent to Turn Off Power 11-30-72.pdf",
           "G"
          ],
          [
           293509,
           "RFI 420_CSHC_AMEC_Response_090708.pdf",
           "G"
          ],
          [
           963283,
           "8900-026_g1.5(4).pdf",
           "G"
          ],
          [
           378156,
           "4101 EHS LOI 021_R1.pdf",
           "G"
          ],
          [
           365786,
           "File 3619 WD 03.pdf",
           "G"
          ],
          [
           297046,
           "Re  CSHC - Cx Commissioning Meeting and Back Check of Outstanding Punchlists (URGENT) (192).msg",
           "G"
          ],
          [
           727374,
           "Signed PCO 42R1 7.13.17.pdf",
           "G"
          ],
          [
           755465,
           "3124.G11.Change Request #162.pdf",
           "G"
          ],
          [
           769037,
           "3124.G4.Weekly Construction Meeting Minutes #31.pdf",
           "G"
          ],
          [
           1006557,
           "Stevenson Shower Doors 976465.xls",
           "G"
          ],
          [
           83993,
           "Stevenson Commons PR #3 Inlay Flooing.pdf",
           "G"
          ],
          [
           208458,
           "FIR1-11.jpg",
           "G"
          ],
          [
           268513,
           "09 65 00.pdf",
           "G"
          ],
          [
           744701,
           "10010.G5.Weekly PM Report CWLF 6-28-10.xls",
           "G"
          ],
          [
           193919,
           "1__#$!@%!#__insp rqst 8-12-09.pdf",
           "G"
          ],
          [
           501921,
           "File 5510-046.G15. Change Order #2.pdf",
           "G"
          ],
          [
           723768,
           "8892.G19.8892.pdf",
           "G"
          ],
          [
           684609,
           "Bowman&Williams Invoice 12.29.99.pdf",
           "G"
          ],
          [
           786508,
           "4921-002 95CD Drawings.pdf",
           "G"
          ],
          [
           592074,
           "9049 G15 Change Order.pdf",
           "G"
          ],
          [
           303943,
           "UCSC Cowell Student Health Center - Submittal 05500-06-00 (attached).msg",
           "G"
          ],
          [
           329422,
           "File 3124 Updated Punch & Warranty Lists.pdf",
           "G"
          ],
          [
           797139,
           "Field Order 073.1.pdf",
           "G"
          ],
          [
           744711,
           "10010.G5.Weekly PM Report CWLF 9-13-10.xls",
           "G"
          ],
          [
           680333,
           "Project Descriptions and Cost 1.27.98.pdf",
           "G"
          ],
          [
           883717,
           "Please_DocuSignAuerbach.DLAPTA01.Inv.0029316.pdf",
           "G"
          ],
          [
           723413,
           "8884-010.G19.Summary.pdf",
           "G"
          ],
          [
           836465,
           "3124.G15.H.A.E Change Order, #21R.pdf",
           "G"
          ],
          [
           729561,
           "07 84 00.pdf",
           "G"
          ],
          [
           778568,
           "4203_RFI_002_-_Post_Construction_Storm_Water_Management_Plan.pdf",
           "G"
          ],
          [
           301137,
           "PP&C meetings.msg",
           "G"
          ],
          [
           463116,
           "UCSC -CBB_P2P.zip",
           "G"
          ],
          [
           222638,
           "20141001rev-UCSC-CHP_FPT-CTG AND AUX EQUIP LOAD TEST.pdf",
           "G"
          ],
          [
           303399,
           "RE  CSHC - Submittal Revise and Resubmit (22).msg",
           "G"
          ],
          [
           491794,
           "File 5506-008.G19. NOC.pdf",
           "G"
          ],
          [
           25618,
           "1500-027.G17.Guarantee.doc",
           "G"
          ],
          [
           297416,
           "Ticket 180714 Reopened (Updated) --  IP Address issues   Help!We've checked the cont   .msg",
           "G"
          ],
          [
           922978,
           "SM 100TO2ND.pdf",
           "G"
          ],
          [
           268178,
           "C-ANNO.dwg",
           "G"
          ],
          [
           849104,
           "3406-033A.G24.Construction Permit - Wellersdick.pdf",
           "G"
          ],
          [
           463122,
           "UCSC CBB Field Test 3 Consolidated rev.3_2017-08-06.xlsx",
           "G"
          ],
          [
           744360,
           "FR 160.xls",
           "G"
          ],
          [
           208468,
           "Fwd_ Mc Henry_ E&MS Testing.rtf",
           "G"
          ],
          [
           699050,
           "Cowell Training Schedule-042009.xls",
           "G"
          ],
          [
           583590,
           "8802-002.G19.Notice of Completion.pdf",
           "G"
          ],
          [
           301392,
           "RE  UCSC Cowell Health Center - Elevator Upgrades (55).msg",
           "G"
          ],
          [
           194775,
           "SVI McHenry_010707.doc",
           "G"
          ],
          [
           293755,
           "RFI 469A_CSHC_Response_100121.doc",
           "G"
          ],
          [
           200290,
           "File 1810.G20 WD No. 1810-18.pdf",
           "G"
          ],
          [
           23373,
           "Punchlist#2.1 - 1329 Cardiff_Feb 3 2016.pdf",
           "G"
          ],
          [
           577805,
           "8347-017.G19 OPERS Lobby Door Repl Cert of Substantial Completion.pdf",
           "G"
          ],
          [
           512795,
           "File 5702-019.G24 PV System Permit.pdf",
           "G"
          ],
          [
           728081,
           "UC Santa Cruz - Merrill Cultural Center - 10 - 2 CC - Controlled Receptacle Controls.pdf",
           "G"
          ],
          [
           546652,
           "File 6630 Inspection Performed 4-11-00.pdf",
           "G"
          ],
          [
           186250,
           "171 File 1810 A751.tif",
           "G"
          ],
          [
           912997,
           "File 5305-022B.G19 Cert of Substantial Completion.pdf",
           "G"
          ],
          [
           799462,
           "Biomed Pre-Con Agenda 081209.doc",
           "G"
          ],
          [
           883749,
           "Remaining safety priorities for Music Recital Hall identified in the 2016 Inspection.docx",
           "G"
          ],
          [
           757616,
           "File 1600-199.G24 Permit.pdf",
           "G"
          ],
          [
           744796,
           "10.10.13 Revised Fixture Replacement Punch List.xls",
           "G"
          ],
          [
           657920,
           "File FTO-1202 G4 Construction Progess Meeting No. 4.pdf",
           "G"
          ],
          [
           739578,
           "10636-009.G23.25 00 00 - Building Management Systems-markup.doc",
           "G"
          ],
          [
           874275,
           "2009-10-09.pdf",
           "G"
          ],
          [
           222637,
           "20140929-FPT-ContentsList-R3 (1).pdf",
           "G"
          ],
          [
           298131,
           "Re  Cowell Health Center W D close out.msg",
           "G"
          ],
          [
           668744,
           "2300-160.G23.2300-160 EF-2 Cx Form.pdf",
           "G"
          ],
          [
           795709,
           "Bulletin 079.pdf",
           "G"
          ],
          [
           406151,
           "4932.G10. Final Affadavit Inspection.pdf",
           "G"
          ],
          [
           861669,
           "6701.G15.Preston Pipelines - Change Estimates #55.pdf",
           "G"
          ]
         ],
         "hovertemplate": "tag=%{customdata[2]}<br>umap_x=%{x}<br>umap_y=%{y}<br>file_id=%{customdata[0]}<br>filename=%{customdata[1]}<extra></extra>",
         "legendgroup": "G",
         "marker": {
          "color": "#1C8356",
          "line": {
           "width": 0
          },
          "opacity": 0.75,
          "size": 7,
          "symbol": "circle"
         },
         "mode": "markers",
         "name": "G",
         "showlegend": true,
         "type": "scattergl",
         "x": {
          "bdata": "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",
          "dtype": "f4"
         },
         "xaxis": "x",
         "y": {
          "bdata": "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",
          "dtype": "f4"
         },
         "yaxis": "y"
        },
        {
         "customdata": [
          [
           282130,
           "EQc3.2_Template_SubmittedOn_09162010.pdf",
           "B"
          ],
          [
           875685,
           "2501.B4.Natural Sciences Unit 2 Correspondence 1.13.71.pdf",
           "B"
          ],
          [
           338100,
           "Copy of Kresge Non-Academic - Draft Schedule 01-04-19 JK DAL.xls",
           "B"
          ],
          [
           382049,
           "180710_FSH BMS - Metering-0.doc",
           "B"
          ],
          [
           615991,
           "9803D FM Plan Review Approval 09.01.22.pdf",
           "B"
          ],
          [
           712322,
           "10638-007.B6.FM Plan Review Approval 10.09.2023.pdf",
           "B"
          ],
          [
           693770,
           "UC Training Summary Notes.doc",
           "B"
          ],
          [
           944550,
           "Application.pdf",
           "B"
          ],
          [
           371944,
           "01_116733_0.pdf",
           "B"
          ],
          [
           382125,
           "Building Operation.docx",
           "B"
          ],
          [
           282406,
           "0608EL01A.DWG",
           "B"
          ],
          [
           381973,
           "TAPS S2S 20180717 - Agenda.docx",
           "B"
          ],
          [
           805047,
           "File 6801.B12 PGE Correspondence.pdf",
           "B"
          ],
          [
           85312,
           "LEED NC checklist_2.1-2.2.xls",
           "B"
          ],
          [
           605605,
           "3 SC Telecom Phase B Cap Outlay Summary.xlsx",
           "B"
          ],
          [
           693888,
           "b - ID Credit 1.2 Narrative.pdf",
           "B"
          ],
          [
           358847,
           "File 3404.B12 First Deobligation Appeal.pdf",
           "B"
          ],
          [
           956428,
           "Signed RCC Exception Letter 01.02.pdf",
           "B"
          ],
          [
           548284,
           "2009-12 - DEC.pdf",
           "B"
          ],
          [
           179574,
           "MRp1_Template_SubmittedOn_02182010.pdf",
           "B"
          ],
          [
           329046,
           "File 3124.B2 6.5.95 CD Submittal.pdf",
           "B"
          ],
          [
           809080,
           "IAS Site Selection signed approval.pdf",
           "B"
          ],
          [
           214689,
           "UCSC GFIA 101913 Signed.pdf",
           "B"
          ],
          [
           680469,
           "Plan Review by Fire Protection 2.24.00.pdf",
           "B"
          ],
          [
           548316,
           "SWPPP INSPECTION CHECKLISTS 04-07-11 page.doc",
           "B"
          ],
          [
           338145,
           "Capital Planning & Real Estate Approvals _ UCOP.pdf",
           "B"
          ],
          [
           395953,
           "CSC EH&S Revised Proj Summ 2-23-15.pdf",
           "B"
          ],
          [
           694283,
           "12 SS Credit 6.2 v.2.2a.pdf",
           "B"
          ],
          [
           179694,
           "Dept. Finance Working Drawing submittal.pdf",
           "B"
          ],
          [
           913554,
           "F-2_Comm_Bldg_2_Floor.jpg",
           "B"
          ],
          [
           179358,
           "File 1810 Certificate of Compliance 1-19-07.pdf",
           "B"
          ],
          [
           396468,
           "244SC2015.pdf",
           "B"
          ],
          [
           246979,
           "DAB Nov 30.11 Minutes.pdf",
           "B"
          ],
          [
           473031,
           "File 5200 Plan Review Transmittal 4-14-05.pdf",
           "B"
          ],
          [
           870955,
           "DIR PWC100.pdf",
           "B"
          ],
          [
           79633,
           "File 10064.B6. Stationary Pumps for FP.pdf",
           "B"
          ],
          [
           80601,
           "File 10064-002 EHDD  SKT 2.JPG",
           "B"
          ],
          [
           789497,
           "Pedaling Towards Sustainable Stewardship GHG CALCULATOR.xlsx",
           "B"
          ],
          [
           789514,
           "Traffic Section of CLRDP DEIR.pdf",
           "B"
          ],
          [
           693721,
           "Invoice for outdoor patio seating.pdf",
           "B"
          ],
          [
           396467,
           "218SC2015.pdf",
           "B"
          ],
          [
           396470,
           "Attached Message Part_1",
           "B"
          ],
          [
           687240,
           "3505.B1.Full Budget Approval Signed.pdf",
           "B"
          ],
          [
           789971,
           "3 - GFF Cap Outlay Summary.xlsx",
           "B"
          ],
          [
           605597,
           "2-2A 2C SC Telecom Ph B request 14D.docx",
           "B"
          ],
          [
           789705,
           "2016-02 UC Progress by Campus.pdf",
           "B"
          ],
          [
           247012,
           "Chancellor Action Item w OP comments v2 12-18-12.docx",
           "B"
          ],
          [
           789960,
           "CBB 100 DD Rev 3 Comments 2.pdf",
           "B"
          ],
          [
           580246,
           "8500-047.B6.UCSC FM Plan Review Approval 04.10.2023.pdf",
           "B"
          ],
          [
           599170,
           "10 15 2013 RWQCB Permit Extension E-Mail.pdf",
           "B"
          ],
          [
           145164,
           "Campus Plans FAQs_2021_02-23 (1).pdf",
           "B"
          ],
          [
           605598,
           "2-2A 2C SC Telecom Ph B request 14D.pdf",
           "B"
          ],
          [
           116139,
           "File 10638.B1 P Phase Project Summary Form Signed.pdf",
           "B"
          ],
          [
           85684,
           "LEED-Eggers wood doors.pdf",
           "B"
          ],
          [
           40973,
           "260346-001 - 4933 -Power Equipment Center - PG&E Submittal - R1.pdf",
           "B"
          ],
          [
           214705,
           "007 File 2113 MP-100.tif",
           "B"
          ],
          [
           913452,
           "File 5707 Monterey Bay Unified APCD (Air Quality District).pdf",
           "B"
          ],
          [
           95989,
           "Division 1 Specs- 100% CD.pdf",
           "B"
          ],
          [
           337907,
           "2018 11 05_Moore Foundation_update JG narrative_v5_Page_03.jpg",
           "B"
          ],
          [
           358801,
           "3401-004 FM Plan Review Approval 05.15.2023.pdf",
           "B"
          ],
          [
           790018,
           "06a Cost Plan workbook Cumming excel INFRA 07302014cb.pdf",
           "B"
          ],
          [
           95986,
           "100% Specifications - Generators.pdf",
           "B"
          ],
          [
           917197,
           "6200-016 Div 21 Submittal Approval.pdf",
           "B"
          ],
          [
           338206,
           "3 capoutlay summ AB94 V4.xlsx",
           "B"
          ],
          [
           694013,
           "a - ID Credit 1.3 Zipcar Template.pdf",
           "B"
          ],
          [
           789542,
           "Elevator variance PPC_Letterhead.docx",
           "B"
          ],
          [
           789483,
           "Enclosures 3-4 NWP and general conditions.pdf",
           "B"
          ],
          [
           880437,
           "2501.B2.Approval of Revised Schematic Plans 7.9.65.pdf",
           "B"
          ],
          [
           272509,
           "DSA 2700-128 signed app.pdf",
           "B"
          ],
          [
           313889,
           "01738 Construction Waste Mgmt.pdf",
           "B"
          ],
          [
           95982,
           "LSU Fire Alarm -  100% CD Reference Documents.pdf",
           "B"
          ],
          [
           330468,
           "DSA approval lttr-3200-096.pdf",
           "B"
          ],
          [
           179716,
           "Project Planning Guide Addendum.pdf",
           "B"
          ],
          [
           693835,
           "b - Narrative for EA Prerequisite 3.pdf",
           "B"
          ],
          [
           733463,
           "3124.B6.Proposal Request 64 Fire Marshal (1).pdf",
           "B"
          ],
          [
           145109,
           "TOP 20 SEISMIC.xlsx",
           "B"
          ],
          [
           382116,
           "TR Review 20181211 Attendee List.pdf",
           "B"
          ],
          [
           179771,
           "1810 Plan Review Transmittal 11-03-08.pdf",
           "B"
          ],
          [
           789128,
           "100930  Coastal Biology DAB PRESENTATION EB_Page_48.jpg",
           "B"
          ],
          [
           381961,
           "180423_SHW TAPS Agenda.doc",
           "B"
          ],
          [
           358314,
           "File 3400-012 DSA Application Docs 01-112783.pdf",
           "B"
          ],
          [
           313971,
           "CreditFiles_EAc1.3A_UTIL-1#8DDB.pdf",
           "B"
          ],
          [
           246630,
           "File 2630 Documentation of Unreasonable Hardship.pdf",
           "B"
          ],
          [
           24760,
           "File 1299-014 Valuation Threshold.pdf",
           "B"
          ],
          [
           944230,
           "A.2.08_Roof Plan.pdf",
           "B"
          ],
          [
           235566,
           "Chancellor Action Item-Crown College Res Halls Maint v signed EVP CFO Brostrom-external Fin.pdf",
           "B"
          ],
          [
           74725,
           "2016 09-14 Fire Marshal Meeting.docx",
           "B"
          ],
          [
           313969,
           "CreditFiles_EAc1.3A_P0_2#CC97.pdf",
           "B"
          ],
          [
           272511,
           "File 2700-128.B7 DSA Approval Letter.pdf",
           "B"
          ],
          [
           693977,
           "GREENGUARD Tops & Bases EQ Credit 4.5 - OLD.pdf",
           "B"
          ],
          [
           584470,
           "UCSC IA pages.pdf",
           "B"
          ],
          [
           329043,
           "File 3124 B2 Request for Augmentation of Funds 11.08.96.pdf",
           "B"
          ],
          [
           605606,
           "4 SC TelecommPhase B Project Description.pdf",
           "B"
          ],
          [
           214711,
           "013 File 2113 P-001.tif",
           "B"
          ],
          [
           710941,
           "4000-021 DSA Tracker - Plan_Field Review Fee Calc. ($3,500).pdf",
           "B"
          ],
          [
           179429,
           "File 1810 Certificate of Compliance 9-6-06.pdf",
           "B"
          ],
          [
           789681,
           "160217 UC Projects 15-16.xlsx",
           "B"
          ],
          [
           68691,
           "08800-110 R1.pdf",
           "B"
          ],
          [
           790071,
           "12c CBB 50% CD Specs.pdf",
           "B"
          ],
          [
           314025,
           "CreditFiles_EQp1_EQp1_Template_SubmittedOn_09302010#3B04.pdf",
           "B"
          ],
          [
           805036,
           "East_Infill_Vani_Letter.doc",
           "B"
          ],
          [
           789535,
           "reciept 2906_001.pdf",
           "B"
          ],
          [
           790164,
           "transmittal.doc",
           "B"
          ],
          [
           95997,
           "Kerr Hall - 100% CD Tech. Specs.pdf",
           "B"
          ],
          [
           9000,
           "ALC Proj Sum P Phase approved 9-22-15.pdf",
           "B"
          ],
          [
           313959,
           "CreditFiles_EAc1.3A_BEPU-Proposed#37B9.pdf",
           "B"
          ],
          [
           358851,
           "File 3404.B12 Second Appeal of DSRS Annotated.pdf",
           "B"
          ],
          [
           85301,
           "File 10069-002 SWPPP.pdf",
           "B"
          ],
          [
           548344,
           "Bio Med Civil Issues..xls",
           "B"
          ],
          [
           729492,
           "DRAFT Request for Campus Funding MCC_2016-03-11.docx",
           "B"
          ],
          [
           376288,
           "Plan submitter response to public comment 3-9-17.pdf",
           "B"
          ],
          [
           74723,
           "PPA PVA East Remote Parking Lot Approved.pdf",
           "B"
          ],
          [
           382084,
           "Pages from 20171201 - 50% SD.pdf",
           "B"
          ],
          [
           790051,
           "7 CBB Area Reconciliation.docx",
           "B"
          ],
          [
           790093,
           "6d CBB W2 Cost Plan Workbook Addt'l Cost Summary.xlsx",
           "B"
          ],
          [
           356971,
           "File 3309 Memorandum 6-07-96.pdf",
           "B"
          ],
          [
           913571,
           "File 5707 Purchasing.pdf",
           "B"
          ],
          [
           338033,
           "220128_PHASE2B_INITIALCOSTCHECK SUMMARY.docx",
           "B"
          ],
          [
           338148,
           "GFF_capoutlaycfssummarytemplate.xlsx",
           "B"
          ],
          [
           964965,
           "ENHANCEb.pdf",
           "B"
          ],
          [
           691785,
           "File 12050-005.B1 Project Summary Form - Full Budget Approved.pdf",
           "B"
          ],
          [
           694116,
           "09 EA Credit 2.pdf",
           "B"
          ],
          [
           693651,
           "cowell leed basic data2.xls",
           "B"
          ],
          [
           179346,
           "File 1810 Certificate of Compliance 2-2-07.pdf",
           "B"
          ],
          [
           710501,
           "DSA prior review_01-118555.pdf",
           "B"
          ],
          [
           179709,
           "File 1810 Request to Proceed & Capital Outlay for Corrections 7-19-06.pdf",
           "B"
          ],
          [
           781065,
           "4503-016.B6 FA Final 11.30.21.pdf",
           "B"
          ],
          [
           381703,
           "AC-003.pdf",
           "B"
          ],
          [
           805065,
           "UCSC - ECI PPG 2-17-09.pdf",
           "B"
          ],
          [
           313910,
           "2009-09 Waste Management Report.pdf",
           "B"
          ],
          [
           789900,
           "UC Santa Cruz Mail - Coa...pdf",
           "B"
          ],
          [
           85536,
           "PORTER B Non-roof Results.pdf",
           "B"
          ],
          [
           246637,
           "File 2630 Merrill C D Bathroom Renovations Final.pdf",
           "B"
          ],
          [
           689564,
           "10099-018.B1.Project Summary Form Signed.pdf",
           "B"
          ],
          [
           615698,
           "9803C.B6 FM Plan Review Approval 09.17.21.pdf",
           "B"
          ],
          [
           912489,
           "5305-015A.B6 FM_Approval_Stamp_Signature - 03.07.22.pdf",
           "B"
          ],
          [
           789395,
           "096813 - LEED Modulyss Carpet Tile Recycled Content Back Up.pdf",
           "B"
          ],
          [
           790141,
           "6c CBB Cost Plan workbook BLDG 08012014.xlsx",
           "B"
          ],
          [
           860986,
           "File 6401 B2 Request for Appt of Exec Architect 02.06.98.pdf",
           "B"
          ],
          [
           969620,
           "Plan & Specs Transmittal 6.25.pdf",
           "B"
          ],
          [
           337909,
           "2018 11 05_Moore Foundation_update JG narrative_v5_Page_05.jpg",
           "B"
          ],
          [
           789597,
           "UC Santa Cruz Mail - CBB schedule.pdf",
           "B"
          ],
          [
           95910,
           "1. LSU - Cover Letter - P submittal.doc",
           "B"
          ],
          [
           726304,
           "CAW ECAWMC01_2017-03-24.JPG",
           "B"
          ],
          [
           834991,
           "File 4928 App for Approval.pdf",
           "B"
          ],
          [
           898423,
           "Merrill Phase 3 SFM Approval_2013-11-07.pdf",
           "B"
          ],
          [
           143112,
           "File 12058.B7 DSA Approval Letter.pdf",
           "B"
          ],
          [
           179434,
           "EHD072zMP501 - MechSchedule.PDF",
           "B"
          ],
          [
           789534,
           "LML Water Fixture counts 2004.pdf",
           "B"
          ],
          [
           805089,
           "File 6801 Application to DSA for Approval.pdf",
           "B"
          ],
          [
           3444,
           "1442.B1 CPS and Chancellor's Approval.pdf",
           "B"
          ],
          [
           235645,
           "116395_DOC_2018_0209_ACS_REVISION01-NARRATIVE.PDF",
           "B"
          ],
          [
           358848,
           "File 3404.B12 Partial Response to FEMA Denial.pdf",
           "B"
          ],
          [
           381994,
           "20180403 EEC Charrette Sign In.pdf",
           "B"
          ],
          [
           725767,
           "0 - EQ Prereq 1 TOC.pdf",
           "B"
          ],
          [
           789747,
           "scanned C Phase submittal.pdf",
           "B"
          ],
          [
           805085,
           "BU 09-04 - revision Final - 6-12-09 .pdf",
           "B"
          ],
          [
           693911,
           "LEED Response In-Progress.doc",
           "B"
          ],
          [
           789309,
           "GBCI INVOICE.PDF",
           "B"
          ],
          [
           337947,
           "2018 11 05_Moore Foundation_update JG narrative_v5_Page_43.jpg",
           "B"
          ],
          [
           141478,
           "File 12051 Santa Clara FD Plan Check Requirements 05.31.09.pdf",
           "B"
          ],
          [
           97553,
           "Classroom Seating Improvement FA Cover letter.docx",
           "B"
          ],
          [
           235638,
           "DSA meeting draft agenda.pdf",
           "B"
          ],
          [
           337866,
           "2018 10 09 Phasing Diagrams_PHASE_01.pdf",
           "B"
          ],
          [
           789503,
           "Bus Stop Curb Ramp-FA0430.pdf",
           "B"
          ],
          [
           956389,
           "RCC Dining Expansion- Signed BCA 2018-12-11 .pdf",
           "B"
          ],
          [
           548345,
           "Biomed Interim EC Measures_12_08.pdf",
           "B"
          ],
          [
           11312,
           "190912_ UCSC SEL DSA pre-app meeting Memo RA.PDF",
           "B"
          ],
          [
           231596,
           "Crown MM_EVP-CFO Brostrom_Attachment 1.pdf",
           "B"
          ],
          [
           95944,
           "Cowell College - Fire Sprinklers - Design Development.pdf",
           "B"
          ],
          [
           382117,
           "TR Review Attendee List.pdf",
           "B"
          ],
          [
           358853,
           "File 3404.B12 trailer DOH Correspondence.pdf",
           "B"
          ],
          [
           978743,
           "Plan Review Approval 12.23.04.pdf",
           "B"
          ],
          [
           789719,
           "UC 2015 Active Projects 150701.xlsx",
           "B"
          ],
          [
           789132,
           "100930  Coastal Biology DAB PRESENTATION EB_Page_52.jpg",
           "B"
          ],
          [
           85605,
           "Merged T-24 Perf Report.pdf",
           "B"
          ],
          [
           105341,
           "File 10626-015 Backflow Permit.pdf",
           "B"
          ],
          [
           782899,
           "Desalination Plant Hazardous Materials Plan.pdf",
           "B"
          ],
          [
           599178,
           "File 9077 Water Qual Control App.pdf",
           "B"
          ],
          [
           49257,
           "48 File 6701 E5.02.tif",
           "B"
          ],
          [
           693860,
           "b - EQ Credit 4.5 Jazz Greenguard certificate.pdf",
           "B"
          ],
          [
           337925,
           "2018 11 05_Moore Foundation_update JG narrative_v5_Page_21.jpg",
           "B"
          ],
          [
           789494,
           "ExampleCarbonFundAbstractSubmission.docx",
           "B"
          ],
          [
           85525,
           "PorterB.SS6.2.pdf",
           "B"
          ],
          [
           789630,
           "Biomed_wd_enclosures.pdf",
           "B"
          ],
          [
           913522,
           "Edited Community West Elev.jpg",
           "B"
          ],
          [
           49282,
           "73 File 6701 E7.03.tif",
           "B"
          ],
          [
           693435,
           "credits in specs.doc",
           "B"
          ],
          [
           338262,
           "01-118547 Receipt of Material.pdf",
           "B"
          ],
          [
           376263,
           "Draft NOI cover letter.docx",
           "B"
          ],
          [
           965218,
           "2013_1107 SD LEED Qs CAMPUS hgh.xlsx",
           "B"
          ],
          [
           97556,
           "Feb 2014 Signed Re-delegation of Authority to Approve Project Design.pdf",
           "B"
          ],
          [
           214754,
           "CEC-200-2009-016-SML COGEN.pdf",
           "B"
          ],
          [
           898425,
           "Temporary Beneficial Occupancy Merrill Phase 3_2014-09-26.pdf",
           "B"
          ],
          [
           605592,
           "10 SC Telecom Phase B State GFF CIB W submittal.pdf",
           "B"
          ],
          [
           179544,
           "IDc1.4_Template_SubmittedOn_09182012.pdf",
           "B"
          ],
          [
           789885,
           "scaned submittal v1.pdf",
           "B"
          ],
          [
           334023,
           "Copy of Kresge GFF CIB 8-10-17.xlsm",
           "B"
          ],
          [
           338228,
           "19 02 28 Kresge Fire Access and Evacuation Meeting notes.pdf",
           "B"
          ],
          [
           246997,
           "Side orange bridge.jpg",
           "B"
          ],
          [
           282024,
           "20090430.pdf",
           "B"
          ],
          [
           944330,
           "Template.pdf",
           "B"
          ],
          [
           95932,
           "LSU - GFF_costplanworkbook - P 6.1.15.xlsm",
           "B"
          ],
          [
           281388,
           "File 2747.B6 FM 60% DD Review Transmittal 2015.09.17.pdf",
           "B"
          ],
          [
           214735,
           "Cogen Replacement Ph 1 DL Estimate 5-30-10.pdf",
           "B"
          ],
          [
           235653,
           "161208_UCSC Crown College_TI Petition for Handrail-DSA-AC.pdf",
           "B"
          ],
          [
           338157,
           "2 Kresge Request for Approval.pdf",
           "B"
          ],
          [
           179688,
           "Award Deferred Bid Alts 1 and 1a.pdf",
           "B"
          ],
          [
           214697,
           "LPG (3) 01.2016-01.2019.pdf",
           "B"
          ],
          [
           282210,
           "SSc4.1 Bus Schedules.pdf",
           "B"
          ],
          [
           85838,
           "Porter B Seismic Rating.pdf",
           "B"
          ],
          [
           805063,
           "Regents Item Routing Slip.doc",
           "B"
          ],
          [
           789660,
           "JB to SCL communication.pdf",
           "B"
          ],
          [
           910555,
           "4925.B6. Fire Marshall Inspection.pdf",
           "B"
          ],
          [
           25046,
           "01-115684_006.pdf",
           "B"
          ],
          [
           956387,
           "File 5303-037.E3 RCC Dining Expansion - APPROVED P-Phase Proj Sum 4-04-19.pdf",
           "B"
          ],
          [
           354817,
           "20220906 UC OCEAN Tool_TownHall_OP.xlsm",
           "B"
          ],
          [
           145081,
           "Seismic Interim Use Plan Routing Slip signed.pdf",
           "B"
          ],
          [
           95968,
           "6. LSU - Cost Plan Workbook (Fire Sprinklers) - W Sumbmittal.pdf",
           "B"
          ],
          [
           587013,
           "3124.B.WO00399369 - Arbo Asphalt Repairs & Entry Striping Schematic.pdf",
           "B"
          ],
          [
           179642,
           "2007 Authorizations and Approvals Communication.pdf",
           "B"
          ],
          [
           668954,
           "2318-069B.B1.Auth PCE073.pdf",
           "B"
          ],
          [
           95907,
           "File 10081 B2 DD Funding Letter 2015.07.10.pdf",
           "B"
          ],
          [
           273933,
           "File 2731 Approval Received 9-14-98.pdf",
           "B"
          ],
          [
           641,
           "1400-093.B6 Fire Marshal Planreview.pdf",
           "B"
          ],
          [
           934342,
           "BioMed Safety Upg PH2 Smoke Detectors 6-28-17 Rev1.docx",
           "B"
          ],
          [
           145125,
           "State Eligible Seismic Projects.xlsx",
           "B"
          ],
          [
           790001,
           "6a Cost Plan workbook Cumming excel INFRA 06302014 (2).pdf",
           "B"
          ],
          [
           788956,
           "4931-002.B12.USDepartmentOfCommerceB120001.pdf",
           "B"
          ],
          [
           95951,
           "211300 - Fire Suppression Systems - Merrill.pdf",
           "B"
          ],
          [
           971582,
           "File 1442- B7.pdf",
           "B"
          ],
          [
           117299,
           "Telecom Phase C-1 Cost Est draft 4-1-16.xlsx",
           "B"
          ],
          [
           95954,
           "1. LSU - Cover Letter - W submittal.pdf",
           "B"
          ],
          [
           835144,
           "File 2741 Schematic Design Submittal.pdf",
           "B"
          ],
          [
           580225,
           "8500-043.B6 FM_Approval_Stamp_Signature - UCSC 05.24.22.pdf",
           "B"
          ],
          [
           40963,
           "Invoice for SO #0040889182.pdf",
           "B"
          ],
          [
           179729,
           "McHenry OH Sprinkler.doc",
           "B"
          ],
          [
           338243,
           "3238.B6 RNEW-N Fire Line Lateral Pressure Test 11.12.21.pdf",
           "B"
          ],
          [
           789555,
           "Please_DocuSign_SWRCB_Direct_Pay_CBB.pdf",
           "B"
          ],
          [
           282388,
           "0608DR202.dwg",
           "B"
          ],
          [
           710943,
           "Capture.jpg",
           "B"
          ],
          [
           214696,
           "LPG (2) 01.2016-01.2019.pdf",
           "B"
          ],
          [
           110844,
           "Alts to Acad Programs Ph1_Schedule_Signed.pdf",
           "B"
          ],
          [
           314074,
           "001 File A1.00 BW.TIF",
           "B"
          ],
          [
           46280,
           "058 File 6701 7.23.tif",
           "B"
          ],
          [
           680647,
           "Foresty & Fire Protection Plan Review Transmittal.pdf",
           "B"
          ],
          [
           235606,
           "File 2358.B6 Plan Review 100%DD.pdf",
           "B"
          ],
          [
           605611,
           "9097L BP1 90% CD OPCC.pdf",
           "B"
          ],
          [
           734704,
           "10642.B1.Augmentation1_WRP-Clinical-Sequencing-Lab-C0171_Aug12-2021.pdf",
           "B"
          ],
          [
           913528,
           "01_Location_Plan.pdf",
           "B"
          ],
          [
           179541,
           "UCSC_Sust_Plan_4.23.10.pdf",
           "B"
          ],
          [
           375396,
           "fire alarm battery test .pdf",
           "B"
          ],
          [
           944298,
           "Baseline.pdf",
           "B"
          ],
          [
           337926,
           "2018 11 05_Moore Foundation_update JG narrative_v5_Page_22.jpg",
           "B"
          ],
          [
           964960,
           "2014_0408 UCSC Hay Barn DSA CD meeting #1 notes FINAL.pdf",
           "B"
          ],
          [
           179365,
           "File 1810 Certificate of Compliance 1-4-07 (3).pdf",
           "B"
          ],
          [
           337993,
           "13 Kresge Academic 976483 Drawdown.xlsx",
           "B"
          ],
          [
           179299,
           "File 1810 Certificate of Compliance 4-30-07.pdf",
           "B"
          ],
          [
           110855,
           "DSA_1.App.pdf",
           "B"
          ],
          [
           95909,
           "File 10081 B2 Working Drawing Approval 2015.12.pdf",
           "B"
          ],
          [
           282196,
           "CSHC_comment response_MRp1.pdf",
           "B"
          ],
          [
           990399,
           "ParkimgSpace_Approval.pdf",
           "B"
          ],
          [
           179391,
           "File 1810 Certificate of Compliance 3-8-07 (3).pdf",
           "B"
          ],
          [
           314038,
           "2009-0129_SCUP_UCSC-Porter-College_Presentation-Outline FZ Notes.doc",
           "B"
          ],
          [
           710506,
           "Notes from Bill Hecker.docx",
           "B"
          ],
          [
           789665,
           "UC Santa Cruz Mail - Re_ CBB Additional fees etc - Augmentation-Updated.pdf",
           "B"
          ],
          [
           790012,
           "CBB Amendment CIB 8-15-14.xlsm",
           "B"
          ],
          [
           246989,
           "Tito notes and mark ups for 5.15.12 mtg.pdf",
           "B"
          ],
          [
           337803,
           "Kresge Acad - CIB 2019-02-03 DAL.pdf",
           "B"
          ],
          [
           789805,
           "CBB Admin Item - draft 5.docx",
           "B"
          ],
          [
           790035,
           "2 requestforapprovaltoproceed V4.doc",
           "B"
          ],
          [
           548928,
           "2010- Annual Report to RWQCB.pdf",
           "B"
          ],
          [
           694126,
           "08 EQ Credit 4.2.pdf",
           "B"
          ],
          [
           235618,
           "2017-05-22 - DSA Approval Letter.pdf",
           "B"
          ],
          [
           738091,
           "Hecker Kresge Hsg Bath Appeal Memo 101623.pdf",
           "B"
          ],
          [
           49224,
           "15 File 6701 E2.14B.tif",
           "B"
          ],
          [
           790139,
           "6b1 CBB Cost Plan workbook FNDN 08012014 v1.pdf",
           "B"
          ],
          [
           790047,
           "6 Cost Plan workbook Cumming excel BLDG 06302014.pdf",
           "B"
          ],
          [
           282491,
           "0608RF15.dwg",
           "B"
          ],
          [
           729498,
           "Merrill Cultural_AddFundsReq-4- 11-8-18.docx",
           "B"
          ],
          [
           913484,
           "Statement of Compliance.pdf",
           "B"
          ],
          [
           96023,
           "UCSC LSU 100% CD Opinion of Probable Cost - Rev. 1.pdf",
           "B"
          ],
          [
           338280,
           "DSA - Kresge RNew.pdf",
           "B"
          ],
          [
           789549,
           "UCSC 4933 Standby Gen Supp Info form w notes.doc",
           "B"
          ],
          [
           338156,
           "12 Kresge Academic 976483 Drawdown.pdf",
           "B"
          ],
          [
           944533,
           "Fire Marshall -  Approveal of Roof system_(1).Fire Marshall -  Approveal of Roof system.pdf",
           "B"
          ],
          [
           789485,
           "Final Water Quality cert.pdf",
           "B"
          ],
          [
           247042,
           "File 2635 Fax Cover Sheet Clarification on DSA's Application for Unreasonable Hardship.pdf",
           "B"
          ],
          [
           331747,
           "File 3205. B1. B6. Remedial Work - 1979 - Bids A, B, C, D - Kresge College - Administrative Approval.pdf",
           "B"
          ],
          [
           310495,
           "B1 P Phase Porter Dining Expansion - Approved P-Phase Project Summary 2018-12-18.pdf",
           "B"
          ],
          [
           396430,
           "street permit.pdf",
           "B"
          ],
          [
           95948,
           "211300 - Fire Suppression Systems - Classroom Unit 1.pdf",
           "B"
          ],
          [
           40976,
           "File 4932 Fire Marshal Bulletin 002 Approval Transmittal.pdf",
           "B"
          ],
          [
           548941,
           "DSA-1 Form.pdf",
           "B"
          ],
          [
           214693,
           "Part 3 Slug.zip",
           "B"
          ],
          [
           214737,
           "COGEN.consolidatedOPquestions.doc",
           "B"
          ],
          [
           790084,
           "4 CBB W2 project description.pdf",
           "B"
          ],
          [
           789509,
           "invoice street opening permit 2907_001.pdf",
           "B"
          ],
          [
           40971,
           "File # 4933 - Central Propane.pdf",
           "B"
          ],
          [
           85338,
           "CreditFiles_EAc4_LEED NC 2.2 renewable energy#CEAD.pdf",
           "B"
          ],
          [
           964614,
           "Arts Security Upgrades, Multiple Buildings, Augmentation 2, Project Summary.pdf",
           "B"
          ],
          [
           313968,
           "CreditFiles_EAc1.3A_NarrativeDescription#7ECC.pdf",
           "B"
          ],
          [
           95970,
           "6. LSU - Cost Plan Workbook (Generators) - W Sumbmittal.pdf",
           "B"
          ],
          [
           944499,
           "UCSC-Porter-College-A DAB 8-26-08 .pdf",
           "B"
          ],
          [
           233365,
           "PM Auth Entry #DLGOSCF1.pdf",
           "B"
          ],
          [
           179343,
           "File 1810 Certificate of Compliance 2-1-07.pdf",
           "B"
          ],
          [
           789381,
           "095323 - LEED Armstrong Ceiling Grid Recycled Content Back Up.pdf",
           "B"
          ],
          [
           179623,
           "SSp1_Template_SubmittedOn_08232011.pdf",
           "B"
          ],
          [
           790104,
           "1 CBB W2 cover letter v4.docx",
           "B"
          ],
          [
           231594,
           "Crown MM Amnd Scope_EVP-CFO Brostrom _Attachment 2.pdf",
           "B"
          ],
          [
           338152,
           "GFF_scheduletemplate.xlsx",
           "B"
          ],
          [
           548917,
           "2010-06 Waste Management Report.xls",
           "B"
          ],
          [
           356607,
           "Kerr 317 Room IDs (D. Lane).jpg",
           "B"
          ],
          [
           214760,
           "File 2113 Fire Alarm and Water Flow Inspection.pdf",
           "B"
          ],
          [
           658208,
           "File FTO 1203-001 PG&E Agreement.pdf",
           "B"
          ],
          [
           337779,
           "Slide for Kresge_market analysis.pptx",
           "B"
          ],
          [
           789193,
           "100930  Coastal Biology DAB PRESENTATION EB 6.pdf",
           "B"
          ],
          [
           548291,
           "2011-01 - JAN.pdf",
           "B"
          ],
          [
           694099,
           "EQ 6.1.pdf",
           "B"
          ],
          [
           22853,
           "1329.B12 Project Information.pdf",
           "B"
          ],
          [
           358849,
           "File 3404.B12 Response to First Appeal.pdf",
           "B"
          ],
          [
           694141,
           "05 MR Credit 3.1-3.2.pdf",
           "B"
          ],
          [
           354815,
           "F5 Action Item.pdf",
           "B"
          ],
          [
           214704,
           "006 File 2113 MN-002.tif",
           "B"
          ],
          [
           85597,
           "Porter B C_L3.0.PDF",
           "B"
          ],
          [
           605604,
           "3 SC Telecom Phase B Cap Outlay Summary.pdf",
           "B"
          ],
          [
           681371,
           "2302-010_b6.pdf",
           "B"
          ],
          [
           40965,
           "AckLetter_107961973.PDF",
           "B"
          ],
          [
           247035,
           "File 2635 B7 DSA Change Order #4 Approval Packet.pdf",
           "B"
          ],
          [
           789646,
           "UCSC Biomed Sci Area Recon ASF 10-23-08.pdf",
           "B"
          ],
          [
           693686,
           "green seal paints and coatings.doc",
           "B"
          ],
          [
           179293,
           "File 1810 Certificate of Compliance 4-11-07.pdf",
           "B"
          ],
          [
           264830,
           "File 2638.G13. DSA Approved Bulletin 35.pdf",
           "B"
          ],
          [
           95922,
           "6. LSU - Cost Plan Workbook - P Sumbmittal.xlsm",
           "B"
          ],
          [
           214749,
           "UCSC Cogen Model 3-25-2013 - Full Load - no credit.pdf",
           "B"
          ],
          [
           790065,
           "1 CBB W1 cover letter.pdf",
           "B"
          ],
          [
           548409,
           "8900-040 Cost Est 3_3_2011.pdf",
           "B"
          ],
          [
           789501,
           "140506 MSC entry-draft.pdf",
           "B"
          ],
          [
           789794,
           "email draft.docx",
           "B"
          ],
          [
           246643,
           "File 2630 Transmittal Drawings.pdf",
           "B"
          ],
          [
           247038,
           "File 2635 B7 DSA Change Order #7 Approval Packet.pdf",
           "B"
          ],
          [
           789870,
           "5 CBB C cost model for construction funds V2.pdf",
           "B"
          ],
          [
           179689,
           "Banner Balances as of 03-20-06.pdf",
           "B"
          ],
          [
           716799,
           "160726-DSA-Appl-receipt.PDF",
           "B"
          ],
          [
           789799,
           "CBB Admin Item - draft 1.docx",
           "B"
          ],
          [
           934340,
           "Biomed Safety Upg Ph2 signed Proj Summ 7-12-17.pdf",
           "B"
          ],
          [
           956395,
           "Rachel_Carson_College_Dining_Expansion_Revie TFe comments.pdf",
           "B"
          ],
          [
           614927,
           "9802.B1.ProjectApprovalsB1.pdf",
           "B"
          ],
          [
           338066,
           "LEED_v4_BDC_01.11.19_current.pdf",
           "B"
          ],
          [
           726323,
           "ab3640-01-115542-0-1.pdf",
           "B"
          ],
          [
           264781,
           "MCC Augment. 3 - PBW 4-27-17 JF AG DALv3.xls",
           "B"
          ],
          [
           314045,
           "climateactioncompact 2008 Report.pdf",
           "B"
          ],
          [
           337799,
           "Kresge_Academic_Cost Drivers[4035].docx",
           "B"
          ],
          [
           667161,
           "1324.B10.Waste_Management_7.TIF",
           "B"
          ],
          [
           143088,
           "9 Big Creek Findings-final.pdf",
           "B"
          ],
          [
           354819,
           "09XX22-Kresge talking points-CL.docx",
           "B"
          ],
          [
           789398,
           "099100 - LEED Painting VOC Back-Up.pdf",
           "B"
          ],
          [
           831606,
           "File 9097.B1. Working Project Summary.pdf",
           "B"
          ],
          [
           694199,
           "18 EQ Credit 10.1.pdf",
           "B"
          ],
          [
           789795,
           "Proposed Schedule - TMG.pdf",
           "B"
          ],
          [
           725769,
           "c - EQ Credit 2 Spreadsheet.pdf",
           "B"
          ],
          [
           381705,
           "C-002.pdf",
           "B"
          ],
          [
           382015,
           "UCSC HUB proforma v3 assumptions.xlsx",
           "B"
          ],
          [
           592288,
           "File 9054.B2 Office of the President.pdf",
           "B"
          ],
          [
           85515,
           "SSc6.1_Template.pdf",
           "B"
          ],
          [
           174119,
           "1700-186.B12 Project Information.pdf",
           "B"
          ],
          [
           944206,
           "Sustainability at Porter How You Can Help_FINAL.pdf",
           "B"
          ],
          [
           725782,
           "0 - ID Credit 2 TOC.pdf",
           "B"
          ],
          [
           862572,
           "Complete_with_DocuSign_FOR_SIGNATURE_-_179D_.pdf",
           "B"
          ],
          [
           368766,
           "3715.B6 Fire Marshal.pdf",
           "B"
          ],
          [
           789504,
           "Bus Stop Curb Ramp.pdf",
           "B"
          ],
          [
           381991,
           "080403_eec charette WM pres.pdf",
           "B"
          ],
          [
           145165,
           "Campus Plans Guidelines - Fig3_2021_04-15_revision.pdf",
           "B"
          ],
          [
           944323,
           "BEPU Proposed.pdf",
           "B"
          ],
          [
           964941,
           "File 1326. B1. Hay Barn Renovation Design Approval signed.pdf",
           "B"
          ],
          [
           145149,
           "Santa CruzAttachment 1_Groups 1 2 3 Database Table_2020 11 1 - Copy.xlsx",
           "B"
          ],
          [
           584361,
           "EDRS University of California Santa Cruz.xlsx",
           "B"
          ],
          [
           179691,
           "Capital Outlay Cost, Funding and Schedule Summary.pdf",
           "B"
          ],
          [
           944507,
           "2008_1216_ppt_cover_A.pdf",
           "B"
          ],
          [
           785704,
           "PlanField Review Fee Calculator.pdf",
           "B"
          ],
          [
           913551,
           "E-1_Plan4_Floor.jpg",
           "B"
          ],
          [
           694100,
           "EQ 6.2.pdf",
           "B"
          ],
          [
           805084,
           "01_110688_0.pdf",
           "B"
          ],
          [
           338279,
           "DSA - Kresge Renovations.pdf",
           "B"
          ],
          [
           85340,
           "CreditFiles_IDc1.4_UCSC is 6th largest green power purchaser#E537.pdf",
           "B"
          ],
          [
           85508,
           "5.2 TemplateRenderer.pdf",
           "B"
          ],
          [
           789611,
           "SC Biomed Cap Outlay 072709.xls",
           "B"
          ],
          [
           235594,
           "Update on UC Tobacco.pdf",
           "B"
          ],
          [
           862880,
           "20170119_1-16-121SCR_1stRTQs.pdf",
           "B"
          ],
          [
           179736,
           "04 File 1810 A102B.pdf",
           "B"
          ],
          [
           145168,
           "Campus Seismic Plans_Guidelines_2021_02-23.pdf",
           "B"
          ],
          [
           214702,
           "004 File 2113 S-505.tif",
           "B"
          ],
          [
           381988,
           "20180329_EEC - Indigo - Program Analysis.pdf",
           "B"
          ],
          [
           790117,
           "2 - CBB W2 Req for Approval to Proceed v3 (2).pdf",
           "B"
          ],
          [
           95903,
           "File 10081.B1 Action Item JB Cover Letter.pdf",
           "B"
          ],
          [
           789744,
           "CBB Admin Item - 2-12-15 draft.docx",
           "B"
          ],
          [
           693681,
           "motorized flexshade.pdf",
           "B"
          ],
          [
           282568,
           "0608WN_EXT02.dwg",
           "B"
          ],
          [
           789992,
           "3 Capital Outlay Cost.pdf",
           "B"
          ],
          [
           314030,
           "CreditFiles_IDc1.3_ID Transportation Plan_Porter C#FB8A.pdf",
           "B"
          ]
         ],
         "hovertemplate": "tag=%{customdata[2]}<br>umap_x=%{x}<br>umap_y=%{y}<br>file_id=%{customdata[0]}<br>filename=%{customdata[1]}<extra></extra>",
         "legendgroup": "B",
         "marker": {
          "color": "#AA0DFE",
          "line": {
           "width": 0
          },
          "opacity": 0.75,
          "size": 7,
          "symbol": "circle"
         },
         "mode": "markers",
         "name": "B",
         "showlegend": true,
         "type": "scattergl",
         "x": {
          "bdata": "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",
          "dtype": "f4"
         },
         "xaxis": "x",
         "y": {
          "bdata": "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",
          "dtype": "f4"
         },
         "yaxis": "y"
        },
        {
         "customdata": [
          [
           940726,
           "ASCWVM01-R1.pdf",
           "C"
          ],
          [
           271748,
           "File 27000-001 Partial Plan; Estimate.pdf",
           "C"
          ],
          [
           726188,
           "6300-015.C1.3.39094-Proposal_UCSC_Music_Bldg_Boiler_Study-SL.pdf",
           "C"
          ],
          [
           517921,
           "6101.C1.2.Appointment of Architect, Colleges Nine and Ten.pdf",
           "C"
          ],
          [
           805138,
           "File 6801 Proposal for Material Testing Services- Construction Testing Services.pdf",
           "C"
          ],
          [
           787008,
           "File 4924 Survey of Coastal Marine Lab Site 5-13-76.pdf",
           "C"
          ],
          [
           545145,
           "6612.C1.2.6605-6617   6612 observatory post construction correpsondce.pdf",
           "C"
          ],
          [
           576334,
           "File 8300-029.C1.3. T. Boyd Construction Agreement.pdf",
           "C"
          ],
          [
           769074,
           "EXHIBIT C updated 7-1-11.pdf",
           "C"
          ],
          [
           944584,
           "Exposure List Design Team.pdf",
           "C"
          ],
          [
           805145,
           "5 Porter A-B-C Project Info.doc",
           "C"
          ],
          [
           137329,
           "File 12012-001.C1.1 NBBJ Letter.pdf",
           "C"
          ],
          [
           517310,
           "File 5900-012 Apartment 111 Plumbing Repairs.pdf",
           "C"
          ],
          [
           755350,
           "edpa_blanket_agreement (1) 8-19-14_UCOP.docx",
           "C"
          ],
          [
           650,
           "1400-093A.C1.2.Request for Fee Proposal, Hazmat Survey & Report.pdf",
           "C"
          ],
          [
           73373,
           "10000-025.C1.2.T-Bar manufacture data campus ada alterations phase 3 thimann labs 3rd floor restroom correspondence.pdf",
           "C"
          ],
          [
           956698,
           "Auth #GIFCDE01 - backup.pdf",
           "C"
          ],
          [
           591396,
           "9022.C1.2. Executive Architect Correspondence.pdf",
           "C"
          ],
          [
           472942,
           "5100.C1.2.NewTechnologyAndFoodService.pdf",
           "C"
          ],
          [
           310689,
           "reference_rejection.docx",
           "C"
          ],
          [
           579576,
           "2018 10 31 BOW113 - Invoice #1.pdf",
           "C"
          ],
          [
           330469,
           "File 3200-096 William Fisher Architecture, Inc. Proposal to Provide Design.pdf",
           "C"
          ],
          [
           1007866,
           "EA Correspondence Misc.pdf",
           "C"
          ],
          [
           235687,
           "File 2358 2638.C1.1 IBI Presentation.pptx",
           "C"
          ],
          [
           956706,
           "Pacific Crest_PCERCD01_Inv 7753.pdf",
           "C"
          ],
          [
           956442,
           "UC Santa Cruz Mail - Carson College Dining Hall Expansion - Utility Demand Form (_)_(1).UC Santa Cruz Mail - Carson College Dining Hall Expansion - Utility Demand Form (_).pdf",
           "C"
          ],
          [
           753378,
           "6701.C1.1.R.L Binder F.A.I.A.pdf",
           "C"
          ],
          [
           864030,
           "4910.C1.2.Shingle Replacement Correspondence 1.19.78.pdf",
           "C"
          ],
          [
           98006,
           "InfillExt.Shortlist.YES.ltr.doc",
           "C"
          ],
          [
           397310,
           "Exhibit FD.pdf",
           "C"
          ],
          [
           711051,
           "toastr.min.css",
           "C"
          ],
          [
           944609,
           "A&A DPANS002-R9.pdf",
           "C"
          ],
          [
           787003,
           "File 4924 Agreement Transmittal 6-27-75.pdf",
           "C"
          ],
          [
           282738,
           "File 2806 C1.1 Hawley Peterson & Snyder Architects SOQ.pdf",
           "C"
          ],
          [
           864018,
           "4910.C1.2.Consultant Correspondence 5.7.76.pdf",
           "C"
          ],
          [
           944600,
           "ucsc rate sched.pdf",
           "C"
          ],
          [
           729481,
           "P0578480 Merrill Storage Containers for Lot 119.pdf",
           "C"
          ],
          [
           235771,
           "DSTNCR03 - 35167.pdf",
           "C"
          ],
          [
           307753,
           "3001.C1.2.Transwestern Supply & Carl N. Swenson Hardware Revision.pdf",
           "C"
          ],
          [
           381393,
           "section_8_0_references.pdf",
           "C"
          ],
          [
           944615,
           "ANSPOR01-R4.pdf",
           "C"
          ],
          [
           944734,
           "Porter A - EDPA CM at Risk 6-22-09.pdf",
           "C"
          ],
          [
           725972,
           "8900-090.F8.BDBOW22-Auth.pdf",
           "C"
          ],
          [
           912140,
           "1-041116-Athorization Rachel.pdf",
           "C"
          ],
          [
           536268,
           "Agreement with Predock Architect 4-28-95.pdf",
           "C"
          ],
          [
           44921,
           "DLMCPCD1.pdf",
           "C"
          ],
          [
           831016,
           "File 9069 DCI Authorization.pdf",
           "C"
          ],
          [
           282754,
           "File 2806 C2.1 D&M SOQ.pdf",
           "C"
          ],
          [
           363396,
           "File 3608 Travel Expense Voucher 11-4-74.pdf",
           "C"
          ],
          [
           689141,
           "CTCJB01-R1.pdf",
           "C"
          ],
          [
           41272,
           "2NDCSC01-R1.pdf",
           "C"
          ],
          [
           381408,
           "appendix_3_6.pdf",
           "C"
          ],
          [
           944582,
           "CAD files release of Liability signed by DPR.pdf",
           "C"
          ],
          [
           975060,
           "Bowmand & Williams Auth BOWTLS01 - backup.pdf",
           "C"
          ],
          [
           769661,
           "11407.C1.2.11407 (C) Coastplans.com  Amendment 1 Cover Letter (COPCLR).doc",
           "C"
          ],
          [
           954581,
           "COP004 R2 (2).pdf",
           "C"
          ],
          [
           511813,
           "5700-001.C1.2.Housing Study and Market Analysis.pdf",
           "C"
          ],
          [
           952555,
           "Agreement STUCFG 5.21.25.pdf",
           "C"
          ],
          [
           85878,
           "Porter A-B Additional Floor Study Final Proposal.pdf",
           "C"
          ],
          [
           942828,
           "10637-010_RFQ_MASTERARCH_LETTER_WRNS_Out.pdf",
           "C"
          ],
          [
           726197,
           "6300-015.C1.3.Gayner_Eng_-_PSA_-_Music_Ctr_-_Chiller_&_Boiler_Repl_Study_v3_BP.pdf",
           "C"
          ],
          [
           769690,
           "5601.C1.2.5601 (C) Nova Partners PSA Letter (NOVDAF).doc",
           "C"
          ],
          [
           246505,
           "File 2625 Preliminary Engineering Report #1.pdf",
           "C"
          ],
          [
           311031,
           "Back Up MIY008.pdf",
           "C"
          ],
          [
           233140,
           "File 2318-070.C2.3. Agreement.pdf",
           "C"
          ],
          [
           337649,
           "1-Kresge Cvr Ltr Geotech Consult__02.docx",
           "C"
          ],
          [
           235796,
           "DSTNCR12 - 35348.pdf",
           "C"
          ],
          [
           235767,
           "DSTNCR02 - 35049.pdf",
           "C"
          ],
          [
           111053,
           "edpa_constructability_analysis.docx",
           "C"
          ],
          [
           310571,
           "porter college sketch3.pdf",
           "C"
          ],
          [
           310545,
           "Porter Dining schedule 171031.xlsx",
           "C"
          ],
          [
           729423,
           "PCO 196 Extended General Conditions.pdf",
           "C"
          ],
          [
           235743,
           "16021_UC Santa Cruz Crown_Owner ASA 15_DRAFT_0201.pdf",
           "C"
          ],
          [
           235916,
           "Advertisement RFQ 2358 - CCMM.docx",
           "C"
          ],
          [
           310548,
           "RFQ CHES Porter Carson Dining Expansion Projects_FINAL.docx",
           "C"
          ],
          [
           942829,
           "10637-010_RFQ_MASTERARCH_LETTER_Boulder.pdf",
           "C"
          ],
          [
           956450,
           "UC Santa Cruz Mail - UCOP FM - EDPA for CM@R Delivery Method, Paragraphs 11.2-5_(1).UC Santa Cruz Mail - UCOP FM - EDPA for CM@R Delivery Method, Paragraphs 11.2-5.pdf",
           "C"
          ],
          [
           753331,
           "5404.C1.1.Gensler Associates Architects.pdf",
           "C"
          ],
          [
           545212,
           "6613.C1.2.Preparation and repainting  120' telescope bldg mt hamilton letter report correspondence.pdf",
           "C"
          ],
          [
           787006,
           "File 4924 Geological Work Billing 6-5-75.pdf",
           "C"
          ],
          [
           602859,
           "File 9097A.C2.3. Authorization #ENT023.pdf",
           "C"
          ],
          [
           363389,
           "File 3608 Services Rendered 6-6-75.pdf",
           "C"
          ],
          [
           536185,
           "JWB Marked up section, Interior wall destructive testing locations.pdf",
           "C"
          ],
          [
           133666,
           "File 11101 Additional Services Proposal Area D Master Plan.pdf",
           "C"
          ],
          [
           790221,
           "File 4932.C1.1 CUH2A Letter Unsigned.pdf",
           "C"
          ],
          [
           381450,
           "Rincon interview letter.pdf",
           "C"
          ],
          [
           381375,
           "9.1_alphabetical_index_by_author.pdf",
           "C"
          ],
          [
           337657,
           "180815_KRESGE_GEOTECH_INTERVIEW_EVALUATION.xlsx",
           "C"
          ],
          [
           832618,
           "Award Letter GHD Lighting.pdf",
           "C"
          ],
          [
           775683,
           "11121.C1.2.11121 (C) Huffman Broadway PSA cover ltr (HUFMSP).doc",
           "C"
          ],
          [
           753415,
           "Blanket EDPA Letter.doc",
           "C"
          ],
          [
           887468,
           "Student Union MEP 2-16-2014.pdf",
           "C"
          ],
          [
           381439,
           "2. SFSU Final EIR Chapter 2.pdf",
           "C"
          ],
          [
           133621,
           "File 11100 City Planning Services Invoice 2-6-73.pdf",
           "C"
          ],
          [
           235722,
           "CrownC MM ADA RFQ Attachment I.pdf",
           "C"
          ],
          [
           577828,
           "8347-4-1.C1.2.UCSC P.E. Facilities Path lighting questions answered by Exec. Architect.pdf",
           "C"
          ],
          [
           310582,
           "Interview Hornberger.pdf",
           "C"
          ],
          [
           747136,
           "9800-007.C1.3.Pacific Crest Eng Auth PCEGDP04_(1).9800-007.C1.3.Pacific Crest Eng Auth PCEGDP04.pdf",
           "C"
          ],
          [
           865011,
           "4910.C1.2.Drain Guard Pipe Transmittal 12.8.76.pdf",
           "C"
          ],
          [
           310716,
           "0855_001.pdf",
           "C"
          ],
          [
           702841,
           "2510.C1.2.Mechanical & Electric Scope & Correspondence.pdf",
           "C"
          ],
          [
           944665,
           "File 3048.F8 Authorization to Perform Professional Services Anshen + Allen 5-20-10.pdf",
           "C"
          ],
          [
           589948,
           "8591B.C2.2 - 16 03 29 - Butano Proposal P16-42 (8951B).pdf",
           "C"
          ],
          [
           271742,
           "File 2700-001 Master Plan; Draft Letter #1; Calcs.pdf",
           "C"
          ],
          [
           805148,
           "File 6801 Big Creek Scope of Work 8-5-09.pdf",
           "C"
          ],
          [
           769947,
           "2806.C1.2.2806 (C) Geomatrix PSA Cover Letter (GEOSHC).doc",
           "C"
          ],
          [
           235974,
           "1156 High Street Crowne College.pdf",
           "C"
          ],
          [
           310617,
           "Ratcliff.pdf",
           "C"
          ],
          [
           875069,
           "2501.C2.2.Reverse Osmosis Demineralized Water.pdf",
           "C"
          ],
          [
           689328,
           "10057.C1.2.Elevator Controls.pdf",
           "C"
          ],
          [
           738855,
           "6300-015.C1.3.3 - GAYMCC01 - PM Auth Entry.pdf",
           "C"
          ],
          [
           955144,
           "Amendment 2.pdf",
           "C"
          ],
          [
           942826,
           "10637-010_RFQ_MASTERARCH_LETTER_Gensler_SELECTED.pdf",
           "C"
          ],
          [
           716839,
           "160422 UCSC ALC Fees.xlsx",
           "C"
          ],
          [
           805109,
           "Preliminary Project Description.doc",
           "C"
          ],
          [
           232499,
           "092018-HYT-Additional Fees-Comments Luis.pdf",
           "C"
          ],
          [
           45934,
           "A2-02 B.pdf",
           "C"
          ],
          [
           235750,
           "160324_REVISED Proposal-UCSC Crown College Housing MM&A.pdf",
           "C"
          ],
          [
           545639,
           "File 6628.C1.2 9.19.96 Guttmann&MacRitchie Submission of Statement of Qualifications.pdf",
           "C"
          ],
          [
           942827,
           "10637-010_RFQ_MASTERARCH_LETTER_HGA_Out.pdf",
           "C"
          ],
          [
           790662,
           "invoice 1195 0825_001.pdf",
           "C"
          ],
          [
           337648,
           "1-Kresge Cvr Ltr Geotech Consult.docx",
           "C"
          ],
          [
           790681,
           "invoice 2832.pdf",
           "C"
          ],
          [
           16594,
           "ARG 042513.doc",
           "C"
          ],
          [
           868845,
           "4910-001.C1.2.Application Correspondence 5.16.74.pdf",
           "C"
          ],
          [
           133696,
           "File 11105 Freitas Engineering Services Authorization.pdf",
           "C"
          ],
          [
           381401,
           "appendix_3_10.pdf",
           "C"
          ],
          [
           832226,
           "Pacific Crest Fire Sprinkler.pdf",
           "C"
          ],
          [
           826772,
           "Jones & Stokes Associates Emergency Response Center Construction Consulting Services.pdf",
           "C"
          ],
          [
           45958,
           "090622 UCSC Biomed Add Serv 23 BIM Coordination Support - REJECTED-SEE REVISED.pdf",
           "C"
          ],
          [
           874064,
           "5506-030.C2.3.Gutter Replacement Consulting Agreement.pdf",
           "C"
          ],
          [
           942820,
           "UCSC_WRP_16037-010_MarkCavagnero[1].pdf",
           "C"
          ],
          [
           711041,
           "jquery.min.js.download",
           "C"
          ],
          [
           944599,
           "Tile Weight Lab Test Results.pdf",
           "C"
          ],
          [
           536266,
           "Antoine Predock SOQ.pdf",
           "C"
          ],
          [
           310556,
           "carson college sketch3.pdf",
           "C"
          ],
          [
           969763,
           "PA FA  Consultant Select mem c1.doc",
           "C"
          ],
          [
           393267,
           "2017-02-16 Seymour Overlook Structure Amendment 01 Scope.pdf",
           "C"
          ],
          [
           1045603,
           "Pacific Crest Auth #PCECT04 ISB Concrete Topping SlabRoof Replacement - Special Inspections.pdf",
           "C"
          ],
          [
           235821,
           "PM Auth Entry #DSTNCR12.pdf",
           "C"
          ],
          [
           282757,
           "File 2086.C2.3 Geomatrix 2008.pdf",
           "C"
          ],
          [
           11852,
           "EHDD 2020-21_Standard Billing rates.pdf",
           "C"
          ],
          [
           235844,
           "Auth DSTNCR16.pdf",
           "C"
          ],
          [
           754680,
           "EXHIBIT_L title.doc",
           "C"
          ],
          [
           1030589,
           "BDYOU028.pdf",
           "C"
          ],
          [
           110989,
           "PASE SOQ to WHL Architects.pdf",
           "C"
          ],
          [
           689325,
           "10057.C1.2.Afshar-Steve.pdf",
           "C"
          ],
          [
           235696,
           "2358 RFQ ABA Letter.pdf",
           "C"
          ],
          [
           110902,
           "File 10637.C1.1 Perkins Will Invitation to Interview.pdf",
           "C"
          ],
          [
           235744,
           "16021_UC Santa Cruz Crown_Owner ASA 15_pend.pdf",
           "C"
          ],
          [
           137320,
           "File 12012-001.C1.1 EHDD Letter.pdf",
           "C"
          ],
          [
           235802,
           "DSTNCR16 - 36785.pdf",
           "C"
          ],
          [
           826764,
           "Environmental Impact Report, Proposal for Services.pdf",
           "C"
          ],
          [
           368548,
           "3705-002.C1.2.Exec Architect Correspondence.pdf",
           "C"
          ],
          [
           247102,
           "File 2635 Proposal for Topographic Survey.pdf",
           "C"
          ],
          [
           310543,
           "porter college sketch.pdf",
           "C"
          ],
          [
           769695,
           "7601.C1.2.7601 (C) Jones & Stokes PSA  Cover Letter (JONERC).doc",
           "C"
          ],
          [
           364915,
           "File 3619 C1.1 Sample Req. For Qualification.pdf",
           "C"
          ],
          [
           685046,
           "Autho Rogers 3.7.02.pdf",
           "C"
          ],
          [
           963301,
           "Bowman & Williams Certification 8900-027_c.pdf",
           "C"
          ],
          [
           381383,
           "section_3_10_population_and_housing.pdf",
           "C"
          ],
          [
           589958,
           "8591B.C2.3 BUTCSR1 - Invoice 1-09-17.pdf",
           "C"
          ],
          [
           548976,
           "File 6701 Consultant Selection Geotechnical Services.pdf",
           "C"
          ],
          [
           97995,
           "Final Infill RFQ for PM.pdf",
           "C"
          ],
          [
           467382,
           "REQUEST TO HAVE A NEGOTIATED CONSTRUCTION CONTRACT WRITTEN Nov 2016.pdf",
           "C"
          ],
          [
           45966,
           "101122 UCSC Biomed AS 32.1 NIH Project Implementation T&M Consultants with attachments.pdf",
           "C"
          ],
          [
           310671,
           "171106_KRESGERFQ_INTERVIEWLETTER_KIERANTIMBERLAKE.pdf",
           "C"
          ],
          [
           944736,
           "Porter A - EDPA CM at Risk Version.pdf",
           "C"
          ],
          [
           73475,
           "10000-026.C2.2.campus ada phase 4 preliminary construction  correspondence.pdf",
           "C"
          ],
          [
           729424,
           "PCO 203 GC Labor.pdf",
           "C"
          ],
          [
           93309,
           "File 10070.C1.1 Degenkolb Authorization.pdf",
           "C"
          ],
          [
           381380,
           "introduction_and_executive_summary.pdf",
           "C"
          ],
          [
           545640,
           "File 6628.C1.2 9.20.96 Pal Consultants Proposal Presentation letter.pdf",
           "C"
          ],
          [
           310597,
           "Dining Expansion RFQ Interview Invite Letter Studio Ma .docx",
           "C"
          ],
          [
           310729,
           "PSA_for_CHES_Dining_Insurance Cert.pdf",
           "C"
          ],
          [
           805106,
           "File 6801 Re- Electrical Duct & A&E Fees 1-7-09.pdf",
           "C"
          ],
          [
           11864,
           "PRO 2 Cx UCSC SEL 1st Fl Renovation.pdf",
           "C"
          ],
          [
           247098,
           "File 2635 Comments to BNB's General Conditions Estimate.pdf",
           "C"
          ],
          [
           235700,
           "2358 RFQ IBI Final Letter.pdf",
           "C"
          ],
          [
           98008,
           "InfillExterior.PM.RFQ Ad.1.doc",
           "C"
          ],
          [
           117251,
           "Letter.FeeProposal.5.20.22.pdf",
           "C"
          ],
          [
           235883,
           "File 2358 2638.C2.1 Jensen Hughes Letter.pdf",
           "C"
          ],
          [
           235805,
           "160414_REVISED Proposal-UCSC Crown College Housing MM&A.PDF",
           "C"
          ],
          [
           769748,
           "4500-001.C1.2.Kremer & Associates PSA Amendment Cover Letter (KRESBOO).doc",
           "C"
          ],
          [
           975081,
           "ENNTSR01-R4.pdf",
           "C"
          ],
          [
           863469,
           "File 4932.C1.1.Perkins Hill.pdf",
           "C"
          ],
          [
           769745,
           "11408.C1.2.Bay Area Economics_1 yr extension Cover Letter.doc",
           "C"
          ],
          [
           306759,
           "File 2807.C2.3. Authorization #DIR004.pdf",
           "C"
          ],
          [
           727790,
           "Bulletin 08-R1 Transmittal.pdf",
           "C"
          ],
          [
           97978,
           "SGH.pdf",
           "C"
          ],
          [
           43939,
           "EX_B_Rates_PW19.pdf",
           "C"
          ],
          [
           832115,
           "3101.C1.2.Bidding Correspondence.pdf",
           "C"
          ],
          [
           472650,
           "F.D. Thomas 4-16-20.pdf",
           "C"
          ],
          [
           752925,
           "Exhibit E.doc",
           "C"
          ],
          [
           744634,
           "09.10.29 Revised Low Flow Fixture Replacement Proposal.pdf",
           "C"
          ],
          [
           912145,
           "Site Plan - Fire Watch Coordination.pdf",
           "C"
          ],
          [
           754273,
           "3407.C1.2.Pacific Crest Engineering PSA (PCELQV) executed cover letter.doc",
           "C"
          ],
          [
           790683,
           "Invoice 3367.pdf",
           "C"
          ],
          [
           235835,
           "Lower Quad-Figure 1.pdf",
           "C"
          ],
          [
           585778,
           "File 8884-008.C2.3. Video Voice Agreement.pdf",
           "C"
          ],
          [
           1007863,
           "Design Change Authorization No.14 2.5.69.pdf",
           "C"
          ],
          [
           951921,
           "BDBOW015.pdf",
           "C"
          ],
          [
           337639,
           "Cvr Ltr Geotech Consult.doc",
           "C"
          ],
          [
           235879,
           "File 2358 2638.C2.1 List Firms Requesting RFQ.pdf",
           "C"
          ],
          [
           775343,
           "8900-056.C1.2.8900-056 (C) Bowman & Williams PSA cover letter (BOWCOO).doc",
           "C"
          ],
          [
           381441,
           "5. SFSU Final EIR Chapter 4-Comment Letters 01 thru 03.pdf",
           "C"
          ],
          [
           541600,
           "UCOP Fee Discussion",
           "C"
          ],
          [
           703334,
           "9800-010.C2.1.2019 05 09 Yeh Geotech - Proposal - rev1.docx",
           "C"
          ],
          [
           917290,
           "6201.C1.2.Berryman Henigar PSA Cover Letter (BERPSB).doc",
           "C"
          ],
          [
           381438,
           "13. SFSU Final EIR Chapter 6.pdf",
           "C"
          ],
          [
           911517,
           "File 4925-002.C1.1 SCB SOQ.pdf",
           "C"
          ],
          [
           805105,
           "File 6801 Geotechnical Engineering Services.pdf",
           "C"
          ],
          [
           588921,
           "MemoSingleConstultantChoice, Mack 5 1-27-11.pdf",
           "C"
          ],
          [
           944578,
           "additional edits from A&A.pdf",
           "C"
          ],
          [
           934143,
           "ASC001.pdf",
           "C"
          ],
          [
           310709,
           "Hornberger Worstell SOQ.pdf",
           "C"
          ],
          [
           273952,
           "File 2731 Authorization Cost Estimating Services 8-20-96.pdf",
           "C"
          ],
          [
           944621,
           "AUthorizations vs payments.xls",
           "C"
          ],
          [
           282751,
           "file 2806 C2.1 Construction Testing SOQ.pdf",
           "C"
          ],
          [
           306,
           "File 1400-036 C2.3 Authorization #LEE011 to Provide Engineering Services.pdf",
           "C"
          ],
          [
           358858,
           "File 3404.C1.2 Plant Service Clearing Account Authorization.pdf",
           "C"
          ],
          [
           274428,
           "File 2732 Revised Consultant Fee Proposal.pdf",
           "C"
          ],
          [
           536192,
           "DRAFT - 2015-06-15 Music Building Water Intrusion Report.pdf",
           "C"
          ],
          [
           579616,
           "2019 06 19 SDMESG02 - combined.pdf",
           "C"
          ],
          [
           22863,
           "1329.C2.2 Authorization for Project Management Services.pdf",
           "C"
          ],
          [
           703317,
           "9800-010.C2.1.2019 10 21 CCC003_Inv 1.pdf",
           "C"
          ],
          [
           232498,
           "092018-Addendums-Sent with Comments Luis.pdf",
           "C"
          ],
          [
           716832,
           "160519 UCSC ALC ASR4.pdf",
           "C"
          ],
          [
           330571,
           "Kresge 711#2.docx",
           "C"
          ],
          [
           381371,
           "Impact Sciences Proposal.pdf",
           "C"
          ],
          [
           693152,
           "File 1302-022.C2.3 ToA Permanent Transfer of Space.pdf",
           "C"
          ],
          [
           235707,
           "2358 RFQ Interview Invite Letter TEF.pdf",
           "C"
          ],
          [
           310623,
           "GoringStraja Invite.pdf",
           "C"
          ],
          [
           754238,
           "11408.C2.3.Bay Area Economics PSA (BAELRD).doc",
           "C"
          ],
          [
           865213,
           "4910.C1.2.North Coast Plan Consultant Correspondence.pdf",
           "C"
          ],
          [
           97997,
           "Infill.PMServicesAward.ltr.Bogard.doc",
           "C"
          ],
          [
           703322,
           "9800-010.C2.1.20.10.21 Dudek_DUDWSM01_Inv 202007573.pdf",
           "C"
          ],
          [
           864048,
           "4910.C2.2.Concresive & Resin Transmittal 1.10.77.pdf",
           "C"
          ],
          [
           310698,
           "rachel carson college map.pdf",
           "C"
          ],
          [
           589966,
           "8591B.C2.3 BUTCSR1 - Invoice 6-21-16.pdf",
           "C"
          ],
          [
           146672,
           "1324.C2.2.land proposal for wash bay.pdf",
           "C"
          ],
          [
           338540,
           "Authorization Increase - Potholing Activities REV1.pdf",
           "C"
          ],
          [
           381435,
           "10. SFSU Final EIR Chapter 4- Comment Letters 49 Part 2.pdf",
           "C"
          ],
          [
           579668,
           "Arboretum Parking Lot Addition - ZT Budget Estimate.pdf",
           "C"
          ],
          [
           865015,
           "4910.C1.2.Schematic & Iron Works & Rebar Shop Transmittal 12.15.76.pdf",
           "C"
          ],
          [
           622003,
           "Consultant Deliverables.pdf",
           "C"
          ],
          [
           753337,
           "5404.C1.2.Hanscomb - Facsimile Transmittal.pdf",
           "C"
          ],
          [
           381407,
           "appendix_3_5.pdf",
           "C"
          ],
          [
           133623,
           "File 11100 City Planning Services Invoice 4-3-73.pdf",
           "C"
          ],
          [
           235888,
           "File 2358 2638.C2.1 RFQ Packet.pdf",
           "C"
          ],
          [
           964980,
           "1326.C1.2.1326 (C) Dennis Diego PSA cover letter (DIEHAY).doc",
           "C"
          ],
          [
           769700,
           "7601.C1.2.7601( C) Pacific Crest Engineering PSA Amd 1 Cover Letter (PCEERC).doc",
           "C"
          ],
          [
           589945,
           "8591B.C2.2 - 16 03 15 - BKF Fee worksheet 2016.03 (8951B).pdf",
           "C"
          ],
          [
           45947,
           "A203B.pdf",
           "C"
          ],
          [
           976708,
           "DEMPOR01(2).pdf",
           "C"
          ],
          [
           969539,
           "GAYMCR04.pdf",
           "C"
          ],
          [
           487819,
           "File 5500-004 EHDD Additional Services Memorandum.pdf",
           "C"
          ],
          [
           769083,
           "a_Master 7-25-2011.doc",
           "C"
          ],
          [
           235825,
           "Backup 1 -Auth #DSTNCR13.pdf",
           "C"
          ],
          [
           543886,
           "6600-002.C2.2 Contractor Correspondence 5.pdf",
           "C"
          ],
          [
           577817,
           "8347-4-1.C1.2.P.E. Facilities '87 Payments.pdf",
           "C"
          ],
          [
           884325,
           "1-edpa_agreement.docx",
           "C"
          ],
          [
           769682,
           "5314.C1.2.5314 (C) Simpson Gumpertz & Heger Inc. PSA (SGHWAT) Cover Letter.doc",
           "C"
          ],
          [
           472926,
           "5100.C1.2.College5CentralFoodC1.2.pdf",
           "C"
          ],
          [
           588920,
           "Consultant Choice Memo, Streeter Group 8-23-10.pdf",
           "C"
          ],
          [
           746499,
           "8900-045 Street Striping 2011 CDs and Gen Reqirements.docx",
           "C"
          ],
          [
           487674,
           "5407-001.C2.1.Consultants Correspondence.pdf",
           "C"
          ],
          [
           235716,
           "CrownC MM ADA ad.pdf",
           "C"
          ],
          [
           614862,
           "File 9800-010.C1.3 Yeh and Associates Authorization #YEH001.pdf",
           "C"
          ],
          [
           310590,
           "Dining Expansion RFQ Interview Invite Letter Hornberger.pdf",
           "C"
          ],
          [
           235742,
           "16021_UC Santa Cruz Crown_Owner ASA 14_pend.pdf",
           "C"
          ],
          [
           944587,
           "Gayner response to Neil Goldstein count questions.pdf",
           "C"
          ],
          [
           875679,
           "2500.C1.2.Water Facilities in Science Library 5.19.69.pdf",
           "C"
          ],
          [
           589955,
           "8591B.C2.3 - PSA.PDF",
           "C"
          ],
          [
           235681,
           "File 2358 2638.C1.1 Glass Letter.pdf",
           "C"
          ],
          [
           328596,
           "File 3111 DCA #4.pdf",
           "C"
          ],
          [
           754237,
           "11408.C2.2.Bay Area Economics PSA Prof Liab letter(BAELRD).doc",
           "C"
          ],
          [
           235829,
           "Backup - Auth #DSTNCR14.pdf",
           "C"
          ],
          [
           790684,
           "Invoice PC 4624_001.pdf",
           "C"
          ],
          [
           965008,
           "File 1326 Auth to Perform Prof Services- Cnsolidated Engineering.pdf",
           "C"
          ],
          [
           587918,
           "File 8924.C1.3 Auth for Stephanie Strelow to Perform Professional Services 02.22.91.pdf",
           "C"
          ],
          [
           746533,
           "UCSC.PhysPlant.Apartment419.Proposal.pdf",
           "C"
          ],
          [
           235676,
           "File 2358 2638.C1.1 CAW Award Letter.pdf",
           "C"
          ],
          [
           235893,
           "Auth RGACMM02.pdf",
           "C"
          ],
          [
           831343,
           "File 9086 D.J. Scheffler Pre-Qualification Packet.pdf",
           "C"
          ],
          [
           729508,
           "File 2638.C2.3. Authorization #ENE004-R2.pdf",
           "C"
          ],
          [
           271741,
           "File 2700-001 Master Plan; Building Load Profiles.pdf",
           "C"
          ],
          [
           752924,
           "EXHIBIT C updated 7-1-2011.doc",
           "C"
          ],
          [
           310667,
           "171120_KRESGERFQ_FINALLETTER_STUDIOGANG_WEISENTHAL.pdf",
           "C"
          ],
          [
           543890,
           "6600-002.C2.2 RFI.pdf",
           "C"
          ],
          [
           829380,
           "File 8951 Nichols Consulting.pdf",
           "C"
          ],
          [
           703313,
           "9800-010.C2.1.2020 10 22 Butano_BUTCTS02_Inv 5027.pdf",
           "C"
          ],
          [
           363392,
           "File 3608 Services Rendered 9-19-74.pdf",
           "C"
          ],
          [
           911492,
           "File 4925-001 Concrete Science Prelim Scope 5-20-02.pdf",
           "C"
          ],
          [
           329050,
           "File 3124 C1.3 University Standard Form of Agreement Vers B.pdf",
           "C"
          ],
          [
           472952,
           "5100.C2.2.DevineReportFoodServicesFacility.pdf",
           "C"
          ],
          [
           358722,
           "File 3400-029A.C2.3. Agreement.pdf",
           "C"
          ],
          [
           792218,
           "Leon H. Waller Architect Authorization - SDWALLF1R1.pdf",
           "C"
          ],
          [
           232497,
           "2-101118-HYT Revised Proposal for UCSC Additional Services.pdf",
           "C"
          ],
          [
           235769,
           "DSTNCR02R1 - 35347.pdf",
           "C"
          ],
          [
           105414,
           "10626-017. C1.3. Agreement.pdf",
           "C"
          ],
          [
           769680,
           "5201.C1.3.5201 (C) Cogent Energy PSA (COGEMB).doc",
           "C"
          ],
          [
           775322,
           "10071.C1.3.10071 (C) Forell Elsesser PSA (FORSAS).doc",
           "C"
          ],
          [
           361860,
           "UCSC Cost Estimating Guidelines 4-10-13.pdf",
           "C"
          ],
          [
           703338,
           "9800-010.C2.1.2019 05 21 PSA - Yeh.pdf",
           "C"
          ],
          [
           235782,
           "DSTNCR06R2 - 35569.pdf",
           "C"
          ],
          [
           956449,
           "UC Santa Cruz Mail - RE_ Carson College Dining Hall - Cost Estimating Guidelines_(1).UC Santa Cruz Mail - RE_ Carson College Dining Hall - Cost Estimating Guidelines.pdf",
           "C"
          ],
          [
           729480,
           "RFI 178 Response.pdf",
           "C"
          ],
          [
           45963,
           "101122 UCSC Biomed AS 30 Card Reader redesign with Attachment.pdf",
           "C"
          ],
          [
           913403,
           "5707.C2.2.Faculty and Staff Housing.pdf",
           "C"
          ],
          [
           235849,
           "Please_Sign__Auth_DSTNCR19__Crown_MM__ADA_.pdf",
           "C"
          ],
          [
           381378,
           "9.4_revised_draft_eir_pages.pdf",
           "C"
          ],
          [
           716808,
           "EHDD SOR Org Chart.pdf",
           "C"
          ],
          [
           337640,
           "Geotech scope of work for construction inspection.docx",
           "C"
          ],
          [
           944575,
           "01100-01430.pdf",
           "C"
          ],
          [
           865016,
           "4910.C1.2.Tnemec Certification Transmittal.pdf",
           "C"
          ],
          [
           880583,
           "2501.C2.2.Executive Landscape Architect.pdf",
           "C"
          ],
          [
           805114,
           "EHDD - FEE PROPOSAL LETTER.pdf",
           "C"
          ],
          [
           711050,
           "toastr.js.download",
           "C"
          ],
          [
           729507,
           "File 2638.C2.3. Authorization #ENE004-R1.pdf",
           "C"
          ],
          [
           501249,
           "File 5510-011 Proposal plans and Conditions Stonhard.pdf.pdf",
           "C"
          ],
          [
           117252,
           "Letter.FeeProposal.REVISED.03.17.2022r1.pdf",
           "C"
          ],
          [
           310541,
           "Porter and Carson Dining Phase 1&2_RFQ_AD_Draft.docx",
           "C"
          ],
          [
           580981,
           "Vendor List 2-3-12.pdf",
           "C"
          ],
          [
           487688,
           "5470-001.C1.2.CentralFoodServiceFacilityC1.2.pdf",
           "C"
          ],
          [
           235807,
           "Auth #DSTNCR02-R1.pdf",
           "C"
          ],
          [
           235776,
           "DSTNCR06 - 35804.pdf",
           "C"
          ],
          [
           45191,
           "Pacific Crest Engineering - PSA for Geotechnical Investigation - Rachel Carson Dining Hall Expansion.pdf",
           "C"
          ],
          [
           360385,
           "File 3406-018.C2.3. Agreement.pdf",
           "C"
          ],
          [
           865009,
           "4910.C2.2.Utilities at Building Site Memo 1.20.77.pdf",
           "C"
          ],
          [
           328270,
           "File 3101 Extension of Agreement.pdf",
           "C"
          ],
          [
           726223,
           "6300-015.C1.3.Gayner GAYMCC amendment backup.pdf",
           "C"
          ],
          [
           775569,
           "6900.C1.2.6900 (C) Allied Works Architecture Inc. PSA Letter_cover (AWAIAS).doc",
           "C"
          ],
          [
           314124,
           "Dining Commons Kevin Crossley.pdf",
           "C"
          ],
          [
           235690,
           "File 2358 2638.C1.1 List Firms Submitting RFQ.pdf",
           "C"
          ],
          [
           944601,
           "A&A DPANS002-R1.pdf",
           "C"
          ],
          [
           45845,
           "2300-183.C1.3.SMFI Inc Auth SFMCC1.pdf",
           "C"
          ],
          [
           769989,
           "4016.C1.2.4016 (C) Glass Associates PSA Cover Letter (GLASIN).doc",
           "C"
          ],
          [
           956697,
           "2019 Pacific Crest Std Fee Schedule UCSC - January 1, 2019.pdf",
           "C"
          ],
          [
           110891,
           "File 10637.C1.1 Gordon Prill Presentation.pdf",
           "C"
          ],
          [
           246503,
           "File 2625 Preliminary Engineering Report #1 8-13-91.pdf",
           "C"
          ],
          [
           580247,
           "8500-047.C1.2.Opinion of probable Cost - Materials Testing Services.pdf",
           "C"
          ],
          [
           769673,
           "3310.C1.2.3310 (C) Clarke Construction PSA Cover Ltr (CLACHM).doc",
           "C"
          ],
          [
           768638,
           "File 10078.C1.1 Goring Straja Statement of Qualification.pdf",
           "C"
          ],
          [
           862344,
           "1330.C1.2.1123.05 UCSC Cooperage - VectorSurvey - Proposal.pdf",
           "C"
          ],
          [
           235785,
           "DSTNCR06R2 - 37058R.pdf",
           "C"
          ],
          [
           235823,
           "Auth #DSTNCR13.pdf",
           "C"
          ],
          [
           726214,
           "3002-065.C1.3.22-09-23 UCSC Porter Dining APF proposal markup.pdf",
           "C"
          ],
          [
           397305,
           "EXHIBIT A.pdf",
           "C"
          ],
          [
           45931,
           "A2-00-5.pdf",
           "C"
          ],
          [
           755318,
           "General Conditions.doc",
           "C"
          ],
          [
           969544,
           "CUMBBI01.pdf",
           "C"
          ],
          [
           689494,
           "10070.C1.2.Correspondence 9.3.06.pdf",
           "C"
          ],
          [
           467375,
           "Granitecrete matl.pdf",
           "C"
          ],
          [
           381410,
           "appendix_3_9.pdf",
           "C"
          ],
          [
           544808,
           "File 6602 Re- Agreement.pdf",
           "C"
          ],
          [
           831008,
           "File 9069 Long Range Objectives & Enovity Proposal.pdf",
           "C"
          ],
          [
           93325,
           "File 10070.C2.2 Memorandum.pdf",
           "C"
          ],
          [
           776444,
           "6300-015.C1.3.REQUEST FOR A PROJECT SPECIFIC CONSULTING AGREEMENT- Gayner.pdf",
           "C"
          ],
          [
           473027,
           "5101.C2.3.Earthmarine sciences form of agreement.pdf",
           "C"
          ],
          [
           884331,
           "Exhibit H-edpa_amendment.docx",
           "C"
          ],
          [
           536267,
           "File 6301 Bid Wanted Certified The San Francisco Chronicle .pdf",
           "C"
          ],
          [
           163589,
           "CM_A03_EDPA_EXHIBIT_L_ProjectSchedule_Rev5-2-03.dot",
           "C"
          ],
          [
           472929,
           "5100.C1.2.CorrespondanceHarryJohnDutton.pdf",
           "C"
          ],
          [
           944732,
           "Porter A - EDPA CM at Risk 6-18-09.doc",
           "C"
          ],
          [
           310584,
           "Interview Steinberg.pdf",
           "C"
          ],
          [
           485157,
           "File 5303-042.C1.3. Agreement.pdf",
           "C"
          ],
          [
           73375,
           "10000-025.C2.2.campus ADA alterations phase 3 thimann labs 3rd floor restroom correspondence.pdf",
           "C"
          ],
          [
           111067,
           "GP.Exhibit D.RegAgenciesApprovals.doc",
           "C"
          ],
          [
           790673,
           "invoice 2022 3509_001.pdf",
           "C"
          ],
          [
           942836,
           "10637-010_RFQ_MASTERARCH_LETTER_NBBJ.pdf",
           "C"
          ],
          [
           787007,
           "File 4924 Indpendent Consultant Agreement.pdf",
           "C"
          ],
          [
           963503,
           "8800-0131 c2.2.pdf",
           "C"
          ],
          [
           589960,
           "8591B.C2.3 BUTCSR1 - Invoice 11-04-16.pdf",
           "C"
          ],
          [
           956249,
           "BUT019.pdf",
           "C"
          ],
          [
           232496,
           "1-041116-Authorization Crown.pdf",
           "C"
          ],
          [
           775350,
           "6617-005.C1.3.6617-005 (C) SCA Environmental PSA (SCAUCO).doc",
           "C"
          ],
          [
           864022,
           "4910.C1.2.Laval Separator Memorandum 11.26.pdf",
           "C"
          ],
          [
           962377,
           "CUMSFH01 (2).pdf",
           "C"
          ],
          [
           875066,
           "2501.C1.2.Correction of Building Deficiencies 4.14.78.pdf",
           "C"
          ],
          [
           97942,
           "Architect RFQ Draft 9 30_jk.doc",
           "C"
          ],
          [
           944586,
           "FE_PorterA_Material Test Program 13AUG08 Rev1.pdf",
           "C"
          ],
          [
           711033,
           "L5,L6 - WMAUD.PDF",
           "C"
          ],
          [
           14192,
           "1323.C2.1 Project File Records.pdf",
           "C"
          ],
          [
           337660,
           "180803_KRESGE_GEOTECH_INTERVIEW_LETTER_PACIFIC_CREST.doc",
           "C"
          ],
          [
           589946,
           "8591B.C2.2 - 16 03 15 - BKF Proposal (8951B).pdf",
           "C"
          ],
          [
           971121,
           "Amendment 1 (2).pdf",
           "C"
          ],
          [
           956705,
           "Design Study Proposal -Rachel Carson Dining Hall Expansion.pdf",
           "C"
          ],
          [
           310657,
           "Kresge  Interview Evaluation_FINAL.xlsx",
           "C"
          ],
          [
           944580,
           "Anshen & Allen Fee Break down by Stage.xls",
           "C"
          ],
          [
           42998,
           "CRPLRP07.pdf",
           "C"
          ],
          [
           864099,
           "Kennedy Jenks Interview.pdf",
           "C"
          ],
          [
           912777,
           "5305-021.C1.1. Selection Letter.pdf",
           "C"
          ],
          [
           805147,
           "7 Porter A-B-C Request for Claims Info.doc",
           "C"
          ],
          [
           311046,
           "Scan.pdf",
           "C"
          ],
          [
           45969,
           "110720r UCSC Biomed AS 33 NIH Miscellaneous Construction Items w Matrix.pdf",
           "C"
          ],
          [
           589954,
           "8591B.C2.3 - DRAFT edpa_agreement_BKF Engineers (8951B).docx",
           "C"
          ],
          [
           282744,
           "File 2806 C1.2 HPS Archs. Correspondence.pdf",
           "C"
          ],
          [
           726447,
           "H0085 - topo.pdf",
           "C"
          ],
          [
           977280,
           "ECT001.pdf",
           "C"
          ]
         ],
         "hovertemplate": "tag=%{customdata[2]}<br>umap_x=%{x}<br>umap_y=%{y}<br>file_id=%{customdata[0]}<br>filename=%{customdata[1]}<extra></extra>",
         "legendgroup": "C",
         "marker": {
          "color": "#3283FE",
          "line": {
           "width": 0
          },
          "opacity": 0.75,
          "size": 7,
          "symbol": "circle"
         },
         "mode": "markers",
         "name": "C",
         "showlegend": true,
         "type": "scattergl",
         "x": {
          "bdata": "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",
          "dtype": "f4"
         },
         "xaxis": "x",
         "y": {
          "bdata": "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",
          "dtype": "f4"
         },
         "yaxis": "y"
        },
        {
         "customdata": [
          [
           236405,
           "415-135 Crown College Gauss Building .pdf",
           "F"
          ],
          [
           886214,
           "Heller Drive Project 8949Addendum Items DRAFT 5-2-11.docx",
           "F"
          ],
          [
           921935,
           "6201 BID SUMMARY_001.pdf",
           "F"
          ],
          [
           939915,
           "09a_LF_C08_BidBond_Rev1-2-96.doc",
           "F"
          ],
          [
           238873,
           "Attachment_J_-_MBE-WBE-DVBE_Requirements (1).pdf",
           "F"
          ],
          [
           536568,
           "File 6301 S 101.TIF",
           "F"
          ],
          [
           367798,
           "3701.F5.college 7 signal level monitoring  coms. bldg drawing specs..pdf",
           "F"
          ],
          [
           537557,
           "6301.F5 - F.S Plan (5).pdf",
           "F"
          ],
          [
           536461,
           "File 6301 CCS 8.TIF",
           "F"
          ],
          [
           25268,
           "1500-027 AFB to Don Chapin Company (16 04 01).pdf",
           "F"
          ],
          [
           329328,
           "File 3124 BM 102.TIF",
           "F"
          ],
          [
           329301,
           "File 3124 BA 703.TIF",
           "F"
          ],
          [
           536750,
           "102 File 6301 A503.TIF",
           "F"
          ],
          [
           329315,
           "File 3124 BE 102.TIF",
           "F"
          ],
          [
           845772,
           "Letters to Advertisers.doc",
           "F"
          ],
          [
           849204,
           "BP #19 Paint.pdf",
           "F"
          ],
          [
           962400,
           "6003-1_f8.pdf",
           "F"
          ],
          [
           236459,
           "CM Level 2 Interview Evaluation Form.docx",
           "F"
          ],
          [
           853902,
           "BP #1 -  Infrastructure.pdf",
           "F"
          ],
          [
           941774,
           "2318-064 Bid Memo.docx",
           "F"
          ],
          [
           329119,
           "File 3124 FA 07.TIF",
           "F"
          ],
          [
           329245,
           "File 3124 M  804.TIF",
           "F"
          ],
          [
           536475,
           "File 6301 E 102.TIF",
           "F"
          ],
          [
           180435,
           "1__#$!@%!#__UC Santa Cruz CA 76580 27- McHenry Library AS Renovation.doc",
           "F"
          ],
          [
           874928,
           "Thimann Addendum #1-4.doc",
           "F"
          ],
          [
           247433,
           "7951f_Calculations Vol I_2012-10-01.pdf",
           "F"
          ],
          [
           874752,
           "10064-003.F7.List of Subcontractors 5.10.04.pdf",
           "F"
          ],
          [
           577426,
           "8347.F2.P.E Facilities Coordination of Cogeneration System with Swimming Pool.pdf",
           "F"
          ],
          [
           367805,
           "3701.F5.oaks application data tremco pamphlet specification sheet.pdf",
           "F"
          ],
          [
           536806,
           "158 File 6301 M13.TIF",
           "F"
          ],
          [
           145907,
           "Santa Cruz_7026_Village Housing C6.pdf",
           "F"
          ],
          [
           536203,
           "2016 11 16 6300-007C Music Center Joint Sealant Replacement Layout.pdf",
           "F"
          ],
          [
           98844,
           "File 3701 M 08 Cogen Markups.pdf",
           "F"
          ],
          [
           2362,
           "Request_Over_$100,000.doc",
           "F"
          ],
          [
           875248,
           "PUBLETS for Subcontractor prequal .doc",
           "F"
          ],
          [
           180426,
           "File 1810 Boora Response to PCE Review Comments.pdf",
           "F"
          ],
          [
           133705,
           "01 File 11105 Scheme A0002.tif",
           "F"
          ],
          [
           338407,
           "14 cm_supplementary_instructions_to_bidders.docx",
           "F"
          ],
          [
           887014,
           "File 9086. F7. Anderson Bid Form.pdf",
           "F"
          ],
          [
           115747,
           "DRC-13 Phase.bak",
           "F"
          ],
          [
           536687,
           "039 File 6301 S301.TIF",
           "F"
          ],
          [
           917188,
           "Bid bond return letter - Federal Solutions Group.pdf",
           "F"
          ],
          [
           536674,
           "026 File 6301 S103.TIF",
           "F"
          ],
          [
           536354,
           "05 File 6301 A 103 (markups).TIF",
           "F"
          ],
          [
           175464,
           "1729.F4.Stevenson-College 5&6 Heating-Issuance of plans and Specs.pdf",
           "F"
          ],
          [
           369586,
           "File 3720.F7.Bid Summary Form.pdf",
           "F"
          ],
          [
           329322,
           "File 3124 BL 101.TIF",
           "F"
          ],
          [
           876556,
           "Vani #3 2806.doc",
           "F"
          ],
          [
           98811,
           "File 3701 E 07.TIF",
           "F"
          ],
          [
           25258,
           "1500-027.F3.Liquidated Damages Calculations.docx",
           "F"
          ],
          [
           25290,
           "1500-027.F1.1500-027 RFB - Blancas Construction (5-11-16).pdf",
           "F"
          ],
          [
           693035,
           "File 1301.F3 Structural Alts. Misc.pdf.pdf",
           "F"
          ],
          [
           690261,
           "Structural Calc.pdf",
           "F"
          ],
          [
           536532,
           "File 6301 M 015.TIF",
           "F"
          ],
          [
           367832,
           "File 3701 E 02.TIF",
           "F"
          ],
          [
           853800,
           "BP #3 Cerfication 1 of 3.pdf",
           "F"
          ],
          [
           238982,
           "Jobwalk Sign-in Sheet #7.pdf",
           "F"
          ],
          [
           516813,
           "5709.F8.Contract Documents.pdf",
           "F"
          ],
          [
           369673,
           "3727.F2 Review.pdf",
           "F"
          ],
          [
           536682,
           "034 File 6301 S201.TIF",
           "F"
          ],
          [
           887013,
           "BidSum 9086.xls",
           "F"
          ],
          [
           367845,
           "File 3701 S 01.TIF",
           "F"
          ],
          [
           779673,
           "4503.F8.Contract Docs Vol 2.pdf",
           "F"
          ],
          [
           782852,
           "4900-001.F7.LML Propane Natural gas Rebid Forms.pdf",
           "F"
          ],
          [
           536535,
           "File 6301 M 101.TIF",
           "F"
          ],
          [
           75241,
           "005 File 10010 P2.2.TIF",
           "F"
          ],
          [
           238823,
           "Crown College Bid strategy to OP R2.xlsx",
           "F"
          ],
          [
           703419,
           "9800-010.F6.Contractor Call Sheet revZT.xlsx",
           "F"
          ],
          [
           547639,
           "6644J.F7.1.Bid Protest.pdf",
           "F"
          ],
          [
           144699,
           "File 3124 Architectural Sheets Vol A.pdf",
           "F"
          ],
          [
           689234,
           "10000-242.F8.Contract Memo.pdf",
           "F"
          ],
          [
           853910,
           "Bid Package 1.pdf",
           "F"
          ],
          [
           176650,
           "1734-035.F10. Agreement.pdf",
           "F"
          ],
          [
           98866,
           "File 3701 SW 03.TIF",
           "F"
          ],
          [
           307212,
           "3000-139 Brief Form Contract.pdf",
           "F"
          ],
          [
           536468,
           "006 File 6301 C 103.TIF",
           "F"
          ],
          [
           367803,
           "3701.F5.heavy duty man hole frames casting field specification drawings.pdf",
           "F"
          ],
          [
           25250,
           "07 1500-027 Info ATB.docx",
           "F"
          ],
          [
           943654,
           "Santa Cruz_7219_Mtham R 2019_Tier 1_R+C_20250128.pdf",
           "F"
          ],
          [
           883626,
           "6300-011 Bid Summary w Alts.xls",
           "F"
          ],
          [
           984209,
           "RetainingWall_Calculations.pdf",
           "F"
          ],
          [
           613050,
           "E1 - TAPS.pdf",
           "F"
          ],
          [
           990674,
           "1311-012.F7.AlamedaRoofing_BidForm.pdf",
           "F"
          ],
          [
           41194,
           "File 4933 C1.34.pdf",
           "F"
          ],
          [
           883656,
           "Please_DocuSign_VC1_Permission_to_Bid_Music_.pdf",
           "F"
          ],
          [
           329253,
           "File 3124 S 101.TIF",
           "F"
          ],
          [
           329215,
           "File 3124 E 001.TIF",
           "F"
          ],
          [
           712445,
           "3701.F1.7.OaksCollege.Correspondance2.pdf",
           "F"
          ],
          [
           883609,
           "3117 Drawings - Recital Hall (1).pdf",
           "F"
          ],
          [
           1007835,
           "BidSummary.pdf",
           "F"
          ],
          [
           875265,
           "Santa Cruz Appeal2.pdf",
           "F"
          ],
          [
           1030423,
           "Pre-Bid_Conference.pdf",
           "F"
          ],
          [
           875262,
           "Notification to Westbay of Receipt of Protest.doc",
           "F"
          ],
          [
           939992,
           "Bid Bond Return Letter 1.docx",
           "F"
          ],
          [
           115795,
           "LogText.rpt",
           "F"
          ],
          [
           580511,
           "Monterey Bay Contract.pdf",
           "F"
          ],
          [
           963102,
           "Bid Summary 3.15.01.pdf",
           "F"
          ],
          [
           720702,
           "8900-075.F8.Combined Executed Contract.pdf",
           "F"
          ],
          [
           593411,
           "File 9054-002.F6 Pre-Bid Family Student Housing.pdf",
           "F"
          ],
          [
           331752,
           "File 3205. F1. Remedial Work - 1979 - Bid C - Roof, Gutter & Downspout Repairs - Kresge College - Bidding Correspondence.pdf",
           "F"
          ],
          [
           720683,
           "6300-011.F8.Rebid Combined Executed Contract.pdf",
           "F"
          ],
          [
           744691,
           "Section 07920",
           "F"
          ],
          [
           115799,
           "Scenario0.vrs",
           "F"
          ],
          [
           741053,
           "2318-069B.F1.Non-Responsive Bid Letter to Hansen Building.pdf",
           "F"
          ],
          [
           940838,
           "prequalification_evaluation.docx",
           "F"
          ],
          [
           861050,
           "03-31-09 Devcon_Lalanne 2.pdf",
           "F"
          ],
          [
           536590,
           "File 6301 TE 102.TIF",
           "F"
          ],
          [
           885679,
           "LF_C08_BidBond_Rev1-2-96.doc",
           "F"
          ],
          [
           863820,
           "3124.F1.1.Requirements Memorandum 1.27.95.pdf",
           "F"
          ],
          [
           829340,
           "File 8884.F6 Pre Bid Meeting.pdf",
           "F"
          ],
          [
           329175,
           "File 3124 A 521.TIF",
           "F"
          ],
          [
           680245,
           "Quotation for Work in Lab Room 1.28.04.pdf",
           "F"
          ],
          [
           536677,
           "029 File 6301 S106A.TIF",
           "F"
          ],
          [
           885517,
           "p17compt.pdf",
           "F"
          ],
          [
           893886,
           "Central Electric Executed Contract 11.26.13.pdf",
           "F"
          ],
          [
           536395,
           "46 File 6301 A 427.TIF",
           "F"
          ],
          [
           883638,
           "Please_DocuSign_NTP_6300-011_Music_Center_Re.pdf",
           "F"
          ],
          [
           98865,
           "File 3701 SW 02.TIF",
           "F"
          ],
          [
           836344,
           "3124.F5.HVAC Specs.pdf",
           "F"
          ],
          [
           949825,
           "3048 F7 Phase 2.pdf",
           "F"
          ],
          [
           536738,
           "090 File 6301 A427.TIF",
           "F"
          ],
          [
           469972,
           "4934 100CD PHASE 2 Plan Review Transmittal.pdf",
           "F"
          ],
          [
           329133,
           "File 3124 FP 04.TIF",
           "F"
          ],
          [
           951070,
           "UCSC.PhysicalPlant.Apt_610.pdf",
           "F"
          ],
          [
           357058,
           "File 3309 Notice to Proceed 12-14-95.pdf",
           "F"
          ],
          [
           111316,
           "Fume hood schedule rev 1-10-17.pdf",
           "F"
          ],
          [
           942370,
           "4000-020 REQUEST TO HAVE A PROJECT BID.pdf",
           "F"
          ],
          [
           329279,
           "File 3124 BA 003.TIF",
           "F"
          ],
          [
           862951,
           "3124.F1.1.Fire Alarm Transmittal 1.13.95.pdf",
           "F"
          ],
          [
           883629,
           "6300-011 Temporary Certificate of Occupancy 7-21-23.pdf",
           "F"
          ],
          [
           954745,
           "C8 AG,BG Brief Form Data wb.xls",
           "F"
          ],
          [
           536447,
           "File 6301 AV 102.TIF",
           "F"
          ],
          [
           742865,
           "8900-070.F1.rs=AGLTcCM50j1J5-HcHVrVtRaBJZsm6R7fjQ",
           "F"
          ],
          [
           247718,
           "7951S27-S2.7.PDF",
           "F"
          ],
          [
           175432,
           "1728.F6.Pre-Bid Conference.pdf",
           "F"
          ],
          [
           891697,
           "CoverPage_Rev1-2-96.doc",
           "F"
          ],
          [
           329181,
           "File 3124 A 601.TIF",
           "F"
          ],
          [
           911625,
           "4930.F7.1.4930.F7.1PrebidConfrence0001.pdf",
           "F"
          ],
          [
           354726,
           "3238-061.F2.3238-062023NC-004-R0 - Interior Finish Carpentry - ACAD - Stair Treads - Samples_UCSC_20222209.pdf",
           "F"
          ],
          [
           367842,
           "3701.F5. Structural As-Builts_Academic Only.pdf",
           "F"
          ],
          [
           744862,
           "Sloan Urinal WEUS_10001001_013.pdf",
           "F"
          ],
          [
           872957,
           "1736.F4.Plan Deposit Reciept Log.pdf",
           "F"
          ],
          [
           776374,
           "3101.F1.Branagh Inc Bid Proposal Documents Correspondence.pdf",
           "F"
          ],
          [
           717430,
           "9803A.F8.PM Auth Entry SFM016.pdf",
           "F"
          ],
          [
           272339,
           "Plan Reviewers Template ID 2700-126",
           "F"
          ],
          [
           536479,
           "File 6301 E 201.TIF",
           "F"
          ],
          [
           329212,
           "File 3124 C 220.TIF",
           "F"
          ],
          [
           329172,
           "File 3124 A 502.TIF",
           "F"
          ],
          [
           939994,
           "Documents Posted to PlanRoom.zip",
           "F"
          ],
          [
           876090,
           "Vani 12600-111A.doc",
           "F"
          ],
          [
           682623,
           "3612-008_F1.1.pdf",
           "F"
          ],
          [
           177782,
           "File 1800-174 Copy of 1800-174 McHenry Plan check Document- - Copy.xls",
           "F"
          ],
          [
           883637,
           "Please_DocuSign_6300-011_Temporary_Certifica.pdf",
           "F"
          ],
          [
           536367,
           "18 File 6301 A 301.TIF",
           "F"
          ],
          [
           25867,
           "File 1503. F7. bidresults.pdf",
           "F"
          ],
          [
           238877,
           "Attach_A_GL_WC.pdf",
           "F"
          ],
          [
           536296,
           "6301.F5.Blueprint Batch #18, Sheet #83.pdf",
           "F"
          ],
          [
           329126,
           "File 3124 FA 14.TIF",
           "F"
          ],
          [
           339491,
           "Kresge 45% CD Set_Landscape_109 (SHOWING TREE'S NUMBERED FOR REMOVAL).pdf",
           "F"
          ],
          [
           690265,
           "Supplementary Structural Calculations for Peer Review Comments_02.pdf",
           "F"
          ],
          [
           861036,
           "03-09-09 UCOP_Montan 1.pdf",
           "F"
          ],
          [
           354603,
           "30A_lf_self_certification.pdf",
           "F"
          ],
          [
           870768,
           "RFI PRE044.pdf",
           "F"
          ],
          [
           734059,
           "Contractor-form-2023.pdf",
           "F"
          ],
          [
           361437,
           "File 3503 F1.4 Notice of Contractor Selection to Physical Planning Staff 08.07.92.pdf",
           "F"
          ],
          [
           536672,
           "024 File 6301 S101.TIF",
           "F"
          ],
          [
           367848,
           "File 3701. VT227. Design Brownlines - Site Plan.pdf",
           "F"
          ],
          [
           329209,
           "File 3124 C 121.TIF",
           "F"
          ],
          [
           758166,
           "1600-234.F8.Contract Summary.pdf",
           "F"
          ],
          [
           875659,
           "Sub Lists.pdf",
           "F"
          ],
          [
           875112,
           "6301.F6.Pre Bid Conference Feb 24 1994.pdf",
           "F"
          ],
          [
           474412,
           "5201.F3.Mechanical.pdf",
           "F"
          ],
          [
           361182,
           "File 3502 F4 Plan Deposit Receipt No. 18193 and 18200.pdf",
           "F"
          ],
          [
           536809,
           "161 File 6301 M16.TIF",
           "F"
          ],
          [
           964736,
           "McH FA Rebid Letter to LSE f4.doc",
           "F"
          ],
          [
           329221,
           "File 3124 E 201.TIF",
           "F"
          ],
          [
           876043,
           "Questionnaire_Log 2354.doc",
           "F"
          ],
          [
           682223,
           "3199-016_f8.pdf",
           "F"
          ],
          [
           943018,
           "Permission to Solicit 8880-002A Memo.pdf",
           "F"
          ],
          [
           962465,
           "10641 Escrow Agreement in Lieu of Retention (Ex. B).pdf",
           "F"
          ],
          [
           358200,
           "09510.DOC",
           "F"
          ],
          [
           681420,
           "2318-022_f1.1.pdf",
           "F"
          ],
          [
           329139,
           "File 3124 A 003.TIF",
           "F"
          ],
          [
           272543,
           "File 2700-128.F4 Advertisement.pdf",
           "F"
          ],
          [
           872278,
           "Executed Escrow Agreement.pdf",
           "F"
          ],
          [
           2367,
           "File 1442 Addendum No.2 - 06-13-14_1.docx",
           "F"
          ],
          [
           501255,
           "File 5510-011 Brief Form Contract.pdf",
           "F"
          ],
          [
           145697,
           "santa-cruz_7726_opers-fitnes.pdf",
           "F"
          ],
          [
           75244,
           "008 File 10010 P2.5.TIF",
           "F"
          ],
          [
           536297,
           "6301.F5.Blueprint Batch #18, Sheet #84.pdf",
           "F"
          ],
          [
           536681,
           "033 File 6301 S109.TIF",
           "F"
          ],
          [
           607686,
           "File 9097J 100DD Plan Review Transmittal.pdf",
           "F"
          ],
          [
           917488,
           "A+A.doc",
           "F"
          ],
          [
           962785,
           "Bid Summary 12.21.99.pdf",
           "F"
          ],
          [
           98848,
           "File 3701 M 11.TIF",
           "F"
          ],
          [
           963436,
           "Bid Form 1.31.06.pdf",
           "F"
          ],
          [
           969879,
           "03 1400-093 Request for Bid.docx",
           "F"
          ],
          [
           536521,
           "File 6301 M 004.TIF",
           "F"
          ],
          [
           238798,
           "CM Level 2 Interview Evaluation Form Swinerton.docx",
           "F"
          ],
          [
           744864,
           "Toto CST744EL.pdf",
           "F"
          ],
          [
           789039,
           "File 4931-005 NOAA sewer system designs.pdf",
           "F"
          ],
          [
           331879,
           "File 3209 F8 Kresge College Housing Addition Phase 2.pdf",
           "F"
          ],
          [
           681687,
           "2600-109_f7.pdf",
           "F"
          ],
          [
           536250,
           "6300-009B Contract.pdf",
           "F"
          ],
          [
           12874,
           "1302-025.F6.Pre-Bid Conference - Job Walk Agenda .docx",
           "F"
          ],
          [
           311406,
           "2019-09-20 - Porter Struct Calculations.pdf",
           "F"
          ],
          [
           367796,
           "3701.F4.oaks proposal schedule of charges.pdf",
           "F"
          ],
          [
           969644,
           "Door walk thru - notes f4.xls",
           "F"
          ],
          [
           13181,
           "File 1302-028.F8. Notice to Proceed.pdf",
           "F"
          ],
          [
           705816,
           "2700-111.F7.1.Notify Gregory Electric of Protest.doc",
           "F"
          ],
          [
           546488,
           "File 6630 Bid Protest 5-25-99.pdf",
           "F"
          ],
          [
           939955,
           "VC #1.doc",
           "F"
          ],
          [
           870747,
           "RFI PRE023.pdf",
           "F"
          ],
          [
           875828,
           "Bid Protest Docs.pdf",
           "F"
          ],
          [
           329266,
           "File 3124 S 304.TIF",
           "F"
          ],
          [
           607688,
           "Plan Reviewers Template 9097J.xls",
           "F"
          ],
          [
           364961,
           "File 3619 Title 24.pdf",
           "F"
          ],
          [
           668466,
           "1700-167.F8.Inspector Assignment (PP&C) Stevenson Storm Drain Repair.xls",
           "F"
          ],
          [
           668560,
           "1700-167.G1.rs=AGLTcCPrucjA5mXkkcMlEZd_L3MCPUpulQ",
           "F"
          ],
          [
           536497,
           "File 6301 FA 102.TIF",
           "F"
          ],
          [
           705851,
           "6203.F7.1.PSB FIFS Lab Remodel Bid Protest 16Dec08-1.pdf",
           "F"
          ],
          [
           681665,
           "2600-099_f1.1.pdf",
           "F"
          ],
          [
           862793,
           "File 3701. F8. Contract Documents-College 7 (Oakes)-Book 2 of 2-August 1974.pdf",
           "F"
          ],
          [
           329310,
           "File 3124 BC 111.TIF",
           "F"
          ],
          [
           536439,
           "77 File 6301 A 814.TIF",
           "F"
          ],
          [
           98892,
           "File 3701 S 21.TIF",
           "F"
          ],
          [
           218156,
           "2113.F8.Notice to Proceed.pdf",
           "F"
          ],
          [
           536854,
           "206 File 6301 AV202.TIF",
           "F"
          ],
          [
           17168,
           "File 1326 100SD Comments.xls",
           "F"
          ],
          [
           612981,
           "EH&S EMF study review.pdf",
           "F"
          ],
          [
           75101,
           "10000-241.F3 UCSC MME 90 CD Structural Calculations.pdf",
           "F"
          ],
          [
           942295,
           "Permission to Solicit 3608-035 REBID Memo.pdf",
           "F"
          ],
          [
           536692,
           "044 File 6301 S402.TIF",
           "F"
          ],
          [
           145789,
           "Santa Cruz_7762_Crsn Drm CG_Form 1_R+C_20200222.pdf",
           "F"
          ],
          [
           115775,
           "SC.RPT",
           "F"
          ],
          [
           712393,
           "5900-016.F7.Bid Sum.xls",
           "F"
          ],
          [
           587576,
           "File 8908 Information Kiosk- Bids 1-5-68.pdf",
           "F"
          ],
          [
           2358,
           "Pre-Bid Conference Sign In 1443.doc",
           "F"
          ],
          [
           887020,
           "Jordan Gulch Sewer Bid Protest Decision FINAL.pdf",
           "F"
          ],
          [
           732456,
           "6600-038.F1.VC1 Permission to Solicit Memo.pdf",
           "F"
          ],
          [
           939839,
           "UC ltr to Consolidated_notice of bid protest with backup.pdf",
           "F"
          ],
          [
           361187,
           "File 3502 F4 Plan Deposit Receipt No. 18197.pdf",
           "F"
          ],
          [
           733158,
           "11021.F7.UCSC Hydrant Installation Summary Table 8-4-21.docx",
           "F"
          ],
          [
           111300,
           "Paul Chichanowicz Transmittal 8.27.14.pdf",
           "F"
          ],
          [
           744800,
           "Agenda_open items090110.doc",
           "F"
          ],
          [
           329170,
           "File 3124 A 442.TIF",
           "F"
          ],
          [
           86191,
           "DPR Bid Package Certifications V2.pdf",
           "F"
          ],
          [
           180477,
           "File 1810 PP&C Transmittal of Independent Seismic Review for  90CD to E.Reis.pdf",
           "F"
          ],
          [
           797,
           "00 1400-093 Contractor Call Sheet.xlsx",
           "F"
          ],
          [
           990730,
           "Brief Form Contract.pdf",
           "F"
          ],
          [
           784022,
           "4900-027.F7.Bid Sum.xls",
           "F"
          ],
          [
           943925,
           "Campus Response to CNW Construction re Protest 1700-186.pdf",
           "F"
          ],
          [
           536776,
           "128 File 6301 A812.TIF",
           "F"
          ],
          [
           969713,
           "Oakes Tile Bid ws f7.xls",
           "F"
          ],
          [
           940847,
           "1326 50CD Comments Rev1.xlsx",
           "F"
          ],
          [
           98881,
           "File 3701 S 10.TIF",
           "F"
          ],
          [
           536605,
           "Bed Frame.dwg",
           "F"
          ],
          [
           718888,
           "3701.F7.1.OaksCollege.Correspondance1.pdf",
           "F"
          ],
          [
           887405,
           "BidSum 10010.xls",
           "F"
          ],
          [
           536449,
           "File 6301 AV 202.TIF",
           "F"
          ],
          [
           849172,
           "00 - Bid Invitation Letter & Instructions to Bidders.pdf",
           "F"
          ],
          [
           536348,
           "File 6301 Full Size Quick Print.xds",
           "F"
          ],
          [
           875834,
           "Cen-Con protest letter.pdf",
           "F"
          ],
          [
           329161,
           "File 3124 A 423.TIF",
           "F"
          ],
          [
           115812,
           "10637-002 FM Approval Stamp (1).pdf",
           "F"
          ],
          [
           329289,
           "File 3124 BA 303.TIF",
           "F"
          ],
          [
           239013,
           "Transmittal_-_00141.pdf",
           "F"
          ],
          [
           329319,
           "File 3124 BG 001.TIF",
           "F"
          ],
          [
           381609,
           "RFI_CDP_0004_00_Energy Model - IEI Response (2).pdf",
           "F"
          ],
          [
           143219,
           "20160104 100% Calc Submittal.pdf",
           "F"
          ],
          [
           536724,
           "076 File 6301 A324.TIF",
           "F"
          ],
          [
           612983,
           "Plan review comments with status 2-11-15.xlsx",
           "F"
          ],
          [
           871258,
           "UCSC MBEST Phase II LImited Geotechnical Evaluation Report RFS.pdf",
           "F"
          ],
          [
           41166,
           "4933 50CD EH comments.xls",
           "F"
          ],
          [
           246171,
           "File 2611.G15 Change Order No. 02 Squib 11.16.78.pdf",
           "F"
          ],
          [
           383,
           "File 1400-071.F7. Brief Form.pdf",
           "F"
          ],
          [
           943221,
           "3D Datacom Bid Protest for UCSC 9805B.pdf",
           "F"
          ],
          [
           331931,
           "File 3209.F5. X01 Proposed Deck.pdf",
           "F"
          ],
          [
           537553,
           "6301.F5 - F.S Plan (1).pdf",
           "F"
          ],
          [
           239015,
           "Attachment_C_-_BP_07_Sheetmetal_08.21.pdf",
           "F"
          ],
          [
           844047,
           "6302.F1.3.pdf",
           "F"
          ],
          [
           98753,
           "File 3701 A 10.TIF",
           "F"
          ],
          [
           98875,
           "File 3701 S 04.TIF",
           "F"
          ],
          [
           329207,
           "File 3124 C 001.TIF",
           "F"
          ],
          [
           893588,
           "140714_Phase 2 Conformed Set_Specifications.pdf",
           "F"
          ],
          [
           943062,
           "Permission to Solicit 9098C Memo .pdf",
           "F"
          ],
          [
           145657,
           "santa-cruz_7162_crown-library-study.pdf",
           "F"
          ],
          [
           873064,
           "1326A.F4.Plan Deposit Receipt Log 1.pdf",
           "F"
          ],
          [
           712874,
           "3614-026.F7.Alliance Roofing Bid Form.pdf",
           "F"
          ],
          [
           682984,
           "4800-001_f1.1.pdf",
           "F"
          ],
          [
           745353,
           "BE FA Spec Cover f1.doc",
           "F"
          ],
          [
           478241,
           "5300-048A.F7.BF MASTER RQST & BID FRM 03.doc",
           "F"
          ],
          [
           536655,
           "007 File 6301 C99.TIF",
           "F"
          ],
          [
           886812,
           "9077 FINAL Ad Prequalification.pdf",
           "F"
          ],
          [
           888889,
           "Sublists.pdf",
           "F"
          ],
          [
           236570,
           "170303_Structural Peer Review revised calculation.pdf",
           "F"
          ],
          [
           536794,
           "146 File 6301 M1.TIF",
           "F"
          ],
          [
           180505,
           "90% CD Library Staff Rreview.xls",
           "F"
          ],
          [
           868441,
           "6700-003.F7.09a_Attachment A (1).doc",
           "F"
          ],
          [
           970441,
           "5303-011_f1.7(2).pdf",
           "F"
          ],
          [
           503388,
           "06 04 21 DD estimate F and K comments.pdf",
           "F"
          ],
          [
           145858,
           "Santa Cruz_7412_Oak B16 B17.pdf",
           "F"
          ],
          [
           912051,
           "C8 Deck Flashing Blgd 1 & 2.pdf",
           "F"
          ],
          [
           682636,
           "3699-030_f1.1.pdf",
           "F"
          ],
          [
           579250,
           "File 9802.F4 & 8500-029.F4 Ad Rev 2016.03.22 per Add 1.pdf",
           "F"
          ],
          [
           887016,
           "File 9086. F7.1 . Anderson Pacific Bid Protest 6.22.09.pdf",
           "F"
          ],
          [
           684651,
           "Additional Fee Request f1.1.pdf",
           "F"
          ],
          [
           873021,
           "3618.F4.Plan Deposit Reciept Log.pdf",
           "F"
          ],
          [
           230073,
           "File 2300-096. F7.1. Hill e-mail re Vayas License.pdf",
           "F"
          ],
          [
           536441,
           "79 File 6301 A 825.TIF",
           "F"
          ],
          [
           911820,
           "Letter to Mike Hinson Construction 5-8-18.pdf",
           "F"
          ],
          [
           536205,
           "2016 11 16 6300-07C Joint Sealant Spec 07 92 00.pdf",
           "F"
          ],
          [
           230070,
           "File 2300-096. F7. Montano Bid Form.pdf",
           "F"
          ],
          [
           921943,
           "6201.F7.Bid Form McCarthy 4.17.01.pdf",
           "F"
          ],
          [
           536789,
           "141 File 6301 TR105.TIF",
           "F"
          ],
          [
           115793,
           "LA.RPT",
           "F"
          ],
          [
           536330,
           "6301.F5.Blueprint Batch (#6) - F.S Plan, 2nd Floor & Low Roof Framing (2 of 6).pdf",
           "F"
          ],
          [
           536171,
           "6300-004 95CD Drawings.pdf",
           "F"
          ],
          [
           679690,
           "10000-075_f4.pdf",
           "F"
          ],
          [
           861062,
           "04-13-09 Robinson 2.pdf",
           "F"
          ],
          [
           778549,
           "4203.F7.4203. Questionnaire #2.pdf",
           "F"
          ],
          [
           180433,
           "File 1810 Devcon 90CD Constructability Analysis.pdf",
           "F"
          ],
          [
           536358,
           "09 File 6301 A 105A.TIF",
           "F"
          ],
          [
           536821,
           "173 File 6301 P104.TIF",
           "F"
          ],
          [
           536465,
           "003 File 6301 C 101.TIF",
           "F"
          ],
          [
           97846,
           "10085-002 Bid Results.pdf",
           "F"
          ],
          [
           941735,
           "6300-014 MUSIC CENTER BP2 90_CD DWGS 25-0130_comments.pdf",
           "F"
          ],
          [
           536302,
           "6301.F5.Blueprint Batch (#6) - F.S Plan (4 of 6).pdf",
           "F"
          ],
          [
           145749,
           "Santa Cruz_7193_Merrill College House D.pdf",
           "F"
          ],
          [
           24305,
           "1200-068 REQUEST TO HAVE A PROJECT BID.pdf",
           "F"
          ],
          [
           819177,
           "File 7401-008 Pre-Bid Walkthrough Agenda.pdf",
           "F"
          ],
          [
           329213,
           "File 3124 C 230.TIF",
           "F"
          ],
          [
           682333,
           "3201-094_f1.1.pdf",
           "F"
          ],
          [
           876424,
           "File 2743. F7.1. Letter to Daniels Otto House notify of protest.pdf",
           "F"
          ],
          [
           329286,
           "File 3124 BA 203.TIF",
           "F"
          ],
          [
           874121,
           "6005-001 Bid Results.pdf",
           "F"
          ],
          [
           536842,
           "194 File 6301 E500.TIF",
           "F"
          ],
          [
           703018,
           "2510.F6.Meeting Logs.pdf",
           "F"
          ],
          [
           861063,
           "04-13-09 Robinson 3.pdf",
           "F"
          ],
          [
           742126,
           "8300-025.F8.13 8300 025 Div 1.doc",
           "F"
          ],
          [
           943641,
           "Santa Cruz_7123_CL Morison_Tier 1_2019_06_30.pdf",
           "F"
          ],
          [
           340070,
           "Prequal for USCS Kresge - Draft tmg.pdf",
           "F"
          ],
          [
           941734,
           "6300-014 MUSIC CENTER BP 2-6 90_CD SPECS 25-0130_comments.pdf",
           "F"
          ],
          [
           329385,
           "File 3124 Contract Document Volume I.pdf",
           "F"
          ],
          [
           163076,
           "15172cowlbsmt.pdf",
           "F"
          ],
          [
           145831,
           "Santa Cruz_7088_MBEST HQ C_Form 1.pdf",
           "F"
          ],
          [
           175698,
           "1732.F6. Pre-Bid Confernece.pdf",
           "F"
          ],
          [
           536456,
           "File 6301 CCS 3.TIF",
           "F"
          ],
          [
           354623,
           "3238-002 FDCD 0258_001.pdf",
           "F"
          ],
          [
           145923,
           "Santa Cruz_7053_L CT APT 724_Form 1_R+C_20201028.pdf",
           "F"
          ],
          [
           536514,
           "File 6301 L 01.TIF",
           "F"
          ],
          [
           942302,
           "Campus Response to Protest 3608-035 Rebid.pdf",
           "F"
          ],
          [
           892883,
           "Addendum C Bid Document Package.pdf",
           "F"
          ],
          [
           311889,
           "04  Advertisment for Bids tmg.pdf",
           "F"
          ],
          [
           536310,
           "6301.F5.Blueprint Batch #18, Sheet #76.pdf",
           "F"
          ],
          [
           331902,
           "File 3209 C 01 COPY.TIF",
           "F"
          ],
          [
           180395,
           "File 1810 Pre-Bid Conference 031105.pdf",
           "F"
          ],
          [
           145730,
           "Santa Cruz_7105_Cook House_Form 1.pdf",
           "F"
          ],
          [
           329269,
           "File 3124 T 101.TIF",
           "F"
          ],
          [
           331903,
           "File 3209 C 01.TIF",
           "F"
          ],
          [
           368514,
           "3705.F4 Bid Advertisement.pdf",
           "F"
          ],
          [
           734039,
           "04-lf_ad_for_bids+.docx.pdf",
           "F"
          ],
          [
           845931,
           "VC2 Memo.doc",
           "F"
          ],
          [
           667811,
           "1700-133B.F8.NTP 1700-133B.pdf",
           "F"
          ],
          [
           862294,
           "1639.F8.Bid Package Specifications Vol. 2.pdf",
           "F"
          ],
          [
           536803,
           "155 File 6301 M10.TIF",
           "F"
          ],
          [
           587875,
           "8920.F8.Contract.pdf",
           "F"
          ],
          [
           536312,
           "6301.F5.Blueprint Batch #18, Sheet #78.pdf",
           "F"
          ],
          [
           490552,
           "Evaluation of College 9&10 Drainage Issues.pdf",
           "F"
          ],
          [
           892637,
           "Cowell Building C2 DT Locations Plan.pdf",
           "F"
          ],
          [
           682245,
           "3200-004_f7.pdf",
           "F"
          ],
          [
           942343,
           "Exhibit 4 - Noland Builders Bid Form.pdf",
           "F"
          ],
          [
           876423,
           "File 2743. F7.1. Hinson Protest Letter.pdf",
           "F"
          ],
          [
           874051,
           "5501. F8. Contract Docuements .pdf",
           "F"
          ],
          [
           536424,
           "62 File 6301 A 704.TIF",
           "F"
          ],
          [
           332309,
           "File 3210 F8 Kresge College Annex Faculty Office Buildings August 1989 (Stick File).pdf",
           "F"
          ],
          [
           802,
           "1400-093.F6.QA from Pre-Bid Conf - Job Walk.docx",
           "F"
          ],
          [
           547483,
           "6644.F1.Projects to be Bid - Update.pdf",
           "F"
          ],
          [
           145729,
           "Santa Cruz_7098_Interdis Sci_Form 1 R+C Report_20200305.pdf",
           "F"
          ],
          [
           742265,
           "Bid - Hahn Bridge rebuild John Steward.pdf",
           "F"
          ],
          [
           917502,
           "ProWest-jb.doc",
           "F"
          ],
          [
           712440,
           "3701.F1.6.OaksCollege.Correspondance1.pdf",
           "F"
          ],
          [
           329182,
           "File 3124 A 602.TIF",
           "F"
          ],
          [
           854735,
           "100% CD PP&C Electrical Comments.xls",
           "F"
          ],
          [
           536647,
           "6301.F5. Record Set Structural Sheets.pdf",
           "F"
          ],
          [
           536445,
           "83 File 6301 A 840.TIF",
           "F"
          ],
          [
           239007,
           "17-0801_Addendum_4_Narrative.pdf",
           "F"
          ],
          [
           98863,
           "File 3701 M 28.TIF",
           "F"
          ],
          [
           246540,
           "Complete Contract.pdf",
           "F"
          ],
          [
           536581,
           "File 6301 S 205.TIF",
           "F"
          ],
          [
           98879,
           "File 3701 S 08.TIF",
           "F"
          ],
          [
           537575,
           "6301.F5 - X Section Details (5).pdf",
           "F"
          ],
          [
           970559,
           "Scope of Work 11.2.00.pdf",
           "F"
          ],
          [
           536512,
           "File 6301 G 104.TIF",
           "F"
          ],
          [
           338492,
           "Bid Package 1 09-10-19 Final.pdf",
           "F"
          ],
          [
           329226,
           "File 3124 G 01.TIF",
           "F"
          ],
          [
           98822,
           "File 3701 E AB 01.TIF",
           "F"
          ],
          [
           329235,
           "File 3124 M  100.TIF",
           "F"
          ],
          [
           876036,
           "Addendum 1.pdf",
           "F"
          ],
          [
           876088,
           "SHORT ADVERTISEMENT.pdf",
           "F"
          ]
         ],
         "hovertemplate": "tag=%{customdata[2]}<br>umap_x=%{x}<br>umap_y=%{y}<br>file_id=%{customdata[0]}<br>filename=%{customdata[1]}<extra></extra>",
         "legendgroup": "F",
         "marker": {
          "color": "#565656",
          "line": {
           "width": 0
          },
          "opacity": 0.75,
          "size": 7,
          "symbol": "circle"
         },
         "mode": "markers",
         "name": "F",
         "showlegend": true,
         "type": "scattergl",
         "x": {
          "bdata": "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",
          "dtype": "f4"
         },
         "xaxis": "x",
         "y": {
          "bdata": "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",
          "dtype": "f4"
         },
         "yaxis": "y"
        },
        {
         "customdata": [
          [
           805161,
           "File 6801 Re-Comments on Demo Plan- CEQA.pdf",
           "D"
          ],
          [
           282801,
           "CSHC Traffic-Kelly approved",
           "D"
          ],
          [
           272521,
           "2700-128 BSOE 216 Lab signed EIC.pdf",
           "D"
          ],
          [
           670061,
           "5303-036.D1.Skyline Engineering Asbestos and Lead Survey Report.pdf",
           "D"
          ],
          [
           913633,
           "Project Description Draft with Review Comments.pdf",
           "D"
          ],
          [
           13536,
           "EIC Signed.pdf",
           "D"
          ],
          [
           13416,
           "File 1306-015.D2 EIC Signed.pdf",
           "D"
          ],
          [
           12781,
           "File 1302-025.D2 EIC Signed.pdf",
           "D"
          ],
          [
           338955,
           "4.1 Aesthetics.pdf",
           "D"
          ],
          [
           179860,
           "Preconstruction Wildlife Surverys for SF Dusky-footed Woodrats and Nesting Birds.pdf",
           "D"
          ],
          [
           829664,
           "File 9065 D1 Request for Determintation of U.S. ACOE Jurisdiction 06.15.05.pdf",
           "D"
          ],
          [
           3249,
           "DPP_1.1-2.5.pdf",
           "D"
          ],
          [
           468657,
           "CEQA schedule- 22Aug DRAFT-ak.xlsx",
           "D"
          ],
          [
           965212,
           "Herbert Inv 1678-20150210_130808.pdf",
           "D"
          ],
          [
           785132,
           "MSC Lighting Program.pdf",
           "D"
          ],
          [
           369645,
           "3727.D2.Oakes College - Humanities Graduate Student Annex - Original Construction.pdf",
           "D"
          ],
          [
           832980,
           "Thin Films NOD.doc",
           "D"
          ],
          [
           489860,
           "Memorandum and Correspondence.pdf",
           "D"
          ],
          [
           478476,
           "5300-060-Rachel Carson-Small Project CEQA Screening Checklist.rev2.xls",
           "D"
          ],
          [
           854463,
           "1800.D3.Mchenry Library Project Final EIR 2004.pdf",
           "D"
          ],
          [
           214874,
           "UCSC_Cogen_Tree_Precon_Survey_2012.doc",
           "D"
          ],
          [
           702896,
           "2513.D1.Earthquake Repair FEMA Memo.pdf",
           "D"
          ],
          [
           8467,
           "1499-038 Thimann Air Handler signed EIC.pdf",
           "D"
          ],
          [
           76483,
           "NOE.pdf",
           "D"
          ],
          [
           580695,
           "File 8531-005.D3 Evaluation of Habitat for California Red-Legged Frog.pdf",
           "D"
          ],
          [
           338960,
           "4.14 Public Services.pdf",
           "D"
          ],
          [
           381343,
           "4200.D2.FamilyHousingWestDEIRFinalDraft.pdf",
           "D"
          ],
          [
           826816,
           "NOC",
           "D"
          ],
          [
           913694,
           "4.01-03.pdf",
           "D"
          ],
          [
           143128,
           "12058.D1.BigCreekImprovmentsCorrespondenceD1.pdf",
           "D"
          ],
          [
           135235,
           "11405.D4.1999-2000 Mitigation Monitoring Report.pdf",
           "D"
          ],
          [
           875738,
           "4.6 Geology and Soils.pdf",
           "D"
          ],
          [
           965243,
           "Signed NOE.pdf",
           "D"
          ],
          [
           742253,
           "Small Project CEQA Screening Checklist rev2, 8600-002, Remove & Replace Footbridge at Hahn.xls",
           "D"
          ],
          [
           965201,
           "1326.D2.HayBarnEICD2.pdf",
           "D"
          ],
          [
           72931,
           "0101-01.D.Bulk Asbestos Analysis.pdf",
           "D"
          ],
          [
           587070,
           "8900-071.D3.WO00403983 Small Project CEQA Screening Checklist rev2.pdf",
           "D"
          ],
          [
           23565,
           "EIC Signed.pdf",
           "D"
          ],
          [
           965198,
           "1326.D1.HayBarnTreatmentsOfHistoricPropertyD10001.pdf",
           "D"
          ],
          [
           781877,
           "EIC Signed.pdf",
           "D"
          ],
          [
           612966,
           "File 9200-015 signed EIC.pdf",
           "D"
          ],
          [
           282810,
           "RegionalLocationMap(Fig3-2).pdf",
           "D"
          ],
          [
           74466,
           "10000-189 CHES Emergency storage containers signed EIC.pdf",
           "D"
          ],
          [
           790873,
           "Additional Noise Analysis 5-23-14.pdf",
           "D"
          ],
          [
           805163,
           "CEQA-drainageAreas-1.pdf",
           "D"
          ],
          [
           359111,
           "3405.D1.Department of Parks and Recreation Correspondence.pdf",
           "D"
          ],
          [
           836406,
           "3124.D1. Earth and Marine Labs Environmental Review.pdf",
           "D"
          ],
          [
           608606,
           "File 9098 TIU Phase B EIC UCOP signed.pdf",
           "D"
          ],
          [
           492221,
           "File 5507 D4 Project Specific LRDP Measures Checklist 02.28.90.pdf",
           "D"
          ],
          [
           136499,
           "2005deir-iii-2.0-infrastructure.pdf",
           "D"
          ],
          [
           361382,
           "File 3503 D1 Transmittal for S. Raas 12.04.89.pdf",
           "D"
          ],
          [
           468661,
           "UC Santa Cruz Mail - mammal pool schedule.pdf",
           "D"
          ],
          [
           279553,
           "EIC Signed.pdf",
           "D"
          ],
          [
           227346,
           "EIC Signed.pdf",
           "D"
          ],
          [
           965240,
           "File 1326 NOE.pdf",
           "D"
          ],
          [
           492211,
           "File 5507 D1 EIC Preparation and Signage 05.21.97.pdf",
           "D"
          ],
          [
           689548,
           "10099-017.D1.Campus Natural Reserve Drawing.pdf",
           "D"
          ],
          [
           829661,
           "File 9065 D1 Configurations, Needs, & Interactions w Campus Planning 06.11.04.pdf",
           "D"
          ],
          [
           337894,
           "Figure 18 Outdoor Amenities.pdf",
           "D"
          ],
          [
           135227,
           "11405.D3.LRDP 1987 Drafts.pdf",
           "D"
          ],
          [
           474284,
           "5201.D1.Transmittal.pdf",
           "D"
          ],
          [
           338962,
           "4.16 Tribal Cultural Resources.pdf",
           "D"
          ],
          [
           585914,
           "EIC signed 1-25-11.pdf",
           "D"
          ],
          [
           73181,
           "File 10000-013 Environmental Impact Classification.pdf",
           "D"
          ],
          [
           282821,
           "County Counsel CSHC IS comment.pdf",
           "D"
          ],
          [
           361383,
           "Copy of CDFW check.pdf",
           "D"
          ],
          [
           179861,
           "Preliminary Stormwater Mgmnt Report.pdf",
           "D"
          ],
          [
           613490,
           "EIC Signed.pdf",
           "D"
          ],
          [
           338841,
           "3238.D2.DEIRFormD20001.pdf",
           "D"
          ],
          [
           913706,
           "4.04-05.pdf",
           "D"
          ],
          [
           826806,
           "5. Alternatives.doc",
           "D"
          ],
          [
           381339,
           "1-USSC_Hearing2.pdf",
           "D"
          ],
          [
           338967,
           "4.4 Biological Resources.pdf",
           "D"
          ],
          [
           780637,
           "CEQA Screening Form.pdf",
           "D"
          ],
          [
           913787,
           "Notice of Determination.pdf",
           "D"
          ],
          [
           830656,
           "9068 IIP Phase 1-Water.complete.xls",
           "D"
          ],
          [
           338889,
           "Kresge_FEIR_2_PD_1.24.19.docx",
           "D"
          ],
          [
           805167,
           "DEIR cover.doc",
           "D"
          ],
          [
           910576,
           "4925.D1.4925.D1NoticeOfDeterminationAddendum.pdf",
           "D"
          ],
          [
           338888,
           "2 Project Description 4.pdf",
           "D"
          ],
          [
           913698,
           "4.01-07.pdf",
           "D"
          ],
          [
           179924,
           "Roosting Bats and Woodrat Pre-construction surveys correspondence.pdf",
           "D"
          ],
          [
           614938,
           "9802.D4.CommunicationD40001.pdf",
           "D"
          ],
          [
           337892,
           "Figure 17 Program.pdf",
           "D"
          ],
          [
           135914,
           "11407.D2.EIReport02.pdf",
           "D"
          ],
          [
           669364,
           "3111-019.D3.WO00400236 Small Project CEQA Screening Checklist rev2.xls",
           "D"
          ],
          [
           362875,
           "File 3600-008 EIC (revised) form.pdf",
           "D"
          ],
          [
           785131,
           "Lighting Plan.pdf",
           "D"
          ],
          [
           885477,
           "File 8946 NOE.pdf",
           "D"
          ],
          [
           338937,
           "Kresge Findings_final draft 2-15-19[3859].docx",
           "D"
          ],
          [
           363856,
           "3608-0035_Aquaculture_Lab_24x36.pdf",
           "D"
          ],
          [
           214856,
           "Cogen tree Map 7-24-2012.ai",
           "D"
          ],
          [
           613492,
           "EIC Signed.pdf",
           "D"
          ],
          [
           374860,
           "4003.D2.Sinsheimer Laboratories - Fume Exhaust Stacks.pdf",
           "D"
          ],
          [
           944740,
           "Findings Final.pdf",
           "D"
          ],
          [
           829670,
           "nesting bird results stormwater April 2010.pdf",
           "D"
          ],
          [
           214860,
           "File 2113 Email Annual Report 2014.pdf",
           "D"
          ],
          [
           492213,
           "File 5507 D1 Transmittal Capital Improvement Budget Data 05.21.97.pdf",
           "D"
          ],
          [
           703410,
           "9800-010.D1.2019 11 06 9800-010Tree Removal Image.pdf",
           "D"
          ],
          [
           790874,
           "Appendix G ISI Noise TechStudy - UCSC Marine Science Campus Final-revised.pdf",
           "D"
          ],
          [
           136529,
           "2009-10 Mit Mon Intro.pdf",
           "D"
          ],
          [
           381351,
           "UCSC Meeting.pdf CERT (1).pdf",
           "D"
          ],
          [
           272316,
           "File 2700-126 BME 287 Renovation signed EIC.pdf",
           "D"
          ],
          [
           588100,
           "8927.D4. Oakes College Service Road - Environmental Review Process - Mitigation Monitoring Program 1996.pdf",
           "D"
          ],
          [
           913666,
           "800Bibliography_DEIR.pdf",
           "D"
          ],
          [
           913756,
           "C_Ranch_View_Terrace.pdf",
           "D"
          ],
          [
           356618,
           "UC Santa Cruz Mail - Kerr Hall Office 317 Remodel - HazMat Records.pdf",
           "D"
          ],
          [
           381348,
           "4200.D2.UCSCSStudentHousingWestProjectParadoxHotelEIR0001.pdf",
           "D"
          ],
          [
           474289,
           "5201.D3.Topographical Map Draft.pdf",
           "D"
          ],
          [
           1027680,
           "SCIPP Assembly_Test Lab draft EIC.docx",
           "D"
          ],
          [
           111105,
           "signed NOD - Copy.pdf",
           "D"
          ],
          [
           368557,
           "File 3705-002 EIC.pdf",
           "D"
          ],
          [
           589979,
           "8951B.D1.31 11 00_CLEARING AND GRUBBING.pdf",
           "D"
          ],
          [
           574015,
           "7601-006 ERC Emerg Repairs signed EIC.pdf",
           "D"
          ],
          [
           741686,
           "4503-006.D3.4503-006 Small Project CEQA Screening Checklist rev2.xls",
           "D"
          ],
          [
           488308,
           "File 5510 D2.pdf",
           "D"
          ],
          [
           612283,
           "File 9098E.D2 EIC Signed.pdf",
           "D"
          ],
          [
           337709,
           "5M_Alternatives.pdf",
           "D"
          ],
          [
           503217,
           "NOP Digital Arts Facility.pdf",
           "D"
          ],
          [
           468649,
           "Mammal Pools NOD Dist-1.docx",
           "D"
          ],
          [
           805166,
           "CEQA_ExSD-Plan-2.pdf",
           "D"
          ],
          [
           832974,
           "File 10633 NOD.pdf",
           "D"
          ],
          [
           779254,
           "EIC Signed.pdf",
           "D"
          ],
          [
           790883,
           "Noise Levels.pdf",
           "D"
          ],
          [
           670030,
           "5300-017.A.HTH-UCSC Rachel Carson College Bats.pdf",
           "D"
          ],
          [
           489742,
           "File 5502.D4 Status Update Checklist 1-24-94.pdf",
           "D"
          ],
          [
           179874,
           "schematic design presentation boora.pdf",
           "D"
          ],
          [
           579693,
           "2019 02 06 Great Meadow Bike Path - Kickoff Agenda.pdf",
           "D"
          ],
          [
           214852,
           "Cogen IS Notice Availability.docx",
           "D"
          ],
          [
           613104,
           "File 9200-019 UCOP Signed EIC Form.pdf",
           "D"
          ],
          [
           575912,
           "East Field Fitness Center Turf Replacement EIC, signed 8-9-11.pdf",
           "D"
          ],
          [
           3248,
           "DPP Narrative R1.doc",
           "D"
          ],
          [
           1115,
           "1400-093A.D4.Analysis Request Form(COC).pdf",
           "D"
          ],
          [
           782903,
           "4900-014 Corrrespondence.tif",
           "D"
          ],
          [
           337708,
           "500 Turk EIR Alternatives.pdf",
           "D"
          ],
          [
           657109,
           "File FTO-1200-051 MBEST MCWD Wastewater Easement UCOP signed EIC.pdf",
           "D"
          ],
          [
           474296,
           "5201.D4.Soil Removal.pdf",
           "D"
          ],
          [
           511978,
           "File 5701-012.D1 Office Memo EIC(2).pdf",
           "D"
          ],
          [
           337724,
           "City of Santa Cruz comments for Kresge College Projet NOP (002).pdf",
           "D"
          ],
          [
           135234,
           "11405.D4.1998 Mitigation Monitoring Program Report.pdf",
           "D"
          ],
          [
           579732,
           "21.04.26 8500-033 Year 1 Grassland Seeding Monitoring Report.pdf",
           "D"
          ],
          [
           41047,
           "AppJ.AMBAG Consistency Determination for CLRDP.for web.pdf",
           "D"
          ],
          [
           834998,
           "File 4928 Memorandum - Analysis of revised project description for Oiled Seabird.pdf",
           "D"
          ],
          [
           616043,
           "File 9804.D2 EIC Forms.pdf",
           "D"
          ],
          [
           40989,
           "NEF signed EIC 9-7-10.pdf",
           "D"
          ],
          [
           588019,
           "Hagar Bike Lane Draft IS.pdf",
           "D"
          ],
          [
           338957,
           "4.11 Land Use and Planning.pdf",
           "D"
          ],
          [
           381341,
           "4200.D2.FamilyHousingWestConsultantSelection.pdf",
           "D"
          ],
          [
           782239,
           "EIC Signed.pdf",
           "D"
          ],
          [
           368772,
           "3715.D2 Environmental Impact Forms.pdf",
           "D"
          ],
          [
           588500,
           "File 8941 Environmental Impact Classification.pdf",
           "D"
          ],
          [
           477563,
           "UC Santa Cruz Mail - Filling out the CEQA screening assessment checklist.pdf",
           "D"
          ],
          [
           356617,
           "Kerr N008429_REP01.pdf",
           "D"
          ],
          [
           492209,
           "File 5507 D1 College 9 & 10 Temp Mod Hsg Unit EIC Forms 05.21.97.pdf",
           "D"
          ],
          [
           474297,
           "5201.D4.Summary.pdf",
           "D"
          ],
          [
           917383,
           "02a-sum-table-PSB",
           "D"
          ],
          [
           703400,
           "9800-010.D1.2019 11 13 9800-010 Tree Removal Memo - FINAL.pdf",
           "D"
          ],
          [
           917404,
           "10-rep-prep-PSB",
           "D"
          ],
          [
           226878,
           "2200-108.D3.WO00400012 Small Project CEQA Screening Checklist rev2.xls",
           "D"
          ],
          [
           135918,
           "11407.D1.EIRaddenum10001.pdf",
           "D"
          ],
          [
           657108,
           "File FTO-1200-050 MBEST HQ CSUMB lease signed EIC.pdf",
           "D"
          ],
          [
           338945,
           "Kresge Mit Details.xlsx",
           "D"
          ],
          [
           338846,
           "NOI Package Kresge  5.31.19.pdf",
           "D"
          ],
          [
           786603,
           "4922.D3 Publication of Negative Declaration and Addendum.pdf",
           "D"
          ],
          [
           870870,
           "10000-010.D2.Environmental Impact Assessment May26 94.pdf",
           "D"
          ],
          [
           85971,
           "EIC Signed.pdf",
           "D"
          ],
          [
           917402,
           "09-MitMon Matrix-PSB",
           "D"
          ],
          [
           865224,
           "4901.D1.Coastal Marine Station Utilities.pdf",
           "D"
          ],
          [
           781881,
           "File 4801-034.D1 800 Loop Paving Memo.pdf",
           "D"
          ],
          [
           917393,
           "04-08-off-campus 2005 mod",
           "D"
          ],
          [
           282764,
           "Findings CSHC-draft Rev1 ROSS REDLINE.doc",
           "D"
          ],
          [
           474281,
           "5201.D1.more EI Hearings.pdf",
           "D"
          ],
          [
           965206,
           "Herbert Lumber FSC info.pdf",
           "D"
          ],
          [
           478204,
           "5300-048.D4.MooreCreekDrainageRemediationProjectD4.pdf",
           "D"
          ],
          [
           703349,
           "9800-010.D4.Emergency Sewer Replacement - SPECIFICATIONS - Bid Set - Environmental Measures.pdf",
           "D"
          ],
          [
           780639,
           "Small Project CEQA Screening Checklist.rev2.xls",
           "D"
          ],
          [
           742417,
           "WO00409158 Small Project CEQA Screening Checklist rev2.pdf",
           "D"
          ],
          [
           913759,
           "F_Ranch_View_Terrace.pdf",
           "D"
          ],
          [
           135236,
           "11405.D4.2001 Annual Mitigation Monitoring Program Report.pdf",
           "D"
          ],
          [
           805165,
           "CEQA-ProposedStormCalcs-2.pdf",
           "D"
          ],
          [
           490396,
           "File 5504.D1 Prelimiary Findings; C9-10 Cogeneration Feasibility Study.pdf",
           "D"
          ],
          [
           975533,
           "1500-027.D.1500-027.D3.CEQA_Screening_Checklist.pdf",
           "D"
          ],
          [
           781884,
           "File 4801-034.D1 FSH Existing Site Plan.pdf",
           "D"
          ],
          [
           805174,
           "ECI Findings final.pdf",
           "D"
          ],
          [
           381332,
           "4200.D1.DeirCommentFamilyHousingWest0001.pdf",
           "D"
          ],
          [
           917363,
           "04-08-on-campus tablesOLD",
           "D"
          ],
          [
           580700,
           "File 8531-005.D3 Pre-Construction Notification - Nationwide Permit #27.pdf",
           "D"
          ],
          [
           136520,
           "2007-08 AMMR Table 2.pdf",
           "D"
          ],
          [
           586225,
           "Backup of McLaughlin #8900-048, Small Proj. Desc. Form 2011.rev-1.xlk",
           "D"
          ],
          [
           913699,
           "4.01-08.pdf",
           "D"
          ],
          [
           356778,
           "File 3304.2.D2-Alterations to Psych Lab # 415-Environmental Impact.pdf",
           "D"
          ],
          [
           338943,
           "Kresge Mit Details tmg.pdf",
           "D"
          ],
          [
           487656,
           "File 5404.D1 Build Schedule(5).pdf",
           "D"
          ],
          [
           1045200,
           "Barn H ADA path.eic.xls",
           "D"
          ],
          [
           544135,
           "File 6600-022 Verizon Mt Ham Fuel Cell Signed EIC.pdf",
           "D"
          ],
          [
           214863,
           "File 2113 Letter to RWQCB-Defer THP Monitoring 9-27-10.pdf",
           "D"
          ],
          [
           912508,
           "HYT Responses to 5305-015A 083120 RCC 100% CD Dwgs  w comments.pdf",
           "D"
          ],
          [
           965211,
           "FSC COC thread-final.pdf",
           "D"
          ],
          [
           338923,
           "ClassroomUnitAlternativeLectureHallSite.jpg",
           "D"
          ],
          [
           544134,
           "File 6600-022 Verizon Mt Ham fuel cell signed EIC (2).pdf",
           "D"
          ],
          [
           3473,
           "Ancient DNA signed EIC.pdf",
           "D"
          ],
          [
           790861,
           "mailing labels MSC EIR NOP.doc",
           "D"
          ],
          [
           788958,
           "File 4931-002 EIC Form Drainage Project.pdf",
           "D"
          ],
          [
           689497,
           "10070.D2.EIC Signed.pdf",
           "D"
          ],
          [
           785656,
           "YLRbeachfigure1 3.jpg",
           "D"
          ],
          [
           577356,
           "8347.D1.Physical Education Facilities 1987 Swimming Pool.pdf",
           "D"
          ],
          [
           790878,
           "CBB-MSC Projects mit mon database.pdf",
           "D"
          ],
          [
           579696,
           "EIC Form - blank.xlsx",
           "D"
          ],
          [
           489738,
           "File 5502.D3 Environmental Impact Report Addendum.pdf",
           "D"
          ],
          [
           912507,
           "5305-015A Technical Specifications w comments.pdf",
           "D"
          ],
          [
           588018,
           "Findings.pdf",
           "D"
          ],
          [
           14001,
           "1316-009.D1.Memorandas and Plans - Original Ranch Buildings - EH&S Trailer.pdf",
           "D"
          ],
          [
           893090,
           "Infill apts repair EIC-signed UCOP.pdf",
           "D"
          ],
          [
           338876,
           "Murray email 4-1-19.pdf",
           "D"
          ],
          [
           22866,
           "File 1329 Seismic 2A signed EIC.pdf",
           "D"
          ],
          [
           478214,
           "5300-048.D1.Info for permit reporting, 11-12-15.pdf",
           "D"
          ],
          [
           338959,
           "4.13 Population and Housing.pdf",
           "D"
          ],
          [
           376345,
           "Env Health Safety Facility (revised).EIC.signed OP.pdf",
           "D"
          ],
          [
           78509,
           "EIC Signed_Thimann.pdf",
           "D"
          ],
          [
           689419,
           "10064-002.D2.EIC Signed.pdf",
           "D"
          ],
          [
           136532,
           "MMP_Table3_2009-10.pdf",
           "D"
          ],
          [
           381346,
           "4200.D2.HellerStormWater0001.pdf",
           "D"
          ],
          [
           338845,
           "Draft NOI cover letter.docx",
           "D"
          ],
          [
           613155,
           "1601-129.D3.Small Project CEQA Screening Checklist rev2.xls",
           "D"
          ],
          [
           975287,
           "EIC Signed.pdf",
           "D"
          ],
          [
           338864,
           "3 Response to Comments.pdf",
           "D"
          ],
          [
           826805,
           "4.9-LandUse.doc",
           "D"
          ],
          [
           364436,
           "EIC Signed.pdf",
           "D"
          ],
          [
           913758,
           "E_Ranch_View_Terrace.pdf",
           "D"
          ],
          [
           214868,
           "UCSC Cogen THP  LTO Amend 8.17.12.pdf",
           "D"
          ],
          [
           913681,
           "3.0-14.pdf",
           "D"
          ],
          [
           338076,
           "Kresge College Renewal and Expansion Project Draf EIR Nov 2018.pdf",
           "D"
          ],
          [
           913707,
           "4.04-06.pdf",
           "D"
          ],
          [
           1027677,
           "Backup of NS2-SCIPP Assembly and Test Lab Small Proj. Desc. Form 2011.rev.xlk",
           "D"
          ],
          [
           136438,
           "WHA pump test scope.pdf",
           "D"
          ],
          [
           12778,
           "1302-025.D.Carriage House Emergence Bat Survey Report.pdf",
           "D"
          ],
          [
           489859,
           "Correspondence and Memorandum.pdf",
           "D"
          ],
          [
           965241,
           "Hay Barn NOE DIST LIST.xlsx",
           "D"
          ],
          [
           913727,
           "rvt deir 4-4.4_043.pdf",
           "D"
          ],
          [
           356879,
           "3308.D1.Enviromental Review Correspondence.pdf",
           "D"
          ],
          [
           338961,
           "4.15 Transportation Traffic.pdf",
           "D"
          ],
          [
           41016,
           "3.11Noise Final final web.pdf",
           "D"
          ],
          [
           790854,
           "4932 D3.Steambed Alteration Agreement 20140616.pdf",
           "D"
          ],
          [
           492208,
           "File 5507 D1 Attachment Memo for Draft EIC 05.21.97.pdf",
           "D"
          ],
          [
           489737,
           "File 5502.D1 Varied EIR Discussions.pdf",
           "D"
          ],
          [
           689515,
           "10073.D2.EIC Signed.pdf",
           "D"
          ],
          [
           282761,
           "File 2806. D2. Environmental Impact Classif .pdf",
           "D"
          ],
          [
           73962,
           "Biotic Study.pdf",
           "D"
          ],
          [
           782090,
           "File 4823.D1 Notice of Exemption.pdf",
           "D"
          ],
          [
           786601,
           "4922.D3 Noise Table and Info.pdf",
           "D"
          ],
          [
           875735,
           "4.3 Air Quality.pdf",
           "D"
          ],
          [
           1027681,
           "SCIPP Assembly_Test Lab draft EIC2.docx",
           "D"
          ],
          [
           586788,
           "File 8900-063.D2 EIC Stevenson Service Road repaving-signed.pdf",
           "D"
          ],
          [
           965246,
           "UCSC_HayBarn_NC-4.pdf",
           "D"
          ],
          [
           361386,
           "UQA CEQA Findings.pdf",
           "D"
          ],
          [
           917349,
           "03-proj-des-PSB",
           "D"
          ],
          [
           214854,
           "Cogen Replace Phase 1 Mitigation checklist.xlsx",
           "D"
          ],
          [
           782238,
           "File 4836 EIC Report.pdf",
           "D"
          ],
          [
           327341,
           "3100-179.D1.B242673_COC01.pdf",
           "D"
          ],
          [
           93329,
           "File 10070.D2 EIC Report.pdf",
           "D"
          ],
          [
           544956,
           "6605.D2.6605. D2. EIC completion form.pdf",
           "D"
          ],
          [
           282805,
           "EastElevation(Fig3-5).pdf",
           "D"
          ],
          [
           587016,
           "8900-069.D3.8900-069 Small Project CEQA Screening Checklist rev2.xls",
           "D"
          ],
          [
           913667,
           "900Glossary_DEIR.pdf",
           "D"
          ],
          [
           913631,
           "Notice of Completion.pdf",
           "D"
          ],
          [
           338948,
           "kresge-notice-of-determination.pdf",
           "D"
          ],
          [
           337731,
           "180510_KRESGEEIR_PROJECTDESCRIPTION_Campus comments_A10_TEF_SGA_merged comments.docx",
           "D"
          ],
          [
           337707,
           "450 OFarell EIR Alternatives.pdf",
           "D"
          ],
          [
           875728,
           "4.11 Noise.pdf",
           "D"
          ],
          [
           474288,
           "5201.D3.Revised Draft.pdf",
           "D"
          ],
          [
           76445,
           "EIC Signed.pdf",
           "D"
          ],
          [
           913725,
           "rvt deir 1-3_077.pdf",
           "D"
          ],
          [
           579691,
           "2019 02 01 UCSC GMBP Project Description - revZTAKTB.docx",
           "D"
          ],
          [
           612390,
           "9100-002 CNG Fueling Stanchions signed EIC.pdf",
           "D"
          ],
          [
           338833,
           "180713_Kresge Renewal Outreach Plan_draft.docx",
           "D"
          ],
          [
           338971,
           "4.8 Geology and Soils.pdf",
           "D"
          ],
          [
           828598,
           "Findings.pdf",
           "D"
          ],
          [
           492224,
           "File 5507 D4 Project Specific LRDP Mitigation Measures Draft 07.17.97.pdf",
           "D"
          ],
          [
           874621,
           "Big Creek Final IS-MND-signed.pdf",
           "D"
          ],
          [
           545654,
           "6628.D2 Environmental Impact Classification Heating.pdf",
           "D"
          ],
          [
           41048,
           "Just Appendices.pdf",
           "D"
          ],
          [
           834955,
           "4910.D2.CoastalMarineLab_Environmental_Impact.pdf",
           "D"
          ],
          [
           381333,
           "4200.D1.FamilyHousingWestCorrespondence5_21_18.pdf",
           "D"
          ],
          [
           23568,
           "EIC signed.pdf",
           "D"
          ],
          [
           375880,
           "signed EIC.pdf",
           "D"
          ],
          [
           783445,
           "NOD signed 2-17-11.pdf",
           "D"
          ],
          [
           282806,
           "Fig 3-3 reduced.pdf",
           "D"
          ],
          [
           689547,
           "10099-017.D1.Campus Grassland Corre.pdf",
           "D"
          ],
          [
           917376,
           "08-agen-pers-PSB",
           "D"
          ],
          [
           703347,
           "9800-010.D4.2020 05 05 9800-010 Worker Envi Awareness.docx",
           "D"
          ],
          [
           474273,
           "5201.D1.1990transmittal.pdf",
           "D"
          ],
          [
           338882,
           "City of Santa Cruz comments for Kresge College Projet NOP.pdf",
           "D"
          ],
          [
           2321,
           "1443 Thimann 135 remodel signed EIC.pdf",
           "D"
          ],
          [
           913663,
           "500Alternatives_DEIR.pdf",
           "D"
          ],
          [
           474283,
           "5201.D1.Soil Investigation.pdf",
           "D"
          ],
          [
           141393,
           "Proj  Desc  Form-Leasesrk.xls",
           "D"
          ],
          [
           311052,
           "Porter Dining EIC-signed.pdf",
           "D"
          ],
          [
           759463,
           "06-ceqa-cons-CIA",
           "D"
          ],
          [
           783432,
           "OVERLOOKS Approval.pdf",
           "D"
          ],
          [
           874507,
           "NOD.pdf",
           "D"
          ],
          [
           913640,
           "000TOC_DEIR.pdf",
           "D"
          ],
          [
           468652,
           "SCH-stamped NOD-DFW receipt.pdf",
           "D"
          ],
          [
           790890,
           "GretchenFlor's Schedule.pdf",
           "D"
          ],
          [
           579326,
           "8500-031.D3 - WO00400125 Small Project CEQA Screening Checklist rev2.xls",
           "D"
          ],
          [
           913736,
           "rvt deir 4.5-4.11_0013.pdf",
           "D"
          ],
          [
           917353,
           "04-02-hydro-PSB",
           "D"
          ],
          [
           870958,
           "2746-BME Instructional Lab signed EIC.pdf",
           "D"
          ],
          [
           834957,
           "4910.D2.CoastalMarineLab_Environmental_Impact_Proposed_Final.pdf",
           "D"
          ],
          [
           917356,
           "04-05-visual-PSB",
           "D"
          ],
          [
           910577,
           "File 4929 Long Marine Lab Gas & Sewers.pdf",
           "D"
          ],
          [
           865225,
           "4901-001.D1.Coastal Commission Hearing 12.9.74.pdf",
           "D"
          ],
          [
           913700,
           "4.01-09.pdf",
           "D"
          ],
          [
           338834,
           "3238.D1.EICFormD1.pdf",
           "D"
          ],
          [
           338830,
           "161012_ALISA_NATL_STATE_REG_CRITERIA_LINKS.pdf",
           "D"
          ],
          [
           579716,
           "D-1 Plant Compendium.docx",
           "D"
          ],
          [
           487666,
           "File 5404.D1 Studies Building.pdf",
           "D"
          ],
          [
           826810,
           "9-MMProgram.doc",
           "D"
          ],
          [
           1027683,
           "Small Project CEQA Screening Checklist.rev2.xls",
           "D"
          ],
          [
           282814,
           "CSHC NOC mailing list.doc",
           "D"
          ],
          [
           338951,
           "1 Introduction.pdf",
           "D"
          ],
          [
           136518,
           "2007-08 AMMR Intro.pdf",
           "D"
          ],
          [
           307261,
           "UC Santa Cruz Mail - Filling out the CEQA screening assessment checklist.pdf",
           "D"
          ],
          [
           135473,
           "about 2006-07 mitigation monitoring.txt",
           "D"
          ],
          [
           338930,
           "181127_KRESGE_DEIR_PUBLICHEARING_PRESENTATION_R1.pptx",
           "D"
          ],
          [
           913641,
           "100Intro_DEIR.pdf",
           "D"
          ],
          [
           819505,
           "cover memo.doc",
           "D"
          ],
          [
           487653,
           "File 5404.D1 Build Schedule(2).pdf",
           "D"
          ],
          [
           381342,
           "4200.D2.FamilyHousingWestDEIR.pdf",
           "D"
          ],
          [
           13331,
           "EIC Signed.pdf",
           "D"
          ],
          [
           826776,
           "EIC Signed.pdf",
           "D"
          ],
          [
           23566,
           "NOE.pdf",
           "D"
          ],
          [
           36378,
           "00-sect-div-CIA-ca",
           "D"
          ],
          [
           356885,
           "File 3308 EIC Report.pdf",
           "D"
          ],
          [
           2319,
           "Thimann 135 remodel draft EIC.pdf",
           "D"
          ],
          [
           111104,
           "signed EIC Alterations for Academic Prog Bldg C.pdf",
           "D"
          ],
          [
           826798,
           "4.2-Agricultural.doc",
           "D"
          ],
          [
           179865,
           "CEQA Findings Aug 2004.pdf",
           "D"
          ],
          [
           759458,
           "04-11-pub-CIA-deir",
           "D"
          ],
          [
           689433,
           "10064-003.D2.EIC Signed.pdf",
           "D"
          ],
          [
           280164,
           "EIC Signed.pdf",
           "D"
          ],
          [
           580913,
           "File 8600.D1 Appendix C.pdf",
           "D"
          ],
          [
           913691,
           "3.0-24.pdf",
           "D"
          ],
          [
           214846,
           "File 2113 Notice of Completion.pdf",
           "D"
          ],
          [
           868880,
           "4910.D2.Environmental Impact Classification.pdf",
           "D"
          ],
          [
           786932,
           "4923.D2.4923.D2.EIC.pdf",
           "D"
          ],
          [
           805172,
           "102-ECI Wildlife-wetland report.pdf",
           "D"
          ],
          [
           826801,
           "4.5-Cultural.doc",
           "D"
          ],
          [
           805182,
           "NOC.pdf",
           "D"
          ],
          [
           135920,
           "11407.D2.Field Data 2010-2011.pdf",
           "D"
          ],
          [
           658,
           "1400-093.D.UCSC Bat Surveys 2016.pdf",
           "D"
          ],
          [
           329053,
           "IAF FEI 10-1993.pdf",
           "D"
          ],
          [
           487662,
           "File 5404.D1 Env. Studies Building.pdf",
           "D"
          ],
          [
           337888,
           "Figure 15 Site Preservation Plan.pdf",
           "D"
          ],
          [
           136580,
           "11408-001.D2.LRDPAmendmentForStudentHousingEIRScopingMeeting0001.pdf",
           "D"
          ],
          [
           13829,
           "EIC Signed.pdf",
           "D"
          ],
          [
           703406,
           "9800-010.D2.2019 10 16 SWPPP Disturbed Area Take Off.xlsx",
           "D"
          ],
          [
           742211,
           "WO00412219 Small Project CEQA Screening Checklist rev2.pdf",
           "D"
          ],
          [
           826789,
           "4-Setting,ImpMM.doc",
           "D"
          ],
          [
           703405,
           "9800-010.D1.2019 10 16 9800-010 Standard Construction Measures.xlsx",
           "D"
          ],
          [
           256526,
           "11044_Preliminary Drainage Calculations-CEQA-1.pdf",
           "D"
          ],
          [
           965215,
           "Revised COC Requirements Memo_TO BE POSTED.docx.pdf",
           "D"
          ],
          [
           13707,
           "File 1310-015 EIC.pdf",
           "D"
          ],
          [
           790872,
           "4932 D4. Approval of Additional Biologists 06-23-2015.pdf",
           "D"
          ],
          [
           492222,
           "File 5507 D4 Project Specific LRDP Mitigation Measure (2).pdf",
           "D"
          ],
          [
           790863,
           "NOID6Final.pdf",
           "D"
          ],
          [
           361374,
           "File 3503 D Draft of Quarry Mitigation Measure.pdf",
           "D"
          ],
          [
           356615,
           "Kerr Hall Historical Sample Results.pdf",
           "D"
          ],
          [
           834997,
           "File 4928 Fax - Predatory Bird Research Group.pdf",
           "D"
          ],
          [
           703210,
           "9800-010.D1.20.12.01 9800-010 West Main Sewer Cultural Report - final.pdf",
           "D"
          ],
          [
           784222,
           "4900-036 LML Outdoor outlets EIC-signed.pdf",
           "D"
          ],
          [
           829669,
           "Kerr Hall chickadee nest update 5-11-10.pdf",
           "D"
          ],
          [
           338869,
           "Kresge NOC distribution.xlsx",
           "D"
          ],
          [
           587921,
           "File 8924 D1 S. Strelow Revisions to Proposal to Prepare EIR 02.21.91.pdf",
           "D"
          ],
          [
           790896,
           "UCSC DRAFT Annual Compliance Report (01-05-2017).docx",
           "D"
          ],
          [
           337715,
           "APRIL17_KRESGE_EIRSCOPING_FLYER.pdf",
           "D"
          ],
          [
           485390,
           "5304-015 Coll 8_Kresge Academic Elevators EIC signed Latham.pdf",
           "D"
          ],
          [
           318323,
           "3045-001.D4.Bayview Enviormental Services Respitory Protection Program.pdf",
           "D"
          ],
          [
           94907,
           "signed EIC.pdf",
           "D"
          ],
          [
           829660,
           "File 9065 D1 California Red-Legged Frog Site Assessment DRAFT 07.25.06.pdf",
           "D"
          ],
          [
           338829,
           "161006_ANDREW_CEQA_CRITERIA.pdf",
           "D"
          ],
          [
           871388,
           "3506 Quarry Electrical signed EIC.pdf",
           "D"
          ],
          [
           135922,
           "11407.D2.WETS Data.pdf",
           "D"
          ],
          [
           111100,
           "10637.D1.CorrespondanceD10001.pdf",
           "D"
          ],
          [
           2318,
           "Small Project CEQA Screening Checklist.rev2.xls",
           "D"
          ],
          [
           790856,
           "CEQA review and submittals schedule.rev2.doc",
           "D"
          ],
          [
           136526,
           "MMP_Table2_2008-09.pdf",
           "D"
          ],
          [
           1104,
           "1400-093A 02080 Asbestos Abatement Spec.doc",
           "D"
          ],
          [
           545658,
           "6628.D2 Environmental Impact Classification Water Well.pdf",
           "D"
          ],
          [
           703414,
           "9800-010.D1.pinus canariensis lot 105 report.pdf",
           "D"
          ],
          [
           474276,
           "5201.D1.Ei hearing pt3.pdf",
           "D"
          ],
          [
           478199,
           "5300-048.D1.B.OD3D100001.pdf",
           "D"
          ],
          [
           831646,
           "TIU Phase A checklist.xlsx",
           "D"
          ],
          [
           965239,
           "2013-09-03 LBC Critical Questions.pdf",
           "D"
          ],
          [
           732722,
           "11021.D2.Campus Wide Fire Hydrants Replacement EIC.pdf",
           "D"
          ],
          [
           917343,
           "NOD.pdf",
           "D"
          ],
          [
           913761,
           "H_Ranch_View_Terrace.pdf",
           "D"
          ],
          [
           579054,
           "File 8500-026 Campuswide Stair Replacement 2014 signed EIC.pdf",
           "D"
          ],
          [
           580914,
           "File 8600.D1 Transmittal Sheet.pdf",
           "D"
          ],
          [
           381347,
           "4200.D2.SHWStormwaterComplianceOptions.pdf",
           "D"
          ],
          [
           487664,
           "File 5404.D1 Memo EIR Costs.pdf",
           "D"
          ]
         ],
         "hovertemplate": "tag=%{customdata[2]}<br>umap_x=%{x}<br>umap_y=%{y}<br>file_id=%{customdata[0]}<br>filename=%{customdata[1]}<extra></extra>",
         "legendgroup": "D",
         "marker": {
          "color": "#85660D",
          "line": {
           "width": 0
          },
          "opacity": 0.75,
          "size": 7,
          "symbol": "circle"
         },
         "mode": "markers",
         "name": "D",
         "showlegend": true,
         "type": "scattergl",
         "x": {
          "bdata": "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",
          "dtype": "f4"
         },
         "xaxis": "x",
         "y": {
          "bdata": "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",
          "dtype": "f4"
         },
         "yaxis": "y"
        },
        {
         "customdata": [
          [
           537342,
           "6301.H. Submittal 2.8b Waterfittings - Stainless Steel Pilot Valve.pdf",
           "H"
          ],
          [
           332045,
           "Submittal #15.pdf",
           "H"
          ],
          [
           737850,
           "3124.H. 5.2 B Steel Joists Shop Drawigs (Revise and Resubmit).pdf",
           "H"
          ],
          [
           537192,
           "6301.H - Equipment and Materials Submittal (Jan 13, 1996).pdf",
           "H"
          ],
          [
           737926,
           "3124.H.Section 1.19 01700 1.01 A4. Contract Close-out; Project Record Documents.pdf",
           "H"
          ],
          [
           537468,
           "6301.H Submittal#5.1(c) Test Reports & Certificates.pdf",
           "H"
          ],
          [
           332014,
           "Submittal #3.pdf",
           "H"
          ],
          [
           537252,
           "6301.H Submittal 16.27b.pdf",
           "H"
          ],
          [
           686698,
           "TEMP002.TIF",
           "H"
          ],
          [
           686668,
           "11.3 11063 1.7D.pdf",
           "H"
          ],
          [
           737839,
           "3124.H. 1.20 01740 1.05 Guarantees, Bonds, Service Agmts continued.pdf",
           "H"
          ],
          [
           835078,
           "3124.H.08410 8.7 Aluminum Entrances and Storefronts Joint Sealant Submittal.pdf",
           "H"
          ],
          [
           686656,
           "3124.H.Supporting Devices - System Details.pdf",
           "H"
          ],
          [
           537380,
           "6301.H.Submittal 15.25 Centrifugal Faus.pdf",
           "H"
          ],
          [
           737965,
           "3124.H.Section 2.6 02720 1.3B4. Data & Ductile iron Pipe; Storm Sewer System.pdf",
           "H"
          ],
          [
           962452,
           "6300-004 Re-Sub 1 Young Transmit.docx.pdf",
           "H"
          ],
          [
           536149,
           "6300. H. Lighting O & M vol. 1.pdf",
           "H"
          ],
          [
           732634,
           "3124.H.Structural steel Shop Drawings part 1.pdf",
           "H"
          ],
          [
           737890,
           "3124.H.Concrete Unit Masonry, Tests & Inspections.pdf",
           "H"
          ],
          [
           734948,
           "3124.H.Aluminum Storefronts & Entrances product data review.pdf",
           "H"
          ],
          [
           737854,
           "3124.H. Div. 01700 O&M Manual Record Drawings.pdf",
           "H"
          ],
          [
           537372,
           "6301.H.Submittal 15.18 Hydronic Piping.pdf",
           "H"
          ],
          [
           537371,
           "6301.H.Submittal 15.17 Plumbing Pumps.pdf",
           "H"
          ],
          [
           686584,
           "3124.H. Submittal 5.1 Item A checklist.pdf",
           "H"
          ],
          [
           686586,
           "3124.H. Submittal 5.2 C Long Span Joist Bill of Material - HA Ekelin.pdf",
           "H"
          ],
          [
           686542,
           "3124.H.Section 2.6 02720 1.3B4. Data & Ductile iron Pipe; Storm Sewer System.pdf",
           "H"
          ],
          [
           537274,
           "6301.H. Submittal 1.17R1 Erosion and Sediment Control Plan.pdf",
           "H"
          ],
          [
           537428,
           "File 6301 Submittal 7.7 Built Up Roofing.pdf",
           "H"
          ],
          [
           883769,
           "6300-011 Music Center Equipment Modernization - Submittal #11 61 33 - 02R1 Theatrical Rigging Equipment Modernization.pdf",
           "H"
          ],
          [
           537308,
           "6301.H. Submittal 1.7 32 Photographs May 1_10, 96.pdf",
           "H"
          ],
          [
           732668,
           "3124.H.Entrances & Storefront Arts C Shop Drawings 19980326.pdf",
           "H"
          ],
          [
           537296,
           "6301.H. Submittal 1.18_9.13 Spec 09650 Resilient Flooring.pdf",
           "H"
          ],
          [
           331989,
           "Submittal #53.pdf",
           "H"
          ],
          [
           744868,
           "10.08.05 Submittal 15.2R1 Review.pdf",
           "H"
          ],
          [
           835074,
           "3124.H.07525 7.8 Modified Bituminous Sheet Roofing Submittal Product Data.pdf",
           "H"
          ],
          [
           537260,
           "6301.H.1.8 List of Materials.pdf",
           "H"
          ],
          [
           737991,
           "3124.H.Submittal Section-15951. Temperature Control - Product Data.pdf",
           "H"
          ],
          [
           537313,
           "6301.H. Submittal 16.11 Pad Mounted Transformer.pdf",
           "H"
          ],
          [
           835312,
           "3124.H.07720 7.11 Submittal Roof Accessories Shop Drawings.pdf",
           "H"
          ],
          [
           737862,
           "3124.H. Submittal 5.2 C HA Ekelin & Associates - Long Span Joist Bill of Material.pdf",
           "H"
          ],
          [
           737924,
           "3124.H.Section 02510B. Material Safety Data Sheets; Asphaltic Concrete paving.pdf",
           "H"
          ],
          [
           537226,
           "6301.H Submittal 16.25d-2.pdf",
           "H"
          ],
          [
           317792,
           "02511-3195 through 3201.pdf",
           "H"
          ],
          [
           737946,
           "3124.H.Section 2.4 02665 1.3B13. Data & Flance coupling adapter; Water lines.pdf",
           "H"
          ],
          [
           737955,
           "3124.H.Section 2.4 02665 1.3B5.1. Data & Flanged check Valve; Water Lines.pdf",
           "H"
          ],
          [
           835077,
           "3124.H.08311 8.4 Aluminum Sliding Glass Doors Samples Submittal.pdf",
           "H"
          ],
          [
           836395,
           "3124.H.08520 8.9 Submittal Aluminum Windows Product Data.pdf",
           "H"
          ],
          [
           537251,
           "6301.H Submittal 16.27a.pdf",
           "H"
          ],
          [
           951436,
           "0181_001.pdf",
           "H"
          ],
          [
           737910,
           "3124.H.Mix Design & Water Reducing Admix.pdf",
           "H"
          ],
          [
           23524,
           "270528-02 Revised Return.pdf",
           "H"
          ],
          [
           537420,
           "File 6301 Submittal 16.22 .pdf",
           "H"
          ],
          [
           705466,
           "3124.H. 1.20 Guarantees, Bonds, & Service Agrmnts.pdf",
           "H"
          ],
          [
           737963,
           "3124.H.Section 2.6 02720 1.3. Substitution Request; Storm Sewer system.pdf",
           "H"
          ],
          [
           536153,
           "6300. H. Projector Lift O & M.pdf",
           "H"
          ],
          [
           211630,
           "16720-1440-R1_updated.pdf",
           "H"
          ],
          [
           537242,
           "6301.H Submittal 16.26b.pdf",
           "H"
          ],
          [
           686632,
           "3124.H.Mix Design & Cement conform cert.pdf",
           "H"
          ],
          [
           331976,
           "Submittal #96.pdf",
           "H"
          ],
          [
           537479,
           "File 6301.H. Submittal #9.7 Samples.pdf",
           "H"
          ],
          [
           875711,
           "3124.H.Manufactured Roof Panels, Shop Drawings.pdf",
           "H"
          ],
          [
           835289,
           "3124.H.07822 7.12 Submittal Engineering Calculations and Transmittal.pdf",
           "H"
          ],
          [
           377761,
           "4101 RFI 209 Response.pdf",
           "H"
          ],
          [
           537188,
           "6301.H #15.12b Transmittal (Bill Dohn).pdf",
           "H"
          ],
          [
           537336,
           "6301.H. Submittal 2.5a Site Concrete.pdf",
           "H"
          ],
          [
           537397,
           "6301.H.Submittal 16.14 Medium Voltage Cable Connection.pdf",
           "H"
          ],
          [
           883804,
           "6300-011 Letter of Transmittal 6.26.23.pdf",
           "H"
          ],
          [
           331997,
           "Submittal #82.pdf",
           "H"
          ],
          [
           537328,
           "6301.H. Submittal 2.10 Gas System - Product Data.pdf",
           "H"
          ],
          [
           834970,
           "3124.H.Sliding Doors at Gamelan Bldg Submittal 6.3.pdf",
           "H"
          ],
          [
           537437,
           "File 6301.G1.2 Submittal 12.2 12710 Auditorium and Theater Seating Shop Drawings & Sepia.pdf",
           "H"
          ],
          [
           737996,
           "3124.H.Wiring Services - Product Data & Shop Drawings.pdf",
           "H"
          ],
          [
           883790,
           "6300-011 Music Center Equipment Modernization - Submittal #26 05 83 - 01R1 Rigging Systems Electrical Requirements - APF Comments.pdf",
           "H"
          ],
          [
           686662,
           "File 3124 H Working Drawing Submittal Phase 2 11.04.96.pdf",
           "H"
          ],
          [
           686661,
           "Division 12511 1.2 B2- Horizontal Louver Blinds.pdf",
           "H"
          ],
          [
           686634,
           "3124.H.Mix Design & Water Repellent Admix.pdf",
           "H"
          ],
          [
           835139,
           "3124.H.08385 8.6 Sound Control Doors Door Handing Chart Submittal.pdf",
           "H"
          ],
          [
           537500,
           "01 File 6301 Submittal 16.26.TIF",
           "H"
          ],
          [
           537288,
           "6301.H. Submittal 1.18 and 16.22 Spec 16511 Interior Lighting - Electric Ballast.pdf",
           "H"
          ],
          [
           835405,
           "3124.H.09510 9.3 Submittal Acoustical Ceilings Samples.pdf",
           "H"
          ],
          [
           537104,
           "6301.H Projector Lift O+M.pdf",
           "H"
          ],
          [
           537214,
           "6301.H Submittal 16.19.pdf",
           "H"
          ],
          [
           734548,
           "3124.H.Aluminum Storefronts, window, & Entrances data and samples.pdf",
           "H"
          ],
          [
           537402,
           "File 6301 Resubmittal 16.22a Section 16511.pdf",
           "H"
          ],
          [
           332012,
           "Submittal #1.pdf",
           "H"
          ],
          [
           537101,
           "6301.H.Loading Dock Equipment.pdf",
           "H"
          ],
          [
           968688,
           "055000-01R2.pdf",
           "H"
          ],
          [
           537480,
           "File 6301.H. Submittal #9.7 Shop Drawings.pdf",
           "H"
          ],
          [
           962460,
           "Submittal 1, 6300-004 Music Facility Dimmer Switch.pdf",
           "H"
          ],
          [
           537234,
           "6301.H Submittal 16.26 2.pdf",
           "H"
          ],
          [
           537408,
           "File 6301 Shop Drawing Review 7.8 07620, 2.02.pdf",
           "H"
          ],
          [
           883779,
           "6300-011 Music Center Equipment Modernization - Submittal #26 05 83 - 01R2 Rigging Systems Electrical Requirements.pdf (1).pdf",
           "H"
          ],
          [
           835421,
           "3124.H.08520 8.9 Submittal Aluminum Windows Samples for Color.pdf",
           "H"
          ],
          [
           537430,
           "File 6301 Submittal 7.8 Flashing & Sheet Metal.pdf",
           "H"
          ],
          [
           537271,
           "6301.H. Submittal 1.15 Fencing Plan.pdf",
           "H"
          ],
          [
           537332,
           "6301.H. Submittal 2.1a Excavation, Trenching, Fill and Backfill.pdf",
           "H"
          ],
          [
           537367,
           "6301.H.Submittal 15.13 Domestic Water System.pdf",
           "H"
          ],
          [
           883793,
           "6300-011 Letter of Transmittal 12.8.22.pdf",
           "H"
          ],
          [
           99538,
           "H2 Distribution and Design Data.pdf",
           "H"
          ],
          [
           332036,
           "Submittal #17.pdf",
           "H"
          ],
          [
           732642,
           "3124.H Shop Drawings.pdf",
           "H"
          ],
          [
           883778,
           "6300-011 Music Center Equipment Modernization - Submittal #26 05 83 - 01R2 Rigging Systems Electrical Requirements (1).pdf",
           "H"
          ],
          [
           737884,
           "3124.H.Concrete unit Masonry, Data & Mortar - Grout Admixture.pdf",
           "H"
          ],
          [
           331975,
           "Submittal #83.pdf",
           "H"
          ],
          [
           537310,
           "6301.H. Submittal 1.7 34 Construction Photographs 6_6 - 14_96.pdf",
           "H"
          ],
          [
           883772,
           "6300-011 Music Center Equipment Modernization - Submittal #11 61 33 - 02R3 Theatrical Rigging Equipment Modernization - APEIRO COMMENTS.pdf",
           "H"
          ],
          [
           331987,
           "Submittal #44.pdf",
           "H"
          ],
          [
           537222,
           "6301.H Submittal 16.25b-2.pdf",
           "H"
          ],
          [
           737969,
           "3124.H.Section 2.8 02730 1.3B2. Data & Concrete access hole; Sanitary Sewer System.pdf",
           "H"
          ],
          [
           835389,
           "3124.H.09521 9.5 Submittal Acoustical Wall Panels Data and Transmittal.pdf",
           "H"
          ],
          [
           686692,
           "11.3 11063 1.7B Shop Drawings (Sheet 3).pdf",
           "H"
          ],
          [
           835392,
           "3124.H.09521 9.5 Submittal Acoustical Wall Panels Samples.pdf",
           "H"
          ],
          [
           332056,
           "3209.H Heating and Air O&M Janitrol.pdf",
           "H"
          ],
          [
           536148,
           "6300. H. Geo H. Wilson O & M.pdf",
           "H"
          ],
          [
           537320,
           "6301.H. Submittal 16.4 Electrical Boxes and Fittings.pdf",
           "H"
          ],
          [
           835444,
           "3124.H.08520 Submittal Aluminum Windows Structural Calculations.pdf",
           "H"
          ],
          [
           537384,
           "6301.H.Submittal 15.28a Ductwork.pdf",
           "H"
          ],
          [
           686635,
           "3124.H.Pad Mounted Transformation - Product Data.pdf",
           "H"
          ],
          [
           962456,
           "Re-Sub 1 Items 1,3,,4, 9- 080414.pdf",
           "H"
          ],
          [
           737849,
           "3124.H. 5.2 B Steel Joists Shop Drawigs  (Review and Approval).pdf",
           "H"
          ],
          [
           836373,
           "3124.H.08950 8.13 Submittal Translucent Wall Manufacturers Qualifications.pdf",
           "H"
          ],
          [
           537316,
           "6301.H. Submittal 16.13 Medium Voltage Cable.pdf",
           "H"
          ],
          [
           738003,
           "File 3124 Submittal 7.8 07525 1.4B.pdf",
           "H"
          ],
          [
           537210,
           "6301.H Submittal 16.16a.pdf",
           "H"
          ],
          [
           537409,
           "File 6301 Submittal #1.03 07900 Sealants.pdf",
           "H"
          ],
          [
           737970,
           "3124.H.Section 2.8 02730 1.3B4. Data & Access Hole Frames & Covers; Sanitary Sewer System.pdf",
           "H"
          ],
          [
           737960,
           "3124.H.Section 2.4 02665 1.3B9. Data & Valve Box; Water Lines.pdf",
           "H"
          ],
          [
           836409,
           "3124.H.08520 8.9 Submittal Aluminum Windows Shop Drawings.pdf",
           "H"
          ],
          [
           686660,
           "Division 12.2 12522 1.2 B1,B2- Motorized Blackout Shades.pdf",
           "H"
          ],
          [
           686690,
           "TEMP004.TIF",
           "H"
          ],
          [
           537406,
           "File 6301 Resubmittal 16.23b Section 16580.pdf",
           "H"
          ],
          [
           537329,
           "6301.H. Submittal 2.11 Prod Data.pdf",
           "H"
          ],
          [
           537413,
           "File 6301 Submittal #7.10 R1 Joint Sealers.pdf",
           "H"
          ],
          [
           537186,
           "6301 Submittal 20 Concrete Mix Design.pdf",
           "H"
          ],
          [
           537327,
           "6301.H. Submittal 2.1 Excavation, Trenching, Fill and Backfill.pdf",
           "H"
          ],
          [
           737989,
           "3124.H.Submittal Section-15895A.Grilles, Registers and Diffusers - Product Data.pdf",
           "H"
          ],
          [
           332041,
           "Submittal #49.pdf",
           "H"
          ],
          [
           537255,
           "6301.H Submittal 16.28.pdf",
           "H"
          ],
          [
           705471,
           "3124.H.Section 5.5 1.3B Shop Drawings(E1-D10)- Metal Fabrications.pdf",
           "H"
          ],
          [
           332003,
           "Submittal #92.pdf",
           "H"
          ],
          [
           686575,
           "3124.H. 5.2 B Steel Joists Shop Drawigs (Revise and Resubmit).pdf",
           "H"
          ],
          [
           744872,
           "Submittal 4 Review LHW.pdf",
           "H"
          ],
          [
           331995,
           "Submittal #73.pdf",
           "H"
          ],
          [
           737945,
           "3124.H.Section 2.4 02665 1.3B12. Data & Indicator post; Water lines.pdf",
           "H"
          ],
          [
           737942,
           "3124.H.Section 2.4 02665 1.3B10.1. Data & B-36 Meter Box; Water Lines.pdf",
           "H"
          ],
          [
           883760,
           "6300-011 Music Center Equipment Modernization - Submittal #11 61 33 - 01R1 Theatrical Rigging Equipment Modernization - APF COMMENTS.pdf",
           "H"
          ],
          [
           875713,
           "3124.H.Panel Work, Shop Drawings.pdf",
           "H"
          ],
          [
           537389,
           "6301.H.Submittal 15.30 Air Terminal Units-fan coils coil modules.pdf",
           "H"
          ],
          [
           737973,
           "3124.H.Section 5.5 1.3B Shop Drawings(D11-D31)- Metal Fabrications.pdf",
           "H"
          ],
          [
           686672,
           "TEMP002.TIF",
           "H"
          ],
          [
           686596,
           "3124.H.05120 structural steel R2 and new submittal.pdf",
           "H"
          ],
          [
           537306,
           "6301.H. Submittal 1.7 28 Photographs.pdf",
           "H"
          ],
          [
           332008,
           "Submittal #4.pdf",
           "H"
          ],
          [
           686637,
           "3124.H.Raceways and Fittings- Product data & Shop drawings.pdf",
           "H"
          ],
          [
           537228,
           "6301.H Submittal 16.25e-2.pdf",
           "H"
          ],
          [
           737913,
           "3124.H.Pad Mounted Transformers - Shop drawings.pdf",
           "H"
          ],
          [
           737881,
           "3124.H.Cabinets and Enclosures - Materials list & Shop Drawings.pdf",
           "H"
          ],
          [
           686589,
           "3124.H. Submittal 5.2 D Steel Joists Inspector's Qualifications.pdf",
           "H"
          ],
          [
           883766,
           "6300-011 Music Center Equipment Modernization - Submittal #11 61 33 - 02 Theatrical Rigging Equipment Modrnization - APF Review.pdf",
           "H"
          ],
          [
           961497,
           "5303-037_-_079219-003_R0_-_Acoustical_Joint_Sealants_-_LEED_review.pdf",
           "H"
          ],
          [
           331978,
           "Submittal #29.pdf",
           "H"
          ],
          [
           686624,
           "3124.H.Inspector's Qualifications.pdf",
           "H"
          ],
          [
           537238,
           "6301.H Submittal 16.26-3.pdf",
           "H"
          ],
          [
           686679,
           "TEMP002.TIF",
           "H"
          ],
          [
           332057,
           "Cabrillo Plumbing O&M Manual.pdf",
           "H"
          ],
          [
           883757,
           "Submittal Stamp.pdf",
           "H"
          ],
          [
           537265,
           "6301.H. Submittal #11.1.pdf",
           "H"
          ],
          [
           737911,
           "3124.H.Mix Design & Water Repellent Admix.pdf",
           "H"
          ],
          [
           737864,
           "3124.H. Submittal 5.2 C R1 BOORA - Long Span Joist Bill of Material - Vulcraft (10-28-97).pdf",
           "H"
          ],
          [
           537280,
           "6301.H. Submittal 1.18 and 15.23  Spec 15684 Air Colled Water Chillers.pdf",
           "H"
          ],
          [
           686616,
           "3124.H.Data & Fibrous Concrete Reinf.pdf",
           "H"
          ],
          [
           737893,
           "3124.H.Data & Fibrous Concrete Reinf.pdf",
           "H"
          ],
          [
           537287,
           "6301.H. Submittal 1.18 and 16.11 Spec 16311 Pad Mounted Transformer.pdf",
           "H"
          ],
          [
           537458,
           "6301.H Submittal#11.6 Audio and Visual Systems.pdf",
           "H"
          ],
          [
           686547,
           "3124.H.Section 2.8 02730 1.3B4. Data & Access Hole Frames & Covers; Sanitary Sewer System.pdf",
           "H"
          ],
          [
           737845,
           "3124.H. 5.1 B (R2) structural steel shop drawing sheets.pdf",
           "H"
          ],
          [
           210786,
           "15010-280.pdf",
           "H"
          ],
          [
           686545,
           "3124.H.Section 2.8 02730 1.3 B5. Data & Sewer Cleanout; Sanitary Sewer System.pdf",
           "H"
          ],
          [
           686700,
           "TEMP004.TIF",
           "H"
          ],
          [
           686638,
           "3124.H.Reinforcing Steel. Placing Drawings & Bar List.pdf",
           "H"
          ],
          [
           537250,
           "6301.H Submittal 16.27.pdf",
           "H"
          ],
          [
           686643,
           "3124.H.Submittal Section- 15685 2.3(R2). Improvement to the Arts Chiller.pdf",
           "H"
          ],
          [
           744866,
           "10.07.02 Submittal 91., 9.2 & 9.3 Review.pdf",
           "H"
          ],
          [
           331968,
           "Submittal #30.pdf",
           "H"
          ],
          [
           737929,
           "3124.H.Section 2.09 02810 3.16I. Irrigation; Observation Meetings.pdf",
           "H"
          ],
          [
           332007,
           "Submittal #26.pdf",
           "H"
          ],
          [
           686605,
           "3124.H.Concrete unit Masonry, Data & Fine and Coarse Grout.pdf",
           "H"
          ],
          [
           686452,
           "3124.H.Section 2.4 02665 1.3B10.2. Data & B-48 Meter Box; Water Lines.pdf",
           "H"
          ],
          [
           835423,
           "3124.H.08520 8.9 Submittal Aluminum Windows Certification.pdf",
           "H"
          ],
          [
           737978,
           "3124.H.Submittal 5.1 Structural Steel Shop Drawings.pdf",
           "H"
          ],
          [
           844030,
           "3124.H.Gaylord Industries.pdf",
           "H"
          ],
          [
           331985,
           "Submittal #39.pdf",
           "H"
          ],
          [
           737844,
           "3124.H. 1.20 Guarantees, Bonds, Service Agmts.pdf",
           "H"
          ],
          [
           537463,
           "6301.H Submittal#05500 Qualification Data.pdf",
           "H"
          ],
          [
           744632,
           "01300-1.10 Submittal Schedule.doc",
           "H"
          ],
          [
           537451,
           "6301.H Resubmittal#11.2A Acoustical Curtains.pdf",
           "H"
          ],
          [
           686684,
           "TEMP001.TIF",
           "H"
          ],
          [
           908674,
           "3048.H.phase 2 plan 4 diagram marked.pdf",
           "H"
          ],
          [
           537266,
           "6301.H. Submittal #11.6.pdf",
           "H"
          ],
          [
           705460,
           "3124.H. 1.18 A2 General Requirements - List of Subsitutions Accepted.pdf",
           "H"
          ],
          [
           537295,
           "6301.H. Submittal 1.18_7.5 Spec 07250 Sprayed On Fireproofing.pdf",
           "H"
          ],
          [
           537424,
           "File 6301 Submittal 16.23 Section 16580.pdf",
           "H"
          ],
          [
           686691,
           "TEMP005.TIF",
           "H"
          ],
          [
           737986,
           "3124.H.Submittal Section- 16.13 16476 1.3(A). Motor Controls - Equipment Data & Shop drawings.pdf",
           "H"
          ],
          [
           737920,
           "3124.H.Section - 05120 1.3(B). Structural Steel Shop drawings.pdf",
           "H"
          ],
          [
           537203,
           "6301.H Shop Drawings 2 Perhaps Duplicates.pdf",
           "H"
          ],
          [
           686588,
           "3124.H. Submittal 5.2 C R1 BOORA - Long Span Joist Bill of Material - Vulcraft (4 copies).pdf",
           "H"
          ],
          [
           875707,
           "3124.H. Aluminum Sliding Glass Doors Shop Drawings.pdf",
           "H"
          ],
          [
           686594,
           "3124.H. Submittal 5.3 Item C Checklist.pdf",
           "H"
          ],
          [
           737915,
           "3124.H.Performing arts Construction pics1.pdf",
           "H"
          ],
          [
           537206,
           "6301.H Shop Drawings.pdf",
           "H"
          ],
          [
           738001,
           "File 3124 Submittal 16.16R2 Review.pdf",
           "H"
          ],
          [
           537447,
           "Submittal Log - Music.xls",
           "H"
          ],
          [
           537492,
           "6301.H. Platform Lighting System part 2 O&Ms.pdf",
           "H"
          ],
          [
           686619,
           "3124.H.Data & Waterstops.pdf",
           "H"
          ],
          [
           537270,
           "6301.H. Submittal 1.14 Mock Up.pdf",
           "H"
          ],
          [
           537474,
           "File 6301.H. Submittal #9.6a Shop Drawings Original Issue 6-6-96.pdf",
           "H"
          ],
          [
           537305,
           "6301.H. Submittal 1.7 27 Photographs.pdf",
           "H"
          ],
          [
           835081,
           "3124.H.08331 8.5 Overhead Coiling Doors Substitution Request Submittal.pdf",
           "H"
          ],
          [
           737853,
           "3124.H. 5.3 B Metal Decking Shop Drawings Sheets E12-E23 & S58 (Review and Approval).pdf",
           "H"
          ],
          [
           862544,
           "3124.H.Division 1 4.23.95.pdf",
           "H"
          ],
          [
           332009,
           "Submittal #45.pdf",
           "H"
          ],
          [
           686683,
           "11.3 11063 1.7B Shop Drawings (Sheets 3-4).pdf",
           "H"
          ],
          [
           686535,
           "3124.H.Section 2.4 02665 1.3B16. Data & Backflow preventer; water lines.pdf",
           "H"
          ],
          [
           332011,
           "Submittal #99.pdf",
           "H"
          ],
          [
           737900,
           "3124.H.Improvements to Arts Facility O & M V 1.pdf",
           "H"
          ],
          [
           835287,
           "3124.H.Submittal 06410 6.3 Hardware Cut Sheets and Transmittal.pdf",
           "H"
          ],
          [
           537246,
           "6301.H Submittal 16.26c Resubmittal.pdf",
           "H"
          ],
          [
           932864,
           "02 FILE 6201-A 02.tif",
           "H"
          ],
          [
           686685,
           "TEMP002.TIF",
           "H"
          ],
          [
           686453,
           "3124.H.Section 2.4 02665 1.3B2. Data & Copper Pipe; Water Lines.pdf",
           "H"
          ],
          [
           537487,
           "6301.H. AV System O&M.pdf",
           "H"
          ],
          [
           686449,
           "3124.H.Section 2.4 02665 1.3B. Water Lines; Product data.pdf",
           "H"
          ],
          [
           537190,
           "6301.H #15.12b Transmittal (Devandra Contractor).pdf",
           "H"
          ],
          [
           686666,
           "File 3124 Submittal 7.8 07525 1.4B.pdf",
           "H"
          ],
          [
           537264,
           "6301.H. Musical Center Shop Drawings.pdf",
           "H"
          ],
          [
           875708,
           "3124.H. Flashing and Sheet Metal Shop Drawings.pdf",
           "H"
          ],
          [
           738000,
           "File 3124 Submittal 16.16 R2 Review.pdf",
           "H"
          ],
          [
           883787,
           "Preliminary Schedule.pdf",
           "H"
          ],
          [
           537326,
           "6301.H. Submittal 16.9 Supporting Devices.pdf",
           "H"
          ],
          [
           732671,
           "3124.H.Aluminum Storefronts & Entrances Shop Drawings R1.pdf",
           "H"
          ],
          [
           537256,
           "6301.H Submittal 16.39 Shop Drawing.pdf",
           "H"
          ],
          [
           834976,
           "3124.H.07250 Fireproofing Submittal Installers Qualifications.pdf",
           "H"
          ],
          [
           537284,
           "6301.H. Submittal 1.18 and 15.29 Spec 15910Ductwork Accessories - Duct Silencers.pdf",
           "H"
          ],
          [
           537273,
           "6301.H. Submittal 1.17 Erosion and Sediment Plan.pdf",
           "H"
          ],
          [
           617083,
           "9804c Submittal Log.xlsx",
           "H"
          ],
          [
           686524,
           "3124.H.Section 2.09 02810 G. Irrigation; Keys.pdf",
           "H"
          ],
          [
           883782,
           "TSUBAKI.pdf",
           "H"
          ],
          [
           732657,
           "3124.H.3124. H. 05120 Structural steel Shop Drawings R1_R2 part 3.pdf",
           "H"
          ],
          [
           332021,
           "Submittal #24.pdf",
           "H"
          ],
          [
           686653,
           "3124.H.Submittal Section-15951 B2. Temperature Control - Shop drawings.pdf",
           "H"
          ],
          [
           737916,
           "3124.H.Raceways and Fittings- Product data & Shop drawings.pdf",
           "H"
          ],
          [
           737975,
           "3124.H.structural steel shop drawing transmittal.pdf",
           "H"
          ],
          [
           536155,
           "6300. H. Stage Lift O & M.pdf",
           "H"
          ],
          [
           537505,
           "06 File 6301 Submittal 16.26.TIF",
           "H"
          ],
          [
           537423,
           "File 6301 Submittal 16.23 Section 16580 Review.pdf",
           "H"
          ],
          [
           537212,
           "6301.H Submittal 16.18.pdf",
           "H"
          ],
          [
           331980,
           "Submittal #7.pdf",
           "H"
          ],
          [
           883791,
           "6300-011 Letter of Transmittal 1.18.23.pdf",
           "H"
          ],
          [
           686644,
           "3124.H.Submittal Section- 15851 2.1 (R3). Improvement to the arts.pdf",
           "H"
          ],
          [
           744874,
           "[Fwd  Proj. No. 10010 Submittal 4 Low Flow Plumbing  Replacement].eml",
           "H"
          ],
          [
           537345,
           "6301.H.1 General Preliminaries.pdf",
           "H"
          ],
          [
           737896,
           "3124.H.Data & Waterstops.pdf",
           "H"
          ],
          [
           537229,
           "6301.H Submittal 16.25e.pdf",
           "H"
          ],
          [
           835534,
           "3124.H.09200 Submittal Lath and Plaster Product Data.pdf",
           "H"
          ],
          [
           537334,
           "6301.H. Submittal 2.5 Outlet Structure Reinforcing-Shop Drawings.pdf",
           "H"
          ],
          [
           737880,
           "3124.H.Boxes - Product Data.pdf",
           "H"
          ],
          [
           537496,
           "6301.H.Fire Safety Plan.pdf",
           "H"
          ],
          [
           537244,
           "6301.H Submittal 16.26c 3.pdf",
           "H"
          ],
          [
           332006,
           "Submittal #12.pdf",
           "H"
          ],
          [
           537444,
           "File 6301.H. Submittal #12.2 Shop Drawings.pdf",
           "H"
          ],
          [
           742352,
           "9205-007.H.Submittal Log .xls",
           "H"
          ],
          [
           332053,
           "Submittal #57.pdf",
           "H"
          ],
          [
           537446,
           "Submittal 12.2 Auditorium Seating.pdf",
           "H"
          ],
          [
           883792,
           "6300-011 Letter of Transmittal 1.20.23.pdf",
           "H"
          ],
          [
           686697,
           "TEMP001.TIF",
           "H"
          ],
          [
           331992,
           "Submittal #56.pdf",
           "H"
          ],
          [
           883762,
           "6300-011 Music Center Equipment Modernization - Submittal #11 61 33 - 01R2 Theatrical Rigging Equipment Modernization - APF Review.pdf",
           "H"
          ],
          [
           686536,
           "3124.H.Section 2.4 02665 1.3B17. Data & Corporation Stop; Water Lines.pdf",
           "H"
          ],
          [
           537429,
           "File 6301 Submittal 7.7 Correspondence.pdf",
           "H"
          ],
          [
           737831,
           "16.14 16515 1.3A R1 Ayraud Review.pdf",
           "H"
          ],
          [
           686675,
           "TEMP005.TIF",
           "H"
          ],
          [
           880896,
           "3238-057000NC-010-R1 - Decorative Metal - ACAD - MTL-3 & MTL-23 - SD.pdf",
           "H"
          ],
          [
           686447,
           "3124.H.Section 2.2 02518 1.3. Substitution request; Concrete unit Paves.pdf",
           "H"
          ],
          [
           737958,
           "3124.H.Section 2.4 02665 1.3B7.Dat & Tapping Valve; Water Lines.pdf",
           "H"
          ],
          [
           737941,
           "3124.H.Section 2.4 02665 1.3B1. Data & Ductile iron pipe; Water Lines.pdf",
           "H"
          ],
          [
           738842,
           "3124.H.Aluminum Entrances and Storefronts Product Data 1.pdf",
           "H"
          ],
          [
           737898,
           "3124.H.Grilles, Registers and Diffusers - Product Data & Substitution Request.pdf",
           "H"
          ],
          [
           537340,
           "6301.H. Submittal 2.8 Outside Utilities.pdf",
           "H"
          ],
          [
           734875,
           "3124.H.Aluminum Entrances and Storefronts Product Data R1.pdf",
           "H"
          ],
          [
           686612,
           "3124.H.Concrete unit Masonry, Shop Drawings.pdf",
           "H"
          ],
          [
           537453,
           "6301.H Submittal#11.1A Canopy Reflector Panels.pdf",
           "H"
          ],
          [
           737967,
           "3124.H.Section 2.7 02725 1.2B. Shop drawings & Data; Trench Drain.pdf",
           "H"
          ],
          [
           883807,
           "Letter of Transmittal 11.28.22.pdf",
           "H"
          ],
          [
           537469,
           "6301.H Submittal#5.2 Steel Joists and Girders.pdf",
           "H"
          ],
          [
           702992,
           "6300.H.Blank Submittals 2.pdf",
           "H"
          ],
          [
           744870,
           "Proj. No. 10010, Submittal No. 4, Low Flow Plumbing Fixture Replacement.eml",
           "H"
          ],
          [
           862312,
           "3701.H.Submittal from Williams & Burrows.pdf",
           "H"
          ],
          [
           686532,
           "3124.H.Section 2.4 02665 1.3B13. Data & Flance coupling adapter; Water lines.pdf",
           "H"
          ],
          [
           537414,
           "File 6301 Submittal #7.10a 07900 Sealant Info.pdf",
           "H"
          ],
          [
           686442,
           "3124.H.Section 02280A. Data; Soil treatment standards.pdf",
           "H"
          ],
          [
           537448,
           "6301.H Submittal 1.11 Preliminary Schedule.pdf",
           "H"
          ],
          [
           537471,
           "6301.H Submittal#5.4 Cold Formed Metal Framing.pdf",
           "H"
          ],
          [
           537331,
           "6301.H. Submittal 2.12 Precast Manholes and Utility Vaults.pdf",
           "H"
          ],
          [
           686595,
           "3124.H. Submittal 5.3 Item D Checklist.pdf",
           "H"
          ],
          [
           686540,
           "3124.H.Section 2.6 02720 1.3. Substitution Request; Storm Sewer system.pdf",
           "H"
          ],
          [
           835076,
           "3124.H.07525 7.8 Modified Bituminous Sheet Roofing Samples.pdf",
           "H"
          ],
          [
           332052,
           "Submittal #51.pdf",
           "H"
          ],
          [
           686608,
           "3124.H.Concrete unit Masonry, Data & Mortar mixing Requirements.pdf",
           "H"
          ],
          [
           737992,
           "3124.H.Submittal#15.6. Ductwork and Accessories - Substitution requests.pdf",
           "H"
          ],
          [
           537358,
           "6301.H.1.13.8 #2.pdf",
           "H"
          ],
          [
           686567,
           "16.14 16515 1.3A R1.pdf",
           "H"
          ],
          [
           686533,
           "3124.H.Section 2.4 02665 1.3B14. Data & Tapping Saddle; Water lines.pdf",
           "H"
          ],
          [
           845563,
           "075100-05.pdf",
           "H"
          ],
          [
           732711,
           "3124.H.Submittal Storefrontsarts.pdf",
           "H"
          ],
          [
           737940,
           "3124.H.Section 2.4 02665 1.3B. Water Lines; Product data.pdf",
           "H"
          ],
          [
           537200,
           "6301.H Hydraulics Calculations - Sept 11, 1995 (After Review by MCB & APA).pdf",
           "H"
          ],
          [
           686576,
           "3124.H. 5.2 B Steel Joists Shop Drawings (Implement exceptions noted).pdf",
           "H"
          ],
          [
           332019,
           "Submittal #14.pdf",
           "H"
          ],
          [
           835069,
           "3124.H.07270 7.6 Firestopping Submittal Substitution Request.pdf",
           "H"
          ],
          [
           537378,
           "6301.H.Submittal 15.23 Air Cooled Water Chillers.pdf",
           "H"
          ],
          [
           686590,
           "3124.H. Submittal 5.3 C Metal Decking - Product Data - BOORA.pdf",
           "H"
          ],
          [
           835285,
           "3124.H.08385 8.6 Sound Control Doors Submittal Transmittal.pdf",
           "H"
          ],
          [
           268454,
           "01 31 19.pdf",
           "H"
          ],
          [
           737956,
           "3124.H.Section 2.4 02665 1.3B5.2. Data & Threaded check Valve; water Lines.pdf",
           "H"
          ],
          [
           537322,
           "6301.H. Submittal 16.6 Wiring Devices.pdf",
           "H"
          ],
          [
           737899,
           "3124.H.Improvements to Art Facility O & M v 4.pdf",
           "H"
          ],
          [
           537485,
           "6301.H. Acoustical Curtains O&Ms part 2.pdf",
           "H"
          ],
          [
           883768,
           "6300-011 Music Center Equipment Modernization - Submittal #11 61 33 - 02R1 Theatrical Rigging Equipment Modernization - APF COMMENTS.pdf",
           "H"
          ],
          [
           537290,
           "6301.H. Submittal 1.18_10.1 Spec 10100 Visual Display Boards.pdf",
           "H"
          ],
          [
           737843,
           "3124.H. 1.20 Guarantees, Bonds, & Service Agrmnts.pdf",
           "H"
          ],
          [
           686680,
           "TEMP003.TIF",
           "H"
          ],
          [
           732665,
           "3124.H.Metal Fab Shop Drawings.pdf",
           "H"
          ],
          [
           537359,
           "6301.H.1.13.8.pdf",
           "H"
          ],
          [
           331967,
           "Submittal #21.pdf",
           "H"
          ],
          [
           537506,
           "07 File 6301 Submittal 16.26.TIF",
           "H"
          ],
          [
           332029,
           "Submittal #64.pdf",
           "H"
          ],
          [
           537347,
           "6301.H.1.11 PreliminarySchedule.pdf",
           "H"
          ],
          [
           835391,
           "3124.H.09521 9.5 Submittal Acoustical Wall Panels Test Reports.pdf",
           "H"
          ],
          [
           537403,
           "File 6301 Resubmittal 16.23 Section 16580 (2).pdf",
           "H"
          ],
          [
           331983,
           "Submittal #27.pdf",
           "H"
          ],
          [
           835390,
           "3124.H.09521 9.5 Submittal Acoustical Wall Panels Product Certificates.pdf",
           "H"
          ],
          [
           835286,
           "3124.H.Submittal 07525 7.8 Letter of Approval and Transmittal.pdf",
           "H"
          ],
          [
           686458,
           "3124.H.Section 2.4 02665 1.3B6. Data & Pressure reducing Valve; Water Lines.pdf",
           "H"
          ],
          [
           737974,
           "3124.H.Section 5.5 1.3B Shop Drawings(E1-D10)- Metal Fabrications.pdf",
           "H"
          ],
          [
           835311,
           "3124.H.076101 7.10 Submittal Sheet Metal Roofing Product Data.pdf",
           "H"
          ],
          [
           537245,
           "6301.H Submittal 16.26c Resubmittal 2.pdf",
           "H"
          ],
          [
           737997,
           "Division 12.2 12522 1.2 B1,B2- Motorized Blackout Shades.pdf",
           "H"
          ],
          [
           686622,
           "3124.H.Improvements to Art Facility O & M v 4.pdf",
           "H"
          ],
          [
           737952,
           "3124.H.Section 2.4 02665 1.3B2. Data & Copper Pipe; Water Lines.pdf",
           "H"
          ],
          [
           835322,
           "3124.H.05800 5.7 Submittal Expansion Control Substitution.pdf",
           "H"
          ],
          [
           537319,
           "6301.H. Submittal 16.3 Wire and Cables.pdf",
           "H"
          ],
          [
           686621,
           "3124.H.Grilles, Registers and Diffusers - Product Data & Substitution Request.pdf",
           "H"
          ],
          [
           737834,
           "3124.H Shop Drawings.pdf",
           "H"
          ],
          [
           835321,
           "3124.H.05550 5.6 Submittal.pdf",
           "H"
          ],
          [
           537272,
           "6301.H. Submittal 1.16 Temporary Utilities Plan.pdf",
           "H"
          ],
          [
           686441,
           "3124.H.Section 02220 2.1B. Construction materials certificate; Excavation and Backfilling.pdf",
           "H"
          ],
          [
           537386,
           "6301.H.Submittal 15.29.1 Ductwork Accessories Turning Vanes,Access Doors, Flex Duct Connectors.pdf",
           "H"
          ],
          [
           537482,
           "File 6301.H. Submittal #9.7 Product Data.pdf",
           "H"
          ],
          [
           737903,
           "3124.H.Metal Decking Shop Drawings transmittal.pdf",
           "H"
          ],
          [
           686693,
           "TEMP001.TIF",
           "H"
          ],
          [
           686631,
           "3124.H.Mix Design & Cap C.M.U. Wall.pdf",
           "H"
          ],
          [
           883806,
           "6300-011 Letter of Transmittal 7.20.23.pdf",
           "H"
          ],
          [
           686574,
           "3124.H. 5.2 B Steel Joists Shop Drawigs  (Review and Approval).pdf",
           "H"
          ],
          [
           737863,
           "3124.H. Submittal 5.2 C Long Span Joist Bill of Material - HA Ekelin.pdf",
           "H"
          ],
          [
           883767,
           "6300-011 Music Center Equipment Modernization - Submittal #11 61 33 - 02 Theatrical Rigging Equipment Modrnization.pdf",
           "H"
          ],
          [
           837264,
           "3124.H.3124 submittal strand lighting.pdf",
           "H"
          ],
          [
           618064,
           "E0_13_9805_RACHEL CARSON 1 LINE.pdf",
           "H"
          ],
          [
           537401,
           "File 6301 Resubmittal 16.22a Section 16511 (2).pdf",
           "H"
          ],
          [
           500626,
           "Proposal Request #149.pdf",
           "H"
          ],
          [
           875703,
           "3124.H.3124. H. Alum. Entrances and Storefronts - Arts.pdf",
           "H"
          ],
          [
           537478,
           "File 6301.H. Submittal #9.7 Product Data.pdf",
           "H"
          ],
          [
           537440,
           "File 6301.H 16.23a Resub 4-24-95.pdf",
           "H"
          ],
          [
           537410,
           "File 6301 Submittal #12.1 Entry Mats.pdf",
           "H"
          ],
          [
           737883,
           "3124.H.Concrete unit Masonry, Data & Light wright Concrete Block.pdf",
           "H"
          ],
          [
           835413,
           "3124.H.08710 8.11 Submittal Door Hardware Samples.pdf",
           "H"
          ],
          [
           835073,
           "3124.H.07270 7.6 Firestopping Submittal Qualifications Data.pdf",
           "H"
          ],
          [
           883765,
           "6300-011 Music Center Equipment Modernization - Submittal #11 61 33 - 01R3 Theatrical Rigging Equipment Modernization.pdf",
           "H"
          ],
          [
           686581,
           "3124.H. Submittal 5.1 A - Structural Steel Tests and Inspections.pdf",
           "H"
          ],
          [
           332010,
           "Submittal #63.pdf",
           "H"
          ],
          [
           598616,
           "01060-01 complete.pdf",
           "H"
          ],
          [
           536156,
           "6300. H. Transformer O & M.pdf",
           "H"
          ],
          [
           537508,
           "09 File 6301 Submittal 16.26.TIF",
           "H"
          ],
          [
           733441,
           "3124.H.Metal Fabrications Shop Drawings.pdf",
           "H"
          ],
          [
           537187,
           "6301.;H Submittal 16.25-2.pdf",
           "H"
          ],
          [
           332022,
           "Submittal #25.pdf",
           "H"
          ],
          [
           737968,
           "3124.H.Section 2.8 02730 1.3 B5. Data & Sewer Cleanout; Sanitary Sewer System.pdf",
           "H"
          ],
          [
           830559,
           "02372-032.pdf",
           "H"
          ],
          [
           686543,
           "3124.H.Section 2.6 02720 1.3B6. Data & Catch Basins; Storm Sewer System.pdf",
           "H"
          ],
          [
           537484,
           "File 6301.H. Submittal #9.7a Transmittals.pdf",
           "H"
          ],
          [
           537217,
           "6301.H Submittal 16.24.pdf",
           "H"
          ],
          [
           537459,
           "6301.H Submittal#11.6 Transmittal.pdf",
           "H"
          ],
          [
           510287,
           "05500-441.pdf",
           "H"
          ],
          [
           686620,
           "3124.H.Equipment Connections - Product data & Shop Drawings.pdf",
           "H"
          ],
          [
           537483,
           "File 6301.H. Submittal #9.7a Shop Drawings.pdf",
           "H"
          ],
          [
           737842,
           "3124.H. 1.20 Guarantees, Bonds & Service Agmts.pdf",
           "H"
          ],
          [
           705468,
           "3124.H. Div. 01700 O&M Manual Record Drawings.pdf",
           "H"
          ],
          [
           686688,
           "TEMP002.TIF",
           "H"
          ],
          [
           737962,
           "3124.H.Section 2.5 02675 1.4C. Welder's Performance Qual.; Underground Hot Water system.pdf",
           "H"
          ],
          [
           537196,
           "6301.H - Sprinkler Specs (Unknown).pdf",
           "H"
          ]
         ],
         "hovertemplate": "tag=%{customdata[2]}<br>umap_x=%{x}<br>umap_y=%{y}<br>file_id=%{customdata[0]}<br>filename=%{customdata[1]}<extra></extra>",
         "legendgroup": "H",
         "marker": {
          "color": "#16FF32",
          "line": {
           "width": 0
          },
          "opacity": 0.75,
          "size": 7,
          "symbol": "circle"
         },
         "mode": "markers",
         "name": "H",
         "showlegend": true,
         "type": "scattergl",
         "x": {
          "bdata": "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",
          "dtype": "f4"
         },
         "xaxis": "x",
         "y": {
          "bdata": "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",
          "dtype": "f4"
         },
         "yaxis": "y"
        }
       ],
       "layout": {
        "height": 800,
        "legend": {
         "bordercolor": "rgba(0,0,0,0.2)",
         "borderwidth": 1,
         "itemsizing": "trace",
         "title": {
          "text": "Tag"
         },
         "tracegroupgap": 0
        },
        "template": {
         "data": {
          "bar": [
           {
            "error_x": {
             "color": "#2a3f5f"
            },
            "error_y": {
             "color": "#2a3f5f"
            },
            "marker": {
             "line": {
              "color": "#E5ECF6",
              "width": 0.5
             },
             "pattern": {
              "fillmode": "overlay",
              "size": 10,
              "solidity": 0.2
             }
            },
            "type": "bar"
           }
          ],
          "barpolar": [
           {
            "marker": {
             "line": {
              "color": "#E5ECF6",
              "width": 0.5
             },
             "pattern": {
              "fillmode": "overlay",
              "size": 10,
              "solidity": 0.2
             }
            },
            "type": "barpolar"
           }
          ],
          "carpet": [
           {
            "aaxis": {
             "endlinecolor": "#2a3f5f",
             "gridcolor": "white",
             "linecolor": "white",
             "minorgridcolor": "white",
             "startlinecolor": "#2a3f5f"
            },
            "baxis": {
             "endlinecolor": "#2a3f5f",
             "gridcolor": "white",
             "linecolor": "white",
             "minorgridcolor": "white",
             "startlinecolor": "#2a3f5f"
            },
            "type": "carpet"
           }
          ],
          "choropleth": [
           {
            "colorbar": {
             "outlinewidth": 0,
             "ticks": ""
            },
            "type": "choropleth"
           }
          ],
          "contour": [
           {
            "colorbar": {
             "outlinewidth": 0,
             "ticks": ""
            },
            "colorscale": [
             [
              0,
              "#0d0887"
             ],
             [
              0.1111111111111111,
              "#46039f"
             ],
             [
              0.2222222222222222,
              "#7201a8"
             ],
             [
              0.3333333333333333,
              "#9c179e"
             ],
             [
              0.4444444444444444,
              "#bd3786"
             ],
             [
              0.5555555555555556,
              "#d8576b"
             ],
             [
              0.6666666666666666,
              "#ed7953"
             ],
             [
              0.7777777777777778,
              "#fb9f3a"
             ],
             [
              0.8888888888888888,
              "#fdca26"
             ],
             [
              1,
              "#f0f921"
             ]
            ],
            "type": "contour"
           }
          ],
          "contourcarpet": [
           {
            "colorbar": {
             "outlinewidth": 0,
             "ticks": ""
            },
            "type": "contourcarpet"
           }
          ],
          "heatmap": [
           {
            "colorbar": {
             "outlinewidth": 0,
             "ticks": ""
            },
            "colorscale": [
             [
              0,
              "#0d0887"
             ],
             [
              0.1111111111111111,
              "#46039f"
             ],
             [
              0.2222222222222222,
              "#7201a8"
             ],
             [
              0.3333333333333333,
              "#9c179e"
             ],
             [
              0.4444444444444444,
              "#bd3786"
             ],
             [
              0.5555555555555556,
              "#d8576b"
             ],
             [
              0.6666666666666666,
              "#ed7953"
             ],
             [
              0.7777777777777778,
              "#fb9f3a"
             ],
             [
              0.8888888888888888,
              "#fdca26"
             ],
             [
              1,
              "#f0f921"
             ]
            ],
            "type": "heatmap"
           }
          ],
          "histogram": [
           {
            "marker": {
             "pattern": {
              "fillmode": "overlay",
              "size": 10,
              "solidity": 0.2
             }
            },
            "type": "histogram"
           }
          ],
          "histogram2d": [
           {
            "colorbar": {
             "outlinewidth": 0,
             "ticks": ""
            },
            "colorscale": [
             [
              0,
              "#0d0887"
             ],
             [
              0.1111111111111111,
              "#46039f"
             ],
             [
              0.2222222222222222,
              "#7201a8"
             ],
             [
              0.3333333333333333,
              "#9c179e"
             ],
             [
              0.4444444444444444,
              "#bd3786"
             ],
             [
              0.5555555555555556,
              "#d8576b"
             ],
             [
              0.6666666666666666,
              "#ed7953"
             ],
             [
              0.7777777777777778,
              "#fb9f3a"
             ],
             [
              0.8888888888888888,
              "#fdca26"
             ],
             [
              1,
              "#f0f921"
             ]
            ],
            "type": "histogram2d"
           }
          ],
          "histogram2dcontour": [
           {
            "colorbar": {
             "outlinewidth": 0,
             "ticks": ""
            },
            "colorscale": [
             [
              0,
              "#0d0887"
             ],
             [
              0.1111111111111111,
              "#46039f"
             ],
             [
              0.2222222222222222,
              "#7201a8"
             ],
             [
              0.3333333333333333,
              "#9c179e"
             ],
             [
              0.4444444444444444,
              "#bd3786"
             ],
             [
              0.5555555555555556,
              "#d8576b"
             ],
             [
              0.6666666666666666,
              "#ed7953"
             ],
             [
              0.7777777777777778,
              "#fb9f3a"
             ],
             [
              0.8888888888888888,
              "#fdca26"
             ],
             [
              1,
              "#f0f921"
             ]
            ],
            "type": "histogram2dcontour"
           }
          ],
          "mesh3d": [
           {
            "colorbar": {
             "outlinewidth": 0,
             "ticks": ""
            },
            "type": "mesh3d"
           }
          ],
          "parcoords": [
           {
            "line": {
             "colorbar": {
              "outlinewidth": 0,
              "ticks": ""
             }
            },
            "type": "parcoords"
           }
          ],
          "pie": [
           {
            "automargin": true,
            "type": "pie"
           }
          ],
          "scatter": [
           {
            "fillpattern": {
             "fillmode": "overlay",
             "size": 10,
             "solidity": 0.2
            },
            "type": "scatter"
           }
          ],
          "scatter3d": [
           {
            "line": {
             "colorbar": {
              "outlinewidth": 0,
              "ticks": ""
             }
            },
            "marker": {
             "colorbar": {
              "outlinewidth": 0,
              "ticks": ""
             }
            },
            "type": "scatter3d"
           }
          ],
          "scattercarpet": [
           {
            "marker": {
             "colorbar": {
              "outlinewidth": 0,
              "ticks": ""
             }
            },
            "type": "scattercarpet"
           }
          ],
          "scattergeo": [
           {
            "marker": {
             "colorbar": {
              "outlinewidth": 0,
              "ticks": ""
             }
            },
            "type": "scattergeo"
           }
          ],
          "scattergl": [
           {
            "marker": {
             "colorbar": {
              "outlinewidth": 0,
              "ticks": ""
             }
            },
            "type": "scattergl"
           }
          ],
          "scattermap": [
           {
            "marker": {
             "colorbar": {
              "outlinewidth": 0,
              "ticks": ""
             }
            },
            "type": "scattermap"
           }
          ],
          "scattermapbox": [
           {
            "marker": {
             "colorbar": {
              "outlinewidth": 0,
              "ticks": ""
             }
            },
            "type": "scattermapbox"
           }
          ],
          "scatterpolar": [
           {
            "marker": {
             "colorbar": {
              "outlinewidth": 0,
              "ticks": ""
             }
            },
            "type": "scatterpolar"
           }
          ],
          "scatterpolargl": [
           {
            "marker": {
             "colorbar": {
              "outlinewidth": 0,
              "ticks": ""
             }
            },
            "type": "scatterpolargl"
           }
          ],
          "scatterternary": [
           {
            "marker": {
             "colorbar": {
              "outlinewidth": 0,
              "ticks": ""
             }
            },
            "type": "scatterternary"
           }
          ],
          "surface": [
           {
            "colorbar": {
             "outlinewidth": 0,
             "ticks": ""
            },
            "colorscale": [
             [
              0,
              "#0d0887"
             ],
             [
              0.1111111111111111,
              "#46039f"
             ],
             [
              0.2222222222222222,
              "#7201a8"
             ],
             [
              0.3333333333333333,
              "#9c179e"
             ],
             [
              0.4444444444444444,
              "#bd3786"
             ],
             [
              0.5555555555555556,
              "#d8576b"
             ],
             [
              0.6666666666666666,
              "#ed7953"
             ],
             [
              0.7777777777777778,
              "#fb9f3a"
             ],
             [
              0.8888888888888888,
              "#fdca26"
             ],
             [
              1,
              "#f0f921"
             ]
            ],
            "type": "surface"
           }
          ],
          "table": [
           {
            "cells": {
             "fill": {
              "color": "#EBF0F8"
             },
             "line": {
              "color": "white"
             }
            },
            "header": {
             "fill": {
              "color": "#C8D4E3"
             },
             "line": {
              "color": "white"
             }
            },
            "type": "table"
           }
          ]
         },
         "layout": {
          "annotationdefaults": {
           "arrowcolor": "#2a3f5f",
           "arrowhead": 0,
           "arrowwidth": 1
          },
          "autotypenumbers": "strict",
          "coloraxis": {
           "colorbar": {
            "outlinewidth": 0,
            "ticks": ""
           }
          },
          "colorscale": {
           "diverging": [
            [
             0,
             "#8e0152"
            ],
            [
             0.1,
             "#c51b7d"
            ],
            [
             0.2,
             "#de77ae"
            ],
            [
             0.3,
             "#f1b6da"
            ],
            [
             0.4,
             "#fde0ef"
            ],
            [
             0.5,
             "#f7f7f7"
            ],
            [
             0.6,
             "#e6f5d0"
            ],
            [
             0.7,
             "#b8e186"
            ],
            [
             0.8,
             "#7fbc41"
            ],
            [
             0.9,
             "#4d9221"
            ],
            [
             1,
             "#276419"
            ]
           ],
           "sequential": [
            [
             0,
             "#0d0887"
            ],
            [
             0.1111111111111111,
             "#46039f"
            ],
            [
             0.2222222222222222,
             "#7201a8"
            ],
            [
             0.3333333333333333,
             "#9c179e"
            ],
            [
             0.4444444444444444,
             "#bd3786"
            ],
            [
             0.5555555555555556,
             "#d8576b"
            ],
            [
             0.6666666666666666,
             "#ed7953"
            ],
            [
             0.7777777777777778,
             "#fb9f3a"
            ],
            [
             0.8888888888888888,
             "#fdca26"
            ],
            [
             1,
             "#f0f921"
            ]
           ],
           "sequentialminus": [
            [
             0,
             "#0d0887"
            ],
            [
             0.1111111111111111,
             "#46039f"
            ],
            [
             0.2222222222222222,
             "#7201a8"
            ],
            [
             0.3333333333333333,
             "#9c179e"
            ],
            [
             0.4444444444444444,
             "#bd3786"
            ],
            [
             0.5555555555555556,
             "#d8576b"
            ],
            [
             0.6666666666666666,
             "#ed7953"
            ],
            [
             0.7777777777777778,
             "#fb9f3a"
            ],
            [
             0.8888888888888888,
             "#fdca26"
            ],
            [
             1,
             "#f0f921"
            ]
           ]
          },
          "colorway": [
           "#636efa",
           "#EF553B",
           "#00cc96",
           "#ab63fa",
           "#FFA15A",
           "#19d3f3",
           "#FF6692",
           "#B6E880",
           "#FF97FF",
           "#FECB52"
          ],
          "font": {
           "color": "#2a3f5f"
          },
          "geo": {
           "bgcolor": "white",
           "lakecolor": "white",
           "landcolor": "#E5ECF6",
           "showlakes": true,
           "showland": true,
           "subunitcolor": "white"
          },
          "hoverlabel": {
           "align": "left"
          },
          "hovermode": "closest",
          "mapbox": {
           "style": "light"
          },
          "paper_bgcolor": "white",
          "plot_bgcolor": "#E5ECF6",
          "polar": {
           "angularaxis": {
            "gridcolor": "white",
            "linecolor": "white",
            "ticks": ""
           },
           "bgcolor": "#E5ECF6",
           "radialaxis": {
            "gridcolor": "white",
            "linecolor": "white",
            "ticks": ""
           }
          },
          "scene": {
           "xaxis": {
            "backgroundcolor": "#E5ECF6",
            "gridcolor": "white",
            "gridwidth": 2,
            "linecolor": "white",
            "showbackground": true,
            "ticks": "",
            "zerolinecolor": "white"
           },
           "yaxis": {
            "backgroundcolor": "#E5ECF6",
            "gridcolor": "white",
            "gridwidth": 2,
            "linecolor": "white",
            "showbackground": true,
            "ticks": "",
            "zerolinecolor": "white"
           },
           "zaxis": {
            "backgroundcolor": "#E5ECF6",
            "gridcolor": "white",
            "gridwidth": 2,
            "linecolor": "white",
            "showbackground": true,
            "ticks": "",
            "zerolinecolor": "white"
           }
          },
          "shapedefaults": {
           "line": {
            "color": "#2a3f5f"
           }
          },
          "ternary": {
           "aaxis": {
            "gridcolor": "white",
            "linecolor": "white",
            "ticks": ""
           },
           "baxis": {
            "gridcolor": "white",
            "linecolor": "white",
            "ticks": ""
           },
           "bgcolor": "#E5ECF6",
           "caxis": {
            "gridcolor": "white",
            "linecolor": "white",
            "ticks": ""
           }
          },
          "title": {
           "x": 0.05
          },
          "xaxis": {
           "automargin": true,
           "gridcolor": "white",
           "linecolor": "white",
           "ticks": "",
           "title": {
            "standoff": 15
           },
           "zerolinecolor": "white",
           "zerolinewidth": 2
          },
          "yaxis": {
           "automargin": true,
           "gridcolor": "white",
           "linecolor": "white",
           "ticks": "",
           "title": {
            "standoff": 15
           },
           "zerolinecolor": "white",
           "zerolinewidth": 2
          }
         }
        },
        "title": {
         "text": "UMAP of MiniLM embeddings (model=all-MiniLM-L6-v2) – Top-Level Tags (excl. 'A')"
        },
        "width": 1000,
        "xaxis": {
         "anchor": "y",
         "domain": [
          0,
          1
         ],
         "title": {
          "text": "umap_x"
         }
        },
        "yaxis": {
         "anchor": "x",
         "domain": [
          0,
          1
         ],
         "title": {
          "text": "umap_y"
         }
        }
       }
      }
     },
     "metadata": {},
     "output_type": "display_data"
    },
    {
     "name": "stdout",
     "output_type": "stream",
     "text": [
      "Visualization complete.\n"
     ]
    }
   ],
   "source": [
    "if df_vis.empty:\n",
    "    print(\"No data available for visualization. Check database connection, model name, or tag filters.\")\n",
    "else:\n",
    "    # Ensure deterministic color mapping (sorted tags)\n",
    "    unique_tags = sorted(df_vis['tag'].unique())\n",
    "    color_discrete_sequence = px.colors.qualitative.Alphabet\n",
    "    # If more tags than palette length, cycle\n",
    "    palette = [color_discrete_sequence[i % len(color_discrete_sequence)] for i in range(len(unique_tags))]\n",
    "    tag_color_map = {t: palette[i] for i, t in enumerate(unique_tags)}\n",
    "\n",
    "    fig = px.scatter(\n",
    "        df_vis,\n",
    "        x='umap_x',\n",
    "        y='umap_y',\n",
    "        color='tag',\n",
    "        hover_data=['file_id', 'filename', 'tag'],\n",
    "        title=f\"UMAP of MiniLM embeddings (model={MODEL_NAME}) – Top-Level Tags (excl. 'A')\",\n",
    "        width=1000,\n",
    "        height=800,\n",
    "        opacity=0.75,\n",
    "        color_discrete_map=tag_color_map,\n",
    "    )\n",
    "    fig.update_layout(legend_title_text=\"Tag\", legend=dict(itemsizing='trace', bordercolor='rgba(0,0,0,0.2)', borderwidth=1))\n",
    "    fig.update_traces(marker=dict(size=7, line=dict(width=0)))\n",
    "    fig.show()\n",
    "    print(\"Visualization complete.\")"
   ]
  }
 ],
 "metadata": {
  "kernelspec": {
   "display_name": ".venv",
   "language": "python",
   "name": "python3"
  },
  "language_info": {
   "codemirror_mode": {
    "name": "ipython",
    "version": 3
   },
   "file_extension": ".py",
   "mimetype": "text/x-python",
   "name": "python",
   "nbconvert_exporter": "python",
   "pygments_lexer": "ipython3",
   "version": "3.13.5"
  }
 },
 "nbformat": 4,
 "nbformat_minor": 5
}
