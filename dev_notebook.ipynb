{
 "cells": [
  {
   "cell_type": "code",
   "execution_count": null,
   "id": "29a846fb",
   "metadata": {},
   "outputs": [],
   "source": [
    "import os\n",
    "from db_models import FilingTag, FileLocation, File\n",
    "from sqlalchemy import create_engine, func\n",
    "from sqlalchemy.orm import sessionmaker\n",
    "import pandas as pd\n",
    "import matplotlib.pyplot as plt\n",
    "import seaborn as sns\n",
    "\n",
    "def get_db_engine():\n",
    "    \"\"\"Create and return a SQLAlchemy engine for the project database.\"\"\"\n",
    "    conn_string = (\n",
    "        f\"postgresql+psycopg://{os.getenv('PROJECT_DB_USERNAME')}:{os.getenv('PROJECT_DB_PASSWORD')}\"\n",
    "        f\"@{os.getenv('PROJECT_DB_HOST')}:{os.getenv('PROJECT_DB_PORT')}/{os.getenv('PROJECT_DB_NAME')}\"\n",
    "    )\n",
    "    return create_engine(conn_string)\n",
    "\n",
    "# Configure your database session\n",
    "engine = get_db_engine()\n",
    "Session = sessionmaker(bind=engine)\n",
    "session = Session()\n",
    "\n",
    "def file_tag_file_locations(filing_tag):\n",
    "    \"\"\"\n",
    "    Find all FileLocation entries where file_server_directories contains the filing tag label.\n",
    "    \n",
    "    Args:\n",
    "        filing_tag (FilingTag): The filing tag object to search for\n",
    "    \n",
    "    Returns:\n",
    "        list: FileLocation entries matching the criteria\n",
    "    \"\"\"\n",
    "    search_pattern = f\"{filing_tag.label} - \"\n",
    "    \n",
    "    # Query for FileLocation entries where file_server_directories contains the pattern\n",
    "    locations = session.query(FileLocation).filter(\n",
    "        FileLocation.file_server_directories.like(f\"%{search_pattern}%\")\n",
    "    ).all()\n",
    "    \n",
    "    return locations\n",
    "\n",
    "# Get all filing tags\n",
    "all_filing_tags = session.query(FilingTag).all()\n",
    "\n",
    "# Create a list to store results\n",
    "results = []\n",
    "\n",
    "# Iterate through all filing tags\n",
    "for tag in all_filing_tags:\n",
    "    # Get matching file locations\n",
    "    locations = file_tag_file_locations(tag)\n",
    "    count = len(locations)\n",
    "    \n",
    "    # Add to results\n",
    "    results.append({\n",
    "        'tag': tag.label,\n",
    "        'description': tag.description,\n",
    "        'file_locations_count': count\n",
    "    })\n",
    "\n",
    "# Convert to DataFrame for better visualization\n",
    "df_results = pd.DataFrame(results)\n",
    "\n",
    "# Sort by count in descending order\n",
    "df_results = df_results.sort_values('file_locations_count', ascending=False)\n",
    "\n",
    "# Display summary statistics\n",
    "print(f\"Found {len(df_results)} filing tags with {df_results['file_locations_count'].sum()} total file locations\")\n",
    "\n",
    "# Display top tags by location count\n",
    "display(df_results.head(20))\n",
    "\n",
    "# Visualize the top 15 tags by file location count\n",
    "plt.figure(figsize=(12, 8))\n",
    "top_tags = df_results.head(15)\n",
    "sns.barplot(x='file_locations_count', y='tag', data=top_tags)\n",
    "plt.title('Top 15 Filing Tags by File Location Count')\n",
    "plt.xlabel('Number of File Locations')\n",
    "plt.ylabel('Filing Tag')\n",
    "plt.tight_layout()\n",
    "plt.show()"
   ]
  },
  {
   "cell_type": "code",
   "execution_count": null,
   "id": "a06eea05",
   "metadata": {},
   "outputs": [],
   "source": [
    "# create spreadsheet from df_results\n",
    "df_results.to_csv('filing_tags_file_locations_summary.csv', index=False)"
   ]
  },
  {
   "cell_type": "code",
   "execution_count": null,
   "id": "ad9fc8dd",
   "metadata": {},
   "outputs": [],
   "source": [
    "import os\n",
    "import psycopg\n",
    "from dotenv import load_dotenv\n",
    "\n",
    "# Load environment variables from .env file\n",
    "load_dotenv()\n",
    "\n",
    "# Retrieve database credentials from environment variables\n",
    "DB_NAME = os.getenv(\"DB_NAME\")\n",
    "DB_USER = os.getenv(\"DB_USER\")\n",
    "DB_PASSWORD = os.getenv(\"DB_PASSWORD\")\n",
    "DB_HOST = os.getenv(\"DB_HOST\")\n",
    "\n",
    "# Establish a connection to the database\n",
    "conn = psycopg.connect(\n",
    "    dbname=DB_NAME,\n",
    "    user=DB_USER,\n",
    "    password=DB_PASSWORD,\n",
    "    host=DB_HOST\n",
    ")\n",
    "\n",
    "# Create a cursor to execute SQL commands\n",
    "cur = conn.cursor()\n",
    "\n",
    "# SQL statements to create tables\n",
    "sql_commands = [\n",
    "    \"\"\"\n",
    "    CREATE TABLE prototype_runs (\n",
    "      run_id SERIAL PRIMARY KEY,\n",
    "      model_name TEXT NOT NULL,\n",
    "      model_version TEXT NOT NULL,\n",
    "      algorithm TEXT NOT NULL,\n",
    "      hyperparams JSONB,\n",
    "      tag_filter TEXT,\n",
    "      created_at TIMESTAMPTZ DEFAULT now()\n",
    "    );\n",
    "    \"\"\",\n",
    "    \"\"\"\n",
    "    CREATE TABLE prototype_members (\n",
    "      run_id INTEGER REFERENCES prototype_runs(run_id) ON DELETE CASCADE,\n",
    "      tag TEXT REFERENCES filing_tags(label),\n",
    "      prototype_id SMALLINT DEFAULT 0,\n",
    "      file_id INTEGER REFERENCES files(id),\n",
    "      PRIMARY KEY (run_id, tag, prototype_id, file_id)\n",
    "    );\n",
    "    \"\"\",\n",
    "    \"\"\"\n",
    "    ALTER TABLE tag_prototypes ADD COLUMN run_id INTEGER\n",
    "      REFERENCES prototype_runs(run_id) ON DELETE SET NULL;\n",
    "    \"\"\",\n",
    "    \"\"\"\n",
    "    CREATE TABLE prototype_run_metrics (\n",
    "      run_id INTEGER REFERENCES prototype_runs(run_id) ON DELETE CASCADE,\n",
    "      metric_name TEXT,\n",
    "      value NUMERIC,\n",
    "      split TEXT,\n",
    "      PRIMARY KEY (run_id, metric_name, split)\n",
    "    );\n",
    "    \"\"\"\n",
    "]\n",
    "\n",
    "# Execute each command\n",
    "for command in sql_commands:\n",
    "    cur.execute(command)\n",
    "\n",
    "# Commit changes and close the connection\n",
    "conn.commit()\n",
    "cur.close()\n",
    "conn.close()"
   ]
  },
  {
   "cell_type": "code",
   "execution_count": null,
   "id": "3c39ad64",
   "metadata": {},
   "outputs": [],
   "source": [
    "import os\n",
    "from pathlib import Path\n",
    "from itertools import islice\n",
    "\n",
    "\n",
    "def visualize_directory_tree(\n",
    "    dir_path: Path,\n",
    "    level: int = -1,\n",
    "    limit_to_directories: bool = False,\n",
    "    length_limit: int = 1000000,\n",
    "    exclusion_list: list = None\n",
    "):\n",
    "    \"\"\"Given a directory Path object print a visual tree structure, with optional exclusions.\"\"\"\n",
    "    space = '    '\n",
    "    branch = '│   '\n",
    "    # pointers:\n",
    "    tee = '├── '\n",
    "    last = '└── '\n",
    "\n",
    "    dir_path = Path(dir_path)  # accept string coerceable to Path\n",
    "    files = 0\n",
    "    directories = 0\n",
    "    exclusion_set = set(exclusion_list) if exclusion_list else set()\n",
    "\n",
    "    def inner(dir_path: Path, prefix: str = '', level=-1):\n",
    "        nonlocal files, directories\n",
    "        if not level:\n",
    "            return  # 0, stop iterating\n",
    "        if limit_to_directories:\n",
    "            contents = [d for d in dir_path.iterdir() if d.is_dir() and d.name not in exclusion_set]\n",
    "        else:\n",
    "            contents = [d for d in dir_path.iterdir() if d.name not in exclusion_set]\n",
    "        pointers = [tee] * (len(contents) - 1) + [last] if contents else []\n",
    "        for pointer, path in zip(pointers, contents):\n",
    "            if path.is_dir():\n",
    "                yield prefix + pointer + path.name\n",
    "                directories += 1\n",
    "                extension = branch if pointer == tee else space\n",
    "                yield from inner(path, prefix=prefix + extension, level=level - 1)\n",
    "            elif not limit_to_directories:\n",
    "                yield prefix + pointer + path.name\n",
    "                files += 1\n",
    "\n",
    "    print(dir_path.name)\n",
    "    iterator = inner(dir_path, level=level)\n",
    "    for line in islice(iterator, length_limit):\n",
    "        print(line)\n",
    "    if next(iterator, None):\n",
    "        print(f'... length_limit, {length_limit}, reached, counted:')\n",
    "    print(f'\\n{directories} directories' + (f', {files} files' if files else ''))\n",
    "# exclude irrelevant directories\n",
    "exclude_dirs = [\n",
    "    '.venv',\n",
    "    '__pycache__',\n",
    "    'dev\\__pycache__',\n",
    "    '.git'\n",
    "]\n",
    "\n",
    "visualize_directory_tree(\n",
    "    dir_path= os.getcwd(),\n",
    "    exclusion_list= exclude_dirs\n",
    ")"
   ]
  },
  {
   "cell_type": "code",
   "execution_count": null,
   "id": "421e5ae7",
   "metadata": {},
   "outputs": [],
   "source": [
    "import os\n",
    "from text_extraction.pdf_extraction import PDFTextExtractor\n",
    "\n",
    "def test_pdf_text_extraction(directory_path):\n",
    "    \"\"\"\n",
    "    Test PDF text extraction on all files in the given directory.\n",
    "    \n",
    "    Args:\n",
    "        directory_path (str): Path to the directory containing PDF files.\n",
    "    \"\"\"\n",
    "    extractor = PDFTextExtractor()\n",
    "    for root, _, files in os.walk(directory_path):\n",
    "        for file in files:\n",
    "            if file.lower().endswith('.pdf'):\n",
    "                file_path = os.path.join(root, file)\n",
    "                try:\n",
    "                    print(f\"Extracting text from: {file_path}\")\n",
    "                    text = extractor(file_path)\n",
    "                    print(f\"Extracted text (first 500 characters):\\n{text[:500]}\\n\")\n",
    "                except Exception as e:\n",
    "                    print(f\"Failed to extract text from {file_path}: {e}\")\n",
    "\n",
    "# Example usage\n",
    "test_directory = \"path/to/your/pdf/directory\"\n",
    "test_pdf_text_extraction(test_directory)"
   ]
  },
  {
   "cell_type": "code",
   "execution_count": null,
   "id": "02122255",
   "metadata": {},
   "outputs": [],
   "source": [
    "# this cell is for populating /test_files with test files from the server\n",
    "import os\n",
    "import shutil\n",
    "from db_models import FileLocation, File, get_db_engine\n",
    "from sqlalchemy.orm import sessionmaker\n",
    "from sqlalchemy.sql import func, or_\n",
    "\n",
    "SERVER_MOUNT_LOCATION = r\"N:\\PPDO\\Records\"\n",
    "\n",
    "ext_lists_list = [\n",
    "['pdf'],\n",
    "[\"html\", \"htm\", \"mhtml\", \"mht\"],\n",
    "[\"eml\", \"msg\"],\n",
    "[\"png\", \"jpg\", \"jpeg\", \"tif\", \"tiff\", \"bmp\", \"gif\"],\n",
    "[\"docx\", \"docm\", \"doc\", \"rtf\"],\n",
    "[\"xlsx\", \"xlsm\", \"xls\", \"xlsb\", \"ods\", \"csv\", \"tsv\"],\n",
    "['txt', 'md', 'log', 'csv', 'json', 'xml', 'yaml', 'yml', 'ini', 'cfg', 'conf']\n",
    "]\n",
    "\n",
    "def get_test_file_locations(session, n, size_limit, ext_list):\n",
    "    \"\"\"\n",
    "    Get random test files from the database based on specified criteria.\n",
    "    \"\"\"\n",
    "    query = (\n",
    "        session\n",
    "        .query(FileLocation)\n",
    "        .join(File, FileLocation.file)\n",
    "        .filter(\n",
    "            File.size < size_limit,\n",
    "            FileLocation.file_server_directories.isnot(None)\n",
    "        )\n",
    "    )\n",
    "\n",
    "    if ext_list:\n",
    "        ext_filters = [\n",
    "            FileLocation.filename.ilike(f\"%.{ext}\") \n",
    "            for ext in ext_list\n",
    "        ]\n",
    "        query = (\n",
    "            query\n",
    "            .filter(or_(*ext_filters))\n",
    "            .order_by(func.random())\n",
    "        )\n",
    "\n",
    "    return query.limit(n).all()\n",
    "\n",
    "def save_test_files_to_directory(session, n, size_limit, ext_lists_list, destintation = os.path.join(os.getcwd(), \"test_files\")):\n",
    "    \"\"\"\n",
    "    Save test files to a specified directory based on given criteria.\n",
    "    \n",
    "    Args:\n",
    "        session: SQLAlchemy session object.\n",
    "        n (int): Number of files to retrieve.\n",
    "        size_limit (int): Maximum file size in bytes.\n",
    "        ext_lists_list: List of lists containing file extensions.\n",
    "        base_dir (str): Base directory to save the test files.\n",
    "    \"\"\"\n",
    "    for ext_list in ext_lists_list:\n",
    "        locations = get_test_file_locations(session, n, size_limit, ext_list)\n",
    "        for loc in locations:\n",
    "            file_path = loc.local_filepath(SERVER_MOUNT_LOCATION)\n",
    "            if file_path and file_path.exists():\n",
    "                dest_path = os.path.join(destintation, loc.filename)\n",
    "                shutil.copy2(file_path, dest_path)\n",
    "                print(f\"Copied {loc.filename} to {dest_path}\")\n",
    "                continue\n",
    "\n",
    "            if file_path and not file_path.exists():\n",
    "                print(f\"File {file_path} does not exist, skipping.\")\n",
    "                continue\n",
    "\n",
    "        print(f\"Test files saved to {destintation}\")\n",
    "            \n"
   ]
  },
  {
   "cell_type": "code",
   "execution_count": null,
   "id": "3a255e3f",
   "metadata": {},
   "outputs": [],
   "source": [
    "# 50MB size limit\n"
   ]
  },
  {
   "cell_type": "code",
   "execution_count": 1,
   "id": "a851098e",
   "metadata": {},
   "outputs": [
    {
     "name": "stdout",
     "output_type": "stream",
     "text": [
      "Extracting text from 00 Bid Summary.xls using SpreadsheetTextExtractor\n",
      "Extracted text from 00 Bid Summary.xls:\n",
      "=== Sheet: Bid Summary === Unnamed: 2 Unnamed: 3 PROJECT:Campuswide Street Striping '2000\" PROJECT No. 02700 TIME: 3:00 P.M. PROJECT MANAGER: Pete Butterworth DATE: May 18, 2000 CONTRACTOR BASE BID\n",
      "\n",
      "Extracting text from 10641_-_081416-01_R0_-_Interior_Flush_Wood_Doors.pdf using PDFTextExtractor\n",
      "Extracted text (first 800 characters) from 10641_-_081416-01_R0_-_Interior_Flush_Wood_Doors.pdf:\n",
      "U n i v e r s i t y o f C a l i f o r n i a , S a n t a C r u z Physical Planning & Development Operations 1156 High Street - Barn G Santa Cruz, CA 95064 constdoc@ucsc.edu Project 10641, Westside Research Park (2300 Delaware) - Building A & B Research Office Renovation Submittal No: 081416-01 R0 Review Ends on 5/15/2025 Review Action Taken: □ No Review Necessary □ No Exceptions Taken □ Implement Exceptions Noted □ Revise and Resubmit □ Rejected The review is for general conformance with design conceptand with the contract documents. Markings or comments shall not be construed as relieving the Contractor from compliance with the project plans and specifications, nor as authorizing departures therefrom. The Contractor remains responsible for details and accuracy, for selecting fabrication pr\n",
      "\n",
      "Extracting text from 131-DUIT.DOC using WordFileTextExtractor\n",
      "Extracted text (first 800 characters) from 131-DUIT.DOC:\n",
      "SECTION 16131 - CONDUIT PART 1 - GENERAL 1.1 SUMMARY A. Work included: Labor, materials and equipment necessary to complete the installation required for the item specified under this Division, including but not limited to: 1. Rigid steel conduit and fittings. 2. PVC insulated rigid steel conduit and fittings. 3. Intermediate metal conduit and fittings. 4. Electrical metallic tubing and fittings. 5. Flexible metallic conduit and fittings. 6. Liquidtight flexible metallic conduit and fittings. 7. Rigid aluminum conduit and fittings. 8. Miscellaneous conduit fittings and products. B. Related work: Consult all other Sections, determine the extent and character of related work and properly coordinate work specified herein with that specified elsewhere to produce a complete installation. 1. Div\n",
      "\n",
      "Extracting text from 160411_KRESGE_ARCH_SUMMARYSHEET_INTERVIEW_FINAL_01.xlsx using SpreadsheetTextExtractor\n",
      "Extracted text (first 800 characters) from 160411_KRESGE_ARCH_SUMMARYSHEET_INTERVIEW_FINAL_01.xlsx:\n",
      "=== Sheet: Sheet1 === Unnamed: 1 Unnamed: 2 Unnamed: 3 Unnamed: 4 Unnamed: 5 Unnamed: 6 Unnamed: 7 Unnamed: 8 Unnamed: 9 Unnamed: 10 Unnamed: 11 PROJECT TEAMS STUDIO GANG STUDIO MA MRY LOHA PYATOK Architecture -- Principal Studio Gang Jeanne Gang (Design) March Schendel (Managing) Steve Wiesenthal (Project) Studio Ma Christiana Moss MRY James Mary OConnor, Principal in Charge Buzz Yudell, Collaborating Partner John Ruble, Design Partner LOHA Lorcan O'Herlihy, Principal in Charge Page / BMS . . Pyatok Design Advisors Barbara Maloney, Principal in Charge Dan Kenney, Plann Princ. David Quenemoen, Design Princ Peter Waller, Arch Princ. Larry Speck, Design Principal Donlyn Lyndon, Consultant Architecture -- Project Arch /Designer Studio Gang Todd Zima (Principal) Studio Ma Christopher Alt LOHA \n",
      "\n",
      "Extracting text from 2017 06 26 WO#403818 Porter Acad - Projector & Screen Install - ESTIMATE.xlsx using SpreadsheetTextExtractor\n",
      "Extracted text (first 800 characters) from 2017 06 26 WO#403818 Porter Acad - Projector & Screen Install - ESTIMATE.xlsx:\n",
      "=== Sheet: Work Order Estimate === WORK ORDER ESTIMATE Unnamed: 1 Unnamed: 3 Unnamed: 4 Unnamed: 5 Unnamed: 6 Unnamed: 10 Unnamed: 11 Unnamed: 12 Unnamed: 13 DATE: 2017-12-19 00:00:00 TO: Meredith Dyer FROM: Zachary Teske POJECT: Porter Academic 217 - Projector Screen WO#: 403818 FPR#: TBD Per your request, we have provided an estimated project cost and schedule for the attached Work Order. The estimate is based on the noted project description and qualifications. If you wish to proceed with this work, please sign and date the estimate, forward it to the Physical Plant Work Order Desk and request a Facilities Project Requisition (FPR) be set up for the estimated scope of work. If you do not wish to proceed, please write CANCEL prominently on the this form and return it to the Physical Plan\n",
      "\n",
      "Extracting text from 2300 Delaware Alts Request for Campus Funding draft 3 11 16.docx using WordFileTextExtractor\n",
      "Extracted text (first 800 characters) from 2300 Delaware Alts Request for Campus Funding draft 3 11 16.docx:\n",
      "__Memorandum__ __Date: __10 March 2016 __To: __Alison Galloway, Provost / Executive Vice Chancellor __From: __Sarah C\\. Latham, Vice Chancellor Business and Administrative Services __Re: __2300 Delaware Alterations for Academic Programs – Building C Alterations for Academic Programs Phase 1 \\(Warm Shell\\), Material Sciences Lab Phase 1 \\(Clean Room\\) Material Sciences Lab Phase 2 \\(Scanning Tunneling Microscope Lab\\) Additional Campus Funding Request Request to Proceed with Preparation of Revised CIB’s, Revised Project Summaries, and a Project Planning Guide Addendum requesting augmentation This memo serves to update you on 2300 Delaware Alterations for Academic Programs – Building C Warm Shell and related laboratory improvements project and request your authorization for Planning and Budg\n",
      "\n",
      "Extracting text from 2318-069B.H.SKMBT C224e18061307240.pdf using PDFTextExtractor\n"
     ]
    },
    {
     "data": {
      "application/vnd.jupyter.widget-view+json": {
       "model_id": "e525758b277c4f8683a211f62db09ddd",
       "version_major": 2,
       "version_minor": 0
      },
      "text/plain": [
       "Output()"
      ]
     },
     "metadata": {},
     "output_type": "display_data"
    },
    {
     "data": {
      "text/html": [
       "<pre style=\"white-space:pre;overflow-x:auto;line-height:normal;font-family:Menlo,'DejaVu Sans Mono',consolas,'Courier New',monospace\"></pre>\n"
      ],
      "text/plain": []
     },
     "metadata": {},
     "output_type": "display_data"
    },
    {
     "data": {
      "application/vnd.jupyter.widget-view+json": {
       "model_id": "c662dfdec9a54155acf13d6c0bcaa1ca",
       "version_major": 2,
       "version_minor": 0
      },
      "text/plain": [
       "Output()"
      ]
     },
     "metadata": {},
     "output_type": "display_data"
    },
    {
     "data": {
      "text/html": [
       "<pre style=\"white-space:pre;overflow-x:auto;line-height:normal;font-family:Menlo,'DejaVu Sans Mono',consolas,'Courier New',monospace\"></pre>\n"
      ],
      "text/plain": []
     },
     "metadata": {},
     "output_type": "display_data"
    },
    {
     "data": {
      "application/vnd.jupyter.widget-view+json": {
       "model_id": "e1949f5a9a7e4f8e92cd2a09b5c455e9",
       "version_major": 2,
       "version_minor": 0
      },
      "text/plain": [
       "Output()"
      ]
     },
     "metadata": {},
     "output_type": "display_data"
    },
    {
     "data": {
      "text/html": [
       "<pre style=\"white-space:pre;overflow-x:auto;line-height:normal;font-family:Menlo,'DejaVu Sans Mono',consolas,'Courier New',monospace\"></pre>\n"
      ],
      "text/plain": []
     },
     "metadata": {},
     "output_type": "display_data"
    },
    {
     "data": {
      "application/vnd.jupyter.widget-view+json": {
       "model_id": "6ea262bd9b894c499741cc0468e519e4",
       "version_major": 2,
       "version_minor": 0
      },
      "text/plain": [
       "Output()"
      ]
     },
     "metadata": {},
     "output_type": "display_data"
    },
    {
     "data": {
      "text/html": [
       "<pre style=\"white-space:pre;overflow-x:auto;line-height:normal;font-family:Menlo,'DejaVu Sans Mono',consolas,'Courier New',monospace\"></pre>\n"
      ],
      "text/plain": []
     },
     "metadata": {},
     "output_type": "display_data"
    },
    {
     "data": {
      "application/vnd.jupyter.widget-view+json": {
       "model_id": "89eb5ca5ed444d37a6a77b5b2926e560",
       "version_major": 2,
       "version_minor": 0
      },
      "text/plain": [
       "Output()"
      ]
     },
     "metadata": {},
     "output_type": "display_data"
    },
    {
     "data": {
      "text/html": [
       "<pre style=\"white-space:pre;overflow-x:auto;line-height:normal;font-family:Menlo,'DejaVu Sans Mono',consolas,'Courier New',monospace\"></pre>\n"
      ],
      "text/plain": []
     },
     "metadata": {},
     "output_type": "display_data"
    },
    {
     "data": {
      "application/vnd.jupyter.widget-view+json": {
       "model_id": "38d294c575fa4f5a84868a4127466509",
       "version_major": 2,
       "version_minor": 0
      },
      "text/plain": [
       "Output()"
      ]
     },
     "metadata": {},
     "output_type": "display_data"
    },
    {
     "data": {
      "text/html": [
       "<pre style=\"white-space:pre;overflow-x:auto;line-height:normal;font-family:Menlo,'DejaVu Sans Mono',consolas,'Courier New',monospace\"></pre>\n"
      ],
      "text/plain": []
     },
     "metadata": {},
     "output_type": "display_data"
    },
    {
     "name": "stderr",
     "output_type": "stream",
     "text": [
      "The output file size is 11.49× larger than the input file.\n",
      "Possible reasons for this include:\n",
      "--deskew was issued, causing transcoding.\n",
      "The optional dependency 'jbig2' was not found, so some image optimizations could not be attempted.\n",
      "The optional dependency 'pngquant' was not found, so some image optimizations could not be attempted.\n",
      "\n"
     ]
    },
    {
     "name": "stdout",
     "output_type": "stream",
     "text": [
      "Extracted text (first 800 characters) from 2318-069B.H.SKMBT C224e18061307240.pdf:\n",
      "Felton Aggregate Plant 1800 Felton Quarry Road Felton, CA 95018 TESTING LABORATORIES 831-335-3445 06/13/2018 The following is submitted for your review and acceptance: 1827 - 3/8\" Crushed-3/8\" AGG Procedure Sieve/Test Average Unit Granite 2017 CT 202 1/2\" 100 % 98-100 CT 202 3/8\" 88 % 80-98 CT 202 #4 13 % 1-25 CT 202 #8 4 * 0-10 CT 202 #16 3 % CT 202 #30 2 % CT 202 #50 2 % CT 202 #100 4 % CT 202 #200 09 % oo \"Gradloss SS 0.000 8 »§% ~ ASTM C-131 LA Abrasion (C,100) 13.8 % ASTM C-131 LA Abrasion (C,500) 42.8 % CT 207 Absorption 0.68 % CT 207 SPGR (Dry,Gsb) 2.610 CT 207 SPGR (SSD) 2.628 CT 208 SPGR (Apparent,Gsa) 2.657 CT 208 SPGR Coarse (Dry, Gsb) 2.610 CT 208 SPGR Coarse (SSD) 2.628 CT 208 SPGR Coarse (Apparent, Gsa) 2.657 CT 212 Unit Wt (Rodded) 92.5 Ib/AA3 CT 226 Total Moisture 0.74 % If\n",
      "\n",
      "Extracting text from 2638 Daily 4.24.17.pdf using PDFTextExtractor\n",
      "Extracted text (first 800 characters) from 2638 Daily 4.24.17.pdf:\n",
      "Y t I - a=)bf se>-\\c+2t e 5> v't^e\\) ^oelg Php s'.loPul'O *G*,\\ g f *clj : s \\4p1 fr*J *1 qt^^ ,61 mfic^r dyna) 4,?,^ ,^^r\",rP \"11 ttlhzlxo 5 tG S o1a ?luarr;? tt )st@? tsr*)Ce [ppsqr tr 6 I 6irr*t$ AtonT fF 6-r-\\ bol i'b /',t \"+Tf= 15''oa ?\\rqv p -24,,ff\\ ))\"J gt.n$ 7 'r)-, tnl- l-Q, -S,1nS svJ t J)\"'-\"\\ f ubropf s>A t ev./o( a1>n,ls ): qtu -- -S\",n t{ 5' r'rolf )ozfvnoS-ao fW ,it..,o=P =f =. :s'4\\ 2 Jn o1@f> P-o a{a'o}lo-' apgJ ,u\\ z- J^ ,\"rr1, ?glsfrp t Wu\"#, !l.t) )roq *'\"f y \\- \" 3>tf tnlf\".D y)Wn\"S C so%q b.D-rj -^afill srY & \\:r r-'*3 e ru.* !% .r\"1 ) 1-^*.,np.4oJ.;J J *co,+ yt,rf=n s \\.-*/\\\\aJ * fijE Jrlrn c)* \\^QS#,-r \"rrt I \\-.L^A*+b+o,l J Joe,& ttl.r-a sl*,r!2 nh7 J- r6en -A)'c= \"A\\t I ?WrtL^s) -/neA a,Lo1J-,.te 6\"uo1ssr1E Al,rno> J# toeo> ----' ;ffi7. c* *=-/ orrfl L rornfuJ =u\n",
      "\n",
      "Extracting text from 3100-179.E4.17 04 05 - 3100-179 Baskin Arts Siding Replacement Meeting Agenda.docx using WordFileTextExtractor\n",
      "Extracted text from 3100-179.E4.17 04 05 - 3100-179 Baskin Arts Siding Replacement Meeting Agenda.docx:\n",
      "April 5, 2017 __Project 3100\\-179 Baskin Arts Siding Replacement__ __Scope / Schedule / Budget Review__ - Introductions - Review Scope Deferred Maintenance project - Original Scope \\(UCSC generated document\\) - Current Scope \\(Specs Section 00 24 00\\) - Prioritize Buildings to be Repaired – Refer to Colored Map - Review Budget – Refer to Budget Sheet - Review / Modify Bidding Strategy - Discuss Schedule - How long of a construction period – 45 days? 60 days? Something else? - How impactful to building operations will construction be? - Timing of work during Summer 2017 - Other Items - Questions / Wrap\\-up\n",
      "\n",
      "Extracting text from 3200-014A.F7.Bid Sum.xls using SpreadsheetTextExtractor\n",
      "Extracted text from 3200-014A.F7.Bid Sum.xls:\n",
      "=== Sheet: Sheet1 === Unnamed: 0 Unnamed: 1 Unnamed: 2 Unnamed: 3 2016-06-08 00:00:00 Project: Redwood Grove - Furnace Replacements Project No. 3200-014A Project Manager: Michael Dolder CONTRACTOR Base Bid TOTAL **Bogner Sheet Metal 62879 62879 Geo. H. Wilson 68999 68999 K.T. Mechanical, Inc. NONRESPONSIVE O.C. McDonald Co., Inc. NONRESPONSIVE ** LOW BIDDER. === Sheet: Sheet2 === Unnamed: 0 Unnamed: 1 Unnamed: 2 Unnamed: 3 Unnamed: 4 Unnamed: 5 CONTRACTOR BASE BID Alternate 1 Alternate 2 Alternate 3 TOTAL A 65765 4112 2102 3126 75105 B 68500 3650 2075 1850 76075 C 80235 5337 2993 2972 91537 D 86314 5438 2835 2425 91752 0 0 0 0 0 0 0 0 0 0 0 0 0 0 0 === Sheet: Sheet3 ===\n",
      "\n",
      "Extracting text from 4-20-17.pdf using PDFTextExtractor\n",
      "Extracted text from 4-20-17.pdf:\n",
      "4/20/17 \u0014 Phase B telecommunication 9097 HJKL Hinson Construction 3D datacom IES johnson Electronic pm \u0014 am 9097 H 1 Painters Consolitated . Cyclops 3 Flooring Geo Wilson 2 Fire sprinkler 2 HVAC 2 9097 K IES 5 IES starts demo of old cat-5 at the 2th floor of C wing of Earth and Mairne. Wulff 9097 J 3D datacom 10 Wulff 3 9097 L Johnson elect 3 Electric\n",
      "\n",
      "Extracting text from 4934B Delam Repair UCSC Expenses rev, 10.4.18.xlsx using SpreadsheetTextExtractor\n",
      "Extracted text from 4934B Delam Repair UCSC Expenses rev, 10.4.18.xlsx:\n",
      "=== Sheet: Sheet1 === 4934B Delamination Coating Deficiency Repair Prepared 9.20.18 Revised 10.12.18 September 2020 Repair Notes Item # Item Total 1 Research expenses 249119 September 2020 is the earliest date researchers can accommodate the repair. Earlier date will severely affect research and cost estimate wouldn't be available until 11/2018. 2 UCSC Management fees 7000 3 Total estimated UCSC costs 256119\n",
      "\n",
      "Extracting text from 5.13.html using HtmlTextExtractor\n",
      "Extracted text from 5.13.html:\n",
      "Proposed Campus Core PROPOSED CAMPUS CORE [Previous Page: Existing Campus Core ] [Next Page: Existing Major Campus Roads ] [ Return to Maps ] [ Return to Main Page ]\n",
      "\n",
      "Extracting text from 5300-043-CFR Inc.xls using SpreadsheetTextExtractor\n",
      "Extracted text (first 800 characters) from 5300-043-CFR Inc.xls:\n",
      "=== Sheet: Estimate === Unnamed: 0 Unnamed: 1 Unnamed: 2 Unnamed: 3 Unnamed: 4 Unnamed: 5 Unnamed: 6 Unnamed: 7 Unnamed: 8 Unnamed: 10 WORK ORDER AND FPR ESTIMATE Revised 8/10/05 DATE: 2015-06-30 00:00:00 TO: Jan Casella FROM: Kevin Foisie SUBJECT: College 8 Dining Soda Machine Sewer Repairs WO / FPR #: 64428 Per your request, we have provided an estimated project cost and schedule for the attached Facilities Project Request (FPR). The estimate is based on the noted project description and qualifications. If you wish to proceed with the work, please sign and date this estimate and complete the attached Request for Increase form. When complete, return both forms to the Physical Plant Work Order Desk. If you do not wish to proceed, please write CANCEL prominently on the FPR form and return i\n",
      "\n",
      "Extracting text from 5304BC1E.bgdomain.bgpostoffice.100.16A3779.1.1C1BE.1.xml using TextFileTextExtractor\n",
      "Extracted text (first 800 characters) from 5304BC1E.bgdomain.bgpostoffice.100.16A3779.1.1C1BE.1.xml:\n",
      "5304BC1E.bgdomain.bgpostoffice.100.16A3779.1.1C1BE.1 5304BC1E.bgdomain.bgpostoffice.100.16A3779.1.1C1BE.1 Mail 2008.1 1392848030 1351788591 true false false false true true sent 1351788592 Public Normal David Tanza dtanza@bogardconst.com dtanza@bogardconst.com David Tanza@davidt.bgpostoffice.bgdomain 1398197504315 xml/UCSC DNA Lab - Thimann 137\\ADA + Code/5304BC1E.bgdomain.bgpostoffice.100.16A3779.1.1C1BE.1.xml 1351788591 GW.MESSAGE.MAIL Re: 2012 Code Question: Thimann Lab Ancient DNA David Tanza dtanza@bogardconst.com dtanza@bogardconst.com dtanza@bogardconst.com David Tanza Josephine L. Ortega Josephine L. Ortega ortegajl@ucsc.edu 5304BC1E.bgdomain.bgpostoffice.100.16A3779.1.1C1BE.1_R_1 TO User 0 0 0 0 0 0 0 0 0 0 0 0 0 0 0 0 0 0 0 0 0 false 0 None false 4F0C0BED.bgdomain.bgpostoffice.10\n",
      "\n",
      "Extracting text from 5304BC38.bgdomain.bgpostoffice.100.16A3779.1.1C1E0.1.xml using TextFileTextExtractor\n",
      "Extracted text from 5304BC38.bgdomain.bgpostoffice.100.16A3779.1.1C1E0.1.xml:\n",
      "1360698672 0 William Glass <wrglass@glassarchplan.com> Re: DSA #01-112830 Question 0 2008.1 7hZxuyNyB+wkwY2j1lgFPS7x4aw= accounts\\David Tanza@davidt.bgpostoffice.bgdomain\\xml\\UCSC DNA Lab - Thimann 137\\ADA + Code\\5304BC38.bgdomain.bgpostoffice.100.16A3779.1.1C1E0.1.xml UCSC DNA Lab - Thimann 137\\ADA + Code Generated by Messaging Architects cn=Archive Agent_Native Archive Job,ou=Jobs,ou=GWOpenNode(192.168.0.235),o=archive. Exported by LQuale.bgpostoffice.bgdomain Exported by LQuale.bgpostoffice.bgdomain\n",
      "\n",
      "Extracting text from 5304BF93.bgdomain.bgpostoffice.100.16A3779.1.1C2DC.1.xml using TextFileTextExtractor\n",
      "Extracted text (first 800 characters) from 5304BF93.bgdomain.bgpostoffice.100.16A3779.1.1C2DC.1.xml:\n",
      "5304BF93.bgdomain.bgpostoffice.100.16A3779.1.1C2DC.1 5304BF93.bgdomain.bgpostoffice.100.16A3779.1.1C2DC.1 Mail 2008.1 1392848915 1325863195 true false false false true true sent 1325863195 Public Normal David Tanza dtanza@bogardconst.com dtanza@bogardconst.com David Tanza@davidt.bgpostoffice.bgdomain 1398197504315 xml/UCSC DNA Lab - Thimann 137\\EH_S/5304BF93.bgdomain.bgpostoffice.100.16A3779.1.1C2DC.1.xml 1325863195 GW.MESSAGE.MAIL Re: UCSC Project - Testing David Tanza dtanza@bogardconst.com dtanza@bogardconst.com dtanza@bogardconst.com David Tanza Christina Codemo Christina Codemo ccodemo@sca-enviro.com 5304BF93.bgdomain.bgpostoffice.100.16A3779.1.1C2DC.1_R_1 TO User 0 0 0 0 0 0 0 0 0 0 0 0 0 0 0 0 0 0 0 0 0 false 0 None false 4EDF422A.bgdomain.bgpostoffice.100.16A3779.1.50994.1 EH&S Nor\n",
      "\n",
      "Extracting text from 5304BFBE.bgdomain.bgpostoffice.100.16A3779.1.1C309.1.xml using TextFileTextExtractor\n",
      "Extracted text from 5304BFBE.bgdomain.bgpostoffice.100.16A3779.1.1C309.1.xml:\n",
      "1368828447 0 David Tanza Re: [FWD: RE: Ancient DNA Lab - Fume Hood] 0 2008.1 3aoYmEjaGiS60jT8BHRmnZ56wx4= accounts\\David Tanza@davidt.bgpostoffice.bgdomain\\xml\\UCSC DNA Lab - Thimann 137\\EH_S\\5304BFBE.bgdomain.bgpostoffice.100.16A3779.1.1C309.1.xml UCSC DNA Lab - Thimann 137\\EH_S Generated by Messaging Architects cn=Archive Agent_Native Archive Job,ou=Jobs,ou=GWOpenNode(192.168.0.235),o=archive. Exported by LQuale.bgpostoffice.bgdomain Exported by LQuale.bgpostoffice.bgdomain\n",
      "\n",
      "Extracting text from 5304DB50.bgdomain.bgpostoffice.100.16A3779.1.1CCAA.1.xml using TextFileTextExtractor\n",
      "Extracted text (first 800 characters) from 5304DB50.bgdomain.bgpostoffice.100.16A3779.1.1CCAA.1.xml:\n",
      "5304DB50.bgdomain.bgpostoffice.100.16A3779.1.1CCAA.1 5304DB50.bgdomain.bgpostoffice.100.16A3779.1.1CCAA.1 Mail 2008.1 1392856016 1358208841 true false false false true true sent 1358208841 Public Normal David Tanza dtanza@bogardconst.com dtanza@bogardconst.com David Tanza@davidt.bgpostoffice.bgdomain 1398197504315 xml/UCSC DNA Lab - Thimann 137\\Bill Glass/5304DB50.bgdomain.bgpostoffice.100.16A3779.1.1CCAA.1.xml 1358208841 GW.MESSAGE.MAIL Re: thimann rfi 043 David Tanza dtanza@bogardconst.com dtanza@bogardconst.com dtanza@bogardconst.com David Tanza William Glass William Glass wrglass@glassarchplan.com 5304DB50.bgdomain.bgpostoffice.100.16A3779.1.1CCAA.1_R_1 TO User 0 0 0 0 0 0 0 0 0 0 0 0 0 0 0 0 0 0 0 0 0 false 0 None false 4EF0BF09.bgdomain.bgpostoffice.100.16A3779.1.5158D.1 Bill Glass N\n",
      "\n",
      "Extracting text from 5304DC12.bgdomain.bgpostoffice.100.16A3779.1.1CD91.1.xml using TextFileTextExtractor\n",
      "Extracted text from 5304DC12.bgdomain.bgpostoffice.100.16A3779.1.1CD91.1.xml:\n",
      "1334340356 0 David Tanza Demo Docs 0 2008.1 39wjuG1bhD1S19VDygb/s1AYSzc= accounts\\David Tanza@davidt.bgpostoffice.bgdomain\\xml\\UCSC DNA Lab - Thimann 137\\Bill Glass\\5304DC12.bgdomain.bgpostoffice.100.16A3779.1.1CD91.1.xml UCSC DNA Lab - Thimann 137\\Bill Glass Generated by Messaging Architects cn=Archive Agent_Native Archive Job,ou=Jobs,ou=GWOpenNode(192.168.0.235),o=archive. Exported by LQuale.bgpostoffice.bgdomain Exported by LQuale.bgpostoffice.bgdomain\n",
      "\n",
      "Extracting text from 9.13.09.xls using SpreadsheetTextExtractor\n",
      "Extracted text from 9.13.09.xls:\n",
      "=== Sheet: Sheet1 === Inspectors Daily Project Log : Unnamed: 1 Unnamed: 2 Date : 9-13-09 Unnamed: 5 Project Cowell Student Health Weather : A.M. P.M. Project # 2806 CLEAR CLEAR Contractor DPR IOR : Cordell Trumbo Sub contractor # Work performed ALLIED ESI SPRIG 1 hooked up new exhaust fan on west wing roof ef-5. GRANITE ALAMILLO BCI CTS OLSON BRADY 1 sanded wall around door 0200K for feild order 72 Inspections / Notes === Sheet: Sheet2 === === Sheet: Sheet3 ===\n",
      "\n",
      "Extracting text from a.htm using HtmlTextExtractor\n",
      "No text extracted from a.htm in temporary directory\n",
      "Extracting text from AeccPartParamCfg - Copy.xml using TextFileTextExtractor\n",
      "No text extracted from AeccPartParamCfg - Copy.xml in temporary directory\n",
      "Extracting text from Biomed - NIH Budget Analysis 082610.xls using SpreadsheetTextExtractor\n",
      "Extracted text (first 800 characters) from Biomed - NIH Budget Analysis 082610.xls:\n",
      "=== Sheet: Sheet1 === Biomed - NIH Budget Analysis Unnamed: 1 Unnamed: 2 Unnamed: 3 Unnamed: 4 Unnamed: 5 NIH Grant Application Conceptual Cost Plan (DL) 05/05/2009 NIH Grant Funding Approval 03/05/2010 100% CD Cost Estimate (DL) 08/03/2010 UCSC Change Order Negotiation Target based on Devcon Cost Proposal 08/24/2010 DL Revised Cost Estimate after Preliminary Devcon Cost Proposal Review 08/26/2010 Assumed NIH work release Aug 2010 Assumed NIH work release Aug 2010 Assumed NIH work release Aug 2010 Assumed NIH work release Aug 2010 Construction Costs 2763000 2155324 2955000 4250000 3826000 UCSC Purchased Equipment 1487000 1246013 1487000 1487000 1487000 Contingency 214000 195980 214000 529000 529000 Soft Costs (Consultants & UCSC) 535500 518264 535500 535500 535500 Total 4999500 4115581 519\n",
      "\n",
      "Extracting text from Bulletin 86_S3.30.pdf using PDFTextExtractor\n",
      "Extracted text from Bulletin 86_S3.30.pdf:\n",
      "LEVEL 1 0' - 0\" GA GB GC GREENHOUSE SUPPORT LOW ROOF 12' - 9 1/2\" GREENHOUSE SUPPORT HIGH ROOF 19' - 9\" GREENHOUSE 4 S6.30 2 S6.30 1 S6.30 1 S4.30 2 S4.30 O.H. 1 S4.30 LEVEL 1 0' - 0\" GA GB GC GREENHOUSE SUPPORT LOW ROOF 12' - 9 1/2\" GREENHOUSE SUPPORT HIGH ROOF 19' - 9\" GREENHOUSE 9 S6.30 6 S6.30 1 S6.30 1 S4.30 1 S4.30 O.H. 8 S6.30 6 S6.30 A,B,C University of California, Santa Cruz Coastal Biology Building ARCHITECTURE INTERIORS PLANNING URBAN DESIGN 500 TREAT AVE. #201 SAN FRANCISCO CALIFORNIA 94110 ARCH@EHDD.COM T 415-285-9193 F 415-285-3866 STRUCTURAL SECTIONS & ELEVATIONS\n",
      "\n",
      "Extracting text from clientFloorplanViewer.htm using HtmlTextExtractor\n",
      "Extracted text from clientFloorplanViewer.htm:\n",
      "Multivista\n",
      "\n",
      "Extracting text from CNC Incremental Cost Template.xls using SpreadsheetTextExtractor\n",
      "Extracted text from CNC Incremental Cost Template.xls:\n",
      "=== Sheet: Sheet 1 === Incremental Measure Cost Table Unnamed: 1 Unnamed: 2 Unnamed: 3 Project Name: Project Number: Energy Efficiency Measure <1> Title 24 Baseline Cost Estimated Actual Cost Difference Fan Filter Units 0 0 0 Space Cooling Equipment (e.g., Package Units or Chillers) 0 0 0 Etc. 0 0 0 Totals 0 0 0 Notes <1> These are just examples; please include measures relevant to your project. <2> Incremental costs can include design, materials and labor.\n",
      "\n",
      "Extracting text from Coastal Biology Building_ Next 3 Weeks 15-06-24 (1).xls using SpreadsheetTextExtractor\n",
      "Extracted text (first 800 characters) from Coastal Biology Building_ Next 3 Weeks 15-06-24 (1).xls:\n",
      "=== Sheet: Coastal Biology Building_ Next === Task Name Comments Start Date End Date Duration WD Date Created Date Modified 2015-06-19 14:16:02 2015-06-19 14:18:03 Date: June 24, 2015 Construction Activity Expected in the Next Three Weeks 2015-05-11 00:00:00 2015-08-12 00:00:00 68.0 2015-06-08 10:13:53 2015-06-30 09:46:46 Site Work 2015-06-10 17:44:43 2015-06-10 17:44:43 Install Fencing and Tree Protection 2015-06-04 00:00:00 2015-06-29 00:00:00 18.0 2015-06-08 10:13:53 2015-06-30 09:46:46 Install SWPPP Installing low level silt fencing and waddles. 2015-05-11 00:00:00 2015-06-30 00:00:00 37.0 2015-06-08 10:13:53 2015-06-30 09:46:46 Surveying and Layout of all new work on site 2015-05-20 00:00:00 2015-06-30 00:00:00 30.0 2015-06-30 09:46:46 2015-06-30 09:46:46 Temporary Surge Parking The s\n",
      "\n",
      "Extracting text from CROWN COLLEGE.xls using SpreadsheetTextExtractor\n",
      "Extracted text (first 800 characters) from CROWN COLLEGE.xls:\n",
      "=== Sheet: CROWN COLLEGE PANEL 1 RACK 3 === UNIVERSITY OF SANTA CRUZ Unnamed: 2 Unnamed: 3 Unnamed: 4 BUILDING NAME: CROWN COLLEGE PANEL 1 RACK 3 BASEMENT CABLE: 24 SM AND 48 MM PANEL: 1 RACK: 3 1.0 2.0 3.0 4.0 5.0 6.0 7.0 8.0 9.0 10.0 11.0 12.0 13.0 14.0 15.0 T-MOBILE 16.0 METRO PCS 17.0 18.0 19.0 20.0 21.0 22.0 23.0 24.0 25.0 26.0 27.0 28.0 29.0 30.0 31.0 32.0 33.0 34.0 35.0 36.0 37.0 38.0 39.0 40.0 41.0 42.0 43.0 44.0 45.0 46.0 47.0 48.0 49.0 50.0 51.0 52.0 53.0 54.0 55.0 56.0 57.0 58.0 59.0 60.0 61.0 62.0 63.0 64.0 65.0 66.0 67.0 68.0 69.0 70.0 71.0 72.0 === Sheet: CROWN COLLEGE NEXT G PANEL 1 === UNIVERSITY OF SANTA CRUZ Unnamed: 2 Unnamed: 3 Unnamed: 4 BUILDING NAME: CROWN COLLEGE NEXT G PANEL 1 BASEMENT CABLE: 6 SM PANEL: 1 WALL MOUNTED RACK: 1.0 T-MOBILE 2.0 METRO PCS 3.0 4.0 5.0 6\n",
      "\n",
      "Extracting text from Daily 6-23-09.xls using SpreadsheetTextExtractor\n",
      "Extracted text from Daily 6-23-09.xls:\n",
      "=== Sheet: Sheet1 === Job: Crown Merrill Decking cking Unnamed: 4 Unnamed: 6 Unnamed: 8 Date: 2009-06-23 00:00:00 Contractor BCI IOR:Patrick Barber Weather AM PM Workers on site: clr clr Subcontractor Workers Work Description randazzo 7 demo continues breakaway c.c. 2 concrete removal at footings continues BCI 2 steel work and formwork continues Inspections: verified epoxy as per spec. Verified steel cages and dowell installation process. Verified formwork clearances as o.k. Comments: === Sheet: Sheet2 === === Sheet: Sheet3 ===\n",
      "\n",
      "Extracting text from DSC_0040_MV_VNGFKHYYLLWP.JPG using ImageTextExtractor\n",
      "No text extracted from DSC_0040_MV_VNGFKHYYLLWP.JPG in temporary directory\n",
      "Extracting text from DSC_0045_MV_ODEXWXTQFDWO.JPG using ImageTextExtractor\n",
      "No text extracted from DSC_0045_MV_ODEXWXTQFDWO.JPG in temporary directory\n",
      "Extracting text from DSC_0063_MV_ZDVFKYGRPJMK.JPG using ImageTextExtractor\n",
      "No text extracted from DSC_0063_MV_ZDVFKYGRPJMK.JPG in temporary directory\n",
      "Extracting text from DSC_0647_MV_TGFGWVTQBYMZ.JPG using ImageTextExtractor\n",
      "No text extracted from DSC_0647_MV_TGFGWVTQBYMZ.JPG in temporary directory\n",
      "Extracting text from EG @ NOAA_1b73c81f489e418f93213a322ba281fe.xml using TextFileTextExtractor\n",
      "No text extracted from EG @ NOAA_1b73c81f489e418f93213a322ba281fe.xml in temporary directory\n",
      "Extracting text from Finished Concrete with attachment.msg using EmailTextExtractor\n",
      "Extracted text (first 800 characters) from Finished Concrete with attachment.msg:\n",
      "��\u0011���\u001a�\u0000\u0000\u0000\u0000\u0000\u0000\u0000\u0000\u0000\u0000\u0000\u0000\u0000\u0000\u0000\u0000>\u0000\u0003\u0000�� \u0000\u0006\u0000\u0000\u0000\u0000\u0000\u0000\u0000\u0000\u0000\u0000\u0000\u001a\u0000\u0000\u0000\u0001\u0000\u0000\u0000\u0000\u0000\u0000\u0000\u0000\u0010\u0000\u0000\u0002\u0000\u0000\u0000\u0001\u0000\u0000\u0000����\u0000\u0000\u0000\u0000\u0000\u0000\u0000\u00007\u0000\u0000\u00008\u0000\u0000\u00009\u0000\u0000\u0000:\u0000\u0000\u0000;\u0000\u0000\u0000<\u0000\u0000\u0000=\u0000\u0000\u0000>\u0000\u0000\u0000?\u0000\u0000\u0000@\u0000\u0000\u0000A\u0000\u0000\u0000B\u0000\u0000\u0000C\u0000\u0000\u0000D\u0000\u0000\u0000E\u0000\u0000\u0000F\u0000\u0000\u0000G\u0000\u0000\u0000H\u0000\u0000\u0000I\u0000\u0000\u0000J\u0000\u0000\u0000K\u0000\u0000\u0000L\u0000\u0000\u0000M\u0000\u0000\u0000N\u0000\u0000\u0000O\u0000\u0000\u0000������������������������������������������������������������������������������������������������������������������������������������������������������������������������������������������������������������������������������������������������������������������������������������������������������������������������������������������������\u0004\u0000\u0000\u0000����\u0006\u0000\u0000\u0000\u0005\u0000\u0000\u0000\u0007\u0000\u0000\u0000 \u0000\u0000\u0000\u0000\u0000 \u0000\u0000\u0000 \u0000\u0000\u0000 \u0000\u0000\u0000\u0017\u0000\u0000\u0000 \u0000\u0000\u0000\u0018\u0000\u0000\u0000\u000f\u0000\u0000\u0000\u0010\u0000\u0000\u0000\u0011\u0000\u0000\u0000\u0012\u0000\u0000\u0000\u0013\u0000\u0000\u0000\u0014\u0000\u0000\u0000\u0015\u0000\u0000\u0000\u0016\u0000\u0000\u0000����\u001a\u0000\u0000\u0000\u0019\u0000\u0000\u0000 \u0000\u0000\u0000\u001b\u0000\u0000\u0000 \u0000\u0000\u0000(\u0000\u0000\u0000)\u0000\u0000\u0000 \u0000\u0000\u0000 \u0000\u0000\u0000!\u0000\u0000\u0000\"\u0000\u0000\u0000#\u0000\u0000\u0000$\u0000\u0000\u0000%\u0000\u0000\u0000&\u0000\u0000\u0000'\u0000\u0000\u0000����+\u0000\u0000\u0000*\u0000\u0000\u0000,\u0000\u0000\u0000-\u0000\u0000\u00000\u0000\u0000\u0000.\u0000\u0000\u0000/\u0000\u0000\u00002\u0000\u0000\u00001\u0000\u0000\u00003\u0000\u0000\u00005\u0000\u0000\u00004\u0000\u0000\u00006\u0000\u0000\u0000� \u0000\u0000� \u0000\u0000��������������������������������������������������������������������\n",
      "\n",
      "Extracting text from FR 274.xls using SpreadsheetTextExtractor\n",
      "Extracted text (first 800 characters) from FR 274.xls:\n",
      "=== Sheet: F.REPORT === University of California Santa Cruz Unnamed: 1 Unnamed: 2 Unnamed: 3 Unnamed: 4 Unnamed: 5 Unnamed: 6 Unnamed: 7 Unnamed: 8 Unnamed: 9 Campus Lighting Retrofit Unnamed: 12 Unnamed: 13 Unnamed: 14 Unnamed: 15 Unnamed: 16 Physical Plant Project No.: 10052.0 Work Management 1999-04-01 00:00:00 THUR 1530.0 FIELD REPORT F.R. No.: 274.0 University Representatives report of contract work in progress. Contractor: AMTECH LIGHTING Workers: 5.0 Sub Contractors: 1 Trade: Workers: 2 Trade: Workers: Work In Progress: Contract Length: 200 Days Days Left on Contract: 9.0 480.0 DAYS = 68.57142857142857 weeks Day of Contract: 471 Days Estimate of Completion (%): 0.98125 4.0 days a week Extensions: 280 Days Conformance to Schedule (+,-): 0.0 274.2857142857143 work days Weather Conditi\n",
      "\n",
      "Extracting text from Fs-5_1.pdf using PDFTextExtractor\n",
      "Extracted text (first 800 characters) from Fs-5_1.pdf:\n",
      "1'-6\" 1'-6\" 1'-6\" 16'-0\" 1-15 1-13 C2 12\" REMOTE REFRIGERATION RACK, ITEM# 1-170. VERIFY WITH ARCHITECTURAL DRAWINGS FOR ACTUAL LOCATIONS. CONDUIT LINES SHOWN FOR SCHEMATIC PURPOSES ONLY. TO 1-17 TO 1-11 1-05 1-144 FROM 1-170 C2 TO 1-96 1-05 FROM 9'-0\" 8'-0\" 4'-0\" 1-05 1 FS-8.1 1-96 2'-0\" 2'-8\" E2 1-127 1-144 1 FS-8.1 1 FS-8.1 F1 F3 G F2 1-170 FROM TO TO TO TO 1-147 2-04 2-23 2-26 FROM 1-170 FROM 2'-6\" 1-24 7'-3\" 2-04 2-23 2-26 1-171 REMOTE ICE MACHINE CONDENSER DWG'S. FOR ACTUAL LOCATION. ITEM# 1-171 TO BE WITHIN 20 FT. FROM ICE MACHINE ITEM# 1-24 SEE ARCH. VERTICAL &/ OR 40 FT. HORIZONTAL TO 1-24 1'-6\" 1-125 11'-10\" 1-147 1-170 FROM 3'-0\" FROM 1-170 FROM 1-170 9\" D2 1 FS-8.1 1 FS-8.1 1 FS-8.1 1 FS-8.1 1 FS-8.1 TO 1-96 TO 2-05 2'-2\" 2-05 1 FS-8.1 1-144 FROM 1-127 1-125 1-24 10'-9\" 4\" 1'-0\n",
      "\n",
      "Extracting text from FSH_100DD_Energy Analysis_RWC_20180518.pdf using PDFTextExtractor\n",
      "Extracted text (first 800 characters) from FSH_100DD_Energy Analysis_RWC_20180518.pdf:\n",
      "Table of Contents Introduction ............................................................... 2 General Modeling Parameters ................................... 2 Energy Modeling Assumptions ................................. 5 Daylight Modeling Assumptions ............................... 5 100% Design Development Energy Analysis UC Santa Cruz Family Student Housing 2018-0038 Prepared for: Capstone Development UC Santa Cruz Prepared by: Steve Gross, PE, LEED AP April 26, 2018 Introduction This report summarizes the energy analysis performed for the Family Student Housing project at UC Santa Cruz. The project consists of a series of low-rise townhome style residences, with 4 residential units per townhome. The project aims to achieve Net Zero Energy and LEED certification through a combinati\n",
      "\n",
      "Extracting text from FW   Fwd  Re  CSHC - RFI #266 Time Sensitive .msg using EmailTextExtractor\n",
      "Extracted text (first 800 characters) from FW   Fwd  Re  CSHC - RFI #266 Time Sensitive .msg:\n",
      "��\u0011���\u001a�\u0000\u0000\u0000\u0000\u0000\u0000\u0000\u0000\u0000\u0000\u0000\u0000\u0000\u0000\u0000\u0000>\u0000\u0003\u0000�� \u0000\u0006\u0000\u0000\u0000\u0000\u0000\u0000\u0000\u0000\u0000\u0000\u0000\u0001\u0000\u0000\u0000\u0001\u0000\u0000\u0000\u0000\u0000\u0000\u0000\u0000\u0010\u0000\u0000\u0002\u0000\u0000\u0000\u0002\u0000\u0000\u0000����\u0000\u0000\u0000\u0000\u0000\u0000\u0000\u0000����������������������������������������������������������������������������������������������������������������������������������������������������������������������������������������������������������������������������������������������������������������������������������������������������������������������������������������������������������������������������������������������������������������������������������������������������\u0004\u0000\u0000\u0000)\u0000\u0000\u0000\u0006\u0000\u0000\u0000\u0005\u0000\u0000\u0000\u0007\u0000\u0000\u0000\u0000\u0000 \u0000\u0000\u0000 \u0000\u0000\u0000 \u0000\u0000\u0000 \u0000\u0000\u0000 \u0000\u0000\u0000\u000e\u0000\u0000\u0000 \u0000\u0000\u0000 \u0000\u0000\u0000\u0010\u0000\u0000\u0000\u0011\u0000\u0000\u0000\u0012\u0000\u0000\u0000\u0013\u0000\u0000\u0000\u0014\u0000\u0000\u0000\u0015\u0000\u0000\u0000\u0016\u0000\u0000\u0000\u0017\u0000\u0000\u0000\u0018\u0000\u0000\u0000\u0019\u0000\u0000\u0000\u001a\u0000\u0000\u0000\u001b\u0000\u0000\u0000 \u0000\u0000\u0000���� \u0000\u0000\u0000!\u0000\u0000\u0000 \u0000\u0000\u0000-\u0000\u0000\u0000\"\u0000\u0000\u0000#\u0000\u0000\u0000$\u0000\u0000\u0000%\u0000\u0000\u0000&\u0000\u0000\u0000'\u0000\u0000\u0000(\u0000\u0000\u0000*\u0000\u0000\u0000����+\u0000\u0000\u0000,\u0000\u0000\u0000/\u0000\u0000\u0000.\u0000\u0000\u00000\u0000\u0000\u00002\u0000\u0000\u00001\u0000\u0000\u00009\u0000\u0000\u00003\u0000\u0000\u00004\u0000\u0000\u00005\u0000\u0000\u00006\u0000\u0000\u00007\u0000\u0000\u00008\u0000\u0000\u0000;\u0000\u0000\u0000:\u0000\u0000\u0000<\u0000\u0000\u0000=\u0000\u0000\u0000>\u0000\u0000\u0000��������������������������������������������\n",
      "\n",
      "Extracting text from FW  Random Pattern.msg using EmailTextExtractor\n",
      "Extracted text (first 800 characters) from FW  Random Pattern.msg:\n",
      "��\u0011���\u001a�\u0000\u0000\u0000\u0000\u0000\u0000\u0000\u0000\u0000\u0000\u0000\u0000\u0000\u0000\u0000\u0000>\u0000\u0003\u0000�� \u0000\u0006\u0000\u0000\u0000\u0000\u0000\u0000\u0000\u0000\u0000\u0000\u0000|\u0000\u0000\u0000\u0001\u0000\u0000\u0000\u0000\u0000\u0000\u0000\u0000\u0010\u0000\u0000\u0002\u0000\u0000\u0000\u0002\u0000\u0000\u0000�\u0015\u0000\u0000\u0001\u0000\u0000\u0000\u0000\u0000\u0000\u00006\u0000\u0000\u00007\u0000\u0000\u00008\u0000\u0000\u00009\u0000\u0000\u0000:\u0000\u0000\u0000;\u0000\u0000\u0000<\u0000\u0000\u0000=\u0000\u0000\u0000>\u0000\u0000\u0000?\u0000\u0000\u0000@\u0000\u0000\u0000A\u0000\u0000\u0000B\u0000\u0000\u0000C\u0000\u0000\u0000D\u0000\u0000\u0000E\u0000\u0000\u0000F\u0000\u0000\u0000G\u0000\u0000\u0000H\u0000\u0000\u0000I\u0000\u0000\u0000J\u0000\u0000\u0000K\u0000\u0000\u0000L\u0000\u0000\u0000M\u0000\u0000\u0000N\u0000\u0000\u0000O\u0000\u0000\u0000P\u0000\u0000\u0000Q\u0000\u0000\u0000R\u0000\u0000\u0000S\u0000\u0000\u0000T\u0000\u0000\u0000U\u0000\u0000\u0000V\u0000\u0000\u0000W\u0000\u0000\u0000X\u0000\u0000\u0000Y\u0000\u0000\u0000Z\u0000\u0000\u0000[\u0000\u0000\u0000\\\u0000\u0000\u0000]\u0000\u0000\u0000^\u0000\u0000\u0000_\u0000\u0000\u0000`\u0000\u0000\u0000�\u0015\u0000\u0000�\u0015\u0000\u0000�\u0015\u0000\u0000�\u0015\u0000\u0000�\u0015\u0000\u0000�\u0015\u0000\u0000�\u0015\u0000\u0000�\u0015\u0000\u0000�\u0015\u0000\u0000�\u0015\u0000\u0000�\u0015\u0000\u0000�\u0015\u0000\u0000�\u0015\u0000\u0000�\u0015\u0000\u0000�\u0015\u0000\u0000�\u0015\u0000\u0000�\u0015\u0000\u0000�\u0015\u0000\u0000�\u0015\u0000\u0000�\u0015\u0000\u0000�\u0015\u0000\u0000�\u0015\u0000\u0000�\u0015\u0000\u0000�\u0015\u0000\u0000�\u0015\u0000\u0000�\u0015\u0000\u0000�\u0015\u0000\u0000�\u0015\u0000\u0000�\u0015\u0000\u0000�\u0015\u0000\u0000�\u0015\u0000\u0000�\u0015\u0000\u0000�\u0015\u0000\u0000�\u0015\u0000\u0000�\u0015\u0000\u0000�\u0015\u0000\u0000�\u0015\u0000\u0000�\u0015\u0000\u0000�\u0015\u0000\u0000�\u0015\u0000\u0000�\u0015\u0000\u0000�\u0015\u0000\u0000�\u0015\u0000\u0000�\u0015\u0000\u0000�\u0015\u0000\u0000�\u0015\u0000\u0000�\u0015\u0000\u0000�\u0015\u0000\u0000�\u0015\u0000\u0000�\u0015\u0000\u0000�\u0015\u0000\u0000�\u0015\u0000\u0000�\u0015\u0000\u0000�\u0015\u0000\u0000�\u0015\u0000\u0000�\u0015\u0000\u0000�\u0015\u0000\u0000�\u0015\u0000\u0000�\u0015\u0000\u0000�\u0015\u0000\u0000�\u0015\u0000\u0000�\u0015\u0000\u0000�\u0015\u0000\u0000�\u0015\u0000\u0000�\u0015\u0000\u0000����\u0004\u0000\u0000\u0000'\u0000\u0000\u0000\u0006\u0000\u0000\u0000\u0005\u0000\u0000\u0000\u0007\u0000\u0000\u0000 \u0000\u0000\u0000\u0000\u0000 \u0000\u0000\u0000 \u0000\u0000\u0000 \u0000\u0000\u0000\u0017\u0000\u0000\u0000 \u0000\u0000\u0000\u0018\u0000\u0000\u0000\u000f\u0000\u0000\u0000\u0010\u0000\u0000\u0000\u0011\u0000\u0000\u0000\u0012\u0000\u0000\u0000\u0013\u0000\u0000\u0000\u0014\u0000\u0000\u0000\u0015\u0000\u0000\u0000\u0016\u0000\u0000\u0000����\u001a\u0000\u0000\u0000\u0019\u0000\u0000\u0000 \u0000\u0000\u0000\u001b\u0000\u0000\u0000 \u0000\u0000\u0000 \u0000\u0000\u0000&\u0000\u0000\u0000 \u0000\u0000\u0000 \u0000\u0000\u0000!\u0000\u0000\u0000\"\u0000\u0000\u0000#\u0000\u0000\u0000$\u0000\u0000\u0000%\u0000\u0000\u0000(\u0000\u0000\u0000)\u0000\u0000\u0000����+\u0000\u0000\u0000*\u0000\u0000\u0000.\u0000\u0000\u0000,\u0000\u0000\u0000-\u0000\u0000\u0000/\u0000\u0000\u00000\u0000\u0000\u00002\u0000\u0000\u00001\u0000\u0000\u00003\u0000\u0000\u00004\u0000\u0000\u00005\u0000\u0000\u0000�\u0015\u0000\u0000�\u0015\u0000\u0000������������������������������������������������������������������������\n",
      "\n",
      "Extracting text from FW  Redwood building bathroom doors waste.eml using EmailTextExtractor\n",
      "Extracted text (first 800 characters) from FW  Redwood building bathroom doors waste.eml:\n",
      "Hi Will, I am forwarding waste characterization results for the Redwood Building doors. Phil Cobos has been storing these doors on site waiting for direction on their disposal. The doors may be disposed of as non-hazardous waste in an approved landfill. Leon Leon H. Waller University's Representative UCSC Physical Planning & Construction 501 Cedar Street, Suite E, Santa Cruz, CA 95060 Tel.831.459.0894; Fax 831.426.3622 Email: leon@lhwarchitect.com ------ Forwarded Message From: Thomas Lee <thjlee@ucsc.edu> Date: Thu, 2 Jul 2009 17:40:36 -0700 To: Leon H Waller <leon@lhwarchitect.com> Cc: Brent Cooley <bcooley@ucsc.edu> Subject: Redwood building bathroom doors waste Hi Leon, We received the final waste characterization results for the RB bathroom doors. They are attached. The doors may be d\n",
      "\n",
      "Extracting text from Fwdshopdwgs.rtf using WordFileTextExtractor\n",
      "Extracted text (first 800 characters) from Fwdshopdwgs.rtf:\n",
      "From: Bruce Hoffman <bshoffma@ucsc.edu> Date: August 9, 2011 5:40:42 PM PDT To: Tim Basquez <basquezt@ucsc.edu> Subject: Fwd: project 9069, Cooling Tower Fire Sprinker Shop Drawings fyi. Bruce Hoffman Senior Engineer & Project Manager, UCSC Physical Planning & Construction Voice (831) 459-3845 Fax (831) 423-7436 Begin forwarded message: From: Bruce Hoffman <bshoffma@ucsc.edu(\"mailto:bshoffma@ucsc.edu\")> Date: August 9, 2011 3:44:12 PM PDT To: Rick Rodewald <rickr@ucsc.edu(\"mailto:rickr@ucsc.edu\")> Subject: project 9069, Cooling Tower Fire Sprinker Shop Drawings Rick, As the project manager, I would like your shop drawing interpretation. The Allied Fire Protection estimator is questioning the total number of sidewall sprinkler heads to install. The discussion references his approved shop dr\n",
      "\n",
      "Extracting text from Gas Quality data.htm using HtmlTextExtractor\n",
      "Extracted text (first 800 characters) from Gas Quality data.htm:\n",
      "Pipe Ranger:Gas Quality data for V02 Gas Quality Information for BTU Area V02 from 06/03/2003 to 05/20/2003 Date Btu Content per std cf Specific Gravity density, air=1.0 N2 mole % CO2 mole % 06/03/2003 1,015.700 0.577 0.970 0.710 05/30/2003 1,019.780 0.581 0.870 0.782 05/29/2003 1,031.200 0.586 0.470 1.000 05/28/2003 1,030.200 0.586 0.460 1.010 05/27/2003 1,029.910 0.586 0.480 1.014 05/26/2003 1,026.120 0.584 0.440 1.076 05/25/2003 1,020.890 0.581 0.410 1.130 05/24/2003 1,020.800 0.581 0.410 1.090 05/23/2003 1,021.570 0.582 0.420 1.100 05/22/2003 1,025.350 0.583 0.440 1.051 05/21/2003 1,027.600 0.586 0.440 1.086 05/20/2003 1,027.800 0.586 0.450 1.090 Disclaimer: The data on these pages is a representative sample of gas quality information only. It is raw, unreviewed, real-time data provide\n",
      "\n",
      "Extracting text from google-geocoding.html using HtmlTextExtractor\n",
      "Extracted text from google-geocoding.html:\n",
      "◄ Leaflet.Control.Search Google GeoCoding API: search locations name by Google Maps API Search values: Google Geocoding API developers.google.com Labs • Stefano Cudini\n",
      "\n",
      "Extracting text from HVAC User Data Form102 2.doc using WordFileTextExtractor\n",
      "Extracted text (first 800 characters) from HVAC User Data Form102 2.doc:\n",
      "Data Required From Building Occupants for HVAC System Design Dear FUTURE ROOM OCCUPANT; In order that the heating, ventilating, and air conditioning (HVAC) system can be designed to best meet your needs, we need you to provide the following information. It is particularly important that the designers be made aware of rooms which are anticipated to have a heavy internal cooling load due to either user installed equipment or dense occupancy. Also of importance is informing the designers of special HVAC requirements related to your room's intended function. Please note that it may be very difficult to modify building HVAC system should these needs not be anticipated early. To this end, please fill in all blanks and provide the best information possible. Please use the term \"Need Assistance\" f\n",
      "\n",
      "Extracting text from IMG_1403.jpg using ImageTextExtractor\n",
      "No text extracted from IMG_1403.jpg in temporary directory\n",
      "Extracting text from IMG_3147.JPG using ImageTextExtractor\n",
      "No text extracted from IMG_3147.JPG in temporary directory\n",
      "Extracting text from Item 23 - CHCT06151 (Wiring).pdf using PDFTextExtractor\n"
     ]
    },
    {
     "data": {
      "application/vnd.jupyter.widget-view+json": {
       "model_id": "0a4dd3f9ab8d476288afcc59a2ad802e",
       "version_major": 2,
       "version_minor": 0
      },
      "text/plain": [
       "Output()"
      ]
     },
     "metadata": {},
     "output_type": "display_data"
    },
    {
     "data": {
      "text/html": [
       "<pre style=\"white-space:pre;overflow-x:auto;line-height:normal;font-family:Menlo,'DejaVu Sans Mono',consolas,'Courier New',monospace\"></pre>\n"
      ],
      "text/plain": []
     },
     "metadata": {},
     "output_type": "display_data"
    },
    {
     "data": {
      "application/vnd.jupyter.widget-view+json": {
       "model_id": "7f35a34beb3f41e5bdec5a4cb88b976d",
       "version_major": 2,
       "version_minor": 0
      },
      "text/plain": [
       "Output()"
      ]
     },
     "metadata": {},
     "output_type": "display_data"
    },
    {
     "data": {
      "text/html": [
       "<pre style=\"white-space:pre;overflow-x:auto;line-height:normal;font-family:Menlo,'DejaVu Sans Mono',consolas,'Courier New',monospace\">[tesseract] lots of diacritics - possibly poor OCR\n",
       "</pre>\n"
      ],
      "text/plain": [
       "[tesseract] lots of diacritics - possibly poor OCR\n"
      ]
     },
     "metadata": {},
     "output_type": "display_data"
    },
    {
     "data": {
      "text/html": [
       "<pre style=\"white-space:pre;overflow-x:auto;line-height:normal;font-family:Menlo,'DejaVu Sans Mono',consolas,'Courier New',monospace\"></pre>\n"
      ],
      "text/plain": []
     },
     "metadata": {},
     "output_type": "display_data"
    },
    {
     "data": {
      "application/vnd.jupyter.widget-view+json": {
       "model_id": "318fe8025d9744f5b682e20ce7c33cf7",
       "version_major": 2,
       "version_minor": 0
      },
      "text/plain": [
       "Output()"
      ]
     },
     "metadata": {},
     "output_type": "display_data"
    },
    {
     "data": {
      "text/html": [
       "<pre style=\"white-space:pre;overflow-x:auto;line-height:normal;font-family:Menlo,'DejaVu Sans Mono',consolas,'Courier New',monospace\"></pre>\n"
      ],
      "text/plain": []
     },
     "metadata": {},
     "output_type": "display_data"
    },
    {
     "data": {
      "application/vnd.jupyter.widget-view+json": {
       "model_id": "c76ebb3dce3f4431a4a9bf6ae8a091a3",
       "version_major": 2,
       "version_minor": 0
      },
      "text/plain": [
       "Output()"
      ]
     },
     "metadata": {},
     "output_type": "display_data"
    },
    {
     "data": {
      "text/html": [
       "<pre style=\"white-space:pre;overflow-x:auto;line-height:normal;font-family:Menlo,'DejaVu Sans Mono',consolas,'Courier New',monospace\"></pre>\n"
      ],
      "text/plain": []
     },
     "metadata": {},
     "output_type": "display_data"
    },
    {
     "data": {
      "application/vnd.jupyter.widget-view+json": {
       "model_id": "9ee29c124dca49c7b87d6c22c93d74c8",
       "version_major": 2,
       "version_minor": 0
      },
      "text/plain": [
       "Output()"
      ]
     },
     "metadata": {},
     "output_type": "display_data"
    },
    {
     "data": {
      "text/html": [
       "<pre style=\"white-space:pre;overflow-x:auto;line-height:normal;font-family:Menlo,'DejaVu Sans Mono',consolas,'Courier New',monospace\"></pre>\n"
      ],
      "text/plain": []
     },
     "metadata": {},
     "output_type": "display_data"
    },
    {
     "data": {
      "application/vnd.jupyter.widget-view+json": {
       "model_id": "cbe48d1b21db43dfa6ef1c55045c9ac5",
       "version_major": 2,
       "version_minor": 0
      },
      "text/plain": [
       "Output()"
      ]
     },
     "metadata": {},
     "output_type": "display_data"
    },
    {
     "data": {
      "text/html": [
       "<pre style=\"white-space:pre;overflow-x:auto;line-height:normal;font-family:Menlo,'DejaVu Sans Mono',consolas,'Courier New',monospace\"></pre>\n"
      ],
      "text/plain": []
     },
     "metadata": {},
     "output_type": "display_data"
    },
    {
     "name": "stdout",
     "output_type": "stream",
     "text": [
      "Extracted text (first 800 characters) from Item 23 - CHCT06151 (Wiring).pdf:\n",
      "TO SITE [| POWER [2 Ei _RED RED DIAGRAM DESIGNATIONS _BLK _BLK @ GATHER ee aeo vec? e460 vec? Yo SPLICE POINT STRIPED WIRING MR Tl MR T2 ee ——— CONTRACTORS WIRING AAMAS vas * OPTIONAL ITEMS ———— _ [3] 14] [5] OPTIONAL ITEMS ORN 24 VAC BFA a, ORN® a4 VAC BFA a BS] PBo [7B - - COMPONENT LEGEND 14 GA AC AUXILIARY CONTACT = BC BLOWER CONTACTOR BR BLOWER RELAY a CC COMPRESSOR CONTACTOR CSTB CCH | CRANK CASE HEATER CFC | FAN CONTACTOR CSTB | COMMON SIDE TERMINAL BLOCK DFTC | DEFROST CONTROLLER BLK gg BLK DFTS | DEFROST SENSOR ACI BLKEIBLK CCH1 DLPS| DIGITAL LOW PRESSURE SWITCH LPS| BLEEK FCS | FAN CYCLE SWITCH x O20 > LI rT TL BLK FU FUSE RI @ lan a 24,12 BLU GND GROUND S + a = 131,73 RED GOT | GAURANTEED OFF TIMER ae YEL ve. ~LEPBT1 Pv HES! ven ave Yel]. [BLK] HPS HIGH PRESSURE SWITCH | Tt CCl \n",
      "\n",
      "Extracting text from main.html using HtmlTextExtractor\n",
      "Extracted text (first 800 characters) from main.html:\n",
      "The Main Entry THE MAIN ENTRY Carriage House District Lower Main Entry The Main Entry Area provides the first impression of the campus for many visitors and provides a window into the historic use of the land. This area includes the Historic Area, as defined in the 1988 LRDP. Appropriate uses are those which can benefit from proximity to the main entry, the historic setting, and the closeness to the surrounding community. These uses include central receiving, physical planning and construction, fund raising, admissions, alumni/visitor center, police, transportation and parking services, etc. GUIDELINES Seek a match between users and historic structures which will not require alteration of historic buildings and will not over-impact historic areas. Activities and events, such as the Farmers\n",
      "\n",
      "Extracting text from NCRFPrejection_ltr.doc using WordFileTextExtractor\n",
      "Extracted text (first 800 characters) from NCRFPrejection_ltr.doc:\n",
      "March 27, 2001 Mr. Richard Macias Wallace Roberts & Todd, Inc. 657 Mission Street, Suite 600 San Francisco, CA 94105 Re: North Campus Master Plan University of California, Santa Cruz Dear Mr. Macias: Over 60 firms either were invited or answered our advertisement inviting proposals for consultant services for UCSC's North Campus Master Plan. Nine firms/teams submitted proposals. A screening committee narrowed the field to five firms for interview: Sasaki Associates, Moore Iacofano Goltsman, Inc.; EMC Planning Group; RRM Design Group; and Elizabeth Moule & Stafanos Polyzoides Architects and Urbanists. We would like to keep your submittal and brochure in our active file of consultants for ongoing reference, but would be happy to return them if you prefer. Please send a stamped, self-addresse\n",
      "\n",
      "Extracting text from Off Hours Work Request for 9-13 and 9-14.msg using EmailTextExtractor\n",
      "Extracted text (first 800 characters) from Off Hours Work Request for 9-13 and 9-14.msg:\n",
      "��\u0011���\u001a�\u0000\u0000\u0000\u0000\u0000\u0000\u0000\u0000\u0000\u0000\u0000\u0000\u0000\u0000\u0000\u0000>\u0000\u0003\u0000�� \u0000\u0006\u0000\u0000\u0000\u0000\u0000\u0000\u0000\u0000\u0000\u0000\u0000\u0001\u0000\u0000\u0000\u0001\u0000\u0000\u0000\u0000\u0000\u0000\u0000\u0000\u0010\u0000\u0000\u0002\u0000\u0000\u0000\u0002\u0000\u0000\u0000����\u0000\u0000\u0000\u0000\u0000\u0000\u0000\u0000����������������������������������������������������������������������������������������������������������������������������������������������������������������������������������������������������������������������������������������������������������������������������������������������������������������������������������������������������������������������������������������������������������������������������������������������������\u0004\u0000\u0000\u0000/\u0000\u0000\u0000\u0006\u0000\u0000\u0000\u0005\u0000\u0000\u0000\u0007\u0000\u0000\u0000 \u0000\u0000\u0000\u0000\u0000 \u0000\u0000\u0000 \u0000\u0000\u0000 \u0000\u0000\u0000\u001b\u0000\u0000\u0000 \u0000\u0000\u0000 \u0000\u0000\u0000\u000f\u0000\u0000\u0000\u0010\u0000\u0000\u0000\u0011\u0000\u0000\u0000\u0012\u0000\u0000\u0000\u0013\u0000\u0000\u0000\u0014\u0000\u0000\u0000\u0015\u0000\u0000\u0000\u0016\u0000\u0000\u0000\u0017\u0000\u0000\u0000\u0018\u0000\u0000\u0000\u0019\u0000\u0000\u0000\u001a\u0000\u0000\u0000���� \u0000\u0000\u0000 \u0000\u0000\u0000 \u0000\u0000\u0000 \u0000\u0000\u0000!\u0000\u0000\u0000&\u0000\u0000\u0000\"\u0000\u0000\u0000#\u0000\u0000\u0000$\u0000\u0000\u0000%\u0000\u0000\u0000(\u0000\u0000\u0000'\u0000\u0000\u0000)\u0000\u0000\u0000*\u0000\u0000\u0000,\u0000\u0000\u0000+\u0000\u0000\u0000-\u0000\u0000\u0000.\u0000\u0000\u00000\u0000\u0000\u00001\u0000\u0000\u0000����3\u0000\u0000\u00002\u0000\u0000\u00004\u0000\u0000\u00005\u0000\u0000\u00006\u0000\u0000\u0000����������������������������������������������������������������������������\n",
      "\n",
      "Extracting text from outline.htm using HtmlTextExtractor\n",
      "Extracted text from outline.htm:\n",
      "Notes Outline Slide 1 Slide 2 Slide 3 Slide 4 Slide 5 Slide 6 Slide 7 Slide 8 Slide 9 Slide 10 Slide 11 Slide 12 Slide 13 Slide 14 Slide 15 Slide 16 Slide 17 Slide 18 Slide 19 Slide 20 Slide 21 Slide 22 Slide 23 Slide 24 Slide 25 Slide 26 Slide 27 Slide 28 Slide 29 Slide 30\n",
      "\n",
      "Extracting text from P5200094.JPG using ImageTextExtractor\n",
      "No text extracted from P5200094.JPG in temporary directory\n",
      "Extracting text from P9190087.JPG using ImageTextExtractor\n",
      "Extracted text from P9190087.JPG:\n",
      "NT PY EY tee\n",
      "\n",
      "\n",
      "\n",
      "Extracting text from part.html using HtmlTextExtractor\n",
      "Extracted text (first 800 characters) from part.html:\n",
      "Participation PARTICIPATION Broad participation of the UCSC community will lead to sounder courses of action. Objective: Effective long-term solutions to design problems should evolve from solutions guided by staff through consultation with the campus and concerned community, and with professionals informed about and sensitive to UCSC concerns. Principles: Each new campus project should be guided by a building committee which is sympathetic to its goals but also representative of broad campus views. The building committee is understood to represent campus-wide planning goals as well as individual building issues. A campus-wide committee should speak for those campus areas, qualities, and resources which fall outside of individual building projects, and should also review landscape plans an\n",
      "\n",
      "Extracting text from Project description needs-Porter Seismic-FA Draft.doc using WordFileTextExtractor\n",
      "Extracted text (first 800 characters) from Project description needs-Porter Seismic-FA Draft.doc:\n",
      "Project Description Needs for CEQA Analysis, Porter College Seismic and Capital Renewal, Phase 1 Topographic base map w/north arrow and scale showing: * Project footprint, access, landscaping, site boundaries * Routes of off site utilities if any work on these is required * Construction parking and staging areas Background data * Final PPG, when available * Any previous tech reports: hydrology, biology, etc.-particularly any studies related to the proposed stormwater drainage improvements Facility description * Any changes that will affect exterior visual appearance of the buildings Porter Res B: Exterior wall assembly to be replaced * Any exterior access improvements - Access ramps; Elevator; Porter Patio * Acreage of ground disturbance - Min only to allow for site utilities to be replace\n",
      "\n",
      "Extracting text from proxy.html using HtmlTextExtractor\n",
      "No text extracted from proxy.html in temporary directory\n",
      "Extracting text from punch list for 180104 open.pdf using PDFTextExtractor\n",
      "Extracted text (first 800 characters) from punch list for 180104 open.pdf:\n",
      "Swinerton to Do Work Item # by Room # Room No. Room Name Item No. Description Comment Author Responsibility (assigned by Contractor) Swin Completed UC/Arch Closed Disputed Swinerton Notes 144 110 Seminar Rm. UC645 Lights along not installed yet. Complete work. TMG/UCSC Helix 145 110 Seminar Rm. UC639 Paint/Stain to match wood patch/filler TMG/UCSC Rick Slater X The natural wood makes the patch hard to stain, will try to darken but do not want to stain natural wood 273 126 Mechanical 33 CBB and Headhouse AHU's: at the end of the project, provide new replacement filters. MD/UCSC OCM Need to provide set of spare filters for AHU 1106 203 LARGE CONFERENCE UC Door is severely damaged, Replace or repair. It does not close properly either TMG/UCSC ISEC Install kickplates to cover. 1396 238 Office \n",
      "\n",
      "Extracting text from RE  CSHC - Special Inspection Concrete Pour (6 samples).msg using EmailTextExtractor\n",
      "Extracted text (first 800 characters) from RE  CSHC - Special Inspection Concrete Pour (6 samples).msg:\n",
      "��\u0011���\u001a�\u0000\u0000\u0000\u0000\u0000\u0000\u0000\u0000\u0000\u0000\u0000\u0000\u0000\u0000\u0000\u0000>\u0000\u0003\u0000�� \u0000\u0006\u0000\u0000\u0000\u0000\u0000\u0000\u0000\u0000\u0000\u0000\u0000\u0001\u0000\u0000\u0000\u0001\u0000\u0000\u0000\u0000\u0000\u0000\u0000\u0000\u0010\u0000\u0000\u0002\u0000\u0000\u0000\u0002\u0000\u0000\u0000����\u0000\u0000\u0000\u0000\u0000\u0000\u0000\u0000����������������������������������������������������������������������������������������������������������������������������������������������������������������������������������������������������������������������������������������������������������������������������������������������������������������������������������������������������������������������������������������������������������������������������������������������������\u0004\u0000\u0000\u0000+\u0000\u0000\u0000\u0006\u0000\u0000\u0000\u0005\u0000\u0000\u0000\u0007\u0000\u0000\u0000\u0000\u0000 \u0000\u0000\u0000 \u0000\u0000\u0000 \u0000\u0000\u0000 \u0000\u0000\u0000 \u0000\u0000\u0000\u000e\u0000\u0000\u0000\u001b\u0000\u0000\u0000\u001a\u0000\u0000\u0000\u0010\u0000\u0000\u0000\u0011\u0000\u0000\u0000\u0012\u0000\u0000\u0000\u0013\u0000\u0000\u0000\u0014\u0000\u0000\u0000\u0015\u0000\u0000\u0000\u0016\u0000\u0000\u0000\u0017\u0000\u0000\u0000\u0018\u0000\u0000\u0000\u0019\u0000\u0000\u0000���� \u0000\u0000\u0000 \u0000\u0000\u0000 \u0000\u0000\u0000%\u0000\u0000\u0000 \u0000\u0000\u0000 \u0000\u0000\u0000!\u0000\u0000\u0000\"\u0000\u0000\u0000#\u0000\u0000\u0000$\u0000\u0000\u0000&\u0000\u0000\u0000'\u0000\u0000\u0000*\u0000\u0000\u0000(\u0000\u0000\u0000)\u0000\u0000\u00000\u0000\u0000\u0000,\u0000\u0000\u0000����-\u0000\u0000\u0000.\u0000\u0000\u0000/\u0000\u0000\u00001\u0000\u0000\u00002\u0000\u0000\u00004\u0000\u0000\u00003\u0000\u0000\u00005\u0000\u0000\u00006\u0000\u0000\u00007\u0000\u0000\u00009\u0000\u0000\u00008\u0000\u0000\u0000:\u0000\u0000\u0000<\u0000\u0000\u0000;\u0000\u0000\u0000����������������������������������������������������\n",
      "\n",
      "Extracting text from Re  General Job Meeting - CSHC (133).msg using EmailTextExtractor\n",
      "Extracted text (first 800 characters) from Re  General Job Meeting - CSHC (133).msg:\n",
      "��\u0011���\u001a�\u0000\u0000\u0000\u0000\u0000\u0000\u0000\u0000\u0000\u0000\u0000\u0000\u0000\u0000\u0000\u0000>\u0000\u0003\u0000�� \u0000\u0006\u0000\u0000\u0000\u0000\u0000\u0000\u0000\u0000\u0000\u0000\u0000\u0001\u0000\u0000\u0000\u0001\u0000\u0000\u0000\u0000\u0000\u0000\u0000\u0000\u0010\u0000\u0000\u0002\u0000\u0000\u0000\u0002\u0000\u0000\u0000����\u0000\u0000\u0000\u0000\u0000\u0000\u0000\u0000����������������������������������������������������������������������������������������������������������������������������������������������������������������������������������������������������������������������������������������������������������������������������������������������������������������������������������������������������������������������������������������������������������������������������������������������������\u0004\u0000\u0000\u0000 \u0000\u0000\u0000\u0006\u0000\u0000\u0000\u0005\u0000\u0000\u0000\u0007\u0000\u0000\u0000\u0000\u0000 \u0000\u0000\u0000 \u0000\u0000\u0000 \u0000\u0000\u0000 \u0000\u0000\u0000\u000e\u0000\u0000\u0000 \u0000\u0000\u0000\u0014\u0000\u0000\u0000\u000f\u0000\u0000\u0000\u0010\u0000\u0000\u0000\u0011\u0000\u0000\u0000\u0012\u0000\u0000\u0000\u0013\u0000\u0000\u0000\u0016\u0000\u0000\u0000\u0015\u0000\u0000\u0000\u001a\u0000\u0000\u0000\u0017\u0000\u0000\u0000\u0018\u0000\u0000\u0000\u0019\u0000\u0000\u0000\u001b\u0000\u0000\u0000 \u0000\u0000\u0000 \u0000\u0000\u0000 \u0000\u0000\u0000����!\u0000\u0000\u0000 \u0000\u0000\u0000\"\u0000\u0000\u0000#\u0000\u0000\u0000%\u0000\u0000\u0000$\u0000\u0000\u0000&\u0000\u0000\u0000)\u0000\u0000\u0000'\u0000\u0000\u0000(\u0000\u0000\u0000+\u0000\u0000\u0000*\u0000\u0000\u0000-\u0000\u0000\u0000,\u0000\u0000\u0000/\u0000\u0000\u0000.\u0000\u0000\u0000��������������������������������������������������������������������������������������������������������\n",
      "\n",
      "Extracting text from Re  Outstanding Items    .msg using EmailTextExtractor\n",
      "Extracted text (first 800 characters) from Re  Outstanding Items    .msg:\n",
      "��\u0011���\u001a�\u0000\u0000\u0000\u0000\u0000\u0000\u0000\u0000\u0000\u0000\u0000\u0000\u0000\u0000\u0000\u0000>\u0000\u0003\u0000�� \u0000\u0006\u0000\u0000\u0000\u0000\u0000\u0000\u0000\u0000\u0000\u0000\u0000\u0001\u0000\u0000\u0000\u0001\u0000\u0000\u0000\u0000\u0000\u0000\u0000\u0000\u0010\u0000\u0000\u0002\u0000\u0000\u0000\u0002\u0000\u0000\u0000����\u0000\u0000\u0000\u0000\u0000\u0000\u0000\u0000����������������������������������������������������������������������������������������������������������������������������������������������������������������������������������������������������������������������������������������������������������������������������������������������������������������������������������������������������������������������������������������������������������������������������������������������������\u0004\u0000\u0000\u0000 \u0000\u0000\u0000\u0006\u0000\u0000\u0000\u0005\u0000\u0000\u0000\u0007\u0000\u0000\u0000\u0000\u0000 \u0000\u0000\u0000 \u0000\u0000\u0000 \u0000\u0000\u0000 \u0000\u0000\u0000\u000e\u0000\u0000\u0000 \u0000\u0000\u0000\u0014\u0000\u0000\u0000\u000f\u0000\u0000\u0000\u0010\u0000\u0000\u0000\u0011\u0000\u0000\u0000\u0012\u0000\u0000\u0000\u0013\u0000\u0000\u0000\u0016\u0000\u0000\u0000\u0015\u0000\u0000\u0000\u0017\u0000\u0000\u0000\u0018\u0000\u0000\u0000!\u0000\u0000\u0000\u0019\u0000\u0000\u0000\u001a\u0000\u0000\u0000\u001b\u0000\u0000\u0000 \u0000\u0000\u0000 \u0000\u0000\u0000���� \u0000\u0000\u0000 \u0000\u0000\u0000$\u0000\u0000\u0000\"\u0000\u0000\u0000#\u0000\u0000\u0000%\u0000\u0000\u0000&\u0000\u0000\u0000+\u0000\u0000\u0000'\u0000\u0000\u0000(\u0000\u0000\u0000)\u0000\u0000\u0000*\u0000\u0000\u0000,\u0000\u0000\u0000-\u0000\u0000\u0000/\u0000\u0000\u0000.\u0000\u0000\u00000\u0000\u0000\u00001\u0000\u0000\u0000������������������������������������������������������������������������������������������������\n",
      "\n",
      "Extracting text from RE  UCSC Cowell Student Health Center - West Wing Stair Repaint (224).msg using EmailTextExtractor\n",
      "Extracted text (first 800 characters) from RE  UCSC Cowell Student Health Center - West Wing Stair Repaint (224).msg:\n",
      "��\u0011���\u001a�\u0000\u0000\u0000\u0000\u0000\u0000\u0000\u0000\u0000\u0000\u0000\u0000\u0000\u0000\u0000\u0000>\u0000\u0003\u0000�� \u0000\u0006\u0000\u0000\u0000\u0000\u0000\u0000\u0000\u0000\u0000\u0000\u0000\u0001\u0000\u0000\u0000\u0001\u0000\u0000\u0000\u0000\u0000\u0000\u0000\u0000\u0010\u0000\u0000\u0002\u0000\u0000\u0000\u0002\u0000\u0000\u0000����\u0000\u0000\u0000\u0000\u0000\u0000\u0000\u0000����������������������������������������������������������������������������������������������������������������������������������������������������������������������������������������������������������������������������������������������������������������������������������������������������������������������������������������������������������������������������������������������������������������������������������������������������\u0004\u0000\u0000\u0000V\u0000\u0000\u0000\u0006\u0000\u0000\u0000\u0005\u0000\u0000\u0000\u0007\u0000\u0000\u0000\u0000\u0000 \u0000\u0000\u0000 \u0000\u0000\u0000 \u0000\u0000\u0000 \u0000\u0000\u0000 \u0000\u0000\u0000 \u0000\u0000\u0000 \u0000\u0000\u0000\u000f\u0000\u0000\u0000\u0010\u0000\u0000\u0000\u0011\u0000\u0000\u0000\u0012\u0000\u0000\u0000\u0013\u0000\u0000\u0000\u0014\u0000\u0000\u0000\u0015\u0000\u0000\u0000\u0016\u0000\u0000\u0000\u0017\u0000\u0000\u0000\u0018\u0000\u0000\u0000\u0019\u0000\u0000\u0000\u001a\u0000\u0000\u0000\u001b\u0000\u0000\u0000 \u0000\u0000\u0000 \u0000\u0000\u0000����!\u0000\u0000\u0000 \u0000\u0000\u0000,\u0000\u0000\u0000?\u0000\u0000\u0000#\u0000\u0000\u0000$\u0000\u0000\u0000%\u0000\u0000\u0000&\u0000\u0000\u0000'\u0000\u0000\u0000(\u0000\u0000\u0000)\u0000\u0000\u0000*\u0000\u0000\u0000+\u0000\u0000\u0000����@\u0000\u0000\u0000.\u0000\u0000\u0000/\u0000\u0000\u00000\u0000\u0000\u00001\u0000\u0000\u00002\u0000\u0000\u00003\u0000\u0000\u00004\u0000\u0000\u00005\u0000\u0000\u00006\u0000\u0000\u00007\u0000\u0000\u00008\u0000\u0000\u00009\u0000\u0000\u0000:\u0000\u0000\u0000;\u0000\u0000\u0000<\u0000\u0000\u0000=\u0000\u0000\u0000>\u0000\u0000\u0000����A\u0000\u0000\u0000B\u0000\u0000\u0000D\u0000\u0000\u0000C\u0000\u0000\u0000G\u0000\u0000\u0000E\u0000\u0000\u0000F\u0000\u0000\u0000I\u0000\u0000\u0000H\u0000\u0000\u0000\n",
      "\n",
      "Extracting text from Re  Update on Site Visit    .msg using EmailTextExtractor\n",
      "Extracted text (first 800 characters) from Re  Update on Site Visit    .msg:\n",
      "��\u0011���\u001a�\u0000\u0000\u0000\u0000\u0000\u0000\u0000\u0000\u0000\u0000\u0000\u0000\u0000\u0000\u0000\u0000>\u0000\u0003\u0000�� \u0000\u0006\u0000\u0000\u0000\u0000\u0000\u0000\u0000\u0000\u0000\u0000\u0000\u0001\u0000\u0000\u0000\u0001\u0000\u0000\u0000\u0000\u0000\u0000\u0000\u0000\u0010\u0000\u0000\u0002\u0000\u0000\u0000\u0002\u0000\u0000\u0000����\u0000\u0000\u0000\u0000\u0000\u0000\u0000\u0000����������������������������������������������������������������������������������������������������������������������������������������������������������������������������������������������������������������������������������������������������������������������������������������������������������������������������������������������������������������������������������������������������������������������������������������������������\u0004\u0000\u0000\u00002\u0000\u0000\u0000\u0006\u0000\u0000\u0000\u0005\u0000\u0000\u0000\u0007\u0000\u0000\u0000\u0000\u0000 \u0000\u0000\u0000 \u0000\u0000\u0000 \u0000\u0000\u0000 \u0000\u0000\u0000\u000e\u0000\u0000\u0000 \u0000\u0000\u0000 \u0000\u0000\u0000 \u0000\u0000\u0000\u0010\u0000\u0000\u0000\u0011\u0000\u0000\u0000\u0012\u0000\u0000\u0000\u0013\u0000\u0000\u0000\u0014\u0000\u0000\u0000\u0015\u0000\u0000\u0000\u0016\u0000\u0000\u0000\u0017\u0000\u0000\u0000\u0018\u0000\u0000\u0000\u0019\u0000\u0000\u0000\u001a\u0000\u0000\u0000\u001b\u0000\u0000\u0000 \u0000\u0000\u0000 \u0000\u0000\u0000���� \u0000\u0000\u0000!\u0000\u0000\u0000\"\u0000\u0000\u0000&\u0000\u0000\u0000#\u0000\u0000\u0000$\u0000\u0000\u0000%\u0000\u0000\u0000'\u0000\u0000\u0000(\u0000\u0000\u0000*\u0000\u0000\u0000)\u0000\u0000\u0000+\u0000\u0000\u0000,\u0000\u0000\u00000\u0000\u0000\u0000-\u0000\u0000\u0000.\u0000\u0000\u0000/\u0000\u0000\u00003\u0000\u0000\u00001\u0000\u0000\u00004\u0000\u0000\u0000����6\u0000\u0000\u00005\u0000\u0000\u0000����������������������������������������������������������������������������\n",
      "\n",
      "Extracting text from Readme.txt using TextFileTextExtractor\n",
      "Extracted text from Readme.txt:\n",
      "R:\\2004\\08330\\CAD\\ELEC\\PLT\\Readme.txt**** \n",
      "\n",
      "\n",
      "\n",
      "Extracting text from Reducer.xml using TextFileTextExtractor\n",
      "Extracted text (first 800 characters) from Reducer.xml:\n",
      "Reducer.dwg 4.0000 6.0000 8.0000 10.0000 12.0000 16.0000 20.0000 24.0000 30.0000 36.0000 42.0000 48.0000 54.0000 60.0000 64.0000 72.0000 84.0000 96.0000 102.0000 108.0000 120.0000 4.0000 6.0000 8.0000 10.0000 12.0000 16.0000 20.0000 24.0000 30.0000 36.0000 42.0000 48.0000 54.0000 60.0000 64.0000 72.0000 84.0000 96.0000 102.0000 108.0000 120.0000 PVC DIP 0.5000 0.2500 1.0000 2.0000 3.0000 4.0000 5.0000 12.0000 6000.0000 48.0000 Structure_Domain Struct_Junction Reducer Reducer Reducer B99A5F42-1C60-4A86-9740-43AED3C9073B 2.0 4 0 BoundingShape_Cylinder 4.0000 0.0000 25.0000 FormatNumber($SID,2) + \" in x \" + FormatNumber($SFD,2) + \" in \" + \"$PrtD\" + \" (Axis Solutions)\" $SID+(2*$WTh) $SFD+(2*$WTh) $SRS-$WTh-($SID/2) $SRS-$WTh-($SID/2) ($SID+(2*$WTh))/4 ($SFD+(2*$WTh))/4 67.0000 ($SID+(2*$WTh))/\n",
      "\n",
      "Extracting text from RFI 234_CSHC_Response_081203.doc using WordFileTextExtractor\n",
      "Extracted text (first 800 characters) from RFI 234_CSHC_Response_081203.doc:\n",
      "Response Pending: Response Returned: cc: UCSC File # 2806 cc: UCSC File # 2806 HPS HPS DPR Inc. REQUEST FOR INFORMATION Project Name: COWELL STUDENT HEALTH CENTER SEISMIC & EXPANSION RFI No. 234 Drawing No. A6.01, A6.02 & 11/A9.06 Section: Initiated by (Firm): DPR Construction Issued By: Josephine L Ortega Date of Issue: 12/03/08 Needed By: 12/8/08 Transmittal Record Attention Sent Received [Contractor to UCSC] Josephine L. Ortega 12/02/08 12/02/08 [UCSC to Architect /Engineer] Hawley Peterson & Snyder 12/02/08 12/03/08 [Architect/Engineer to UCSC] Josephine L. Ortega 12/03/08 12/03/08 [UCSC to Contractor] DPR Construction 12/03/08 12/03/08 QUESTION 1. See attached. Substrate & Access Points for New Wood Grill Ceilings. RESPONSE 1. There are no ceilings at the exterior bridges and landings\n",
      "\n",
      "Extracting text from RFI 404_CSHC_Response_090615.doc using WordFileTextExtractor\n",
      "Extracted text (first 800 characters) from RFI 404_CSHC_Response_090615.doc:\n",
      "Response Pending: Response Returned: cc: UCSC File # 2806 cc: UCSC File # 2806 HPS/DEG/CAP HPS/DEG/CAP/ DPR Inc. REQUEST FOR INFORMATION Project Name: COWELL STUDENT HEALTH CENTER SEISMIC & EXPANSION RFI No. 404 Drawing No. M2.01, 1/A1.03, S2.00, 16/S4.20, M0.01 Section: 16490 - 3.3 - D Initiated by (Firm): DPR Construction Issued By: Josephine L Ortega Date of Issue: 6/15/09 Needed By: 6/15/09 Transmittal Record Attention Sent Received [Contractor to UCSC] Josephine L. Ortega 6/12/09 6/12/09 [UCSC to Architect /Engineer] Hawley Peterson & Snyder Degenkolb/CAP 6/12/09 6/12/09 [Architect/Engineer to UCSC] Josephine L. Ortega 6/15/09 6/15/09 [UCSC to Contractor] DPR Construction 6/15/09 6/15/09 QUESTION 1. See attached. Mechanical Trench Size at East Wing RESPONSE 1. See attached SSK-27 and \n",
      "\n",
      "Extracting text from RFI 567_CSHC_Response_100115.doc using WordFileTextExtractor\n",
      "Extracted text from RFI 567_CSHC_Response_100115.doc:\n",
      "Response Pending: Response Returned: cc: UCSC File # 2806 cc: UCSC File # 2806 HPS HPS DPR Inc. REQUEST FOR INFORMATION Project Name: COWELL STUDENT HEALTH CENTER SEISMIC & EXPANSION RFI No. 567 Drawing No. A3.03 Section: Initiated by (Firm): DPR Construction Issued By: Josephine L Ortega Date of Issue: 1/15/10 Needed By: 1/15/10 Transmittal Record Attention Sent Received [Contractor to UCSC] Josephine L. Ortega 1/13/10 1/15/10 [UCSC to Architect /Engineer] Hawley Peterson & Snyder 1/15/10 1/15/10 [Architect/Engineer to UCSC] Josephine L. Ortega 1/15/10 1/15/10 [UCSC to Contractor] DPR Construction 1/15/10 1/15/10 QUESTION 1. See attached. North and East Wing Finish Clarifications RESPONSE 1. Confirmed\n",
      "\n",
      "Extracting text from roads.html using HtmlTextExtractor\n",
      "Extracted text (first 800 characters) from roads.html:\n",
      "Roads ROADS The Implementation Program proposes a transportation plan which emphasizes transit, bicycles, and pedestrian pathways first. Driving from class to class or college to college is strongly discouraged. Driving to and on the campus should be minimized yet it should be clear, efficient, and simple for those that need to. The roadways that have been built on campus have, for the most part, followed paths of least resistance. Only one bridge has been built for a roadway which is on McLaughlin Drive. Other roads followed routes that required minimal grading or bridges. The result is a network of roads that do not necessarily make direct or desired connections. This roadway network is disadvantageous when trying to achieve a clear and direct transit system on campus. The Implementation\n",
      "\n",
      "Extracting text from Single Line - Phase #1, #2, & #3 Shutdowns_1.pdf using PDFTextExtractor\n",
      "Extracted text from Single Line - Phase #1, #2, & #3 Shutdowns_1.pdf:\n",
      "Phase #1 Shutdown - Lower Quad Secondary Feeders - 8/6/18 to 8/10/18 Phase #2 Shutdown - Upper & Lower Quad Primary Feeders (Partial - PB29 to Transformers) - 8/6/18 to 8/10/18 Phase #3 Shutdown - Upper & Lower Quad Primary Feeders (Partial - Dining Commons Swbd. to PB29) - 12/27/18 Each of these Secondary Feeders will be replaced while each of the Upper Quad Buildings are Under Construction & De-energized\n",
      "\n",
      "Extracting text from Site Meeting_Arboretum_Gate_2-5-14.JPG using ImageTextExtractor\n",
      "Extracted text from Site Meeting_Arboretum_Gate_2-5-14.JPG:\n",
      "ali\n",
      "a\n",
      "\n",
      "oa)\n",
      "\n",
      "\n",
      "Extracting text from Sitework.Planting.Soil.jpg using ImageTextExtractor\n",
      "No text extracted from Sitework.Planting.Soil.jpg in temporary directory\n",
      "Extracting text from special inspector.msg using EmailTextExtractor\n",
      "Extracted text (first 800 characters) from special inspector.msg:\n",
      "��\u0011���\u001a�\u0000\u0000\u0000\u0000\u0000\u0000\u0000\u0000\u0000\u0000\u0000\u0000\u0000\u0000\u0000\u0000>\u0000\u0003\u0000�� \u0000\u0006\u0000\u0000\u0000\u0000\u0000\u0000\u0000\u0000\u0000\u0000\u0000\u0001\u0000\u0000\u0000\u0001\u0000\u0000\u0000\u0000\u0000\u0000\u0000\u0000\u0010\u0000\u0000\u0002\u0000\u0000\u0000\u0002\u0000\u0000\u0000����\u0000\u0000\u0000\u0000\u0000\u0000\u0000\u0000����������������������������������������������������������������������������������������������������������������������������������������������������������������������������������������������������������������������������������������������������������������������������������������������������������������������������������������������������������������������������������������������������������������������������������������������������\u0004\u0000\u0000\u00001\u0000\u0000\u0000\u0006\u0000\u0000\u0000\u0005\u0000\u0000\u0000\u0007\u0000\u0000\u0000 \u0000\u0000\u0000\u0000\u0000 \u0000\u0000\u0000 \u0000\u0000\u0000 \u0000\u0000\u0000 \u0000\u0000\u0000 \u0000\u0000\u0000 \u0000\u0000\u0000\u000f\u0000\u0000\u0000\u0010\u0000\u0000\u0000\u0011\u0000\u0000\u0000\u0012\u0000\u0000\u0000\u0013\u0000\u0000\u0000\u0014\u0000\u0000\u0000\u0015\u0000\u0000\u0000\u0016\u0000\u0000\u0000\u0017\u0000\u0000\u0000\u0018\u0000\u0000\u0000\u0019\u0000\u0000\u0000\u001a\u0000\u0000\u0000\u001b\u0000\u0000\u0000 \u0000\u0000\u0000 \u0000\u0000\u0000���� \u0000\u0000\u0000!\u0000\u0000\u0000\"\u0000\u0000\u0000#\u0000\u0000\u0000)\u0000\u0000\u0000$\u0000\u0000\u0000%\u0000\u0000\u0000&\u0000\u0000\u0000'\u0000\u0000\u0000(\u0000\u0000\u0000*\u0000\u0000\u0000+\u0000\u0000\u0000-\u0000\u0000\u0000,\u0000\u0000\u00000\u0000\u0000\u0000.\u0000\u0000\u0000/\u0000\u0000\u00002\u0000\u0000\u00003\u0000\u0000\u0000����5\u0000\u0000\u00004\u0000\u0000\u00006\u0000\u0000\u00008\u0000\u0000\u00007\u0000\u0000\u00009\u0000\u0000\u0000:\u0000\u0000\u0000;\u0000\u0000\u0000=\u0000\u0000\u0000<\u0000\u0000\u0000>\u0000\u0000\u0000?\u0000\u0000\u0000@\u0000\u0000\u0000B\u0000\u0000\u0000A\u0000\u0000\u0000C\u0000\u0000\u0000E\u0000\u0000\u0000D\u0000\u0000\u0000H\u0000\u0000\u0000F\u0000\u0000\u0000G\u0000\u0000\u0000I\u0000\u0000\u0000\n",
      "\n",
      "Extracting text from SS1 Anthro Lab Construction Meeting Notes_2014-10-02.doc using WordFileTextExtractor\n",
      "Extracted text (first 800 characters) from SS1 Anthro Lab Construction Meeting Notes_2014-10-02.doc:\n",
      "Construction Meeting Notes Social Sciences 1 Anthropology Lab Expansion Job # 5520 Date: October 2, 2014 Subject: Construction Meeting Time: 10:00 a.m. - 11:00 p.m. Location: Social Sciences 1 - Conference Room 261 Attendees: UCSC Physical Planning and Construction Christy Ishimine Hatfield Project Manager (831) 459-4360 cishimin@ucsc.edu Ben Wynn Associate Inspector Social Sciences Division Tiffany Winslow Facilities Coordinator Fred Deakin Department Manager Glass Associates Architects Bill Glass Principal-in-Charge (via conf call) Mike Hinson Construction Mike Hinson President Geo. H Wilson Mechanical Contractor Willie Macadon Project Manager Issues / Items 1. 449 fume hood is shipping the week of October 6. 2. Sunscreens are being installed the week of October 6. 3. IT and electrical w\n",
      "\n",
      "Extracting text from Storm Drain Run 02_cd8c72da1d90472a8929bb215ae9d7ef.xml using TextFileTextExtractor\n",
      "No text extracted from Storm Drain Run 02_cd8c72da1d90472a8929bb215ae9d7ef.xml in temporary directory\n",
      "Extracting text from Telecom Phase B - Contract Award Submittal - geraldg@ucsc.edu - UC Santa Cruz Mail.html using HtmlTextExtractor\n",
      "Extracted text (first 800 characters) from Telecom Phase B - Contract Award Submittal - geraldg@ucsc.edu - UC Santa Cruz Mail.html:\n",
      "Telecom Phase B - Contract Award Submittal - geraldg@ucsc.edu - UC Santa Cruz Mail Loading geraldg@ucsc.edu… Loading standard view | (for slow connections) This is taking longer than usual. Try reloading the page . If that doesn't work, you can: Disable Labs and try again . If you're on a slow connection, try . For more troubleshooting tips, visit the help center . Conversation opened. 1 read message. Skip to content Using UC Santa Cruz Mail with screen readers Keyboard shortcuts UC Santa Cruz Mail (standard view) guide My Account Search Google+ Mail Calendar Drive Docs Sheets Slides Sites Groups Mail Add a shortcut More YouTube Maps News AdWords Photos Translate Even more from Google More from Apps Marketplace geraldg@ucsc.edu This account is managed by ucsc.edu . Learn more Gerald Greenl\n",
      "\n",
      "Extracting text from UCSC Special inspections #2608 (170).msg using EmailTextExtractor\n",
      "Extracted text (first 800 characters) from UCSC Special inspections #2608 (170).msg:\n",
      "��\u0011���\u001a�\u0000\u0000\u0000\u0000\u0000\u0000\u0000\u0000\u0000\u0000\u0000\u0000\u0000\u0000\u0000\u0000>\u0000\u0003\u0000�� \u0000\u0006\u0000\u0000\u0000\u0000\u0000\u0000\u0000\u0000\u0000\u0000\u0000\u0002\u0000\u0000\u0000\u0001\u0000\u0000\u0000\u0000\u0000\u0000\u0000\u0000\u0010\u0000\u0000\u0002\u0000\u0000\u0000\u0002\u0000\u0000\u0000����\u0000\u0000\u0000\u0000\u0000\u0000\u0000\u0000j\u0000\u0000\u0000������������������������������������������������������������������������������������������������������������������������������������������������������������������������������������������������������������������������������������������������������������������������������������������������������������������������������������������������������������������������������������������������������������������������������������������������\u0004\u0000\u0000\u0000 \u0000\u0000\u0000\u0006\u0000\u0000\u0000\u0005\u0000\u0000\u0000\u0007\u0000\u0000\u0000 \u0000\u0000\u0000\u0000\u0000 \u0000\u0000\u0000 \u0000\u0000\u0000 \u0000\u0000\u0000\u000e\u0000\u0000\u0000 \u0000\u0000\u0000\u0014\u0000\u0000\u0000\u000f\u0000\u0000\u0000\u0010\u0000\u0000\u0000\u0011\u0000\u0000\u0000\u0012\u0000\u0000\u0000\u0013\u0000\u0000\u0000\u0016\u0000\u0000\u0000\u0015\u0000\u0000\u0000\u0017\u0000\u0000\u0000\u0018\u0000\u0000\u0000\u001a\u0000\u0000\u0000\u0019\u0000\u0000\u0000 \u0000\u0000\u0000\u001b\u0000\u0000\u0000 \u0000\u0000\u0000 \u0000\u0000\u0000\"\u0000\u0000\u0000���� \u0000\u0000\u0000!\u0000\u0000\u0000$\u0000\u0000\u0000#\u0000\u0000\u0000%\u0000\u0000\u0000&\u0000\u0000\u0000'\u0000\u0000\u0000)\u0000\u0000\u0000(\u0000\u0000\u0000*\u0000\u0000\u0000,\u0000\u0000\u0000+\u0000\u0000\u0000-\u0000\u0000\u0000.\u0000\u0000\u0000/\u0000\u0000\u0000h\u0000\u0000\u0000g\u0000\u0000\u00001\u0000\u0000\u00002\u0000\u0000\u00003\u0000\u0000\u00004\u0000\u0000\u00005\u0000\u0000\u00006\u0000\u0000\u00007\u0000\u0000\u00008\u0000\u0000\u00009\u0000\u0000\u0000:\u0000\u0000\u0000;\u0000\u0000\u0000<\u0000\u0000\u0000=\u0000\u0000\u0000>\u0000\u0000\u0000?\u0000\u0000\u0000@\u0000\u0000\u0000A\u0000\u0000\u0000B\u0000\u0000\u0000C\u0000\u0000\u0000D\u0000\u0000\u0000E\u0000\u0000\u0000F\u0000\u0000\u0000G\u0000\u0000\u0000H\u0000\u0000\u0000\n",
      "\n",
      "Extracting text from Untitled attachment 00211.html using HtmlTextExtractor\n",
      "Extracted text from Untitled attachment 00211.html:\n",
      "Larry Pageler, Director Transportation and Parking Services, UCSC 1156 High Street, MS: TAPS-Carriage House Santa Cruz, CA 95064 Office location: 1st floor, Carriage House voice: 831-502-7940 fax: 831-502-7943 email: pageler@ucsc.edu http: // taps.ucsc.edu\n",
      "\n",
      "Extracting text from US Imperial Structures.htm using HtmlTextExtractor\n",
      "Extracted text from US Imperial Structures.htm:\n",
      "This page requires frames ...\n",
      "\n",
      "Extracting text from west.html using HtmlTextExtractor\n",
      "Extracted text (first 800 characters) from west.html:\n",
      "Empire Grade/West Entry EMPIRE GRADE/WEST ENTRY Currently, the image of the campus from Empire Grade and from the west entry at Heller Drive is one of an altered landscape; of plant groupings, building clusters, roadways, and drainage facilities which have all impacted the meadow/woodland landscape of the campus. Unlike the main entry, that has a reasonably unified and striking aesthetic of ranch buildings and grassland landscape, the west entry, Heller Drive, and a good portion of Empire Grade is now made up of uncoordinated plantings, buildings and fences. There is also a lack of \"gracious\" walkways or paths to invite people from the city to walk into the campus from the west side. There exists an opportunity to coordinate the various campus elements-- Arboretum , campus west entry, coll\n",
      "\n"
     ]
    }
   ],
   "source": [
    "import os\n",
    "import shutil\n",
    "import traceback \n",
    "import tempfile\n",
    "from text_extraction.pdf_extraction import PDFTextExtractor\n",
    "from text_extraction.basic_extraction import TextFileTextExtractor, get_extractor_for_file\n",
    "from text_extraction.image_extraction import ImageTextExtractor\n",
    "from text_extraction.office_doc_extraction import PresentationTextExtractor, SpreadsheetTextExtractor, WordFileTextExtractor\n",
    "from text_extraction.web_extraction import HtmlTextExtractor, EmailTextExtractor\n",
    "from text_extraction.extraction_utils import common_char_replacements, strip_diacritics, normalize_unicode\n",
    "\n",
    "import pytesseract\n",
    "pytesseract.pytesseract.tesseract_cmd = r'C:\\Program Files\\Tesseract-OCR\\tesseract.exe'\n",
    "\n",
    "# Initialize extractors for different file types\n",
    "pdf_extractor = PDFTextExtractor()\n",
    "txt_extractor = TextFileTextExtractor()\n",
    "image_extractor = ImageTextExtractor()\n",
    "presentation_extractor = PresentationTextExtractor()\n",
    "spreadsheet_extractor = SpreadsheetTextExtractor()\n",
    "word_extractor = WordFileTextExtractor()\n",
    "html_extractor = HtmlTextExtractor()\n",
    "email_extractor = EmailTextExtractor()\n",
    "\n",
    "extractors_list = [\n",
    "    pdf_extractor,\n",
    "    txt_extractor,\n",
    "    image_extractor,\n",
    "    presentation_extractor,\n",
    "    spreadsheet_extractor,\n",
    "    word_extractor,\n",
    "    html_extractor,\n",
    "    email_extractor\n",
    "]\n",
    "display_text_len = 800\n",
    "test_extraction_path = os.path.join(os.getcwd(), \"test_files\")\n",
    "\n",
    "for file in os.listdir(test_extraction_path):\n",
    "    file_path = os.path.join(test_extraction_path, file)\n",
    "    def text_assessment(extracted_text):\n",
    "        if not extracted_text:\n",
    "            print(f\"No text extracted from {file} in temporary directory\")\n",
    "        elif len(extracted_text) > display_text_len:\n",
    "            print(f\"Extracted text (first {display_text_len} characters) from {file}:\\n{extracted_text[:display_text_len]}\\n\")\n",
    "        else:\n",
    "            print(f\"Extracted text from {file}:\\n{extracted_text}\\n\")\n",
    "\n",
    "    if not os.path.isfile(file_path):\n",
    "        print(f\"Skipping {file}, not a file.\")\n",
    "    \n",
    "    extractor = get_extractor_for_file(file_path=file_path, extractors=extractors_list)\n",
    "    if extractor:\n",
    "        try:\n",
    "            print(f\"Extracting text from {file} using {extractor.__class__.__name__}\")\n",
    "            text = extractor(file_path)\n",
    "            text_assessment(text)\n",
    "        \n",
    "        except PermissionError as pe:\n",
    "            # Handle PermissionError by copying the file to a temporary directory\n",
    "            temp_dir = tempfile.gettempdir()\n",
    "            temp_file_path = os.path.join(temp_dir, file)\n",
    "            shutil.copy2(file_path, temp_file_path)\n",
    "            print(f\"Copied {file} to temporary directory: {temp_file_path}\")\n",
    "            \n",
    "            # Retry extraction from the temporary file\n",
    "            try:\n",
    "                text = extractor(temp_file_path)\n",
    "                text = common_char_replacements(text)\n",
    "                text = strip_diacritics(text)\n",
    "                text = normalize_unicode(text)\n",
    "                text_assessment(text)\n",
    "\n",
    "            except Exception as e:\n",
    "                raise Exception(f\"Failed to extract text from {file} in temporary directory: {e}\")\n",
    "        \n",
    "        except Exception as e:\n",
    "\n",
    "            print(f\"Failed to extract text from {file}: {e}\")\n",
    "            traceback.print_exc()\n",
    "    else:\n",
    "        print(f\"No suitable extractor found for {file}\")\n"
   ]
  },
  {
   "cell_type": "code",
   "execution_count": null,
   "id": "e1c3ac64",
   "metadata": {},
   "outputs": [],
   "source": []
  }
 ],
 "metadata": {
  "kernelspec": {
   "display_name": ".venv",
   "language": "python",
   "name": "python3"
  },
  "language_info": {
   "codemirror_mode": {
    "name": "ipython",
    "version": 3
   },
   "file_extension": ".py",
   "mimetype": "text/x-python",
   "name": "python",
   "nbconvert_exporter": "python",
   "pygments_lexer": "ipython3",
   "version": "3.13.5"
  }
 },
 "nbformat": 4,
 "nbformat_minor": 5
}
